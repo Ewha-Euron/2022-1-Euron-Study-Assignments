{
  "nbformat": 4,
  "nbformat_minor": 0,
  "metadata": {
    "colab": {
      "name": "0513_HW.ipynb",
      "provenance": [],
      "collapsed_sections": []
    },
    "kernelspec": {
      "name": "python3",
      "display_name": "Python 3"
    },
    "language_info": {
      "name": "python"
    }
  },
  "cells": [
    {
      "cell_type": "markdown",
      "source": [
        "# 데이콘 인공지능 비트 트레이더 경진대회 시즌3\n",
        "https://dacon.io/competitions/official/235740/codeshare/2950?page=1&dtype=recent 를 필사하였습니다."
      ],
      "metadata": {
        "id": "WwgAb0Zlnp32"
      }
    },
    {
      "cell_type": "code",
      "execution_count": 1,
      "metadata": {
        "colab": {
          "base_uri": "https://localhost:8080/"
        },
        "id": "NT_qfdPcUPYx",
        "outputId": "a518378d-3354-433b-df38-fdfbc4d66bdc"
      },
      "outputs": [
        {
          "output_type": "stream",
          "name": "stderr",
          "text": [
            "/usr/local/lib/python3.7/dist-packages/statsmodels/tools/_testing.py:19: FutureWarning: pandas.util.testing is deprecated. Use the functions in the public API at pandas.testing instead.\n",
            "  import pandas.util.testing as tm\n"
          ]
        }
      ],
      "source": [
        "import pandas as pd\n",
        "import numpy as np\n",
        "\n",
        "from tqdm.auto import tqdm\n",
        "from statsmodels.tsa.arima_model import ARIMA\n",
        "\n",
        "import warnings\n",
        "import matplotlib.pyplot as plt\n",
        "\n",
        "from google.colab import drive\n",
        "warnings.filterwarnings('ignore')\n",
        "\n",
        "%matplotlib inline\n",
        "plt.rcParams[\"figure.figsize\"] = (10,6)\n",
        "plt.rcParams[\"axes.grid\"] = True"
      ]
    },
    {
      "cell_type": "code",
      "source": [
        "!pip install statsmodels==0.12.2"
      ],
      "metadata": {
        "colab": {
          "base_uri": "https://localhost:8080/",
          "height": 398
        },
        "id": "UJ8BecXEYBdR",
        "outputId": "d63b4840-92d4-4403-b138-589c95619c93"
      },
      "execution_count": 3,
      "outputs": [
        {
          "output_type": "stream",
          "name": "stdout",
          "text": [
            "Collecting statsmodels==0.12.2\n",
            "  Downloading statsmodels-0.12.2-cp37-cp37m-manylinux1_x86_64.whl (9.5 MB)\n",
            "\u001b[K     |████████████████████████████████| 9.5 MB 8.3 MB/s \n",
            "\u001b[?25hRequirement already satisfied: patsy>=0.5 in /usr/local/lib/python3.7/dist-packages (from statsmodels==0.12.2) (0.5.2)\n",
            "Requirement already satisfied: scipy>=1.1 in /usr/local/lib/python3.7/dist-packages (from statsmodels==0.12.2) (1.4.1)\n",
            "Requirement already satisfied: pandas>=0.21 in /usr/local/lib/python3.7/dist-packages (from statsmodels==0.12.2) (1.3.5)\n",
            "Requirement already satisfied: numpy>=1.15 in /usr/local/lib/python3.7/dist-packages (from statsmodels==0.12.2) (1.21.6)\n",
            "Requirement already satisfied: pytz>=2017.3 in /usr/local/lib/python3.7/dist-packages (from pandas>=0.21->statsmodels==0.12.2) (2022.1)\n",
            "Requirement already satisfied: python-dateutil>=2.7.3 in /usr/local/lib/python3.7/dist-packages (from pandas>=0.21->statsmodels==0.12.2) (2.8.2)\n",
            "Requirement already satisfied: six in /usr/local/lib/python3.7/dist-packages (from patsy>=0.5->statsmodels==0.12.2) (1.15.0)\n",
            "Installing collected packages: statsmodels\n",
            "  Attempting uninstall: statsmodels\n",
            "    Found existing installation: statsmodels 0.10.2\n",
            "    Uninstalling statsmodels-0.10.2:\n",
            "      Successfully uninstalled statsmodels-0.10.2\n",
            "Successfully installed statsmodels-0.12.2\n"
          ]
        },
        {
          "output_type": "display_data",
          "data": {
            "application/vnd.colab-display-data+json": {
              "pip_warning": {
                "packages": [
                  "statsmodels"
                ]
              }
            }
          },
          "metadata": {}
        }
      ]
    },
    {
      "cell_type": "code",
      "source": [
        "from google.colab import drive\n",
        "drive.mount('/content/drive')"
      ],
      "metadata": {
        "colab": {
          "base_uri": "https://localhost:8080/"
        },
        "id": "hKXOreZbYEQ9",
        "outputId": "a6bf09c4-d300-4e2e-91b3-04793e88623d"
      },
      "execution_count": 1,
      "outputs": [
        {
          "output_type": "stream",
          "name": "stdout",
          "text": [
            "Drive already mounted at /content/drive; to attempt to forcibly remount, call drive.mount(\"/content/drive\", force_remount=True).\n"
          ]
        }
      ]
    },
    {
      "cell_type": "code",
      "source": [
        "GOOGLE_DRIVE_PATH = \"/content/drive\"\n",
        "DATA_PATH = '/content/drive/MyDrive/dacon /bit-traider'\n",
        "SUBMIT_PATH = \"/content/drive/MyDrive/dacon /bit-traider\""
      ],
      "metadata": {
        "id": "XPHfQT89YMeV"
      },
      "execution_count": 2,
      "outputs": []
    },
    {
      "cell_type": "code",
      "source": [
        "train_x = pd.read_csv(DATA_PATH + \"/test_x_df.csv\")"
      ],
      "metadata": {
        "id": "D9HMwuL5YyI-"
      },
      "execution_count": null,
      "outputs": []
    },
    {
      "cell_type": "code",
      "source": [
        "# vwap과, open에서 vwap을 뺀 값인 diff를 계산\n",
        "\n",
        "def make_vwap_and_diff(df):\n",
        "    # 1) VAWP 계산\n",
        "    # 일반적인 VWAP 공식에서 volume을 그대로 사용하지만, 여러번의 시도를 통해 tb_base_av 와 volume을 더했을 때 가장 좋은 volume이 나온다고 판단하여 사용했음\n",
        "    df[\"volume_tb_base_av\"] = df[\"tb_base_av\"] + df[\"volume\"]\n",
        "\n",
        "    # volume price\n",
        "    '''\n",
        "        시즌2 2위팀 방식 : open하나만을 사용하기 보다는 open(시가), high(고가), low(저가) 3개의 평균을 price로 사용\n",
        "        code) df['volume_price'] = ((df['open'] + df['high'] + df['low']) / 3) * df['volume_tb_base_av']\n",
        "    \n",
        "        1차 수정 방식 :   (open + close)/2 = price 로 사용, 이유는 high와 low를 포함하는 값은 오차의 범위가 너무 커짐\n",
        "        code) df['volume_price'] = ((df['open'] + df['close']) / 2) * df['volume_tb_base_av']\n",
        "        \n",
        "        2차 수정 방식 :   high + low /2를 추가 가격 데이터로 잡아 변동성을 반영하게 바꿈(매수 횟수를 늘리기 위해)\n",
        "        code) df['volume_price'] = ((((df['high'] + df['low'])/2) +  df['open'] + df['close']) / 3) * df['volume_tb_base_av']\n",
        "    '''\n",
        "    df['volume_price'] = ((((df['high']+df['low'])/2) + df['open'] + df['close'])/3) * df['volume_tb_base_av']\n",
        "\n",
        "    # price와 volume의 곱의 합을 구해줌\n",
        "    df['volume_price_sum'] = df.groupby(['sample_id'])['volume_price'].apply(lambda x: x.cumsum())\n",
        "    \n",
        "    # volume의 합을 구해줌\n",
        "    df['volume_sum'] = df.groupby(['sample_id'])['volume_tb_base_av'].apply(lambda x: x.cumsum())\n",
        "\n",
        "    # 2 변수의 나눗셈을 통해 vwap을 계산해줌\n",
        "    df['vwap'] = df['volume_price_sum'] / df['volume_sum']\n",
        "\n",
        "\n",
        "    # 2) diff 계산\n",
        "    # 매도수익이 open을 통해 이루어진다고 알려져있기 때문에 open에서 vwap을 뺀 값을 diff로 사용했습니다.\n",
        "    df[\"diff\"] = df[\"open\"] - df[\"vwap\"]\n",
        "\n",
        "    return df\n",
        "\n",
        "def calcBb(df, w=20, k=2):\n",
        "    '''\n",
        "    볼린저밴드를 구하는 공식에 20일 단순이동평균값을 이용할 때,\n",
        "    close(종가)에 대한 20일 단순이동평균값을 이용하여 계산하는 방식과\n",
        "    (close + high + low)/3 (종가, 고가,저가의 평균값)에 대한 20일 단순이동평균값을 이용하여 계산하는 방식이 존재합니다.\n",
        "\n",
        "    그냥 일단 open 데이터로 함\n",
        "    '''\n",
        "\n",
        "    x = df['open']\n",
        "    mean = x.rolling(w, min_periods = 1).mean()\n",
        "    std = x.rolling(w, min_periods = 1).std()\n",
        "\n",
        "    df['middle_ballin'] = mean\n",
        "    df['upper_ballin'] = mean + (k*std)\n",
        "    df['lower_ballin'] = mean - (k*std)\n",
        "    df['ballin_width'] = (2*k*std)/mean\n",
        "\n",
        "    return def"
      ],
      "metadata": {
        "id": "jJdqIG0QY45e"
      },
      "execution_count": null,
      "outputs": []
    },
    {
      "cell_type": "code",
      "source": [
        ""
      ],
      "metadata": {
        "id": "qqIk3ldPnpBY"
      },
      "execution_count": null,
      "outputs": []
    },
    {
      "cell_type": "code",
      "source": [
        "# 데이터 프레임에서 sample_id에 따른 open을 반환하는 함수\n",
        "def get_open(df,sample_id):\n",
        "    return df[df[\"sample_id\"] == sample_id]['open'].values"
      ],
      "metadata": {
        "id": "IkW9THMBY48p"
      },
      "execution_count": null,
      "outputs": []
    },
    {
      "cell_type": "code",
      "source": [
        "# 데이터 프레임에서 sample_id에 따른 VWAP을 반환하는 함수\n",
        "def get_vwap(df, sample_id):\n",
        "    return df[df[\"sample_id\"] == sample_id]['vwap'].values"
      ],
      "metadata": {
        "id": "x2uLeSj1Y4_d"
      },
      "execution_count": null,
      "outputs": []
    },
    {
      "cell_type": "code",
      "source": [
        "# 데이터 프레임에서 sample_id에 따른 diff를 반환하는 함수\n",
        "def get_diff(df, sample_id):\n",
        "    return df[df[\"sample_id\"] == sample_id]['diff'].values"
      ],
      "metadata": {
        "id": "2mTKusTuY5DW"
      },
      "execution_count": null,
      "outputs": []
    },
    {
      "cell_type": "code",
      "source": [
        "# 데이터 프레임에서 sample_id에 따른 rsi를 반환하는 함수\n",
        "def get_rsi(df, sample_id):\n",
        "    return df[df[\"sample_id\"] == sample_id]['rsi'].values"
      ],
      "metadata": {
        "id": "v1d3FzgCY5F_"
      },
      "execution_count": null,
      "outputs": []
    },
    {
      "cell_type": "code",
      "source": [
        "# 데이터 프레임에서 sample_id에 따른 col_name값을 반환하는 함수\n",
        "def get_series(df, sample_id, col_name):\n",
        "    return df[df[\"sample_id\"] == sample_id][col_name].values"
      ],
      "metadata": {
        "id": "u43l_qrwY5Iv"
      },
      "execution_count": null,
      "outputs": []
    },
    {
      "cell_type": "code",
      "source": [
        "# 데이터 프레임에서 sample_id에 따른 col_name값을 반환하는 함수\n",
        "def get_ubb(df, sample_id):\n",
        "    return df[df[\"sample_id\"] == sample_id]['upper_ballin'].dropna().values\n",
        "\n",
        "def get_lbb(df, sample_id):\n",
        "    return df[df[\"sample_id\"] == sample_id]['lower_ballin'].dropna().values\n",
        "\n",
        "def get_mbb(df, sample_id):\n",
        "    return df[df[\"sample_id\"] == sample_id]['middle_ballin'].dropna().values\n",
        "\n",
        "def get_bbw(df, sample_id):\n",
        "    return df[df[\"sample_id\"] == sample_id]['ballin_width'].dropna().values"
      ],
      "metadata": {
        "id": "MXvdUpf4Y5L0"
      },
      "execution_count": null,
      "outputs": []
    },
    {
      "cell_type": "code",
      "source": [
        "# RSI를 만들어줍니다\n",
        "# 상승분, 하락분의 평균은 일반적으로 14일을 기준으로 생성\n",
        "\n",
        "'''\n",
        "    일반적인 RSI 방식 : 상승분, 하락분의 평균은 일반적으로 14일을 기준으로 생성\n",
        "    \n",
        "    1차 수정 방식 :     상승분, 하락분의 평균을 14일 기준으로 하지 않고, 25일기준으로 하여 안정성 향상\n",
        "\n",
        "    2차 수정 방식 :     9일 기준으로 변동성 더 취해서, 매수 횟수를 늘림 (3일 이내와 같이 너무 단기간은 오히려 별로임)\n",
        "'''\n",
        "\n",
        "def make_rsi(df, period = 14):\n",
        "    # 전일 대비 상승분 계산 - 상승분이 0보다 크면 상승분을 넣고, 0보다 작거나 같으면 0을 넣어줌\n",
        "    df[\"U\"] = np.where(df.groupby([\"sample_id\"])[\"open\"].diff(1) > 0, df.groupby([\"sample_id\"])[\"open\"].diff(1), 0)\n",
        "\n",
        "    # 전일 대비 하락분 계산 - 하락분이 0보다 작으면 하락분 * -1을 넣고, 0보다 크거나 같으면 0을 넣어줌\n",
        "    df[\"D\"] = np.where(df.groupby([\"sample_id\"])[\"open\"].diff(1) < 0, df.groupby([\"sample_id\"])[\"open\"].diff(1) *(-1), 0)\n",
        "\n",
        "    # 전일 대비 상승분의 평균을 계산\n",
        "    ud_df = pd.DataFrame()\n",
        "    ud_df[\"sample_id\"] = df[\"sample_id\"]\n",
        "    ud_df[\"U\"] = df[\"U\"]\n",
        "    ud_df[\"D\"] = df[\"D\"]\n",
        "\n",
        "    # 상승분의 14일 평균을 구해줌\n",
        "    df[\"AU\"] = ud_df.groupby([\"sample_id\"])[\"U\"].rolling(window = period, min_periods = period).mean().reset_index()[\"U\"]\n",
        "    # 하락분의 14일 평균을 구해줌\n",
        "    df[\"AD\"] = ud_df.groupby([\"sample_id\"])[\"D\"].rolling(window = period, min_periods = period).mean().reset_index()[\"D\"]\n",
        "    \n",
        "    # AU / (AU+AD)의 백분율을 RSI로 계산해줌\n",
        "    RSI = df[\"AU\"] / (df[\"AU\"]+df[\"AD\"])*100\n",
        "\n",
        "    df[\"rsi\"] = RSI\n",
        "\n",
        "    return df"
      ],
      "metadata": {
        "id": "uB-g7J81b6lC"
      },
      "execution_count": null,
      "outputs": []
    },
    {
      "cell_type": "code",
      "source": [
        "# 1. train, test의 sample_id 목록을 저장\n",
        "TEST_SAMPLE_ID_LIST = test_x[\"sample_id\"].unique().tolist()"
      ],
      "metadata": {
        "id": "S2_pQ_Vyb6n3"
      },
      "execution_count": null,
      "outputs": []
    },
    {
      "cell_type": "code",
      "source": [
        "# 2. VWAP, diff를 만들어줌\n",
        "test_x = make_vwap_and_diff(test_x)"
      ],
      "metadata": {
        "id": "ITRgmg-ib6rM"
      },
      "execution_count": null,
      "outputs": []
    },
    {
      "cell_type": "code",
      "source": [
        "# 3. rsi를 만들어줌\n",
        "test_x = make_rsi(test_x, 25)"
      ],
      "metadata": {
        "id": "6qzvzvzbb6tZ"
      },
      "execution_count": null,
      "outputs": []
    },
    {
      "cell_type": "code",
      "source": [
        "# 4. Ballinger Bands를 만들어줌\n",
        "test_x = test_x.groupby(['sample_id']).apply(lambda x: calcBb(x,20,2))"
      ],
      "metadata": {
        "id": "S0-NqreLb6wQ"
      },
      "execution_count": null,
      "outputs": []
    },
    {
      "cell_type": "code",
      "source": [
        "# 상단 터치 = 가격 - 상단 캡이 양수인 경우 => 가격이 추세선 보다 위에 있음\n",
        "# upper_touch_series = (open_series[-30:] - ubb_series[-30:]) > 0\n",
        "\n",
        "# 하단 터치 =  - 가격 - 하단 지지가 음수인 경우 => 가격이 지지선 밑에 있음\n",
        "# lower_touch_series = (open_series[-30:] - lbb_series[-30:]) < 0"
      ],
      "metadata": {
        "id": "6i7mOPYYb6zA"
      },
      "execution_count": null,
      "outputs": []
    },
    {
      "cell_type": "code",
      "source": [
        "result = []\n",
        "\n",
        "for sample_id in tqdm(TEST_SAMPLE_ID_LIST):\n",
        "    # 1. 데이터 로드\n",
        "    # 1) diff - 학습에 사용\n",
        "    diff_x = get_diff(test_x, sample_id)\n",
        "\n",
        "    # 2) vwap - 보조 지표로 사용\n",
        "    vwap_series = get_vwap(test_x, sample_id)\n",
        "\n",
        "    # 3) rsi - 보조 지표로 사용\n",
        "    rsi_series = get_rsi(test_x, sample_id)\n",
        "\n",
        "    # 4) Ballinger Bands - 보조 지표로 사용\n",
        "    open_series = get_open(test_x, sample_id)\n",
        "    ubb_series = get_ubb(test_x, sample_id)\n",
        "    lbb_series = get_lbb(test_x, sample_id)\n",
        "    mbb_series = get_mbb(test_x, sample_id)\n",
        "\n",
        "    bbw_series = get_bbw(test_x, sample_id)\n",
        "    bbw_threshold = np.percentile(bbw_series, 5)\n",
        "\n",
        "    # 상단 터치 = 가격 - 상단 캡이 양수인 경우 => 가격이 추세선 보다 위에 있음\n",
        "    upper_touch_series = (open_series[-20:] - ubb_series[-20:]) > 0\n",
        "\n",
        "    # 하단 터치 =  - 가격 - 하단 지지가 음수인 경우 => 가격이 지지선 밑에 있음\n",
        "    lower_touch_series = (open_series[-20:] - lbb_series[-20:]) < 0\n",
        "\n",
        "\n",
        "\n",
        "    # 2. ARIMA\n",
        "    # 1) 모델 정의\n",
        "    ARIMA_MODEL = {}\n",
        "    ARIMA_MODEL_FIT = {}\n",
        "\n",
        "    # 2) AR 모델 적용\n",
        "    try:\n",
        "        ARIMA_MODEL = ARIMA(diff_x, order = (4,0,1))\n",
        "        ARIMA_MODEL_FIT = ARIMA_MODEL.fit(trend = 'nc', full_output = True, disp = True)\n",
        "\n",
        "    # 3) 수렴하지 않을 경우 p d q를 1,1,0으로 사용\n",
        "    except:\n",
        "        ARIMA_MODEL = ARIMA(diff_x, order = (1,1,0))\n",
        "        ARIMA_MODEL_FIT = ARIMA_MODEL.fit(trend = 'nc', full_output = True, disp = True)\n",
        "\n",
        "    # 4) ARIMA 예측\n",
        "    ARIMA_FORECAST = ARIMA_MODEL_FIT.predict(1,120,typ = 'levels')\n",
        "\n",
        "\n",
        "\n",
        "    # 3. 데이터 처리\n",
        "    # 1) 최대 부분인 인덱스를 찾는데 해당 시점에 매도를 진행합니다.\n",
        "    sell_time = np.argmax(ARIMA_FORECAST)\n",
        "\n",
        "    # 2) 최대값을 찾습니다.\n",
        "    max_val = np.max(ARIMA_FORECAST)\n",
        "\n",
        "    # 3) vwap의 마지막 값을 가져옵니다\n",
        "    vwap_last_val = vwap_series[-1]\n",
        "    rsi_last_val = rsi_series[-1]\n",
        "\n",
        "    \n",
        "\n",
        "    # 4. 투자 전략\n",
        "    buy_quantity = 0\n",
        "    # 1) 최대값이 0보다 크면 가격이 vwap보다 크다는 의미로, 투자합니다\n",
        "    if max_val > 0:\n",
        "        buy_quantity = 1\n",
        "\n",
        "    # 2) 만약 vwap 마지막 값이, 1보다 크면 가격이 1보다 작다는 의미로 하향세이기 때문에 투자하지 않음\n",
        "    if vwap_last_val > 1 and sell_time < 60:\n",
        "        buy_quantity = 0\n",
        "\n",
        "    '''\n",
        "    # 3) 만약 rsi의 값이 65 보다 크면, 초과매수 상태로 판단하여 투자하지 않습니다.\n",
        "    # 07.05 22:29 ris 값이 75 보다 크면 초과매수로 판단하도록 수정 (변동성 최대한 투입)\n",
        "    # 07.11 RSI 상단 터치후 sell time rest 기간이 50분 인데 이게 적절한 것일지 의문\n",
        "    '''\n",
        "    # 3) 만약 rsi의 값이 65보다 크면, 초과매수 상태로 판단하여 투자하지 않음\n",
        "    if rsi_last_val > 75 and sell_time < 60:\n",
        "        buy_quantity = 0\n",
        "\n",
        "    '''\n",
        "    추가 적용 전략 1) Ballinger Bands\n",
        "    과거 30분 history에 상단 터치시 매수 = 0\n",
        "    과거 30분 history에 하단 터치시 매수 유지\n",
        "    \n",
        "    BBW 가 P10 인 상태에서는 상단 터치시 매수로 변경(추세변환), 하단 터치시 매도로 변경(추세변환)\n",
        "    '''\n",
        "\n",
        "    # 볼린저 밴드 전략 1\n",
        "    threshold_indices = np.argwhere(bbw_series[-20:] <= bbw_threshold)\n",
        "    \n",
        "    if (len(threshold_indices) > 0):\n",
        "        '''\n",
        "        bbw가 squeeze되는 구간이 있는 경우, 상하단 터치 확인 후 매수, 매도\n",
        "        '''\n",
        "        for idx in threshold_indices:\n",
        "            buy_idx = idx[0]\n",
        "\n",
        "            # 하단 터치 확인 => 하락 추세 변환\n",
        "            if (lower_touch_series[buy_idx] == True):\n",
        "                # 하락이 예상되므로 매도\n",
        "                buy_quantity = 0\n",
        "\n",
        "                '''\n",
        "                이 스퀴지 전략으로 매수를 바꿔주는게 좋을지 말지.. 모르겠는데 1의 개수를 세어봐야 겠다는 생각\n",
        "                21.07.13 전략 - BBW 스퀴지 전략에서 안정적으로 하단 터치시 급락인 것만 방지\n",
        "                21.07.13 전략2 - 매수량이 너무 적다면, 아래 상승이 예상되는 케이스를 매수로 변경\n",
        "                21.07.14 전략 수정 - 하단터치시에만 buy quantity = 0 으로 변경\n",
        "                '''\n",
        "\n",
        "    # 5. 결과\n",
        "    result_list = [\n",
        "                   sample_id,\n",
        "                   buy_quantity,\n",
        "                   sell_time\n",
        "    ]\n",
        "    \n",
        "    result.append(result_list)"
      ],
      "metadata": {
        "id": "L7Pewkmob62E"
      },
      "execution_count": null,
      "outputs": []
    },
    {
      "cell_type": "code",
      "source": [
        "# 1. 학습 결과를 데이터 프레임으로 만듭니다\n",
        "\n",
        "submit_columns = [\n",
        "                  \"sample_id\",\n",
        "                  \"buy_quantity\",\n",
        "                  \"sell_time\"\n",
        "]\n",
        "\n",
        "submit = pd.DataFrame(data=result, columns = submit_columns)"
      ],
      "metadata": {
        "id": "PZfkLOvwgcrg"
      },
      "execution_count": null,
      "outputs": []
    },
    {
      "cell_type": "code",
      "source": [
        "# 2. 결과 데이터 프레임 확인\n",
        "submit.head(10)"
      ],
      "metadata": {
        "id": "_X-3FF4ygcu4"
      },
      "execution_count": null,
      "outputs": []
    },
    {
      "cell_type": "code",
      "source": [
        "# 3. 투자 개수 확인\n",
        "submit[submit[\"buy_quantity\"] == 1].shape[0]"
      ],
      "metadata": {
        "id": "NMU5JHJ6gcyh"
      },
      "execution_count": null,
      "outputs": []
    },
    {
      "cell_type": "code",
      "source": [
        "# 4. sell_time 60 미만에서 구매하는 개수 확인\n",
        "cond1 = (submit[\"buy_quantity\"] == 1)\n",
        "cond2 = (submit[\"sell_time\"] < 60)\n",
        "\n",
        "submit[cond1 & cond2].shape[0]"
      ],
      "metadata": {
        "id": "qhsdPoYfhv8j"
      },
      "execution_count": null,
      "outputs": []
    },
    {
      "cell_type": "code",
      "source": [
        "# 파일 이름 지정\n",
        "SUBMIT_PATH = \"/content/drive/MyDrive/dacon /bit-traider\"\n",
        "FILE_NAME = \"/0715_ARIMA_DIFF_VWAP_RSI_75_UNDER_60_SUBMIT.csv\""
      ],
      "metadata": {
        "id": "SskzTHWCh8sr"
      },
      "execution_count": null,
      "outputs": []
    },
    {
      "cell_type": "code",
      "source": [
        "# 제출 경로에 파일 생성\n",
        "\n",
        "RESULT_PATH = SUBMIT_PATH + FILE_NAME\n",
        "\n",
        "submit.to_csv(RESULT_PATH, index = False)"
      ],
      "metadata": {
        "id": "ohQqHZxiiAV2"
      },
      "execution_count": null,
      "outputs": []
    }
  ]
}