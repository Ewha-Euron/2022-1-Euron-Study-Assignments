{
 "cells": [
  {
   "cell_type": "code",
   "execution_count": 1,
   "id": "69412a09",
   "metadata": {},
   "outputs": [],
   "source": [
    "import pandas as pd\n",
    "import numpy as np\n",
    "import matplotlib.pyplot as plt\n",
    "import re\n",
    "import json\n",
    "import os\n",
    "import tqdm\n",
    "\n",
    "from konlpy.tag import Okt\n",
    "\n",
    "import sklearn\n",
    "from sklearn.preprocessing import LabelEncoder\n",
    "from sklearn.model_selection import train_test_split\n",
    "from sklearn.metrics import log_loss, accuracy_score,f1_score\n",
    "from sklearn.feature_extraction.text import CountVectorizer\n",
    "from sklearn.ensemble import RandomForestClassifier"
   ]
  },
  {
   "cell_type": "code",
   "execution_count": 3,
   "id": "22fb78e9",
   "metadata": {},
   "outputs": [],
   "source": [
    "from IPython.core.interactiveshell import InteractiveShell\n",
    "InteractiveShell.ast_node_interactivity = \"all\""
   ]
  },
  {
   "cell_type": "code",
   "execution_count": 6,
   "id": "584cabce",
   "metadata": {},
   "outputs": [],
   "source": [
    "train=pd.read_csv('train.csv')\n",
    "test=pd.read_csv('test.csv')\n",
    "sample_submission=pd.read_csv('sample_submission.csv')"
   ]
  },
  {
   "cell_type": "code",
   "execution_count": 8,
   "id": "0f487890",
   "metadata": {},
   "outputs": [
    {
     "data": {
      "text/html": [
       "<div>\n",
       "<style scoped>\n",
       "    .dataframe tbody tr th:only-of-type {\n",
       "        vertical-align: middle;\n",
       "    }\n",
       "\n",
       "    .dataframe tbody tr th {\n",
       "        vertical-align: top;\n",
       "    }\n",
       "\n",
       "    .dataframe thead th {\n",
       "        text-align: right;\n",
       "    }\n",
       "</style>\n",
       "<table border=\"1\" class=\"dataframe\">\n",
       "  <thead>\n",
       "    <tr style=\"text-align: right;\">\n",
       "      <th></th>\n",
       "      <th>index</th>\n",
       "      <th>제출년도</th>\n",
       "      <th>사업명</th>\n",
       "      <th>사업_부처명</th>\n",
       "      <th>계속과제여부</th>\n",
       "      <th>내역사업명</th>\n",
       "      <th>과제명</th>\n",
       "      <th>요약문_연구목표</th>\n",
       "      <th>요약문_연구내용</th>\n",
       "      <th>요약문_기대효과</th>\n",
       "      <th>요약문_한글키워드</th>\n",
       "      <th>요약문_영문키워드</th>\n",
       "      <th>label</th>\n",
       "    </tr>\n",
       "  </thead>\n",
       "  <tbody>\n",
       "    <tr>\n",
       "      <th>0</th>\n",
       "      <td>0</td>\n",
       "      <td>2016</td>\n",
       "      <td>농업기초기반연구</td>\n",
       "      <td>농촌진흥청</td>\n",
       "      <td>신규</td>\n",
       "      <td>농산물안전성연구</td>\n",
       "      <td>유전정보를 활용한 새로운 해충 분류군 동정기술 개발</td>\n",
       "      <td>○ 새로운 해충분류군의 동정기술 개발 및 유입확산 추적</td>\n",
       "      <td>(가) 외래 및 돌발해충의 발생조사 및 종 동정\\n\\n\\n    ○ 대상해충 : 최...</td>\n",
       "      <td>○ 새로운 돌발 및 외래해충의 신속, 정확한 동정법 향상\\n\\n\\n○ 돌발 및 외래...</td>\n",
       "      <td>뉴클레오티드 염기서열, 분자마커, 종 동정, 침샘, 전사체</td>\n",
       "      <td>nucleotide sequence, molecular marker, species...</td>\n",
       "      <td>24</td>\n",
       "    </tr>\n",
       "    <tr>\n",
       "      <th>1</th>\n",
       "      <td>1</td>\n",
       "      <td>2019</td>\n",
       "      <td>이공학학술연구기반구축(R&amp;D)</td>\n",
       "      <td>교육부</td>\n",
       "      <td>신규</td>\n",
       "      <td>지역대학우수과학자지원사업(1년~5년)</td>\n",
       "      <td>대장암의 TRAIL 내성 표적 인자 발굴 및 TRAIL 반응 예측 유전자 지도 구축...</td>\n",
       "      <td>최종목표:  TRAIL 감수성 표적 유전자를 발굴하고 내성제어 기전을 연구. 발굴된...</td>\n",
       "      <td>1차년도\\n1) Microarray를 통한 선천적 TRAIL 내성 표적 후보 유전자...</td>\n",
       "      <td>1) TRAIL 내성 특이적 표적분자를 발굴하고, 이를 이용한 TRAIL 효과 증진...</td>\n",
       "      <td>대장암,항암제 내성,세포사멸,유전자발굴</td>\n",
       "      <td>TRAIL,Colorectal cancer,TRAIL resistance,Apopt...</td>\n",
       "      <td>0</td>\n",
       "    </tr>\n",
       "  </tbody>\n",
       "</table>\n",
       "</div>"
      ],
      "text/plain": [
       "   index  제출년도               사업명 사업_부처명 계속과제여부                 내역사업명  \\\n",
       "0      0  2016          농업기초기반연구  농촌진흥청     신규              농산물안전성연구   \n",
       "1      1  2019  이공학학술연구기반구축(R&D)    교육부     신규  지역대학우수과학자지원사업(1년~5년)   \n",
       "\n",
       "                                                 과제명  \\\n",
       "0                       유전정보를 활용한 새로운 해충 분류군 동정기술 개발   \n",
       "1  대장암의 TRAIL 내성 표적 인자 발굴 및 TRAIL 반응 예측 유전자 지도 구축...   \n",
       "\n",
       "                                            요약문_연구목표  \\\n",
       "0                     ○ 새로운 해충분류군의 동정기술 개발 및 유입확산 추적   \n",
       "1  최종목표:  TRAIL 감수성 표적 유전자를 발굴하고 내성제어 기전을 연구. 발굴된...   \n",
       "\n",
       "                                            요약문_연구내용  \\\n",
       "0  (가) 외래 및 돌발해충의 발생조사 및 종 동정\\n\\n\\n    ○ 대상해충 : 최...   \n",
       "1  1차년도\\n1) Microarray를 통한 선천적 TRAIL 내성 표적 후보 유전자...   \n",
       "\n",
       "                                            요약문_기대효과  \\\n",
       "0  ○ 새로운 돌발 및 외래해충의 신속, 정확한 동정법 향상\\n\\n\\n○ 돌발 및 외래...   \n",
       "1  1) TRAIL 내성 특이적 표적분자를 발굴하고, 이를 이용한 TRAIL 효과 증진...   \n",
       "\n",
       "                          요약문_한글키워드  \\\n",
       "0  뉴클레오티드 염기서열, 분자마커, 종 동정, 침샘, 전사체   \n",
       "1             대장암,항암제 내성,세포사멸,유전자발굴   \n",
       "\n",
       "                                           요약문_영문키워드  label  \n",
       "0  nucleotide sequence, molecular marker, species...     24  \n",
       "1  TRAIL,Colorectal cancer,TRAIL resistance,Apopt...      0  "
      ]
     },
     "execution_count": 8,
     "metadata": {},
     "output_type": "execute_result"
    }
   ],
   "source": [
    "train.head(2)"
   ]
  },
  {
   "cell_type": "code",
   "execution_count": 9,
   "id": "14d4b313",
   "metadata": {},
   "outputs": [
    {
     "data": {
      "text/html": [
       "<div>\n",
       "<style scoped>\n",
       "    .dataframe tbody tr th:only-of-type {\n",
       "        vertical-align: middle;\n",
       "    }\n",
       "\n",
       "    .dataframe tbody tr th {\n",
       "        vertical-align: top;\n",
       "    }\n",
       "\n",
       "    .dataframe thead th {\n",
       "        text-align: right;\n",
       "    }\n",
       "</style>\n",
       "<table border=\"1\" class=\"dataframe\">\n",
       "  <thead>\n",
       "    <tr style=\"text-align: right;\">\n",
       "      <th></th>\n",
       "      <th>index</th>\n",
       "      <th>제출년도</th>\n",
       "      <th>사업명</th>\n",
       "      <th>사업_부처명</th>\n",
       "      <th>계속과제여부</th>\n",
       "      <th>내역사업명</th>\n",
       "      <th>과제명</th>\n",
       "      <th>요약문_연구목표</th>\n",
       "      <th>요약문_연구내용</th>\n",
       "      <th>요약문_기대효과</th>\n",
       "      <th>요약문_한글키워드</th>\n",
       "      <th>요약문_영문키워드</th>\n",
       "    </tr>\n",
       "  </thead>\n",
       "  <tbody>\n",
       "    <tr>\n",
       "      <th>0</th>\n",
       "      <td>174304</td>\n",
       "      <td>2016</td>\n",
       "      <td>경제협력권산업육성</td>\n",
       "      <td>산업통상자원부</td>\n",
       "      <td>신규</td>\n",
       "      <td>자동차융합부품</td>\n",
       "      <td>R-FSSW 기술 적용 경량 차체 부품 개발 및 품질 평가를 위한 64채널 C-SC...</td>\n",
       "      <td>○ 차체 점용접부의 품질 검사를 위한 64채널 무선 기반 C-Scan 탐촉자 개발\\...</td>\n",
       "      <td>○ 1차년도\\n\\n    . 개발 탐촉 시스템의 성능 평가 위한 표준 시편 제작 시...</td>\n",
       "      <td>○ 기술적 파급효과\\n\\n  - 본 연구에서 개발된 R-FSSW 접합 기술은 기존 ...</td>\n",
       "      <td>마찰교반점용접, 비파괴 검사, 초음파 탐상, 씨 스캔, 용접 품질 평가</td>\n",
       "      <td>Friction Stir Spot Welding, Non-destructive ev...</td>\n",
       "    </tr>\n",
       "    <tr>\n",
       "      <th>1</th>\n",
       "      <td>174305</td>\n",
       "      <td>2018</td>\n",
       "      <td>개인기초연구(과기정통부)(R&amp;D)</td>\n",
       "      <td>과학기술정보통신부</td>\n",
       "      <td>계속</td>\n",
       "      <td>신진연구(총연구비5천이상~1.5억이하)</td>\n",
       "      <td>다입자계를 묘사하는 편미분방정식에 대한 연구</td>\n",
       "      <td>자연계에는 입자의 개수가 아주 큰 다양한 다입자계가 존재한다.  이런 다입자계의 효...</td>\n",
       "      <td>연구과제1. 무한입자계의 동역학 / 작용소(operator) 방정식에 대한 연구\\n...</td>\n",
       "      <td>본 연구는 물리학에서 중요한 대상인 다입자계를 묘사하는 모델방정식의 정당성을 보장하...</td>\n",
       "      <td>다체계 방정식,동역학의 안정성,양자역학,고전역학,평균장 극한,고전극한,비상대론적 극한</td>\n",
       "      <td>many particle system,stability of dynamics,qua...</td>\n",
       "    </tr>\n",
       "  </tbody>\n",
       "</table>\n",
       "</div>"
      ],
      "text/plain": [
       "    index  제출년도                 사업명     사업_부처명 계속과제여부                  내역사업명  \\\n",
       "0  174304  2016           경제협력권산업육성    산업통상자원부     신규                자동차융합부품   \n",
       "1  174305  2018  개인기초연구(과기정통부)(R&D)  과학기술정보통신부     계속  신진연구(총연구비5천이상~1.5억이하)   \n",
       "\n",
       "                                                 과제명  \\\n",
       "0  R-FSSW 기술 적용 경량 차체 부품 개발 및 품질 평가를 위한 64채널 C-SC...   \n",
       "1                           다입자계를 묘사하는 편미분방정식에 대한 연구   \n",
       "\n",
       "                                            요약문_연구목표  \\\n",
       "0  ○ 차체 점용접부의 품질 검사를 위한 64채널 무선 기반 C-Scan 탐촉자 개발\\...   \n",
       "1  자연계에는 입자의 개수가 아주 큰 다양한 다입자계가 존재한다.  이런 다입자계의 효...   \n",
       "\n",
       "                                            요약문_연구내용  \\\n",
       "0  ○ 1차년도\\n\\n    . 개발 탐촉 시스템의 성능 평가 위한 표준 시편 제작 시...   \n",
       "1  연구과제1. 무한입자계의 동역학 / 작용소(operator) 방정식에 대한 연구\\n...   \n",
       "\n",
       "                                            요약문_기대효과  \\\n",
       "0  ○ 기술적 파급효과\\n\\n  - 본 연구에서 개발된 R-FSSW 접합 기술은 기존 ...   \n",
       "1  본 연구는 물리학에서 중요한 대상인 다입자계를 묘사하는 모델방정식의 정당성을 보장하...   \n",
       "\n",
       "                                         요약문_한글키워드  \\\n",
       "0          마찰교반점용접, 비파괴 검사, 초음파 탐상, 씨 스캔, 용접 품질 평가   \n",
       "1  다체계 방정식,동역학의 안정성,양자역학,고전역학,평균장 극한,고전극한,비상대론적 극한   \n",
       "\n",
       "                                           요약문_영문키워드  \n",
       "0  Friction Stir Spot Welding, Non-destructive ev...  \n",
       "1  many particle system,stability of dynamics,qua...  "
      ]
     },
     "execution_count": 9,
     "metadata": {},
     "output_type": "execute_result"
    }
   ],
   "source": [
    "test.head(2)"
   ]
  },
  {
   "cell_type": "code",
   "execution_count": 10,
   "id": "aacf43ff",
   "metadata": {},
   "outputs": [
    {
     "data": {
      "text/html": [
       "<div>\n",
       "<style scoped>\n",
       "    .dataframe tbody tr th:only-of-type {\n",
       "        vertical-align: middle;\n",
       "    }\n",
       "\n",
       "    .dataframe tbody tr th {\n",
       "        vertical-align: top;\n",
       "    }\n",
       "\n",
       "    .dataframe thead th {\n",
       "        text-align: right;\n",
       "    }\n",
       "</style>\n",
       "<table border=\"1\" class=\"dataframe\">\n",
       "  <thead>\n",
       "    <tr style=\"text-align: right;\">\n",
       "      <th></th>\n",
       "      <th>index</th>\n",
       "      <th>label</th>\n",
       "    </tr>\n",
       "  </thead>\n",
       "  <tbody>\n",
       "    <tr>\n",
       "      <th>0</th>\n",
       "      <td>174304</td>\n",
       "      <td>0</td>\n",
       "    </tr>\n",
       "    <tr>\n",
       "      <th>1</th>\n",
       "      <td>174305</td>\n",
       "      <td>0</td>\n",
       "    </tr>\n",
       "    <tr>\n",
       "      <th>2</th>\n",
       "      <td>174306</td>\n",
       "      <td>0</td>\n",
       "    </tr>\n",
       "    <tr>\n",
       "      <th>3</th>\n",
       "      <td>174307</td>\n",
       "      <td>0</td>\n",
       "    </tr>\n",
       "    <tr>\n",
       "      <th>4</th>\n",
       "      <td>174308</td>\n",
       "      <td>0</td>\n",
       "    </tr>\n",
       "    <tr>\n",
       "      <th>5</th>\n",
       "      <td>174309</td>\n",
       "      <td>0</td>\n",
       "    </tr>\n",
       "  </tbody>\n",
       "</table>\n",
       "</div>"
      ],
      "text/plain": [
       "    index  label\n",
       "0  174304      0\n",
       "1  174305      0\n",
       "2  174306      0\n",
       "3  174307      0\n",
       "4  174308      0\n",
       "5  174309      0"
      ]
     },
     "execution_count": 10,
     "metadata": {},
     "output_type": "execute_result"
    }
   ],
   "source": [
    "sample_submission.head(6)"
   ]
  },
  {
   "cell_type": "code",
   "execution_count": 11,
   "id": "eabed0a9",
   "metadata": {},
   "outputs": [
    {
     "name": "stdout",
     "output_type": "stream",
     "text": [
      "(174304, 13)\n",
      "(43576, 12)\n",
      "(43576, 2)\n"
     ]
    }
   ],
   "source": [
    "print(train.shape)\n",
    "print(test.shape)\n",
    "print(sample_submission.shape)"
   ]
  },
  {
   "cell_type": "code",
   "execution_count": 14,
   "id": "6b06eb0d",
   "metadata": {},
   "outputs": [
    {
     "data": {
      "text/plain": [
       "0     0.817945\n",
       "1     0.007234\n",
       "2     0.001578\n",
       "3     0.000820\n",
       "4     0.000327\n",
       "5     0.009742\n",
       "6     0.000447\n",
       "7     0.000648\n",
       "8     0.001945\n",
       "9     0.000608\n",
       "10    0.003775\n",
       "11    0.001147\n",
       "12    0.001538\n",
       "13    0.003299\n",
       "14    0.009592\n",
       "15    0.000947\n",
       "16    0.002903\n",
       "17    0.000884\n",
       "18    0.008893\n",
       "19    0.028330\n",
       "20    0.006076\n",
       "21    0.002846\n",
       "22    0.000849\n",
       "23    0.010556\n",
       "24    0.020195\n",
       "25    0.004647\n",
       "26    0.001813\n",
       "27    0.003557\n",
       "28    0.002576\n",
       "29    0.005898\n",
       "30    0.001342\n",
       "31    0.005290\n",
       "32    0.001492\n",
       "33    0.003058\n",
       "34    0.003001\n",
       "35    0.001669\n",
       "36    0.006081\n",
       "37    0.001526\n",
       "38    0.001503\n",
       "39    0.001159\n",
       "40    0.002530\n",
       "41    0.000384\n",
       "42    0.000293\n",
       "43    0.002014\n",
       "44    0.000522\n",
       "45    0.006523\n",
       "Name: label, dtype: float64"
      ]
     },
     "execution_count": 14,
     "metadata": {},
     "output_type": "execute_result"
    }
   ],
   "source": [
    "train.label.value_counts(sort=False)/len(train)"
   ]
  },
  {
   "cell_type": "code",
   "execution_count": 15,
   "id": "d75fc78f",
   "metadata": {},
   "outputs": [
    {
     "data": {
      "text/plain": [
       "(array([1.3520e+03, 2.4120e+03, 4.9920e+03, 1.2723e+04, 1.5921e+04,\n",
       "        2.5851e+04, 2.2585e+04, 2.6076e+04, 1.6007e+04, 1.4696e+04,\n",
       "        8.6090e+03, 7.6300e+03, 5.0700e+03, 2.8750e+03, 2.5110e+03,\n",
       "        1.3390e+03, 1.2990e+03, 6.8000e+02, 4.7900e+02, 3.1400e+02,\n",
       "        2.6900e+02, 1.3400e+02, 1.4900e+02, 5.5000e+01, 7.1000e+01,\n",
       "        6.1000e+01, 2.4000e+01, 3.2000e+01, 2.0000e+01, 1.2000e+01,\n",
       "        1.6000e+01, 1.1000e+01, 1.2000e+01, 6.0000e+00, 1.0000e+00,\n",
       "        5.0000e+00, 0.0000e+00, 3.0000e+00, 1.0000e+00, 0.0000e+00,\n",
       "        0.0000e+00, 0.0000e+00, 0.0000e+00, 0.0000e+00, 0.0000e+00,\n",
       "        0.0000e+00, 0.0000e+00, 0.0000e+00, 0.0000e+00, 1.0000e+00]),\n",
       " array([  2.  ,   6.54,  11.08,  15.62,  20.16,  24.7 ,  29.24,  33.78,\n",
       "         38.32,  42.86,  47.4 ,  51.94,  56.48,  61.02,  65.56,  70.1 ,\n",
       "         74.64,  79.18,  83.72,  88.26,  92.8 ,  97.34, 101.88, 106.42,\n",
       "        110.96, 115.5 , 120.04, 124.58, 129.12, 133.66, 138.2 , 142.74,\n",
       "        147.28, 151.82, 156.36, 160.9 , 165.44, 169.98, 174.52, 179.06,\n",
       "        183.6 , 188.14, 192.68, 197.22, 201.76, 206.3 , 210.84, 215.38,\n",
       "        219.92, 224.46, 229.  ]),\n",
       " <BarContainer object of 50 artists>)"
      ]
     },
     "execution_count": 15,
     "metadata": {},
     "output_type": "execute_result"
    },
    {
     "data": {
      "text/plain": [
       "Text(0.5, 1.0, 'histogram of length of task_name')"
      ]
     },
     "execution_count": 15,
     "metadata": {},
     "output_type": "execute_result"
    },
    {
     "data": {
      "text/plain": [
       "<Figure size 864x360 with 0 Axes>"
      ]
     },
     "execution_count": 15,
     "metadata": {},
     "output_type": "execute_result"
    },
    {
     "data": {
      "text/plain": [
       "{'whiskers': [<matplotlib.lines.Line2D at 0x29dc00c9700>,\n",
       "  <matplotlib.lines.Line2D at 0x29dc00c9a60>],\n",
       " 'caps': [<matplotlib.lines.Line2D at 0x29dc00c9dc0>,\n",
       "  <matplotlib.lines.Line2D at 0x29dc00da160>],\n",
       " 'boxes': [<matplotlib.lines.Line2D at 0x29dc00c93a0>],\n",
       " 'medians': [<matplotlib.lines.Line2D at 0x29dc00da4c0>],\n",
       " 'fliers': [<matplotlib.lines.Line2D at 0x29dc00dab80>],\n",
       " 'means': [<matplotlib.lines.Line2D at 0x29dc00da820>]}"
      ]
     },
     "execution_count": 15,
     "metadata": {},
     "output_type": "execute_result"
    },
    {
     "name": "stdout",
     "output_type": "stream",
     "text": [
      "과제명 길이 최댓값: 229\n",
      "과제명 길이 최솟값: 2\n",
      "과제명 길이 평균값: 35.84252225995961\n",
      "과제명 길이 중간값: 34.0\n"
     ]
    },
    {
     "data": {
      "image/png": "[encoded data removed]",
      "text/plain": [
       "<Figure size 432x288 with 1 Axes>"
      ]
     },
     "metadata": {
      "needs_background": "light"
     },
     "output_type": "display_data"
    },
    {
     "data": {
      "image/png": "[encoded data removed]",
      "text/plain": [
       "<Figure size 864x360 with 1 Axes>"
      ]
     },
     "metadata": {
      "needs_background": "light"
     },
     "output_type": "display_data"
    }
   ],
   "source": [
    "length=train['과제명'].astype(str).apply(len)\n",
    "plt.hist(length, bins=50, alpha=0.5, color='r', label='word')\n",
    "plt.title('histogram of length of task_name')\n",
    "plt.figure(figsize=(12, 5))\n",
    "plt.boxplot(length, labels=['counts'], showmeans=True)\n",
    "print('과제명 길이 최댓값: {}'.format(np.max(length)))\n",
    "print('과제명 길이 최솟값: {}'.format(np.min(length)))\n",
    "print('과제명 길이 평균값: {}'.format(np.mean(length)))\n",
    "print('과제명 길이 중간값: {}'.format(np.median(length)))"
   ]
  },
  {
   "cell_type": "code",
   "execution_count": 16,
   "id": "9c18ba37",
   "metadata": {},
   "outputs": [
    {
     "data": {
      "text/plain": [
       "(array([2.2510e+04, 3.1648e+04, 2.9142e+04, 2.4113e+04, 1.8236e+04,\n",
       "        1.3127e+04, 9.9970e+03, 7.0200e+03, 4.5040e+03, 3.3230e+03,\n",
       "        3.3080e+03, 2.4040e+03, 1.1750e+03, 6.9200e+02, 5.7800e+02,\n",
       "        4.2000e+02, 5.1100e+02, 3.5800e+02, 1.9800e+02, 1.6100e+02,\n",
       "        1.3700e+02, 1.1800e+02, 1.0100e+02, 9.5000e+01, 8.5000e+01,\n",
       "        6.1000e+01, 5.1000e+01, 5.3000e+01, 4.8000e+01, 4.1000e+01,\n",
       "        2.5000e+01, 2.9000e+01, 9.0000e+00, 4.0000e+00, 6.0000e+00,\n",
       "        2.0000e+00, 1.0000e+00, 3.0000e+00, 1.0000e+00, 1.0000e+00,\n",
       "        4.0000e+00, 1.0000e+00, 0.0000e+00, 0.0000e+00, 0.0000e+00,\n",
       "        0.0000e+00, 0.0000e+00, 0.0000e+00, 1.0000e+00, 2.0000e+00]),\n",
       " array([1.000e+00, 8.000e+01, 1.590e+02, 2.380e+02, 3.170e+02, 3.960e+02,\n",
       "        4.750e+02, 5.540e+02, 6.330e+02, 7.120e+02, 7.910e+02, 8.700e+02,\n",
       "        9.490e+02, 1.028e+03, 1.107e+03, 1.186e+03, 1.265e+03, 1.344e+03,\n",
       "        1.423e+03, 1.502e+03, 1.581e+03, 1.660e+03, 1.739e+03, 1.818e+03,\n",
       "        1.897e+03, 1.976e+03, 2.055e+03, 2.134e+03, 2.213e+03, 2.292e+03,\n",
       "        2.371e+03, 2.450e+03, 2.529e+03, 2.608e+03, 2.687e+03, 2.766e+03,\n",
       "        2.845e+03, 2.924e+03, 3.003e+03, 3.082e+03, 3.161e+03, 3.240e+03,\n",
       "        3.319e+03, 3.398e+03, 3.477e+03, 3.556e+03, 3.635e+03, 3.714e+03,\n",
       "        3.793e+03, 3.872e+03, 3.951e+03]),\n",
       " <BarContainer object of 50 artists>)"
      ]
     },
     "execution_count": 16,
     "metadata": {},
     "output_type": "execute_result"
    },
    {
     "data": {
      "text/plain": [
       "Text(0.5, 1.0, 'histogram of length of summary_object')"
      ]
     },
     "execution_count": 16,
     "metadata": {},
     "output_type": "execute_result"
    },
    {
     "data": {
      "text/plain": [
       "<Figure size 864x360 with 0 Axes>"
      ]
     },
     "execution_count": 16,
     "metadata": {},
     "output_type": "execute_result"
    },
    {
     "data": {
      "text/plain": [
       "{'whiskers': [<matplotlib.lines.Line2D at 0x29dc020c6d0>,\n",
       "  <matplotlib.lines.Line2D at 0x29dc020ca30>],\n",
       " 'caps': [<matplotlib.lines.Line2D at 0x29dc020cd90>,\n",
       "  <matplotlib.lines.Line2D at 0x29dc0218130>],\n",
       " 'boxes': [<matplotlib.lines.Line2D at 0x29dc020c370>],\n",
       " 'medians': [<matplotlib.lines.Line2D at 0x29dc0218490>],\n",
       " 'fliers': [<matplotlib.lines.Line2D at 0x29dc0218b50>],\n",
       " 'means': [<matplotlib.lines.Line2D at 0x29dc02187f0>]}"
      ]
     },
     "execution_count": 16,
     "metadata": {},
     "output_type": "execute_result"
    },
    {
     "name": "stdout",
     "output_type": "stream",
     "text": [
      "요약문_연구목표 길이 최댓값: 3951\n",
      "요약문_연구목표 길이 최솟값: 1\n",
      "요약문_연구목표 길이 평균값: 318.1008066366807\n",
      "요약문_연구목표 길이 중간값: 249.0\n"
     ]
    },
    {
     "data": {
      "image/png": "[encoded data removed]",
      "text/plain": [
       "<Figure size 432x288 with 1 Axes>"
      ]
     },
     "metadata": {
      "needs_background": "light"
     },
     "output_type": "display_data"
    },
    {
     "data": {
      "image/png": "[encoded data removed]",
      "text/plain": [
       "<Figure size 864x360 with 1 Axes>"
      ]
     },
     "metadata": {
      "needs_background": "light"
     },
     "output_type": "display_data"
    }
   ],
   "source": [
    "length=train['요약문_연구목표'].astype(str).apply(len)\n",
    "plt.hist(length, bins=50, alpha=0.5, color='r', label='word')\n",
    "plt.title('histogram of length of summary_object')\n",
    "plt.figure(figsize=(12, 5))\n",
    "plt.boxplot(length, labels=['counts'], showmeans=True)\n",
    "print('요약문_연구목표 길이 최댓값: {}'.format(np.max(length)))\n",
    "print('요약문_연구목표 길이 최솟값: {}'.format(np.min(length)))\n",
    "print('요약문_연구목표 길이 평균값: {}'.format(np.mean(length)))\n",
    "print('요약문_연구목표 길이 중간값: {}'.format(np.median(length)))"
   ]
  },
  {
   "cell_type": "code",
   "execution_count": 17,
   "id": "07a6f552",
   "metadata": {},
   "outputs": [
    {
     "data": {
      "text/plain": [
       "(array([4.2100e+03, 9.8180e+03, 1.4320e+04, 1.3543e+04, 1.3259e+04,\n",
       "        1.2971e+04, 1.3107e+04, 1.2372e+04, 1.1195e+04, 9.7950e+03,\n",
       "        8.7330e+03, 7.4010e+03, 7.3000e+03, 4.8330e+03, 4.3030e+03,\n",
       "        3.9210e+03, 6.0310e+03, 3.0630e+03, 2.3810e+03, 1.9410e+03,\n",
       "        1.9290e+03, 1.7270e+03, 1.7430e+03, 9.7500e+02, 6.5900e+02,\n",
       "        7.8700e+02, 4.4300e+02, 2.6700e+02, 2.7200e+02, 2.5500e+02,\n",
       "        2.2400e+02, 1.8600e+02, 1.3300e+02, 7.8000e+01, 3.7000e+01,\n",
       "        2.9000e+01, 2.1000e+01, 1.6000e+01, 5.0000e+00, 3.0000e+00,\n",
       "        2.0000e+00, 0.0000e+00, 1.0000e+00, 3.0000e+00, 2.0000e+00,\n",
       "        0.0000e+00, 1.0000e+00, 2.0000e+00, 1.0000e+00, 6.0000e+00]),\n",
       " array([1.00000e+00, 8.09600e+01, 1.60920e+02, 2.40880e+02, 3.20840e+02,\n",
       "        4.00800e+02, 4.80760e+02, 5.60720e+02, 6.40680e+02, 7.20640e+02,\n",
       "        8.00600e+02, 8.80560e+02, 9.60520e+02, 1.04048e+03, 1.12044e+03,\n",
       "        1.20040e+03, 1.28036e+03, 1.36032e+03, 1.44028e+03, 1.52024e+03,\n",
       "        1.60020e+03, 1.68016e+03, 1.76012e+03, 1.84008e+03, 1.92004e+03,\n",
       "        2.00000e+03, 2.07996e+03, 2.15992e+03, 2.23988e+03, 2.31984e+03,\n",
       "        2.39980e+03, 2.47976e+03, 2.55972e+03, 2.63968e+03, 2.71964e+03,\n",
       "        2.79960e+03, 2.87956e+03, 2.95952e+03, 3.03948e+03, 3.11944e+03,\n",
       "        3.19940e+03, 3.27936e+03, 3.35932e+03, 3.43928e+03, 3.51924e+03,\n",
       "        3.59920e+03, 3.67916e+03, 3.75912e+03, 3.83908e+03, 3.91904e+03,\n",
       "        3.99900e+03]),\n",
       " <BarContainer object of 50 artists>)"
      ]
     },
     "execution_count": 17,
     "metadata": {},
     "output_type": "execute_result"
    },
    {
     "data": {
      "text/plain": [
       "Text(0.5, 1.0, 'histogram of length of summary_content')"
      ]
     },
     "execution_count": 17,
     "metadata": {},
     "output_type": "execute_result"
    },
    {
     "data": {
      "text/plain": [
       "<Figure size 864x360 with 0 Axes>"
      ]
     },
     "execution_count": 17,
     "metadata": {},
     "output_type": "execute_result"
    },
    {
     "data": {
      "text/plain": [
       "{'whiskers': [<matplotlib.lines.Line2D at 0x29dc127bdc0>,\n",
       "  <matplotlib.lines.Line2D at 0x29dc1289160>],\n",
       " 'caps': [<matplotlib.lines.Line2D at 0x29dc12894c0>,\n",
       "  <matplotlib.lines.Line2D at 0x29dc1289820>],\n",
       " 'boxes': [<matplotlib.lines.Line2D at 0x29dc127ba60>],\n",
       " 'medians': [<matplotlib.lines.Line2D at 0x29dc1289b80>],\n",
       " 'fliers': [<matplotlib.lines.Line2D at 0x29dc12922b0>],\n",
       " 'means': [<matplotlib.lines.Line2D at 0x29dc1289f10>]}"
      ]
     },
     "execution_count": 17,
     "metadata": {},
     "output_type": "execute_result"
    },
    {
     "name": "stdout",
     "output_type": "stream",
     "text": [
      "요약문_연구내용 길이 최댓값: 3999\n",
      "요약문_연구내용 길이 최솟값: 1\n",
      "요약문_연구내용 길이 평균값: 699.2930282724435\n",
      "요약문_연구내용 길이 중간값: 597.0\n"
     ]
    },
    {
     "data": {
      "image/png": "[encoded data removed]",
      "text/plain": [
       "<Figure size 432x288 with 1 Axes>"
      ]
     },
     "metadata": {
      "needs_background": "light"
     },
     "output_type": "display_data"
    },
    {
     "data": {
      "image/png": "[encoded data removed]",
      "text/plain": [
       "<Figure size 864x360 with 1 Axes>"
      ]
     },
     "metadata": {
      "needs_background": "light"
     },
     "output_type": "display_data"
    }
   ],
   "source": [
    "length=train['요약문_연구내용'].astype(str).apply(len)\n",
    "plt.hist(length, bins=50, alpha=0.5, color='r', label='word')\n",
    "plt.title('histogram of length of summary_content')\n",
    "plt.figure(figsize=(12, 5))\n",
    "plt.boxplot(length, labels=['counts'], showmeans=True)\n",
    "print('요약문_연구내용 길이 최댓값: {}'.format(np.max(length)))\n",
    "print('요약문_연구내용 길이 최솟값: {}'.format(np.min(length)))\n",
    "print('요약문_연구내용 길이 평균값: {}'.format(np.mean(length)))\n",
    "print('요약문_연구내용 길이 중간값: {}'.format(np.median(length)))"
   ]
  },
  {
   "cell_type": "code",
   "execution_count": 18,
   "id": "cf80f512",
   "metadata": {},
   "outputs": [
    {
     "data": {
      "text/plain": [
       "(array([1.0436e+04, 1.8759e+04, 2.3071e+04, 2.3488e+04, 2.1625e+04,\n",
       "        1.6925e+04, 1.4427e+04, 1.0451e+04, 8.0940e+03, 5.6680e+03,\n",
       "        5.1590e+03, 5.0430e+03, 2.8250e+03, 1.8010e+03, 1.0780e+03,\n",
       "        8.2100e+02, 6.7000e+02, 6.2700e+02, 6.9300e+02, 4.0900e+02,\n",
       "        3.5300e+02, 2.8900e+02, 3.1200e+02, 2.5200e+02, 2.6600e+02,\n",
       "        1.3500e+02, 8.3000e+01, 9.9000e+01, 8.0000e+01, 5.8000e+01,\n",
       "        6.1000e+01, 9.4000e+01, 7.4000e+01, 3.5000e+01, 1.8000e+01,\n",
       "        6.0000e+00, 4.0000e+00, 7.0000e+00, 2.0000e+00, 0.0000e+00,\n",
       "        2.0000e+00, 2.0000e+00, 1.0000e+00, 0.0000e+00, 0.0000e+00,\n",
       "        0.0000e+00, 0.0000e+00, 0.0000e+00, 0.0000e+00, 1.0000e+00]),\n",
       " array([1.00000e+00, 7.39600e+01, 1.46920e+02, 2.19880e+02, 2.92840e+02,\n",
       "        3.65800e+02, 4.38760e+02, 5.11720e+02, 5.84680e+02, 6.57640e+02,\n",
       "        7.30600e+02, 8.03560e+02, 8.76520e+02, 9.49480e+02, 1.02244e+03,\n",
       "        1.09540e+03, 1.16836e+03, 1.24132e+03, 1.31428e+03, 1.38724e+03,\n",
       "        1.46020e+03, 1.53316e+03, 1.60612e+03, 1.67908e+03, 1.75204e+03,\n",
       "        1.82500e+03, 1.89796e+03, 1.97092e+03, 2.04388e+03, 2.11684e+03,\n",
       "        2.18980e+03, 2.26276e+03, 2.33572e+03, 2.40868e+03, 2.48164e+03,\n",
       "        2.55460e+03, 2.62756e+03, 2.70052e+03, 2.77348e+03, 2.84644e+03,\n",
       "        2.91940e+03, 2.99236e+03, 3.06532e+03, 3.13828e+03, 3.21124e+03,\n",
       "        3.28420e+03, 3.35716e+03, 3.43012e+03, 3.50308e+03, 3.57604e+03,\n",
       "        3.64900e+03]),\n",
       " <BarContainer object of 50 artists>)"
      ]
     },
     "execution_count": 18,
     "metadata": {},
     "output_type": "execute_result"
    },
    {
     "data": {
      "text/plain": [
       "Text(0.5, 1.0, 'histogram of length of summary_effect')"
      ]
     },
     "execution_count": 18,
     "metadata": {},
     "output_type": "execute_result"
    },
    {
     "data": {
      "text/plain": [
       "<Figure size 864x360 with 0 Axes>"
      ]
     },
     "execution_count": 18,
     "metadata": {},
     "output_type": "execute_result"
    },
    {
     "data": {
      "text/plain": [
       "{'whiskers': [<matplotlib.lines.Line2D at 0x29dc13543a0>,\n",
       "  <matplotlib.lines.Line2D at 0x29dc1354700>],\n",
       " 'caps': [<matplotlib.lines.Line2D at 0x29dc1354a60>,\n",
       "  <matplotlib.lines.Line2D at 0x29dc1354dc0>],\n",
       " 'boxes': [<matplotlib.lines.Line2D at 0x29dc1354040>],\n",
       " 'medians': [<matplotlib.lines.Line2D at 0x29dc135f160>],\n",
       " 'fliers': [<matplotlib.lines.Line2D at 0x29dc135f820>],\n",
       " 'means': [<matplotlib.lines.Line2D at 0x29dc135f4c0>]}"
      ]
     },
     "execution_count": 18,
     "metadata": {},
     "output_type": "execute_result"
    },
    {
     "name": "stdout",
     "output_type": "stream",
     "text": [
      "요약문_기대효과 길이 최댓값: 3649\n",
      "요약문_기대효과 길이 최솟값: 1\n",
      "요약문_기대효과 길이 평균값: 400.4864374885258\n",
      "요약문_기대효과 길이 중간값: 329.0\n"
     ]
    },
    {
     "data": {
      "image/png": "[encoded data removed]",
      "text/plain": [
       "<Figure size 432x288 with 1 Axes>"
      ]
     },
     "metadata": {
      "needs_background": "light"
     },
     "output_type": "display_data"
    },
    {
     "data": {
      "image/png": "[encoded data removed]",
      "text/plain": [
       "<Figure size 864x360 with 1 Axes>"
      ]
     },
     "metadata": {
      "needs_background": "light"
     },
     "output_type": "display_data"
    }
   ],
   "source": [
    "length=train['요약문_기대효과'].astype(str).apply(len)\n",
    "plt.hist(length, bins=50, alpha=0.5, color='r', label='word')\n",
    "plt.title('histogram of length of summary_effect')\n",
    "plt.figure(figsize=(12, 5))\n",
    "plt.boxplot(length, labels=['counts'], showmeans=True)\n",
    "print('요약문_기대효과 길이 최댓값: {}'.format(np.max(length)))\n",
    "print('요약문_기대효과 길이 최솟값: {}'.format(np.min(length)))\n",
    "print('요약문_기대효과 길이 평균값: {}'.format(np.mean(length)))\n",
    "print('요약문_기대효과 길이 중간값: {}'.format(np.median(length)))"
   ]
  },
  {
   "cell_type": "code",
   "execution_count": null,
   "id": "c88e495b",
   "metadata": {},
   "outputs": [],
   "source": [
    "# 데이터 전처리"
   ]
  },
  {
   "cell_type": "code",
   "execution_count": 19,
   "id": "8cc4172b",
   "metadata": {},
   "outputs": [],
   "source": [
    "train=train[['과제명','label']]\n",
    "test=test[['과제명']]"
   ]
  },
  {
   "cell_type": "code",
   "execution_count": 20,
   "id": "c7808fe3",
   "metadata": {},
   "outputs": [],
   "source": [
    "#1. re.sub 한글 및 공백을 제외한 문자 제거\n",
    "#2. okt 객체를 활용해 형태소 단위로 나눔\n",
    "#3. remove_stopwords로 불용어 제거 \n",
    "def preprocessing(text, okt, remove_stopwords=False, stop_words=[]):\n",
    "    text=re.sub(\"[^가-힣ㄱ-ㅎㅏ-ㅣ]\",\"\", text)\n",
    "    word_text=okt.morphs(text, stem=True)\n",
    "    if remove_stopwords:\n",
    "        word_review=[token for token in word_text if not token in stop_words]\n",
    "    return word_review"
   ]
  },
  {
   "cell_type": "code",
   "execution_count": 21,
   "id": "3b9f7d8e",
   "metadata": {},
   "outputs": [],
   "source": [
    "stop_words=['은','는','이','가', '하','아','것','들','의','있','되','수','보','주','등','한']\n",
    "okt=Okt()\n",
    "clean_train_text=[]\n",
    "clean_test_text=[]"
   ]
  },
  {
   "cell_type": "code",
   "execution_count": 22,
   "id": "6263dae1",
   "metadata": {},
   "outputs": [
    {
     "name": "stderr",
     "output_type": "stream",
     "text": [
      "100%|██████████████████████████████████████████████████████████████████████████| 174304/174304 [55:54<00:00, 51.95it/s]\n"
     ]
    }
   ],
   "source": [
    "#시간이 많이 걸립니다.\n",
    "for text in tqdm.tqdm(train['과제명']):\n",
    "    try:\n",
    "        clean_train_text.append(preprocessing(text, okt, remove_stopwords=True, stop_words=stop_words))\n",
    "    except:\n",
    "        clean_train_text.append([])"
   ]
  },
  {
   "cell_type": "code",
   "execution_count": 23,
   "id": "8a1f2a1d",
   "metadata": {},
   "outputs": [
    {
     "name": "stderr",
     "output_type": "stream",
     "text": [
      "100%|████████████████████████████████████████████████████████████████████████████| 43576/43576 [16:29<00:00, 44.06it/s]\n"
     ]
    }
   ],
   "source": [
    "for text in tqdm.tqdm(test['과제명']):\n",
    "    if type(text) == str:\n",
    "        clean_test_text.append(preprocessing(text, okt, remove_stopwords=True, stop_words=stop_words))\n",
    "    else:\n",
    "        clean_test_text.append([])"
   ]
  },
  {
   "cell_type": "code",
   "execution_count": 24,
   "id": "11ecd86f",
   "metadata": {},
   "outputs": [
    {
     "data": {
      "text/plain": [
       "174304"
      ]
     },
     "execution_count": 24,
     "metadata": {},
     "output_type": "execute_result"
    },
    {
     "data": {
      "text/plain": [
       "43576"
      ]
     },
     "execution_count": 24,
     "metadata": {},
     "output_type": "execute_result"
    }
   ],
   "source": [
    "len(clean_train_text)\n",
    "len(clean_test_text)"
   ]
  },
  {
   "cell_type": "code",
   "execution_count": 26,
   "id": "ec95f16b",
   "metadata": {},
   "outputs": [],
   "source": [
    "from sklearn.feature_extraction.text import CountVectorizer\n",
    "\n",
    "#tokenizer 인자에는 list를 받아서 그대로 내보내는 함수를 넣어줍니다. 또한 소문자화를 하지 않도록 설정해야 에러가 나지 않습니다.\n",
    "vectorizer = CountVectorizer(tokenizer = lambda x: x, lowercase=False)\n",
    "train_features=vectorizer.fit_transform(clean_train_text)\n",
    "test_features=vectorizer.transform(clean_test_text)\n",
    "#test데이터에 fit_transform을 할 경우 data leakage에 해당합니다"
   ]
  },
  {
   "cell_type": "code",
   "execution_count": 27,
   "id": "62b40d07",
   "metadata": {},
   "outputs": [
    {
     "data": {
      "text/plain": [
       "<174304x30402 sparse matrix of type '<class 'numpy.int64'>'\n",
       "\twith 2078154 stored elements in Compressed Sparse Row format>"
      ]
     },
     "execution_count": 27,
     "metadata": {},
     "output_type": "execute_result"
    },
    {
     "data": {
      "text/plain": [
       "<43576x30402 sparse matrix of type '<class 'numpy.int64'>'\n",
       "\twith 518549 stored elements in Compressed Sparse Row format>"
      ]
     },
     "execution_count": 27,
     "metadata": {},
     "output_type": "execute_result"
    }
   ],
   "source": [
    "train_features\n",
    "test_features"
   ]
  },
  {
   "cell_type": "code",
   "execution_count": 28,
   "id": "cab96553",
   "metadata": {},
   "outputs": [],
   "source": [
    "# 모델링\n",
    "TEST_SIZE=0.2\n",
    "RANDOM_SEED=42\n",
    "\n",
    "train_x, eval_x, train_y, eval_y=train_test_split(train_features, train['label'], test_size=TEST_SIZE, random_state=RANDOM_SEED)"
   ]
  },
  {
   "cell_type": "code",
   "execution_count": 29,
   "id": "d550c0e2",
   "metadata": {},
   "outputs": [
    {
     "data": {
      "text/plain": [
       "RandomForestClassifier()"
      ]
     },
     "execution_count": 29,
     "metadata": {},
     "output_type": "execute_result"
    }
   ],
   "source": [
    "from sklearn.ensemble import RandomForestClassifier\n",
    "\n",
    "forest=RandomForestClassifier(n_estimators=100)\n",
    "\n",
    "forest.fit(train_x, train_y)"
   ]
  },
  {
   "cell_type": "code",
   "execution_count": 30,
   "id": "9060f8fa",
   "metadata": {},
   "outputs": [
    {
     "data": {
      "text/plain": [
       "0.9206276354665672"
      ]
     },
     "execution_count": 30,
     "metadata": {},
     "output_type": "execute_result"
    }
   ],
   "source": [
    "forest.score(eval_x, eval_y)"
   ]
  },
  {
   "cell_type": "code",
   "execution_count": 31,
   "id": "f1a944ee",
   "metadata": {},
   "outputs": [
    {
     "data": {
      "text/plain": [
       "array([0, 0, 0, ..., 2, 0, 0], dtype=int64)"
      ]
     },
     "execution_count": 31,
     "metadata": {},
     "output_type": "execute_result"
    },
    {
     "data": {
      "text/html": [
       "<div>\n",
       "<style scoped>\n",
       "    .dataframe tbody tr th:only-of-type {\n",
       "        vertical-align: middle;\n",
       "    }\n",
       "\n",
       "    .dataframe tbody tr th {\n",
       "        vertical-align: top;\n",
       "    }\n",
       "\n",
       "    .dataframe thead th {\n",
       "        text-align: right;\n",
       "    }\n",
       "</style>\n",
       "<table border=\"1\" class=\"dataframe\">\n",
       "  <thead>\n",
       "    <tr style=\"text-align: right;\">\n",
       "      <th></th>\n",
       "      <th>index</th>\n",
       "      <th>label</th>\n",
       "    </tr>\n",
       "  </thead>\n",
       "  <tbody>\n",
       "    <tr>\n",
       "      <th>0</th>\n",
       "      <td>174304</td>\n",
       "      <td>0</td>\n",
       "    </tr>\n",
       "    <tr>\n",
       "      <th>1</th>\n",
       "      <td>174305</td>\n",
       "      <td>0</td>\n",
       "    </tr>\n",
       "    <tr>\n",
       "      <th>2</th>\n",
       "      <td>174306</td>\n",
       "      <td>0</td>\n",
       "    </tr>\n",
       "    <tr>\n",
       "      <th>3</th>\n",
       "      <td>174307</td>\n",
       "      <td>0</td>\n",
       "    </tr>\n",
       "    <tr>\n",
       "      <th>4</th>\n",
       "      <td>174308</td>\n",
       "      <td>0</td>\n",
       "    </tr>\n",
       "    <tr>\n",
       "      <th>...</th>\n",
       "      <td>...</td>\n",
       "      <td>...</td>\n",
       "    </tr>\n",
       "    <tr>\n",
       "      <th>43571</th>\n",
       "      <td>217875</td>\n",
       "      <td>0</td>\n",
       "    </tr>\n",
       "    <tr>\n",
       "      <th>43572</th>\n",
       "      <td>217876</td>\n",
       "      <td>0</td>\n",
       "    </tr>\n",
       "    <tr>\n",
       "      <th>43573</th>\n",
       "      <td>217877</td>\n",
       "      <td>2</td>\n",
       "    </tr>\n",
       "    <tr>\n",
       "      <th>43574</th>\n",
       "      <td>217878</td>\n",
       "      <td>0</td>\n",
       "    </tr>\n",
       "    <tr>\n",
       "      <th>43575</th>\n",
       "      <td>217879</td>\n",
       "      <td>0</td>\n",
       "    </tr>\n",
       "  </tbody>\n",
       "</table>\n",
       "<p>43576 rows × 2 columns</p>\n",
       "</div>"
      ],
      "text/plain": [
       "        index  label\n",
       "0      174304      0\n",
       "1      174305      0\n",
       "2      174306      0\n",
       "3      174307      0\n",
       "4      174308      0\n",
       "...       ...    ...\n",
       "43571  217875      0\n",
       "43572  217876      0\n",
       "43573  217877      2\n",
       "43574  217878      0\n",
       "43575  217879      0\n",
       "\n",
       "[43576 rows x 2 columns]"
      ]
     },
     "execution_count": 31,
     "metadata": {},
     "output_type": "execute_result"
    }
   ],
   "source": [
    "forest.predict(test_features)\n",
    "sample_submission['label']=forest.predict(test_features)\n",
    "sample_submission"
   ]
  },
  {
   "cell_type": "code",
   "execution_count": null,
   "id": "ddafa027",
   "metadata": {},
   "outputs": [],
   "source": [
    "# sample_submission.to_csv('rf_baseline.csv', index=False)"
   ]
  }
 ],
 "metadata": {
  "kernelspec": {
   "display_name": "Python 3",
   "language": "python",
   "name": "python3"
  },
  "language_info": {
   "codemirror_mode": {
    "name": "ipython",
    "version": 3
   },
   "file_extension": ".py",
   "mimetype": "text/x-python",
   "name": "python",
   "nbconvert_exporter": "python",
   "pygments_lexer": "ipython3",
   "version": "3.8.5"
  }
 },
 "nbformat": 4,
 "nbformat_minor": 5
}
