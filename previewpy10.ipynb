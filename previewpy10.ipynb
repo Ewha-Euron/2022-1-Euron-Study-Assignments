{
 "cells": [
  {
   "cell_type": "markdown",
   "id": "f5672d43",
   "metadata": {},
   "source": [
    "DA_Week10_preview_박보영"
   ]
  },
  {
   "cell_type": "code",
   "execution_count": null,
   "id": "5b07c601",
   "metadata": {},
   "outputs": [],
   "source": [
    "from sklearn.preprocessing import scale\n",
    "from sklearn.datasets import load_iris\n",
    "from sklearn.cluster import KMeans\n",
    "import matplotlib.pyplot as plt\n",
    "import numpy as np\n",
    "import pandas as pd\n",
    "%matplotlib inline\n",
    "\n",
    "iris=load_iris()\n",
    "irisDF=pd.DataFrame(data=iris.data, columns=['sepal_length', 'sepal_width', 'petal_length', 'petal_width'])\n",
    "irisDF.head(3)"
   ]
  },
  {
   "cell_type": "code",
   "execution_count": null,
   "id": "9bf70a1c",
   "metadata": {},
   "outputs": [],
   "source": [
    "kmeans=KMeans(n_clusters=3, init='k-means++', max_iter=300, random_state=0)\n",
    "kmeans.fit(irisDF)\n",
    "\n",
    "print(kmeans.labels_)"
   ]
  },
  {
   "cell_type": "code",
   "execution_count": null,
   "id": "cad7e993",
   "metadata": {},
   "outputs": [],
   "source": [
    "irisDF['target']=iris.target\n",
    "irisDF['cluster']=kmeans.labels_\n",
    "iris_result=irisDF.groupby(['target','cluster'])['sepal_length'].count()\n",
    "print(iris_result)"
   ]
  },
  {
   "cell_type": "code",
   "execution_count": null,
   "id": "04498121",
   "metadata": {},
   "outputs": [],
   "source": [
    "from sklearn.decomposition import PCA\n",
    "\n",
    "pca=PCA(n_components=2)\n",
    "pca_transformed=pca.fit_transform(iris.data)\n",
    "irisDF['pca_x']=pca_transformed[:,0]\n",
    "irisDF['pca_y']=pca_transformed[:,1]\n",
    "irisDF.head(3)"
   ]
  },
  {
   "cell_type": "code",
   "execution_count": null,
   "id": "a5292178",
   "metadata": {},
   "outputs": [],
   "source": [
    "marker0_ind=irisDF[irisDF['cluster']==0].index\n",
    "marker1_ind=irisDF[irisDF['cluster']==1].index\n",
    "marker2_ind=irisDF[irisDF['cluster']==2].index\n",
    "\n",
    "plt.scatter(x=irisDF.loc[marker0_ind,'pca_x'], y=irisDF.loc[marker0_ind,'pca_y'],marker='o')\n",
    "plt.scatter(x=irisDF.loc[marker1_ind,'pca_x'], y=irisDF.loc[marker1_ind,'pca_y'],marker='s')\n",
    "plt.scatter(x=irisDF.loc[marker2_ind,'pca_x'], y=irisDF.loc[marker2_ind,'pca_y'],marker='^')\n",
    "\n",
    "plt.xlabel('PCA1')\n",
    "plt.ylabel('PCA2')\n",
    "plt.title('3 clusters visualization by 2 PCA components')\n",
    "\n",
    "plt.show()"
   ]
  },
  {
   "cell_type": "code",
   "execution_count": null,
   "id": "6c5a5fc4",
   "metadata": {},
   "outputs": [],
   "source": [
    "import numpy as np\n",
    "import matplotlib.pyplot as plt\n",
    "from sklearn.cluster import KMeans\n",
    "from sklearn.datasets import make_blobs\n",
    "%matplotlib inline\n",
    "\n",
    "X,y=make_blobs(n_samples=200, n_features=2, centers=3, cluster_std=0.8, random_state=0)\n",
    "print(X.shape, y.shape)\n",
    "\n",
    "unique,counts=np.unique(y,return_counts=True)\n",
    "print(unique, counts)"
   ]
  },
  {
   "cell_type": "code",
   "execution_count": null,
   "id": "0996c762",
   "metadata": {},
   "outputs": [],
   "source": [
    "import pandas as pd\n",
    "\n",
    "clusterDF=pd.DataFrame(data=X, columns=['ftr1', 'ftr2'])\n",
    "clusterDF['target']=y\n",
    "clusterDF.head(3)"
   ]
  },
  {
   "cell_type": "code",
   "execution_count": null,
   "id": "b47e850e",
   "metadata": {},
   "outputs": [],
   "source": [
    "target_list=np.unique(y)\n",
    "markers=['o','s','^','P','D','H','x']\n",
    "for target in target_list:\n",
    "    target_cluster=clusterDF[clusterDF['target']==target]\n",
    "    plt.scatter(x=target_cluster['ftr1'], y=target_cluster['ftr2'], edgecolor='k', marker=markers[target])\n",
    "plt.show()"
   ]
  },
  {
   "cell_type": "code",
   "execution_count": null,
   "id": "c1bd0b64",
   "metadata": {},
   "outputs": [],
   "source": [
    "kmeans=KMeans(n_clusters=3, init='k-means++', max_iter=200, random_state=0)\n",
    "cluster_labels=kmeans.fit_predict(X)\n",
    "clusterDF['kmeans_label']=cluster_labels\n",
    "\n",
    "centers=kmeans.cluster_centers_\n",
    "unique_labels=np.unique(cluster_labels)\n",
    "markers=['o','s','^','P','D','H','x']\n",
    "\n",
    "for label in unique_labels:\n",
    "    label_cluster=clusterDF[clusterDF['kmeans_label']==label]\n",
    "    center_x_y=centers[label]\n",
    "    plt.scatter(x=label_cluster['ftr1'], y=label_cluster['ftr2'], edgecolor='k', marker=markers[label])\n",
    "    \n",
    "    plt.scatter(x=center_x_y[0], y=center_x_y[1], s=200, color='white', alpha=0.9, edgecolor='k', marker=markers[label])\n",
    "    plt.scatter(x=center_x_y[0], y=center_x_y[1], s=70, color='k', alpha=0.9, edgecolor='k', marker='$%d$'%label)\n",
    "    \n",
    "plt.show()"
   ]
  },
  {
   "cell_type": "code",
   "execution_count": null,
   "id": "e8390c4f",
   "metadata": {},
   "outputs": [],
   "source": [
    "print(clusterDF.groupby('target')['kmeans_label'].value_counts())"
   ]
  },
  {
   "cell_type": "code",
   "execution_count": null,
   "id": "a5f8ae5e",
   "metadata": {},
   "outputs": [],
   "source": [
    "from sklearn.preprocessing import scale\n",
    "from sklearn.datasets import load_iris\n",
    "from sklearn.cluster import KMeans\n",
    "\n",
    "from sklearn.metrics import silhouette_samples, silhouette_score\n",
    "import matplotlib.pyplot as plt\n",
    "import numpy as np\n",
    "import pandas as pd\n",
    "%matplotlib inline\n",
    "\n",
    "iris=load_iris()\n",
    "feature_names=['sepal_length', 'sepal_width', 'petal_length', 'petal_width']\n",
    "irisDF=pd.DataFrame(data=iris.data, columns=feature_names)\n",
    "kmeans=KMeans(n_clusters=3, init='k-means++', max_iter=300, random_state=0).fit(irisDF)\n",
    "irisDF['cluster']=kmeans.labels_\n",
    "\n",
    "score_samples=silhouette_samples(iris.data, irisDF['cluster'])\n",
    "print('silhoutte_samples() return 값의 shape', score_samples.shape)\n",
    "\n",
    "irisDF['silhoutte_coeff']=score_samples\n",
    "\n",
    "average_score=silhouette_score(iris.data, irisDF['cluster'])\n",
    "print('봊꽃 데이터 세트 silhouette analysis score:{0:.3f}'.format(average_score))\n",
    "irisDF.head(3)"
   ]
  },
  {
   "cell_type": "code",
   "execution_count": null,
   "id": "90a0a502",
   "metadata": {},
   "outputs": [],
   "source": [
    "irisDF.groupby('cluster')['silhouette_coeff'].mean()"
   ]
  },
  {
   "cell_type": "code",
   "execution_count": null,
   "id": "a998fbfe",
   "metadata": {},
   "outputs": [],
   "source": [
    "import numpy as np\n",
    "from sklearn.datasets import make_blobs\n",
    "from sklearn.cluster import MeanShift\n",
    "\n",
    "X,y=make_blobs(n_samples=200, n_features=2, centers=3, cluster_std=0.7, random_state=0)\n",
    "\n",
    "meanshift=MeanShift(bandwidth=0.8)\n",
    "cluster_labels=meanshift.fit_predict(X)\n",
    "print('cluster labels 유형: ',np.unique(cluster_labels))"
   ]
  },
  {
   "cell_type": "code",
   "execution_count": null,
   "id": "160140a2",
   "metadata": {},
   "outputs": [],
   "source": [
    "meanshift=MeanShift(bandwidth=1)\n",
    "cluster_labels=meanshift.fit_prediect(X)\n",
    "print('clusterlabels 유형: ', np.unique(cluster_labels))"
   ]
  },
  {
   "cell_type": "code",
   "execution_count": null,
   "id": "9958c1ab",
   "metadata": {},
   "outputs": [],
   "source": [
    "from sklearn.cluster import estimate_bandwidth\n",
    "\n",
    "bandwidth=estimate_bandwidth(X)\n",
    "print('bandwidht 값: ', round(bandwidth, 3))"
   ]
  },
  {
   "cell_type": "code",
   "execution_count": null,
   "id": "b9fdb8f8",
   "metadata": {},
   "outputs": [],
   "source": [
    "import pandas as pd\n",
    "\n",
    "clusterDF=pd.DataFrame(data=X, columns=['ftr1', 'ftr2'])\n",
    "clusterDF['target']=y\n",
    "\n",
    "best_bandwidth=estimate_bandwidth(X)\n",
    "\n",
    "meanshift=MeanShift(bandwidth=best_bandwidth)\n",
    "cluster_lbaels=meanshift.fit_predict(X)\n",
    "print('cluster labels 유형:', np.unique(cluster_labels))"
   ]
  },
  {
   "cell_type": "code",
   "execution_count": null,
   "id": "7abbd027",
   "metadata": {},
   "outputs": [],
   "source": [
    "import matplotlib.pyplot as plt\n",
    "%matplotlib inline\n",
    "\n",
    "clusterDF['meanshift_label']=cluster_labels\n",
    "centers=meanshift.cluster_centers_\n",
    "unique_labels=np.unique(cluster_labels)\n",
    "markers=['o', 's', '^', 'x', '*']\n",
    "\n",
    "for label in unique_labels:\n",
    "    label_cluster=clusterDF[clusterDF['meanshift_label']==label]\n",
    "    center_x_y=centers[label]\n",
    "    \n",
    "    plt.scatter(x=label_cluster['ftr1'], y=label_cluster['ftr2'], edgecolor='k', marker=markers[label])\n",
    "    \n",
    "    plt.scatter(x=center_x_y[0], y=center_x_y[1]. s=200, color='gray', alpha=0.9, marker=markers[label])\n",
    "    plt.scatter(x=center_x_y[0], y=center_x_y[1]. s=70, color='k', edgecolor='k', marker='$%d$ % label')\n",
    "    \n",
    "plt.show()\n",
    "    "
   ]
  },
  {
   "cell_type": "code",
   "execution_count": null,
   "id": "97670d39",
   "metadata": {},
   "outputs": [],
   "source": [
    "print(clusterDF.groupby('target')['meanshift_label'].value_counts())"
   ]
  },
  {
   "cell_type": "code",
   "execution_count": null,
   "id": "2f0fbc9a",
   "metadata": {},
   "outputs": [],
   "source": [
    "iris=load_iris()\n",
    "feature_names=['sepal_length', 'sepal_width', 'petel_length', 'petel_width']\n",
    "\n",
    "irisDF=pd.DataFrame(data=iris.data, columns=feature_names)\n",
    "irisDF['target']=iris.target"
   ]
  },
  {
   "cell_type": "code",
   "execution_count": null,
   "id": "0a344be0",
   "metadata": {},
   "outputs": [],
   "source": [
    "from sklearn.mixture import GaussianMixture\n",
    "\n",
    "gmm=GaussianMixture(n_components=3, random_state=0).fit(iris.data)\n",
    "gmm_cluster_labelsgm..predict(iris.data)\n",
    "\n",
    "irisDF['gmm_cluster']=gmm_cluster_labels\n",
    "irisDF['target']=iris.target\n",
    "\n",
    "iris_result=irisDF.groupby(['target'])['gmm_cluster'].value_counts()\n",
    "print(iris_result)"
   ]
  },
  {
   "cell_type": "code",
   "execution_count": null,
   "id": "dcfe27fe",
   "metadata": {},
   "outputs": [],
   "source": [
    "kmeans=KMeans(n_clusters=3, init='k-means++', max_iter=300, random_state=0).fit(iris.data)\n",
    "kmeans_cluster_labels=kmeans.predict(iris.data)\n",
    "irisDF['kemans_cluster']=kmeans_cluster_labels\n",
    "iris_result=irisDF.groupby(['target'])['kmeans_cluster'].value_counts()\n",
    "print(iris_result)"
   ]
  },
  {
   "cell_type": "code",
   "execution_count": null,
   "id": "c578b0e1",
   "metadata": {},
   "outputs": [],
   "source": [
    "from sklearn.datasets import make_blobs\n",
    "\n",
    "X, y=make_blobs(n_smaples=300, n_features=2, centers=3, cluster_std=0.5, random_state=0)\n",
    "transformation=[[0.608, -0.6366],[-0.4088, 0.8525]]\n",
    "\n",
    "X_aniso=np.dot(X, transformation)\n",
    "\n",
    "clusterDF=pd.DataFrame(data=X_aniso, columns=['ftr1', 'ftr2'])\n",
    "clusterDF['target']=y\n",
    "visualize_cluster_plot(None, clusterDF, 'target', iscenter=False)\n",
    "\n"
   ]
  },
  {
   "cell_type": "code",
   "execution_count": null,
   "id": "7f85212b",
   "metadata": {},
   "outputs": [],
   "source": [
    "kmeans=KMeans(3, random_state=0)\n",
    "kmeans_label=kmeans.fit_predict(X_aniso)\n",
    "clusterDF['kmeans_label']=kmeans_label\n",
    "\n",
    "visualize_cluster_plot(kmeans, clusterDF, 'kmeans_label', iscluster=True)\n",
    "\n",
    "gmm=GaussianMixture(n_components=3, random_state=0)\n",
    "gmm_label=gmm.fit(X_aniso).predict(X_aniso)\n",
    "clusterDF['gmm_label']=gmm_label\n",
    "\n",
    "visualize_cluster_plot(gmm, clusterDF, 'gmm_label', iscluster=False)"
   ]
  },
  {
   "cell_type": "code",
   "execution_count": null,
   "id": "e32ec302",
   "metadata": {},
   "outputs": [],
   "source": [
    "print(clusterDF.groupby('target')['kmeans_label'].value_counts())\n",
    "print(clusterDF.groupby('target')['gmm_label'].value_counts())"
   ]
  },
  {
   "cell_type": "code",
   "execution_count": null,
   "id": "6a53d20e",
   "metadata": {},
   "outputs": [],
   "source": [
    "from sklearn.cluster import DBSCAN\n",
    "\n",
    "dbscan=DBSCAN(eps=0.6, min_samples=8, metric='euclidean')\n",
    "dbscan_labels=dbscan.fit_predict(iris.data)\n",
    "irisDF['dbscan_cluster']=dbscan_labels\n",
    "irisDF['target']=iris.target\n",
    "\n",
    "iris_result=irisDF.groupby(['target'])['dbscan_cluster'].value_counts()\n",
    "print(iris_result)"
   ]
  },
  {
   "cell_type": "code",
   "execution_count": null,
   "id": "d6ffd9ef",
   "metadata": {},
   "outputs": [],
   "source": [
    "from sklearn.decomposition import PCA\n",
    "\n",
    "pca=PCA(n_components=2, random_state=0)\n",
    "pca_transformed=pca.fit_transform(iris.data)\n",
    "irisDF['ftr1']=pca_transformed[:,0]\n",
    "irisDF['ftr2']=pca_transformed[:,1]\n",
    "\n",
    "visualize_cluster_plot(dbscan, irisDF, 'dbscan_cluster', iscenter=False)"
   ]
  },
  {
   "cell_type": "code",
   "execution_count": null,
   "id": "ce42d3e8",
   "metadata": {},
   "outputs": [],
   "source": [
    "dbscan=DBSCAN(eps=0.8, min_samples=8, metric='euclidean')\n",
    "dbscan_labels=dbscan.fit_predict(iris.data)\n",
    "irisDF['dbscan_cluster']=dbscan_labels\n",
    "irisDF['target']=iris.target\n",
    "iris_result=irisDF.groupby(['target'])['dbscan_cluster'].value_counts()\n",
    "print(iris_result)\n",
    "\n",
    "visualize_cluster_2d(irisDF, 'dbscan_cluster', centers=None, legend=True)"
   ]
  },
  {
   "cell_type": "code",
   "execution_count": null,
   "id": "086922c6",
   "metadata": {},
   "outputs": [],
   "source": [
    "dbscan=DBSCAN(eps=0.6, min_samples=16, metric='euclidean')"
   ]
  },
  {
   "cell_type": "code",
   "execution_count": null,
   "id": "0191a0c0",
   "metadata": {},
   "outputs": [],
   "source": [
    "from sklearn.datasets import make_circles\n",
    "\n",
    "X,y=make_circles(n_samples=1000, shuffle=True, noise=0.05, random_state=0, factor=0.5)\n",
    "clusterDF=pd.DataFrame(data=X, columns=['ftr1', 'ftr2'])\n",
    "clusterDF['target']=y\n",
    "visualize_cluster_plot(None, clusterDF, 'target', iscenter=False)"
   ]
  },
  {
   "cell_type": "code",
   "execution_count": null,
   "id": "5aed3eb9",
   "metadata": {},
   "outputs": [],
   "source": [
    "kmeans=KMeans(n_clusters=2, max_iter=1000, random_state=0)\n",
    "kmeans_labels=kmeans.fit_predict(X)\n",
    "clusterDF['kmeans_cluster']=kmeans_labels\n",
    "\n",
    "visualize_cluster_plot(kmeans, clusterDF, 'kmeans_cluster', iscenter=True)"
   ]
  },
  {
   "cell_type": "code",
   "execution_count": null,
   "id": "5e13f73a",
   "metadata": {},
   "outputs": [],
   "source": [
    "from sklearn.mixture import GaussainMixture\n",
    "\n",
    "gmm=GaussianMixture(n_components=2, random_state=0)\n",
    "gmm_label=gmm.fit(X).predict(X)\n",
    "clusterDF['gmm_cluster']=gmm_label\n",
    "\n",
    "visualize_cluster_plot(gmm, clusterDF, 'gmm_cluster', iscenter=False)\n"
   ]
  },
  {
   "cell_type": "code",
   "execution_count": null,
   "id": "306b529e",
   "metadata": {},
   "outputs": [],
   "source": [
    "dbscan=DBSCAN(eps=0,=.2, min_samples=10, metric='euclidean')\n",
    "dbscan_labels=dbscan.fit_predict(X)\n",
    "clusterDF['dbscan_cluster']=dbscan_labels\n",
    "visualize_cluster_plit(dbscan, clusterDF, 'dbscan_cluster', iscenter=False)"
   ]
  }
 ],
 "metadata": {
  "kernelspec": {
   "display_name": "Python 3",
   "language": "python",
   "name": "python3"
  },
  "language_info": {
   "codemirror_mode": {
    "name": "ipython",
    "version": 3
   },
   "file_extension": ".py",
   "mimetype": "text/x-python",
   "name": "python",
   "nbconvert_exporter": "python",
   "pygments_lexer": "ipython3",
   "version": "3.8.8"
  }
 },
 "nbformat": 4,
 "nbformat_minor": 5
}
