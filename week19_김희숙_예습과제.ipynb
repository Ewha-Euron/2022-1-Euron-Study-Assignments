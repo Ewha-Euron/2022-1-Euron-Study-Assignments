{
  "cells": [
    {
      "cell_type": "markdown",
      "metadata": {
        "id": "VB2w6aqFG1Mh"
      },
      "source": [
        "# **1. 데이터 및 라이브러리 불러오기**"
      ]
    },
    {
      "cell_type": "code",
      "execution_count": null,
      "metadata": {
        "id": "VYP2ypq6G1Mr"
      },
      "outputs": [],
      "source": [
        "import pandas as pd\n",
        "import numpy as np\n",
        "import matplotlib.pyplot as plt\n",
        "import re\n",
        "import json\n",
        "import os\n",
        "import tqdm\n",
        "\n",
        "from konlpy.tag import Okt\n",
        "\n",
        "import sklearn\n",
        "from sklearn.preprocessing import LabelEncoder\n",
        "\n",
        "from sklearn.metrics import log_loss, accuracy_score,f1_score\n",
        "import tensorflow as tf\n",
        "from tensorflow.keras.preprocessing.sequence import pad_sequences\n",
        "from tensorflow.keras.preprocessing.text import Tokenizer\n",
        "from tensorflow.keras.callbacks import EarlyStopping, ModelCheckpoint\n",
        "from transformers import *"
      ]
    },
    {
      "cell_type": "code",
      "execution_count": null,
      "metadata": {
        "id": "NuRT-ijiG1Mv"
      },
      "outputs": [],
      "source": [
        "train=pd.read_csv('train.csv')\n",
        "test=pd.read_csv('test.csv')\n",
        "sample_submission=pd.read_csv('sample_submission.csv')"
      ]
    },
    {
      "cell_type": "markdown",
      "metadata": {
        "id": "oD1EcmQOG1Mw"
      },
      "source": [
        "# **2. 데이터 EDA**"
      ]
    },
    {
      "cell_type": "code",
      "execution_count": null,
      "metadata": {
        "id": "sNO4CkCWG1Mx",
        "outputId": "c0ed4d11-f90f-4ec2-e6ad-5e6536581749"
      },
      "outputs": [
        {
          "data": {
            "text/html": [
              "<div>\n",
              "<style scoped>\n",
              "    .dataframe tbody tr th:only-of-type {\n",
              "        vertical-align: middle;\n",
              "    }\n",
              "\n",
              "    .dataframe tbody tr th {\n",
              "        vertical-align: top;\n",
              "    }\n",
              "\n",
              "    .dataframe thead th {\n",
              "        text-align: right;\n",
              "    }\n",
              "</style>\n",
              "<table border=\"1\" class=\"dataframe\">\n",
              "  <thead>\n",
              "    <tr style=\"text-align: right;\">\n",
              "      <th></th>\n",
              "      <th>index</th>\n",
              "      <th>제출년도</th>\n",
              "      <th>사업명</th>\n",
              "      <th>사업_부처명</th>\n",
              "      <th>계속과제여부</th>\n",
              "      <th>내역사업명</th>\n",
              "      <th>과제명</th>\n",
              "      <th>요약문_연구목표</th>\n",
              "      <th>요약문_연구내용</th>\n",
              "      <th>요약문_기대효과</th>\n",
              "      <th>요약문_한글키워드</th>\n",
              "      <th>요약문_영문키워드</th>\n",
              "      <th>label</th>\n",
              "    </tr>\n",
              "  </thead>\n",
              "  <tbody>\n",
              "    <tr>\n",
              "      <th>0</th>\n",
              "      <td>0</td>\n",
              "      <td>2016</td>\n",
              "      <td>농업기초기반연구</td>\n",
              "      <td>농촌진흥청</td>\n",
              "      <td>신규</td>\n",
              "      <td>농산물안전성연구</td>\n",
              "      <td>유전정보를 활용한 새로운 해충 분류군 동정기술 개발</td>\n",
              "      <td>○ 새로운 해충분류군의 동정기술 개발 및 유입확산 추적</td>\n",
              "      <td>(가) 외래 및 돌발해충의 발생조사 및 종 동정\\n\\n\\n    ○ 대상해충 : 최...</td>\n",
              "      <td>○ 새로운 돌발 및 외래해충의 신속, 정확한 동정법 향상\\n\\n\\n○ 돌발 및 외래...</td>\n",
              "      <td>뉴클레오티드 염기서열, 분자마커, 종 동정, 침샘, 전사체</td>\n",
              "      <td>nucleotide sequence, molecular marker, species...</td>\n",
              "      <td>24</td>\n",
              "    </tr>\n",
              "    <tr>\n",
              "      <th>1</th>\n",
              "      <td>1</td>\n",
              "      <td>2019</td>\n",
              "      <td>이공학학술연구기반구축(R&amp;D)</td>\n",
              "      <td>교육부</td>\n",
              "      <td>신규</td>\n",
              "      <td>지역대학우수과학자지원사업(1년~5년)</td>\n",
              "      <td>대장암의 TRAIL 내성 표적 인자 발굴 및 TRAIL 반응 예측 유전자 지도 구축...</td>\n",
              "      <td>최종목표:  TRAIL 감수성 표적 유전자를 발굴하고 내성제어 기전을 연구. 발굴된...</td>\n",
              "      <td>1차년도\\n1) Microarray를 통한 선천적 TRAIL 내성 표적 후보 유전자...</td>\n",
              "      <td>1) TRAIL 내성 특이적 표적분자를 발굴하고, 이를 이용한 TRAIL 효과 증진...</td>\n",
              "      <td>대장암,항암제 내성,세포사멸,유전자발굴</td>\n",
              "      <td>TRAIL,Colorectal cancer,TRAIL resistance,Apopt...</td>\n",
              "      <td>0</td>\n",
              "    </tr>\n",
              "  </tbody>\n",
              "</table>\n",
              "</div>"
            ],
            "text/plain": [
              "   index  제출년도               사업명 사업_부처명 계속과제여부                 내역사업명  \\\n",
              "0      0  2016          농업기초기반연구  농촌진흥청     신규              농산물안전성연구   \n",
              "1      1  2019  이공학학술연구기반구축(R&D)    교육부     신규  지역대학우수과학자지원사업(1년~5년)   \n",
              "\n",
              "                                                 과제명  \\\n",
              "0                       유전정보를 활용한 새로운 해충 분류군 동정기술 개발   \n",
              "1  대장암의 TRAIL 내성 표적 인자 발굴 및 TRAIL 반응 예측 유전자 지도 구축...   \n",
              "\n",
              "                                            요약문_연구목표  \\\n",
              "0                     ○ 새로운 해충분류군의 동정기술 개발 및 유입확산 추적   \n",
              "1  최종목표:  TRAIL 감수성 표적 유전자를 발굴하고 내성제어 기전을 연구. 발굴된...   \n",
              "\n",
              "                                            요약문_연구내용  \\\n",
              "0  (가) 외래 및 돌발해충의 발생조사 및 종 동정\\n\\n\\n    ○ 대상해충 : 최...   \n",
              "1  1차년도\\n1) Microarray를 통한 선천적 TRAIL 내성 표적 후보 유전자...   \n",
              "\n",
              "                                            요약문_기대효과  \\\n",
              "0  ○ 새로운 돌발 및 외래해충의 신속, 정확한 동정법 향상\\n\\n\\n○ 돌발 및 외래...   \n",
              "1  1) TRAIL 내성 특이적 표적분자를 발굴하고, 이를 이용한 TRAIL 효과 증진...   \n",
              "\n",
              "                          요약문_한글키워드  \\\n",
              "0  뉴클레오티드 염기서열, 분자마커, 종 동정, 침샘, 전사체   \n",
              "1             대장암,항암제 내성,세포사멸,유전자발굴   \n",
              "\n",
              "                                           요약문_영문키워드  label  \n",
              "0  nucleotide sequence, molecular marker, species...     24  \n",
              "1  TRAIL,Colorectal cancer,TRAIL resistance,Apopt...      0  "
            ]
          },
          "execution_count": 109,
          "metadata": {},
          "output_type": "execute_result"
        }
      ],
      "source": [
        "train.head(2)"
      ]
    },
    {
      "cell_type": "code",
      "execution_count": null,
      "metadata": {
        "id": "PPTlScQcG1Mz",
        "outputId": "9d3fd575-2b8c-4cef-9168-ba492880a69c"
      },
      "outputs": [
        {
          "data": {
            "text/html": [
              "<div>\n",
              "<style scoped>\n",
              "    .dataframe tbody tr th:only-of-type {\n",
              "        vertical-align: middle;\n",
              "    }\n",
              "\n",
              "    .dataframe tbody tr th {\n",
              "        vertical-align: top;\n",
              "    }\n",
              "\n",
              "    .dataframe thead th {\n",
              "        text-align: right;\n",
              "    }\n",
              "</style>\n",
              "<table border=\"1\" class=\"dataframe\">\n",
              "  <thead>\n",
              "    <tr style=\"text-align: right;\">\n",
              "      <th></th>\n",
              "      <th>index</th>\n",
              "      <th>제출년도</th>\n",
              "      <th>사업명</th>\n",
              "      <th>사업_부처명</th>\n",
              "      <th>계속과제여부</th>\n",
              "      <th>내역사업명</th>\n",
              "      <th>과제명</th>\n",
              "      <th>요약문_연구목표</th>\n",
              "      <th>요약문_연구내용</th>\n",
              "      <th>요약문_기대효과</th>\n",
              "      <th>요약문_한글키워드</th>\n",
              "      <th>요약문_영문키워드</th>\n",
              "    </tr>\n",
              "  </thead>\n",
              "  <tbody>\n",
              "    <tr>\n",
              "      <th>0</th>\n",
              "      <td>174304</td>\n",
              "      <td>2016</td>\n",
              "      <td>경제협력권산업육성</td>\n",
              "      <td>산업통상자원부</td>\n",
              "      <td>신규</td>\n",
              "      <td>자동차융합부품</td>\n",
              "      <td>R-FSSW 기술 적용 경량 차체 부품 개발 및 품질 평가를 위한 64채널 C-SC...</td>\n",
              "      <td>○ 차체 점용접부의 품질 검사를 위한 64채널 무선 기반 C-Scan 탐촉자 개발\\...</td>\n",
              "      <td>○ 1차년도\\n\\n    . 개발 탐촉 시스템의 성능 평가 위한 표준 시편 제작 시...</td>\n",
              "      <td>○ 기술적 파급효과\\n\\n  - 본 연구에서 개발된 R-FSSW 접합 기술은 기존 ...</td>\n",
              "      <td>마찰교반점용접, 비파괴 검사, 초음파 탐상, 씨 스캔, 용접 품질 평가</td>\n",
              "      <td>Friction Stir Spot Welding, Non-destructive ev...</td>\n",
              "    </tr>\n",
              "    <tr>\n",
              "      <th>1</th>\n",
              "      <td>174305</td>\n",
              "      <td>2018</td>\n",
              "      <td>개인기초연구(과기정통부)(R&amp;D)</td>\n",
              "      <td>과학기술정보통신부</td>\n",
              "      <td>계속</td>\n",
              "      <td>신진연구(총연구비5천이상~1.5억이하)</td>\n",
              "      <td>다입자계를 묘사하는 편미분방정식에 대한 연구</td>\n",
              "      <td>자연계에는 입자의 개수가 아주 큰 다양한 다입자계가 존재한다.  이런 다입자계의 효...</td>\n",
              "      <td>연구과제1. 무한입자계의 동역학 / 작용소(operator) 방정식에 대한 연구\\n...</td>\n",
              "      <td>본 연구는 물리학에서 중요한 대상인 다입자계를 묘사하는 모델방정식의 정당성을 보장하...</td>\n",
              "      <td>다체계 방정식,동역학의 안정성,양자역학,고전역학,평균장 극한,고전극한,비상대론적 극한</td>\n",
              "      <td>many particle system,stability of dynamics,qua...</td>\n",
              "    </tr>\n",
              "  </tbody>\n",
              "</table>\n",
              "</div>"
            ],
            "text/plain": [
              "    index  제출년도                 사업명     사업_부처명 계속과제여부                  내역사업명  \\\n",
              "0  174304  2016           경제협력권산업육성    산업통상자원부     신규                자동차융합부품   \n",
              "1  174305  2018  개인기초연구(과기정통부)(R&D)  과학기술정보통신부     계속  신진연구(총연구비5천이상~1.5억이하)   \n",
              "\n",
              "                                                 과제명  \\\n",
              "0  R-FSSW 기술 적용 경량 차체 부품 개발 및 품질 평가를 위한 64채널 C-SC...   \n",
              "1                           다입자계를 묘사하는 편미분방정식에 대한 연구   \n",
              "\n",
              "                                            요약문_연구목표  \\\n",
              "0  ○ 차체 점용접부의 품질 검사를 위한 64채널 무선 기반 C-Scan 탐촉자 개발\\...   \n",
              "1  자연계에는 입자의 개수가 아주 큰 다양한 다입자계가 존재한다.  이런 다입자계의 효...   \n",
              "\n",
              "                                            요약문_연구내용  \\\n",
              "0  ○ 1차년도\\n\\n    . 개발 탐촉 시스템의 성능 평가 위한 표준 시편 제작 시...   \n",
              "1  연구과제1. 무한입자계의 동역학 / 작용소(operator) 방정식에 대한 연구\\n...   \n",
              "\n",
              "                                            요약문_기대효과  \\\n",
              "0  ○ 기술적 파급효과\\n\\n  - 본 연구에서 개발된 R-FSSW 접합 기술은 기존 ...   \n",
              "1  본 연구는 물리학에서 중요한 대상인 다입자계를 묘사하는 모델방정식의 정당성을 보장하...   \n",
              "\n",
              "                                         요약문_한글키워드  \\\n",
              "0          마찰교반점용접, 비파괴 검사, 초음파 탐상, 씨 스캔, 용접 품질 평가   \n",
              "1  다체계 방정식,동역학의 안정성,양자역학,고전역학,평균장 극한,고전극한,비상대론적 극한   \n",
              "\n",
              "                                           요약문_영문키워드  \n",
              "0  Friction Stir Spot Welding, Non-destructive ev...  \n",
              "1  many particle system,stability of dynamics,qua...  "
            ]
          },
          "execution_count": 110,
          "metadata": {},
          "output_type": "execute_result"
        }
      ],
      "source": [
        "test.head(2)"
      ]
    },
    {
      "cell_type": "code",
      "execution_count": null,
      "metadata": {
        "id": "A6YGuk5WG1M1",
        "outputId": "1c182dc8-faf6-415f-e0b0-84b5ad12a9c7"
      },
      "outputs": [
        {
          "data": {
            "text/html": [
              "<div>\n",
              "<style scoped>\n",
              "    .dataframe tbody tr th:only-of-type {\n",
              "        vertical-align: middle;\n",
              "    }\n",
              "\n",
              "    .dataframe tbody tr th {\n",
              "        vertical-align: top;\n",
              "    }\n",
              "\n",
              "    .dataframe thead th {\n",
              "        text-align: right;\n",
              "    }\n",
              "</style>\n",
              "<table border=\"1\" class=\"dataframe\">\n",
              "  <thead>\n",
              "    <tr style=\"text-align: right;\">\n",
              "      <th></th>\n",
              "      <th>index</th>\n",
              "      <th>label</th>\n",
              "    </tr>\n",
              "  </thead>\n",
              "  <tbody>\n",
              "    <tr>\n",
              "      <th>0</th>\n",
              "      <td>174304</td>\n",
              "      <td>0</td>\n",
              "    </tr>\n",
              "    <tr>\n",
              "      <th>1</th>\n",
              "      <td>174305</td>\n",
              "      <td>0</td>\n",
              "    </tr>\n",
              "    <tr>\n",
              "      <th>2</th>\n",
              "      <td>174306</td>\n",
              "      <td>0</td>\n",
              "    </tr>\n",
              "    <tr>\n",
              "      <th>3</th>\n",
              "      <td>174307</td>\n",
              "      <td>0</td>\n",
              "    </tr>\n",
              "    <tr>\n",
              "      <th>4</th>\n",
              "      <td>174308</td>\n",
              "      <td>0</td>\n",
              "    </tr>\n",
              "    <tr>\n",
              "      <th>5</th>\n",
              "      <td>174309</td>\n",
              "      <td>0</td>\n",
              "    </tr>\n",
              "  </tbody>\n",
              "</table>\n",
              "</div>"
            ],
            "text/plain": [
              "    index  label\n",
              "0  174304      0\n",
              "1  174305      0\n",
              "2  174306      0\n",
              "3  174307      0\n",
              "4  174308      0\n",
              "5  174309      0"
            ]
          },
          "execution_count": 117,
          "metadata": {},
          "output_type": "execute_result"
        }
      ],
      "source": [
        "sample_submission.head(6)"
      ]
    },
    {
      "cell_type": "code",
      "execution_count": null,
      "metadata": {
        "id": "u5X2HhFFG1M2",
        "outputId": "5d907a78-c14e-4764-c746-940e1e6b6d12"
      },
      "outputs": [
        {
          "data": {
            "text/plain": [
              "Index(['index', '제출년도', '사업명', '사업_부처명', '계속과제여부', '내역사업명', '과제명', '요약문_연구목표',\n",
              "       '요약문_연구내용', '요약문_기대효과', '요약문_한글키워드', '요약문_영문키워드', 'label'],\n",
              "      dtype='object')"
            ]
          },
          "execution_count": 112,
          "metadata": {},
          "output_type": "execute_result"
        }
      ],
      "source": [
        "train.columns"
      ]
    },
    {
      "cell_type": "code",
      "execution_count": null,
      "metadata": {
        "id": "La4ho1nhG1M3",
        "outputId": "ff5fffcd-8422-431c-9d4b-2f804dc56c05"
      },
      "outputs": [
        {
          "data": {
            "text/plain": [
              "Index(['index', '제출년도', '사업명', '사업_부처명', '계속과제여부', '내역사업명', '과제명', '요약문_연구목표',\n",
              "       '요약문_연구내용', '요약문_기대효과', '요약문_한글키워드', '요약문_영문키워드'],\n",
              "      dtype='object')"
            ]
          },
          "execution_count": 113,
          "metadata": {},
          "output_type": "execute_result"
        }
      ],
      "source": [
        "test.columns"
      ]
    },
    {
      "cell_type": "code",
      "execution_count": null,
      "metadata": {
        "id": "MIawLOeiG1M5",
        "outputId": "f6df0485-dfb0-4a4c-93ac-9844d64b67f3"
      },
      "outputs": [
        {
          "name": "stdout",
          "output_type": "stream",
          "text": [
            "(174304, 13)\n",
            "(43576, 12)\n",
            "(43576, 2)\n"
          ]
        }
      ],
      "source": [
        "#데이터 구조 파악\n",
        "print(train.shape)\n",
        "print(test.shape)\n",
        "print(sample_submission.shape)"
      ]
    },
    {
      "cell_type": "code",
      "execution_count": null,
      "metadata": {
        "id": "ZVZ4A5L4G1M7",
        "outputId": "a6b7b0b3-30b4-4cd6-8d07-63451d451ebc"
      },
      "outputs": [
        {
          "data": {
            "text/plain": [
              "0     0.817945\n",
              "1     0.007234\n",
              "2     0.001578\n",
              "3     0.000820\n",
              "4     0.000327\n",
              "5     0.009742\n",
              "6     0.000447\n",
              "7     0.000648\n",
              "8     0.001945\n",
              "9     0.000608\n",
              "10    0.003775\n",
              "11    0.001147\n",
              "12    0.001538\n",
              "13    0.003299\n",
              "14    0.009592\n",
              "15    0.000947\n",
              "16    0.002903\n",
              "17    0.000884\n",
              "18    0.008893\n",
              "19    0.028330\n",
              "20    0.006076\n",
              "21    0.002846\n",
              "22    0.000849\n",
              "23    0.010556\n",
              "24    0.020195\n",
              "25    0.004647\n",
              "26    0.001813\n",
              "27    0.003557\n",
              "28    0.002576\n",
              "29    0.005898\n",
              "30    0.001342\n",
              "31    0.005290\n",
              "32    0.001492\n",
              "33    0.003058\n",
              "34    0.003001\n",
              "35    0.001669\n",
              "36    0.006081\n",
              "37    0.001526\n",
              "38    0.001503\n",
              "39    0.001159\n",
              "40    0.002530\n",
              "41    0.000384\n",
              "42    0.000293\n",
              "43    0.002014\n",
              "44    0.000522\n",
              "45    0.006523\n",
              "Name: label, dtype: float64"
            ]
          },
          "execution_count": 115,
          "metadata": {},
          "output_type": "execute_result"
        }
      ],
      "source": [
        "#심각한 불균형 데이터임을 알 수 있습니다.\n",
        "train.label.value_counts(sort=False)/len(train)"
      ]
    },
    {
      "cell_type": "code",
      "execution_count": null,
      "metadata": {
        "id": "eqYZQAZnG1M7",
        "outputId": "3e0ffe9a-356d-45e4-ae8e-f3b7c78cd1ad"
      },
      "outputs": [
        {
          "name": "stdout",
          "output_type": "stream",
          "text": [
            "과제명 길이 최댓값: 229\n",
            "과제명 길이 최솟값: 2\n",
            "과제명 길이 평균값: 35.84252225995961\n",
            "과제명 길이 중간값: 34.0\n"
          ]
        },
        {
          "data": {
            "image/png": "[encoded data removed]",
            "text/plain": [
              "<Figure size 432x288 with 1 Axes>"
            ]
          },
          "metadata": {
            "needs_background": "light"
          },
          "output_type": "display_data"
        },
        {
          "data": {
            "image/png": "[encoded data removed]",
            "text/plain": [
              "<Figure size 864x360 with 1 Axes>"
            ]
          },
          "metadata": {
            "needs_background": "light"
          },
          "output_type": "display_data"
        }
      ],
      "source": [
        "length=train['과제명'].astype(str).apply(len)\n",
        "plt.hist(length, bins=50, alpha=0.5, color='r', label='word')\n",
        "plt.title('histogram of length of task_name')\n",
        "plt.figure(figsize=(12, 5))\n",
        "plt.boxplot(length, labels=['counts'], showmeans=True)\n",
        "print('과제명 길이 최댓값: {}'.format(np.max(length)))\n",
        "print('과제명 길이 최솟값: {}'.format(np.min(length)))\n",
        "print('과제명 길이 평균값: {}'.format(np.mean(length)))\n",
        "print('과제명 길이 중간값: {}'.format(np.median(length)))"
      ]
    },
    {
      "cell_type": "code",
      "execution_count": null,
      "metadata": {
        "id": "Pv-MWn4vG1M8",
        "outputId": "52d4b890-f122-4be6-a8f9-cd84cb248bd1"
      },
      "outputs": [
        {
          "name": "stdout",
          "output_type": "stream",
          "text": [
            "요약문_연구목표 길이 최댓값: 3951\n",
            "요약문_연구목표 길이 최솟값: 1\n",
            "요약문_연구목표 길이 평균값: 318.1008066366807\n",
            "요약문_연구목표 길이 중간값: 249.0\n"
          ]
        },
        {
          "data": {
            "image/png": "[encoded data removed]",
            "text/plain": [
              "<Figure size 432x288 with 1 Axes>"
            ]
          },
          "metadata": {
            "needs_background": "light"
          },
          "output_type": "display_data"
        },
        {
          "data": {
            "image/png": "[encoded data removed]",
            "text/plain": [
              "<Figure size 864x360 with 1 Axes>"
            ]
          },
          "metadata": {
            "needs_background": "light"
          },
          "output_type": "display_data"
        }
      ],
      "source": [
        "length=train['요약문_연구목표'].astype(str).apply(len)\n",
        "plt.hist(length, bins=50, alpha=0.5, color='r', label='word')\n",
        "plt.title('histogram of length of summary_object')\n",
        "plt.figure(figsize=(12, 5))\n",
        "plt.boxplot(length, labels=['counts'], showmeans=True)\n",
        "print('요약문_연구목표 길이 최댓값: {}'.format(np.max(length)))\n",
        "print('요약문_연구목표 길이 최솟값: {}'.format(np.min(length)))\n",
        "print('요약문_연구목표 길이 평균값: {}'.format(np.mean(length)))\n",
        "print('요약문_연구목표 길이 중간값: {}'.format(np.median(length)))"
      ]
    },
    {
      "cell_type": "code",
      "execution_count": null,
      "metadata": {
        "id": "o1kWtNfSG1M9",
        "outputId": "0d753fdd-38a6-48bd-bfe9-1f38d1bc7db3"
      },
      "outputs": [
        {
          "name": "stdout",
          "output_type": "stream",
          "text": [
            "요약문_연구내용 길이 최댓값: 3999\n",
            "요약문_연구내용 길이 최솟값: 1\n",
            "요약문_연구내용 길이 평균값: 699.2930282724435\n",
            "요약문_연구내용 길이 중간값: 597.0\n"
          ]
        },
        {
          "data": {
            "image/png": "[encoded data removed]",
            "text/plain": [
              "<Figure size 432x288 with 1 Axes>"
            ]
          },
          "metadata": {
            "needs_background": "light"
          },
          "output_type": "display_data"
        },
        {
          "data": {
            "image/png": "[encoded data removed]",
            "text/plain": [
              "<Figure size 864x360 with 1 Axes>"
            ]
          },
          "metadata": {
            "needs_background": "light"
          },
          "output_type": "display_data"
        }
      ],
      "source": [
        "length=train['요약문_연구내용'].astype(str).apply(len)\n",
        "plt.hist(length, bins=50, alpha=0.5, color='r', label='word')\n",
        "plt.title('histogram of length of summary_content')\n",
        "plt.figure(figsize=(12, 5))\n",
        "plt.boxplot(length, labels=['counts'], showmeans=True)\n",
        "print('요약문_연구내용 길이 최댓값: {}'.format(np.max(length)))\n",
        "print('요약문_연구내용 길이 최솟값: {}'.format(np.min(length)))\n",
        "print('요약문_연구내용 길이 평균값: {}'.format(np.mean(length)))\n",
        "print('요약문_연구내용 길이 중간값: {}'.format(np.median(length)))"
      ]
    },
    {
      "cell_type": "code",
      "execution_count": null,
      "metadata": {
        "id": "PcOSA2UrG1M-",
        "outputId": "facd11fa-2a9e-45d4-8c0e-a5169bd3aee1"
      },
      "outputs": [
        {
          "name": "stdout",
          "output_type": "stream",
          "text": [
            "요약문_기대효과 길이 최댓값: 3649\n",
            "요약문_기대효과 길이 최솟값: 1\n",
            "요약문_기대효과 길이 평균값: 400.4864374885258\n",
            "요약문_기대효과 길이 중간값: 329.0\n"
          ]
        },
        {
          "data": {
            "image/png": "[encoded data removed]",
            "text/plain": [
              "<Figure size 432x288 with 1 Axes>"
            ]
          },
          "metadata": {
            "needs_background": "light"
          },
          "output_type": "display_data"
        },
        {
          "data": {
            "image/png": "[encoded data removed]",
            "text/plain": [
              "<Figure size 864x360 with 1 Axes>"
            ]
          },
          "metadata": {
            "needs_background": "light"
          },
          "output_type": "display_data"
        }
      ],
      "source": [
        "length=train['요약문_기대효과'].astype(str).apply(len)\n",
        "plt.hist(length, bins=50, alpha=0.5, color='r', label='word')\n",
        "plt.title('histogram of length of summary_effect')\n",
        "plt.figure(figsize=(12, 5))\n",
        "plt.boxplot(length, labels=['counts'], showmeans=True)\n",
        "print('요약문_기대효과 길이 최댓값: {}'.format(np.max(length)))\n",
        "print('요약문_기대효과 길이 최솟값: {}'.format(np.min(length)))\n",
        "print('요약문_기대효과 길이 평균값: {}'.format(np.mean(length)))\n",
        "print('요약문_기대효과 길이 중간값: {}'.format(np.median(length)))"
      ]
    },
    {
      "cell_type": "markdown",
      "source": [
        "# **LSTM**"
      ],
      "metadata": {
        "id": "ucpfx1v_HSjB"
      }
    },
    {
      "cell_type": "markdown",
      "metadata": {
        "id": "2IrIyNptG1M-"
      },
      "source": [
        "### 데이터 전처리"
      ]
    },
    {
      "cell_type": "code",
      "execution_count": null,
      "metadata": {
        "id": "z6iLCH-AG1M_"
      },
      "outputs": [],
      "source": [
        "#해당 baseline 에서는 과제명 columns만 활용했습니다.\n",
        "#다채로운 변수 활용법으로 성능을 높여주세요!\n",
        "train=train[['과제명','label']]\n",
        "test=test[['과제명']]"
      ]
    },
    {
      "cell_type": "code",
      "execution_count": null,
      "metadata": {
        "id": "4Npx79nOG1M_",
        "outputId": "37cd562c-68e6-44ae-9e90-022088e77278"
      },
      "outputs": [
        {
          "data": {
            "text/html": [
              "<div>\n",
              "<style scoped>\n",
              "    .dataframe tbody tr th:only-of-type {\n",
              "        vertical-align: middle;\n",
              "    }\n",
              "\n",
              "    .dataframe tbody tr th {\n",
              "        vertical-align: top;\n",
              "    }\n",
              "\n",
              "    .dataframe thead th {\n",
              "        text-align: right;\n",
              "    }\n",
              "</style>\n",
              "<table border=\"1\" class=\"dataframe\">\n",
              "  <thead>\n",
              "    <tr style=\"text-align: right;\">\n",
              "      <th></th>\n",
              "      <th>과제명</th>\n",
              "      <th>label</th>\n",
              "    </tr>\n",
              "  </thead>\n",
              "  <tbody>\n",
              "    <tr>\n",
              "      <th>0</th>\n",
              "      <td>유전정보를 활용한 새로운 해충 분류군 동정기술 개발</td>\n",
              "      <td>24</td>\n",
              "    </tr>\n",
              "    <tr>\n",
              "      <th>1</th>\n",
              "      <td>대장암의 TRAIL 내성 표적 인자 발굴 및 TRAIL 반응 예측 유전자 지도 구축...</td>\n",
              "      <td>0</td>\n",
              "    </tr>\n",
              "  </tbody>\n",
              "</table>\n",
              "</div>"
            ],
            "text/plain": [
              "                                                 과제명  label\n",
              "0                       유전정보를 활용한 새로운 해충 분류군 동정기술 개발     24\n",
              "1  대장암의 TRAIL 내성 표적 인자 발굴 및 TRAIL 반응 예측 유전자 지도 구축...      0"
            ]
          },
          "execution_count": 62,
          "metadata": {},
          "output_type": "execute_result"
        }
      ],
      "source": [
        "train.head(2)"
      ]
    },
    {
      "cell_type": "code",
      "execution_count": null,
      "metadata": {
        "id": "EQ2nhDZdG1NA",
        "outputId": "964c1a54-38f8-4f64-c421-8e83b1f996f1"
      },
      "outputs": [
        {
          "data": {
            "text/html": [
              "<div>\n",
              "<style scoped>\n",
              "    .dataframe tbody tr th:only-of-type {\n",
              "        vertical-align: middle;\n",
              "    }\n",
              "\n",
              "    .dataframe tbody tr th {\n",
              "        vertical-align: top;\n",
              "    }\n",
              "\n",
              "    .dataframe thead th {\n",
              "        text-align: right;\n",
              "    }\n",
              "</style>\n",
              "<table border=\"1\" class=\"dataframe\">\n",
              "  <thead>\n",
              "    <tr style=\"text-align: right;\">\n",
              "      <th></th>\n",
              "      <th>과제명</th>\n",
              "    </tr>\n",
              "  </thead>\n",
              "  <tbody>\n",
              "    <tr>\n",
              "      <th>0</th>\n",
              "      <td>R-FSSW 기술 적용 경량 차체 부품 개발 및 품질 평가를 위한 64채널 C-SC...</td>\n",
              "    </tr>\n",
              "    <tr>\n",
              "      <th>1</th>\n",
              "      <td>다입자계를 묘사하는 편미분방정식에 대한 연구</td>\n",
              "    </tr>\n",
              "  </tbody>\n",
              "</table>\n",
              "</div>"
            ],
            "text/plain": [
              "                                                 과제명\n",
              "0  R-FSSW 기술 적용 경량 차체 부품 개발 및 품질 평가를 위한 64채널 C-SC...\n",
              "1                           다입자계를 묘사하는 편미분방정식에 대한 연구"
            ]
          },
          "execution_count": 63,
          "metadata": {},
          "output_type": "execute_result"
        }
      ],
      "source": [
        "test.head(2)"
      ]
    },
    {
      "cell_type": "code",
      "execution_count": null,
      "metadata": {
        "id": "oQ5sdNpQG1NB"
      },
      "outputs": [],
      "source": [
        "#1. re.sub 한글 및 공백을 제외한 문자 제거\n",
        "#2. okt 객체를 활용해 형태소 단위로 나눔\n",
        "#3. remove_stopwords로 불용어 제거 \n",
        "def preprocessing(text, okt, remove_stopwords=False, stop_words=[]):\n",
        "    text=re.sub(\"[^가-힣ㄱ-ㅎㅏ-ㅣ]\",\"\", text)\n",
        "    word_text=okt.morphs(text, stem=True)\n",
        "    if remove_stopwords:\n",
        "        word_review=[token for token in word_text if not token in stop_words]\n",
        "    return word_review"
      ]
    },
    {
      "cell_type": "code",
      "execution_count": null,
      "metadata": {
        "id": "5tCWzJBuG1NB"
      },
      "outputs": [],
      "source": [
        "stop_words=['은','는','이','가', '하','아','것','들','의','있','되','수','보','주','등','한']\n",
        "okt=Okt()\n",
        "clean_train_text=[]\n",
        "clean_test_text=[]"
      ]
    },
    {
      "cell_type": "code",
      "execution_count": null,
      "metadata": {
        "id": "cFLVPiRsG1NC",
        "outputId": "cc0b1362-5efa-4301-eddb-92223f4e5f18"
      },
      "outputs": [
        {
          "name": "stderr",
          "output_type": "stream",
          "text": [
            "100%|██████████| 174304/174304 [57:37<00:00, 50.41it/s] \n"
          ]
        }
      ],
      "source": [
        "#시간이 많이 걸립니다.\n",
        "for text in tqdm.tqdm(train['과제명']):\n",
        "    try:\n",
        "        clean_train_text.append(preprocessing(text, okt, remove_stopwords=True, stop_words=stop_words))\n",
        "    except:\n",
        "        clean_train_text.append([])\n",
        "    "
      ]
    },
    {
      "cell_type": "code",
      "execution_count": null,
      "metadata": {
        "id": "w_yEivdjG1ND",
        "outputId": "ea9f9eac-055e-45b9-ac4a-b6ab8515e43e"
      },
      "outputs": [
        {
          "name": "stderr",
          "output_type": "stream",
          "text": [
            "100%|██████████| 43576/43576 [15:29<00:00, 46.89it/s]\n"
          ]
        }
      ],
      "source": [
        "for text in tqdm.tqdm(test['과제명']):\n",
        "    if type(text) == str:\n",
        "        clean_test_text.append(preprocessing(text, okt, remove_stopwords=True, stop_words=stop_words))\n",
        "    else:\n",
        "        clean_test_text.append([])"
      ]
    },
    {
      "cell_type": "code",
      "execution_count": null,
      "metadata": {
        "id": "84acpVlTG1NE",
        "outputId": "cc1de942-2469-40bf-f0c6-67d027560c0b"
      },
      "outputs": [
        {
          "name": "stdout",
          "output_type": "stream",
          "text": [
            "174304\n",
            "43576\n"
          ]
        }
      ],
      "source": [
        "print(len(clean_train_text))\n",
        "print(len(clean_test_text))"
      ]
    },
    {
      "cell_type": "code",
      "execution_count": null,
      "metadata": {
        "id": "NE1hBG3cG1NF"
      },
      "outputs": [],
      "source": [
        "#텐서플로의 전처리 모듈을 활용해 토크나이징 객체를 만든 후 인덱스 벡터로 전환\n",
        "tokenizer=Tokenizer()\n",
        "tokenizer.fit_on_texts(clean_train_text)\n",
        "\n",
        "train_sequences=tokenizer.texts_to_sequences(clean_train_text)\n",
        "test_sequences=tokenizer.texts_to_sequences(clean_test_text)\n",
        "word_vocab=tokenizer.word_index\n",
        "\n",
        "#패딩 처리\n",
        "train_inputs=pad_sequences(train_sequences, maxlen=40, padding='post')\n",
        "test_inputs=pad_sequences(test_sequences, maxlen=40, padding='post')"
      ]
    },
    {
      "cell_type": "code",
      "execution_count": null,
      "metadata": {
        "id": "kYOnEW9-G1NF",
        "outputId": "30b67abc-6d1d-4c63-dde0-a4743648af9f"
      },
      "outputs": [
        {
          "name": "stdout",
          "output_type": "stream",
          "text": [
            "(174304, 40)\n",
            "(43576, 40)\n"
          ]
        }
      ],
      "source": [
        "print(train_inputs.shape)\n",
        "print(test_inputs.shape)"
      ]
    },
    {
      "cell_type": "code",
      "execution_count": null,
      "metadata": {
        "id": "bhBj7XNUG1NF",
        "outputId": "0eb18922-9be8-4149-8772-d60db2dd5ada"
      },
      "outputs": [
        {
          "data": {
            "text/plain": [
              "46"
            ]
          },
          "execution_count": 71,
          "metadata": {},
          "output_type": "execute_result"
        }
      ],
      "source": [
        "labels=np.array(train['label'])\n",
        "len(set(labels))"
      ]
    },
    {
      "cell_type": "code",
      "execution_count": null,
      "metadata": {
        "id": "3urpeS40G1NG"
      },
      "outputs": [],
      "source": [
        "#추후 재사용 가능하도록 npy로 전환\n",
        "DATA_IN_PATH='./data_in/'\n",
        "TRAIN_INPUT_DATA = 'train_input.npy'\n",
        "TEST_INPUT_DATA = 'test_input.npy'\n",
        "\n",
        "import os\n",
        "if not os.path.exists(DATA_IN_PATH):\n",
        "    os.makedirs(DATA_IN_PATH)\n",
        "    \n",
        "np.save(open(DATA_IN_PATH+TRAIN_INPUT_DATA, 'wb'), train_inputs)\n",
        "np.save(open(DATA_IN_PATH+TEST_INPUT_DATA, 'wb'), test_inputs)\n",
        "\n",
        "data_configs={}\n",
        "data_configs['vocab']=word_vocab\n",
        "data_configs['vocab_size'] = len(word_vocab)+1\n",
        "json.dump(data_configs, open(DATA_IN_PATH+'data_configs.json', 'w'), ensure_ascii=False)"
      ]
    },
    {
      "cell_type": "markdown",
      "source": [
        "### 모델링"
      ],
      "metadata": {
        "id": "utV-fRXBHpaA"
      }
    },
    {
      "cell_type": "code",
      "execution_count": null,
      "metadata": {
        "id": "K2DAGLmCG1NH"
      },
      "outputs": [],
      "source": [
        "#파라미터 설정\n",
        "vocab_size =data_configs['vocab_size']\n",
        "embedding_dim = 32\n",
        "max_length = 40\n",
        "oov_tok = \"<OOV>\""
      ]
    },
    {
      "cell_type": "code",
      "execution_count": null,
      "metadata": {
        "id": "xQlBPyhTG1NI",
        "outputId": "f5c87b32-bbe5-41a4-a949-dffc68f250e7"
      },
      "outputs": [
        {
          "name": "stdout",
          "output_type": "stream",
          "text": [
            "Model: \"sequential_1\"\n",
            "_________________________________________________________________\n",
            "Layer (type)                 Output Shape              Param #   \n",
            "=================================================================\n",
            "embedding_1 (Embedding)      (None, 40, 32)            973376    \n",
            "_________________________________________________________________\n",
            "global_average_pooling1d_1 ( (None, 32)                0         \n",
            "_________________________________________________________________\n",
            "dense_2 (Dense)              (None, 128)               4224      \n",
            "_________________________________________________________________\n",
            "dense_3 (Dense)              (None, 46)                5934      \n",
            "=================================================================\n",
            "Total params: 983,534\n",
            "Trainable params: 983,534\n",
            "Non-trainable params: 0\n",
            "_________________________________________________________________\n",
            "None\n"
          ]
        }
      ],
      "source": [
        "#가벼운 NLP모델 생성\n",
        "model = tf.keras.Sequential([\n",
        "    tf.keras.layers.Embedding(vocab_size, embedding_dim, input_length=max_length),\n",
        "    tf.keras.layers.GlobalAveragePooling1D(),\n",
        "    tf.keras.layers.Dense(128, activation='relu'),\n",
        "    tf.keras.layers.Dense(46, activation='softmax')\n",
        "])\n",
        "\n",
        "# compile model\n",
        "model.compile(loss='sparse_categorical_crossentropy',\n",
        "              optimizer='adam',\n",
        "              metrics=['accuracy'])\n",
        "\n",
        "# model summary\n",
        "print(model.summary())"
      ]
    },
    {
      "cell_type": "code",
      "execution_count": null,
      "metadata": {
        "id": "sWMYG1l2G1NJ",
        "outputId": "d7b06c79-2ad2-4f76-819a-ef2db4b8cefa"
      },
      "outputs": [
        {
          "name": "stdout",
          "output_type": "stream",
          "text": [
            "Epoch 1/30\n",
            "4358/4358 - 28s - loss: 0.9296 - accuracy: 0.8202 - val_loss: 0.8065 - val_accuracy: 0.8248\n",
            "Epoch 2/30\n",
            "4358/4358 - 24s - loss: 0.6618 - accuracy: 0.8400 - val_loss: 0.6244 - val_accuracy: 0.8463\n",
            "Epoch 3/30\n",
            "4358/4358 - 25s - loss: 0.5196 - accuracy: 0.8643 - val_loss: 0.5572 - val_accuracy: 0.8582\n",
            "Epoch 4/30\n",
            "4358/4358 - 24s - loss: 0.4356 - accuracy: 0.8810 - val_loss: 0.5206 - val_accuracy: 0.8663\n",
            "Epoch 5/30\n",
            "4358/4358 - 25s - loss: 0.3740 - accuracy: 0.8946 - val_loss: 0.4925 - val_accuracy: 0.8742\n",
            "Epoch 6/30\n",
            "4358/4358 - 25s - loss: 0.3273 - accuracy: 0.9061 - val_loss: 0.4862 - val_accuracy: 0.8788\n",
            "Epoch 7/30\n",
            "4358/4358 - 24s - loss: 0.2925 - accuracy: 0.9148 - val_loss: 0.4805 - val_accuracy: 0.8818\n",
            "Epoch 8/30\n",
            "4358/4358 - 25s - loss: 0.2648 - accuracy: 0.9218 - val_loss: 0.4684 - val_accuracy: 0.8866\n",
            "Epoch 9/30\n",
            "4358/4358 - 24s - loss: 0.2407 - accuracy: 0.9283 - val_loss: 0.4734 - val_accuracy: 0.8909\n",
            "Epoch 10/30\n",
            "4358/4358 - 25s - loss: 0.2210 - accuracy: 0.9341 - val_loss: 0.4924 - val_accuracy: 0.8855\n",
            "Epoch 11/30\n",
            "4358/4358 - 24s - loss: 0.2043 - accuracy: 0.9384 - val_loss: 0.4894 - val_accuracy: 0.8921\n",
            "Epoch 12/30\n",
            "4358/4358 - 24s - loss: 0.1898 - accuracy: 0.9424 - val_loss: 0.4938 - val_accuracy: 0.8921\n",
            "Epoch 13/30\n",
            "4358/4358 - 24s - loss: 0.1765 - accuracy: 0.9464 - val_loss: 0.5126 - val_accuracy: 0.8935\n",
            "Epoch 14/30\n",
            "4358/4358 - 25s - loss: 0.1652 - accuracy: 0.9491 - val_loss: 0.5247 - val_accuracy: 0.8926\n",
            "Epoch 15/30\n",
            "4358/4358 - 25s - loss: 0.1552 - accuracy: 0.9523 - val_loss: 0.5314 - val_accuracy: 0.8932\n",
            "Epoch 16/30\n",
            "4358/4358 - 25s - loss: 0.1459 - accuracy: 0.9552 - val_loss: 0.5397 - val_accuracy: 0.8960\n",
            "Epoch 17/30\n",
            "4358/4358 - 24s - loss: 0.1376 - accuracy: 0.9573 - val_loss: 0.5556 - val_accuracy: 0.8939\n",
            "Epoch 18/30\n",
            "4358/4358 - 24s - loss: 0.1295 - accuracy: 0.9592 - val_loss: 0.5693 - val_accuracy: 0.8932\n",
            "Epoch 19/30\n",
            "4358/4358 - 24s - loss: 0.1232 - accuracy: 0.9612 - val_loss: 0.5777 - val_accuracy: 0.8952\n",
            "Epoch 20/30\n",
            "4358/4358 - 25s - loss: 0.1162 - accuracy: 0.9629 - val_loss: 0.5951 - val_accuracy: 0.8956\n",
            "Epoch 21/30\n",
            "4358/4358 - 24s - loss: 0.1105 - accuracy: 0.9647 - val_loss: 0.6128 - val_accuracy: 0.8970\n",
            "Epoch 22/30\n",
            "4358/4358 - 25s - loss: 0.1052 - accuracy: 0.9666 - val_loss: 0.6324 - val_accuracy: 0.8956\n",
            "Epoch 23/30\n",
            "4358/4358 - 24s - loss: 0.1002 - accuracy: 0.9681 - val_loss: 0.6410 - val_accuracy: 0.8933\n",
            "Epoch 24/30\n",
            "4358/4358 - 25s - loss: 0.0957 - accuracy: 0.9698 - val_loss: 0.6635 - val_accuracy: 0.8958\n",
            "Epoch 25/30\n",
            "4358/4358 - 24s - loss: 0.0914 - accuracy: 0.9705 - val_loss: 0.6841 - val_accuracy: 0.8991\n",
            "Epoch 26/30\n",
            "4358/4358 - 24s - loss: 0.0874 - accuracy: 0.9719 - val_loss: 0.6902 - val_accuracy: 0.8952\n",
            "Epoch 27/30\n",
            "4358/4358 - 24s - loss: 0.0838 - accuracy: 0.9732 - val_loss: 0.7118 - val_accuracy: 0.8938\n",
            "Epoch 28/30\n",
            "4358/4358 - 24s - loss: 0.0805 - accuracy: 0.9742 - val_loss: 0.7211 - val_accuracy: 0.8943\n",
            "Epoch 29/30\n",
            "4358/4358 - 24s - loss: 0.0771 - accuracy: 0.9748 - val_loss: 0.7344 - val_accuracy: 0.8949\n",
            "Epoch 30/30\n",
            "4358/4358 - 24s - loss: 0.0739 - accuracy: 0.9759 - val_loss: 0.7569 - val_accuracy: 0.8958\n"
          ]
        }
      ],
      "source": [
        "# fit model\n",
        "num_epochs = 30\n",
        "history = model.fit(train_inputs, labels, \n",
        "                    epochs=num_epochs, verbose=2, \n",
        "                    validation_split=0.2)"
      ]
    },
    {
      "cell_type": "code",
      "execution_count": null,
      "metadata": {
        "id": "ghEALrTSG1NM"
      },
      "outputs": [],
      "source": [
        ""
      ]
    },
    {
      "cell_type": "markdown",
      "source": [
        "# **Random Forest**"
      ],
      "metadata": {
        "id": "XOonBmHOHVHn"
      }
    },
    {
      "cell_type": "markdown",
      "source": [
        "### 데이터 전처리"
      ],
      "metadata": {
        "id": "Vi0yyjMWHX3u"
      }
    },
    {
      "cell_type": "code",
      "source": [
        ""
      ],
      "metadata": {
        "id": "5mCIk7axH6Yj"
      },
      "execution_count": null,
      "outputs": []
    },
    {
      "cell_type": "code",
      "execution_count": null,
      "metadata": {
        "id": "A8alJB_FIGTr"
      },
      "outputs": [],
      "source": [
        "#해당 baseline 에서는 과제명 columns만 활용했습니다.\n",
        "#다채로운 변수 활용법으로 성능을 높여주세요!\n",
        "train=train[['과제명','label']]\n",
        "test=test[['과제명']]"
      ]
    },
    {
      "cell_type": "code",
      "execution_count": null,
      "metadata": {
        "id": "gW0S2UvlIGTs",
        "outputId": "064133e1-7d09-4d42-f46c-6ff8f0c62771"
      },
      "outputs": [
        {
          "data": {
            "text/html": [
              "<div>\n",
              "<style scoped>\n",
              "    .dataframe tbody tr th:only-of-type {\n",
              "        vertical-align: middle;\n",
              "    }\n",
              "\n",
              "    .dataframe tbody tr th {\n",
              "        vertical-align: top;\n",
              "    }\n",
              "\n",
              "    .dataframe thead th {\n",
              "        text-align: right;\n",
              "    }\n",
              "</style>\n",
              "<table border=\"1\" class=\"dataframe\">\n",
              "  <thead>\n",
              "    <tr style=\"text-align: right;\">\n",
              "      <th></th>\n",
              "      <th>과제명</th>\n",
              "      <th>label</th>\n",
              "    </tr>\n",
              "  </thead>\n",
              "  <tbody>\n",
              "    <tr>\n",
              "      <th>0</th>\n",
              "      <td>유전정보를 활용한 새로운 해충 분류군 동정기술 개발</td>\n",
              "      <td>24</td>\n",
              "    </tr>\n",
              "    <tr>\n",
              "      <th>1</th>\n",
              "      <td>대장암의 TRAIL 내성 표적 인자 발굴 및 TRAIL 반응 예측 유전자 지도 구축...</td>\n",
              "      <td>0</td>\n",
              "    </tr>\n",
              "  </tbody>\n",
              "</table>\n",
              "</div>"
            ],
            "text/plain": [
              "                                                 과제명  label\n",
              "0                       유전정보를 활용한 새로운 해충 분류군 동정기술 개발     24\n",
              "1  대장암의 TRAIL 내성 표적 인자 발굴 및 TRAIL 반응 예측 유전자 지도 구축...      0"
            ]
          },
          "execution_count": 24,
          "metadata": {},
          "output_type": "execute_result"
        }
      ],
      "source": [
        "train.head(2)"
      ]
    },
    {
      "cell_type": "code",
      "execution_count": null,
      "metadata": {
        "id": "CBnQx5cxIGTs",
        "outputId": "486c9a8f-cba5-42e0-a9c6-50f27152dd1f"
      },
      "outputs": [
        {
          "data": {
            "text/html": [
              "<div>\n",
              "<style scoped>\n",
              "    .dataframe tbody tr th:only-of-type {\n",
              "        vertical-align: middle;\n",
              "    }\n",
              "\n",
              "    .dataframe tbody tr th {\n",
              "        vertical-align: top;\n",
              "    }\n",
              "\n",
              "    .dataframe thead th {\n",
              "        text-align: right;\n",
              "    }\n",
              "</style>\n",
              "<table border=\"1\" class=\"dataframe\">\n",
              "  <thead>\n",
              "    <tr style=\"text-align: right;\">\n",
              "      <th></th>\n",
              "      <th>과제명</th>\n",
              "    </tr>\n",
              "  </thead>\n",
              "  <tbody>\n",
              "    <tr>\n",
              "      <th>0</th>\n",
              "      <td>R-FSSW 기술 적용 경량 차체 부품 개발 및 품질 평가를 위한 64채널 C-SC...</td>\n",
              "    </tr>\n",
              "    <tr>\n",
              "      <th>1</th>\n",
              "      <td>다입자계를 묘사하는 편미분방정식에 대한 연구</td>\n",
              "    </tr>\n",
              "  </tbody>\n",
              "</table>\n",
              "</div>"
            ],
            "text/plain": [
              "                                                 과제명\n",
              "0  R-FSSW 기술 적용 경량 차체 부품 개발 및 품질 평가를 위한 64채널 C-SC...\n",
              "1                           다입자계를 묘사하는 편미분방정식에 대한 연구"
            ]
          },
          "execution_count": 25,
          "metadata": {},
          "output_type": "execute_result"
        }
      ],
      "source": [
        "test.head(2)"
      ]
    },
    {
      "cell_type": "code",
      "execution_count": null,
      "metadata": {
        "id": "RWSlxo0JIGTt"
      },
      "outputs": [],
      "source": [
        "#1. re.sub 한글 및 공백을 제외한 문자 제거\n",
        "#2. okt 객체를 활용해 형태소 단위로 나눔\n",
        "#3. remove_stopwords로 불용어 제거 \n",
        "def preprocessing(text, okt, remove_stopwords=False, stop_words=[]):\n",
        "    text=re.sub(\"[^가-힣ㄱ-ㅎㅏ-ㅣ]\",\"\", text)\n",
        "    word_text=okt.morphs(text, stem=True)\n",
        "    if remove_stopwords:\n",
        "        word_review=[token for token in word_text if not token in stop_words]\n",
        "    return word_review"
      ]
    },
    {
      "cell_type": "code",
      "execution_count": null,
      "metadata": {
        "id": "9cDCnAoHIGTt"
      },
      "outputs": [],
      "source": [
        "stop_words=['은','는','이','가', '하','아','것','들','의','있','되','수','보','주','등','한']\n",
        "okt=Okt()\n",
        "clean_train_text=[]\n",
        "clean_test_text=[]"
      ]
    },
    {
      "cell_type": "code",
      "execution_count": null,
      "metadata": {
        "id": "w6U0yg-DIGTt",
        "outputId": "1bb37197-d9ea-414c-ef12-6912c4f265b3"
      },
      "outputs": [
        {
          "name": "stderr",
          "output_type": "stream",
          "text": [
            "100%|██████████| 174304/174304 [44:25<00:00, 65.39it/s]\n"
          ]
        }
      ],
      "source": [
        "#시간이 많이 걸립니다.\n",
        "for text in tqdm.tqdm(train['과제명']):\n",
        "    try:\n",
        "        clean_train_text.append(preprocessing(text, okt, remove_stopwords=True, stop_words=stop_words))\n",
        "    except:\n",
        "        clean_train_text.append([])\n",
        "    "
      ]
    },
    {
      "cell_type": "code",
      "execution_count": null,
      "metadata": {
        "id": "S4lSvNu8IGTu",
        "outputId": "34f1f138-d366-4f18-90c8-39daa298b881"
      },
      "outputs": [
        {
          "name": "stderr",
          "output_type": "stream",
          "text": [
            "100%|██████████| 43576/43576 [12:25<00:00, 58.44it/s]\n"
          ]
        }
      ],
      "source": [
        "for text in tqdm.tqdm(test['과제명']):\n",
        "    if type(text) == str:\n",
        "        clean_test_text.append(preprocessing(text, okt, remove_stopwords=True, stop_words=stop_words))\n",
        "    else:\n",
        "        clean_test_text.append([])"
      ]
    },
    {
      "cell_type": "code",
      "execution_count": null,
      "metadata": {
        "id": "3hPs3U5fIGTu",
        "outputId": "7eb3caea-c7e3-4e71-9500-5770aa45bf18"
      },
      "outputs": [
        {
          "data": {
            "text/plain": [
              "174304"
            ]
          },
          "execution_count": 30,
          "metadata": {},
          "output_type": "execute_result"
        }
      ],
      "source": [
        "len(clean_train_text)"
      ]
    },
    {
      "cell_type": "code",
      "execution_count": null,
      "metadata": {
        "id": "SIdIkfDUIGTv",
        "outputId": "f1fdff7e-80d4-448f-b029-7a8cff8c87a1"
      },
      "outputs": [
        {
          "data": {
            "text/plain": [
              "43576"
            ]
          },
          "execution_count": 31,
          "metadata": {},
          "output_type": "execute_result"
        }
      ],
      "source": [
        "len(clean_test_text)"
      ]
    },
    {
      "cell_type": "code",
      "execution_count": null,
      "metadata": {
        "id": "fa7oyP3sIGTv"
      },
      "outputs": [],
      "source": [
        "from sklearn.feature_extraction.text import CountVectorizer\n",
        "\n",
        "#tokenizer 인자에는 list를 받아서 그대로 내보내는 함수를 넣어줍니다. 또한 소문자화를 하지 않도록 설정해야 에러가 나지 않습니다.\n",
        "vectorizer = CountVectorizer(tokenizer = lambda x: x, lowercase=False)\n",
        "train_features=vectorizer.fit_transform(clean_train_text)\n",
        "test_features=vectorizer.transform(clean_test_text)\n",
        "#test데이터에 fit_transform을 할 경우 data leakage에 해당합니다"
      ]
    },
    {
      "cell_type": "code",
      "execution_count": null,
      "metadata": {
        "id": "C5ggldyZIGTv",
        "outputId": "82ad1ae9-7655-408c-b7fe-40c21ec5338b"
      },
      "outputs": [
        {
          "data": {
            "text/plain": [
              "<174304x30402 sparse matrix of type '<class 'numpy.int64'>'\n",
              "\twith 2078154 stored elements in Compressed Sparse Row format>"
            ]
          },
          "execution_count": 60,
          "metadata": {},
          "output_type": "execute_result"
        }
      ],
      "source": [
        "train_features"
      ]
    },
    {
      "cell_type": "code",
      "execution_count": null,
      "metadata": {
        "id": "jTjDVp34IGTx",
        "outputId": "420b3690-bdb0-4597-ba6f-085fdaf56f51"
      },
      "outputs": [
        {
          "data": {
            "text/plain": [
              "<43576x30402 sparse matrix of type '<class 'numpy.int64'>'\n",
              "\twith 518549 stored elements in Compressed Sparse Row format>"
            ]
          },
          "execution_count": 61,
          "metadata": {},
          "output_type": "execute_result"
        }
      ],
      "source": [
        "test_features"
      ]
    },
    {
      "cell_type": "markdown",
      "source": [
        "### 모델링"
      ],
      "metadata": {
        "id": "f863vntlH5Dj"
      }
    },
    {
      "cell_type": "code",
      "execution_count": null,
      "metadata": {
        "id": "kvD_8pQxIGTx"
      },
      "outputs": [],
      "source": [
        "#훈련 데이터 셋과 검증 데이터 셋으로 분리\n",
        "TEST_SIZE=0.2\n",
        "RANDOM_SEED=42\n",
        "\n",
        "train_x, eval_x, train_y, eval_y=train_test_split(train_features, train['label'], test_size=TEST_SIZE, random_state=RANDOM_SEED)"
      ]
    },
    {
      "cell_type": "code",
      "execution_count": null,
      "metadata": {
        "id": "NpkZXZYjIGTy",
        "outputId": "07e32f89-c40a-4f2f-bccf-531efd343ce7"
      },
      "outputs": [
        {
          "data": {
            "text/plain": [
              "RandomForestClassifier()"
            ]
          },
          "execution_count": 69,
          "metadata": {},
          "output_type": "execute_result"
        }
      ],
      "source": [
        "#랜덤포레스트로 모델링\n",
        "from sklearn.ensemble import RandomForestClassifier\n",
        "\n",
        "forest=RandomForestClassifier(n_estimators=100)\n",
        "\n",
        "forest.fit(train_x, train_y)"
      ]
    },
    {
      "cell_type": "code",
      "execution_count": null,
      "metadata": {
        "id": "e0IGwIxkIGTy",
        "outputId": "9f1f6ee9-f857-4f87-85f5-8a9bdf0ea491"
      },
      "outputs": [
        {
          "data": {
            "text/plain": [
              "0.9208571182696996"
            ]
          },
          "execution_count": 71,
          "metadata": {},
          "output_type": "execute_result"
        }
      ],
      "source": [
        "#모델 검증\n",
        "forest.score(eval_x, eval_y)"
      ]
    },
    {
      "cell_type": "code",
      "source": [
        ""
      ],
      "metadata": {
        "id": "pJ2IqM8NH3R1"
      },
      "execution_count": null,
      "outputs": []
    },
    {
      "cell_type": "markdown",
      "source": [
        "# **BERT**"
      ],
      "metadata": {
        "id": "x8d1D0nWIQJT"
      }
    },
    {
      "cell_type": "markdown",
      "source": [
        "### 데이터 전처리"
      ],
      "metadata": {
        "id": "DxxAGGA4IT4N"
      }
    },
    {
      "cell_type": "code",
      "source": [
        "os.environ[\"CUDA_VISIBLE_DEVICES\"]=\"0\""
      ],
      "metadata": {
        "id": "rd3cngTxIVIY"
      },
      "execution_count": null,
      "outputs": []
    },
    {
      "cell_type": "code",
      "source": [
        "#이번 베이스라인에서는 과제명 뿐만 아니라 요약문_연구내용도 모델에 학습시켜보겠습니다.\n",
        "train=train[['과제명', '요약문_연구내용','label']]\n",
        "test=test[['과제명', '요약문_연구내용']]\n",
        "train['요약문_연구내용'].fillna('NAN', inplace=True)\n",
        "test['요약문_연구내용'].fillna('NAN', inplace=True)"
      ],
      "metadata": {
        "id": "k2agNPbaIdHG"
      },
      "execution_count": null,
      "outputs": []
    },
    {
      "cell_type": "code",
      "source": [
        "train['data']=train['과제명']+train['요약문_연구내용']\n",
        "test['data']=test['과제명']+test['요약문_연구내용']"
      ],
      "metadata": {
        "id": "NMeLNm9lIdEu"
      },
      "execution_count": null,
      "outputs": []
    },
    {
      "cell_type": "code",
      "source": [
        "print(train.shape)\n",
        "print(test.shape)"
      ],
      "metadata": {
        "id": "vE4wzCvXIdCG"
      },
      "execution_count": null,
      "outputs": []
    },
    {
      "cell_type": "code",
      "source": [
        "train.head(2)"
      ],
      "metadata": {
        "id": "Ywue1y5dIh3W"
      },
      "execution_count": null,
      "outputs": []
    },
    {
      "cell_type": "code",
      "source": [
        "test.head(2)"
      ],
      "metadata": {
        "id": "oY3pTBoNIh1N"
      },
      "execution_count": null,
      "outputs": []
    },
    {
      "cell_type": "markdown",
      "source": [
        "### 모델링"
      ],
      "metadata": {
        "id": "n95Q74jaIVol"
      }
    },
    {
      "cell_type": "code",
      "source": [
        "#random seed 고정\n",
        "tf.random.set_seed(1234)\n",
        "np.random.seed(1234)\n",
        "BATCH_SIZE = 32\n",
        "NUM_EPOCHS = 3\n",
        "VALID_SPLIT = 0.2\n",
        "MAX_LEN=200"
      ],
      "metadata": {
        "id": "1xx-icJUIWXp"
      },
      "execution_count": null,
      "outputs": []
    },
    {
      "cell_type": "code",
      "source": [
        "from transformers import *\n",
        "tokenizer=BertTokenizer.from_pretrained('bert-base-multilingual-cased',  cache_dir='bert_ckpt', do_lower_case=False)\n",
        "\n",
        "def bert_tokenizer(sent, MAX_LEN):\n",
        "    \n",
        "    encoded_dict=tokenizer.encode_plus(\n",
        "    text = sent, \n",
        "    add_special_tokens=True, \n",
        "    max_length=MAX_LEN, \n",
        "    pad_to_max_length=True, \n",
        "    return_attention_mask=True,\n",
        "    truncation = True)\n",
        "    \n",
        "    input_id=encoded_dict['input_ids']\n",
        "    attention_mask=encoded_dict['attention_mask']\n",
        "    token_type_id = encoded_dict['token_type_ids']\n",
        "    \n",
        "    return input_id, attention_mask, token_type_id\n",
        "\n",
        "input_ids =[]\n",
        "attention_masks =[]\n",
        "token_type_ids =[]\n",
        "train_data_labels = []\n",
        "\n",
        "def clean_text(sent):\n",
        "    sent_clean=re.sub(\"[^가-힣ㄱ-하-ㅣ]\", \" \", sent)\n",
        "    return sent_clean\n",
        "\n",
        "for train_sent, train_label in zip(train['data'], train['label']):\n",
        "    try:\n",
        "        input_id, attention_mask, token_type_id = bert_tokenizer(clean_text(train_sent), MAX_LEN=MAX_LEN)\n",
        "        \n",
        "        input_ids.append(input_id)\n",
        "        attention_masks.append(attention_mask)\n",
        "        token_type_ids.append(token_type_id)\n",
        "        #########################################\n",
        "        train_data_labels.append(train_label)\n",
        "        \n",
        "    except Exception as e:\n",
        "        print(e)\n",
        "        print(train_sent)\n",
        "        pass\n",
        "\n",
        "train_input_ids=np.array(input_ids, dtype=int)\n",
        "train_attention_masks=np.array(attention_masks, dtype=int)\n",
        "train_token_type_ids=np.array(token_type_ids, dtype=int)\n",
        "###########################################################\n",
        "train_inputs=(train_input_ids, train_attention_masks, train_token_type_ids)\n",
        "train_labels=np.asarray(train_data_labels, dtype=np.int32)"
      ],
      "metadata": {
        "id": "rLNzrvewIoS2"
      },
      "execution_count": null,
      "outputs": []
    },
    {
      "cell_type": "code",
      "source": [
        "print(train_input_ids[1])\n",
        "print(train_attention_masks[1])\n",
        "print(train_token_type_ids[1])\n",
        "print(tokenizer.decode(train_input_ids[1]))"
      ],
      "metadata": {
        "id": "9GHbUZ0cIoQV"
      },
      "execution_count": null,
      "outputs": []
    },
    {
      "cell_type": "code",
      "source": [
        "class TFBertClassifier(tf.keras.Model):\n",
        "    def __init__(self, model_name, dir_path, num_class):\n",
        "        super(TFBertClassifier, self).__init__()\n",
        "\n",
        "        self.bert = TFBertModel.from_pretrained(model_name, cache_dir=dir_path)\n",
        "        self.dropout = tf.keras.layers.Dropout(self.bert.config.hidden_dropout_prob)\n",
        "        self.classifier = tf.keras.layers.Dense(num_class, \n",
        "                                                kernel_initializer=tf.keras.initializers.TruncatedNormal(self.bert.config.initializer_range), \n",
        "                                                name=\"classifier\")\n",
        "        \n",
        "    def call(self, inputs, attention_mask=None, token_type_ids=None, training=False):\n",
        "        \n",
        "        #outputs 값: # sequence_output, pooled_output, (hidden_states), (attentions)\n",
        "        outputs = self.bert(inputs, attention_mask=attention_mask, token_type_ids=token_type_ids)\n",
        "        pooled_output = outputs[1] \n",
        "        pooled_output = self.dropout(pooled_output, training=training)\n",
        "        logits = self.classifier(pooled_output)\n",
        "\n",
        "        return logits\n",
        "\n",
        "cls_model = TFBertClassifier(model_name='bert-base-multilingual-cased',\n",
        "                                  dir_path='bert_ckpt',\n",
        "                                  num_class=46)\n",
        "\n",
        "# 학습 준비하기\n",
        "optimizer = tf.keras.optimizers.Adam(3e-5)\n",
        "loss = tf.keras.losses.SparseCategoricalCrossentropy(from_logits=True)\n",
        "metric = tf.keras.metrics.SparseCategoricalAccuracy('accuracy')\n",
        "cls_model.compile(optimizer=optimizer, loss=loss, metrics=[metric])\n",
        "\n",
        "model_name = \"tf2_bert_classifier\"\n",
        "\n",
        "# overfitting을 막기 위한 ealrystop 추가\n",
        "earlystop_callback = EarlyStopping(monitor='val_accuracy', min_delta=0.0001,patience=5)\n",
        "# min_delta: the threshold that triggers the termination (acc should at least improve 0.0001)\n",
        "# patience: no improvment epochs (patience = 1, 1번 이상 상승이 없으면 종료)\\\n",
        "\n",
        "checkpoint_path = os.path.join(model_name, 'weights.h5')\n",
        "checkpoint_dir = os.path.dirname(checkpoint_path)\n",
        "\n",
        "# Create path if exists\n",
        "if os.path.exists(checkpoint_dir):\n",
        "    print(\"{} -- Folder already exists \\n\".format(checkpoint_dir))\n",
        "else:\n",
        "    os.makedirs(checkpoint_dir, exist_ok=True)\n",
        "    print(\"{} -- Folder create complete \\n\".format(checkpoint_dir))\n",
        "    \n",
        "cp_callback = ModelCheckpoint(\n",
        "    checkpoint_path, monitor='val_accuracy', verbose=1, save_best_only=True, save_weights_only=True)\n",
        "\n",
        "# 학습과 eval 시작\n",
        "history = cls_model.fit(train_inputs, train_labels, epochs=30, batch_size=32,\n",
        "                    validation_split = VALID_SPLIT, callbacks=[earlystop_callback, cp_callback])"
      ],
      "metadata": {
        "id": "9n9ltFsAIoN8"
      },
      "execution_count": null,
      "outputs": []
    },
    {
      "cell_type": "code",
      "source": [
        "input_ids =[]\n",
        "attention_masks =[]\n",
        "token_type_ids =[]\n",
        "train_data_labels = []\n",
        "\n",
        "def clean_text(sent):\n",
        "    sent_clean=re.sub(\"[^가-힣ㄱ-하-ㅣ]\", \" \", sent)\n",
        "    return sent_clean\n",
        "\n",
        "for test_sent in test['data']:\n",
        "    try:\n",
        "        input_id, attention_mask, token_type_id = bert_tokenizer(clean_text(test_sent), MAX_LEN=40)\n",
        "        \n",
        "        input_ids.append(input_id)\n",
        "        attention_masks.append(attention_mask)\n",
        "        token_type_ids.append(token_type_id)\n",
        "        #########################################\n",
        "       \n",
        "    except Exception as e:\n",
        "        print(e)\n",
        "        print(test_sent)\n",
        "        pass\n",
        "    \n",
        "test_input_ids=np.array(input_ids, dtype=int)\n",
        "test_attention_masks=np.array(attention_masks, dtype=int)\n",
        "test_token_type_ids=np.array(token_type_ids, dtype=int)\n",
        "###########################################################\n",
        "test_inputs=(test_input_ids, test_attention_masks, test_token_type_ids)"
      ],
      "metadata": {
        "id": "_zpCG4FgIoLi"
      },
      "execution_count": null,
      "outputs": []
    },
    {
      "cell_type": "code",
      "source": [
        "results = cls_model.predict(test_inputs)\n",
        "results=tf.argmax(results, axis=1)"
      ],
      "metadata": {
        "id": "0pVNINyQIoJA"
      },
      "execution_count": null,
      "outputs": []
    },
    {
      "cell_type": "code",
      "source": [
        ""
      ],
      "metadata": {
        "id": "isBxHC64IxK8"
      },
      "execution_count": null,
      "outputs": []
    }
  ],
  "metadata": {
    "kernelspec": {
      "display_name": "junyoung",
      "language": "python",
      "name": "junyoung"
    },
    "language_info": {
      "codemirror_mode": {
        "name": "ipython",
        "version": 3
      },
      "file_extension": ".py",
      "mimetype": "text/x-python",
      "name": "python",
      "nbconvert_exporter": "python",
      "pygments_lexer": "ipython3",
      "version": "3.6.9"
    },
    "colab": {
      "name": "week19_김희숙_예습과제.ipynb",
      "provenance": []
    }
  },
  "nbformat": 4,
  "nbformat_minor": 0
}