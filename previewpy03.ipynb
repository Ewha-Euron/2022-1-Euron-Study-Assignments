{
 "cells": [
  {
   "cell_type": "code",
   "execution_count": null,
   "id": "851387e7",
   "metadata": {},
   "outputs": [],
   "source": [
    "from sklearn.ensemble import GradientBoostingClassifier\n",
    "import time\n",
    "import warnings\n",
    "warnings.filterwarnings('ignore')\n",
    "\n",
    "X_train, X_test, y_train,y_test=get_human_dataset()\n",
    "\n",
    "start_time=time.time()\n",
    "\n",
    "gb_clf=GradientBoostingClassifier(random_state=0)\n",
    "gb_clf.fit(X_train,y_train)\n",
    "gb_pred=gb_clf.predict(X_test)\n",
    "gb_accuracy=accuracy_score(y_test,gb_pred)\n",
    "print(gb_accuracy)\n",
    "print(time.time()-start_time)"
   ]
  },
  {
   "cell_type": "code",
   "execution_count": null,
   "id": "55cc431f",
   "metadata": {},
   "outputs": [],
   "source": [
    "from sklearn.model_selection import GridSearchCV\n",
    "\n",
    "params={\n",
    "    'n_estimators':[100,500],\n",
    "    'learning_rate':[0.05, 0.1]\n",
    "}\n",
    "grid_cv=GridSearchCV(gb_clf,param_grid=params,cv=2,verbose=1)\n",
    "grid_cv.fit(X_train,y_train)\n",
    "print(grid_cv.best_params_)\n",
    "print(grid_cv.best_score_)\n",
    "\n",
    "gb_pred=grid_cv.best_extimator_.predict(X_test)\n",
    "gb_accuracy=accuracy_score(y_test,gb_pred)\n",
    "print(gb_accuracy)"
   ]
  },
  {
   "cell_type": "markdown",
   "id": "56d23060",
   "metadata": {},
   "source": [
    "import xgboost as xgb\n",
    "from xgboost import XGBClassifier"
   ]
  },
  {
   "cell_type": "code",
   "execution_count": null,
   "id": "8551a2b1",
   "metadata": {},
   "outputs": [],
   "source": [
    "import xgboost\n",
    "print(xgboost.__version__)"
   ]
  },
  {
   "cell_type": "code",
   "execution_count": null,
   "id": "cf95e1ac",
   "metadata": {},
   "outputs": [],
   "source": [
    "import xgboost as xgb\n",
    "from xgboost import plot_importance\n",
    "import pandas as pd\n",
    "import numpy as np\n",
    "from sklearn.datasets import load_breast_cancer\n",
    "from sklearn.model_selection import train_test_split\n",
    "import warnings\n",
    "warnings.filterwarnings('ignore')\n",
    "\n",
    "dataset=load_breast_cancer()\n",
    "X_features=dataset.data\n",
    "y_label=dataset.target\n",
    "\n",
    "cancer_df=pd.DataFrame(data=X_features, columns=dataset.feature_names)\n",
    "cancer_df['target']=y_label\n",
    "cancer_df.head(3)"
   ]
  },
  {
   "cell_type": "code",
   "execution_count": null,
   "id": "c9e5df67",
   "metadata": {},
   "outputs": [],
   "source": [
    "print(dataset.target_names)\n",
    "print(cancer_df['target'].value_counts())"
   ]
  },
  {
   "cell_type": "code",
   "execution_count": null,
   "id": "24d9b8d1",
   "metadata": {},
   "outputs": [],
   "source": [
    "X_train, X_test, y_train, y_test=train_test_split(X_features, y_label, test_size=0.2, random_state=156)\n",
    "\n",
    "print(X_train.shape, X_test.shape)"
   ]
  },
  {
   "cell_type": "code",
   "execution_count": null,
   "id": "80d7a763",
   "metadata": {},
   "outputs": [],
   "source": [
    "dtrain=xgb.DMatrix(data=X_train, label=y_train)\n",
    "dtest=xgb.DMatrix(data=X_test, label=y_test)\n"
   ]
  },
  {
   "cell_type": "code",
   "execution_count": null,
   "id": "723ad4df",
   "metadata": {},
   "outputs": [],
   "source": [
    "params={\n",
    "    'max_depth':3,\n",
    "    'eta':0.1,\n",
    "    'objective':'binary:logistic',\n",
    "    'eval_metric':'logloss',\n",
    "    'early_stoppings':100\n",
    "}\n",
    "num_rounds=400"
   ]
  },
  {
   "cell_type": "code",
   "execution_count": null,
   "id": "acc5a922",
   "metadata": {},
   "outputs": [],
   "source": [
    "wlist=[(dtrain, 'train'), (dtest, 'eval')]\n",
    "xgb_model=xgb.train(params=params, dtrain=dtrain, num_boost_round=num_rounds, early_stopping_rounds=100, evals=wlist)"
   ]
  },
  {
   "cell_type": "code",
   "execution_count": null,
   "id": "6d33fdf4",
   "metadata": {},
   "outputs": [],
   "source": [
    "pred_probs=xgb_model.predict(dtest)\n",
    "print('predict 수행결과')\n",
    "print(np.round(pred_probs[:10],3))\n",
    "\n",
    "preds=[1 if x>0.5 else 0 for x in pred_probs]\n",
    "print(preds[:10])"
   ]
  },
  {
   "cell_type": "code",
   "execution_count": null,
   "id": "d976341c",
   "metadata": {},
   "outputs": [],
   "source": [
    "get_clf_eval(y_test, preds, pred_probs)"
   ]
  },
  {
   "cell_type": "code",
   "execution_count": null,
   "id": "88aa67e9",
   "metadata": {},
   "outputs": [],
   "source": [
    "from xgboost import plot_importance\n",
    "import matplotlib.pyplot as plt\n",
    "%matplotlib inline\n",
    "\n",
    "fig, ax=plt.subplots(figsize=(10,12))\n",
    "plot_importance(xgb_model,ax=ax)"
   ]
  },
  {
   "cell_type": "code",
   "execution_count": null,
   "id": "8124e83d",
   "metadata": {},
   "outputs": [],
   "source": [
    "get_clf_eval(y_test,w_preds, w_pred_proba)"
   ]
  },
  {
   "cell_type": "code",
   "execution_count": null,
   "id": "e7cb7676",
   "metadata": {},
   "outputs": [],
   "source": [
    "from xgboost import XGBClassifier\n",
    "\n",
    "xgb_wrapper=XGBClassifier(n_extimators=400,learning_rate=0.1, max_depth=3)\n",
    "evals=[(X_test,y_test)]\n",
    "xgb_wrapper.fit(X_train,y_train,early_stopping_rounds=100,eval_metricc=\"logloss\", eval_set=evals, verbose=True)\n",
    "\n",
    "ws100_preds=xgb_wrapper.predict(X_test)\n",
    "ws100_pred_proba=xgb_wrapper.predict_proba(X_test)[:,1]"
   ]
  },
  {
   "cell_type": "code",
   "execution_count": null,
   "id": "6aa70f6d",
   "metadata": {},
   "outputs": [],
   "source": [
    "get_clf_eval(y_test,ws100_preds,ws100_pred_proba)"
   ]
  },
  {
   "cell_type": "code",
   "execution_count": null,
   "id": "a01a96b8",
   "metadata": {},
   "outputs": [],
   "source": [
    "xgb_wrapper.fit(X_train,y_train,early_stopping_rounds=10,eval_metric=\"logloss\",eval_set=evals,verbose=True)\n",
    "ws10_preds=xgb_wrapper.predict(X_test)\n",
    "ws10_pred_proba=xgb_wrapper.predict_proba(X_test)[:,1]\n",
    "get_clf_eval(y_test,ws10_preds.ws1_pred_proba)"
   ]
  },
  {
   "cell_type": "code",
   "execution_count": null,
   "id": "a5f2bf49",
   "metadata": {},
   "outputs": [],
   "source": [
    "from xgboost import plot_importance\n",
    "import matplotlib.pyplot as plt\n",
    "%matplotlib inline\n",
    "\n",
    "fig,ax=plt.subplots(figsize=(10,12))\n",
    "plot_importance(xgb_wrapper,ax=ax)"
   ]
  },
  {
   "cell_type": "code",
   "execution_count": null,
   "id": "1006b550",
   "metadata": {},
   "outputs": [],
   "source": [
    "from lightgbm import LGBMClassifier\n",
    "\n",
    "dataset=load_breast_cancer()\n",
    "ftr=dataset.data\n",
    "target=dataset.target\n",
    "\n",
    "X_train,X_test, y_train,y_test=train_test_split(ftr,target,test_size=0.2, random_state=156)\n",
    "\n",
    "lgbm_wrapper=LGBMClassifier(n_estimators=400)\n",
    "\n",
    "evals=[(X_test,y_test)]\n",
    "lgbm_wrapper.fit(X_train,y_train,early_stopping_rounds=100, eval_metric=\"logloss\", eval_set=evals, verbose=True)\n",
    "preds=lgbm_wrapper.predict(X_test)\n",
    "pred_proba=lgbm_wrapper.predict_proba(X_test)[:,1]\n"
   ]
  },
  {
   "cell_type": "code",
   "execution_count": null,
   "id": "084e0013",
   "metadata": {},
   "outputs": [],
   "source": [
    "get_clf_eval(y_test,preds,pred_proba)"
   ]
  },
  {
   "cell_type": "code",
   "execution_count": null,
   "id": "9aacc651",
   "metadata": {},
   "outputs": [],
   "source": [
    "from lightgbm import plot_importance\n",
    "import matplotlib.pyplot as plt\n",
    "%matplotlib inline\n",
    "\n",
    "fig, ax=plt.subplots(figsize=(10,12))\n",
    "plot_importance(lgbm_wrapper, ax=ax)"
   ]
  },
  {
   "cell_type": "code",
   "execution_count": null,
   "id": "cb3a480e",
   "metadata": {},
   "outputs": [],
   "source": [
    "import numpy as np\n",
    "from sklearn.neighbors import KNeighborsClassifier\n",
    "from sklearn.ensemble import RandomForestClassifier\n",
    "from sklearn.ensemble import AdaBoostClassifier\n",
    "from sklearn.tree import DecisionTreeClassifier\n",
    "from sklearn.linear_model import LogisticRegression\n",
    "\n",
    "from sklearn.datasets import load_breast_cancer\n",
    "from sklearn.model_selection import train_test_split\n",
    "from sklearn.metrics import accuracy_score\n",
    "\n",
    "cancer_data=load_breast_cancer()\n",
    "\n",
    "X_data=cancer_data.data\n",
    "y_label=cancer_data.target\n",
    "\n",
    "X_train,X_test,y_train,y_test=train_test_split(X_data,y_label,test_size=0.2, random_state=0)"
   ]
  },
  {
   "cell_type": "code",
   "execution_count": null,
   "id": "32e6f42f",
   "metadata": {},
   "outputs": [],
   "source": [
    "#개별 모델 KNN, 랜덤포레스트,결정트리, 에이다부스트\n",
    "#최종모델 로지스틱 회귀\n",
    "\n",
    "knn_clf=KNeighborsClassifier(n_neighbors=4)\n",
    "rf_clf=RandomForestClassifier(n_estimators=100, random_state=0)\n",
    "dt_clf=DecisionTreeClassifier()\n",
    "ada_clf=AdaBoostClassifier(n_estimators=100)\n",
    "\n",
    "lr_final=LogisticRegression(C=10)\n",
    "knn_clf.fit(X_train,y_train)\n",
    "rf_clf.fit(X_train,y_train)\n",
    "dt_clf.fit(X_train,y_train)\n",
    "ada_clf.fit(X_train,y_train)\n",
    "\n"
   ]
  },
  {
   "cell_type": "code",
   "execution_count": null,
   "id": "6828c54f",
   "metadata": {},
   "outputs": [],
   "source": [
    "knn_pred=knn_clf.predict(X_test)\n",
    "rf_pred=rf_clf.predict(X_test)\n",
    "dt_pred=dt_clf.predict(X_test)\n",
    "ada_pred=ada_clf.predict(X_test)\n",
    "#gbm_pred=gbm_clf.predict(X_test)\n",
    "\n",
    "print(accuracy_score(y_test,knn_pred))\n",
    "print(accuracy_score(y_test,rf_pred))\n",
    "print(accuracy_score(y_test,dt_pred))\n",
    "print(accuracy_score(y_test,ada_pred))"
   ]
  },
  {
   "cell_type": "code",
   "execution_count": null,
   "id": "e8a5f683",
   "metadata": {},
   "outputs": [],
   "source": [
    "pred=np.array([knn_pred,rf_pred,dt_pred,ada_pred])\n",
    "print(pred.shape)\n",
    "pred=np.transpose(pred)\n",
    "print(pred.shape)"
   ]
  },
  {
   "cell_type": "code",
   "execution_count": null,
   "id": "7d9d1c17",
   "metadata": {},
   "outputs": [],
   "source": [
    "lr_final.fit(pred,y_test)\n",
    "final=lr_final.predict(pred)\n",
    "print(accuracy_score(y_test,final))"
   ]
  },
  {
   "cell_type": "code",
   "execution_count": null,
   "id": "494ecd72",
   "metadata": {},
   "outputs": [],
   "source": [
    "#step1\n",
    "from sklearn.model_selection import KFold\n",
    "from sklearn.metrics import mean_absolute_error\n",
    "\n",
    "def get_stacking_base_datasets(model, X_train_n, y_train_n, X_test_n, n_folds):\n",
    "    kf=KFold(n_splits=n_folds, shuffle=False, random_state=0)\n",
    "    train_fold_pred=np.zeros((X_train_n.shape[0],1))\n",
    "    test_pred=np.zeros((X_test_n.shape[0],n_folds))\n",
    "    print(model.__class__.__name__)\n",
    "    \n",
    "    for folder_counter,(train_index,valid_index) in enumerate(kf.split(X_train_n)):\n",
    "        print(folder_counter)\n",
    "        X_tr=X_train_n[train_index]\n",
    "        y_tr=y_train_n[train_index]\n",
    "        X_te=X_train_n[valid_index]\n",
    "        \n",
    "        model.fit(X_tr,y_tr)\n",
    "        train_fold_pred[valid_index,:]=model.predict(X_te).reshape(-1,1)\n",
    "        test_pred[:,folder_counter]=model.predict(X_test_n)\n",
    "        \n",
    "    test_pred_mean=np.mean(test_pred,axis=1).reshape(-1,1)\n",
    "    return train_fold_pred, test_pred_mean    "
   ]
  },
  {
   "cell_type": "code",
   "execution_count": null,
   "id": "fe3c5db7",
   "metadata": {},
   "outputs": [],
   "source": [
    "knn_train,knn_test=get_stacking_base_datasets(knn_clf,X_train,y_train,X_test,7)\n",
    "rf_train,rf_test=get_stacking_base_datasets(rf_clf,X_train,y_train,X_test,7)\n",
    "dt_train,dt_test=get_stacking_base_datasets(dt_clf,X_train,y_train,X_test,7)\n",
    "ada_train,ada_test=get_stacking_base_datasets(ada_clf,X_train,y_train,X_test,7)"
   ]
  },
  {
   "cell_type": "code",
   "execution_count": null,
   "id": "a327a98b",
   "metadata": {},
   "outputs": [],
   "source": [
    "#step2\n",
    "Stack_final_X_train=np.concatenate((knn_train,rf_train,dt_train,ada_train),axis=1)\n",
    "Stack_final_X_test=np.concatenate((knn_test,rf_test,dt_test,ada_test),axis=1)\n",
    "print(X_train.shape, X_test.shape)\n",
    "print(Stack_final_X_train.shape)\n",
    "print(Stack_fianl_X_test.shape)"
   ]
  },
  {
   "cell_type": "code",
   "execution_count": null,
   "id": "2ccc0724",
   "metadata": {},
   "outputs": [],
   "source": [
    "lr_final.fit(Stack_final_X_train,y_train)\n",
    "stack_final=lr_final.predict(Stack_final_X_test)\n",
    "print(accuracy_score(y_test,stack_final))"
   ]
  },
  {
   "cell_type": "code",
   "execution_count": null,
   "id": "1bd0dbb6",
   "metadata": {},
   "outputs": [],
   "source": []
  }
 ],
 "metadata": {
  "kernelspec": {
   "display_name": "Python 3",
   "language": "python",
   "name": "python3"
  },
  "language_info": {
   "codemirror_mode": {
    "name": "ipython",
    "version": 3
   },
   "file_extension": ".py",
   "mimetype": "text/x-python",
   "name": "python",
   "nbconvert_exporter": "python",
   "pygments_lexer": "ipython3",
   "version": "3.8.8"
  }
 },
 "nbformat": 4,
 "nbformat_minor": 5
}
