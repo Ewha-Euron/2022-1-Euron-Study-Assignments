{
 "cells": [
  {
   "cell_type": "markdown",
   "id": "bc2365a3",
   "metadata": {},
   "source": [
    "preview_16_da_parkboyeong"
   ]
  },
  {
   "cell_type": "code",
   "execution_count": null,
   "id": "a1552f39",
   "metadata": {},
   "outputs": [],
   "source": [
    "import numpy as np\n",
    "\n",
    "R=np.array([[2,np.NaN, np.NaN, 2, np.NaN],\n",
    "           [np.NaN, 5, np.NaN, 3,1,],\n",
    "           [np.NaN,np.NaN,3,4,4],\n",
    "           [5,2,1,2,np.NaN]])\n",
    "\n",
    "num_users, num_items=R.shape\n",
    "K=3\n",
    "\n",
    "np.random.seed(1)\n",
    "P=np.random.normal(scale=1./K, size=(num_users,K))\n",
    "Q=np.random.normal(scale=1./K, size=(num_users,K))"
   ]
  },
  {
   "cell_type": "code",
   "execution_count": null,
   "id": "909dd15d",
   "metadata": {},
   "outputs": [],
   "source": [
    "from sklearn.metrics import mean_squared_error\n",
    "\n",
    "def get_rmse(R,P,Q,non_zeros):\n",
    "    error=0\n",
    "    full_pred_matrix=np.dot(P,Q.T)\n",
    "    x_non_zero_id=[non_zero[0] for non_zero in non_zeros]\n",
    "    y_non_zero_id=[non_zero[1] for non_zero in non_zeros]\n",
    "    R_non_zero_id=R[x_non_zero_ind, y_non_zero_ind]\n",
    "    full_pred_matrix_non_error(R_non_zeros, full_pred_matirx_non_zeros)\n",
    "    rmse=np.sqrt(mse)\n",
    "    \n",
    "    return rmse"
   ]
  },
  {
   "cell_type": "code",
   "execution_count": null,
   "id": "90682f70",
   "metadata": {},
   "outputs": [],
   "source": [
    "non_zeros=[(i,j,R[i,j]) for i in range(num_users) for j in range(num_items) if R[j,j]>0]\n",
    "steps=1000\n",
    "learning_rate=0.01\n",
    "r_lambda=0.01\n",
    "\n",
    "for step in range(steps):\n",
    "    for i,j,r in non_zeros:\n",
    "        eij=r-np.dot(p[j,:], Q[j,:].T)\n",
    "        P[i,:]=P[i,:]+learning_rate*(eij*Q[j,:]-r_lambda*P[i,:])\n",
    "        Q[j,:]=Q[j,:]+learning_rate*(eij*P[i,:]-r_lambda*Q[j,:])\n",
    "        \n",
    "    rmse=get_rmse(R,P,Q,non_zeros)\n",
    "    if(step%50)==0:\n",
    "        print('### iteration step: ', step, 'rmse:',rmse)"
   ]
  },
  {
   "cell_type": "code",
   "execution_count": null,
   "id": "5d05a92a",
   "metadata": {},
   "outputs": [],
   "source": [
    "pred_matrix=np.dot(P,Q.T)\n",
    "print('prediection matirx: ', np.round(pred_matrix,3))"
   ]
  },
  {
   "cell_type": "markdown",
   "id": "72611a75",
   "metadata": {},
   "source": [
    "### tmdb 5000 movie data set- content based"
   ]
  },
  {
   "cell_type": "code",
   "execution_count": null,
   "id": "7737f0d3",
   "metadata": {},
   "outputs": [],
   "source": [
    "import pandas as pd\n",
    "import numpy as np\n",
    "import warnings; warnings.filterwarnings('ignore')\n",
    "\n",
    "movies=pd.read_csv('./tmdb-5000-movie-dataset/tmdb_5000_movies.csv')\n",
    "print(movies.shape)\n",
    "movies.head(1)"
   ]
  },
  {
   "cell_type": "code",
   "execution_count": null,
   "id": "87910afa",
   "metadata": {},
   "outputs": [],
   "source": [
    "moives_df=movies[['id', 'title','genres','vote_average','vote_count','populartiy','keywords','overview']]\n",
    "pd.set_option('max_colwidth',100)\n",
    "movies_df[['gneres','keywords']][:1]"
   ]
  },
  {
   "cell_type": "code",
   "execution_count": null,
   "id": "6c81cfd5",
   "metadata": {},
   "outputs": [],
   "source": [
    "from ast imoort literal_eval\n",
    "movies_df['genres']=movies_df['genres'].apply(literal_eval)\n",
    "movies_df['keywords']=movies_df['keywords'].apply(literal_eval)"
   ]
  },
  {
   "cell_type": "code",
   "execution_count": null,
   "id": "58272351",
   "metadata": {},
   "outputs": [],
   "source": [
    "moveis_df['genres']=movies_df['genres'].apply(lambda x:[y['name'] for y in x])\n",
    "moveis_df['keywords']=movies_df['keywords'].apply(lambda x: [y['name'] for y in x])\n",
    "movies_df[['genres', 'keywords']][:1]"
   ]
  },
  {
   "cell_type": "code",
   "execution_count": 1,
   "id": "9e7ac065",
   "metadata": {},
   "outputs": [],
   "source": [
    "#장르 콘텐츠 유사도 측정"
   ]
  },
  {
   "cell_type": "code",
   "execution_count": null,
   "id": "3313e62a",
   "metadata": {},
   "outputs": [],
   "source": [
    "# 문자열로 변경->countvectorizer->cosine similarity"
   ]
  },
  {
   "cell_type": "code",
   "execution_count": null,
   "id": "7c7264f7",
   "metadata": {},
   "outputs": [],
   "source": [
    "from sklearn.feature_extraction.text import CountVectorizer\n",
    "\n",
    "movies_df['genres_literal']=movies_df['genres'].apply(lambda x: (' ').join(x))\n",
    "count_vect=CountVectorizer(min_df=0, ngram_range(1,2))\n",
    "genre_mat=count_vect.fit_transform(movies_df['genres_literal'])\n",
    "print(gnre_mat.shape)\n"
   ]
  },
  {
   "cell_type": "code",
   "execution_count": null,
   "id": "cc035101",
   "metadata": {},
   "outputs": [],
   "source": [
    "from sklearn.metrics.pairwise import cosine_similarity\n",
    "\n",
    "genre_sim=cosine_similarity(genre_mat, genre_mat)\n",
    "print(genre_sim.shape)\n",
    "print(genre_sim[:1])"
   ]
  },
  {
   "cell_type": "code",
   "execution_count": null,
   "id": "a688cc08",
   "metadata": {},
   "outputs": [],
   "source": [
    "genre_sim_sorted_ind=genre_sim.argsort()[:,::-1] #유사도가 높은 순으로\n",
    "print(genre_sim_sorted_ind[:1])"
   ]
  },
  {
   "cell_type": "code",
   "execution_count": null,
   "id": "6630b7f9",
   "metadata": {},
   "outputs": [],
   "source": [
    "#genre content filitering based movie recommdation"
   ]
  },
  {
   "cell_type": "code",
   "execution_count": null,
   "id": "d27b4b6a",
   "metadata": {},
   "outputs": [],
   "source": [
    "def find_sim_movie(df, sorted_ind, title_name, top_n=10):\n",
    "    title_movie=df[df['title']==title_name]\n",
    "    title_index=title_movie.index.values\n",
    "    similar_indexes=sorted_ind[title_index, :(top_n)]\n",
    "    print(similar_indexes)\n",
    "    similar_indexes=similar_indexes.reshape(-1)\n",
    "    return df.iloc[similar_indexes]"
   ]
  },
  {
   "cell_type": "code",
   "execution_count": null,
   "id": "8c20a1eb",
   "metadata": {},
   "outputs": [],
   "source": [
    "similar_movies=find_sim_movie(movies_df. genre_sim_sorted_ind, 'The Godfather',10)\n",
    "similar_movies[['title', 'vote_average']]"
   ]
  },
  {
   "cell_type": "code",
   "execution_count": null,
   "id": "e98721a2",
   "metadata": {},
   "outputs": [],
   "source": [
    "movies_df[['title','vote_average','vote_count']].sort_values('vote_average',ascending=False)[:10]"
   ]
  },
  {
   "cell_type": "code",
   "execution_count": null,
   "id": "36d07c39",
   "metadata": {},
   "outputs": [],
   "source": [
    "#가중 평점"
   ]
  },
  {
   "cell_type": "code",
   "execution_count": null,
   "id": "2d9298b2",
   "metadata": {},
   "outputs": [],
   "source": [
    "C=movies_df['vote_average'].mean()\n",
    "m=movies_df['vote_count'].quantile(0.6)\n",
    "print('C:',round(C,3), 'm:',round(m,3))"
   ]
  },
  {
   "cell_type": "code",
   "execution_count": null,
   "id": "42e90728",
   "metadata": {},
   "outputs": [],
   "source": [
    "percentile=0.6\n",
    "m=movies['vote_count'].quantile(percentile)\n",
    "C=movies['vote_average'].mean()\n",
    "\n",
    "def weighted_vote_average(record):\n",
    "    v=record['vote_count']\n",
    "    R=record['vote_average']\n",
    "    \n",
    "    return ((v/(v+m))*R)+((m/(m+v))*C)\n",
    "\n",
    "\n",
    "movies['weighted_vote']=movies.apply(weighted_vote_average, axis=1)"
   ]
  },
  {
   "cell_type": "code",
   "execution_count": null,
   "id": "8ca6c985",
   "metadata": {},
   "outputs": [],
   "source": [
    "movies_df[['title','vote_average','weighted_vote','vote_count']].sort_valeus('weigted_vote', ascending=False)[:10]"
   ]
  },
  {
   "cell_type": "code",
   "execution_count": null,
   "id": "a4575427",
   "metadata": {},
   "outputs": [],
   "source": [
    "df find_sim_moive(df, sorted_ind, title_name, top_n=10):\n",
    "    title_movie=df[df['title']==title_name]\n",
    "    title_index=title_movie.index.values\n",
    "    \n",
    "    similar_indexes=sorted_ind[title_index,:(top_n*2)]\n",
    "    similar_indexes=similar_indexes.reshape(-1)\n",
    "    similar_indexes=similar_indexes[similar_indexes !=title_index]\n",
    "    \n",
    "    return df.iloc[similar_indexes].sort_vales('weighted_vote', ascending=False)[:top_n]\n",
    "\n",
    "similar_movies=find_sim_movie(movies_df, genre_sim_sorted_ind, 'The Godfather',10)\n",
    "similar_movies[['title','vote_average','weihted_vote']]"
   ]
  },
  {
   "cell_type": "markdown",
   "id": "5a442d35",
   "metadata": {},
   "source": [
    "### 아이템 기반 최근접이웃 협업 필터링"
   ]
  },
  {
   "cell_type": "code",
   "execution_count": null,
   "id": "74aeee8b",
   "metadata": {},
   "outputs": [],
   "source": [
    "import pandas as pd\n",
    "import numpy as np\n",
    "\n",
    "\n",
    "movies=pd.read_csv('./ml-latest-small/movies.cvs')\n",
    "ratings=pd.read_csv('./ml-latest-small/ratings.csv')\n",
    "print(movies.shape)\n",
    "print(ratings.shape)"
   ]
  },
  {
   "cell_type": "code",
   "execution_count": null,
   "id": "c89e1614",
   "metadata": {},
   "outputs": [],
   "source": [
    "ratings=ratings[['userID','movieID','rating']]\n",
    "ratings_matrix=ratings.pivot_table('rating',index='userID', columns='movieId')\n",
    "ratings_matrix.head(3)"
   ]
  },
  {
   "cell_type": "code",
   "execution_count": null,
   "id": "abdafbc7",
   "metadata": {},
   "outputs": [],
   "source": [
    "ratings_movies=pd.merge(ratings,movies, on='movieId')\n",
    "ratings_matirx=ratings_movies.pivot_table('rating',index='userId',columns='title')\n",
    "\n",
    "ratings_matirx=ratins_matrix.fillna(0)\n",
    "ratings_matirx.head(3)"
   ]
  },
  {
   "cell_type": "code",
   "execution_count": null,
   "id": "8da50137",
   "metadata": {},
   "outputs": [],
   "source": [
    "#영화간 유사도 산출 "
   ]
  },
  {
   "cell_type": "code",
   "execution_count": null,
   "id": "25fe4f5d",
   "metadata": {},
   "outputs": [],
   "source": [
    "ratings_matrix_T=ratings_matirx.transpose()\n",
    "ratins_matrix_T.head(3)"
   ]
  },
  {
   "cell_type": "code",
   "execution_count": null,
   "id": "ed9e946e",
   "metadata": {},
   "outputs": [],
   "source": [
    "# row by row cosine similarity"
   ]
  },
  {
   "cell_type": "code",
   "execution_count": null,
   "id": "78b7eb31",
   "metadata": {},
   "outputs": [],
   "source": [
    "from sklearn.metrics.pairwise import cosine_similarity\n",
    "\n",
    "item_sim=cosine_similarity(ratings_matrix_T, ratings_matrix_T)\n",
    "item_sim_df=pd.DataFrame(data=item_sim, index=ratings_matrix.columns, columns=ratings_matrix.columns)\n",
    "print(item_sim_df.shape)\n",
    "item_sim_df.head(3)"
   ]
  },
  {
   "cell_type": "code",
   "execution_count": null,
   "id": "6da10715",
   "metadata": {},
   "outputs": [],
   "source": [
    "item_sim_df[\"Godfather, The(1972)\"].sort_values(ascending=False)[:6]"
   ]
  },
  {
   "cell_type": "code",
   "execution_count": null,
   "id": "06305f67",
   "metadata": {},
   "outputs": [],
   "source": [
    "item_sim_df[\"Inception (2010)\"].sort_values(ascending=False)[1:6]"
   ]
  },
  {
   "cell_type": "code",
   "execution_count": null,
   "id": "f3d0606a",
   "metadata": {},
   "outputs": [],
   "source": [
    "#아이템 기반 최근접 이웃 협업 필터링으로 개인화된 영화 추천"
   ]
  },
  {
   "cell_type": "code",
   "execution_count": null,
   "id": "1171b60f",
   "metadata": {},
   "outputs": [],
   "source": [
    "def predict_rating(ratings_arr, item_sim_arr):\n",
    "    ratings_pred=ratings_arr.dot(item_sim_arr)/np.array([np.abs(item_sim_arr).sum(axis=1)])\n",
    "    return ratings_pred"
   ]
  },
  {
   "cell_type": "code",
   "execution_count": null,
   "id": "ea76bae4",
   "metadata": {},
   "outputs": [],
   "source": [
    "ratings_pred=predict_rating(ratings_matirx.values, item_simDF.values)\n",
    "ratings_pred_matrix=pd.DataFrame(data=ratings_pred, index=ratings_matrix.index, columns=ratings_matrix.columns)\n",
    "\n",
    "ratins_pred_matrix.head(3)"
   ]
  },
  {
   "cell_type": "code",
   "execution_count": null,
   "id": "e2b2cead",
   "metadata": {},
   "outputs": [],
   "source": [
    "from sklearn.metrics import mean_squared_rror\n",
    "\n",
    "def get_mse(pred, actual):\n",
    "    pred=pred[actual.nonzero()].flatten()\n",
    "    actual=actual[actual.nonzero()].flatten()\n",
    "    return mean_squared_error(pred, actual)\n",
    "\n",
    "\n",
    "\n",
    "print('아이템 기반 모든 최근접 이웃 mse: ', get_mse(ratings_pred, ratings_matrix.values))"
   ]
  },
  {
   "cell_type": "code",
   "execution_count": null,
   "id": "7382f3c5",
   "metadata": {},
   "outputs": [],
   "source": [
    "def predict_rating_topsim(ratings_arr, tiem_sim_arr, n=20):\n",
    "    pred=np.zeros(ratings_arr.shape)\n",
    "    \n",
    "    for col in range(ratings_arr.shape[1]):\n",
    "        top_n_items=[np.argsort(item_sim_arr[:,col])[:-n-1:-1]]\n",
    "        \n",
    "        for row in range(ratings_arr.shape[0]):\n",
    "            pred[row, col]=item_sim_arr[col, :][top_n_items].dot(ratings_arr[row,:][top_n_items].T)\n",
    "            \n",
    "            pred[row,col]/=np.sum(np.abs(item_sim_arr[col,:][top_n_items]))\n",
    "            \n",
    "    return pred"
   ]
  },
  {
   "cell_type": "code",
   "execution_count": null,
   "id": "2ad12320",
   "metadata": {},
   "outputs": [],
   "source": [
    "ratings_pred=predict_rating_topsim(ratings_matrix.values, item_sim_df.values, n=20)\n",
    "print('아이템 기반 최근접 top20 이웃 mse: ', get_mse(ratings_pred, ratings_matrix.values))\n",
    "\n",
    "\n",
    "ratings_pred_matrix=pd.DataFrame(data=ratings_pred, index=ratings_matrix.index, olumns=ratings_matrix. columns)"
   ]
  },
  {
   "cell_type": "code",
   "execution_count": null,
   "id": "7505b672",
   "metadata": {},
   "outputs": [],
   "source": [
    "user_rating_id=ratings_matrix.loc[9,:]\n",
    "user_rating_id[user_rating_id>0].sort_values(ascending=False)[:10]"
   ]
  },
  {
   "cell_type": "code",
   "execution_count": null,
   "id": "1ef9c21e",
   "metadata": {},
   "outputs": [],
   "source": [
    "def get_unseen_movies(ratings_matrix, userId):\n",
    "    user_rating=ratings_matrix.loc[userId, :]\n",
    "    already_seen=user_rating[user_rating>0].index.toliset()\n",
    "    \n",
    "    movies_list=ratings_matrix.columns.tolist()\n",
    "    \n",
    "    unseen_list=[movie for movie in movies_list if movie not in alreay_seen]\n",
    "    \n",
    "    return unseen_list"
   ]
  },
  {
   "cell_type": "code",
   "execution_count": null,
   "id": "850da40c",
   "metadata": {},
   "outputs": [],
   "source": [
    "def recomm_movie_by_userid(pred_df, useId, unseen_list, top_n=10):\n",
    "    recomm_movies=pred_df.loc[userId, unseen_list].sort_values(ascending=False)[:top_n]\n",
    "    return recomm_movies\n",
    "\n",
    "\n",
    "unseen_list=get_unseen_movies(ratings_natrix, 9)\n",
    "recomm_movies=recomm_movie_by_userid(ratings_pred_matrix, 9, unseen_list, top_n=10)\n",
    "\n",
    "recomm_movies=pd.DataFrame(data=recomm_movies.values, index=recomm_movies.index, columns=['pred_score'])\n",
    "\n",
    "\n",
    "recomm_movies"
   ]
  },
  {
   "cell_type": "markdown",
   "id": "404f7fb2",
   "metadata": {},
   "source": [
    "### 행렬분해를 이용한 잠재요인 협업 필터링 "
   ]
  },
  {
   "cell_type": "code",
   "execution_count": null,
   "id": "16337017",
   "metadata": {},
   "outputs": [],
   "source": [
    "def matrix_factorization(R, K, steps=200, learning_rate=0.01, r_lambda=0.01):\n",
    "    num_users, num_items=R.shape\n",
    "    \n",
    "    np.random.seed(1)\n",
    "    P=np.random.normal(scale=1./k, size=(num_users,K))\n",
    "    Q=np.random.normal(scale=1./k, size=(num_items,K))\n",
    "    \n",
    "    prev_rmse=10000\n",
    "    break_count=0\n",
    "    \n",
    "    non_zeros=[(i,j,K[i,j]) for i in range(num_users) for j in range(num_items) if R[i,j]>0]\n",
    "    \n",
    "    \n",
    "    for step in range(steps):\n",
    "        for i, j,r in non_zeros:\n",
    "            eih=r-np.dot(P[i,:],Q[j,:].T)\n",
    "            \n",
    "            P[i,:]=P[i,:]+learning_rate*(eij*Q[j,:]-r_lambda*P[i,:])\n",
    "            Q[j,:]=Q[j,:]+learning_rate*(eij*P[i,:]-r_lambda*Q[j,:])\n",
    "            \n",
    "            \n",
    "            rmse=get_rmse(R,P,Q, non_zeros)\n",
    "            if(step%10)==0:\n",
    "                print(\"### iteration step:\", step, \"rmse:\", rmse)\n",
    "                \n",
    "                \n",
    "    return P,Q"
   ]
  },
  {
   "cell_type": "code",
   "execution_count": null,
   "id": "71a049df",
   "metadata": {},
   "outputs": [],
   "source": [
    "import pandas as pd\n",
    "import numpy as np\n",
    "\n",
    "movies=pd.read_csv('./ml-latest-small/movies.csv')\n",
    "ratings=pd.read_csv('./ml-latest-small/ratings.csv')\n",
    "ratings=ratings[['userId','movieId', 'ratings']]\n",
    "ratings_matrix=ratings.pivot_table('rating',index='userId', columns='movieId')\n",
    "\n",
    "rating_movies=pd.merge(ratings, movies, on='movieId')\n",
    "ratings_matrix=rating_movies.pivot_table('rating', index='userId', columns='title')"
   ]
  },
  {
   "cell_type": "code",
   "execution_count": null,
   "id": "de36a2f1",
   "metadata": {},
   "outputs": [],
   "source": [
    "P,Q=matrix_factorization(ratings_matrix.values, K=50, steps=200, learning_rate=0.01, r_lambda=0.01)\n",
    "\n",
    "pred_matrix=np.dot(P,Q.T)"
   ]
  },
  {
   "cell_type": "code",
   "execution_count": null,
   "id": "dd784a05",
   "metadata": {},
   "outputs": [],
   "source": [
    "ratings_pred_matrix=pd.DataFrame(data=pred_matrix, index=ratings_matrix.index, columns=ratings_matrix.columns)\n",
    "ratings_pred_matrix.head(3)"
   ]
  },
  {
   "cell_type": "code",
   "execution_count": null,
   "id": "1ef34b7b",
   "metadata": {},
   "outputs": [],
   "source": [
    "unseen_list=get_unseen_movies(ratings_matrix, 9)\n",
    "recomm_movies=recomm_movie_by_userid(ratings_pred_matrix, 9, unseen_list, top_n=10)\n",
    "\n",
    "recomm_movies=pd.DataFrame(data=recomm_movies.values, index=recomm_movies.index, columns=['pred_socre'])\n",
    "recomm_movies"
   ]
  },
  {
   "cell_type": "markdown",
   "id": "83ab931e",
   "metadata": {},
   "source": [
    "### 파이썬 추천 시스템 패키지-surprise"
   ]
  },
  {
   "cell_type": "code",
   "execution_count": null,
   "id": "8d257ba6",
   "metadata": {},
   "outputs": [],
   "source": [
    "!pip install scikit-surprise"
   ]
  },
  {
   "cell_type": "code",
   "execution_count": null,
   "id": "d169fcdb",
   "metadata": {},
   "outputs": [],
   "source": [
    "from surprise import SVD\n",
    "from surprise import Dataset\n",
    "from surprise import accuracy\n",
    "from suprise.model_selection import train_test_split\n",
    "\n"
   ]
  },
  {
   "cell_type": "code",
   "execution_count": null,
   "id": "7d7cb731",
   "metadata": {},
   "outputs": [],
   "source": [
    "data=Dataset.load_builtin('ml-100k')\n",
    "trainset, testset=train_test_split(data, test_size=.25, random_state=0)"
   ]
  },
  {
   "cell_type": "code",
   "execution_count": null,
   "id": "75b7642a",
   "metadata": {},
   "outputs": [],
   "source": [
    "algo=SVD()\n",
    "algo.fit(trainset)\n",
    "\n"
   ]
  },
  {
   "cell_type": "code",
   "execution_count": null,
   "id": "b9e8d031",
   "metadata": {},
   "outputs": [],
   "source": [
    "predictions=algo.test(testset)\n",
    "print('prediction type:', type(predictions), 'size:', len(predictions))\n",
    "print('prediction first 5')\n",
    "predictions[:5]"
   ]
  },
  {
   "cell_type": "code",
   "execution_count": null,
   "id": "f583131e",
   "metadata": {},
   "outputs": [],
   "source": [
    "[(pred.uid, pred.iid, pred.est) for pred in predictions[:3]]"
   ]
  },
  {
   "cell_type": "code",
   "execution_count": null,
   "id": "3559dd6b",
   "metadata": {},
   "outputs": [],
   "source": [
    "uid=str(196)\n",
    "iid=str(302)\n",
    "pred=algo.predict(uid, iid)\n",
    "print(pred)"
   ]
  },
  {
   "cell_type": "code",
   "execution_count": null,
   "id": "8afd73ec",
   "metadata": {},
   "outputs": [],
   "source": [
    "accuracy.rmse(predictions)"
   ]
  },
  {
   "cell_type": "code",
   "execution_count": null,
   "id": "e82979b8",
   "metadata": {},
   "outputs": [],
   "source": [
    "# 판다스 dataframe에서 surprise 데이터 세트로 로딩"
   ]
  },
  {
   "cell_type": "code",
   "execution_count": null,
   "id": "414ea7e7",
   "metadata": {},
   "outputs": [],
   "source": [
    "import pandas as pd\n",
    "from surprise import Reader, Dataset\n",
    "\n",
    "ratings=pd.read_csv('./ml-latest-small/ratings.csv')\n",
    "reader=Reader(rating_scale(0.5,5.0))\n",
    "\n",
    "data=Dataset.load_from_df(ratings[['userId','movieId', 'rating']], reader)\n",
    "trainset, testset=train_test_split(data, test_size=.25, random_state=0)\n",
    "\n",
    "algo=SVD(n_factos=50, random_state=0)\n",
    "algo.fit(trainset)\n",
    "predictions=algo.test(testset)\n",
    "accuracy.rmse(predictions)"
   ]
  },
  {
   "cell_type": "code",
   "execution_count": null,
   "id": "bc63258f",
   "metadata": {},
   "outputs": [],
   "source": [
    "# 교차검증과 하이퍼 파라미터 튜닝"
   ]
  },
  {
   "cell_type": "code",
   "execution_count": null,
   "id": "84973e9b",
   "metadata": {},
   "outputs": [],
   "source": [
    "from surprise.model_selection import cross_validate\n",
    "\n",
    "ratings=pd.read_csv('/ml-latest-small/ratings.csv')\n",
    "readerREader(ratings_scale=(0.5,5.0))\n",
    "data=Dataset.load_from_df(ratings[['userId', 'movieId', 'ratings']], reader)\n",
    "\n",
    "\n",
    "algo=SVD(random_state=0)\n",
    "cross_validate(algo, data, measures=['RMSE', 'MAE'], cv=5, verbose=True)"
   ]
  },
  {
   "cell_type": "code",
   "execution_count": null,
   "id": "34710c5e",
   "metadata": {},
   "outputs": [],
   "source": [
    "from surprise.model_selection import GridSearchCV\n",
    "\n",
    "param_grid={'n_epochs':[20,40,60], 'n_factors':[50,100,200]}\n",
    "gs=GridSearchCV(SVD, param_grid, measures=['rmse', 'mae'], cv=3)\n",
    "gs.fit(data)\n",
    "\n",
    "print(gs.best_score['rmse'])\n",
    "print(gs.best_params['rmse'])"
   ]
  },
  {
   "cell_type": "code",
   "execution_count": null,
   "id": "426fd745",
   "metadata": {},
   "outputs": [],
   "source": [
    "#개인화 영화 추천 시스템 구축"
   ]
  },
  {
   "cell_type": "code",
   "execution_count": null,
   "id": "9ab9d4cc",
   "metadata": {},
   "outputs": [],
   "source": [
    "data=Dataset.load_from_df(ratings[['userId', 'movieId', 'ratings']], reader)\n",
    "algo=SVD(n_factors=50,random_state=0)\n",
    "algo.fit(data)"
   ]
  },
  {
   "cell_type": "code",
   "execution_count": null,
   "id": "f61fb97c",
   "metadata": {},
   "outputs": [],
   "source": [
    "from surprise.dataset import DatasetAutoFolds\n",
    "\n",
    "reader=Reader(line_format='user item rating imestamp', set=',', rating_scale=(0.5,5))\n",
    "data_folds=DatasetAutoFolds(ratings_file='./ml-latest-small/ratings_noh.csv', reader=reader)\n",
    "\n",
    "trainset=data_folds.build_full_trainset()"
   ]
  },
  {
   "cell_type": "code",
   "execution_count": null,
   "id": "9414afe8",
   "metadata": {},
   "outputs": [],
   "source": [
    "algo=SVD(n_epochs=20, n_factors=50, random_state=0)\n",
    "algo.fit(trainset)"
   ]
  },
  {
   "cell_type": "code",
   "execution_count": null,
   "id": "ccd49c9a",
   "metadata": {},
   "outputs": [],
   "source": [
    "movies=pd.read_csv('/ml-latest-small/movies.csv')\n",
    "\n",
    "movieIds=ratings[ratings['userId']==9]['movieId']\n",
    "if movieIds[movieIds==42].count()==0:\n",
    "    print('사용자 아이디9는 영화 아이디 42의 평점 없음')\n",
    "    \n",
    "print(movies[movies['movieId']==42])"
   ]
  },
  {
   "cell_type": "code",
   "execution_count": null,
   "id": "4f37dbf5",
   "metadata": {},
   "outputs": [],
   "source": [
    "uid=ste(9)\n",
    "iid=ste(42)\n",
    "\n",
    "pred=algo.predict(uid, iid, verbose=True)"
   ]
  },
  {
   "cell_type": "code",
   "execution_count": null,
   "id": "5545e913",
   "metadata": {},
   "outputs": [],
   "source": [
    "def get_unseen_surprise(ratings, movies, userId):\n",
    "    seen_movies=ratings[ratings['userId']==userId]['movieId'].tolist()\n",
    "    \n",
    "    total_movies=movies['movieId'].tolist()\n",
    "    \n",
    "    unseen_movies=[movie for movie in total_movies if movie not in seen_movies]\n",
    "    print('평점 매긴 영화 수:', len(seen_movies), '추천 대상 영화 수: ', len(unseen_movies), '전체 영화 수:', len(total_movies))\n",
    "    \n",
    "    return unseen_movies\n",
    "\n",
    "unseen_movies=get_unseen_surprise(ratings, movies, 9)"
   ]
  },
  {
   "cell_type": "code",
   "execution_count": null,
   "id": "aca20a08",
   "metadata": {},
   "outputs": [],
   "source": [
    "def recomm_movie_by_surprise(algo, userId, unseen_movies, top_n=10):\n",
    "    predictions=[algo.predict(str(userId), str(movieId)) for movieId in unseen_movies]\n",
    "    \n",
    "    def sortkey_est(pred):\n",
    "        return pred.est\n",
    "    \n",
    "    predictions.sort(key=sortkey_est, reverse=True)\n",
    "    top_predictions=predictions[:top_n]\n",
    "    \n",
    "    top_movie_ids=[int(pred.iid) for pred in top_predictions]\n",
    "    top_movie_rating=[pred.est for pred in toppredictions]\n",
    "    top_movie_titles=movies[movies.movieId.isin(top_movie_ids)]['title']\n",
    "    top_movie_preds=[(id, title, rating) for id, title, rating in  zip(top_movie_ids, top_movi_titles, top_movie_rating)]\n",
    "    return top_movie_preds\n",
    "\n",
    "\n",
    "unseen_movie=get_unseen_surprise(ratings, movies, 9)\n",
    "top_movie_pres=recomm_movie_by_surprise(algo, 9, unseen_movies, top_n=10)\n",
    "\n",
    "print('###추천 리스트###')\n",
    "for top_movie in top_movie_preds:\n",
    "    print(top_movie[1], \":\", top_movie[2])"
   ]
  }
 ],
 "metadata": {
  "kernelspec": {
   "display_name": "Python 3",
   "language": "python",
   "name": "python3"
  },
  "language_info": {
   "codemirror_mode": {
    "name": "ipython",
    "version": 3
   },
   "file_extension": ".py",
   "mimetype": "text/x-python",
   "name": "python",
   "nbconvert_exporter": "python",
   "pygments_lexer": "ipython3",
   "version": "3.8.8"
  }
 },
 "nbformat": 4,
 "nbformat_minor": 5
}
