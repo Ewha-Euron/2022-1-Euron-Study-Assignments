{
 "cells": [
  {
   "cell_type": "markdown",
   "metadata": {},
   "source": [
    "# CS224N Assignment 1: Exploring Word Vectors (25 Points)\n",
    "\n",
    "Welcome to CS224n! \n",
    "\n",
    "Before you start, make sure you read the README.txt in the same directory as this notebook. "
   ]
  },
  {
   "cell_type": "code",
   "execution_count": 11,
   "metadata": {},
   "outputs": [
    {
     "name": "stderr",
     "output_type": "stream",
     "text": [
      "[nltk_data] Downloading package reuters to\n",
      "[nltk_data]     C:\\Users\\user\\AppData\\Roaming\\nltk_data...\n",
      "[nltk_data]   Package reuters is already up-to-date!\n"
     ]
    }
   ],
   "source": [
    "# All Import Statements Defined Here\n",
    "# Note: Do not add to this list.\n",
    "# All the dependencies you need, can be installed by running .\n",
    "# ----------------\n",
    "\n",
    "import sys\n",
    "assert sys.version_info[0]==3\n",
    "assert sys.version_info[1] >= 5\n",
    "\n",
    "from gensim.models import KeyedVectors\n",
    "from gensim.test.utils import datapath\n",
    "import pprint\n",
    "import matplotlib.pyplot as plt\n",
    "plt.rcParams['figure.figsize'] = [10, 5]\n",
    "import nltk\n",
    "nltk.download('reuters')\n",
    "from nltk.corpus import reuters\n",
    "import numpy as np\n",
    "import random\n",
    "import scipy as sp\n",
    "from sklearn.decomposition import TruncatedSVD\n",
    "from sklearn.decomposition import PCA\n",
    "\n",
    "START_TOKEN = '<START>'\n",
    "END_TOKEN = '<END>'\n",
    "\n",
    "np.random.seed(0)\n",
    "random.seed(0)\n",
    "# ----------------"
   ]
  },
  {
   "cell_type": "markdown",
   "metadata": {},
   "source": [
    "## Please Write Your SUNet ID Here: "
   ]
  },
  {
   "cell_type": "markdown",
   "metadata": {},
   "source": [
    "## Word Vectors\n",
    "\n",
    "Word Vectors are often used as a fundamental component for downstream NLP tasks, e.g. question answering, text generation, translation, etc., so it is important to build some intuitions as to their strengths and weaknesses. Here, you will explore two types of word vectors: those derived from *co-occurrence matrices*, and those derived via *word2vec*. \n",
    "\n",
    "**Assignment Notes:** Please make sure to save the notebook as you go along. Submission Instructions are located at the bottom of the notebook.\n",
    "\n",
    "**Note on Terminology:** The terms \"word vectors\" and \"word embeddings\" are often used interchangeably. The term \"embedding\" refers to the fact that we are encoding aspects of a word's meaning in a lower dimensional space. As [Wikipedia](https://en.wikipedia.org/wiki/Word_embedding) states, \"*conceptually it involves a mathematical embedding from a space with one dimension per word to a continuous vector space with a much lower dimension*\"."
   ]
  },
  {
   "cell_type": "markdown",
   "metadata": {},
   "source": [
    "## Part 1: Count-Based Word Vectors (10 points)\n",
    "\n",
    "Most word vector models start from the following idea:\n",
    "\n",
    "*You shall know a word by the company it keeps ([Firth, J. R. 1957:11](https://en.wikipedia.org/wiki/John_Rupert_Firth))*\n",
    "\n",
    "Many word vector implementations are driven by the idea that similar words, i.e., (near) synonyms, will be used in similar contexts. As a result, similar words will often be spoken or written along with a shared subset of words, i.e., contexts. By examining these contexts, we can try to develop embeddings for our words. With this intuition in mind, many \"old school\" approaches to constructing word vectors relied on word counts. Here we elaborate upon one of those strategies, *co-occurrence matrices* (for more information, see [here](http://web.stanford.edu/class/cs124/lec/vectorsemantics.video.pdf) or [here](https://medium.com/data-science-group-iitr/word-embedding-2d05d270b285))."
   ]
  },
  {
   "cell_type": "markdown",
   "metadata": {},
   "source": [
    "# Part 2: Prediction-Based Word Vectors (15 points)\n",
    "\n",
    "As discussed in class, more recently prediction-based word vectors have come into fashion, e.g. word2vec. Here, we shall explore the embeddings produced by word2vec. Please revisit the class notes and lecture slides for more details on the word2vec algorithm. If you're feeling adventurous, challenge yourself and try reading the [original paper](https://papers.nips.cc/paper/5021-distributed-representations-of-words-and-phrases-and-their-compositionality.pdf).\n",
    "\n",
    "Then run the following cells to load the word2vec vectors into memory.**Note**: This might take several minutes.\n",
    "\n",
    "- Prediction-based 워드 임베딩 방식 중 하나인 word2vec을 구현한 결과를 분석해보자."
   ]
  },
  {
   "cell_type": "code",
   "execution_count": 4,
   "metadata": {},
   "outputs": [],
   "source": [
    "def load_word2vec():\n",
    "    \"\"\" Load Word2Vec Vectors\n",
    "        Return:\n",
    "            wv_from_bin: All 3 million embeddings, each length 300\n",
    "    \"\"\"\n",
    "    import gensim.downloader as api\n",
    "    wv_from_bin = api.load(\"word2vec-google-news-300\")\n",
    "    # 파이썬 json에서 파일을 읽을 때는 load를, 문자열을 읽을 때는 loads를 사용한다.\n",
    "    \n",
    "    vocab = list(wv_from_bin.vocab.keys())\n",
    "    print(\"Loaded vocab size %i\" % len(vocab))\n",
    "    return wv_from_bin"
   ]
  },
  {
   "cell_type": "code",
   "execution_count": 5,
   "metadata": {
    "scrolled": true
   },
   "outputs": [
    {
     "name": "stdout",
     "output_type": "stream",
     "text": [
      "Loaded vocab size 3000000\n"
     ]
    }
   ],
   "source": [
    "# -----------------------------------\n",
    "# Run Cell to Load Word Vectors\n",
    "# Note: This may take several minutes\n",
    "# -----------------------------------\n",
    "wv_from_bin = load_word2vec()"
   ]
  },
  {
   "cell_type": "markdown",
   "metadata": {},
   "source": [
    "**Note: If you are receiving out of memory issues on your local machine, try closing other applications to free more memory on your device. You may want to try restarting your machine so that you can free up extra memory. Then immediately run the jupyter notebook and see if you can load the word vectors properly. If you still have problems with loading the embeddings onto your local machine after this, please follow the Piazza instructions, as how to run remotely on Stanford Farmshare machines.**"
   ]
  },
  {
   "cell_type": "markdown",
   "metadata": {},
   "source": [
    "### Reducing dimensionality of Word2Vec Word Embeddings\n",
    "Let's directly compare the word2vec embeddings to those of the co-occurrence matrix. Run the following cells to:\n",
    "\n",
    "1. Put the 3 million word2vec vectors into a matrix M\n",
    "2. Run reduce_to_k_dim (your Truncated SVD function) to reduce the vectors from 300-dimensional to 2-dimensional.\n",
    "\n",
    "- SVD를 이용하여 차원을 축소하는 과정"
   ]
  },
  {
   "cell_type": "code",
   "execution_count": 6,
   "metadata": {},
   "outputs": [],
   "source": [
    "def get_matrix_of_vectors(wv_from_bin, required_words=['barrels', 'bpd', 'ecuador', 'energy', 'industry', 'kuwait', 'oil', 'output', 'petroleum', 'venezuela']):\n",
    "    \"\"\" Put the word2vec vectors into a matrix M.\n",
    "        Param:\n",
    "            wv_from_bin: KeyedVectors object; the 3 million word2vec vectors loaded from file\n",
    "        Return:\n",
    "            M: numpy matrix shape (num words, 300) containing the vectors\n",
    "            word2Ind: dictionary mapping each word to its row number in M\n",
    "    \"\"\"\n",
    "    import random\n",
    "    words = list(wv_from_bin.vocab.keys())\n",
    "    print(\"Shuffling words ...\")\n",
    "    random.shuffle(words)\n",
    "    # list 내 sequence를 무작위로 재배열\n",
    "    words = words[:10000]\n",
    "    print(\"Putting %i words into word2Ind and matrix M...\" % len(words))\n",
    "    word2Ind = {}\n",
    "    M = []\n",
    "    curInd = 0\n",
    "    for w in words:\n",
    "        # 예외처리문을 활용해서 except문에서 명시한 KeyError가 발생하더라도 continue\n",
    "        try:\n",
    "            M.append(wv_from_bin.word_vec(w))\n",
    "            word2Ind[w] = curInd\n",
    "            curInd += 1\n",
    "        except KeyError:\n",
    "            continue\n",
    "    for w in required_words:\n",
    "        try:\n",
    "            M.append(wv_from_bin.word_vec(w))\n",
    "            word2Ind[w] = curInd\n",
    "            curInd += 1\n",
    "        except KeyError:\n",
    "            continue\n",
    "    M = np.stack(M)\n",
    "    # numpy stack함수를 통해 배열을 합친다. (둘 이상의 배열 합칠 경우, 배열 간 shape이 동일해야 함.)\n",
    "    print(\"Done.\")\n",
    "    return M, word2Ind"
   ]
  },
  {
   "cell_type": "markdown",
   "metadata": {},
   "source": [
    "- numpy stack 함수\n",
    "https://numpy.org/doc/stable/reference/generated/numpy.stack.html"
   ]
  },
  {
   "cell_type": "code",
   "execution_count": 12,
   "metadata": {},
   "outputs": [
    {
     "name": "stdout",
     "output_type": "stream",
     "text": [
      "Shuffling words ...\n",
      "Putting 10000 words into word2Ind and matrix M...\n",
      "Done.\n",
      "Running Truncated SVD over 10010 words...\n",
      "Done.\n"
     ]
    }
   ],
   "source": [
    "# -----------------------------------------------------------------\n",
    "# Run Cell to Reduce 300-Dimensinal Word Embeddings to k Dimensions\n",
    "# Note: This may take several minutes\n",
    "# -----------------------------------------------------------------\n",
    "M, word2Ind = get_matrix_of_vectors(wv_from_bin)\n",
    "M_reduced = reduce_to_k_dim(M, k=2)"
   ]
  },
  {
   "cell_type": "markdown",
   "metadata": {},
   "source": [
    "### Question 2.1: Word2Vec Plot Analysis [written] (4 points)\n",
    "\n",
    "Run the cell below to plot the 2D word2vec embeddings for `['barrels', 'bpd', 'ecuador', 'energy', 'industry', 'kuwait', 'oil', 'output', 'petroleum', 'venezuela']`.\n",
    "\n",
    "What clusters together in 2-dimensional embedding space? What doesn't cluster together that you might think should have? How is the plot different from the one generated earlier from the co-occurrence matrix?"
   ]
  },
  {
   "cell_type": "code",
   "execution_count": 13,
   "metadata": {},
   "outputs": [
    {
     "data": {
      "image/png": "[encoded data removed]",
      "text/plain": [
       "<Figure size 720x360 with 1 Axes>"
      ]
     },
     "metadata": {
      "needs_background": "light"
     },
     "output_type": "display_data"
    }
   ],
   "source": [
    "words = ['barrels', 'bpd', 'ecuador', 'energy', 'industry', 'kuwait', 'oil', 'output', 'petroleum', 'venezuela']\n",
    "plot_embeddings(M_reduced, word2Ind, words)"
   ]
  },
  {
   "cell_type": "markdown",
   "metadata": {},
   "source": [
    "#### <font color=\"red\">Write your answer here.</font>\n",
    "co-occurence matrix를 바탕으로 한 embedding space보다는 단어들의 분포가 less dense하다.\n",
    "energy와 industry가 붙어 있는 cluster가 관찰이 되며, oil과 petroleum은 서로 가깝게 위치하지만, barrels나 bpd 같은 oil의 단위 관련 단어와는 멀리 떨어져 있다.\n",
    "산유국 관련 단어인 ecuador, venezuela, kuwait가 가깝게 위치하고, output이 barrels, bpd 근처에 위치해야 할 것 같다."
   ]
  },
  {
   "cell_type": "markdown",
   "metadata": {},
   "source": [
    "### Cosine Similarity\n",
    "Now that we have word vectors, we need a way to quantify the similarity between individual words, according to these vectors. One such metric is cosine-similarity. We will be using this to find words that are \"close\" and \"far\" from one another.\n",
    "\n",
    "We can think of n-dimensional vectors as points in n-dimensional space. If we take this perspective L1 and L2 Distances help quantify the amount of space \"we must travel\" to get between these two points. Another approach is to examine the angle between two vectors. From trigonometry we know that:\n",
    "\n",
    "<img src=\"imgs/inner_product.png\" width=20% style=\"float: center;\"></img>\n",
    "\n",
    "Instead of computing the actual angle, we can leave the similarity in terms of $similarity = cos(\\Theta)$. Formally the [Cosine Similarity](https://en.wikipedia.org/wiki/Cosine_similarity) $s$ between two vectors $p$ and $q$ is defined as:\n",
    "\n",
    "$$s = \\frac{p \\cdot q}{||p|| ||q||}, \\textrm{ where } s \\in [-1, 1] $$ \n",
    "\n",
    "\n",
    "- 개별 단어들 간의 유사성을 판단하기 위해 --> 두 벡터 간의 코사인 각도를 통해 구하는 cosine similarity를 측정하자.\n",
    "- 두 벡터의 방향이 완전히 동일한 경우에는 1의 값을 가지며, 90°의 각을 이루면 0, 180°로 반대의 방향을 가지면 -1의 값을 갖게 됩니다. \n",
    "- 코사인 유사도는 -1 이상 1 이하의 값을 가지며 값이 1에 가까울수록 유사도가 높다고 판단할 수 있습니다. \n",
    "\n",
    "https://wikidocs.net/24603"
   ]
  },
  {
   "cell_type": "markdown",
   "metadata": {},
   "source": [
    "### Question 2.2: Polysemous Words (2 points) [code + written] \n",
    "Find a [polysemous](https://en.wikipedia.org/wiki/Polysemy) word (for example, \"leaves\" or \"scoop\") such that the top-10 most similar words (according to cosine similarity) contains related words from *both* meanings. For example, \"leaves\" has both \"vanishes\" and \"stalks\" in the top 10, and \"scoop\" has both \"handed_waffle_cone\" and \"lowdown\". You will probably need to try several polysemous words before you find one. Please state the polysemous word you discover and the multiple meanings that occur in the top 10. Why do you think many of the polysemous words you tried didn't work?\n",
    "\n",
    "**Note**: You should use the `wv_from_bin.most_similar(word)` function to get the top 10 similar words. This function ranks all other words in the vocabulary with respect to their cosine similarity to the given word. For further assistance please check the __[GenSim documentation](https://radimrehurek.com/gensim/models/keyedvectors.html#gensim.models.keyedvectors.FastTextKeyedVectors.most_similar)__.\n",
    "\n",
    "\n",
    "- 다의어(polysemous word)가 적절하게 분석이 되었는지 결과를 확인해보자."
   ]
  },
  {
   "cell_type": "code",
   "execution_count": 14,
   "metadata": {},
   "outputs": [
    {
     "name": "stdout",
     "output_type": "stream",
     "text": [
      "Top 10 most similar words to bank :\n",
      "[('banks', 0.7440759539604187), ('banking', 0.690161406993866), ('Bank', 0.6698698997497559), ('lender', 0.6342284679412842), ('banker', 0.6092953681945801), ('depositors', 0.6031531691551208), ('mortgage_lender', 0.5797975659370422), ('depositor', 0.5716428160667419), ('BofA', 0.5714625120162964), ('Citibank', 0.5589520335197449)]\n",
      "----------\n",
      "Top 10 most similar words to man :\n",
      "[('woman', 0.7664012908935547), ('boy', 0.6824870109558105), ('teenager', 0.6586930155754089), ('teenage_girl', 0.6147903800010681), ('girl', 0.5921714305877686), ('suspected_purse_snatcher', 0.5716364979743958), ('robber', 0.5585119128227234), ('Robbery_suspect', 0.5584409236907959), ('teen_ager', 0.5549196600914001), ('men', 0.5489763021469116)]\n",
      "----------\n",
      "Top 10 most similar words to leave :\n",
      "[('leaving', 0.6598548889160156), ('stay', 0.5787086486816406), ('depart', 0.5559219121932983), ('Leaving', 0.5488994717597961), ('left', 0.525093138217926), ('leaves', 0.5131403803825378), ('return', 0.5068632960319519), ('vacate', 0.494075208902359), ('quit', 0.4841381311416626), ('rejoin', 0.4835888743400574)]\n",
      "----------\n",
      "Top 10 most similar words to bright :\n",
      "[('brighter', 0.6687309741973877), ('dim', 0.5912142992019653), ('brightest', 0.5888547301292419), ('shining', 0.5731711387634277), ('brighten', 0.5229508876800537), ('Plaxico_Rosenhaus', 0.5220931768417358), ('thing_Swistel', 0.5165626406669617), ('blindingly_bright', 0.5112341642379761), ('dazzlingly_bright', 0.5109152793884277), ('shinning_brightly', 0.5104255676269531)]\n",
      "----------\n",
      "Top 10 most similar words to mouse :\n",
      "[('Logitech_MX_Revolution', 0.6175230741500854), ('Razer_Mamba', 0.5994571447372437), ('mice', 0.5896884799003601), ('cordless_laser', 0.5652030110359192), ('VX_Nano', 0.5619357824325562), ('Logitech_MX###', 0.5604779720306396), ('keyboard_arrow_keys', 0.5545550584793091), ('Logitech_G9x', 0.5538491606712341), ('NOTE_TO_READERS_Hovering', 0.5520266890525818), ('Razer_Abyssus', 0.5489388108253479)]\n",
      "----------\n",
      "Top 10 most similar words to pupil :\n",
      "[('pupils', 0.7353749871253967), ('Pupil', 0.6408381462097168), ('teacher', 0.6304073929786682), ('headteacher', 0.6125995516777039), ('Bournside', 0.5779732465744019), ('Primary_School', 0.5675208568572998), ('headmaster', 0.5624618530273438), ('Thornleigh_Salesian_College', 0.5623191595077515), ('Deyes_High', 0.5554063320159912), ('deputy_headteacher', 0.5545564293861389)]\n",
      "----------\n",
      "Top 10 most similar words to chip :\n",
      "[('chips', 0.7802261114120483), ('microprocessor', 0.6006555557250977), ('Mark_Calcavecchia_whiffed', 0.5954654216766357), ('Dothan_Pentium_M', 0.5947721600532532), ('quad_core_Itanium', 0.5919176936149597), ('JR_Simplot_potato', 0.5887922644615173), ('chipset', 0.5868330001831055), ('microchip', 0.5697091221809387), ('semiconductor', 0.5684637427330017), ('chipsets', 0.567610502243042)]\n",
      "----------\n",
      "Top 10 most similar words to wood :\n",
      "[('lumber', 0.6783119440078735), ('timber', 0.662209153175354), ('softwoods', 0.649677038192749), ('kiln_dried', 0.6470235586166382), ('hardwoods', 0.6398903131484985), ('basically_duffed', 0.6274369955062866), ('cedar', 0.6240392923355103), ('wood_flooring', 0.6199169158935547), ('rotting_fungi', 0.6186553239822388), ('cedar_shingles', 0.6174187660217285)]\n",
      "----------\n",
      "Top 10 most similar words to wave :\n",
      "[('tidal_wave', 0.690619707107544), ('waves', 0.6876773834228516), ('Wave', 0.5230103731155396), ('cresting_wave', 0.5147863030433655), ('surge', 0.5098444223403931), ('tide', 0.4839203357696533), ('dwindling_ordainments', 0.482497900724411), ('upswell', 0.473034530878067), ('multi_partyism_swept', 0.45797643065452576), ('rising_tide', 0.45656436681747437)]\n",
      "----------\n"
     ]
    }
   ],
   "source": [
    "# ------------------\n",
    "# Write your polysemous word exploration code here.\n",
    "polysem_words = ['bank', 'man', 'leave',\n",
    "                'bright', 'mouse', 'pupil',\n",
    "                'chip', 'wood', 'wave']\n",
    "\n",
    "for word in polysem_words:\n",
    "    print('Top 10 most similar words to', word, ':')\n",
    "    print(wv_from_bin.most_similar(word, topn=10))\n",
    "    print('-'*10)\n",
    "# ------------------"
   ]
  },
  {
   "cell_type": "markdown",
   "metadata": {},
   "source": [
    "#### <font color=\"red\">Write your answer here.</font>\n",
    "(이 부분은 답변을 잘 모르겠어서 검색 결과 가장 reasonable 하다고 생각되는 답변을 가지고 왔다.\n",
    "https://github.com/formiel/cs224n/blob/master/a1/exploring_word_vectors.ipynb)\n",
    "\n",
    "The polysemous word that I discovered: wave. There are 2 meanings of the word wave that occur in its top 10 most similar words: (1) a raised line of water across a surface of river or sea (_tide, tidalwave etc.) and (2) an increase in something (surge, upswell)\n",
    "\n",
    "Most of the words that I tried did not work (9/10). Their top 10 most similar words basically carry the same meanings as their own. I think this is possibly because the word vectors have been trained on the same field, in this case the crude oil industry. Hence, it is not very usual to use very different senses of a word in the same enviroment.\n",
    "\n",
    "I think that if different senses of a word are all commonly used, then it is logical to get multiple meanings of a word in the top 10 most similar algorithm. But why are there some words that are used with their different meanings more often than others? My hypothesis is that for words whose their literal meanings have something inherently referring to their figurative meanings (for example tide is the literal meaning and surge is the figurative meaning of wave), it is more likely to retrieve their different meanings in the top 10 most similar words. This is only my hypothesis since I think that it normally sounds better with something that could trigger your visual imagination, hence it is more common to use different senses of such words."
   ]
  },
  {
   "cell_type": "markdown",
   "metadata": {},
   "source": [
    "### Question 2.3: Synonyms & Antonyms (2 points) [code + written] \n",
    "\n",
    "When considering Cosine Similarity, it's often more convenient to think of Cosine Distance, which is simply 1 - Cosine Similarity.\n",
    "\n",
    "Find three words (w1,w2,w3) where w1 and w2 are synonyms and w1 and w3 are antonyms, but Cosine Distance(w1,w3) < Cosine Distance(w1,w2). For example, w1=\"happy\" is closer to w3=\"sad\" than to w2=\"cheerful\". \n",
    "\n",
    "Once you have found your example, please give a possible explanation for why this counter-intuitive result may have happened.\n",
    "\n",
    "You should use the the `wv_from_bin.distance(w1, w2)` function here in order to compute the cosine distance between two words. Please see the __[GenSim documentation](https://radimrehurek.com/gensim/models/keyedvectors.html#gensim.models.keyedvectors.FastTextKeyedVectors.distance)__ for further assistance."
   ]
  },
  {
   "cell_type": "code",
   "execution_count": 15,
   "metadata": {},
   "outputs": [
    {
     "name": "stdout",
     "output_type": "stream",
     "text": [
      "Synonyms good, excellent have cosine distance: 0.3557071089744568\n",
      "Antonyms good, bad have cosine distance: 0.28099489212036133\n"
     ]
    }
   ],
   "source": [
    "# ------------------\n",
    "# Write your synonym & antonym exploration code here.\n",
    "\n",
    "w1 = \"good\"\n",
    "w2 = \"excellent\"\n",
    "w3 = \"bad\"\n",
    "w1_w2_dist = wv_from_bin.distance(w1, w2)\n",
    "w1_w3_dist = wv_from_bin.distance(w1, w3)\n",
    "\n",
    "print(\"Synonyms {}, {} have cosine distance: {}\".format(w1, w2, w1_w2_dist))\n",
    "print(\"Antonyms {}, {} have cosine distance: {}\".format(w1, w3, w1_w3_dist))\n",
    "\n",
    "# ------------------"
   ]
  },
  {
   "cell_type": "markdown",
   "metadata": {},
   "source": [
    "#### <font color=\"red\">Write your answer here.</font>\n",
    "반의어가 반대되는 의미를 가지고 있다고 해도, two emotional scales 상에 평행하게 놓인다.\n",
    "이 two emotional scales는 happy에서 cheerful까지의 거리에 비해 더 가깝다."
   ]
  },
  {
   "cell_type": "markdown",
   "metadata": {},
   "source": [
    "### Solving Analogies with Word Vectors\n",
    "Word2Vec vectors have been shown to *sometimes* exhibit the ability to solve analogies. \n",
    "\n",
    "As an example, for the analogy \"man : king :: woman : x\", what is x?\n",
    "\n",
    "In the cell below, we show you how to use word vectors to find x. The `most_similar` function finds words that are most similar to the words in the `positive` list and most dissimilar from the words in the `negative` list. The answer to the analogy will be the word ranked most similar (largest numerical value).\n",
    "\n",
    "**Note:** Further Documentation on the `most_similar` function can be found within the __[GenSim documentation](https://radimrehurek.com/gensim/models/keyedvectors.html#gensim.models.keyedvectors.FastTextKeyedVectors.most_similar)__."
   ]
  },
  {
   "cell_type": "code",
   "execution_count": 16,
   "metadata": {},
   "outputs": [
    {
     "name": "stdout",
     "output_type": "stream",
     "text": [
      "[('queen', 0.7118192911148071),\n",
      " ('monarch', 0.6189674139022827),\n",
      " ('princess', 0.5902431011199951),\n",
      " ('crown_prince', 0.5499460697174072),\n",
      " ('prince', 0.5377321243286133),\n",
      " ('kings', 0.5236844420433044),\n",
      " ('Queen_Consort', 0.5235945582389832),\n",
      " ('queens', 0.518113374710083),\n",
      " ('sultan', 0.5098593235015869),\n",
      " ('monarchy', 0.5087411999702454)]\n"
     ]
    }
   ],
   "source": [
    "# Run this cell to answer the analogy -- man : king :: woman : x\n",
    "pprint.pprint(wv_from_bin.most_similar(positive=['woman', 'king'], negative=['man']))"
   ]
  },
  {
   "cell_type": "markdown",
   "metadata": {},
   "source": [
    "### Question 2.4: Finding Analogies [code + written]  (2 Points)\n",
    "Find an example of analogy that holds according to these vectors (i.e. the intended word is ranked top). In your solution please state the full analogy in the form x:y :: a:b. If you believe the analogy is complicated, explain why the analogy holds in one or two sentences.\n",
    "\n",
    "**Note**: You may have to try many analogies to find one that works!"
   ]
  },
  {
   "cell_type": "code",
   "execution_count": 17,
   "metadata": {},
   "outputs": [
    {
     "name": "stdout",
     "output_type": "stream",
     "text": [
      "[('atrocious', 0.5587530732154846),\n",
      " ('abysmal', 0.5366191864013672),\n",
      " ('lousy', 0.5216928124427795),\n",
      " ('exceptional', 0.5126670002937317),\n",
      " ('dreadful', 0.5080001354217529),\n",
      " ('horrid', 0.5061171054840088),\n",
      " ('horrible', 0.4950227439403534),\n",
      " ('awful', 0.493507444858551),\n",
      " ('appalling', 0.48994988203048706),\n",
      " ('horrendous', 0.486495703458786)]\n"
     ]
    }
   ],
   "source": [
    "# ------------------\n",
    "# Write your analogy exploration code here.\n",
    "\n",
    "pprint.pprint(wv_from_bin.most_similar(positive=['bad', 'excellent'], negative=['good']))\n",
    "\n",
    "# ------------------"
   ]
  },
  {
   "cell_type": "markdown",
   "metadata": {},
   "source": [
    "#### <font color=\"red\">Write your answer here.</font>\n",
    "The above analogy is of the form: good:excellent :: bad:atrocious."
   ]
  },
  {
   "cell_type": "markdown",
   "metadata": {},
   "source": [
    "### Question 2.5: Incorrect Analogy [code + written] (1 point)\n",
    "Find an example of analogy that does *not* hold according to these vectors. In your solution, state the intended analogy in the form x:y :: a:b, and state the (incorrect) value of b according to the word vectors."
   ]
  },
  {
   "cell_type": "code",
   "execution_count": 18,
   "metadata": {},
   "outputs": [
    {
     "name": "stdout",
     "output_type": "stream",
     "text": [
      "[('LaTeX', 0.5075627565383911),\n",
      " ('algebra_trigonometry', 0.5065194368362427),\n",
      " ('texts', 0.49263715744018555),\n",
      " ('mathematical_notation', 0.47823071479797363),\n",
      " ('MathML', 0.473571240901947),\n",
      " ('By_James_CREEDON', 0.47091731429100037),\n",
      " ('grammar_vocabulary', 0.46949633955955505),\n",
      " ('expository_writing', 0.46935802698135376),\n",
      " ('geometry_trigonometry', 0.4684414863586426),\n",
      " ('Koranic_interpretation', 0.4681488573551178)]\n"
     ]
    }
   ],
   "source": [
    "# ------------------\n",
    "# Write your incorrect analogy exploration code here.\n",
    "\n",
    "pprint.pprint(wv_from_bin.most_similar(positive=['text', 'mathmatics'], negative=['number']))\n",
    "\n",
    "# ------------------"
   ]
  },
  {
   "cell_type": "markdown",
   "metadata": {},
   "source": [
    "#### <font color=\"red\">Write your answer here.</font>\n",
    "The analogy is of the form: number:mathematics :: text:literature. The incorrect value of b is math."
   ]
  },
  {
   "cell_type": "markdown",
   "metadata": {},
   "source": [
    "### Question 2.6: Guided Analysis of Bias in Word Vectors [written] (1 point)\n",
    "\n",
    "It's important to be cognizant of the biases (gender, race, sexual orientation etc.) implicit to our word embeddings.\n",
    "\n",
    "Run the cell below, to examine (a) which terms are most similar to \"woman\" and \"boss\" and most dissimilar to \"man\", and (b) which terms are most similar to \"man\" and \"boss\" and most dissimilar to \"woman\". What do you find in the top 10?"
   ]
  },
  {
   "cell_type": "code",
   "execution_count": 19,
   "metadata": {},
   "outputs": [
    {
     "name": "stdout",
     "output_type": "stream",
     "text": [
      "[('bosses', 0.5522644519805908),\n",
      " ('manageress', 0.49151360988616943),\n",
      " ('exec', 0.459408164024353),\n",
      " ('Manageress', 0.45598435401916504),\n",
      " ('receptionist', 0.4474116861820221),\n",
      " ('Jane_Danson', 0.44480547308921814),\n",
      " ('Fiz_Jennie_McAlpine', 0.44275766611099243),\n",
      " ('Coronation_Street_actress', 0.44275569915771484),\n",
      " ('supremo', 0.4409852921962738),\n",
      " ('coworker', 0.4398624897003174)]\n",
      "\n",
      "[('supremo', 0.6097397804260254),\n",
      " ('MOTHERWELL_boss', 0.5489562153816223),\n",
      " ('CARETAKER_boss', 0.5375303626060486),\n",
      " ('Bully_Wee_boss', 0.5333974361419678),\n",
      " ('YEOVIL_Town_boss', 0.5321705341339111),\n",
      " ('head_honcho', 0.5281980037689209),\n",
      " ('manager_Stan_Ternent', 0.525971531867981),\n",
      " ('Viv_Busby', 0.5256163477897644),\n",
      " ('striker_Gabby_Agbonlahor', 0.5250812768936157),\n",
      " ('BARNSLEY_boss', 0.5238943099975586)]\n"
     ]
    }
   ],
   "source": [
    "# Run this cell\n",
    "# Here `positive` indicates the list of words to be similar to and `negative` indicates the list of words to be\n",
    "# most dissimilar from.\n",
    "pprint.pprint(wv_from_bin.most_similar(positive=['woman', 'boss'], negative=['man']))\n",
    "print()\n",
    "pprint.pprint(wv_from_bin.most_similar(positive=['man', 'boss'], negative=['woman']))"
   ]
  },
  {
   "cell_type": "markdown",
   "metadata": {},
   "source": [
    "#### <font color=\"red\">Write your answer here.</font>\n",
    "man:boss :: woman:u: u are bosses, manageress, exec, Manegeress and the 5th, 6th and 7th result refer to receptionist and actresses.\n",
    "woman:boss :: man:v: all refer to different types of managers except for only the 9th result, which refers to a striker in football."
   ]
  },
  {
   "cell_type": "markdown",
   "metadata": {},
   "source": [
    "### Question 2.7: Independent Analysis of Bias in Word Vectors [code + written]  (2 points)\n",
    "\n",
    "Use the `most_similar` function to find another case where some bias is exhibited by the vectors. Please briefly explain the example of bias that you discover."
   ]
  },
  {
   "cell_type": "code",
   "execution_count": 20,
   "metadata": {},
   "outputs": [
    {
     "name": "stdout",
     "output_type": "stream",
     "text": [
      "[('homemaker', 0.5627118945121765),\n",
      " ('housewife', 0.5105047225952148),\n",
      " ('graphic_designer', 0.505180299282074),\n",
      " ('schoolteacher', 0.49794942140579224),\n",
      " ('businesswoman', 0.49348920583724976),\n",
      " ('paralegal', 0.4925510883331299),\n",
      " ('registered_nurse', 0.49079740047454834),\n",
      " ('saleswoman', 0.4881627559661865),\n",
      " ('electrical_engineer', 0.4797726571559906),\n",
      " ('mechanical_engineer', 0.4755399823188782)]\n",
      "\n",
      "[('mechanical_engineer', 0.5722424387931824),\n",
      " ('programmer', 0.5207855105400085),\n",
      " ('electrical_engineer', 0.5194995403289795),\n",
      " ('carpenter', 0.5049606561660767),\n",
      " ('engineer', 0.5011439919471741),\n",
      " ('machinist', 0.4978950619697571),\n",
      " ('salesman', 0.4879138171672821),\n",
      " ('tinkerer', 0.4761508107185364),\n",
      " ('mechanic', 0.47450771927833557),\n",
      " ('mathematician', 0.4683227837085724)]\n",
      "------------------------------------------------------------\n",
      "[('nurse', 0.7127889394760132),\n",
      " ('doctors', 0.6593285799026489),\n",
      " ('gynecologist', 0.6454397439956665),\n",
      " ('physician', 0.6408007740974426),\n",
      " ('nurse_practitioner', 0.6387196183204651),\n",
      " ('pediatrician', 0.6093444228172302),\n",
      " ('midwife', 0.5823134183883667),\n",
      " ('pharmacist', 0.5700446367263794),\n",
      " ('oncologist', 0.5668959617614746),\n",
      " ('obstetrician', 0.5636125206947327)]\n",
      "\n",
      "[('physician', 0.6708430051803589),\n",
      " ('surgeon', 0.6096619367599487),\n",
      " ('doctors', 0.5943056344985962),\n",
      " ('orthopedic_surgeon', 0.5938172340393066),\n",
      " ('dentist', 0.5839548110961914),\n",
      " ('urologist', 0.5734840631484985),\n",
      " ('cardiologist', 0.5721563696861267),\n",
      " ('orthopedist', 0.565475344657898),\n",
      " ('ophthalmologist', 0.5647045373916626),\n",
      " ('neurologist', 0.551352858543396)]\n"
     ]
    }
   ],
   "source": [
    "# ------------------\n",
    "# Write your bias exploration code here.\n",
    "pprint.pprint(wv_from_bin.most_similar(positive=['woman', 'computer_programmer'], negative=['man']))\n",
    "print()\n",
    "pprint.pprint(wv_from_bin.most_similar(positive=['man', 'computer_programmer'], negative=['woman']))\n",
    "print('-' * 60)\n",
    "pprint.pprint(wv_from_bin.most_similar(positive=['mother', 'doctor'], negative=['father']))\n",
    "print()\n",
    "pprint.pprint(wv_from_bin.most_similar(positive=['father', 'doctor'], negative=['mother']))\n",
    "\n",
    "# ------------------"
   ]
  },
  {
   "cell_type": "markdown",
   "metadata": {},
   "source": [
    "#### <font color=\"red\">Write your answer here.</font>\n",
    "남성-컴퓨터 프로그래머 거리가 여성-가정주부까지의 거리와 동일한 성 편향을 나타낸다. 아버지-의사 거리는 어머니-간호사 거리와 같다. \n",
    "사회적인 고정관념이나 편견이 이러한 단어 벡터를 입력으로 사용하는 모델의 결과에 영향을 미칠 수 있다."
   ]
  },
  {
   "cell_type": "markdown",
   "metadata": {},
   "source": [
    "### Question 2.8: Thinking About Bias [written] (1 point)\n",
    "\n",
    "What might be the cause of these biases in the word vectors?"
   ]
  },
  {
   "cell_type": "markdown",
   "metadata": {},
   "source": [
    "#### <font color=\"red\">Write your answer here.</font>\n",
    "성별과 직업 간의 관계를 담고 있는 word vetors가 이러한 편견을 만들 수도 있다."
   ]
  },
  {
   "cell_type": "markdown",
   "metadata": {},
   "source": [
    "# <font color=\"blue\"> Submission Instructions</font>\n",
    "\n",
    "1. Click the Save button at the top of the Jupyter Notebook.\n",
    "2. Please make sure to have entered your SUNET ID above.\n",
    "3. Select Cell -> All Output -> Clear. This will clear all the outputs from all cells (but will keep the content of ll cells). \n",
    "4. Select Cell -> Run All. This will run all the cells in order, and will take several minutes.\n",
    "5. Once you've rerun everything, select File -> Download as -> PDF via LaTeX\n",
    "6. Look at the PDF file and make sure all your solutions are there, displayed correctly. The PDF is the only thing your graders will see!\n",
    "7. Submit your PDF on Gradescope."
   ]
  }
 ],
 "metadata": {
  "anaconda-cloud": {},
  "kernelspec": {
   "display_name": "Python 3",
   "language": "python",
   "name": "python3"
  },
  "language_info": {
   "codemirror_mode": {
    "name": "ipython",
    "version": 3
   },
   "file_extension": ".py",
   "mimetype": "text/x-python",
   "name": "python",
   "nbconvert_exporter": "python",
   "pygments_lexer": "ipython3",
   "version": "3.8.8"
  }
 },
 "nbformat": 4,
 "nbformat_minor": 2
}
