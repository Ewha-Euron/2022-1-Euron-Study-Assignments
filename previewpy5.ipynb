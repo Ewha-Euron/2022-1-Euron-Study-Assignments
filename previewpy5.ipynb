{
 "cells": [
  {
   "cell_type": "markdown",
   "id": "4c3f6880",
   "metadata": {},
   "source": [
    "### DA Week5 preview 박보영"
   ]
  },
  {
   "cell_type": "code",
   "execution_count": null,
   "id": "85c4fe7a",
   "metadata": {},
   "outputs": [],
   "source": [
    "import numpy as np\n",
    "import matplotlib.pyplot as plt\n",
    "%matplotlib inline\n",
    "\n",
    "np.random.seed(0)\n",
    "X=2*np.random.rand(100,1)\n",
    "y=6+4*X+np.random.randn(100,1)\n",
    "plt.scatter(X,y)"
   ]
  },
  {
   "cell_type": "code",
   "execution_count": null,
   "id": "ddb6548e",
   "metadata": {},
   "outputs": [],
   "source": [
    "def get_cost(y,y_pred):\n",
    "    N=len(y)\n",
    "    cost=np.sum(np.square(y-y_pred))/N\n",
    "    return cost\n"
   ]
  },
  {
   "cell_type": "code",
   "execution_count": null,
   "id": "45e6a32c",
   "metadata": {},
   "outputs": [],
   "source": [
    "#반복 업데이트\n",
    "def get_weight_updates(w1, w0, X,y,learning_rate=0.01):\n",
    "    N=len(y)\n",
    "    w1_update=np.zeros_like(w1)\n",
    "    w0_update=np.zeros_like(w0)\n",
    "    y_pred=np.dot(X,w1.T)+w0\n",
    "    diff=y-y_pred\n",
    "    \n",
    "    w0_factors=np.ones((N,1))\n",
    "    w1_update=-(2/N)*learning_rate*(np.dot(X.T,diff))\n",
    "    w0_update=-(2/N)*learning_rate*(np.dot(w0_factors.T, diff))\n",
    "    \n",
    "    return w1_update,w0_update"
   ]
  },
  {
   "cell_type": "code",
   "execution_count": null,
   "id": "cb86507e",
   "metadata": {},
   "outputs": [],
   "source": [
    "def gradient_descent_steps(X,y,iters=10000):\n",
    "    w0=np.zeros((1,1))\n",
    "    w1=np.zeros((1,1))\n",
    "    for ind in range(iters):\n",
    "        w1_update,w0_update=get_weight_updates(w1,w0,X,y,learning_rate=0.1)\n",
    "        w1=w1-w1_update\n",
    "        w0=w0-w0_update\n",
    "    \n",
    "    return w1,w0"
   ]
  },
  {
   "cell_type": "code",
   "execution_count": null,
   "id": "bcae44a7",
   "metadata": {},
   "outputs": [],
   "source": [
    "def get_cost(y,y_pred):\n",
    "    N=len(y)\n",
    "    cost=np.sum(np.square(y-y_pred))/N\n",
    "    return cost\n",
    "\n",
    "w1,w0=gradient_descent_steps(X,y,iters=1000)\n",
    "print(\"w1:{0:.3f} w0:{1:.3f}\".format(w1[0,0], w0[0,0]))\n",
    "y_pred=w1[0,0]*X+w0\n",
    "print('Gradient Descent Total Cost: {0:.4f}'.format(get_cost(y,y_pred)))"
   ]
  },
  {
   "cell_type": "code",
   "execution_count": null,
   "id": "b7e5712c",
   "metadata": {},
   "outputs": [],
   "source": [
    "plt.scatter(X,y)\n",
    "plt.plot(X,y_pred)"
   ]
  },
  {
   "cell_type": "code",
   "execution_count": null,
   "id": "4d10a1eb",
   "metadata": {},
   "outputs": [],
   "source": [
    "def stochastic_gradient_descent_steps(X,y,batch_size=10, iters=1000):\n",
    "    w0=np.zeros((1,1))\n",
    "    w1=np.zeros((1,1))\n",
    "    prev_cost=100000\n",
    "    iter_index=0\n",
    "    \n",
    "    for ind in range(iters):\n",
    "        np.random.seed(ind)\n",
    "        stochastic_random_index=np.random.permutation(X.shape[0])\n",
    "        sample_X=X[stochastic_random_index[0:batch_size]]\n",
    "        sample_y=y[stochastic_random_index[0:batch_size]]\n",
    "        w1_update,w0_update=get_weight_updates(w1,w0,sample_X,sample_y,learning_rate=0.1)\n",
    "        w1=w1-w1_update\n",
    "        w0=w0-w0_update\n",
    "    \n",
    "    return w1,w0"
   ]
  },
  {
   "cell_type": "code",
   "execution_count": null,
   "id": "f8201d7f",
   "metadata": {},
   "outputs": [],
   "source": [
    "w1,w0=stochastic_gradient_descent_steps(X,y,iters=1000)\n",
    "print(\"w1:\",round(w1[0,0],3), \"w0:\",round(w0[0,0],3))\n",
    "y_pred=w1[0,0]*X+w0\n",
    "print('stochastic gradient descent total cost: {0:.4f}'.format(get_cost(y,y_pred)))"
   ]
  },
  {
   "cell_type": "code",
   "execution_count": null,
   "id": "713b93f7",
   "metadata": {},
   "outputs": [],
   "source": [
    "class sklearn.linear_model.LinearRegression(fit_intercept=True, normalize=False, copy_X=True, n_jobs=1)\n"
   ]
  },
  {
   "cell_type": "code",
   "execution_count": null,
   "id": "19288162",
   "metadata": {},
   "outputs": [],
   "source": [
    "import numpy as np\n",
    "import matplotlib.pyplot as plt\n",
    "import pandas as pd\n",
    "import seaborn as sns\n",
    "from scipy import stats\n",
    "from sklearn.datasets import load_boston\n",
    "%matplotlib inline\n",
    "\n",
    "boston= load_boston()\n",
    "bostonDF=pd.DataFrame(boston.data, columns=boston.feature_names)\n",
    "bostonDF['PRICE']=boston.target\n",
    "print('boston shape', bostonDF.shape)\n",
    "bostonDF.head()"
   ]
  },
  {
   "cell_type": "code",
   "execution_count": null,
   "id": "af7c9fae",
   "metadata": {},
   "outputs": [],
   "source": [
    "fig, axs=plt.subplots(figsize=(16,8),ncols=4, nrows=2)\n",
    "Im_features=['RM', 'ZN', 'INDUS','NOX', 'AGE', 'PTRATIO','LSTAT','RAD']\n",
    "for i, feature in enumerate(Im_features):\n",
    "    row=int(i/4)\n",
    "    col=i%4\n",
    "    sns.regplot(x=feature, y='PRICE', data=bostonDF, ax=axs[row][col])"
   ]
  },
  {
   "cell_type": "code",
   "execution_count": null,
   "id": "8d9244c6",
   "metadata": {},
   "outputs": [],
   "source": [
    "from sklearn.model_selection import train_test_split\n",
    "from sklearn.linear_model import LinearRegression\n",
    "from sklearn.metrics import mean_squared_error, r2_score\n",
    "\n",
    "y_target=bostonDF['PRICE']\n",
    "X_data=bostonDF.drop(['PRICE'],axis=1, inplace=False)\n",
    "X_train,X_test, y_train,y_test=train_test_split(X_data,y_target, test_size=0.3, random_state=156)\n",
    "lr=LinearRegression()\n",
    "lr.fit(X_train,y_train)\n",
    "y_preds=lr.predict(X_test)\n",
    "mse=mean_squared_error(y_test,y_preds)\n",
    "rmse=np.sqrt(mse)\n",
    "print('mse: {0:.3f}, rmse:{1:.3f}'.format(mse,rmse))\n",
    "print('variance score:{0:.3f}'.format(r2_score(y_test,y_preds)))"
   ]
  },
  {
   "cell_type": "code",
   "execution_count": null,
   "id": "04e50f56",
   "metadata": {},
   "outputs": [],
   "source": [
    "print('intercept', lr.intercept_)\n",
    "print('coef', np.round(lr.coef_,1))"
   ]
  },
  {
   "cell_type": "code",
   "execution_count": null,
   "id": "d9aba9c3",
   "metadata": {},
   "outputs": [],
   "source": [
    "coeff=pd.Series(data=np.round(lr.coef_,1), index=X_data.columns)\n",
    "coeff.sort_values(ascending=False)"
   ]
  },
  {
   "cell_type": "code",
   "execution_count": null,
   "id": "2c118f3e",
   "metadata": {},
   "outputs": [],
   "source": [
    "from sklearn.model_selection import cross_val_score\n",
    "\n",
    "y_target=bostonDF['PRICE']\n",
    "X_data=bostonDF.drop(['PRICE'],axis=1, inplace=False)\n",
    "lr=LinearRegression()\n",
    "\n",
    "neg_mse_scores=cross_val_score(lr,X_data,y_target, scoring=\"neg_mean_squared_error\",cv=5)\n",
    "rmse_scores=np.sqrt(-1*neg_mse_scores)\n",
    "avg_rmse=np.mean(rmse_scores)\n",
    "print('5 folds 개별 negative mse scores: ', np.round(neg_mse_scores,2))\n",
    "print('5 folds 개별 rmse scores:', np.round(rmse_scores,2))\n",
    "print('5 folds 평균 rmse: {0:.3f}'.format(avg_rmse))"
   ]
  },
  {
   "cell_type": "code",
   "execution_count": null,
   "id": "655743a0",
   "metadata": {},
   "outputs": [],
   "source": [
    "from sklearn.preprocessing import PolynomialFeatures\n",
    "import numpy as np\n",
    "\n",
    "X=np.arange(4).reshape(2,2)\n",
    "print('일차 단항식 계수 피쳐', X)\n",
    "poly=PolynomialFeatures(degree=2)\n",
    "poly.fit(X)\n",
    "poly_ftr=poly.transform(X)\n",
    "print('변형된 2차 다항식 계수 피쳐',poly_ftr)"
   ]
  },
  {
   "cell_type": "code",
   "execution_count": null,
   "id": "420fa303",
   "metadata": {},
   "outputs": [],
   "source": [
    "def polynomial_func(X):\n",
    "    y=1+2*X[:,0]+3*X[:,0]**2+4*X[:,1]**3\n",
    "    return y\n",
    "\n",
    "X=np.arange(4).reshape(2,2)\n",
    "print('일차 단항식 계수 feature',X)\n",
    "y=polynomial_func(X)\n",
    "print('삼차 다항식 결정값:',y)"
   ]
  },
  {
   "cell_type": "code",
   "execution_count": null,
   "id": "ef51511b",
   "metadata": {},
   "outputs": [],
   "source": [
    "poly_ftr=PolynomialFeatures(degree=3).fit_transform(X)\n",
    "print('3차 다항식 계수 feature', poly_ftr)\n",
    "\n",
    "model=LinearRegression()\n",
    "model.fit(poly_ftr, y)\n",
    "print('polynomial regression coef', np.round(model.coef_,2))\n",
    "print('polynomial regression shape', model.coef_.shape)"
   ]
  },
  {
   "cell_type": "code",
   "execution_count": null,
   "id": "67ad4c26",
   "metadata": {},
   "outputs": [],
   "source": [
    "from sklearn.preprocessing import PolynomialFeatures\n",
    "from sklearn.linear_model import LinearRegression\n",
    "from sklearn.pipeline import Pipeline\n",
    "import numpy as np\n",
    "def polynomial_func(X):\n",
    "    y=1+2*X[:,0]+3*X[:,0]**2+4*X[:,1]**3\n",
    "    return y\n",
    "\n",
    "model=Pipeline([('poly', PolynomialFeatures(degree=3)), ('linear', LinearRegression())])\n",
    "X=np.arange(4).reshape(2,2)\n",
    "y=polynomial_func(X)\n",
    "model=model.fit(X,y)\n",
    "print('poly coeff', np.round(model.named_steps['linear'].coef_,2))"
   ]
  },
  {
   "cell_type": "code",
   "execution_count": null,
   "id": "d74efcfa",
   "metadata": {},
   "outputs": [],
   "source": [
    "from sklearn.preprocessing import PolynomialFeatures\n",
    "from sklearn.linear_model import LinearRegression\n",
    "from sklearn.pipeline import Pipeline\n",
    "import numpy as np\n",
    "import matplotlib.pyplot as plt\n",
    "from sklearn.model_selection import cross_val_score\n",
    "%matplotlib inline\n",
    "\n",
    "def true_fun(X):\n",
    "    return np.cos(1.5*np.pi*X)\n",
    "np.random.seed(0)\n",
    "n_samples=30\n",
    "X=np.sort(np.random.rand(n_samples))\n",
    "\n",
    "y=true_fun(X)+np.random.randn(n_samples)*0.1 #노이즈"
   ]
  },
  {
   "cell_type": "code",
   "execution_count": null,
   "id": "c12c12a1",
   "metadata": {},
   "outputs": [],
   "source": [
    "plt.figure(figsize=(14,5))\n",
    "degrees=[1,4,15]\n",
    "\n",
    "for i in range(len(degrees)):\n",
    "    ax=plt.subplot(1,len(degrees),i+1)\n",
    "    plt.setp(ax,xticks=(),yticks=())\n",
    "    \n",
    "    polynomial_featuers=PolynomialFeatures(degree=degrees[i], include_bias=False)\n",
    "    linear_regression=LinearRegression()\n",
    "    pipeline=Pipeline([(\"polynomial_feature\", polynomial_feautres), (\"linear_regression\", linear_regression)])\n",
    "    pipeline.fit(X.reshape(-1,1),y)\n",
    "\n",
    "    \n",
    "    scores=cross_val_score(pipeline, X.reshape(-1,1),y, scoring=\"neg_mean_squared_error\", cv=10)\n",
    "    coefficients=pipeline.named_steps['linear_regression'].coef_\n",
    "    print('degree{0} coef{1}'.format(degrees[i]. np.round(coefficients,2)))\n",
    "    print('degree{0} mse{1}'.format(degrees[i], -1*np.mean(scores)))\n",
    "    X_test=np.linspace(0,1,100)\n",
    "    plt.plot(X_test,pipeline.predict(X_test[:,np.newaxis]),label=\"Model\")\n",
    "    plot.plot(X_test, true_fun(X_test), '--', label=\"True function\")\n",
    "    ply.scatter(X,y,edgecolor='b',s=20, label=\"samples\")\n",
    "    plt.xlabel(\"x\")\n",
    "    ply.ylabel(\"y\")\n",
    "    plt.xlim((0,1))\n",
    "    plt.ylim((-2,2))\n",
    "    plt.legend(loc=\"best\")\n",
    "    plt.title(\"degree{}\\nMSE={:.2e}\".format(degrees[i],-scores.mean(), scores.std()))\n",
    "    \n",
    "plt.show()"
   ]
  },
  {
   "cell_type": "code",
   "execution_count": null,
   "id": "d77b73d5",
   "metadata": {},
   "outputs": [],
   "source": [
    "from sklearn.linear_model import Ridge\n",
    "from sklearn.model_selection import cross_val_score\n",
    "\n",
    "ridge=Ridge(alpha=10)\n",
    "neg_mse_scores=cross_val_score(ridge,X_data,y_target, scoring=\"neg_mean_squared_error\",cv=5)\n",
    "rmse_scores=np.sqrt(-1*neg_mse_scores)\n",
    "avg_rmse=np.mean(rmse_scores)\n",
    "print('5 folds 개별 negative mse scores: ', np.round(neg_mse_scores,3))\n",
    "print('5 folds 개별 rmse scores:', np.round(rmse_scores,3))\n",
    "print('5 folds 평균 rmse: {0:.3f}'.format(avg_rmse))"
   ]
  },
  {
   "cell_type": "code",
   "execution_count": null,
   "id": "00aec849",
   "metadata": {},
   "outputs": [],
   "source": [
    "alphas=[0,0.1,1,10,100]\n",
    "for alpha in alphas:\n",
    "    ridge=Ridge(alpha=alpha)\n",
    "    neg_mse_scores=cross_val_score(ridge, X_data,y_target,scoring=\"neg_mean_squared_error\",cv=5)\n",
    "    avg_rmse=np.mean(np.sqrt(-1*neg_mse_scores))\n",
    "    print(\"alpha {0} 5folds avg rmse: {1:.3f}\".format(alpha,avg_rmse))"
   ]
  },
  {
   "cell_type": "code",
   "execution_count": null,
   "id": "05523e4f",
   "metadata": {},
   "outputs": [],
   "source": [
    "fig,axs=plt.subplots(figsize=(18,6),nrows=1,ncols=5)\n",
    "coeff_df=pd.DataFrame()\n",
    "\n",
    "for pos, alpha in enumerate(alphas):\n",
    "    ridge=Ridge(alpha=alpha)\n",
    "    ridge.fit(X_data,y_target)\n",
    "    coeff=pd.Series(data=ridge.coef_,index=X_data.columns)\n",
    "    colname='alpha:'+str(alpha)\n",
    "    coeff_df[colname]=coeff\n",
    "    coeff=coeff.sort_values(ascending=False)\n",
    "    axs[pos].set_title(colname)\n",
    "    axs[pos].set_xlim(-3,6)\n",
    "    sns.barplot(x=coeff.values,y=coeff.index,ax=axs[pos])\n",
    "    \n",
    "plt.show()"
   ]
  },
  {
   "cell_type": "code",
   "execution_count": null,
   "id": "5f9cbff7",
   "metadata": {},
   "outputs": [],
   "source": [
    "ridge_alphas=[0,0.1,1,10,100]\n",
    "sort_column='alpha:'+str(ridge_alphas[0])\n",
    "coeff_df.sort_values(by=sort_column,ascending=False)"
   ]
  },
  {
   "cell_type": "code",
   "execution_count": null,
   "id": "4711171b",
   "metadata": {},
   "outputs": [],
   "source": [
    "from sklearn.linear_model import Lasso,ElasticNet\n",
    "\n",
    "def get_linear_reg_eval(model_name, parmas=None, X_data_n=None, y_target_n=None, verbose=True, return_coeff=True):\n",
    "    coeff_df=pd.DataFrame()\n",
    "    if verbose:print('#########',model_name,'###########')\n",
    "    for param in params:\n",
    "        if model_name=='Ridge': model=Ridge(alpha=param)\n",
    "        elif model_name==\"Lasso\": model=Lasso(alpha=param)\n",
    "        elif model_name=='ElasticNet': model=Elasticnet(alpha=param, l1_ratio=0.7)\n",
    "        neg_mse_scorescross_val_score(model, X_data_n, y_target_n, scoring=\"neg_mean_squared_error\", cv=5)\n",
    "        avg_rmse=np.mean(np.sqrt(-1*neg_mse_scores))\n",
    "        print(\"alpha {0} 5folds avg rmse: {1:.3f}\".format(alpha,avg_rmse))\n",
    "        model.fit(X_data_n, y_target_n)\n",
    "        if return_coeff:\n",
    "            coeff=pd.Series(data=model.coef_, index=X_data_n.columns)\n",
    "            colname='alpha'+str(param)\n",
    "            coeff_df[colname]=coeff\n",
    "            \n",
    "    return coeff_df\n",
    "\n",
    "lasso_alphas=[0.07, 0.1,0.5,1,3]\n",
    "coeff_lasso_df=get_linear_reg_eval('Lasso',params=lasso_alphas, X_data_n=X_data,y_target_n=y_target)"
   ]
  },
  {
   "cell_type": "code",
   "execution_count": null,
   "id": "ed2880da",
   "metadata": {},
   "outputs": [],
   "source": [
    "sort_column='alpha:'+str(lasso_alphas[0])\n",
    "coeff_lasso_df.sort_values(by=sort_column,ascending=False)"
   ]
  },
  {
   "cell_type": "code",
   "execution_count": null,
   "id": "f05cd94f",
   "metadata": {},
   "outputs": [],
   "source": [
    "elastic_alphas=[0.07,0.1,0.5,1,3]\n",
    "coeff_elastic_df=get_linear_reg_eval('ElasticNet',paras=elastic_alphs,X_data_n=X_data,y_target_n=y_target)\n"
   ]
  },
  {
   "cell_type": "code",
   "execution_count": null,
   "id": "1da7f941",
   "metadata": {},
   "outputs": [],
   "source": [
    "sort_column='alpha:'+str(elastic_alphas[0])\n",
    "coeff_lasso_df.sort_values(by=sort_column,ascending=False)"
   ]
  },
  {
   "cell_type": "code",
   "execution_count": null,
   "id": "d2bfa832",
   "metadata": {},
   "outputs": [],
   "source": [
    "def get_scaled_data(method='none', p_degree=None, input_data=None):\n",
    "    if method=='Standard':\n",
    "        scaled_data=StandardScaler().fit_transform(input_data)\n",
    "    elif method=='MinMax':\n",
    "        scaled_data=MinMaxScaler().fit_transform(input_data)\n",
    "    elif method=='Log':\n",
    "        scaled_data=np.log1p(input_data)\n",
    "    else:\n",
    "        scaled_data=input_data\n",
    "        \n",
    "    if p_degree !=None:\n",
    "        scaled_data=PolynomialFeatures(degree=p_degree, include_bias=False).fit_transform(scaled_data)\n",
    "    return scaled_data"
   ]
  },
  {
   "cell_type": "code",
   "execution_count": null,
   "id": "aedf9c6f",
   "metadata": {},
   "outputs": [],
   "source": [
    "alphas=[0.1,1,10,100]\n",
    "scaled_methods=[(None,None),('Standard', None),('Standard',2),('MinMax',None),('MinMax',2),('Log',None)]\n",
    "for scale_method in scale_methods:\n",
    "    X_data_scaled=get_scaled_data(method=scale_method[0]. p_degree=scale_method[1], input_data=X_data)\n",
    "    print(scale_method[0],scale_method[1])\n",
    "    get_linear_reg_eval('Ridge',params=alphas, X_data_n=X_data_scaled, y_target_n=y_target, verbose=False, return_coeff=False)\n",
    "    "
   ]
  },
  {
   "cell_type": "code",
   "execution_count": null,
   "id": "4b6984bf",
   "metadata": {},
   "outputs": [],
   "source": [
    "from sklearn.datasets import load_breast_cancer\n",
    "from sklearn.linear_model import LogisticRegression\n",
    "\n",
    "cancer=load_breast_cancer()"
   ]
  },
  {
   "cell_type": "code",
   "execution_count": null,
   "id": "0c245ecc",
   "metadata": {},
   "outputs": [],
   "source": [
    "from sklearn.preprocessing import StandardScaler\n",
    "from sklearn.model_selection import train_test_split\n",
    "\n",
    "scaler=StandardScaler()\n",
    "data_scaled=scaler.fit_transform(cancer.data)\n",
    "X_train,X_test,y_train,y_test=train_test_split(data_scaled, cancer.target, test_sizze=0.3, random_state=0)"
   ]
  },
  {
   "cell_type": "code",
   "execution_count": null,
   "id": "d02a7b14",
   "metadata": {},
   "outputs": [],
   "source": [
    "from sklearn.metrics import accuracy_score,rou_auc_score\n",
    "\n",
    "lr_clf=LogisticRegression()\n",
    "lr_clf.fit(X_train,y_train)\n",
    "lr_preds=lr_clf.predict(X_test)\n",
    "\n",
    "print(accuracy_score(y_test,lr_preds))\n",
    "print(roc_auc_socre(y_test,lr_preds))"
   ]
  },
  {
   "cell_type": "code",
   "execution_count": null,
   "id": "ccf33511",
   "metadata": {},
   "outputs": [],
   "source": [
    "from sklearn.model_selection import GridSearchCV\n",
    "\n",
    "params={'penalty':['12','l1'], 'C':[0.01,0.1,1,1,5,10]}\n",
    "\n",
    "grid_clf=GridSearchCV(lr_clf,param_grid=params,scoring='accuracy',cv=3)\n",
    "grid_clf.fit(data_scaled, cancer.target)\n",
    "print('최적: {0}, 평균정확도 :{1:.3f}'.format(grid_clf.best_params_, gird_clf.best_score_))"
   ]
  },
  {
   "cell_type": "code",
   "execution_count": null,
   "id": "53b34f9c",
   "metadata": {},
   "outputs": [],
   "source": [
    "from sklearn.datasets import load_boston\n",
    "from sklearn.model_selection import cross_val_score\n",
    "from sklearn.ensemble import RandomForestRegressor\n",
    "import pandas as pd\n",
    "import numpy as np\n",
    "\n",
    "boston=load_boston()\n",
    "bostonDF=pd.DataFrame(boston.dta, columns=boston.feature_names)\n",
    "\n",
    "bostonDF['PRICE']=boston.target\n",
    "y_target=bostonDF['PRICE']\n",
    "X_data=bostonDF.drop(['PRICE'],axis=1,inplace=False)\n",
    "\n",
    "rf=RandomForestRegressor(random_state=0, n_estimators=1000)\n",
    "neg_mse_scorese=corss_val_score(rf,X_data,y_target,scoring=\"neg_mean_squared_error\",cv=5)\n",
    "\n",
    "rmse_Scores=np.sqrt(-1*neg_mse_scores)\n",
    "avg_rmse=np.mean(rmse_scores)\n",
    "\n",
    "print('5 folds 개별 negative mse scores: ', np.round(neg_mse_scores,2))\n",
    "print('5 folds 개별 rmse scores:', np.round(rmse_scores,2))\n",
    "print('5 folds 평균 rmse: {0:.3f}'.format(avg_rmse))"
   ]
  },
  {
   "cell_type": "code",
   "execution_count": null,
   "id": "878972c6",
   "metadata": {},
   "outputs": [],
   "source": [
    "def get_model_cv_prediction(model,X_data,y_target):\n",
    "    neg_mse_scores=cross_val_score(model,X_data,y_target,scoring=\"neg_mean_squared_error\",cv=5)\n",
    "    rmse_scores=np.sqrt(-1*neg_mse_scores)\n",
    "    avg_rmse=np.mean(rmse_scores)\n",
    "    print('#####',model.__class__.__name__, '##########')\n",
    "    print('5 folds 평균 rmse: {0:.3f}'.format(avg_rmse))"
   ]
  },
  {
   "cell_type": "code",
   "execution_count": null,
   "id": "9d4da518",
   "metadata": {},
   "outputs": [],
   "source": [
    "from sklearn.tree import DecisionTreeRegressor\n",
    "from sklearn.ensemble import GradientBoostingRegressor\n",
    "from xgboost import XGBRegressor\n",
    "\n",
    "dt_reg=DecisionTreeRegressor(random_state=0,max_depth=4)\n",
    "rf_rdg=RandomFroestRegressor(random_State=0,n_estimators=1000)\n",
    "gb_reg=GradientBoostingRegressor(random_state=0, n_estimators=1000)\n",
    "xgb_reg=XGBRegressor(n_estimators=1000)\n",
    "lgb_reg=LGBMRegressor(n_estimators=1000)\n",
    "\n",
    "models=[dt_reg,rf_reg,gb_reg,xgb_reg,lgb_reg]\n",
    "for model in models:\n",
    "    get_model_cv_prediction(model,X_data,y_target)"
   ]
  },
  {
   "cell_type": "code",
   "execution_count": null,
   "id": "b3ecad46",
   "metadata": {},
   "outputs": [],
   "source": [
    "import seaborn as sns\n",
    "%matplotlib inline\n",
    "\n",
    "rf_reg=RandomForestRegressor(n_estimators=1000)\n",
    "rf_reg.fit(X_data,y_target)\n",
    "feature_series=pd.Series(data=rf_reg.feature_importances_,index=X_data.columns)\n",
    "feature_series=feature_series.sort_values(ascendinf=False)\n",
    "sns.barplot(x=feature_series,y_feature_series.index)"
   ]
  },
  {
   "cell_type": "code",
   "execution_count": null,
   "id": "97dfba34",
   "metadata": {},
   "outputs": [],
   "source": [
    "bostonDF_sample=bostonDF[['RM','PRICE']]\n",
    "bostonDF_sample=bostonDF_sample.sample(n=100,random_state=0)\n",
    "print(bostonDF_sample.shape)\n",
    "plt.figure()\n",
    "plt.scatter(bostonDF_sample.RM,bostonDF_sample.PRICE, c=\"darkorange\")"
   ]
  },
  {
   "cell_type": "code",
   "execution_count": null,
   "id": "a1f2c37e",
   "metadata": {},
   "outputs": [],
   "source": [
    "lr_reg=LinearRegression()\n",
    "lr_reg2=LinearRegression(max_depth=2)\n",
    "lr_reg7=LinearRegression(max_depth=7)\n",
    "\n",
    "X_test=np.arage(4.5,8.5,0.04).reshape(-1,1)\n",
    "\n",
    "X_feature=bostonDF_sample['RM'].values.reshape(-1,1)\n",
    "y_target=bostonDF_sample['PRICE'].values.reshape(-1,1)\n",
    "\n",
    "lr_reg.fit(X_feature,y_target)\n",
    "lr_reg2.fit(X_feature,y_target)\n",
    "lr_reg7.fit(X_feature,y_target)\n",
    "\n",
    "pred_lr=lr_reg.predict(X_test)\n",
    "pred_lr2=lr_reg2.predict(X_test)\n",
    "pred_lr7=lr_reg7.predict(X_test)\n"
   ]
  },
  {
   "cell_type": "code",
   "execution_count": null,
   "id": "3a9efc97",
   "metadata": {},
   "outputs": [],
   "source": [
    "fig, (ax1,ax2,ax3)=plt.subplots(figsize=(14,4),ncols=3)\n",
    "\n",
    "ax1.set_title('Linear Regression')\n",
    "ax1.scatter(bostonDF_sample.RM,bostonDF_sample.PRICE, c=\"darkorange\")\n",
    "ax1.plot(X_test,pred_lr, label=\"linear\",linewidth=2)\n",
    "\n",
    "ax2.set_title('Linear Regression, max_depth=2')\n",
    "ax2.scatter(bostonDF_sample.RM,bostonDF_sample.PRICE, c=\"darkorange\")\n",
    "ax2.plot(X_test,pred_lr2, label=\"max_depth=2\",linewidth=2)\n",
    "\n",
    "ax3.set_title('Linear Regression max_depth=7')\n",
    "ax3.scatter(bostonDF_sample.RM,bostonDF_sample.PRICE, c=\"darkorange\")\n",
    "ax3.plot(X_test,pred_lr7, label=\"max_depth=7\",linewidth=2)"
   ]
  }
 ],
 "metadata": {
  "kernelspec": {
   "display_name": "Python 3",
   "language": "python",
   "name": "python3"
  },
  "language_info": {
   "codemirror_mode": {
    "name": "ipython",
    "version": 3
   },
   "file_extension": ".py",
   "mimetype": "text/x-python",
   "name": "python",
   "nbconvert_exporter": "python",
   "pygments_lexer": "ipython3",
   "version": "3.8.8"
  }
 },
 "nbformat": 4,
 "nbformat_minor": 5
}
