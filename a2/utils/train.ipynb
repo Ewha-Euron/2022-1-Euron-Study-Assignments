{
 "cells": [
  {
   "cell_type": "code",
   "execution_count": 20,
   "id": "3caf9346",
   "metadata": {},
   "outputs": [
    {
     "name": "stdout",
     "output_type": "stream",
     "text": [
      "C:\\Users\\user\\Desktop\\EWHA\\2022 1학기\\유런\\week3\\a2\n"
     ]
    }
   ],
   "source": [
    "cd /Users/user/Desktop/EWHA/2022 1학기/유런/week3/a2"
   ]
  },
  {
   "cell_type": "code",
   "execution_count": 25,
   "id": "f5bb6af2",
   "metadata": {},
   "outputs": [],
   "source": [
    "! get_datasets.sh"
   ]
  },
  {
   "cell_type": "code",
   "execution_count": null,
   "id": "f488429b",
   "metadata": {},
   "outputs": [],
   "source": [
    "!python run.py"
   ]
  }
 ],
 "metadata": {
  "kernelspec": {
   "display_name": "Python 3",
   "language": "python",
   "name": "python3"
  },
  "language_info": {
   "codemirror_mode": {
    "name": "ipython",
    "version": 3
   },
   "file_extension": ".py",
   "mimetype": "text/x-python",
   "name": "python",
   "nbconvert_exporter": "python",
   "pygments_lexer": "ipython3",
   "version": "3.8.8"
  }
 },
 "nbformat": 4,
 "nbformat_minor": 5
}
