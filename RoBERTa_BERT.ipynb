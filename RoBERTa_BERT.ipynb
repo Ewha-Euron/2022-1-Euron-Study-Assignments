{
  "nbformat": 4,
  "nbformat_minor": 0,
  "metadata": {
    "colab": {
      "name": "RoBERTa_BERT.ipynb",
      "provenance": [],
      "collapsed_sections": [
        "wy31Ufx2Hlz1",
        "JCPZKjUTnvJv",
        "mSEMiDLJwnc9",
        "pSE2BO2Jloj6",
        "_qNK4lijzOjT",
        "Cue1y4l30vfn"
      ],
      "machine_shape": "hm"
    },
    "kernelspec": {
      "name": "python3",
      "display_name": "Python 3"
    },
    "language_info": {
      "name": "python"
    },
    "accelerator": "GPU",
    "widgets": {
      "application/vnd.jupyter.widget-state+json": {
        "92d4135f6b3c4c348fe0ab1f651e3249": {
          "model_module": "@jupyter-widgets/controls",
          "model_name": "HBoxModel",
          "model_module_version": "1.5.0",
          "state": {
            "_view_name": "HBoxView",
            "_dom_classes": [],
            "_model_name": "HBoxModel",
            "_view_module": "@jupyter-widgets/controls",
            "_model_module_version": "1.5.0",
            "_view_count": null,
            "_view_module_version": "1.5.0",
            "box_style": "",
            "layout": "IPY_MODEL_2e87cb5e37d64cf484ced187c3bc4f39",
            "_model_module": "@jupyter-widgets/controls",
            "children": [
              "IPY_MODEL_0ea8010434f04ff49f2b2479c1d16f32",
              "IPY_MODEL_0cc529caac764c66970df47133fc2999",
              "IPY_MODEL_156ad89260914481a782c6b5918e8195"
            ]
          }
        },
        "2e87cb5e37d64cf484ced187c3bc4f39": {
          "model_module": "@jupyter-widgets/base",
          "model_name": "LayoutModel",
          "model_module_version": "1.2.0",
          "state": {
            "_view_name": "LayoutView",
            "grid_template_rows": null,
            "right": null,
            "justify_content": null,
            "_view_module": "@jupyter-widgets/base",
            "overflow": null,
            "_model_module_version": "1.2.0",
            "_view_count": null,
            "flex_flow": null,
            "width": null,
            "min_width": null,
            "border": null,
            "align_items": null,
            "bottom": null,
            "_model_module": "@jupyter-widgets/base",
            "top": null,
            "grid_column": null,
            "overflow_y": null,
            "overflow_x": null,
            "grid_auto_flow": null,
            "grid_area": null,
            "grid_template_columns": null,
            "flex": null,
            "_model_name": "LayoutModel",
            "justify_items": null,
            "grid_row": null,
            "max_height": null,
            "align_content": null,
            "visibility": null,
            "align_self": null,
            "height": null,
            "min_height": null,
            "padding": null,
            "grid_auto_rows": null,
            "grid_gap": null,
            "max_width": null,
            "order": null,
            "_view_module_version": "1.2.0",
            "grid_template_areas": null,
            "object_position": null,
            "object_fit": null,
            "grid_auto_columns": null,
            "margin": null,
            "display": null,
            "left": null
          }
        },
        "0ea8010434f04ff49f2b2479c1d16f32": {
          "model_module": "@jupyter-widgets/controls",
          "model_name": "HTMLModel",
          "model_module_version": "1.5.0",
          "state": {
            "_view_name": "HTMLView",
            "style": "IPY_MODEL_3e1bc87b86e345af9deb40afa26407b2",
            "_dom_classes": [],
            "description": "",
            "_model_name": "HTMLModel",
            "placeholder": "​",
            "_view_module": "@jupyter-widgets/controls",
            "_model_module_version": "1.5.0",
            "value": "Downloading: 100%",
            "_view_count": null,
            "_view_module_version": "1.5.0",
            "description_tooltip": null,
            "_model_module": "@jupyter-widgets/controls",
            "layout": "IPY_MODEL_8976094d80524df59a76ac6342ab7027"
          }
        },
        "0cc529caac764c66970df47133fc2999": {
          "model_module": "@jupyter-widgets/controls",
          "model_name": "FloatProgressModel",
          "model_module_version": "1.5.0",
          "state": {
            "_view_name": "ProgressView",
            "style": "IPY_MODEL_074b144359554b92a19eb03b922a8de9",
            "_dom_classes": [],
            "description": "",
            "_model_name": "FloatProgressModel",
            "bar_style": "success",
            "max": 547,
            "_view_module": "@jupyter-widgets/controls",
            "_model_module_version": "1.5.0",
            "value": 547,
            "_view_count": null,
            "_view_module_version": "1.5.0",
            "orientation": "horizontal",
            "min": 0,
            "description_tooltip": null,
            "_model_module": "@jupyter-widgets/controls",
            "layout": "IPY_MODEL_7c3c4a28e2114fe5bf3689299fdcb4f2"
          }
        },
        "156ad89260914481a782c6b5918e8195": {
          "model_module": "@jupyter-widgets/controls",
          "model_name": "HTMLModel",
          "model_module_version": "1.5.0",
          "state": {
            "_view_name": "HTMLView",
            "style": "IPY_MODEL_91e109d1a9ec48179bab1f5acbc8482b",
            "_dom_classes": [],
            "description": "",
            "_model_name": "HTMLModel",
            "placeholder": "​",
            "_view_module": "@jupyter-widgets/controls",
            "_model_module_version": "1.5.0",
            "value": " 547/547 [00:00&lt;00:00, 17.8kB/s]",
            "_view_count": null,
            "_view_module_version": "1.5.0",
            "description_tooltip": null,
            "_model_module": "@jupyter-widgets/controls",
            "layout": "IPY_MODEL_2150a6e9391d47cfa07cf1c4f0083afd"
          }
        },
        "3e1bc87b86e345af9deb40afa26407b2": {
          "model_module": "@jupyter-widgets/controls",
          "model_name": "DescriptionStyleModel",
          "model_module_version": "1.5.0",
          "state": {
            "_view_name": "StyleView",
            "_model_name": "DescriptionStyleModel",
            "description_width": "",
            "_view_module": "@jupyter-widgets/base",
            "_model_module_version": "1.5.0",
            "_view_count": null,
            "_view_module_version": "1.2.0",
            "_model_module": "@jupyter-widgets/controls"
          }
        },
        "8976094d80524df59a76ac6342ab7027": {
          "model_module": "@jupyter-widgets/base",
          "model_name": "LayoutModel",
          "model_module_version": "1.2.0",
          "state": {
            "_view_name": "LayoutView",
            "grid_template_rows": null,
            "right": null,
            "justify_content": null,
            "_view_module": "@jupyter-widgets/base",
            "overflow": null,
            "_model_module_version": "1.2.0",
            "_view_count": null,
            "flex_flow": null,
            "width": null,
            "min_width": null,
            "border": null,
            "align_items": null,
            "bottom": null,
            "_model_module": "@jupyter-widgets/base",
            "top": null,
            "grid_column": null,
            "overflow_y": null,
            "overflow_x": null,
            "grid_auto_flow": null,
            "grid_area": null,
            "grid_template_columns": null,
            "flex": null,
            "_model_name": "LayoutModel",
            "justify_items": null,
            "grid_row": null,
            "max_height": null,
            "align_content": null,
            "visibility": null,
            "align_self": null,
            "height": null,
            "min_height": null,
            "padding": null,
            "grid_auto_rows": null,
            "grid_gap": null,
            "max_width": null,
            "order": null,
            "_view_module_version": "1.2.0",
            "grid_template_areas": null,
            "object_position": null,
            "object_fit": null,
            "grid_auto_columns": null,
            "margin": null,
            "display": null,
            "left": null
          }
        },
        "074b144359554b92a19eb03b922a8de9": {
          "model_module": "@jupyter-widgets/controls",
          "model_name": "ProgressStyleModel",
          "model_module_version": "1.5.0",
          "state": {
            "_view_name": "StyleView",
            "_model_name": "ProgressStyleModel",
            "description_width": "",
            "_view_module": "@jupyter-widgets/base",
            "_model_module_version": "1.5.0",
            "_view_count": null,
            "_view_module_version": "1.2.0",
            "bar_color": null,
            "_model_module": "@jupyter-widgets/controls"
          }
        },
        "7c3c4a28e2114fe5bf3689299fdcb4f2": {
          "model_module": "@jupyter-widgets/base",
          "model_name": "LayoutModel",
          "model_module_version": "1.2.0",
          "state": {
            "_view_name": "LayoutView",
            "grid_template_rows": null,
            "right": null,
            "justify_content": null,
            "_view_module": "@jupyter-widgets/base",
            "overflow": null,
            "_model_module_version": "1.2.0",
            "_view_count": null,
            "flex_flow": null,
            "width": null,
            "min_width": null,
            "border": null,
            "align_items": null,
            "bottom": null,
            "_model_module": "@jupyter-widgets/base",
            "top": null,
            "grid_column": null,
            "overflow_y": null,
            "overflow_x": null,
            "grid_auto_flow": null,
            "grid_area": null,
            "grid_template_columns": null,
            "flex": null,
            "_model_name": "LayoutModel",
            "justify_items": null,
            "grid_row": null,
            "max_height": null,
            "align_content": null,
            "visibility": null,
            "align_self": null,
            "height": null,
            "min_height": null,
            "padding": null,
            "grid_auto_rows": null,
            "grid_gap": null,
            "max_width": null,
            "order": null,
            "_view_module_version": "1.2.0",
            "grid_template_areas": null,
            "object_position": null,
            "object_fit": null,
            "grid_auto_columns": null,
            "margin": null,
            "display": null,
            "left": null
          }
        },
        "91e109d1a9ec48179bab1f5acbc8482b": {
          "model_module": "@jupyter-widgets/controls",
          "model_name": "DescriptionStyleModel",
          "model_module_version": "1.5.0",
          "state": {
            "_view_name": "StyleView",
            "_model_name": "DescriptionStyleModel",
            "description_width": "",
            "_view_module": "@jupyter-widgets/base",
            "_model_module_version": "1.5.0",
            "_view_count": null,
            "_view_module_version": "1.2.0",
            "_model_module": "@jupyter-widgets/controls"
          }
        },
        "2150a6e9391d47cfa07cf1c4f0083afd": {
          "model_module": "@jupyter-widgets/base",
          "model_name": "LayoutModel",
          "model_module_version": "1.2.0",
          "state": {
            "_view_name": "LayoutView",
            "grid_template_rows": null,
            "right": null,
            "justify_content": null,
            "_view_module": "@jupyter-widgets/base",
            "overflow": null,
            "_model_module_version": "1.2.0",
            "_view_count": null,
            "flex_flow": null,
            "width": null,
            "min_width": null,
            "border": null,
            "align_items": null,
            "bottom": null,
            "_model_module": "@jupyter-widgets/base",
            "top": null,
            "grid_column": null,
            "overflow_y": null,
            "overflow_x": null,
            "grid_auto_flow": null,
            "grid_area": null,
            "grid_template_columns": null,
            "flex": null,
            "_model_name": "LayoutModel",
            "justify_items": null,
            "grid_row": null,
            "max_height": null,
            "align_content": null,
            "visibility": null,
            "align_self": null,
            "height": null,
            "min_height": null,
            "padding": null,
            "grid_auto_rows": null,
            "grid_gap": null,
            "max_width": null,
            "order": null,
            "_view_module_version": "1.2.0",
            "grid_template_areas": null,
            "object_position": null,
            "object_fit": null,
            "grid_auto_columns": null,
            "margin": null,
            "display": null,
            "left": null
          }
        },
        "1c459e3bcca9459cb9ba135ff27a51a4": {
          "model_module": "@jupyter-widgets/controls",
          "model_name": "HBoxModel",
          "model_module_version": "1.5.0",
          "state": {
            "_view_name": "HBoxView",
            "_dom_classes": [],
            "_model_name": "HBoxModel",
            "_view_module": "@jupyter-widgets/controls",
            "_model_module_version": "1.5.0",
            "_view_count": null,
            "_view_module_version": "1.5.0",
            "box_style": "",
            "layout": "IPY_MODEL_71b61ca0834d459faf203c4b74279b28",
            "_model_module": "@jupyter-widgets/controls",
            "children": [
              "IPY_MODEL_94332ba9c6184112a2ea10bfbf71652c",
              "IPY_MODEL_cad60959e16441ecb70e78fb79116bb3",
              "IPY_MODEL_b09ab6f7c9904a2f9790e8e85fb50aed"
            ]
          }
        },
        "71b61ca0834d459faf203c4b74279b28": {
          "model_module": "@jupyter-widgets/base",
          "model_name": "LayoutModel",
          "model_module_version": "1.2.0",
          "state": {
            "_view_name": "LayoutView",
            "grid_template_rows": null,
            "right": null,
            "justify_content": null,
            "_view_module": "@jupyter-widgets/base",
            "overflow": null,
            "_model_module_version": "1.2.0",
            "_view_count": null,
            "flex_flow": null,
            "width": null,
            "min_width": null,
            "border": null,
            "align_items": null,
            "bottom": null,
            "_model_module": "@jupyter-widgets/base",
            "top": null,
            "grid_column": null,
            "overflow_y": null,
            "overflow_x": null,
            "grid_auto_flow": null,
            "grid_area": null,
            "grid_template_columns": null,
            "flex": null,
            "_model_name": "LayoutModel",
            "justify_items": null,
            "grid_row": null,
            "max_height": null,
            "align_content": null,
            "visibility": null,
            "align_self": null,
            "height": null,
            "min_height": null,
            "padding": null,
            "grid_auto_rows": null,
            "grid_gap": null,
            "max_width": null,
            "order": null,
            "_view_module_version": "1.2.0",
            "grid_template_areas": null,
            "object_position": null,
            "object_fit": null,
            "grid_auto_columns": null,
            "margin": null,
            "display": null,
            "left": null
          }
        },
        "94332ba9c6184112a2ea10bfbf71652c": {
          "model_module": "@jupyter-widgets/controls",
          "model_name": "HTMLModel",
          "model_module_version": "1.5.0",
          "state": {
            "_view_name": "HTMLView",
            "style": "IPY_MODEL_ca9534fcd39f46bca97ad2ccf5e95c0b",
            "_dom_classes": [],
            "description": "",
            "_model_name": "HTMLModel",
            "placeholder": "​",
            "_view_module": "@jupyter-widgets/controls",
            "_model_module_version": "1.5.0",
            "value": "Downloading: 100%",
            "_view_count": null,
            "_view_module_version": "1.5.0",
            "description_tooltip": null,
            "_model_module": "@jupyter-widgets/controls",
            "layout": "IPY_MODEL_349273db68dd454faaadeb27b5a3f499"
          }
        },
        "cad60959e16441ecb70e78fb79116bb3": {
          "model_module": "@jupyter-widgets/controls",
          "model_name": "FloatProgressModel",
          "model_module_version": "1.5.0",
          "state": {
            "_view_name": "ProgressView",
            "style": "IPY_MODEL_02d6ae885a6945f88121fe4d43344a51",
            "_dom_classes": [],
            "description": "",
            "_model_name": "FloatProgressModel",
            "bar_style": "success",
            "max": 1346930258,
            "_view_module": "@jupyter-widgets/controls",
            "_model_module_version": "1.5.0",
            "value": 1346930258,
            "_view_count": null,
            "_view_module_version": "1.5.0",
            "orientation": "horizontal",
            "min": 0,
            "description_tooltip": null,
            "_model_module": "@jupyter-widgets/controls",
            "layout": "IPY_MODEL_24ecfcbd67aa4658aff48be7ee64c4f7"
          }
        },
        "b09ab6f7c9904a2f9790e8e85fb50aed": {
          "model_module": "@jupyter-widgets/controls",
          "model_name": "HTMLModel",
          "model_module_version": "1.5.0",
          "state": {
            "_view_name": "HTMLView",
            "style": "IPY_MODEL_3dfed9772c6b45eda6701222067f14c4",
            "_dom_classes": [],
            "description": "",
            "_model_name": "HTMLModel",
            "placeholder": "​",
            "_view_module": "@jupyter-widgets/controls",
            "_model_module_version": "1.5.0",
            "value": " 1.25G/1.25G [00:26&lt;00:00, 55.2MB/s]",
            "_view_count": null,
            "_view_module_version": "1.5.0",
            "description_tooltip": null,
            "_model_module": "@jupyter-widgets/controls",
            "layout": "IPY_MODEL_75718da032174903bdcd75ff8a901acf"
          }
        },
        "ca9534fcd39f46bca97ad2ccf5e95c0b": {
          "model_module": "@jupyter-widgets/controls",
          "model_name": "DescriptionStyleModel",
          "model_module_version": "1.5.0",
          "state": {
            "_view_name": "StyleView",
            "_model_name": "DescriptionStyleModel",
            "description_width": "",
            "_view_module": "@jupyter-widgets/base",
            "_model_module_version": "1.5.0",
            "_view_count": null,
            "_view_module_version": "1.2.0",
            "_model_module": "@jupyter-widgets/controls"
          }
        },
        "349273db68dd454faaadeb27b5a3f499": {
          "model_module": "@jupyter-widgets/base",
          "model_name": "LayoutModel",
          "model_module_version": "1.2.0",
          "state": {
            "_view_name": "LayoutView",
            "grid_template_rows": null,
            "right": null,
            "justify_content": null,
            "_view_module": "@jupyter-widgets/base",
            "overflow": null,
            "_model_module_version": "1.2.0",
            "_view_count": null,
            "flex_flow": null,
            "width": null,
            "min_width": null,
            "border": null,
            "align_items": null,
            "bottom": null,
            "_model_module": "@jupyter-widgets/base",
            "top": null,
            "grid_column": null,
            "overflow_y": null,
            "overflow_x": null,
            "grid_auto_flow": null,
            "grid_area": null,
            "grid_template_columns": null,
            "flex": null,
            "_model_name": "LayoutModel",
            "justify_items": null,
            "grid_row": null,
            "max_height": null,
            "align_content": null,
            "visibility": null,
            "align_self": null,
            "height": null,
            "min_height": null,
            "padding": null,
            "grid_auto_rows": null,
            "grid_gap": null,
            "max_width": null,
            "order": null,
            "_view_module_version": "1.2.0",
            "grid_template_areas": null,
            "object_position": null,
            "object_fit": null,
            "grid_auto_columns": null,
            "margin": null,
            "display": null,
            "left": null
          }
        },
        "02d6ae885a6945f88121fe4d43344a51": {
          "model_module": "@jupyter-widgets/controls",
          "model_name": "ProgressStyleModel",
          "model_module_version": "1.5.0",
          "state": {
            "_view_name": "StyleView",
            "_model_name": "ProgressStyleModel",
            "description_width": "",
            "_view_module": "@jupyter-widgets/base",
            "_model_module_version": "1.5.0",
            "_view_count": null,
            "_view_module_version": "1.2.0",
            "bar_color": null,
            "_model_module": "@jupyter-widgets/controls"
          }
        },
        "24ecfcbd67aa4658aff48be7ee64c4f7": {
          "model_module": "@jupyter-widgets/base",
          "model_name": "LayoutModel",
          "model_module_version": "1.2.0",
          "state": {
            "_view_name": "LayoutView",
            "grid_template_rows": null,
            "right": null,
            "justify_content": null,
            "_view_module": "@jupyter-widgets/base",
            "overflow": null,
            "_model_module_version": "1.2.0",
            "_view_count": null,
            "flex_flow": null,
            "width": null,
            "min_width": null,
            "border": null,
            "align_items": null,
            "bottom": null,
            "_model_module": "@jupyter-widgets/base",
            "top": null,
            "grid_column": null,
            "overflow_y": null,
            "overflow_x": null,
            "grid_auto_flow": null,
            "grid_area": null,
            "grid_template_columns": null,
            "flex": null,
            "_model_name": "LayoutModel",
            "justify_items": null,
            "grid_row": null,
            "max_height": null,
            "align_content": null,
            "visibility": null,
            "align_self": null,
            "height": null,
            "min_height": null,
            "padding": null,
            "grid_auto_rows": null,
            "grid_gap": null,
            "max_width": null,
            "order": null,
            "_view_module_version": "1.2.0",
            "grid_template_areas": null,
            "object_position": null,
            "object_fit": null,
            "grid_auto_columns": null,
            "margin": null,
            "display": null,
            "left": null
          }
        },
        "3dfed9772c6b45eda6701222067f14c4": {
          "model_module": "@jupyter-widgets/controls",
          "model_name": "DescriptionStyleModel",
          "model_module_version": "1.5.0",
          "state": {
            "_view_name": "StyleView",
            "_model_name": "DescriptionStyleModel",
            "description_width": "",
            "_view_module": "@jupyter-widgets/base",
            "_model_module_version": "1.5.0",
            "_view_count": null,
            "_view_module_version": "1.2.0",
            "_model_module": "@jupyter-widgets/controls"
          }
        },
        "75718da032174903bdcd75ff8a901acf": {
          "model_module": "@jupyter-widgets/base",
          "model_name": "LayoutModel",
          "model_module_version": "1.2.0",
          "state": {
            "_view_name": "LayoutView",
            "grid_template_rows": null,
            "right": null,
            "justify_content": null,
            "_view_module": "@jupyter-widgets/base",
            "overflow": null,
            "_model_module_version": "1.2.0",
            "_view_count": null,
            "flex_flow": null,
            "width": null,
            "min_width": null,
            "border": null,
            "align_items": null,
            "bottom": null,
            "_model_module": "@jupyter-widgets/base",
            "top": null,
            "grid_column": null,
            "overflow_y": null,
            "overflow_x": null,
            "grid_auto_flow": null,
            "grid_area": null,
            "grid_template_columns": null,
            "flex": null,
            "_model_name": "LayoutModel",
            "justify_items": null,
            "grid_row": null,
            "max_height": null,
            "align_content": null,
            "visibility": null,
            "align_self": null,
            "height": null,
            "min_height": null,
            "padding": null,
            "grid_auto_rows": null,
            "grid_gap": null,
            "max_width": null,
            "order": null,
            "_view_module_version": "1.2.0",
            "grid_template_areas": null,
            "object_position": null,
            "object_fit": null,
            "grid_auto_columns": null,
            "margin": null,
            "display": null,
            "left": null
          }
        },
        "8345f6afe58d43fe8d3489df8ab8e337": {
          "model_module": "@jupyter-widgets/controls",
          "model_name": "HBoxModel",
          "model_module_version": "1.5.0",
          "state": {
            "_view_name": "HBoxView",
            "_dom_classes": [],
            "_model_name": "HBoxModel",
            "_view_module": "@jupyter-widgets/controls",
            "_model_module_version": "1.5.0",
            "_view_count": null,
            "_view_module_version": "1.5.0",
            "box_style": "",
            "layout": "IPY_MODEL_2d06e7d876ee4eea92fec3f243edd7f7",
            "_model_module": "@jupyter-widgets/controls",
            "children": [
              "IPY_MODEL_92db37963612449c94b8845d6eb0c7f7",
              "IPY_MODEL_81e45e0bd05945fc8e213c54a01bafc7",
              "IPY_MODEL_b1f94bacb03b4e199ec1caebd7f9aadc"
            ]
          }
        },
        "2d06e7d876ee4eea92fec3f243edd7f7": {
          "model_module": "@jupyter-widgets/base",
          "model_name": "LayoutModel",
          "model_module_version": "1.2.0",
          "state": {
            "_view_name": "LayoutView",
            "grid_template_rows": null,
            "right": null,
            "justify_content": null,
            "_view_module": "@jupyter-widgets/base",
            "overflow": null,
            "_model_module_version": "1.2.0",
            "_view_count": null,
            "flex_flow": null,
            "width": null,
            "min_width": null,
            "border": null,
            "align_items": null,
            "bottom": null,
            "_model_module": "@jupyter-widgets/base",
            "top": null,
            "grid_column": null,
            "overflow_y": null,
            "overflow_x": null,
            "grid_auto_flow": null,
            "grid_area": null,
            "grid_template_columns": null,
            "flex": null,
            "_model_name": "LayoutModel",
            "justify_items": null,
            "grid_row": null,
            "max_height": null,
            "align_content": null,
            "visibility": null,
            "align_self": null,
            "height": null,
            "min_height": null,
            "padding": null,
            "grid_auto_rows": null,
            "grid_gap": null,
            "max_width": null,
            "order": null,
            "_view_module_version": "1.2.0",
            "grid_template_areas": null,
            "object_position": null,
            "object_fit": null,
            "grid_auto_columns": null,
            "margin": null,
            "display": null,
            "left": null
          }
        },
        "92db37963612449c94b8845d6eb0c7f7": {
          "model_module": "@jupyter-widgets/controls",
          "model_name": "HTMLModel",
          "model_module_version": "1.5.0",
          "state": {
            "_view_name": "HTMLView",
            "style": "IPY_MODEL_db334361fc71472da6588ca4fec53e80",
            "_dom_classes": [],
            "description": "",
            "_model_name": "HTMLModel",
            "placeholder": "​",
            "_view_module": "@jupyter-widgets/controls",
            "_model_module_version": "1.5.0",
            "value": "Downloading: ",
            "_view_count": null,
            "_view_module_version": "1.5.0",
            "description_tooltip": null,
            "_model_module": "@jupyter-widgets/controls",
            "layout": "IPY_MODEL_f53591a75e364ddb8aea180d69631b04"
          }
        },
        "81e45e0bd05945fc8e213c54a01bafc7": {
          "model_module": "@jupyter-widgets/controls",
          "model_name": "FloatProgressModel",
          "model_module_version": "1.5.0",
          "state": {
            "_view_name": "ProgressView",
            "style": "IPY_MODEL_b9a85d7722e84f1b917351c420405b5b",
            "_dom_classes": [],
            "description": "",
            "_model_name": "FloatProgressModel",
            "bar_style": "success",
            "max": 2923,
            "_view_module": "@jupyter-widgets/controls",
            "_model_module_version": "1.5.0",
            "value": 2923,
            "_view_count": null,
            "_view_module_version": "1.5.0",
            "orientation": "horizontal",
            "min": 0,
            "description_tooltip": null,
            "_model_module": "@jupyter-widgets/controls",
            "layout": "IPY_MODEL_793dcd7f97914125a3c0055706fb7aba"
          }
        },
        "b1f94bacb03b4e199ec1caebd7f9aadc": {
          "model_module": "@jupyter-widgets/controls",
          "model_name": "HTMLModel",
          "model_module_version": "1.5.0",
          "state": {
            "_view_name": "HTMLView",
            "style": "IPY_MODEL_4eccac66451d4e238169c291a0354db8",
            "_dom_classes": [],
            "description": "",
            "_model_name": "HTMLModel",
            "placeholder": "​",
            "_view_module": "@jupyter-widgets/controls",
            "_model_module_version": "1.5.0",
            "value": " 8.10k/? [00:00&lt;00:00, 318kB/s]",
            "_view_count": null,
            "_view_module_version": "1.5.0",
            "description_tooltip": null,
            "_model_module": "@jupyter-widgets/controls",
            "layout": "IPY_MODEL_c37d01fe684144b6bce84f863692abb8"
          }
        },
        "db334361fc71472da6588ca4fec53e80": {
          "model_module": "@jupyter-widgets/controls",
          "model_name": "DescriptionStyleModel",
          "model_module_version": "1.5.0",
          "state": {
            "_view_name": "StyleView",
            "_model_name": "DescriptionStyleModel",
            "description_width": "",
            "_view_module": "@jupyter-widgets/base",
            "_model_module_version": "1.5.0",
            "_view_count": null,
            "_view_module_version": "1.2.0",
            "_model_module": "@jupyter-widgets/controls"
          }
        },
        "f53591a75e364ddb8aea180d69631b04": {
          "model_module": "@jupyter-widgets/base",
          "model_name": "LayoutModel",
          "model_module_version": "1.2.0",
          "state": {
            "_view_name": "LayoutView",
            "grid_template_rows": null,
            "right": null,
            "justify_content": null,
            "_view_module": "@jupyter-widgets/base",
            "overflow": null,
            "_model_module_version": "1.2.0",
            "_view_count": null,
            "flex_flow": null,
            "width": null,
            "min_width": null,
            "border": null,
            "align_items": null,
            "bottom": null,
            "_model_module": "@jupyter-widgets/base",
            "top": null,
            "grid_column": null,
            "overflow_y": null,
            "overflow_x": null,
            "grid_auto_flow": null,
            "grid_area": null,
            "grid_template_columns": null,
            "flex": null,
            "_model_name": "LayoutModel",
            "justify_items": null,
            "grid_row": null,
            "max_height": null,
            "align_content": null,
            "visibility": null,
            "align_self": null,
            "height": null,
            "min_height": null,
            "padding": null,
            "grid_auto_rows": null,
            "grid_gap": null,
            "max_width": null,
            "order": null,
            "_view_module_version": "1.2.0",
            "grid_template_areas": null,
            "object_position": null,
            "object_fit": null,
            "grid_auto_columns": null,
            "margin": null,
            "display": null,
            "left": null
          }
        },
        "b9a85d7722e84f1b917351c420405b5b": {
          "model_module": "@jupyter-widgets/controls",
          "model_name": "ProgressStyleModel",
          "model_module_version": "1.5.0",
          "state": {
            "_view_name": "StyleView",
            "_model_name": "ProgressStyleModel",
            "description_width": "",
            "_view_module": "@jupyter-widgets/base",
            "_model_module_version": "1.5.0",
            "_view_count": null,
            "_view_module_version": "1.2.0",
            "bar_color": null,
            "_model_module": "@jupyter-widgets/controls"
          }
        },
        "793dcd7f97914125a3c0055706fb7aba": {
          "model_module": "@jupyter-widgets/base",
          "model_name": "LayoutModel",
          "model_module_version": "1.2.0",
          "state": {
            "_view_name": "LayoutView",
            "grid_template_rows": null,
            "right": null,
            "justify_content": null,
            "_view_module": "@jupyter-widgets/base",
            "overflow": null,
            "_model_module_version": "1.2.0",
            "_view_count": null,
            "flex_flow": null,
            "width": null,
            "min_width": null,
            "border": null,
            "align_items": null,
            "bottom": null,
            "_model_module": "@jupyter-widgets/base",
            "top": null,
            "grid_column": null,
            "overflow_y": null,
            "overflow_x": null,
            "grid_auto_flow": null,
            "grid_area": null,
            "grid_template_columns": null,
            "flex": null,
            "_model_name": "LayoutModel",
            "justify_items": null,
            "grid_row": null,
            "max_height": null,
            "align_content": null,
            "visibility": null,
            "align_self": null,
            "height": null,
            "min_height": null,
            "padding": null,
            "grid_auto_rows": null,
            "grid_gap": null,
            "max_width": null,
            "order": null,
            "_view_module_version": "1.2.0",
            "grid_template_areas": null,
            "object_position": null,
            "object_fit": null,
            "grid_auto_columns": null,
            "margin": null,
            "display": null,
            "left": null
          }
        },
        "4eccac66451d4e238169c291a0354db8": {
          "model_module": "@jupyter-widgets/controls",
          "model_name": "DescriptionStyleModel",
          "model_module_version": "1.5.0",
          "state": {
            "_view_name": "StyleView",
            "_model_name": "DescriptionStyleModel",
            "description_width": "",
            "_view_module": "@jupyter-widgets/base",
            "_model_module_version": "1.5.0",
            "_view_count": null,
            "_view_module_version": "1.2.0",
            "_model_module": "@jupyter-widgets/controls"
          }
        },
        "c37d01fe684144b6bce84f863692abb8": {
          "model_module": "@jupyter-widgets/base",
          "model_name": "LayoutModel",
          "model_module_version": "1.2.0",
          "state": {
            "_view_name": "LayoutView",
            "grid_template_rows": null,
            "right": null,
            "justify_content": null,
            "_view_module": "@jupyter-widgets/base",
            "overflow": null,
            "_model_module_version": "1.2.0",
            "_view_count": null,
            "flex_flow": null,
            "width": null,
            "min_width": null,
            "border": null,
            "align_items": null,
            "bottom": null,
            "_model_module": "@jupyter-widgets/base",
            "top": null,
            "grid_column": null,
            "overflow_y": null,
            "overflow_x": null,
            "grid_auto_flow": null,
            "grid_area": null,
            "grid_template_columns": null,
            "flex": null,
            "_model_name": "LayoutModel",
            "justify_items": null,
            "grid_row": null,
            "max_height": null,
            "align_content": null,
            "visibility": null,
            "align_self": null,
            "height": null,
            "min_height": null,
            "padding": null,
            "grid_auto_rows": null,
            "grid_gap": null,
            "max_width": null,
            "order": null,
            "_view_module_version": "1.2.0",
            "grid_template_areas": null,
            "object_position": null,
            "object_fit": null,
            "grid_auto_columns": null,
            "margin": null,
            "display": null,
            "left": null
          }
        },
        "9691511497754891b27bde167fb2e2d5": {
          "model_module": "@jupyter-widgets/controls",
          "model_name": "HBoxModel",
          "model_module_version": "1.5.0",
          "state": {
            "_view_name": "HBoxView",
            "_dom_classes": [],
            "_model_name": "HBoxModel",
            "_view_module": "@jupyter-widgets/controls",
            "_model_module_version": "1.5.0",
            "_view_count": null,
            "_view_module_version": "1.5.0",
            "box_style": "",
            "layout": "IPY_MODEL_d5078da0fdad415faf9909e56a197b40",
            "_model_module": "@jupyter-widgets/controls",
            "children": [
              "IPY_MODEL_46e9e3c88df44ac4a206970acb08f451",
              "IPY_MODEL_81c5bee78b6a46739f31928ec3196a47",
              "IPY_MODEL_c43f883e34cd44eabee54b6a12a842a7"
            ]
          }
        },
        "d5078da0fdad415faf9909e56a197b40": {
          "model_module": "@jupyter-widgets/base",
          "model_name": "LayoutModel",
          "model_module_version": "1.2.0",
          "state": {
            "_view_name": "LayoutView",
            "grid_template_rows": null,
            "right": null,
            "justify_content": null,
            "_view_module": "@jupyter-widgets/base",
            "overflow": null,
            "_model_module_version": "1.2.0",
            "_view_count": null,
            "flex_flow": null,
            "width": null,
            "min_width": null,
            "border": null,
            "align_items": null,
            "bottom": null,
            "_model_module": "@jupyter-widgets/base",
            "top": null,
            "grid_column": null,
            "overflow_y": null,
            "overflow_x": null,
            "grid_auto_flow": null,
            "grid_area": null,
            "grid_template_columns": null,
            "flex": null,
            "_model_name": "LayoutModel",
            "justify_items": null,
            "grid_row": null,
            "max_height": null,
            "align_content": null,
            "visibility": null,
            "align_self": null,
            "height": null,
            "min_height": null,
            "padding": null,
            "grid_auto_rows": null,
            "grid_gap": null,
            "max_width": null,
            "order": null,
            "_view_module_version": "1.2.0",
            "grid_template_areas": null,
            "object_position": null,
            "object_fit": null,
            "grid_auto_columns": null,
            "margin": null,
            "display": null,
            "left": null
          }
        },
        "46e9e3c88df44ac4a206970acb08f451": {
          "model_module": "@jupyter-widgets/controls",
          "model_name": "HTMLModel",
          "model_module_version": "1.5.0",
          "state": {
            "_view_name": "HTMLView",
            "style": "IPY_MODEL_944382135edd494597181aff22f15329",
            "_dom_classes": [],
            "description": "",
            "_model_name": "HTMLModel",
            "placeholder": "​",
            "_view_module": "@jupyter-widgets/controls",
            "_model_module_version": "1.5.0",
            "value": "Downloading: 100%",
            "_view_count": null,
            "_view_module_version": "1.5.0",
            "description_tooltip": null,
            "_model_module": "@jupyter-widgets/controls",
            "layout": "IPY_MODEL_fa63d7906a5b4f689e60bee1c79d3891"
          }
        },
        "81c5bee78b6a46739f31928ec3196a47": {
          "model_module": "@jupyter-widgets/controls",
          "model_name": "FloatProgressModel",
          "model_module_version": "1.5.0",
          "state": {
            "_view_name": "ProgressView",
            "style": "IPY_MODEL_fbcd98684594421c8c706a5513398902",
            "_dom_classes": [],
            "description": "",
            "_model_name": "FloatProgressModel",
            "bar_style": "success",
            "max": 375,
            "_view_module": "@jupyter-widgets/controls",
            "_model_module_version": "1.5.0",
            "value": 375,
            "_view_count": null,
            "_view_module_version": "1.5.0",
            "orientation": "horizontal",
            "min": 0,
            "description_tooltip": null,
            "_model_module": "@jupyter-widgets/controls",
            "layout": "IPY_MODEL_efe0021f93c54d71bea73f6798ead540"
          }
        },
        "c43f883e34cd44eabee54b6a12a842a7": {
          "model_module": "@jupyter-widgets/controls",
          "model_name": "HTMLModel",
          "model_module_version": "1.5.0",
          "state": {
            "_view_name": "HTMLView",
            "style": "IPY_MODEL_5a9e64ff31694878902c301db694d371",
            "_dom_classes": [],
            "description": "",
            "_model_name": "HTMLModel",
            "placeholder": "​",
            "_view_module": "@jupyter-widgets/controls",
            "_model_module_version": "1.5.0",
            "value": " 375/375 [00:00&lt;00:00, 15.2kB/s]",
            "_view_count": null,
            "_view_module_version": "1.5.0",
            "description_tooltip": null,
            "_model_module": "@jupyter-widgets/controls",
            "layout": "IPY_MODEL_fe9cb02ae37c4b3d97d7bcb2b19bf000"
          }
        },
        "944382135edd494597181aff22f15329": {
          "model_module": "@jupyter-widgets/controls",
          "model_name": "DescriptionStyleModel",
          "model_module_version": "1.5.0",
          "state": {
            "_view_name": "StyleView",
            "_model_name": "DescriptionStyleModel",
            "description_width": "",
            "_view_module": "@jupyter-widgets/base",
            "_model_module_version": "1.5.0",
            "_view_count": null,
            "_view_module_version": "1.2.0",
            "_model_module": "@jupyter-widgets/controls"
          }
        },
        "fa63d7906a5b4f689e60bee1c79d3891": {
          "model_module": "@jupyter-widgets/base",
          "model_name": "LayoutModel",
          "model_module_version": "1.2.0",
          "state": {
            "_view_name": "LayoutView",
            "grid_template_rows": null,
            "right": null,
            "justify_content": null,
            "_view_module": "@jupyter-widgets/base",
            "overflow": null,
            "_model_module_version": "1.2.0",
            "_view_count": null,
            "flex_flow": null,
            "width": null,
            "min_width": null,
            "border": null,
            "align_items": null,
            "bottom": null,
            "_model_module": "@jupyter-widgets/base",
            "top": null,
            "grid_column": null,
            "overflow_y": null,
            "overflow_x": null,
            "grid_auto_flow": null,
            "grid_area": null,
            "grid_template_columns": null,
            "flex": null,
            "_model_name": "LayoutModel",
            "justify_items": null,
            "grid_row": null,
            "max_height": null,
            "align_content": null,
            "visibility": null,
            "align_self": null,
            "height": null,
            "min_height": null,
            "padding": null,
            "grid_auto_rows": null,
            "grid_gap": null,
            "max_width": null,
            "order": null,
            "_view_module_version": "1.2.0",
            "grid_template_areas": null,
            "object_position": null,
            "object_fit": null,
            "grid_auto_columns": null,
            "margin": null,
            "display": null,
            "left": null
          }
        },
        "fbcd98684594421c8c706a5513398902": {
          "model_module": "@jupyter-widgets/controls",
          "model_name": "ProgressStyleModel",
          "model_module_version": "1.5.0",
          "state": {
            "_view_name": "StyleView",
            "_model_name": "ProgressStyleModel",
            "description_width": "",
            "_view_module": "@jupyter-widgets/base",
            "_model_module_version": "1.5.0",
            "_view_count": null,
            "_view_module_version": "1.2.0",
            "bar_color": null,
            "_model_module": "@jupyter-widgets/controls"
          }
        },
        "efe0021f93c54d71bea73f6798ead540": {
          "model_module": "@jupyter-widgets/base",
          "model_name": "LayoutModel",
          "model_module_version": "1.2.0",
          "state": {
            "_view_name": "LayoutView",
            "grid_template_rows": null,
            "right": null,
            "justify_content": null,
            "_view_module": "@jupyter-widgets/base",
            "overflow": null,
            "_model_module_version": "1.2.0",
            "_view_count": null,
            "flex_flow": null,
            "width": null,
            "min_width": null,
            "border": null,
            "align_items": null,
            "bottom": null,
            "_model_module": "@jupyter-widgets/base",
            "top": null,
            "grid_column": null,
            "overflow_y": null,
            "overflow_x": null,
            "grid_auto_flow": null,
            "grid_area": null,
            "grid_template_columns": null,
            "flex": null,
            "_model_name": "LayoutModel",
            "justify_items": null,
            "grid_row": null,
            "max_height": null,
            "align_content": null,
            "visibility": null,
            "align_self": null,
            "height": null,
            "min_height": null,
            "padding": null,
            "grid_auto_rows": null,
            "grid_gap": null,
            "max_width": null,
            "order": null,
            "_view_module_version": "1.2.0",
            "grid_template_areas": null,
            "object_position": null,
            "object_fit": null,
            "grid_auto_columns": null,
            "margin": null,
            "display": null,
            "left": null
          }
        },
        "5a9e64ff31694878902c301db694d371": {
          "model_module": "@jupyter-widgets/controls",
          "model_name": "DescriptionStyleModel",
          "model_module_version": "1.5.0",
          "state": {
            "_view_name": "StyleView",
            "_model_name": "DescriptionStyleModel",
            "description_width": "",
            "_view_module": "@jupyter-widgets/base",
            "_model_module_version": "1.5.0",
            "_view_count": null,
            "_view_module_version": "1.2.0",
            "_model_module": "@jupyter-widgets/controls"
          }
        },
        "fe9cb02ae37c4b3d97d7bcb2b19bf000": {
          "model_module": "@jupyter-widgets/base",
          "model_name": "LayoutModel",
          "model_module_version": "1.2.0",
          "state": {
            "_view_name": "LayoutView",
            "grid_template_rows": null,
            "right": null,
            "justify_content": null,
            "_view_module": "@jupyter-widgets/base",
            "overflow": null,
            "_model_module_version": "1.2.0",
            "_view_count": null,
            "flex_flow": null,
            "width": null,
            "min_width": null,
            "border": null,
            "align_items": null,
            "bottom": null,
            "_model_module": "@jupyter-widgets/base",
            "top": null,
            "grid_column": null,
            "overflow_y": null,
            "overflow_x": null,
            "grid_auto_flow": null,
            "grid_area": null,
            "grid_template_columns": null,
            "flex": null,
            "_model_name": "LayoutModel",
            "justify_items": null,
            "grid_row": null,
            "max_height": null,
            "align_content": null,
            "visibility": null,
            "align_self": null,
            "height": null,
            "min_height": null,
            "padding": null,
            "grid_auto_rows": null,
            "grid_gap": null,
            "max_width": null,
            "order": null,
            "_view_module_version": "1.2.0",
            "grid_template_areas": null,
            "object_position": null,
            "object_fit": null,
            "grid_auto_columns": null,
            "margin": null,
            "display": null,
            "left": null
          }
        },
        "7cbc21ff27124b3e9751495362447607": {
          "model_module": "@jupyter-widgets/controls",
          "model_name": "HBoxModel",
          "model_module_version": "1.5.0",
          "state": {
            "_view_name": "HBoxView",
            "_dom_classes": [],
            "_model_name": "HBoxModel",
            "_view_module": "@jupyter-widgets/controls",
            "_model_module_version": "1.5.0",
            "_view_count": null,
            "_view_module_version": "1.5.0",
            "box_style": "",
            "layout": "IPY_MODEL_47a09856c3ee4bd98447b40fc762ceed",
            "_model_module": "@jupyter-widgets/controls",
            "children": [
              "IPY_MODEL_e85263773d3940cbabcf905cf9897e4f",
              "IPY_MODEL_a9928ae781a64d4f91633249429bea1a",
              "IPY_MODEL_fd96b406a9804df5b948605b9ad032f8"
            ]
          }
        },
        "47a09856c3ee4bd98447b40fc762ceed": {
          "model_module": "@jupyter-widgets/base",
          "model_name": "LayoutModel",
          "model_module_version": "1.2.0",
          "state": {
            "_view_name": "LayoutView",
            "grid_template_rows": null,
            "right": null,
            "justify_content": null,
            "_view_module": "@jupyter-widgets/base",
            "overflow": null,
            "_model_module_version": "1.2.0",
            "_view_count": null,
            "flex_flow": null,
            "width": null,
            "min_width": null,
            "border": null,
            "align_items": null,
            "bottom": null,
            "_model_module": "@jupyter-widgets/base",
            "top": null,
            "grid_column": null,
            "overflow_y": null,
            "overflow_x": null,
            "grid_auto_flow": null,
            "grid_area": null,
            "grid_template_columns": null,
            "flex": null,
            "_model_name": "LayoutModel",
            "justify_items": null,
            "grid_row": null,
            "max_height": null,
            "align_content": null,
            "visibility": null,
            "align_self": null,
            "height": null,
            "min_height": null,
            "padding": null,
            "grid_auto_rows": null,
            "grid_gap": null,
            "max_width": null,
            "order": null,
            "_view_module_version": "1.2.0",
            "grid_template_areas": null,
            "object_position": null,
            "object_fit": null,
            "grid_auto_columns": null,
            "margin": null,
            "display": null,
            "left": null
          }
        },
        "e85263773d3940cbabcf905cf9897e4f": {
          "model_module": "@jupyter-widgets/controls",
          "model_name": "HTMLModel",
          "model_module_version": "1.5.0",
          "state": {
            "_view_name": "HTMLView",
            "style": "IPY_MODEL_533aaca104da41e9a1bdee086cd1eb73",
            "_dom_classes": [],
            "description": "",
            "_model_name": "HTMLModel",
            "placeholder": "​",
            "_view_module": "@jupyter-widgets/controls",
            "_model_module_version": "1.5.0",
            "value": "Downloading: 100%",
            "_view_count": null,
            "_view_module_version": "1.5.0",
            "description_tooltip": null,
            "_model_module": "@jupyter-widgets/controls",
            "layout": "IPY_MODEL_212b267b01a94cbf849ee524e3f4642d"
          }
        },
        "a9928ae781a64d4f91633249429bea1a": {
          "model_module": "@jupyter-widgets/controls",
          "model_name": "FloatProgressModel",
          "model_module_version": "1.5.0",
          "state": {
            "_view_name": "ProgressView",
            "style": "IPY_MODEL_b8938b5e81db477aac377f7a2cc0f5d8",
            "_dom_classes": [],
            "description": "",
            "_model_name": "FloatProgressModel",
            "bar_style": "success",
            "max": 248477,
            "_view_module": "@jupyter-widgets/controls",
            "_model_module_version": "1.5.0",
            "value": 248477,
            "_view_count": null,
            "_view_module_version": "1.5.0",
            "orientation": "horizontal",
            "min": 0,
            "description_tooltip": null,
            "_model_module": "@jupyter-widgets/controls",
            "layout": "IPY_MODEL_98a9ccaf61fb4ad8bc63258b19622778"
          }
        },
        "fd96b406a9804df5b948605b9ad032f8": {
          "model_module": "@jupyter-widgets/controls",
          "model_name": "HTMLModel",
          "model_module_version": "1.5.0",
          "state": {
            "_view_name": "HTMLView",
            "style": "IPY_MODEL_00c4366000da41c38c6824eb1f212760",
            "_dom_classes": [],
            "description": "",
            "_model_name": "HTMLModel",
            "placeholder": "​",
            "_view_module": "@jupyter-widgets/controls",
            "_model_module_version": "1.5.0",
            "value": " 243k/243k [00:00&lt;00:00, 340kB/s]",
            "_view_count": null,
            "_view_module_version": "1.5.0",
            "description_tooltip": null,
            "_model_module": "@jupyter-widgets/controls",
            "layout": "IPY_MODEL_5d50b65dae0b4e50bdcd20c3147a0bb6"
          }
        },
        "533aaca104da41e9a1bdee086cd1eb73": {
          "model_module": "@jupyter-widgets/controls",
          "model_name": "DescriptionStyleModel",
          "model_module_version": "1.5.0",
          "state": {
            "_view_name": "StyleView",
            "_model_name": "DescriptionStyleModel",
            "description_width": "",
            "_view_module": "@jupyter-widgets/base",
            "_model_module_version": "1.5.0",
            "_view_count": null,
            "_view_module_version": "1.2.0",
            "_model_module": "@jupyter-widgets/controls"
          }
        },
        "212b267b01a94cbf849ee524e3f4642d": {
          "model_module": "@jupyter-widgets/base",
          "model_name": "LayoutModel",
          "model_module_version": "1.2.0",
          "state": {
            "_view_name": "LayoutView",
            "grid_template_rows": null,
            "right": null,
            "justify_content": null,
            "_view_module": "@jupyter-widgets/base",
            "overflow": null,
            "_model_module_version": "1.2.0",
            "_view_count": null,
            "flex_flow": null,
            "width": null,
            "min_width": null,
            "border": null,
            "align_items": null,
            "bottom": null,
            "_model_module": "@jupyter-widgets/base",
            "top": null,
            "grid_column": null,
            "overflow_y": null,
            "overflow_x": null,
            "grid_auto_flow": null,
            "grid_area": null,
            "grid_template_columns": null,
            "flex": null,
            "_model_name": "LayoutModel",
            "justify_items": null,
            "grid_row": null,
            "max_height": null,
            "align_content": null,
            "visibility": null,
            "align_self": null,
            "height": null,
            "min_height": null,
            "padding": null,
            "grid_auto_rows": null,
            "grid_gap": null,
            "max_width": null,
            "order": null,
            "_view_module_version": "1.2.0",
            "grid_template_areas": null,
            "object_position": null,
            "object_fit": null,
            "grid_auto_columns": null,
            "margin": null,
            "display": null,
            "left": null
          }
        },
        "b8938b5e81db477aac377f7a2cc0f5d8": {
          "model_module": "@jupyter-widgets/controls",
          "model_name": "ProgressStyleModel",
          "model_module_version": "1.5.0",
          "state": {
            "_view_name": "StyleView",
            "_model_name": "ProgressStyleModel",
            "description_width": "",
            "_view_module": "@jupyter-widgets/base",
            "_model_module_version": "1.5.0",
            "_view_count": null,
            "_view_module_version": "1.2.0",
            "bar_color": null,
            "_model_module": "@jupyter-widgets/controls"
          }
        },
        "98a9ccaf61fb4ad8bc63258b19622778": {
          "model_module": "@jupyter-widgets/base",
          "model_name": "LayoutModel",
          "model_module_version": "1.2.0",
          "state": {
            "_view_name": "LayoutView",
            "grid_template_rows": null,
            "right": null,
            "justify_content": null,
            "_view_module": "@jupyter-widgets/base",
            "overflow": null,
            "_model_module_version": "1.2.0",
            "_view_count": null,
            "flex_flow": null,
            "width": null,
            "min_width": null,
            "border": null,
            "align_items": null,
            "bottom": null,
            "_model_module": "@jupyter-widgets/base",
            "top": null,
            "grid_column": null,
            "overflow_y": null,
            "overflow_x": null,
            "grid_auto_flow": null,
            "grid_area": null,
            "grid_template_columns": null,
            "flex": null,
            "_model_name": "LayoutModel",
            "justify_items": null,
            "grid_row": null,
            "max_height": null,
            "align_content": null,
            "visibility": null,
            "align_self": null,
            "height": null,
            "min_height": null,
            "padding": null,
            "grid_auto_rows": null,
            "grid_gap": null,
            "max_width": null,
            "order": null,
            "_view_module_version": "1.2.0",
            "grid_template_areas": null,
            "object_position": null,
            "object_fit": null,
            "grid_auto_columns": null,
            "margin": null,
            "display": null,
            "left": null
          }
        },
        "00c4366000da41c38c6824eb1f212760": {
          "model_module": "@jupyter-widgets/controls",
          "model_name": "DescriptionStyleModel",
          "model_module_version": "1.5.0",
          "state": {
            "_view_name": "StyleView",
            "_model_name": "DescriptionStyleModel",
            "description_width": "",
            "_view_module": "@jupyter-widgets/base",
            "_model_module_version": "1.5.0",
            "_view_count": null,
            "_view_module_version": "1.2.0",
            "_model_module": "@jupyter-widgets/controls"
          }
        },
        "5d50b65dae0b4e50bdcd20c3147a0bb6": {
          "model_module": "@jupyter-widgets/base",
          "model_name": "LayoutModel",
          "model_module_version": "1.2.0",
          "state": {
            "_view_name": "LayoutView",
            "grid_template_rows": null,
            "right": null,
            "justify_content": null,
            "_view_module": "@jupyter-widgets/base",
            "overflow": null,
            "_model_module_version": "1.2.0",
            "_view_count": null,
            "flex_flow": null,
            "width": null,
            "min_width": null,
            "border": null,
            "align_items": null,
            "bottom": null,
            "_model_module": "@jupyter-widgets/base",
            "top": null,
            "grid_column": null,
            "overflow_y": null,
            "overflow_x": null,
            "grid_auto_flow": null,
            "grid_area": null,
            "grid_template_columns": null,
            "flex": null,
            "_model_name": "LayoutModel",
            "justify_items": null,
            "grid_row": null,
            "max_height": null,
            "align_content": null,
            "visibility": null,
            "align_self": null,
            "height": null,
            "min_height": null,
            "padding": null,
            "grid_auto_rows": null,
            "grid_gap": null,
            "max_width": null,
            "order": null,
            "_view_module_version": "1.2.0",
            "grid_template_areas": null,
            "object_position": null,
            "object_fit": null,
            "grid_auto_columns": null,
            "margin": null,
            "display": null,
            "left": null
          }
        },
        "98db7a0758de43aca5099d944fbd6dcf": {
          "model_module": "@jupyter-widgets/controls",
          "model_name": "HBoxModel",
          "model_module_version": "1.5.0",
          "state": {
            "_view_name": "HBoxView",
            "_dom_classes": [],
            "_model_name": "HBoxModel",
            "_view_module": "@jupyter-widgets/controls",
            "_model_module_version": "1.5.0",
            "_view_count": null,
            "_view_module_version": "1.5.0",
            "box_style": "",
            "layout": "IPY_MODEL_12e375a6f3744f0bb8dfa81e709259ed",
            "_model_module": "@jupyter-widgets/controls",
            "children": [
              "IPY_MODEL_c86eaf6ae9604678b76af7b5737f90f0",
              "IPY_MODEL_181828fd0257434abe552a4d9f0d99ca",
              "IPY_MODEL_dbcccbc08bc54816947265770955532b"
            ]
          }
        },
        "12e375a6f3744f0bb8dfa81e709259ed": {
          "model_module": "@jupyter-widgets/base",
          "model_name": "LayoutModel",
          "model_module_version": "1.2.0",
          "state": {
            "_view_name": "LayoutView",
            "grid_template_rows": null,
            "right": null,
            "justify_content": null,
            "_view_module": "@jupyter-widgets/base",
            "overflow": null,
            "_model_module_version": "1.2.0",
            "_view_count": null,
            "flex_flow": null,
            "width": null,
            "min_width": null,
            "border": null,
            "align_items": null,
            "bottom": null,
            "_model_module": "@jupyter-widgets/base",
            "top": null,
            "grid_column": null,
            "overflow_y": null,
            "overflow_x": null,
            "grid_auto_flow": null,
            "grid_area": null,
            "grid_template_columns": null,
            "flex": null,
            "_model_name": "LayoutModel",
            "justify_items": null,
            "grid_row": null,
            "max_height": null,
            "align_content": null,
            "visibility": null,
            "align_self": null,
            "height": null,
            "min_height": null,
            "padding": null,
            "grid_auto_rows": null,
            "grid_gap": null,
            "max_width": null,
            "order": null,
            "_view_module_version": "1.2.0",
            "grid_template_areas": null,
            "object_position": null,
            "object_fit": null,
            "grid_auto_columns": null,
            "margin": null,
            "display": null,
            "left": null
          }
        },
        "c86eaf6ae9604678b76af7b5737f90f0": {
          "model_module": "@jupyter-widgets/controls",
          "model_name": "HTMLModel",
          "model_module_version": "1.5.0",
          "state": {
            "_view_name": "HTMLView",
            "style": "IPY_MODEL_aa4fd43972d649ceb2d59d81777ac392",
            "_dom_classes": [],
            "description": "",
            "_model_name": "HTMLModel",
            "placeholder": "​",
            "_view_module": "@jupyter-widgets/controls",
            "_model_module_version": "1.5.0",
            "value": "Downloading: 100%",
            "_view_count": null,
            "_view_module_version": "1.5.0",
            "description_tooltip": null,
            "_model_module": "@jupyter-widgets/controls",
            "layout": "IPY_MODEL_7f843355421640d99ecdeadc0aebf4ef"
          }
        },
        "181828fd0257434abe552a4d9f0d99ca": {
          "model_module": "@jupyter-widgets/controls",
          "model_name": "FloatProgressModel",
          "model_module_version": "1.5.0",
          "state": {
            "_view_name": "ProgressView",
            "style": "IPY_MODEL_935ca3c8999942589e41e00c394ee8e9",
            "_dom_classes": [],
            "description": "",
            "_model_name": "FloatProgressModel",
            "bar_style": "success",
            "max": 173,
            "_view_module": "@jupyter-widgets/controls",
            "_model_module_version": "1.5.0",
            "value": 173,
            "_view_count": null,
            "_view_module_version": "1.5.0",
            "orientation": "horizontal",
            "min": 0,
            "description_tooltip": null,
            "_model_module": "@jupyter-widgets/controls",
            "layout": "IPY_MODEL_ad3996efb8f441a68ac732e667dfd4a8"
          }
        },
        "dbcccbc08bc54816947265770955532b": {
          "model_module": "@jupyter-widgets/controls",
          "model_name": "HTMLModel",
          "model_module_version": "1.5.0",
          "state": {
            "_view_name": "HTMLView",
            "style": "IPY_MODEL_2dece83fb82b464aa149ae8bd838e0b2",
            "_dom_classes": [],
            "description": "",
            "_model_name": "HTMLModel",
            "placeholder": "​",
            "_view_module": "@jupyter-widgets/controls",
            "_model_module_version": "1.5.0",
            "value": " 173/173 [00:00&lt;00:00, 6.94kB/s]",
            "_view_count": null,
            "_view_module_version": "1.5.0",
            "description_tooltip": null,
            "_model_module": "@jupyter-widgets/controls",
            "layout": "IPY_MODEL_38e70884b2314f0596bbb2edcd2ca21b"
          }
        },
        "aa4fd43972d649ceb2d59d81777ac392": {
          "model_module": "@jupyter-widgets/controls",
          "model_name": "DescriptionStyleModel",
          "model_module_version": "1.5.0",
          "state": {
            "_view_name": "StyleView",
            "_model_name": "DescriptionStyleModel",
            "description_width": "",
            "_view_module": "@jupyter-widgets/base",
            "_model_module_version": "1.5.0",
            "_view_count": null,
            "_view_module_version": "1.2.0",
            "_model_module": "@jupyter-widgets/controls"
          }
        },
        "7f843355421640d99ecdeadc0aebf4ef": {
          "model_module": "@jupyter-widgets/base",
          "model_name": "LayoutModel",
          "model_module_version": "1.2.0",
          "state": {
            "_view_name": "LayoutView",
            "grid_template_rows": null,
            "right": null,
            "justify_content": null,
            "_view_module": "@jupyter-widgets/base",
            "overflow": null,
            "_model_module_version": "1.2.0",
            "_view_count": null,
            "flex_flow": null,
            "width": null,
            "min_width": null,
            "border": null,
            "align_items": null,
            "bottom": null,
            "_model_module": "@jupyter-widgets/base",
            "top": null,
            "grid_column": null,
            "overflow_y": null,
            "overflow_x": null,
            "grid_auto_flow": null,
            "grid_area": null,
            "grid_template_columns": null,
            "flex": null,
            "_model_name": "LayoutModel",
            "justify_items": null,
            "grid_row": null,
            "max_height": null,
            "align_content": null,
            "visibility": null,
            "align_self": null,
            "height": null,
            "min_height": null,
            "padding": null,
            "grid_auto_rows": null,
            "grid_gap": null,
            "max_width": null,
            "order": null,
            "_view_module_version": "1.2.0",
            "grid_template_areas": null,
            "object_position": null,
            "object_fit": null,
            "grid_auto_columns": null,
            "margin": null,
            "display": null,
            "left": null
          }
        },
        "935ca3c8999942589e41e00c394ee8e9": {
          "model_module": "@jupyter-widgets/controls",
          "model_name": "ProgressStyleModel",
          "model_module_version": "1.5.0",
          "state": {
            "_view_name": "StyleView",
            "_model_name": "ProgressStyleModel",
            "description_width": "",
            "_view_module": "@jupyter-widgets/base",
            "_model_module_version": "1.5.0",
            "_view_count": null,
            "_view_module_version": "1.2.0",
            "bar_color": null,
            "_model_module": "@jupyter-widgets/controls"
          }
        },
        "ad3996efb8f441a68ac732e667dfd4a8": {
          "model_module": "@jupyter-widgets/base",
          "model_name": "LayoutModel",
          "model_module_version": "1.2.0",
          "state": {
            "_view_name": "LayoutView",
            "grid_template_rows": null,
            "right": null,
            "justify_content": null,
            "_view_module": "@jupyter-widgets/base",
            "overflow": null,
            "_model_module_version": "1.2.0",
            "_view_count": null,
            "flex_flow": null,
            "width": null,
            "min_width": null,
            "border": null,
            "align_items": null,
            "bottom": null,
            "_model_module": "@jupyter-widgets/base",
            "top": null,
            "grid_column": null,
            "overflow_y": null,
            "overflow_x": null,
            "grid_auto_flow": null,
            "grid_area": null,
            "grid_template_columns": null,
            "flex": null,
            "_model_name": "LayoutModel",
            "justify_items": null,
            "grid_row": null,
            "max_height": null,
            "align_content": null,
            "visibility": null,
            "align_self": null,
            "height": null,
            "min_height": null,
            "padding": null,
            "grid_auto_rows": null,
            "grid_gap": null,
            "max_width": null,
            "order": null,
            "_view_module_version": "1.2.0",
            "grid_template_areas": null,
            "object_position": null,
            "object_fit": null,
            "grid_auto_columns": null,
            "margin": null,
            "display": null,
            "left": null
          }
        },
        "2dece83fb82b464aa149ae8bd838e0b2": {
          "model_module": "@jupyter-widgets/controls",
          "model_name": "DescriptionStyleModel",
          "model_module_version": "1.5.0",
          "state": {
            "_view_name": "StyleView",
            "_model_name": "DescriptionStyleModel",
            "description_width": "",
            "_view_module": "@jupyter-widgets/base",
            "_model_module_version": "1.5.0",
            "_view_count": null,
            "_view_module_version": "1.2.0",
            "_model_module": "@jupyter-widgets/controls"
          }
        },
        "38e70884b2314f0596bbb2edcd2ca21b": {
          "model_module": "@jupyter-widgets/base",
          "model_name": "LayoutModel",
          "model_module_version": "1.2.0",
          "state": {
            "_view_name": "LayoutView",
            "grid_template_rows": null,
            "right": null,
            "justify_content": null,
            "_view_module": "@jupyter-widgets/base",
            "overflow": null,
            "_model_module_version": "1.2.0",
            "_view_count": null,
            "flex_flow": null,
            "width": null,
            "min_width": null,
            "border": null,
            "align_items": null,
            "bottom": null,
            "_model_module": "@jupyter-widgets/base",
            "top": null,
            "grid_column": null,
            "overflow_y": null,
            "overflow_x": null,
            "grid_auto_flow": null,
            "grid_area": null,
            "grid_template_columns": null,
            "flex": null,
            "_model_name": "LayoutModel",
            "justify_items": null,
            "grid_row": null,
            "max_height": null,
            "align_content": null,
            "visibility": null,
            "align_self": null,
            "height": null,
            "min_height": null,
            "padding": null,
            "grid_auto_rows": null,
            "grid_gap": null,
            "max_width": null,
            "order": null,
            "_view_module_version": "1.2.0",
            "grid_template_areas": null,
            "object_position": null,
            "object_fit": null,
            "grid_auto_columns": null,
            "margin": null,
            "display": null,
            "left": null
          }
        },
        "a327d99e15814e249451851db9dcca05": {
          "model_module": "@jupyter-widgets/controls",
          "model_name": "HBoxModel",
          "model_module_version": "1.5.0",
          "state": {
            "_view_name": "HBoxView",
            "_dom_classes": [],
            "_model_name": "HBoxModel",
            "_view_module": "@jupyter-widgets/controls",
            "_model_module_version": "1.5.0",
            "_view_count": null,
            "_view_module_version": "1.5.0",
            "box_style": "",
            "layout": "IPY_MODEL_7233cbb43aa945af9474493c396320b8",
            "_model_module": "@jupyter-widgets/controls",
            "children": [
              "IPY_MODEL_aaca7c7521aa45459d909d3ff205b145",
              "IPY_MODEL_17f91ac6854940189d734a607a1c0ddb",
              "IPY_MODEL_74f01f345ead4a219811ac43ed55acc6"
            ]
          }
        },
        "7233cbb43aa945af9474493c396320b8": {
          "model_module": "@jupyter-widgets/base",
          "model_name": "LayoutModel",
          "model_module_version": "1.2.0",
          "state": {
            "_view_name": "LayoutView",
            "grid_template_rows": null,
            "right": null,
            "justify_content": null,
            "_view_module": "@jupyter-widgets/base",
            "overflow": null,
            "_model_module_version": "1.2.0",
            "_view_count": null,
            "flex_flow": null,
            "width": null,
            "min_width": null,
            "border": null,
            "align_items": null,
            "bottom": null,
            "_model_module": "@jupyter-widgets/base",
            "top": null,
            "grid_column": null,
            "overflow_y": null,
            "overflow_x": null,
            "grid_auto_flow": null,
            "grid_area": null,
            "grid_template_columns": null,
            "flex": null,
            "_model_name": "LayoutModel",
            "justify_items": null,
            "grid_row": null,
            "max_height": null,
            "align_content": null,
            "visibility": null,
            "align_self": null,
            "height": null,
            "min_height": null,
            "padding": null,
            "grid_auto_rows": null,
            "grid_gap": null,
            "max_width": null,
            "order": null,
            "_view_module_version": "1.2.0",
            "grid_template_areas": null,
            "object_position": null,
            "object_fit": null,
            "grid_auto_columns": null,
            "margin": null,
            "display": null,
            "left": null
          }
        },
        "aaca7c7521aa45459d909d3ff205b145": {
          "model_module": "@jupyter-widgets/controls",
          "model_name": "HTMLModel",
          "model_module_version": "1.5.0",
          "state": {
            "_view_name": "HTMLView",
            "style": "IPY_MODEL_11c12c3d965a46f5b7db8725dc379f82",
            "_dom_classes": [],
            "description": "",
            "_model_name": "HTMLModel",
            "placeholder": "​",
            "_view_module": "@jupyter-widgets/controls",
            "_model_module_version": "1.5.0",
            "value": "Downloading: 100%",
            "_view_count": null,
            "_view_module_version": "1.5.0",
            "description_tooltip": null,
            "_model_module": "@jupyter-widgets/controls",
            "layout": "IPY_MODEL_d0adf44d2e4948ca95c7cf5209851938"
          }
        },
        "17f91ac6854940189d734a607a1c0ddb": {
          "model_module": "@jupyter-widgets/controls",
          "model_name": "FloatProgressModel",
          "model_module_version": "1.5.0",
          "state": {
            "_view_name": "ProgressView",
            "style": "IPY_MODEL_33677630139e40679822f81fb904f5a1",
            "_dom_classes": [],
            "description": "",
            "_model_name": "FloatProgressModel",
            "bar_style": "success",
            "max": 751504,
            "_view_module": "@jupyter-widgets/controls",
            "_model_module_version": "1.5.0",
            "value": 751504,
            "_view_count": null,
            "_view_module_version": "1.5.0",
            "orientation": "horizontal",
            "min": 0,
            "description_tooltip": null,
            "_model_module": "@jupyter-widgets/controls",
            "layout": "IPY_MODEL_a913bfb26a3b4c609b45b1c2868b7769"
          }
        },
        "74f01f345ead4a219811ac43ed55acc6": {
          "model_module": "@jupyter-widgets/controls",
          "model_name": "HTMLModel",
          "model_module_version": "1.5.0",
          "state": {
            "_view_name": "HTMLView",
            "style": "IPY_MODEL_4c44155e16b94733aa3df2395320a6fb",
            "_dom_classes": [],
            "description": "",
            "_model_name": "HTMLModel",
            "placeholder": "​",
            "_view_module": "@jupyter-widgets/controls",
            "_model_module_version": "1.5.0",
            "value": " 734k/734k [00:00&lt;00:00, 638kB/s]",
            "_view_count": null,
            "_view_module_version": "1.5.0",
            "description_tooltip": null,
            "_model_module": "@jupyter-widgets/controls",
            "layout": "IPY_MODEL_6300449ccfba498badb07ae935d7c9a0"
          }
        },
        "11c12c3d965a46f5b7db8725dc379f82": {
          "model_module": "@jupyter-widgets/controls",
          "model_name": "DescriptionStyleModel",
          "model_module_version": "1.5.0",
          "state": {
            "_view_name": "StyleView",
            "_model_name": "DescriptionStyleModel",
            "description_width": "",
            "_view_module": "@jupyter-widgets/base",
            "_model_module_version": "1.5.0",
            "_view_count": null,
            "_view_module_version": "1.2.0",
            "_model_module": "@jupyter-widgets/controls"
          }
        },
        "d0adf44d2e4948ca95c7cf5209851938": {
          "model_module": "@jupyter-widgets/base",
          "model_name": "LayoutModel",
          "model_module_version": "1.2.0",
          "state": {
            "_view_name": "LayoutView",
            "grid_template_rows": null,
            "right": null,
            "justify_content": null,
            "_view_module": "@jupyter-widgets/base",
            "overflow": null,
            "_model_module_version": "1.2.0",
            "_view_count": null,
            "flex_flow": null,
            "width": null,
            "min_width": null,
            "border": null,
            "align_items": null,
            "bottom": null,
            "_model_module": "@jupyter-widgets/base",
            "top": null,
            "grid_column": null,
            "overflow_y": null,
            "overflow_x": null,
            "grid_auto_flow": null,
            "grid_area": null,
            "grid_template_columns": null,
            "flex": null,
            "_model_name": "LayoutModel",
            "justify_items": null,
            "grid_row": null,
            "max_height": null,
            "align_content": null,
            "visibility": null,
            "align_self": null,
            "height": null,
            "min_height": null,
            "padding": null,
            "grid_auto_rows": null,
            "grid_gap": null,
            "max_width": null,
            "order": null,
            "_view_module_version": "1.2.0",
            "grid_template_areas": null,
            "object_position": null,
            "object_fit": null,
            "grid_auto_columns": null,
            "margin": null,
            "display": null,
            "left": null
          }
        },
        "33677630139e40679822f81fb904f5a1": {
          "model_module": "@jupyter-widgets/controls",
          "model_name": "ProgressStyleModel",
          "model_module_version": "1.5.0",
          "state": {
            "_view_name": "StyleView",
            "_model_name": "ProgressStyleModel",
            "description_width": "",
            "_view_module": "@jupyter-widgets/base",
            "_model_module_version": "1.5.0",
            "_view_count": null,
            "_view_module_version": "1.2.0",
            "bar_color": null,
            "_model_module": "@jupyter-widgets/controls"
          }
        },
        "a913bfb26a3b4c609b45b1c2868b7769": {
          "model_module": "@jupyter-widgets/base",
          "model_name": "LayoutModel",
          "model_module_version": "1.2.0",
          "state": {
            "_view_name": "LayoutView",
            "grid_template_rows": null,
            "right": null,
            "justify_content": null,
            "_view_module": "@jupyter-widgets/base",
            "overflow": null,
            "_model_module_version": "1.2.0",
            "_view_count": null,
            "flex_flow": null,
            "width": null,
            "min_width": null,
            "border": null,
            "align_items": null,
            "bottom": null,
            "_model_module": "@jupyter-widgets/base",
            "top": null,
            "grid_column": null,
            "overflow_y": null,
            "overflow_x": null,
            "grid_auto_flow": null,
            "grid_area": null,
            "grid_template_columns": null,
            "flex": null,
            "_model_name": "LayoutModel",
            "justify_items": null,
            "grid_row": null,
            "max_height": null,
            "align_content": null,
            "visibility": null,
            "align_self": null,
            "height": null,
            "min_height": null,
            "padding": null,
            "grid_auto_rows": null,
            "grid_gap": null,
            "max_width": null,
            "order": null,
            "_view_module_version": "1.2.0",
            "grid_template_areas": null,
            "object_position": null,
            "object_fit": null,
            "grid_auto_columns": null,
            "margin": null,
            "display": null,
            "left": null
          }
        },
        "4c44155e16b94733aa3df2395320a6fb": {
          "model_module": "@jupyter-widgets/controls",
          "model_name": "DescriptionStyleModel",
          "model_module_version": "1.5.0",
          "state": {
            "_view_name": "StyleView",
            "_model_name": "DescriptionStyleModel",
            "description_width": "",
            "_view_module": "@jupyter-widgets/base",
            "_model_module_version": "1.5.0",
            "_view_count": null,
            "_view_module_version": "1.2.0",
            "_model_module": "@jupyter-widgets/controls"
          }
        },
        "6300449ccfba498badb07ae935d7c9a0": {
          "model_module": "@jupyter-widgets/base",
          "model_name": "LayoutModel",
          "model_module_version": "1.2.0",
          "state": {
            "_view_name": "LayoutView",
            "grid_template_rows": null,
            "right": null,
            "justify_content": null,
            "_view_module": "@jupyter-widgets/base",
            "overflow": null,
            "_model_module_version": "1.2.0",
            "_view_count": null,
            "flex_flow": null,
            "width": null,
            "min_width": null,
            "border": null,
            "align_items": null,
            "bottom": null,
            "_model_module": "@jupyter-widgets/base",
            "top": null,
            "grid_column": null,
            "overflow_y": null,
            "overflow_x": null,
            "grid_auto_flow": null,
            "grid_area": null,
            "grid_template_columns": null,
            "flex": null,
            "_model_name": "LayoutModel",
            "justify_items": null,
            "grid_row": null,
            "max_height": null,
            "align_content": null,
            "visibility": null,
            "align_self": null,
            "height": null,
            "min_height": null,
            "padding": null,
            "grid_auto_rows": null,
            "grid_gap": null,
            "max_width": null,
            "order": null,
            "_view_module_version": "1.2.0",
            "grid_template_areas": null,
            "object_position": null,
            "object_fit": null,
            "grid_auto_columns": null,
            "margin": null,
            "display": null,
            "left": null
          }
        },
        "b784aae0722245d48234517262227e74": {
          "model_module": "@jupyter-widgets/controls",
          "model_name": "HBoxModel",
          "model_module_version": "1.5.0",
          "state": {
            "_view_name": "HBoxView",
            "_dom_classes": [],
            "_model_name": "HBoxModel",
            "_view_module": "@jupyter-widgets/controls",
            "_model_module_version": "1.5.0",
            "_view_count": null,
            "_view_module_version": "1.5.0",
            "box_style": "",
            "layout": "IPY_MODEL_f9cea94d5be2457aae994028726572b5",
            "_model_module": "@jupyter-widgets/controls",
            "children": [
              "IPY_MODEL_0f16af82845f4b58ba036920e273efd0",
              "IPY_MODEL_de3ad3020f704df6aa21c0b490d9b2c9",
              "IPY_MODEL_882b0a1e02834ccf926e068f41be5f24"
            ]
          }
        },
        "f9cea94d5be2457aae994028726572b5": {
          "model_module": "@jupyter-widgets/base",
          "model_name": "LayoutModel",
          "model_module_version": "1.2.0",
          "state": {
            "_view_name": "LayoutView",
            "grid_template_rows": null,
            "right": null,
            "justify_content": null,
            "_view_module": "@jupyter-widgets/base",
            "overflow": null,
            "_model_module_version": "1.2.0",
            "_view_count": null,
            "flex_flow": null,
            "width": null,
            "min_width": null,
            "border": null,
            "align_items": null,
            "bottom": null,
            "_model_module": "@jupyter-widgets/base",
            "top": null,
            "grid_column": null,
            "overflow_y": null,
            "overflow_x": null,
            "grid_auto_flow": null,
            "grid_area": null,
            "grid_template_columns": null,
            "flex": null,
            "_model_name": "LayoutModel",
            "justify_items": null,
            "grid_row": null,
            "max_height": null,
            "align_content": null,
            "visibility": null,
            "align_self": null,
            "height": null,
            "min_height": null,
            "padding": null,
            "grid_auto_rows": null,
            "grid_gap": null,
            "max_width": null,
            "order": null,
            "_view_module_version": "1.2.0",
            "grid_template_areas": null,
            "object_position": null,
            "object_fit": null,
            "grid_auto_columns": null,
            "margin": null,
            "display": null,
            "left": null
          }
        },
        "0f16af82845f4b58ba036920e273efd0": {
          "model_module": "@jupyter-widgets/controls",
          "model_name": "HTMLModel",
          "model_module_version": "1.5.0",
          "state": {
            "_view_name": "HTMLView",
            "style": "IPY_MODEL_fc7f7b03d8444518abdbc6804bd378f9",
            "_dom_classes": [],
            "description": "",
            "_model_name": "HTMLModel",
            "placeholder": "​",
            "_view_module": "@jupyter-widgets/controls",
            "_model_module_version": "1.5.0",
            "value": "Downloading: 100%",
            "_view_count": null,
            "_view_module_version": "1.5.0",
            "description_tooltip": null,
            "_model_module": "@jupyter-widgets/controls",
            "layout": "IPY_MODEL_2f4a8da9a1794d6e8df6f1d217c35b9d"
          }
        },
        "de3ad3020f704df6aa21c0b490d9b2c9": {
          "model_module": "@jupyter-widgets/controls",
          "model_name": "FloatProgressModel",
          "model_module_version": "1.5.0",
          "state": {
            "_view_name": "ProgressView",
            "style": "IPY_MODEL_a54cc9b075d04256a34ecabf59e5ccc5",
            "_dom_classes": [],
            "description": "",
            "_model_name": "FloatProgressModel",
            "bar_style": "success",
            "max": 547,
            "_view_module": "@jupyter-widgets/controls",
            "_model_module_version": "1.5.0",
            "value": 547,
            "_view_count": null,
            "_view_module_version": "1.5.0",
            "orientation": "horizontal",
            "min": 0,
            "description_tooltip": null,
            "_model_module": "@jupyter-widgets/controls",
            "layout": "IPY_MODEL_5394346cc70543c4aa12748c8a9e3146"
          }
        },
        "882b0a1e02834ccf926e068f41be5f24": {
          "model_module": "@jupyter-widgets/controls",
          "model_name": "HTMLModel",
          "model_module_version": "1.5.0",
          "state": {
            "_view_name": "HTMLView",
            "style": "IPY_MODEL_ba47a42ac95148fe8724c5f69a7485b6",
            "_dom_classes": [],
            "description": "",
            "_model_name": "HTMLModel",
            "placeholder": "​",
            "_view_module": "@jupyter-widgets/controls",
            "_model_module_version": "1.5.0",
            "value": " 547/547 [00:00&lt;00:00, 21.1kB/s]",
            "_view_count": null,
            "_view_module_version": "1.5.0",
            "description_tooltip": null,
            "_model_module": "@jupyter-widgets/controls",
            "layout": "IPY_MODEL_191d0da75b2449b894b326725101f084"
          }
        },
        "fc7f7b03d8444518abdbc6804bd378f9": {
          "model_module": "@jupyter-widgets/controls",
          "model_name": "DescriptionStyleModel",
          "model_module_version": "1.5.0",
          "state": {
            "_view_name": "StyleView",
            "_model_name": "DescriptionStyleModel",
            "description_width": "",
            "_view_module": "@jupyter-widgets/base",
            "_model_module_version": "1.5.0",
            "_view_count": null,
            "_view_module_version": "1.2.0",
            "_model_module": "@jupyter-widgets/controls"
          }
        },
        "2f4a8da9a1794d6e8df6f1d217c35b9d": {
          "model_module": "@jupyter-widgets/base",
          "model_name": "LayoutModel",
          "model_module_version": "1.2.0",
          "state": {
            "_view_name": "LayoutView",
            "grid_template_rows": null,
            "right": null,
            "justify_content": null,
            "_view_module": "@jupyter-widgets/base",
            "overflow": null,
            "_model_module_version": "1.2.0",
            "_view_count": null,
            "flex_flow": null,
            "width": null,
            "min_width": null,
            "border": null,
            "align_items": null,
            "bottom": null,
            "_model_module": "@jupyter-widgets/base",
            "top": null,
            "grid_column": null,
            "overflow_y": null,
            "overflow_x": null,
            "grid_auto_flow": null,
            "grid_area": null,
            "grid_template_columns": null,
            "flex": null,
            "_model_name": "LayoutModel",
            "justify_items": null,
            "grid_row": null,
            "max_height": null,
            "align_content": null,
            "visibility": null,
            "align_self": null,
            "height": null,
            "min_height": null,
            "padding": null,
            "grid_auto_rows": null,
            "grid_gap": null,
            "max_width": null,
            "order": null,
            "_view_module_version": "1.2.0",
            "grid_template_areas": null,
            "object_position": null,
            "object_fit": null,
            "grid_auto_columns": null,
            "margin": null,
            "display": null,
            "left": null
          }
        },
        "a54cc9b075d04256a34ecabf59e5ccc5": {
          "model_module": "@jupyter-widgets/controls",
          "model_name": "ProgressStyleModel",
          "model_module_version": "1.5.0",
          "state": {
            "_view_name": "StyleView",
            "_model_name": "ProgressStyleModel",
            "description_width": "",
            "_view_module": "@jupyter-widgets/base",
            "_model_module_version": "1.5.0",
            "_view_count": null,
            "_view_module_version": "1.2.0",
            "bar_color": null,
            "_model_module": "@jupyter-widgets/controls"
          }
        },
        "5394346cc70543c4aa12748c8a9e3146": {
          "model_module": "@jupyter-widgets/base",
          "model_name": "LayoutModel",
          "model_module_version": "1.2.0",
          "state": {
            "_view_name": "LayoutView",
            "grid_template_rows": null,
            "right": null,
            "justify_content": null,
            "_view_module": "@jupyter-widgets/base",
            "overflow": null,
            "_model_module_version": "1.2.0",
            "_view_count": null,
            "flex_flow": null,
            "width": null,
            "min_width": null,
            "border": null,
            "align_items": null,
            "bottom": null,
            "_model_module": "@jupyter-widgets/base",
            "top": null,
            "grid_column": null,
            "overflow_y": null,
            "overflow_x": null,
            "grid_auto_flow": null,
            "grid_area": null,
            "grid_template_columns": null,
            "flex": null,
            "_model_name": "LayoutModel",
            "justify_items": null,
            "grid_row": null,
            "max_height": null,
            "align_content": null,
            "visibility": null,
            "align_self": null,
            "height": null,
            "min_height": null,
            "padding": null,
            "grid_auto_rows": null,
            "grid_gap": null,
            "max_width": null,
            "order": null,
            "_view_module_version": "1.2.0",
            "grid_template_areas": null,
            "object_position": null,
            "object_fit": null,
            "grid_auto_columns": null,
            "margin": null,
            "display": null,
            "left": null
          }
        },
        "ba47a42ac95148fe8724c5f69a7485b6": {
          "model_module": "@jupyter-widgets/controls",
          "model_name": "DescriptionStyleModel",
          "model_module_version": "1.5.0",
          "state": {
            "_view_name": "StyleView",
            "_model_name": "DescriptionStyleModel",
            "description_width": "",
            "_view_module": "@jupyter-widgets/base",
            "_model_module_version": "1.5.0",
            "_view_count": null,
            "_view_module_version": "1.2.0",
            "_model_module": "@jupyter-widgets/controls"
          }
        },
        "191d0da75b2449b894b326725101f084": {
          "model_module": "@jupyter-widgets/base",
          "model_name": "LayoutModel",
          "model_module_version": "1.2.0",
          "state": {
            "_view_name": "LayoutView",
            "grid_template_rows": null,
            "right": null,
            "justify_content": null,
            "_view_module": "@jupyter-widgets/base",
            "overflow": null,
            "_model_module_version": "1.2.0",
            "_view_count": null,
            "flex_flow": null,
            "width": null,
            "min_width": null,
            "border": null,
            "align_items": null,
            "bottom": null,
            "_model_module": "@jupyter-widgets/base",
            "top": null,
            "grid_column": null,
            "overflow_y": null,
            "overflow_x": null,
            "grid_auto_flow": null,
            "grid_area": null,
            "grid_template_columns": null,
            "flex": null,
            "_model_name": "LayoutModel",
            "justify_items": null,
            "grid_row": null,
            "max_height": null,
            "align_content": null,
            "visibility": null,
            "align_self": null,
            "height": null,
            "min_height": null,
            "padding": null,
            "grid_auto_rows": null,
            "grid_gap": null,
            "max_width": null,
            "order": null,
            "_view_module_version": "1.2.0",
            "grid_template_areas": null,
            "object_position": null,
            "object_fit": null,
            "grid_auto_columns": null,
            "margin": null,
            "display": null,
            "left": null
          }
        },
        "4a9689e5dc7f470289474675545f2b15": {
          "model_module": "@jupyter-widgets/controls",
          "model_name": "HBoxModel",
          "model_module_version": "1.5.0",
          "state": {
            "_view_name": "HBoxView",
            "_dom_classes": [],
            "_model_name": "HBoxModel",
            "_view_module": "@jupyter-widgets/controls",
            "_model_module_version": "1.5.0",
            "_view_count": null,
            "_view_module_version": "1.5.0",
            "box_style": "",
            "layout": "IPY_MODEL_4ab14ea4aedc4f47bb6c97630821f6aa",
            "_model_module": "@jupyter-widgets/controls",
            "children": [
              "IPY_MODEL_c84d0af61e1f434a9fa58e9f0eaff55e",
              "IPY_MODEL_d7a318552a764a8a895e2f9eb6e3ce18",
              "IPY_MODEL_ad12eb3e63044495a28e44b9c6c7a7fd"
            ]
          }
        },
        "4ab14ea4aedc4f47bb6c97630821f6aa": {
          "model_module": "@jupyter-widgets/base",
          "model_name": "LayoutModel",
          "model_module_version": "1.2.0",
          "state": {
            "_view_name": "LayoutView",
            "grid_template_rows": null,
            "right": null,
            "justify_content": null,
            "_view_module": "@jupyter-widgets/base",
            "overflow": null,
            "_model_module_version": "1.2.0",
            "_view_count": null,
            "flex_flow": null,
            "width": null,
            "min_width": null,
            "border": null,
            "align_items": null,
            "bottom": null,
            "_model_module": "@jupyter-widgets/base",
            "top": null,
            "grid_column": null,
            "overflow_y": null,
            "overflow_x": null,
            "grid_auto_flow": null,
            "grid_area": null,
            "grid_template_columns": null,
            "flex": null,
            "_model_name": "LayoutModel",
            "justify_items": null,
            "grid_row": null,
            "max_height": null,
            "align_content": null,
            "visibility": null,
            "align_self": null,
            "height": null,
            "min_height": null,
            "padding": null,
            "grid_auto_rows": null,
            "grid_gap": null,
            "max_width": null,
            "order": null,
            "_view_module_version": "1.2.0",
            "grid_template_areas": null,
            "object_position": null,
            "object_fit": null,
            "grid_auto_columns": null,
            "margin": null,
            "display": null,
            "left": null
          }
        },
        "c84d0af61e1f434a9fa58e9f0eaff55e": {
          "model_module": "@jupyter-widgets/controls",
          "model_name": "HTMLModel",
          "model_module_version": "1.5.0",
          "state": {
            "_view_name": "HTMLView",
            "style": "IPY_MODEL_91d6009f8b434f35bd63493a36eeccf0",
            "_dom_classes": [],
            "description": "",
            "_model_name": "HTMLModel",
            "placeholder": "​",
            "_view_module": "@jupyter-widgets/controls",
            "_model_module_version": "1.5.0",
            "value": "Downloading: 100%",
            "_view_count": null,
            "_view_module_version": "1.5.0",
            "description_tooltip": null,
            "_model_module": "@jupyter-widgets/controls",
            "layout": "IPY_MODEL_ccf3f276fab94b8aa690d39d052f7659"
          }
        },
        "d7a318552a764a8a895e2f9eb6e3ce18": {
          "model_module": "@jupyter-widgets/controls",
          "model_name": "FloatProgressModel",
          "model_module_version": "1.5.0",
          "state": {
            "_view_name": "ProgressView",
            "style": "IPY_MODEL_28d41a4d15584c9e9d59c3bdc6e34224",
            "_dom_classes": [],
            "description": "",
            "_model_name": "FloatProgressModel",
            "bar_style": "success",
            "max": 1346930258,
            "_view_module": "@jupyter-widgets/controls",
            "_model_module_version": "1.5.0",
            "value": 1346930258,
            "_view_count": null,
            "_view_module_version": "1.5.0",
            "orientation": "horizontal",
            "min": 0,
            "description_tooltip": null,
            "_model_module": "@jupyter-widgets/controls",
            "layout": "IPY_MODEL_346594e5ea844799ab2b6d7191029d2c"
          }
        },
        "ad12eb3e63044495a28e44b9c6c7a7fd": {
          "model_module": "@jupyter-widgets/controls",
          "model_name": "HTMLModel",
          "model_module_version": "1.5.0",
          "state": {
            "_view_name": "HTMLView",
            "style": "IPY_MODEL_fd66cc51e2a9434da35f9bc6410cd1da",
            "_dom_classes": [],
            "description": "",
            "_model_name": "HTMLModel",
            "placeholder": "​",
            "_view_module": "@jupyter-widgets/controls",
            "_model_module_version": "1.5.0",
            "value": " 1.25G/1.25G [00:23&lt;00:00, 59.3MB/s]",
            "_view_count": null,
            "_view_module_version": "1.5.0",
            "description_tooltip": null,
            "_model_module": "@jupyter-widgets/controls",
            "layout": "IPY_MODEL_53f0e061a3bf4491b235d251168bcba6"
          }
        },
        "91d6009f8b434f35bd63493a36eeccf0": {
          "model_module": "@jupyter-widgets/controls",
          "model_name": "DescriptionStyleModel",
          "model_module_version": "1.5.0",
          "state": {
            "_view_name": "StyleView",
            "_model_name": "DescriptionStyleModel",
            "description_width": "",
            "_view_module": "@jupyter-widgets/base",
            "_model_module_version": "1.5.0",
            "_view_count": null,
            "_view_module_version": "1.2.0",
            "_model_module": "@jupyter-widgets/controls"
          }
        },
        "ccf3f276fab94b8aa690d39d052f7659": {
          "model_module": "@jupyter-widgets/base",
          "model_name": "LayoutModel",
          "model_module_version": "1.2.0",
          "state": {
            "_view_name": "LayoutView",
            "grid_template_rows": null,
            "right": null,
            "justify_content": null,
            "_view_module": "@jupyter-widgets/base",
            "overflow": null,
            "_model_module_version": "1.2.0",
            "_view_count": null,
            "flex_flow": null,
            "width": null,
            "min_width": null,
            "border": null,
            "align_items": null,
            "bottom": null,
            "_model_module": "@jupyter-widgets/base",
            "top": null,
            "grid_column": null,
            "overflow_y": null,
            "overflow_x": null,
            "grid_auto_flow": null,
            "grid_area": null,
            "grid_template_columns": null,
            "flex": null,
            "_model_name": "LayoutModel",
            "justify_items": null,
            "grid_row": null,
            "max_height": null,
            "align_content": null,
            "visibility": null,
            "align_self": null,
            "height": null,
            "min_height": null,
            "padding": null,
            "grid_auto_rows": null,
            "grid_gap": null,
            "max_width": null,
            "order": null,
            "_view_module_version": "1.2.0",
            "grid_template_areas": null,
            "object_position": null,
            "object_fit": null,
            "grid_auto_columns": null,
            "margin": null,
            "display": null,
            "left": null
          }
        },
        "28d41a4d15584c9e9d59c3bdc6e34224": {
          "model_module": "@jupyter-widgets/controls",
          "model_name": "ProgressStyleModel",
          "model_module_version": "1.5.0",
          "state": {
            "_view_name": "StyleView",
            "_model_name": "ProgressStyleModel",
            "description_width": "",
            "_view_module": "@jupyter-widgets/base",
            "_model_module_version": "1.5.0",
            "_view_count": null,
            "_view_module_version": "1.2.0",
            "bar_color": null,
            "_model_module": "@jupyter-widgets/controls"
          }
        },
        "346594e5ea844799ab2b6d7191029d2c": {
          "model_module": "@jupyter-widgets/base",
          "model_name": "LayoutModel",
          "model_module_version": "1.2.0",
          "state": {
            "_view_name": "LayoutView",
            "grid_template_rows": null,
            "right": null,
            "justify_content": null,
            "_view_module": "@jupyter-widgets/base",
            "overflow": null,
            "_model_module_version": "1.2.0",
            "_view_count": null,
            "flex_flow": null,
            "width": null,
            "min_width": null,
            "border": null,
            "align_items": null,
            "bottom": null,
            "_model_module": "@jupyter-widgets/base",
            "top": null,
            "grid_column": null,
            "overflow_y": null,
            "overflow_x": null,
            "grid_auto_flow": null,
            "grid_area": null,
            "grid_template_columns": null,
            "flex": null,
            "_model_name": "LayoutModel",
            "justify_items": null,
            "grid_row": null,
            "max_height": null,
            "align_content": null,
            "visibility": null,
            "align_self": null,
            "height": null,
            "min_height": null,
            "padding": null,
            "grid_auto_rows": null,
            "grid_gap": null,
            "max_width": null,
            "order": null,
            "_view_module_version": "1.2.0",
            "grid_template_areas": null,
            "object_position": null,
            "object_fit": null,
            "grid_auto_columns": null,
            "margin": null,
            "display": null,
            "left": null
          }
        },
        "fd66cc51e2a9434da35f9bc6410cd1da": {
          "model_module": "@jupyter-widgets/controls",
          "model_name": "DescriptionStyleModel",
          "model_module_version": "1.5.0",
          "state": {
            "_view_name": "StyleView",
            "_model_name": "DescriptionStyleModel",
            "description_width": "",
            "_view_module": "@jupyter-widgets/base",
            "_model_module_version": "1.5.0",
            "_view_count": null,
            "_view_module_version": "1.2.0",
            "_model_module": "@jupyter-widgets/controls"
          }
        },
        "53f0e061a3bf4491b235d251168bcba6": {
          "model_module": "@jupyter-widgets/base",
          "model_name": "LayoutModel",
          "model_module_version": "1.2.0",
          "state": {
            "_view_name": "LayoutView",
            "grid_template_rows": null,
            "right": null,
            "justify_content": null,
            "_view_module": "@jupyter-widgets/base",
            "overflow": null,
            "_model_module_version": "1.2.0",
            "_view_count": null,
            "flex_flow": null,
            "width": null,
            "min_width": null,
            "border": null,
            "align_items": null,
            "bottom": null,
            "_model_module": "@jupyter-widgets/base",
            "top": null,
            "grid_column": null,
            "overflow_y": null,
            "overflow_x": null,
            "grid_auto_flow": null,
            "grid_area": null,
            "grid_template_columns": null,
            "flex": null,
            "_model_name": "LayoutModel",
            "justify_items": null,
            "grid_row": null,
            "max_height": null,
            "align_content": null,
            "visibility": null,
            "align_self": null,
            "height": null,
            "min_height": null,
            "padding": null,
            "grid_auto_rows": null,
            "grid_gap": null,
            "max_width": null,
            "order": null,
            "_view_module_version": "1.2.0",
            "grid_template_areas": null,
            "object_position": null,
            "object_fit": null,
            "grid_auto_columns": null,
            "margin": null,
            "display": null,
            "left": null
          }
        }
      }
    }
  },
  "cells": [
    {
      "cell_type": "code",
      "source": [
        "!apt-get update\n",
        "!apt-get install g++ openjdk-8-jdk \n",
        "!pip install konlpy JPype1-py3 \n",
        "!bash <(curl -s https://raw.githubusercontent.com/konlpy/konlpy/master/scripts/mecab.sh)"
      ],
      "metadata": {
        "id": "tk7xjN2z3m5m"
      },
      "execution_count": null,
      "outputs": []
    },
    {
      "cell_type": "code",
      "source": [
        "!pip install transformers\n",
        "!pip install --upgrade mxnet gluonnlp\n",
        "!pip install git+https://git@github.com/SKTBrain/KoBERT.git@master\n",
        "!pip install sentencepiece\n",
        "!pip install datasets\n",
        "!pip install bert_score"
      ],
      "metadata": {
        "id": "qWPrLmwul0qD"
      },
      "execution_count": null,
      "outputs": []
    },
    {
      "cell_type": "markdown",
      "source": [
        "### ARGUMENT"
      ],
      "metadata": {
        "id": "wy31Ufx2Hlz1"
      }
    },
    {
      "cell_type": "code",
      "source": [
        "class args():\n",
        "  gpu = '0'\n",
        "  seed = 0\n",
        "  corpus = '/content/drive/MyDrive/dacon/KoreanLanguage/data/CORPUS/ko_corpus.txt'\n",
        "\n",
        "  # Tokenizer Setting\n",
        "  tok = 'SP_BPE' # BERT_WORD, CH_BPE, BYTE_BPE\n",
        "  epochs=2\n",
        "  batch_size=16\n",
        "  weight_decay=0.01\n",
        "  n_fold=5\n",
        "  fold=list(range(n_fold))\n",
        "\n",
        "  # MODEL SETTING\n",
        "  pt = 'klue/roberta-large'\n",
        "  out_dir = f\"/content/drive/MyDrive/dacon/KoreanLanguage/ckpt/roberta/{pt}/\"\n",
        "\n",
        "  linear_dim = 1034 * 3\n",
        "  reinit_pooler = True\n",
        "  reinit_linear = 10 # 이 부분을 계속 바꿔가면서 실험을 해 보자\n",
        "\n",
        "  max_len = 128\n",
        "  start_lr = 5e-5\n",
        "  min_lr = 1e-6\n",
        "\n",
        "data_dir = '/content/drive/MyDrive/dacon/KoreanLanguage/data'\n",
        "os.environ[\"CUDA_VISIBLE_DEVICES\"] = args.gpu\n",
        "device = torch.device(f\"cuda\" if torch.cuda.is_available() else \"cpu\")\n"
      ],
      "metadata": {
        "id": "b8cBeqRzHPTT"
      },
      "execution_count": null,
      "outputs": []
    },
    {
      "cell_type": "markdown",
      "source": [
        "### IMPORTS"
      ],
      "metadata": {
        "id": "JCPZKjUTnvJv"
      }
    },
    {
      "cell_type": "code",
      "source": [
        "# LIBRARY IMPORTS\n",
        "import numpy as np\n",
        "import pandas as pd\n",
        "import os, sys\n",
        "import pickle\n",
        "import re\n",
        "import cv2\n",
        "from tqdm import tqdm, tqdm_notebook\n",
        "# PYTORCH\n",
        "import torch\n",
        "import torch.nn as nn\n",
        "import torch.cuda.amp as amp\n",
        "\n",
        "import torch.nn as nn\n",
        "import torch.nn.functional as F\n",
        "from torch.utils.data.dataset import Dataset\n",
        "from torch.utils.data import DataLoader\n",
        "from torch.utils.data.sampler import *\n",
        "\n",
        "from torch.optim import Adam, AdamW\n",
        "from torch.optim.lr_scheduler import CosineAnnealingWarmRestarts, CosineAnnealingLR, ReduceLROnPlateau, MultiStepLR, OneCycleLR\n",
        "\n",
        "# UTILS\n",
        "import math, tqdm, random\n",
        "from torch.optim.optimizer import Optimizer, required\n",
        "from collections import defaultdict\n",
        "import itertools as it\n",
        "import sentencepiece as spm\n",
        "import matplotlib.pyplot as plt\n",
        "from timeit import default_timer as timer\n",
        "from sklearn.model_selection import KFold, StratifiedKFold \n",
        "from sklearn.metrics import f1_score, accuracy_score\n",
        "from sklearn.preprocessing import LabelEncoder, StandardScaler\n",
        "\n",
        "# TRANSFORMER\n",
        "import transformers\n",
        "from transformers import XLMPreTrainedModel, XLMRobertaModel, XLMRobertaConfig, XLMRobertaTokenizer, BertTokenizer\n",
        "from transformers import XLMRobertaForSequenceClassification, BertForSequenceClassification\n",
        "from transformers import AutoTokenizer\n",
        "from transformers import BertForSequenceClassification, DistilBertForSequenceClassification, XLNetForSequenceClassification,XLMRobertaForSequenceClassification, XLMForSequenceClassification, RobertaForSequenceClassification\n",
        "from transformers import AdamW, get_linear_schedule_with_warmup,get_cosine_with_hard_restarts_schedule_with_warmup, get_cosine_schedule_with_warmup\n"
      ],
      "metadata": {
        "id": "sK1LH2aRnwk4"
      },
      "execution_count": null,
      "outputs": []
    },
    {
      "cell_type": "markdown",
      "source": [
        "### LOADING DATAS"
      ],
      "metadata": {
        "id": "mSEMiDLJwnc9"
      }
    },
    {
      "cell_type": "code",
      "source": [
        "# data loading\n",
        "def load_dacon_data():\n",
        "  data_dir = '/content/drive/MyDrive/dacon/KoreanLanguage/data'\n",
        "\n",
        "  train = pd.read_csv(os.path.join(data_dir, 'train_data.csv'))\n",
        "  test = pd.read_csv(os.path.join(data_dir, 'test_data.csv'))\n",
        "\n",
        "  train = train[['label', 'premise', 'hypothesis']]\n",
        "  test = test[['premise', 'hypothesis']]\n",
        "\n",
        "  skf = StratifiedKFold(n_splits = 5, shuffle = True, random_state = 42)\n",
        "  train['fold'] = -1 # 우선 모든 \"fold\"를 지정해 놓은 칼럼은 -1로 설정\n",
        "  for n, (train_split, valid_split) in enumerate(skf.split(train, train['label'])):\n",
        "    train.loc[valid_split, 'fold'] = n\n",
        "  train['id'] = [x for x in range(len(train))]\n",
        "\n",
        "  # returns the data int the dataframe form\n",
        "  return train, test\n",
        "\n",
        "def load_knli_data():\n",
        "  \"\"\"\n",
        "  3개의 속성으로 한국어 문장을 분류하는데 사용이 되는 데이터를 txt데이터에 포함해 학습 시킬 생각이다.\n",
        "  \"\"\"\n",
        "  data_dir = '/content/drive/MyDrive/dacon/KoreanLanguage/data/KorNLI'\n",
        "  seqs = []\n",
        "  files = ['snli_1.0_train.ko.tsv','xnli.dev.ko.tsv','xnli.test.ko.tsv']\n",
        "\n",
        "  for f in files:\n",
        "    df = pd.read_csv(os.path.join(data_dir, f), delimiter = '\\t')\n",
        "    seqs.extend(list(set(list(df['sentence1']))))\n",
        "    seqs.extend(list(set(list(df['sentence2']))))\n",
        "\n",
        "  return seqs\n",
        "\n",
        "def load_news_data():\n",
        "  \"\"\"\n",
        "  대회의 데이터로 주어진 것과 제일 유사도가 높은 텍스트를 가지는 것이\n",
        "  뉴스데이터로 판단이 되어서 뉴스 말뭉치를 사용해 볼 생각이다.\n",
        "  \"\"\"\n",
        "  data_dir = '/content/drive/MyDrive/dacon/KoreanLanguage/data/pretraining/news'\n",
        "  seqs, files = [], os.listdir(data_dir)\n",
        "  for f in files:\n",
        "    if (os.path.splitext(f)[-1]) == '.csv':\n",
        "      df = pd.read_csv(os.path.join(data_dir, f))\n",
        "      seqs.extend(list(df['원문']))\n",
        "  \n",
        "  return seqs\n",
        "\n",
        "def load_kowiki_data():\n",
        "  \"\"\"\n",
        "  kowiki 텍스트 데이터의 경우에는 이미 일반적인 형태로 바뀌어 있는 상태이기 때문에 굳이 전처리가 따로 필요하지는 않다.\n",
        "  \"\"\"\n",
        "  data_dir = '/content/drive/MyDrive/dacon/KoreanLanguage/data/kowiki.txt'\n",
        "  seqs = []\n",
        "  with open(data_dir, 'r') as fr:\n",
        "    for idx, line in enumerate(fr):\n",
        "      seqs.append(line)\n",
        "  \n",
        "  return seqs\n",
        "\n",
        "def load_communication_data(into_one = True):\n",
        "  \"\"\"\n",
        "  엑셀파일이었는데 csv파일로 바꾸어서 사용\n",
        "  여러개의 csv파일이 존재하는데 이에 대해서 하나의 csv파일과 txt파일로 합쳐 주려고 한다.\n",
        "  모든 문장을 리스트의 형태로 담아서 반환한다.\n",
        "  \"\"\"\n",
        "  data_dir = '/content/drive/MyDrive/dacon/KoreanLanguage/data/pretraining/communication'\n",
        "  files = os.listdir(data_dir)\n",
        "  seqs = []\n",
        "  for f in files:\n",
        "    df = pd.read_csv(os.path.join(data_dir, f))\n",
        "    seqs.extend(list(df['SENTENCE']))\n",
        "\n",
        "  return seqs"
      ],
      "metadata": {
        "id": "bHgbTEPAlt2a"
      },
      "execution_count": null,
      "outputs": []
    },
    {
      "cell_type": "markdown",
      "source": [
        "### OVERALL FLOW\n",
        "1. Hugging Face API의 `WordPieceTokenizer`을 사용할지 Google의 `SentencePiece` API를 사용할지 고민 중이다.\n",
        "2. 각각의 tokenizer이 어떻게 작동하는지, 그리고 모델에 입력이 되었을 때에 어떻게 출력을 내는지 확인해 보아야 한다.\n",
        "3. 단어의 개수는 32000개가 제일 학습 성능이 좋다고 하며, 사전에 한국어 문장 뭉치의 전처리를 어떤식으로 할지 생각해 보아야 한다.\n",
        "  - 본래 sequence classification task를 fine-tuning 하기 전에 우선 wiki와 news dataset corpus를 사용해서 학습을 시켜야 한다.\n",
        "\n",
        "4. 이미 사전 학습이 되어있는 tokenizer들을 보면 대부분이 raw corpus의 한국어 말뭉치를 기반으로 tokenizer을 학습 시킨 것으로 보아 굳이 사전 preprocessing의 과정은 필요가 없어 보였다.\n",
        "5. 물론 `Hugging Face` API를 사용하고자 한다면 hugging face tokenizer을 사용하는 것이 더 의미있을 수도 있지만 사실상 sentencepiece는 한국어에 적용할 때에 내부 단어 분리를 위해 매우 유용한 패키지임은 틀림없다.\n",
        "\n",
        "6. train, test를 위한 문장들을 확인해 본 결과 일상적인 대화보다는 korean wikipedia와 news article 데이터셋을 pretraining에 사용하는 것이 의미있어 보였다.\n"
      ],
      "metadata": {
        "id": "-qtJH7fIkXMe"
      }
    },
    {
      "cell_type": "markdown",
      "source": [
        "### TOKENIZERS"
      ],
      "metadata": {
        "id": "pSE2BO2Jloj6"
      }
    },
    {
      "cell_type": "code",
      "source": [
        "def preprocessing(text):\n",
        "  import re\n",
        "  # 괄호와 그 내부에 있는 내용은 모두 없애줌 -> train데이터에도 없을 예정이기 때문이다.\n",
        "  regex = \"\\([^)]*\\)\"\n",
        "  text = re.sub(regex, '', text)\n",
        "\n",
        "  # 영어, 숫자, 한글 이외에는 모두 제거\n",
        "  # 정규 표현식 처리할때에 주의하도록 하자 -> 힗으로 표현해서 틀림\n",
        "  text =  re.sub('[^0-9a-zA-Zㄱ-힣.,!?]',' ',text)\n",
        "  # 숫자 정보는 모두 *으로 대체\n",
        "  text = re.sub('[0-9]+','*', text)\n",
        "  return text"
      ],
      "metadata": {
        "id": "2qePvYFIwiE2"
      },
      "execution_count": null,
      "outputs": []
    },
    {
      "cell_type": "code",
      "source": [
        "import sentencepiece as spm\n",
        "corpus_dir = '/content/drive/MyDrive/dacon/KoreanLanguage/data/CORPUS/corpus.txt'\n",
        "\n",
        "with open(corpus_dir, 'r') as r:\n",
        "  text = r.read().split('\\n')"
      ],
      "metadata": {
        "id": "bEKKcWZvltBi"
      },
      "execution_count": null,
      "outputs": []
    },
    {
      "cell_type": "code",
      "source": [
        "for idx, line in enumerate(text):\n",
        "  print(preprocessing(line))\n",
        "  if idx == 10:break"
      ],
      "metadata": {
        "colab": {
          "base_uri": "https://localhost:8080/"
        },
        "id": "Bn8BUjAmyzgn",
        "outputId": "5ed73d9c-b7e7-4fc7-b68e-d723ca6c281e"
      },
      "execution_count": null,
      "outputs": [
        {
          "output_type": "stream",
          "name": "stdout",
          "text": [
            "지미 카터\n",
            "제임스 얼  지미  카터 주니어는 민주당 출신 미국 *번째 대통령 이다.\n",
            "지미 카터는 조지아주 섬터 카운티 플레인스 마을에서 태어났다. 조지아 공과대학교를 졸업하였다. 그 후 해군에 들어가 전함 원자력 잠수함의 승무원으로 일하였다. *년 미국 해군 대위로 예편하였고 이후 땅콩 면화 등을 가꿔 많은 돈을 벌었다. 그의 별명이  땅콩 농부  로 알려졌다.\n",
            "*년 조지아 주 상원 의원 선거에서 낙선하나 그 선거가 부정선거 였음을 입증하게 되어 당선되고, *년 조지아 주 지사 선거에 낙선하지만 *년 조지아 주 지사를 역임했다. 대통령이 되기 전 조지아주 상원의원을 두번 연임했으며, *년부터 *년까지 조지아 지사로 근무했다. 조지아 주지사로 지내면서, 미국에 사는 흑인 등용법을 내세웠다.\n",
            "*년 대통령 선거에 민주당 후보로 출마하여 도덕주의 정책으로 내세워, 포드를 누르고 당선되었다.\n",
            "카터 대통령은 에너지 개발을 촉구했으나 공화당의 반대로 무산되었다.\n",
            "카터는 이집트와 이스라엘을 조정하여, 캠프 데이비드에서 안와르 사다트 대통령과 메나헴 베긴 수상과 함께 중동 평화를 위한 캠프데이비드 협정을 체결했다.\n",
            "그러나 이것은 공화당과 미국의 유대인 단체의 반발을 일으켰다. *년 백악관에서 양국 간의 평화조약으로 이끌어졌다. 또한 소련과 제*차 전략 무기 제한 협상에 조인했다.\n",
            "카터는 *년대 후반 당시 대한민국 등 인권 후진국의 국민들의 인권을 지키기 위해 노력했으며, 취임 이후 계속해서 도덕정치를 내세웠다.\n",
            "그러나 주 이란 미국 대사관 인질 사건에서 인질 구출 실패를 이유로 *년 대통령 선거에서 공화당의 로널드 레이건 후보에게 져 결국 재선에 실패했다. 또한 임기 말기에 터진 소련의 아프가니스탄 침공 사건으로 인해 *년 하계 올림픽에 반공국가들의 보이콧을 내세웠다.\n",
            "지미 카터는 대한민국과의 관계에서도 중요한 영향을 미쳤던 대통령 중 하나다. 인권 문제와 주한미군 철수 문제로 한때 한미 관계가 불편하기도 했다. *년 대한민국에 대한 북한의 위협에 대비해 한미연합사를 창설하면서, *년까지 *단계에 걸쳐 주한미군을 철수하기로 했다. 그러나 주한미군사령부와 정보기관 의회의 반대에 부딪혀 주한미군은 완전철수 대신 *,*명을 감축하는 데 그쳤다. 또한 박정희 정권의 인권 문제 등과의 논란으로 불협화음을 냈으나, *년 *월 하순, 대한민국을 방문하여 관계가 다소 회복되었다.\n"
          ]
        }
      ]
    },
    {
      "cell_type": "code",
      "source": [
        "with open('/content/drive/MyDrive/dacon/KoreanLanguage/data/CORPUS/ko_corpus.txt', 'w', encoding = 'utf-8') as w:\n",
        "  for idx, line in enumerate(text):\n",
        "    new_line = preprocessing(line)\n",
        "    w.write(new_line)\n",
        "    w.write('\\n')\n",
        "# 새로운 txt파일인 ko_corpus.txt에 괄호는 모두 제거하고 숫자 정보는 모두 특수 기호 하나로 바꾼 전처리된 텍스트를 저장하였다."
      ],
      "metadata": {
        "id": "9FqF9CQAzU9Z"
      },
      "execution_count": null,
      "outputs": []
    },
    {
      "cell_type": "markdown",
      "source": [
        "#### WORD-PIECE ENCODING TOKENIZER\n",
        "- Huggingface에서 발표한 `Tokenizers`라이브러리를 사용하여 WordPiece Vocabulary를 만들게 되면 transformer model들과의 호환성도 보장할 수 있다.\n",
        "- 또한 corpus가 매우 커도 별도의 메모리 문제가 발생하지는 않는다.\n",
        "- 만약에 huggingface API를 사용해서 word piece tokenizer을 만들고 싶다면 BertTokenizer을 상속 받으면 된다.\n",
        "- BPE와 달리 `<unk>` token이 존재한다는 단점이 있다."
      ],
      "metadata": {
        "id": "kFAHJq0R03ga"
      }
    },
    {
      "cell_type": "markdown",
      "source": [
        "\n",
        "\n",
        "> \"We'll train a RoBERTa-like model, which is a BERT-like with a couple of changes\"\n",
        "```\n",
        "!apt-get update\n",
        "!apt-get install g++ openjdk-8-jdk \n",
        "!pip install konlpy JPype1-py3 \n",
        "!bash <(curl -s https://raw.githubusercontent.com/konlpy/konlpy/master/scripts/mecab.sh)\n",
        "```\n"
      ],
      "metadata": {
        "id": "cXayQZPpD_rh"
      }
    },
    {
      "cell_type": "code",
      "source": [
        "%%time\n",
        "\n",
        "# load korean corpus\n",
        "with open('/content/drive/MyDrive/dacon/KoreanLanguage/data/CORPUS/ko_corpus.txt', 'r', encoding = 'utf-8') as r:\n",
        "  data = r.read().split('\\n')\n",
        "print(data[:3])"
      ],
      "metadata": {
        "colab": {
          "base_uri": "https://localhost:8080/"
        },
        "id": "l3Iya7af1Jy2",
        "outputId": "8c1eb4a5-912a-476a-9250-0c3710660080"
      },
      "execution_count": null,
      "outputs": [
        {
          "output_type": "stream",
          "name": "stdout",
          "text": [
            "['지미 카터', '제임스 얼  지미  카터 주니어는 민주당 출신 미국 *번째 대통령 이다.', '지미 카터는 조지아주 섬터 카운티 플레인스 마을에서 태어났다. 조지아 공과대학교를 졸업하였다. 그 후 해군에 들어가 전함 원자력 잠수함의 승무원으로 일하였다. *년 미국 해군 대위로 예편하였고 이후 땅콩 면화 등을 가꿔 많은 돈을 벌었다. 그의 별명이  땅콩 농부  로 알려졌다.']\n",
            "CPU times: user 3.25 s, sys: 938 ms, total: 4.19 s\n",
            "Wall time: 4.55 s\n"
          ]
        }
      ]
    },
    {
      "cell_type": "code",
      "source": [
        "from konlpy.tag import Mecab\n",
        "mecab = Mecab().morphs\n",
        "print('mecab_check : ', mecab(data[10]))"
      ],
      "metadata": {
        "colab": {
          "base_uri": "https://localhost:8080/"
        },
        "id": "BBYUQllLFQKw",
        "outputId": "e0cc3d12-1772-4998-c249-f53fb0d46a43"
      },
      "execution_count": null,
      "outputs": [
        {
          "output_type": "stream",
          "name": "stdout",
          "text": [
            "mecab_check :  ['지미', '카터', '는', '대한민국', '과', '의', '관계', '에서', '도', '중요', '한', '영향', '을', '미쳤', '던', '대통령', '중', '하나', '다', '.', '인권', '문제', '와', '주한', '미군', '철수', '문제', '로', '한때', '한미', '관계', '가', '불편', '하', '기', '도', '했', '다', '.', '*', '년', '대한민국', '에', '대한', '북한', '의', '위협', '에', '대비', '해', '한', '미연', '합사', '를', '창설', '하', '면서', ',', '*', '년', '까지', '*', '단계', '에', '걸쳐', '주한', '미군', '을', '철수', '하', '기', '로', '했', '다', '.', '그러나', '주한', '미군', '사령부', '와', '정보', '기관', '의회', '의', '반대', '에', '부딪혀', '주한', '미군', '은', '완전', '철수', '대신', '*,*', '명', '을', '감축', '하', '는', '데', '그쳤', '다', '.', '또한', '박정희', '정권', '의', '인권', '문제', '등', '과', '의', '논란', '으로', '불협화음', '을', '냈으나', ',', '*', '년', '*', '월', '하순', ',', '대한민국', '을', '방문', '하', '여', '관계', '가', '다소', '회복', '되', '었', '다', '.']\n"
          ]
        }
      ]
    },
    {
      "cell_type": "code",
      "source": [
        "%%time\n",
        "# 해당 분절된 단어가 앞에 무언가가 붙어있었던 것인지 아닌지 확인해 주기 위해서는 각 조사의 앞에 ##를 붙여야 한다.\n",
        "total_morphs = []\n",
        "\n",
        "with open('/content/drive/MyDrive/dacon/KoreanLanguage/data/CORPUS/ko_corpus_mecab.txt', 'w', encoding = 'utf-8') as f:\n",
        "  for idx, line in enumerate(data):\n",
        "    morph_sentence = []\n",
        "    lines = line.split(' ')\n",
        "    for l in lines:\n",
        "      cnt = 0\n",
        "      morphs = mecab(l)\n",
        "      for tok in morphs:\n",
        "        save_tok = tok\n",
        "        if cnt > 0:\n",
        "          save_tok = \"##\" + save_tok\n",
        "          morph_sentence.append(save_tok)\n",
        "        else:\n",
        "          morph_sentence.append(save_tok)\n",
        "          cnt += 1\n",
        "\n",
        "    f.write(' '.join(morph_sentence))\n",
        "    f.write('\\n')"
      ],
      "metadata": {
        "colab": {
          "base_uri": "https://localhost:8080/"
        },
        "id": "giwSzfsMGO4o",
        "outputId": "2e7648a3-242a-4679-b546-22992698d5b6"
      },
      "execution_count": null,
      "outputs": [
        {
          "output_type": "stream",
          "name": "stdout",
          "text": [
            "CPU times: user 17min 51s, sys: 4.94 s, total: 17min 56s\n",
            "Wall time: 17min 58s\n"
          ]
        }
      ]
    },
    {
      "cell_type": "code",
      "source": [
        "# mecab을 사용해서 형태소를 분절한 데이터를 저장하였으니 이를 다시 불러와서 읽고자 한다.\n",
        "with open('/content/drive/MyDrive/dacon/KoreanLanguage/data/CORPUS/ko_corpus_mecab.txt', 'r', encoding = 'utf-8') as r:\n",
        "  text = r.read().split('\\n')\n",
        "\n",
        "print(text[:5], len(text))"
      ],
      "metadata": {
        "colab": {
          "base_uri": "https://localhost:8080/"
        },
        "id": "LD1YAfMaJsaD",
        "outputId": "15cac3c6-2c47-4652-ce70-aa5fd2eeac35"
      },
      "execution_count": null,
      "outputs": [
        {
          "output_type": "stream",
          "name": "stdout",
          "text": [
            "['지미 카터', '제임스 얼 지미 카터 주니어 ##는 민주당 출신 미국 * ##번 ##째 대통령 이 ##다 ##.', '지미 카터 ##는 조지아주 섬터 카운티 플 ##레인스 마을 ##에서 태어났 ##다 ##. 조지아 공과 ##대학교 ##를 졸업 ##하 ##였 ##다 ##. 그 후 해군 ##에 들어가 전함 원자력 잠수 ##함의 승무원 ##으로 일 ##하 ##였 ##다 ##. * ##년 미국 해군 대위 ##로 예 ##편하 ##였 ##고 이후 땅콩 면화 등 ##을 가꿔 많 ##은 돈 ##을 벌 ##었 ##다 ##. 그 ##의 별명 ##이 땅콩 농부 로 알려졌 ##다 ##.', '* ##년 조지아 주 상원 의원 선거 ##에서 낙선 ##하 ##나 그 선거 ##가 부정 ##선거 였음을 입증 ##하 ##게 되 ##어 당선 ##되 ##고 ##, * ##년 조지아 주 지사 선거 ##에 낙선 ##하 ##지만 * ##년 조지아 주 지사 ##를 역임 ##했 ##다 ##. 대통령 ##이 되 ##기 전 조지아주 상원 ##의원 ##을 두 ##번 연임 ##했으며 ##, * ##년 ##부터 * ##년 ##까지 조지아 지사 ##로 근무 ##했 ##다 ##. 조지아 주지사 ##로 지내 ##면서 ##, 미국 ##에 사 ##는 흑인 등 ##용법 ##을 내세웠 ##다 ##.', '* ##년 대통령 선거 ##에 민주당 후보 ##로 출마 ##하 ##여 도덕주의 정책 ##으로 내세워 ##, 포드 ##를 누르 ##고 당선 ##되 ##었 ##다 ##.'] 5134718\n"
          ]
        }
      ]
    },
    {
      "cell_type": "code",
      "source": [
        "# special token의 선언 -> BPE를 사용하는 것이 아니라면 unknown토큰은 생길 수 밖에 없다\n",
        "## 1) 특별 토큰 정의하기\n",
        "user_defined_symbols = ['[BOS]', '[EOS]', '[UNK0]', '[UNK1]', '[UNK2]', '[UNK3]', '[UNK4]', '[UNK5]', '[UNK6]',\n",
        "                     '[UNK7]', '[UNK8]', '[UNK9]']\n",
        "unused_token_num = 200\n",
        "unused_list = ['[unused{}]'.format(n) for n in range(unused_token_num)]\n",
        "user_defined_symbols.extend(unused_list)                   "
      ],
      "metadata": {
        "id": "FC-Sg_p-KHN6"
      },
      "execution_count": null,
      "outputs": []
    },
    {
      "cell_type": "code",
      "source": [
        "## 2) Hugging Face Tokenizer training\n",
        "from tokenizers import BertWordPieceTokenizer, SentencePieceBPETokenizer, SentencePieceUnigramTokenizer, CharBPETokenizer, ByteLevelBPETokenizer\n",
        "\n",
        "vocab_size = 32000\n",
        "limit_alphabet = 6000\n",
        "min_frequency = 5 # 단어의 최소 발생 빈도\n",
        "\n",
        "# 한글의 전처리를 진행하는 것이기 때문에 cased model에 대해서 False로 설정해 주어야 한다.\n",
        "\n",
        "tokenizer = BertWordPieceTokenizer(strip_accents = False, lowercase = False)\n",
        "\n",
        "tokenizer.train(\n",
        "    files = '/content/drive/MyDrive/dacon/KoreanLanguage/data/CORPUS/ko_corpus_mecab.txt',\n",
        "    vocab_size = vocab_size,\n",
        "    show_progress = True,\n",
        "    min_frequency = min_frequency,\n",
        "    limit_alphabet = limit_alphabet\n",
        ")"
      ],
      "metadata": {
        "id": "Y-0rqf_8MDBD"
      },
      "execution_count": null,
      "outputs": []
    },
    {
      "cell_type": "code",
      "source": [
        "tok_path = '/content/drive/MyDrive/dacon/KoreanLanguage/tokenizer/32000/'\n",
        "if not os.path.isdir(tok_path):\n",
        "  os.mkdir(tok_path)\n",
        "\n",
        "# google의 sentencepiece를 사용한것 과 달리 huggingface tokenizer과 transformer model을 사용할 수 있도록\n",
        "# vocab.txt파일이 생성이 된다.\n",
        "tokenizer.save_model(tok_path)"
      ],
      "metadata": {
        "colab": {
          "base_uri": "https://localhost:8080/"
        },
        "id": "opoyg6lYWlqZ",
        "outputId": "c125ea15-3dcf-4e9e-969d-3acc5a1a0e3a"
      },
      "execution_count": null,
      "outputs": [
        {
          "output_type": "execute_result",
          "data": {
            "text/plain": [
              "['/content/drive/MyDrive/dacon/KoreanLanguage/tokenizer/32000/vocab.txt']"
            ]
          },
          "metadata": {},
          "execution_count": 44
        }
      ]
    },
    {
      "cell_type": "code",
      "source": [
        "sentence = '나는 오늘 아침으로 그릭 요거트를 먹었다.'\n",
        "outputs = tokenizer.encode(sentence)\n",
        "print('=>idx : %s'%outputs.ids)\n",
        "print('=>tokens : %s'%outputs.tokens)"
      ],
      "metadata": {
        "colab": {
          "base_uri": "https://localhost:8080/"
        },
        "id": "X8SE_gyDZGAV",
        "outputId": "484e363e-cee7-41c1-8c12-8cecf73d7194"
      },
      "execution_count": null,
      "outputs": [
        {
          "output_type": "stream",
          "name": "stdout",
          "text": [
            "=>idx : [3820, 6098, 8708, 9981, 20689, 3675, 6590, 5087, 6300, 6159, 6224, 4389, 6296, 6007, 9]\n",
            "=>tokens : ['나', '##는', '오늘', '아침', '##으로', '그', '##릭', '요', '##거', '##트', '##를', '먹', '##었', '##다', '.']\n"
          ]
        }
      ]
    },
    {
      "cell_type": "code",
      "source": [
        "# 내가 새롭게 학습시킨 tokenizer이 과연 bert에 적용이 가능한지 확인해 보자\n",
        "from transformers import BertTokenizer\n",
        "\n",
        "bert_tokenizer = BertTokenizer(\n",
        "    vocab_file=  os.path.join(tok_path, 'vocab.txt'),\n",
        "    strip_accents = False, do_lower_case = False,\n",
        "    tokenize_chinese_chars=True\n",
        ")"
      ],
      "metadata": {
        "id": "53d6jV6_Zg4k"
      },
      "execution_count": null,
      "outputs": []
    },
    {
      "cell_type": "code",
      "source": [
        "train, test = load_dacon_data()\n",
        "bert_tokenizer(preprocessing(train['premise'][0]))"
      ],
      "metadata": {
        "colab": {
          "base_uri": "https://localhost:8080/"
        },
        "id": "MGj8fR3Qa-nV",
        "outputId": "066d5412-9e80-44b2-e303-ca4888ab3050"
      },
      "execution_count": null,
      "outputs": [
        {
          "output_type": "execute_result",
          "data": {
            "text/plain": [
              "{'input_ids': [2, 19482, 6077, 15003, 26238, 6203, 8104, 20237, 14278, 6098, 8036, 14190, 8076, 6690, 6114, 10307, 6203, 6187, 8, 8221, 22922, 21879, 17191, 3863, 6314, 18052, 6324, 4513, 26502, 22922, 12906, 6186, 6187, 9854, 8389, 6001, 6250, 4839, 6171, 6224, 19956, 6098, 3570, 6011, 6007, 9, 3], 'token_type_ids': [0, 0, 0, 0, 0, 0, 0, 0, 0, 0, 0, 0, 0, 0, 0, 0, 0, 0, 0, 0, 0, 0, 0, 0, 0, 0, 0, 0, 0, 0, 0, 0, 0, 0, 0, 0, 0, 0, 0, 0, 0, 0, 0, 0, 0, 0, 0], 'attention_mask': [1, 1, 1, 1, 1, 1, 1, 1, 1, 1, 1, 1, 1, 1, 1, 1, 1, 1, 1, 1, 1, 1, 1, 1, 1, 1, 1, 1, 1, 1, 1, 1, 1, 1, 1, 1, 1, 1, 1, 1, 1, 1, 1, 1, 1, 1, 1]}"
            ]
          },
          "metadata": {},
          "execution_count": 47
        }
      ]
    },
    {
      "cell_type": "code",
      "source": [
        "bert_tokenizer.all_special_tokens"
      ],
      "metadata": {
        "colab": {
          "base_uri": "https://localhost:8080/"
        },
        "id": "_bD2PQ1bcROF",
        "outputId": "9116cda1-562d-45fe-f8c1-01f41036796a"
      },
      "execution_count": null,
      "outputs": [
        {
          "output_type": "execute_result",
          "data": {
            "text/plain": [
              "['[UNK]', '[SEP]', '[PAD]', '[CLS]', '[MASK]']"
            ]
          },
          "metadata": {},
          "execution_count": 48
        }
      ]
    },
    {
      "cell_type": "code",
      "source": [
        "special_tokens_dict = {'additional_special_tokens' : user_defined_symbols}\n",
        "bert_tokenizer.add_special_tokens(special_tokens_dict)\n",
        "\n",
        "tok_path = '/content/drive/MyDrive/dacon/KoreanLanguage/tokenizer/32000'\n",
        "bert_tokenizer.save_pretrained(tok_path + '_special')"
      ],
      "metadata": {
        "colab": {
          "base_uri": "https://localhost:8080/"
        },
        "id": "wY0py8eYd0Xj",
        "outputId": "0ad1fc25-fe32-4b6c-a533-be4ea32c603c"
      },
      "execution_count": null,
      "outputs": [
        {
          "output_type": "execute_result",
          "data": {
            "text/plain": [
              "('/content/drive/MyDrive/dacon/KoreanLanguage/tokenizer/32000_special/tokenizer_config.json',\n",
              " '/content/drive/MyDrive/dacon/KoreanLanguage/tokenizer/32000_special/special_tokens_map.json',\n",
              " '/content/drive/MyDrive/dacon/KoreanLanguage/tokenizer/32000_special/vocab.txt',\n",
              " '/content/drive/MyDrive/dacon/KoreanLanguage/tokenizer/32000_special/added_tokens.json')"
            ]
          },
          "metadata": {},
          "execution_count": 49
        }
      ]
    },
    {
      "cell_type": "markdown",
      "source": [
        "#### SENTENCE PIECE TOKENIZER (BYTE-PAIR ENCODING)\n",
        "- sentencepiece tokenizer을 사용하려 한다면 기존의 hugging face transformer 모델들에 곧바로 적용하는데에 한계가 있다.\n",
        "- 따라서 이럴때는 MyTokenizer을 사용할 필요가 있다."
      ],
      "metadata": {
        "id": "_qNK4lijzOjT"
      }
    },
    {
      "cell_type": "code",
      "source": [
        "import sentencepiece as spm\n",
        "\n",
        "parameters = '--input={} \\\n",
        "--pad_id={} \\\n",
        "--bos_id={} \\\n",
        "--eos_id={} \\\n",
        "--unk_id={} \\\n",
        "--model_prefix={} \\\n",
        "--vocab_size={} \\\n",
        "--character_coverage={} \\\n",
        "--model_type={} \\\n",
        "--user_defined_symbols={}'\n",
        "\n",
        "input_file = '/content/drive/MyDrive/dacon/KoreanLanguage/data/CORPUS/ko_corpus.txt'\n",
        "tokenizer_path = '/content/drive/MyDrive/dacon/KoreanLanguage/tokenizer'\n",
        "vocab_size = 32000 # 학습에 사용할 wordpiece의 개수\n",
        "prefix = '/content/drive/MyDrive/dacon/KoreanLanguage/tokenizer/roberta_ko_ixxi' # 저장될 tokenizer의 이름\n",
        "model_type = 'unigram' # default is unigram\n",
        "pad = 0\n",
        "bos = 1\n",
        "eos = 2\n",
        "unk = 3\n",
        "char_cov = 1.0 # to reduce character set\n",
        "user_defined_symbols = '[PAD],[UNK],[CLS],[SEP],[MASK],[BOS],[EOS],[UNK0],[UNK1],[UNK2],[UNK3],[UNK4],[UNK5],[UNK6],[UNK7],[UNK8],[UNK9],[unused0],[unused1],[unused2],[unused3],[unused4],[unused5],[unused6],[unused7],[unused8],[unused9],[unused10],[unused11],[unused12],[unused13],[unused14],[unused15],[unused16],[unused17],[unused18],[unused19],[unused20],[unused21],[unused22],[unused23],[unused24],[unused25],[unused26],[unused27],[unused28],[unused29],[unused30],[unused31],[unused32],[unused33],[unused34],[unused35],[unused36],[unused37],[unused38],[unused39],[unused40],[unused41],[unused42],[unused43],[unused44],[unused45],[unused46],[unused47],[unused48],[unused49],[unused50],[unused51],[unused52],[unused53],[unused54],[unused55],[unused56],[unused57],[unused58],[unused59],[unused60],[unused61],[unused62],[unused63],[unused64],[unused65],[unused66],[unused67],[unused68],[unused69],[unused70],[unused71],[unused72],[unused73],[unused74],[unused75],[unused76],[unused77],[unused78],[unused79],[unused80],[unused81],[unused82],[unused83],[unused84],[unused85],[unused86],[unused87],[unused88],[unused89],[unused90],[unused91],[unused92],[unused93],[unused94],[unused95],[unused96],[unused97],[unused98],[unused99]'\n",
        "cmd = parameters.format(input_file, pad, bos, eos, unk, \n",
        "                        prefix, vocab_size, char_cov, model_type, user_defined_symbols)\n",
        "\n",
        "# sentence piece tokenizer은 학습이 모두 완료 되면 True를 반환한다.\n",
        "# 이 부분이 완료 되면 prefix로 지정해준 이름을 가진 파일 2개가 생성이 된다.\n",
        "# model : 실제로 사용하는 tokenizer model\n",
        "# vocab : 모델이 참조하는 단어 집합\n",
        "\n",
        "spm.SentencePieceTrainer.Train(cmd)"
      ],
      "metadata": {
        "id": "nSxnaG6jzRit"
      },
      "execution_count": null,
      "outputs": []
    },
    {
      "cell_type": "code",
      "source": [
        "from transformers.file_utils import SPIECE_UNDERLINE\n",
        "# make RoBERTa Tokenizer\n",
        "import logging, os, unicodedata\n",
        "from shutil import copyfile\n",
        "import csv\n",
        "\n",
        "from transformers import PreTrainedTokenizer\n",
        "\n",
        "tokenizer_dir = '/content/drive/MyDrive/dacon/KoreanLanguage/tokenizer'\n",
        "\n",
        "VOCAB_FILE_NAMES = {'model' : os.path.join(tokenizer_dir, 'bert_ko_ixxi.model'),\n",
        "                    'vocab' : os.path.join(tokenizer_dir, 'bert_ko_ixxi.vocab')}\n",
        "\n",
        "import csv\n",
        "vocab_list = pd.read_csv(os.path.join(tokenizer_dir, 'bert_ko_ixxi.vocab'),sep='\\t', header=None, quoting = csv.QUOTE_NONE)      \n",
        "vocabs, ids = list(vocab_list[0]), list(vocab_list[1])\n",
        "vocabs.insert(4, '<mask>')\n",
        "vocabs.remove(vocabs[-1])\n",
        "\n",
        "SPIECE_UNDERLINE = u'_'\n",
        "\n",
        "class MyTokenizer(PreTrainedTokenizer):\n",
        "  vocabs, ids = list(vocab_list[0]), list(vocab_list[1])\n",
        "  vocab_file_names = VOCAB_FILE_NAMES\n",
        "  \"\"\"\n",
        "  SentencePiece Based tokenizer을 생성하고자 한다.\n",
        "  \"\"\"\n",
        "  def __init__(self, do_lower_case=False, remove_space=True, keep_accents=False,\n",
        "               unk_token=\"<unk>\", bos_token=\"<bos>\", pad_token=\"<pad>\", eos_token=\"<eos>\", mask_token=\"<mask>\", **kwargs):\n",
        "    # token생성은 encode_as_pieces\n",
        "    # id생성은 encode_as_ids\n",
        "    super().__init__(unk_token=unk_token, bos_token=bos_token, pad_token=pad_token, eos_token=eos_token,mask_token=mask_token, **kwargs)\n",
        "\n",
        "    self.model = spm.SentencePieceProcessor()\n",
        "    self.model.load(os.path.join(tokenizer_dir, 'bert_ko_ixxi.model'))\n",
        "\n",
        "    self.token2idx = {}\n",
        "    self.idx2token = []\n",
        "    for idx, token in enumerate(vocabs):\n",
        "      self.token2idx[token] = idx\n",
        "      self.idx2token.append(token)\n",
        "    \n",
        "    # Settings\n",
        "    self.do_lower_case = do_lower_case\n",
        "    self.remove_space = remove_space\n",
        "    self.keep_accents = keep_accents\n",
        "    \n",
        "    # Load the SentencePiece Model\n",
        "    self.sp_model = spm.SentencePieceProcessor()\n",
        "    self.sp_model.load(VOCAB_FILE_NAMES['model'])\n",
        "\n",
        "  def __setstate__(self, d):\n",
        "    self.__dict__ = d\n",
        "    try:\n",
        "      import sentencepiece as spm\n",
        "    except ImportError:\"INSTALL SENTENCEPIECE\"\n",
        "    self.sp_model = spm.SentencePieceProcessor()\n",
        "    self.sp_model.load(VOCAB_FILE_NAMES['model'])\n",
        "    self.sp_model.SetEncodeExtraOptions('bos:eos')\n",
        "\n",
        "  @property\n",
        "  def vocab_size(self):\n",
        "    return len(self.idx2token)\n",
        "  \n",
        "  def __getstate__(self):\n",
        "    state = self.__dict__.copy()\n",
        "    state['sp_model'] = None\n",
        "    return state\n",
        "\n",
        "  def preprocess_text(self, inputs):\n",
        "    if self.remove_space:\n",
        "      outputs = ' '.join(inputs.strip().split())\n",
        "    else:\n",
        "      outputs = inputs\n",
        "      outputs = outputs.replace(\"``\", '\"').replace(\"''\", '\"')\n",
        "\n",
        "\n",
        "\n",
        "    if not self.keep_accents:\n",
        "      outputs = unicodedata.normalize('NFKD', outputs)\n",
        "      outputs = ''.join([c for c in outputs if not unicodedata.combining(c)])\n",
        "    if self.do_lower_case:\n",
        "      outputs = outputs.lower()\n",
        "\n",
        "    return outputs\n",
        "\n",
        "  def _tokenize(self, text, return_unicode = True, sample = False):\n",
        "    # Tokenize a string type text\n",
        "    text = self.preprocess_text(text)\n",
        "\n",
        "    if not sample:\n",
        "      pieces = self.sp_model.encode_as_pieces(text)\n",
        "    else:\n",
        "      pieces = self.sp_model.sample_encode_as_pieces(text, 64, 0.1)\n",
        "    new_pieces = []\n",
        "    for piece in pieces:\n",
        "      if len(piece) > 1 and piece[-1] == ',' and piece[-2].isdigit():\n",
        "        cur_pieces = self.sp_model.EncodeAsPieces(piece[:-1].replace(SPIECE_UNDERLINE, ''))\n",
        "        if piece[0] != SPIECE_UNDERLINE and cur_pieces[0][0] == SPIECE_UNDERLINE:\n",
        "          if len(cur_pieces[0]) == 1:\n",
        "            cur_pieces = cur_pieces[1:]\n",
        "          else:\n",
        "            cur_pieces[0] = cur_pieces[0][1:]\n",
        "            cur_pieces.append(piece[-1])\n",
        "            new_pieces.extend(cur_pieces)\n",
        "      else:\n",
        "        new_pieces.append(piece)\n",
        "    return new_pieces\n",
        "  \n",
        "  def _convert_token_to_id(self, token):\n",
        "    # token -> id\n",
        "    return self.token2idx.get(token, self.token2idx[self.unk_token])\n",
        "  \n",
        "  def _convert_id_to_token(self, index, return_unicode = True):\n",
        "    return self.idx2token[index]\n",
        "  \n",
        "  def convert_tokens_to_string(self, tokens):\n",
        "    out_strings = \"\".join(tokens).replace(SPIECE_UNDERLINE, \" \").strip()\n",
        "    return out_strings\n",
        "  \n",
        "  def build_inputs_with_special_tokens(self, token_ids_0, token_ids_1=None):\n",
        "    # return should be a list\n",
        "    \"\"\"\n",
        "    a RoBERTa sequence has the following format:\n",
        "        single sequence : <s> A </s>\n",
        "        pair of sequence : <s> A </s></s> B </s>\n",
        "    \"\"\"\n",
        "    if token_ids_1 is None:\n",
        "      return [self.bos_token_id] + token_ids_0 + [self.eos_token_id]\n",
        "    else:\n",
        "      return [self.bos_token_id] + token_ids_0 + [self.eos_token_id] + token_ids_1 + [self.eos_token_id]\n",
        "  \n",
        "  def create_token_type_ids_from_sequences(self, token_ids_0, token_ids_1 = None):\n",
        "    \"\"\"\n",
        "    creates a mask from the two sequences passed to be used in a sequence-pair classification task\n",
        "    pair이 아닌 하나의 문장이면 token_ids_1이 None일 것이다.\n",
        "    \"\"\"\n",
        "    bos = [self.bos_token_id]\n",
        "    eos = [self.eos_token_id]\n",
        "    if token_ids_1 is None:\n",
        "      return len(bos + token_ids_0 + eos) *[0]\n",
        "    return len(bos + token_ids_0 + eos) * [0] + len(token_ids_1 + eos) * [1]\n",
        "  \n",
        "  def get_special_tokens_mask(self, token_ids_0, token_ids_1=None, already_has_special_tokens = True):\n",
        "    if already_has_special_tokens:\n",
        "      if token_ids_1 is not None:\n",
        "        return list(map(lambda x:1 if x in [self.eos_token_id, self.bos_token_id] else 0), token_ids_0)\n",
        "    \n",
        "    if token_ids_1 is not None:\n",
        "      return [1] + ([0] * len(token_ids_0)) + [1] + ([0] * len(token_ids_1))\n",
        "    return [1] + ([0] * len(token_ids_0)) + [1]\n",
        "  \n",
        "  def save_vocabulary(self, save_dir):\n",
        "    if not os.path.isdir(save_dir):\n",
        "      print(\"NO SUCH DIRECTORY\")\n",
        "      return\n",
        "    \n",
        "    # 1. save sentencepiece model\n",
        "    out_vocab_model = os.path.join(save_dir, 'mine.model')\n",
        "    \n",
        "    # 2.save vocab.txt\n",
        "    index = 0\n",
        "    out_vocab_txt = os.path.join(save_dir, 'mine.txt')\n",
        "    with open(out_vocab_txt, 'w') as writer:\n",
        "      for token, token_idx in sorted(self.token2idx.items(), key = lambda kv : kv[1]):\n",
        "\n",
        "        if index != token_idx:\n",
        "          index = token_idx\n",
        "        \n",
        "        writer.write(str(token) + \"\\n\")\n",
        "        index += 1\n",
        "    return out_vocab_model, out_vocab_txt\n"
      ],
      "metadata": {
        "id": "aaJ42Obu0u-K"
      },
      "execution_count": null,
      "outputs": []
    },
    {
      "cell_type": "markdown",
      "source": [
        "### MODELS"
      ],
      "metadata": {
        "id": "Cue1y4l30vfn"
      }
    },
    {
      "cell_type": "code",
      "execution_count": null,
      "metadata": {
        "id": "pj07j6KJfz_Y"
      },
      "outputs": [],
      "source": [
        "MODEL_PRETRAINED_CONFIG_ARCHIVE_MAP = {\n",
        "    \"bert-base-multilingual-uncased\": \"https://huggingface.co/roberta-base/resolve/main/config.json\", # wordpiece\n",
        "    \"bert-base-multilingual-cased\": \"https://huggingface.co/roberta-large/resolve/main/config.json\", # wordpiece\n",
        "    \"kykim/bert-kor-base\" : \"https://huggingface.co/kykim/bert-kor-base/main/config.json\", # wordpiece\n",
        "\n",
        "    \"klue/roberta-large\" : \"https://huggingface.co/klue/roberta-large/main/config.json\", # byte level BPE\n",
        "    \"klue/roberta-base\" :  \"https://huggingface.co/Huffon/klue-roberta-base-nli/main/config.json\", # byte level BPE\n",
        "    \"xlm-roberta-large\" : \"https://huggingface.co/xlm-roberta-large/main/config.json\", # byte level BPE\n",
        "    \"xlm-roberta-base\" : \"https://huggingface.co/xlm-roberta-base/main/config.json\" # byte level BPE\n",
        "}\n",
        "\n",
        "MODEL_NAMES = MODEL_PRETRAINED_CONFIG_ARCHIVE_MAP.keys()"
      ]
    },
    {
      "cell_type": "code",
      "source": [
        "from transformers import AutoModel, AutoModelForMaskedLM\n",
        "\n",
        "roberta = AutoModel.from_pretrained('klue/roberta-large')\n",
        "roberta_lm = AutoModelForMaskedLM.from_pretrained('klue/roberta-large')\n",
        "bert = AutoModel.from_pretrained('kykim/bert-kor-base')\n",
        "bert_lm = AutoModelForMaskedLM.from_pretrained('kykim/bert-kor-base')"
      ],
      "metadata": {
        "id": "vu2D6bngnIAx"
      },
      "execution_count": null,
      "outputs": []
    },
    {
      "cell_type": "code",
      "source": [
        "from transformers import AutoTokenizer\n",
        "\n",
        "roberta_tok = AutoTokenizer.from_pretrained('klue/roberta-large')\n",
        "org_sentence = \"나는 오늘 그릭 요거트에 카카오 닙스와 말차 가루를 뿌려서 아침으로 먹을거야.\"\n",
        "masked_sentence = \"나는 [MASK] 그릭 요거트에 카카오 닙스와 말차 [MASK]를 뿌려서 [MASK]으로 먹을거야.\"\n",
        "label = roberta_tok(org_sentence, padding = \"max_length\", max_length = 128, return_tensors = 'pt')['input_ids']\n",
        "inputs = roberta_tok(masked_sentence, padding = \"max_length\", max_length = 128,return_tensors = 'pt')"
      ],
      "metadata": {
        "id": "LbR_JkFjoG1k"
      },
      "execution_count": null,
      "outputs": []
    },
    {
      "cell_type": "code",
      "source": [
        "inputs,label"
      ],
      "metadata": {
        "colab": {
          "base_uri": "https://localhost:8080/"
        },
        "id": "CduC2guloeaD",
        "outputId": "c2165dc0-5ecf-4ef8-c2c8-498b5e9807f6"
      },
      "execution_count": null,
      "outputs": [
        {
          "output_type": "execute_result",
          "data": {
            "text/plain": [
              "({'input_ids': tensor([[    0,   717,  2259,     4,   636,  2870, 12029,  2265,  2170,  7270,\n",
              "            806,  2255,  2522, 31332,     4,  1022, 11213,  2112,     4,  3603,\n",
              "           1059,  2069,  2180,  2275,    18,     2,     1,     1,     1,     1,\n",
              "              1,     1,     1,     1,     1,     1,     1,     1,     1,     1,\n",
              "              1,     1,     1,     1,     1,     1,     1,     1,     1,     1,\n",
              "              1,     1,     1,     1,     1,     1,     1,     1,     1,     1,\n",
              "              1,     1,     1,     1,     1,     1,     1,     1,     1,     1,\n",
              "              1,     1,     1,     1,     1,     1,     1,     1,     1,     1,\n",
              "              1,     1,     1,     1,     1,     1,     1,     1,     1,     1,\n",
              "              1,     1,     1,     1,     1,     1,     1,     1,     1,     1,\n",
              "              1,     1,     1,     1,     1,     1,     1,     1,     1,     1,\n",
              "              1,     1,     1,     1,     1,     1,     1,     1,     1,     1,\n",
              "              1,     1,     1,     1,     1,     1,     1,     1]]), 'token_type_ids': tensor([[0, 0, 0, 0, 0, 0, 0, 0, 0, 0, 0, 0, 0, 0, 0, 0, 0, 0, 0, 0, 0, 0, 0, 0,\n",
              "          0, 0, 0, 0, 0, 0, 0, 0, 0, 0, 0, 0, 0, 0, 0, 0, 0, 0, 0, 0, 0, 0, 0, 0,\n",
              "          0, 0, 0, 0, 0, 0, 0, 0, 0, 0, 0, 0, 0, 0, 0, 0, 0, 0, 0, 0, 0, 0, 0, 0,\n",
              "          0, 0, 0, 0, 0, 0, 0, 0, 0, 0, 0, 0, 0, 0, 0, 0, 0, 0, 0, 0, 0, 0, 0, 0,\n",
              "          0, 0, 0, 0, 0, 0, 0, 0, 0, 0, 0, 0, 0, 0, 0, 0, 0, 0, 0, 0, 0, 0, 0, 0,\n",
              "          0, 0, 0, 0, 0, 0, 0, 0]]), 'attention_mask': tensor([[1, 1, 1, 1, 1, 1, 1, 1, 1, 1, 1, 1, 1, 1, 1, 1, 1, 1, 1, 1, 1, 1, 1, 1,\n",
              "          1, 1, 0, 0, 0, 0, 0, 0, 0, 0, 0, 0, 0, 0, 0, 0, 0, 0, 0, 0, 0, 0, 0, 0,\n",
              "          0, 0, 0, 0, 0, 0, 0, 0, 0, 0, 0, 0, 0, 0, 0, 0, 0, 0, 0, 0, 0, 0, 0, 0,\n",
              "          0, 0, 0, 0, 0, 0, 0, 0, 0, 0, 0, 0, 0, 0, 0, 0, 0, 0, 0, 0, 0, 0, 0, 0,\n",
              "          0, 0, 0, 0, 0, 0, 0, 0, 0, 0, 0, 0, 0, 0, 0, 0, 0, 0, 0, 0, 0, 0, 0, 0,\n",
              "          0, 0, 0, 0, 0, 0, 0, 0]])},\n",
              " tensor([[    0,   717,  2259,  3822,   636,  2870, 12029,  2265,  2170,  7270,\n",
              "            806,  2255,  2522, 31332,  9827,  2138, 11213,  2112,  4408,  6233,\n",
              "           1059,  2069,  2180,  2275,    18,     2,     1,     1,     1,     1,\n",
              "              1,     1,     1,     1,     1,     1,     1,     1,     1,     1,\n",
              "              1,     1,     1,     1,     1,     1,     1,     1,     1,     1,\n",
              "              1,     1,     1,     1,     1,     1,     1,     1,     1,     1,\n",
              "              1,     1,     1,     1,     1,     1,     1,     1,     1,     1,\n",
              "              1,     1,     1,     1,     1,     1,     1,     1,     1,     1,\n",
              "              1,     1,     1,     1,     1,     1,     1,     1,     1,     1,\n",
              "              1,     1,     1,     1,     1,     1,     1,     1,     1,     1,\n",
              "              1,     1,     1,     1,     1,     1,     1,     1,     1,     1,\n",
              "              1,     1,     1,     1,     1,     1,     1,     1,     1,     1,\n",
              "              1,     1,     1,     1,     1,     1,     1,     1]]))"
            ]
          },
          "metadata": {},
          "execution_count": 30
        }
      ]
    },
    {
      "cell_type": "code",
      "source": [
        "roberta_outputs = roberta_lm(**inputs, labels = label,return_dict = True, )"
      ],
      "metadata": {
        "id": "UVlEYl8Xov4Y"
      },
      "execution_count": null,
      "outputs": []
    },
    {
      "cell_type": "code",
      "source": [
        "roberta_outputs['loss']"
      ],
      "metadata": {
        "colab": {
          "base_uri": "https://localhost:8080/"
        },
        "id": "6RA1CQ2NqZrY",
        "outputId": "e407da4c-879d-47af-f281-750f218d4e75"
      },
      "execution_count": null,
      "outputs": [
        {
          "output_type": "execute_result",
          "data": {
            "text/plain": [
              "tensor(10.4656, grad_fn=<NllLossBackward0>)"
            ]
          },
          "metadata": {},
          "execution_count": 33
        }
      ]
    },
    {
      "cell_type": "code",
      "source": [
        "import torch\n",
        "torch.argmax(roberta_outputs['logits'], dim = -1)\n",
        "# 출력되는 masked output의 문장의 길이는 128로 처음에 입력으로 넣어 주었던 문장과 동일하다."
      ],
      "metadata": {
        "colab": {
          "base_uri": "https://localhost:8080/"
        },
        "id": "-kvvj57epI9t",
        "outputId": "e2cda47b-1d89-4392-a2a0-9b25483f572c"
      },
      "execution_count": null,
      "outputs": [
        {
          "output_type": "execute_result",
          "data": {
            "text/plain": [
              "tensor([[    2,   717,  2259,  4181,   636,  2870, 12029,  2265,  2170,  7270,\n",
              "           806,  2255,  2522, 31332, 17818,  1022, 11213,  2112,     1,  3603,\n",
              "          1059,  2069,  2180,  2275,     3,     2,     3,     3,     3,     3,\n",
              "             3,     3,     3,     3,     3,     3,     3,     3,     3,     3,\n",
              "             3,     3,     3,     3,     3,     3,     3,     3,     3,     3,\n",
              "             3,     3,     3,     3,     3,     3,     3,     3,     3,     3,\n",
              "             3,     3,     3,     3,     3,     3,     3,     3,     3,     3,\n",
              "             3,     3,     3,     3,     3,     3,     3,     3,     3,     3,\n",
              "             3,     3,     3,     3,     3,     3,     3,     3,     3,     3,\n",
              "             3,     3,     3,     3,     3,     3,     3,     3,     3,     3,\n",
              "             3,     3,     3,     3,     3,     3,     3,     3,     3,     3,\n",
              "             3,     3,     3,     3,     3,     3,     3,     3,     3,     3,\n",
              "             3,     3,     3,     3,     3,     3,     3,     3]])"
            ]
          },
          "metadata": {},
          "execution_count": 36
        }
      ]
    },
    {
      "cell_type": "code",
      "source": [
        ""
      ],
      "metadata": {
        "id": "VWmYws1lpJ4I"
      },
      "execution_count": null,
      "outputs": []
    },
    {
      "cell_type": "markdown",
      "source": [
        "### PRETRAINING WITH SELF TRAINED TOKENIZER\n",
        "\n",
        "\n",
        "\n",
        "*   `BertWordPieceTokenizer`\n",
        "*   `SentencePieceUnigramTokenizer`\n",
        "*   `SentencePieceBPETokenizer`\n",
        "*   `ByteLevelBPETokenizer`\n",
        "\n",
        "- 우선 중요한 것은 먼저 `tokenizers`라이브러리를 사용해서 문장 분절 알고리즘 여러개중에 선택을 해서 적용을 한다. 이후 해당 학습된 vocab과 configuration을 위한 json파일을 사용해서 BertTokenizer을 initialize하면 된다.\n",
        "- 원래는 tokenizer라이브러리와 hugging face의 berttokenizer은 별개라고 생각했었는데 그게 아니었다.\n",
        "- 우선은 `BertWordPieceTokenizer`을 사용했지만, unknown tokenizer을 다루기 위해서는 `SentencePieceUnigramTokenizer`을 사용하는 것도 나쁘지 않다.\n",
        "\n",
        "\n",
        "\n"
      ],
      "metadata": {
        "id": "x2aHFZ1zeeaR"
      }
    },
    {
      "cell_type": "code",
      "source": [
        "from transformers import BertTokenizer\n",
        "\n",
        "my_tokenizer = BertTokenizer.from_pretrained(tok_path + '_special')\n",
        "print('check special tokens : %s'%my_tokenizer.all_special_tokens[:20])\n",
        "\n",
        "print('vocab size : %s'%my_tokenizer.vocab_size)\n",
        "\n",
        "train, test = load_dacon_data()\n",
        "sentence = preprocessing(train['premise'][0]) + \"[SEP]\" + preprocessing(train['hypothesis'][0]) \n",
        "\n",
        "tokenized_input_for_pytorch = my_tokenizer(sentence, return_tensors = 'pt')"
      ],
      "metadata": {
        "colab": {
          "base_uri": "https://localhost:8080/"
        },
        "id": "yDO8oIi4ez5G",
        "outputId": "9c8e614f-c385-4c13-e215-2c146ef3a0d2"
      },
      "execution_count": null,
      "outputs": [
        {
          "output_type": "stream",
          "name": "stdout",
          "text": [
            "check special tokens : ['[UNK]', '[SEP]', '[PAD]', '[CLS]', '[MASK]', '[BOS]', '[EOS]', '[UNK0]', '[UNK1]', '[UNK2]', '[UNK3]', '[UNK4]', '[UNK5]', '[UNK6]', '[UNK7]', '[UNK8]', '[UNK9]', '[unused0]', '[unused1]', '[unused2]']\n",
            "vocab size : 32000\n"
          ]
        }
      ]
    },
    {
      "cell_type": "code",
      "source": [
        "tokenized_input_for_pytorch['input_ids']"
      ],
      "metadata": {
        "colab": {
          "base_uri": "https://localhost:8080/"
        },
        "id": "cTotzo2MhAHV",
        "outputId": "c0867a0b-e529-4465-b7b3-5e5603a7dd73"
      },
      "execution_count": null,
      "outputs": [
        {
          "output_type": "execute_result",
          "data": {
            "text/plain": [
              "tensor([[    2, 19482,  6077, 15003, 26238,  6203,  8104, 20237, 14278,  6098,\n",
              "          8036, 14190,  8076,  6690,  6114, 10307,  6203,  6187,     8,  8221,\n",
              "         22922, 21879, 17191,  3863,  6314, 18052,  6324,  4513, 26502, 22922,\n",
              "         12906,  6186,  6187,  9854,  8389,  6001,  6250,  4839,  6171,  6224,\n",
              "         19956,  6098,  3570,  6011,  6007,     9,     3, 19482,  6116,  8065,\n",
              "         14190, 10307,  6011,  6007,     9,     3]])"
            ]
          },
          "metadata": {},
          "execution_count": 51
        }
      ]
    },
    {
      "cell_type": "code",
      "source": [
        "print(\"Tokens (str)      : {}\".format([my_tokenizer.convert_ids_to_tokens(s) for s in tokenized_input_for_pytorch['input_ids'].tolist()[0]]))"
      ],
      "metadata": {
        "colab": {
          "base_uri": "https://localhost:8080/"
        },
        "id": "yW5870QHhDO-",
        "outputId": "f36773b2-0cb4-458a-f9f2-e0e0001e9acf"
      },
      "execution_count": null,
      "outputs": [
        {
          "output_type": "stream",
          "name": "stdout",
          "text": [
            "Tokens (str)      : ['[CLS]', '씨름', '##은', '상고', '##시대', '##로', '##부터', '전해져', '내려오', '##는', '남자', '##들의', '대표', '##적', '##인', '놀이', '##로', '##서', ',', '소년', '##이나', '장정', '##들이', '넓', '##고', '평평', '##한', '백', '##사장', '##이나', '마당', '##에', '##서', '모여', '서로', '힘', '##과', '슬', '##기', '##를', '겨루', '##는', '것', '##이', '##다', '.', '[SEP]', '씨름', '##의', '여자', '##들의', '놀이', '##이', '##다', '.', '[SEP]']\n"
          ]
        }
      ]
    },
    {
      "cell_type": "code",
      "source": [
        "from transformers import AutoModel\n",
        "\n",
        "roberta = AutoModel.from_pretrained('klue/roberta-large')\n",
        "sentence = preprocessing(train['premise'][0]) + \"[SEP]\" + preprocessing(train['hypothesis'][0]) \n",
        "input_pt = my_tokenizer(sentence, return_tensors = 'pt')"
      ],
      "metadata": {
        "id": "GDf5aDc4hUox"
      },
      "execution_count": null,
      "outputs": []
    },
    {
      "cell_type": "code",
      "source": [
        "output_pt = roberta(**input_pt, return_dict = True)"
      ],
      "metadata": {
        "id": "Whs4rQXYoV69"
      },
      "execution_count": null,
      "outputs": []
    },
    {
      "cell_type": "code",
      "source": [
        "output_pt"
      ],
      "metadata": {
        "colab": {
          "base_uri": "https://localhost:8080/"
        },
        "id": "_U24uM8RoE0D",
        "outputId": "d7620a71-887c-4ea3-c4d8-947bcd050622"
      },
      "execution_count": null,
      "outputs": [
        {
          "output_type": "execute_result",
          "data": {
            "text/plain": [
              "BaseModelOutputWithPoolingAndCrossAttentions([('last_hidden_state',\n",
              "                                               tensor([[[ 0.0637, -0.0124, -0.4417,  ..., -0.1354,  0.0684, -0.0347],\n",
              "                                                        [ 0.0502, -0.6245, -0.1239,  ...,  0.0748,  0.3808, -0.2019],\n",
              "                                                        [ 0.0804, -0.6359,  0.1666,  ...,  0.1621,  0.3638, -0.2765],\n",
              "                                                        ...,\n",
              "                                                        [-0.4366, -0.2618, -0.0418,  ..., -0.8259, -0.4413,  0.1397],\n",
              "                                                        [-0.5528, -0.3408, -0.6641,  ...,  0.3177, -0.1009, -0.0121],\n",
              "                                                        [-0.0534, -0.2198, -0.3963,  ..., -0.1179,  0.0034,  0.0936]]],\n",
              "                                                      grad_fn=<NativeLayerNormBackward0>)),\n",
              "                                              ('pooler_output',\n",
              "                                               tensor([[-0.5110, -0.4324, -0.2544,  ..., -0.2036,  0.3722,  0.5340]],\n",
              "                                                      grad_fn=<TanhBackward0>))])"
            ]
          },
          "metadata": {},
          "execution_count": 56
        }
      ]
    },
    {
      "cell_type": "markdown",
      "source": [
        "#### PRETRAINING MLM(Masked Language Modeling)\n",
        "1. **tokenize** the text  \n",
        "  -> input_ids  \n",
        "  -> token_type_ids (MLM에서는 별로 필요가 없음)\n",
        "  -> attention_mask\n",
        "2. create a **labels** tensor  \n",
        "  -> 결국에는 input_ids를 mask처리할 부분을 랜덤하게 masking하는 것이다.\n",
        "3. **mask** tokens in input_ids\n",
        "4. calculate the **cross entropy loss**\n",
        "\n",
        "![image.png](data:image/png;base64,iVBORw0KGgoAAAANSUhEUgAAA2sAAAF6CAIAAAAIwlfQAAAgAElEQVR4nOzddXgTSRsA8JndbLypKy1aaGkpRYq7ux4ux3Hofbi7HHIcfujh7g7HweFupVgLFCgF2lK3pEnj2fn+2DaEClCgAry/557nms3s7CQlm7cj72BCCAIAAAAAAOCTUYXdAAAAAAAA8I2BCBIAAAAAAOQNRJAAAAAAACBvIIIEAAAAAAB5AxEkAAAAAADIG15hNwAA8KMLfxUpT0vjfiaElC1d0traqgCuq9Fonz5/aX4oEgrLe5XBGH96DW+j4+ISksxnyKTSsp4luZ9Zljx/+VqtVmc8hymvsiWlYjH3KCExOSo61lyPUCDw8fbM06UBAKBwQQQJAChkO/YfW7JqC0VhhJDJxJ7ct75xg5oFcN2YuITW3Qar1RqEEMuSdi0b7dm0NE9h3NF/z02atYSmKYQQIaRvj45/L53NPUVhPGryvFuBD7iH9rbWl07ukpbIiCBv3nnw828TuWRqhJDG9Wse3bWGpumv+OoAACBfQQQJAChkhBC1Wo0pCiFETCYTyxbUdZFao01XaxBChGWNJlNea2BZVqNWY5pGCBGWmExGy2e1Wh1XOUJILBJahqYsIulqTUYEyRK94b0T1WrNybOXdTo991AqFrVt2YhhmLw2DwAA8g9EkAAAULToDYY5i9Y8D3uNEEKIlCrh0bxJPYggAQBFCkSQAADwmWiakkglFNd7ShD3w6egKGwlFbNsxig2w2Qdv2ZNrMlk4p415b1zFAAA8htEkAAA8Jl6/NSuacM65odSiegTT2xUt8btC4dQ5qayAgH/06NPAAAoCiCCBOC7pVSlG43mCXbYSirh8Wij0ZQqV0RERivT1TKppLiHm62NjMfL4VZgNBpV6WqSGeUwPJ5EIkYIabW6iLcx8QnJVf19pFJJlrMIIVqdLiVVEROboEpXC4UCJ3tbZydHsVjErZX5RCzLKpSqiMjoVHmaWCR0d3NxcLDlM8wHVrqwLKvRaDVabVqaSqPT0zQllYitraxEIkGOLzBHXPtj4xJj4uJZljg62Lm7uUgl4hyva20loTFGmc8IBYJPvIpELHZ2sDM/5GeOULMsSVOq5Aql5WRQlmXlCqVer0cIYYxlVlYIEaUqnX1XBltJxdlfo16vN0/ERJm/QVjxDQD4KiCCBOC7NXrK/Gu3ghDCCCGJSHhoxyqBgL9uy75DJ/6Ljk0wGU08Hu3q7NimRcNB/bp5eZbK0g0W9iqi18Bx5hCkYZ3qG1bMDXoQMn/puqs3g0wm051z+73KlTGXJ4Qo0pSnz13de/jkg+BQhSLNyLIUpkQigY+XZ8e2Tbu0b+Hu5vIpEUyaUrVt95Fte4+Gv440GI0URdnZyBrUqT60f48aAf5ZQiVCiFKpehAS+t+Fa4H3gt9Evk2VKwnLIowZhild0r1GgP/P3TtU8iv/0cXOJhN74869let33rxzX6lSI4SEQn4F77J9e3Ts2rGlzEqapfHXb98fOGoaTdEIIULYkUP6jRjc56OvDiEUFv6m88/DTSaWO7FL+5bzZ4zBGGs0mva9hsbGJb6NjuNKYoyjY+Mbtu3DXbqYq/OJvX/zGea3sbOCHj4xvwcb/prbsG6NLG/L/mOn5yxcw52IMerfq/PkMYM/pXkAAPBREEEC8N1KSZGHvXyDMEYIWcusQl+8+mPZutt3H3LdihhjokPK8Dcv1m479u+FBTPHdu3Y0jKINBpNr95EpSlV3MNyZUqGPH3ea+C4sFcRCCE+n08srkUIeRTybOq8ZRcu39IbDFz93FPpavXVm3dv3Lm3ecfB+TPGtGne8IM9gjglVT5kzMzDx88YjEZzPenp6l0HTpw+f3Xy6MGjhvZjmPdq2Hv43zFTF2h0WkSQ5aUJIYlJyXeCHu0//O+MicMG9+v2gfUoLMtu23tkyuylyalycyVqjebqraBbdx/+c+bSX39MLVXC3fIUjUb76mUEoimEEGKJMvO9+ii93vDyVYTRaOIuzF0RIcQSEhkVExEVY/kqDAbjy1cRGe8OQoQQgYBfp2bVvYdOcr9cRMiRf85miSBNJtOxk+dfhmf8AxAK+LWrV0EIOiABAF8HzLwB4LuGM7AsO2nWYi49IXcEIYQzf34dEfW/8bPPX76Z7XRzBVivN8z+c3XYqwjz6ZaCHj7u2n/U6XNX9QZDlgLcQxNLnjx7+cv/Ju8+eIL9QL4eCi9ds2X/kVMGo9GyHu7n5BT5jPkrNmzfT9C78BVj7OtTFuF3jc326nF8YvLk2UvPXb5lHpTP/k49e/FqwvSFyany7Nc1GI0nTl34bewshSItt/cY4byGZ5mtzalTNsdXYVmgTfMGTo725hrOXb6Z+n7b4uKTbt99iDJP9PMpV6WSb57aBwAAHwARJAA/BKUq/enzlxhjHo8u4VHMy7OktcwKIWTuj0xJVUyZsywhMSW3GkJCX5y9eD3HMei4+KQBw6e+zAwuCSEUhW1tZCWKF7OztaYoihDCRatyhXLctIW3gh7mdhWM8d37IQghHo8u5ubsXbaUk4MdVyf3rE6vn7fk79Bn4ZZnVfT18ixdghBCURSfYexsZA72NgIB3/JEVXr6vMVr1RbzAt+7LoVDX4QrlCqMsZVU4lW2VInibnw+z9wqjPHZSzdWb9xtGbzmBx7NY7L10fJomsejGR6P5mUMxHu4uzVrVJewLNe88NeRj0JCLU8JehgSF59k/n11atNMKhHna8sBAD8UGMUG4IfARRLeZUvPnTaqXq0AHo8XG5+4dtPuzbsO6XR6LkJ6GBJ65OTZof175FhDXHwiV5NAwHdxdnBzceIWjhBClqzeHBL6grsEIcTV2XH8yIEdWzeRSiVqtfrkmctLVm2JfJsxMpucKp8ye8npg5skuQc0ri6OsyYOb9uykUgoSJWn7dx/fOmaLUplOneJ+ITEtZv3rFo4A2cuzZGKxT07t/Gv4NWkfu2Kvl6ODrYY48SklBOnL65cvyMlVcG9wHuPnjwODasR4J/bW8Tj8bp1ajVh+IDiHq5Go/F20KM5i9bcezfdEK3ftu+X3p2LuTp/xq/gU4iEgp0bFqXKlSMnzn0VEYUQIoS4uTptXb2Az+cjhIQCvlgkRAhRGP/co8OB46eNBiNCyGAwHjl5zjyQTQg5dvICy5q4PO22NrJO7ZvnU5sBAD8miCAB+CEQQkoWL7Z/y3I/Xy/uiJ2t9bI/pvD5zIp1O7gjLMseOXGmf6/OAgE/ew1c9Falku+EEQMa1KkmlYjFQhFCKCo6ds+hf7gFyYQQB3vb7X8vbNbInOPGbvigPtWrVOz6y8jIt7FcJHc7KPjqraBWTevn2FRrK6stq/5o0aQe99DWxnr6hP852NuOnbqAGyInBJ0+dzV5stzB3pYrQ1HUuOH9aR6duaiFIITc3VwqV/SRiEUTZi7iium12qBHj3OLIAlB/Xp0XLloukgoJIRgjNu1bFy+XJk23Ye8ePmae/nRsQnnL93s16tTXt77PODxeLWqVVYolHz+u/maQoGgbs0AsVhoWRJjXL1qRV+vMg9DnnHv6vnLN1PlabY2MoRQYmLK5RuBKDOmr1Ojimep4vnUZgDAjwlGsQH4MRDy26+9/Hy9LCcCCvj80b/1c3NxMh98/CwsJVWRSwXEz6fc3k3Lundq7eLkKJVIKJpCCF2/dT8+IdlcqH/vzk0a1LK8CiGkWhW/SWOGmEdUjUbj6fNXc74KS9q2bNisUV3LGmiK6tu9QxV/H/OR2PiEsFdvLE/k8/kmIxsdG/84NCzwXnDwk+cvX0WkpCpaN2/AjdcjhBDGMTEJOV8XIScH28ljBouEQmQxDbFMqeKjhvQ1T3AkhNy8+yDHGr6i7APlOQ6dW8usunRoZX4Y/jry/qOM7tK7D0KiomMzZrti3Ltb+0/PZwQAAJ8C7ikA/BCEQmGzRrXQ+0s0CCGuLk7+ft7RsfHcUyqVOik5xdXFMXsNNE2PH/Fr2dIluP458/HgJ8/M0Z5AKGjRuH6WrEBc4RaN6tjaWKfKFdx1n4aG6Q0GfvaV0aypXctGWTJHEkJkVtL6daqbl4YYjaaY2HexoN5guHjl1obt+x+FPE9IStbq9AzDk0rEbi6Ofj7elu1Rpafn/AYR4lfBu4RHsSyHMcZ1alSxkkpUKjXXkqi3sUajsSgEZBjj9q0aL129OVWehjE2GIz/nrnUpH4thNGJ/y6yLMtNAy3h7tagdrXCbiwA4HtT+DdBAEABkErE1tayLAcxxgyPcbCzNR8xsSaVWp1jDS7Ojk0a1Ebvx6AIobiEZHNMKWD4DvY2OZ7u5GhvLZOmpMq5kqp0jcFgzB5BUgzjXswlezsRQu5uzjgzFmQJUaoyYkG1Rjtn0eqV63dqNFpz20wmk1arS0pOffT4uWWbc10FTkgxF6ccc57b29kIGMacp0et0RhNpqIQQRJCvDxL1a5e5d+zl7mHF67eViiVLMteuRGIMxP9tGxW39k5hz8JAADgSxT+TRAAUAD0BoNep89+nGVNGo3W/JDClICfwyRIhFAJDzc7G+vsxyVi4bvhaZMpPT3nxc46rU5r0QA+n6HpHGbRsCajUplzN6FSmW4OVTFG5smah0+cWbJqi7nLTSgUeHmWKubmTAhJSEh++SZSqVTlmsPHQlou19VodZY7xPAZhsJFYv4PxpjPZ3r+1ObMxevc5kNh4W8eBocSRF69ieLKCISCrh1aULAPDQDga4MIEoAfQppS9SAk1NtiCxnz8Wdhr7ifCSEMw3BLMbKzkkhyDC4tk2yrNZo7QY9qVa+UpZ+SIPIs7LVCkWaemefh7prLHoD46s2gltkW2ej1hrv3QxDJyLlIUzTXdarT6ddt2Wcymbjw0c7WetWima2b1ReLRAghnV7/MPhpl36jEpNzzVKUeVn8OPRFSqrCvDrHLPR5ODeEzbGztflAWvKC17xx3ZLFi3GplDQa3enzV/UGA5ernBDi6+0ZUNmvsNsIAPgOFYm/pAEABWD91v1y+XtJpwkh//x38VnYa/OR0iXdHR3sczydx6NxToO8tWtUsYwsN+zYH/46MksZnVb/99Z95lyMGOOm9Wvl3EqM9x059SbybZZ2Bt57dOVGIMoYmCVWMqlX2VIIocTklDeRUeYR21ZN6/fq0tbGWsbnM3w+I5WIS5f0oHkfv9FhjF9HvD147HSWlONKVfqGHQcMBoO5WNXKFQq4R49l2Q/kYHd0sGvTvEHGO4DRwRNnTp27Ys6C+VP7FjIrae551AEA4DNBBAnADwFjfP32vQmzFsUlJHHxhE6vP3XuytQ5yw0Gg7lrsFHdGhKxKOcacqnZv4J3QJUK5pDl2YtXvw6fGvL0OWsycQVSUhVzF685dOyUefOV4u5uLZrWy62dbyLfDh414+WrCC5dttFounPv0ZCxs1IzuzARQtUr+zk7ORBCDAaj3mA0n56l8RjjO/eCE5NSP+UtMplMsxeuPnD0lHm4Pzk5dfaCVWcuXDO3XCoRN22QS+z7VVluiiNXKLkoX6vVhb2K4AasLfXq0pZbQo4Qev0m6sXLNyhz+VGbZg2y72cDAABfDkaxAfhRmEymzTsP3bh9r2nDOlZSyaPHz67cDFSp1OZM4HY21j1+apPXaEMiFo0b9mvQg8darY4LVq7dCmra8ZdmDeuULumRIldcvRn09NlL8zxFHk2PHtrXzcXpA3Wev3yrcft+LZvWc3FyCAuPOHv5ekqKwtwwgYD/a+/OXMenRCySSkRJyanc5n6nzl65ejOoZkBFmqbVGu2V64ETZi0yGo2f8qIwxgmJyf2HTdm6+0hA5QpKVfrFq3eevnhJWGJ+i+rXqebr7ZllNfpXxzAMlzacI1ekde03spKfd3RMvFgs+vfABqnFOh5CiJ+PV+WKPjfu3LOMOwkh1av4eZcrk9+tBQD8mL5OBMmyrE6vNycswxQW8PlF5J5FCNHp9YR9N4jDMAwvc2cwAH4QGCGaxzMajaEvXoU+D0eEIIqy7J2iaXrEkL5V/H3zGnAQQtq1ajRp1KAFyzfo9Rnb2yQkpuw+cAIRgjA2b81MCKEpqkeXNoP698jtKoQQhuEZDMao6NiN2/ZzNWCKsizcoXXTtq2acDU4OdrVr13tTeRxhBDG+G1sfNvug329PW1sZJFRseGvI/WZPawffRU8Hs2yRKvTn7l4/cz5q5YtRxl77Tj9OWMcP5eVRl+RRCzyLFMi6OFjc99wRFR0RFQ0QqiKv2+WF4MxFomEfbq1u3E7yHKLbZqmunZslWNyeAAA+HJfJ4JMTEoZPHomt6KTIOJfwfuPGWMt91QoRDq9ftKsxaHPM9YKYArPmjS8dvXKhdsqAAqYlVQypH+P9dv2K9KU+P18jYQQAZ/ft3uH8cN//Yw//DDGFKImjxnMMLwlqzYr0lTcQfR+VYQQsVjUr0fHedPGiIXCXCpDiJARg/vuPXQyNj4p+7RLisItm9ZftXC64N3tBU8aNfhm4EPzrtxKVfrtoEfcmhuKomrXqPL46Ys0pQp9GCH1a1WTWUlP/HcRIYTorH9kuro4rVk807d82YLp0uvXs9OJUxfVGm3G/MbMEDy38m2aNyjm5hwdm2Bum4uzY6tmOe/6AwAAX+7rRJA6veHStdsZ6dkI4TMMymkHhUKBEXoU8uzKzbvcQx6PHvu/XywLyBVpGq0u4wEhMplVbvPAAPiGYdy/90/VA/znLV77JDTMYDRyA518hinnWXLU0H49u7SRiN/bqBojxKN55g57KltQZVE3FgoEk0YNqlbZb8W6HTcD78sVSsveO4lYXMnPe9jA3p3bN8++oBtjTPN4XC5Gkwm3bFqvY5ums/9cffPOPa1Oz7WT5tHurs79enUaOeRne9v3Uk6W9yqzd/PSGfNWXL99L12tyei3o7CLk0Ofbu27dWrVtsdQtUaDEGJJ1rQ2PJrmXiDLUvZ2NmuX/V5m+fod+48nJb1bu20tkzasW2P6+N8qV/RB+P10mBhTDE3TXA04y2RROrNy7ucsr5nHo7maWBbjbOmBmtSvNWfqqOV/b42JSzDfTW2sZRV9vbJWhRBCyL2Ya6tmDTZtP2DeybBpg1rFXJ1hCBsAkE++2jxI83AYQahI3a8Iyrirm8eDshTYsG3/5l2HuHs0RdOrF81oUiAz5QEoSBghiqI6t21Wt0aVG3fuPQx5pkhTOdjZVKroU71qRScHu+wfjeLF3Q7tWMkaMxbE2Nnbfjgc4fF4zRrVqVc74Elo2M07D168ilCkpUklkpLFi9WuVrliBW+ZlSTH0/t0b1+vVgD3BCGkkp+vg531kZ2rbt99FPggODlZLpNKfMuXrRHg7+HuSlNZgy2McUAlv/1b/wp+/PxW0IO4+GSRgCldukSd6pU9S5fQ6fT7Ni83GgwIIYKQm+u7+Zeuzg6Hd6zi1usQhBzsbe1trRfMHNuvZ+frN++GR0RhhDyKudaqXtnPp5xQyM++mqh65QpnDm023/pKl/AwP0UQWjx3gkKu5B4yDM/J8d0i99Ilip3ctx4RwpV0dXHK8s4wDG/M//q1bdHgxp37EZExJpZ1c3WsVsW/QnlPy4FptUZjNJqspBKEUDnPUiizk5LHo7t3yvOUVgAA+HQ/xEoa/F7gmPWWKlcow8IjuJ8ZHk+XmbYDgO8PxtjJ0b5zuxad27UwH8wtLpRJpY3q1shr/SKhMKCyX55yEJYtXbJs6ZJZr24lbdGkbosmdT/aTnP5urWq1q1VNctxsVjUoE7Oe/pJJOLG9WtmOcgwjJ9PWT+fsp/ScgcHu6aN6uT4FMYooFKub4KVlfSjf6lSFOVVtrRX2dK5FSCIHP7n7NpNuxvXq0kQ2rr7CKIohBAhpKKPV92aVaEDEgCQf77/CJKiqG6d29R6N/ERF3NzLswGAVCosocURTPI+FbaWYhUqvR1W/beDnx4+85DhBCiMgaCaJr6bWBvKytJIbcPAPBdK5wIkmVZrU5nNJgwhRiGydPCbZPJpNHqTCYTj6ZFIiGVbUgrCz7D/PZrzywHv+RPc0KIXm8wmowURfMZXo5zkgAAIF8RQi5dCwy8H4Kz3QNbNKnXvVMr6IAEAOSrgo4gFWnK67fvX75+5+mzsDRlOkVR9rY2AZUrNGtct6JPWUHOu5xlSFOqrtwIPH3u6ovwN2q1ViIR+fmU69KhZbXKfgqlavWGnVpdxoKY4sXcfhvQ03z33HPwn+Cnz7mf+Qwz8Oeuxd3dCCH//HfpVuCDy9cDzZcwsez2PUev3ghEXOdlx1aV/MqbnzUYDI+ePD915sqDkKfp6RqBgO/u5lK9ql+dGlVLlXBnmO+/QxcAUHQQwnp7lg5/HWHecFwiFjVtUHvlwunczEgAAMg/+KvsdhX5NtavdltuLTYhpE3zBkd2rs6SNc1oMl25Hvj7wtWB94L1BoPldSmMZdZWrZs1mDlxWLkyJXP8u/nps5djpv1x5cZdvf7duRhjW2vZkP49+nTr0Kh938SkFK4BzRvV/e/wJnM9PQeO3X/kFPezVCK+fHJXFX8flmUnzlq8dOVmTFM5/rHO4/H2b/mrU9um3EOlMn3e0rWbth9MVaRZNp6mKSdH+5aN640d3t/Hy/OjfaIAFJhj/56PiIrh/mXzeHT3zq3t7bJu+gy+UdxdKDlFHvz0eXDI81SFwsZGVtW/QuWK5a2kEuiABADktwLqNjMaTWs27Z75x4o0pSr7mmiCkEKh3HPwn7v3gzeumFu/dvUs977QF+Fd+498+iw8+7mpirSFKzY+ff7SYLnTV5Y7J7EYts4aMBOU2/wqQsyHTSy7cMWGxSs3Z1RvUZ5lSVx80tY9R2LiE4/tWiMUfqgbFYACQwjp2KZpYbcC5BfuLuRgb9u4Xs3G9bKuB4LwEQCQ3wqiw4xl2Q3b90+evcQcPnLxHI9HWybmwBiHhUf8PHTS/UdPLU9PSZUPGT3DHD5yeDQtFAi4CZSEkOOnLsjlafn3El6EvVq7eY85U4ZELPJwd7W1kZlHrgUC/oA+P0H4CIoOiCEAAADkn4Logwx58nzekrVanc78lebr7dmxbbMyJYurNZrL1wPPXLymVKZzGSUj38ZOmLHw6K411tZWXOEj/5y7GfjQHHryeHTdmlX7dOvAZXq7cefejn3Huf2+8ghX8is/oF/3+4+ePAwJ5Q5RFNW8cV1ux16Kwm4ujtzxS9cDU1PkmKYJIW4uTns2LvHxLqtSpd979OTwP2fPXbpZM8C/bctGX/pOAQAAAAB8C/I9gjSZTGs274mNSzBvutCuRaOVi6aX8CjGPRz0c7djp86NmjQ/LiGJCyKv3b539tKNLh1aYIx1ev2BY6dMJpN5/LpPtw5L5kyyt8/YlKJ54zodWjfpNWjc87DXeep0wRj17NK2T7f2U+YsNUeQNEUNH9S7ZZN6XGejubqo6FhznnRbG1l5r7KODnaODnalSnp0bNM06MFjqVQi+sBGbQAAAAAA35F8H8WOT0w+dfaKORgrWbzYsgVTSngUMy9G4fOZrh1aTR4z2LwGxWgwHDpxxjxP/PHTMO44IcS9mMusScPt7W3MpxNCqvj7Th07NK9LWDDG3Bg6zjJrEmOKomiKoinKXKeVVMINYWOMQ1+86tpvxMFjp2PjE1lCaJquWa1ShfJlv8qaJAAAAACAoi/fI8gXL18nJaeYx6BbN2tQpmRx9P4kLYxxz5/alvBwNT++//BxWpoKIZQqV6g1WnPhCt5l3d2cLU/n5kHWrVXVJnPUOz/UDPDn8RkuRiSEXL0V1HPg2Hqteo2ePO920CNuaTlMOwMAAADADyJ/I0hCSGJSii4zVxlCyN/PO8eSjg52pUt4kMx+PqUqPU2pQggZDSbWom9PKBRmz+CNMWZ4DJ/ho/xBCKkZUKlT22YURZlbyLIk/HXkqvU7m7Tv13PA2PvBT6EPEnwTCCF6vV6X+Z9leixCiMFg1Fk8a7RMcVDYjEaTZdssk4Jxef4tny2Cn8cs77xOr2dZtrAbBQAAnynf50Hq9UZkmT0R5xyzYowt04mzBHGBo9RKwvBokjkKHhUdo1SpZdl263oTGS1X5NdabIyxWCxas2RWqeLu2/Ye5bJOcscRxlqd7siJM7cCH6xcOOOn9s2hJxIUcap09ajJ8xKSUhDCCJFiLs5/LZgqEgkRQixLVq7fcfHanYxpxwj16da+e+fWhd3kDP9duLZ+276M2wkhVSv5Tp/wP4bHQwgZjcaZC1Y8fhrGzVcWCvhrFs90dnIo1PZmlSpXjJ26IClVwT0U8HnL5k8t4eFWuK0CAIDPk78RJMbY3t6GZhjzn9qPn73MsaQqPT06Js482C0RC2VSCULI2cHOw801JVXBfTEEP3l+8r9LPbu0sQzU0pSqv/7eZrnW+6sjhDja282fObZX17YHj585fe5q+OtIrpcUIYQpKjY+cdLsRTWqVvRwd/1wVQAULpOJvRn44PmLV9zDihW8LXvCnr98feq/i9zHDVNU4wZZEw3mSbpao0pXmz+WIpHwS/ZKSUmVnzp7hTWZEEKIEKGQb07vShB6+uzlv5ktl0glWouhj/xGCFGkqfT6d1eUyaTCbDtssSx7+UZgRGR0Zhkrnb7gGgkAAF9XvvdBli7pYS2TpmYmazx19vLYYb+4u7lkKXYnKPh5eETGA0Iq+npbW1sRQsRiUcN61R89eYYQwhjr9YZxM/5UqlQdWjext7MxGk0RUTHzl/59/NSFfO384yrnUZR/hfJ+Pl4TRgwIfR7+79nLuw/+8yYymisQFR33IPgpRJCg6OO6z7k5xFk+OBgjhDG31TL+4g/VrcAH46b/aTSZEEKEkF96dpo4atCXVIgz20bYnGYeYwpTObyo/EYImb907amzV8w9oBtXzK/i75O9pLn9CBJ2AgC+cfkeQRZ3dw2oXOHshRuYwhjjF+Fvps5ZtnLhDMuFL29j4mYuWKnL3NWaouh2rRpRFMUl9+nXo+OuA0i9SWYAACAASURBVP8kp6RyD+PiE4dN+H3pmi0uTg56veFV5NukpNSv1VqD0ZSaKkeZO4YZjSYuZ7jJxG7fc6RsmRJ1albFGFvLrGpWq1QjwL9Lh5ZNO/6SlJyKMTaZ2FSF8mu1BIDvgMFofBb22mAwIIQISxIyZ4B8ZzBCcQlJT59n7HogFglNpiI0fxQAAPJDvkeQQoHgfwN6X70RZB5l3nXg+NuYuGEDe5cpVdzEmoIfP1+1YdeD4KfmIWy/CuU6tGpifli5os/UsUOmzV3O1cCtYnn5KjIsPMJcpqxnyZQUeUrmBKM84WaAcQhrWrV+F8MwNKZuBz36qUOLmgH+CKHbQQ/HTf+TJaR7p9Y/9+zo51NOJBQiRAyGd98TNE3n63pwAPIbxqhBnRpikSgjxRVG5cuVKexGvVO6pMfIIX25kWuCiK+3J6a+pW48Pp/5pVdnRebfmTSPlkrEhdskAAD4bAWxJ03LJnV/7dNl/bZ9mYnB8aWrt6/dDBKLRSxh09M1FptWEztb64WzJzg62HEHueP/G9hLrdH+tXZbslxh/sbgxuAoigqoXGH+jLH9h03OeIIQUV52Fyzu7spVhRDCFHUn6GH3X0cjlvAYXsumdRFCckXatLnL5GlKhNDG7ft3HzxRonixUsXdCUIPg59yHZCEEDsbmZ9Pua/2rgHwxQghOr3eaDBiihIK+NnzGGRBUVSvLm17dWmbpZLs462EEKPRaDSaMEUxPB43YPCVW4+QyWTSanU0TQuFAkJI3ZpV69asmtdKWJbV6fQmk4nm8QR8Jq+JY78imZXVrEnDP718xq/PaMII8Xg8Pp/5jDfZ4uXTQoEAhs4BAF9LQUSQAoFg/ozRao1m14ETJpMJIYQpysSySlU6V8DclejoYLdw9vhmDWuj9ycJCQWCKWOH1K8dsH7r/mu37ykUaUaTkeExTg52HVo3HTGkj1arV6nU5vI21rJPb17NgEp2ttbJKfKMxnBfMBQ2f9O8iYx+ExmT0R6MNVpd6PPwUG5JUGaMy+PRP/fsyGVKh3s0KHRGk/HZi9cnz1wKvBcsl6cxfKZMSY/2rZo0rFv9w/88r968e+HKLYritoCiOrZuWrGCl2UB1sQ+f/n6zKXr9x8+SZErhHy+q4tT1UoV6tSoXNzDTcDPSKoVFv5m14ETb6KiMxa+IIQwuhX44PeFqxEiCKFKfuU7tG6KEDIZTZt3H4qNS+BKicXiQT93tZJKHoSE7tp/4knoi97d2//SszPGOPxV5J7DJ1mWm1WJqlet2Kpp/Q983Ewm08OQ0GP/nn8YEqpK18isJJX8yrdu3rCSn7e5nWaXr9+5fD0w81NOdWrb1M/Hy7KqvYdOvnwdyRUQCASD+3W3s7UmhOw9fPLFyzchT16YCxuMxi27Dp86dxUhQlFUv56diru7IYRYlt2wfX98QhJXTCqRDOrXTWYlzd5ytVpz90HI5Rt3gx8/U6QpMca2NrIq/r6N6tbwr+AtzOkv5OAnzw6fOMv94liWtGpWv2ZApbDwiH1HTgbeC1ala6xlkoDKfp3bNi/vVQbuUQCAL1cQESQhxMZatmrh9HJlSqzetCc2Lh6hrPcvmqYr+5VfNGdCvVoBOfaUUBjXr12tVrXKsfGJ0bHxWq1WLBKV8HBzdLCjaXr73qPmldGIEM/SJT69bZ6lS4we2m/+snUai9TlhBAej8fdjv0reJ/Y+/eSVZtPnrkkl6dlRI3vSiKRSPBLz05Txgyl6ULr3gDALFWuWLFux7qt+xKTkln2XS6tHfuOdenQctq4oR849+adB3MWrub+jqJp2sfL0zKC1Gi167fuX7xqU1x8kuUKbh5NOzraN65fc9SQn6v4+9A0/Srirbkes1t3H966+5D7ecSQvlwESQjZvPPQ3fsh3HEXZ4cenVqdOndl3LQ/4xKSkIlt0bQe91RUTNz8pX/r9dysSnbk0H6tmtbP8VVghDQa3V9/b1/418aklFRzbsh//ru0csPOPl3bTx//P2cne8tTgh4+mbNoTcbL4fH8fMpZRpAsS/YdPXXq7BXuoY21rEfn1na21gihE6cv7j98ynI83WAwrt+2n/uZYXjNG9XlIkhC0MbtBx8EP+We8nBz7d2tfZYIkhBy++7DBcs3XLp2O12tscxqefjEGZlU2rJZ/Sljhvj5lMsSBT59Fj7nz1WYphFCxGRycXJQq7X/Gz/7xcs35kpOnL60cfvBNYtntmnREIJIAMAX+joRpFAoaNGknkarRQgRgqr6+2CLvI/cIK9UKpk4alDn9i32HDxx5uL1mJiEdI2GR/OsrCTly5Xp2rFl2xYN7WxtcqzfZDJdvh7oX8Hbwd62uLtr8ffXO7+Njlu1fqe584/H5wdUqmBZoFJFb5U6o4dSKOBLpe/mHmGMaRpPGDXAx8tzy57DYeFvdDq9UCDwKleqW4dWVfz9uGJ+PuU2rZwf+iL837OXL1698zYmVqPRIoSkUol/hfJ9u7dvUr8Ww/CgAxIUOpUqffSU+bsOnGDZd/NAOOlqzY59x97Gxll22GfBbbtk+ejdU4Rs23N08uwlXA4ay5pNLBsbl7D7wImw8DfnjmyRyaxw1rOzLj3OupuoheAnL8ZOWxCfkIwxJh/6POWaM5wlZP22fWs379brDVneBLk8bc2m3W8io7euWeBgb2vRno/VTLIM6GOL/5FcV65nqYmQD9wlWJY98s+5YRN+T0hMRhkjHNjiVCRPU+47/O/NwAdbVv3RpEGt905+v8onz8IWLN8QFR2bpZLItzFDx8787/CWCuXL5tgGAAD4RF8hgiSEODnYHdj61wfKcLcwmqa9PEv9PmXU1LFDU1LTtDotRdESscjezubDgdezsNc9fh1jb2/7U7tmTRvWKeHhJrOSYEwp0pSB94KXrN5879ET81B4mVIeVSv5WvYmTho1eNKorG22vCLDYzq1a9ahTZM0pUqvNwgEfGuZFKHMyZEYI4QYhudfwdu/gvfkUYPTlCqNTocRkojFVlaS7BUCUChYlt2869CuA/8Q8m5yCMaYpimEMDeH5MLlW+izUsm8jY5bsGydTq/n/iYU8Pm2tjKtVqdKVxuNJoQQj6b79ewkk33RejKKopau2cKFj59XA8ZYrdas2bTLYDBijGmKQhizLMuyrDmcOnnm0tzFa5fOm8TjFcQ4zKcghJw6d2XgyGncsDXK/N1RFIUQ4fqSueORUTF9Bo87tH1VndxmhVLUll1HNFpt9vcQYxwdHb9m0+61S2bBLQsA8CW+wt3zM25DAoHA1cXxEwsTQjbvPJicKk9KSf1jyd9LVm+RyaRChs/tB5OSquC+GLiSDMMMG9jHwd7WHNLl2LxsOfAwQoiiqCwTKC2LmX+maMrGRpalsxTuxaAoeB3xduFfG82fCISQs6N9p7bNalarRAi5fD3w+KnzcoXy8/653gt+GpWZ9t9GZrV5zR+1qlXWaLT3Hz05evLcmYs3PEt59PypDVfYxcmxZ9d2SSmpF6/e5sa7CSE+3p5VKvpwf5hVrlg+x6vEJyQnJCab18nxBHya+sgCoBwZDEaJWNSyaf0WjeuKRMJHj58dPHY68m2sucC2PUd6/tSmRoD/F354awT40zR9937Ii/A35lnRLZvU44anaZr+xGnZkVGxIybNM4ePCKHSJT1aNqlXwaecVqe7HfjwzKUbCkVaRlKzhORRU+afObTF3j6HcRuMsUartba2qlOjiquzU0RU9M3AB2q1JuOWSOPzl2/K05S2eZkvDgAAWRSVv78/4E1k9KHjZzIiQpo2GIzJyXLLAubwkc/nD+nffeDPXSCeAz+m46cvxMYlZOTcJqSEu9vWtQsa1KnOLQvr061D+5aNBo+emZwq/4zPSFR0DDKaEI+HELK1lVWr7Ofq7IgQKl3So2ObpveDQ9Vqta2NNXdpP99yuzYsPnPh+pUbdzNmTBLUqkn9RXMmZnbt53wVrqOUorCfj3eX9i3Ke5Up75XnjEKEEIlYtHjuxF/7dOEWzfTu1r5Xl7b9hk56/CwMIYQxTktT7jpwvEaAf14rz2LE4L6EoP7DJ78If8Md4TPM9PH/q1q5AjeE/Ynv9Ibt+99EvDXfzZo0rL160Qwvz1LcEeMg46lzV4aOnRUbl8gFkQ+Cnx44fvq3X3vmWJuVVLJ55fy2LRvxGUaj1W3Ytm/irMVcVzFCODk5NSk5BSJIAMCX+AZWfohFwpFD+vpX8BYJBZbzyi1RGHuXLbVozoSFs8aLhMIcywDwfWNZcv7STXPAgik8bfxvjerVNAeLPB7dsW2zMcN++byMNlYSiXmy3ZvImJ4Dx+459E90TBzLsjRNV6/i16BO9YxLY5wx/JoleMKIojBNUzRNfaANGKE+3TqcPrhx6rihnds1L1+uTG4f/A/o0rHVwL7d3q25JqRyRZ8/fx8vEGQewfjy9cB0da5TQj8FxpimaTpbWkqMEU1RH32lZqlyxZGT5zJbShwd7JbOnexdtrS5AE3T7Vo2XvT7RD7DyyyGDhw9neO+iISQpg3rdGzTjM/wMcZikXDgz918vDzNb6NOr9NpYUNFAMAXKep9kIQQZyeH8SMG/NqnS8jTF5ev3X705HlEVLRWp2dNLMPwbKyty5cr1bhezfp1qrm6OCGYkgh+VGlKVdirCPNDV2fHNs0boPenWFAU1alNs0UrNqUpVXn9mFQoX1YslXJryBBCN+88uH33YXGPYi0a1enbvUNAZT8+n/nyV0EI8fUuu/D38c6ODuaIJ69N5TNMr5/aMMy7+xtXQ/1aAWVLl3wc+oI7Ep+YnJCYLJV8/lbdX8vryOjXmR2QiJDmjepUKO9peSvjfmjfslF5L89Hj59xo/wvXr5Olae5ODlkrY5lq1etaJkaQioR+/l6PQoJ5f7AYAkiua9DAgCAT1HUI0jzDdTO1rpBnWoN6lRDCGm1Or3BYGJZhuaJxEI6c8wuyykA/FA0Wo1WqzP/+3dysHewt8tShhBSzM3ZzcXpXfarT+bn69W7a7stOw+ZMudZsix5/SZq3Za92/cdbdGo3tRxQ7lUPl/0Mli2f5/Ozo4O6HM/y4QQsUhYvlzp7E9JpZJyniVCnj7natbpdGq15ota+5XExSUajZkbXLGkYgVvblvXLMXEErG/RSAoV6QplcocIkiErK2y7nYjg/1vAABf1Tcwip2dUCiQWUltrWVSqZjOHCGCwBH84FiWkPdyNFJUDqOrXFaEz/ngC/j8pfMmTxw1yNnJwbJvDFOUVqs/9u/5ll0Hbt192GRiP1zPR64iEtarFfAlNSCEaB5N5RLIMsy7jlLCEtOnjo+TDyQP+nJ6g+Fd/RgxvJwbjxG2TCfOEpI5tTF70Wz3Q7hDAgC+qm8yggQAZCcSCoTCd1utJKXIU+Vp2YulyBVxCcmfUT8hxEoqmTd99LkjWyaPHlzV39cyGzamcEqKfOaCVeGvIz5QyUdJpZLc8sJ+MqxKV0dERWd/QqfXv37z1vyQL+CLc5o2zW0naHmEJYTLZJ5PHO3tKHMOXYyfPgvPceqn0Wh8HRltjgWtJBLrL8udBAAAnw0iSAC+E9YyKw93N3Pk8TYm7vrte1nKEETOXbwhV6R9Rp89N/cOY+zn6zV32qjzx7efOrhx+vjfynmWNBeIjUu4HfToS14FQ9N85ovmU2KM9HrDsZMXLHfN4YQ8fRH6Ity83tnW1toxM6m45RtiNJpevHxt2emoVKVHRseifFO6pLuTeY8cjM9cvPY6IipLGULIk2dhd+8HvzurlIeNDaynBgAUDoggAfhO0DRdt2YAygybjEbT3EVrXke863IjhIQ8efHnig0mUy5Dnx9ECNl/5NTZS9eNRiNFUdYyae3qlX+fMvLYrjUebi4ZhUxsfEJybkunU+UKc27I3Aa7MYVxtsH3z2jq1j1HLl27bdmShKTkqXOWKVXp5kIB/r7WmRltJGKRZRB58NiZyOg47nRCyJETZ1+9zhrS5cZkMinS8jbN1NHRvmZAJfMWBlHRcTPmr0xJVViWSU5JnfnHSrk8zZzptlXT+mKRKE8XAgCAr6Wor6QBAHy6Lu1brNqwk8tKjTF+EBLaqc+w8cN/rVzRhxByO+jhgmXr3635zaPnYa/GzfgzLU3VuV3zgT93rejrJRGLEMYUTb+bY0dhJwc7c/1CAf9dNIjR6fPXtu096u7qHPzkhb29Tf9enb/8JecIY5yUnNJ70PjxI35t1rAOw+c/f/lq2eqt12/fs9x9oHe39uZTPNxdeDStNxgxRhjjx6FhXfqO6N29vb2t9e2gR7v2HzcYjbm9b5iihPx30xO1Ov3ytdtMJlaj016/GTRySN/iHsU+3GAeTQ8b2Ov0uStqjZb73e078m9MXPzwwX18ynkSRJ4+e7li3Y4bgQ/MyT6Lu7v90qvTV3izAADgs0AECcD3w7e854C+XZav3cY9xBg/evzs5/9NkkmlCCFFmhJlJmu03LfmU2i02hl/rIyJiUeY2rH36MFjp0sUL1auTCmGRz8ICY18G8ONcctkVr7lPc1nuTg5MHxGq9NzF42NSxgwfCqmMDGaZk4Z+VVfelZcsp4JMxbLZGtpmlYq041Gk2XvZosmdRvXr2V+E/wrlHd2doh6G8vtMI0xuvsg5G7QI4QIwhSmKZqmTSZTbm9ayRLulquLTp29/N/5qyzLMgwz4OeuH20tIaRB7eojBvddvGqz+Vdz5cbda7eCZFZSQpBSlW65+ZZYLJo3fdRHA1MAAMg/MIoNwPeDx+ONH/5rw7rVzUcwxoigNKWKSwCJMa4R4O/u5pzXmhOTUoIfP8MUhTHCFKXV6Z+9eHXi1PnDJ868ehOVOa6K2rVs5OfjZT6ruLtbRd93DzO2pSYIf2HGnw8ihPB4dEVfL4wxprBSpZYrlCaWtQwf/XzL/Tl7gkQsMp/i6uLUr0dHy1REGGPMozGPhyjs4+3pX8Er65Us1K8dIBa9W5SDKYoghKlPSifOXYuiqcmjB//SsxOfYczD2YQgRZoqTaky54YkhMispAtnj+/ZpS3Ke6J1AAD4WiCCBOD7wUVCW1cv6NWlnTDbHk40TbdoUu/vpbPF4jxPnvMo5nps99qBfbs4WCw9wRSFM9MWMgyvQ+umC2aNe7fpC0ISiXjy6MHOjvZZWoIx5jP5OAAiFAhWL57ZoVUThpf1KjRNNapXY9eGJb7e7/ZowRhTGI8fMaBH51Z0tpivoq/3umW/cxsW5KZGVf+BP3fNfjkew/v0fb1tbGTLF0xd+PuEYjmF+NxG4f4VvDev/uO3X3vyaB6kMAMAFCIYxQbg+8ENJZcoXmzjynk9f2q9Y9/xh49D09M1DMMr7u7Wq0u77p1b8Wi6dvXKpUp4IIQQIh7FXCmL9JClSxRr0awB13NGUdjR4V1O8vJeZdYsmT18cN9/z1y+duvuq4i3arWGECSRiLzLle7ZuW2bFg2lEnGWTaFaNW1wfPffqzfuuvfoiVqjYXg8F2fHNs0bvpuDiFGtapXt7TICU1trK0Eue9vYWFu1aFLXYDAhhAgh3uXe7ZeNMa7kV95gMmGEEUJCAVO2dImdGxYdPPrftr3HIqNjDHqDUCjw8izVrWOr9q2b2NrIsm9eZS2zWrdsTu3qVfcdPhkZE2cwGmUSaZMGNccO61/c3a1KRR+WZbkxbolEJLQIlBFCfD7zx8xxvt5l9x09FRkZYzAaRCKhj5dnj86tS3i4Zr5QUqtGZWdnR+6hvZ01834YzfUvjhzSt3Wz+nsOnfzv4vXo6Di1RktRWCIRlytd8qf2zTu2aerkaJ89dnRxcjD/4liWdTevbcrkVbZUy2YNuBN5NP0Zf0UAAIAl/BkbzgIAijguPCKEpMgVarWGYXh2tjbc8OgHOq5yfDbHgyzLyhVKjVZDWCQRi2xsZRjhD1ZOFGlKtUZL0zwba6vPyNfzGbuVcqcYDIbkFIXBaBAKBPZ2NhRFfaAq7im93pCSKjcYjVZSiY11rulystSTcTmjUa5IMxhMIqHAxlqG8efvs6rT6xKTUjVaLYUpiUjk6GhH0/Sn/44sD8JerwCArw4iSAAAAAAAkDcwDxIAAAAAAOQNRJAAAAAAACBvIIIEAAAAAAB5AxEkAAAAAADIG4ggAQAAAABA3kAECQAAAAAA8gYiSAAAAAAAkDcQQQIAAAAAgLyBCBIAAAAAAOQNRJAAAAAAACBvIIIEAAAAAAB5AxEkAAAAAADIG15hNyCDRqONiUuIT0yKiIyJio6Ni0/S6fUIoeRUuSpdg7+4fobhuTg5YIwpinJxdijm4lSqhIezk72rs5NMJsX4y68AAPj6CCGqdHWqXJEqT4tLSJLL01LlCkQQQSQ5RcGy7JdfQiwSSqViRBDDZ2xtZI4Odk4OdtYyK3s7G4Zhvrx+AAD4LhVmBEkIUSpVgfdDTp27cv32vYi3sYmJyYQl6P1w7quEd4SQbIeQra2smKtz1Uq+zRvXq1uzirubC8YYokkAChf3aU1OSX0c+jLoweNXEVHJyalqjTZ7yXy6OdAUJbOSOjraVfD2rFKpQplSxSVi0de6HAAAfB9wDqFV/mNZNvxVxIHjZ3YfPPEi7LXJZEKFF7oRlkWEOLs4tW3esG+PDjUC/AV8PnxVAFDwCCEGozHs5ZtL1+4E3g9JSZVzn8RC+TwSQgghNE25uTg3rFO9Tq0qbi5OFAUzfwAAAKGCjyAJIXHxiRt2HNiwdX9MbHwhBo5ZEEIQIWKxqF2rxhNGDKjkV56m6cJuFAA/EJZlX0e+PfrP+dtBD7VaXdEZEOBCSVsb61ZN6rVoVs/OxrqINAwAAApRgUaQLMtevRU0fvqf9x89JYQUwbsw9244OdpPHj14SP8eYpGwsFsEwA9Bp9OfvXTj4LHTqfI0VCTHi7lbVqkS7v17d67o601RRa6FAABQkAougiSEPXjsv+ET5yYmpRTBrwdLhBA+nxnQt+viORMkYnFhNweA75xOp9+x79ipc1eMRlPRvznIrKSDfu7aoG71It5UAADIV/Ts2bML4DKEkGP/Xhg0akaqXFH0b7sYY5Zl7z18kqZKb1inOsMUlRXrAHx/DAbjjr1HT/53mS2S4xJZYIx1On3wkxeuTg4e7q4faLBCody65/DtwIdeZUsJhYKCbCQAABSAAoogL18P7D14vFyRVvS/ISzdvR/M8Jk6NarC9HkAPoNOr4+OiTPojWKxMMfPvsnEHjh66sjJ8wQVwpK+z4Mx1hsMwU+ee3mWcnK0y+2etnT1lnHT/jx9/qoqXd2sUR2ahnsIAOC7UhA3tejY+FGT538TvY9ZsCxZuHzjmQvXCrshAHx7NBrtzD9WVmvcpX7b3q/fROVY5kHw06Mnz32VtI4FCWOsVKX/vXVvSqoitzKJyamYohDGW3cf/vfspULJegEAAPkn3yNIo8m0dPWWkKfPv7nwESGEMVZrNDMXrExOTi3stgDwLUlXa35ftHr52m2JSSnPnr28HxKavYxckbb7wAmtTv+N3hyi3sYe/edcbqHh8EG9S3oUQwipNdrp8/56Gx0LQSQA4HuSvxEkIeRJaNi2PUfz9Sr5CmN8/9GTrXu/4ZcAQAFTpaePnjp/6eqtBoMBIeRTvmyNKhWzlCGEXL1x91UufZPfivNXbubYvUoI8Sxd4vepIxgegzF+EvpywfINRqOx4FsIAAD5JN/7ILfuOZyakvot9jGYYYy37T6iUCizP6XT6SfNXtKo3c+7DhxH385ELgDyj0ajHTvtz807D5tMJoSQZ5kSuzcs8XB3zVIsXaM5e/H6N7F6JjcYY7VGe+7yzRyfIoR069i6U9umhGUxhbftOXr1VlDBNxIAAPJJ/kaQ8QlJR06cRd/+MpTQF+EXr93Ofjwk9MWKdTuu3AgcOWn++cu3YJQK/OC43sfNOw9xabirVvI9vH1VpYo+WYoRQh4/CYuKif92w0cOIeROUHByijz7UxhjgYA/b8boEh7FCCEarXbs1D+TYD4MAOB7kb+x3fXb96Oi4771LwmEECFkz6F/ss/3L17MtUxJD4RQqlzRf/iU23cfQhAJfkyEkMSklJGT5m3acYj7pNQIqLR/y18Vfb1y/FDcCrzPdVJ+0zDGyanyhznN8uR4lioxddxQhmEQQsFPns1dvPY7eNUAAIDyO4I8fup8vtZfYAghdx88zt5/4ORov2nlvGKuzgiht9Fxv46Y9jj0BQSR4AeUmJQyaPSMrbuPcOFjzWqV9mxcUqZU8Rx3n1Iq0x8/e4m/i21dWJZ99PhZbsvJMcZ9e3Ro17IRwghjvHnnof/OQ24HAMD3IB8jyLQ01b1HT/Kv/gIWF5f4POxVloOEkFrVK29cOc/Oxhoh9OxF+K/Dp0ZERRdGAwEoNEnJKQNHzTj+73luM+u6taru3rikdEmP3DYvjY1LSE6RY/Q9RJAIobDwCK1Wl9uzIqFw/vQx7q6uhJB0tXrq3OVx8UkF2TwAAMgP+RhBxicmRX/785w4XA7h7AExN1++ReO6KxZOFwmFGOOg+4+HjJmVmnuWOAC+M6lyxcBRM/45fYH7ODRtWOvg1r9KFXfPLXxECL2JijZ8RwuTU1LlH5jgSAjxLld6ypjBNE0jhEKePl+8cpPJ9I2lwAQAgCzyMYKMiIpJU6ryr/4CRlgS+vxV9hFq7juyR+fW82eMZhgGYXT2wrX/TZzzPb12AHIT9TamW/9Rx//NmK/SrHGdnesWuzg7ocyPRo5evYmivou/LRG3z6HeEBuf+IEChJABfbu0alofIUQIWb9t/4UrsPAOAPBty8cIMiz8Tf5VXggwinwbozcYcngGYx6PN3xQn4kjBzAMgylq/+F/p81brlZrCr6ZABQMQsibiLd9f5t4/vItjDFFUS2a1N3x9yJnJ4ePxkbRsQkF08iCYTQaEz+4yJpbl71k3iRuznS6Wj159pKExOSCaiAAAHx9+RhBvo54lFalNwAAIABJREFUm3+VF4rYuESDIdehN4Zhpo4dOqDvTxRFEULWbdm34K8NH5gdBcA37U3E237DJl25fpcLH7t3ar197UIXJ4cPDF5zdHqDUqX6Pua3mCWnpH40bi5XpuScqaN4PB7G+EHwk8UrN8NYNgDg25WPEeR31s2AEEpITvnwrhIikXDR7Ak/tW+OMTYajYtWbNy4fT9sRAG+P0+fhfceMv7qjSBu6Uyfbu3XLf/dydH+o+EjQkin06nV2oJpZ4FJlSs+ZVS6509tOrZpSghBGK/ftv/y9RyyzAIAwDchHyNIrU73PXUzYIwNBsNHvySsrKRrFs2sX7saIkSvN0z6femBY6dhwhP4noQ+D+8+YNStwIfcB7znT21W/jldZiVFH5z7aGZi2dxy33yzsMFg/OiHHGMsEglnTRzm4uSAEFKlp0/+fVlKKuQYBwB8k7753WIK1KfFgQ4OdjvWLazs74sQ0mi0wyfOhQxw4LsR+vxl9wFjHj8NQwhRFNWnW4e1S2bJZNLCbte3gRDiW77sxFEDeTwaIXTv4ePFq7Z8d/E0AOCHABFkHhBEPnHeUnF3t13rF5UvVxohnJqqGDR6+jXYEhd84wghwY+f9Rg4NuTJc4wxwzAjh/RZt2y2TGZV2E0rbBixLIs+YaiBG/Qf3K97s0Z1uDXaazftuXztTgG0EQAAvi6IIPMAY0zT9KcMSRNCfLzLblm9oGRxN4xxdEz8oFHTHwQ/LYBGApAfCCHXb9/7qd/I4MfPMcY8Hj1qaN/5M8aKxaLCbloRQBBFUeiTJ+1IJOI/Z45zcXZACKUpVZPnLIN12QCAbw5EkHn18YUCKDMDXM1qldYt/93B3hZj/Dzs9eBRM8JfR8KcSPAtun47qM+Q8S9fRWCMKZoaM+yXuVNHiYTCwm7XN4kQUrGC99SxQ2iaxhjffRCydM1WI+yXDQD4pkAEmV+4QLN5o7p/LZgqEgkxxkEPQoaOnfWBvSsAKJpuBT7oM2RCZFQsxpjh8WZO+N/sSSOEED5+Lu7m8GvvLs0b1SEsQYT8vXnPjVv3CrtdAACQBxBB5rueP7WdP300n88gjM9fujl84hylKr2wGwXAJ2FZ9vL1Oz0Hjo2MikUIMQwza/LwKWOHQu/jlxOLRQtnj3d2skcIKVXpk2YvlsvTCrtRAADwqSCCzF9cZ8PwQX0mjBjI7Xl48Nh/42cshO1qQNHHsuypc1e6/jI6IioGYywUCmZPHj5x5ECGxyvspn0nKviUmzb+N25d9p37ISvWb4dZLgCAbwVEkPmO2/Nw2rihQ37pxn1VbN51aM7itXq9vrCbBkCuWJb9579L/YdNTUpOQQhJxKI5U0ZNGDGAB+Hj14Mx7t+rc7OGtRFCGKHla7dD0gYAwLcCIsgCIhQK/pg5rmvHVgghk9H019ptS9dshe1qQNHEsuzxUxcGjJjGhY8ymXT14pljh/0C4ePXRQiRSiVzp412crAjhCjSlJNnL0lJkRd2uwAA4OMggiwghBArqWT1ohlNGtRCCOn0+j+Wrtt14AQMWoGihmXZHfuP/Tp8SnJKKkJIKhWvWDCtb/cONE0XdtO+N9wslyr+vmOG9acoCiF0517wqo07Icc4AKDogwiygHBfFXa2NltWza9exQ8hpEpXj53256mzVyCIBEUHazLtOnB8xMS5ijQVQkgqFS//Y+rPPTpy8Q3IDxjj4QP71KsVgBBiWXbFup2B94ILu1EAAPAR8K1Q0Dzc3bb/vaiCTzmEUKpcMWj0jJt37n/qhokA5Cej0bhj//FhE+aqVGqEkKOj/d9LZw/o/ROEj/lNKhUvnTfJ3s4GIZSaKp8wa1GqXFHYjQIAgA+BL4ZC4F2u9KYV80qX9EAIxcYl9Ptt8oPgUAgiQeHS6/Ubtu0fOWmeSpWOEHJytN/019w+3Tp8+lYr4LMRQqr6+04ZM4SiKExR12/dW7FuB4xlAwCKMoggC0eNAP/1y+e4ODkihMLfRPYfNuXlq8jCbhT4cRkMhsUrN4+dvpBLVurs5LB55fz2rZsQ8kmbMIEvhDEmCA35pXvThrUJyyKElq/ddjPwQWG3CwAAcgURZKFp0qDW8j8mW0klCKHgJ88HjJgWn5BU2I0CPyKj0bR41ea5S9bqdDqEkIuz4+aV81s3bwDhY0HCGEulkgUzxzo42COE0pSqaXOWK5Wqwm4XAADkDCLIwtS9c5v508fw+XxCyNWbQb+Nm5WmVBZ2o8CPxWg0Llu7dc6itXq9ASHk4e66b/OyNs0bYowhfCxghJDKFX3GDuvHTTy9fufe31v2wUo7AEDRBBFkoeG+nv83sNe08UN5PB5C5Ni/FybMWATb1YCCQQhRazRT5y2fMe8vrvexZPFiuzcsaVCnOoFZuYWBi9p/+7VXneqVEUIsyy5auenufViXDQAoiiCCLEwYY4qiJo4cOGJIX67XYdPOg7P+XKnV6Qq7aeD7p9Zops//a9nqrXqDASFUqoT7rvWL69UKgMHrwmVjLVswe5y9rQ3GODkldcrvS2FdNgCgCIIIspBhjIUCwe+Th/fr2QkhRAhasW7H0tWwXQ3IX2qNZurc5SvX7TSZTAihShW892/9q07NqhA+FjpCSO3qVUb91o/rkrx84+66LXtNJliXDQAoWiCCLHyEECupdOHscW1aNEQIGQzG+Uv+3rbnKOTyAPkkTamaMGPRmo27ufDRz9drz+ZlAZV8IXwsCrjAcdSQn+vUqEIIYVl26Zqt9x89Kex2AQDAeyCCLHzcd7ajg/26pbOrVfFDCGm02vEzFp46B9vVgK9PqVSNmDj37y17uT9RfLw8925aWr5cGS50KezWgQwymXTh7PHWMiuEUHKyfMrvS7g8nQAAUERABFmEFHNz2bV+cXmvMgghRZpy4Ihp128HQRAJvhZCiFyRNmLSvB37jnFHKvl579/6l693WfhnVgTVCPAfO7w/xhhT+OK1O2s274ZfEwCg6IAIsmgpW+b/7N11eBRHGwDwmd2zXJKLuycEd01wdykOxb24FncJbsWllBYKbaFQpEBx9wAhEEiIu9slOd/3+2MhX0hCCJDL3l3m9/D0Kcfd7nt3u7Pvzc684/77/k0ebs4IoaSUtOET570IfMN1UISBSM/InDZvza/HT7N9jS2aNjx9dFfNat7k5rVuoihq2rhhrZo1YhPHTTsOPX8ZxHVQBEEQ75EMUrcAQN1a1X7ZtdbezgYhFBkVN+yHuSGhEVzHRei9+ISkkZMWHP3rDMYYAFo3b3x030Z3V2eSPuosADA3l/gtmWVlYQ4AqWkZC1ZskUrJvWyCIHQCySB1CzuIvqVvw92bl7FDoILeho6eujA+IYnr0Ag9lpiUMmrKgvOXbyKEAKBVs0a/7d3g4uRA0kddxn41TRrW+WH0YLba17XbDw7+doLcyyYIQheQDFInYdyrS7u1y2YLhQIAuP/o+eS5K0lNOOLrJKekjZm28MqN+wgAIdSpXYuj+zc6O9qjDzkKocsoipo5aWT92jUQQhqNZt32/YFBIVwHRRAEQTJIncT2RE4YMXDR7Il8Pg8h9M/5q3OXbZTm5JLuB6L0ACAqOm7k5PkXLt9GCFEU1b1zm9/3bXR2dCAHkh6xsjTfsHKOqYkxQig5OW3Bis1kXjZBEJzTYgZJYcqQrlIAgBFGqJz6bDDGFE3Nmz526vhhFIUxxgd/O7Fi/U65nCxXQ5RWaHjUoLGzLl6+xf4m6dW13S87/KysLBCnvY+4vE6i8qTVzxMAWjdvMn3CcHZe9sVrd34++jepF0sQBLe0mEHa2lhqb+OcsLCQ8Ohy7bUVCAQrF0wbOaQPmwFs3/vr5l2HyHI1RGmEhEYMGT/n4ZMXmKIoCvfr1fnA9tVs+sgtoYAvFAq5jqJsgcTURHuZMXv6z5o8qmmjegAADLN6056Xr4O1tDuCIIjS0GI+JDE10d7GOWFsJGbHs5frTo3Fm1bO6965NUJIrdas2bxv/69/Ael+IEoUGhY1ZPycJ88C2eRj3IgBB7atsrI05zouhBDi0TQ7NsOQGImE2u7VtbAw81s220wiQQilpqX/uGRDbp5Mu7skCIL4NC3mQ24ujtrbOCfs7aw5ufKZm0n2bVnp07AOQlihUCxYsfnU+SsIGc4IAaJsBQYF9x0x1f/Fa4QQxnjkkN4bV/wokejKLzq+gG9qIjakIS4IIUtLc20PDACA5j71J44exO7o+p2Hh47+rdU9EgRBlECLGaSnh6v2Ns4BQM5O9nw+n5Od29vZHNm3oWZ1b4RQtjRn8pyV128/MrBrMPHtACDg1ZsBo2awtzhpmh45pPd2v0UmJrqSPrIc7W25DqEs8Xi8cujfxRhTFPXjtDGN6tVCCDEMs37bvtdv3ml7vwRBEMXSVgYJAK7ODkZGIi1tv/xhClf2dOdq/gEAeHm4/bZnvae7C0IoKSV17LRFT569JEkkkQ8Anr8MGjhm1tuQcIwxn8ebNmHYdr9FJibGXIdWmKuzoyEdugI+397Wunz2ZWlhvmbpLFNTE4xxXELyolVbc3PzymfXBEEQBWkrg8QY29tauzo5aGn75Y/P49WtXZWrvbPriNSrXf2XnX5ODnYIoYjI2LHTl7wNCecqJEKnAMDte08Gj50VHBKOMebxePNnTVi3bLYOpo8IIU8PF5qmuY6ibACARGJiY1VOEwcBoE3zxhNGDmT/+u+VW4ePnTKkdJwgCH2hxbvY5maSmtW9DaNpAwALC7PqVbw5jIFNIpv7Nty1aamFuRnCKPB18JhpC2Ni4zmMitAFAHDt1oPB42aHhEZijHk0vXDWhIUzxwsEAq5DK56DrY2FuYTrKMqMl7uLSFROs8sxxjRNz502tl6tagghtVrtt2Xf6zfvDKOlJQhCj2h3ZnGH1s2Qocwarluzqo01x5VQ2Hm1Pbu0W7d8tthIhBB68PjF5DkrM7OyuQ2M4BAA3HnwdMSk+QmJyQghPp8/Z9qYBTMn6HLFHDMzU3dXJ8NIejDGNapWKucuVRtry7XLZrPDhOITkpas3a5QKMszAIIgCHr58uVa2jQAmJtJjp08nyeT6/viaRjj6T8M921cj+tAEEIIY1y3VjVE4XsP/TUaJiQsMiYusVPbZjrb4URoD8Mwtx88HTJuDrtyupGRaM2SGQtmjBcIuJnyVXpqteaRf4C+twwAYCw2Gj7oO3YV+/Lcr4ebc1a29MHj55iiQkIjXZzsGtStWZ4xEARRwWmxDxJj7Onm3Lp5E6T/PQ32ttY9u7TjOor/o2l63rSx08YP4/N5GKM//v534cqtMpmc67iIcqXRaE6duzxo9My4hCSEkLHYyG/JzJkTR/J4ul5tEWNct1ZVa0tzfe+GxBjXql7Z0cG2nN9I/r3shvVqAgDDMMvX7Xr1hqyXTRBE+dFiHyRCCGFsbWV+4swltUajxb1oGTDMuBEDBvTuynUgH6FpuoVvg8Tk1Ocv3zAM8/xlEMZUsyb1DWaCAlEyhmFOnLn4w6xlqWkZCCFjY6N1y+dMHjtEXw4AI5EwKyv7TUi4XndD8nn06GH9nBzsOHkXxsZiD1fnsxevKRTKnNzc2LjE77q1N7xq7QRB6CbtZpAYYycH2+cv37wNCdPT6wQA2NvZ7tm83NJCJ9bzKIjP57dq2uhdRGTQ2zCGYR75B1iamzWqX0tPP2qi9IBh/jx9YdKcFZmZ2QghSwuzrWsWjhnWn8fTj/QRIYQxtrW1uv/ouUxvR7kAQL061fv27MRh1u7u6pSZmf3wyQuEcXhkjIuzQ4M6NbgKhiCICkW7M2kAQCgUzps+ztxCX29XYYxnTx1VydNNN+OXSEx3rl/SslkjBCCXKxau2nLq3GWugyK0i9Ewf5y+OPlD+iiRmGxft3jU933o8l20/ds52Nl269iKovQyfUQImRiLv+/XXcDRKgMsmqZnTxldrUolAFCp1Ws27gkNj+QwHoIgKg6t90ECgLOTvVqtvnP/KcMw+tXZAADdOrVeu2SWQMDX2chNjI1b+ja88+BpYnKqSq2+fudh/TrVPd2cka4GTHwLtVpz8MiJyXNWSnNyEUJmZpKd65cMG9ATYaSzh+inYIzd3ZyD30Ukp6RxHcuXAQCaogb37dbMpwHnH7uJsdjJ0e7MhWsajSYzW5qSltG9Y2vdHwtLEIS+w+XTtSaTycfPXHLsxHnd7MkrFiCoX7vGHz9v8fZy5zqWkgAAxvjFy6CBY2a+C4sCADcXxz8PbW3coE7ZXtsYhlGr1WW4wYoDY4rHo7/96wCAw8dOT5m7Mi9PhhCytrLc6rdg6ICe7DFQFpFyID4hac3mvdGxCXr0FjDGHdo0HTe8v0Ag4DxsAACGmTZ/9a6DxzFGNEUd+Gn1iMG9OQ+MIAjDVk4ZJEIoIyNr0o8rTvxzkWH0I4lsWK/GoR1ra1avrPuXZzbC2/eeDJ0wJyYuESFUrYrXiV+2Va/q/RWRA0C2NCcjMzsqJi48MiYxKSU5NQMAlCpVRkYW0ulPQkfxeTwLczOMsZFIaG9r7exkX9nL3cba0sLcTCj8ghpMAODbYeAj/wCEkLOT3aEdfu1bN0NI/3of8wEAwjg8Inrrrl+iYxN0v+McAGiaatvSd+zwfmIjI67D+b/EpJROfcew66G7ONlfOf1LFW9ProMiCMKQlV8GiRDKzs5Zvn7n3kPHZXKdHjuPMW7Xynf3pmXs8EddDjUfG+f5SzdGTJqXnpGFEGpUv/apIzucHe1Lv4XklHT/gFeXr9978OR5ZHRcVpZUo9FoGAYYQAgQwiR9/HrsiYYxRVE0TQn4AkcH28qV3Du2btampU9lL7fSFAAHgFUbd2/eecjWxnLf1pVtWvggfU4fWWwTFBefuOeXPwJf63o9GoGA371j64F9uhoZiXStcbh49Xa/4VNlcgUA9O3R8ff9m4TltVIOQRAVULlmkAghpVL55+mLy9ftiIiKLc/9lhJbBX3qhKGzJo0yN5Po2hXiswDgt+Onf5i1XKFUAgO9urc7efinz46IYhgm+F3EkT//+fvclbCIaIZh8o8K/Xr7eoT9hNmP10xi6tuo7vgRA9u28pGYmpT8KqVS+fZdhIWZxMXZwcC+Hak0569/Ll6+fk831yAAACdHu2EDe/k0qE3zeLrWOACARqOZsdBv14Hf2WqR+7etHDWkL9dxEQRhsMo7gwRAGKPY+MRtu3/9/cS5lLR0jUajCw0xxsjUxKRbx1azJo+uX6c60s/kia0tvG3PbwtWblKp1D6N6t48d6SE+6QMw4SGR2/dc/jPUxcyMjIxRaEP3Zl8Hk8kErk421tbmltamFMUJRTw7e1syvHdGA6FQpGUkg4AMrk8PT0zPiklOTlNpVYzH9b8ZD/z+nWqz5o8qleXdmKxkT4eft8OAILfRZw8+19A4FuFUqkjWRrG2NrSvF0r387tW1hamOtIVMWKT0jq2Gf067ehGGNnR7trZ37V8WHcBEHor/LOIAuKjI49c+HauUs3Al8HZ2XnKFWqcg4AAPg8nomJ2NvTvUObpgP7dqte2YumaV2+QpSGUqncdfDYi5dBUycMb1iv+IXOACA9PWvv4eM79h9NSkphc0eMscTUuHaNqs2a1G/Toom3p5u5uZnYSKT7S+TpDUAyuVyakxuXkPTkWeDtB0/vP34en5CkUCjZwgU0Tbdr5bt4zkTfRnUr4HRa9tTTaDQRUTG37/sHvHqblJwqVyg0Gg7KOPD5PLGRUSVP18b1azVpWNfSwqycA/hS7Kd39uK178fOzs2TIYSG9u95cMdqXV4hnSAI/cVlBsmSyxXxiUn+L14HvA5+FxYVHhmdlp6pUmlrzi8g4NE8iamJu5tT1Uoe1ap4NaxX08PV2cTEGH1ogrW06/IEAABAUVSx7wgA7j30X7R62+0HTxEAxpiisIeby8DeXfr06FitspeRkYiTsCuI/C9Fo9GkpmVcv/3gyJ9n7zx4mpMnY4dLWphLpowfOuOHkbqftWhD/ueTlydLSEwOjYyOiU2MT0hKSk2XyeQMA1o6RQEhPp+WmJo42Nk42dt5uDt5urtamJvp0Sov7F2I6fPX7P75GAAIhYID21YNHdjLMJo1giB0CvcZZP7VAgDUao1Go8mTyXJzZQhpJTBASCQUmpoY0zTN49EUpWdFmL+dUqk8fOz0snU/JSalsp+8g53NxDGDhw/q7exoT1HYYNJoPZKXJ7v36NmmnT/fuPNIrdaw2X/XDi23rFlA7kIihBiGYRhGo2HyZDK1WotLpIqNRHw+n6YpiqLy2yW9Ox1i4xI69B799l04QsjLw+XSyZ8rebpxHRRBEIaG+wyyEH1sr/WIQqHY8NPBNZv3srdNaZru1qGV39KZ1apUIh87V9hjHgDkcsWRP8+s2LArPiGJfaRaFa/Du9c1rl+b6xgJvcEeTn+f/e/7cXNUKhUwzIjv++zftlIg+IK6UQRBEJ+lixnkB+//Wkadkfh9hoQRhd8ri83qE7VavXLDrjWb97Kfr4W52eI5k6aOG8oX6M1NOsPGXvuDgkNnLlx79eZ9dp6Nm6vTqV931K9LFjtGH7cNCMqosizGCGMMCGG2mdD/xoGdlz1h5tJDR05iiuLR9JF9Gwf26cp1XARBGBTuM0i2VLU0JzcqOi4iKi4+MSkhMTkpOY2dWJOemZWbK/v2Bp3P49naWGJMURS2tbGyt7V2crBzdXH0dHM2N5OIREJ9v2Z8llqt3r73twUrt6jVagBU2ct937YVrZo1Rvo569xQsUlkVpZ05Yadu38+zs5HrlW98vGDW6pX9a5oXxQDoJArMrOkkdGx8UkpCYnJaelZKWnpCCGGgZTUtPzJ7N9CLBabSUwAIRGfb21taW9rbW9n7exo7+JkLxYbcbvs9beIiY3v2GcMey/b0835yj+HPd1duA6KIAjDwWUGqVAoo2Pjr99+eP3OQ/8Xr5NT0vJkcg07I7vgpbKsLpv57xQAAaL4PJFIaGEmqVOragufhp3aNq9cyd1Qq6gwDHP42Kkpc1fJ5QoAqFmt8u/7N9auWZWMGdBZKpVqy65flq79SaVSAwO+jev+8fMWVxcnruMqJ9Kc3HdhUTfvPn7y/GVQcLg0J0ehUKo1moKrf5fVoQuA8m90sO2hQMAXCYV2ttZ1a1Zt7tPAt1FdB3sbvh6mkqfOXR42YW6eTIYQ+r5f90M7/ci8bIIgygo3GaRSqXrkH7DrwO837j5KS8/UqDUIc9MTll/Y2cRY7NOo7rjh/Tu3a2FiYmxgedWte0/6j5yekpqGMXZzcTp2YLNv47okfdRxSqVy2dodm3b+rNEwwEC/7zof3rXW2FjMdVzalZUtvXzj3vET518GBbPLqyCOusnZ++U8Hm1tad6mhc/QAT1qVa+iR/OyEUIqlWrq3FX7f/0LIcTn8/ZvWz1i8HdcB0UQhIEo/4riEBoetWrj7lPnr+TlyXQniWE/Bx6P19ynwbJ5U1r4NqBpmuugykZCYnL3gROevQzCGEtMTf44uKVzh5ZcB0WUikwm/2HWst/++AchRFGU39JZc6eN1ZFTpsxpNJrb959u3X34eeAbjUaDdGZ8BdtMmRiLe3ZuM3XCcFdnB64j+gLRsfEde48ODo1ACHl7uV87c9jFSZ/iJwhCZ9HLly8vt51pNJq/z10eOn7OnQdP1Wo10pkrBPowgh4AIqNjT5y5pFYzDevVMIDZi2q1esmabWf+vYYw4vF465fPGTKgB4AOffJECfh8XgufBncfPYuNS0QIPXn2ql1LHydHO67jKnvZOTnbdh9esWFXVGw8+nA+ch3Ue2wkSpUq4HXI5Rt3XZ0dPFyd9KUQmJnE1MbG8tylmwzDpKVn5uTmdW7fktaT4AmC0GXll0EqlMpNOw7NWOiXlp6pO9eGojDGarX69v0n4VExrZs1EouNuI7om1y9eX/usk0aRoMQGjH4u+XzplAUrcufP1EQABgbi+vVrnb+v5tSaY5CoXgXFtmvZ2cDWyUoOSVtztKNx06eV+vGGqefgjHOypZeuXlfYmJSo5q3XtymAICq3p7B7yICg4IRQkFvQ2tU9a5W2VOXP2eCIPRCOWWQarV6/bYDKzbsVKnUetFyAcDrN6FhkTHtWvmK9XaBlpzc3B9mLQuLiEYIVavsdXj3OnNzM734/AkW2y/uaG9rJBRcuXmPYZi4hGQvD5d6tatzHVqZSUvPmLHQ7+rN+3pxZGKMVSrV/cfPTE2Ma9eoQtO63pmHMaYoqmG9mucu3sjIzFJrNC9fBffs0tbMzJTr0AiC0G/lkUECwO8nzi1YuZmtYq3t3ZUJ9sr9NiRcKs1p39pXT1coPvHPpe37jiCEhALBtrWLfBrV1ZfPn8jHfmU1qno/ehoQFhnDMEx4ZMzA3l0NY+VJhUK5bN2Ofy/f0qMjE2OsVmsePX1ZydO1SiUPrsMpFXMzU3t7m7MXrzMMk5qWni3N7dqhle6nvwRB6LLyaEHehUUuXbM9L68MyjqWJzaJPHjkxOnzV7iO5WvIZPJ9v/zBMAwAtG7epGfXtvr1+RMFicVGi2ZPNBKJEEJvQsIuXr3NdURlAs5evHbq3BXOq9J+KYyxTC5ftWlPZEwc17GUCgD06tJuUJ9uAIAwPnrizJkLV7kOiiAI/ab1DFKtVq/ffiAqJl4f0xeMsUqlXrLmp8SkFK5j+WKP/AMePXuJEOLzeWOH92OTD0JPAYBvo7rNfOohhNRqzaHf/5YrFFwH9a2SUtK27zuiVKn0tHGIiU3cvudXdtq4jsMYC4WCZfMmu7s5I4SUStWi1dti4xO5josgCD2m3QwSAJ4FvP7r9EVM6d8VgoUxDg2P3HPoONeBfLE/T11QqdQIobq1qnVq14LrcIhvgjHmC/gzfhhJURTG+MmzwOCQcK6D+iYA8OepC+GRMfqYPrIoCp+9eP1ZwGuuAykVAPB0d1mzaIZQKEAIhYRGrFi3U8UyaMvPAAAgAElEQVSu4EAQBPHltJ5B7jx4LCcnV6t70TZMUYePnUpITOY6kC+QnpF57fYDto7dd13bmZoYcx0R8X8ajUYuV7B/srKlmVnZ7J+sbGkJy/QBQDOf+t4ebgAgzZZevnFP727+FpSSmn7s5Hmuo/hWcoXi0O+n2FoHOo7N1Pv16jywdzf2/4+eOHvu0g2u4yIIQl9pd4JIdGz8f1fvlNmyhNyJjU+6dPX2qKH9uA6ktF69eRcTm4gxMhYb9ejSlutwKii5XJGZLc3IyEpMTolPTImMik3PyEzLyFIqldnSXEAII5SRlc3WRkUI0TTdulnjH6eNsTA3K7o1jLGZxLRLx1bBu8IQRV24cmvW5FF6UVCmKAC4+9A/Ji5BfzsgWQDo7kP/mNhEd1f9WHBSIOAvnz/l/uNnoeFRcrli2dodjevXdnay5zougiD0j3YzyLsPnyWnpGL9r17LMMzpf68OG9ybpycX7PuPnskVCoyxt5ebl7uL7qz9Y/Ck0tzImNjgdxGP/V/6v3gdm5CUkJgsk8kBAcMA+rD60ac8ehqQnpm1Y/2ST62e16G170/7fwMG3oZExCcm6+n6IgBw6dpdhgFKb8e3sDDGGZnZdx481ZcMEgA83JyX/DhpzNSFGg3z6k3Ium37t65dyNfPchMEQXBIu63GmX+vGEAHJOvJ88CUlDQHe1uuA/k8tVod8CqYTVXq1qouFhv4SsrcAgCGYRISk18Evvnvxr1bdx9HRMfmZOciCqPiVl0qOZVnGOb3v85OGj24ds2qRf8VY1ytSiVLc7O09Mzk1LTomAQ9zSDT0jP9X7zSl2VdSsYwzJ37Twf37aYXNb/YEhMDe3c9e+Ha3+cuY4wPHf27W6fWXdqTlU4JgvgyWmzyMjKzAl4HG0bXF8Y4PT3r9dt3epFBKpWqNyFhCGME0Kh+La7DMVgMwyQlp9579Oz0+Ss37z6OT0hC6MN6fF9baQ9jrFAqw6Nii80gEUIOdjYOdjapaRmg0QSFhDbzqf/V8XMoLDI6OSWN6yjKzMug4DyZTGKqHzW62XnZa5fNfvL8VXRsvEwun79sY6N6taytLLgOjSAIfaLFPoC4hKSYWMOpFqFSq588e8V1FKWSJ5N/KD+Ea1bz5jgagwMASqXqTXCo3+a9HfuOGTRm1rET5+ITkzFFYYr6xp9MAGAkEnm4OX/qCTweXcXbEwEgjN+FRn7LvjgUEPhW9WH0p77DGKelZ0bFJHAdyJep5Om2cuFUdnnMoJCwKD0pbEkQhO7QYh9kRFQsOxRPe7soTwAQHBrBMIzu33pLz8hUKJUYY7FYZGVpRgZBliGlUvki8M2+w3+eu3gjNT2D/WzLcKQvj8cb0r9H9Spen3oCRVGuzg4IEKJwHNvrqYfehoTr/nlUenKFIjI6tlb1ylwH8gUwxgN7dwt4FXLmwtVG9WtV9f7kIUcQBFEsLWaQoeFR2ts4J2LiEpQqlUgo5DqQz8jIzGIrQRqLxcZiY5I+lgmGYZ4HBG3Zffj85RtSae773PGrPluMsbHYiH2tSCQUCgQIIYqizCWmA/p0mTZ+GJ/P/9RrKYqytbZECBDC8Qn6VGGqoMjYeK5DKEsqlTo+Uc8WHQAAkUi4YcWcBTPHmZqYiERl0KwxDJOSlp6ckhYWGRsVFRuXkJSTm4cwTkxKUSh1qPCkSCiwtbHCCJsYGzk52Lm7OXu6Odvb2VhZmhvSDxuC0DYtZpBx8fraQfIpKSlparUa6XwGyTDv5/vSPFpfJo/rMgCIiUvYvPPQkT/PZmRmsZlfaXJHiqKsLc2dnezdnB2rVvZ0crS3sbJ0sLfh0bSxsfh9BikUshWeKQqbS0yNjcWfrfIoEAjYADSMXtaDlMnlUmmOYf2wwSkpafrV2c+GyuPxbKytvmU7AKBWq0PDo+8/fnb6/NW378KTklNzcnILzaHUqU+m8CkGYGJibG9nU9Xbo1e3Di19G3i6u9A0rVMxE4QO0mIGGWtwGWRyWoZapQelg4myAgDZ2dJjf59fv+1AVHRcycMcAYCiKJFQ4ObqVL929cb1azduUNvZyd7a0lz0JUtKGvx1Ky9PJs3J4zqKsoQxSkpNZxhGT8tzfh0ASM/IvHz93q/HTz98GpCVkYXo9yeIjldwK3yKYZybJwuLiA4Njzp/8bqFpXnTxvVGDenbpkUTC3Mzgz8fCeKraTGDVKnVhnTuYYw1Gg0gvez1Ib6CWq2+/+j5Er/tdx/6MwxT8kVRIjGpUdW7U9vm7Vr51KjqbW4mKbc49Q4DUMLSO3pKrQ+rY5eh9Iysv8/9t/vgsZdBwYyawRTGPBoAeDyexMTYzMzUzdnRzs7axNgYAVhZmpcwMKP8KZXKjMxsQCgnNzcpOTU6NiE9I0uak6tWqzFNZ2ZJ//3v5qVrd+vVrjZpzPe9u3cwk5ga0rWMIMqKHhQw0x0AyPCufERRAJCekbV97687DxzNyMwuebyjo71tp3Ytxg3vX6t6ZWNjMfpczXDCIDEVJoPUaDTXbz9cuWH3wyfP1RoNxhhTmM/nV/Jwae7bsHWzxjWreTs52hmJRDw+j6YohJAODi5kW3INw6jVarlMERkT9/rNu5v3Ht+5/zQiOk6lUjEM8/T5qwkzlh47cX7RnB+a+zTk8SpQBzNBlAbJIL8IkOSgIngVFDJt/prb958wDFNC7ujt6TZ6aL++PTt6uLnQBQpAku6KCqiCNA2ZWdnrtx3YfehYdvb7kaxGRqK2LXzGDu/XrEkDSwszHUwWi0V9SG15NG0kEllYmNWrXX1wv+7pGVm37j0++NuJW/efyuVylVp99db9J88Dp00YPnvqaDNTk9LvQqlUqdQqsZERaRAIQ0UyyC+AMa5Q45wqII1Gc/LMf7OXrIuLTyq265GdLeHiZD953JDhA7+zt7PRr/kThJbQPJ6BHwQA4VExMxeuPXfpBnvMUxTVqlmjRbMntvBtwOfz9fREKBgzTdPWVhb9enXu3rnNzbuP/TbvuffoOcMw2dKc1Zt2B74J2e630NXFsTSbjYtPmjh7eXxi8uIfJ/bs3FZfEmuC+CIkgySI93Jycjfu+Hn99gMKhfJT10Iba8sJIwdOGDXQ2fH9coL6eNUkiC8CAM8CXo+esvDlq7fsfDJXZ4clcyYNGdBTJBKy3a+GcSKw70IoEHRu16JV04a//H5qzZZ9CYnJCKF/zl0OC4/6eadfo3qfX+jrr9MXzl26jhAaNv7HRXMmTh03VCwmnZGEoSE/jAgCAUB8QtK4GUtWb9pTbPoIAEZGosH9ul/75/CqRdPz00eCqAheBL7pP3I6mz7SNNWlfcvLpw6NGd6fLURleInRh1qtokljh1w9fahL+5Y0RSGMA4NCBo2e+fR5IPrcmAXvSh5mElOEUE5u3qJVW8dOXxwbl1gxRjoQFQjJIAkCBb4OHjBqxh9//wtQ/MDHGlUr/bLT79BOv1o1qpCrAFGhvH4TMmLSvIioWISxUCCYPXn0H4e2VK7koae3rUsPYwwA1apUOnZg04yJI0UiIcY4PDJm9NSFgW9CSkgHAVCX9i0O717HLk8KAH/8/W+f4VPuP35O5mIShoRkkEQFBy8C3wwaO+veo2cYY4QKXxF5PPr7ft3//XP/gN5dhQLD7HEhiE+JjU8cPXVx4Ot3GGM+n7d07uSVC6ebmpiginEisEmkmZnEb+nMZXOn8Hg0xjjwdci4aYtLWBEKY0TTdK+u7f45uru5TwN2O0+fv+o7fOpvx/9RG8qK8ARBMkiiQrv/6EW/4VPfBIcVe+faTGK6edX8n3f4ubk6cRIeQXAoL082e/G6J89eYowwxhNGDpw9ZZRAoEOVHctB/uI9syaPmjjme/avj54GzFjoJ5crSn5h7ZpVTh3ZMXRAT3ZaXlJy6sTZy5et/SknN7ecoicIbSIZJFFBAcD9R88Gj50ZFhlTbG9KFW+PU7/tnDJ+aEW7ZBIEQkijYXYd+P3kmf8QQhij7/v32LBiLruiZgXEdsGuXzZ72MBeGGNMUX+f+2/b3l8/e1faxtrq4E+r1y6bLTE1RggplEq/rfuHTpgbGR1LhkUS+o5kkERFBAD+L14PHf9jdGxC0fQRY9y2pc+543vbtGyCKsbdOoIoCAAePHnut3UvwzAA0KxJg21+C4yMvmBxTsODMRaJRJtXz2vVrBEAIEDrtu678+DpZ1/I5/PnTh3z+/7NVSt7IYQwQmfOX+k6YPzNu4/IsEhCr5EMkqiIgt+Fj5qyICI6tmh2SFHU4L7djx3c7O3lbvBzBQiiWDm5eUv9tmdmZiOEnBzsdm5YYmVpwXVQ3AMAK0uLbX6LnB3tASArO2fZ2p+ys6UlvwpjDAh169T6zLHdndu1YLsw3wSHDRw1c9fB32UyWfkETxBljmSQRIWTmJQydvqSV0EhxaSPNDVl3JA9m5fZWluR9JGosP4++9/Nu48xRfF49PL5U2rVqEJuuaIPE2vq1Kq65MdJPB4PIXTv0bO//rlYyhdW9nI/un/j9B+GC4VChFBKWvqcJetnLVqflp5JPl5CH5EMkqhYlErlrMXr7j30L/bm9fTxw9Yum21qWlGmmhJEUVJpzk97jwAAADT3bTi4b7eSl4avUNjPYejAXs0a10MIqdWavYf+yMzKLuULLS3M1y+fs2XNAjOJKcZYpVLvO/zHwNEzQ8OjtR05QZQ5kkESFQjDMFt2HT7xz6VCl0MAoGlq+oTha5bMNBJV6MFeBPHPv9devH6LEDIyEi2YMd7Y2JjriHSO2Ei05MfJQqEAY/zi1Rt2pcdSvpbH400cNfDs8T1VvD3YR67dvNel/5grN+6SYZGEfiEZJFGBXLxye82WvUXrsdE0PXRgr9WLZ4hI+khUbAqF8tDvJ4FhEELtWvq0ataY64h0EQC0bNaoQ5tmAKDRML8cPalUqUr5WnZYZMumjS78daBX13Y0TSOMwyJi+g6ftnX34dzcPK1GThBliGSQREURGR07Z+n6nJzcoh2QfXt2+mntIrHYiKvYCEJHBAWHPn3xmi1eM2bY+3ULiULYz2fiqME0TWOMn754HfQ29ItejhDycHP+be+GedPHmpgYI4SkObnzV2z+Yday2Hiy/iGhH0gGSVQIcoVi+bqdb0PCi6aPTRrU2ea3gB37SBAV3LmL13Nz8wDA3dWphW9DrsPRXQDg26huJQ9XAJBmS/+7ducrtmBqYrxs3pT921a5ODkghNRq9dG/zvYbPu1ZwGuSRBK6j2SQRIVw/tKN4yfPF3oQAJwc7PZvX+Vgb0vaa4JQKpUPnjxnqxC0a+ljZWnOdUS6C2Nsbi7p2rEVYhhEUVdvPWAYzZduASHE5/MH9el66rcd9WpXZx985B/Q6/vJf5/7j9F82QYJopyRDJIwfIlJKUv8tilVqoIdkAAgEgo3rZpXu0YVRGZeEwRCGZnZAa+D2f9v37oZt8HoPoxxy6aNKD4PY/wmJCwxKfWrt9Owfq0Lf+0f0LsrTdMIobiExBET563Zsi83Lw8h8uOW0FEkgyQMHABs2nHobUhEoRwRYzxuxIC+PTtyFRhB6Jp3YVEZmdkYYzOJKdslRpSsdo3KFmYShFBSclp0bOK3bMrezuaXnX7L50+VmJpgjPPy5MvX7Rg9ZVFkdBy5Q0LoJpJBEgbu+cugX37/u+jwxwZ1ay6cOYHPJ2teE8R7b9+FKxRKhJCLs4OttRXX4egBBztbJwc7ANCoVEHBXzCZplhisdHCmeN/27ve090FIQQAf52+0HvYlLsP/UmhH0IHkQySMGRqtXrjTwfTM7MKPW5sbOS3eKa9vQ35cU8Q+WLjE0HDAIC9jbWJiZjrcPQAj8fz8nBFAAjjsIioMtgixr26tj97bE/blj4IIYzxi5dv+gybcvj4aaVSWQbbJ4iyQzJIwpDde/Ts7KUbhR4EgIG9u7Vr7YvI8EeC+IBhmOSUNIQRQsjFyZ7rcPQDTVMOdjYIIYRxfELyt2+QXf+wetVKf/2yffSQvjRNYYxT0zImz14xf8VmqTTn23dBEGWFZJCEwVIqlT/tPZKXJys0gcbO1nr+jHEURQ5+gvg/DcOkpKYjhBCAs6Md1+HoB4qi7GytEQBCKD4xpUy2ybZXVpbmuzYv27ByLrv+oVyh2Lr78JDxP0ZExZI7J4SOIBdRwmA98n/53/W7RR+fNmGYt5d7+cdDEDoNkObDYDseGR9cajweDyGEMdaU9VBFoUAwY+KI4wc3V67kwS5Nfu7i9W4DJ1y7/UBDCv0QOoBkkIRhUqvVB379Kzc3t1AHZJVKHmOG9iM/4gmC0AOAOrdvee747q4dWmGMMYXfvA0dMHL6jv1HZDI518ERFR3JIAnDFBIaef6/G6hQBR+Ep4wbamtjRYY/EgSh+9hhkd5eHkf3bfxx6hihUIAwysjMnrts0/T5a5KSv7ICJUGUCS1mkDyaNqSeHgCgMIUQyTz0AAAcO3k+IyOrUAeku6tT/+86k/SRWxhhyuC+ApoMqyW0g22vzM0lqxfP2L15uY21JUJIpVIdPHKi34hpb0PCDek6S+gXLbZ672eoGRArS3Mej+Y6CuLz0tMz/zh1HhVOU/DIIX1sbaxIg8stIyOhsbFBVYoBQDaWFuSXCaFVNE2PGtz71JGd1atUYg+2uw/9u/Qfe/HqbTIskuCEFjNIMzNT7W2cE6YmYtLToBdu3H0cFhlbqAPS1sby+37d2QHpHMZGCPgCoVDAdRRlC0xMjMlxRWgVxhgQau7T4NLJA727d6BpCiEUGR03aPTMzTsP5ebmcR0gUeFoMR9yd3XS3sY54WBvy+fzuI6C+AyNRnPo6ElUpKOxa/uWnm7OpAOSc3w+z9rKwpC+CExR9nbWJIMktI09xlycHQ/vXrtozkSJqQlCSJqTu3DV1vEzlsbEJRjSaUXoPi1mkIZWMAWQm4sTWQRP94VHxDzyDyh0ORcKBEMG9KRomlzmdUElDzdDutQJBXwnUkCRKEemJiaLZ086tNPP1dkRY6zRaI7/fb7v8KmPngYY0plF6DhtZZAAYG9nYyYxnBvZFE15e7pyHQXxeef+u56eUXgZw5rVvX0a1eEkHqKoKpXcDek6JxQIXBzJIi5EueLx6D49Op46sqNJg9oIIQB48iywz7Apf52+oFaruY6OqBC0lUFijB1srV2dHQzjOgEAfB6vXp3qXAdCfIZKqbpw+XahBwGge+e2JsbGnIREFAIA1ap4ikRCrgMpGwBgb2ttb2ttGG0doV8a1K155vieQX260TSNEEpIShkxacGqjbvJsEiiHGjxLraxsbhB3RrIUBpVB3ubKpU8uY6C+IzImLinL14VulVtYizu36szVyERhWCM3V2cHOxsDCblqle7upGRiAyQIMoZe8jZWlsd3rNu9eIZ5mYShJBSqVy1cffQH+ZG6sn6hwCgVKpkMnnBPwqFUi+CL2cMAzK5ouhn9S3bBAB5kW2qVKXqxtbuvJBuHdscPnZaq7soHxjjJg1qW1macx0I8Rm37j3Oyc0t+AgA1KxW2dvTjauQiKIkEtNG9WpFRscZQNZF03QL34ZkmXWCQ0KBYO60sTWrVZ6zZH1IaARC6J9zl8PCo7avW9yyaUO2e1JnAcD+X/88d/EGpt63BsBAmxZNfpw2lqb1vn0oWzm5eTMWrIlPTP7/Q4BaNm24cPYPX71NhmEWrtoS9DYsv9o1Rmj8yEG9u7f/7Gu1mEECQHOfeq7ODtGxCfp+ncAY9+nRSd/fhcFTqzWXr9/TaJiPvikGunduIxCQKVC6pXun1v/8e7XMlxIuZwBgY2Xp27gu14EQFR1FUd07tfZyd5k+f/W12w8RRQUGhQwYNWPHhsUDe3fV6YsXxmHh0Zev3Ub5P8MYxtXZARnMHcyyBE+fBwYGhRR4ANgi898i4NXb67ce5FdQxhj36vb59BFpNYPEGNvZ2nTr1GbPgd+Rnv+SqOTp0q6lD9dREJ+RlZX9+PnLQg+KxKJObZtxEg/xKRjjhvVrebg7vwuL0ulr2+dgjNu0aOxgbwMAev1GCAMAANWqeB3/eeuK9Tv3/nJcrdakpqYf/fPsgO+6lHBwKlXKsxeuZWbnFHywYd2adWtV037IH2CEClTqBYzJ6m+f9HFJY0BFls74qk0W3GzpmzLt3sXGGI0d1u/YiXNZ2VL9bV6BYUYN7WdlZcF1IMRnhEZGp6SkFyok7ubsWKWSB4dREUUBgIWZZFCfbqs37eE6lm8iFhsNH/wdRuSCR3CPbfqsLM03r55f2ct99eY9GZnZrZs3KfniyzBo5YY9ga/fFtzQr7vXlWsGSegnbY/dwXVqVh3Yp6uW96JFAFC1cqXR3/flOhDi8574v8yTyz96CKC5bwNTUxOOIiKKx64M1K9nJy8PV/0dLw8APbu0qVWtsv6+BcIg8Xj05HFD/G+eenX//PQfhn22+4bCGFNU/h8K4zLo1yIqAK2vsELT9NxpY6/dehAWEa133ZAAYGQkWr1kuq2NFdexEJ+hVqtv3X+KGEBUgcMM405tm5M7jDoIAGysLWdNGjlr0Tq5QqF3XxAAeLo5z5w4ksyhIXQNezY5OZAq94YHN6hTw+6jhAS8PTlbvUXrGSQAeHm4+i2dNWbqopycXP26TmCMfxg1qEentiQF0X1ZWdLH/i8L/XS2MDerU7Mq+e50EPuldO3Y6uHTgKN/ndWvbjwAMDEWL5o90ZkUEicIoryYmIj3bFlRaM1eDn/Eaj2DZK8T/Xp0DH4XsWrjbv2qld+nR8fFcyaSabx64dWbd0kpqYUGQXp5uLg6O3IYFVEyAZ8/f8a4mNj4G3cf61Giz+fz504b26FNM/LbkiBYACDNycvIzGRvKRiJRFYW5rpQJ5VhmIzMrMzsHKVSJeTzTE2MLSzMebxvrXCUk5uXkpauVCiFAqGFhaR8VuCjMBYJBV/xQgBIz8jKlkoVSrVQwLe2sjAxFn/7V6P1DJKFKWr+jPEKhXLjjoNKpYrzQ6o0enVtu2fTMksLUgNSDwDAg6cvFHkyzCtwSDPQqlkTwVedb0S5MTeTbPFbOH3e6jsP/fUiIRMIBHMmjxr5fZ9vvwgRBIdOnrn0+8lzACgqJq7g44DQ3p+P/XPhan45nS7tW4wbMbDYjQBATm7e7XtPTp2/8uRZYFpGhkKuQBiLRSIbG6uWTRv26d6hUf3aQqHg20/t67cf7Drwe6G7FTbWlgtmTnB3dSoaWJY059rNe3+evhjwKjgrW6pUqgQCnqmxsbeXe58eHbt1am1va/2pqELCIuYv31KwopCxWLxlzXwba8uk5NRfj5/+89TFhKRkhVIpFAhtrS3btfYdM6x/VW8PbfcIrtyw60Xgm4Jvc2DvroP6div2yQAgUyhu3X10/O9/H/sHZmVlK5VqoYhvZ2PdtUOrkUP6VPL4prWayyuDxJjHo5fPn+ri7LB83U9JyWnls9+vAABisdHIwb39lsw0M5NwHQ5RKhqN5r9rd9DHhXN5An6zxvUonc9ICDsbq71bV/ht2XfyzCW5QqnLSaSdrdXcqWP6f9eVpsnwR0K/RcfE/3P+Kvv/he7ePHgaUPCZVbyLL2ehUCguXb+7bsv+J89eajSaghVh0lFWTHzisxev9vx8vHWLJovnTPRpWIfH+/qU48GTFyMnz4+JTSz4oK211c87V7u7OhX68alSqa/dur/Ub/vTF6+BAYT//waTU9JDI6IvXrlVuZLHojkTB/bpKhQU08uQlyf79/INpVKV/4idjbVSpXr6/NWEmUufBbxGBT60hKTkgFdvfv/r3JolM0YM7v0tb/Oz7j969t/1u///O8M0rl+72GcCgP+LV/NXbL5z/4lSqfr/t5OFEhJTXgQE/XLs1KqF0wZ+IvssjXLKIBFCGGOapsaPGFC/drXVm/ZcuXFfrlCU295LAwB4PF7tGlUWzf6hZ5e2Wj0IiLIVE5f46s27Qo2gpbmkUf2aHEZFlJ65mWT14hk+DevsPngsOCyCYXRrWCQAiI1EbVv4zJo8smplL/0atUkQxcMYFVf8r5Q/4TIys5as2Xbo6N8yuQJjjIv0vbFVBhVK5X/X7jx88nz+jAnTfhguNhJ9cZwA/i+DRkycFxOb+P+akQC21lb7t6/sXmSiQp5MvmH7ga27f8mW5mKMMVXcG8Q4JCxy/IwlwaERi2b/IDYyKrpbtkZiwb8/8n85d8n6sMiYQh8Ru8GklNTp89eYm0n69OiovZ/BuFA9yE/UzgSAf6/c+mHG0riEpKLfDsYY0TghMXnSnJUhYVEFE+UvUq5JEsYYADWqX/v4z1suXbmz6+djT58HZktzdKHLQSDg16zqPXpo3/7fdbGxtiRXCP3y8nVwalpGoQOpbu3qNjZWenFjlEAICfj8Pj06NvOpf/r8lT9PXQyPjFGp1brw3UlMjRs3qDNi0HdNG9cTiYTkiCKIjIysqfNWHf/7X4ZhSj4d2H/Nys5ZuvanLGn2srlTRSJh6XcEAO/CIsdNXfQuLLJg+mhtZbF324qeXdoVOh+VSuWG7Qf8tuxVqT7TemCMFQrlxp8OGouNfpw6ls//TDokzc6ZMX91TFzipzaLMc7Nky1ft6O5b0M7Tuu3AKB7D/1/mPk+ffzU0zDGSqVy+57DRqIvT+sRQuWcQaIPxdPFRkZ9enbo0rHli5dvzl68fv32w3fhUZlZ2eUcDAAYG4vdXZ2aNqrXu3uHpk3qSUxNMMbkCqF3Lly5hQAKTsTGGDf3aVDs7QlCZwGAnY31hJGDBvXu9uDpi0tX7zwPfBMXn8h2cpRzMJYWZu4uTm1a+LRr5VOtipeA/35GHWkciApOqVQuX7/j+Ml/GfhM+pgPY6xSqTbvPGxvazttwudLVOZLTc2YMm/l88C3+S8AADMzya6NS3t1bY+K3H+/fvvh5p2HCqWPGGN7WxsTYyNpTl5SSmp+DxHGWKVSb9x+sKVvo2Y+9YFjxngAACAASURBVEuOKk8uz/t0+pi/wVdvQ69cvzd0YM9SvkFtkEpzlvhtj4svPn2kaRoANBoN252pUKoUXzs7hcMbtdhIJPJtXM+3cT2ZXB4ZHff2XXjg65A3waFxCckymfzzG/gqgJBQKLCxsqzq7V63VrUq3p6e7i6FZlGRK4R+yZZKb997UrCXHgAEfH4L3wYcRkV8BfzhtpqZmWmX9i27tG+ZkZkVHZsQEhr5JiQsLDImPT1TrdFobf8gFosdbK2reHtWrezp5e7i5GhHfoQQhsrN1bFvz04AcO3Wg2zpR6saNmlQx8XJPv9OXBWvj8ZBXr/z6MBvJwumjwAgEAhaNG3QrX0rdzdnpVL15NnLU+evREb/f44OxlitVvtt2duhTdPqVSqVIkCckyubvWTdlRv3McYIYXZHxmLxxhU/9u3ZuegY9+xs6Yr1u3Jy8woG5urssPjHSe1bNTU1Nc7Ozrl8/e6KDbsSk1LyW5vMrOxNOw81alCr5JOd7V3i83k1q3nXrlFVw2ieBbx+GxKu0XycRjPMzbuPOcwgAeDU+cu37z0plFvTNFWvVvVhg3rVq10DGObBk+e//XnmTXDYt2Q8OjHUz0gkqurtWa2yV+9uHRBCAKBQKrW1M0B8Po+mySRKwxESGhkeFVPoQVcXx1rVK3MSD/Ht8ts0C3Mztqgn+1e1WqPWaLEimEj4//tr5F4EYcAAoG+PTn17dFJrNA1b93n5Ojj/nzBGU8YNGTKgZ6Hns6eDTCbfsP2gLE+WP74QAOxsrTatmj/guy75xe8G9uk6Y9LIH5duOPHPJYZh8reTkpq+88DvOzcs+eycZZlMPm/lpqN/nc0f6AcAYiOjVYumjR7at9ipbNduP3z87GXB9NHJ0e6PQ9t8G9VlH7G2tPhh9ODKldwHjpmZmvp+4BOmqCs37gYGhTSsW9K4eQAwMTFeu2TWyCF9TIzFCKGMzOzVm3b/tO+IuuB4G4yfv3ytVqu5mkohVygPHjnBFGi+2MR3yrihy+ZNye8va9ms0cghfafPX/3X6YtfvS+dyCDRx91+GOOC7ThBlOzKjXuFSkRhjBvWrUEqMRkeHo8utxo6JH0kDFj+4a1Wa1ChYf+ANAVyvkLPf+QfcO+hf8HpKUKhYMPyuUMHFO51c3a03791lVqtPnnmv4LZzOlzl+dOG1u0/k5BKpV65cad+w4d/39QACKRcNGciVPGDS22D0ij0fx85GTBcZk0Tc2fPt63UV34OJ1q29J30ujvV23clf/avNy8cxevlZxBYoyH9u8xcczg/L1bmEtWLJjm/+LVrXtPCj4tJy9PJleYmnCTX4WFR718FVzogvh9vx5+S2YVGoFqZ2O1e/PypOTUm19bjldXMsh8DMPI5HKZXMEwgACUSpVKrf72lhxjykgkZE8CkUgoNhKRbkjDoFKpLt+4X/TxTu1akAzAwGg0GoZh3t/FBqTWaFDhS9/XwJhi+zMwwjRN83g0OXII4lOu3LivVCrzRw0BQKtmjfv37lzsk01NjVcvnnHnwdOk5LT8u8ap6ZlPngeWlEFifPPu48TklII3iGmanjNlzOzJo/j84tf4SE5JC3j9tuDJ62Bn27tHR1Skiwoh1P+7zlv3HM7JyXv/KEXdvPtErdHwPp0Y8Gh6UN9uhTIHE2Nxjy5t7zx4WnDyrVqlVqm+cnbztwt49VaaLcUF4rQwl8yZMrrYCUyW5mZzp4+7/+i56qtWe+E+gwSA9MysyKjYgMC3gUEhEdGx6RlZWdlStVqDEMrNkykUZXBHm+bRElMTjBBFYYmpiZnE1N3VqVoVrzo1q3m5u9jbWZOEUk/FxiW+DAoudMk3k5g2a1Kfq5CIssIwTJ5MnpUtTU1Lz8qSSnNlKpVSqVKxeaNSqYKyyCBpiubxaQSIoigBny8SCSWmJhbmEitLC1MTYyGpSE8QH2g0zL3HzwotHtuvZ6cSJvNW8nBr16rpsb/Oov/3eqr9X7zq36v4pBMhhDFmi5wXyvyqVfYs4XyMT0xOSkot+IipqfG9h/7FlgSWKRTmEtP8DBJjHB0bn5GRaWP9yTnUxsZid1fnoo97ubtiTAF81GvLYTGX4NCIQl9QzWqVvb3cix2WAwA+Deo4O9mHFylRVBqcZZAAIJcrnjwLPP73+Vv3n0RExcrl78tDaqkDID4hqVAACCGaR7s42teuXmVg327tWzW1sbbQXgCENtx54J/18Sx+AKjm7eFGFjPUWwAgVyjiEpLCwqJT0zNy82Ts2Vo+J2b+PE0ej2dqInawt/Vyd7GxseTzyOqmREUnl8vT0zMLnokUReUPUy4WRVGN6tU89sc/KH/gI0ByShqjYahPl+UverKr1erVm/a2bt7E0cG22Jckp6SrVWpcYJtvgsMGjp5RQmwF9yKV5ubkymysP/lkgYBf7BAaY7GRTmUMaemZBf8KAJU8XT+VeWOMJRKTSh6u4RExxdaVLBkHGSQASKU5p/+9svfQn88CXuf3h5dz3sbujtEwUTHxkdFxZy9e93B3Htyv29hh/d1cnDhcqpwoPWCYKzfvFZ4KB9CxXQuymKE+AoCcnLy3IWGhkVHZ2bmowOzscoshf18ajSYzS5qRmf02JNzayqJqZS9PN2eBgE9+YRIVlkKpyu/rYQkEfBMTcQkvwRhbW1qgjy6pODdXxgBDoS+4zmKM34SErdu2b8uahcVmclnZ0kI50BedqjKFouTC2hgXX7xb1xoEmVxRqA/S1MS45JeYGIsRAvTlKWR5Z5Aqlfrm3ccrN+66/8ifYaDYQvbljz0wIqJi/TbtPfrnuVmTR40c/B1Z0lD3pWVk3Xv8rNCDfIGgc7sWnMRDfDUAUKnUIWERAa+CpdJcjHWlXWZLeCSnpKWkpge/C29Qp4aTox35hUlUTEIB3+jj4XQKhTItLaOElwBASnoGYqBAughmEpOvOIkwRr8cO9W1Q+vO7Ytp4cVio2+5eQwAhrGSiImxUaHqyIV6JQthRxKir2pvyzWDzMnN27r78MafDkpzcgutzKML2IWJomPjZy1ae+32gy2r51fydOM6KKIk/i9excUnF6p65eXuUr2KF4dREV9BmpP74Mnz6Jh4hgGqyCpknGOPsaTk1Cs379eqXrlOzar5VUsIouIQGYksLc0LTW2+fd+/RdNGn3oJwzD+L16jgic1xs5ODp/NIDFGHds0D3j1NuFD7UaEUE5O3hK/7Q3q1rCxtiz0fHtba56Qr1H/v16svZ1N/16dSpmq8vl8Cwuz0jxTx9nbWhfMpDHGb4LDc3Lz2ApERaWkpr8Li/q6fZVfBpmbl/fj0vUHfj3BVkIvt/1+KbbL4fylG3EJiccObKlSqfgV5QnOscsPKBWKj7qxAZr7NpR8XCKe0HFZWdnX7zxMTklHundLqCB2XY0XL4NkcplPw7oCUmycqGBoimru2+DmnUcFu6z+OPXvuJH9bT8xByU8Mvb6rQcFny8Q8Bs3qP2ZPQH6rnv7Az+tPnD4rwUrtxT8l2cBr7bt+XXloun0x6tIODrY2VhaJian5D+oUqmmjBvq5eFayneny41P6VWv6l3odvSbkNAnz162aeFT7PMv37wXn5T8de+9nO7FKJWq+Su27D/812fX0NQdz14EDZvwY3RM3OefSnBBJpdfvfmgUN87pqkenVpzFRLxFaQ5udfvPEpOSdfB+xJFYYwBobchEU+eB6q/qv4FQeg4QCg3T/b/v358e7dD62b8Ah3wGOOg4NDte38r9nRQKJTrt+0v2IkIAE4O9vVqVSspAIAGdWvsWL/E0tx8wshBvg3rFFyHkGFg/+E//J+/KhgVxtjR3qZenWoFH0xLzzz611mMqWIBQExcIgDkP6L77c9nAUDNapWtrCwLfg55Mrnf1n3pGVlFnx8dE79h20FgvvL2fXlkkAzD7Nh/ZM/Px5giRUp1Gcb4iX/g5LmrsrOlXMdCFCP4XcS78MhCt7DtbKwb1CupKiyhU1Qq1d0HT5NT0vSu7X79JjQoOMwwBk4RFRmFMS4ybuTW3Ud5MplarVYqVfEJySFhkezjANCwXq2mTeoXPPIZhtm885fFa7YnpaRpNBo249RoNHEJSXOWrj98/NRHc7cxHjawp53tp+c8I4QA6tWpbmdngxAyN5csXzjd1NS4YBKZmpax1G+7NDf3ozdCUd/360F93DG5bc/h4yfPqdTqggEDQFZ2zvrtB5p1GrT/8J8qleH8FMQYu7s6NW1cD32cXl+7cX/s9MVhEdHqD1+QWq1+FRQyfOK8oLfvvrr5LY+72E+evVy7ZZ+O37wuFqbw+Us39h7+Y86UMWTsvE4BgBt3HhWqm4oAmjauZ19y20ToDAB49eZdTHyi3rUMCCEA8H/xys7Wyq6E+h8EofMEAr65maTQ0MbT56+mpGW4OjumpmUEBL6ZMWkEO6ALYyw2Es2ZPPrp88DcXFl+qQSFQrFh+4Fzl653bNOsamUvjVodFBx2+frd0IjogvsCAO9KHmOHD/hsVACQnwO1ad541JA+O/cdzc+JMEVduXn/8O+npo4fVjDs7p1aNfepf/v+0/zAsqW5E2YuvfPgaZ8enTzdnPkCfmpa+rOXQb8eP33/0XOGYWYvXpeZLZ0xcYRIKNTHhqgomqYmjh509eY9mVxRcK3F0+cuP3n2skfnNrVrVGEYxv/56wtXbiUmp37LbGatZ5B5ebLl63amZWTq73ezZecvPTq1rUYmZ+gSjUZz9uL1jytEIExR3Tu1JsXh9UVGZtaroBBg9HL5aYyxUql6+jywU9sWXC2ASxBlolplj5t3HuaPCMIYK1Wq67cesoWxMUUV6mrv3L7FlLFDN+08lN8xxP436G1oUFDI+2YZAH08LgUAzM0lW1bPd3Gy/6JF53k83pwpY67dfBAUHJb/IMMwa7fua9vCp2b1yvlhm0kk65bN6Tn4h9QPRSsxxjm5eXsPHT98/LRIKOTxKLlClZcnYwfUYYxlcsXytTuk0pzl86caxshmjHG7Vk0H9O766/HThR6PjUvcc+DY+1lNH76gL/ouCtFuvxoAXLv14NrtB/p4hWBhjJNS0jbvOsR1IMRHwiNjAj9eigYALMzNWvg25DAqovQYgNdv3+XJ5HrdOMQnJEfHJXAdCEF8k7atfKmPf3hjjDGFMUUV20HF4/HmTh83pH8PmqYLDUbENM1mZvjjYYUAIDE13bRqXuf2Lb40ZQEAFyeHxXMm8fn//6mGMU5MSl20emuh+pSNG9TZuGqemcS04F1vTFEKhTIzKzs1LTM3N69QABhjMzOJLhQWLCsCAX/Fgmk+DesWehxjjGmq4BcEAJUruXt7un3dgBztfmQMwxw8ckJVYpVOvfDv5VtRZEqNLrn/+Hl6kSJk9etUd3Gy5yQe4kvl5uZGROn9OQWAQt5FaDT6NMKbIApp28KnQd0apc8hAJClhdm2tQunTRhuVNxqy0WeD06O9nu3LB8x6Dua/uJ159nn9+7RsWfXdoUS1kvX7v556kLBJ9M0NXzQd1v9FtrbWRd6R0Xn6gGAmanpqsXTp00YzjegOwkA4Obi+POO1fXrVC/5aa5ODvu2rXT92iXctJtBhoRG3Lr3WN9Te4xxUnLq6fNXuA6EeA8ATp2/UvgWNsYd2zQTCj/fnBGcA4CY2ASZPndAsgAgPjElK6uYSY4EoS8sLcz3bl5Rv06NokOAKArbWlu5OH/0y5w9ay3MzTatmnv85y1NG9cVCviowIqgLLarT2JqPKhPt8t//zy4X/dPjfcostYLLro+ilDAXzl/moP9R0saqlSqNZv3RkZ/9FsUYzzy+z7Xz/zat0cHM4kJ29NWdKdCgaBN8yYnj/w0e8qYYvPgQo1TsQvSfOKp5disFbcv9i1Xr+p97vjeCaMGWluZF+oPRgjx+fyWTRuePb63hU9DQIVS7dLuXLtJ97Xbj7Iys7H+j0sDgLMXr08c873QIMZJ6LvomPhHTwOK3CIx6daxFYdREV8kIiqW6xDKAMZYrVZHxyVYWlpwHQtBfCUAqF+3xpXTv5y5cPXKjfux8YkyuVxsZGRna+XbqF63jq28PNyKXfUOY9yra/v2rZrefeh/4cqtwNchcYlJOTm5NE2bmUncnB19G9Xr0qFF7RpVeDzep25eY4TatfIVi0UF58TUr1Oj6JOrVvbctXGp/4tXHzX+CEVExbq5OOIC4zgRQtWqVDp+aFvg6+Dzl248fvYyOjYxK1uq0ahNTIyd7O1qVPPu2bWdb6O6xmKjYvNLayvLH6ePLVjmxshIJDY2KvpMNxfHBbMmQIFSM+ZmEpG2ltWFQX27NSxQbwQAmjSsU/R57IfgYG+7a+OyqeOHnbt4/f7j54nJqTKZQmJqXLmSR9eOrTq1bW5qYswwzMDeXX0a1S1Y871OjSqliUaLGSQAnLt4Del5B2S+gFfBCYnJ7q7OXAdCoLuP/JOT0wpVoKhRzdvdzeVbBgUT5Uaak5uWrsez6woCgITElFrVNWQKF6E7cvNkarVaYmpSmrOMfY6lhdmoIX2HDfpOqVBqGIamKQGfz/Ya/o+9sw5vYuni8Mxm46m7l0KBAsXd3fViF3cvUtxdLu4ULvbh7u6uxa2FurvFZbPz/bGQG0opBZomKfM+PDzNZuXsZnfmt2fmnINQ3kWTmQ2FQkGrZg1aNq2vUKrUarVarSEIgsNm83gcJjaFkWjfswRC2K5V43YFy+PbpX2LLu1bFGRNAACbJKtWKl+1UnmVSq1UqSlKQ9OIzSa5HA6fxwVfK85cuLs6L5wx/oeHQAj5lvReOGPc974toKkFAUIIABzQq0ueB/re5SUIolyZUuXKlFKrNWqNhqZpksXi8bi69DIEQQwbkEd0fEE6UwMqyLT0zI/h0cWjk4AQSiTS1+9CsYI0OgihU+eugdyDBrBNs4YCPs9IRmF+DrFE+lWmCTMnPTNbrdHwsYLEmABqlfrCtTtbdh5UqdRrl86oVvnn8uOSLBYpyO1pK6AMFfB5fN7nnDj6+qOwnvRf3g+Xy+F+cQoWrpchn10hhA6funjxyu3fn8hHQDh/ekA+8qMgZ8ThsH+qFmtB9mlABZmcmp6YnGK4/RcxGop68fpDp7bNjW3In05SSurjr4ewAQA8HrdDmybGMgnzs6SnZxrbhEKDSesjFkv5PPwCgzEmCKGomPjFq7YcOnFBqVQBGp04eyXP4WDDUeiqsdApSsNevf6w//AZyPptBUkQ40f09y5odcaiw4AKMjIqVqOhTPY2+gUio2O1WjxWZWTuPnyWlJKmvwQh5O/niyuYmxGZ2cUq9ESr1Uqk0h+U2cBgDAZCSCaTHzpxYfHKoNiERAAAhFBkKaxdo0px6oIxpoYBFWRYVIzhdm4U4hKSNRoKK0gjotVqT527lru6OkId2jTj4yFsMwEhJJHIilPHRtO0fh1hDKYooSgq+MXbhSs2Xb31kGkbWSxW9SoV5k8PaN6orrGtwxRnDKgg4xOKzxA2Q2papoaieADnizEaScmp9x8/z7VQKBR2bN3UKPZgfgGKotQas88Rqw+EUCZX4iguTBGDEEpMSl0XtGfn/uNZWdlMjmg3V8exw/sN69fDxsYK1203LgIB397B9vdLIrNYhGm6rgyoIBOTipuCTM/Ioiitsa34ozl/9XZyanquPD7+5X3LlMZD2GaDhtIWMwUJAFAoFFhBYooSpVJ55uKNhSu3hHyMQAgBCDkcTud2zWZPHl2+bCn9YoMYYzFsQI+eXdoUxp6gp7tLYeynkDGggqSLV3sKIUQAAYBf6YyGWq0+df567iFsLd2pbXOcpxODwfw5hEVEL1i+8diZq2q1mim1UsrHc/60sX91bMnDVRVMAwihq7Oj69cp0H8HE3xHLT5lfIoAhABNYwVpNN68//TwyctcDkgLK4u2zRua4KOF+aOg8XAhxvAghKQy+d7Dp5au+TcxMZkZthYJBQN6dZkxcYSrsyMeti7GmGAfhxXkTwBN8if8Q6Bp+uDxc1KJ9KvMCAjUqVHZr0xJ/LtgjEsxuP8gBNwv6eLkcrlxjTEjFAoFABAhZLAyJAAAgBCiKOpR8Kt5yzbeefCUGbYmWaw6NSvPnz62Ub1aBIGHrTFFDVaQPwMs0nKXGH1i45MOn7wIvq5DwyJZA3p3YbN/IksqBmMIikHPTRCEg70tAABAmJic9qPVMQAAQNN0Wnom8wLh4uxgoKMwdeTXb927c/+xHLGUGbb2cHMZP7L/4L5dra0ssesRYxSwgsSYB3sPnU5KStFP7o8Q8vZ0w+kqMJhCgSAIJwd7pvpxXHySsc0xD7RabUJSKgAQIOTu6mSIQygUymNnLi9ds/VTeDSjFHk8brdOrWYGjijj6wMhxHN4MMYCK0iMGZCQmLJz3/FvPcDdOrZysLfFDSgGUyh4uDoTJAshlJKWIRZLLC0tjG2RqaOhtBFRMQACQKNSJbwKd+cIoQ+h4XOWrr9w5bZao2Fcj35lSi6aOb59q8YcDif/etMYjKHBChJjBuzcfyw2PiGXA9LWxrpfz0649cRgCosSJTy4HLZSpU5ISknPzMYK8ockp6SmpGVACCFJlvIpNAWJEBKLpbsOHF+xfgeTvwxCaGEhGtznr2kThjk7OmDtiDEFsILEmDqR0XE79h7PVZweQtipTVO/MiWxAxKDKSzKlCphaWmhSE0XS6RvPnz08fYwtkWmzruQsByxBADg7Gjv4eZcKPvUaDR3Hz2bt3TDg6cvAUIAAJJkNahTfcGMcfVrVQU40SPGZMAKEmPSUBS1dM3WuISkXC2mpYVo9NA+v5/rH4PB6LCytKhYvsy11HQAwIUrtzu3bW5si0wahNC124+0GgoQROlS3r9fGB0hFBUTv3rTrr2HT0tlcgghgNDb021ywOD+f3cWiYQIIawcMaYDVpAYk+b67YdHTl7MtRAh1KNzm6qV/LADEoMpRLhcTtMGta/ffogQuvfwWWZWtq2NtbGNMl1yxJJrt+4DggA03aF109+sOyeVyY6curR83fawiBimdIVQyP/7r3ZTxw0t5eOFa8xgTBDswsGYLplZOQuWb/78Lq6HjbXlhFEDCIKF21MMpnBp06IBn88DAETGxH1bgx6jz+Pg1+GRsRBCkYVFkwa1fnk/CKFXb0P+Hhw4MnBeWEQ006pV9vc7tH3NllXzfUt644YOY5pgBYkxUWiaXr91z+Pnr3K1nohGg/t18ytT0liGYTDFFYRQmVIlqlb0AwBoNNT2PcdUarWxjTJRtBS1acd+rVaLEKpUocyvtUgIoewc8fL125t3HnTh6h2tVgshtLQQTQ8cfu3Urvatm5Dkb/k1MRiDgkexMSbKtVsP1m7Zw2Sn04EQKlPaZ+KogfilHIMpdCCEPB5vUJ+uD568RAjduvck+MXb+rWrGdsuU+TJ87e37j1hoqQH9+3K5fx0QRq1Wn3z3uMFyzc/Dn4FAAAQstnsJvVrzp8+tlb1ihASAA9bY0wb7IPEmCLhkTEBUxdJpNJcVbC5XM6cKaNcXQySuReDwQAAOrdtznjUZDL5ivXbFQqlsS0yOZRK1dI1W+VyBULIr0zJDq2b/pTUQwh9Co8eM2VR1/7jHj99ycjQUiU8N62Yc2Lfxto1KheLMpmY4g9WkBiTIy09c2Tg3PDImNyNMgRdO7T8q0NLI9mFwfwR2NpaB44eSBAEJOCl6/eOnb5kbItMDXT45IWrt+5DCEkWa9zwvkxdgwJuLJFIt+4+3LrbkB17j8rlCgChSCgYOejvqyd3DevfXSgQAOx6xJgJWEFiTAu5XDFl7oqb957knv6IUElvz/nTx/J5PFwEFoMxKD07t6lfqypCiKKouUs3fAqPNrZFJsSn8Oj5/2zUaCgEQM1qlf7u2g4UTPPRNP3k+euuA8aNm7YoKiYeQkgQsFb1Sif2blz/z6wSXu64XcOYF1hBYkwItUazeFXQviNnci1nxq/nTQvwLemNM/hgMIZGJBLOnzFWJBQAAGLiEyfOWiaTyo1tlEkgFkumzlsVE5cIABDweQtmjLW0+HHlHoRQRlb2opVb2nQbeu3WA62WhhBaW1vOmTrm4tF/WzSpR5IkwK5HjLmBFSTGVFCqVEtXbV25cSdN07m+ggQcPaR3727tsXzEYIoACGHDujUmjhnE5Di8cO3OjEVrlEqVse0yMiqVeu6yjWcvXmdmLk4Y2b9Zozo/HBJRqdSXrt1t1WXw/H82ZudIAABsNrtty4bXT+2eP20sk3ETN2sYcwTHYmNMArFEsmztv6s27qIo6tvx67YtGs2fHvCbCXsxGEzBYbFYk8cOefnmw/krtwEAW3cfsrW2mjphqIDPN7ZpxkGhVK5cv3Pzjv0AQoRQh9ZNZgSOyF/50TT9MSxy+frtR09dViiVEEIAgZ9vyemBw3t0bsPjcfErMcaswQoSY3xS0zKmzVu598gZmqa/lY/VqlTYvHJeQYaKMBhMIWIhEm5YPjsxOe3F6/caDbV07baM7JylswMtLITGNq2okUpl0xes3r7nKEVpAQDVqlTYsHy2SJTfdcjJkew+eHLN5t1xCUnMEksL0cDeXSaOHuTp4coswfIRY9ZgBYkxLijkU+TYqYtu3n0MvmlPEUKlfLx2rl/s9aXBxWAwRQZCyNvTfefGJd0GjAuPjNFoNEE7D6pV6qVzA+1sbYxtXdGRkpo+c+HqPYdOa2kaAMA0St6ebt9bn9ZqHwW/mrNs/d0Hz5gk4RDCWtUrLZkd2KBONZIksesRUzzA8yAxRoOitBev3e3Ua9SNO4++/RYh5ORov23twkr+ZYveNgwGw6icShXKHt29rkI5XwAATdP/7jnSrf+4T+FRxrauKEAIvQ8J+3tI4K4Dp2iEIIQVypU+tGNNJX+/PGc/IoDS0zNnL1nXtsfwW3efaLVaAIC9nfWS2RMuHdvepEEtHDGDKU5gBYkxAgihlNT0WYvX9hg4sWrcFQAAIABJREFUPuzbvI8AIIRcnBz2bPmnacPaCOEGF4MxJlUqljuxZ0O1yuWZj7cfPG3x1+DdB05IpbLimloLISSVynbtP9Hyr8G37z2FEEAIqlYqf+x/66tXqZCnExEh9Obtx6adBixbs00skUIIuVxul/bNr5/eMz1whJUlnoeDKW5gBYkpamQy+fEzl1t1HbJi/XaZXJFnQ1zCy2NP0PJWzRrg4R4MxhDIFYqXbz58ioj+NvVBnpQu5XN6/5ZeXduxSRIAEBuXOHzC3J6DJ9y8+1ihLG5Fa+RyxeXr9/7qHzB8wpzE5FQAAUmyenZpd+7Q1rK+Pvk0StfuPHj7JgQSBEEQFfx8d2xYfHDHmorlyxRXnY35w8HzIDFFh0qlfvrizZpNuy/duKtSqfNshRFClf39dm5YXKVSeSwfMRhDgBBavWn3ivXb7Wytj+/ZWL1KhYJs4u7mvG3tIv/yZdZs2p2WkanVai9eu3vnQXDLpvX79uhYv3ZVeztbgjBjrwRN06npGXcfPttz8NTt+0/kCiUzhdHR3nZ64Iih/bszCTK/1yhBCJo2qF2+QlmlUtm1Y6txI/q7uTp9+Qq3Y5hiCFaQmKJALlcGv3iz7X+Hz125LZXKwPeaVAjaNGu4ccUcH2+P766DwWB+j5CPERu27ZXK5FKp7ENoWEEUJPMwikSCqeOGNqpXc+aC1XcfPwM0kMkVp85fO3/lVumS3o3r12rbolEZ3xKO9nbmEq+NEJLJFUnJaaFhkReu3Lr94GlkVJyGogAAEEKCIBrXq7lkTmCNqv4FEMewSsVydy/upyjKztaGxWLhd2BM8QYrSIyhYAZuJBLprftPNv574P7jZ4zf8XuuRw6HM2JAj4WzxltbWeKWF4MxEBRFLVuzNT0jCwDg6eHaoG6Nn9qcIIg6NSqfORh0+OT5tUF7P4VHIYQoSvs+NPx9aPjmnQedHGxdnBx9fbxKeLlzuBzDnEThoFKqwqNio2Li4xNT0jMywRehzDRTZX1LTBk/rHvHVkKhoIDD0BBCJkO47qOBLMdgTAGsIDGFD0JIQ1FR0XFnL93cd/jM+4/hTKLHfNpTb0+3+dPH9u3RicUiAG55MRiDcfnGvWNnrzAOtvGjBpTwdP+FFzZLS9HwgX937djq6KlLh45feP76nVKlpmkaApCalpmSmvHqbQgwi8l/X9ol3f8CPq9GVf8+3Tv+1aGFjbUVox1xi4TBfIsBFSSfxytOniSEEIfNLjanYwgQQhRFJaWk3X/0/OT5a3cePE1PywQEzEc7IoSEAn6X9i3mTQso5eOF55v/CUAIiGL3HLEIApjDSWVl5yxeuYUZDahdvdKQvt0ABBD8ouV2tjajhvQe2Puv1+8/Xr15786D4JCPEWKpVKFQIYTM4oIwnZSAz7MQCf3LlWlYt1qLJvUrli/D43GZFXCbj8F8DwMqSEd7W8Pt3CjYWFuRuLDeNyCElEplYnLao+BXV2/eu30/OCk5laIoACFk5TdziMViVa5Qdur4oZ3aNuNwOAA31n8GJEmy2WxjW1HI8Hg80793EY227zka/PIdhJDP482dOqZQUszweNza1SvVrl5JoVSlp2eEhkXFxiVFx8cnJqZqCxbobSxYLMLVxcnL3bWkt4dvKW97WxudcMRgMD/EkArSofgpSEtcmlmHRqNJTkmPjI67effxw+CXbz98zMjIprRawIwL/WjWeUlvz1FDeg3s3cXWxgr8qgsEY46QLFYxe44QAlwex/Rff8KjYjZs28ek7+nasWXThnUKxVGoe/HjcTke7q4e7q4AAIQQTdMmPqYAASAIAr+4YjC/hgEVpIebi+F2bhScHe3ZbLOYOVo4DeLXY8owRyxOz8hKTct48vzN42ev4uKT4hNTE5NTtF9UIyiYE9HLw21I366D+3ZzdXFECGH5+GsghMz0ykEIhQJ+ajGa4kJAIODxTPxO1mq1qzfvTkhMBhA6OdrPmjiSJAtZx+v/oBDCYvaegMFgcmFAPeRTwqPY9BAAAICAh7sLU5PKxLGyFLHZpEIJpFKZRCr74fo0TaelZ8bGJ2XniHULxRKpTCZPTs3IEUveh4bHJyZnZmXniKXZYgmt0QDiv3iXAv7KHDbbv3yZYf27d2rbzMnRnllYrO6QIoEp58P87WS2E0WsLEXGNqEwIViEUMA3thU/4O6D4H1HzkCCQAiNG96vTGkfY1uEwWDMG0PpIYSQm4uTvZ0tkyKhGMAiWeXL+hrbigJhZSlivAtyhVIml+e/slZLHz55fu6S9SnpmSqVWrecUqsBjQCEAAIAIdCLhoEFdi0ghFgslq2NdZP6Nfv/3alR/VpMSl7ML0PTdFpGJoAQIORgtgrS3s7WTAItfgxCiCTZlqZds04ilS5cuVkuUwAIqleuMGpwr+IU5ojBYIyCoRQkhNDJwd7L3SUtPaMYtFMIIS6HXb1KeWMbUiCsrCytrSwzMrO1Gio2PrFa5e+mC0YIvXz9fty0JZlZ2bl+Jshigd8Yg0IIWVlZ+Pn6dGrbvFPbpqV8vNhsNg61/n20NB0VHQcgBDRd0tvD2Ob8CgghaytLNptk5j8UA6wsRAK+Saee2HPozJ0HwQACPo83Z+poGxsrY1uEwWDMHgOOyXK5nLq1qjx7+bZ4uBq8vdy8PNyMbUWBYLNJH2+PiKhYAOGrt6Fd2rfMZ+XTl25kZmQW3K2YPwghkVBQ0sezQ6smHVo3reDny+fz/nNeFos7wbgo5IqI6DgAAEDATAciIYQWIoGFSJCVLS4et4Sjgx2LxTLZc4mJTVi5cQfz/taxTdOWTeob2yIMBlMcMOysvvatmm7afqAYeJ4ghHWqV7a2sjS2IQWCw2aXLuV97eZ9AOGzl+/yX1ki+fFEyYLgYG9bplSJVs0btGhc18/XRyQSmmyHatZExiQwwktgIfR0czFlv1c+sNlsN1fnrGzxj1c1eQiCcHNxMtlfgabptVv+FxefBACwt7OZETiCx+Oa6W2DwWBMCsMqyGqVy/l4uYdHxZp7a8Visbp2bG1sKwoKhLBapfIsFotG6F1IWEpqui5y5Vsa1q2+ZccBSqst4G/E9D0kSQoEPA9XF1dnhyoVy9erVaVShbLurs5EvgkgMb8JQujZy7cSsQQQhLOTg5enm/k+WV7uriGh4bSZv14ihCyEwnyeL6PzKPjV7oMnEUIEQQzt161ihTJYPmIwmELBsArS1sa6Z9d2S1ZuMeuBbISQfznfBnWqmVHLW692NZFImCOWJCSlvHj9vk2LRnmuBiFs3azBoL5d9x05o1Sqcp0dQojNJtlsNosguFyOtZWFk6ODn28JVxenqpXKVyxX2tbGWijikywziE8vHiCEzl66yYTR1K9d1dLCXCOaIYSODra2ttZp6Znm8kzlCYSwhLebyaahlskVi1dtEUukAAC/MiUDRw8y66uNwWBMCoP3/QN6dt6591hyarr5tlwQwpGDe4lEQmMbUlAQQp5uLpX9/e48eErT9LEzV1o3b5jn9UcICYWCDf/Mbtaw9vNXHxD44hBCQCjkW1la2NvaONjbCAT8El7uFkIhh8MW8Hlm/T5g1kRFxz9+9orJ1t6uZWNjm/PrIIQ4bE65MqXuZQSbtROSx+WU8fUxzcYNIXT05MXrtx8xqRnnTBnt6GBnbKMwGEzxweAKsqSP56A+Xf9Z96+hD2QgEEK1qlX6u0tbYxvyE0AIeTxu+1aN7j0MphG6fONeVHScTwnPPNcEAPB43J5/teveuU2ur751SZpmT/nncOT0pfT0TAChu6tzvVpVzffnYCwv4eUe8ikiNc1c0zUghMqW9rG2sjTNRyMpOe2fdf9SFAUAaNO8Qee2zUzTTgwGY6YYfNYaQRBjh/ctX9bXTONpBHz+wpnjTDzZW550atvc2toKQpicknbk9KUfrk98zbc9De57jEtmVvbeQ6eYIezWzRuY8ty7goAQ4nI51SqVY5OkOTYOCCFbG6sK5Up/+65lCiCENu888Ck8GkJobWU5d8oYLpdrgnZiMBjzpSjiHlycHVcvnmYugcw6mLnnk8cObtaojrFt+RVK+Xi2b9UIIYQQ2rn3eHxisrEtwvwW+4+e/RQRDQAQioQDe3Ux95JxEEKEkIe7SwU/X7NTNkyC2Hq1qgr4JlqK5uXrD0E7D0ECIhoN6vNX1crmkcsWg8GYEUWhIBFCLZvUXzp3IpN0twiO+PsghEiSHNKv27Txw8y0q4aQmDBqoJWlBQAgIjp2w9a9xSaB8x9IZFTs2i3/Y/5u26JhzWoVjWtPoQAhhJCoUqlcqbymWJgsCCEOh123VlUXZ0dj25I3KpVq0aotWdk5CKHSviUmjRlEEDhJAgaDKWSKolmBECKAhg/osWLhVGbOUBEc9Ddhs9nDBnRfuXCqwOTL3X4PhFClCmUH9OrCfNy6+/Cd+0+NaxLm11AqVQtWbI6JS0QI2VhbTRk7lM1mG9uoQoPNZtetXdW3pJe5OCJ5XG7dmlVL+XiZrOv0xLlrF67chhCy2ezpE4a5uTqbRauLwWDMiyJ6MWWCAUcO+nvfthV+pUsWzUF/DYSQlaXFghljVy+abmkhMt+WF0JIEMTkgEGMg0cilQXOWpaQkGJsuzA/B0Jo/9Ezh09eYMIghvXvXr1KBfO9LfOEx+XWq12tWuUKHI5Jl75k6jE2aVjLt6SXyXr1UtMylq7ZqqEohFDjejW6d2oD8CRmDAZjAFjz588vyuOVLundoXVTqUwWFhmjUqlNrV0jCKJ+7Wo7Nizu1bU9h8MG5t/yWlqIbGysL1y9TdMoJTU9PjG5XatGxcmDVbxBCD188mLUxAU5YgkAoLJ/2aDVC4RCgbnflt/CYrGcnRycHezEUplMrjC2OblhcqOWLuXduF5NB3tbk73+CKG1m3cfP3MFISQSCbatXehb0huHYGMwGENQpAqSCVq0trJo37Jxi6b15HJFUnKaQqkybgPHHJ3H5dauUXnZ3EkLZ44z5fGpnwVC6Fe6REpq+vNX7wEAIZ8i1Wp1o3o1zXRy559GeER0z6ETY+ISAAC2NlZ7glb4lTFpF/5vYmEhKuntaWdjJVcqFUolEwdm9MaBy2V7e7o3qFPNr3RJLpdjLGMKwofQ8DFTF0hlcgBg/56dxgztA8z/NRiDwZgm0ChjRky7jGgUGRN34crtm/cev34XmpGZrVSqNBRVBO0dQojFYnE5bKFQ4Ffap06NKp3aNqtSsRyPx0WoGCbMTkvL6DZo/L2HzxBCbDY7cNSA2ZNHW1iYTY70PxCE0IvX74eMm/X6TQiAkMfjrlkyY+Sgv0FxFwRM40BptRmZWTExCSlp6VnZEg1FabXaIlOTEEIWi+BxubY2Vm4uTp4erhYWIgJCE3fmqdWawWNnHjhyBkDo5eF65/x+L0+3PNekKK1SpVIolGKJRKlUaWnE53FtrK2EAj6P992kPyqVWq5Qgi9fQgBEQiFJshBCCoUyOi4hMSnVr7SPm6tzrg0RQmq1JiMzKyY+USKRs9mks6O9u5uzSCiAENI0LZHK9OtbcjkcAZ+n+yhXKFVqte4jAaGFSEgQBE3T2TniiKi4rBwxhyTd3JzdXZxy2a/WaLKycqJiE8RiCZfLcXFycHN1FvB5+f+OlFarVKqUSlV2jlilUmtpLZ/Hs7G2Egj4/O9cH6VKpVCq9JfwOBy+3ll8voZqtVyh1H2EAPB5PBN/LcFgvodxFGQuNBoqO0ccHhkTGhYZHZuQmJwmFksMZ5ZAwHN2dPByd/Hx9ijr6+PgYMe0VibePfwyzHmFRUZ36z/uzfuPAACCIAb36bpy0VSzS7H0h0DT9P1HzwYFzIiMjgcAsNnk9AnD50wZQ5KsYnmL5gNFUQqlKis7RyKRSWQyhVxJ0QZMKcDlcIR8noVIZGkpsrQU8ThcptS7WTQOZy/e6DEoUK1RAwA2r5o3anCvXCtoaTo9PfNR8Kub9x69evsxLj4xRyylaRoARBAsG2vLsr4+LZvW69KuhYe7M4S5J3qeOn9txsLVusJVfB5337+rypUtefvu09Wbdz4Kfi1XKPZsWd7zr6/qL6jV6lv3nu45dPL+kxeZmdlaLQ0h5HE5/uVLD+3f/a/2LaVyRfcB41LTMnSbDB/Yc+KYQbqPKzfs3L7niG7iqZOj3Ym9Gzkczu4DJ3buOx4VG09ptJCAAj6/Xq2q40b0a9ygJotg0TT9/PX7HXuPXb/9MDUtQ0NRLILg83mV/f3GDOnTtmWjb3WblqYzMrIeBb+6fe/J8zfv4+KTmOuDEGKxCBtrq9KlSrRp3qBzuxYebs657oeXbz6MmjQ/O1usW9KgbvVNK+dyOf8dhaKoJau3HTx2VretjY1V0Or5lf398v1hMRgTxSQqGrPZpIO9rYO9bZ2aVQAAWq2Wpg2oayEELNZ/PbFOQ5t+D/FrMIn3fH289wYt7z9q2pv3H2ma3nXgREpa+prF00uV9Da2gZiv0Gg0+46enbVoTXJKOgCAy+WOGdZ7RuAINtskntYihsViWYiEFiIhAIAZ1Dbo4SCAkPivHTCjxiErO2fBis0qtQoA0KBO9T7dO3yrekM/RvQbOfV9aJharWGW6DeDWdk5kdFxl2/c+/d/R5fNm9S+VeNc0UIKpSosIoamaeajUMDXaKizF28OGz8nPSOT2Qv99Q+UnpG1YPnGPQdPS2Qy/cMplMq7D589ef7m8o17k8YMjoqJ109YK5HK9HeSnSMOC48CX4xRqlQZmdmLVgUdOXmR0huzUiiUZy/duP/o2caVc7t1bLXn0Kk5S9enpKbrH1euUN648+jxs9czA0dMGT+UTX71TIVHxvQcNCHkU8S31wcAkJUtjoyOu3rz/rbdR1YtntaqaX3d9WESX7RqWn/Ryi26eyYmPrF547o99eqZPQ5+tXbLbmZOMwCAJFnzegb4lysNMBjzxBTDCVksFptNGu4fSZL67YLp9w2/DyMiK/n7ndy3qUbVigAAmqbPXb7Vqc+YazcfaLW0sQ3EfCYjM2vynBUBUxYmp6RDCDkczqxJI5fNnsg3n1yqhUuuR5UwMPryEZhV47Bz//EXbz5ACAV8/typYyxEwm+Nd7C3zcoWq9Ua+AXdV7olCKEPH8OHjJv58MnLPA/037YQxsYnTp23Mj0jM8/CPBKpdMyUBVt2HpTIZHkeTqVSHzp+ftz0JRoN9a1J3zuuRkNNX7D60LHz1NdTnphvM7NzZixYvXTt1omzlqWkpud5XJlMvnz99gePXuR6pmytrXIk0jyvj25b5voMHD39YfAr/a8IgpgwemCDOtV1ayqVqsUrNycmfU5/IRZLZy5emyOW6PZcr3a1scP64SnpGPPFhLwaCCFmvICmabFERmkpAIBMplB9eR38HVgswspCBCAgIGFpIWKxWAQBIUFAs+okfgfmNEuW8Dy8c82QsbPuPQrWaukPH8O79A8YPqDHxNEDXV2cCeKPuBQmCEJIo9HcvPtk5qI1L9+GMLelpYVo/vSxAcP6MH0MhFClVmdniwUCPuOT+3NAX9BqaYVKCRAAACkUqkJR1SRJcrhsgADJIrg8HgSMOspPzZgaYeHRazf/DwKAEOrasWWj+jW/NR4hZGdr3bh+zf8diMs91/vr2d8QwvT0rBkLV188tj2fOw0CsPfw6fDImDwvFE2jHfuOnzh7FaGvPJ2M2IIA6LyVDx4/Bz/TDqekpZ+5eON7m0AI4xKSFq8M0mq139snhFAslmzcsa9B3Wr6As7B3rZJ/Vq7o3Nfn1zeXAhhalrGpJnLrp/5n/71sbGy/GfepI69R6VnZDH3z/vQiDWbdy9fMIUgiK27D99//JzZD0LI3tZm3dIZVlbmVy8Xg9FhZAWJEFKp1ekZWe9CPr37EPYhNDwqJj4xJU2uUNK0FiCg1mgoqhCmPREE5HG5AAIIII/HdbS3K+HlXsbXu0LZ0hXLl3Zxcfrh3OriAULIx9vjzIHNMxeu2X3wlFyhkMnkazfvPn3h+shBvXp1a+fi5ECSJvReUexBCMnkiqfPXq/ftvfy9XtqjYa5D8uVLbVywdQ2LRrqei+apqfPX3Xk1KUypbx3bVrq7elevO9YpnHIyhYnJKbEJyanpmdkZGRJ5QqNhmK+VlMUAIWgIAmCRbJYAACCgBw229rayt7OxsXR3t3N2dXZUSjg6096MUEoilq+YXticioAwM3Fadakkey8HmEIIYvFat+q8eETF3hcTglvdy8PN3s7Gx6Xm5GZ9f5jROjHCN3tBwB4+uLNrbuPO7Zt9r3jyhXKC1duf6Wu9C5STHz8mk27c8k4d1fnDq2b1K5RWSQUxMQnXrhy+/6j5yr1z6V1Y+Y4iYSCihXKWlmK4hKSQz9FMF5MvXVoAACPy/UvV9rB3jY1LeNdyCel6r9wHEgQj56+SknLcP26sFDn9s33Hz0j4PN8vD29PFztbW34fF5GZtb70HBmdJs5CoTw+ev3t+8/6dC6qW5bBECt6pUmjhk0d+kGxj+KEPp3z9E2LRtbW1qs3rwToc9XiM0m500PqFTBzyzm12Iw38NoWoGm6dj4xOu3H124evvxs9eZWdlqhQoQEHx5Pg169Iio2EdPXwCEWGy2laVFxfJl2jRv2LZlo9IlvZk0kMUV5sJaWlqsXTazcYNac5dtCP0UCSCMiomftmDVxu37OrRu2rF108r+Ze1srXMN92MKEYSQVCqLS0y+fuvhyfNXnz5/q1AoIEEwo5A9urSeO3WMt6e7fgeTnS0+d+lWckpaUnLqgNHT/7d5WQkvj2L5A2koKik59c37jx9CwxOT0xRKJU3TsEhaBoRQcmo649rksNlCocDXx6uCn69f6ZKWliLTzCJ+/c6jQ8fPAwBYLNb4kf3KlPLJR5c0rFtj9eLpdWtV8fH2EPD5JMkCANA0ysrO+d/Bk3OXbZDLFYz/TK3WXL/9sEObpt/bFUKIUZwEQfj6eNWtVcXDzaVi+dLMV+cu34pPTP5vWwSqV6mwbd2iyv5ldQuH9++xc//xWYvXSqXygv+yCCEfL4+gNfPr1arKZrMlUtn2PUfnL9+on2CYyf2+4Z/Znds15/I4SqXq6OlLk2b9oz/DMis7JyU1XV9BIoTqVK+84Z/ZtatX9inhIeDzmNdpZpLo7gMn5ixZr5OhWq324tW7+goSAgAJYuzwfncfBF+5eR8AACGUSGUzFqyyshClpmXqHJAd2zQb1Lcr+GNGwDDFFSPEYiOEomMTduw9uu/I2cTkVC1FAaMOGDFXAEJoa2PVvmWTgOF9Kvv7FXs/HEIIAhiXmLR6064Dx84xwy7MpeByOe6uztUqla/g51u1UnlPDxceL3dOCsyvQWvpjKzskI/hL9+EvHn/8e2HT2KJVCePCIKoWdV/csCQdq0acbncXDqApulx0xcH7TzEjOfWq111X9CKEt4exjubwker1UbFxt+8++R9SJhSpdI9m8ayhzGARRB2tja1q1eqW6uqrY2VsYzJk5wcSbuewx88eQEAqF6lwpXjO21trb+3sv71/FZlqtWaPsMnHT99GRKfw8+bNqx94ci/PB6XWeHg8fP9RkzR7zIQQkKhIHDUwNFDejk62DEjwsxMpK79x525cE23Kzsb60sndtSo4p/LJIrSTl+wavXGnVAvKmX+9LHzpgXo1pm1aO3SVVvgl+FmCOG6ZTPHDu+nW0Eqk3fsNfLWvSf/KUianjx2yD8LprC+7FarpQcHzNh7+LT+Wd+7eLBe7aq5LtH37jeNhvp7yISTZ6/qTqpOjSq3L+zjfFOg4c27j217DktMStUtYUbtmTa2pLfHxeM7SuMQRoz5U9Q6SalUHTxxbvHKoOjYBOZZhcZ+rde1FxmZ2XuPnD57+cbQ/j2mjR9qZ2tjXMN+jZjYhMfPX9es4u/tld8oJ9OWebi5rF48Y1Cfruu37jl3+XZGZhYAQK1WR0TFRkTFHjtzmSAINpstEvABflUuDCitViKR6Wb1gS+3H0mS/uV8A4b1+6t9C0tLUZ7+NoIgls2ZKJHK9h0+CyF48PhFv1FTDv672tMj75x/5gVCSCKRXbpx9+GTF0qV+nPjYGwPzef5Awilpmecu3LryfPX7Vo2rl7Fn3HdGR2E0MHj5x4/ew0A4HA4c6eOsbW1zkcD6ZZLJNKk1PSMzOzsbDGbTVpbW9jZ2Lg4OTSqV/P42Su69bNzJFptfpOIIISTAgbNmjSKw/6vHCWEUKPRhIZF6s8mrF2jcp45a0iSNbDXXzv2HBV/HX+dDyKRoFWzBvoXQSQUNK5f+9a9J7qFXB63VdMGLL3OhcUiWjapv/fw6f82pGmNlvr2jBBCMpk8MTktMys7K0fMZpHWNpb2NtbOTg7NG9Y9efoKE4AKIZTJZSqVKpeCRAj5ly89ffzwibOWUV+uHvqyZx6Pt2DmeF8frwKeLAZjyhSpgszKzpk6d+XugyeZyTFG7x5ywdiTnSNZuWHHo6cvt61dWK5sKWMb9XO8ehvSc/CETx8j69SpduPMHv4X50GeMOfLYhGVKpTduXFpWGT0oWPnz1+98y7kk1qtYfoDmqZVKpVKpcpnP5hfQBdS4OxkX7tapUF9uzaoU52pw57Pc2FhIdq4fA5FaQ+fuIAQevD4Zd8RUw5sX+Xh5lqUxhc6CKH4xOR9R85ExyYUzWj1z8LYk5KWsffw6ajY+M5tm3+bLLqIQQjFJySv2LiDEXntWjZq06xh/vcPQigpJW3PoZPHz1yNiUvIzpFoNRoAIYfLtbWxLOHpbmtjzSIIXTI1hUKZT2I1RiqNHzGAkVD6x5XLlQqFQrcEQli6lHeeszMBAE6OdpZWFgVXkJYioaVe/ApzFCcHW4IgdCqWTbJt7XL7Yp2d7PPfM0IoKSV976FTJ85ejopJyBaLtRoKQMjhcmytrbw93eztbYFeuKFSlcc0fUYpDu3X7dqtB2cv38wVgtO9U+tuHVtU58aKAAAgAElEQVSa2u2NwfwaRacgk1JSB42ZceXGfRPUjrmAEN5//LxLvzF7g1bUql7J2OYUlMjo2AGjpn0KjwYsIikpVfszEUgQwtIlS8ybPnbK+KFhETEPHj9//Ox1eFRsYlJKVo7YoOk5/yggABwO28nR3tvTvXyZkk0a1q5S0c/Z0QF8PcKYD5YWoqBV8wkID524oNVq7z163nf4lD1By7093My0mBJCKCwiZveB4xlZOabfMlBa7a17T8QSae+u7S0sREY0hqbRmi27o6MTAAT2djaLZo4n880YStPo7sOnY6cuevfhk27iEDM0rNFoUlIzklPSmaDs/8aC87cAoU5tmttYW34rWwkWkWtwSfn9t1CKouifSShGslhMmnd92F87AgkCfitY85/jjhC6+zB45MR5oR8jvrk+VEpaRnJqOkCoIINmEEIenzdvRsCdB0/1lbGNtdX0wOFcbn4v9hiMGVFECjIrK2fYuDmMfCyaI/4mEMJP4dH9Rk49vHNNlYrlTN/s1LT0YRPmMiVnuFzOiEE9BYJf8ZHwebxKFcpWqlB29NA+MrlCoVBm54jFEmlh2/uHwmKxHOxsBAK+UCBgMoT/Qs5qS0vR5pXzWCzW/qNnaZq++/BZn+GTg1bN9y9fxvRv1G+JiUvYtf94Zrapy0cGxsjnr95DAPv06CAUCIxlycOnL3bsPQ4JiBAKGNb3hwMm4ZHRgwNmRsXEf57GBwABgIWFSCjgEwRUqymJTKZU/sRoA5vDrlY577ZRwOfbWlvGfPEoI4RevgmRyuQiYR6X631oeBqTkNyohEVEDxw9PTo2QacRIQQWIr3rI5UplMr8d6KDpukr1+9LZHL9hTli8d5DpxbPnlDs59lj/hCK4j7WaDTzl2+6dP1uERyrEIEQhkVEj5u66OT+zY4OdsY2Jz8kEmngrGW37j5mBkaH9e8ROHrQr8WN6vcHQgFfwOfZ25nlfFBz4ddkk6WlaOPy2QQB9xw6DQB4+ORl7+GTD2xbWcncyqPliCX7j50zF/mog0nmYm9n3bldC6MEaMvlioXLN0llMgBApQplRw3u9cML+O+eo1HRcTp5xONyhvfv0bNrO083ZxZJisXS8MiYA8fPHT11SVd1Jn9IFulgl3fDSJKsqhXLv3z9QecXf/n6w8lzV/v17JTLzvSMrH/W/6vLkmNE/t1zNCYuUSd5eTzu0H49+nRv7+bqRJJkjlgSFhlz8OjZwycvFsTUuw+CV2zYrguSY9Bq6a27DzeuX7NVswZGP18M5vcpirbv+u1HO/cdy/UsmQUQwgdPX67etKuATapRUGs0i1cFHTl5kQnOaN+qyZI5gd+WfP01zO4n+3OwsBCtXzZ7cN+uBIuAEL4PCes9fPLbD5+MbddPQNP0lZv34+KTzPEmQwjdvPckNCzSKEc/fPLCrftPIYQcDntG4AhHe9v8s2oolKqb9x7p9BxCqFfX9quWTK9bs4q7m4uLk0MZ3xLtWjXu3qlNwQUxQUAeP+8BWQhhq2YNdKPqEEKVWj15zvKtuw5nZmYzCymt9sPHiMEB05lX3wIe1EBIZfI7D4L/u4Y06tO9w8qFU2rXqOzh5uLi5FDW16dDqyaD+nQryN7S0jNnLlqTnSPJdV4QwhyxZMaiNckpaYV+ChhM0WNwBSmVypau2SqTK4zeRvwaEMKgXYdevvlgbEPyhqbp3QdOrAvaw0xVrFHVP2j1PEujTs/CFBkikWDj8tnjR/Rjev0PoeG9hk78EBpubLsKSmxC0sMnL9DXBVHMBSZj4pkLNwo+sllYJCWnLl+3nang1axhnQ5tmvwwIZpEKsvKFOtlZ0TNG9f9dqZgfFIyReUOT84HAubdg0AIWzSu41++jP4kjbT0zHHTFjVq13fAqGkBUxZ26j2qSYd+5y7fNoVqnSqVKjMr+7/PELZoUp/3TSRiVEwcyDc4HQCg1dJrg/73+NlrnTvTy8PVycGemVUKIXz1JmT5uu0aTSHUWsNgjIthFSRC6OK1u4+CX5mpfGSQSGWrN+7KP6uFUUAInbl4Y/Kc5WqNBiHkW9J7T9Byl69LLGCKMRBCHo+3ZHbg+JH9mFmV70PCeg4JfPvhk+kX0dZqtbfuPZUrlObbOEAIY+ITX70JLcqD0jS9Ydu+sMgYhJCNtdWCGWMFfP4Pt4IQ5ErIFZeQrP+RCYfff/hMYd051tZWC6ePs7IU6YtILU2/Cw3be+jU5u37L169k5qWAQCwEAkLa8zkN4BfXx8Ul5CoP/SEEEpNy9i1/wTIt4w1QujqzXsbt+1jzhohJODzNqyYM296gF4GKPjv3qOXr98z+WcUg/kBhlWQKpV6y86DJqi9fgoI4cUbdz+GRRnbkNzce/Rs9OQFUqkcAODi5LBjw2K/0iWNbRSmqGFE5IRRA9hsNoTw3YdPvYdNevMu1MRFZEpq+ut3Ica24nehafr+42dqddH5k569fLtt92Em/HlQn7+qV/EvyA9tZSFydXb8b00IN27be+z0peTU9Mys7ITklAtXbvcZNvnpizeFKOhbN2+wYMY4K0sLfQuZHMBM+SUAgJWlaO60MblKCxZ9uk0Bn+fqpGcDhGu3/O/oqUvJKWmZWTmJyakXrtzuOXhC8Mu3+SdLik1ImrFwjVQm1yWlGtCrS6um9fv37NSmRaMv+RaAQqGcNHt5bHyi4c8MgzEghlWQIZ8inuX7yJkLYrH06OlLxrbiK96FhA2fMJeZT2NtZblxxZwGdaob2yiMceDxeAtnjJsUMJCp4Pzuw6c+wye/flekvrGfAiH0LiRMJvuJWnYmS0xcYkJS8o/XKwwUCsXSNduycsQAgNIlvSeNGVzA5GgcDqdzu+a6jxDChKSUfiOmNmjTq1mngfVb9eo2cNzdh8GF+3OQJDl6aJ9921ZU9vcjSda3SreEl8e2dYt6d2ufS4Jb6KV7LBr4fF7HNk2J/6KwYWJS6oDR0xq07dO888B6rXp1Gzj+9v2n+e9Eo6GWrtr6+l2o7jKW8S0xdfxQDpstEPAXzRrv6uSoS9oVHhUzY+HqfJIcYTCmj2EV5NWb92UFzhNryiCErt58IJcrjG3IZxKTUodPmPMxLBJCyOVy5k4d3aV9i2LQGWN+GR6PN29qwKSxgwiCgBC+Dw3vPWzS2/cfjW1X3mi12ldvQ4rBHQsh1FDUuw9hRXAsptj0xWt3AQAEQcyYNMLVxbHgnub+vTo3qFNdf0xZpVaHR8a+ehsSHZugUqkFAn6t6hUL90dhk2T7Vk2unty5a9Oyv7u28y9XulQJzzK+JRrVq7l49oRrp3b16NwmMysnRyzR38oouS8G9u5SQ8+hCyHUaKjwyJiXbz5Ex8arVCouh12/dlX0/ajKE+eu/O/QKd1HNpucPWU0U90eIeRfrvSksYMJvct76vzVwycvANMeK8Bg8sGA2XwQQpev3wfGLlpYWLwN+ZSUklayhKexDQFSqTRw1jLd7NIRg/4eO6xvMeiMMb8Jl8udPzVAo6HWB+3VarUhHyN6DZt4dNd6EyytlJmdk5SaXjxuWoRQWGSMRkOx803o/ftkZuUsXhXERGA0rFu9e8fW+VegyYWTvd2ODUsmzFhy7dYDLU2DrzMtuDg7zpw0ks1iPX3+Np+dQP004wU4NCPIHOzt+vbo2LdHR6lMrlAqSYJlYSHU5US8euuBRCLVpRnicjnlfjAb53s1G39WjH21Hwd7u/3bVgZMW3jjziOtls5VV9PFyWHa+GECgeDe/ad5dmqRUXFzl25Qq9W6AJrO7Zrr/0YIoWH9e5y/cvvWvc+x5yqVZuHyTfVqVcNFDjFmigGbvKTk1E8RUcWjk4AQKpXK4BdvjK4gVSrVnKUbjp6+xDTlf3dps2zORJKdX60FzB/C58CaWRMgABu27dNoqPch4T2HTDi4fY1/udLGtu4rEpPTpFKZUTIpGoKEpBS5QmHFtjDoUYJ2HWSyNVlYCJfMDhQIfhxAow8CoHQp72N7Nly5cffE2avhUbFSqZzH4zg62DWqV7Nbp9alSnjefRg8anAv3fr2tjb6UxJ9vNxHDumlk5BsDtvO1ir/g74LCfvwMbxlk3qWFiIWiyUSCvSTitM0HfzizZrNu/XTDHl5uLq7OevvpEbVCqOG9dV576wsLbic3JE3vj5eIwf/ZxuXy7Gxtsy1jrOT/eihfXQdEk3TLo5f1TksVdLr5N5Nl2/cO3X+2qeIaKlMzuNy7O1smzSo9VeHlqVLej8KfjlyWF9duW17extdLZxX70JaNq3Xqml95iNJssYO66dfBQdCKLIQrlgwZe/hU7oqXwig1+9CS3p7FJtnAfNHAQ033T745dvazbsXGw89QmhG4PClcycZ0QYtpV29edfMRWtpmkYING1Y6/DONQ72Jp3tHFP0KJXKucs2rN+6V6OhEEIVypXet3VFpQplTed17szF6+ev3C42vSZJkuNH9i9d0ttwh3j9LrR5p4EZWdlMBZq1S2f+TrgJQkgmk2soLckiuDwuU9j6hzW18/w2n620Wu3QcbP3Hz1ToVyZts0bNqxb3bekt0gkYBEsSkslJKZevn43aNeh+MRkqKcgJ48dunLhlILs/6ds+yn7EUIymYKiKIJF8LhcRgjmY0kBncE/5TPGYEwfA/ogw8KjabpYPTBhkTEURRmrIBVCaO+R0wtXbGHywFX299u+fjGWj5hvYQJrWCzW6k27KEr77sOnvsMn79+2snLFcsY27TOJyWnFqWXQUFR6RqbhFKRarV68Kig9MwsA4OPtOWnMoN+MVoYQir6JVsn/F/net/ls9SE0/PzlWxSlffXmw6s3H1Zv5lhZCC0tLflcrlShSE/PlMnl+n0EQsjL3XXU4L8LblXBbfsp+yGEIlHuAoz5WFLAm7k43fMYDDBoJE1kdJzhdm4UEhJT1ZqfSLdbuFy9eX/qvJUyuRwh5OHm8u+6hT7eHiaesQVjLHg83rypYyaNHawLrOk1dOLDpy+MbRcAANC0NjtbbGwrChNE01nZEsM9jBeu3jl/+RaEkMViTRw90NvLzfQffJqm/3foVHpmFvyCWq1JTc8Kj4x5G/IpKjpOIpUhBPTlo7WVxZqlM0p4uRvXcgwGU0AMqCCTU9MNt3OjkJmVrf2Zgg2FyNv3H0dPXpCekQUAsLK02LB8do2qFfGYCCYfuFzuvCljJowewAwWh4ZF/T0k8OHTl8a2C6g1GqVKXcxuXYnBkk5kZecsW7ONSftSvbJ/354dmaSKBjpcYaFQqKRSOVMfSz/AWR/99b093XZuXNqpbXPTPzUMBsNgSAWZUkxiLRkghBmZ2VSRZ0dHCMUnJA8KmMn4dHlc7rK5Ezu3a47lIyZ/mMCaxTPHTwoYxNT8iItP7jU08P7j58b1YKnVGpVabUQDCh0IoUQqM8RVRTT9vwMnn79+DyHk8biLZo+zsjRsvE6hgBASCvmbV8+7c2H/7Mmj69Wqam9rzeVySJLFOMUJArJYLA6HbWEhrFHVf+HM8XcvHvyrfUuCwG0aBmM2GDKbDzD1cZafxhiNW2Zm9siJ856/egchJAhi+sThwwf2xPIRU0B4PN7iWRPsbG3m/7NRqVTFxiX1GT55b9DyhnVrGPEWwjdvAfkYEb1y006mvF6Pzm2aNqhtFs8+YyGLICr7+1X295seODw9PTMiOi42PlEilcnlSjabFAr4bq5OPt4enm4uwi8B2tAojSwGg/kljBMUYqYgGmmKdh6kTK6YPHf5hau3IYQAwmH9u08bN5SVb2FWDCYXbDZ74uiBJIs1e/E6pUoVG5fYb+TUPUHLG9erafpaxFygKG2huyA1Gs3K9TuSklIBhO6uzrMmjTKvZ193d/F5XE8PV08P1zxXM/05nRgMJk+KSTaNogFCSBo4abA+FEUtWR2078hZpiFu16Lh0rkTeTxekRlgaGiaTs/I/BgW+eptyNsPHyOiYjOzc3B3YghIkhw3ot/SuRM5HA6EMC4+qf/IqXcfBhvbruIDSRKFrsZv33966OQFACGAYGLAoFI+nmb6dPxalDcGgzFxsA/yZyjCIRaE0M79x9cF7f2cu6diuS2r5tlY/yB/rxkRG5+4afuB81dupaRmKBQKFoslFArsbW1mTR7Zq2t7Y1tXDGGxWAHD+mg0mtmL16k1mviE5L4jphzZtbZuzarGNq14UMhtg0wmX7B8k0KhBABU8fcb8HdngMUWBoMxJbCCNEUQQhev3Zm+YLVCoYAQenu67d601MPd1SymQBWE0E8R3QaOfx/yCUKo63plckVKclp4ZCzzESFEabUU9V/oEgSAy+UUjytQ9EAISZIMHD0QITBv2QalShWfkPz3kIkHt6+uV6sqvqqmxt4jpx8GvwIA8HjchTPG29pYG9siDAaD+QqsIE0OhFDwi7cjAucxOfMc7G23r19U2d+v2MhHDUUtXLH5fUgYhN9Movj6/PYcOr1t92Fd5RJrS9GhnWtwV/o7kCQ5ccxASMB5yzYolaq4+KQ+wyftDVph3MAaTC4iomL/WbOdKfPcuW3zlk3rGdsiDAaDyQ1WkCZHWET0oIAZCYnJAACRSLBu2czmjesVG/kIAIiKibt0/V5B1kxOSXv27BX4Ej3g7GSv1dKGNO2PgCTJwFEDWCxi9uJ1THR2v5FT92z5p3H9WsXmHjNrKEq7auPOuMQkhJCzo/3MiSM535SBxmAwGKODFaRpkZqWPnz8nA+h4cyY47xpAT06tylO8hEA8Pb9J6lMpl+LwreUd59uHXg8blhEjKuLo25NCD7nIGZWgzjXRyFBkuS44f0Igpgxf7VKrY6LT+o/auq+rSsb169lbNMw4P7jZweOn2ee+pGDe1Uo51vMWgAMBlM8wArShJDLFeNnLL3zMBhCCCAYPqDn2GH9zCt/R0FIy8ii6f9CSvl8XtDq+U0b1GY+MqnvMIaGJMmAoX0oDTVr0VoNRcUnpPQbOfXwzrX1auHAGmMik8uXrtkmkUgBAGVL+Ywa3AtrRwwGY5pgBWkqaDSaef9sPHb6EvOxY5tmS+cGMqVEDIRWSytVqrT0DJlcweGwLS0sbKwsSJLUzTvMB4QQTdMKhSolLU0skVGUVigUONrZWFlZkiQrzz4PIaSlaQJCmUyuv9xSJCrr66NlhCMCBAERQmqNhqaRfhgNsweVSs2UdwMAsAiCzWZ/ORetRkPpeyg5bDZBEAghlVqdnJKekZkFALC3s3FxcmCz2foW0jStVKoSk1OzcyQEAW1trJ2d7LmcH4TsIIQoSquhKKlMplKqKIrmcNmWIiGXx2WTZJ7bUlotpV8VEwEWi8X+Jj/Ut+dCslgkWfiPKkmSE0YNoBGat/RzYE2vIYH/2/xP4wa1CnIPYAodhNDJc9du3XvMlMCePzPA0cHO2EZhMBhM3mAFaRJQFLV558GN2/ZptTSEsF7tqkGr5jElZQ0BTdMhHyMOHDt35eb9uIQkjYZisQg+j+tXplTdmlXatmhU3s9XwOd9TwiqVOqXb0KOnLpw9+Gz2PhERu2x2aS1pUX1Kv5/tW/RvHFdezubbzdfsW77x4jo8Iho/bR2Url87pL1bJIEACCAunVu3aBO9SEBMz+GRSWnpQM9KZOemdW+xwiS/OyU7di22dypY5i/b91/OmXOctaXlSEBD25f7e3pfvv+k3VBe569fCtXKCEEAj6/ehX/0UN6t2xajyRJhFByavrRkxePnLr4KSJapVJDCPk8XsXypYf279GhdROBgP/t6csVypCPEfcfP3v49FV4ZExqajql1dIIEQRhZWlR1tenReM6bVs29vZ0y6XDQj6GB85cxgRIAQAQALVrVFqzeIb+ewJN0zv2Hvv3f0d0V08g4C+bO6lebYO4BkmSnDh6IIRw/rINCqUqLiG5x5DA7esWdWzTjMXCIrKoSUxKWbhiE/Pi1LZFw05tcPFSDAZjumAFaXxoGh0/c2XO4nVMseByZUruWL/YxdnRQJ2HRkMdOHZ2zpL18QlJulmG4HMB7pRrt+6v2bK7Ud2akwIG1a9dLZfrCyH0KSJ6+brtJ85cEUsk+psDALKzxdEx8acvXKvs7zd78ui2LRrqfIQMN+89vnHrAYBQf0OZTL5r/3HdAcqWKdWwTvXQsKgXr98DvQR4EEKK0r5+H6rbW7UqFXR/i8XSVy/fgS/ikiTJHIlk1aady9dvz8kW6w4nkckvXLl192Hw4lkTRg/t8+DJ88lzlr94/YGmad2BpDL59TuP7j16Pnpo78WzJuQSkTk5kuGBc6/evJ8jkQAa5boCKanpn8Iiz12+uTZoz9ypY3p1baeLgUAIlS/rW7dmlSWrttLo80j9+5CwhnVr9OzSVreH96Fh8/7ZmJKaznwkCGLM0N41q/l///f8XUiSDBw1kGSx5i7bIJXKMjKyho6b/e86ukv7FtgTWZTQNL1+697wiBgAoZ2tzbxpAQYdgsBgMJjfBCtI43P3YfD4GUukMjkAwNXFafuGxWV8fQwkHxFC124/mDBjaY5YAr/WB8zkSwCgRCI7f/kmwSJqV6+cS0EGv3g7YPS00LAogBD8Rl4wpRe1WvrZy3d9hk2aM3XMpNGD9Kv4QAgBQeQ6L2arz+bRiPkL5pU8+eslKHfuHwj01fDWXYf3HTmjVmv07YQAAgJKpLK5yzZI5fJ//3ckJi7xmz0DCKFKrd60fX9ZX59hA3rofysU8tPSM3LEEgghIPKyEEIAQGR03JjJC0iS1btbB2ZzCCGEcGLA4PuPXzDDlAAAlVq94J+NdWtW8XBzAQAo5MpZi9elpKbrgocq+ZedNWlULiFe6JAka9yIfg72NgFTFuWIJZlZ2cPGzwEA/NWhRR4ZlzCGIfjF23/3HGXun5GDehanBF4YDKZYgrsHIxP6KXL4hNmpaRkAAJFQuHH5nDo1qhiu55DLFYtXbfksgJgAZwiFAj4zpMusAyHk83kBQ/vkcoG8Dw3vM3xy6KfIPOWdPhBCmVwxf9nGzTsPIGSEyBiapncfOKlWa/K0E0IolkjnLd0QE5cIv3Yi6q+j0VBBuw8xMQ062Gx2xzbNwI/CfZgrMGfJhriEZP3l1pYWy+ZOtLezYa42hDA0LGr1xl1MlqKDJ85funZXt7JIKFizeLqTo30R1LJjsVi9u3XYsGK2SCQEAGRl5wwbP+fspVtmWkbP7FCp1EvXbM0RSwAApXy8Rg3uRXzzroXBYDAmBfZBGpOk5NTBY2eGRcQAADgc9pI5Ezq3a2ZQx8PHiKjX70J18tHTzWXV4mmVKpSVyeRPX7w5c+nGwyevcsSSTu2aN6z3VYppqUw2YcaS8MgY/YUikaBqxfIV/Hw5HM7HsMinz99kZGUzX0EIlSrVwhWbq1fx14X3lvByr1KpXGZWTmxcom4nJEmWK1OSCTlHNM2oq1I+ngiAtPSMuIRknbVcDruMr4/OLeru6pTPmdI0TZJkCS93B3vb7GxxWGSMRvOVoGRidyCE7q7Obi5OUrk8LCJapVLrVoAQfgqLCg2Pqlm1ov6eWzata2VtpVAoHR3sPNxd7G2tRUKhWCKJjk0Ii4jRfImVgRBGxcQeOXlhyrih+pvXqOo/acyg2UvWMXNeEUI7Dxxv36aJt6f7ktVBFEV98VmCwNEDG9SpXmSOKIIg+nbvSGvp8dOXiCXS7Bzx4ICZuzcvbd+qCR7ONjRnLl5nkqSSJDkjcLibqzN2QGIwGBMHK0ijkZWdM3LivEdPXwIA2CQZOHog43gw6EHj4pPkEhn8IsIa1qvR/Uu+ySqVyg/q2+31u9Btu48EDOvD/TqJ8fGzV2/de6I/TFy1YvmVi6bWq12Ny2EDALRa7Zv3nwJnLr37MJhZB0KYmZWzcsOOarvW8rhcAMDapTMBAJu3H5ixcLXOuWVlITq8c42bqzPzkcPhsEnWjg1LaYTWbN61YNkGXUZxWxur0weD7G0/16QhSdb3elmEkJDPnzN19JB+3UVCgUKlOnT8/LR5K6Uyuf4psNnsCaMGjBvRz87WWq3+f3v3HdfE+QYA/H3vLjthEzZEEBQER8WNoiIo4ixiqbMV1J9b6lZwCwIuFCeKq0prpS5ai1pX1do66qiz7i0CYYese39/nMQQhjOB4Pv99J+Qy917Z3P35H3e93mVR0/8OW7awqfPX2q2KSkquf2fbgRZ31UybcLwJt4NmzXxMjMV8bhcZm95+QU/7z80dW5irjS/bA/wl8zjUaO/1cz+AQAQBDF2xOCTZ84fPHKSuUpFRSWzFiyXODncf/hEEy53aNty4uhvDNwRRRDE0K/7AgiiZsQx6exhY2emJC3EE2v0KutVzvyENcwvnI5+Lfv3DQZ4CWwMw2o9/FSoGSUlshnzl2VkHocQEgQRHhoye8oYfQ93AwCo1bT28MFDx05t/3GvVJrPxHNsFqtFM591y+c18W5YrrWy0k3bflKrX9fWQQjZ24lTV8d27tCaXTbMkSCIZo09v9+Q2KZlU+3U59GTZ69euwUAYNLlAj5Pt34NBDweVyQUMP9x2CyCIIRCvkjIZ+mWsIFCAU+zJY9b+Wxx5lh9ewVOGjvMytKcy+WYmYhGDP1qQFgvUD4n265Vs5gpox3tbXlcrqmJqG/PoDGRA4jy+9T0qmpw2OwZUSO7B/nb2Vgz4SNzRHMz04ghYaMjBgCt8QD3Hj7JycnV2YNQwI+bM8nJwU6Tyz534Wr6/kzN5bW1sUpcMM3CzNTwYQSEcGh435Xx0aamIgBATm5e5PjoPb8cxnU69YSm6eSU76/fugMhNBEJ504bKxQIarpRGIZhb4cjyBqgUqmWrE7dtH03TdMIocBO7VbEzaxYOEYfnBxsufw3QU/Wq9zIcdFBoRHz4pPP/XO1RCYDAFCkbkHHh4+fXr1+681rhP73TbiPl4d2FyCTkHW0t509ZQyXy9HERoWFxaf/umj44XR9uwdq8t0QQooigwP8qPIxevcgf5Na1I4AABbESURBVJFQoN227kEd2dqjPyGQy5WV7B0CuVzx+NmLK9du/fHn+ROnz13+98aDR0+LikuCu3QgtXocS2SyklK5zqcRQo0bNZgeNYLNZml2SCPEXEM2izUjamTzJl4fcfYfBUI4qH+v1YmzmSAyV5o3YkLMzwcOIRxE6sGVazfXpf6AEEIIDQzr2aZlMzz2FMMwo4Cz2IaGENq5OyNu6XqmuLSPl8e6ZXMtzM0MM+zJw03SqKH7hcvXNBOEFUrlhUv/Xrx8bfnqLb5feA8f0j+ka0eRsFwvyK3b90tkpZrmCQT8oM7tKibcmQ1a+TZ1d5VoRZzo2o07NI1I0qDdaY6Otjp/sbQ0Z1GUpieVJEl7GzHQShcihMzNTAV8vvZoyIrrKMpkpfsOHvl+V8a1G7ezsnNLS+UAADabbWVh6uRg59mgPpvNKi19vQeFQqlQ6MagzBGHDQg9fPT03l+PaP+7Qwi7dGo3bFBozQ49hBCGfxlC0/ToSfMKi4qlefkjJs6mKKp39wCcXf2EFApF4qrUV9k5AEJnB/up4yPxkFMMw4wFvlsZ2tE/zk6cGcssrOLkaLd5dZzE2REYatiTqalo6aLpDnY2AABNN2FZrcTioyfPDho5pUf4yJN/nlNrdTjlSKXaSUwuhyMWW1V1CD6Po722NQAgR5pn4G4VkiT5ZfllDRaLgkS5WO1NF2DZX0iSoKpdRvLxk2cDR0waOGLKL5nHHj5+JpOVMr1Hcrn86fOsP89dSt2+WybT7XSsFJfHmT9rvIW5qfYfBQL+/Jnja0MekyCIAf16rkqIYSrb5+UXRIybuf/gUZzO/oSOHP8zfX8mJAgA4fTvRrg4O9R0izAMw94VjiAN6sKlfyPGzpRK8wEAFuZmG5bPb97U+62f+oQQAv7tWu7dsaZ7lw6CCnlzCCFN0ydPn+szYPTuvb9p1/fR7oujEa1SqkAVEAAQlIsXq4/JjEhhUfHIqDl7Mo4guqzDGCE2m2VqIjQ3MzERCbkcDiQqLw9Uqb8uXCksKrfGo0wm+2nvwXKLH9YcgiCGhPdZGR9tZmoCAMiV5g8bO3Pfr7+rcRD5KeTlFcTErpDLFQih9q2bDwrrifPXGIYZERxBGs7d+48ix0czJayFAn7i/KldA9obuA3MSDvfZt67tiT9vD15+ND+7q4ufB5X+8kFIZTmFcxcsOz5yyzmL9aWFoRW711xiezew8dVHaKkRFauCCICYmtLokLxbWP0y6ETR46feRMgQhDYyW/b2oRTB9POH0s/+euOnSlLhw0K1ZnGXpVLV67PiV2pVJbLcavV9NpNaYePn/nkjf8wEMKyIPL1mMjI8dHp+zNrSYxrzNC6LT9cvHIDACASCuZOHycSCfEIAQzDjAgeB2kgWa9yRk2ae+nqDQghi8WaETVyaHjvGnlgMAfl83lBnf0C/Ntk50gvX7v166HjB347dv/hE8029x48vnjpun03GwCAV8P6IqEwV5rHfFYhV6Ttzujo16rSUOn02Qt37j/SvCQoskUznzowugshdOTYKWVZvUaEUItmPtvWJ9hYW2q2adyogZen+88HDjMLVFYjv6Bw1qIVz19kVVwOp6CwaMa8pT5eHo72ukM5awQzsYYkiTGT5+XlF+ZK8yLGzszJlY4Y2p8k8Q3kA12/eTdp7TZm2n7/vsHt2/rWdIswDMPej9E/142CTCabPDv+yPEzAAAEwJDw3pPGDiN1S9UYBEL3Hz45eeYcM6GEJEkbsVVQp3bLFs34fd/WttrzQGn6yfMXgKndYytu4tNQq+8N/rjn4J4Dh2laXX7f6FVO7qKl6+RyhSbMsrIwa9WiySdpu1yheGtkpj8KpfLp86w3r2m6fWtfa0tznc2k0rySEln1u6IR2rh9d+bvp5hrjRASW1vaWFtqLv6Va7cWL9+gqLmT1cFMrElOnC0SCQAARcUlk2MSmGICNd00o6RSqRNXbnz5KhsAYG8rnjo+skLhKgzDsNoOR5B6p1Kp4pM27th1gHkZEui/ZME0nQUDDUamUMyOTQr5auSU2Qk3bt9VqlRM1EIQhMTZoaVvkzcVExEQ8PmgbJHDEUP6k2XDGSGEpaXy0ZPmJq3blpObp1Kr1Wq1XC4/d/Hq4JFT/rpwRTvP27dHoLury4cN8GKxKM2ISghhQWHxngOHC4uKpXkFl/+9eershY+5FB8AlU/25+bl0zTSfleuUKR+ny6XVzeTBiF0/sLVxcvXq9VqZlABi0XFzv5u7oxxTKVMCCFCIHVH+qGjp2vPwDgI4YB+PbetTRBbWwIAZLLSqFmLU3eka+a2Y+/u+Km/du37DSFEEMSE/w3xqF+v9vxDYxiGvSP8w1e/aJresHVX7LL1zIzdVr5N1q+Yb2oiqpHGIIT2//L7j3sOKlWq5as3b/9hn79fi84d2tRzcWSzWJev3UzbnQHKgj8Oj+tRX6L5bM/gzsFd2mdkHmOm1EAIpfkFk2Li12xMa+zdgMvhPHj89Oq1W4WFRVArYe0mcYoa/Q35QTNpIITW1pZAqwaQSqWaMjshad02lUolzSsYFTHAr3XzD7wW74/NYjk52mm3b0/GoQ5tW/QK7sTlcFQ0/ejR07WpaZt3psNqU/Y50rxp8xKzc6Sagkq9unUO/zIEAPTroRP7Dx5lJsfLZKVRs+IaezdwdrTX96m9CybY7RPShUVRkROiX2Zll5TIJs5YhGj624GhFO5Ce2f5BYVzFyczHdVfNPaKHBIG8Ao0GIYZIXzf1yOE0J6MwzPmLVWpVAghj/qSTSsXMZV0asTT5y+jFy5/vTw0QWTnStP3ZabvO8TmsAkCMnUNNdnnZo09PT3cNJ8V8HnLFs188vTFP1dvaEIfgMCd+w/v3HsAQFlZoLLgCSFkK7ZOWhzdwN31g0tderhJ+Hy+TFbKvIQQKhTKu/cfaY72MVfjfUEIQ4L8t/+wT6FUMi/zC4r+FzU7PsnJRmxZVFh87+GTvPwCUG00oFark9ZuPX7qb811drS3mTN9LJ/HBQAsmDXx/MV/n73MYs7uzr2HM+Yv27RyEZfLMdRZVocJIkO6dty0atHwCdHPnmcVF8uiZsWpaTpiUD8DrKhUByCEtqXtPXvuHwghh8OeO32chblZTTcKwzDsQ+Asth798ef58dMXFRQWIYTsbKxTkhY28nSvwXQVQRB+bXx5PO6bSpAEAQmoVCqZkYuasMbS3CxmymimECADIeRWz2nb+oT2rZtrx0dlOym3fDNCQOLskJoc2z3Q/2Mqpft4efg29da5YoaPHTUCO/v17RmovQyPUqW69d+9k6fPXbxyPS+/gCCIFl/4UKwqf5gdPnZ6xbqtmpckSU6dMNzHqwHTRd24UYOpEyI189YhhOn7f9uZfgDUmhQnE0R2D/RPXRVnbysGABQXyyZFx6ds+wnPzn4X9x48XpKcqqZpRNN9Q7p0DfDD+WsMw4yUHiNIAZ9Xl26OCCEuh03Ad71it+/c/1/UnGfPX0IIBQL+0oXT27fxBTWXrmImxKxZMidt07IObX05HHZV/zrubi4pKxd269JB+49Msxs1dN+9bdV3Y761trKo6ih8Hrdfr6ADP6zv1qX9x0R7CCETkXBR9ES3es4V3yVJ0kRk6LLbAh5v+aKZg8J6sShKc+005ygU8Ed881XivClEFaf8/MWrGQuWFRWVaCL1AP82wwb2095JxOB+XfzbatYPlMuV8xYn37xzX+/n9s6YIDKoc7vU5FgbsRUAoKRENjkmfuP2n3RmVlWFJEiCqCMlQhkIAZ3q9JWi1eoVa7c+evwUAGBtZTlr0iiKonD+GsMwI6XHLHZVQYbxMjM1Jal3iiCzc6QjJs6+cfsuAICiqOjJo8JDQ/TcurdgHlRcLqd3cEBgx3bnL145+sffp/48/+JVdnFxCUKIz+c5O9iFdO34Zc8gBztxxfCS2YPY2jJh/tTIIWFpP/9y7I+/Hj15XlRUTNO0gM+3sbZo6dsk/MvurZo3reaB6ipx6t83WPNSJODzeJVkaZlIpV3r5od+Tt2wddfxU3/l5ubTgBby+Z4ebr1DAoK7+Gs2drAXh/XrQZbl0CEAogrxpbmpSb9eXRVl9RcJCO1sxTrbcNjsnsGdiopfV/mmadrDzUV7A1sbq5SVC8L6dtv+w77rt+4UFhWTBGlqKmr5hU94aIhf6+YPHz8N7dVVM0mZRbE0ldvPnr/U0N21obsr85IkicljIgSCcnXdBQL+wugoaysL7ardp85ecHeTkLWmIhLzf0LXgPapq2K/HTsj61VOaal8UnQ8RZLfDgx967BXFovivEO8ZVSQgM97ayx49sKVLTt/hgSBEBo3crBXw/qGaRyGYZg+QP11EyYkpUybu6TO/MJGCPm3bXEwfSOvwnJ5OgoLiyLHR+/ae5A59wmjhiTOnULWps4GTWZZpVIVl8jkCgVCgM1imZoI36two0KpzM8vLJXLaYQ4LLZIJGCipWoy11W99dZkd2mpvLhEhhDicNjMst2aj7zLPj/4uNVsU1BQKJPLSYLgcrlCAb/6vb1jNt8wy6N/EkxTf8k8zkysQQgJ+LxlsTOGvW1iDUIoIWnj3QePjOVM34qm6X69unUN8Ktmm5ISWY/wkcf++AsA0LhRg8N7Nou1KoliGIYZHT32QUrq3BqvdrbWLOotfSelpfKY2KSf9v3GPB3Dv+y+YMYEqpZNMtA8uSmK+piJ4WwWq9Ke5moig6reemswweVydCaUaI9HfOs+P/i41WxjYiIyAaJ32fIdD/Tum9UGmok1qasWRU6Iefb8ZXGJ7LtZcbSajhhc3cQaCKG5mYkhm6pvBEGYmgqr32bHTwdOnjkPAOByOTGTR4utLY3o1wKGYVhFesyL1XNxrAMrkWhzlThRVHUZOrVavWzt5tUbdzAvAzq0WR43Uyg09HA9DDMMJogMDvTfnBxrb1c2sSYmPmXbruon1ojFVnVpkDRFUZbVTql++OhpQlIKUwG0W0D7HsGdgFH9WsAwDKtIXxEeQsjezsbG2kpP+zc8kiQ9G1Q3bgkhlJaeEbd0vUqlRgh4Nay/ZukcG+s69aTEMB1MEBnYqd3m5DhbG83EmoT1W35UqaqcWCNxqjsJCoQQh82ysqxy2DetppNTvr/74DEAwMxEFD15FJdTK8ozYRiGfQx9RZAQQhsrS4mzfd2In5jhd019GlazwYnTf0+KjmcmYdiKrVKSFrq7SXCiCqvzmInkQZ3apa6KZcb2lZbKJ0Uvjk9KUSkr6YlECImtLfh8XsW3jJSN2Kqa0hP/XL2+6ft05t3IIWHNmzSqG3dFDMM+c3rMMlMsyr9di9pTyu4jebi5uDhWGRBfu/lf5PjorFc5AABTE9GapXPatGiKw0fs84EAYNLZzAx3uVwxP2H14hUb5HLd1b0hhFaW5pYWZnUmkHKTOLHYlU+Vk5WWzl2cLJXmAQA83CQTRw0FNVfQFMMw7BPS7zjF4CB/FrtmFoD+tCCEXTq0FYmEld76Hz1+NmzsLGatFB6PmzBvSp+QLjh8xD4rr4uNB3VMS1la39UFAKBQKBYsWbt4xQZmuSNtLIrybliT1fU/FYQQi6J8GnlAUPmXfW/GkcyjpyBBUBQVM2W0fc0tSYVhGPZp6TGCRAh90djL27N+HXhO8LicMK0ShtpypXkjo2afu3gFQkiR5LQJw4cNCgV4mDz2+WGCSH+/ljs2JDKLqisUithl6+KWr9fpiYQQNmvsVTeGA9rbiatau/zFy1cLEtcolUpE013824T2CqoDN0MMwzCGHiNICKGAzx/ydR9g5PdMhFDL5o2beDesePcvLZVPnZOYefQUhBBAMOTrPlPGReB1JrDPFhNEtvii8Y4NS+q7OgMAFApl3PINscvWKctquTMc7W1cJU7GHlFBCH2beldeIxahNalpN27dAQCYmJjETB3D5XLxnQHDsDpDv1lsCOFXfbq71jPu5wRFkRNHD+Vw2Dp3f7VaHb8yZWvaXubsAjq0Tpw/tS7ND8CwD8B8TXyb+ezYsKSeiyMAQKVSxS3fsHhFinaJHxaL1cmvFUVRxntzQAhZmJu1bN6k0nf/vfHf2k07IUEAAIZ+3bu1b+WbYRiGGSn9RpAIIVsb64mjhpIkaaTPCYRQj64dgwM66LSfpumtaXviyx6Kjb0bbExaZFFtTTgM+3wghFo2b5K2cSmzrLlSqVy4ZO2Pew5qb+PVsL5XA9caauAnACHRtXM7c7NKavIrFMq58auyc6QIoXoujt+N/pYgCNwBiWFYXaL3PkgI4TcDvgzo0KaKgea1GkLI0d52wcwoNrtcByRC6OCRk5NjEmSyUgCAq8Rpy+rFLs4ORholY9gnx6SzW/k23ZGyxN3NBQCgUCofPX6mvQ2bzeoVHGBq8pbVXGonhJC3p3ubFs0q/dJnZB7LyDwOAKAoaur4SImLI745YBhWxxhizRiRULB00XQPN4kBjvUJIYRMRMKk+FmNPHULiZ+7eGXExNnSvHwAgNjacsOK+U19PPHkawzT9jqIbN4kbeOy0F5dh3zVe2BYT+0NEEJODnZ9QwJZLD0ur6oPCCEne9vwL7tXHNwCAMh6lbNwyVpm8lDbls0G9e8F8NQ6DMPqHGiAX8ZMaHXi9N/hEd+9ePnKKO6kCCE+n7d4zqTREQNIstxKhvcePO41YNS1G/8BAAQC/tqlc/ETAsOqwtxh1GoaQkCSBEK63xSapjN/P3Xgt6Nqmq6hNr4fhJC1lcXwwWEuzg4Vv/U0jRJXpsxcsBwhxONyDvywvnOH1jXSTgzDML0yRB/k6xof7VqmbVzq7ioximyOmZkoYe6UMREDdZb2zsmVjpgYw4SPJEnOjBo5oF8PiEsEY1gVmG8HRZEkSTKvKm4Q2Klt3x6BbDbLKG4O9rbiyEH9JC6VL8yYl5+/YesumqYRTYeHhnT0a2EUJ4VhGPa+DBFBgrIgsqNfq4wf1/XvG8zl1NIy4wghgoAd2vqmb0seM3wAJHQfeFt27jl68iwAgCTJyCH9Jo0dptNDiWHYe4EQkiQZ4N8mcnCYxNmBuVfUdKMqgRBis9ltWjSdMHJwPYlTxc5UBkmSluZmbBarnsR5+sQRBEHin5cYhtVJNXCzVipV6QcyE1du+vfGbYVCWUturwghkiQlTg7DvwkbHTFQJBRUOq5x6uyEJcmpEMLeIQFbkhebGOckAAyrnYpLSo4cO3Pm3KW8/IKabssbzMIzzo52wYH+3l7uBKzyhzdz0/jv7oOr1283qF+vkae7IduJYRhmSDX2cz87R/rr4RPb0vb+c/W6NK8mnxYIIaGA7+nhFtanW7/eXSXOjtUEtc9fZO3cnaFUqYYNDBVbWxqynRj2OUAIvczKvnD52sXL119mZSuUNfkjEyEkEgpcXZxafOHt7enB5/PeOmEOz6jDMOwzUTMRZNlNFslK5Tdv3ztx+u/Mo6fvPXj0Kjs3L7/QMA0QCQWWFuZODrad27fq7N+mqbenSCRgMmhVPQCYt5grVv2WGIZ9GM23TCYrffjk2fWbd+7ce5iXX1hYXKJQKAzwjYMQ8nhcoYBvK7b2aljfo76LjZUlSZL4K49hGKattgw5omk6V5r/Miv7yfOXDx49yXqVC/TTMASAuamJs6OdxNnB2tpSbGVBUUZWSQTDPisqlaqwsLigqDg3Ny87N0+uULz9Mx/KVCS0tjI3NRWJhEIBn4ejRgzDsKrUlgiSYcibNX4wYBiGYRiGfZjaFUFiGIZhGIZhtZ+BqvlgGIZhGIZhdQaOIDEMwzAMw7D383+IDzEPet6ULAAAAABJRU5ErkJggg==)"
      ],
      "metadata": {
        "id": "lLgHtm8voltc"
      }
    },
    {
      "cell_type": "code",
      "source": [
        "from transformers import BertTokenizer, BertForMaskedLM\n",
        "import torch\n",
        "\n",
        "tokenizer_dir = '/content/drive/MyDrive/dacon/KoreanLanguage/tokenizer/32000_special'\n",
        "tokenizer = BertTokenizer.from_pretrained(tokenizer_dir)\n",
        "mlm_model = BertForMaskedLM.from_pretrained('klue/roberta-large')\n"
      ],
      "metadata": {
        "colab": {
          "base_uri": "https://localhost:8080/",
          "height": 212,
          "referenced_widgets": [
            "92d4135f6b3c4c348fe0ab1f651e3249",
            "2e87cb5e37d64cf484ced187c3bc4f39",
            "0ea8010434f04ff49f2b2479c1d16f32",
            "0cc529caac764c66970df47133fc2999",
            "156ad89260914481a782c6b5918e8195",
            "3e1bc87b86e345af9deb40afa26407b2",
            "8976094d80524df59a76ac6342ab7027",
            "074b144359554b92a19eb03b922a8de9",
            "7c3c4a28e2114fe5bf3689299fdcb4f2",
            "91e109d1a9ec48179bab1f5acbc8482b",
            "2150a6e9391d47cfa07cf1c4f0083afd",
            "1c459e3bcca9459cb9ba135ff27a51a4",
            "71b61ca0834d459faf203c4b74279b28",
            "94332ba9c6184112a2ea10bfbf71652c",
            "cad60959e16441ecb70e78fb79116bb3",
            "b09ab6f7c9904a2f9790e8e85fb50aed",
            "ca9534fcd39f46bca97ad2ccf5e95c0b",
            "349273db68dd454faaadeb27b5a3f499",
            "02d6ae885a6945f88121fe4d43344a51",
            "24ecfcbd67aa4658aff48be7ee64c4f7",
            "3dfed9772c6b45eda6701222067f14c4",
            "75718da032174903bdcd75ff8a901acf"
          ]
        },
        "id": "Zz6GVlRkox_z",
        "outputId": "35cd530a-9344-4b8c-d2cb-bdc3d37f8de8"
      },
      "execution_count": null,
      "outputs": [
        {
          "output_type": "display_data",
          "data": {
            "application/vnd.jupyter.widget-view+json": {
              "model_id": "92d4135f6b3c4c348fe0ab1f651e3249",
              "version_minor": 0,
              "version_major": 2
            },
            "text/plain": [
              "Downloading:   0%|          | 0.00/547 [00:00<?, ?B/s]"
            ]
          },
          "metadata": {}
        },
        {
          "output_type": "stream",
          "name": "stderr",
          "text": [
            "You are using a model of type roberta to instantiate a model of type bert. This is not supported for all configurations of models and can yield errors.\n"
          ]
        },
        {
          "output_type": "display_data",
          "data": {
            "application/vnd.jupyter.widget-view+json": {
              "model_id": "1c459e3bcca9459cb9ba135ff27a51a4",
              "version_minor": 0,
              "version_major": 2
            },
            "text/plain": [
              "Downloading:   0%|          | 0.00/1.25G [00:00<?, ?B/s]"
            ]
          },
          "metadata": {}
        },
        {
          "output_type": "stream",
          "name": "stderr",
          "text": [
            "Some weights of the model checkpoint at klue/roberta-large were not used when initializing BertForMaskedLM: ['roberta.encoder.layer.5.attention.output.dense.bias', 'roberta.encoder.layer.5.intermediate.dense.weight', 'roberta.encoder.layer.0.output.LayerNorm.weight', 'roberta.encoder.layer.5.attention.self.value.weight', 'roberta.encoder.layer.5.attention.self.key.weight', 'roberta.encoder.layer.5.attention.output.LayerNorm.bias', 'lm_head.layer_norm.weight', 'roberta.encoder.layer.12.output.LayerNorm.bias', 'roberta.encoder.layer.19.attention.self.key.weight', 'roberta.encoder.layer.23.attention.output.dense.bias', 'roberta.encoder.layer.19.output.dense.weight', 'roberta.encoder.layer.3.intermediate.dense.weight', 'roberta.encoder.layer.7.attention.self.query.weight', 'roberta.encoder.layer.9.output.LayerNorm.bias', 'roberta.encoder.layer.6.attention.self.value.weight', 'roberta.encoder.layer.23.output.dense.weight', 'roberta.encoder.layer.10.attention.self.value.weight', 'roberta.encoder.layer.2.output.LayerNorm.weight', 'roberta.encoder.layer.1.attention.output.dense.weight', 'roberta.encoder.layer.12.attention.self.key.bias', 'roberta.encoder.layer.23.attention.self.query.weight', 'roberta.encoder.layer.6.attention.self.query.weight', 'roberta.encoder.layer.14.attention.self.query.bias', 'roberta.encoder.layer.17.attention.self.key.bias', 'roberta.encoder.layer.16.intermediate.dense.bias', 'roberta.encoder.layer.13.attention.output.LayerNorm.bias', 'roberta.encoder.layer.20.intermediate.dense.bias', 'roberta.encoder.layer.23.attention.self.value.weight', 'roberta.encoder.layer.22.output.LayerNorm.weight', 'roberta.encoder.layer.7.attention.self.query.bias', 'roberta.encoder.layer.7.attention.output.dense.weight', 'roberta.encoder.layer.15.intermediate.dense.weight', 'roberta.encoder.layer.12.attention.self.key.weight', 'roberta.encoder.layer.16.attention.self.key.bias', 'roberta.encoder.layer.2.attention.self.key.weight', 'roberta.encoder.layer.18.attention.self.query.weight', 'roberta.encoder.layer.6.output.LayerNorm.weight', 'roberta.encoder.layer.6.attention.output.dense.weight', 'roberta.encoder.layer.12.output.dense.bias', 'roberta.encoder.layer.18.intermediate.dense.bias', 'roberta.encoder.layer.19.intermediate.dense.weight', 'roberta.encoder.layer.18.intermediate.dense.weight', 'roberta.encoder.layer.7.attention.output.LayerNorm.weight', 'roberta.encoder.layer.7.output.dense.weight', 'roberta.encoder.layer.13.output.LayerNorm.bias', 'roberta.encoder.layer.20.attention.output.dense.bias', 'roberta.encoder.layer.9.attention.self.query.weight', 'roberta.encoder.layer.0.attention.self.key.bias', 'roberta.encoder.layer.12.attention.self.query.bias', 'roberta.encoder.layer.13.attention.self.query.weight', 'roberta.encoder.layer.0.intermediate.dense.weight', 'roberta.encoder.layer.1.attention.self.query.bias', 'roberta.encoder.layer.7.intermediate.dense.bias', 'roberta.encoder.layer.8.attention.self.value.bias', 'lm_head.dense.weight', 'roberta.encoder.layer.3.output.dense.bias', 'roberta.encoder.layer.15.attention.self.key.bias', 'roberta.encoder.layer.15.intermediate.dense.bias', 'roberta.encoder.layer.17.intermediate.dense.weight', 'roberta.encoder.layer.6.intermediate.dense.bias', 'roberta.encoder.layer.16.attention.self.value.bias', 'roberta.encoder.layer.12.intermediate.dense.weight', 'roberta.encoder.layer.1.output.LayerNorm.bias', 'roberta.encoder.layer.20.intermediate.dense.weight', 'roberta.encoder.layer.14.attention.self.value.weight', 'roberta.encoder.layer.16.output.dense.bias', 'roberta.encoder.layer.13.attention.output.dense.weight', 'roberta.encoder.layer.11.attention.self.value.weight', 'roberta.encoder.layer.11.attention.self.query.weight', 'roberta.encoder.layer.4.output.LayerNorm.weight', 'roberta.encoder.layer.17.attention.self.value.bias', 'roberta.encoder.layer.3.attention.output.dense.weight', 'roberta.encoder.layer.11.attention.output.dense.bias', 'roberta.encoder.layer.0.attention.self.value.bias', 'roberta.encoder.layer.21.intermediate.dense.bias', 'roberta.encoder.layer.14.attention.self.query.weight', 'roberta.encoder.layer.23.output.LayerNorm.bias', 'roberta.encoder.layer.4.attention.self.value.bias', 'roberta.encoder.layer.5.intermediate.dense.bias', 'roberta.encoder.layer.4.attention.self.query.bias', 'roberta.encoder.layer.3.attention.self.query.bias', 'roberta.encoder.layer.17.output.dense.weight', 'roberta.encoder.layer.6.output.dense.bias', 'roberta.encoder.layer.11.attention.output.LayerNorm.weight', 'roberta.encoder.layer.9.attention.self.key.weight', 'roberta.encoder.layer.13.output.dense.weight', 'roberta.encoder.layer.8.attention.self.key.weight', 'lm_head.dense.bias', 'roberta.encoder.layer.8.attention.output.dense.bias', 'roberta.encoder.layer.17.attention.self.key.weight', 'roberta.encoder.layer.15.attention.self.value.weight', 'roberta.encoder.layer.20.output.dense.bias', 'roberta.encoder.layer.18.attention.output.dense.bias', 'roberta.encoder.layer.12.attention.output.LayerNorm.weight', 'roberta.encoder.layer.20.attention.self.value.bias', 'roberta.encoder.layer.10.attention.self.key.bias', 'roberta.embeddings.token_type_embeddings.weight', 'roberta.encoder.layer.14.output.dense.weight', 'roberta.encoder.layer.16.intermediate.dense.weight', 'roberta.encoder.layer.21.attention.output.dense.bias', 'roberta.encoder.layer.16.attention.self.query.bias', 'roberta.encoder.layer.17.output.LayerNorm.weight', 'roberta.encoder.layer.8.output.LayerNorm.weight', 'roberta.encoder.layer.10.output.dense.weight', 'roberta.encoder.layer.4.attention.self.key.weight', 'roberta.encoder.layer.3.output.LayerNorm.weight', 'roberta.encoder.layer.8.attention.self.key.bias', 'roberta.encoder.layer.16.attention.self.query.weight', 'roberta.encoder.layer.18.attention.output.dense.weight', 'roberta.encoder.layer.9.attention.output.dense.weight', 'roberta.encoder.layer.16.output.dense.weight', 'roberta.encoder.layer.6.intermediate.dense.weight', 'roberta.encoder.layer.8.output.dense.weight', 'roberta.encoder.layer.20.output.LayerNorm.bias', 'roberta.encoder.layer.10.attention.self.query.weight', 'roberta.encoder.layer.19.attention.output.dense.bias', 'roberta.encoder.layer.2.intermediate.dense.bias', 'roberta.encoder.layer.18.output.dense.weight', 'roberta.encoder.layer.2.output.dense.weight', 'roberta.encoder.layer.10.attention.self.key.weight', 'roberta.encoder.layer.21.output.LayerNorm.bias', 'roberta.encoder.layer.3.output.LayerNorm.bias', 'roberta.encoder.layer.1.intermediate.dense.bias', 'roberta.encoder.layer.17.attention.output.LayerNorm.bias', 'roberta.encoder.layer.3.attention.output.LayerNorm.weight', 'roberta.encoder.layer.15.output.dense.weight', 'roberta.encoder.layer.19.attention.self.value.weight', 'roberta.encoder.layer.20.attention.self.query.weight', 'roberta.encoder.layer.6.attention.output.LayerNorm.bias', 'roberta.encoder.layer.7.attention.self.key.bias', 'roberta.encoder.layer.22.intermediate.dense.weight', 'roberta.embeddings.position_embeddings.weight', 'roberta.encoder.layer.16.attention.self.value.weight', 'roberta.encoder.layer.23.attention.self.key.bias', 'roberta.encoder.layer.4.intermediate.dense.weight', 'roberta.encoder.layer.8.intermediate.dense.bias', 'roberta.encoder.layer.1.attention.output.LayerNorm.weight', 'roberta.encoder.layer.7.attention.output.LayerNorm.bias', 'roberta.encoder.layer.0.attention.output.dense.weight', 'roberta.encoder.layer.6.attention.self.query.bias', 'roberta.encoder.layer.13.attention.self.value.weight', 'roberta.encoder.layer.11.output.LayerNorm.weight', 'roberta.encoder.layer.22.attention.self.key.bias', 'roberta.encoder.layer.2.attention.self.key.bias', 'roberta.encoder.layer.4.output.dense.weight', 'roberta.encoder.layer.14.attention.output.LayerNorm.bias', 'roberta.encoder.layer.13.attention.self.query.bias', 'roberta.encoder.layer.3.attention.self.key.weight', 'roberta.encoder.layer.6.attention.self.key.bias', 'roberta.encoder.layer.1.attention.self.key.weight', 'roberta.encoder.layer.17.attention.output.dense.weight', 'roberta.encoder.layer.6.attention.self.value.bias', 'roberta.encoder.layer.22.attention.self.value.weight', 'roberta.encoder.layer.17.attention.self.value.weight', 'roberta.encoder.layer.20.attention.self.key.bias', 'roberta.encoder.layer.8.attention.output.dense.weight', 'roberta.encoder.layer.4.attention.output.LayerNorm.bias', 'roberta.encoder.layer.6.output.dense.weight', 'roberta.encoder.layer.22.attention.self.query.bias', 'roberta.encoder.layer.18.output.LayerNorm.weight', 'roberta.encoder.layer.11.intermediate.dense.weight', 'roberta.encoder.layer.3.attention.self.value.bias', 'roberta.encoder.layer.4.attention.self.key.bias', 'roberta.encoder.layer.6.attention.self.key.weight', 'roberta.encoder.layer.21.attention.self.query.weight', 'roberta.encoder.layer.22.attention.output.LayerNorm.weight', 'roberta.encoder.layer.4.output.LayerNorm.bias', 'roberta.encoder.layer.5.attention.self.key.bias', 'roberta.encoder.layer.10.output.LayerNorm.weight', 'roberta.encoder.layer.13.attention.self.key.weight', 'roberta.encoder.layer.20.attention.output.LayerNorm.bias', 'roberta.encoder.layer.9.output.LayerNorm.weight', 'roberta.encoder.layer.17.output.dense.bias', 'lm_head.layer_norm.bias', 'roberta.encoder.layer.20.attention.self.key.weight', 'roberta.encoder.layer.10.attention.output.LayerNorm.bias', 'roberta.encoder.layer.11.attention.output.dense.weight', 'roberta.encoder.layer.1.attention.self.query.weight', 'roberta.encoder.layer.16.attention.output.dense.bias', 'roberta.encoder.layer.8.output.dense.bias', 'roberta.encoder.layer.1.attention.self.key.bias', 'roberta.encoder.layer.9.intermediate.dense.weight', 'roberta.encoder.layer.11.attention.output.LayerNorm.bias', 'roberta.encoder.layer.6.attention.output.LayerNorm.weight', 'roberta.encoder.layer.13.attention.output.LayerNorm.weight', 'roberta.encoder.layer.2.attention.self.query.weight', 'roberta.encoder.layer.7.attention.self.value.weight', 'roberta.encoder.layer.14.output.dense.bias', 'roberta.encoder.layer.9.intermediate.dense.bias', 'roberta.encoder.layer.5.attention.self.query.bias', 'roberta.encoder.layer.13.attention.self.key.bias', 'roberta.encoder.layer.18.attention.self.key.weight', 'roberta.encoder.layer.5.attention.output.LayerNorm.weight', 'roberta.encoder.layer.0.attention.self.query.bias', 'roberta.encoder.layer.21.attention.output.dense.weight', 'roberta.encoder.layer.13.attention.output.dense.bias', 'roberta.encoder.layer.6.attention.output.dense.bias', 'roberta.encoder.layer.10.attention.output.dense.bias', 'roberta.encoder.layer.12.intermediate.dense.bias', 'roberta.encoder.layer.14.intermediate.dense.bias', 'roberta.encoder.layer.17.attention.output.dense.bias', 'roberta.encoder.layer.21.attention.self.query.bias', 'roberta.embeddings.LayerNorm.bias', 'roberta.encoder.layer.23.intermediate.dense.bias', 'roberta.encoder.layer.9.attention.self.value.weight', 'roberta.encoder.layer.4.intermediate.dense.bias', 'roberta.encoder.layer.12.output.dense.weight', 'roberta.encoder.layer.10.attention.self.query.bias', 'roberta.encoder.layer.1.output.LayerNorm.weight', 'roberta.encoder.layer.22.attention.self.query.weight', 'roberta.encoder.layer.22.attention.output.dense.weight', 'roberta.encoder.layer.12.attention.output.LayerNorm.bias', 'roberta.encoder.layer.4.attention.output.dense.weight', 'roberta.encoder.layer.18.attention.output.LayerNorm.weight', 'roberta.encoder.layer.20.attention.self.query.bias', 'roberta.encoder.layer.20.attention.self.value.weight', 'roberta.encoder.layer.1.intermediate.dense.weight', 'roberta.encoder.layer.19.output.dense.bias', 'roberta.encoder.layer.23.output.LayerNorm.weight', 'roberta.encoder.layer.20.output.LayerNorm.weight', 'roberta.encoder.layer.4.attention.output.dense.bias', 'roberta.encoder.layer.10.intermediate.dense.bias', 'roberta.encoder.layer.13.output.dense.bias', 'roberta.encoder.layer.18.attention.self.query.bias', 'roberta.encoder.layer.14.intermediate.dense.weight', 'roberta.encoder.layer.2.intermediate.dense.weight', 'roberta.encoder.layer.13.intermediate.dense.weight', 'roberta.encoder.layer.7.intermediate.dense.weight', 'roberta.encoder.layer.11.intermediate.dense.bias', 'roberta.encoder.layer.5.output.dense.weight', 'roberta.encoder.layer.14.output.LayerNorm.bias', 'roberta.encoder.layer.11.attention.self.key.weight', 'roberta.encoder.layer.4.attention.output.LayerNorm.weight', 'roberta.encoder.layer.15.attention.output.dense.bias', 'roberta.encoder.layer.19.attention.output.LayerNorm.bias', 'roberta.encoder.layer.0.attention.self.query.weight', 'roberta.encoder.layer.17.output.LayerNorm.bias', 'roberta.encoder.layer.14.attention.output.LayerNorm.weight', 'roberta.encoder.layer.23.intermediate.dense.weight', 'roberta.encoder.layer.23.attention.output.LayerNorm.bias', 'roberta.encoder.layer.2.output.dense.bias', 'roberta.encoder.layer.15.output.LayerNorm.bias', 'roberta.encoder.layer.16.attention.output.dense.weight', 'roberta.encoder.layer.23.attention.self.key.weight', 'roberta.encoder.layer.11.attention.self.query.bias', 'roberta.encoder.layer.12.attention.self.value.bias', 'roberta.encoder.layer.8.attention.self.query.weight', 'roberta.encoder.layer.22.attention.output.LayerNorm.bias', 'roberta.encoder.layer.5.output.LayerNorm.bias', 'roberta.encoder.layer.7.attention.self.value.bias', 'roberta.encoder.layer.23.output.dense.bias', 'roberta.encoder.layer.15.output.LayerNorm.weight', 'roberta.encoder.layer.12.attention.self.value.weight', 'roberta.encoder.layer.19.attention.self.query.bias', 'roberta.encoder.layer.21.attention.self.key.weight', 'roberta.encoder.layer.15.attention.self.key.weight', 'roberta.encoder.layer.16.attention.output.LayerNorm.bias', 'roberta.encoder.layer.2.attention.output.dense.weight', 'roberta.encoder.layer.3.attention.output.LayerNorm.bias', 'roberta.encoder.layer.5.attention.self.query.weight', 'roberta.encoder.layer.14.attention.self.key.bias', 'roberta.encoder.layer.17.attention.self.query.weight', 'roberta.encoder.layer.10.output.dense.bias', 'roberta.encoder.layer.0.attention.output.LayerNorm.weight', 'lm_head.decoder.bias', 'roberta.encoder.layer.16.output.LayerNorm.weight', 'roberta.encoder.layer.5.output.dense.bias', 'roberta.encoder.layer.9.attention.output.dense.bias', 'roberta.encoder.layer.10.output.LayerNorm.bias', 'roberta.encoder.layer.8.attention.output.LayerNorm.bias', 'roberta.encoder.layer.7.output.dense.bias', 'roberta.encoder.layer.1.attention.output.dense.bias', 'roberta.encoder.layer.1.attention.self.value.weight', 'roberta.embeddings.LayerNorm.weight', 'roberta.encoder.layer.6.output.LayerNorm.bias', 'roberta.encoder.layer.11.attention.self.key.bias', 'roberta.encoder.layer.11.output.LayerNorm.bias', 'roberta.encoder.layer.5.attention.self.value.bias', 'roberta.encoder.layer.22.output.dense.bias', 'roberta.encoder.layer.22.output.dense.weight', 'roberta.encoder.layer.3.attention.self.key.bias', 'roberta.encoder.layer.21.attention.output.LayerNorm.bias', 'roberta.encoder.layer.1.output.dense.bias', 'roberta.encoder.layer.16.attention.output.LayerNorm.weight', 'roberta.encoder.layer.18.attention.self.key.bias', 'roberta.encoder.layer.19.attention.self.query.weight', 'roberta.encoder.layer.22.attention.self.key.weight', 'roberta.encoder.layer.9.output.dense.weight', 'roberta.encoder.layer.15.attention.output.LayerNorm.weight', 'roberta.encoder.layer.0.attention.self.value.weight', 'roberta.encoder.layer.2.output.LayerNorm.bias', 'roberta.encoder.layer.16.output.LayerNorm.bias', 'roberta.encoder.layer.7.output.LayerNorm.weight', 'roberta.encoder.layer.4.output.dense.bias', 'roberta.encoder.layer.23.attention.self.value.bias', 'roberta.encoder.layer.20.output.dense.weight', 'roberta.encoder.layer.5.attention.output.dense.weight', 'roberta.encoder.layer.4.attention.self.query.weight', 'roberta.encoder.layer.0.output.LayerNorm.bias', 'roberta.encoder.layer.3.attention.output.dense.bias', 'roberta.encoder.layer.5.output.LayerNorm.weight', 'roberta.encoder.layer.4.attention.self.value.weight', 'roberta.encoder.layer.11.output.dense.bias', 'roberta.encoder.layer.2.attention.output.LayerNorm.weight', 'roberta.encoder.layer.13.output.LayerNorm.weight', 'roberta.encoder.layer.10.attention.self.value.bias', 'roberta.encoder.layer.18.output.dense.bias', 'roberta.encoder.layer.7.output.LayerNorm.bias', 'roberta.encoder.layer.12.attention.output.dense.bias', 'roberta.encoder.layer.23.attention.output.LayerNorm.weight', 'roberta.encoder.layer.19.output.LayerNorm.weight', 'roberta.encoder.layer.0.attention.self.key.weight', 'roberta.encoder.layer.8.attention.self.query.bias', 'roberta.encoder.layer.21.attention.self.key.bias', 'roberta.encoder.layer.8.intermediate.dense.weight', 'roberta.encoder.layer.2.attention.output.LayerNorm.bias', 'roberta.encoder.layer.21.output.dense.weight', 'roberta.encoder.layer.1.attention.output.LayerNorm.bias', 'roberta.encoder.layer.8.output.LayerNorm.bias', 'roberta.encoder.layer.21.output.dense.bias', 'roberta.encoder.layer.7.attention.output.dense.bias', 'roberta.encoder.layer.14.attention.output.dense.bias', 'roberta.encoder.layer.16.attention.self.key.weight', 'roberta.encoder.layer.2.attention.self.value.weight', 'roberta.encoder.layer.19.attention.output.LayerNorm.weight', 'roberta.encoder.layer.19.intermediate.dense.bias', 'roberta.encoder.layer.2.attention.self.query.bias', 'roberta.embeddings.word_embeddings.weight', 'roberta.encoder.layer.0.intermediate.dense.bias', 'roberta.encoder.layer.13.intermediate.dense.bias', 'roberta.embeddings.position_ids', 'roberta.encoder.layer.14.attention.output.dense.weight', 'roberta.encoder.layer.13.attention.self.value.bias', 'roberta.encoder.layer.15.attention.output.dense.weight', 'roberta.encoder.layer.18.attention.self.value.bias', 'roberta.encoder.layer.12.output.LayerNorm.weight', 'roberta.encoder.layer.9.attention.self.query.bias', 'roberta.encoder.layer.8.attention.output.LayerNorm.weight', 'roberta.encoder.layer.22.attention.self.value.bias', 'lm_head.bias', 'roberta.encoder.layer.19.attention.self.value.bias', 'roberta.encoder.layer.22.output.LayerNorm.bias', 'roberta.encoder.layer.1.output.dense.weight', 'roberta.encoder.layer.15.attention.self.query.weight', 'roberta.encoder.layer.18.attention.output.LayerNorm.bias', 'roberta.encoder.layer.14.attention.self.value.bias', 'roberta.encoder.layer.22.intermediate.dense.bias', 'roberta.encoder.layer.17.intermediate.dense.bias', 'roberta.encoder.layer.1.attention.self.value.bias', 'roberta.encoder.layer.20.attention.output.LayerNorm.weight', 'roberta.encoder.layer.2.attention.self.value.bias', 'lm_head.decoder.weight', 'roberta.encoder.layer.10.attention.output.LayerNorm.weight', 'roberta.encoder.layer.10.attention.output.dense.weight', 'roberta.encoder.layer.21.attention.self.value.weight', 'roberta.encoder.layer.10.intermediate.dense.weight', 'roberta.encoder.layer.8.attention.self.value.weight', 'roberta.encoder.layer.17.attention.output.LayerNorm.weight', 'roberta.encoder.layer.23.attention.output.dense.weight', 'roberta.encoder.layer.0.output.dense.weight', 'roberta.encoder.layer.18.output.LayerNorm.bias', 'roberta.encoder.layer.19.output.LayerNorm.bias', 'roberta.encoder.layer.21.intermediate.dense.weight', 'roberta.encoder.layer.21.output.LayerNorm.weight', 'roberta.encoder.layer.3.intermediate.dense.bias', 'roberta.encoder.layer.3.attention.self.value.weight', 'roberta.encoder.layer.3.output.dense.weight', 'roberta.encoder.layer.9.attention.self.key.bias', 'roberta.encoder.layer.9.output.dense.bias', 'roberta.encoder.layer.19.attention.self.key.bias', 'roberta.encoder.layer.19.attention.output.dense.weight', 'roberta.encoder.layer.15.attention.output.LayerNorm.bias', 'roberta.encoder.layer.11.output.dense.weight', 'roberta.encoder.layer.23.attention.self.query.bias', 'roberta.encoder.layer.21.attention.output.LayerNorm.weight', 'roberta.encoder.layer.14.attention.self.key.weight', 'roberta.encoder.layer.7.attention.self.key.weight', 'roberta.encoder.layer.22.attention.output.dense.bias', 'roberta.encoder.layer.3.attention.self.query.weight', 'roberta.encoder.layer.18.attention.self.value.weight', 'roberta.encoder.layer.9.attention.self.value.bias', 'roberta.encoder.layer.2.attention.output.dense.bias', 'roberta.encoder.layer.9.attention.output.LayerNorm.weight', 'roberta.encoder.layer.0.attention.output.LayerNorm.bias', 'roberta.encoder.layer.15.output.dense.bias', 'roberta.encoder.layer.15.attention.self.value.bias', 'roberta.encoder.layer.14.output.LayerNorm.weight', 'roberta.encoder.layer.21.attention.self.value.bias', 'roberta.encoder.layer.17.attention.self.query.bias', 'roberta.encoder.layer.0.attention.output.dense.bias', 'roberta.encoder.layer.11.attention.self.value.bias', 'roberta.encoder.layer.15.attention.self.query.bias', 'roberta.encoder.layer.12.attention.self.query.weight', 'roberta.encoder.layer.0.output.dense.bias', 'roberta.encoder.layer.12.attention.output.dense.weight', 'roberta.encoder.layer.9.attention.output.LayerNorm.bias', 'roberta.encoder.layer.20.attention.output.dense.weight']\n",
            "- This IS expected if you are initializing BertForMaskedLM from the checkpoint of a model trained on another task or with another architecture (e.g. initializing a BertForSequenceClassification model from a BertForPreTraining model).\n",
            "- This IS NOT expected if you are initializing BertForMaskedLM from the checkpoint of a model that you expect to be exactly identical (initializing a BertForSequenceClassification model from a BertForSequenceClassification model).\n",
            "Some weights of BertForMaskedLM were not initialized from the model checkpoint at klue/roberta-large and are newly initialized: ['encoder.layer.19.attention.self.query.weight', 'encoder.layer.4.attention.self.key.bias', 'encoder.layer.12.intermediate.dense.weight', 'encoder.layer.0.attention.output.LayerNorm.weight', 'encoder.layer.9.intermediate.dense.bias', 'encoder.layer.8.intermediate.dense.bias', 'encoder.layer.23.intermediate.dense.weight', 'encoder.layer.10.output.dense.bias', 'encoder.layer.14.attention.self.value.bias', 'encoder.layer.4.output.LayerNorm.weight', 'encoder.layer.17.attention.self.query.weight', 'encoder.layer.3.attention.output.LayerNorm.bias', 'encoder.layer.21.intermediate.dense.bias', 'encoder.layer.19.intermediate.dense.weight', 'encoder.layer.17.attention.self.value.bias', 'encoder.layer.10.attention.self.query.bias', 'encoder.layer.10.output.LayerNorm.weight', 'encoder.layer.4.intermediate.dense.bias', 'encoder.layer.23.output.LayerNorm.weight', 'encoder.layer.5.attention.self.key.weight', 'encoder.layer.9.attention.self.value.bias', 'encoder.layer.8.output.dense.weight', 'encoder.layer.13.attention.self.query.weight', 'encoder.layer.0.intermediate.dense.weight', 'encoder.layer.18.output.LayerNorm.weight', 'encoder.layer.20.attention.self.query.bias', 'encoder.layer.17.attention.output.dense.weight', 'encoder.layer.2.intermediate.dense.bias', 'encoder.layer.2.output.LayerNorm.bias', 'encoder.layer.5.output.LayerNorm.bias', 'encoder.layer.0.attention.output.LayerNorm.bias', 'encoder.layer.16.attention.self.query.weight', 'encoder.layer.13.attention.self.key.weight', 'encoder.layer.6.output.dense.bias', 'encoder.layer.7.attention.self.query.bias', 'encoder.layer.20.attention.self.key.bias', 'encoder.layer.2.attention.output.dense.weight', 'encoder.layer.20.output.dense.weight', 'encoder.layer.23.attention.output.LayerNorm.bias', 'encoder.layer.22.attention.output.dense.weight', 'encoder.layer.14.attention.output.LayerNorm.bias', 'encoder.layer.23.attention.self.key.weight', 'cls.predictions.bias', 'encoder.layer.22.intermediate.dense.weight', 'embeddings.LayerNorm.weight', 'encoder.layer.1.output.dense.bias', 'encoder.layer.10.attention.self.query.weight', 'encoder.layer.12.attention.self.query.weight', 'encoder.layer.6.attention.self.value.bias', 'encoder.layer.7.attention.self.key.bias', 'encoder.layer.20.output.LayerNorm.weight', 'encoder.layer.16.attention.self.query.bias', 'encoder.layer.3.attention.self.value.bias', 'encoder.layer.17.intermediate.dense.bias', 'encoder.layer.7.attention.output.dense.bias', 'encoder.layer.22.attention.output.LayerNorm.weight', 'encoder.layer.7.attention.output.LayerNorm.bias', 'encoder.layer.15.output.dense.weight', 'encoder.layer.11.attention.output.dense.bias', 'encoder.layer.21.attention.output.LayerNorm.weight', 'encoder.layer.22.attention.self.query.bias', 'encoder.layer.10.intermediate.dense.bias', 'encoder.layer.15.attention.self.query.weight', 'encoder.layer.18.attention.output.dense.bias', 'encoder.layer.20.attention.self.key.weight', 'encoder.layer.10.attention.output.dense.weight', 'encoder.layer.12.attention.output.dense.bias', 'encoder.layer.1.attention.self.query.bias', 'encoder.layer.6.attention.output.LayerNorm.bias', 'encoder.layer.0.intermediate.dense.bias', 'encoder.layer.8.attention.self.value.weight', 'encoder.layer.15.attention.self.key.weight', 'encoder.layer.2.output.dense.weight', 'encoder.layer.17.attention.self.value.weight', 'encoder.layer.4.attention.output.dense.weight', 'encoder.layer.15.output.dense.bias', 'encoder.layer.9.attention.self.query.weight', 'encoder.layer.6.attention.output.dense.bias', 'encoder.layer.19.intermediate.dense.bias', 'encoder.layer.18.output.dense.bias', 'encoder.layer.3.attention.self.query.weight', 'encoder.layer.21.attention.output.dense.bias', 'encoder.layer.5.intermediate.dense.weight', 'encoder.layer.6.intermediate.dense.weight', 'encoder.layer.5.attention.output.dense.weight', 'encoder.layer.11.intermediate.dense.bias', 'encoder.layer.5.attention.self.key.bias', 'encoder.layer.13.output.LayerNorm.weight', 'encoder.layer.14.intermediate.dense.bias', 'encoder.layer.6.output.LayerNorm.bias', 'encoder.layer.8.output.LayerNorm.bias', 'encoder.layer.4.attention.output.LayerNorm.bias', 'encoder.layer.14.intermediate.dense.weight', 'encoder.layer.12.attention.self.key.weight', 'encoder.layer.10.attention.self.key.weight', 'encoder.layer.14.attention.self.value.weight', 'encoder.layer.16.intermediate.dense.bias', 'encoder.layer.13.attention.self.key.bias', 'encoder.layer.13.attention.self.value.bias', 'encoder.layer.20.intermediate.dense.bias', 'encoder.layer.13.intermediate.dense.bias', 'encoder.layer.13.attention.output.dense.weight', 'encoder.layer.3.output.LayerNorm.bias', 'encoder.layer.18.output.LayerNorm.bias', 'encoder.layer.22.attention.self.key.weight', 'encoder.layer.21.attention.self.value.bias', 'encoder.layer.4.attention.self.query.weight', 'encoder.layer.16.output.LayerNorm.weight', 'encoder.layer.6.attention.self.query.bias', 'encoder.layer.19.attention.self.value.weight', 'encoder.layer.22.output.dense.bias', 'encoder.layer.1.attention.self.value.bias', 'encoder.layer.13.attention.self.query.bias', 'encoder.layer.8.attention.self.key.weight', 'encoder.layer.23.attention.self.value.weight', 'encoder.layer.9.attention.output.dense.weight', 'encoder.layer.16.attention.output.LayerNorm.bias', 'encoder.layer.1.attention.self.value.weight', 'encoder.layer.5.attention.self.value.bias', 'encoder.layer.2.attention.self.value.weight', 'encoder.layer.18.intermediate.dense.bias', 'encoder.layer.0.output.dense.bias', 'encoder.layer.10.attention.output.LayerNorm.weight', 'encoder.layer.9.attention.self.value.weight', 'encoder.layer.3.output.dense.bias', 'encoder.layer.13.output.LayerNorm.bias', 'encoder.layer.8.intermediate.dense.weight', 'encoder.layer.13.attention.output.LayerNorm.bias', 'encoder.layer.3.intermediate.dense.weight', 'encoder.layer.23.attention.self.value.bias', 'cls.predictions.decoder.weight', 'encoder.layer.12.output.dense.bias', 'encoder.layer.18.intermediate.dense.weight', 'encoder.layer.19.attention.self.value.bias', 'encoder.layer.3.attention.self.key.bias', 'encoder.layer.12.attention.self.query.bias', 'encoder.layer.7.attention.self.value.bias', 'encoder.layer.8.attention.self.value.bias', 'encoder.layer.5.attention.self.query.weight', 'encoder.layer.19.attention.output.dense.weight', 'encoder.layer.4.attention.self.value.weight', 'encoder.layer.3.attention.self.query.bias', 'encoder.layer.13.attention.self.value.weight', 'encoder.layer.2.attention.self.query.weight', 'encoder.layer.23.attention.self.key.bias', 'encoder.layer.1.output.LayerNorm.bias', 'encoder.layer.18.attention.self.value.bias', 'encoder.layer.11.attention.output.LayerNorm.bias', 'encoder.layer.7.attention.self.value.weight', 'encoder.layer.10.intermediate.dense.weight', 'encoder.layer.17.output.dense.weight', 'encoder.layer.17.attention.output.LayerNorm.weight', 'encoder.layer.1.attention.self.query.weight', 'encoder.layer.7.output.dense.bias', 'encoder.layer.1.attention.self.key.weight', 'encoder.layer.16.output.dense.bias', 'encoder.layer.9.attention.output.dense.bias', 'encoder.layer.17.attention.self.key.weight', 'encoder.layer.2.attention.output.LayerNorm.weight', 'encoder.layer.19.output.dense.bias', 'encoder.layer.10.attention.self.key.bias', 'encoder.layer.14.output.dense.bias', 'encoder.layer.17.attention.output.dense.bias', 'encoder.layer.16.attention.output.dense.weight', 'encoder.layer.12.output.LayerNorm.weight', 'encoder.layer.1.attention.output.LayerNorm.bias', 'encoder.layer.10.attention.output.dense.bias', 'encoder.layer.15.output.LayerNorm.weight', 'encoder.layer.11.attention.self.key.bias', 'encoder.layer.3.intermediate.dense.bias', 'encoder.layer.17.attention.self.key.bias', 'encoder.layer.0.output.dense.weight', 'encoder.layer.6.output.LayerNorm.weight', 'encoder.layer.23.output.LayerNorm.bias', 'encoder.layer.23.output.dense.bias', 'encoder.layer.15.attention.self.key.bias', 'encoder.layer.8.output.LayerNorm.weight', 'encoder.layer.13.intermediate.dense.weight', 'encoder.layer.18.attention.output.LayerNorm.bias', 'encoder.layer.7.intermediate.dense.weight', 'encoder.layer.17.output.LayerNorm.bias', 'encoder.layer.10.output.LayerNorm.bias', 'encoder.layer.9.output.dense.weight', 'embeddings.token_type_embeddings.weight', 'encoder.layer.0.attention.self.query.weight', 'encoder.layer.11.attention.output.LayerNorm.weight', 'encoder.layer.6.attention.self.key.weight', 'encoder.layer.12.intermediate.dense.bias', 'encoder.layer.1.output.LayerNorm.weight', 'encoder.layer.12.output.dense.weight', 'encoder.layer.8.attention.self.query.weight', 'embeddings.position_embeddings.weight', 'encoder.layer.22.attention.self.value.weight', 'encoder.layer.11.output.dense.bias', 'encoder.layer.11.output.dense.weight', 'encoder.layer.21.attention.output.LayerNorm.bias', 'encoder.layer.6.attention.output.dense.weight', 'encoder.layer.15.attention.output.LayerNorm.weight', 'encoder.layer.14.output.LayerNorm.bias', 'encoder.layer.6.output.dense.weight', 'encoder.layer.14.attention.output.dense.bias', 'encoder.layer.7.output.LayerNorm.weight', 'encoder.layer.22.attention.output.dense.bias', 'encoder.layer.22.attention.self.key.bias', 'encoder.layer.19.attention.self.query.bias', 'encoder.layer.16.intermediate.dense.weight', 'encoder.layer.14.attention.self.query.weight', 'encoder.layer.15.attention.output.LayerNorm.bias', 'encoder.layer.8.attention.output.dense.weight', 'encoder.layer.2.output.LayerNorm.weight', 'encoder.layer.20.output.LayerNorm.bias', 'encoder.layer.16.output.LayerNorm.bias', 'encoder.layer.18.attention.output.dense.weight', 'encoder.layer.12.output.LayerNorm.bias', 'encoder.layer.6.intermediate.dense.bias', 'encoder.layer.22.attention.self.value.bias', 'encoder.layer.15.attention.self.value.bias', 'encoder.layer.11.output.LayerNorm.bias', 'embeddings.word_embeddings.weight', 'encoder.layer.1.attention.output.dense.bias', 'encoder.layer.2.attention.output.LayerNorm.bias', 'encoder.layer.1.attention.self.key.bias', 'encoder.layer.23.attention.output.LayerNorm.weight', 'encoder.layer.21.attention.self.key.bias', 'encoder.layer.0.attention.self.key.bias', 'encoder.layer.16.output.dense.weight', 'encoder.layer.2.attention.self.query.bias', 'encoder.layer.2.attention.self.key.weight', 'encoder.layer.13.attention.output.dense.bias', 'encoder.layer.13.output.dense.weight', 'encoder.layer.23.output.dense.weight', 'encoder.layer.21.output.dense.bias', 'encoder.layer.8.attention.output.LayerNorm.weight', 'encoder.layer.16.attention.output.dense.bias', 'encoder.layer.15.intermediate.dense.weight', 'encoder.layer.22.attention.output.LayerNorm.bias', 'encoder.layer.0.attention.output.dense.weight', 'encoder.layer.16.attention.self.value.weight', 'encoder.layer.4.attention.output.LayerNorm.weight', 'encoder.layer.22.output.LayerNorm.bias', 'encoder.layer.21.attention.self.key.weight', 'encoder.layer.9.output.LayerNorm.bias', 'encoder.layer.13.attention.output.LayerNorm.weight', 'encoder.layer.17.intermediate.dense.weight', 'encoder.layer.3.attention.output.LayerNorm.weight', 'encoder.layer.18.attention.self.key.weight', 'encoder.layer.21.attention.output.dense.weight', 'encoder.layer.3.output.LayerNorm.weight', 'encoder.layer.9.attention.self.key.weight', 'encoder.layer.18.attention.self.query.weight', 'encoder.layer.4.output.LayerNorm.bias', 'encoder.layer.21.intermediate.dense.weight', 'encoder.layer.1.output.dense.weight', 'encoder.layer.0.attention.self.value.bias', 'encoder.layer.9.attention.output.LayerNorm.weight', 'encoder.layer.5.intermediate.dense.bias', 'encoder.layer.20.output.dense.bias', 'encoder.layer.6.attention.self.key.bias', 'encoder.layer.11.attention.self.value.weight', 'encoder.layer.6.attention.output.LayerNorm.weight', 'encoder.layer.12.attention.output.dense.weight', 'encoder.layer.0.output.LayerNorm.bias', 'encoder.layer.18.attention.self.value.weight', 'cls.predictions.transform.LayerNorm.bias', 'encoder.layer.1.attention.output.LayerNorm.weight', 'encoder.layer.7.attention.output.LayerNorm.weight', 'encoder.layer.6.attention.self.query.weight', 'encoder.layer.22.output.dense.weight', 'encoder.layer.11.attention.self.key.weight', 'cls.predictions.transform.LayerNorm.weight', 'encoder.layer.0.attention.self.value.weight', 'encoder.layer.11.intermediate.dense.weight', 'encoder.layer.15.output.LayerNorm.bias', 'encoder.layer.15.attention.output.dense.weight', 'encoder.layer.18.attention.output.LayerNorm.weight', 'encoder.layer.14.attention.output.dense.weight', 'encoder.layer.9.attention.self.query.bias', 'encoder.layer.17.output.dense.bias', 'encoder.layer.4.attention.self.query.bias', 'encoder.layer.20.attention.output.dense.bias', 'cls.predictions.transform.dense.weight', 'encoder.layer.2.attention.self.value.bias', 'encoder.layer.18.attention.self.query.bias', 'encoder.layer.19.attention.output.LayerNorm.weight', 'encoder.layer.19.attention.self.key.weight', 'encoder.layer.5.attention.output.LayerNorm.bias', 'encoder.layer.0.output.LayerNorm.weight', 'encoder.layer.22.output.LayerNorm.weight', 'encoder.layer.0.attention.output.dense.bias', 'encoder.layer.7.output.dense.weight', 'encoder.layer.6.attention.self.value.weight', 'encoder.layer.21.attention.self.query.bias', 'encoder.layer.20.attention.output.dense.weight', 'encoder.layer.10.attention.output.LayerNorm.bias', 'encoder.layer.2.output.dense.bias', 'encoder.layer.8.attention.self.key.bias', 'encoder.layer.4.attention.self.key.weight', 'encoder.layer.19.output.LayerNorm.bias', 'encoder.layer.12.attention.self.key.bias', 'encoder.layer.3.attention.self.value.weight', 'encoder.layer.2.attention.output.dense.bias', 'encoder.layer.4.output.dense.weight', 'encoder.layer.21.attention.self.value.weight', 'encoder.layer.9.attention.output.LayerNorm.bias', 'encoder.layer.7.attention.self.key.weight', 'encoder.layer.11.attention.output.dense.weight', 'encoder.layer.3.attention.output.dense.bias', 'encoder.layer.10.output.dense.weight', 'encoder.layer.15.intermediate.dense.bias', 'encoder.layer.8.attention.self.query.bias', 'encoder.layer.23.attention.output.dense.bias', 'encoder.layer.12.attention.output.LayerNorm.weight', 'encoder.layer.5.attention.output.LayerNorm.weight', 'encoder.layer.23.intermediate.dense.bias', 'encoder.layer.17.attention.output.LayerNorm.bias', 'encoder.layer.12.attention.self.value.weight', 'encoder.layer.8.attention.output.dense.bias', 'encoder.layer.17.attention.self.query.bias', 'encoder.layer.11.attention.self.query.bias', 'encoder.layer.12.attention.self.value.bias', 'encoder.layer.14.output.LayerNorm.weight', 'encoder.layer.20.attention.self.value.bias', 'encoder.layer.5.output.dense.bias', 'encoder.layer.23.attention.self.query.weight', 'encoder.layer.14.attention.self.key.bias', 'encoder.layer.8.attention.output.LayerNorm.bias', 'encoder.layer.4.intermediate.dense.weight', 'encoder.layer.4.output.dense.bias', 'encoder.layer.14.attention.output.LayerNorm.weight', 'encoder.layer.19.attention.output.LayerNorm.bias', 'encoder.layer.20.intermediate.dense.weight', 'encoder.layer.12.attention.output.LayerNorm.bias', 'encoder.layer.14.attention.self.key.weight', 'encoder.layer.2.attention.self.key.bias', 'encoder.layer.21.attention.self.query.weight', 'encoder.layer.7.attention.output.dense.weight', 'encoder.layer.16.attention.output.LayerNorm.weight', 'encoder.layer.0.attention.self.key.weight', 'encoder.layer.9.attention.self.key.bias', 'encoder.layer.14.output.dense.weight', 'encoder.layer.16.attention.self.key.bias', 'encoder.layer.19.output.dense.weight', 'encoder.layer.16.attention.self.value.bias', 'encoder.layer.2.intermediate.dense.weight', 'encoder.layer.1.intermediate.dense.weight', 'encoder.layer.23.attention.output.dense.weight', 'embeddings.LayerNorm.bias', 'encoder.layer.19.attention.output.dense.bias', 'encoder.layer.22.intermediate.dense.bias', 'encoder.layer.4.attention.output.dense.bias', 'encoder.layer.21.output.LayerNorm.bias', 'encoder.layer.3.attention.output.dense.weight', 'encoder.layer.18.output.dense.weight', 'encoder.layer.5.attention.output.dense.bias', 'encoder.layer.11.attention.self.value.bias', 'encoder.layer.16.attention.self.key.weight', 'encoder.layer.21.output.dense.weight', 'encoder.layer.14.attention.self.query.bias', 'encoder.layer.7.intermediate.dense.bias', 'encoder.layer.11.attention.self.query.weight', 'encoder.layer.20.attention.output.LayerNorm.weight', 'encoder.layer.9.output.dense.bias', 'encoder.layer.15.attention.self.query.bias', 'encoder.layer.3.attention.self.key.weight', 'encoder.layer.4.attention.self.value.bias', 'encoder.layer.23.attention.self.query.bias', 'encoder.layer.10.attention.self.value.bias', 'encoder.layer.10.attention.self.value.weight', 'encoder.layer.18.attention.self.key.bias', 'encoder.layer.0.attention.self.query.bias', 'encoder.layer.15.attention.self.value.weight', 'encoder.layer.3.output.dense.weight', 'encoder.layer.20.attention.output.LayerNorm.bias', 'encoder.layer.5.output.dense.weight', 'encoder.layer.5.attention.self.query.bias', 'encoder.layer.15.attention.output.dense.bias', 'encoder.layer.20.attention.self.query.weight', 'cls.predictions.transform.dense.bias', 'encoder.layer.9.output.LayerNorm.weight', 'encoder.layer.20.attention.self.value.weight', 'encoder.layer.5.output.LayerNorm.weight', 'encoder.layer.7.output.LayerNorm.bias', 'encoder.layer.8.output.dense.bias', 'encoder.layer.21.output.LayerNorm.weight', 'encoder.layer.13.output.dense.bias', 'encoder.layer.11.output.LayerNorm.weight', 'encoder.layer.1.attention.output.dense.weight', 'encoder.layer.17.output.LayerNorm.weight', 'encoder.layer.1.intermediate.dense.bias', 'encoder.layer.9.intermediate.dense.weight', 'encoder.layer.22.attention.self.query.weight', 'encoder.layer.5.attention.self.value.weight', 'encoder.layer.19.output.LayerNorm.weight', 'encoder.layer.19.attention.self.key.bias', 'encoder.layer.7.attention.self.query.weight']\n",
            "You should probably TRAIN this model on a down-stream task to be able to use it for predictions and inference.\n"
          ]
        }
      ]
    },
    {
      "cell_type": "code",
      "source": [
        "def tokenize_text(text, tokenizer):\n",
        "  inputs = tokenizer(text, return_tensors = 'pt')\n",
        "  return inputs\n",
        "\n",
        "def create_labels(inputs):\n",
        "  inputs['labels'] = inputs.input_ids.detach().clone()\n",
        "  return inputs\n",
        "\n",
        "def create_masks(inputs):\n",
        "  \"\"\"\n",
        "  dictionary의 형태로 이루어진 input의 input_Id의 크기와 동일하게 \n",
        "  random하게 실수를 생성하고 0.15, 즉 mlm probability보다 작으면 masking\n",
        "  \"\"\"\n",
        "  rand = torch.rand(inputs.input_ids.shape)\n",
        "  mask_arr = (rand < 0.15) * (inputs.input_ids != 0) * (inputs.input_ids != 1) * (inputs.input_ids != 2) *\\\n",
        "              (inputs.input_ids != 3) * (inputs.input_ids != 5) * (inputs.input_ids != 6)\n",
        "  return mask_arr"
      ],
      "metadata": {
        "id": "mOvfcw48pqMl"
      },
      "execution_count": null,
      "outputs": []
    },
    {
      "cell_type": "code",
      "source": [
        "# 0(UNK),1(SEP),2(PAD),3(CLS),4(MASK), 5(BOS), 6(EOS)\n",
        "# special token에 대해서는 하면 안됨\n",
        "\n",
        "with open('/content/drive/MyDrive/dacon/KoreanLanguage/data/CORPUS/ko_corpus_mecab.txt', 'r', encoding='utf-8') as f:\n",
        "  text = f.read().split('\\n')\n"
      ],
      "metadata": {
        "id": "0WyxTIqwqsv4"
      },
      "execution_count": null,
      "outputs": []
    },
    {
      "cell_type": "code",
      "source": [
        "splited_text_path = '/content/drive/MyDrive/dacon/KoreanLanguage/data/CORPUS/corpus'\n",
        "full_length = len(text)\n",
        "\n",
        "import random\n",
        "random.shuffle(text)\n",
        "split_length = int(full_length // 5)\n",
        "start, end = 0, split_length\n",
        "for split in range(5):\n",
        "  new_path = splited_text_path + f\"/{split}.txt\"\n",
        "  with open(new_path, 'w', encoding = 'utf-8') as f:\n",
        "    for idx, line in enumerate(text[start:end]):\n",
        "      # 한국어 문장 말뭉치를 만들기 위해서 단어로만 이루어진 문장이 아닌 경우와 빈 문자열은 제외하고 저장하였다.\n",
        "      if line != '' and line[-1] == '.':\n",
        "        f.write(line)\n",
        "        f.write('\\n')\n",
        "    start = end\n",
        "    end += split_length"
      ],
      "metadata": {
        "id": "tq58olaX5nwN"
      },
      "execution_count": null,
      "outputs": []
    },
    {
      "cell_type": "code",
      "source": [
        "class MLMDataset(torch.utils.data.Dataset):\n",
        "  def __init__(self, text, tokenizer):\n",
        "    self.text = text\n",
        "    self.tokenizer = tokenizer\n",
        "  \n",
        "  def __len__(self):\n",
        "    return len(self.text)\n",
        "\n",
        "  def __getitem__(self, idx):\n",
        "    seq = self.text[idx]\n",
        "    inputs = tokenizer(seq, return_tensors = 'pt', max_length = 256, truncation = True, padding = \"max_length\")\n",
        "    input_ids = inputs.input_ids\n",
        "    att_mask = inputs.attention_mask\n",
        "\n",
        "    labels = input_ids.clone()\n",
        "    rand = torch.rand(input_ids.shape)\n",
        "    # mask array 생성\n",
        "    mask_arr = (rand < 0.15) * (input_ids != 0) * (input_ids != 1) * (input_ids != 2) *\\\n",
        "              (input_ids != 3) * (input_ids != 5) * (input_ids != 6)\n",
        "\n",
        "    selection = torch.flatten(mask_arr.nonzero()).tolist()\n",
        "    # change to mask idx\n",
        "    input_ids[:,selection] = 4\n",
        "\n",
        "    inputs = {}\n",
        "    inputs['input_ids']= (input_ids)\n",
        "    inputs['attention_masks'] = (att_mask)\n",
        "\n",
        "    inputs['labels'] = (labels)\n",
        "    \n",
        "    return inputs"
      ],
      "metadata": {
        "id": "6urW9SRptgSz"
      },
      "execution_count": null,
      "outputs": []
    },
    {
      "cell_type": "code",
      "source": [
        "class MLMSimpleDataset(torch.utils.data.Dataset):\n",
        "  def __init__(self, encodings):\n",
        "    self.encodings = encodings\n",
        "  def __getitem__(self, idx):\n",
        "    return self.encodings[idx]\n",
        "  def __len__(self):\n",
        "    return len(self.encodings)"
      ],
      "metadata": {
        "id": "kv3-4k-_sdV1"
      },
      "execution_count": null,
      "outputs": []
    },
    {
      "cell_type": "code",
      "source": [
        "from sklearn.metrics import precision_recall_fscore_support\n",
        "\n",
        "def compute_metrics(pred, labels):\n",
        "    # predictions : [batch_size, max_len, vocab_size] = [8, 256, 32000]\n",
        "    # labels : [batch_size, max_len]\n",
        "\n",
        "    # preds = pred.argmax(-1, keepdim = False)\n",
        "\n",
        "    preds = pred.detach().cpu().numpy()\n",
        "    one_hot = torch.zeros_like(pred)\n",
        "    labels = labels.detach().cpu().numpy()\n",
        "\n",
        "    precision, recall, f1, _ = precision_recall_fscore_support(labels, preds, average='binary')\n",
        "    acc = accuracy_score(labels, preds)\n",
        "    return {\n",
        "        'accuracy': acc,\n",
        "        'f1': f1,\n",
        "        'precision': precision,\n",
        "        'recall': recall\n",
        "    }"
      ],
      "metadata": {
        "id": "SfbP54KO7e0K"
      },
      "execution_count": null,
      "outputs": []
    },
    {
      "cell_type": "code",
      "source": [
        "def evaluate_mlm_first_step(model, eval_dataloader, device):\n",
        "  model.eval()\n",
        "  running_acc = 0.0\n",
        "  \n",
        "  pt_dir = \"/content/drive/MyDrive/dacon/KoreanLanguage/ckpt/mlm\"\n",
        "  from tqdm import tqdm\n",
        "  metric = load_metric('bertscore')\n",
        "  \n",
        "  eval_loop = tqdm(eval_dataloader, total = len(eval_dataloader))\n",
        "\n",
        "  for batch in eval_loop:\n",
        "    with torch.no_grad():\n",
        "      input_ids = batch['input_ids'].squeeze(1).to(device)\n",
        "      attention_mask = batch['attention_masks'].squeeze(1).to(device)\n",
        "      labels = batch['labels'].squeeze(1).to(device)\n",
        "      mask_arr = batch['mask_arr'].squeeze(1).to(device)\n",
        "      outputs = model(input_ids, attention_mask = attention_mask, labels = labels, return_dict = True)\n",
        "      scores = metric.compute(predictions=np.dot(outputs['logits'], mask_arr),references = labels, lang = 'ko',device=device)\n",
        "      score = np.mean(scores['f1'])\n",
        "      running_acc += score\n",
        "      eval_loop.set_postfix({\"ACC\" : score})\n",
        "\n",
        "    #metric.add_batch(predictions = outputs['logits'], references = labels)\n",
        "\n",
        "  #results = metric.compute(lang = 'ko', device = device)\n",
        "\n",
        "  eval_loop.set_description(\"EVALUATING\")\n",
        "  eval_loop.set_description(f\"SCORE :{running_acc/len(eval_loop)}\")\n",
        "  torch.save(model.state_dict(), os.path.join(pt_dir, 'mlm_best_score.bin'))\n",
        "  print(f\"SAVED BEST SCORE MODEL ACC : {running_acc}\")"
      ],
      "metadata": {
        "id": "HVdvQHALhVVQ"
      },
      "execution_count": null,
      "outputs": []
    },
    {
      "cell_type": "code",
      "source": [
        "with open('/content/drive/MyDrive/dacon/KoreanLanguage/data/CORPUS/corpus/4.txt', encoding = 'utf-8') as f:\n",
        "  text = f.read().split('\\n')\n",
        "print(text[:20])\n",
        "del text"
      ],
      "metadata": {
        "colab": {
          "base_uri": "https://localhost:8080/"
        },
        "id": "10DqbxSbod6H",
        "outputId": "ac29991c-042b-4547-93f9-93e5d461e5ec"
      },
      "execution_count": null,
      "outputs": [
        {
          "output_type": "stream",
          "name": "stdout",
          "text": [
            "['박서진 ##은 한 ##국의 남자 성우 ##로 대원 ##방송 성우 ##극회 소속 * ##년 대원 ##방송 성우 ##극회 공채 * ##기 ##로 입사 ##했 ##다 ##.', '우리 ##나라 ##에서 * ##번 ##째 ##로 만들어진 남계 ##서원 ##을 비롯 ##해 지난해 인기리 ##에 방영 ##된 tvN 드라마 미스터 션 ##샤인 의 배경 ##이 됐 ##던 개평 한옥마을 등 곳곳 ##에 아름다운 문화유산 ##들 ##이 산재 ##해 있 ##다 ##.', '시설 ##에 의한 방법 ##으로 ##는 * ##선 궤조 ##, * ##선 궤조 방식 ##이 존재 ##한다 ##. 이 방법 ##은 기 ##존의 궤간 안쪽 또는 바깥쪽 ##에 추가 ##적 ##인 레일 ##을 설치 ##하 ##여 ##, 다른 궤 ##간의 차량 ##이 운행 ##할 수 있 ##도록 조처 ##하 ##는 방식 ##이 ##다 ##. 세 개의 레일 ##을 설치 ##하 ##여 한 레일 ##은 두 궤 ##간의 차량 ##이 공유 ##하 ##는 방법 ##을 * ##선 궤조 방식 ##이 ##라고 하 ##며 ##, 같 ##은 구간 ##에서 서로 별 ##개의 레일 ##을 사용 ##하 ##는 방식 ##을 * ##선 궤조 방식 ##이 ##라고 한다 ##.', '국회 인사 ##청문 과정 ##에서 박영선 중소 ##벤처 ##기업 ##부 장관 후보 ##자 ##가 특혜 진료 ##를 받 ##았 ##다는 의혹 ##이 제기 ##된 서울대 ##병원 ##이 실제로 별 ##도의 VIP ##실 을 운영 ##했 ##던 것 ##으로 확인 ##됐 ##다 ##.', '공항 운영 ##에 대한 외부 요인 ##의 중요 ##성 ##이 증가 ##하 ##기 때문 ##에 정부 ##, 항공사 ##, 제조 ##업체 및 기타 관련 당사자 ##들 ##과 ##의 공식 ##적 ##인 관계 ##의 필요 ##성 ##이 더욱 분명 ##해진다 ##. * ##년 ##, 이 ##들 * ##개 협회 ##는 공항 ##산업 정책 ##을 수립 ##하 ##고 ##, 공항 ##산업 정책 ##을 수립 ##하 ##고 ##, 공항 ##조합 ##들 ##간의 협력 ##을 증진 ##하 ##고 ##, 그 ##들 ##을 집합 ##적 ##으로 표현 ##하 ##기 위하 ##여 공항 ##협회 조정 ##위원회 ##를 창설 ##하 ##였 ##다 ##.', 'HD * b ##는 HD * ##을 돌 ##고 있 ##는 외계 행성 ##이 ##다 ##. 이 천체 ##는 비둘기자리 방향 ##으로 지구 ##로부터 약 * ##광년 떨어진 곳 ##에 있 ##다 ##. 어머니 항성 HD * ##은 K ##형 주계열 ##성 ##으로 우리 태양 ##보다 모든 면 ##에서 더 작 ##고 ##, 어둡 ##고 ##, 차갑 ##다 ##. HD * b ##는 마젤란 행성 탐사 프로그램 ##을 통해 케플러 공전 모형 ##에 부합 ##하 ##는 천체 ##로 지목 ##, 발견 ##되 ##었 ##다 ##. 이 천체 ##에 대해 도플러 속도 시험 ##이 * ##번 수행 ##되 ##었 ##고 이 ##를 통해 b ##의 질량 ##은 적어도 목 ##성의 *.* ##배 ##이 ##며 공전 궤도 ##는 크 ##게 찌그러져 있 ##는 것 ##으로 드러났 ##다 ##. b ##가 어머니 항성 ##을 * ##회 도 ##는 데 걸리 ##는 시간 ##은 *.* ##년 ##이 ##다 ##.', '매직 ##샌드 ##는 소수성 물질 ##을 코팅 ##한 모래 ##다 ##. 트라이 ##메틸 ##실라 ##놀 ##과 실리카 모래 ##를 반응 ##시키 ##면 트라이 ##메틸 ##실릴 ##기가 달라붙 ##고 물 ##이 떨어져 ##나온다 ##. 원래 기름 유출 ##을 제거 ##하 ##려고 개발 ##됐 ##지만 그러 ##기 ##에 ##는 비싸 ##서 장난감 등 ##으로 팔리 ##고 있 ##다 ##. 물 ##에 젖 ##지 않 ##는다 ##.', '아 ##리즈 주 그 ##린리 카운티 공공 도서관 ##은 시골 기관 ##의 돈 ##과 기술 ##의 어려움 ##을 보여준다 ##.', '한 사람 ##이 산 ##을 오르 ##기 ##로 결정 ##했 ##다 ##.', '시가 직면 ##한 갈등 ##을 해소 ##하 ##고 사회 ##적 합의 ##를 도출 ##하 ##기 위해 숙의 ##민주주의 ##를 바탕 ##으로 하 ##는 공론 ##화의 과정 ##을 통해 시민 ##들 ##의 진정 ##한 뜻 ##을 찾아내 ##자는 구상 ##이 ##다 ##.', '배진환 재난 ##협력 ##실장 ##은 강원도 산불 ##대응 ##에 * ##개 부처 기관 ##이 공동 ##으로 나섰 ##지만 갈등 ##이나 혼란 없이 자연 ##스럽 ##게 협업 ##이 이뤄졌 ##다 며 중앙 ##재난 ##안전 ##대책 ##본부 ##를 운영 ##하 ##는 행안 ##부 공무원 ##들 ##이 현장 ##을 이해 ##하 ##고 있 ##어 도움 ##이 됐 ##다 고 말 ##했 ##다 ##.', '매킨토시 II ##와 매킨토시 SE ##부터 ##는 키보드 ##를 포함 ##하 ##지 않 ##고 판매 ##되 ##기 ##도 한다 ##. 그리고 ADB ##라는 새로운 규격 ##을 장착 ##했으며 ##, 이 ##를 이용 ##하 ##여 기본 애플 키보드 ##, 애플 확장 키보드 ##와 애플 마우스 ##를 별도 ##로 구매 ##할 수 있 ##다 ##.', '전반 * ##분 한국 프리킥 기회 ##에서 주세 ##종의 킥 ##을 카타르 수비 ##가 걷 ##어 ##내 ##자 황인범 ##이 오른발 ##로 감 ##아 ##찼 ##으나 골문 ##을 벗어났 ##다 ##.', '내륙 고 ##지대 ##에서 ##는 식민 정부 ##의 영향력 ##이 결코 굳건 ##하 ##지 않 ##았 ##고 ##, 울라마 ##가 이끄 ##는 소규모 게릴라 ##는 * ##년 ##까지 존속 ##해 있 ##었 ##다 ##. 가요 지역 ##은 * ##년 ##까지 ##도 저 ##항의 중심 ##이 ##었 ##지만 ##, 네덜란드 세력 ##을 축출 ##하 ##는 것 ##이 불 ##가능 ##하 ##다는 것 ##이 분명 ##해 ##지 ##자 차츰 울라 ##마의 저항 의지 ##도 수그러들 ##어 갔 ##다 ##. 한편 인도 제 ##국의 사이드 아흐마드 칸 ##은 성전 ##, 즉 지하드 라는 용어 ##를 반 네덜란드 항쟁 ##에 사용 ##하 ##지 말 것 ##을 주장 ##했 ##는데 ##, 이 용어 ##는 종교 ##적 탄압 ##에 항거 ##하 ##는 전쟁 ##에 ##만 쓰인다는 이유 ##였 ##다 ##.', '사람 ##들 ##은 축하 ##하 ##기 위해 농구 ##팀 ##에 합류 ##한다 ##.', '에도 시대 ##에 현 ##재의 구역 ##은 모두 오와리 번의 영지 ##였 ##다 ##.', '묘사 ##된 모든 사람 ##들 ##은 깨 ##어 ##있 ##다 ##.', '그리스 축구 협회 발족 이전 ##에 ##는 그리스 올림픽 위원회 ##와 그리스 아마추어 운동 협회 ##가 몇 개의 컵 대회 ##를 개최 ##했 ##다 ##. * ##년 당시 ##, FC 아테네 ##가 우승 ##을 차지 ##했 ##다 ##. * ##년 ##에 ##는 페어 ##라이코스 신 ##데스 ##모스 ##가 우승 ##을 했 ##고 ##, * ##년 ##, FC 가우디 아테네 ##가 우승 ##에 성공 ##했 ##다 ##. * ##년 ##에 ##는 파넬 ##리오스 포 ##도스 ##페이 ##리코스 오 ##밀로스 ##가 우승 ##했 ##다 ##.', '박정희 정권 때 산업 ##화 노력 ##에 주력 ##한 세대 ##는 대한민국 ##의 산업 ##화 ##세대 로 불리 ##기 ##도 한다 ##. 박정희 정권 ##을 개발 ##독재 라는 표현 ##도 쓰이 ##고 있 ##다 ##. 국가 ##주도 ##의 산업 ##화 과정 ##에서 한국 사회 ##에 재벌 계층 ##이 등장 ##했으며 ##, IMF 구제 ##금융 ##사건 ##이후 재벌 ##, 관치 ##금융 ##, 정경 ##유착 ##에 대한 비판 ##이 등장 ##했 ##다 ##. 한 ##일 ##회 ##담의 과거사 ##문제 등 ##으로 이후 ##에 ##도 한 ##일 외교 ##관계 ##에 악영향 ##을 끼치 ##고 있 ##다 ##. ##그린 ##벨트 정비 ##와 새 ##마을 ##운동 정책 ##으로 서울 ##을 비롯 ##한 대도 ##시의 인구 ##집중 ##을 방지 ##하 ##는 한편 환경 ##보전 ##에 긍정 ##적 ##인 결과 ##를 낳 ##았 ##다 ##. 이후 * ##년 이명박 정부 ##가 들어서 ##면서 개발제한구역 제도 ##개선 ##방안 이 ##라는 명칭 ##으로 그린벨트 ##가 훼손 ##되 ##기 시작 ##하 ##였 ##고 ##, 그 이후 시민 ##의 권익 ##증진 ##을 우선 ##하 ##는 정책 ##이 경쟁 ##적 ##으로 나오 ##면서 환경 ##보전 정책 ##은 더욱 후퇴 ##되 ##었 ##고 무분별 ##한 개발 ##로 농촌 ##에 ##도 악영향 ##을 끼치 ##게 되 ##었 ##다 ##.', '국경 ##없 ##는 포차 제 * ##호 ##점 ##이 될 파리 ##에 ##서의 스틸 ##은 유명 관광지 ##인 파리 ##의 에펠 ##탑 ##을 배경 ##으로 자리 ##잡 ##은 포장마차 ##가 불 ##을 밝히 ##고 있 ##는 모습 ##이 ##다 ##.']\n"
          ]
        }
      ]
    },
    {
      "cell_type": "code",
      "source": [
        "from datasets import load_metric\n",
        "\n",
        "def train_mlm(model, optimizer,  scheduler ,train_dataloader, num_epoch,device, split, best_loss):\n",
        "  from tqdm import tqdm\n",
        "\n",
        "  pt_dir = \"/content/drive/MyDrive/dacon/KoreanLanguage/ckpt/mlm\"\n",
        "  best_weight = model.state_dict()\n",
        "\n",
        "  metric = load_metric('bertscore')\n",
        "  for epoch in range(num_epoch):\n",
        "    running_loss = 0.0\n",
        "    running_acc = 0.0\n",
        "    train_loop = tqdm(train_dataloader)\n",
        "    model.train()\n",
        "    idx = 1\n",
        "    for batch in train_loop:\n",
        "      optimizer.zero_grad()\n",
        "      input_ids = batch['input_ids'].squeeze(1).to(device)\n",
        "      attention_mask = batch['attention_masks'].squeeze(1).to(device)\n",
        "      labels = batch['labels'].to(device)\n",
        "      outputs = model(input_ids, attention_mask = attention_mask, labels = labels.squeeze(1), return_dict = True)\n",
        "\n",
        "      loss = outputs.loss\n",
        "      running_loss += loss.item()\n",
        "      # score = metric.compute(predictions = outputs['logits'], references=labels.squeeze(1),  lang = 'ko', device = device)\n",
        "      # running_acc += np.mean(score['f1'])\n",
        "\n",
        "      loss.backward()\n",
        "      optimizer.step()\n",
        "      scheduler.step()\n",
        "      train_loop.set_description(f\"SPLIT : {split} EPOCH : {epoch} LR : {optimizer.state_dict()['param_groups'][0]['lr']}\")\n",
        "      train_loop.set_postfix({'loss' : loss.item(),\n",
        "                              'running loss' : running_loss / idx, \n",
        "                              'lr' : scheduler.get_last_lr()})\n",
        "      idx += 1\n",
        "\n",
        "    running_loss /= len(train_loop)\n",
        "    # running_acc /= len(train_loop)\n",
        "\n",
        "    if (best_loss > running_loss):\n",
        "      best_loss = running_loss\n",
        "      torch.save(model.state_dict(), os.path.join(pt_dir, 'mlm_best_loss.bin'))\n",
        "      print(f'SAVED BEST LOSS MODEL {running_loss}')\n",
        "\n",
        "    \"\"\"\n",
        "    model.eval()\n",
        "    running_acc = 0.0\n",
        "    eval_loop = tqdm(eval_dataloader, total = len(eval_dataloader))\n",
        "\n",
        "    for batch in eval_loop:\n",
        "      with torch.no_grad():\n",
        "        input_ids = batch['input_ids'].squeeze(1).to(device)\n",
        "        attention_mask = batch['attention_masks'].squeeze(1).to(device)\n",
        "        labels = batch['labels'].squeeze(1).to(device)\n",
        "        outputs = model(input_ids, attention_mask = attention_mask, labels = labels, return_dict = True)\n",
        "        results = metric.compute(predictions = outputs['logits'], references = labels,lang = 'ko', device = device)\n",
        "        running_acc += np.mean(results['f1'])\n",
        "\n",
        "      eval_loop.set_description(\"EVALUATING\")\n",
        "      eval_loop.set_postfix({\"ACC\" : np.mean(results['f1'])})\n",
        "\n",
        "    running_acc = running_acc / len(eval_loop)\n",
        "    if running_acc > best_score:\n",
        "      best_score = running_acc\n",
        "      torch.save(model.state_dict(), os.path.join(pt_dir, 'mlm_best_score.bin'))\n",
        "      print(f\"SAVED BEST ACC MODEL ACC : {running_acc}\")\n",
        "    \"\"\"\n",
        "  \n",
        "  return best_loss, model\n"
      ],
      "metadata": {
        "id": "78-YySihs0ym"
      },
      "execution_count": null,
      "outputs": []
    },
    {
      "cell_type": "code",
      "source": [
        "from transformers import AdamW, AutoModelForMaskedLM\n",
        "import gc, copy\n",
        "\n",
        "# 따로 정확도 측정은 하지 않고 계산을 하는 중이다...\n",
        "\n",
        "def mlm_train(start):\n",
        "  device = torch.device('cuda')\n",
        "  n_epochs = 1\n",
        "  best_acc = -np.inf\n",
        "  best_loss = np.inf\n",
        "\n",
        "  mlm_model = AutoModelForMaskedLM.from_pretrained('klue/roberta-large')\n",
        "  mlm_model.to(device)\n",
        "  if os.path.isdir('/content/drive/MyDrive/dacon/KoreanLanguage/ckpt/mlm/mlm_best_loss.bin'):\n",
        "    mlm_model.load_state_dict(torch.load('/content/drive/MyDrive/dacon/KoreanLanguage/ckpt/mlm/mlm_best_loss.bin'))\n",
        "\n",
        "  tokenizer_dir = '/content/drive/MyDrive/dacon/KoreanLanguage/tokenizer/32000_special'\n",
        "  tokenizer = BertTokenizer.from_pretrained(tokenizer_dir)\n",
        "\n",
        "  text_path = '/content/drive/MyDrive/dacon/KoreanLanguage/data/CORPUS/corpus'\n",
        "\n",
        "  for split in range(start, 5):\n",
        "    gc.collect()\n",
        "    torch.cuda.empty_cache()\n",
        "    new_path = text_path + f'/{split}.txt'\n",
        "    with open(new_path, 'r', encoding = 'utf-8') as f:\n",
        "      text = f.read().split('\\n')\n",
        "    sizes = [int(len(text) // 2), -int(len(text) // 2)]\n",
        "    for i in range(2):\n",
        "      train_dataset = MLMDataset(text[:sizes[i]], tokenizer)\n",
        "      train_dataloader = torch.utils.data.DataLoader(train_dataset, batch_size = 8, shuffle = True)\n",
        "\n",
        "    # eval_dataset = MLMDataset(text[train_size:], tokenizer)\n",
        "    # eval_dataloader = torch.utils.data.DataLoader(eval_dataset, batch_size = 8, shuffle = False)\n",
        "\n",
        "    mlm_optimizer = AdamW(mlm_model.parameters(), lr = 5e-5)\n",
        "    mlm_scheduler = torch.optim.lr_scheduler.CosineAnnealingLR(mlm_optimizer, T_max = 100, eta_min = 1e-6, verbose = False)\n",
        "    best_loss, mlm_model = train_mlm(mlm_model, mlm_optimizer,mlm_scheduler, train_dataloader, n_epochs, device, split, best_loss)\n",
        "    del text"
      ],
      "metadata": {
        "id": "eDWlszIns4YR"
      },
      "execution_count": null,
      "outputs": []
    },
    {
      "cell_type": "code",
      "source": [
        "mlm_train(4)"
      ],
      "metadata": {
        "colab": {
          "base_uri": "https://localhost:8080/",
          "height": 142,
          "referenced_widgets": [
            "8345f6afe58d43fe8d3489df8ab8e337",
            "2d06e7d876ee4eea92fec3f243edd7f7",
            "92db37963612449c94b8845d6eb0c7f7",
            "81e45e0bd05945fc8e213c54a01bafc7",
            "b1f94bacb03b4e199ec1caebd7f9aadc",
            "db334361fc71472da6588ca4fec53e80",
            "f53591a75e364ddb8aea180d69631b04",
            "b9a85d7722e84f1b917351c420405b5b",
            "793dcd7f97914125a3c0055706fb7aba",
            "4eccac66451d4e238169c291a0354db8",
            "c37d01fe684144b6bce84f863692abb8"
          ]
        },
        "id": "XFFsJtoSy_vf",
        "outputId": "09930e44-4c6d-4a4f-c8d5-45353c51c7d5"
      },
      "execution_count": null,
      "outputs": [
        {
          "output_type": "stream",
          "name": "stderr",
          "text": [
            "/usr/local/lib/python3.7/dist-packages/transformers/optimization.py:309: FutureWarning: This implementation of AdamW is deprecated and will be removed in a future version. Use thePyTorch implementation torch.optim.AdamW instead, or set `no_deprecation_warning=True` to disable this warning\n",
            "  FutureWarning,\n"
          ]
        },
        {
          "output_type": "display_data",
          "data": {
            "application/vnd.jupyter.widget-view+json": {
              "model_id": "8345f6afe58d43fe8d3489df8ab8e337",
              "version_minor": 0,
              "version_major": 2
            },
            "text/plain": [
              "Downloading:   0%|          | 0.00/2.92k [00:00<?, ?B/s]"
            ]
          },
          "metadata": {}
        },
        {
          "output_type": "stream",
          "name": "stderr",
          "text": [
            "SPLIT : 4 EPOCH : 0 LR : 4.111688774901454e-05: 100%|██████████| 37028/37028 [13:56:10<00:00,  1.35s/it, loss=2.56, running loss=1.69, lr=[4.111688774901454e-05]]\n"
          ]
        },
        {
          "output_type": "stream",
          "name": "stdout",
          "text": [
            "SAVED BEST LOSS MODEL 1.6940054818121617\n"
          ]
        }
      ]
    },
    {
      "cell_type": "markdown",
      "source": [
        "### THE SEQUENCE CLASSIFICATION TASK"
      ],
      "metadata": {
        "id": "mh1O7r2lzPdX"
      }
    },
    {
      "cell_type": "code",
      "source": [
        "# utils.py\n",
        "import konlpy\n",
        "from konlpy.tag import Mecab\n",
        "\n",
        "def make_seq(sen1, sen2):\n",
        "  seq = '[CLS]' + sen1 + '[SEP]' + sen2 + '[SEP]'\n",
        "  return [seq]\n",
        "\n",
        "def preprocessing(text):\n",
        "  import re\n",
        "  # 괄호와 그 내부에 있는 내용은 모두 없애줌 -> train데이터에도 없을 예정이기 때문이다.\n",
        "  regex = \"\\([^)]*\\)\"\n",
        "  text = re.sub(regex, '', text)\n",
        "\n",
        "  # 영어, 숫자, 한글 이외에는 모두 제거\n",
        "  # 정규 표현식 처리할때에 주의하도록 하자 -> 힗으로 표현해서 틀림\n",
        "  text =  re.sub('[^0-9a-zA-Zㄱ-힣.,!?]',' ',text)\n",
        "  # 숫자 정보는 모두 *으로 대체\n",
        "  text = re.sub('[0-9]+','*', text)\n",
        "  return text\n",
        "\n",
        "def join_mecab(text):\n",
        "  mecab = Mecab()\n",
        "  morph_sentence = []\n",
        "  texts = text.split(' ')\n",
        "  for t in texts:\n",
        "    cnt = 0\n",
        "    morphs = mecab.morphs(t)\n",
        "    for tok in morphs:\n",
        "      save_tok = tok\n",
        "      if cnt > 0:\n",
        "        save_tok = '##' + save_tok\n",
        "        morph_sentence.append(save_tok)\n",
        "      else:\n",
        "        morph_sentence.append(save_tok)\n",
        "        cnt += 1\n",
        "  return(' '.join(morph_sentence))"
      ],
      "metadata": {
        "id": "QZ3su4PF5O6n"
      },
      "execution_count": null,
      "outputs": []
    },
    {
      "cell_type": "code",
      "source": [
        "tokenizer.tokenize(preprocessing(data['premise']))"
      ],
      "metadata": {
        "id": "vClWI_oO5x0k"
      },
      "execution_count": null,
      "outputs": []
    },
    {
      "cell_type": "code",
      "source": [
        "train, test = load_dacon_data()\n",
        "data = train.iloc[99]\n",
        "premise, hypothesis = preprocessing(data['premise']), preprocessing(data['hypothesis'])\n",
        "    # pretraining dataset을 전처리 한 것과 동일하게 train용 데이터에도 전처리를 실행해 준다.\n",
        "seq = make_seq(premise, hypothesis)\n",
        "\n",
        "tokenizer_dir = '/content/drive/MyDrive/dacon/KoreanLanguage/tokenizer/32000_special'\n",
        "tokenizer = BertTokenizer.from_pretrained('klue/roberta-large')\n",
        "inputs = tokenizer(seq, max_length = 256, padding = 'max_length', truncation = True, return_tensors = 'pt')\n",
        "inputs"
      ],
      "metadata": {
        "colab": {
          "base_uri": "https://localhost:8080/"
        },
        "id": "KMpduGiN2jxj",
        "outputId": "864f936c-e8d3-411f-a876-1b20d40c94f7"
      },
      "execution_count": null,
      "outputs": [
        {
          "output_type": "execute_result",
          "data": {
            "text/plain": [
              "{'input_ids': tensor([[    0,     0, 22498,  2079, 14889,  2179,  1119,  1654,  2118,  2259,\n",
              "          3638,  2079,  8900,  2052,  4654,  2052, 23548,   575,  2069,  5229,\n",
              "          6233,  3776,  2088, 21132,  2138,  1363,  2088, 29151,  2069,  9878,\n",
              "          2259,   575,  2069,  4545,  2079,   718,  6233,  1238,  2259,  2062,\n",
              "            18,     2,  1119,  1654,  2118,  2259, 29151,  2069,  9878,  2259,\n",
              "           575,  2069,  6582, 19661,  2318, 20328,    18,     2,     2,     1,\n",
              "             1,     1,     1,     1,     1,     1,     1,     1,     1,     1,\n",
              "             1,     1,     1,     1,     1,     1,     1,     1,     1,     1,\n",
              "             1,     1,     1,     1,     1,     1,     1,     1,     1,     1,\n",
              "             1,     1,     1,     1,     1,     1,     1,     1,     1,     1,\n",
              "             1,     1,     1,     1,     1,     1,     1,     1,     1,     1,\n",
              "             1,     1,     1,     1,     1,     1,     1,     1,     1,     1,\n",
              "             1,     1,     1,     1,     1,     1,     1,     1,     1,     1,\n",
              "             1,     1,     1,     1,     1,     1,     1,     1,     1,     1,\n",
              "             1,     1,     1,     1,     1,     1,     1,     1,     1,     1,\n",
              "             1,     1,     1,     1,     1,     1,     1,     1,     1,     1,\n",
              "             1,     1,     1,     1,     1,     1,     1,     1,     1,     1,\n",
              "             1,     1,     1,     1,     1,     1,     1,     1,     1,     1,\n",
              "             1,     1,     1,     1,     1,     1,     1,     1,     1,     1,\n",
              "             1,     1,     1,     1,     1,     1,     1,     1,     1,     1,\n",
              "             1,     1,     1,     1,     1,     1,     1,     1,     1,     1,\n",
              "             1,     1,     1,     1,     1,     1,     1,     1,     1,     1,\n",
              "             1,     1,     1,     1,     1,     1,     1,     1,     1,     1,\n",
              "             1,     1,     1,     1,     1,     1,     1,     1,     1,     1,\n",
              "             1,     1,     1,     1,     1,     1,     1,     1,     1,     1,\n",
              "             1,     1,     1,     1,     1,     1]]), 'token_type_ids': tensor([[0, 0, 0, 0, 0, 0, 0, 0, 0, 0, 0, 0, 0, 0, 0, 0, 0, 0, 0, 0, 0, 0, 0, 0,\n",
              "         0, 0, 0, 0, 0, 0, 0, 0, 0, 0, 0, 0, 0, 0, 0, 0, 0, 0, 0, 0, 0, 0, 0, 0,\n",
              "         0, 0, 0, 0, 0, 0, 0, 0, 0, 0, 0, 0, 0, 0, 0, 0, 0, 0, 0, 0, 0, 0, 0, 0,\n",
              "         0, 0, 0, 0, 0, 0, 0, 0, 0, 0, 0, 0, 0, 0, 0, 0, 0, 0, 0, 0, 0, 0, 0, 0,\n",
              "         0, 0, 0, 0, 0, 0, 0, 0, 0, 0, 0, 0, 0, 0, 0, 0, 0, 0, 0, 0, 0, 0, 0, 0,\n",
              "         0, 0, 0, 0, 0, 0, 0, 0, 0, 0, 0, 0, 0, 0, 0, 0, 0, 0, 0, 0, 0, 0, 0, 0,\n",
              "         0, 0, 0, 0, 0, 0, 0, 0, 0, 0, 0, 0, 0, 0, 0, 0, 0, 0, 0, 0, 0, 0, 0, 0,\n",
              "         0, 0, 0, 0, 0, 0, 0, 0, 0, 0, 0, 0, 0, 0, 0, 0, 0, 0, 0, 0, 0, 0, 0, 0,\n",
              "         0, 0, 0, 0, 0, 0, 0, 0, 0, 0, 0, 0, 0, 0, 0, 0, 0, 0, 0, 0, 0, 0, 0, 0,\n",
              "         0, 0, 0, 0, 0, 0, 0, 0, 0, 0, 0, 0, 0, 0, 0, 0, 0, 0, 0, 0, 0, 0, 0, 0,\n",
              "         0, 0, 0, 0, 0, 0, 0, 0, 0, 0, 0, 0, 0, 0, 0, 0]]), 'attention_mask': tensor([[1, 1, 1, 1, 1, 1, 1, 1, 1, 1, 1, 1, 1, 1, 1, 1, 1, 1, 1, 1, 1, 1, 1, 1,\n",
              "         1, 1, 1, 1, 1, 1, 1, 1, 1, 1, 1, 1, 1, 1, 1, 1, 1, 1, 1, 1, 1, 1, 1, 1,\n",
              "         1, 1, 1, 1, 1, 1, 1, 1, 1, 1, 1, 0, 0, 0, 0, 0, 0, 0, 0, 0, 0, 0, 0, 0,\n",
              "         0, 0, 0, 0, 0, 0, 0, 0, 0, 0, 0, 0, 0, 0, 0, 0, 0, 0, 0, 0, 0, 0, 0, 0,\n",
              "         0, 0, 0, 0, 0, 0, 0, 0, 0, 0, 0, 0, 0, 0, 0, 0, 0, 0, 0, 0, 0, 0, 0, 0,\n",
              "         0, 0, 0, 0, 0, 0, 0, 0, 0, 0, 0, 0, 0, 0, 0, 0, 0, 0, 0, 0, 0, 0, 0, 0,\n",
              "         0, 0, 0, 0, 0, 0, 0, 0, 0, 0, 0, 0, 0, 0, 0, 0, 0, 0, 0, 0, 0, 0, 0, 0,\n",
              "         0, 0, 0, 0, 0, 0, 0, 0, 0, 0, 0, 0, 0, 0, 0, 0, 0, 0, 0, 0, 0, 0, 0, 0,\n",
              "         0, 0, 0, 0, 0, 0, 0, 0, 0, 0, 0, 0, 0, 0, 0, 0, 0, 0, 0, 0, 0, 0, 0, 0,\n",
              "         0, 0, 0, 0, 0, 0, 0, 0, 0, 0, 0, 0, 0, 0, 0, 0, 0, 0, 0, 0, 0, 0, 0, 0,\n",
              "         0, 0, 0, 0, 0, 0, 0, 0, 0, 0, 0, 0, 0, 0, 0, 0]])}"
            ]
          },
          "metadata": {},
          "execution_count": 6
        }
      ]
    },
    {
      "cell_type": "code",
      "source": [
        "# dataset.py\n",
        "labels = ['contradiction', 'neutral', 'entailment']\n",
        "\n",
        "label_encoder = {key : item for key, item in zip(labels, range(3))}\n",
        "label_decoder = {key : item for key, item in zip(range(3), labels)}\n",
        "\n",
        "class KoSDataset(torch.utils.data.Dataset):\n",
        "  def __init__(self,text,fold, tokenizer, train_mode = True, test_mode = False):\n",
        "    \"\"\"\n",
        "    train_mode : False이면 validation 데이터를 사용해야 한다.\n",
        "    \"\"\"\n",
        "    self.tokenizer = tokenizer\n",
        "    self.train_mode = train_mode\n",
        "    self.test_mode = test_mode\n",
        "    if self.test_mode:\n",
        "      self.data = text\n",
        "    elif self.train_mode:\n",
        "      self.data = text[text['fold'] != fold]\n",
        "    elif not self.train_mode:\n",
        "      self.data = text[text['fold'] == fold]\n",
        "  \n",
        "  \n",
        "  def __len__(self):\n",
        "    return len(self.data)\n",
        "  \n",
        "  def __getitem__(self, idx):\n",
        "    data = self.data.iloc[idx]\n",
        "    premise, hypothesis = data['premise'], data['hypothesis']\n",
        "    premise, hypothesis = preprocessing(data['premise']), preprocessing(data['hypothesis'])\n",
        "    # pretraining dataset을 전처리 한 것과 동일하게 train용 데이터에도 전처리를 실행해 준다.\n",
        "    seq = make_seq(premise, hypothesis)\n",
        "\n",
        "    inputs = self.tokenizer(seq, max_length = 256, padding = 'max_length', truncation = True, return_tensors = 'pt')\n",
        "    if not self.test_mode:\n",
        "      inputs['labels'] = torch.tensor(label_encoder[data['label']], dtype = torch.long)\n",
        "    return inputs"
      ],
      "metadata": {
        "id": "sNUAn5GD5BdD"
      },
      "execution_count": null,
      "outputs": []
    },
    {
      "cell_type": "code",
      "source": [
        "# 별차이는 없을 수도 있으나 우선은 accuracy가 제일 높았던 모델에 대해서 5fold로 시험해 보고자 한다.\n",
        "# network.py\n",
        "class KoSBERT(nn.Module):\n",
        "  def __init__(self, bert_model, linear_dim, reinit_pooler = False, reinit_layers = 0, layers_used = 4,\n",
        "               stack_dropout_p = 0.1, linear_dropout_p = 0.5, num_labels = 3,\n",
        "               ):\n",
        "    super().__init__()\n",
        "\n",
        "    self.bert = bert_model\n",
        "\n",
        "    self.dropout_bert_stack = nn.Dropout(p = stack_dropout_p)\n",
        "    \n",
        "    hidden_d = self.bert.config.hidden_size # 1024\n",
        "    # POOLER\n",
        "    self.pooler = nn.AdaptiveAvgPool1d(output_size = 1024)\n",
        "\n",
        "    # CNN 1D\n",
        "    self.cnn = nn.Sequential(\n",
        "      nn.Conv1d(hidden_d, 2*hidden_d, kernel_size = 5, stride = 2, padding = 2),\n",
        "      nn.BatchNorm1d(2*hidden_d),\n",
        "      nn.LeakyReLU(),\n",
        "      nn.Conv1d(2*hidden_d, 4*hidden_d, kernel_size = 5, stride = 2, padding = 2),\n",
        "      nn.BatchNorm1d(4*hidden_d),\n",
        "      nn.LeakyReLU()\n",
        "      )\n",
        "    \n",
        "    # LINEAR\n",
        "    lin_size = hidden_d * (1 + 4) # (cnn + hidden_state)\n",
        "\n",
        "    self.linear = nn.Sequential(\n",
        "        nn.Linear(lin_size, lin_size),\n",
        "        nn.ReLU(),\n",
        "        nn.Linear(lin_size, num_labels)\n",
        "    )\n",
        "\n",
        "    with torch.no_grad():\n",
        "      if reinit_pooler:\n",
        "        self.bert.pooler.dense.weight.data.normal_(mean = 0.0, std = self.bert.config.initializer_range)\n",
        "        self.bert.pooler.dense.bias.data.zero_() \n",
        "        for p in self.bert.pooler.parameters():\n",
        "          p.requires_grad = True\n",
        "\n",
        "      if reinit_layers > 0:\n",
        "        layers = self.bert.encoder.layer[-reinit_layers:]\n",
        "        for layer in layers:\n",
        "          for module in layer.modules():\n",
        "            if isinstance(module, nn.Linear):\n",
        "              module.weight.data.normal_(mean = 0.0, std = self.bert.config.initializer_range)\n",
        "              if module.bias is not None:\n",
        "                module.bias.data.zero_()\n",
        "            elif isinstance(module, nn.LayerNorm):\n",
        "              module.bias.data.zero_()\n",
        "              module.weight.data.fill_(1.0)\n",
        "\n",
        "  def forward(self, input_ids, attention_mask):\n",
        "    x = self.bert(input_ids, attention_mask, output_hidden_states = True)\n",
        "    hidden_states, logits = x.hidden_states, x.logits\n",
        "    # (25, batch, L, 1024) (batch, L, 1024) \n",
        "    pooled = self.pooler(logits)\n",
        "\n",
        "    # 문장의 전체적인 내용을 확인하기 위해서 사용\n",
        "    h = torch.stack([self.dropout_bert_stack(x) for x in hidden_states[-4:]]).mean(dim = 0) # (B, L, 1024)\n",
        "    x = torch.sum(h * attention_mask[..., None], dim = 1) # (B, L, 1024) * (B, L, 1) -> (B,1024)\n",
        "    x /=  torch.sum(attention_mask, dim = -1, keepdim = True) # (B,1024) / (B,1) -> (B,1024)\n",
        "\n",
        "    pooled = torch.sum(pooled * attention_mask[...,None], dim = 1, keepdim = True)\n",
        "    pooled /=  torch.sum(pooled, dim = -1, keepdim = True)\n",
        "    z = self.cnn(pooled.transpose(1,2)).mean(2) \n",
        "    x = torch.cat([x,z],dim = 1)\n",
        "    x = self.linear(x)\n",
        "\n",
        "    return x\n"
      ],
      "metadata": {
        "id": "NsFG0jGDzSYJ"
      },
      "execution_count": null,
      "outputs": []
    },
    {
      "cell_type": "code",
      "source": [
        "# lookahead.py\n",
        "class Lookahead(Optimizer):\n",
        "    def __init__(self, optimizer, k=5, alpha=0.5):\n",
        "        self.optimizer = optimizer\n",
        "        self.k = k\n",
        "        self.alpha = alpha\n",
        "        self.param_groups = self.optimizer.param_groups\n",
        "        self.state = defaultdict(dict)\n",
        "        self.fast_state = self.optimizer.state\n",
        "        for group in self.param_groups:\n",
        "            group[\"counter\"] = 0\n",
        "\n",
        "    def update(self, group):\n",
        "        for fast in group[\"params\"]:\n",
        "            param_state = self.state[fast]\n",
        "            if \"slow_param\" not in param_state:\n",
        "                param_state[\"slow_param\"] = torch.zeros_like(fast.data)\n",
        "                param_state[\"slow_param\"].copy_(fast.data)\n",
        "            slow = param_state[\"slow_param\"]\n",
        "            slow += (fast.data - slow) * self.alpha\n",
        "            fast.data.copy_(slow)\n",
        "\n",
        "    def update_lookahead(self):\n",
        "        for group in self.param_groups:\n",
        "            self.update(group)\n",
        "\n",
        "    def step(self, closure=None):\n",
        "        loss = self.optimizer.step(closure)\n",
        "        for group in self.param_groups:\n",
        "            if group[\"counter\"] == 0:\n",
        "                self.update(group)\n",
        "            group[\"counter\"] += 1\n",
        "            if group[\"counter\"] >= self.k:\n",
        "                group[\"counter\"] = 0\n",
        "        return loss\n",
        "\n",
        "    def state_dict(self):\n",
        "        fast_state_dict = self.optimizer.state_dict()\n",
        "        slow_state = {(id(k) if isinstance(k, torch.Tensor) else k): v for k, v in self.state.items()}\n",
        "        fast_state = fast_state_dict[\"state\"]\n",
        "        param_groups = fast_state_dict[\"param_groups\"]\n",
        "        return {\n",
        "            \"fast_state\": fast_state,\n",
        "            \"slow_state\": slow_state,\n",
        "            \"param_groups\": param_groups,\n",
        "        }\n",
        "\n",
        "    def load_state_dict(self, state_dict):\n",
        "        slow_state_dict = {\n",
        "            \"state\": state_dict[\"slow_state\"],\n",
        "            \"param_groups\": state_dict[\"param_groups\"],\n",
        "        }\n",
        "        fast_state_dict = {\n",
        "            \"state\": state_dict[\"fast_state\"],\n",
        "            \"param_groups\": state_dict[\"param_groups\"],\n",
        "        }\n",
        "        super(Lookahead, self).load_state_dict(slow_state_dict)\n",
        "        self.optimizer.load_state_dict(fast_state_dict)\n",
        "        self.fast_state = self.optimizer.state\n",
        "\n",
        "    def add_param_group(self, param_group):\n",
        "        param_group[\"counter\"] = 0\n",
        "        self.optimizer.add_param_group(param_group)"
      ],
      "metadata": {
        "id": "_UYkMtNdBOih"
      },
      "execution_count": null,
      "outputs": []
    },
    {
      "cell_type": "code",
      "source": [
        "# VALIDATION\n",
        "from tqdm import tqdm\n",
        "from sklearn.metrics import f1_score\n",
        "\n",
        "def run_valid(model, valid_dataloader):\n",
        "  model.eval()\n",
        "  running_loss = 0.0\n",
        "  label_list, pred_list = [], []\n",
        "  criterion = nn.CrossEntropyLoss()\n",
        "\n",
        "  eval_loop = tqdm(valid_dataloader)\n",
        "  for data in eval_loop:\n",
        "    ids = data['input_ids'].squeeze(1).to(device)\n",
        "    att_mask = data['attention_mask'].squeeze(1).to(device)\n",
        "    label = data['labels'].to(device)\n",
        "    \n",
        "    with torch.no_grad():\n",
        "      with amp.autocast():\n",
        "        outputs = model(ids, att_mask)\n",
        "        loss = criterion(outputs, label)\n",
        "      running_loss += loss\n",
        "      eval_loop.set_postfix({'loss' : loss.item()})\n",
        "      label_list.extend(label.detach().cpu().numpy())\n",
        "      pred_list.extend(outputs.argmax(dim = 1).tolist())\n",
        "\n",
        "    val_mean_loss = running_loss / len(valid_dataloader)\n",
        "    val_score = f1_score(label_list, pred_list, average = 'macro')\n",
        "    val_acc = accuracy_score(label_list, pred_list)\n",
        "  \n",
        "  return val_mean_loss, val_score, val_acc"
      ],
      "metadata": {
        "id": "Q8wDsqDRilTO"
      },
      "execution_count": null,
      "outputs": []
    },
    {
      "cell_type": "code",
      "source": [
        "def manage_grad(model):\n",
        "  for name, module in model.bert.named_modules():\n",
        "    if isinstance(module, nn.LayerNorm):\n",
        "      for param in module.parameters():\n",
        "        param.requires_grad = True\n",
        "    else:\n",
        "      for param in module.parameters():\n",
        "        param.requires_grad = False\n",
        "  return model\n",
        "\n",
        "def manage_second_grad(model):\n",
        "  for named, module in model.bert.named_modules():\n",
        "    if isinstance(module,nn.LayerNorm):\n",
        "      for param in module.parameters():\n",
        "        param.requires_grad = False\n",
        "    else:\n",
        "      for param in module.parameters():\n",
        "        param.requires_grad = True\n",
        "  return model"
      ],
      "metadata": {
        "id": "WE1Tas86wYZg"
      },
      "execution_count": null,
      "outputs": []
    },
    {
      "cell_type": "code",
      "source": [
        "# TRAINING\n",
        "from torch.cuda.amp.grad_scaler import OptState as OptState\n",
        "from transformers import AutoModelForMaskedLM\n",
        "from tqdm import tqdm\n",
        "from transformers import BertTokenizer\n",
        "def run_train(fold):\n",
        "  os.makedirs(args.out_dir, exist_ok = True)\n",
        "  train, test = load_dacon_data()\n",
        "  ## make dataloaders\n",
        "  tokenizer_dir = '/content/drive/MyDrive/dacon/KoreanLanguage/tokenizer/32000_special'\n",
        "  # tokenizer = BertTokenizer.from_pretrained(tokenizer_dir)\n",
        "\n",
        "  tokenizer = BertTokenizer.from_pretrained('klue/roberta-large')\n",
        "  train_dataset = KoSDataset(train,fold, tokenizer, train_mode = True)\n",
        "  valid_dataset = KoSDataset(train, fold, tokenizer, train_mode = False)\n",
        "\n",
        "  train_dataloader = torch.utils.data.DataLoader(train_dataset, batch_size = 8, shuffle = True)\n",
        "  valid_dataloader = torch.utils.data.DataLoader(valid_dataset, batch_size = 8, shuffle = False)\n",
        "\n",
        "  ## model\n",
        "  scaler = amp.GradScaler()\n",
        "  bert = AutoModelForMaskedLM.from_pretrained('klue/roberta-large')\n",
        "  # bert.load_state_dict(torch.load('/content/drive/MyDrive/dacon/KoreanLanguage/ckpt/mlm/mlm_best_loss.bin'))\n",
        "\n",
        "  model = KoSBERT(bert, args.linear_dim,)\n",
        "  ckpt_pth = os.path.join('/content/drive/MyDrive/dacon/KoreanLanguage/ckpt/roberta', f'ixxi_{fold}.bin')\n",
        "  if os.path.isfile(ckpt_pth):\n",
        "    model.load_state_dict(torch.load(ckpt_pth))  \n",
        "\n",
        "  model.to(device)\n",
        "  # model = manage_grad(model)\n",
        "  ## loss\n",
        "  criterion = nn.CrossEntropyLoss()\n",
        "\n",
        "  ## optimizer\n",
        "  #optimizer = torch.optim.AdamW(filter(lambda p : p.requires_grad, model.parameters()), lr = 5e-5)\n",
        "  #scheduler = torch.optim.lr_scheduler.CosineAnnealingLR(optimizer, T_max = 500, eta_min = 1e-6)\n",
        "  #scheduler = None\n",
        "  optimizer = Lookahead(torch.optim.RAdam(filter(lambda p: p.requires_grad,model.parameters()), lr=5e-5), alpha=0.5, k=5)\n",
        "  #scheduler = get_cosine_with_hard_restarts_schedule_with_warmup(optimizer, num_warmup_steps = 100, num_training_steps = len(train_dataloader) * 10, num_cycles = 500)\n",
        "  scheduler = get_cosine_schedule_with_warmup(optimizer, num_warmup_steps = 100, num_training_steps = len(train_dataloader)*10)\n",
        "  start_lr = 5e-5\n",
        "\n",
        "  ## start training & validation\n",
        "  start_timer = timer()\n",
        "  best_acc = -np.inf\n",
        "  best_epoch = -1\n",
        "  best_loss = np.inf\n",
        "\n",
        "  for epoch in range(1, 14+1):\n",
        "    if (epoch == 10):\n",
        "      model = manage_second_grad(model)\n",
        "      optimizer = Lookahead(torch.optim.RAdam(filter(lambda p: p.requires_grad,model.parameters()), lr=1e-5), alpha=0.5, k=5)\n",
        "      scheduler = get_linear_schedule_with_warmup(optimizer, num_warmup_steps = 500, num_training_steps = len(train_dataloader)*5)\n",
        "      # scheduler = None\n",
        "\n",
        "    gc.collect()\n",
        "    torch.cuda.empty_cache()\n",
        "    train_loss = 0.0\n",
        "    valid_loss = 0.0\n",
        "\n",
        "    label_list, pred_list = [], []\n",
        "    lr = optimizer.state_dict()['param_groups'][0]['lr']\n",
        "\n",
        "    print(\">>>>>>>>>>>>>>>>>>>>\")\n",
        "    print(f\"FOLD : {fold} EPOCH : {epoch} START LR : {lr}\")\n",
        "    print(\"<<<<<<<<<<<<<<<<<<<<\")\n",
        "\n",
        "    train_loop = tqdm(train_dataloader)\n",
        "    model.train()\n",
        "    for data in train_loop:\n",
        "      ids = data['input_ids'].squeeze(1).to(device)\n",
        "      att_mask = data['attention_mask'].squeeze(1).to(device)\n",
        "      label = data['labels'].to(device)\n",
        "      optimizer.zero_grad()\n",
        "\n",
        "      with amp.autocast():\n",
        "        output = model(ids, att_mask)\n",
        "        loss = criterion(output, label)\n",
        "        train_loss += loss\n",
        "\n",
        "      scaler.scale(loss).backward()\n",
        "      scaler.step(optimizer)\n",
        "      scaler.update()\n",
        "      scheduler.step()\n",
        "\n",
        "      train_loop.set_postfix({'loss' : loss.item(),\n",
        "                              'lr' : optimizer.state_dict()['param_groups'][0]['lr']})\n",
        "\n",
        "      label_list.extend(label.detach().cpu().numpy())\n",
        "      pred_list.extend(output.argmax(dim = 1).tolist())\n",
        "      \n",
        "    # optimizer이 forward step을 진행한 상태이면 scheduler을 적용\n",
        "    \"\"\"\n",
        "    if scaler._per_optimizer_states[id(optimizer)][\"stage\"] is OptState.STEPPED and scheduler is not None:\n",
        "      print(\"SCHEDULER ENABLED\")\n",
        "      scheduler.step()\n",
        "    \"\"\"\n",
        " \n",
        "    train_loss /= len(train_dataloader)\n",
        "    train_score = f1_score(label_list, pred_list, average = 'macro')\n",
        "    train_acc = accuracy_score(label_list, pred_list)\n",
        "\n",
        "    # valid step\n",
        "    val_loss, val_score, val_acc = run_valid(model, valid_dataloader)\n",
        "\n",
        "    if val_acc > best_acc:\n",
        "      best_acc = val_acc\n",
        "      best_epoch = epoch\n",
        "      best_loss = valid_loss\n",
        "\n",
        "      torch.save(model.state_dict(), os.path.join('/content/drive/MyDrive/dacon/KoreanLanguage/ckpt/roberta', f\"ixxi_{fold}.bin\"))\n",
        "      print(\"SAVED BEST MODEL\")\n",
        "    \n",
        "    print(f\"TRAIN LOSS : {train_loss : .4f}  TRAIN F1 SCORE : {train_score : .4f} TRAIN ACC : {train_acc : .4f}\")\n",
        "    print(f\"VALID LOSS : {val_loss : .4f} VALID F1 SCORE : {val_score : .4f}  VALID ACC : {val_acc : .4f}\")\n",
        "  \n",
        "  print(f\"BEST VALID LOSS : {best_loss : .4f} BEST ACC ; {best_acc : .4f} BEST EPOCH : {best_epoch}\")"
      ],
      "metadata": {
        "id": "U8OZD-YTlaGS"
      },
      "execution_count": null,
      "outputs": []
    },
    {
      "cell_type": "code",
      "source": [
        "import gc\n",
        "gc.collect()\n",
        "torch.cuda.empty_cache()\n",
        "\n",
        "last_stopped = 4\n",
        "for fold in range(last_stopped, 5):\n",
        "  run_train(fold)"
      ],
      "metadata": {
        "colab": {
          "base_uri": "https://localhost:8080/",
          "height": 1000,
          "referenced_widgets": [
            "9691511497754891b27bde167fb2e2d5",
            "d5078da0fdad415faf9909e56a197b40",
            "46e9e3c88df44ac4a206970acb08f451",
            "81c5bee78b6a46739f31928ec3196a47",
            "c43f883e34cd44eabee54b6a12a842a7",
            "944382135edd494597181aff22f15329",
            "fa63d7906a5b4f689e60bee1c79d3891",
            "fbcd98684594421c8c706a5513398902",
            "efe0021f93c54d71bea73f6798ead540",
            "5a9e64ff31694878902c301db694d371",
            "fe9cb02ae37c4b3d97d7bcb2b19bf000",
            "7cbc21ff27124b3e9751495362447607",
            "47a09856c3ee4bd98447b40fc762ceed",
            "e85263773d3940cbabcf905cf9897e4f",
            "a9928ae781a64d4f91633249429bea1a",
            "fd96b406a9804df5b948605b9ad032f8",
            "533aaca104da41e9a1bdee086cd1eb73",
            "212b267b01a94cbf849ee524e3f4642d",
            "b8938b5e81db477aac377f7a2cc0f5d8",
            "98a9ccaf61fb4ad8bc63258b19622778",
            "00c4366000da41c38c6824eb1f212760",
            "5d50b65dae0b4e50bdcd20c3147a0bb6",
            "98db7a0758de43aca5099d944fbd6dcf",
            "12e375a6f3744f0bb8dfa81e709259ed",
            "c86eaf6ae9604678b76af7b5737f90f0",
            "181828fd0257434abe552a4d9f0d99ca",
            "dbcccbc08bc54816947265770955532b",
            "aa4fd43972d649ceb2d59d81777ac392",
            "7f843355421640d99ecdeadc0aebf4ef",
            "935ca3c8999942589e41e00c394ee8e9",
            "ad3996efb8f441a68ac732e667dfd4a8",
            "2dece83fb82b464aa149ae8bd838e0b2",
            "38e70884b2314f0596bbb2edcd2ca21b",
            "a327d99e15814e249451851db9dcca05",
            "7233cbb43aa945af9474493c396320b8",
            "aaca7c7521aa45459d909d3ff205b145",
            "17f91ac6854940189d734a607a1c0ddb",
            "74f01f345ead4a219811ac43ed55acc6",
            "11c12c3d965a46f5b7db8725dc379f82",
            "d0adf44d2e4948ca95c7cf5209851938",
            "33677630139e40679822f81fb904f5a1",
            "a913bfb26a3b4c609b45b1c2868b7769",
            "4c44155e16b94733aa3df2395320a6fb",
            "6300449ccfba498badb07ae935d7c9a0",
            "b784aae0722245d48234517262227e74",
            "f9cea94d5be2457aae994028726572b5",
            "0f16af82845f4b58ba036920e273efd0",
            "de3ad3020f704df6aa21c0b490d9b2c9",
            "882b0a1e02834ccf926e068f41be5f24",
            "fc7f7b03d8444518abdbc6804bd378f9",
            "2f4a8da9a1794d6e8df6f1d217c35b9d",
            "a54cc9b075d04256a34ecabf59e5ccc5",
            "5394346cc70543c4aa12748c8a9e3146",
            "ba47a42ac95148fe8724c5f69a7485b6",
            "191d0da75b2449b894b326725101f084",
            "4a9689e5dc7f470289474675545f2b15",
            "4ab14ea4aedc4f47bb6c97630821f6aa",
            "c84d0af61e1f434a9fa58e9f0eaff55e",
            "d7a318552a764a8a895e2f9eb6e3ce18",
            "ad12eb3e63044495a28e44b9c6c7a7fd",
            "91d6009f8b434f35bd63493a36eeccf0",
            "ccf3f276fab94b8aa690d39d052f7659",
            "28d41a4d15584c9e9d59c3bdc6e34224",
            "346594e5ea844799ab2b6d7191029d2c",
            "fd66cc51e2a9434da35f9bc6410cd1da",
            "53f0e061a3bf4491b235d251168bcba6"
          ]
        },
        "id": "5aBWiIcxnVDI",
        "outputId": "65767364-6946-48cc-c425-8486e4a53c1f"
      },
      "execution_count": null,
      "outputs": [
        {
          "output_type": "display_data",
          "data": {
            "application/vnd.jupyter.widget-view+json": {
              "model_id": "9691511497754891b27bde167fb2e2d5",
              "version_minor": 0,
              "version_major": 2
            },
            "text/plain": [
              "Downloading:   0%|          | 0.00/375 [00:00<?, ?B/s]"
            ]
          },
          "metadata": {}
        },
        {
          "output_type": "display_data",
          "data": {
            "application/vnd.jupyter.widget-view+json": {
              "model_id": "7cbc21ff27124b3e9751495362447607",
              "version_minor": 0,
              "version_major": 2
            },
            "text/plain": [
              "Downloading:   0%|          | 0.00/243k [00:00<?, ?B/s]"
            ]
          },
          "metadata": {}
        },
        {
          "output_type": "display_data",
          "data": {
            "application/vnd.jupyter.widget-view+json": {
              "model_id": "98db7a0758de43aca5099d944fbd6dcf",
              "version_minor": 0,
              "version_major": 2
            },
            "text/plain": [
              "Downloading:   0%|          | 0.00/173 [00:00<?, ?B/s]"
            ]
          },
          "metadata": {}
        },
        {
          "output_type": "display_data",
          "data": {
            "application/vnd.jupyter.widget-view+json": {
              "model_id": "a327d99e15814e249451851db9dcca05",
              "version_minor": 0,
              "version_major": 2
            },
            "text/plain": [
              "Downloading:   0%|          | 0.00/734k [00:00<?, ?B/s]"
            ]
          },
          "metadata": {}
        },
        {
          "output_type": "display_data",
          "data": {
            "application/vnd.jupyter.widget-view+json": {
              "model_id": "b784aae0722245d48234517262227e74",
              "version_minor": 0,
              "version_major": 2
            },
            "text/plain": [
              "Downloading:   0%|          | 0.00/547 [00:00<?, ?B/s]"
            ]
          },
          "metadata": {}
        },
        {
          "output_type": "display_data",
          "data": {
            "application/vnd.jupyter.widget-view+json": {
              "model_id": "4a9689e5dc7f470289474675545f2b15",
              "version_minor": 0,
              "version_major": 2
            },
            "text/plain": [
              "Downloading:   0%|          | 0.00/1.25G [00:00<?, ?B/s]"
            ]
          },
          "metadata": {}
        },
        {
          "output_type": "stream",
          "name": "stdout",
          "text": [
            ">>>>>>>>>>>>>>>>>>>>\n",
            "FOLD : 4 EPOCH : 1 START LR : 0.0\n",
            "<<<<<<<<<<<<<<<<<<<<\n"
          ]
        },
        {
          "output_type": "stream",
          "name": "stderr",
          "text": [
            "  0%|          | 0/2500 [00:00<?, ?it/s]/usr/local/lib/python3.7/dist-packages/torch/optim/lr_scheduler.py:134: UserWarning: Detected call of `lr_scheduler.step()` before `optimizer.step()`. In PyTorch 1.1.0 and later, you should call them in the opposite order: `optimizer.step()` before `lr_scheduler.step()`.  Failure to do this will result in PyTorch skipping the first value of the learning rate schedule. See more details at https://pytorch.org/docs/stable/optim.html#how-to-adjust-learning-rate\n",
            "  \"https://pytorch.org/docs/stable/optim.html#how-to-adjust-learning-rate\", UserWarning)\n",
            "100%|██████████| 2500/2500 [37:18<00:00,  1.12it/s, loss=0.278, lr=4.89e-5]\n",
            "100%|██████████| 625/625 [02:56<00:00,  3.55it/s, loss=0.356]\n"
          ]
        },
        {
          "output_type": "stream",
          "name": "stdout",
          "text": [
            "SAVED BEST MODEL\n",
            "TRAIN LOSS :  0.4487  TRAIN F1 SCORE :  0.8292 TRAIN ACC :  0.8300\n",
            "VALID LOSS :  0.3587 VALID F1 SCORE :  0.8700  VALID ACC :  0.8704\n",
            ">>>>>>>>>>>>>>>>>>>>\n",
            "FOLD : 4 EPOCH : 2 START LR : 4.886260156928888e-05\n",
            "<<<<<<<<<<<<<<<<<<<<\n"
          ]
        },
        {
          "output_type": "stream",
          "name": "stderr",
          "text": [
            "100%|██████████| 2500/2500 [37:18<00:00,  1.12it/s, loss=0.101, lr=4.54e-5]\n",
            "100%|██████████| 625/625 [02:56<00:00,  3.55it/s, loss=0.0785]\n"
          ]
        },
        {
          "output_type": "stream",
          "name": "stdout",
          "text": [
            "TRAIN LOSS :  0.2847  TRAIN F1 SCORE :  0.8961 TRAIN ACC :  0.8964\n",
            "VALID LOSS :  0.3730 VALID F1 SCORE :  0.8587  VALID ACC :  0.8602\n",
            ">>>>>>>>>>>>>>>>>>>>\n",
            "FOLD : 4 EPOCH : 3 START LR : 4.537271191107585e-05\n",
            "<<<<<<<<<<<<<<<<<<<<\n"
          ]
        },
        {
          "output_type": "stream",
          "name": "stderr",
          "text": [
            "100%|██████████| 2500/2500 [37:18<00:00,  1.12it/s, loss=0.0611, lr=3.99e-5]\n",
            "100%|██████████| 625/625 [02:55<00:00,  3.56it/s, loss=0.126]\n"
          ]
        },
        {
          "output_type": "stream",
          "name": "stdout",
          "text": [
            "SAVED BEST MODEL\n",
            "TRAIN LOSS :  0.1859  TRAIN F1 SCORE :  0.9319 TRAIN ACC :  0.9320\n",
            "VALID LOSS :  0.3522 VALID F1 SCORE :  0.8727  VALID ACC :  0.8728\n",
            ">>>>>>>>>>>>>>>>>>>>\n",
            "FOLD : 4 EPOCH : 4 START LR : 3.987268253070273e-05\n",
            "<<<<<<<<<<<<<<<<<<<<\n"
          ]
        },
        {
          "output_type": "stream",
          "name": "stderr",
          "text": [
            "100%|██████████| 2500/2500 [37:15<00:00,  1.12it/s, loss=0.00154, lr=3.29e-5]\n",
            "100%|██████████| 625/625 [02:55<00:00,  3.56it/s, loss=0.00167]\n"
          ]
        },
        {
          "output_type": "stream",
          "name": "stdout",
          "text": [
            "TRAIN LOSS :  0.1133  TRAIN F1 SCORE :  0.9612 TRAIN ACC :  0.9612\n",
            "VALID LOSS :  0.5045 VALID F1 SCORE :  0.8721  VALID ACC :  0.8728\n",
            ">>>>>>>>>>>>>>>>>>>>\n",
            "FOLD : 4 EPOCH : 5 START LR : 3.29051916724206e-05\n",
            "<<<<<<<<<<<<<<<<<<<<\n"
          ]
        },
        {
          "output_type": "stream",
          "name": "stderr",
          "text": [
            "100%|██████████| 2500/2500 [37:15<00:00,  1.12it/s, loss=1.38, lr=2.52e-5]\n",
            "100%|██████████| 625/625 [02:55<00:00,  3.57it/s, loss=0.000422]\n"
          ]
        },
        {
          "output_type": "stream",
          "name": "stdout",
          "text": [
            "SAVED BEST MODEL\n",
            "TRAIN LOSS :  0.0700  TRAIN F1 SCORE :  0.9758 TRAIN ACC :  0.9758\n",
            "VALID LOSS :  0.4911 VALID F1 SCORE :  0.8807  VALID ACC :  0.8814\n",
            ">>>>>>>>>>>>>>>>>>>>\n",
            "FOLD : 4 EPOCH : 6 START LR : 2.5157709428534936e-05\n",
            "<<<<<<<<<<<<<<<<<<<<\n"
          ]
        },
        {
          "output_type": "stream",
          "name": "stderr",
          "text": [
            "100%|██████████| 2500/2500 [37:15<00:00,  1.12it/s, loss=0.00265, lr=1.74e-5]\n",
            "100%|██████████| 625/625 [02:55<00:00,  3.56it/s, loss=0.00581]\n"
          ]
        },
        {
          "output_type": "stream",
          "name": "stdout",
          "text": [
            "SAVED BEST MODEL\n",
            "TRAIN LOSS :  0.0453  TRAIN F1 SCORE :  0.9856 TRAIN ACC :  0.9855\n",
            "VALID LOSS :  0.4651 VALID F1 SCORE :  0.8829  VALID ACC :  0.8834\n",
            ">>>>>>>>>>>>>>>>>>>>\n",
            "FOLD : 4 EPOCH : 7 START LR : 1.739466627217767e-05\n",
            "<<<<<<<<<<<<<<<<<<<<\n"
          ]
        },
        {
          "output_type": "stream",
          "name": "stderr",
          "text": [
            "100%|██████████| 2500/2500 [37:15<00:00,  1.12it/s, loss=9.49e-5, lr=1.04e-5]\n",
            "100%|██████████| 625/625 [02:55<00:00,  3.56it/s, loss=0.00099]\n"
          ]
        },
        {
          "output_type": "stream",
          "name": "stdout",
          "text": [
            "SAVED BEST MODEL\n",
            "TRAIN LOSS :  0.0221  TRAIN F1 SCORE :  0.9930 TRAIN ACC :  0.9929\n",
            "VALID LOSS :  0.6008 VALID F1 SCORE :  0.8832  VALID ACC :  0.8838\n",
            ">>>>>>>>>>>>>>>>>>>>\n",
            "FOLD : 4 EPOCH : 8 START LR : 1.0382028044398822e-05\n",
            "<<<<<<<<<<<<<<<<<<<<\n"
          ]
        },
        {
          "output_type": "stream",
          "name": "stderr",
          "text": [
            "100%|██████████| 2500/2500 [37:14<00:00,  1.12it/s, loss=9.85e-5, lr=4.81e-6]\n",
            "100%|██████████| 625/625 [02:55<00:00,  3.56it/s, loss=2.17e-5]\n"
          ]
        },
        {
          "output_type": "stream",
          "name": "stdout",
          "text": [
            "SAVED BEST MODEL\n",
            "TRAIN LOSS :  0.0090  TRAIN F1 SCORE :  0.9973 TRAIN ACC :  0.9973\n",
            "VALID LOSS :  0.7167 VALID F1 SCORE :  0.8865  VALID ACC :  0.8870\n",
            ">>>>>>>>>>>>>>>>>>>>\n",
            "FOLD : 4 EPOCH : 9 START LR : 4.811719449200755e-06\n",
            "<<<<<<<<<<<<<<<<<<<<\n"
          ]
        },
        {
          "output_type": "stream",
          "name": "stderr",
          "text": [
            "100%|██████████| 2500/2500 [37:14<00:00,  1.12it/s, loss=4.1e-6, lr=1.23e-6]\n",
            "100%|██████████| 625/625 [02:55<00:00,  3.56it/s, loss=3.07e-5]\n"
          ]
        },
        {
          "output_type": "stream",
          "name": "stdout",
          "text": [
            "SAVED BEST MODEL\n",
            "TRAIN LOSS :  0.0042  TRAIN F1 SCORE :  0.9985 TRAIN ACC :  0.9985\n",
            "VALID LOSS :  0.7480 VALID F1 SCORE :  0.8886  VALID ACC :  0.8892\n",
            ">>>>>>>>>>>>>>>>>>>>\n",
            "FOLD : 4 EPOCH : 10 START LR : 0.0\n",
            "<<<<<<<<<<<<<<<<<<<<\n"
          ]
        },
        {
          "output_type": "stream",
          "name": "stderr",
          "text": [
            "100%|██████████| 2500/2500 [36:55<00:00,  1.13it/s, loss=0.00062, lr=8.33e-6]\n",
            "100%|██████████| 625/625 [02:55<00:00,  3.56it/s, loss=1.43e-5]\n"
          ]
        },
        {
          "output_type": "stream",
          "name": "stdout",
          "text": [
            "TRAIN LOSS :  0.0058  TRAIN F1 SCORE :  0.9982 TRAIN ACC :  0.9981\n",
            "VALID LOSS :  0.7693 VALID F1 SCORE :  0.8881  VALID ACC :  0.8888\n",
            ">>>>>>>>>>>>>>>>>>>>\n",
            "FOLD : 4 EPOCH : 11 START LR : 8.333333333333334e-06\n",
            "<<<<<<<<<<<<<<<<<<<<\n"
          ]
        },
        {
          "output_type": "stream",
          "name": "stderr",
          "text": [
            "100%|██████████| 2500/2500 [36:56<00:00,  1.13it/s, loss=0.00531, lr=6.25e-6]\n",
            "100%|██████████| 625/625 [02:55<00:00,  3.56it/s, loss=0.000218]\n"
          ]
        },
        {
          "output_type": "stream",
          "name": "stdout",
          "text": [
            "TRAIN LOSS :  0.0075  TRAIN F1 SCORE :  0.9979 TRAIN ACC :  0.9979\n",
            "VALID LOSS :  0.7144 VALID F1 SCORE :  0.8862  VALID ACC :  0.8868\n",
            ">>>>>>>>>>>>>>>>>>>>\n",
            "FOLD : 4 EPOCH : 12 START LR : 6.25e-06\n",
            "<<<<<<<<<<<<<<<<<<<<\n"
          ]
        },
        {
          "output_type": "stream",
          "name": "stderr",
          "text": [
            "100%|██████████| 2500/2500 [36:55<00:00,  1.13it/s, loss=1.81e-5, lr=4.17e-6]\n",
            "100%|██████████| 625/625 [02:55<00:00,  3.56it/s, loss=7.44e-5]\n"
          ]
        },
        {
          "output_type": "stream",
          "name": "stdout",
          "text": [
            "TRAIN LOSS :  0.0037  TRAIN F1 SCORE :  0.9987 TRAIN ACC :  0.9987\n",
            "VALID LOSS :  0.8153 VALID F1 SCORE :  0.8876  VALID ACC :  0.8884\n",
            ">>>>>>>>>>>>>>>>>>>>\n",
            "FOLD : 4 EPOCH : 13 START LR : 4.166666666666667e-06\n",
            "<<<<<<<<<<<<<<<<<<<<\n"
          ]
        },
        {
          "output_type": "stream",
          "name": "stderr",
          "text": [
            "100%|██████████| 2500/2500 [36:55<00:00,  1.13it/s, loss=1.29e-5, lr=2.08e-6]\n",
            "100%|██████████| 625/625 [02:55<00:00,  3.56it/s, loss=2.1e-5]\n"
          ]
        },
        {
          "output_type": "stream",
          "name": "stdout",
          "text": [
            "TRAIN LOSS :  0.0037  TRAIN F1 SCORE :  0.9989 TRAIN ACC :  0.9989\n",
            "VALID LOSS :  0.8180 VALID F1 SCORE :  0.8868  VALID ACC :  0.8874\n",
            ">>>>>>>>>>>>>>>>>>>>\n",
            "FOLD : 4 EPOCH : 14 START LR : 2.0833333333333334e-06\n",
            "<<<<<<<<<<<<<<<<<<<<\n"
          ]
        },
        {
          "output_type": "stream",
          "name": "stderr",
          "text": [
            "100%|██████████| 2500/2500 [36:56<00:00,  1.13it/s, loss=7.87e-6, lr=0]\n",
            "100%|██████████| 625/625 [02:55<00:00,  3.56it/s, loss=1.85e-5]\n"
          ]
        },
        {
          "output_type": "stream",
          "name": "stdout",
          "text": [
            "SAVED BEST MODEL\n",
            "TRAIN LOSS :  0.0020  TRAIN F1 SCORE :  0.9991 TRAIN ACC :  0.9991\n",
            "VALID LOSS :  0.8293 VALID F1 SCORE :  0.8898  VALID ACC :  0.8904\n",
            "BEST VALID LOSS :  0.0000 BEST ACC ;  0.8904 BEST EPOCH : 14\n"
          ]
        }
      ]
    },
    {
      "cell_type": "markdown",
      "source": [
        "### EVALUATION"
      ],
      "metadata": {
        "id": "o4jEFkyLFp9O"
      }
    },
    {
      "cell_type": "code",
      "source": [
        "encoder = {0 : 'entailment', 1 : 'contradiction', 2 : 'neutral'}"
      ],
      "metadata": {
        "id": "ereynrK2A8Uw"
      },
      "execution_count": null,
      "outputs": []
    },
    {
      "cell_type": "code",
      "source": [
        "answer = [1, 2, 0, 1, 1, 2, 2, 0, 0, 2, 2, 0, 1, 0, 2, 2, 2, 2, 1, 2, 1, 2, 2, 0, 1, 1, 0, 0, 0, 2, 1, 0, 1, 2, 2, 1, 2, 1, 0, 1, 2, 0, 2, 2, 2, 1, 2, 0, 1, 0, 0, 1, 1, 2, 1, 2, 2, 2, 2, 2, 0, 2, 2, 2, 2, 1, 2, 2, 2, 1, 0, 2, 0, 1, 2, 2, 0, 2, 2, 2, 2, 1, 1, 2, 0, 1, 2, 1, 0, 2, 1, 2, 0, 1, 0, 2, 1, 1, 0, 2, 2, 0, 2, 1, 2, 0, 2, 2, 1, 0, 1, 2, 1, 0, 2, 0, 1, 1, 1, 1, 1, 1, 1, 2, 2, 0, 0, 0, 1, 2, 1, 2, 1, 0, 2, 0, 1, 2, 1, 1, 2, 2, 1, 0, 2, 2, 0, 1, 2, 1, 1, 0, 1, 2, 0, 0, 0, 1, 1, 2, 2, 0, 2, 1, 2, 1, 2, 0, 2, 0, 2, 2, 1, 2, 2, 2, 2, 2, 1, 2, 1, 2, 2, 2, 0, 2, 1, 2, 0, 1, 2, 2, 1, 0, 2, 0, 0, 2, 1, 2, 2, 2, 0, 1, 1, 0, 0, 2, 0, 2, 1, 1, 1, 2, 2, 1, 1, 0, 1, 1, 2, 2, 0, 1, 2, 1, 1, 2, 2, 1, 0, 2, 1, 0, 0, 2, 2, 1, 0, 0, 0, 1, 2, 2, 2, 0, 2, 2, 2, 1, 0, 1, 2, 0, 1, 2, 1, 1, 0, 0, 0, 0, 1, 2, 2, 2, 1, 0, 2, 0, 2, 2, 0, 0, 2, 1, 1, 2, 2, 2, 2, 0, 0, 0, 1, 0, 2, 1, 0, 2, 0, 1, 0, 1, 0, 1, 1, 1, 2, 0, 2, 0, 2, 0, 0, 0, 2, 1, 1, 0, 2, 1, 1, 2, 2, 2, 2, 2, 2, 0, 0, 2, 2, 0, 1, 0, 1, 0, 1, 1, 2, 0, 0, 1, 1, 1, 0, 1, 1, 0, 1, 2, 2, 1, 2, 0, 1, 1, 1, 2, 1, 2, 0, 2, 2, 1, 2, 0, 1, 2, 1, 1, 1, 2, 1, 2, 2, 0, 1, 2, 1, 1, 0, 2, 2, 0, 0, 2, 0, 0, 0, 2, 1, 2, 0, 1, 0, 0, 2, 1, 2, 0, 1, 1, 1, 2, 0, 2, 1, 0, 1, 2, 1, 1, 0, 2, 1, 2, 1, 2, 1, 1, 1, 1, 2, 1, 1, 0, 2, 1, 2, 2, 0, 2, 0, 2, 2, 1, 1, 1, 0, 2, 1, 1, 0, 2, 0, 0, 0, 0, 0, 0, 1, 2, 1, 2, 2, 0, 1, 2, 1, 0, 0, 1, 1, 0, 2, 1, 2, 0, 0, 0, 1, 2, 2, 1, 1, 2, 0, 2, 1, 2, 0, 0, 0, 2, 0, 1, 1, 1, 0, 0, 1, 0, 2, 1, 0, 2, 0, 0, 0, 2, 2, 0, 0, 1, 0, 2, 2, 0, 0, 0, 2, 1, 1, 0, 0, 1, 0, 0, 2, 0, 0, 0, 0, 1, 0, 0, 1, 1, 2, 2, 1, 2, 2, 1, 0, 0, 1, 0, 1, 2, 1, 2, 2, 1, 1, 1, 2, 2, 2, 1, 1, 0, 1, 2, 1, 0, 2, 0, 2, 1, 0, 0, 0, 2, 0, 2, 2, 2, 1, 1, 2, 2, 2, 2, 0, 0, 2, 1, 0, 0, 0, 1, 0, 1, 0, 2, 1, 2, 1, 0, 0, 2, 0, 0, 2, 0, 2, 0, 0, 2, 1, 0, 1, 1, 1, 2, 0, 0, 1, 2, 2, 0, 2, 2, 1, 1, 1, 1, 0, 1, 2, 0, 1, 1, 2, 2, 1, 2, 1, 2, 0, 1, 0, 1, 1, 1, 2, 0, 1, 0, 2, 0, 2, 2, 1, 0, 0, 1, 1, 0, 2, 0, 2, 0, 2, 1, 1, 2, 0, 1, 1, 0, 2, 2, 0, 1, 0, 1, 2, 1, 2, 2, 2, 1, 2, 2, 2, 2, 2, 2, 2, 1, 2, 0, 2, 2, 1, 1, 2, 1, 0, 1, 2, 1, 2, 1, 0, 0, 2, 0, 0, 2, 0, 0, 0, 1, 0, 2, 0, 0, 0, 2, 1, 0, 1, 1, 2, 2, 2, 0, 2, 0, 0, 0, 1, 2, 2, 0, 0, 0, 2, 1, 2, 1, 2, 1, 1, 0, 0, 2, 0, 2, 0, 2, 0, 2, 0, 0, 2, 0, 0, 0, 1, 2, 2, 1, 2, 1, 2, 2, 2, 0, 0, 2, 2, 1, 2, 2, 0, 2, 0, 1, 2, 0, 2, 0, 1, 2, 1, 2, 0, 0, 2, 2, 1, 0, 2, 2, 0, 2, 1, 2, 0, 0, 1, 2, 0, 1, 0, 1, 0, 2, 2, 0, 1, 0, 0, 2, 0, 1, 2, 2, 1, 1, 0, 0, 1, 1, 0, 1, 1, 2, 2, 2, 2, 2, 2, 0, 2, 1, 0, 2, 2, 2, 1, 2, 1, 0, 0, 1, 1, 2, 2, 0, 2, 1, 2, 1, 1, 0, 1, 0, 2, 2, 1, 1, 0, 2, 2, 1, 0, 2, 1, 0, 0, 2, 1, 0, 1, 0, 2, 2, 2, 0, 0, 2, 1, 2, 1, 2, 0, 0, 2, 2, 0, 1, 2, 2, 2, 2, 1, 0, 0, 1, 2, 2, 0, 2, 0, 1, 0, 0, 1, 2, 0, 2, 0, 0, 2, 1, 0, 0, 0, 2, 1, 1, 2, 0, 2, 2, 2, 0, 2, 2, 1, 1, 2, 1, 2, 0, 0, 0, 2, 1, 2, 0, 2, 1, 2, 0, 2, 2, 1, 1, 1, 1, 0, 1, 0, 2, 1, 2, 2, 2, 0, 2, 2, 0, 1, 2, 1, 1, 1, 2, 2, 0, 1, 1, 2, 1, 1, 1, 0, 0, 1, 0, 0, 1, 0, 0, 2, 1, 1, 0, 0, 2, 0, 0, 0, 2, 0, 2, 2, 2, 1, 1, 2, 1, 0, 0, 2, 1, 2, 0, 2, 1, 1, 0, 2, 0, 0, 2, 2, 1, 0, 0, 2, 2, 2, 0, 0, 1, 2, 0, 0, 0, 2, 1, 0, 2, 0, 2, 0, 2, 2, 2, 1, 1, 0, 2, 0, 0, 2, 1, 2, 1, 1, 1, 1, 2, 1, 2, 2, 2, 2, 2, 1, 1, 0, 1, 0, 0, 2, 1, 2, 1, 0, 2, 2, 2, 1, 0, 0, 2, 0, 0, 0, 2, 0, 0, 2, 2, 0, 2, 0, 2, 2, 0, 2, 2, 1, 1, 1, 1, 2, 2, 1, 2, 0, 2, 1, 2, 2, 2, 0, 2, 2, 1, 0, 1, 2, 1, 0, 0, 1, 1, 0, 0, 1, 2, 1, 1, 2, 2, 2, 0, 0, 1, 1, 1, 2, 1, 2, 2, 0, 1, 0, 1, 0, 0, 1, 1, 1, 1, 1, 1, 1, 0, 2, 1, 1, 1, 0, 2, 0, 2, 0, 1, 0, 1, 2, 0, 0, 2, 2, 2, 2, 2, 0, 1, 1, 1, 2, 0, 2, 0, 2, 2, 1, 2, 1, 2, 2, 0, 2, 1, 2, 1, 2, 0, 1, 2, 1, 2, 2, 2, 2, 1, 0, 0, 1, 2, 0, 2, 1, 2, 1, 0, 2, 1, 0, 2, 2, 2, 1, 1, 1, 1, 2, 0, 0, 1, 2, 1, 2, 0, 2, 2, 1, 1, 2, 2, 0, 1, 2, 0, 0, 2, 1, 1, 0, 2, 1, 0, 0, 1, 0, 2, 2, 2, 1, 1, 0, 1, 1, 1, 2, 0, 2, 0, 2, 1, 2, 1, 0, 0, 1, 0, 2, 0, 0, 2, 2, 2, 0, 0, 1, 1, 2, 0, 1, 0, 1, 2, 2, 0, 1, 0, 1, 0, 1, 0, 2, 0, 1, 2, 0, 2, 2, 2, 2, 2, 2, 1, 1, 2, 1, 2, 1, 0, 0, 2, 2, 2, 0, 2, 0, 1, 2, 2, 2, 2, 0, 2, 2, 0, 2, 1, 1, 0, 2, 1, 1, 2, 0, 2, 2, 2, 2, 2, 1, 2, 1, 2, 1, 0, 0, 2, 0, 1, 0, 2, 0, 1, 1, 0, 0, 2, 2, 2, 2, 0, 2, 1, 1, 1, 0, 1, 2, 1, 2, 2, 2, 2, 1, 2, 0, 1, 2, 1, 2, 1, 1, 2, 2, 1, 0, 2, 1, 2, 2, 0, 1, 0, 0, 1, 2, 1, 0, 0, 2, 0, 0, 2, 0, 0, 0, 2, 2, 2, 0, 0, 0, 1, 0, 0, 1, 1, 1, 2, 2, 0, 1, 2, 2, 1, 0, 0, 2, 1, 1, 0, 0, 0, 0, 1, 2, 2, 0, 2, 2, 0, 2, 2, 2, 0, 2, 1, 1, 0, 1, 0, 2, 1, 1, 2, 1, 0, 0, 2, 0, 2, 0, 1, 1, 2, 1, 2, 1, 2, 1, 0, 0, 1, 1, 2, 2, 1, 0, 1, 2, 1, 0, 2, 2, 0, 1, 1, 1, 1, 1, 2, 0, 2, 2, 1, 1, 2, 2, 0, 2, 2, 2, 0, 1, 1, 0, 1, 1, 2, 1, 0, 1, 0, 0, 0, 2, 0, 0, 1, 1, 2, 1, 1, 0, 2, 1, 1, 2, 1, 2, 0, 1, 2, 2, 2, 2, 1, 2, 0, 1, 1, 2, 1, 2, 0, 0, 2, 1, 0, 2, 2, 0, 2, 2, 2, 2, 2, 1, 0, 2, 2, 2, 2, 0, 2, 0, 0, 2, 0, 2, 2, 1, 0, 1, 0, 0, 1, 2, 2, 0, 1, 1, 1, 2, 2, 1, 0, 2, 1, 1, 0, 2, 2, 2, 2, 0, 0, 0, 1, 1, 2, 2, 2, 0, 0, 2, 2, 1, 1, 1, 2, 0, 2, 0, 0, 1, 0, 2, 2, 0, 2, 0, 1, 2, 1, 2, 1, 2, 0, 1, 2, 1, 2, 2, 0, 1, 2, 1, 0, 0, 2, 0, 2, 0, 1, 1, 0, 0, 0, 0, 0, 2, 2, 2, 2, 0, 1, 1, 0, 2, 1, 1, 0, 1, 2, 2, 2, 0, 2, 0, 2, 2, 2]\n"
      ],
      "metadata": {
        "id": "eJUEcOCLAfmr"
      },
      "execution_count": null,
      "outputs": []
    },
    {
      "cell_type": "code",
      "source": [
        "answer = list(map(lambda x: encoder[x], answer))"
      ],
      "metadata": {
        "id": "AG4jSVAKBHDE"
      },
      "execution_count": null,
      "outputs": []
    },
    {
      "cell_type": "code",
      "source": [
        "from transformers import BertTokenizer, AutoModelForMaskedLM\n",
        "\n",
        "train, test = load_dacon_data()\n",
        "# tokenizer_dir = '/content/drive/MyDrive/dacon/KoreanLanguage/tokenizer/32000_special'\n",
        "tokenizer = BertTokenizer.from_pretrained('klue/roberta-large')\n",
        "test_dataset = KoSDataset(test, fold = None, tokenizer = tokenizer, train_mode = False, test_mode = True)\n",
        "test_dataloader = torch.utils.data.DataLoader(test_dataset,batch_size = 8,shuffle = False)\n",
        "\n",
        "bert = AutoModelForMaskedLM.from_pretrained('klue/roberta-large')\n",
        "\n",
        "model = KoSBERT(bert, args.linear_dim).to(device)\n",
        "\n",
        "predictions = []\n",
        "\n",
        "for fold in range(5):\n",
        "  pth = os.path.join('/content/drive/MyDrive/dacon/KoreanLanguage/ckpt/roberta', f\"ixxi_{fold}.bin\")\n",
        "  model.load_state_dict(torch.load(pth))\n",
        "  model.to(device)\n",
        "  model.eval()\n",
        "  prediction = []\n",
        "\n",
        "  test_loop = tqdm(test_dataloader)\n",
        "  for data in test_loop:\n",
        "    ids = data['input_ids'].squeeze(1).to(device)\n",
        "    att_mask = data['attention_mask'].squeeze(1).to(device)\n",
        "    outputs = model(ids, att_mask)\n",
        "\n",
        "    outputs = outputs.cpu().detach().numpy()\n",
        "    outputs = np.argmax(outputs, axis = -1)\n",
        "    prediction.extend(outputs)\n",
        "\n",
        "  predictions.append(prediction)\n",
        "  print(f\"TEST FOLD {fold} ENDED\")"
      ],
      "metadata": {
        "colab": {
          "base_uri": "https://localhost:8080/"
        },
        "id": "AM1TcW13FskC",
        "outputId": "18cb6867-85d6-4d18-d8ee-d7abb1c1b780"
      },
      "execution_count": null,
      "outputs": [
        {
          "output_type": "stream",
          "name": "stderr",
          "text": [
            "100%|██████████| 209/209 [00:57<00:00,  3.63it/s]\n"
          ]
        },
        {
          "output_type": "stream",
          "name": "stdout",
          "text": [
            "TEST FOLD 0 ENDED\n"
          ]
        },
        {
          "output_type": "stream",
          "name": "stderr",
          "text": [
            "100%|██████████| 209/209 [00:57<00:00,  3.63it/s]\n"
          ]
        },
        {
          "output_type": "stream",
          "name": "stdout",
          "text": [
            "TEST FOLD 1 ENDED\n"
          ]
        },
        {
          "output_type": "stream",
          "name": "stderr",
          "text": [
            "100%|██████████| 209/209 [00:57<00:00,  3.63it/s]\n"
          ]
        },
        {
          "output_type": "stream",
          "name": "stdout",
          "text": [
            "TEST FOLD 2 ENDED\n"
          ]
        },
        {
          "output_type": "stream",
          "name": "stderr",
          "text": [
            "100%|██████████| 209/209 [00:57<00:00,  3.64it/s]\n"
          ]
        },
        {
          "output_type": "stream",
          "name": "stdout",
          "text": [
            "TEST FOLD 3 ENDED\n"
          ]
        },
        {
          "output_type": "stream",
          "name": "stderr",
          "text": [
            "100%|██████████| 209/209 [00:57<00:00,  3.64it/s]"
          ]
        },
        {
          "output_type": "stream",
          "name": "stdout",
          "text": [
            "TEST FOLD 4 ENDED\n"
          ]
        },
        {
          "output_type": "stream",
          "name": "stderr",
          "text": [
            "\n"
          ]
        }
      ]
    },
    {
      "cell_type": "code",
      "source": [
        "import pandas as pd\n",
        "submission = pd.read_csv('/content/drive/MyDrive/dacon/KoreanLanguage/data/sample_submission.csv')\n",
        "submission.head()"
      ],
      "metadata": {
        "colab": {
          "base_uri": "https://localhost:8080/",
          "height": 205
        },
        "id": "KCwDil9llxHF",
        "outputId": "9a204785-0dbe-45cd-aaf6-b32b86e2dd20"
      },
      "execution_count": null,
      "outputs": [
        {
          "output_type": "execute_result",
          "data": {
            "text/html": [
              "\n",
              "  <div id=\"df-e158d9bd-aba8-4c3b-a472-f651f80d9a2c\">\n",
              "    <div class=\"colab-df-container\">\n",
              "      <div>\n",
              "<style scoped>\n",
              "    .dataframe tbody tr th:only-of-type {\n",
              "        vertical-align: middle;\n",
              "    }\n",
              "\n",
              "    .dataframe tbody tr th {\n",
              "        vertical-align: top;\n",
              "    }\n",
              "\n",
              "    .dataframe thead th {\n",
              "        text-align: right;\n",
              "    }\n",
              "</style>\n",
              "<table border=\"1\" class=\"dataframe\">\n",
              "  <thead>\n",
              "    <tr style=\"text-align: right;\">\n",
              "      <th></th>\n",
              "      <th>index</th>\n",
              "      <th>label</th>\n",
              "    </tr>\n",
              "  </thead>\n",
              "  <tbody>\n",
              "    <tr>\n",
              "      <th>0</th>\n",
              "      <td>0</td>\n",
              "      <td>answer</td>\n",
              "    </tr>\n",
              "    <tr>\n",
              "      <th>1</th>\n",
              "      <td>1</td>\n",
              "      <td>answer</td>\n",
              "    </tr>\n",
              "    <tr>\n",
              "      <th>2</th>\n",
              "      <td>2</td>\n",
              "      <td>answer</td>\n",
              "    </tr>\n",
              "    <tr>\n",
              "      <th>3</th>\n",
              "      <td>3</td>\n",
              "      <td>answer</td>\n",
              "    </tr>\n",
              "    <tr>\n",
              "      <th>4</th>\n",
              "      <td>4</td>\n",
              "      <td>answer</td>\n",
              "    </tr>\n",
              "  </tbody>\n",
              "</table>\n",
              "</div>\n",
              "      <button class=\"colab-df-convert\" onclick=\"convertToInteractive('df-e158d9bd-aba8-4c3b-a472-f651f80d9a2c')\"\n",
              "              title=\"Convert this dataframe to an interactive table.\"\n",
              "              style=\"display:none;\">\n",
              "        \n",
              "  <svg xmlns=\"http://www.w3.org/2000/svg\" height=\"24px\"viewBox=\"0 0 24 24\"\n",
              "       width=\"24px\">\n",
              "    <path d=\"M0 0h24v24H0V0z\" fill=\"none\"/>\n",
              "    <path d=\"M18.56 5.44l.94 2.06.94-2.06 2.06-.94-2.06-.94-.94-2.06-.94 2.06-2.06.94zm-11 1L8.5 8.5l.94-2.06 2.06-.94-2.06-.94L8.5 2.5l-.94 2.06-2.06.94zm10 10l.94 2.06.94-2.06 2.06-.94-2.06-.94-.94-2.06-.94 2.06-2.06.94z\"/><path d=\"M17.41 7.96l-1.37-1.37c-.4-.4-.92-.59-1.43-.59-.52 0-1.04.2-1.43.59L10.3 9.45l-7.72 7.72c-.78.78-.78 2.05 0 2.83L4 21.41c.39.39.9.59 1.41.59.51 0 1.02-.2 1.41-.59l7.78-7.78 2.81-2.81c.8-.78.8-2.07 0-2.86zM5.41 20L4 18.59l7.72-7.72 1.47 1.35L5.41 20z\"/>\n",
              "  </svg>\n",
              "      </button>\n",
              "      \n",
              "  <style>\n",
              "    .colab-df-container {\n",
              "      display:flex;\n",
              "      flex-wrap:wrap;\n",
              "      gap: 12px;\n",
              "    }\n",
              "\n",
              "    .colab-df-convert {\n",
              "      background-color: #E8F0FE;\n",
              "      border: none;\n",
              "      border-radius: 50%;\n",
              "      cursor: pointer;\n",
              "      display: none;\n",
              "      fill: #1967D2;\n",
              "      height: 32px;\n",
              "      padding: 0 0 0 0;\n",
              "      width: 32px;\n",
              "    }\n",
              "\n",
              "    .colab-df-convert:hover {\n",
              "      background-color: #E2EBFA;\n",
              "      box-shadow: 0px 1px 2px rgba(60, 64, 67, 0.3), 0px 1px 3px 1px rgba(60, 64, 67, 0.15);\n",
              "      fill: #174EA6;\n",
              "    }\n",
              "\n",
              "    [theme=dark] .colab-df-convert {\n",
              "      background-color: #3B4455;\n",
              "      fill: #D2E3FC;\n",
              "    }\n",
              "\n",
              "    [theme=dark] .colab-df-convert:hover {\n",
              "      background-color: #434B5C;\n",
              "      box-shadow: 0px 1px 3px 1px rgba(0, 0, 0, 0.15);\n",
              "      filter: drop-shadow(0px 1px 2px rgba(0, 0, 0, 0.3));\n",
              "      fill: #FFFFFF;\n",
              "    }\n",
              "  </style>\n",
              "\n",
              "      <script>\n",
              "        const buttonEl =\n",
              "          document.querySelector('#df-e158d9bd-aba8-4c3b-a472-f651f80d9a2c button.colab-df-convert');\n",
              "        buttonEl.style.display =\n",
              "          google.colab.kernel.accessAllowed ? 'block' : 'none';\n",
              "\n",
              "        async function convertToInteractive(key) {\n",
              "          const element = document.querySelector('#df-e158d9bd-aba8-4c3b-a472-f651f80d9a2c');\n",
              "          const dataTable =\n",
              "            await google.colab.kernel.invokeFunction('convertToInteractive',\n",
              "                                                     [key], {});\n",
              "          if (!dataTable) return;\n",
              "\n",
              "          const docLinkHtml = 'Like what you see? Visit the ' +\n",
              "            '<a target=\"_blank\" href=https://colab.research.google.com/notebooks/data_table.ipynb>data table notebook</a>'\n",
              "            + ' to learn more about interactive tables.';\n",
              "          element.innerHTML = '';\n",
              "          dataTable['output_type'] = 'display_data';\n",
              "          await google.colab.output.renderOutput(dataTable, element);\n",
              "          const docLink = document.createElement('div');\n",
              "          docLink.innerHTML = docLinkHtml;\n",
              "          element.appendChild(docLink);\n",
              "        }\n",
              "      </script>\n",
              "    </div>\n",
              "  </div>\n",
              "  "
            ],
            "text/plain": [
              "   index   label\n",
              "0      0  answer\n",
              "1      1  answer\n",
              "2      2  answer\n",
              "3      3  answer\n",
              "4      4  answer"
            ]
          },
          "metadata": {},
          "execution_count": 20
        }
      ]
    },
    {
      "cell_type": "code",
      "source": [
        "from collections import Counter\n",
        "predictions = np.array(predictions).T\n",
        "answer = []\n",
        "for pred in predictions:\n",
        "  cnt = Counter(pred)\n",
        "  ans = cnt.most_common()[0][0]\n",
        "  answer.append(label_decoder[ans])\n",
        "\n",
        "submission_df = pd.DataFrame({\n",
        "    'index' : submission.index,\n",
        "    'label' : answer\n",
        "})\n",
        "\n",
        "submission_df.to_csv('/content/drive/MyDrive/dacon/KoreanLanguage/data/my_submission.csv', index = False)"
      ],
      "metadata": {
        "id": "fJiZzSg5lVhG"
      },
      "execution_count": null,
      "outputs": []
    },
    {
      "cell_type": "code",
      "source": [
        "submission_df.head()"
      ],
      "metadata": {
        "colab": {
          "base_uri": "https://localhost:8080/",
          "height": 205
        },
        "id": "OOtjb9YrBN2s",
        "outputId": "b925cc10-f920-49c0-cc74-017cd082351f"
      },
      "execution_count": null,
      "outputs": [
        {
          "output_type": "execute_result",
          "data": {
            "text/html": [
              "\n",
              "  <div id=\"df-9080e4f5-33b9-4b07-a8d5-c36d4a07c21c\">\n",
              "    <div class=\"colab-df-container\">\n",
              "      <div>\n",
              "<style scoped>\n",
              "    .dataframe tbody tr th:only-of-type {\n",
              "        vertical-align: middle;\n",
              "    }\n",
              "\n",
              "    .dataframe tbody tr th {\n",
              "        vertical-align: top;\n",
              "    }\n",
              "\n",
              "    .dataframe thead th {\n",
              "        text-align: right;\n",
              "    }\n",
              "</style>\n",
              "<table border=\"1\" class=\"dataframe\">\n",
              "  <thead>\n",
              "    <tr style=\"text-align: right;\">\n",
              "      <th></th>\n",
              "      <th>index</th>\n",
              "      <th>label</th>\n",
              "    </tr>\n",
              "  </thead>\n",
              "  <tbody>\n",
              "    <tr>\n",
              "      <th>0</th>\n",
              "      <td>0</td>\n",
              "      <td>contradiction</td>\n",
              "    </tr>\n",
              "    <tr>\n",
              "      <th>1</th>\n",
              "      <td>1</td>\n",
              "      <td>neutral</td>\n",
              "    </tr>\n",
              "    <tr>\n",
              "      <th>2</th>\n",
              "      <td>2</td>\n",
              "      <td>entailment</td>\n",
              "    </tr>\n",
              "    <tr>\n",
              "      <th>3</th>\n",
              "      <td>3</td>\n",
              "      <td>contradiction</td>\n",
              "    </tr>\n",
              "    <tr>\n",
              "      <th>4</th>\n",
              "      <td>4</td>\n",
              "      <td>contradiction</td>\n",
              "    </tr>\n",
              "  </tbody>\n",
              "</table>\n",
              "</div>\n",
              "      <button class=\"colab-df-convert\" onclick=\"convertToInteractive('df-9080e4f5-33b9-4b07-a8d5-c36d4a07c21c')\"\n",
              "              title=\"Convert this dataframe to an interactive table.\"\n",
              "              style=\"display:none;\">\n",
              "        \n",
              "  <svg xmlns=\"http://www.w3.org/2000/svg\" height=\"24px\"viewBox=\"0 0 24 24\"\n",
              "       width=\"24px\">\n",
              "    <path d=\"M0 0h24v24H0V0z\" fill=\"none\"/>\n",
              "    <path d=\"M18.56 5.44l.94 2.06.94-2.06 2.06-.94-2.06-.94-.94-2.06-.94 2.06-2.06.94zm-11 1L8.5 8.5l.94-2.06 2.06-.94-2.06-.94L8.5 2.5l-.94 2.06-2.06.94zm10 10l.94 2.06.94-2.06 2.06-.94-2.06-.94-.94-2.06-.94 2.06-2.06.94z\"/><path d=\"M17.41 7.96l-1.37-1.37c-.4-.4-.92-.59-1.43-.59-.52 0-1.04.2-1.43.59L10.3 9.45l-7.72 7.72c-.78.78-.78 2.05 0 2.83L4 21.41c.39.39.9.59 1.41.59.51 0 1.02-.2 1.41-.59l7.78-7.78 2.81-2.81c.8-.78.8-2.07 0-2.86zM5.41 20L4 18.59l7.72-7.72 1.47 1.35L5.41 20z\"/>\n",
              "  </svg>\n",
              "      </button>\n",
              "      \n",
              "  <style>\n",
              "    .colab-df-container {\n",
              "      display:flex;\n",
              "      flex-wrap:wrap;\n",
              "      gap: 12px;\n",
              "    }\n",
              "\n",
              "    .colab-df-convert {\n",
              "      background-color: #E8F0FE;\n",
              "      border: none;\n",
              "      border-radius: 50%;\n",
              "      cursor: pointer;\n",
              "      display: none;\n",
              "      fill: #1967D2;\n",
              "      height: 32px;\n",
              "      padding: 0 0 0 0;\n",
              "      width: 32px;\n",
              "    }\n",
              "\n",
              "    .colab-df-convert:hover {\n",
              "      background-color: #E2EBFA;\n",
              "      box-shadow: 0px 1px 2px rgba(60, 64, 67, 0.3), 0px 1px 3px 1px rgba(60, 64, 67, 0.15);\n",
              "      fill: #174EA6;\n",
              "    }\n",
              "\n",
              "    [theme=dark] .colab-df-convert {\n",
              "      background-color: #3B4455;\n",
              "      fill: #D2E3FC;\n",
              "    }\n",
              "\n",
              "    [theme=dark] .colab-df-convert:hover {\n",
              "      background-color: #434B5C;\n",
              "      box-shadow: 0px 1px 3px 1px rgba(0, 0, 0, 0.15);\n",
              "      filter: drop-shadow(0px 1px 2px rgba(0, 0, 0, 0.3));\n",
              "      fill: #FFFFFF;\n",
              "    }\n",
              "  </style>\n",
              "\n",
              "      <script>\n",
              "        const buttonEl =\n",
              "          document.querySelector('#df-9080e4f5-33b9-4b07-a8d5-c36d4a07c21c button.colab-df-convert');\n",
              "        buttonEl.style.display =\n",
              "          google.colab.kernel.accessAllowed ? 'block' : 'none';\n",
              "\n",
              "        async function convertToInteractive(key) {\n",
              "          const element = document.querySelector('#df-9080e4f5-33b9-4b07-a8d5-c36d4a07c21c');\n",
              "          const dataTable =\n",
              "            await google.colab.kernel.invokeFunction('convertToInteractive',\n",
              "                                                     [key], {});\n",
              "          if (!dataTable) return;\n",
              "\n",
              "          const docLinkHtml = 'Like what you see? Visit the ' +\n",
              "            '<a target=\"_blank\" href=https://colab.research.google.com/notebooks/data_table.ipynb>data table notebook</a>'\n",
              "            + ' to learn more about interactive tables.';\n",
              "          element.innerHTML = '';\n",
              "          dataTable['output_type'] = 'display_data';\n",
              "          await google.colab.output.renderOutput(dataTable, element);\n",
              "          const docLink = document.createElement('div');\n",
              "          docLink.innerHTML = docLinkHtml;\n",
              "          element.appendChild(docLink);\n",
              "        }\n",
              "      </script>\n",
              "    </div>\n",
              "  </div>\n",
              "  "
            ],
            "text/plain": [
              "   index          label\n",
              "0      0  contradiction\n",
              "1      1        neutral\n",
              "2      2     entailment\n",
              "3      3  contradiction\n",
              "4      4  contradiction"
            ]
          },
          "metadata": {},
          "execution_count": 23
        }
      ]
    },
    {
      "cell_type": "code",
      "source": [
        ""
      ],
      "metadata": {
        "id": "11UJeR8FYmAC"
      },
      "execution_count": null,
      "outputs": []
    },
    {
      "cell_type": "markdown",
      "source": [
        "### PRACTICE"
      ],
      "metadata": {
        "id": "kOueeXouFO0K"
      }
    },
    {
      "cell_type": "code",
      "source": [
        "tokenizer_dir = '/content/drive/MyDrive/dacon/KoreanLanguage/tokenizer/32000_special'\n",
        "tokenizer = BertTokenizer.from_pretrained(tokenizer_dir)\n",
        "\n",
        "train_dataset = KoSDataset(train,fold, tokenizer, train_mode = True)\n",
        "valid_dataset = KoSDataset(train, fold, tokenizer, train_mode = False)\n",
        "train_dataloader = torch.utils.data.DataLoader(train_dataset, batch_size = 8, shuffle = True)\n",
        "valid_dataloader = torch.utils.data.DataLoader(valid_dataset, batch_size = 8, shuffle = False)"
      ],
      "metadata": {
        "id": "h8NqxSkQ9n3K"
      },
      "execution_count": null,
      "outputs": []
    },
    {
      "cell_type": "code",
      "source": [
        "data = next(iter(train_dataloader))"
      ],
      "metadata": {
        "id": "sLr49IKs9uwQ"
      },
      "execution_count": null,
      "outputs": []
    },
    {
      "cell_type": "code",
      "source": [
        "data"
      ],
      "metadata": {
        "id": "QVdmLsSs9xcn"
      },
      "execution_count": null,
      "outputs": []
    },
    {
      "cell_type": "code",
      "source": [
        "model = AutoModelForMaskedLM.from_pretrained('klue/roberta-large')"
      ],
      "metadata": {
        "id": "_2PmvlUe8r3w"
      },
      "execution_count": null,
      "outputs": []
    },
    {
      "cell_type": "code",
      "source": [
        "model"
      ],
      "metadata": {
        "id": "94UDRK5l-d6B"
      },
      "execution_count": null,
      "outputs": []
    },
    {
      "cell_type": "code",
      "source": [
        "AutoModel.from_pretrained('klue/roberta-large')"
      ],
      "metadata": {
        "id": "Btb_wIgz-nar"
      },
      "execution_count": null,
      "outputs": []
    },
    {
      "cell_type": "code",
      "source": [
        "outs = model(data['input_ids'].squeeze(1), data['attention_mask'].squeeze(1), output_hidden_states = True)"
      ],
      "metadata": {
        "id": "IDXZUylq9QCB"
      },
      "execution_count": null,
      "outputs": []
    },
    {
      "cell_type": "code",
      "source": [
        "outs['logits'].shape"
      ],
      "metadata": {
        "colab": {
          "base_uri": "https://localhost:8080/"
        },
        "id": "yKkbBdiu9REJ",
        "outputId": "9a619f52-a052-4400-cce3-e7bdb3e540b8"
      },
      "execution_count": null,
      "outputs": [
        {
          "output_type": "execute_result",
          "data": {
            "text/plain": [
              "torch.Size([8, 256, 32000])"
            ]
          },
          "metadata": {},
          "execution_count": 123
        }
      ]
    },
    {
      "cell_type": "code",
      "source": [
        "outs['hidden_states'][-1].shape"
      ],
      "metadata": {
        "colab": {
          "base_uri": "https://localhost:8080/"
        },
        "id": "k4yJcgn4_Ybg",
        "outputId": "4e21cca8-a96c-419c-93e0-c38740bf9232"
      },
      "execution_count": null,
      "outputs": [
        {
          "output_type": "execute_result",
          "data": {
            "text/plain": [
              "torch.Size([8, 256, 1024])"
            ]
          },
          "metadata": {},
          "execution_count": 126
        }
      ]
    },
    {
      "cell_type": "code",
      "source": [
        ""
      ],
      "metadata": {
        "id": "3luF_da9_d9y"
      },
      "execution_count": null,
      "outputs": []
    }
  ]
}