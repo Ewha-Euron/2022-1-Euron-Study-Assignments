{
 "cells": [
  {
   "cell_type": "code",
   "execution_count": null,
   "id": "f8dc9566",
   "metadata": {
    "ExecuteTime": {
     "end_time": "2022-05-13T04:49:44.906181Z",
     "start_time": "2022-05-13T04:48:19.946447Z"
    }
   },
   "outputs": [],
   "source": [
    "!pip install statsmodels==0.11.1\n",
    "!pip install fbprophet==0.7.1"
   ]
  },
  {
   "cell_type": "code",
   "execution_count": null,
   "id": "fe022f71",
   "metadata": {
    "ExecuteTime": {
     "end_time": "2022-05-13T04:50:00.038702Z",
     "start_time": "2022-05-13T04:50:00.018756Z"
    }
   },
   "outputs": [],
   "source": [
    "import numpy as np\n",
    "import pandas as pd\n",
    "import gc\n",
    "import math\n",
    "import os.path\n",
    "import time\n",
    "import matplotlib.pyplot as plt\n",
    "from datetime import timedelta, datetime\n",
    "from dateutil import parser\n",
    "from tqdm import tqdm\n",
    "import copy\n",
    "from statsmodels.tsa.arima.model import ARIMA\n",
    "from fbprophet import Prophet\n",
    "import warnings\n",
    "warnings.filterwarnings(\"ignore\")"
   ]
  },
  {
   "cell_type": "code",
   "execution_count": null,
   "id": "27ff8aee",
   "metadata": {},
   "outputs": [],
   "source": [
    "# 필사 노트북: 시즌1 이산팀, 2위\n",
    "# Prophnet + ARIMA\n",
    "\n",
    "#prophnet 설명\n",
    "'''\n",
    " Prophet은 페이스북에서 공개한 시계열 예측 라이브러리 \n",
    " 정확도가 높고 빠르며 직관적인 파라미터로 모델 수정이 용이함 \n",
    "prophnet은 trend, seasonality, holiday의 구성요소로 이루어져있듬\n",
    "y(t) = g(t) + s(t) + h(t) + error\n",
    "g(t): piecewise linear or logistic growth curve for modelling non-periodic changes in time series, 비주기적 패턴 \n",
    "s(t): periodic changes (e.g. weekly/yearly seasonality) , 주기적 패턴\n",
    "h(t): effects of holidays (user provided) with irregular schedules, 불규칙적 이벤트\n",
    "ϵ_i: error term accounts for any unusual changes not accommodated by the model, 에러\n",
    "\n",
    "'''\n",
    "\n",
    "'''\n",
    "ARIMA 설명\n",
    "ARIMA(Auto-regressive Integrated Moving Average) 모형은 시계열 데이터 기반 분석 기법으로 과거지식이나 경험을 바탕으로 한 행동에 따라 경제가 움직이고 있음을 기초로 한다\n",
    "ARIMA 모형은 과거의 관측 값과 오차를 사용해서 현재의 시계열 값을 설명하는 ARMA(Auto-regressive Moving Average) 모델을 일반화 한 것으로, 분기/반기/연간 단위로 다음 지표를 예측한다거나 주간/월간 단위로 지표를 리뷰하며 트렌드에 이상치가 없는지를 모니터링 하는 데 사용되는 분석 기법이다. ARMA 모델이 안정적 시계열(Stationary Series)에만 적용 가능한 것에 비해, \n",
    "분석 대상이 다소 비안정적인 시계열(Non Stationary Series)의 특징을 보여도 적용이 가능하다.\n",
    "안정적인 시계열이란 시간의 추이와 관계없이 평균 및 분산이 불변하거나 시점 간의 공분산이 기준시점과 무관한 형태의 시계열이다. 시계열이 안정적이지 않을 때는 로그를 이용하거나 차분을 통해 시계열을 안정적으로 변환한 뒤에 분석을 진행한다. 다음 그래프는 안정적인 시계열과 비안정적인 시계열의 몇 가지 예시이다.\n",
    "'''"
   ]
  },
  {
   "cell_type": "code",
   "execution_count": null,
   "id": "542caedd",
   "metadata": {},
   "outputs": [],
   "source": [
    "# 데이터 불러오고 확인하기\n",
    "data_path = '/content/drive/MyDrive/dacon'\n",
    "train_x_df = pd.read_csv(data_path  + \"/train_x_df.csv\")\n",
    "train_y_df = pd.read_csv(data_path  + \"/train_y_df.csv\")\n",
    "test_x_df = pd.read_csv(data_path  + \"/test_x_df.csv\")\n",
    "\n",
    "def df2d_to_array3d(df_2d):\n",
    "    # 입력 받은 2차원 데이터 프레임을 3차원 numpy array로 변경하는 함수\n",
    "    feature_size = df_2d.iloc[:,2:].shape[1]\n",
    "    time_size = len(df_2d.time.value_counts())\n",
    "    sample_size = len(df_2d.sample_id.value_counts())\n",
    "    sample_index = df_2d.sample_id.value_counts().index\n",
    "    array_3d = df_2d.iloc[:,2:].values.reshape([sample_size, time_size, feature_size])\n",
    "    return array_3d\n",
    "\n",
    "train_x_array = df2d_to_array3d(train_x_df)\n",
    "train_y_array = df2d_to_array3d(train_y_df)\n",
    "test_x_array = df2d_to_array3d(test_x_df)\n",
    "\n",
    "def plot_series(x_series, y_series):\n",
    "    #입력 series와 출력 series를 연속적으로 연결하여 시각적으로 보여주는 코드 입니다.\n",
    "    plt.plot(x_series, label = 'input_series')\n",
    "    plt.plot(np.arange(len(x_series), len(x_series)+len(y_series)),\n",
    "             y_series, label = 'output_series')\n",
    "    plt.axhline(1, c = 'red')\n",
    "    plt.legend()\n",
    "    \n",
    "data_col_idx = 1\n"
   ]
  },
  {
   "cell_type": "code",
   "execution_count": null,
   "id": "805c31b8",
   "metadata": {},
   "outputs": [],
   "source": [
    "\n",
    "import datetime\n",
    "start_time = '2021-01-31 00:00:00'\n",
    "start_dt = datetime.datetime.strptime(start_time, '%Y-%m-%d %H:%M:%S')\n",
    "\n",
    "idx = 1121\n",
    "x_series = train_x_array[idx,:,data_col_idx]\n",
    "y_series = train_y_array[idx,:,data_col_idx]\n"
   ]
  },
  {
   "cell_type": "code",
   "execution_count": null,
   "id": "e8a72391",
   "metadata": {},
   "outputs": [],
   "source": [
    "# 모댈 적용 models, models.fit\n",
    "\n",
    "# 통계모델 ARIMA불러오기\n",
    "# ARIMA의 모수는 크게 3가지가 있다. \n",
    "# AR모형의 Lag을 의미하는 p, MA모형의 Lag을 의미하는 q, 차분(Diffrence)횟수를 의미하는 d 가 그것이다. \n",
    "# 보통은 p, d, q의 순서로 쓴다\n",
    "model = ARIMA(x_series, order=(3,0,1))\n",
    "fit  = model.fit()\n",
    "preds1 = fit.predict(1381,1380+120, typ='levels')\n",
    "\n",
    "\n",
    "x_df = pd.DataFrame()\n",
    "x_df['ds'] = [start_dt + datetime.timedelta(minutes = time_min) for time_min in np.arange(1, x_series.shape[0]+1).tolist()]\n",
    "x_df['y'] = x_series.tolist()\n",
    "\n",
    "# prophet model\n",
    "prophet = Prophet(seasonality_mode='multiplicative', \n",
    "                  yearly_seasonality=False,\n",
    "                  weekly_seasonality=False, daily_seasonality=True,\n",
    "                  changepoint_prior_scale=0.06)\n",
    "prophet.fit(x_df)\n",
    "\n",
    "future_data = prophet.make_future_dataframe(periods=120, freq='min')\n",
    "forecast_data = prophet.predict(future_data)\n",
    "forecast_data[['ds', 'yhat', 'yhat_lower', 'yhat_upper']].tail(5)\n",
    "\n",
    "pred_y = forecast_data.yhat.values[-120:]\n",
    "\n",
    "plot_series(x_series, y_series)\n",
    "plt.plot(np.arange(1380, 1380+120), preds1, label = 'ARIMA prediction')\n",
    "plt.plot(np.arange(1380, 1380+120), pred_y, label = 'Prophet prediction')\n",
    "plt.legend()\n",
    "plt.show()\n"
   ]
  },
  {
   "cell_type": "code",
   "execution_count": null,
   "id": "9ee231d0",
   "metadata": {},
   "outputs": [],
   "source": [
    "# buy_quantity(구매량)와 sell time (판매시점 결정)\n",
    "def array_to_submission(x_array, pred_array):\n",
    "    # 입력 x_arrry와 출력 pred_arry를 통해서 \n",
    "    # buy_quantitiy와 sell_time을 결정\n",
    "    submission = pd.DataFrame(np.zeros([pred_array.shape[0],2], np.int64),\n",
    "                columns = ['buy_quantity', 'sell_time'])\n",
    "    submission = submission.reset_index()\n",
    "    submission.loc[:, 'buy_quantity'] = 0.1\n",
    "    \n",
    "    buy_price = []\n",
    "    for idx, sell_time in enumerate(np.argmax(pred_array, axis = 1)):\n",
    "        buy_price.append(pred_array[idx, sell_time])\n",
    "    buy_price = np.array(buy_price)\n",
    "    # 105% 이상 상승한하고 예측한 sample에 대해서만 100% 매수\n",
    "    arr1 = (buy_price > 1.05) * 1\n",
    "    submission.loc[:, 'buy_quantity'] = arr1\n",
    "    # 모델이 예측값 중 최대 값에 해당하는 시간에 매도\n",
    "    submission['sell_time'] = np.argmax(pred_array, axis = 1)\n",
    "\n",
    "    submission.columns = ['sample_id','buy_quantity', 'sell_time']\n",
    "    return submission"
   ]
  },
  {
   "cell_type": "code",
   "execution_count": null,
   "id": "be8fcf0a",
   "metadata": {},
   "outputs": [],
   "source": [
    "# 투자 후 금액 계산\n",
    "def df2d_to_answer(df_2d):\n",
    "    # valid_y_df로부터\n",
    "    # open 가격 정보가 포함된\n",
    "    # [샘플 수, 120분] 크기의 \n",
    "    # 2차원 array를 반환하는 함수\n",
    "    feature_size = df_2d.iloc[:,2:].shape[1]\n",
    "    time_size = len(df_2d.time.value_counts())\n",
    "    sample_size = len(df_2d.sample_id.value_counts())\n",
    "    sample_index = df_2d.sample_id.value_counts().index\n",
    "    array_2d = df_2d.open.values.reshape([sample_size, time_size])\n",
    "    sample_index = list(sample_index)\n",
    "    return array_2d, sample_index"
   ]
  },
  {
   "cell_type": "code",
   "execution_count": null,
   "id": "6e98f289",
   "metadata": {},
   "outputs": [],
   "source": [
    "# test 데이터 학습 및 추론\n",
    "test_pred_array = np.zeros([test_x_array.shape[0],\n",
    "                           120])\n",
    "for idx in tqdm(range(test_x_array.shape[0])):\n",
    "    try:\n",
    "        x_series = test_x_array[idx,:,data_col_idx]\n",
    "        fit = None\n",
    "        try:\n",
    "            model = ARIMA(x_series, order=(3,0,1))\n",
    "            fit  = model.fit()\n",
    "        except Exception as e:\n",
    "            model = ARIMA(x_series, order=(4,0,1))\n",
    "            fit  = model.fit()\n",
    "            \n",
    "        x_df = pd.DataFrame()\n",
    "        x_df['ds'] = [start_dt + datetime.timedelta(minutes = time_min) for time_min in np.arange(1, x_series.shape[0]+1).tolist()]\n",
    "        x_df['y'] = x_series.tolist()\n",
    "        prophet = Prophet(seasonality_mode='multiplicative', \n",
    "                          yearly_seasonality=False,\n",
    "                          weekly_seasonality=False, daily_seasonality=True,\n",
    "                          changepoint_prior_scale=0.06)\n",
    "        prophet.fit(x_df)\n",
    "\n",
    "        preds = fit.predict(1381,1380+120, typ='levels')\n",
    "\n",
    "        future_data = prophet.make_future_dataframe(periods=120, freq='min')\n",
    "        forecast_data = prophet.predict(future_data)\n",
    "        forecast_data[['ds', 'yhat', 'yhat_lower', 'yhat_upper']].tail(5)\n",
    "\n",
    "        pred_y = forecast_data.yhat.values[-120:]\n",
    "        pred_y_lower = forecast_data.yhat_lower.values[-120:]\n",
    "        pred_y_upper = forecast_data.yhat_upper.values[-120:]\n",
    "\n",
    "        max_two_model = np.maximum(pred_y, preds)\n",
    "\n",
    "        test_pred_array[idx,:] = max_two_model\n",
    "    except Exception as e:\n",
    "        print(repr(e))\n",
    "        print(idx, \" 샘플은 수렴하지 않습니다.\")\n",
    "        pass"
   ]
  },
  {
   "cell_type": "code",
   "execution_count": null,
   "id": "32ea1fed",
   "metadata": {},
   "outputs": [],
   "source": [
    "submission = array_to_submission(test_x_array, test_pred_array)\n",
    "\n",
    "submission.buy_quantity.value_counts() \n",
    "\n",
    "submission.to_csv(data_path+\"/submission.csv\", index = False)"
   ]
  },
  {
   "cell_type": "code",
   "execution_count": null,
   "id": "2a55416a",
   "metadata": {},
   "outputs": [],
   "source": []
  },
  {
   "cell_type": "code",
   "execution_count": null,
   "id": "4345a0a9",
   "metadata": {},
   "outputs": [],
   "source": []
  }
 ],
 "metadata": {
  "hide_input": false,
  "kernelspec": {
   "display_name": "Python 3",
   "language": "python",
   "name": "python3"
  },
  "language_info": {
   "codemirror_mode": {
    "name": "ipython",
    "version": 3
   },
   "file_extension": ".py",
   "mimetype": "text/x-python",
   "name": "python",
   "nbconvert_exporter": "python",
   "pygments_lexer": "ipython3",
   "version": "3.7.9"
  },
  "varInspector": {
   "cols": {
    "lenName": 16,
    "lenType": 16,
    "lenVar": 40
   },
   "kernels_config": {
    "python": {
     "delete_cmd_postfix": "",
     "delete_cmd_prefix": "del ",
     "library": "var_list.py",
     "varRefreshCmd": "print(var_dic_list())"
    },
    "r": {
     "delete_cmd_postfix": ") ",
     "delete_cmd_prefix": "rm(",
     "library": "var_list.r",
     "varRefreshCmd": "cat(var_dic_list()) "
    }
   },
   "types_to_exclude": [
    "module",
    "function",
    "builtin_function_or_method",
    "instance",
    "_Feature"
   ],
   "window_display": false
  }
 },
 "nbformat": 4,
 "nbformat_minor": 5
}
