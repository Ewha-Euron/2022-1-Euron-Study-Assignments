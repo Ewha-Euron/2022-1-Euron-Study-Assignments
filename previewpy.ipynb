#preview1 python

conda create -n study python=3.7
conda activate study
pip install numpy
pip install pandas
pip install matplotlib
pip install scikit-learn
pip install jupyter
jupyter notebook


#k폴드 교차검증
from sklearn.model_selection import KFold
kfold=KFold(n_splits=5)
for train_index, test_index in kfold.split(input_data):
	x_train, x_test=input_data[train_index], input_data[test_index]
	y_train, y_test=output_data[train_index], output_data[test_index]

#stratified K폴드
from sklearn.model_selection import StratifiedKFold
skfold=StratifiedKFold(n_splits=5)
for train_index, test_index in skfold.split(input_data, otput_data):
        x_train, x_test=input_data[train_index], input_data[test_index]
        y_train, y_test=output_data[train_index], output_data[test_index]

#cross_val_score
for sklearn.model_selection import cross_val_score
dt_class-DecisionTreeClassifier()
score=cross_val_score(dt_class, input_data, output_data, scoring='accuracy', cv=3)

#GridSearchCV
from sklearn.model_selection import GridSearchCV
dt_class=DecisionTreeClassifier()
parameters={'max_depth':[1,2,3],'min_sampples_split':[2,3]}
grid_dtree=GridSearchCV(dt_class, param_grid=parameters, cv=3,refit=True)

#레이블 인코딩
from sklearn.preprocessing import LabelEncoder
items=['TV','냉장고','전자레인지']
encoder=LabelEncoder()
encoder.fit(items)
labels=encoder.transform(items)
encoder=LabelEncoder()
encoder.fit(items)
labels=encoder.transform(items)
print('인코딩값:{}', format(labels))
print('인코딩 클래스:{}'.format(encoder.classes_))
print('인코딩 값을 거꾸로 뒤집어서 디코드:{}'.format(encoder.inverse_transform(list(reversed(labels)))))

#One Hot Encoder
from sklearn.preprocessing import OneHotEncoder
items=['TV','냉장고','전자레인지','TV']
encoder=LabelEncoder()
encoder.fit(items)
labels=encoder.transform(items)
print('데이터차원\n{0}\ 라벨 인코딩 데이터\n{1}'.format(labels.shape, labels))
labels=labels.reshape(-1,1)
print('데이터차원\n{0}\ 2차원으로 변경된 데이터\n{1}'.format(labels.shape, labels))
oh_encoder=OneHotEncoder()
oh_encoder.fit(labels)
oh_labels=oh_encoder.transform(labels)
print('oh encoder data\n{0}'.format(oh_labels.toarray()))
print('oh encoder data gen \n{0}'.format(oh_labels.shape))
oh_encoder=OneHotEncoder()
oh_encoder.fit(labels)
oh_labels=oh_encoder.transform(labels)
print('oh encoder data\n{0}'.format(oh_labels.toarray()))
print('oh encoder data gen \n{0}'.format(oh_labels.shape))

#scale
train_arr=np.arange(0,11)reshape(-1,1)
test_arr=np.arrange(0,6).reshape(-1,1)

scaler=MinMaxScaler()
scaler.fit(train_arr)
train_scaled=scaler.transform(train_arr)

print('origin train:{}'.format(train_arr.reshape(-1)))
print('change train :{}'.format(train_scaled.reshape(-1)))

# 평가
from sklearn.metrics import accuracy_score, precision_score, recall_score, roc_aucscore, f1_score, confusion_matrix
#정확도, 오차행렬, 정밀도, 재현율, f1스코어, auc면적

#scale
train_arr=np.arange(0,11)reshape(-1,1)
test_arr=np.arrange(0,6).reshape(-1,1)

scaler=MinMaxScaler()
scaler.fit(train_arr)
train_scaled=scaler.transform(train_arr)

print('origin train:{}'.format(train_arr.reshape(-1)))
print('change train :{}'.format(train_scaled.reshape(-1)))

# 평가
from sklearn.metrics import accuracy_score, precision_score, recall_score, roc_aucscore, f1_score, confusion_matrix
#정확도, 오차행렬, 정밀도, 재현율, f1스코어, auc면적

