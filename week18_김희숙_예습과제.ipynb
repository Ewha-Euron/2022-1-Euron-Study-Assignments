{
  "cells": [
    {
      "cell_type": "markdown",
      "metadata": {
        "id": "D4TDEvhv7_od"
      },
      "source": [
        "# Autoencoder based Anomaly Detection\n",
        "https://dacon.io/competitions/official/235757/codeshare/4641?page=1&dtype=recent\n",
        "\n",
        "본 코드는 오토인코더 기반의 이상탐지 모델을 활용하였습니다.\n",
        "\n",
        "Conv1D-LSTM 기반의 Autoencoder 모델을 구현하였으며 구현 시 라이브러리는 tensorflow의 keras를 이용했습니다."
      ]
    },
    {
      "cell_type": "code",
      "execution_count": null,
      "metadata": {
        "id": "9vGhX84C7_og"
      },
      "outputs": [],
      "source": [
        "import numpy as np\n",
        "import matplotlib.pyplot as plt\n",
        "import pandas as pd\n",
        "from sklearn.preprocessing import StandardScaler\n",
        "from sklearn import metrics\n",
        "\n",
        "from tqdm.notebook import trange\n",
        "from TaPR_pkg import etapr\n",
        "from pathlib import Path\n",
        "import time\n",
        "\n",
        "from tensorflow import keras\n",
        "from tensorflow.keras import layers\n",
        "from tensorflow.keras.models import load_model\n",
        "from tensorflow.keras.callbacks import EarlyStopping"
      ]
    },
    {
      "cell_type": "markdown",
      "metadata": {
        "id": "Ywtp-GXC7_oi"
      },
      "source": [
        "위의 라이브러리를 활용하였습니다."
      ]
    },
    {
      "cell_type": "code",
      "execution_count": null,
      "metadata": {
        "scrolled": true,
        "id": "dATg00ye7_oi",
        "outputId": "c31eaaf3-552d-487f-f365-96349892c4de"
      },
      "outputs": [
        {
          "name": "stdout",
          "output_type": "stream",
          "text": [
            "CPython 3.6.11\n",
            "IPython 7.16.1\n",
            "\n",
            "numpy 1.18.5\n",
            "matplotlib 3.3.1\n",
            "pandas 1.1.2\n",
            "sklearn 0.0\n",
            "tqdm 4.48.2\n",
            "TaPR_pkg unknown\n",
            "pathlib 1.0.1\n",
            "tensorflow 2.3.0\n"
          ]
        }
      ],
      "source": [
        "%reload_ext watermark\n",
        "%watermark -v -p numpy,matplotlib,pandas,sklearn,tqdm,TaPR_pkg,pathlib,tensorflow"
      ]
    },
    {
      "cell_type": "markdown",
      "metadata": {
        "id": "bPB_oE0f7_oj"
      },
      "source": [
        "위와 같이 tensorflow 버전은 2.0 이상의 버전을 활용하였습니다.\n",
        "\n",
        "TaPR 패키지는 baseline을 참고해주시면 됩니다.\n",
        "\n",
        "본 코드에서는 \"eTaPR-1.12-py3-none-any.whl\" 파일을 직접 설치하였습니다.\n",
        "\n",
        "\"eTaPR-1.12-py3-none-any.whl\"이 존재하는 경로에서\n",
        "python -m pip install \"eTaPR-1.12-py3-none-any.whl\"와 같은 명령어를 실행하시면 쉽게 설치할 수 잇습니다."
      ]
    },
    {
      "cell_type": "markdown",
      "metadata": {
        "id": "-EnKiv7c7_ok"
      },
      "source": [
        "## 데이터 전처리\n",
        "\n",
        "학습 데이터와 테스트 데이터는 CSV로 제공됩니다.\n",
        "HAI 2.0은 단일 파일이 아니라 여러 파일로 제공되기 때문에 디렉토리 안에 있는 모든 CSV를 읽습니다.\n",
        "\n",
        "데이터 전처리 및 데이터를 불러오는 방법의 대부분은 baseline의 코드를 참고하였습니다."
      ]
    },
    {
      "cell_type": "markdown",
      "metadata": {
        "id": "ZF1az35n7_ok"
      },
      "source": [
        "# 1) 데이터 불러오기"
      ]
    },
    {
      "cell_type": "code",
      "execution_count": null,
      "metadata": {
        "id": "go247fGg7_ol"
      },
      "outputs": [],
      "source": [
        "TRAIN_DATASET = sorted([x for x in Path(\"D:\\\\data\\\\HAI 2.0\\\\training\\\\\").glob(\"*.csv\")])\n",
        "TRAIN_DATASET"
      ]
    },
    {
      "cell_type": "code",
      "execution_count": null,
      "metadata": {
        "scrolled": true,
        "id": "isWg5xJD7_om"
      },
      "outputs": [],
      "source": [
        "TEST_DATASET = sorted([x for x in Path(\"D:\\\\data\\\\HAI 2.0\\\\testing\").glob(\"*.csv\")])\n",
        "TEST_DATASET"
      ]
    },
    {
      "cell_type": "code",
      "execution_count": null,
      "metadata": {
        "id": "AfgFH9Iu7_on"
      },
      "outputs": [],
      "source": [
        "VALIDATION_DATASET = sorted([x for x in Path(\"D:\\\\data\\\\HAI 2.0\\\\validation\").glob(\"*.csv\")])\n",
        "VALIDATION_DATASET"
      ]
    },
    {
      "cell_type": "code",
      "execution_count": null,
      "metadata": {
        "id": "O9bmFhuB7_op"
      },
      "outputs": [],
      "source": [
        "def dataframe_from_csv(target):\n",
        "    return pd.read_csv(target, engine='python').rename(columns=lambda x: x.strip())\n",
        "\n",
        "def dataframe_from_csvs(targets):\n",
        "    return pd.concat([dataframe_from_csv(x) for x in targets])"
      ]
    },
    {
      "cell_type": "code",
      "execution_count": null,
      "metadata": {
        "scrolled": false,
        "id": "-_VLDr4E7_oq",
        "outputId": "8dde8777-2266-4080-aabf-514d59e43ba7"
      },
      "outputs": [
        {
          "data": {
            "text/html": [
              "<div>\n",
              "<style scoped>\n",
              "    .dataframe tbody tr th:only-of-type {\n",
              "        vertical-align: middle;\n",
              "    }\n",
              "\n",
              "    .dataframe tbody tr th {\n",
              "        vertical-align: top;\n",
              "    }\n",
              "\n",
              "    .dataframe thead th {\n",
              "        text-align: right;\n",
              "    }\n",
              "</style>\n",
              "<table border=\"1\" class=\"dataframe\">\n",
              "  <thead>\n",
              "    <tr style=\"text-align: right;\">\n",
              "      <th></th>\n",
              "      <th>time</th>\n",
              "      <th>C01</th>\n",
              "      <th>C02</th>\n",
              "      <th>C03</th>\n",
              "      <th>C04</th>\n",
              "      <th>C05</th>\n",
              "      <th>C06</th>\n",
              "      <th>C07</th>\n",
              "      <th>C08</th>\n",
              "      <th>C09</th>\n",
              "      <th>...</th>\n",
              "      <th>C70</th>\n",
              "      <th>C71</th>\n",
              "      <th>C72</th>\n",
              "      <th>C73</th>\n",
              "      <th>C74</th>\n",
              "      <th>C75</th>\n",
              "      <th>C76</th>\n",
              "      <th>C77</th>\n",
              "      <th>C78</th>\n",
              "      <th>C79</th>\n",
              "    </tr>\n",
              "  </thead>\n",
              "  <tbody>\n",
              "    <tr>\n",
              "      <th>0</th>\n",
              "      <td>2020-07-11 00:00:00</td>\n",
              "      <td>395.19528</td>\n",
              "      <td>12</td>\n",
              "      <td>10</td>\n",
              "      <td>52.80456</td>\n",
              "      <td>-1.2648</td>\n",
              "      <td>-1.87531</td>\n",
              "      <td>779.59595</td>\n",
              "      <td>28.02645</td>\n",
              "      <td>10832.0</td>\n",
              "      <td>...</td>\n",
              "      <td>808.29620</td>\n",
              "      <td>0.0</td>\n",
              "      <td>1.36810</td>\n",
              "      <td>8.79882</td>\n",
              "      <td>35.43700</td>\n",
              "      <td>12.01782</td>\n",
              "      <td>305.03113</td>\n",
              "      <td>301.35992</td>\n",
              "      <td>33.6555</td>\n",
              "      <td>6.0951</td>\n",
              "    </tr>\n",
              "    <tr>\n",
              "      <th>1</th>\n",
              "      <td>2020-07-11 00:00:01</td>\n",
              "      <td>395.14420</td>\n",
              "      <td>12</td>\n",
              "      <td>10</td>\n",
              "      <td>52.78931</td>\n",
              "      <td>-1.3147</td>\n",
              "      <td>-1.88294</td>\n",
              "      <td>780.67328</td>\n",
              "      <td>28.02473</td>\n",
              "      <td>10984.0</td>\n",
              "      <td>...</td>\n",
              "      <td>819.16809</td>\n",
              "      <td>0.0</td>\n",
              "      <td>1.36810</td>\n",
              "      <td>8.78811</td>\n",
              "      <td>35.45227</td>\n",
              "      <td>12.01782</td>\n",
              "      <td>304.27161</td>\n",
              "      <td>297.43567</td>\n",
              "      <td>33.6555</td>\n",
              "      <td>5.9262</td>\n",
              "    </tr>\n",
              "    <tr>\n",
              "      <th>2</th>\n",
              "      <td>2020-07-11 00:00:02</td>\n",
              "      <td>395.14420</td>\n",
              "      <td>12</td>\n",
              "      <td>10</td>\n",
              "      <td>52.79694</td>\n",
              "      <td>-1.4032</td>\n",
              "      <td>-1.88294</td>\n",
              "      <td>780.06574</td>\n",
              "      <td>28.02817</td>\n",
              "      <td>11120.0</td>\n",
              "      <td>...</td>\n",
              "      <td>823.51697</td>\n",
              "      <td>0.0</td>\n",
              "      <td>1.36734</td>\n",
              "      <td>8.81787</td>\n",
              "      <td>35.45227</td>\n",
              "      <td>12.01782</td>\n",
              "      <td>303.89179</td>\n",
              "      <td>298.66534</td>\n",
              "      <td>33.6555</td>\n",
              "      <td>5.8101</td>\n",
              "    </tr>\n",
              "    <tr>\n",
              "      <th>3</th>\n",
              "      <td>2020-07-11 00:00:03</td>\n",
              "      <td>395.19528</td>\n",
              "      <td>12</td>\n",
              "      <td>10</td>\n",
              "      <td>52.79694</td>\n",
              "      <td>-1.6074</td>\n",
              "      <td>-1.88294</td>\n",
              "      <td>780.15265</td>\n",
              "      <td>28.02301</td>\n",
              "      <td>11256.0</td>\n",
              "      <td>...</td>\n",
              "      <td>823.95172</td>\n",
              "      <td>0.0</td>\n",
              "      <td>1.36734</td>\n",
              "      <td>8.87493</td>\n",
              "      <td>35.43700</td>\n",
              "      <td>12.01782</td>\n",
              "      <td>303.67474</td>\n",
              "      <td>298.06860</td>\n",
              "      <td>33.6555</td>\n",
              "      <td>5.7509</td>\n",
              "    </tr>\n",
              "    <tr>\n",
              "      <th>4</th>\n",
              "      <td>2020-07-11 00:00:04</td>\n",
              "      <td>395.34866</td>\n",
              "      <td>12</td>\n",
              "      <td>10</td>\n",
              "      <td>52.79694</td>\n",
              "      <td>-1.7811</td>\n",
              "      <td>-1.88294</td>\n",
              "      <td>781.83160</td>\n",
              "      <td>28.03595</td>\n",
              "      <td>11384.0</td>\n",
              "      <td>...</td>\n",
              "      <td>827.86560</td>\n",
              "      <td>0.0</td>\n",
              "      <td>1.36810</td>\n",
              "      <td>8.83838</td>\n",
              "      <td>35.45227</td>\n",
              "      <td>12.01782</td>\n",
              "      <td>303.22266</td>\n",
              "      <td>296.53137</td>\n",
              "      <td>33.6555</td>\n",
              "      <td>5.8547</td>\n",
              "    </tr>\n",
              "    <tr>\n",
              "      <th>...</th>\n",
              "      <td>...</td>\n",
              "      <td>...</td>\n",
              "      <td>...</td>\n",
              "      <td>...</td>\n",
              "      <td>...</td>\n",
              "      <td>...</td>\n",
              "      <td>...</td>\n",
              "      <td>...</td>\n",
              "      <td>...</td>\n",
              "      <td>...</td>\n",
              "      <td>...</td>\n",
              "      <td>...</td>\n",
              "      <td>...</td>\n",
              "      <td>...</td>\n",
              "      <td>...</td>\n",
              "      <td>...</td>\n",
              "      <td>...</td>\n",
              "      <td>...</td>\n",
              "      <td>...</td>\n",
              "      <td>...</td>\n",
              "      <td>...</td>\n",
              "    </tr>\n",
              "    <tr>\n",
              "      <th>478796</th>\n",
              "      <td>2020-08-10 10:59:56</td>\n",
              "      <td>387.27219</td>\n",
              "      <td>12</td>\n",
              "      <td>10</td>\n",
              "      <td>66.72057</td>\n",
              "      <td>-0.9331</td>\n",
              "      <td>-1.84479</td>\n",
              "      <td>781.87915</td>\n",
              "      <td>28.02389</td>\n",
              "      <td>880.0</td>\n",
              "      <td>...</td>\n",
              "      <td>944.84705</td>\n",
              "      <td>0.0</td>\n",
              "      <td>1.32843</td>\n",
              "      <td>15.17817</td>\n",
              "      <td>35.14710</td>\n",
              "      <td>11.79657</td>\n",
              "      <td>316.89453</td>\n",
              "      <td>296.54950</td>\n",
              "      <td>32.0000</td>\n",
              "      <td>6.6026</td>\n",
              "    </tr>\n",
              "    <tr>\n",
              "      <th>478797</th>\n",
              "      <td>2020-08-10 10:59:57</td>\n",
              "      <td>387.52774</td>\n",
              "      <td>12</td>\n",
              "      <td>10</td>\n",
              "      <td>66.72057</td>\n",
              "      <td>-0.9996</td>\n",
              "      <td>-1.84479</td>\n",
              "      <td>787.65070</td>\n",
              "      <td>28.02385</td>\n",
              "      <td>840.0</td>\n",
              "      <td>...</td>\n",
              "      <td>940.49835</td>\n",
              "      <td>0.0</td>\n",
              "      <td>1.32843</td>\n",
              "      <td>15.17344</td>\n",
              "      <td>35.13183</td>\n",
              "      <td>11.79657</td>\n",
              "      <td>315.59247</td>\n",
              "      <td>296.15161</td>\n",
              "      <td>32.0000</td>\n",
              "      <td>6.3894</td>\n",
              "    </tr>\n",
              "    <tr>\n",
              "      <th>478798</th>\n",
              "      <td>2020-08-10 10:59:58</td>\n",
              "      <td>387.47665</td>\n",
              "      <td>12</td>\n",
              "      <td>10</td>\n",
              "      <td>66.72057</td>\n",
              "      <td>-1.2560</td>\n",
              "      <td>-1.84479</td>\n",
              "      <td>788.50256</td>\n",
              "      <td>28.03085</td>\n",
              "      <td>792.0</td>\n",
              "      <td>...</td>\n",
              "      <td>935.71472</td>\n",
              "      <td>0.0</td>\n",
              "      <td>1.32919</td>\n",
              "      <td>15.16443</td>\n",
              "      <td>35.13183</td>\n",
              "      <td>11.79657</td>\n",
              "      <td>313.92865</td>\n",
              "      <td>293.40277</td>\n",
              "      <td>32.0000</td>\n",
              "      <td>6.2584</td>\n",
              "    </tr>\n",
              "    <tr>\n",
              "      <th>478799</th>\n",
              "      <td>2020-08-10 10:59:59</td>\n",
              "      <td>387.73221</td>\n",
              "      <td>12</td>\n",
              "      <td>10</td>\n",
              "      <td>66.72057</td>\n",
              "      <td>-1.4912</td>\n",
              "      <td>-1.84479</td>\n",
              "      <td>785.80316</td>\n",
              "      <td>28.02649</td>\n",
              "      <td>752.0</td>\n",
              "      <td>...</td>\n",
              "      <td>944.84705</td>\n",
              "      <td>0.0</td>\n",
              "      <td>1.32843</td>\n",
              "      <td>15.09001</td>\n",
              "      <td>35.14710</td>\n",
              "      <td>11.79657</td>\n",
              "      <td>315.61054</td>\n",
              "      <td>302.58972</td>\n",
              "      <td>32.0000</td>\n",
              "      <td>6.4150</td>\n",
              "    </tr>\n",
              "    <tr>\n",
              "      <th>478800</th>\n",
              "      <td>2020-08-10 11:00:00</td>\n",
              "      <td>387.52774</td>\n",
              "      <td>12</td>\n",
              "      <td>10</td>\n",
              "      <td>66.72057</td>\n",
              "      <td>-1.5727</td>\n",
              "      <td>-1.84479</td>\n",
              "      <td>780.21381</td>\n",
              "      <td>28.02476</td>\n",
              "      <td>720.0</td>\n",
              "      <td>...</td>\n",
              "      <td>951.80505</td>\n",
              "      <td>0.0</td>\n",
              "      <td>1.32919</td>\n",
              "      <td>15.08672</td>\n",
              "      <td>35.14710</td>\n",
              "      <td>11.79657</td>\n",
              "      <td>317.23816</td>\n",
              "      <td>309.00964</td>\n",
              "      <td>32.0000</td>\n",
              "      <td>6.6288</td>\n",
              "    </tr>\n",
              "  </tbody>\n",
              "</table>\n",
              "<p>921603 rows × 80 columns</p>\n",
              "</div>"
            ],
            "text/plain": [
              "                       time        C01  C02  C03       C04     C05      C06  \\\n",
              "0       2020-07-11 00:00:00  395.19528   12   10  52.80456 -1.2648 -1.87531   \n",
              "1       2020-07-11 00:00:01  395.14420   12   10  52.78931 -1.3147 -1.88294   \n",
              "2       2020-07-11 00:00:02  395.14420   12   10  52.79694 -1.4032 -1.88294   \n",
              "3       2020-07-11 00:00:03  395.19528   12   10  52.79694 -1.6074 -1.88294   \n",
              "4       2020-07-11 00:00:04  395.34866   12   10  52.79694 -1.7811 -1.88294   \n",
              "...                     ...        ...  ...  ...       ...     ...      ...   \n",
              "478796  2020-08-10 10:59:56  387.27219   12   10  66.72057 -0.9331 -1.84479   \n",
              "478797  2020-08-10 10:59:57  387.52774   12   10  66.72057 -0.9996 -1.84479   \n",
              "478798  2020-08-10 10:59:58  387.47665   12   10  66.72057 -1.2560 -1.84479   \n",
              "478799  2020-08-10 10:59:59  387.73221   12   10  66.72057 -1.4912 -1.84479   \n",
              "478800  2020-08-10 11:00:00  387.52774   12   10  66.72057 -1.5727 -1.84479   \n",
              "\n",
              "              C07       C08      C09  ...        C70  C71      C72       C73  \\\n",
              "0       779.59595  28.02645  10832.0  ...  808.29620  0.0  1.36810   8.79882   \n",
              "1       780.67328  28.02473  10984.0  ...  819.16809  0.0  1.36810   8.78811   \n",
              "2       780.06574  28.02817  11120.0  ...  823.51697  0.0  1.36734   8.81787   \n",
              "3       780.15265  28.02301  11256.0  ...  823.95172  0.0  1.36734   8.87493   \n",
              "4       781.83160  28.03595  11384.0  ...  827.86560  0.0  1.36810   8.83838   \n",
              "...           ...       ...      ...  ...        ...  ...      ...       ...   \n",
              "478796  781.87915  28.02389    880.0  ...  944.84705  0.0  1.32843  15.17817   \n",
              "478797  787.65070  28.02385    840.0  ...  940.49835  0.0  1.32843  15.17344   \n",
              "478798  788.50256  28.03085    792.0  ...  935.71472  0.0  1.32919  15.16443   \n",
              "478799  785.80316  28.02649    752.0  ...  944.84705  0.0  1.32843  15.09001   \n",
              "478800  780.21381  28.02476    720.0  ...  951.80505  0.0  1.32919  15.08672   \n",
              "\n",
              "             C74       C75        C76        C77      C78     C79  \n",
              "0       35.43700  12.01782  305.03113  301.35992  33.6555  6.0951  \n",
              "1       35.45227  12.01782  304.27161  297.43567  33.6555  5.9262  \n",
              "2       35.45227  12.01782  303.89179  298.66534  33.6555  5.8101  \n",
              "3       35.43700  12.01782  303.67474  298.06860  33.6555  5.7509  \n",
              "4       35.45227  12.01782  303.22266  296.53137  33.6555  5.8547  \n",
              "...          ...       ...        ...        ...      ...     ...  \n",
              "478796  35.14710  11.79657  316.89453  296.54950  32.0000  6.6026  \n",
              "478797  35.13183  11.79657  315.59247  296.15161  32.0000  6.3894  \n",
              "478798  35.13183  11.79657  313.92865  293.40277  32.0000  6.2584  \n",
              "478799  35.14710  11.79657  315.61054  302.58972  32.0000  6.4150  \n",
              "478800  35.14710  11.79657  317.23816  309.00964  32.0000  6.6288  \n",
              "\n",
              "[921603 rows x 80 columns]"
            ]
          },
          "execution_count": 7,
          "metadata": {},
          "output_type": "execute_result"
        }
      ],
      "source": [
        "TRAIN_DF_RAW = dataframe_from_csvs(TRAIN_DATASET)\n",
        "TRAIN_DF_RAW"
      ]
    },
    {
      "cell_type": "markdown",
      "metadata": {
        "id": "lF5jv6VF7_os"
      },
      "source": [
        "# 2) 변수 설정"
      ]
    },
    {
      "cell_type": "markdown",
      "metadata": {
        "id": "UxRPRM627_ou"
      },
      "source": [
        "그 다음은 baseline과 동일하게 필드명을 활용하였습니다.\n",
        "\n",
        "<baselin 참조>\n",
        "\n",
        "학습 데이터셋은 공격을 받지 않은 평상시 데이터이고 시간을 나타내는 필드인 time이 있으며, 나머지 필드는 모두 비식별화된 센서/액추에이터의 값입니다. 정규화는 센서/액추에이터 필드만을 대상으로 해야 합니다.\n",
        "\n",
        "본 문서에서는 전체 데이터를 대상으로 이상을 탐지하므로 \"attack\" 필드만 사용하였습니다.\n",
        "\n",
        "VALID_COLUMNS_IN_TRAIN_DATASET은 학습 데이터셋에 있는 모든 센서/액추에이터 필드를 담고 있습니다. 가끔 학습 데이터셋에 존재하지 않는 필드가 테스트 데이터셋에 존재하는 경우가 있습니다. 학습 시 보지 못했던 필드에 대해서 테스트를 할 수 없으므로 학습 데이터셋을 기준으로 필드 이름을 얻어냈습니다."
      ]
    },
    {
      "cell_type": "code",
      "execution_count": null,
      "metadata": {
        "scrolled": true,
        "id": "LgsKguip7_ou",
        "outputId": "7594ca7f-68e3-4489-a544-09e6574f4248"
      },
      "outputs": [
        {
          "data": {
            "text/plain": [
              "Index(['C01', 'C02', 'C03', 'C04', 'C05', 'C06', 'C07', 'C08', 'C09', 'C10',\n",
              "       'C11', 'C12', 'C13', 'C14', 'C15', 'C16', 'C17', 'C18', 'C19', 'C20',\n",
              "       'C21', 'C22', 'C23', 'C24', 'C25', 'C26', 'C27', 'C28', 'C29', 'C30',\n",
              "       'C31', 'C32', 'C33', 'C34', 'C35', 'C36', 'C37', 'C38', 'C39', 'C40',\n",
              "       'C41', 'C42', 'C43', 'C44', 'C45', 'C46', 'C47', 'C48', 'C49', 'C50',\n",
              "       'C51', 'C52', 'C53', 'C54', 'C55', 'C56', 'C57', 'C58', 'C59', 'C60',\n",
              "       'C61', 'C62', 'C63', 'C64', 'C65', 'C66', 'C67', 'C68', 'C69', 'C70',\n",
              "       'C71', 'C72', 'C73', 'C74', 'C75', 'C76', 'C77', 'C78', 'C79'],\n",
              "      dtype='object')"
            ]
          },
          "execution_count": 8,
          "metadata": {},
          "output_type": "execute_result"
        }
      ],
      "source": [
        "TIMESTAMP_FIELD = \"time\"\n",
        "IDSTAMP_FIELD = 'id'\n",
        "ATTACK_FIELD = \"attack\"\n",
        "VALID_COLUMNS_IN_TRAIN_DATASET = TRAIN_DF_RAW.columns.drop([TIMESTAMP_FIELD])\n",
        "VALID_COLUMNS_IN_TRAIN_DATASET"
      ]
    },
    {
      "cell_type": "markdown",
      "metadata": {
        "id": "rDO22kXQ7_ov"
      },
      "source": [
        "# 3) 데이터 정규화"
      ]
    },
    {
      "cell_type": "markdown",
      "metadata": {
        "id": "E36pbLyB7_ow"
      },
      "source": [
        "본 연구에서도 normalize 함수를 통해 데이터를 정규화 합니다.\n",
        "정규화 방법은 min_max 정규화로 최댓값과 최솟값을 이용하여 0~1의 범위에 들어오도록 하였습니다."
      ]
    },
    {
      "cell_type": "code",
      "execution_count": null,
      "metadata": {
        "id": "z7R_JKS87_ow"
      },
      "outputs": [],
      "source": [
        "TAG_MIN = TRAIN_DF_RAW[VALID_COLUMNS_IN_TRAIN_DATASET].min()\n",
        "TAG_MAX = TRAIN_DF_RAW[VALID_COLUMNS_IN_TRAIN_DATASET].max()"
      ]
    },
    {
      "cell_type": "code",
      "execution_count": null,
      "metadata": {
        "id": "wdI3MHAx7_ox"
      },
      "outputs": [],
      "source": [
        "def normalize(df):\n",
        "    ndf = df.copy()\n",
        "    for c in df.columns:\n",
        "        if TAG_MIN[c] == TAG_MAX[c]:\n",
        "            ndf[c] = df[c] - TAG_MIN[c]\n",
        "        else:\n",
        "            ndf[c] = (df[c] - TAG_MIN[c]) / (TAG_MAX[c] - TAG_MIN[c])\n",
        "    return ndf"
      ]
    },
    {
      "cell_type": "markdown",
      "metadata": {
        "id": "oyFm15Rz7_oy"
      },
      "source": [
        "먼저 train data set을 정규화 하고 boundary_check 함수를 통해 정규화가 잘 되었는지 점검합니다."
      ]
    },
    {
      "cell_type": "code",
      "execution_count": null,
      "metadata": {
        "id": "OBSa9E2n7_oy"
      },
      "outputs": [],
      "source": [
        "TRAIN_DF = normalize(TRAIN_DF_RAW[VALID_COLUMNS_IN_TRAIN_DATASET])"
      ]
    },
    {
      "cell_type": "code",
      "execution_count": null,
      "metadata": {
        "id": "YqFEfHFH7_oy"
      },
      "outputs": [],
      "source": [
        "def boundary_check(df):\n",
        "    x = np.array(df, dtype=np.float32)\n",
        "    print(x)\n",
        "    return np.any(x > 1.0), np.any(x < 0), np.any(np.isnan(x))"
      ]
    },
    {
      "cell_type": "code",
      "execution_count": null,
      "metadata": {
        "scrolled": false,
        "id": "3ZBe9-I67_oz",
        "outputId": "8235eade-6552-455f-ca88-9e4440cc4932"
      },
      "outputs": [
        {
          "name": "stdout",
          "output_type": "stream",
          "text": [
            "[[0.37895253 0.         0.         ... 0.2650172  1.         0.5672542 ]\n",
            " [0.37845883 0.         0.         ... 0.2504694  1.         0.5066231 ]\n",
            " [0.37845883 0.         0.         ... 0.25502798 1.         0.46494597]\n",
            " ...\n",
            " [0.30434805 0.         0.         ... 0.23551878 0.26161984 0.625875  ]\n",
            " [0.3068182  0.         0.         ... 0.26957628 0.26161984 0.6820907 ]\n",
            " [0.30484188 0.         0.         ... 0.29337597 0.26161984 0.7588398 ]]\n"
          ]
        },
        {
          "data": {
            "text/plain": [
              "(False, False, False)"
            ]
          },
          "execution_count": 13,
          "metadata": {},
          "output_type": "execute_result"
        }
      ],
      "source": [
        "boundary_check(TRAIN_DF)"
      ]
    },
    {
      "cell_type": "markdown",
      "metadata": {
        "id": "P8ou_fGT7_oz"
      },
      "source": [
        "# 학습 모델 설정\n",
        "\n",
        "모델 구현 라이브러리는 keras를 사용하였습니다.\n",
        "\n",
        "본 챌린지의 핵심은 정상 상황의 데이터만을 학습하여 공격 및 비정상 상황을 탐지하는 것입니다.\n",
        "\n",
        "Autoencoder의 경우 보통 이미지의 생성이나 복원에 많이 사용되며, 정상적인 이미지로 모델 학습 후 비정상적인 이미지를 넣어 이를 디코딩 하게 되면 정상 이미지 특성과 디코딩 된 이미지 간의 차이인 재구성 손실(Reconstruction Error)를 계산하게 됩니다. 이 재구성 손실이 낮은 부분은 정상(normal), 재구성 손실이 높은 부분은 이상(Abnormal)로 판단할 수 있습니다.\n",
        "\n",
        "본 연구에서는 이러한 Anomaly Detection 방법을 이미지가 아닌 시계열 데이터에 적용하였습니다.\n",
        "\n",
        "Autoencoder의 레이어를 LSTM으로 구성하여 시퀸스 학습이 가능하게 하였습니다.\n",
        "또한, !D-Convolution layer를 적용하여 timestamp와 feature 정보를 세밀하게 이동하면서 학습이 진행되도록 하였습니다."
      ]
    },
    {
      "cell_type": "code",
      "execution_count": null,
      "metadata": {
        "id": "CgoXMTJe7_o0"
      },
      "outputs": [],
      "source": [
        "def temporalize(X, y, timesteps):\n",
        "    output_X = []\n",
        "    output_y = []\n",
        "    for i in range(len(X) - timesteps - 1):\n",
        "        t = []\n",
        "        for j in range(1, timesteps + 1):\n",
        "            t.append(X[[(i + j + 1)], :])\n",
        "        output_X.append(t)\n",
        "        output_y.append(y[i + timesteps + 1])\n",
        "    return np.squeeze(np.array(output_X)), np.array(output_y)"
      ]
    },
    {
      "cell_type": "markdown",
      "metadata": {
        "id": "31v922Pg7_o0"
      },
      "source": [
        "위의 함수를 통해서 데이터 셋 자체를 timestamp로 나누어서 학습을 진행할 수 있지만,\n",
        "Conv1D 레이어를 활용하였기 때문에 timestamp는 1로 두고 3 차원의 shpae 형태로 만들어 주었습니다."
      ]
    },
    {
      "cell_type": "code",
      "execution_count": null,
      "metadata": {
        "id": "ztVrNPOs7_o0",
        "outputId": "4a266c56-c3dd-4df8-95dd-e9f147262705"
      },
      "outputs": [
        {
          "data": {
            "text/plain": [
              "(921603, 1, 79)"
            ]
          },
          "execution_count": 15,
          "metadata": {},
          "output_type": "execute_result"
        }
      ],
      "source": [
        "train = np.array(TRAIN_DF)\n",
        "x_train = train.reshape(train.shape[0], 1, train.shape[1])\n",
        "x_train.shape"
      ]
    },
    {
      "cell_type": "markdown",
      "metadata": {
        "id": "T4anF-bV7_o1"
      },
      "source": [
        "# 학습 모델의 구조\n",
        "\n",
        "파라미터 설명\n",
        "\n",
        "Conv1D\n",
        "- filters : 컨볼루션 연산의 output 출력 수\n",
        "- kernel_size : timestamp를 얼마만큼 볼 것인가(=window_size)\n",
        "- padding : 한 쪽 방향으로 얼마만큼 padding할 것인가\n",
        "- dilation: kernel 내부에서 얼마만큼의 간격으로 kernel을 적용할 것인가\n",
        "- stride: default = 1, 컨볼루션 레이어의 이동크기\n",
        "\n",
        "LSTM\n",
        "- unit: 출력 차원층만 설정"
      ]
    },
    {
      "cell_type": "markdown",
      "metadata": {
        "id": "YDhbDsQu7_o1"
      },
      "source": [
        "모델의 구조는 Conv1D - Dense층 - LSTM - Dense층으로 encoder 와 decoder가 대칭이 되도록 설계하였습니다.\n",
        "파라미터는 주로 filters, kernel_size, Dense, LSTM의 units 값을 조절하면서 실험을 진행하였습니다.\n",
        "파라미터 값을 수정하면서 많은 실험을 진행하였지만 다음과 같은 모델의 결과가 가장 좋았습니다.\n",
        "\n",
        "추가적으로 Conv1D 레이어를 추가하거나 maxpooling과 같이 기존의 CNN 모델과 동일한 방식을 적용할 수 있습니다.\n",
        "\n",
        "제가 실험을 할 때는 pooling을 적용하지 않는 것이 결과가 좋았지만 모델을 테스트 해보실 분들은 다양하게 \n",
        "레이어와 파라미터 값을 조절 하면서 해보시면 좋을 것 같습니다."
      ]
    },
    {
      "cell_type": "code",
      "execution_count": null,
      "metadata": {
        "id": "uBcEfGAV7_o2"
      },
      "outputs": [],
      "source": [
        "def conv_auto_model(x):\n",
        "    n_steps = x.shape[1]\n",
        "    n_features = x.shape[2]\n",
        "\n",
        "    keras.backend.clear_session()\n",
        "\n",
        "    model = keras.Sequential(\n",
        "        [\n",
        "            layers.Input(shape=(n_steps, n_features)),\n",
        "            layers.Conv1D(filters=512, kernel_size=64, padding='same', data_format='channels_last',\n",
        "                          dilation_rate=1, activation=\"linear\"),\n",
        "            layers.Dense(128),\n",
        "            layers.LSTM(\n",
        "                units=64, activation=\"relu\", name=\"lstm_1\", return_sequences=False\n",
        "            ),\n",
        "            layers.Dense(64),\n",
        "            layers.RepeatVector(n_steps),\n",
        "            layers.Dense(64),\n",
        "            layers.LSTM(\n",
        "                units=64, activation=\"relu\", name=\"lstm_2\", return_sequences=True\n",
        "            ),\n",
        "            layers.Dense(128),\n",
        "            layers.Conv1D(filters=512, kernel_size=64, padding='same', data_format='channels_last',\n",
        "                          dilation_rate=1, activation=\"linear\"),\n",
        "            layers.TimeDistributed(layers.Dense(x.shape[2], activation='linear'))\n",
        "        ]\n",
        "    )\n",
        "    return model"
      ]
    },
    {
      "cell_type": "markdown",
      "metadata": {
        "id": "e7c19iQx7_o3"
      },
      "source": [
        "# 모델 구조 확인"
      ]
    },
    {
      "cell_type": "code",
      "execution_count": null,
      "metadata": {
        "id": "Ab15qFLg7_o3",
        "outputId": "a00193d2-96aa-4e73-a592-53dbd6ecacd9"
      },
      "outputs": [
        {
          "name": "stdout",
          "output_type": "stream",
          "text": [
            "Model: \"sequential\"\n",
            "_________________________________________________________________\n",
            "Layer (type)                 Output Shape              Param #   \n",
            "=================================================================\n",
            "conv1d (Conv1D)              (None, 1, 512)            2589184   \n",
            "_________________________________________________________________\n",
            "dense (Dense)                (None, 1, 128)            65664     \n",
            "_________________________________________________________________\n",
            "lstm_1 (LSTM)                (None, 64)                49408     \n",
            "_________________________________________________________________\n",
            "dense_1 (Dense)              (None, 64)                4160      \n",
            "_________________________________________________________________\n",
            "repeat_vector (RepeatVector) (None, 1, 64)             0         \n",
            "_________________________________________________________________\n",
            "dense_2 (Dense)              (None, 1, 64)             4160      \n",
            "_________________________________________________________________\n",
            "lstm_2 (LSTM)                (None, 1, 64)             33024     \n",
            "_________________________________________________________________\n",
            "dense_3 (Dense)              (None, 1, 128)            8320      \n",
            "_________________________________________________________________\n",
            "conv1d_1 (Conv1D)            (None, 1, 512)            4194816   \n",
            "_________________________________________________________________\n",
            "time_distributed (TimeDistri (None, 1, 79)             40527     \n",
            "=================================================================\n",
            "Total params: 6,989,263\n",
            "Trainable params: 6,989,263\n",
            "Non-trainable params: 0\n",
            "_________________________________________________________________\n"
          ]
        }
      ],
      "source": [
        "model = conv_auto_model(x_train)\n",
        "model.compile(optimizer='adam', loss='mse')\n",
        "model.summary()"
      ]
    },
    {
      "cell_type": "markdown",
      "metadata": {
        "id": "q4gUhyhA7_o4"
      },
      "source": [
        "# 모델 학습하기\n",
        "epoch을 50으로 하고, earlystopping을 사용하였습니다.\n",
        "제출 코드에서는 예시로 에폭을 3회만 실시 하였습니다."
      ]
    },
    {
      "cell_type": "code",
      "execution_count": null,
      "metadata": {
        "id": "vhN7gMAx7_o4",
        "outputId": "8821d670-5b64-4331-b01b-200c5fd5360f"
      },
      "outputs": [
        {
          "name": "stdout",
          "output_type": "stream",
          "text": [
            "Train on 737282 samples, validate on 184321 samples\n",
            "Epoch 1/3\n",
            "737282/737282 [==============================] - 401s 544us/sample - loss: 0.0020 - val_loss: 3.2852e-04\n",
            "Epoch 2/3\n",
            "737282/737282 [==============================] - 401s 544us/sample - loss: 1.4245e-04 - val_loss: 3.2397e-04\n",
            "Epoch 3/3\n",
            "737282/737282 [==============================] - 390s 529us/sample - loss: 8.5787e-05 - val_loss: 2.5324e-04\n"
          ]
        }
      ],
      "source": [
        "early_stopping = EarlyStopping(monitor='val_loss', patience=5)\n",
        "\n",
        "epochs = 3\n",
        "batch = 64\n",
        "\n",
        "# fit\n",
        "history = model.fit(x_train, x_train,\n",
        "                     epochs=epochs, batch_size=batch,\n",
        "                     validation_split=0.2, callbacks=[early_stopping]).history\n",
        "\n",
        "model.save('model.h5')"
      ]
    },
    {
      "cell_type": "code",
      "execution_count": null,
      "metadata": {
        "scrolled": true,
        "id": "HTTxx_SR7_o5",
        "outputId": "df3e8d42-72dc-4b89-e21e-1de301aab6fb"
      },
      "outputs": [
        {
          "data": {
            "image/png": "[encoded data removed]",
            "text/plain": [
              "<Figure size 432x288 with 1 Axes>"
            ]
          },
          "metadata": {
            "needs_background": "light"
          },
          "output_type": "display_data"
        }
      ],
      "source": [
        "plt.plot(history['loss'], label='train loss')\n",
        "plt.plot(history['val_loss'], label='valid loss')\n",
        "plt.legend()\n",
        "plt.xlabel('Epoch'); plt.ylabel('loss')\n",
        "plt.show()"
      ]
    },
    {
      "cell_type": "markdown",
      "metadata": {
        "id": "9xP_ovAk7_o5"
      },
      "source": [
        "# 학습된 모델 불러오기"
      ]
    },
    {
      "cell_type": "markdown",
      "metadata": {
        "id": "JZ-gmHGw7_o6"
      },
      "source": [
        "기존의 학습된 모델 중 가장 결과가 좋았던 모델을 불러와서 결과를 확인해보도록 하겠습니다."
      ]
    },
    {
      "cell_type": "code",
      "execution_count": null,
      "metadata": {
        "id": "G6TeZ0l37_o6"
      },
      "outputs": [],
      "source": [
        "model = load_model('best_model.h5')"
      ]
    },
    {
      "cell_type": "markdown",
      "metadata": {
        "id": "e_NxtYZV7_o6"
      },
      "source": [
        "# 학습된 모델을 검증 데이터셋에 적용하여 이상 탐지"
      ]
    },
    {
      "cell_type": "code",
      "execution_count": null,
      "metadata": {
        "scrolled": true,
        "id": "1Ppn5xIp7_o6",
        "outputId": "080003ce-118b-4b5f-c16c-15d21003c6aa"
      },
      "outputs": [
        {
          "data": {
            "text/html": [
              "<div>\n",
              "<style scoped>\n",
              "    .dataframe tbody tr th:only-of-type {\n",
              "        vertical-align: middle;\n",
              "    }\n",
              "\n",
              "    .dataframe tbody tr th {\n",
              "        vertical-align: top;\n",
              "    }\n",
              "\n",
              "    .dataframe thead th {\n",
              "        text-align: right;\n",
              "    }\n",
              "</style>\n",
              "<table border=\"1\" class=\"dataframe\">\n",
              "  <thead>\n",
              "    <tr style=\"text-align: right;\">\n",
              "      <th></th>\n",
              "      <th>time</th>\n",
              "      <th>C01</th>\n",
              "      <th>C02</th>\n",
              "      <th>C03</th>\n",
              "      <th>C04</th>\n",
              "      <th>C05</th>\n",
              "      <th>C06</th>\n",
              "      <th>C07</th>\n",
              "      <th>C08</th>\n",
              "      <th>C09</th>\n",
              "      <th>...</th>\n",
              "      <th>C71</th>\n",
              "      <th>C72</th>\n",
              "      <th>C73</th>\n",
              "      <th>C74</th>\n",
              "      <th>C75</th>\n",
              "      <th>C76</th>\n",
              "      <th>C77</th>\n",
              "      <th>C78</th>\n",
              "      <th>C79</th>\n",
              "      <th>attack</th>\n",
              "    </tr>\n",
              "  </thead>\n",
              "  <tbody>\n",
              "    <tr>\n",
              "      <th>0</th>\n",
              "      <td>2020-07-07 15:00:00</td>\n",
              "      <td>402.70947</td>\n",
              "      <td>12.0</td>\n",
              "      <td>10</td>\n",
              "      <td>51.95007</td>\n",
              "      <td>-1.0189</td>\n",
              "      <td>-1.86768</td>\n",
              "      <td>789.76508</td>\n",
              "      <td>28.03162</td>\n",
              "      <td>688</td>\n",
              "      <td>...</td>\n",
              "      <td>0.0</td>\n",
              "      <td>1.34293</td>\n",
              "      <td>10.89290</td>\n",
              "      <td>34.88770</td>\n",
              "      <td>12.26196</td>\n",
              "      <td>380.31683</td>\n",
              "      <td>386.26666</td>\n",
              "      <td>32.59527</td>\n",
              "      <td>5.6330</td>\n",
              "      <td>0</td>\n",
              "    </tr>\n",
              "    <tr>\n",
              "      <th>1</th>\n",
              "      <td>2020-07-07 15:00:01</td>\n",
              "      <td>402.81174</td>\n",
              "      <td>12.0</td>\n",
              "      <td>10</td>\n",
              "      <td>51.96533</td>\n",
              "      <td>-1.2637</td>\n",
              "      <td>-1.86768</td>\n",
              "      <td>789.13147</td>\n",
              "      <td>28.02301</td>\n",
              "      <td>648</td>\n",
              "      <td>...</td>\n",
              "      <td>0.0</td>\n",
              "      <td>1.34216</td>\n",
              "      <td>10.80512</td>\n",
              "      <td>34.88770</td>\n",
              "      <td>12.26196</td>\n",
              "      <td>380.02747</td>\n",
              "      <td>386.30286</td>\n",
              "      <td>32.59527</td>\n",
              "      <td>5.4158</td>\n",
              "      <td>0</td>\n",
              "    </tr>\n",
              "    <tr>\n",
              "      <th>2</th>\n",
              "      <td>2020-07-07 15:00:02</td>\n",
              "      <td>402.76062</td>\n",
              "      <td>12.0</td>\n",
              "      <td>10</td>\n",
              "      <td>51.96533</td>\n",
              "      <td>-1.5398</td>\n",
              "      <td>-1.86768</td>\n",
              "      <td>785.81653</td>\n",
              "      <td>28.02993</td>\n",
              "      <td>616</td>\n",
              "      <td>...</td>\n",
              "      <td>0.0</td>\n",
              "      <td>1.34369</td>\n",
              "      <td>10.80029</td>\n",
              "      <td>34.88770</td>\n",
              "      <td>12.26196</td>\n",
              "      <td>381.52850</td>\n",
              "      <td>389.73883</td>\n",
              "      <td>32.59527</td>\n",
              "      <td>5.5532</td>\n",
              "      <td>0</td>\n",
              "    </tr>\n",
              "    <tr>\n",
              "      <th>3</th>\n",
              "      <td>2020-07-07 15:00:03</td>\n",
              "      <td>402.81174</td>\n",
              "      <td>12.0</td>\n",
              "      <td>10</td>\n",
              "      <td>51.98822</td>\n",
              "      <td>-1.6212</td>\n",
              "      <td>-1.86768</td>\n",
              "      <td>785.42438</td>\n",
              "      <td>28.02993</td>\n",
              "      <td>584</td>\n",
              "      <td>...</td>\n",
              "      <td>0.0</td>\n",
              "      <td>1.34445</td>\n",
              "      <td>10.80579</td>\n",
              "      <td>34.88770</td>\n",
              "      <td>12.26196</td>\n",
              "      <td>382.08911</td>\n",
              "      <td>388.94311</td>\n",
              "      <td>32.59527</td>\n",
              "      <td>5.7833</td>\n",
              "      <td>0</td>\n",
              "    </tr>\n",
              "    <tr>\n",
              "      <th>4</th>\n",
              "      <td>2020-07-07 15:00:04</td>\n",
              "      <td>402.91394</td>\n",
              "      <td>12.0</td>\n",
              "      <td>10</td>\n",
              "      <td>51.90429</td>\n",
              "      <td>-1.5631</td>\n",
              "      <td>-1.86768</td>\n",
              "      <td>782.99249</td>\n",
              "      <td>28.02990</td>\n",
              "      <td>552</td>\n",
              "      <td>...</td>\n",
              "      <td>0.0</td>\n",
              "      <td>1.34293</td>\n",
              "      <td>10.81415</td>\n",
              "      <td>34.90295</td>\n",
              "      <td>12.26196</td>\n",
              "      <td>383.44543</td>\n",
              "      <td>389.72082</td>\n",
              "      <td>32.59527</td>\n",
              "      <td>6.0309</td>\n",
              "      <td>0</td>\n",
              "    </tr>\n",
              "    <tr>\n",
              "      <th>...</th>\n",
              "      <td>...</td>\n",
              "      <td>...</td>\n",
              "      <td>...</td>\n",
              "      <td>...</td>\n",
              "      <td>...</td>\n",
              "      <td>...</td>\n",
              "      <td>...</td>\n",
              "      <td>...</td>\n",
              "      <td>...</td>\n",
              "      <td>...</td>\n",
              "      <td>...</td>\n",
              "      <td>...</td>\n",
              "      <td>...</td>\n",
              "      <td>...</td>\n",
              "      <td>...</td>\n",
              "      <td>...</td>\n",
              "      <td>...</td>\n",
              "      <td>...</td>\n",
              "      <td>...</td>\n",
              "      <td>...</td>\n",
              "      <td>...</td>\n",
              "    </tr>\n",
              "    <tr>\n",
              "      <th>43196</th>\n",
              "      <td>2020-07-08 02:59:56</td>\n",
              "      <td>397.08661</td>\n",
              "      <td>12.0</td>\n",
              "      <td>10</td>\n",
              "      <td>66.58325</td>\n",
              "      <td>-1.2052</td>\n",
              "      <td>-1.83716</td>\n",
              "      <td>786.93738</td>\n",
              "      <td>28.03250</td>\n",
              "      <td>0</td>\n",
              "      <td>...</td>\n",
              "      <td>0.0</td>\n",
              "      <td>1.35971</td>\n",
              "      <td>16.19496</td>\n",
              "      <td>35.22338</td>\n",
              "      <td>12.01019</td>\n",
              "      <td>390.13672</td>\n",
              "      <td>394.91107</td>\n",
              "      <td>31.81634</td>\n",
              "      <td>5.2977</td>\n",
              "      <td>0</td>\n",
              "    </tr>\n",
              "    <tr>\n",
              "      <th>43197</th>\n",
              "      <td>2020-07-08 02:59:57</td>\n",
              "      <td>397.18887</td>\n",
              "      <td>12.0</td>\n",
              "      <td>10</td>\n",
              "      <td>66.58325</td>\n",
              "      <td>-0.9256</td>\n",
              "      <td>-1.83716</td>\n",
              "      <td>783.44989</td>\n",
              "      <td>28.02304</td>\n",
              "      <td>0</td>\n",
              "      <td>...</td>\n",
              "      <td>0.0</td>\n",
              "      <td>1.35971</td>\n",
              "      <td>16.23927</td>\n",
              "      <td>35.23864</td>\n",
              "      <td>12.01019</td>\n",
              "      <td>390.24518</td>\n",
              "      <td>397.35248</td>\n",
              "      <td>31.81634</td>\n",
              "      <td>5.3188</td>\n",
              "      <td>0</td>\n",
              "    </tr>\n",
              "    <tr>\n",
              "      <th>43198</th>\n",
              "      <td>2020-07-08 02:59:58</td>\n",
              "      <td>397.13776</td>\n",
              "      <td>12.0</td>\n",
              "      <td>10</td>\n",
              "      <td>66.58325</td>\n",
              "      <td>-0.7843</td>\n",
              "      <td>-1.83716</td>\n",
              "      <td>784.86780</td>\n",
              "      <td>28.02814</td>\n",
              "      <td>0</td>\n",
              "      <td>...</td>\n",
              "      <td>0.0</td>\n",
              "      <td>1.35818</td>\n",
              "      <td>16.20675</td>\n",
              "      <td>35.23864</td>\n",
              "      <td>12.01019</td>\n",
              "      <td>390.46222</td>\n",
              "      <td>396.70142</td>\n",
              "      <td>31.81634</td>\n",
              "      <td>5.1800</td>\n",
              "      <td>0</td>\n",
              "    </tr>\n",
              "    <tr>\n",
              "      <th>43199</th>\n",
              "      <td>2020-07-08 02:59:59</td>\n",
              "      <td>397.34222</td>\n",
              "      <td>12.0</td>\n",
              "      <td>10</td>\n",
              "      <td>66.58325</td>\n",
              "      <td>-0.7646</td>\n",
              "      <td>-1.83716</td>\n",
              "      <td>785.51416</td>\n",
              "      <td>28.02294</td>\n",
              "      <td>0</td>\n",
              "      <td>...</td>\n",
              "      <td>0.0</td>\n",
              "      <td>1.35818</td>\n",
              "      <td>16.17168</td>\n",
              "      <td>35.25391</td>\n",
              "      <td>12.01019</td>\n",
              "      <td>391.78241</td>\n",
              "      <td>397.73218</td>\n",
              "      <td>31.81634</td>\n",
              "      <td>4.8763</td>\n",
              "      <td>0</td>\n",
              "    </tr>\n",
              "    <tr>\n",
              "      <th>43200</th>\n",
              "      <td>2020-07-08 03:00:00</td>\n",
              "      <td>397.49557</td>\n",
              "      <td>12.0</td>\n",
              "      <td>10</td>\n",
              "      <td>66.58325</td>\n",
              "      <td>-0.9083</td>\n",
              "      <td>-1.83716</td>\n",
              "      <td>786.98297</td>\n",
              "      <td>28.02990</td>\n",
              "      <td>0</td>\n",
              "      <td>...</td>\n",
              "      <td>0.0</td>\n",
              "      <td>1.35895</td>\n",
              "      <td>16.10412</td>\n",
              "      <td>35.22338</td>\n",
              "      <td>12.01019</td>\n",
              "      <td>391.31219</td>\n",
              "      <td>397.24390</td>\n",
              "      <td>31.81634</td>\n",
              "      <td>4.5790</td>\n",
              "      <td>0</td>\n",
              "    </tr>\n",
              "  </tbody>\n",
              "</table>\n",
              "<p>43201 rows × 81 columns</p>\n",
              "</div>"
            ],
            "text/plain": [
              "                      time        C01   C02  C03       C04     C05      C06  \\\n",
              "0      2020-07-07 15:00:00  402.70947  12.0   10  51.95007 -1.0189 -1.86768   \n",
              "1      2020-07-07 15:00:01  402.81174  12.0   10  51.96533 -1.2637 -1.86768   \n",
              "2      2020-07-07 15:00:02  402.76062  12.0   10  51.96533 -1.5398 -1.86768   \n",
              "3      2020-07-07 15:00:03  402.81174  12.0   10  51.98822 -1.6212 -1.86768   \n",
              "4      2020-07-07 15:00:04  402.91394  12.0   10  51.90429 -1.5631 -1.86768   \n",
              "...                    ...        ...   ...  ...       ...     ...      ...   \n",
              "43196  2020-07-08 02:59:56  397.08661  12.0   10  66.58325 -1.2052 -1.83716   \n",
              "43197  2020-07-08 02:59:57  397.18887  12.0   10  66.58325 -0.9256 -1.83716   \n",
              "43198  2020-07-08 02:59:58  397.13776  12.0   10  66.58325 -0.7843 -1.83716   \n",
              "43199  2020-07-08 02:59:59  397.34222  12.0   10  66.58325 -0.7646 -1.83716   \n",
              "43200  2020-07-08 03:00:00  397.49557  12.0   10  66.58325 -0.9083 -1.83716   \n",
              "\n",
              "             C07       C08  C09  ...  C71      C72       C73       C74  \\\n",
              "0      789.76508  28.03162  688  ...  0.0  1.34293  10.89290  34.88770   \n",
              "1      789.13147  28.02301  648  ...  0.0  1.34216  10.80512  34.88770   \n",
              "2      785.81653  28.02993  616  ...  0.0  1.34369  10.80029  34.88770   \n",
              "3      785.42438  28.02993  584  ...  0.0  1.34445  10.80579  34.88770   \n",
              "4      782.99249  28.02990  552  ...  0.0  1.34293  10.81415  34.90295   \n",
              "...          ...       ...  ...  ...  ...      ...       ...       ...   \n",
              "43196  786.93738  28.03250    0  ...  0.0  1.35971  16.19496  35.22338   \n",
              "43197  783.44989  28.02304    0  ...  0.0  1.35971  16.23927  35.23864   \n",
              "43198  784.86780  28.02814    0  ...  0.0  1.35818  16.20675  35.23864   \n",
              "43199  785.51416  28.02294    0  ...  0.0  1.35818  16.17168  35.25391   \n",
              "43200  786.98297  28.02990    0  ...  0.0  1.35895  16.10412  35.22338   \n",
              "\n",
              "            C75        C76        C77       C78     C79  attack  \n",
              "0      12.26196  380.31683  386.26666  32.59527  5.6330       0  \n",
              "1      12.26196  380.02747  386.30286  32.59527  5.4158       0  \n",
              "2      12.26196  381.52850  389.73883  32.59527  5.5532       0  \n",
              "3      12.26196  382.08911  388.94311  32.59527  5.7833       0  \n",
              "4      12.26196  383.44543  389.72082  32.59527  6.0309       0  \n",
              "...         ...        ...        ...       ...     ...     ...  \n",
              "43196  12.01019  390.13672  394.91107  31.81634  5.2977       0  \n",
              "43197  12.01019  390.24518  397.35248  31.81634  5.3188       0  \n",
              "43198  12.01019  390.46222  396.70142  31.81634  5.1800       0  \n",
              "43199  12.01019  391.78241  397.73218  31.81634  4.8763       0  \n",
              "43200  12.01019  391.31219  397.24390  31.81634  4.5790       0  \n",
              "\n",
              "[43201 rows x 81 columns]"
            ]
          },
          "execution_count": 21,
          "metadata": {},
          "output_type": "execute_result"
        }
      ],
      "source": [
        "VALIDATION_DF_RAW = dataframe_from_csvs(VALIDATION_DATASET)\n",
        "VALIDATION_DF_RAW.to_csv('VALIDATION_DF_RAW.csv')\n",
        "VALIDATION_DF_RAW"
      ]
    },
    {
      "cell_type": "markdown",
      "metadata": {
        "id": "SqcW-PoT7_o7"
      },
      "source": [
        "검증 데이터 셋에서는 정상 데이터를 기준으로 정규화를 진행합니다.\n",
        "그리고, 최솟값과 최댓값을 넘어가는 것이 있는지 확인합니다."
      ]
    },
    {
      "cell_type": "code",
      "execution_count": null,
      "metadata": {
        "id": "zfv2ftBx7_o7"
      },
      "outputs": [],
      "source": [
        "VALIDATION_DF = normalize(VALIDATION_DF_RAW[VALID_COLUMNS_IN_TRAIN_DATASET])"
      ]
    },
    {
      "cell_type": "code",
      "execution_count": null,
      "metadata": {
        "id": "KLvyCZY67_o8",
        "outputId": "07089e22-3ab7-4c56-b7a6-86c4e5cb86a5"
      },
      "outputs": [
        {
          "name": "stdout",
          "output_type": "stream",
          "text": [
            "[[0.45158097 0.         0.         ... 0.5797802  0.52712005 0.4013713 ]\n",
            " [0.45256948 0.         0.         ... 0.5799144  0.52712005 0.32340166]\n",
            " [0.45207536 0.         0.         ... 0.5926521  0.52712005 0.37272498]\n",
            " ...\n",
            " [0.39772758 0.         0.         ... 0.6184636  0.17970447 0.23875508]\n",
            " [0.3997038  0.         0.         ... 0.62228477 0.17970447 0.129734  ]\n",
            " [0.401186   0.         0.         ... 0.62047464 0.17970447 0.02301037]]\n"
          ]
        },
        {
          "data": {
            "text/plain": [
              "(True, True, False)"
            ]
          },
          "execution_count": 23,
          "metadata": {},
          "output_type": "execute_result"
        }
      ],
      "source": [
        "boundary_check(VALIDATION_DF)"
      ]
    },
    {
      "cell_type": "markdown",
      "metadata": {
        "id": "xjZ24UIc7_o8"
      },
      "source": [
        "그래프로 시각화를 하여 보았을 때도 일정 구간에서 0과 1 범위를 벗어나는 것을 확인할 수 있습니다."
      ]
    },
    {
      "cell_type": "code",
      "execution_count": null,
      "metadata": {
        "scrolled": true,
        "id": "VC9tdNq37_o8",
        "outputId": "c566e3c6-0c27-4896-db75-30f99e83fbd9"
      },
      "outputs": [
        {
          "data": {
            "text/plain": [
              "<AxesSubplot:>"
            ]
          },
          "execution_count": 24,
          "metadata": {},
          "output_type": "execute_result"
        },
        {
          "data": {
            "image/png": "[encoded data removed]",
            "text/plain": [
              "<Figure size 432x288 with 1 Axes>"
            ]
          },
          "metadata": {
            "needs_background": "light"
          },
          "output_type": "display_data"
        }
      ],
      "source": [
        "VALIDATION_DF.plot()"
      ]
    },
    {
      "cell_type": "code",
      "execution_count": null,
      "metadata": {
        "id": "stSsrPvu7_o9",
        "outputId": "a4d35d55-eac0-4165-be79-abb883e16443"
      },
      "outputs": [
        {
          "data": {
            "text/plain": [
              "<AxesSubplot:>"
            ]
          },
          "execution_count": 25,
          "metadata": {},
          "output_type": "execute_result"
        },
        {
          "data": {
            "image/png": "[encoded data removed]",
            "text/plain": [
              "<Figure size 432x288 with 1 Axes>"
            ]
          },
          "metadata": {
            "needs_background": "light"
          },
          "output_type": "display_data"
        }
      ],
      "source": [
        "VALIDATION_DF['C75'].plot()"
      ]
    },
    {
      "cell_type": "markdown",
      "metadata": {
        "id": "jaTjGG5l7_o9"
      },
      "source": [
        "# Data cleaning\n",
        "모델을 실험하면서 최종결과를 확인할 때 복원이 잘 되는 것을 확인할 수 있었지만,\n",
        "앞부분의 정상구간이 다른 정상구간 보다 Reconstruction_error가 높게 나타나는 것을 알 수 있었습니다.\n",
        "\n",
        "그래서 확인을 했을 때 한 변수가 정상인 구간에서 1이 넘어가는 값을 가지고 있었습니다.\n",
        "\n",
        "validation set에서 조금 더 정교하게 threshold 조절 및 결과를 확인하기 위해서 해당 변수의 값을 정상 범위에 맞게 임의로 조절하였습니다.\n",
        "\n",
        "하지만 이부분은 특이한 경우로 validation에서는 정답 label 값을 알고 있고, 정상이지만 비정상 구간에서 일정하게 나타나고 있었기 때문에 조절하였습니다."
      ]
    },
    {
      "cell_type": "code",
      "execution_count": null,
      "metadata": {
        "id": "snikMmBJ7_o-"
      },
      "outputs": [],
      "source": [
        "# valid 그래프를 보고 앞부분 정상인데 값이 튀는 변수가 있어서 조절\n",
        "VALIDATION_DF['C75'][:2110] = 0.95"
      ]
    },
    {
      "cell_type": "code",
      "execution_count": null,
      "metadata": {
        "id": "2i8ccuWR7_o-",
        "outputId": "eaaffc1c-912e-410c-c638-fe584a4c348d"
      },
      "outputs": [
        {
          "data": {
            "text/plain": [
              "(43201, 1, 79)"
            ]
          },
          "execution_count": 27,
          "metadata": {},
          "output_type": "execute_result"
        }
      ],
      "source": [
        "val = np.array(VALIDATION_DF)\n",
        "x_val = val.reshape(val.shape[0], 1, val.shape[1])\n",
        "x_val.shape"
      ]
    },
    {
      "cell_type": "markdown",
      "metadata": {
        "id": "-wvyAtAB7_o-"
      },
      "source": [
        "모델의 결과가 3차원의 형태이기 때문에 복원된 결과와의 차이를 확인하기 위해서는 2차원으로 다시 바꿔줘야합니다.\n",
        "\n",
        "그래서 flatten 함수를 구현하여 활용하였습니다."
      ]
    },
    {
      "cell_type": "code",
      "execution_count": null,
      "metadata": {
        "id": "TAywnGrt7_o_"
      },
      "outputs": [],
      "source": [
        "def flatten(X):\n",
        "    flattened_X = np.empty((X.shape[0], X.shape[2]))  # sample x features array.\n",
        "    for i in range(X.shape[0]):\n",
        "        flattened_X[i] = X[i, (X.shape[1]-1), :]\n",
        "    return(flattened_X)\n",
        "\n",
        "def scale(X, scaler):\n",
        "    for i in range(X.shape[0]):\n",
        "        X[i, :, :] = scaler.transform(X[i, :, :])\n",
        "        \n",
        "    return X"
      ]
    },
    {
      "cell_type": "markdown",
      "metadata": {
        "id": "N4K2y-mi7_o_"
      },
      "source": [
        "모델의 의해 재구성된 값을 실제 값과 차이를 구해서 재구성 손실(reconstruction error) 값을 구해줍니다.\n",
        "\n",
        "정상인경우 모델이 잘 학습되어 복원이 잘 되었기 때문에 reconstruction error 값이 작게 나올 것이고,\n",
        "공격인 경우 정규화된 값에서 0과 1을 벗어나기 때문에 reconstruction error 값이 크게 나올 것입니다."
      ]
    },
    {
      "cell_type": "code",
      "execution_count": null,
      "metadata": {
        "id": "KAMK305o7_pA",
        "outputId": "cbf660ff-0caa-4cab-eda8-552911a88506"
      },
      "outputs": [
        {
          "name": "stdout",
          "output_type": "stream",
          "text": [
            "(43201, 1, 79)\n",
            "(43201, 79)\n",
            "(43201,)\n",
            "7.681452989578247\n"
          ]
        }
      ],
      "source": [
        "start = time.time()\n",
        "valid_x_predictions = model.predict(x_val)\n",
        "print(valid_x_predictions.shape)\n",
        "\n",
        "error = flatten(x_val) - flatten(valid_x_predictions)\n",
        "print((flatten(x_val) - flatten(valid_x_predictions)).shape)\n",
        "\n",
        "valid_mse = np.mean(np.power(flatten(x_val) - flatten(valid_x_predictions), 2), axis=1)\n",
        "print(valid_mse.shape)\n",
        "print(time.time()-start)"
      ]
    },
    {
      "cell_type": "markdown",
      "metadata": {
        "id": "OEDb6tf57_pA"
      },
      "source": [
        "# Precision Recall Curve\n",
        "\n",
        "threshold의 경우 Recall과 Precision의 값이 교차되는 지점을 기준으로 조금 씩 수정하면서 결과를 확인하였습니다."
      ]
    },
    {
      "cell_type": "code",
      "execution_count": null,
      "metadata": {
        "id": "M73o51SE7_pB",
        "outputId": "d0b36fd9-a9ed-41f3-e8fa-f04b1f15ce69"
      },
      "outputs": [
        {
          "data": {
            "text/plain": [
              "<matplotlib.legend.Legend at 0x1e8056cf2b0>"
            ]
          },
          "execution_count": 30,
          "metadata": {},
          "output_type": "execute_result"
        },
        {
          "data": {
            "image/png": "[encoded data removed]",
            "text/plain": [
              "<Figure size 576x360 with 1 Axes>"
            ]
          },
          "metadata": {
            "needs_background": "light"
          },
          "output_type": "display_data"
        }
      ],
      "source": [
        "error_df = pd.DataFrame({'Reconstruction_error': valid_mse, \n",
        "                         'True_class':list(VALIDATION_DF_RAW['attack'])})\n",
        "precision_rt, recall_rt, threshold_rt = metrics.precision_recall_curve(error_df['True_class'], error_df['Reconstruction_error'])\n",
        "\n",
        "plt.figure(figsize=(8,5))\n",
        "plt.plot(threshold_rt, precision_rt[1:], label='Precision')\n",
        "plt.plot(threshold_rt, recall_rt[1:], label='Recall')\n",
        "plt.xlabel('Threshold'); plt.ylabel('Precision/Recall')\n",
        "plt.legend()\n",
        "#plt.show()"
      ]
    },
    {
      "cell_type": "code",
      "execution_count": null,
      "metadata": {
        "id": "ho-wudP_7_pB",
        "outputId": "4bed0605-2f29-41a9-c0ee-abce989e77a1"
      },
      "outputs": [
        {
          "name": "stdout",
          "output_type": "stream",
          "text": [
            "precision:  0.9411764705882353 , recall:  0.9411764705882353\n",
            "threshold:  0.00036586847637974846\n"
          ]
        }
      ],
      "source": [
        "index_cnt = [cnt for cnt, (p, r) in enumerate(zip(precision_rt, recall_rt)) if p==r][0]\n",
        "print('precision: ',precision_rt[index_cnt],', recall: ',recall_rt[index_cnt])\n",
        "\n",
        "# fixed Threshold\n",
        "threshold_fixed = threshold_rt[index_cnt]\n",
        "print('threshold: ',threshold_fixed)"
      ]
    },
    {
      "cell_type": "markdown",
      "metadata": {
        "id": "nWB-Tu-Z7_pC"
      },
      "source": [
        "위에서 data cleaning을 적용하였을 때 precision 및 recall 값도 높게 잘 나오는 것을 확인할 수 있었습니다."
      ]
    },
    {
      "cell_type": "markdown",
      "metadata": {
        "id": "OXmK5r4N7_pC"
      },
      "source": [
        "# Predict Validation data set\n",
        "우선 위에서 구한 threshold의 값으로 시각화를 하여 결과를 확인해 보겠습니다."
      ]
    },
    {
      "cell_type": "code",
      "execution_count": null,
      "metadata": {
        "id": "1bvhKS_m7_pE",
        "outputId": "5ed621b2-7ab1-4982-8764-16ef16cea6e4"
      },
      "outputs": [
        {
          "data": {
            "text/plain": [
              "Text(0.5, 0, 'Data point index')"
            ]
          },
          "execution_count": 32,
          "metadata": {},
          "output_type": "execute_result"
        },
        {
          "data": {
            "image/png": "[encoded data removed]",
            "text/plain": [
              "<Figure size 1440x1440 with 1 Axes>"
            ]
          },
          "metadata": {
            "needs_background": "light"
          },
          "output_type": "display_data"
        }
      ],
      "source": [
        "error_df = pd.DataFrame({'Reconstruction_error': valid_mse ,\n",
        "                         'True_class': list(VALIDATION_DF_RAW['attack'])})\n",
        "groups = error_df.groupby('True_class')\n",
        "fig, ax = plt.subplots(figsize=(20,20))\n",
        "\n",
        "for name, group in groups:\n",
        "    ax.plot(group.index, group.Reconstruction_error, marker='o', ms=3.5, linestyle='',\n",
        "            label= \"Break\" if name == 1 else \"Normal\")\n",
        "    \n",
        "ax.hlines(threshold_fixed, ax.get_xlim()[0], ax.get_xlim()[1], colors=\"r\", zorder=100, label='Threshold')\n",
        "ax.legend()\n",
        "\n",
        "plt.title(\"Reconstruction error for different classes\")\n",
        "plt.ylabel(\"Reconstruction error\")\n",
        "plt.xlabel(\"Data point index\")"
      ]
    },
    {
      "cell_type": "markdown",
      "metadata": {
        "id": "E0oMgM5w7_pF"
      },
      "source": [
        "결과를 확인해보면 정상인 구간에서는 복원이 잘 되어 reconstruction error 값이 작게 나왔고, 비정상인 구간은 확실하게 reconstruction error 값이 높게 나오는 것을 확인할 수 있습니다."
      ]
    },
    {
      "cell_type": "markdown",
      "metadata": {
        "id": "Px76I8Gx7_pF"
      },
      "source": [
        "# 이동평균 "
      ]
    },
    {
      "cell_type": "markdown",
      "metadata": {
        "id": "RCVt5bHd7_pF"
      },
      "source": [
        "그 다음 조금 더 좋은 결과를 얻기 위해서 이동평균 값을 활용하였습니다.\n",
        "\n",
        "reconstruction error의 이동 평균 값을 활용함으로써 정상인 구간과 비정상인 구간을 조금 더 명확하게 구분할 수 있었습니다.\n",
        "\n",
        "threshold 값을 기준으로 구분하다보면 시작점과 끝점을 찾는 것이 어려웠습니다.\n",
        "그래서 이동평균 값을 통해 정상인 구간은 평균적으로 더 낮게 하고, 비정상인 구간은 평균적으로 더 높은 값을 나타내도록 하였습니다."
      ]
    },
    {
      "cell_type": "code",
      "execution_count": null,
      "metadata": {
        "id": "ZOUaDD-t7_pF",
        "outputId": "90f9cc02-eed5-4521-d607-da784aa4d086"
      },
      "outputs": [
        {
          "data": {
            "text/plain": [
              "0        0.000000\n",
              "1        0.000000\n",
              "2        0.000000\n",
              "3        0.000000\n",
              "4        0.000000\n",
              "           ...   \n",
              "43196    0.000138\n",
              "43197    0.000138\n",
              "43198    0.000137\n",
              "43199    0.000135\n",
              "43200    0.000133\n",
              "Name: Reconstruction_error, Length: 43201, dtype: float64"
            ]
          },
          "execution_count": 33,
          "metadata": {},
          "output_type": "execute_result"
        }
      ],
      "source": [
        "#이동평균\n",
        "mean_window = error_df['Reconstruction_error'].rolling(50).mean()\n",
        "window_error = mean_window.fillna(0)\n",
        "window_error"
      ]
    },
    {
      "cell_type": "code",
      "execution_count": null,
      "metadata": {
        "scrolled": false,
        "id": "MoO4Jmpv7_pG",
        "outputId": "75299769-9d7c-4d41-ccf5-535744102806"
      },
      "outputs": [
        {
          "data": {
            "text/plain": [
              "Text(0.5, 0, 'Data point index')"
            ]
          },
          "execution_count": 34,
          "metadata": {},
          "output_type": "execute_result"
        },
        {
          "data": {
            "image/png": "[encoded data removed]",
            "text/plain": [
              "<Figure size 1440x1440 with 1 Axes>"
            ]
          },
          "metadata": {
            "needs_background": "light"
          },
          "output_type": "display_data"
        }
      ],
      "source": [
        "window_error_df = pd.DataFrame({'Reconstruction_error': window_error ,\n",
        "                         'True_class': list(VALIDATION_DF_RAW['attack'])})\n",
        "groups = window_error_df.groupby('True_class')\n",
        "fig, ax = plt.subplots(figsize=(20,20))\n",
        "\n",
        "for name, group in groups:\n",
        "    ax.plot(group.index, group.Reconstruction_error, marker='o', ms=3.5, linestyle='',\n",
        "            label= \"Break\" if name == 1 else \"Normal\")\n",
        "    \n",
        "ax.hlines(threshold_fixed, ax.get_xlim()[0], ax.get_xlim()[1], colors=\"r\", zorder=100, label='Threshold')\n",
        "ax.legend()\n",
        "\n",
        "plt.title(\"Reconstruction error for different classes\")\n",
        "plt.ylabel(\"Reconstruction error\")\n",
        "plt.xlabel(\"Data point index\")"
      ]
    },
    {
      "cell_type": "markdown",
      "metadata": {
        "id": "WkXQWXHL7_pH"
      },
      "source": [
        "그 결과 공격 범위가 조금 넘어 가더라도 확실하게 공격인 구간을 잘 잡아내도록 하였습니다."
      ]
    },
    {
      "cell_type": "markdown",
      "metadata": {
        "id": "P6VJYZiU7_pH"
      },
      "source": [
        "위에서 구한 threshold 값으로 validation set 의 결과를 확인해보겠습니다."
      ]
    },
    {
      "cell_type": "code",
      "execution_count": null,
      "metadata": {
        "id": "oaTxNvmb7_pH",
        "outputId": "d6c450e0-42be-441d-c88c-6fc9f3a28650"
      },
      "outputs": [
        {
          "data": {
            "text/plain": [
              "(43201,)"
            ]
          },
          "execution_count": 35,
          "metadata": {},
          "output_type": "execute_result"
        }
      ],
      "source": [
        "pred_y = [1 if e > threshold_fixed else 0 for e in window_error_df['Reconstruction_error'].values]\n",
        "pred_y = np.array(pred_y)\n",
        "pred_y.shape"
      ]
    },
    {
      "cell_type": "markdown",
      "metadata": {
        "id": "p8Of3TVZ7_pH"
      },
      "source": [
        "# 평가"
      ]
    },
    {
      "cell_type": "code",
      "execution_count": null,
      "metadata": {
        "id": "hie7zr-O7_pI",
        "outputId": "cd09ff24-80a4-4121-979c-5b251b1672dc"
      },
      "outputs": [
        {
          "data": {
            "text/plain": [
              "True"
            ]
          },
          "execution_count": 36,
          "metadata": {},
          "output_type": "execute_result"
        }
      ],
      "source": [
        "ATTACK_LABELS = np.array(VALIDATION_DF_RAW[ATTACK_FIELD])\n",
        "FINAL_LABELS = np.array(pred_y)\n",
        "\n",
        "ATTACK_LABELS.shape[0] == FINAL_LABELS.shape[0]"
      ]
    },
    {
      "cell_type": "code",
      "execution_count": null,
      "metadata": {
        "scrolled": true,
        "id": "Q8XEqngy7_pI",
        "outputId": "4a3b6526-058d-4fd2-c148-e2c7414ce63e"
      },
      "outputs": [
        {
          "name": "stdout",
          "output_type": "stream",
          "text": [
            "F1: 0.998 (TaP: 0.998, TaR: 0.997)\n",
            "# of detected anomalies: 5\n",
            "Detected anomalies: ['1', '2', '3', '4', '5']\n"
          ]
        }
      ],
      "source": [
        "TaPR = etapr.evaluate(anomalies=ATTACK_LABELS, predictions=FINAL_LABELS)\n",
        "print(f\"F1: {TaPR['f1']:.3f} (TaP: {TaPR['TaP']:.3f}, TaR: {TaPR['TaR']:.3f})\")\n",
        "print(f\"# of detected anomalies: {len(TaPR['Detected_Anomalies'])}\")\n",
        "print(f\"Detected anomalies: {TaPR['Detected_Anomalies']}\")"
      ]
    },
    {
      "cell_type": "markdown",
      "metadata": {
        "id": "cc3-ppr37_pJ"
      },
      "source": [
        "비정상 구간에서 특이했던 변수의 데이터 값을 조절하고, 이동 평균 값을 활용하였을 때 validation set에서 TaPR 점수가 99.8이라는 높은 점수가 나오는 것을 확인할 수 있었습니다."
      ]
    },
    {
      "cell_type": "markdown",
      "metadata": {
        "id": "NXobwDyy7_pJ"
      },
      "source": [
        "# Predict Test data set"
      ]
    },
    {
      "cell_type": "markdown",
      "metadata": {
        "id": "yKIiGu6Z7_pJ"
      },
      "source": [
        "validation data set과 동일한 방법으로 진행하였습니다."
      ]
    },
    {
      "cell_type": "code",
      "execution_count": null,
      "metadata": {
        "id": "SuLjQjso7_pK",
        "outputId": "1bfe326c-8642-46f4-c28c-2772abf22e41"
      },
      "outputs": [
        {
          "data": {
            "text/html": [
              "<div>\n",
              "<style scoped>\n",
              "    .dataframe tbody tr th:only-of-type {\n",
              "        vertical-align: middle;\n",
              "    }\n",
              "\n",
              "    .dataframe tbody tr th {\n",
              "        vertical-align: top;\n",
              "    }\n",
              "\n",
              "    .dataframe thead th {\n",
              "        text-align: right;\n",
              "    }\n",
              "</style>\n",
              "<table border=\"1\" class=\"dataframe\">\n",
              "  <thead>\n",
              "    <tr style=\"text-align: right;\">\n",
              "      <th></th>\n",
              "      <th>time</th>\n",
              "      <th>C01</th>\n",
              "      <th>C02</th>\n",
              "      <th>C03</th>\n",
              "      <th>C04</th>\n",
              "      <th>C05</th>\n",
              "      <th>C06</th>\n",
              "      <th>C07</th>\n",
              "      <th>C08</th>\n",
              "      <th>C09</th>\n",
              "      <th>...</th>\n",
              "      <th>C70</th>\n",
              "      <th>C71</th>\n",
              "      <th>C72</th>\n",
              "      <th>C73</th>\n",
              "      <th>C74</th>\n",
              "      <th>C75</th>\n",
              "      <th>C76</th>\n",
              "      <th>C77</th>\n",
              "      <th>C78</th>\n",
              "      <th>C79</th>\n",
              "    </tr>\n",
              "  </thead>\n",
              "  <tbody>\n",
              "    <tr>\n",
              "      <th>0</th>\n",
              "      <td>2020-07-09 15:00:00</td>\n",
              "      <td>384.30737</td>\n",
              "      <td>12.0</td>\n",
              "      <td>10</td>\n",
              "      <td>70.35980</td>\n",
              "      <td>-1.6171</td>\n",
              "      <td>-1.79901</td>\n",
              "      <td>774.20752</td>\n",
              "      <td>28.02385</td>\n",
              "      <td>136</td>\n",
              "      <td>...</td>\n",
              "      <td>936.58447</td>\n",
              "      <td>0.0</td>\n",
              "      <td>1.35437</td>\n",
              "      <td>13.97231</td>\n",
              "      <td>35.22338</td>\n",
              "      <td>12.02545</td>\n",
              "      <td>293.51129</td>\n",
              "      <td>283.92651</td>\n",
              "      <td>32.0</td>\n",
              "      <td>6.5059</td>\n",
              "    </tr>\n",
              "    <tr>\n",
              "      <th>1</th>\n",
              "      <td>2020-07-09 15:00:01</td>\n",
              "      <td>384.30737</td>\n",
              "      <td>12.0</td>\n",
              "      <td>10</td>\n",
              "      <td>70.35980</td>\n",
              "      <td>-1.7606</td>\n",
              "      <td>-1.79901</td>\n",
              "      <td>772.58758</td>\n",
              "      <td>28.02730</td>\n",
              "      <td>136</td>\n",
              "      <td>...</td>\n",
              "      <td>940.93317</td>\n",
              "      <td>0.0</td>\n",
              "      <td>1.35437</td>\n",
              "      <td>13.93358</td>\n",
              "      <td>35.20813</td>\n",
              "      <td>12.02545</td>\n",
              "      <td>292.67938</td>\n",
              "      <td>283.36591</td>\n",
              "      <td>32.0</td>\n",
              "      <td>6.3079</td>\n",
              "    </tr>\n",
              "    <tr>\n",
              "      <th>2</th>\n",
              "      <td>2020-07-09 15:00:02</td>\n",
              "      <td>384.20517</td>\n",
              "      <td>12.0</td>\n",
              "      <td>10</td>\n",
              "      <td>70.35980</td>\n",
              "      <td>-1.7606</td>\n",
              "      <td>-1.80664</td>\n",
              "      <td>772.58758</td>\n",
              "      <td>28.02730</td>\n",
              "      <td>136</td>\n",
              "      <td>...</td>\n",
              "      <td>936.58447</td>\n",
              "      <td>0.0</td>\n",
              "      <td>1.35513</td>\n",
              "      <td>13.95248</td>\n",
              "      <td>35.20813</td>\n",
              "      <td>12.02545</td>\n",
              "      <td>291.90179</td>\n",
              "      <td>282.93189</td>\n",
              "      <td>32.0</td>\n",
              "      <td>6.3079</td>\n",
              "    </tr>\n",
              "    <tr>\n",
              "      <th>3</th>\n",
              "      <td>2020-07-09 15:00:03</td>\n",
              "      <td>384.25626</td>\n",
              "      <td>12.0</td>\n",
              "      <td>10</td>\n",
              "      <td>70.35980</td>\n",
              "      <td>-1.7814</td>\n",
              "      <td>-1.79901</td>\n",
              "      <td>777.48810</td>\n",
              "      <td>28.02905</td>\n",
              "      <td>136</td>\n",
              "      <td>...</td>\n",
              "      <td>933.54034</td>\n",
              "      <td>0.0</td>\n",
              "      <td>1.35513</td>\n",
              "      <td>13.89971</td>\n",
              "      <td>35.20813</td>\n",
              "      <td>12.02545</td>\n",
              "      <td>291.59430</td>\n",
              "      <td>282.06378</td>\n",
              "      <td>32.0</td>\n",
              "      <td>6.1203</td>\n",
              "    </tr>\n",
              "    <tr>\n",
              "      <th>4</th>\n",
              "      <td>2020-07-09 15:00:04</td>\n",
              "      <td>384.20517</td>\n",
              "      <td>12.0</td>\n",
              "      <td>10</td>\n",
              "      <td>70.35980</td>\n",
              "      <td>-1.7370</td>\n",
              "      <td>-1.79901</td>\n",
              "      <td>778.42212</td>\n",
              "      <td>28.03169</td>\n",
              "      <td>136</td>\n",
              "      <td>...</td>\n",
              "      <td>944.41223</td>\n",
              "      <td>0.0</td>\n",
              "      <td>1.35437</td>\n",
              "      <td>13.94603</td>\n",
              "      <td>35.20813</td>\n",
              "      <td>12.02545</td>\n",
              "      <td>289.87628</td>\n",
              "      <td>283.67334</td>\n",
              "      <td>32.0</td>\n",
              "      <td>5.9543</td>\n",
              "    </tr>\n",
              "    <tr>\n",
              "      <th>...</th>\n",
              "      <td>...</td>\n",
              "      <td>...</td>\n",
              "      <td>...</td>\n",
              "      <td>...</td>\n",
              "      <td>...</td>\n",
              "      <td>...</td>\n",
              "      <td>...</td>\n",
              "      <td>...</td>\n",
              "      <td>...</td>\n",
              "      <td>...</td>\n",
              "      <td>...</td>\n",
              "      <td>...</td>\n",
              "      <td>...</td>\n",
              "      <td>...</td>\n",
              "      <td>...</td>\n",
              "      <td>...</td>\n",
              "      <td>...</td>\n",
              "      <td>...</td>\n",
              "      <td>...</td>\n",
              "      <td>...</td>\n",
              "      <td>...</td>\n",
              "    </tr>\n",
              "    <tr>\n",
              "      <th>92396</th>\n",
              "      <td>2020-07-31 12:29:56</td>\n",
              "      <td>420.08923</td>\n",
              "      <td>12.0</td>\n",
              "      <td>10</td>\n",
              "      <td>48.31848</td>\n",
              "      <td>-0.8706</td>\n",
              "      <td>97.19238</td>\n",
              "      <td>786.54382</td>\n",
              "      <td>28.03253</td>\n",
              "      <td>232</td>\n",
              "      <td>...</td>\n",
              "      <td>824.82147</td>\n",
              "      <td>100.0</td>\n",
              "      <td>1.35666</td>\n",
              "      <td>9.62203</td>\n",
              "      <td>36.47460</td>\n",
              "      <td>11.78894</td>\n",
              "      <td>357.27722</td>\n",
              "      <td>361.14728</td>\n",
              "      <td>32.0</td>\n",
              "      <td>6.2809</td>\n",
              "    </tr>\n",
              "    <tr>\n",
              "      <th>92397</th>\n",
              "      <td>2020-07-31 12:29:57</td>\n",
              "      <td>420.08923</td>\n",
              "      <td>12.0</td>\n",
              "      <td>10</td>\n",
              "      <td>48.31848</td>\n",
              "      <td>-0.7498</td>\n",
              "      <td>97.19238</td>\n",
              "      <td>784.07184</td>\n",
              "      <td>28.03598</td>\n",
              "      <td>224</td>\n",
              "      <td>...</td>\n",
              "      <td>823.51697</td>\n",
              "      <td>100.0</td>\n",
              "      <td>1.35513</td>\n",
              "      <td>9.48747</td>\n",
              "      <td>36.47460</td>\n",
              "      <td>11.78894</td>\n",
              "      <td>357.29529</td>\n",
              "      <td>359.84521</td>\n",
              "      <td>32.0</td>\n",
              "      <td>6.3602</td>\n",
              "    </tr>\n",
              "    <tr>\n",
              "      <th>92398</th>\n",
              "      <td>2020-07-31 12:29:58</td>\n",
              "      <td>420.24258</td>\n",
              "      <td>12.0</td>\n",
              "      <td>10</td>\n",
              "      <td>48.31848</td>\n",
              "      <td>-0.6076</td>\n",
              "      <td>97.19238</td>\n",
              "      <td>786.83881</td>\n",
              "      <td>28.02642</td>\n",
              "      <td>208</td>\n",
              "      <td>...</td>\n",
              "      <td>824.82147</td>\n",
              "      <td>100.0</td>\n",
              "      <td>1.35666</td>\n",
              "      <td>9.57787</td>\n",
              "      <td>36.48986</td>\n",
              "      <td>11.78894</td>\n",
              "      <td>357.27722</td>\n",
              "      <td>360.60474</td>\n",
              "      <td>32.0</td>\n",
              "      <td>6.3742</td>\n",
              "    </tr>\n",
              "    <tr>\n",
              "      <th>92399</th>\n",
              "      <td>2020-07-31 12:29:59</td>\n",
              "      <td>420.24258</td>\n",
              "      <td>12.0</td>\n",
              "      <td>10</td>\n",
              "      <td>48.31848</td>\n",
              "      <td>-0.4618</td>\n",
              "      <td>97.19238</td>\n",
              "      <td>786.66138</td>\n",
              "      <td>28.03341</td>\n",
              "      <td>200</td>\n",
              "      <td>...</td>\n",
              "      <td>833.51904</td>\n",
              "      <td>100.0</td>\n",
              "      <td>1.35513</td>\n",
              "      <td>9.56291</td>\n",
              "      <td>36.48986</td>\n",
              "      <td>11.78894</td>\n",
              "      <td>357.80170</td>\n",
              "      <td>357.42188</td>\n",
              "      <td>32.0</td>\n",
              "      <td>6.2864</td>\n",
              "    </tr>\n",
              "    <tr>\n",
              "      <th>92400</th>\n",
              "      <td>2020-07-31 12:30:00</td>\n",
              "      <td>420.29373</td>\n",
              "      <td>12.0</td>\n",
              "      <td>10</td>\n",
              "      <td>48.31848</td>\n",
              "      <td>-0.3661</td>\n",
              "      <td>97.20001</td>\n",
              "      <td>785.72290</td>\n",
              "      <td>28.03247</td>\n",
              "      <td>192</td>\n",
              "      <td>...</td>\n",
              "      <td>827.43085</td>\n",
              "      <td>100.0</td>\n",
              "      <td>1.35590</td>\n",
              "      <td>9.53689</td>\n",
              "      <td>36.47460</td>\n",
              "      <td>11.78894</td>\n",
              "      <td>357.07825</td>\n",
              "      <td>358.65161</td>\n",
              "      <td>32.0</td>\n",
              "      <td>6.0371</td>\n",
              "    </tr>\n",
              "  </tbody>\n",
              "</table>\n",
              "<p>358804 rows × 80 columns</p>\n",
              "</div>"
            ],
            "text/plain": [
              "                      time        C01   C02  C03       C04     C05       C06  \\\n",
              "0      2020-07-09 15:00:00  384.30737  12.0   10  70.35980 -1.6171  -1.79901   \n",
              "1      2020-07-09 15:00:01  384.30737  12.0   10  70.35980 -1.7606  -1.79901   \n",
              "2      2020-07-09 15:00:02  384.20517  12.0   10  70.35980 -1.7606  -1.80664   \n",
              "3      2020-07-09 15:00:03  384.25626  12.0   10  70.35980 -1.7814  -1.79901   \n",
              "4      2020-07-09 15:00:04  384.20517  12.0   10  70.35980 -1.7370  -1.79901   \n",
              "...                    ...        ...   ...  ...       ...     ...       ...   \n",
              "92396  2020-07-31 12:29:56  420.08923  12.0   10  48.31848 -0.8706  97.19238   \n",
              "92397  2020-07-31 12:29:57  420.08923  12.0   10  48.31848 -0.7498  97.19238   \n",
              "92398  2020-07-31 12:29:58  420.24258  12.0   10  48.31848 -0.6076  97.19238   \n",
              "92399  2020-07-31 12:29:59  420.24258  12.0   10  48.31848 -0.4618  97.19238   \n",
              "92400  2020-07-31 12:30:00  420.29373  12.0   10  48.31848 -0.3661  97.20001   \n",
              "\n",
              "             C07       C08  C09  ...        C70    C71      C72       C73  \\\n",
              "0      774.20752  28.02385  136  ...  936.58447    0.0  1.35437  13.97231   \n",
              "1      772.58758  28.02730  136  ...  940.93317    0.0  1.35437  13.93358   \n",
              "2      772.58758  28.02730  136  ...  936.58447    0.0  1.35513  13.95248   \n",
              "3      777.48810  28.02905  136  ...  933.54034    0.0  1.35513  13.89971   \n",
              "4      778.42212  28.03169  136  ...  944.41223    0.0  1.35437  13.94603   \n",
              "...          ...       ...  ...  ...        ...    ...      ...       ...   \n",
              "92396  786.54382  28.03253  232  ...  824.82147  100.0  1.35666   9.62203   \n",
              "92397  784.07184  28.03598  224  ...  823.51697  100.0  1.35513   9.48747   \n",
              "92398  786.83881  28.02642  208  ...  824.82147  100.0  1.35666   9.57787   \n",
              "92399  786.66138  28.03341  200  ...  833.51904  100.0  1.35513   9.56291   \n",
              "92400  785.72290  28.03247  192  ...  827.43085  100.0  1.35590   9.53689   \n",
              "\n",
              "            C74       C75        C76        C77   C78     C79  \n",
              "0      35.22338  12.02545  293.51129  283.92651  32.0  6.5059  \n",
              "1      35.20813  12.02545  292.67938  283.36591  32.0  6.3079  \n",
              "2      35.20813  12.02545  291.90179  282.93189  32.0  6.3079  \n",
              "3      35.20813  12.02545  291.59430  282.06378  32.0  6.1203  \n",
              "4      35.20813  12.02545  289.87628  283.67334  32.0  5.9543  \n",
              "...         ...       ...        ...        ...   ...     ...  \n",
              "92396  36.47460  11.78894  357.27722  361.14728  32.0  6.2809  \n",
              "92397  36.47460  11.78894  357.29529  359.84521  32.0  6.3602  \n",
              "92398  36.48986  11.78894  357.27722  360.60474  32.0  6.3742  \n",
              "92399  36.48986  11.78894  357.80170  357.42188  32.0  6.2864  \n",
              "92400  36.47460  11.78894  357.07825  358.65161  32.0  6.0371  \n",
              "\n",
              "[358804 rows x 80 columns]"
            ]
          },
          "execution_count": 38,
          "metadata": {},
          "output_type": "execute_result"
        }
      ],
      "source": [
        "TEST_DF_RAW = dataframe_from_csvs(TEST_DATASET)\n",
        "TEST_DF_RAW"
      ]
    },
    {
      "cell_type": "code",
      "execution_count": null,
      "metadata": {
        "scrolled": false,
        "id": "i6Ijapc_7_pK",
        "outputId": "0631110c-7d97-41ac-cd59-1a4475447e6f"
      },
      "outputs": [
        {
          "data": {
            "text/html": [
              "<div>\n",
              "<style scoped>\n",
              "    .dataframe tbody tr th:only-of-type {\n",
              "        vertical-align: middle;\n",
              "    }\n",
              "\n",
              "    .dataframe tbody tr th {\n",
              "        vertical-align: top;\n",
              "    }\n",
              "\n",
              "    .dataframe thead th {\n",
              "        text-align: right;\n",
              "    }\n",
              "</style>\n",
              "<table border=\"1\" class=\"dataframe\">\n",
              "  <thead>\n",
              "    <tr style=\"text-align: right;\">\n",
              "      <th></th>\n",
              "      <th>C01</th>\n",
              "      <th>C02</th>\n",
              "      <th>C03</th>\n",
              "      <th>C04</th>\n",
              "      <th>C05</th>\n",
              "      <th>C06</th>\n",
              "      <th>C07</th>\n",
              "      <th>C08</th>\n",
              "      <th>C09</th>\n",
              "      <th>C10</th>\n",
              "      <th>...</th>\n",
              "      <th>C70</th>\n",
              "      <th>C71</th>\n",
              "      <th>C72</th>\n",
              "      <th>C73</th>\n",
              "      <th>C74</th>\n",
              "      <th>C75</th>\n",
              "      <th>C76</th>\n",
              "      <th>C77</th>\n",
              "      <th>C78</th>\n",
              "      <th>C79</th>\n",
              "    </tr>\n",
              "  </thead>\n",
              "  <tbody>\n",
              "    <tr>\n",
              "      <th>0</th>\n",
              "      <td>0.273715</td>\n",
              "      <td>0.0</td>\n",
              "      <td>0.0</td>\n",
              "      <td>0.828325</td>\n",
              "      <td>0.225882</td>\n",
              "      <td>0.000999</td>\n",
              "      <td>0.318761</td>\n",
              "      <td>0.333825</td>\n",
              "      <td>0.010417</td>\n",
              "      <td>0.139867</td>\n",
              "      <td>...</td>\n",
              "      <td>0.677723</td>\n",
              "      <td>0.0</td>\n",
              "      <td>0.317842</td>\n",
              "      <td>0.452044</td>\n",
              "      <td>0.236483</td>\n",
              "      <td>0.944440</td>\n",
              "      <td>0.225971</td>\n",
              "      <td>0.200389</td>\n",
              "      <td>0.26162</td>\n",
              "      <td>0.714722</td>\n",
              "    </tr>\n",
              "    <tr>\n",
              "      <th>1</th>\n",
              "      <td>0.273715</td>\n",
              "      <td>0.0</td>\n",
              "      <td>0.0</td>\n",
              "      <td>0.828325</td>\n",
              "      <td>0.171634</td>\n",
              "      <td>0.000999</td>\n",
              "      <td>0.300187</td>\n",
              "      <td>0.426398</td>\n",
              "      <td>0.010417</td>\n",
              "      <td>0.137445</td>\n",
              "      <td>...</td>\n",
              "      <td>0.680584</td>\n",
              "      <td>0.0</td>\n",
              "      <td>0.317842</td>\n",
              "      <td>0.450701</td>\n",
              "      <td>0.230344</td>\n",
              "      <td>0.944440</td>\n",
              "      <td>0.223121</td>\n",
              "      <td>0.198499</td>\n",
              "      <td>0.26162</td>\n",
              "      <td>0.650106</td>\n",
              "    </tr>\n",
              "    <tr>\n",
              "      <th>2</th>\n",
              "      <td>0.272825</td>\n",
              "      <td>0.0</td>\n",
              "      <td>0.0</td>\n",
              "      <td>0.828325</td>\n",
              "      <td>0.166747</td>\n",
              "      <td>0.000930</td>\n",
              "      <td>0.298514</td>\n",
              "      <td>0.434738</td>\n",
              "      <td>0.010417</td>\n",
              "      <td>0.137227</td>\n",
              "      <td>...</td>\n",
              "      <td>0.678007</td>\n",
              "      <td>0.0</td>\n",
              "      <td>0.318290</td>\n",
              "      <td>0.451229</td>\n",
              "      <td>0.229791</td>\n",
              "      <td>0.944440</td>\n",
              "      <td>0.220223</td>\n",
              "      <td>0.196880</td>\n",
              "      <td>0.26162</td>\n",
              "      <td>0.644285</td>\n",
              "    </tr>\n",
              "    <tr>\n",
              "      <th>3</th>\n",
              "      <td>0.273182</td>\n",
              "      <td>0.0</td>\n",
              "      <td>0.0</td>\n",
              "      <td>0.828325</td>\n",
              "      <td>0.158478</td>\n",
              "      <td>0.000992</td>\n",
              "      <td>0.353980</td>\n",
              "      <td>0.482056</td>\n",
              "      <td>0.010417</td>\n",
              "      <td>0.190063</td>\n",
              "      <td>...</td>\n",
              "      <td>0.675769</td>\n",
              "      <td>0.0</td>\n",
              "      <td>0.318335</td>\n",
              "      <td>0.449470</td>\n",
              "      <td>0.229736</td>\n",
              "      <td>0.944440</td>\n",
              "      <td>0.218893</td>\n",
              "      <td>0.193823</td>\n",
              "      <td>0.26162</td>\n",
              "      <td>0.583093</td>\n",
              "    </tr>\n",
              "    <tr>\n",
              "      <th>4</th>\n",
              "      <td>0.272773</td>\n",
              "      <td>0.0</td>\n",
              "      <td>0.0</td>\n",
              "      <td>0.828325</td>\n",
              "      <td>0.174269</td>\n",
              "      <td>0.000998</td>\n",
              "      <td>0.370123</td>\n",
              "      <td>0.556914</td>\n",
              "      <td>0.010417</td>\n",
              "      <td>0.266280</td>\n",
              "      <td>...</td>\n",
              "      <td>0.682626</td>\n",
              "      <td>0.0</td>\n",
              "      <td>0.317891</td>\n",
              "      <td>0.450884</td>\n",
              "      <td>0.229731</td>\n",
              "      <td>0.944440</td>\n",
              "      <td>0.212932</td>\n",
              "      <td>0.198888</td>\n",
              "      <td>0.26162</td>\n",
              "      <td>0.523348</td>\n",
              "    </tr>\n",
              "    <tr>\n",
              "      <th>...</th>\n",
              "      <td>...</td>\n",
              "      <td>...</td>\n",
              "      <td>...</td>\n",
              "      <td>...</td>\n",
              "      <td>...</td>\n",
              "      <td>...</td>\n",
              "      <td>...</td>\n",
              "      <td>...</td>\n",
              "      <td>...</td>\n",
              "      <td>...</td>\n",
              "      <td>...</td>\n",
              "      <td>...</td>\n",
              "      <td>...</td>\n",
              "      <td>...</td>\n",
              "      <td>...</td>\n",
              "      <td>...</td>\n",
              "      <td>...</td>\n",
              "      <td>...</td>\n",
              "      <td>...</td>\n",
              "      <td>...</td>\n",
              "      <td>...</td>\n",
              "    </tr>\n",
              "    <tr>\n",
              "      <th>92396</th>\n",
              "      <td>0.619520</td>\n",
              "      <td>0.0</td>\n",
              "      <td>0.0</td>\n",
              "      <td>0.073426</td>\n",
              "      <td>0.532147</td>\n",
              "      <td>0.998079</td>\n",
              "      <td>0.476720</td>\n",
              "      <td>0.581066</td>\n",
              "      <td>0.017489</td>\n",
              "      <td>0.358745</td>\n",
              "      <td>...</td>\n",
              "      <td>0.596406</td>\n",
              "      <td>1.0</td>\n",
              "      <td>0.319337</td>\n",
              "      <td>0.285888</td>\n",
              "      <td>0.790598</td>\n",
              "      <td>0.083339</td>\n",
              "      <td>0.466152</td>\n",
              "      <td>0.485809</td>\n",
              "      <td>0.26162</td>\n",
              "      <td>0.622130</td>\n",
              "    </tr>\n",
              "    <tr>\n",
              "      <th>92397</th>\n",
              "      <td>0.619561</td>\n",
              "      <td>0.0</td>\n",
              "      <td>0.0</td>\n",
              "      <td>0.073426</td>\n",
              "      <td>0.581096</td>\n",
              "      <td>0.998079</td>\n",
              "      <td>0.446527</td>\n",
              "      <td>0.680775</td>\n",
              "      <td>0.016853</td>\n",
              "      <td>0.386044</td>\n",
              "      <td>...</td>\n",
              "      <td>0.595956</td>\n",
              "      <td>1.0</td>\n",
              "      <td>0.318439</td>\n",
              "      <td>0.281450</td>\n",
              "      <td>0.790543</td>\n",
              "      <td>0.083339</td>\n",
              "      <td>0.466370</td>\n",
              "      <td>0.482229</td>\n",
              "      <td>0.26162</td>\n",
              "      <td>0.658390</td>\n",
              "    </tr>\n",
              "    <tr>\n",
              "      <th>92398</th>\n",
              "      <td>0.620899</td>\n",
              "      <td>0.0</td>\n",
              "      <td>0.0</td>\n",
              "      <td>0.073426</td>\n",
              "      <td>0.639210</td>\n",
              "      <td>0.998079</td>\n",
              "      <td>0.474916</td>\n",
              "      <td>0.436791</td>\n",
              "      <td>0.015748</td>\n",
              "      <td>0.453718</td>\n",
              "      <td>...</td>\n",
              "      <td>0.596761</td>\n",
              "      <td>1.0</td>\n",
              "      <td>0.319252</td>\n",
              "      <td>0.284110</td>\n",
              "      <td>0.796619</td>\n",
              "      <td>0.083339</td>\n",
              "      <td>0.466330</td>\n",
              "      <td>0.484406</td>\n",
              "      <td>0.26162</td>\n",
              "      <td>0.666539</td>\n",
              "    </tr>\n",
              "    <tr>\n",
              "      <th>92399</th>\n",
              "      <td>0.621033</td>\n",
              "      <td>0.0</td>\n",
              "      <td>0.0</td>\n",
              "      <td>0.073426</td>\n",
              "      <td>0.699587</td>\n",
              "      <td>0.998079</td>\n",
              "      <td>0.475741</td>\n",
              "      <td>0.598077</td>\n",
              "      <td>0.015116</td>\n",
              "      <td>0.563381</td>\n",
              "      <td>...</td>\n",
              "      <td>0.602505</td>\n",
              "      <td>1.0</td>\n",
              "      <td>0.318431</td>\n",
              "      <td>0.283862</td>\n",
              "      <td>0.797227</td>\n",
              "      <td>0.083339</td>\n",
              "      <td>0.468106</td>\n",
              "      <td>0.474004</td>\n",
              "      <td>0.26162</td>\n",
              "      <td>0.638988</td>\n",
              "    </tr>\n",
              "    <tr>\n",
              "      <th>92400</th>\n",
              "      <td>0.621491</td>\n",
              "      <td>0.0</td>\n",
              "      <td>0.0</td>\n",
              "      <td>0.073426</td>\n",
              "      <td>0.741441</td>\n",
              "      <td>0.998148</td>\n",
              "      <td>0.465171</td>\n",
              "      <td>0.589235</td>\n",
              "      <td>0.014532</td>\n",
              "      <td>0.705708</td>\n",
              "      <td>...</td>\n",
              "      <td>0.599115</td>\n",
              "      <td>1.0</td>\n",
              "      <td>0.318803</td>\n",
              "      <td>0.282944</td>\n",
              "      <td>0.791206</td>\n",
              "      <td>0.083339</td>\n",
              "      <td>0.465829</td>\n",
              "      <td>0.477066</td>\n",
              "      <td>0.26162</td>\n",
              "      <td>0.555689</td>\n",
              "    </tr>\n",
              "  </tbody>\n",
              "</table>\n",
              "<p>358804 rows × 79 columns</p>\n",
              "</div>"
            ],
            "text/plain": [
              "            C01  C02  C03       C04       C05       C06       C07       C08  \\\n",
              "0      0.273715  0.0  0.0  0.828325  0.225882  0.000999  0.318761  0.333825   \n",
              "1      0.273715  0.0  0.0  0.828325  0.171634  0.000999  0.300187  0.426398   \n",
              "2      0.272825  0.0  0.0  0.828325  0.166747  0.000930  0.298514  0.434738   \n",
              "3      0.273182  0.0  0.0  0.828325  0.158478  0.000992  0.353980  0.482056   \n",
              "4      0.272773  0.0  0.0  0.828325  0.174269  0.000998  0.370123  0.556914   \n",
              "...         ...  ...  ...       ...       ...       ...       ...       ...   \n",
              "92396  0.619520  0.0  0.0  0.073426  0.532147  0.998079  0.476720  0.581066   \n",
              "92397  0.619561  0.0  0.0  0.073426  0.581096  0.998079  0.446527  0.680775   \n",
              "92398  0.620899  0.0  0.0  0.073426  0.639210  0.998079  0.474916  0.436791   \n",
              "92399  0.621033  0.0  0.0  0.073426  0.699587  0.998079  0.475741  0.598077   \n",
              "92400  0.621491  0.0  0.0  0.073426  0.741441  0.998148  0.465171  0.589235   \n",
              "\n",
              "            C09       C10  ...       C70  C71       C72       C73       C74  \\\n",
              "0      0.010417  0.139867  ...  0.677723  0.0  0.317842  0.452044  0.236483   \n",
              "1      0.010417  0.137445  ...  0.680584  0.0  0.317842  0.450701  0.230344   \n",
              "2      0.010417  0.137227  ...  0.678007  0.0  0.318290  0.451229  0.229791   \n",
              "3      0.010417  0.190063  ...  0.675769  0.0  0.318335  0.449470  0.229736   \n",
              "4      0.010417  0.266280  ...  0.682626  0.0  0.317891  0.450884  0.229731   \n",
              "...         ...       ...  ...       ...  ...       ...       ...       ...   \n",
              "92396  0.017489  0.358745  ...  0.596406  1.0  0.319337  0.285888  0.790598   \n",
              "92397  0.016853  0.386044  ...  0.595956  1.0  0.318439  0.281450  0.790543   \n",
              "92398  0.015748  0.453718  ...  0.596761  1.0  0.319252  0.284110  0.796619   \n",
              "92399  0.015116  0.563381  ...  0.602505  1.0  0.318431  0.283862  0.797227   \n",
              "92400  0.014532  0.705708  ...  0.599115  1.0  0.318803  0.282944  0.791206   \n",
              "\n",
              "            C75       C76       C77      C78       C79  \n",
              "0      0.944440  0.225971  0.200389  0.26162  0.714722  \n",
              "1      0.944440  0.223121  0.198499  0.26162  0.650106  \n",
              "2      0.944440  0.220223  0.196880  0.26162  0.644285  \n",
              "3      0.944440  0.218893  0.193823  0.26162  0.583093  \n",
              "4      0.944440  0.212932  0.198888  0.26162  0.523348  \n",
              "...         ...       ...       ...      ...       ...  \n",
              "92396  0.083339  0.466152  0.485809  0.26162  0.622130  \n",
              "92397  0.083339  0.466370  0.482229  0.26162  0.658390  \n",
              "92398  0.083339  0.466330  0.484406  0.26162  0.666539  \n",
              "92399  0.083339  0.468106  0.474004  0.26162  0.638988  \n",
              "92400  0.083339  0.465829  0.477066  0.26162  0.555689  \n",
              "\n",
              "[358804 rows x 79 columns]"
            ]
          },
          "execution_count": 39,
          "metadata": {},
          "output_type": "execute_result"
        }
      ],
      "source": [
        "TEST_DF = normalize(TEST_DF_RAW[VALID_COLUMNS_IN_TRAIN_DATASET]).ewm(alpha=0.9).mean()\n",
        "TEST_DF"
      ]
    },
    {
      "cell_type": "markdown",
      "metadata": {
        "id": "PsuVGylM7_pK"
      },
      "source": [
        "test dataset에서는 validation dataset에서 처럼 특이한 경우가 보이지 않아서 데이터 값을 정규화만 하고, 그대로 진행하였습니다."
      ]
    },
    {
      "cell_type": "code",
      "execution_count": null,
      "metadata": {
        "scrolled": true,
        "id": "DQhE5-W07_pL",
        "outputId": "fcab3236-6f1c-4b08-ca62-44a78610af99"
      },
      "outputs": [
        {
          "data": {
            "text/plain": [
              "<AxesSubplot:>"
            ]
          },
          "execution_count": 40,
          "metadata": {},
          "output_type": "execute_result"
        },
        {
          "data": {
            "image/png": "[encoded data removed]",
            "text/plain": [
              "<Figure size 432x288 with 1 Axes>"
            ]
          },
          "metadata": {
            "needs_background": "light"
          },
          "output_type": "display_data"
        }
      ],
      "source": [
        "TEST_DF.plot()"
      ]
    },
    {
      "cell_type": "code",
      "execution_count": null,
      "metadata": {
        "id": "xs3N-bBv7_pL",
        "outputId": "4f58dc7e-182c-4bbd-ceda-c252a3bf338d"
      },
      "outputs": [
        {
          "name": "stdout",
          "output_type": "stream",
          "text": [
            "[[0.27371535 0.         0.         ... 0.20038876 0.26161984 0.7147216 ]\n",
            " [0.27371535 0.         0.         ... 0.19849946 0.26161984 0.6501059 ]\n",
            " [0.27282545 0.         0.         ... 0.19687971 0.26161984 0.64428467]\n",
            " ...\n",
            " [0.6208987  0.         0.         ... 0.48440555 0.26161984 0.666539  ]\n",
            " [0.62103254 0.         0.         ... 0.4740037  0.26161984 0.6389876 ]\n",
            " [0.62149084 0.         0.         ... 0.47706646 0.26161984 0.555689  ]]\n"
          ]
        },
        {
          "data": {
            "text/plain": [
              "(True, True, False)"
            ]
          },
          "execution_count": 41,
          "metadata": {},
          "output_type": "execute_result"
        }
      ],
      "source": [
        "boundary_check(TEST_DF)"
      ]
    },
    {
      "cell_type": "code",
      "execution_count": null,
      "metadata": {
        "id": "l0urBWpl7_pM",
        "outputId": "1313f6a8-b86b-42e4-b7d8-c123b1b5e3d0"
      },
      "outputs": [
        {
          "data": {
            "text/plain": [
              "(358804, 1, 79)"
            ]
          },
          "execution_count": 42,
          "metadata": {},
          "output_type": "execute_result"
        }
      ],
      "source": [
        "test = np.array(TEST_DF)\n",
        "x_test = test.reshape(test.shape[0], 1, test.shape[1])\n",
        "x_test.shape"
      ]
    },
    {
      "cell_type": "code",
      "execution_count": null,
      "metadata": {
        "id": "d14bj9Wq7_pM",
        "outputId": "304bb27e-c64d-45b9-cec4-28953f35a228"
      },
      "outputs": [
        {
          "name": "stdout",
          "output_type": "stream",
          "text": [
            "(358804, 1, 79)\n",
            "(358804,)\n",
            "57.45735478401184\n"
          ]
        }
      ],
      "source": [
        "start = time.time()\n",
        "test_x_predictions = model.predict(x_test)\n",
        "#print(test_x_predictions)\n",
        "print(test_x_predictions.shape)\n",
        "#print((flatten(x_test) - flatten(test_x_predictions)).shape)\n",
        "test_mse = np.mean(np.power(flatten(x_test) - flatten(test_x_predictions), 2), axis=1)\n",
        "print(test_mse.shape)\n",
        "print(time.time()-start)"
      ]
    },
    {
      "cell_type": "code",
      "execution_count": null,
      "metadata": {
        "id": "fUtdlMMJ7_pM"
      },
      "outputs": [],
      "source": [
        "test_error = pd.DataFrame({'Reconstruction_error': test_mse})"
      ]
    },
    {
      "cell_type": "markdown",
      "metadata": {
        "id": "NrEsuo-y7_pN"
      },
      "source": [
        "테스트 데이터 셋에서는 label 값을 알 수 없었기 때문에, \n",
        "이동평균의 구간과 threshold 값을 조금씩 변경하면서 제출 후 결과를 보고 조절하였습니다."
      ]
    },
    {
      "cell_type": "code",
      "execution_count": null,
      "metadata": {
        "id": "bXotIxtm7_pN",
        "outputId": "06a1b9a8-7a8a-4202-f44a-31b9b5b23186"
      },
      "outputs": [
        {
          "data": {
            "text/plain": [
              "0         0.000000\n",
              "1         0.000000\n",
              "2         0.000000\n",
              "3         0.000000\n",
              "4         0.000000\n",
              "            ...   \n",
              "358799    0.000335\n",
              "358800    0.000333\n",
              "358801    0.000332\n",
              "358802    0.000330\n",
              "358803    0.000328\n",
              "Name: Reconstruction_error, Length: 358804, dtype: float64"
            ]
          },
          "execution_count": 45,
          "metadata": {},
          "output_type": "execute_result"
        }
      ],
      "source": [
        "test_move = test_error['Reconstruction_error'].rolling(71).mean()\n",
        "\n",
        "test_d = test_move.fillna(0)\n",
        "test_d"
      ]
    },
    {
      "cell_type": "code",
      "execution_count": null,
      "metadata": {
        "id": "DxWXlOPz7_pN"
      },
      "outputs": [],
      "source": [
        "movemean_test = pd.DataFrame({'Reconstruction_error': test_d})"
      ]
    },
    {
      "cell_type": "code",
      "execution_count": null,
      "metadata": {
        "id": "cNlOInkR7_pO",
        "outputId": "1833aa61-ab6f-4a1c-f889-8e90ed2d698d"
      },
      "outputs": [
        {
          "data": {
            "text/plain": [
              "(358804,)"
            ]
          },
          "execution_count": 47,
          "metadata": {},
          "output_type": "execute_result"
        }
      ],
      "source": [
        "pred_y_test = [1 if e > 0.000425 else 0 for e in movemean_test['Reconstruction_error'].values]\n",
        "pred_y_test = np.array(pred_y_test)\n",
        "pred_y_test.shape"
      ]
    },
    {
      "cell_type": "code",
      "execution_count": null,
      "metadata": {
        "id": "ByvHHUsm7_pO"
      },
      "outputs": [],
      "source": [
        "submission = pd.read_csv('D:\\\\python_project\\\\hyunmin_project\\\\ot보안\\\\data\\\\HAI 2.0\\\\sample_submission.csv')\n",
        "submission.index = submission['time']\n",
        "submission['attack'] = pred_y_test"
      ]
    },
    {
      "cell_type": "code",
      "execution_count": null,
      "metadata": {
        "scrolled": true,
        "id": "dwtdBTVB7_pO",
        "outputId": "8b8ae166-e3e0-41a7-9021-18b9070176aa"
      },
      "outputs": [
        {
          "data": {
            "text/plain": [
              "0    349649\n",
              "1      9155\n",
              "Name: attack, dtype: int64"
            ]
          },
          "execution_count": 49,
          "metadata": {},
          "output_type": "execute_result"
        }
      ],
      "source": [
        "submission['attack'].value_counts()"
      ]
    },
    {
      "cell_type": "code",
      "execution_count": null,
      "metadata": {
        "scrolled": true,
        "id": "Dd8bcnJP7_pP",
        "outputId": "fcccbfe2-7141-4778-95b2-b8ce63a44494"
      },
      "outputs": [
        {
          "data": {
            "text/plain": [
              "Text(0.5, 0, 'Data point index')"
            ]
          },
          "execution_count": 50,
          "metadata": {},
          "output_type": "execute_result"
        },
        {
          "data": {
            "image/png": "[encoded data removed]",
            "text/plain": [
              "<Figure size 1440x1440 with 1 Axes>"
            ]
          },
          "metadata": {
            "needs_background": "light"
          },
          "output_type": "display_data"
        }
      ],
      "source": [
        "test_error_df = pd.DataFrame({'Reconstruction_error': test_d,\n",
        "                         'True_class': list(submission['attack'])})\n",
        "groups = test_error_df.groupby('True_class')\n",
        "fig, ax = plt.subplots(figsize=(20,20))\n",
        "\n",
        "for name, group in groups:\n",
        "    ax.plot(group.index, group.Reconstruction_error, marker='o', ms=3.5, linestyle='',\n",
        "            label= \"Break\" if name == 1 else \"Normal\")\n",
        "    \n",
        "ax.hlines(0.000425, ax.get_xlim()[0], ax.get_xlim()[1], colors=\"r\", zorder=100, label='Threshold')\n",
        "ax.legend()\n",
        "\n",
        "plt.title(\"Reconstruction error for different classes\")\n",
        "plt.ylabel(\"Reconstruction error\")\n",
        "plt.xlabel(\"Data point index\")"
      ]
    },
    {
      "cell_type": "markdown",
      "metadata": {
        "id": "3mATnS167_pP"
      },
      "source": [
        "최종 예측한 label의 결과를 확인해보았습니다."
      ]
    },
    {
      "cell_type": "markdown",
      "metadata": {
        "id": "3A4ebO2a7_pP"
      },
      "source": [
        "마지막으로 결과를 제출약식에 맞춰 저장합니다."
      ]
    },
    {
      "cell_type": "code",
      "execution_count": null,
      "metadata": {
        "id": "b8eabi897_pQ"
      },
      "outputs": [],
      "source": [
        "#submission.to_csv('predict.csv', index=False)"
      ]
    }
  ],
  "metadata": {
    "kernelspec": {
      "display_name": "Python 3",
      "language": "python",
      "name": "python3"
    },
    "language_info": {
      "codemirror_mode": {
        "name": "ipython",
        "version": 3
      },
      "file_extension": ".py",
      "mimetype": "text/x-python",
      "name": "python",
      "nbconvert_exporter": "python",
      "pygments_lexer": "ipython3",
      "version": "3.6.10"
    },
    "colab": {
      "name": "week18_김희숙_예습과제.ipynb",
      "provenance": []
    }
  },
  "nbformat": 4,
  "nbformat_minor": 0
}