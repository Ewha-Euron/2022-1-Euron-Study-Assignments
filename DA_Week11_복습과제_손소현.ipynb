{
 "cells": [
  {
   "cell_type": "markdown",
   "metadata": {
    "id": "wOOD0DfHodt9"
   },
   "source": [
    "# 1. CustomerData로 K-means clustering 실습\n",
    "### 제품 포트폴리오와 지역의 관계를 알아보자\n",
    "\n",
    "(* 제품 포트폴리오: 회사가 생산하는 품목군을 나타내는 둘 이상의 제품 그룹)"
   ]
  },
  {
   "cell_type": "markdown",
   "metadata": {
    "id": "_qUW9CAfodt-"
   },
   "source": [
    "CustomerData.xls\n",
    "- Customer ID: 고객 ID로 각 고객을 구분해주는 유니크한 값\n",
    "- ItemsBought: 팔린 개수 \n",
    "- ItemsReturned: 환불 발생 개수\n",
    "- ZipCode: 지역 코드\n",
    "- Product: 물품 고유 번호"
   ]
  },
  {
   "cell_type": "code",
   "execution_count": 1,
   "metadata": {
    "id": "CreC6VjRodt-"
   },
   "outputs": [],
   "source": [
    "#공통 모듈\n",
    "import pandas as pd\n",
    "import numpy as np\n",
    "import matplotlib as mpl\n",
    "import matplotlib.pyplot as plt\n",
    "import matplotlib.cm as cm \n",
    "import seaborn as sns\n",
    "\n",
    "%matplotlib inline"
   ]
  },
  {
   "cell_type": "markdown",
   "metadata": {
    "id": "SzZObfzxodt-"
   },
   "source": [
    "#### 1-1. 'CustomerData.csv'를 읽어와 cd에 저장하시오."
   ]
  },
  {
   "cell_type": "code",
   "execution_count": 2,
   "metadata": {
    "id": "KryZOIRuodt_"
   },
   "outputs": [],
   "source": [
    "cd = pd.read_csv('CustomerData.csv')"
   ]
  },
  {
   "cell_type": "markdown",
   "metadata": {
    "id": "q1BB3Uq3oduA"
   },
   "source": [
    "#### 1-2. HR 데이터의 상위 5개의 행과 하위 5개의 행을 통해 데이터가 제대로 불러와 졌는지 확인하시오."
   ]
  },
  {
   "cell_type": "code",
   "execution_count": 3,
   "metadata": {
    "id": "ygL0G9NgoduA"
   },
   "outputs": [
    {
     "data": {
      "text/html": [
       "<div>\n",
       "<style scoped>\n",
       "    .dataframe tbody tr th:only-of-type {\n",
       "        vertical-align: middle;\n",
       "    }\n",
       "\n",
       "    .dataframe tbody tr th {\n",
       "        vertical-align: top;\n",
       "    }\n",
       "\n",
       "    .dataframe thead th {\n",
       "        text-align: right;\n",
       "    }\n",
       "</style>\n",
       "<table border=\"1\" class=\"dataframe\">\n",
       "  <thead>\n",
       "    <tr style=\"text-align: right;\">\n",
       "      <th></th>\n",
       "      <th>Customer ID</th>\n",
       "      <th>ItemsBought</th>\n",
       "      <th>ItemsReturned</th>\n",
       "      <th>ZipCode</th>\n",
       "      <th>Product</th>\n",
       "    </tr>\n",
       "  </thead>\n",
       "  <tbody>\n",
       "    <tr>\n",
       "      <th>0</th>\n",
       "      <td>4</td>\n",
       "      <td>45</td>\n",
       "      <td>10</td>\n",
       "      <td>2</td>\n",
       "      <td>1365</td>\n",
       "    </tr>\n",
       "    <tr>\n",
       "      <th>1</th>\n",
       "      <td>5</td>\n",
       "      <td>42</td>\n",
       "      <td>18</td>\n",
       "      <td>5</td>\n",
       "      <td>2764</td>\n",
       "    </tr>\n",
       "    <tr>\n",
       "      <th>2</th>\n",
       "      <td>6</td>\n",
       "      <td>50</td>\n",
       "      <td>0</td>\n",
       "      <td>1</td>\n",
       "      <td>1343</td>\n",
       "    </tr>\n",
       "    <tr>\n",
       "      <th>3</th>\n",
       "      <td>8</td>\n",
       "      <td>13</td>\n",
       "      <td>12</td>\n",
       "      <td>4</td>\n",
       "      <td>2435</td>\n",
       "    </tr>\n",
       "    <tr>\n",
       "      <th>4</th>\n",
       "      <td>9</td>\n",
       "      <td>10</td>\n",
       "      <td>7</td>\n",
       "      <td>3</td>\n",
       "      <td>2435</td>\n",
       "    </tr>\n",
       "  </tbody>\n",
       "</table>\n",
       "</div>"
      ],
      "text/plain": [
       "   Customer ID  ItemsBought  ItemsReturned  ZipCode  Product\n",
       "0            4           45             10        2     1365\n",
       "1            5           42             18        5     2764\n",
       "2            6           50              0        1     1343\n",
       "3            8           13             12        4     2435\n",
       "4            9           10              7        3     2435"
      ]
     },
     "execution_count": 3,
     "metadata": {},
     "output_type": "execute_result"
    }
   ],
   "source": [
    "cd.head()"
   ]
  },
  {
   "cell_type": "code",
   "execution_count": 4,
   "metadata": {
    "id": "x0woXT9woduA"
   },
   "outputs": [
    {
     "data": {
      "text/html": [
       "<div>\n",
       "<style scoped>\n",
       "    .dataframe tbody tr th:only-of-type {\n",
       "        vertical-align: middle;\n",
       "    }\n",
       "\n",
       "    .dataframe tbody tr th {\n",
       "        vertical-align: top;\n",
       "    }\n",
       "\n",
       "    .dataframe thead th {\n",
       "        text-align: right;\n",
       "    }\n",
       "</style>\n",
       "<table border=\"1\" class=\"dataframe\">\n",
       "  <thead>\n",
       "    <tr style=\"text-align: right;\">\n",
       "      <th></th>\n",
       "      <th>Customer ID</th>\n",
       "      <th>ItemsBought</th>\n",
       "      <th>ItemsReturned</th>\n",
       "      <th>ZipCode</th>\n",
       "      <th>Product</th>\n",
       "    </tr>\n",
       "  </thead>\n",
       "  <tbody>\n",
       "    <tr>\n",
       "      <th>8</th>\n",
       "      <td>14</td>\n",
       "      <td>9</td>\n",
       "      <td>9</td>\n",
       "      <td>8</td>\n",
       "      <td>2435</td>\n",
       "    </tr>\n",
       "    <tr>\n",
       "      <th>9</th>\n",
       "      <td>15</td>\n",
       "      <td>36</td>\n",
       "      <td>7</td>\n",
       "      <td>2</td>\n",
       "      <td>1764</td>\n",
       "    </tr>\n",
       "    <tr>\n",
       "      <th>10</th>\n",
       "      <td>16</td>\n",
       "      <td>42</td>\n",
       "      <td>1</td>\n",
       "      <td>1</td>\n",
       "      <td>1547</td>\n",
       "    </tr>\n",
       "    <tr>\n",
       "      <th>11</th>\n",
       "      <td>17</td>\n",
       "      <td>46</td>\n",
       "      <td>1</td>\n",
       "      <td>1</td>\n",
       "      <td>1265</td>\n",
       "    </tr>\n",
       "    <tr>\n",
       "      <th>12</th>\n",
       "      <td>21</td>\n",
       "      <td>41</td>\n",
       "      <td>22</td>\n",
       "      <td>9</td>\n",
       "      <td>2465</td>\n",
       "    </tr>\n",
       "  </tbody>\n",
       "</table>\n",
       "</div>"
      ],
      "text/plain": [
       "    Customer ID  ItemsBought  ItemsReturned  ZipCode  Product\n",
       "8            14            9              9        8     2435\n",
       "9            15           36              7        2     1764\n",
       "10           16           42              1        1     1547\n",
       "11           17           46              1        1     1265\n",
       "12           21           41             22        9     2465"
      ]
     },
     "execution_count": 4,
     "metadata": {},
     "output_type": "execute_result"
    }
   ],
   "source": [
    "cd.tail()"
   ]
  },
  {
   "cell_type": "markdown",
   "metadata": {
    "id": "IAtpv7gqoduB"
   },
   "source": [
    "#### 1-3. ItemsBought과 ItemsReturned의 특정 단위를 같게하는 데이터 정규화작업을 진행하시오.\n",
    "- 데이터분석 시 원본 데이터는 변형하지 않는 것이 좋다. 따라서, 전처리는 원본 데이터를 복사하여 생성한 데이터로 진행하라.(이름은 자유롭게 지정)   \n",
    "- MinMaxScaler()를 이용해 정규화를 진행한다.\n",
    "- 정규화 과정에 쓰이는 MinMaxScaler()는 사이킷런의 preprocessing 패키지에 있다."
   ]
  },
  {
   "cell_type": "code",
   "execution_count": 5,
   "metadata": {
    "id": "dFayuxIhoduB"
   },
   "outputs": [],
   "source": [
    "# 정규화 작업을 위한 패키지 불러오기\n",
    "from sklearn import preprocessing"
   ]
  },
  {
   "cell_type": "code",
   "execution_count": 7,
   "metadata": {
    "id": "gy6QxWsBoduB"
   },
   "outputs": [],
   "source": [
    "# 원본 데이터 복사 후 전처리 진행\n",
    "cd_copy = cd.copy()"
   ]
  },
  {
   "cell_type": "code",
   "execution_count": 8,
   "metadata": {
    "id": "Yh7fAvDhoduB"
   },
   "outputs": [
    {
     "data": {
      "text/html": [
       "<div>\n",
       "<style scoped>\n",
       "    .dataframe tbody tr th:only-of-type {\n",
       "        vertical-align: middle;\n",
       "    }\n",
       "\n",
       "    .dataframe tbody tr th {\n",
       "        vertical-align: top;\n",
       "    }\n",
       "\n",
       "    .dataframe thead th {\n",
       "        text-align: right;\n",
       "    }\n",
       "</style>\n",
       "<table border=\"1\" class=\"dataframe\">\n",
       "  <thead>\n",
       "    <tr style=\"text-align: right;\">\n",
       "      <th></th>\n",
       "      <th>0</th>\n",
       "      <th>1</th>\n",
       "      <th>2</th>\n",
       "      <th>3</th>\n",
       "      <th>4</th>\n",
       "    </tr>\n",
       "  </thead>\n",
       "  <tbody>\n",
       "    <tr>\n",
       "      <th>0</th>\n",
       "      <td>0.000000</td>\n",
       "      <td>0.878049</td>\n",
       "      <td>0.454545</td>\n",
       "      <td>0.125</td>\n",
       "      <td>0.077711</td>\n",
       "    </tr>\n",
       "    <tr>\n",
       "      <th>1</th>\n",
       "      <td>0.058824</td>\n",
       "      <td>0.804878</td>\n",
       "      <td>0.818182</td>\n",
       "      <td>0.500</td>\n",
       "      <td>0.920482</td>\n",
       "    </tr>\n",
       "    <tr>\n",
       "      <th>2</th>\n",
       "      <td>0.117647</td>\n",
       "      <td>1.000000</td>\n",
       "      <td>0.000000</td>\n",
       "      <td>0.000</td>\n",
       "      <td>0.064458</td>\n",
       "    </tr>\n",
       "    <tr>\n",
       "      <th>3</th>\n",
       "      <td>0.235294</td>\n",
       "      <td>0.097561</td>\n",
       "      <td>0.545455</td>\n",
       "      <td>0.375</td>\n",
       "      <td>0.722289</td>\n",
       "    </tr>\n",
       "    <tr>\n",
       "      <th>4</th>\n",
       "      <td>0.294118</td>\n",
       "      <td>0.024390</td>\n",
       "      <td>0.318182</td>\n",
       "      <td>0.250</td>\n",
       "      <td>0.722289</td>\n",
       "    </tr>\n",
       "    <tr>\n",
       "      <th>5</th>\n",
       "      <td>0.352941</td>\n",
       "      <td>0.609756</td>\n",
       "      <td>0.772727</td>\n",
       "      <td>0.625</td>\n",
       "      <td>1.000000</td>\n",
       "    </tr>\n",
       "    <tr>\n",
       "      <th>6</th>\n",
       "      <td>0.411765</td>\n",
       "      <td>0.756098</td>\n",
       "      <td>0.909091</td>\n",
       "      <td>0.875</td>\n",
       "      <td>0.983735</td>\n",
       "    </tr>\n",
       "    <tr>\n",
       "      <th>7</th>\n",
       "      <td>0.470588</td>\n",
       "      <td>0.756098</td>\n",
       "      <td>0.363636</td>\n",
       "      <td>0.125</td>\n",
       "      <td>0.000000</td>\n",
       "    </tr>\n",
       "    <tr>\n",
       "      <th>8</th>\n",
       "      <td>0.588235</td>\n",
       "      <td>0.000000</td>\n",
       "      <td>0.409091</td>\n",
       "      <td>0.875</td>\n",
       "      <td>0.722289</td>\n",
       "    </tr>\n",
       "    <tr>\n",
       "      <th>9</th>\n",
       "      <td>0.647059</td>\n",
       "      <td>0.658537</td>\n",
       "      <td>0.318182</td>\n",
       "      <td>0.125</td>\n",
       "      <td>0.318072</td>\n",
       "    </tr>\n",
       "    <tr>\n",
       "      <th>10</th>\n",
       "      <td>0.705882</td>\n",
       "      <td>0.804878</td>\n",
       "      <td>0.045455</td>\n",
       "      <td>0.000</td>\n",
       "      <td>0.187349</td>\n",
       "    </tr>\n",
       "    <tr>\n",
       "      <th>11</th>\n",
       "      <td>0.764706</td>\n",
       "      <td>0.902439</td>\n",
       "      <td>0.045455</td>\n",
       "      <td>0.000</td>\n",
       "      <td>0.017470</td>\n",
       "    </tr>\n",
       "    <tr>\n",
       "      <th>12</th>\n",
       "      <td>1.000000</td>\n",
       "      <td>0.780488</td>\n",
       "      <td>1.000000</td>\n",
       "      <td>1.000</td>\n",
       "      <td>0.740361</td>\n",
       "    </tr>\n",
       "  </tbody>\n",
       "</table>\n",
       "</div>"
      ],
      "text/plain": [
       "           0         1         2      3         4\n",
       "0   0.000000  0.878049  0.454545  0.125  0.077711\n",
       "1   0.058824  0.804878  0.818182  0.500  0.920482\n",
       "2   0.117647  1.000000  0.000000  0.000  0.064458\n",
       "3   0.235294  0.097561  0.545455  0.375  0.722289\n",
       "4   0.294118  0.024390  0.318182  0.250  0.722289\n",
       "5   0.352941  0.609756  0.772727  0.625  1.000000\n",
       "6   0.411765  0.756098  0.909091  0.875  0.983735\n",
       "7   0.470588  0.756098  0.363636  0.125  0.000000\n",
       "8   0.588235  0.000000  0.409091  0.875  0.722289\n",
       "9   0.647059  0.658537  0.318182  0.125  0.318072\n",
       "10  0.705882  0.804878  0.045455  0.000  0.187349\n",
       "11  0.764706  0.902439  0.045455  0.000  0.017470\n",
       "12  1.000000  0.780488  1.000000  1.000  0.740361"
      ]
     },
     "execution_count": 8,
     "metadata": {},
     "output_type": "execute_result"
    }
   ],
   "source": [
    "# 전처리 - 정규화(:fit_transform)\n",
    "scaler = preprocessing.MinMaxScaler()\n",
    "cd_copy=pd.DataFrame(scaler.fit_transform(cd_copy))\n",
    "cd_copy"
   ]
  },
  {
   "cell_type": "markdown",
   "metadata": {
    "id": "0ayJ3J8qjVoz"
   },
   "source": [
    "##### 뒤에서 사용하기 위해 전처리한 데이터를 cd_copy2에 복사하시오."
   ]
  },
  {
   "cell_type": "code",
   "execution_count": 9,
   "metadata": {
    "id": "TGGr4BjLjhwX"
   },
   "outputs": [],
   "source": [
    "# 전처리된 데이터 복사 \n",
    "cd_copy2 = cd_copy.copy()"
   ]
  },
  {
   "cell_type": "markdown",
   "metadata": {
    "id": "8Te4N2txoduC"
   },
   "source": [
    "#### 1-4.  사이킷런의 KMeans를 활용하여 위의 데이터를 fit 하시오.   \n",
    "n_clusters=3, init='k-means++', max_iter=300,random_state=0"
   ]
  },
  {
   "cell_type": "code",
   "execution_count": 10,
   "metadata": {
    "id": "INb2ZoEboduD"
   },
   "outputs": [
    {
     "data": {
      "text/plain": [
       "KMeans(n_clusters=3, random_state=0)"
      ]
     },
     "execution_count": 10,
     "metadata": {},
     "output_type": "execute_result"
    }
   ],
   "source": [
    "from sklearn.cluster import KMeans\n",
    "model = KMeans(n_clusters = 3, init='k-means++', max_iter=300,random_state=0 )\n",
    "model.fit(cd_copy)"
   ]
  },
  {
   "cell_type": "markdown",
   "metadata": {
    "id": "ruQxiOAboduD"
   },
   "source": [
    "#### 1-5. visualize_silhouette() 함수를 활용해 실루엣 계수를 시각화하고, k가 2, 3, 4, 5, 6일 때, 군집화를 가장 잘 나타내는 k값을 선택하고, 이유를 설명하시오."
   ]
  },
  {
   "cell_type": "code",
   "execution_count": 12,
   "metadata": {},
   "outputs": [],
   "source": [
    "### 여러개의 클러스터링 갯수를 List로 입력 받아 각각의 실루엣 계수를 면적으로 시각화한 함수 작성\n",
    "def visualize_silhouette(cluster_lists, X_features): \n",
    "    \n",
    "    from sklearn.datasets import make_blobs\n",
    "    from sklearn.cluster import KMeans\n",
    "    from sklearn.metrics import silhouette_samples, silhouette_score\n",
    "\n",
    "    import matplotlib.pyplot as plt\n",
    "    import matplotlib.cm as cm\n",
    "    import math\n",
    "    \n",
    "    # 입력값으로 클러스터링 갯수들을 리스트로 받아서, 각 갯수별로 클러스터링을 적용하고 실루엣 개수를 구함\n",
    "    n_cols = len(cluster_lists)\n",
    "    \n",
    "    # plt.subplots()으로 리스트에 기재된 클러스터링 수만큼의 sub figures를 가지는 axs 생성 \n",
    "    fig, axs = plt.subplots(figsize=(4*n_cols, 4), nrows=1, ncols=n_cols)\n",
    "    \n",
    "    # 리스트에 기재된 클러스터링 갯수들을 차례로 iteration 수행하면서 실루엣 개수 시각화\n",
    "    for ind, n_cluster in enumerate(cluster_lists):\n",
    "        \n",
    "        # KMeans 클러스터링 수행하고, 실루엣 스코어와 개별 데이터의 실루엣 값 계산. \n",
    "        clusterer = KMeans(n_clusters = n_cluster, max_iter=500, random_state=0)\n",
    "        cluster_labels = clusterer.fit_predict(X_features)\n",
    "        \n",
    "        sil_avg = silhouette_score(X_features, cluster_labels)\n",
    "        sil_values = silhouette_samples(X_features, cluster_labels)\n",
    "        \n",
    "        y_lower = 10\n",
    "        axs[ind].set_title('Number of Cluster : '+ str(n_cluster)+'\\n' \\\n",
    "                          'Silhouette Score :' + str(round(sil_avg,3)) )\n",
    "        axs[ind].set_xlabel(\"The silhouette coefficient values\")\n",
    "        axs[ind].set_ylabel(\"Cluster label\")\n",
    "        axs[ind].set_xlim([-0.1, 1])\n",
    "        axs[ind].set_ylim([0, len(X_features) + (n_cluster + 1) * 10])\n",
    "        axs[ind].set_yticks([])  # Clear the yaxis labels / ticks\n",
    "        axs[ind].set_xticks([0, 0.2, 0.4, 0.6, 0.8, 1])\n",
    "        \n",
    "        # 클러스터링 갯수별로 fill_betweenx( )형태의 막대 그래프 표현. \n",
    "        for i in range(n_cluster):\n",
    "            ith_cluster_sil_values = sil_values[cluster_labels==i]\n",
    "            ith_cluster_sil_values.sort()\n",
    "            \n",
    "            size_cluster_i = ith_cluster_sil_values.shape[0]\n",
    "            y_upper = y_lower + size_cluster_i\n",
    "            \n",
    "            color = cm.nipy_spectral(float(i) / n_cluster)\n",
    "            axs[ind].fill_betweenx(np.arange(y_lower, y_upper), 0, ith_cluster_sil_values, \\\n",
    "                                facecolor=color, edgecolor=color, alpha=0.7)\n",
    "            axs[ind].text(-0.05, y_lower + 0.5 * size_cluster_i, str(i))\n",
    "            y_lower = y_upper + 10\n",
    "            \n",
    "        axs[ind].axvline(x=sil_avg, color=\"red\", linestyle=\"--\")"
   ]
  },
  {
   "cell_type": "code",
   "execution_count": 14,
   "metadata": {
    "id": "tm7xudmAoduD"
   },
   "outputs": [
    {
     "data": {
      "image/png": "[encoded data removed]",
      "text/plain": [
       "<Figure size 1152x288 with 4 Axes>"
      ]
     },
     "metadata": {
      "needs_background": "light"
     },
     "output_type": "display_data"
    }
   ],
   "source": [
    "visualize_silhouette([ 2, 3, 4, 5],cd_copy)"
   ]
  },
  {
   "cell_type": "markdown",
   "metadata": {
    "id": "gbl0VI-BoduF"
   },
   "source": [
    "#### 1-6. 위에서 선택한 k값으로 다시 피팅하고, 군집별 평균 실루엣 계수 값을 구하시오.  "
   ]
  },
  {
   "cell_type": "code",
   "execution_count": 16,
   "metadata": {
    "id": "pqdJpHQtoduF"
   },
   "outputs": [
    {
     "data": {
      "text/plain": [
       "KMeans(n_clusters=3, random_state=0)"
      ]
     },
     "execution_count": 16,
     "metadata": {},
     "output_type": "execute_result"
    }
   ],
   "source": [
    "kmeans=KMeans(n_clusters=3, init='k-means++', max_iter=300,random_state=0)\n",
    "kmeans.fit(cd_copy)"
   ]
  },
  {
   "cell_type": "markdown",
   "metadata": {
    "id": "B05HUZlooduI"
   },
   "source": [
    "##### 1) cd_copy에 cluster 결과 칼럼 추가하시오"
   ]
  },
  {
   "cell_type": "code",
   "execution_count": 17,
   "metadata": {
    "id": "x4Ar1fbYoduI"
   },
   "outputs": [],
   "source": [
    "cd_copy['cluster'] = kmeans.labels_"
   ]
  },
  {
   "cell_type": "markdown",
   "metadata": {
    "id": "M_Hvt077oduI"
   },
   "source": [
    "##### 2) 개별 데이터의 실루엣 계수 값을 구한 후, cd_copy에 실루엣 계수 컬럼 추가하시오"
   ]
  },
  {
   "cell_type": "code",
   "execution_count": 18,
   "metadata": {
    "id": "CpeQfRfyoduJ"
   },
   "outputs": [
    {
     "name": "stdout",
     "output_type": "stream",
     "text": [
      "(13,)\n"
     ]
    }
   ],
   "source": [
    "from sklearn.metrics import silhouette_samples, silhouette_score\n",
    "score_samples = silhouette_samples(cd_copy, cd_copy['cluster'])\n",
    "print(score_samples.shape)\n",
    "cd_copy['silhouette_coeff'] = score_samples"
   ]
  },
  {
   "cell_type": "code",
   "execution_count": 19,
   "metadata": {
    "id": "5SJBrfDPoduJ"
   },
   "outputs": [
    {
     "data": {
      "text/html": [
       "<div>\n",
       "<style scoped>\n",
       "    .dataframe tbody tr th:only-of-type {\n",
       "        vertical-align: middle;\n",
       "    }\n",
       "\n",
       "    .dataframe tbody tr th {\n",
       "        vertical-align: top;\n",
       "    }\n",
       "\n",
       "    .dataframe thead th {\n",
       "        text-align: right;\n",
       "    }\n",
       "</style>\n",
       "<table border=\"1\" class=\"dataframe\">\n",
       "  <thead>\n",
       "    <tr style=\"text-align: right;\">\n",
       "      <th></th>\n",
       "      <th>0</th>\n",
       "      <th>1</th>\n",
       "      <th>2</th>\n",
       "      <th>3</th>\n",
       "      <th>4</th>\n",
       "      <th>cluster</th>\n",
       "      <th>silhouette_coeff</th>\n",
       "    </tr>\n",
       "  </thead>\n",
       "  <tbody>\n",
       "    <tr>\n",
       "      <th>0</th>\n",
       "      <td>0.000000</td>\n",
       "      <td>0.878049</td>\n",
       "      <td>0.454545</td>\n",
       "      <td>0.125</td>\n",
       "      <td>0.077711</td>\n",
       "      <td>0</td>\n",
       "      <td>0.574961</td>\n",
       "    </tr>\n",
       "    <tr>\n",
       "      <th>1</th>\n",
       "      <td>0.058824</td>\n",
       "      <td>0.804878</td>\n",
       "      <td>0.818182</td>\n",
       "      <td>0.500</td>\n",
       "      <td>0.920482</td>\n",
       "      <td>1</td>\n",
       "      <td>0.523181</td>\n",
       "    </tr>\n",
       "    <tr>\n",
       "      <th>2</th>\n",
       "      <td>0.117647</td>\n",
       "      <td>1.000000</td>\n",
       "      <td>0.000000</td>\n",
       "      <td>0.000</td>\n",
       "      <td>0.064458</td>\n",
       "      <td>0</td>\n",
       "      <td>0.659364</td>\n",
       "    </tr>\n",
       "    <tr>\n",
       "      <th>3</th>\n",
       "      <td>0.235294</td>\n",
       "      <td>0.097561</td>\n",
       "      <td>0.545455</td>\n",
       "      <td>0.375</td>\n",
       "      <td>0.722289</td>\n",
       "      <td>2</td>\n",
       "      <td>0.669632</td>\n",
       "    </tr>\n",
       "    <tr>\n",
       "      <th>4</th>\n",
       "      <td>0.294118</td>\n",
       "      <td>0.024390</td>\n",
       "      <td>0.318182</td>\n",
       "      <td>0.250</td>\n",
       "      <td>0.722289</td>\n",
       "      <td>2</td>\n",
       "      <td>0.678139</td>\n",
       "    </tr>\n",
       "    <tr>\n",
       "      <th>5</th>\n",
       "      <td>0.352941</td>\n",
       "      <td>0.609756</td>\n",
       "      <td>0.772727</td>\n",
       "      <td>0.625</td>\n",
       "      <td>1.000000</td>\n",
       "      <td>1</td>\n",
       "      <td>0.596260</td>\n",
       "    </tr>\n",
       "    <tr>\n",
       "      <th>6</th>\n",
       "      <td>0.411765</td>\n",
       "      <td>0.756098</td>\n",
       "      <td>0.909091</td>\n",
       "      <td>0.875</td>\n",
       "      <td>0.983735</td>\n",
       "      <td>1</td>\n",
       "      <td>0.649169</td>\n",
       "    </tr>\n",
       "    <tr>\n",
       "      <th>7</th>\n",
       "      <td>0.470588</td>\n",
       "      <td>0.756098</td>\n",
       "      <td>0.363636</td>\n",
       "      <td>0.125</td>\n",
       "      <td>0.000000</td>\n",
       "      <td>0</td>\n",
       "      <td>0.706450</td>\n",
       "    </tr>\n",
       "    <tr>\n",
       "      <th>8</th>\n",
       "      <td>0.588235</td>\n",
       "      <td>0.000000</td>\n",
       "      <td>0.409091</td>\n",
       "      <td>0.875</td>\n",
       "      <td>0.722289</td>\n",
       "      <td>2</td>\n",
       "      <td>0.529613</td>\n",
       "    </tr>\n",
       "    <tr>\n",
       "      <th>9</th>\n",
       "      <td>0.647059</td>\n",
       "      <td>0.658537</td>\n",
       "      <td>0.318182</td>\n",
       "      <td>0.125</td>\n",
       "      <td>0.318072</td>\n",
       "      <td>0</td>\n",
       "      <td>0.635767</td>\n",
       "    </tr>\n",
       "    <tr>\n",
       "      <th>10</th>\n",
       "      <td>0.705882</td>\n",
       "      <td>0.804878</td>\n",
       "      <td>0.045455</td>\n",
       "      <td>0.000</td>\n",
       "      <td>0.187349</td>\n",
       "      <td>0</td>\n",
       "      <td>0.712659</td>\n",
       "    </tr>\n",
       "    <tr>\n",
       "      <th>11</th>\n",
       "      <td>0.764706</td>\n",
       "      <td>0.902439</td>\n",
       "      <td>0.045455</td>\n",
       "      <td>0.000</td>\n",
       "      <td>0.017470</td>\n",
       "      <td>0</td>\n",
       "      <td>0.702831</td>\n",
       "    </tr>\n",
       "    <tr>\n",
       "      <th>12</th>\n",
       "      <td>1.000000</td>\n",
       "      <td>0.780488</td>\n",
       "      <td>1.000000</td>\n",
       "      <td>1.000</td>\n",
       "      <td>0.740361</td>\n",
       "      <td>1</td>\n",
       "      <td>0.465547</td>\n",
       "    </tr>\n",
       "  </tbody>\n",
       "</table>\n",
       "</div>"
      ],
      "text/plain": [
       "           0         1         2      3         4  cluster  silhouette_coeff\n",
       "0   0.000000  0.878049  0.454545  0.125  0.077711        0          0.574961\n",
       "1   0.058824  0.804878  0.818182  0.500  0.920482        1          0.523181\n",
       "2   0.117647  1.000000  0.000000  0.000  0.064458        0          0.659364\n",
       "3   0.235294  0.097561  0.545455  0.375  0.722289        2          0.669632\n",
       "4   0.294118  0.024390  0.318182  0.250  0.722289        2          0.678139\n",
       "5   0.352941  0.609756  0.772727  0.625  1.000000        1          0.596260\n",
       "6   0.411765  0.756098  0.909091  0.875  0.983735        1          0.649169\n",
       "7   0.470588  0.756098  0.363636  0.125  0.000000        0          0.706450\n",
       "8   0.588235  0.000000  0.409091  0.875  0.722289        2          0.529613\n",
       "9   0.647059  0.658537  0.318182  0.125  0.318072        0          0.635767\n",
       "10  0.705882  0.804878  0.045455  0.000  0.187349        0          0.712659\n",
       "11  0.764706  0.902439  0.045455  0.000  0.017470        0          0.702831\n",
       "12  1.000000  0.780488  1.000000  1.000  0.740361        1          0.465547"
      ]
     },
     "execution_count": 19,
     "metadata": {},
     "output_type": "execute_result"
    }
   ],
   "source": [
    "cd_copy"
   ]
  },
  {
   "cell_type": "markdown",
   "metadata": {
    "id": "XsgDucTPoduJ"
   },
   "source": [
    "##### 3) 모든 데이터의 평균 실루엣 계수 값 구하시오"
   ]
  },
  {
   "cell_type": "code",
   "execution_count": 20,
   "metadata": {
    "id": "3Wz-RYDAoduK"
   },
   "outputs": [
    {
     "data": {
      "text/plain": [
       "0.6193018264879745"
      ]
     },
     "execution_count": 20,
     "metadata": {},
     "output_type": "execute_result"
    }
   ],
   "source": [
    "silhouette_score(cd_copy, cd_copy['cluster'])"
   ]
  },
  {
   "cell_type": "markdown",
   "metadata": {
    "id": "g-IBtPnGoduK"
   },
   "source": [
    "##### 4) 군집별 평균 실루엣 계수 값을 구하시오"
   ]
  },
  {
   "cell_type": "markdown",
   "metadata": {
    "id": "9ghQok92i1rB"
   },
   "source": [
    "#### 1-7. 사이킷런의 MeanShift를 활용하여 위에서 복사한 cd_copy2 데이터를 fit 하시오.   \n",
    "bandwidth=0.8"
   ]
  },
  {
   "cell_type": "code",
   "execution_count": 30,
   "metadata": {
    "id": "quhjSBM-oduM"
   },
   "outputs": [
    {
     "data": {
      "text/plain": [
       "MeanShift(bandwidth=0.8)"
      ]
     },
     "execution_count": 30,
     "metadata": {},
     "output_type": "execute_result"
    }
   ],
   "source": [
    "from sklearn.cluster import MeanShift\n",
    "analyzer = MeanShift(bandwidth=0.8)\n",
    "analyzer.fit(cd_copy2)"
   ]
  },
  {
   "cell_type": "markdown",
   "metadata": {
    "id": "9eqe3ldrktdw"
   },
   "source": [
    "#### 1-8. estimate_bandwidth()를 사용해 최적의 bandwidth 값을 구하시오."
   ]
  },
  {
   "cell_type": "code",
   "execution_count": null,
   "metadata": {},
   "outputs": [],
   "source": []
  },
  {
   "cell_type": "markdown",
   "metadata": {
    "id": "mLQOjqTal0Dk"
   },
   "source": [
    "#### 1-9. 최적의 bandwidth를 평균 이동 입력값으로 적용해 다시 fit하고, cluster labels 유형을 확인하시오."
   ]
  },
  {
   "cell_type": "code",
   "execution_count": null,
   "metadata": {},
   "outputs": [],
   "source": []
  },
  {
   "cell_type": "markdown",
   "metadata": {
    "id": "VIBX5Mm4jGId"
   },
   "source": [
    "# 2. Supermarket Customer Data를 활용한 DBSCAN 실습\n",
    "Mall_Customers.csv 데이터\n",
    "\n",
    "- Customer ID\n",
    "- Age\n",
    "- Genre: 고객 성별 (Gender) \n",
    "- Annual income (k$) \n",
    "- Spending score(1-100) : assigned based on parameters like customer behavior and purchasing data"
   ]
  },
  {
   "cell_type": "markdown",
   "metadata": {
    "id": "yaqk7dAEjKVO"
   },
   "source": [
    "#### 2-1. 'Mall_Customers.csv' 데이터를 불러와 df에 저장하시오."
   ]
  },
  {
   "cell_type": "code",
   "execution_count": 33,
   "metadata": {
    "id": "-gArJ0VjgB0E"
   },
   "outputs": [],
   "source": [
    "df = pd.read_csv('Mall_Customers.csv')"
   ]
  },
  {
   "cell_type": "markdown",
   "metadata": {
    "id": "mDfOUP-rjN5M"
   },
   "source": [
    "#### 2-2. df의 처음 다섯개 행을 확인하시오."
   ]
  },
  {
   "cell_type": "code",
   "execution_count": 34,
   "metadata": {
    "id": "uqPjJPwojOLv"
   },
   "outputs": [
    {
     "data": {
      "text/html": [
       "<div>\n",
       "<style scoped>\n",
       "    .dataframe tbody tr th:only-of-type {\n",
       "        vertical-align: middle;\n",
       "    }\n",
       "\n",
       "    .dataframe tbody tr th {\n",
       "        vertical-align: top;\n",
       "    }\n",
       "\n",
       "    .dataframe thead th {\n",
       "        text-align: right;\n",
       "    }\n",
       "</style>\n",
       "<table border=\"1\" class=\"dataframe\">\n",
       "  <thead>\n",
       "    <tr style=\"text-align: right;\">\n",
       "      <th></th>\n",
       "      <th>CustomerID</th>\n",
       "      <th>Gender</th>\n",
       "      <th>Age</th>\n",
       "      <th>Annual Income (k$)</th>\n",
       "      <th>Spending Score (1-100)</th>\n",
       "    </tr>\n",
       "  </thead>\n",
       "  <tbody>\n",
       "    <tr>\n",
       "      <th>0</th>\n",
       "      <td>1</td>\n",
       "      <td>Male</td>\n",
       "      <td>19</td>\n",
       "      <td>15</td>\n",
       "      <td>39</td>\n",
       "    </tr>\n",
       "    <tr>\n",
       "      <th>1</th>\n",
       "      <td>2</td>\n",
       "      <td>Male</td>\n",
       "      <td>21</td>\n",
       "      <td>15</td>\n",
       "      <td>81</td>\n",
       "    </tr>\n",
       "    <tr>\n",
       "      <th>2</th>\n",
       "      <td>3</td>\n",
       "      <td>Female</td>\n",
       "      <td>20</td>\n",
       "      <td>16</td>\n",
       "      <td>6</td>\n",
       "    </tr>\n",
       "    <tr>\n",
       "      <th>3</th>\n",
       "      <td>4</td>\n",
       "      <td>Female</td>\n",
       "      <td>23</td>\n",
       "      <td>16</td>\n",
       "      <td>77</td>\n",
       "    </tr>\n",
       "    <tr>\n",
       "      <th>4</th>\n",
       "      <td>5</td>\n",
       "      <td>Female</td>\n",
       "      <td>31</td>\n",
       "      <td>17</td>\n",
       "      <td>40</td>\n",
       "    </tr>\n",
       "  </tbody>\n",
       "</table>\n",
       "</div>"
      ],
      "text/plain": [
       "   CustomerID  Gender  Age  Annual Income (k$)  Spending Score (1-100)\n",
       "0           1    Male   19                  15                      39\n",
       "1           2    Male   21                  15                      81\n",
       "2           3  Female   20                  16                       6\n",
       "3           4  Female   23                  16                      77\n",
       "4           5  Female   31                  17                      40"
      ]
     },
     "execution_count": 34,
     "metadata": {},
     "output_type": "execute_result"
    }
   ],
   "source": [
    "df.head()"
   ]
  },
  {
   "cell_type": "markdown",
   "metadata": {
    "id": "GgyB2LJWjQC_"
   },
   "source": [
    "#### 2-3. info() 함수를 이용해 데이터프레임의 기본 정보를 확인하시오."
   ]
  },
  {
   "cell_type": "code",
   "execution_count": 35,
   "metadata": {
    "id": "sqyp3vjMjR8-"
   },
   "outputs": [
    {
     "name": "stdout",
     "output_type": "stream",
     "text": [
      "<class 'pandas.core.frame.DataFrame'>\n",
      "RangeIndex: 200 entries, 0 to 199\n",
      "Data columns (total 5 columns):\n",
      " #   Column                  Non-Null Count  Dtype \n",
      "---  ------                  --------------  ----- \n",
      " 0   CustomerID              200 non-null    int64 \n",
      " 1   Gender                  200 non-null    object\n",
      " 2   Age                     200 non-null    int64 \n",
      " 3   Annual Income (k$)      200 non-null    int64 \n",
      " 4   Spending Score (1-100)  200 non-null    int64 \n",
      "dtypes: int64(4), object(1)\n",
      "memory usage: 7.9+ KB\n"
     ]
    }
   ],
   "source": [
    "df.info()"
   ]
  },
  {
   "cell_type": "markdown",
   "metadata": {
    "id": "Got2FzSYjU4W"
   },
   "source": [
    "#### 2-4.describe() 함수를 이용해 df의 정보를 확인하시오."
   ]
  },
  {
   "cell_type": "code",
   "execution_count": 36,
   "metadata": {
    "id": "fUoO4KScjVTr"
   },
   "outputs": [
    {
     "data": {
      "text/html": [
       "<div>\n",
       "<style scoped>\n",
       "    .dataframe tbody tr th:only-of-type {\n",
       "        vertical-align: middle;\n",
       "    }\n",
       "\n",
       "    .dataframe tbody tr th {\n",
       "        vertical-align: top;\n",
       "    }\n",
       "\n",
       "    .dataframe thead th {\n",
       "        text-align: right;\n",
       "    }\n",
       "</style>\n",
       "<table border=\"1\" class=\"dataframe\">\n",
       "  <thead>\n",
       "    <tr style=\"text-align: right;\">\n",
       "      <th></th>\n",
       "      <th>CustomerID</th>\n",
       "      <th>Age</th>\n",
       "      <th>Annual Income (k$)</th>\n",
       "      <th>Spending Score (1-100)</th>\n",
       "    </tr>\n",
       "  </thead>\n",
       "  <tbody>\n",
       "    <tr>\n",
       "      <th>count</th>\n",
       "      <td>200.000000</td>\n",
       "      <td>200.000000</td>\n",
       "      <td>200.000000</td>\n",
       "      <td>200.000000</td>\n",
       "    </tr>\n",
       "    <tr>\n",
       "      <th>mean</th>\n",
       "      <td>100.500000</td>\n",
       "      <td>38.850000</td>\n",
       "      <td>60.560000</td>\n",
       "      <td>50.200000</td>\n",
       "    </tr>\n",
       "    <tr>\n",
       "      <th>std</th>\n",
       "      <td>57.879185</td>\n",
       "      <td>13.969007</td>\n",
       "      <td>26.264721</td>\n",
       "      <td>25.823522</td>\n",
       "    </tr>\n",
       "    <tr>\n",
       "      <th>min</th>\n",
       "      <td>1.000000</td>\n",
       "      <td>18.000000</td>\n",
       "      <td>15.000000</td>\n",
       "      <td>1.000000</td>\n",
       "    </tr>\n",
       "    <tr>\n",
       "      <th>25%</th>\n",
       "      <td>50.750000</td>\n",
       "      <td>28.750000</td>\n",
       "      <td>41.500000</td>\n",
       "      <td>34.750000</td>\n",
       "    </tr>\n",
       "    <tr>\n",
       "      <th>50%</th>\n",
       "      <td>100.500000</td>\n",
       "      <td>36.000000</td>\n",
       "      <td>61.500000</td>\n",
       "      <td>50.000000</td>\n",
       "    </tr>\n",
       "    <tr>\n",
       "      <th>75%</th>\n",
       "      <td>150.250000</td>\n",
       "      <td>49.000000</td>\n",
       "      <td>78.000000</td>\n",
       "      <td>73.000000</td>\n",
       "    </tr>\n",
       "    <tr>\n",
       "      <th>max</th>\n",
       "      <td>200.000000</td>\n",
       "      <td>70.000000</td>\n",
       "      <td>137.000000</td>\n",
       "      <td>99.000000</td>\n",
       "    </tr>\n",
       "  </tbody>\n",
       "</table>\n",
       "</div>"
      ],
      "text/plain": [
       "       CustomerID         Age  Annual Income (k$)  Spending Score (1-100)\n",
       "count  200.000000  200.000000          200.000000              200.000000\n",
       "mean   100.500000   38.850000           60.560000               50.200000\n",
       "std     57.879185   13.969007           26.264721               25.823522\n",
       "min      1.000000   18.000000           15.000000                1.000000\n",
       "25%     50.750000   28.750000           41.500000               34.750000\n",
       "50%    100.500000   36.000000           61.500000               50.000000\n",
       "75%    150.250000   49.000000           78.000000               73.000000\n",
       "max    200.000000   70.000000          137.000000               99.000000"
      ]
     },
     "execution_count": 36,
     "metadata": {},
     "output_type": "execute_result"
    }
   ],
   "source": [
    "df.describe()"
   ]
  },
  {
   "cell_type": "markdown",
   "metadata": {
    "id": "RiJT2rtcjYov"
   },
   "source": [
    "##### 2-5. 칼럼의 이름을 rename 함수를 활용하여 바꾸시오.\n",
    "\n",
    "Annual Income (k$) 는 Annual Income 으로, Spending Score(1-100)은 Spending Capability로 바꾸시오. \n",
    "\n",
    "바꾼 뒤, head()함수를 활용하여 확인하시오."
   ]
  },
  {
   "cell_type": "code",
   "execution_count": 37,
   "metadata": {
    "id": "9sC2EcbLjY-I"
   },
   "outputs": [],
   "source": [
    "df.rename(columns = {'Annual Income (k$)' :  'Annual Income', 'Spending Score (1-100)': 'Spending Capability'}, inplace = True)"
   ]
  },
  {
   "cell_type": "code",
   "execution_count": 38,
   "metadata": {
    "id": "AsWQa6Z-jb1S"
   },
   "outputs": [
    {
     "data": {
      "text/html": [
       "<div>\n",
       "<style scoped>\n",
       "    .dataframe tbody tr th:only-of-type {\n",
       "        vertical-align: middle;\n",
       "    }\n",
       "\n",
       "    .dataframe tbody tr th {\n",
       "        vertical-align: top;\n",
       "    }\n",
       "\n",
       "    .dataframe thead th {\n",
       "        text-align: right;\n",
       "    }\n",
       "</style>\n",
       "<table border=\"1\" class=\"dataframe\">\n",
       "  <thead>\n",
       "    <tr style=\"text-align: right;\">\n",
       "      <th></th>\n",
       "      <th>CustomerID</th>\n",
       "      <th>Gender</th>\n",
       "      <th>Age</th>\n",
       "      <th>Annual Income</th>\n",
       "      <th>Spending Capability</th>\n",
       "    </tr>\n",
       "  </thead>\n",
       "  <tbody>\n",
       "    <tr>\n",
       "      <th>0</th>\n",
       "      <td>1</td>\n",
       "      <td>Male</td>\n",
       "      <td>19</td>\n",
       "      <td>15</td>\n",
       "      <td>39</td>\n",
       "    </tr>\n",
       "    <tr>\n",
       "      <th>1</th>\n",
       "      <td>2</td>\n",
       "      <td>Male</td>\n",
       "      <td>21</td>\n",
       "      <td>15</td>\n",
       "      <td>81</td>\n",
       "    </tr>\n",
       "    <tr>\n",
       "      <th>2</th>\n",
       "      <td>3</td>\n",
       "      <td>Female</td>\n",
       "      <td>20</td>\n",
       "      <td>16</td>\n",
       "      <td>6</td>\n",
       "    </tr>\n",
       "    <tr>\n",
       "      <th>3</th>\n",
       "      <td>4</td>\n",
       "      <td>Female</td>\n",
       "      <td>23</td>\n",
       "      <td>16</td>\n",
       "      <td>77</td>\n",
       "    </tr>\n",
       "    <tr>\n",
       "      <th>4</th>\n",
       "      <td>5</td>\n",
       "      <td>Female</td>\n",
       "      <td>31</td>\n",
       "      <td>17</td>\n",
       "      <td>40</td>\n",
       "    </tr>\n",
       "  </tbody>\n",
       "</table>\n",
       "</div>"
      ],
      "text/plain": [
       "   CustomerID  Gender  Age  Annual Income  Spending Capability\n",
       "0           1    Male   19             15                   39\n",
       "1           2    Male   21             15                   81\n",
       "2           3  Female   20             16                    6\n",
       "3           4  Female   23             16                   77\n",
       "4           5  Female   31             17                   40"
      ]
     },
     "execution_count": 38,
     "metadata": {},
     "output_type": "execute_result"
    }
   ],
   "source": [
    "df.head()"
   ]
  },
  {
   "cell_type": "markdown",
   "metadata": {
    "id": "I-u_8tzmjhsr"
   },
   "source": [
    "#### 2-6. 아래의 코드를 돌려서 데이터 분포를 확인하시오."
   ]
  },
  {
   "cell_type": "code",
   "execution_count": 39,
   "metadata": {
    "id": "hHWQUdFJji5n"
   },
   "outputs": [
    {
     "data": {
      "text/plain": [
       "<seaborn.axisgrid.PairGrid at 0x1b957a32d60>"
      ]
     },
     "execution_count": 39,
     "metadata": {},
     "output_type": "execute_result"
    },
    {
     "data": {
      "image/png": "[encoded data removed]",
      "text/plain": [
       "<Figure size 720x720 with 20 Axes>"
      ]
     },
     "metadata": {
      "needs_background": "light"
     },
     "output_type": "display_data"
    }
   ],
   "source": [
    "sns.pairplot(df)"
   ]
  },
  {
   "cell_type": "markdown",
   "metadata": {
    "id": "2WfDqxDfjkec"
   },
   "source": [
    "#### 2-7. CustomerID 칼럼을 삭제한 뒤 확인하시오."
   ]
  },
  {
   "cell_type": "code",
   "execution_count": 40,
   "metadata": {
    "id": "kzPzGXm1jl7f",
    "scrolled": true
   },
   "outputs": [],
   "source": [
    "df.drop([\"CustomerID\"], axis = 1, inplace=True)"
   ]
  },
  {
   "cell_type": "code",
   "execution_count": 41,
   "metadata": {},
   "outputs": [
    {
     "data": {
      "text/html": [
       "<div>\n",
       "<style scoped>\n",
       "    .dataframe tbody tr th:only-of-type {\n",
       "        vertical-align: middle;\n",
       "    }\n",
       "\n",
       "    .dataframe tbody tr th {\n",
       "        vertical-align: top;\n",
       "    }\n",
       "\n",
       "    .dataframe thead th {\n",
       "        text-align: right;\n",
       "    }\n",
       "</style>\n",
       "<table border=\"1\" class=\"dataframe\">\n",
       "  <thead>\n",
       "    <tr style=\"text-align: right;\">\n",
       "      <th></th>\n",
       "      <th>Gender</th>\n",
       "      <th>Age</th>\n",
       "      <th>Annual Income</th>\n",
       "      <th>Spending Capability</th>\n",
       "    </tr>\n",
       "  </thead>\n",
       "  <tbody>\n",
       "    <tr>\n",
       "      <th>0</th>\n",
       "      <td>Male</td>\n",
       "      <td>19</td>\n",
       "      <td>15</td>\n",
       "      <td>39</td>\n",
       "    </tr>\n",
       "    <tr>\n",
       "      <th>1</th>\n",
       "      <td>Male</td>\n",
       "      <td>21</td>\n",
       "      <td>15</td>\n",
       "      <td>81</td>\n",
       "    </tr>\n",
       "    <tr>\n",
       "      <th>2</th>\n",
       "      <td>Female</td>\n",
       "      <td>20</td>\n",
       "      <td>16</td>\n",
       "      <td>6</td>\n",
       "    </tr>\n",
       "    <tr>\n",
       "      <th>3</th>\n",
       "      <td>Female</td>\n",
       "      <td>23</td>\n",
       "      <td>16</td>\n",
       "      <td>77</td>\n",
       "    </tr>\n",
       "    <tr>\n",
       "      <th>4</th>\n",
       "      <td>Female</td>\n",
       "      <td>31</td>\n",
       "      <td>17</td>\n",
       "      <td>40</td>\n",
       "    </tr>\n",
       "    <tr>\n",
       "      <th>...</th>\n",
       "      <td>...</td>\n",
       "      <td>...</td>\n",
       "      <td>...</td>\n",
       "      <td>...</td>\n",
       "    </tr>\n",
       "    <tr>\n",
       "      <th>195</th>\n",
       "      <td>Female</td>\n",
       "      <td>35</td>\n",
       "      <td>120</td>\n",
       "      <td>79</td>\n",
       "    </tr>\n",
       "    <tr>\n",
       "      <th>196</th>\n",
       "      <td>Female</td>\n",
       "      <td>45</td>\n",
       "      <td>126</td>\n",
       "      <td>28</td>\n",
       "    </tr>\n",
       "    <tr>\n",
       "      <th>197</th>\n",
       "      <td>Male</td>\n",
       "      <td>32</td>\n",
       "      <td>126</td>\n",
       "      <td>74</td>\n",
       "    </tr>\n",
       "    <tr>\n",
       "      <th>198</th>\n",
       "      <td>Male</td>\n",
       "      <td>32</td>\n",
       "      <td>137</td>\n",
       "      <td>18</td>\n",
       "    </tr>\n",
       "    <tr>\n",
       "      <th>199</th>\n",
       "      <td>Male</td>\n",
       "      <td>30</td>\n",
       "      <td>137</td>\n",
       "      <td>83</td>\n",
       "    </tr>\n",
       "  </tbody>\n",
       "</table>\n",
       "<p>200 rows × 4 columns</p>\n",
       "</div>"
      ],
      "text/plain": [
       "     Gender  Age  Annual Income  Spending Capability\n",
       "0      Male   19             15                   39\n",
       "1      Male   21             15                   81\n",
       "2    Female   20             16                    6\n",
       "3    Female   23             16                   77\n",
       "4    Female   31             17                   40\n",
       "..      ...  ...            ...                  ...\n",
       "195  Female   35            120                   79\n",
       "196  Female   45            126                   28\n",
       "197    Male   32            126                   74\n",
       "198    Male   32            137                   18\n",
       "199    Male   30            137                   83\n",
       "\n",
       "[200 rows x 4 columns]"
      ]
     },
     "execution_count": 41,
     "metadata": {},
     "output_type": "execute_result"
    }
   ],
   "source": [
    "df"
   ]
  },
  {
   "cell_type": "markdown",
   "metadata": {
    "id": "NX11T0ehjnzT"
   },
   "source": [
    "#### 2-8. iloc()함수를 사용하여 변수 x에 Annual Income 과 Speding Capability를 담으시오."
   ]
  },
  {
   "cell_type": "code",
   "execution_count": 42,
   "metadata": {
    "id": "zp-lzc4vjoix"
   },
   "outputs": [],
   "source": [
    "x = df.iloc[:, 2:]"
   ]
  },
  {
   "cell_type": "markdown",
   "metadata": {
    "id": "0bnk3hIUjrRH"
   },
   "source": [
    "#### 2-9. 다음의 코드를 돌려, (200,2)가 출력되는지 확인하시오."
   ]
  },
  {
   "cell_type": "code",
   "execution_count": 43,
   "metadata": {
    "id": "yxDcqWxBjsrE"
   },
   "outputs": [
    {
     "data": {
      "text/plain": [
       "(200, 2)"
      ]
     },
     "execution_count": 43,
     "metadata": {},
     "output_type": "execute_result"
    }
   ],
   "source": [
    "x.shape"
   ]
  },
  {
   "cell_type": "markdown",
   "metadata": {
    "id": "B854nVJ3jufv"
   },
   "source": [
    "#### 2-10. 사이킷런의 DBSCAN을 활용하여 x를 fit하시오.\n",
    "\n",
    "- eps=3\n",
    "- min_samples=4\n",
    "- metric='euclidean'"
   ]
  },
  {
   "cell_type": "code",
   "execution_count": 44,
   "metadata": {
    "id": "Qmy7S6SHjweW"
   },
   "outputs": [],
   "source": [
    "from sklearn.cluster import DBSCAN\n",
    "\n",
    "\n",
    "DBS_clustering = DBSCAN(eps=3, min_samples=4, metric = 'euclidean').fit(x)\n"
   ]
  },
  {
   "cell_type": "code",
   "execution_count": 45,
   "metadata": {
    "id": "U7EEgZ4Qjy3i"
   },
   "outputs": [
    {
     "data": {
      "text/plain": [
       "DBSCAN(eps=3, min_samples=4)"
      ]
     },
     "execution_count": 45,
     "metadata": {},
     "output_type": "execute_result"
    }
   ],
   "source": [
    "DBS_clustering"
   ]
  },
  {
   "cell_type": "markdown",
   "metadata": {
    "id": "DGSCRknlj0g9"
   },
   "source": [
    "#### 2-11.labels_을 출력하여 확인하시오."
   ]
  },
  {
   "cell_type": "code",
   "execution_count": 46,
   "metadata": {
    "id": "eE9ll5GYj2B-"
   },
   "outputs": [
    {
     "data": {
      "text/plain": [
       "array([-1, -1, -1, -1, -1, -1, -1, -1, -1, -1, -1, -1, -1, -1, -1, -1, -1,\n",
       "       -1, -1, -1, -1, -1, -1, -1, -1, -1, -1, -1, -1, -1, -1, -1, -1, -1,\n",
       "       -1, -1, -1, -1, -1, -1, -1, -1, -1, -1, -1, -1, -1, -1, -1, -1, -1,\n",
       "       -1, -1, -1, -1, -1,  0,  0,  0,  0, -1, -1,  0, -1,  0, -1,  0,  0,\n",
       "       -1,  0, -1, -1,  0, -1,  1,  1,  1,  1,  1,  1,  1,  1,  1,  1,  1,\n",
       "        1,  1,  1, -1,  2,  1,  2,  2,  2,  2,  2,  2,  2,  2,  2,  2,  2,\n",
       "        2,  2,  2,  2,  2,  2,  2,  2,  2,  2,  2,  2,  2,  2,  2,  3,  2,\n",
       "        3,  3, -1,  3, -1, -1,  4, -1, -1, -1,  4,  5,  4, -1,  4,  5, -1,\n",
       "        5,  4, -1,  4,  5, -1, -1,  6, -1, -1, -1,  7, -1,  6, -1,  6, -1,\n",
       "        7, -1,  6, -1,  7, -1,  7, -1, -1, -1, -1, -1, -1, -1, -1, -1, -1,\n",
       "        8, -1,  8, -1,  8, -1,  8, -1, -1, -1, -1, -1, -1, -1, -1, -1, -1,\n",
       "       -1, -1, -1, -1, -1, -1, -1, -1, -1, -1, -1, -1, -1], dtype=int64)"
      ]
     },
     "execution_count": 46,
     "metadata": {},
     "output_type": "execute_result"
    }
   ],
   "source": [
    "DBSCAN_clustered = x.copy()\n",
    "labels = DBS_clustering.labels_\n",
    "labels"
   ]
  },
  {
   "cell_type": "code",
   "execution_count": 100,
   "metadata": {},
   "outputs": [
    {
     "data": {
      "text/plain": [
       "9"
      ]
     },
     "execution_count": 100,
     "metadata": {},
     "output_type": "execute_result"
    }
   ],
   "source": [
    "n_clusters_ = len(set(labels)) - (1 if -1 in labels else 0)\n",
    "n_noise_ = list(labels).count(-1)\n",
    "n_clusters_"
   ]
  },
  {
   "cell_type": "markdown",
   "metadata": {
    "id": "6OiWPZoqjnxo"
   },
   "source": [
    "#### 2-12. 다음의 코드를 실행하여 DBSCAN의 결과를 확인하시오."
   ]
  },
  {
   "cell_type": "code",
   "execution_count": 47,
   "metadata": {
    "id": "jsF8uPSEkBwN"
   },
   "outputs": [
    {
     "ename": "NameError",
     "evalue": "name 'db' is not defined",
     "output_type": "error",
     "traceback": [
      "\u001b[1;31m---------------------------------------------------------------------------\u001b[0m",
      "\u001b[1;31mNameError\u001b[0m                                 Traceback (most recent call last)",
      "\u001b[1;32m<ipython-input-47-85fac456e4ab>\u001b[0m in \u001b[0;36m<module>\u001b[1;34m\u001b[0m\n\u001b[1;32m----> 1\u001b[1;33m \u001b[0my_means\u001b[0m \u001b[1;33m=\u001b[0m \u001b[0mdb\u001b[0m\u001b[1;33m.\u001b[0m\u001b[0mfit_predict\u001b[0m\u001b[1;33m(\u001b[0m\u001b[0mx\u001b[0m\u001b[1;33m)\u001b[0m\u001b[1;33m\u001b[0m\u001b[1;33m\u001b[0m\u001b[0m\n\u001b[0m\u001b[0;32m      2\u001b[0m \u001b[0mplt\u001b[0m\u001b[1;33m.\u001b[0m\u001b[0mfigure\u001b[0m\u001b[1;33m(\u001b[0m\u001b[0mfigsize\u001b[0m\u001b[1;33m=\u001b[0m\u001b[1;33m(\u001b[0m\u001b[1;36m7\u001b[0m\u001b[1;33m,\u001b[0m\u001b[1;36m5\u001b[0m\u001b[1;33m)\u001b[0m\u001b[1;33m)\u001b[0m\u001b[1;33m\u001b[0m\u001b[1;33m\u001b[0m\u001b[0m\n\u001b[0;32m      3\u001b[0m \u001b[0mplt\u001b[0m\u001b[1;33m.\u001b[0m\u001b[0mscatter\u001b[0m\u001b[1;33m(\u001b[0m\u001b[0mx\u001b[0m\u001b[1;33m[\u001b[0m\u001b[0my_means\u001b[0m \u001b[1;33m==\u001b[0m \u001b[1;36m0\u001b[0m\u001b[1;33m,\u001b[0m\u001b[1;36m0\u001b[0m\u001b[1;33m]\u001b[0m\u001b[1;33m,\u001b[0m \u001b[0mx\u001b[0m\u001b[1;33m[\u001b[0m\u001b[0my_means\u001b[0m \u001b[1;33m==\u001b[0m \u001b[1;36m0\u001b[0m\u001b[1;33m,\u001b[0m\u001b[1;36m1\u001b[0m\u001b[1;33m]\u001b[0m\u001b[1;33m,\u001b[0m \u001b[0ms\u001b[0m\u001b[1;33m=\u001b[0m \u001b[1;36m50\u001b[0m\u001b[1;33m,\u001b[0m \u001b[0mc\u001b[0m\u001b[1;33m=\u001b[0m \u001b[1;34m'pink'\u001b[0m\u001b[1;33m)\u001b[0m\u001b[1;33m\u001b[0m\u001b[1;33m\u001b[0m\u001b[0m\n\u001b[0;32m      4\u001b[0m \u001b[0mplt\u001b[0m\u001b[1;33m.\u001b[0m\u001b[0mscatter\u001b[0m\u001b[1;33m(\u001b[0m\u001b[0mx\u001b[0m\u001b[1;33m[\u001b[0m\u001b[0my_means\u001b[0m \u001b[1;33m==\u001b[0m \u001b[1;36m1\u001b[0m\u001b[1;33m,\u001b[0m\u001b[1;36m0\u001b[0m\u001b[1;33m]\u001b[0m\u001b[1;33m,\u001b[0m \u001b[0mx\u001b[0m\u001b[1;33m[\u001b[0m\u001b[0my_means\u001b[0m \u001b[1;33m==\u001b[0m \u001b[1;36m1\u001b[0m\u001b[1;33m,\u001b[0m\u001b[1;36m1\u001b[0m\u001b[1;33m]\u001b[0m\u001b[1;33m,\u001b[0m \u001b[0ms\u001b[0m\u001b[1;33m=\u001b[0m \u001b[1;36m50\u001b[0m\u001b[1;33m,\u001b[0m \u001b[0mc\u001b[0m\u001b[1;33m=\u001b[0m \u001b[1;34m'yellow'\u001b[0m\u001b[1;33m)\u001b[0m\u001b[1;33m\u001b[0m\u001b[1;33m\u001b[0m\u001b[0m\n\u001b[0;32m      5\u001b[0m \u001b[0mplt\u001b[0m\u001b[1;33m.\u001b[0m\u001b[0mscatter\u001b[0m\u001b[1;33m(\u001b[0m\u001b[0mx\u001b[0m\u001b[1;33m[\u001b[0m\u001b[0my_means\u001b[0m \u001b[1;33m==\u001b[0m \u001b[1;36m2\u001b[0m\u001b[1;33m,\u001b[0m\u001b[1;36m0\u001b[0m\u001b[1;33m]\u001b[0m\u001b[1;33m,\u001b[0m \u001b[0mx\u001b[0m\u001b[1;33m[\u001b[0m\u001b[0my_means\u001b[0m \u001b[1;33m==\u001b[0m \u001b[1;36m2\u001b[0m\u001b[1;33m,\u001b[0m\u001b[1;36m1\u001b[0m\u001b[1;33m]\u001b[0m\u001b[1;33m,\u001b[0m \u001b[0ms\u001b[0m\u001b[1;33m=\u001b[0m \u001b[1;36m50\u001b[0m\u001b[1;33m,\u001b[0m \u001b[0mc\u001b[0m\u001b[1;33m=\u001b[0m \u001b[1;34m'cyan'\u001b[0m\u001b[1;33m)\u001b[0m\u001b[1;33m\u001b[0m\u001b[1;33m\u001b[0m\u001b[0m\n",
      "\u001b[1;31mNameError\u001b[0m: name 'db' is not defined"
     ]
    }
   ],
   "source": [
    "y_means = db.fit_predict(x)\n",
    "plt.figure(figsize=(7,5))\n",
    "plt.scatter(x[y_means == 0,0], x[y_means == 0,1], s= 50, c= 'pink')\n",
    "plt.scatter(x[y_means == 1,0], x[y_means == 1,1], s= 50, c= 'yellow')\n",
    "plt.scatter(x[y_means == 2,0], x[y_means == 2,1], s= 50, c= 'cyan')\n",
    "plt.scatter(x[y_means == 3,0], x[y_means == 3,1], s= 50, c= 'magenta')\n",
    "plt.scatter(x[y_means == 4,0], x[y_means == 4,1], s= 50, c= 'orange')\n",
    "plt.scatter(x[y_means == 5,0], x[y_means == 5,1], s= 50, c= 'blue')\n",
    "plt.scatter(x[y_means == 6,0], x[y_means == 6,1], s= 50, c= 'red')\n",
    "plt.scatter(x[y_means == 7,0], x[y_means == 7,1], s= 50, c= 'black')\n",
    "plt.scatter(x[y_means == 8,0], x[y_means == 8,1], s= 50, c= 'violet')\n",
    "plt.xlabel('Annual Income in (1k)')\n",
    "plt.ylabel('Spending score from 1-100')\n",
    "plt.title('Clusters of data')\n",
    "plt.show()"
   ]
  },
  {
   "cell_type": "code",
   "execution_count": 48,
   "metadata": {},
   "outputs": [],
   "source": [
    "#여기서 db가 뭔지 잘 모르겠어요ㅠㅠ"
   ]
  },
  {
   "cell_type": "markdown",
   "metadata": {
    "id": "HME8g1wzkVU1"
   },
   "source": [
    "# 3 make_circles( )로 DBSCAN 적용하기 "
   ]
  },
  {
   "cell_type": "markdown",
   "metadata": {
    "id": "XyawxCbOmPW0"
   },
   "source": [
    "#### 3-1.아래 함수를 실행하시오<br/>클러스터 결과를 담은 DataFrame과 사이킷런의 Cluster 객체등을 인자로 받아 클러스터링 결과를 시각화하는 함수 "
   ]
  },
  {
   "cell_type": "code",
   "execution_count": 49,
   "metadata": {
    "id": "e8PyrQWvloB0"
   },
   "outputs": [],
   "source": [
    "def visualize_cluster_plot(clusterobj, dataframe, label_name, iscenter=True):\n",
    "    if iscenter :\n",
    "        centers = clusterobj.cluster_centers_\n",
    "        \n",
    "    unique_labels = np.unique(dataframe[label_name].values)\n",
    "    markers=['o', 's', '^', 'x', '*']\n",
    "    isNoise=False\n",
    "\n",
    "    for label in unique_labels:\n",
    "        label_cluster = dataframe[dataframe[label_name]==label]\n",
    "        if label == -1:\n",
    "            cluster_legend = 'Noise'\n",
    "            isNoise=True\n",
    "        else :\n",
    "            cluster_legend = 'Cluster '+str(label)\n",
    "        \n",
    "        plt.scatter(x=label_cluster['ftr1'], y=label_cluster['ftr2'], s=70,\\\n",
    "                    edgecolor='k', marker=markers[label], label=cluster_legend)\n",
    "        \n",
    "        if iscenter:\n",
    "            center_x_y = centers[label]\n",
    "            plt.scatter(x=center_x_y[0], y=center_x_y[1], s=250, color='white',\n",
    "                        alpha=0.9, edgecolor='k', marker=markers[label])\n",
    "            plt.scatter(x=center_x_y[0], y=center_x_y[1], s=70, color='k',\\\n",
    "                        edgecolor='k', marker='$%d$' % label)\n",
    "    if isNoise:\n",
    "        legend_loc='upper center'\n",
    "    else: legend_loc='upper right'\n",
    "    \n",
    "    plt.legend(loc=legend_loc)\n",
    "    plt.show()"
   ]
  },
  {
   "cell_type": "markdown",
   "metadata": {
    "id": "yx8u7KgrmcE3"
   },
   "source": [
    "#### 3-2.make_circles( ) 함수를 이용해 내부 원과 외부 원 형태로 된 2차원 데이터 세트를 생성하시오(n_samples=1000, noise=0.03, factor=0.5)"
   ]
  },
  {
   "cell_type": "code",
   "execution_count": 50,
   "metadata": {
    "id": "K8v1JyqykVpy"
   },
   "outputs": [
    {
     "data": {
      "image/png": "[encoded data removed]",
      "text/plain": [
       "<Figure size 432x288 with 1 Axes>"
      ]
     },
     "metadata": {
      "needs_background": "light"
     },
     "output_type": "display_data"
    }
   ],
   "source": [
    "from sklearn.datasets import make_circles\n",
    "\n",
    "X, y = make_circles(n_samples=1000, noise=0.03, factor=0.5)\n",
    "clusterDF = pd.DataFrame(data=X, columns=['ftr1', 'ftr2'])\n",
    "clusterDF['target'] = y\n",
    "\n",
    "visualize_cluster_plot(None, clusterDF, 'target', iscenter=False)"
   ]
  },
  {
   "cell_type": "markdown",
   "metadata": {
    "id": "ij_sZL3Vmyp_"
   },
   "source": [
    "#### 3-3 KMeans로 make_circles() 데이터 셋을 클러스터링 수행하시오(n_cluster=2, random_state=0)"
   ]
  },
  {
   "cell_type": "code",
   "execution_count": 51,
   "metadata": {
    "id": "zokubKKTltUt"
   },
   "outputs": [
    {
     "data": {
      "image/png": "[encoded data removed]",
      "text/plain": [
       "<Figure size 432x288 with 1 Axes>"
      ]
     },
     "metadata": {
      "needs_background": "light"
     },
     "output_type": "display_data"
    }
   ],
   "source": [
    "from sklearn.cluster import KMeans\n",
    "\n",
    "kmeans = KMeans(n_clusters=2, random_state=0)\n",
    "kmeans_labels = kmeans.fit_predict(X)\n",
    "clusterDF['kmeans_cluster'] = kmeans_labels\n",
    "\n",
    "visualize_cluster_plot(kmeans, clusterDF, 'kmeans_cluster', iscenter=True)"
   ]
  },
  {
   "cell_type": "markdown",
   "metadata": {
    "id": "M-Os-P-_nCa0"
   },
   "source": [
    "#### 3-4 GMM로 make_circles() 데이터 셋을 클러스터링 수행하시오(n_components=2, random_state=0)"
   ]
  },
  {
   "cell_type": "code",
   "execution_count": 52,
   "metadata": {
    "id": "NMvk_zh0lxMH"
   },
   "outputs": [
    {
     "data": {
      "image/png": "[encoded data removed]",
      "text/plain": [
       "<Figure size 432x288 with 1 Axes>"
      ]
     },
     "metadata": {
      "needs_background": "light"
     },
     "output_type": "display_data"
    }
   ],
   "source": [
    "from sklearn.mixture import GaussianMixture\n",
    "\n",
    "gmm = GaussianMixture(n_components=2, random_state=0)\n",
    "gmm_label = gmm.fit(X).predict(X)\n",
    "clusterDF['gmm_cluster'] = gmm_label\n",
    "\n",
    "visualize_cluster_plot(gmm, clusterDF, 'gmm_cluster', iscenter=False)"
   ]
  },
  {
   "cell_type": "markdown",
   "metadata": {
    "id": "cbCrPPuZnJsI"
   },
   "source": [
    "#### 3-5 DBSCAN로 make_circles() 데이터 셋을 클러스터링 수행하시오"
   ]
  },
  {
   "cell_type": "code",
   "execution_count": 53,
   "metadata": {
    "id": "7Z0lxEbul14y"
   },
   "outputs": [
    {
     "data": {
      "image/png": "[encoded data removed]",
      "text/plain": [
       "<Figure size 432x288 with 1 Axes>"
      ]
     },
     "metadata": {
      "needs_background": "light"
     },
     "output_type": "display_data"
    }
   ],
   "source": [
    "from sklearn.cluster import DBSCAN\n",
    "\n",
    "dbscan = DBSCAN(eps=0.2, min_samples=10, metric='euclidean')\n",
    "dbscan_labels = dbscan.fit_predict(X)\n",
    "clusterDF['dbscan_cluster'] = dbscan_labels\n",
    "\n",
    "visualize_cluster_plot(dbscan, clusterDF, 'dbscan_cluster', iscenter=False)"
   ]
  },
  {
   "cell_type": "markdown",
   "metadata": {},
   "source": [
    "## 4. 베이즈가우시안 혼합 모델 실습\n",
    "- 2번에서 사용한 데이터 사용"
   ]
  },
  {
   "cell_type": "markdown",
   "metadata": {},
   "source": [
    "#### 4-1. x를 clusterDF 데이터프레임으로 저장하시오.\n",
    "- columns=['ftr1', 'ftr2'] (교재 코드 참고)"
   ]
  },
  {
   "cell_type": "code",
   "execution_count": 54,
   "metadata": {},
   "outputs": [],
   "source": [
    "clusterDF=pd.DataFrame(data=x, columns=['ftr1', 'ftr2'])"
   ]
  },
  {
   "cell_type": "markdown",
   "metadata": {},
   "source": [
    "#### 4-2. 사이킷런의 베이즈가우시안 혼합 모델을 활용하여 x를 fit하시오.\n",
    "- n_components=20, random_state=33"
   ]
  },
  {
   "cell_type": "code",
   "execution_count": 56,
   "metadata": {},
   "outputs": [],
   "source": [
    "from sklearn.mixture import GaussianMixture"
   ]
  },
  {
   "cell_type": "markdown",
   "metadata": {},
   "source": [
    "#### 4-3. 불필요한 클러스터의 가중치를 0으로 잘 처리했는지 확인하시오."
   ]
  },
  {
   "cell_type": "code",
   "execution_count": null,
   "metadata": {},
   "outputs": [],
   "source": []
  },
  {
   "cell_type": "markdown",
   "metadata": {},
   "source": [
    "#### 4-4. 다음의 코드를 실행하여 visualize_cluster_plot 함수를 만들고 군집화 결과를 시각화하시오.\n",
    "- fit 결과를 clusterDF에 'bgm_label'로 추가"
   ]
  },
  {
   "cell_type": "code",
   "execution_count": null,
   "metadata": {},
   "outputs": [],
   "source": [
    "def visualize_cluster_plot(clusterobj, dataframe, label_name, iscenter=True):\n",
    "    if iscenter :\n",
    "        centers = clusterobj.cluster_centers_\n",
    "        \n",
    "    unique_labels = np.unique(dataframe[label_name].values)\n",
    "    markers=['o', '.', ',', 'x', '+', 'v', '^', '<', '>', 's', 'd', '8', 'D']\n",
    "    isNoise=False\n",
    "\n",
    "    for label in unique_labels:\n",
    "        label_cluster = dataframe[dataframe[label_name]==label]\n",
    "        if label == -1:\n",
    "            cluster_legend = 'Noise'\n",
    "            isNoise=True\n",
    "        else :\n",
    "            cluster_legend = 'Cluster '+str(label)\n",
    "        \n",
    "        plt.scatter(x=label_cluster['ftr1'], y=label_cluster['ftr2'], s=70,\\\n",
    "                    edgecolor='k', marker=markers[label], label=cluster_legend)\n",
    "        \n",
    "        if iscenter:\n",
    "            center_x_y = centers[label]\n",
    "            plt.scatter(x=center_x_y[0], y=center_x_y[1], s=250, color='white',\n",
    "                        alpha=0.9, edgecolor='k', marker=markers[label])\n",
    "            plt.scatter(x=center_x_y[0], y=center_x_y[1], s=70, color='k',\\\n",
    "                        edgecolor='k', marker='$%d$' % label)\n",
    "    if isNoise:\n",
    "        legend_loc='upper center'\n",
    "    else: legend_loc='upper right'\n",
    "    \n",
    "    plt.legend(loc=legend_loc)\n",
    "    plt.show()"
   ]
  },
  {
   "cell_type": "code",
   "execution_count": null,
   "metadata": {},
   "outputs": [],
   "source": []
  },
  {
   "cell_type": "markdown",
   "metadata": {
    "id": "d1z6VER8iLPa"
   },
   "source": [
    "## 5. 가우시안 혼합모델 실습\n",
    "- 올리베티 얼굴 데이터셋: 사람 40명의 얼굴 이미지 데이터 (인당 10장씩)"
   ]
  },
  {
   "cell_type": "code",
   "execution_count": null,
   "metadata": {
    "id": "81X81yDqiLPh",
    "outputId": "485ff3ef-7305-427a-bbc1-16e42f157111"
   },
   "outputs": [
    {
     "name": "stdout",
     "output_type": "stream",
     "text": [
      "downloading Olivetti faces from https://ndownloader.figshare.com/files/5976027 to C:\\Users\\lovel\\scikit_learn_data\n"
     ]
    }
   ],
   "source": [
    "#돌려주시면 됩니다!\n",
    "\n",
    "#데이터셋 불러오기\n",
    "from sklearn.datasets import fetch_olivetti_faces\n",
    "olivetti = fetch_olivetti_faces()\n",
    "\n",
    "%matplotlib inline\n",
    "import matplotlib.pyplot as plt\n",
    "import seaborn as sns; sns.set()\n",
    "import numpy as np\n",
    "\n",
    "#계층적 샘플링으로 데이터 나누기\n",
    "from sklearn.model_selection import StratifiedShuffleSplit\n",
    "\n",
    "strat_split = StratifiedShuffleSplit(n_splits=1, test_size=40, random_state=42)\n",
    "train_valid_idx, test_idx = next(strat_split.split(olivetti.data, olivetti.target))\n",
    "X_train_valid = olivetti.data[train_valid_idx]\n",
    "y_train_valid = olivetti.target[train_valid_idx]\n",
    "X_test = olivetti.data[test_idx]\n",
    "y_test = olivetti.target[test_idx]\n",
    "\n",
    "strat_split = StratifiedShuffleSplit(n_splits=1, test_size=80, random_state=43)\n",
    "train_idx, valid_idx = next(strat_split.split(X_train_valid, y_train_valid))\n",
    "X_train = X_train_valid[train_idx]\n",
    "y_train = y_train_valid[train_idx]\n",
    "X_valid = X_train_valid[valid_idx]\n",
    "y_valid = y_train_valid[valid_idx]"
   ]
  },
  {
   "cell_type": "markdown",
   "metadata": {
    "id": "5uUpCgtWiLPk"
   },
   "source": [
    "#### 5-1. pca 모듈로 X_train 분산을 99% 로 줄여주세요."
   ]
  },
  {
   "cell_type": "code",
   "execution_count": null,
   "metadata": {},
   "outputs": [],
   "source": []
  },
  {
   "cell_type": "markdown",
   "metadata": {
    "id": "LhXNQJ_qiLPm"
   },
   "source": [
    "#### 5-2. AIC, BIC 점수를 비교해 사이킷런의 GaussianMixture 모듈의 최적의 클러스터 개수를 찾아보겠습니다.\n",
    "- n_component를 1부터 15까지로 하여 각 클러스터 개수별 AIC, BIC 점수를 구하고 이를 plot으로 나타내세요.\n",
    "- random_state=33"
   ]
  },
  {
   "cell_type": "code",
   "execution_count": null,
   "metadata": {},
   "outputs": [],
   "source": []
  },
  {
   "cell_type": "markdown",
   "metadata": {
    "id": "1FlguGt2iLPn"
   },
   "source": [
    "#### 5-3. 최적 n_component 값을 넣어 gmm을 fit 시키고 알고리즘이 수렴했는지 확인해보세요."
   ]
  },
  {
   "cell_type": "code",
   "execution_count": null,
   "metadata": {},
   "outputs": [],
   "source": []
  }
 ],
 "metadata": {
  "colab": {
   "collapsed_sections": [
    "yaqk7dAEjKVO",
    "mDfOUP-rjN5M",
    "GgyB2LJWjQC_",
    "Got2FzSYjU4W",
    "I-u_8tzmjhsr",
    "2WfDqxDfjkec",
    "NX11T0ehjnzT",
    "0bnk3hIUjrRH",
    "B854nVJ3jufv",
    "DGSCRknlj0g9",
    "6OiWPZoqjnxo",
    "XyawxCbOmPW0",
    "yx8u7KgrmcE3",
    "ij_sZL3Vmyp_",
    "M-Os-P-_nCa0",
    "cbCrPPuZnJsI",
    "5uUpCgtWiLPk",
    "LhXNQJ_qiLPm",
    "1FlguGt2iLPn",
    "vu3kDq2WiLPq",
    "ElaF4v82iLPr",
    "CkBfQJ5_iLPs",
    "XxZWPVSiiLPt",
    "lwTMuKf8iLPu",
    "aSI8zkNWiLPv",
    "KlzA9W9oiLPv",
    "QL3KizpwiLPw",
    "2ONBiFnjiLPw",
    "w3WRz68xiLPx",
    "hpi1BuP9iLPx",
    "N2uuLsqRiLPy"
   ],
   "name": "복습과제_문제지.ipynb",
   "provenance": []
  },
  "kernelspec": {
   "display_name": "Python 3",
   "language": "python",
   "name": "python3"
  },
  "language_info": {
   "codemirror_mode": {
    "name": "ipython",
    "version": 3
   },
   "file_extension": ".py",
   "mimetype": "text/x-python",
   "name": "python",
   "nbconvert_exporter": "python",
   "pygments_lexer": "ipython3",
   "version": "3.8.8"
  }
 },
 "nbformat": 4,
 "nbformat_minor": 1
}
