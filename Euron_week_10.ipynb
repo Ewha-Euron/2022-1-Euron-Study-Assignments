{
  "nbformat": 4,
  "nbformat_minor": 0,
  "metadata": {
    "kernelspec": {
      "name": "python3",
      "display_name": "Python 3"
    },
    "colab": {
      "name": "Euron_week_10.ipynb",
      "provenance": [],
      "collapsed_sections": []
    }
  },
  "cells": [
    {
      "cell_type": "code",
      "metadata": {
        "colab": {
          "base_uri": "https://localhost:8080/"
        },
        "id": "x4DCCatIpfx5",
        "outputId": "29104f93-1916-467f-9ee4-e135b1b275cd"
      },
      "source": [
        "from google.colab import drive\n",
        "drive.mount('/content/drive')"
      ],
      "execution_count": null,
      "outputs": [
        {
          "output_type": "stream",
          "text": [
            "Mounted at /content/drive\n"
          ],
          "name": "stdout"
        }
      ]
    },
    {
      "cell_type": "code",
      "metadata": {
        "colab": {
          "base_uri": "https://localhost:8080/"
        },
        "id": "z2fmFoSAr3Z4",
        "outputId": "26a06de8-a4a9-4d14-c93c-140aa443ef1c"
      },
      "source": [
        "!pip install statsmodels==0.11.1\n",
        "!pip install fbprophet==0.7.1"
      ],
      "execution_count": null,
      "outputs": [
        {
          "output_type": "stream",
          "text": [
            "Collecting statsmodels==0.11.1\n",
            "\u001b[?25l  Downloading https://files.pythonhosted.org/packages/7b/6a/0bf4184c3fb6f9f43df997b88de5784b4cb2f6bd19a5dc213463971076cf/statsmodels-0.11.1-cp37-cp37m-manylinux1_x86_64.whl (8.7MB)\n",
            "\u001b[K     |████████████████████████████████| 8.7MB 5.6MB/s \n",
            "\u001b[?25hRequirement already satisfied: patsy>=0.5 in /usr/local/lib/python3.7/dist-packages (from statsmodels==0.11.1) (0.5.1)\n",
            "Requirement already satisfied: scipy>=1.0 in /usr/local/lib/python3.7/dist-packages (from statsmodels==0.11.1) (1.4.1)\n",
            "Requirement already satisfied: pandas>=0.21 in /usr/local/lib/python3.7/dist-packages (from statsmodels==0.11.1) (1.1.5)\n",
            "Requirement already satisfied: numpy>=1.14 in /usr/local/lib/python3.7/dist-packages (from statsmodels==0.11.1) (1.19.5)\n",
            "Requirement already satisfied: six in /usr/local/lib/python3.7/dist-packages (from patsy>=0.5->statsmodels==0.11.1) (1.15.0)\n",
            "Requirement already satisfied: python-dateutil>=2.7.3 in /usr/local/lib/python3.7/dist-packages (from pandas>=0.21->statsmodels==0.11.1) (2.8.1)\n",
            "Requirement already satisfied: pytz>=2017.2 in /usr/local/lib/python3.7/dist-packages (from pandas>=0.21->statsmodels==0.11.1) (2018.9)\n",
            "Installing collected packages: statsmodels\n",
            "  Found existing installation: statsmodels 0.10.2\n",
            "    Uninstalling statsmodels-0.10.2:\n",
            "      Successfully uninstalled statsmodels-0.10.2\n",
            "Successfully installed statsmodels-0.11.1\n",
            "Requirement already satisfied: fbprophet==0.7.1 in /usr/local/lib/python3.7/dist-packages (0.7.1)\n",
            "Requirement already satisfied: Cython>=0.22 in /usr/local/lib/python3.7/dist-packages (from fbprophet==0.7.1) (0.29.22)\n",
            "Requirement already satisfied: cmdstanpy==0.9.5 in /usr/local/lib/python3.7/dist-packages (from fbprophet==0.7.1) (0.9.5)\n",
            "Requirement already satisfied: pystan>=2.14 in /usr/local/lib/python3.7/dist-packages (from fbprophet==0.7.1) (2.19.1.1)\n",
            "Requirement already satisfied: numpy>=1.15.4 in /usr/local/lib/python3.7/dist-packages (from fbprophet==0.7.1) (1.19.5)\n",
            "Requirement already satisfied: pandas>=1.0.4 in /usr/local/lib/python3.7/dist-packages (from fbprophet==0.7.1) (1.1.5)\n",
            "Requirement already satisfied: matplotlib>=2.0.0 in /usr/local/lib/python3.7/dist-packages (from fbprophet==0.7.1) (3.2.2)\n",
            "Requirement already satisfied: LunarCalendar>=0.0.9 in /usr/local/lib/python3.7/dist-packages (from fbprophet==0.7.1) (0.0.9)\n",
            "Requirement already satisfied: convertdate>=2.1.2 in /usr/local/lib/python3.7/dist-packages (from fbprophet==0.7.1) (2.3.2)\n",
            "Requirement already satisfied: holidays>=0.10.2 in /usr/local/lib/python3.7/dist-packages (from fbprophet==0.7.1) (0.10.5.2)\n",
            "Requirement already satisfied: setuptools-git>=1.2 in /usr/local/lib/python3.7/dist-packages (from fbprophet==0.7.1) (1.2)\n",
            "Requirement already satisfied: python-dateutil>=2.8.0 in /usr/local/lib/python3.7/dist-packages (from fbprophet==0.7.1) (2.8.1)\n",
            "Requirement already satisfied: tqdm>=4.36.1 in /usr/local/lib/python3.7/dist-packages (from fbprophet==0.7.1) (4.41.1)\n",
            "Requirement already satisfied: pytz>=2017.2 in /usr/local/lib/python3.7/dist-packages (from pandas>=1.0.4->fbprophet==0.7.1) (2018.9)\n",
            "Requirement already satisfied: cycler>=0.10 in /usr/local/lib/python3.7/dist-packages (from matplotlib>=2.0.0->fbprophet==0.7.1) (0.10.0)\n",
            "Requirement already satisfied: pyparsing!=2.0.4,!=2.1.2,!=2.1.6,>=2.0.1 in /usr/local/lib/python3.7/dist-packages (from matplotlib>=2.0.0->fbprophet==0.7.1) (2.4.7)\n",
            "Requirement already satisfied: kiwisolver>=1.0.1 in /usr/local/lib/python3.7/dist-packages (from matplotlib>=2.0.0->fbprophet==0.7.1) (1.3.1)\n",
            "Requirement already satisfied: ephem>=3.7.5.3 in /usr/local/lib/python3.7/dist-packages (from LunarCalendar>=0.0.9->fbprophet==0.7.1) (3.7.7.1)\n",
            "Requirement already satisfied: pymeeus<=1,>=0.3.13 in /usr/local/lib/python3.7/dist-packages (from convertdate>=2.1.2->fbprophet==0.7.1) (0.5.11)\n",
            "Requirement already satisfied: six in /usr/local/lib/python3.7/dist-packages (from holidays>=0.10.2->fbprophet==0.7.1) (1.15.0)\n",
            "Requirement already satisfied: korean-lunar-calendar in /usr/local/lib/python3.7/dist-packages (from holidays>=0.10.2->fbprophet==0.7.1) (0.2.1)\n",
            "Requirement already satisfied: hijri-converter in /usr/local/lib/python3.7/dist-packages (from holidays>=0.10.2->fbprophet==0.7.1) (2.1.1)\n"
          ],
          "name": "stdout"
        }
      ]
    },
    {
      "cell_type": "code",
      "metadata": {
        "id": "yyFoOWXPpc8z"
      },
      "source": [
        "import numpy as np\n",
        "import pandas as pd\n",
        "import gc\n",
        "import math\n",
        "import os.path\n",
        "import time\n",
        "import matplotlib.pyplot as plt\n",
        "from datetime import timedelta, datetime\n",
        "from dateutil import parser\n",
        "from tqdm import tqdm\n",
        "import copy\n",
        "from statsmodels.tsa.arima.model import ARIMA\n",
        "from fbprophet import Prophet\n",
        "import warnings\n",
        "warnings.filterwarnings(\"ignore\")"
      ],
      "execution_count": null,
      "outputs": []
    },
    {
      "cell_type": "markdown",
      "metadata": {
        "id": "DbSjRtv9pc80"
      },
      "source": [
        "# 데이터 불러오기"
      ]
    },
    {
      "cell_type": "markdown",
      "metadata": {
        "id": "r1Gj0sBXpc81"
      },
      "source": [
        "## 1) read_csv"
      ]
    },
    {
      "cell_type": "code",
      "metadata": {
        "id": "zD66e_8opc81"
      },
      "source": [
        "data_path = '/content/drive/MyDrive/dacon'\n",
        "train_x_df = pd.read_csv(data_path  + \"/train_x_df.csv\")\n",
        "train_y_df = pd.read_csv(data_path  + \"/train_y_df.csv\")\n",
        "test_x_df = pd.read_csv(data_path  + \"/test_x_df.csv\")"
      ],
      "execution_count": null,
      "outputs": []
    },
    {
      "cell_type": "markdown",
      "metadata": {
        "id": "G9AMliBFpc81"
      },
      "source": [
        "## 2) numpy arrary로 변환하기"
      ]
    },
    {
      "cell_type": "code",
      "metadata": {
        "id": "37kkNub5pc82"
      },
      "source": [
        "def df2d_to_array3d(df_2d):\n",
        "    # 입력 받은 2차원 데이터 프레임을 3차원 numpy array로 변경하는 함수\n",
        "    feature_size = df_2d.iloc[:,2:].shape[1]\n",
        "    time_size = len(df_2d.time.value_counts())\n",
        "    sample_size = len(df_2d.sample_id.value_counts())\n",
        "    sample_index = df_2d.sample_id.value_counts().index\n",
        "    array_3d = df_2d.iloc[:,2:].values.reshape([sample_size, time_size, feature_size])\n",
        "    return array_3d"
      ],
      "execution_count": null,
      "outputs": []
    },
    {
      "cell_type": "code",
      "metadata": {
        "id": "yqy6-8Kbpc82"
      },
      "source": [
        "train_x_array = df2d_to_array3d(train_x_df)\n",
        "train_y_array = df2d_to_array3d(train_y_df)\n",
        "test_x_array = df2d_to_array3d(test_x_df)"
      ],
      "execution_count": null,
      "outputs": []
    },
    {
      "cell_type": "code",
      "metadata": {
        "colab": {
          "base_uri": "https://localhost:8080/"
        },
        "id": "iQwrvA8rpc83",
        "outputId": "171a698c-7fb2-43f4-a397-95b12dc2fb02"
      },
      "source": [
        "print(f'''\n",
        "train_x_array {train_x_array.shape}\n",
        "train_y_array {train_y_array.shape}\n",
        "test_x_array {test_x_array.shape}\n",
        "''')"
      ],
      "execution_count": null,
      "outputs": [
        {
          "output_type": "stream",
          "text": [
            "\n",
            "train_x_array (7362, 1380, 10)\n",
            "train_y_array (7362, 120, 10)\n",
            "test_x_array (529, 1380, 10)\n",
            "\n"
          ],
          "name": "stdout"
        }
      ]
    },
    {
      "cell_type": "markdown",
      "metadata": {
        "id": "k5q2658lpc84"
      },
      "source": [
        "## 3) 샘플 확인하기"
      ]
    },
    {
      "cell_type": "code",
      "metadata": {
        "id": "8i3KkEeepc84"
      },
      "source": [
        "def plot_series(x_series, y_series):\n",
        "    #입력 series와 출력 series를 연속적으로 연결하여 시각적으로 보여주는 코드 입니다.\n",
        "    plt.plot(x_series, label = 'input_series')\n",
        "    plt.plot(np.arange(len(x_series), len(x_series)+len(y_series)),\n",
        "             y_series, label = 'output_series')\n",
        "    plt.axhline(1, c = 'red')\n",
        "    plt.legend()"
      ],
      "execution_count": null,
      "outputs": []
    },
    {
      "cell_type": "code",
      "metadata": {
        "id": "lmkJhT6xyJUI"
      },
      "source": [
        "data_col_idx = 1 # 1 open, 2 high"
      ],
      "execution_count": null,
      "outputs": []
    },
    {
      "cell_type": "code",
      "metadata": {
        "id": "PnuEqVK5qgnw"
      },
      "source": [
        "import datetime\n",
        "start_time = '2021-01-31 00:00:00'\n",
        "start_dt = datetime.datetime.strptime(start_time, '%Y-%m-%d %H:%M:%S')"
      ],
      "execution_count": null,
      "outputs": []
    },
    {
      "cell_type": "markdown",
      "metadata": {
        "id": "T16uWgwi-fnh"
      },
      "source": [
        "두 모델 중 하나로만 사용하기에는 오차가 너무 컸고, 두 모델의 예측 결과의 max 값이<br> 실제 train set에서 유사한 결과가 나오는 경우가 많아서 이 방법을 사용하였습니다."
      ]
    },
    {
      "cell_type": "code",
      "metadata": {
        "colab": {
          "base_uri": "https://localhost:8080/",
          "height": 265
        },
        "id": "w1jd-2_j9O3d",
        "outputId": "135abd32-2b36-4e2e-858b-c182a9b8412f"
      },
      "source": [
        "idx = 1121\n",
        "x_series = train_x_array[idx,:,data_col_idx]\n",
        "y_series = train_y_array[idx,:,data_col_idx]\n",
        "\n",
        "model = ARIMA(x_series, order=(3,0,1))\n",
        "fit  = model.fit()\n",
        "preds1 = fit.predict(1381,1380+120, typ='levels')\n",
        "\n",
        "x_df = pd.DataFrame()\n",
        "x_df['ds'] = [start_dt + datetime.timedelta(minutes = time_min) for time_min in np.arange(1, x_series.shape[0]+1).tolist()]\n",
        "x_df['y'] = x_series.tolist()\n",
        "prophet = Prophet(seasonality_mode='multiplicative', \n",
        "                  yearly_seasonality=False,\n",
        "                  weekly_seasonality=False, daily_seasonality=True,\n",
        "                  changepoint_prior_scale=0.06)\n",
        "prophet.fit(x_df)\n",
        "\n",
        "future_data = prophet.make_future_dataframe(periods=120, freq='min')\n",
        "forecast_data = prophet.predict(future_data)\n",
        "forecast_data[['ds', 'yhat', 'yhat_lower', 'yhat_upper']].tail(5)\n",
        "\n",
        "pred_y = forecast_data.yhat.values[-120:]\n",
        "\n",
        "plot_series(x_series, y_series)\n",
        "plt.plot(np.arange(1380, 1380+120), preds1, label = 'ARIMA prediction')\n",
        "plt.plot(np.arange(1380, 1380+120), pred_y, label = 'Prophet prediction')\n",
        "plt.legend()\n",
        "plt.show()"
      ],
      "execution_count": null,
      "outputs": [
        {
          "output_type": "display_data",
          "data": {
            "image/png": "[encoded data removed]",
            "text/plain": [
              "<Figure size 432x288 with 1 Axes>"
            ]
          },
          "metadata": {
            "tags": [],
            "needs_background": "light"
          }
        }
      ]
    },
    {
      "cell_type": "code",
      "metadata": {
        "id": "pSfaf7lFMd4G"
      },
      "source": [
        "def array_to_submission(x_array, pred_array):\n",
        "    # 입력 x_arrry와 출력 pred_arry를 통해서 \n",
        "    # buy_quantitiy와 sell_time을 결정\n",
        "    submission = pd.DataFrame(np.zeros([pred_array.shape[0],2], np.int64),\n",
        "                columns = ['buy_quantity', 'sell_time'])\n",
        "    submission = submission.reset_index()\n",
        "    submission.loc[:, 'buy_quantity'] = 0.1\n",
        "    \n",
        "    buy_price = []\n",
        "    for idx, sell_time in enumerate(np.argmax(pred_array, axis = 1)):\n",
        "        buy_price.append(pred_array[idx, sell_time])\n",
        "    buy_price = np.array(buy_price)\n",
        "    # 105% 이상 상승한하고 예측한 sample에 대해서만 100% 매수\n",
        "    arr1 = (buy_price > 1.05) * 1\n",
        "    submission.loc[:, 'buy_quantity'] = arr1\n",
        "    # 모델이 예측값 중 최대 값에 해당하는 시간에 매도\n",
        "    submission['sell_time'] = np.argmax(pred_array, axis = 1)\n",
        "\n",
        "    submission.columns = ['sample_id','buy_quantity', 'sell_time']\n",
        "    return submission"
      ],
      "execution_count": null,
      "outputs": []
    },
    {
      "cell_type": "markdown",
      "metadata": {
        "id": "SgR-gqhmpc89"
      },
      "source": [
        "### <4> 투자 후 금액 계산하기"
      ]
    },
    {
      "cell_type": "code",
      "metadata": {
        "id": "Z7033aeGpc8-"
      },
      "source": [
        "def df2d_to_answer(df_2d):\n",
        "    # valid_y_df로부터\n",
        "    # open 가격 정보가 포함된\n",
        "    # [샘플 수, 120분] 크기의 \n",
        "    # 2차원 array를 반환하는 함수\n",
        "    feature_size = df_2d.iloc[:,2:].shape[1]\n",
        "    time_size = len(df_2d.time.value_counts())\n",
        "    sample_size = len(df_2d.sample_id.value_counts())\n",
        "    sample_index = df_2d.sample_id.value_counts().index\n",
        "    array_2d = df_2d.open.values.reshape([sample_size, time_size])\n",
        "    sample_index = list(sample_index)\n",
        "    return array_2d, sample_index"
      ],
      "execution_count": null,
      "outputs": []
    },
    {
      "cell_type": "markdown",
      "metadata": {
        "id": "dmeXYUE1pc8_"
      },
      "source": [
        "# test 데이터 학습하고 추론하기"
      ]
    },
    {
      "cell_type": "code",
      "metadata": {
        "colab": {
          "base_uri": "https://localhost:8080/"
        },
        "id": "4QVrQn_opc8_",
        "outputId": "ece09003-2719-4d5f-ec9b-fffd0c2a1c8f"
      },
      "source": [
        "test_pred_array = np.zeros([test_x_array.shape[0],\n",
        "                           120])\n",
        "for idx in tqdm(range(test_x_array.shape[0])):\n",
        "    try:\n",
        "        x_series = test_x_array[idx,:,data_col_idx]\n",
        "        fit = None\n",
        "        try:\n",
        "          model = ARIMA(x_series, order=(3,0,1))\n",
        "          fit  = model.fit()\n",
        "        except Exception as e:\n",
        "          model = ARIMA(x_series, order=(4,0,1))\n",
        "          fit  = model.fit()\n",
        "          \n",
        "        x_df = pd.DataFrame()\n",
        "        x_df['ds'] = [start_dt + datetime.timedelta(minutes = time_min) for time_min in np.arange(1, x_series.shape[0]+1).tolist()]\n",
        "        x_df['y'] = x_series.tolist()\n",
        "        prophet = Prophet(seasonality_mode='multiplicative', \n",
        "                          yearly_seasonality=False,\n",
        "                          weekly_seasonality=False, daily_seasonality=True,\n",
        "                          changepoint_prior_scale=0.06)\n",
        "        prophet.fit(x_df)\n",
        "\n",
        "        preds = fit.predict(1381,1380+120, typ='levels')\n",
        "\n",
        "        future_data = prophet.make_future_dataframe(periods=120, freq='min')\n",
        "        forecast_data = prophet.predict(future_data)\n",
        "        forecast_data[['ds', 'yhat', 'yhat_lower', 'yhat_upper']].tail(5)\n",
        "\n",
        "        pred_y = forecast_data.yhat.values[-120:]\n",
        "        pred_y_lower = forecast_data.yhat_lower.values[-120:]\n",
        "        pred_y_upper = forecast_data.yhat_upper.values[-120:]\n",
        "\n",
        "        max_two_model = np.maximum(pred_y, preds)\n",
        "\n",
        "        test_pred_array[idx,:] = max_two_model\n",
        "    except Exception as e:\n",
        "        print(repr(e))\n",
        "        print(idx, \" 샘플은 수렴하지 않습니다.\")\n",
        "        pass"
      ],
      "execution_count": null,
      "outputs": [
        {
          "output_type": "stream",
          "text": [
            "100%|██████████| 529/529 [54:12<00:00,  6.15s/it]\n"
          ],
          "name": "stderr"
        }
      ]
    },
    {
      "cell_type": "markdown",
      "metadata": {
        "id": "p14PbsG2pc9A"
      },
      "source": [
        "## 추론한 test_pred_array를 바탕으로 submission df 생성하기"
      ]
    },
    {
      "cell_type": "code",
      "metadata": {
        "id": "Xq8zvVmRpc9B"
      },
      "source": [
        "submission = array_to_submission(test_x_array, test_pred_array)"
      ],
      "execution_count": null,
      "outputs": []
    },
    {
      "cell_type": "code",
      "metadata": {
        "id": "fRTwzTiSPzDf",
        "colab": {
          "base_uri": "https://localhost:8080/"
        },
        "outputId": "fc213797-0f7f-4d8e-c33f-c5cc0ffbeded"
      },
      "source": [
        "submission.buy_quantity.value_counts() "
      ],
      "execution_count": null,
      "outputs": [
        {
          "output_type": "execute_result",
          "data": {
            "text/plain": [
              "0    348\n",
              "1    181\n",
              "Name: buy_quantity, dtype: int64"
            ]
          },
          "metadata": {
            "tags": []
          },
          "execution_count": 28
        }
      ]
    },
    {
      "cell_type": "code",
      "metadata": {
        "id": "iIVecsHSpc9B"
      },
      "source": [
        "submission.to_csv(data_path+\"/submission.csv\", index = False)"
      ],
      "execution_count": null,
      "outputs": []
    },
    {
      "cell_type": "code",
      "metadata": {
        "id": "x-VHVwrkv68C"
      },
      "source": [
        ""
      ],
      "execution_count": null,
      "outputs": []
    }
  ]
}