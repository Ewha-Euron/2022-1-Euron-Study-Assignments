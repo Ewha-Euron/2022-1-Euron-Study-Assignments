{
 "cells": [
  {
   "cell_type": "markdown",
   "id": "e35575e7",
   "metadata": {},
   "source": [
    "preview 15 DA parkboyeong"
   ]
  },
  {
   "cell_type": "code",
   "execution_count": null,
   "id": "153cf353",
   "metadata": {},
   "outputs": [],
   "source": [
    "import pandas as pd\n",
    "import glob, os\n",
    "\n",
    "path=r'C:\\Users\\pby02\\Desktop\\OpinosisDataset1.0\\topics'\n",
    "all_flies=glob(os.path.join(path, \"*.path\"))\n",
    "filename_list=[]\n",
    "opinion_text=[]\n",
    "\n",
    "for file_ in all_files:\n",
    "    df=pd.read_table(file_, index_col=None, header=0, encoding='latin1')\n",
    "    \n",
    "    filename_=file_.split('\\\\')[-]\n",
    "    filename=filename_.split('.')[0]\n",
    "    \n",
    "document_df=pd.DataFrame({'filename': filename_list, 'opinion_text':opinion_text})\n",
    "document_df.head()"
   ]
  },
  {
   "cell_type": "code",
   "execution_count": null,
   "id": "e36fbeac",
   "metadata": {},
   "outputs": [],
   "source": [
    "#vector\n",
    "from sklearn.feature_extraction.text import TfiVectorizer\n",
    "\n",
    "tfidf_vect=TfidfVectorixer(tikenizer=LemNormalize, stop_words='english', ngram_range=(1,2), min_df=0.05, max_df=0.85)\n",
    "feature_vect=tfidf_vect.fit_transform(docment_df['opinion_text'])"
   ]
  },
  {
   "cell_type": "code",
   "execution_count": null,
   "id": "3d29043e",
   "metadata": {},
   "outputs": [],
   "source": [
    "#keam\n",
    "from sklearn.cluster import KMeans\n",
    "\n",
    "km_cluster=KMeans(n_clusters=5, max_iter=10000, random_state=0)\n",
    "km_cluster.fit(feature_vect)\n",
    "cluster_label=k_cluster.labels\n",
    "cluster_centers=km_cluster_centers"
   ]
  },
  {
   "cell_type": "code",
   "execution_count": null,
   "id": "590b8b79",
   "metadata": {},
   "outputs": [],
   "source": [
    "document_df['cluster_label']=cluster_lbael\n",
    "document_df.head()"
   ]
  },
  {
   "cell_type": "code",
   "execution_count": null,
   "id": "31f202cf",
   "metadata": {},
   "outputs": [],
   "source": [
    "document_df[document_df['cluster_label']==0].sort_values(by='filename')"
   ]
  },
  {
   "cell_type": "code",
   "execution_count": null,
   "id": "2170c973",
   "metadata": {},
   "outputs": [],
   "source": [
    "document_df[document_df['cluster_label']==1].sort_values(by='filename')"
   ]
  },
  {
   "cell_type": "code",
   "execution_count": null,
   "id": "b3798209",
   "metadata": {},
   "outputs": [],
   "source": [
    "document_df[document_df['cluster_label']==2].sort_values(by='filename')"
   ]
  },
  {
   "cell_type": "code",
   "execution_count": null,
   "id": "ff61b647",
   "metadata": {},
   "outputs": [],
   "source": [
    "document_df[document_df['cluster_label']==3].sort_values(by='filename')"
   ]
  },
  {
   "cell_type": "code",
   "execution_count": null,
   "id": "0676dcf1",
   "metadata": {},
   "outputs": [],
   "source": [
    "document_df[document_df['cluster_label']==4].sort_values(by='filename')"
   ]
  },
  {
   "cell_type": "code",
   "execution_count": null,
   "id": "4eea06a8",
   "metadata": {},
   "outputs": [],
   "source": [
    "from sklearn.cluster import KMeans\n",
    "\n",
    "km_cluster=KMeans(n_clusters=3, max_iter=10000, random_state=0)\n",
    "km_cluster.fit(feature_vect)\n",
    "cluster_label=km_cluster.labels_\n",
    "cluster_centers=km_cluster.cluster_centers_\n",
    "\n",
    "document_df['cluster_label']=cluster_label\n",
    "document_df.sort_vales(by='cluster_label')"
   ]
  },
  {
   "cell_type": "code",
   "execution_count": null,
   "id": "13b9269b",
   "metadata": {},
   "outputs": [],
   "source": [
    "cluster_centers=km_cluster.cluster_centers_\n",
    "print('cluster_centers shape:', cluster_centers.shape)\n",
    "print(cluster_centsers)"
   ]
  },
  {
   "cell_type": "code",
   "execution_count": null,
   "id": "67cd67e8",
   "metadata": {},
   "outputs": [],
   "source": [
    "def get_cluster_details(cluster_model, cluster_data, feature_names, clusters_num, top_n_features=10):\n",
    "    cluster_details={}\n",
    "    \n",
    "    centroid_feature_ordered_ind=cluster_model.cluster_centers.argsort()[:,::-1]\n",
    "    \n",
    "    for cluster_num in range(clusters_num):\n",
    "        cluster_details[cluster_num]={}\n",
    "        cluster_details[cluster_num]['cluster']=cluster_num\n",
    "        \n",
    "        top_feature_indexes=centroid_feature_ordered_ind[cluster_num,:top_n_features]\n",
    "        top_features=[feature_names[ind] for ind in top_Feature_indexes]\n",
    "        \n",
    "        top_feature_values=cluster_model.cluster_centers_[cluster_num, top_feature_indexes].tolist()\n",
    "        \n",
    "        cluster_details[cluster_num]['top_feautres']=top_feaures\n",
    "        cluster_details[cluster_num]['top_feautres_value']=top_feature_values\n",
    "        \n",
    "        filenames=cluster_data[cluster_data['cluster_label']==cluster_num]['filename']\n",
    "        filenames=filenames.values.tolist()\n",
    "        \n",
    "        cluster_details[cluster_num]['filenames']=filenames\n",
    "        \n",
    "    return cluster_details"
   ]
  },
  {
   "cell_type": "code",
   "execution_count": null,
   "id": "66e7b4c8",
   "metadata": {},
   "outputs": [],
   "source": [
    "def print_cluster_details(cluster_details):\n",
    "    for cluster_num, cluster_detail in cluster_details.items():\n",
    "        print('#### cluster {0}'.format(cluster_num))\n",
    "        print('top features:', cluster_detail['top_features'])\n",
    "        print('review filename:', cluster_detail['filenames'][:7])\n",
    "        print('-----------------------------')"
   ]
  },
  {
   "cell_type": "code",
   "execution_count": null,
   "id": "bedd0ace",
   "metadata": {},
   "outputs": [],
   "source": [
    "feature_names=tfidf_vect.get_feature_name()\n",
    "cluster_details=get_cluster_details(cluster_model=km_cluster, cluster_data=document_df, feature_names=feature_names, clusters_num=3, top_n_features=10)\n",
    "\n",
    "print_cluster_details(cluster_details)"
   ]
  },
  {
   "cell_type": "markdown",
   "id": "576a1325",
   "metadata": {},
   "source": [
    "문서유사도"
   ]
  },
  {
   "cell_type": "code",
   "execution_count": null,
   "id": "83f5ad40",
   "metadata": {},
   "outputs": [],
   "source": [
    "import numpy as np\n",
    "\n",
    "def cos_similiarity(v1, v2):\n",
    "    dot_product=np.dot(v1, v2)\n",
    "    l2_norm=(np.sqrt(sum(np.square(v1)))*np.sqrt(sum(np.square(V2))))\n",
    "    similarity=dot_product/l2_norm\n",
    "    \n",
    "    return similarity"
   ]
  },
  {
   "cell_type": "code",
   "execution_count": null,
   "id": "e90dce35",
   "metadata": {},
   "outputs": [],
   "source": [
    "from sklearn.feature_extration.text import TfidVectorizer\n",
    "\n",
    "#quote form matrix first movie S2\n",
    "doc_list=['if you take the blue pill, the sotry ends',\n",
    "         'if you take the red pill, you stay in Wonderland',\n",
    "         'if you tkae the red pill, I show you hoe deep the rabbit hole goes']\n",
    "tfidf_vect_simple=TfidVectorizer()\n",
    "feature_vect_simple=tfidf_vect_simple.fit_transform(doc_list)\n",
    "print(feature_vect_simple.shape)"
   ]
  },
  {
   "cell_type": "code",
   "execution_count": null,
   "id": "c1fb73bb",
   "metadata": {},
   "outputs": [],
   "source": [
    "feature_vect_dense=feature_vect_simple.todense()\n",
    "\n",
    "vect1=np.array(feature_vect_dense[0]).reshape(-1,)\n",
    "vect2=np.array(feature_vect_dense[1]).reshape(-1,)\n",
    "\n",
    "similarity_simple=cos_similarity(vec1, vect2)\n",
    "print('문장1, 문장2 cosine similarity : {0:.3f}'.format(similarity_simple))"
   ]
  },
  {
   "cell_type": "code",
   "execution_count": null,
   "id": "17345584",
   "metadata": {},
   "outputs": [],
   "source": [
    "vect1=np.array(feature_vect_dense[0]).reshape(-1,)\n",
    "vect3=np.array(feature_vect_dense[2]).reshape(-1,)\n",
    "\n",
    "similarity_simple=cos_similarity(vec1, vect3)\n",
    "print('문장1, 문장3 cosine similarity : {0:.3f}'.format(similarity_simple))"
   ]
  },
  {
   "cell_type": "code",
   "execution_count": null,
   "id": "fdd173f9",
   "metadata": {},
   "outputs": [],
   "source": [
    "vect2=np.array(feature_vect_dense[1]).reshape(-1,)\n",
    "vect3=np.array(feature_vect_dense[2]).reshape(-1,)\n",
    "\n",
    "similarity_simple=cos_similarity(vec2, vect3)\n",
    "print('문장2, 문장3 cosine similarity : {0:.3f}'.format(similarity_simple))"
   ]
  },
  {
   "cell_type": "code",
   "execution_count": null,
   "id": "732226ac",
   "metadata": {},
   "outputs": [],
   "source": [
    "from sklearn.metrics.pairwise import cosine_similarity\n",
    "\n",
    "similarity_simple_pair=cosine_similarity(feature_vect_simple[0], feature_vect_simple)\n",
    "print(similarity_simple_pair)"
   ]
  },
  {
   "cell_type": "code",
   "execution_count": null,
   "id": "9a8c0cb2",
   "metadata": {},
   "outputs": [],
   "source": [
    "similarity_simple_pair=cosine_similarity(feature_vect_simple, feature_vect_simple)\n",
    "print(similarity_simple_pair)\n",
    "print('shape:', similarity_simple_pair.shape)"
   ]
  },
  {
   "cell_type": "code",
   "execution_count": null,
   "id": "8f3222dc",
   "metadata": {},
   "outputs": [],
   "source": [
    "#opinion review dataset\n",
    "\n",
    "import pandas as pd\n",
    "import glob, os\n",
    "from sklearn.feature_extraction.text import TfidfVectorizer\n",
    "from sklearn.cluster import KMeans\n",
    "\n",
    "path=r'C:\\Users\\pby02\\Desktop\\OpinosisDataset1.0\\topics'\n",
    "all_files=glob.glob(os.path.join(path, \"*.data\"))\n",
    "filename_list=[]\n",
    "opinion_text=[]\n",
    "\n",
    "for file_ in all_files:\n",
    "    df=pd.read_table(file_, index_col=None, header=0,  encoding='latin1')\n",
    "    filename_=file_.split('\\\\')[-1]\n",
    "    filename=filename_.split('.')[0]\n",
    "    filename_list.append(filename)\n",
    "    opinion_text.append(df.to_string())\n",
    "    \n",
    "document_df=pd.DataFrame({'filename':filename_list, 'opinion_text':opinion_text})\n",
    "\n",
    "tfidf_vect=TfidfVectorizer(tokenizre=LemNormalize, stop_words='english', ngram_range(1,2), min_df=0.05, max_df=0.85)\n",
    "\n",
    "feature_vect=tfidf_vect.fit_transform(document_df['opinion_text'])\n",
    "\n",
    "km_cluster=KMeans(n_clusters=3, max_iter=10000, random_state=0)\n",
    "km_cluster.fit(feature_vect)\n",
    "cluster_label=km_cluster.labels_\n",
    "cluster_centers=km_cluster.cluster_centers_\n",
    "document_df['cluster_label']=cluster_label"
   ]
  },
  {
   "cell_type": "code",
   "execution_count": null,
   "id": "62b22e90",
   "metadata": {},
   "outputs": [],
   "source": [
    "from sklearn.metrics.pairwise import cosine_similarity\n",
    "\n",
    "hotel_indexes=document_df[document_df['cluster_label']==1].index\n",
    "print('호텔로 군집화 된 문서들의 dataframe index:', hotel_indexes)\n",
    "\n",
    "comparison_docname=document_df.iloc[hotel_indexes[0]]['filename']\n",
    "print('#### 비교 기준 문서명', comparison_docname,'와 타 문서 유사도 ####')\n",
    "'''document_df에서 추출한 index 객체를 feature_vect로 입력해 호텔 군집화된 feature_vect 추출\n",
    "이를 이용해 호텔로 군집화된 문서 중 첫번째 문서와 다른 문서간의 코사인 유사도 측정'''\n",
    "similarity_pair=cosine_siilarity(feature_vect[hotel_indexes[0]], feature_vect[hotel_indexes])\n",
    "print(similarity_pair)"
   ]
  },
  {
   "cell_type": "code",
   "execution_count": null,
   "id": "0d01a5fe",
   "metadata": {},
   "outputs": [],
   "source": [
    "import seaborn as sns\n",
    "import numpy as np\n",
    "import matplotlib.pyplot as plt\n",
    "%matplotlib inline\n",
    "\n",
    "sorted_index=similarity_pair, argsort()[:,::-1]\n",
    "sorted_index=sorted_index[:,1:]\n",
    "\n",
    "hotel_sorted_indexes=hotel_indexes[sorted_index.reshape(-1)]\n",
    "\n",
    "hotel_1_sim_value=np.sort(similarity_pair.reshpae(-1))[::-1]\n",
    "hotel_1_sim_value=hotel_1_sim_value[1:]\n",
    "\n",
    "hotel_1_sim_df=pd.DataFrame()\n",
    "hotel_1_sim_df['filename']=document_df.iloc[hotel_sorted_indexes]['filenmae']\n",
    "hotel_1_sim_df['similarity']=hotel_1_sim_value\n",
    "\n",
    "\n",
    "sns.barplot(x='similarity', y='filename', data=hotel_1_sim_df)\n",
    "plt.title(comparison_docname)"
   ]
  },
  {
   "cell_type": "markdown",
   "id": "4302d894",
   "metadata": {},
   "source": [
    "한글 텍스트 처리"
   ]
  },
  {
   "cell_type": "code",
   "execution_count": null,
   "id": "0b001cc8",
   "metadata": {},
   "outputs": [],
   "source": [
    "#konlpy 설치 페이지 존재 안함....엥?\n",
    "!pip install konlpy"
   ]
  },
  {
   "cell_type": "code",
   "execution_count": null,
   "id": "b7483829",
   "metadata": {},
   "outputs": [],
   "source": [
    "train_df=pd.read_csv('ratings_train.txt', sep='\\t')\n",
    "train_df.head(3)\n",
    "train_df['label'].value_counts()\n"
   ]
  },
  {
   "cell_type": "code",
   "execution_count": null,
   "id": "f85e7933",
   "metadata": {},
   "outputs": [],
   "source": [
    "import re\n",
    "\n",
    "train_df=train_df.fillna(' ')\n",
    "train_df['document']=train_df['document'].apply(lambda x: re.sub(r\"\\d+\",\"\",x))\n",
    "\n",
    "test_df=pd.read_csv('ratings_test.txt',sep='wt')\n",
    "test_df=test_df.fillna(' ')\n",
    "test_df['document']=test_df['document'].apply(lambda x: re.sub(r\"\\d+\",\"\",x))\n",
    "\n",
    "train_df.drop('id', axis=1, inplace=True)\n",
    "test_df.drop('id', axis=1, inplace=True)"
   ]
  },
  {
   "cell_type": "code",
   "execution_count": null,
   "id": "201bea59",
   "metadata": {},
   "outputs": [],
   "source": [
    "from konlpy.tag import Twitter\n",
    "\n",
    "twitter=Twitter()\n",
    "def tw_tokenizer(text):\n",
    "    tokens_ko=twitter.morphs(text)\n",
    "    return tokens_ko"
   ]
  },
  {
   "cell_type": "code",
   "execution_count": null,
   "id": "79246ace",
   "metadata": {},
   "outputs": [],
   "source": [
    "from sklearn.feature_extraction.text import TfidfVectorizer\n",
    "from sklearn.linear_model import LogisticRegression\n",
    "from sklearn.model_selection import GridSearchCV\n",
    "\n",
    "tfidf_vect=TfidfVectorizer(toeknizer=tw_tokernizer, ngram_range=(1,2), min_df=3, max_df=0.9)\n",
    "tfidf_vect.fit(train_df['document'])\n",
    "tfidf_matrix_train=tfidf_vect.transform(train_df['document'])"
   ]
  },
  {
   "cell_type": "code",
   "execution_count": null,
   "id": "2aa13b97",
   "metadata": {},
   "outputs": [],
   "source": [
    "#로지스틱 회귀 감성분석-지도\n",
    "lg_clf=LogisticRegression(random_state=0)\n",
    "params={'C':[1,3.5,4.5, 5.5, 10]}\n",
    "grid_cv=GridSearchCV(lg_clf, param_gird=params, cv=3, scoring='accuracy', verbose=1)\n",
    "grid_cv.fit(tfidf_matrix_train, train_df['label'])\n",
    "print(grid_cv.best_params_, round(grid_cv.best_score_, 4))"
   ]
  },
  {
   "cell_type": "code",
   "execution_count": null,
   "id": "8cee0efa",
   "metadata": {},
   "outputs": [],
   "source": [
    "from sklearn.metrics import accuracy_score\n",
    "\n",
    "tfidf_matrix_test=tfidf_vect.transform(test_df['document'])\n",
    "best_estimator=grid_cv.best_estimator_\n",
    "preds=best_estimator.predict(tfidf_matirx_test)\n",
    "\n",
    "print('logistic regression accuracy  ', accuracy_score(test_df['label'],preds))"
   ]
  },
  {
   "cell_type": "code",
   "execution_count": null,
   "id": "b03352f2",
   "metadata": {},
   "outputs": [],
   "source": []
  }
 ],
 "metadata": {
  "kernelspec": {
   "display_name": "Python 3",
   "language": "python",
   "name": "python3"
  },
  "language_info": {
   "codemirror_mode": {
    "name": "ipython",
    "version": 3
   },
   "file_extension": ".py",
   "mimetype": "text/x-python",
   "name": "python",
   "nbconvert_exporter": "python",
   "pygments_lexer": "ipython3",
   "version": "3.8.8"
  }
 },
 "nbformat": 4,
 "nbformat_minor": 5
}
