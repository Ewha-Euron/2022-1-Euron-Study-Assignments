{
  "metadata": {
    "kernelspec": {
      "language": "python",
      "display_name": "Python 3",
      "name": "python3"
    },
    "language_info": {
      "name": "python",
      "version": "3.7.12",
      "mimetype": "text/x-python",
      "codemirror_mode": {
        "name": "ipython",
        "version": 3
      },
      "pygments_lexer": "ipython3",
      "nbconvert_exporter": "python",
      "file_extension": ".py"
    },
    "colab": {
      "name": "9주차 필사.ipynb",
      "provenance": []
    }
  },
  "nbformat_minor": 0,
  "nbformat": 4,
  "cells": [
    {
      "cell_type": "markdown",
      "source": [
        "## Hugging Face BERT + ROBERTA 사용하여 트윗 감정 분석하기"
      ],
      "metadata": {
        "id": "hUFc855UL3uo"
      }
    },
    {
      "cell_type": "markdown",
      "source": [
        "- 코로나 바이러스와 관련된 트윗 글들의 감정 분석 task이다.\n",
        "- 간단한 machine  learning 기법을 사용할 수도 있었으나 이 경우에는 BERT와 roBERTA를 사용하는 것이 성능이 좋다.\n",
        "- 트윗에서 링크를 제거하거나 문장의 처음과 끝에 있는 해시태그를 제거하거나 공백을 제거하는 등의 텍스트 전처리를 필요로 한다."
      ],
      "metadata": {
        "id": "VGV3mPjUL_OW"
      }
    },
    {
      "cell_type": "markdown",
      "source": [
        "# Sentiment Analysis Results:"
      ],
      "metadata": {
        "execution": {
          "iopub.status.busy": "2021-12-07T16:04:36.962613Z",
          "iopub.execute_input": "2021-12-07T16:04:36.962972Z",
          "iopub.status.idle": "2021-12-07T16:04:36.982915Z",
          "shell.execute_reply.started": "2021-12-07T16:04:36.962881Z",
          "shell.execute_reply": "2021-12-07T16:04:36.982267Z"
        },
        "id": "fa7BaCkrL3uz"
      }
    },
    {
      "cell_type": "markdown",
      "source": [
        "**The two algorithms performed quite well on the dataset, showing F1 and accuracy scores around 90%.**<br> Such high scores can only be achieved by performing a good cleaning of the original data, allowing the algorithms to learn the most from it.<br> **In particular, also a baseline Naive Bayes Classifier model has been trained to perform the sentiment classification, with a resulting accuracy and F1 around 70% (much lower than BERT)**.<br>\n",
        "**The training of BERT and roBERTa took around 11 minutes per epoch (for a total of 4 epochs) on GPU** per algorithm, since both **the transformers parameters (more than 100 million) have been fine tuned** to perform the best on the given dataset. It is possible to train only the last layer of the transformer without fine tuning the other parameters: however, this usually leads to inferior results compared to the fine tuning approach."
      ],
      "metadata": {
        "id": "yaLebuafL3u0"
      }
    },
    {
      "cell_type": "markdown",
      "source": [
        "<img src=\"https://i.imgur.com/htll3Fu.png\" width=\"900px\">"
      ],
      "metadata": {
        "id": "PQI4BtxZL3u1"
      }
    },
    {
      "cell_type": "code",
      "source": [
        "import os\n",
        "for dirname, _, filenames in os.walk('/kaggle/input'):\n",
        "    for filename in filenames:\n",
        "        print(os.path.join(dirname, filename))"
      ],
      "metadata": {
        "_uuid": "8f2839f25d086af736a60e9eeb907d3b93b6e0e5",
        "_cell_guid": "b1076dfc-b9ad-4769-8c92-a6c4dae69d19",
        "_kg_hide-input": true,
        "execution": {
          "iopub.status.busy": "2021-12-22T21:15:17.778826Z",
          "iopub.execute_input": "2021-12-22T21:15:17.779154Z",
          "iopub.status.idle": "2021-12-22T21:15:17.789097Z",
          "shell.execute_reply.started": "2021-12-22T21:15:17.779117Z",
          "shell.execute_reply": "2021-12-22T21:15:17.788146Z"
        },
        "trusted": true,
        "id": "DCmXdja8L3u3",
        "outputId": "82d3c726-ed36-4fd8-e2c7-7d1efe8490d5"
      },
      "execution_count": null,
      "outputs": [
        {
          "name": "stdout",
          "text": "/kaggle/input/covid-19-nlp-text-classification/Corona_NLP_test.csv\n/kaggle/input/covid-19-nlp-text-classification/Corona_NLP_train.csv\n",
          "output_type": "stream"
        }
      ]
    },
    {
      "cell_type": "code",
      "source": [
        "#general purpose packages\n",
        "import numpy as np\n",
        "import pandas as pd\n",
        "import tensorflow as tf\n",
        "import matplotlib.pyplot as plt\n",
        "import seaborn as sns\n",
        "\n",
        "#data processing\n",
        "import re, string\n",
        "import emoji\n",
        "import nltk\n",
        "\n",
        "from sklearn import preprocessing\n",
        "from imblearn.over_sampling import RandomOverSampler\n",
        "from sklearn.model_selection import train_test_split\n",
        "\n",
        "\n",
        "#Naive Bayes\n",
        "from sklearn.feature_extraction.text import CountVectorizer\n",
        "from sklearn.feature_extraction.text import TfidfTransformer\n",
        "from sklearn.naive_bayes import MultinomialNB\n",
        "\n",
        "#transformers\n",
        "from transformers import BertTokenizerFast\n",
        "from transformers import TFBertModel\n",
        "from transformers import RobertaTokenizerFast\n",
        "from transformers import TFRobertaModel\n",
        "\n",
        "#keras\n",
        "import tensorflow as tf\n",
        "from tensorflow import keras\n",
        "\n",
        "\n",
        "#metrics\n",
        "from sklearn.metrics import accuracy_score, f1_score\n",
        "from sklearn.metrics import classification_report, confusion_matrix\n",
        "\n",
        "#set seed for reproducibility\n",
        "seed=42\n",
        "\n",
        "#set style for plots\n",
        "sns.set_style(\"whitegrid\")\n",
        "sns.despine()\n",
        "plt.style.use(\"seaborn-whitegrid\")\n",
        "plt.rc(\"figure\", autolayout=True)\n",
        "plt.rc(\"axes\", labelweight=\"bold\", labelsize=\"large\", titleweight=\"bold\", titlepad=10)\n"
      ],
      "metadata": {
        "execution": {
          "iopub.status.busy": "2021-12-22T21:15:17.791452Z",
          "iopub.execute_input": "2021-12-22T21:15:17.791721Z",
          "iopub.status.idle": "2021-12-22T21:15:17.808398Z",
          "shell.execute_reply.started": "2021-12-22T21:15:17.791678Z",
          "shell.execute_reply": "2021-12-22T21:15:17.807697Z"
        },
        "trusted": true,
        "id": "lhlQabaYL3u7",
        "outputId": "20ca64e6-7f06-47d8-aec3-ea24e7b3135a"
      },
      "execution_count": null,
      "outputs": [
        {
          "output_type": "display_data",
          "data": {
            "text/plain": "<Figure size 432x288 with 0 Axes>"
          },
          "metadata": {}
        }
      ]
    },
    {
      "cell_type": "markdown",
      "source": [
        "## Custom functions definition:"
      ],
      "metadata": {
        "id": "EwGPyOe7L3u-"
      }
    },
    {
      "cell_type": "code",
      "source": [
        "def conf_matrix(y, y_pred, title):\n",
        "    fig, ax =plt.subplots(figsize=(5,5))\n",
        "    labels=['Negative', 'Neutral', 'Positive']\n",
        "    ax=sns.heatmap(confusion_matrix(y, y_pred), annot=True, cmap=\"Blues\", fmt='g', cbar=False, annot_kws={\"size\":25})\n",
        "    plt.title(title, fontsize=20)\n",
        "    ax.xaxis.set_ticklabels(labels, fontsize=17) \n",
        "    ax.yaxis.set_ticklabels(labels, fontsize=17)\n",
        "    ax.set_ylabel('Test', fontsize=20)\n",
        "    ax.set_xlabel('Predicted', fontsize=20)\n",
        "    plt.show()"
      ],
      "metadata": {
        "_kg_hide-input": true,
        "execution": {
          "iopub.status.busy": "2021-12-22T21:15:17.809938Z",
          "iopub.execute_input": "2021-12-22T21:15:17.810284Z",
          "iopub.status.idle": "2021-12-22T21:15:17.817316Z",
          "shell.execute_reply.started": "2021-12-22T21:15:17.810234Z",
          "shell.execute_reply": "2021-12-22T21:15:17.816401Z"
        },
        "trusted": true,
        "id": "WoptIoyUL3u_"
      },
      "execution_count": null,
      "outputs": []
    },
    {
      "cell_type": "markdown",
      "source": [
        "# Loading the data"
      ],
      "metadata": {
        "id": "VwNWtj0zL3vB"
      }
    },
    {
      "cell_type": "code",
      "source": [
        "df = pd.read_csv('../input/covid-19-nlp-text-classification/Corona_NLP_train.csv',encoding='ISO-8859-1')\n",
        "df_test = pd.read_csv('../input/covid-19-nlp-text-classification/Corona_NLP_test.csv')"
      ],
      "metadata": {
        "execution": {
          "iopub.status.busy": "2021-12-22T21:15:17.818782Z",
          "iopub.execute_input": "2021-12-22T21:15:17.819093Z",
          "iopub.status.idle": "2021-12-22T21:15:17.964962Z",
          "shell.execute_reply.started": "2021-12-22T21:15:17.819059Z",
          "shell.execute_reply": "2021-12-22T21:15:17.964233Z"
        },
        "trusted": true,
        "id": "ilkTZ-W-L3vC"
      },
      "execution_count": null,
      "outputs": []
    },
    {
      "cell_type": "markdown",
      "source": [
        "NOTE: UTF-8 encoding does not work on the dataset when loading it with pandas 'read_csv' function. This lead to the use of 'ISO-8859-1'/latin-1 encoding. <br>\n",
        "It will be found later that some special characters like apostrophes are turned into '\\x92', which will be taken care of during the data cleaning process.\n",
        "                                                                                                         "
      ],
      "metadata": {
        "id": "uI6SUJp2L3vD"
      }
    },
    {
      "cell_type": "code",
      "source": [
        "df.head()"
      ],
      "metadata": {
        "execution": {
          "iopub.status.busy": "2021-12-22T21:15:17.967262Z",
          "iopub.execute_input": "2021-12-22T21:15:17.967557Z",
          "iopub.status.idle": "2021-12-22T21:15:17.979179Z",
          "shell.execute_reply.started": "2021-12-22T21:15:17.967519Z",
          "shell.execute_reply": "2021-12-22T21:15:17.978344Z"
        },
        "trusted": true,
        "id": "05buzaejL3vE",
        "outputId": "7dfe025c-53f3-4d61-a1b6-bc6ea70eeee2"
      },
      "execution_count": null,
      "outputs": [
        {
          "execution_count": 89,
          "output_type": "execute_result",
          "data": {
            "text/plain": "   UserName  ScreenName   Location     TweetAt  \\\n0      3799       48751     London  16-03-2020   \n1      3800       48752         UK  16-03-2020   \n2      3801       48753  Vagabonds  16-03-2020   \n3      3802       48754        NaN  16-03-2020   \n4      3803       48755        NaN  16-03-2020   \n\n                                       OriginalTweet           Sentiment  \n0  @MeNyrbie @Phil_Gahan @Chrisitv https://t.co/i...             Neutral  \n1  advice Talk to your neighbours family to excha...            Positive  \n2  Coronavirus Australia: Woolworths to give elde...            Positive  \n3  My food stock is not the only one which is emp...            Positive  \n4  Me, ready to go at supermarket during the #COV...  Extremely Negative  ",
            "text/html": "<div>\n<style scoped>\n    .dataframe tbody tr th:only-of-type {\n        vertical-align: middle;\n    }\n\n    .dataframe tbody tr th {\n        vertical-align: top;\n    }\n\n    .dataframe thead th {\n        text-align: right;\n    }\n</style>\n<table border=\"1\" class=\"dataframe\">\n  <thead>\n    <tr style=\"text-align: right;\">\n      <th></th>\n      <th>UserName</th>\n      <th>ScreenName</th>\n      <th>Location</th>\n      <th>TweetAt</th>\n      <th>OriginalTweet</th>\n      <th>Sentiment</th>\n    </tr>\n  </thead>\n  <tbody>\n    <tr>\n      <th>0</th>\n      <td>3799</td>\n      <td>48751</td>\n      <td>London</td>\n      <td>16-03-2020</td>\n      <td>@MeNyrbie @Phil_Gahan @Chrisitv https://t.co/i...</td>\n      <td>Neutral</td>\n    </tr>\n    <tr>\n      <th>1</th>\n      <td>3800</td>\n      <td>48752</td>\n      <td>UK</td>\n      <td>16-03-2020</td>\n      <td>advice Talk to your neighbours family to excha...</td>\n      <td>Positive</td>\n    </tr>\n    <tr>\n      <th>2</th>\n      <td>3801</td>\n      <td>48753</td>\n      <td>Vagabonds</td>\n      <td>16-03-2020</td>\n      <td>Coronavirus Australia: Woolworths to give elde...</td>\n      <td>Positive</td>\n    </tr>\n    <tr>\n      <th>3</th>\n      <td>3802</td>\n      <td>48754</td>\n      <td>NaN</td>\n      <td>16-03-2020</td>\n      <td>My food stock is not the only one which is emp...</td>\n      <td>Positive</td>\n    </tr>\n    <tr>\n      <th>4</th>\n      <td>3803</td>\n      <td>48755</td>\n      <td>NaN</td>\n      <td>16-03-2020</td>\n      <td>Me, ready to go at supermarket during the #COV...</td>\n      <td>Extremely Negative</td>\n    </tr>\n  </tbody>\n</table>\n</div>"
          },
          "metadata": {}
        }
      ]
    },
    {
      "cell_type": "code",
      "source": [
        "df.info()"
      ],
      "metadata": {
        "execution": {
          "iopub.status.busy": "2021-12-22T21:15:17.980745Z",
          "iopub.execute_input": "2021-12-22T21:15:17.981042Z",
          "iopub.status.idle": "2021-12-22T21:15:18.011269Z",
          "shell.execute_reply.started": "2021-12-22T21:15:17.981005Z",
          "shell.execute_reply": "2021-12-22T21:15:18.010543Z"
        },
        "trusted": true,
        "id": "hOyNnKwNL3vF",
        "outputId": "7a1a8adc-2098-4259-de48-9e6e56ac8d84"
      },
      "execution_count": null,
      "outputs": [
        {
          "name": "stdout",
          "text": "<class 'pandas.core.frame.DataFrame'>\nRangeIndex: 41157 entries, 0 to 41156\nData columns (total 6 columns):\n #   Column         Non-Null Count  Dtype \n---  ------         --------------  ----- \n 0   UserName       41157 non-null  int64 \n 1   ScreenName     41157 non-null  int64 \n 2   Location       32567 non-null  object\n 3   TweetAt        41157 non-null  object\n 4   OriginalTweet  41157 non-null  object\n 5   Sentiment      41157 non-null  object\ndtypes: int64(2), object(4)\nmemory usage: 1.9+ MB\n",
          "output_type": "stream"
        }
      ]
    },
    {
      "cell_type": "markdown",
      "source": [
        "We convert the date column 'TweetAt' to pandas datetime format to improve its usability in the further analysis."
      ],
      "metadata": {
        "id": "NBighurYL3vG"
      }
    },
    {
      "cell_type": "code",
      "source": [
        "df['TweetAt'] = pd.to_datetime(df['TweetAt'])"
      ],
      "metadata": {
        "execution": {
          "iopub.status.busy": "2021-12-22T21:15:18.012419Z",
          "iopub.execute_input": "2021-12-22T21:15:18.012651Z",
          "iopub.status.idle": "2021-12-22T21:15:18.025611Z",
          "shell.execute_reply.started": "2021-12-22T21:15:18.012618Z",
          "shell.execute_reply": "2021-12-22T21:15:18.024835Z"
        },
        "trusted": true,
        "id": "jHpfO-B_L3vG"
      },
      "execution_count": null,
      "outputs": []
    },
    {
      "cell_type": "markdown",
      "source": [
        "## Duplicate tweets?"
      ],
      "metadata": {
        "id": "FyWgP3-fL3vH"
      }
    },
    {
      "cell_type": "code",
      "source": [
        "df.drop_duplicates(subset='OriginalTweet',inplace=True)"
      ],
      "metadata": {
        "execution": {
          "iopub.status.busy": "2021-12-22T21:15:18.026722Z",
          "iopub.execute_input": "2021-12-22T21:15:18.027027Z",
          "iopub.status.idle": "2021-12-22T21:15:18.067792Z",
          "shell.execute_reply.started": "2021-12-22T21:15:18.026991Z",
          "shell.execute_reply": "2021-12-22T21:15:18.067127Z"
        },
        "trusted": true,
        "id": "Ac4lqCxeL3vI"
      },
      "execution_count": null,
      "outputs": []
    },
    {
      "cell_type": "code",
      "source": [
        "df.info()"
      ],
      "metadata": {
        "execution": {
          "iopub.status.busy": "2021-12-22T21:15:18.069027Z",
          "iopub.execute_input": "2021-12-22T21:15:18.069285Z",
          "iopub.status.idle": "2021-12-22T21:15:18.094153Z",
          "shell.execute_reply.started": "2021-12-22T21:15:18.069251Z",
          "shell.execute_reply": "2021-12-22T21:15:18.092972Z"
        },
        "trusted": true,
        "id": "a9NacGOxL3vJ",
        "outputId": "3fed9a0c-d25b-4232-98a7-34f9f51efc25"
      },
      "execution_count": null,
      "outputs": [
        {
          "name": "stdout",
          "text": "<class 'pandas.core.frame.DataFrame'>\nInt64Index: 41157 entries, 0 to 41156\nData columns (total 6 columns):\n #   Column         Non-Null Count  Dtype         \n---  ------         --------------  -----         \n 0   UserName       41157 non-null  int64         \n 1   ScreenName     41157 non-null  int64         \n 2   Location       32567 non-null  object        \n 3   TweetAt        41157 non-null  datetime64[ns]\n 4   OriginalTweet  41157 non-null  object        \n 5   Sentiment      41157 non-null  object        \ndtypes: datetime64[ns](1), int64(2), object(3)\nmemory usage: 2.2+ MB\n",
          "output_type": "stream"
        }
      ]
    },
    {
      "cell_type": "markdown",
      "source": [
        "Good news, No duplicate tweets !"
      ],
      "metadata": {
        "id": "5noRXYVtL3vK"
      }
    },
    {
      "cell_type": "markdown",
      "source": [
        "# Tweets count by date"
      ],
      "metadata": {
        "id": "RID7fkxsL3vK"
      }
    },
    {
      "cell_type": "code",
      "source": [
        "tweets_per_day = df['TweetAt'].dt.strftime('%m-%d').value_counts().sort_index().reset_index(name='counts')"
      ],
      "metadata": {
        "_kg_hide-input": true,
        "execution": {
          "iopub.status.busy": "2021-12-22T21:15:18.096834Z",
          "iopub.execute_input": "2021-12-22T21:15:18.097078Z",
          "iopub.status.idle": "2021-12-22T21:15:18.380865Z",
          "shell.execute_reply.started": "2021-12-22T21:15:18.097047Z",
          "shell.execute_reply": "2021-12-22T21:15:18.380184Z"
        },
        "trusted": true,
        "id": "lnElfNgCL3vL"
      },
      "execution_count": null,
      "outputs": []
    },
    {
      "cell_type": "code",
      "source": [
        "plt.figure(figsize=(20,5))\n",
        "ax = sns.barplot(x='index', y='counts', data=tweets_per_day,edgecolor = 'black',ci=False, palette='Blues_r')\n",
        "plt.title('Tweets count by date')\n",
        "plt.yticks([])\n",
        "ax.bar_label(ax.containers[0])\n",
        "plt.ylabel('count')\n",
        "plt.xlabel('')\n",
        "plt.show()"
      ],
      "metadata": {
        "_kg_hide-input": true,
        "execution": {
          "iopub.status.busy": "2021-12-22T21:15:18.383206Z",
          "iopub.execute_input": "2021-12-22T21:15:18.383812Z",
          "iopub.status.idle": "2021-12-22T21:15:19.037172Z",
          "shell.execute_reply.started": "2021-12-22T21:15:18.383781Z",
          "shell.execute_reply": "2021-12-22T21:15:19.036514Z"
        },
        "trusted": true,
        "id": "R_eHEc9aL3vL",
        "outputId": "703efc5f-1cd2-4230-f3dd-6fba026a5384"
      },
      "execution_count": null,
      "outputs": [
        {
          "output_type": "display_data",
          "data": {
            "text/plain": "<Figure size 1440x360 with 1 Axes>",
            "image/png": "[encoded data removed]"
          },
          "metadata": {}
        }
      ]
    },
    {
      "cell_type": "markdown",
      "source": [
        "We notice that in the dataset there are some days without tweets in the dataset. Among the days with tweets, most of them are made around the end of March: from 18th of Match to the 26th of March."
      ],
      "metadata": {
        "id": "uCmpnjCoL3vM"
      }
    },
    {
      "cell_type": "markdown",
      "source": [
        "# Tweets per country and city"
      ],
      "metadata": {
        "id": "PoE2YhJmL3vM"
      }
    },
    {
      "cell_type": "code",
      "source": [
        "tweets_per_country = df['Location'].value_counts().loc[lambda x : x > 100].reset_index(name='counts')"
      ],
      "metadata": {
        "_kg_hide-input": true,
        "execution": {
          "iopub.status.busy": "2021-12-22T21:15:19.038417Z",
          "iopub.execute_input": "2021-12-22T21:15:19.038736Z",
          "iopub.status.idle": "2021-12-22T21:15:19.054194Z",
          "shell.execute_reply.started": "2021-12-22T21:15:19.038697Z",
          "shell.execute_reply": "2021-12-22T21:15:19.053557Z"
        },
        "trusted": true,
        "id": "cFQp-p6YL3vN"
      },
      "execution_count": null,
      "outputs": []
    },
    {
      "cell_type": "code",
      "source": [
        "plt.figure(figsize=(15,6))\n",
        "ax = sns.barplot(x='index', y='counts', data=tweets_per_country,edgecolor = 'black',ci=False, palette='Spectral')\n",
        "plt.title('Tweets count by country')\n",
        "plt.xticks(rotation=70)\n",
        "plt.yticks([])\n",
        "ax.bar_label(ax.containers[0])\n",
        "plt.ylabel('count')\n",
        "plt.xlabel('')\n",
        "plt.show()"
      ],
      "metadata": {
        "_kg_hide-input": true,
        "execution": {
          "iopub.status.busy": "2021-12-22T21:15:19.055623Z",
          "iopub.execute_input": "2021-12-22T21:15:19.055910Z",
          "iopub.status.idle": "2021-12-22T21:15:19.664941Z",
          "shell.execute_reply.started": "2021-12-22T21:15:19.055874Z",
          "shell.execute_reply": "2021-12-22T21:15:19.664287Z"
        },
        "trusted": true,
        "id": "d7Rv94NiL3vN",
        "outputId": "78dbaaad-f542-4830-8e9a-821bd51c9527"
      },
      "execution_count": null,
      "outputs": [
        {
          "output_type": "display_data",
          "data": {
            "text/plain": "<Figure size 1080x432 with 1 Axes>",
            "image/png": "[encoded data removed]"
          },
          "metadata": {}
        }
      ]
    },
    {
      "cell_type": "markdown",
      "source": [
        "The 'location' column contains both countries and cities. It could be interesting to separate cities and countries, however this wont be investigated in this work."
      ],
      "metadata": {
        "id": "Y268QEelL3vO"
      }
    },
    {
      "cell_type": "markdown",
      "source": [
        "# Tweets Deep Cleaning"
      ],
      "metadata": {
        "id": "_aR_20YeL3vO"
      }
    },
    {
      "cell_type": "markdown",
      "source": [
        "In the following, we will perform some data cleaning on the raw text of the tweets.<br>\n",
        "To simplify the analaysis, we will just keep the columns 'Originaltweet' (raw tweets) and the target column 'Sentiment'."
      ],
      "metadata": {
        "id": "TpJ8b_xVL3vP"
      }
    },
    {
      "cell_type": "code",
      "source": [
        "df = df[['OriginalTweet','Sentiment']]"
      ],
      "metadata": {
        "execution": {
          "iopub.status.busy": "2021-12-22T21:15:19.666416Z",
          "iopub.execute_input": "2021-12-22T21:15:19.666889Z",
          "iopub.status.idle": "2021-12-22T21:15:19.674072Z",
          "shell.execute_reply.started": "2021-12-22T21:15:19.666850Z",
          "shell.execute_reply": "2021-12-22T21:15:19.673268Z"
        },
        "trusted": true,
        "id": "mRNhzfKNL3vP"
      },
      "execution_count": null,
      "outputs": []
    },
    {
      "cell_type": "code",
      "source": [
        "df_test = df_test[['OriginalTweet','Sentiment']]"
      ],
      "metadata": {
        "execution": {
          "iopub.status.busy": "2021-12-22T21:15:19.675524Z",
          "iopub.execute_input": "2021-12-22T21:15:19.675834Z",
          "iopub.status.idle": "2021-12-22T21:15:19.685079Z",
          "shell.execute_reply.started": "2021-12-22T21:15:19.675777Z",
          "shell.execute_reply": "2021-12-22T21:15:19.684432Z"
        },
        "trusted": true,
        "id": "6CC4k3UQL3vQ"
      },
      "execution_count": null,
      "outputs": []
    },
    {
      "cell_type": "markdown",
      "source": [
        "**Then we define custom functions to clean the text of the tweets.**"
      ],
      "metadata": {
        "id": "mAFBASb-L3vQ"
      }
    },
    {
      "cell_type": "code",
      "source": [
        "##CUSTOM DEFINED FUNCTIONS TO CLEAN THE TWEETS\n",
        "\n",
        "#Clean emojis from text\n",
        "def strip_emoji(text):\n",
        "    return re.sub(emoji.get_emoji_regexp(), r\"\", text) #remove emoji\n",
        "\n",
        "#Remove punctuations, links, mentions and \\r\\n new line characters\n",
        "def strip_all_entities(text): \n",
        "    text = text.replace('\\r', '').replace('\\n', ' ').replace('\\n', ' ').lower() #remove \\n and \\r and lowercase\n",
        "    text = re.sub(r\"(?:\\@|https?\\://)\\S+\", \"\", text) #remove links and mentions\n",
        "    text = re.sub(r'[^\\x00-\\x7f]',r'', text) #remove non utf8/ascii characters such as '\\x9a\\x91\\x97\\x9a\\x97'\n",
        "    banned_list= string.punctuation + 'Ã'+'±'+'ã'+'¼'+'â'+'»'+'§'\n",
        "    table = str.maketrans('', '', banned_list)\n",
        "    text = text.translate(table)\n",
        "    return text\n",
        "\n",
        "#clean hashtags at the end of the sentence, and keep those in the middle of the sentence by removing just the # symbol\n",
        "def clean_hashtags(tweet):\n",
        "    new_tweet = \" \".join(word.strip() for word in re.split('#(?!(?:hashtag)\\b)[\\w-]+(?=(?:\\s+#[\\w-]+)*\\s*$)', tweet)) #remove last hashtags\n",
        "    new_tweet2 = \" \".join(word.strip() for word in re.split('#|_', new_tweet)) #remove hashtags symbol from words in the middle of the sentence\n",
        "    return new_tweet2\n",
        "\n",
        "#Filter special characters such as & and $ present in some words\n",
        "def filter_chars(a):\n",
        "    sent = []\n",
        "    for word in a.split(' '):\n",
        "        if ('$' in word) | ('&' in word):\n",
        "            sent.append('')\n",
        "        else:\n",
        "            sent.append(word)\n",
        "    return ' '.join(sent)\n",
        "\n",
        "def remove_mult_spaces(text): # remove multiple spaces\n",
        "    return re.sub(\"\\s\\s+\" , \" \", text)"
      ],
      "metadata": {
        "execution": {
          "iopub.status.busy": "2021-12-22T21:15:19.687068Z",
          "iopub.execute_input": "2021-12-22T21:15:19.687746Z",
          "iopub.status.idle": "2021-12-22T21:15:19.698296Z",
          "shell.execute_reply.started": "2021-12-22T21:15:19.687704Z",
          "shell.execute_reply": "2021-12-22T21:15:19.697572Z"
        },
        "trusted": true,
        "id": "qbjSjaE-L3vR"
      },
      "execution_count": null,
      "outputs": []
    },
    {
      "cell_type": "code",
      "source": [
        "texts_new = []\n",
        "for t in df.OriginalTweet:\n",
        "    texts_new.append(remove_mult_spaces(filter_chars(clean_hashtags(strip_all_entities(strip_emoji(t))))))"
      ],
      "metadata": {
        "execution": {
          "iopub.status.busy": "2021-12-22T21:15:19.701015Z",
          "iopub.execute_input": "2021-12-22T21:15:19.701235Z",
          "iopub.status.idle": "2021-12-22T21:16:17.869828Z",
          "shell.execute_reply.started": "2021-12-22T21:15:19.701201Z",
          "shell.execute_reply": "2021-12-22T21:16:17.869039Z"
        },
        "trusted": true,
        "id": "UmpSdQb9L3vS"
      },
      "execution_count": null,
      "outputs": []
    },
    {
      "cell_type": "code",
      "source": [
        "texts_new_test = []\n",
        "for t in df_test.OriginalTweet:\n",
        "    texts_new_test.append(remove_mult_spaces(filter_chars(clean_hashtags(strip_all_entities(strip_emoji(t))))))"
      ],
      "metadata": {
        "execution": {
          "iopub.status.busy": "2021-12-22T21:16:17.871222Z",
          "iopub.execute_input": "2021-12-22T21:16:17.871709Z",
          "iopub.status.idle": "2021-12-22T21:16:23.197999Z",
          "shell.execute_reply.started": "2021-12-22T21:16:17.871667Z",
          "shell.execute_reply": "2021-12-22T21:16:23.197295Z"
        },
        "trusted": true,
        "id": "1q0mchn1L3vS"
      },
      "execution_count": null,
      "outputs": []
    },
    {
      "cell_type": "markdown",
      "source": [
        "Now we can create a new column, for both train and test sets, to host the cleaned version of the tweets' text."
      ],
      "metadata": {
        "id": "usAUtf8SL3vT"
      }
    },
    {
      "cell_type": "code",
      "source": [
        "df['text_clean'] = texts_new\n",
        "df_test['text_clean'] = texts_new_test"
      ],
      "metadata": {
        "execution": {
          "iopub.status.busy": "2021-12-22T21:16:23.199371Z",
          "iopub.execute_input": "2021-12-22T21:16:23.199648Z",
          "iopub.status.idle": "2021-12-22T21:16:23.212118Z",
          "shell.execute_reply.started": "2021-12-22T21:16:23.199614Z",
          "shell.execute_reply": "2021-12-22T21:16:23.211257Z"
        },
        "trusted": true,
        "id": "-zoQxcfTL3vT"
      },
      "execution_count": null,
      "outputs": []
    },
    {
      "cell_type": "code",
      "source": [
        "df['text_clean'].head()"
      ],
      "metadata": {
        "execution": {
          "iopub.status.busy": "2021-12-22T21:16:23.213498Z",
          "iopub.execute_input": "2021-12-22T21:16:23.213745Z",
          "iopub.status.idle": "2021-12-22T21:16:23.227327Z",
          "shell.execute_reply.started": "2021-12-22T21:16:23.213708Z",
          "shell.execute_reply": "2021-12-22T21:16:23.226641Z"
        },
        "trusted": true,
        "id": "2NacObkkL3vU",
        "outputId": "23431c76-ce0d-4486-eec5-6745db2b0cde"
      },
      "execution_count": null,
      "outputs": [
        {
          "execution_count": 104,
          "output_type": "execute_result",
          "data": {
            "text/plain": "0                                              and and\n1    advice talk to your neighbours family to excha...\n2    coronavirus australia woolworths to give elder...\n3    my food stock is not the only one which is emp...\n4    me ready to go at supermarket during the covid...\nName: text_clean, dtype: object"
          },
          "metadata": {}
        }
      ]
    },
    {
      "cell_type": "code",
      "source": [
        "df_test['text_clean'].head()"
      ],
      "metadata": {
        "execution": {
          "iopub.status.busy": "2021-12-22T21:16:23.232295Z",
          "iopub.execute_input": "2021-12-22T21:16:23.232676Z",
          "iopub.status.idle": "2021-12-22T21:16:23.239727Z",
          "shell.execute_reply.started": "2021-12-22T21:16:23.232647Z",
          "shell.execute_reply": "2021-12-22T21:16:23.239023Z"
        },
        "trusted": true,
        "id": "eWPT_9t0L3vU",
        "outputId": "0ea57d44-4ca7-49c7-f48a-fd21d96755e5"
      },
      "execution_count": null,
      "outputs": [
        {
          "execution_count": 105,
          "output_type": "execute_result",
          "data": {
            "text/plain": "0    trending new yorkers encounter empty supermark...\n1    when i couldnt find hand sanitizer at fred mey...\n2    find out how you can protect yourself and love...\n3    panic buying hits newyork city as anxious shop...\n4    toiletpaper dunnypaper coronavirus coronavirus...\nName: text_clean, dtype: object"
          },
          "metadata": {}
        }
      ]
    },
    {
      "cell_type": "code",
      "source": [
        "df['text_clean'][1:8].values"
      ],
      "metadata": {
        "execution": {
          "iopub.status.busy": "2021-12-22T21:16:23.241001Z",
          "iopub.execute_input": "2021-12-22T21:16:23.241499Z",
          "iopub.status.idle": "2021-12-22T21:16:23.250236Z",
          "shell.execute_reply.started": "2021-12-22T21:16:23.241461Z",
          "shell.execute_reply": "2021-12-22T21:16:23.249487Z"
        },
        "trusted": true,
        "id": "dvCuGuCRL3vV",
        "outputId": "f719235a-cafa-4676-af87-f1189737341a"
      },
      "execution_count": null,
      "outputs": [
        {
          "execution_count": 106,
          "output_type": "execute_result",
          "data": {
            "text/plain": "array(['advice talk to your neighbours family to exchange phone numbers create contact list with phone numbers of neighbours schools employer chemist gp set up online shopping accounts if poss adequate supplies of regular meds but not over order',\n       'coronavirus australia woolworths to give elderly disabled dedicated shopping hours amid covid19 outbreak',\n       'my food stock is not the only one which is empty please dont panic there will be enough food for everyone if you do not take more than you need stay calm stay safe covid19france covid19 covid19 coronavirus confinement confinementotal confinementgeneral',\n       'me ready to go at supermarket during the covid19 outbreak not because im paranoid but because my food stock is litteraly empty the coronavirus is a serious thing but please dont panic it causes shortage coronavirusfrance restezchezvous stayathome confinement',\n       'as news of the regions first confirmed covid19 case came out of sullivan county last week people flocked to area stores to purchase cleaning supplies hand sanitizer food toilet paper and other goods reports',\n       'cashier at grocery store was sharing his insights on covid19 to prove his credibility he commented im in civics class so i know what im talking about',\n       'was at the supermarket today didnt buy toilet paper rebel toiletpapercrisis covid19'],\n      dtype=object)"
          },
          "metadata": {}
        }
      ]
    },
    {
      "cell_type": "markdown",
      "source": [
        "Moreover, we will also create a column to host the lenght of the cleaned text, to check if by cleaning the text we removed too much text or almost entirely the tweet!"
      ],
      "metadata": {
        "id": "8IQktiyKL3vV"
      }
    },
    {
      "cell_type": "code",
      "source": [
        "text_len = []\n",
        "for text in df.text_clean:\n",
        "    tweet_len = len(text.split())\n",
        "    text_len.append(tweet_len)"
      ],
      "metadata": {
        "execution": {
          "iopub.status.busy": "2021-12-22T21:16:23.252435Z",
          "iopub.execute_input": "2021-12-22T21:16:23.253023Z",
          "iopub.status.idle": "2021-12-22T21:16:23.346853Z",
          "shell.execute_reply.started": "2021-12-22T21:16:23.252986Z",
          "shell.execute_reply": "2021-12-22T21:16:23.346251Z"
        },
        "trusted": true,
        "id": "d0nyw-9EL3vW"
      },
      "execution_count": null,
      "outputs": []
    },
    {
      "cell_type": "code",
      "source": [
        "df['text_len'] = text_len"
      ],
      "metadata": {
        "execution": {
          "iopub.status.busy": "2021-12-22T21:16:23.347901Z",
          "iopub.execute_input": "2021-12-22T21:16:23.348129Z",
          "iopub.status.idle": "2021-12-22T21:16:23.369365Z",
          "shell.execute_reply.started": "2021-12-22T21:16:23.348096Z",
          "shell.execute_reply": "2021-12-22T21:16:23.368729Z"
        },
        "trusted": true,
        "id": "FEmRQkckL3vW"
      },
      "execution_count": null,
      "outputs": []
    },
    {
      "cell_type": "code",
      "source": [
        "text_len_test = []\n",
        "for text in df_test.text_clean:\n",
        "    tweet_len = len(text.split())\n",
        "    text_len_test.append(tweet_len)"
      ],
      "metadata": {
        "execution": {
          "iopub.status.busy": "2021-12-22T21:16:23.370787Z",
          "iopub.execute_input": "2021-12-22T21:16:23.371086Z",
          "iopub.status.idle": "2021-12-22T21:16:23.387455Z",
          "shell.execute_reply.started": "2021-12-22T21:16:23.371047Z",
          "shell.execute_reply": "2021-12-22T21:16:23.386622Z"
        },
        "trusted": true,
        "id": "KifGFVxvL3vW"
      },
      "execution_count": null,
      "outputs": []
    },
    {
      "cell_type": "code",
      "source": [
        "df_test['text_len'] = text_len_test"
      ],
      "metadata": {
        "execution": {
          "iopub.status.busy": "2021-12-22T21:16:23.388853Z",
          "iopub.execute_input": "2021-12-22T21:16:23.389440Z",
          "iopub.status.idle": "2021-12-22T21:16:23.398823Z",
          "shell.execute_reply.started": "2021-12-22T21:16:23.389402Z",
          "shell.execute_reply": "2021-12-22T21:16:23.398101Z"
        },
        "trusted": true,
        "id": "QroBxcW4L3vW"
      },
      "execution_count": null,
      "outputs": []
    },
    {
      "cell_type": "code",
      "source": [
        "plt.figure(figsize=(7,5))\n",
        "ax = sns.countplot(x='text_len', data=df[df['text_len']<10], palette='mako')\n",
        "plt.title('Training tweets with less than 10 words')\n",
        "plt.yticks([])\n",
        "ax.bar_label(ax.containers[0])\n",
        "plt.ylabel('count')\n",
        "plt.xlabel('')\n",
        "plt.show()"
      ],
      "metadata": {
        "_kg_hide-input": true,
        "execution": {
          "iopub.status.busy": "2021-12-22T21:16:23.400127Z",
          "iopub.execute_input": "2021-12-22T21:16:23.400721Z",
          "iopub.status.idle": "2021-12-22T21:16:23.670878Z",
          "shell.execute_reply.started": "2021-12-22T21:16:23.400676Z",
          "shell.execute_reply": "2021-12-22T21:16:23.670210Z"
        },
        "trusted": true,
        "id": "K3XxB6sQL3vX",
        "outputId": "59e4000a-00a7-4b27-8014-dff80b4ce5cf"
      },
      "execution_count": null,
      "outputs": [
        {
          "output_type": "display_data",
          "data": {
            "text/plain": "<Figure size 504x360 with 1 Axes>",
            "image/png": "[encoded data removed]"
          },
          "metadata": {}
        }
      ]
    },
    {
      "cell_type": "code",
      "source": [
        "plt.figure(figsize=(7,5))\n",
        "ax = sns.countplot(x='text_len', data=df_test[df_test['text_len']<10], palette='mako')\n",
        "plt.title('Test tweets with less than 10 words')\n",
        "plt.yticks([])\n",
        "ax.bar_label(ax.containers[0])\n",
        "plt.ylabel('count')\n",
        "plt.xlabel('')\n",
        "plt.show()"
      ],
      "metadata": {
        "_kg_hide-input": true,
        "execution": {
          "iopub.status.busy": "2021-12-22T21:16:23.672187Z",
          "iopub.execute_input": "2021-12-22T21:16:23.672665Z",
          "iopub.status.idle": "2021-12-22T21:16:23.926009Z",
          "shell.execute_reply.started": "2021-12-22T21:16:23.672624Z",
          "shell.execute_reply": "2021-12-22T21:16:23.925218Z"
        },
        "trusted": true,
        "id": "g2K7ouYzL3vX",
        "outputId": "89390559-70cf-4595-809a-9c8f022f6324"
      },
      "execution_count": null,
      "outputs": [
        {
          "output_type": "display_data",
          "data": {
            "text/plain": "<Figure size 504x360 with 1 Axes>",
            "image/png": "[encoded data removed]"
          },
          "metadata": {}
        }
      ]
    },
    {
      "cell_type": "markdown",
      "source": [
        "As we can see, there are lots of cleaned tweets with 0 words: this is due to the cleaning performed before. This means that some tweets contained only mentions, hashtags and links, which have been removed. We will drop these empty tweets and also those with less than 5 words."
      ],
      "metadata": {
        "id": "F5H_tWWML3vX"
      }
    },
    {
      "cell_type": "code",
      "source": [
        "print(f\" DF SHAPE: {df.shape}\")\n",
        "print(f\" DF TEST SHAPE: {df_test.shape}\")"
      ],
      "metadata": {
        "execution": {
          "iopub.status.busy": "2021-12-22T21:16:23.927254Z",
          "iopub.execute_input": "2021-12-22T21:16:23.927515Z",
          "iopub.status.idle": "2021-12-22T21:16:23.935987Z",
          "shell.execute_reply.started": "2021-12-22T21:16:23.927480Z",
          "shell.execute_reply": "2021-12-22T21:16:23.935269Z"
        },
        "trusted": true,
        "id": "TMmXaPFRL3vY",
        "outputId": "72f6252a-dcae-4ceb-9d2d-375baf831ecc"
      },
      "execution_count": null,
      "outputs": [
        {
          "name": "stdout",
          "text": " DF SHAPE: (41157, 4)\n DF TEST SHAPE: (3798, 4)\n",
          "output_type": "stream"
        }
      ]
    },
    {
      "cell_type": "code",
      "source": [
        "df = df[df['text_len'] > 4]"
      ],
      "metadata": {
        "execution": {
          "iopub.status.busy": "2021-12-22T21:16:23.937463Z",
          "iopub.execute_input": "2021-12-22T21:16:23.937742Z",
          "iopub.status.idle": "2021-12-22T21:16:23.947934Z",
          "shell.execute_reply.started": "2021-12-22T21:16:23.937695Z",
          "shell.execute_reply": "2021-12-22T21:16:23.947188Z"
        },
        "trusted": true,
        "id": "nHKpzkYuL3vY"
      },
      "execution_count": null,
      "outputs": []
    },
    {
      "cell_type": "code",
      "source": [
        "df_test = df_test[df_test['text_len'] > 4]"
      ],
      "metadata": {
        "execution": {
          "iopub.status.busy": "2021-12-22T21:16:23.949457Z",
          "iopub.execute_input": "2021-12-22T21:16:23.949722Z",
          "iopub.status.idle": "2021-12-22T21:16:23.956516Z",
          "shell.execute_reply.started": "2021-12-22T21:16:23.949679Z",
          "shell.execute_reply": "2021-12-22T21:16:23.955817Z"
        },
        "trusted": true,
        "id": "KrZ1qItuL3vY"
      },
      "execution_count": null,
      "outputs": []
    },
    {
      "cell_type": "code",
      "source": [
        "print(f\" DF SHAPE: {df.shape}\")\n",
        "print(f\" DF TEST SHAPE: {df_test.shape}\")"
      ],
      "metadata": {
        "execution": {
          "iopub.status.busy": "2021-12-22T21:16:23.957889Z",
          "iopub.execute_input": "2021-12-22T21:16:23.958147Z",
          "iopub.status.idle": "2021-12-22T21:16:23.965132Z",
          "shell.execute_reply.started": "2021-12-22T21:16:23.958113Z",
          "shell.execute_reply": "2021-12-22T21:16:23.964401Z"
        },
        "trusted": true,
        "id": "0zQRXPWQL3vY",
        "outputId": "08c4f9d7-9059-4e39-81e6-bc694fa27b11"
      },
      "execution_count": null,
      "outputs": [
        {
          "name": "stdout",
          "text": " DF SHAPE: (40935, 4)\n DF TEST SHAPE: (3792, 4)\n",
          "output_type": "stream"
        }
      ]
    },
    {
      "cell_type": "markdown",
      "source": [
        "## Training data deeper cleaning"
      ],
      "metadata": {
        "id": "vrz73lu2L3vZ"
      }
    },
    {
      "cell_type": "markdown",
      "source": [
        "Let's perform a further cleaning checking the tokenizer version of the sentences."
      ],
      "metadata": {
        "id": "Dw3qPOFOL3vZ"
      }
    },
    {
      "cell_type": "markdown",
      "source": [
        "First, we import the BERT tokenizer."
      ],
      "metadata": {
        "id": "JdkctF62L3vZ"
      }
    },
    {
      "cell_type": "code",
      "source": [
        "tokenizer = BertTokenizerFast.from_pretrained('bert-base-uncased')"
      ],
      "metadata": {
        "_kg_hide-output": true,
        "execution": {
          "iopub.status.busy": "2021-12-22T21:16:23.966349Z",
          "iopub.execute_input": "2021-12-22T21:16:23.966874Z",
          "iopub.status.idle": "2021-12-22T21:16:30.505565Z",
          "shell.execute_reply.started": "2021-12-22T21:16:23.966837Z",
          "shell.execute_reply": "2021-12-22T21:16:30.504847Z"
        },
        "trusted": true,
        "id": "EJVMlizWL3va"
      },
      "execution_count": null,
      "outputs": []
    },
    {
      "cell_type": "code",
      "source": [
        "token_lens = []\n",
        "\n",
        "for txt in df['text_clean'].values:\n",
        "    tokens = tokenizer.encode(txt, max_length=512, truncation=True)\n",
        "    token_lens.append(len(tokens))\n",
        "    \n",
        "max_len=np.max(token_lens)"
      ],
      "metadata": {
        "execution": {
          "iopub.status.busy": "2021-12-22T21:16:30.506822Z",
          "iopub.execute_input": "2021-12-22T21:16:30.507117Z",
          "iopub.status.idle": "2021-12-22T21:16:38.608135Z",
          "shell.execute_reply.started": "2021-12-22T21:16:30.507082Z",
          "shell.execute_reply": "2021-12-22T21:16:38.607250Z"
        },
        "trusted": true,
        "id": "8HDKU3FTL3va"
      },
      "execution_count": null,
      "outputs": []
    },
    {
      "cell_type": "code",
      "source": [
        "print(f\"MAX TOKENIZED SENTENCE LENGTH: {max_len}\")"
      ],
      "metadata": {
        "execution": {
          "iopub.status.busy": "2021-12-22T21:16:38.612489Z",
          "iopub.execute_input": "2021-12-22T21:16:38.614497Z",
          "iopub.status.idle": "2021-12-22T21:16:38.622543Z",
          "shell.execute_reply.started": "2021-12-22T21:16:38.614458Z",
          "shell.execute_reply": "2021-12-22T21:16:38.621788Z"
        },
        "trusted": true,
        "id": "KXac-6GaL3va",
        "outputId": "b761bbf7-5743-4781-af26-b66d5eb5a7c2"
      },
      "execution_count": null,
      "outputs": [
        {
          "name": "stdout",
          "text": "MAX TOKENIZED SENTENCE LENGTH: 100\n",
          "output_type": "stream"
        }
      ]
    },
    {
      "cell_type": "markdown",
      "source": [
        "Let's check the long tokenized sentences (with more than 80 tokens ):"
      ],
      "metadata": {
        "execution": {
          "iopub.status.busy": "2021-12-07T12:49:48.842045Z",
          "iopub.execute_input": "2021-12-07T12:49:48.842301Z",
          "iopub.status.idle": "2021-12-07T12:49:48.848445Z",
          "shell.execute_reply.started": "2021-12-07T12:49:48.842267Z",
          "shell.execute_reply": "2021-12-07T12:49:48.847098Z"
        },
        "id": "CY5__79lL3vb"
      }
    },
    {
      "cell_type": "code",
      "source": [
        "token_lens = []\n",
        "\n",
        "for i,txt in enumerate(df['text_clean'].values):\n",
        "    tokens = tokenizer.encode(txt, max_length=512, truncation=True)\n",
        "    token_lens.append(len(tokens))\n",
        "    if len(tokens)>80:\n",
        "        print(f\"INDEX: {i}, TEXT: {txt}\")  "
      ],
      "metadata": {
        "execution": {
          "iopub.status.busy": "2021-12-22T21:16:38.627275Z",
          "iopub.execute_input": "2021-12-22T21:16:38.627927Z",
          "iopub.status.idle": "2021-12-22T21:16:45.918973Z",
          "shell.execute_reply.started": "2021-12-22T21:16:38.627890Z",
          "shell.execute_reply": "2021-12-22T21:16:45.918256Z"
        },
        "trusted": true,
        "id": "d0c2xtMJL3vb",
        "outputId": "09147870-598b-4566-8180-9ca3fb5a92e6"
      },
      "execution_count": null,
      "outputs": [
        {
          "name": "stdout",
          "text": "INDEX: 1622, TEXT: zsah policie proti spekulantm s roukami na mj popud hejtman steckho kraje ve spoluprci s podle krizovho zkona zajistil tm 700 tisrouek od firmy kter je mla dodat na zdravotnkm ale na posledn chvli se snaila navyovat cenu spolutozvladneme\nINDEX: 13623, TEXT: hoy aplaudo a mi segunda familia aplaudoanuestrosheroes aquellos con los que he compartido tantas noches de trabajo y tanta alegra s que como siempre dan todo por el bien de su comunidad presidente por ellos tambin cuarentenanacionalya cuidemosalosquecuidan\nINDEX: 16548, TEXT: bir mddettir spermarketlerin lojistik hizmeti avusturya ordusu desteiyle yaplyor dn corona tedavisi iin 22 milyon luk bir aratrma gelitirme btesi aklad hkmet geen hafta da 35 milyon luk 2 yardm paketi aklanmt viyanadan haberler bu kadar\nINDEX: 36953, TEXT: 11 nisan cumartesi itibariyle bbnin tm hizmetleri sokaa kma serbestisi olanlar iin devam edecek halk ekmek ve hamidiye su 100 retime geti bb tm stanbulun gda ihtiyacna yetecek kapasitededir halkmz sakin olsun ve gvende hissetsin ltfen herkes evine dnsn\n",
          "output_type": "stream"
        }
      ]
    },
    {
      "cell_type": "markdown",
      "source": [
        "These sentences are not in english. They should be dropped."
      ],
      "metadata": {
        "id": "xPAu8WifL3vc"
      }
    },
    {
      "cell_type": "code",
      "source": [
        "df['token_lens'] = token_lens"
      ],
      "metadata": {
        "execution": {
          "iopub.status.busy": "2021-12-22T21:16:45.920127Z",
          "iopub.execute_input": "2021-12-22T21:16:45.920514Z",
          "iopub.status.idle": "2021-12-22T21:16:45.942482Z",
          "shell.execute_reply.started": "2021-12-22T21:16:45.920472Z",
          "shell.execute_reply": "2021-12-22T21:16:45.941845Z"
        },
        "trusted": true,
        "id": "SEjjzINwL3vc"
      },
      "execution_count": null,
      "outputs": []
    },
    {
      "cell_type": "code",
      "source": [
        "df = df.sort_values(by='token_lens', ascending=False)\n",
        "df.head(20)"
      ],
      "metadata": {
        "execution": {
          "iopub.status.busy": "2021-12-22T21:16:45.943569Z",
          "iopub.execute_input": "2021-12-22T21:16:45.943812Z",
          "iopub.status.idle": "2021-12-22T21:16:45.966583Z",
          "shell.execute_reply.started": "2021-12-22T21:16:45.943779Z",
          "shell.execute_reply": "2021-12-22T21:16:45.965943Z"
        },
        "trusted": true,
        "id": "nPx25Vd6L3vd",
        "outputId": "535c3e6c-7459-49a4-f0f2-e6f36b667578"
      },
      "execution_count": null,
      "outputs": [
        {
          "execution_count": 122,
          "output_type": "execute_result",
          "data": {
            "text/plain": "                                           OriginalTweet           Sentiment  \\\n1638   ZÃ¡sah policie proti spekulant?m s rouÂkami. ...             Neutral   \n37156  11 Nisan Cumartesi itibariyle ?BBÂnin tÃ¼m hi...             Neutral   \n16632  Bir mÃ¼ddettir sÃ¼permarketlerin lojistik hizm...             Neutral   \n13691  Hoy aplaudo a mi segunda familia #AplaudoANues...             Neutral   \n27005  Supermercados Econo confirman que un empleado ...             Neutral   \n14593  Na, wer war denn da am Werk? Gestern Nachmitta...  Extremely Negative   \n28899  Kindly contact Us bamy global merchandise for ...            Positive   \n11213  Keine WertgegenstÃ¤nde im Fahrzeug lassen! - D...            Negative   \n4844   Impct of #coronavirus i hve sen hw civilizd pp...  Extremely Negative   \n18913  #CroozefmNews \\r\\r\\nPresident Museveni has ord...  Extremely Negative   \n30206  #LDA City Lahore Residential Files Prices Upda...             Neutral   \n26678  Eine wahre #CoronaGeschichte:\\r\\r\\n\\r\\r\\nWenn ...             Neutral   \n12389  Okay, so I just checked the drug prices for #P...            Positive   \n1697   I work at a grocery store.\\r\\r\\nWe wont get an...            Positive   \n8730   ?Bitte anschauen! (1/2)\\r\\r\\n\\r\\r\\nEmotionaler...            Negative   \n14582  hiked prices in the face of the Covid-19 crise...            Negative   \n36305  Sterile disposable anti bacterial wet wipes an...            Negative   \n36306  For sell Sterile disposable anti bacterial wet...            Negative   \n9238   Hi @Zomato I felt hungry loggd in ur app tryd ...  Extremely Positive   \n40778  #Covid_19 2days Stay-at-home activities\\r\\r\\nU...             Neutral   \n\n                                              text_clean  text_len  token_lens  \n1638   zsah policie proti spekulantm s roukami na mj ...        39         100  \n37156  11 nisan cumartesi itibariyle bbnin tm hizmetl...        39          98  \n16632  bir mddettir spermarketlerin lojistik hizmeti ...        36          92  \n13691  hoy aplaudo a mi segunda familia aplaudoanuest...        38          84  \n27005  supermercados econo confirman que un empleado ...        39          80  \n14593  na wer war denn da am werk gestern nachmittag ...        37          80  \n28899  kindly contact us bamy global merchandise for ...        37          80  \n11213  keine wertgegenstnde im fahrzeug lassen diesen...        33          79  \n4844   impct of coronavirus i hve sen hw civilizd ppl...        48          79  \n18913  croozefmnews president museveni has ordered th...        35          79  \n30206  lda city lahore residential files prices updat...        43          78  \n26678  eine wahre coronageschichte wenn dir an der su...        29          78  \n12389  okay so i just checked the drug prices for pla...        35          77  \n1697   i work at a grocery store we wont get any toil...        37          77  \n8730   bitte anschauen 12 emotionaler aufruf von geha...        36          77  \n14582  hiked prices in the face of the covid19 crises...        47          77  \n36305  sterile disposable anti bacterial wet wipes an...        31          76  \n36306  for sell sterile disposable anti bacterial wet...        32          75  \n9238   hi i felt hungry loggd in ur app tryd to add 4...        55          75  \n40778  covid19 2days stayathome activities up 630am f...        37          75  ",
            "text/html": "<div>\n<style scoped>\n    .dataframe tbody tr th:only-of-type {\n        vertical-align: middle;\n    }\n\n    .dataframe tbody tr th {\n        vertical-align: top;\n    }\n\n    .dataframe thead th {\n        text-align: right;\n    }\n</style>\n<table border=\"1\" class=\"dataframe\">\n  <thead>\n    <tr style=\"text-align: right;\">\n      <th></th>\n      <th>OriginalTweet</th>\n      <th>Sentiment</th>\n      <th>text_clean</th>\n      <th>text_len</th>\n      <th>token_lens</th>\n    </tr>\n  </thead>\n  <tbody>\n    <tr>\n      <th>1638</th>\n      <td>ZÃ¡sah policie proti spekulant?m s rouÂkami. ...</td>\n      <td>Neutral</td>\n      <td>zsah policie proti spekulantm s roukami na mj ...</td>\n      <td>39</td>\n      <td>100</td>\n    </tr>\n    <tr>\n      <th>37156</th>\n      <td>11 Nisan Cumartesi itibariyle ?BBÂnin tÃ¼m hi...</td>\n      <td>Neutral</td>\n      <td>11 nisan cumartesi itibariyle bbnin tm hizmetl...</td>\n      <td>39</td>\n      <td>98</td>\n    </tr>\n    <tr>\n      <th>16632</th>\n      <td>Bir mÃ¼ddettir sÃ¼permarketlerin lojistik hizm...</td>\n      <td>Neutral</td>\n      <td>bir mddettir spermarketlerin lojistik hizmeti ...</td>\n      <td>36</td>\n      <td>92</td>\n    </tr>\n    <tr>\n      <th>13691</th>\n      <td>Hoy aplaudo a mi segunda familia #AplaudoANues...</td>\n      <td>Neutral</td>\n      <td>hoy aplaudo a mi segunda familia aplaudoanuest...</td>\n      <td>38</td>\n      <td>84</td>\n    </tr>\n    <tr>\n      <th>27005</th>\n      <td>Supermercados Econo confirman que un empleado ...</td>\n      <td>Neutral</td>\n      <td>supermercados econo confirman que un empleado ...</td>\n      <td>39</td>\n      <td>80</td>\n    </tr>\n    <tr>\n      <th>14593</th>\n      <td>Na, wer war denn da am Werk? Gestern Nachmitta...</td>\n      <td>Extremely Negative</td>\n      <td>na wer war denn da am werk gestern nachmittag ...</td>\n      <td>37</td>\n      <td>80</td>\n    </tr>\n    <tr>\n      <th>28899</th>\n      <td>Kindly contact Us bamy global merchandise for ...</td>\n      <td>Positive</td>\n      <td>kindly contact us bamy global merchandise for ...</td>\n      <td>37</td>\n      <td>80</td>\n    </tr>\n    <tr>\n      <th>11213</th>\n      <td>Keine WertgegenstÃ¤nde im Fahrzeug lassen! - D...</td>\n      <td>Negative</td>\n      <td>keine wertgegenstnde im fahrzeug lassen diesen...</td>\n      <td>33</td>\n      <td>79</td>\n    </tr>\n    <tr>\n      <th>4844</th>\n      <td>Impct of #coronavirus i hve sen hw civilizd pp...</td>\n      <td>Extremely Negative</td>\n      <td>impct of coronavirus i hve sen hw civilizd ppl...</td>\n      <td>48</td>\n      <td>79</td>\n    </tr>\n    <tr>\n      <th>18913</th>\n      <td>#CroozefmNews \\r\\r\\nPresident Museveni has ord...</td>\n      <td>Extremely Negative</td>\n      <td>croozefmnews president museveni has ordered th...</td>\n      <td>35</td>\n      <td>79</td>\n    </tr>\n    <tr>\n      <th>30206</th>\n      <td>#LDA City Lahore Residential Files Prices Upda...</td>\n      <td>Neutral</td>\n      <td>lda city lahore residential files prices updat...</td>\n      <td>43</td>\n      <td>78</td>\n    </tr>\n    <tr>\n      <th>26678</th>\n      <td>Eine wahre #CoronaGeschichte:\\r\\r\\n\\r\\r\\nWenn ...</td>\n      <td>Neutral</td>\n      <td>eine wahre coronageschichte wenn dir an der su...</td>\n      <td>29</td>\n      <td>78</td>\n    </tr>\n    <tr>\n      <th>12389</th>\n      <td>Okay, so I just checked the drug prices for #P...</td>\n      <td>Positive</td>\n      <td>okay so i just checked the drug prices for pla...</td>\n      <td>35</td>\n      <td>77</td>\n    </tr>\n    <tr>\n      <th>1697</th>\n      <td>I work at a grocery store.\\r\\r\\nWe wont get an...</td>\n      <td>Positive</td>\n      <td>i work at a grocery store we wont get any toil...</td>\n      <td>37</td>\n      <td>77</td>\n    </tr>\n    <tr>\n      <th>8730</th>\n      <td>?Bitte anschauen! (1/2)\\r\\r\\n\\r\\r\\nEmotionaler...</td>\n      <td>Negative</td>\n      <td>bitte anschauen 12 emotionaler aufruf von geha...</td>\n      <td>36</td>\n      <td>77</td>\n    </tr>\n    <tr>\n      <th>14582</th>\n      <td>hiked prices in the face of the Covid-19 crise...</td>\n      <td>Negative</td>\n      <td>hiked prices in the face of the covid19 crises...</td>\n      <td>47</td>\n      <td>77</td>\n    </tr>\n    <tr>\n      <th>36305</th>\n      <td>Sterile disposable anti bacterial wet wipes an...</td>\n      <td>Negative</td>\n      <td>sterile disposable anti bacterial wet wipes an...</td>\n      <td>31</td>\n      <td>76</td>\n    </tr>\n    <tr>\n      <th>36306</th>\n      <td>For sell Sterile disposable anti bacterial wet...</td>\n      <td>Negative</td>\n      <td>for sell sterile disposable anti bacterial wet...</td>\n      <td>32</td>\n      <td>75</td>\n    </tr>\n    <tr>\n      <th>9238</th>\n      <td>Hi @Zomato I felt hungry loggd in ur app tryd ...</td>\n      <td>Extremely Positive</td>\n      <td>hi i felt hungry loggd in ur app tryd to add 4...</td>\n      <td>55</td>\n      <td>75</td>\n    </tr>\n    <tr>\n      <th>40778</th>\n      <td>#Covid_19 2days Stay-at-home activities\\r\\r\\nU...</td>\n      <td>Neutral</td>\n      <td>covid19 2days stayathome activities up 630am f...</td>\n      <td>37</td>\n      <td>75</td>\n    </tr>\n  </tbody>\n</table>\n</div>"
          },
          "metadata": {}
        }
      ]
    },
    {
      "cell_type": "code",
      "source": [
        "df = df.iloc[12:]\n",
        "df.head()"
      ],
      "metadata": {
        "execution": {
          "iopub.status.busy": "2021-12-22T21:16:45.967696Z",
          "iopub.execute_input": "2021-12-22T21:16:45.968414Z",
          "iopub.status.idle": "2021-12-22T21:16:45.980023Z",
          "shell.execute_reply.started": "2021-12-22T21:16:45.968366Z",
          "shell.execute_reply": "2021-12-22T21:16:45.979250Z"
        },
        "trusted": true,
        "id": "wBI7RpsiL3ve",
        "outputId": "32fbac66-7eb8-489b-80a0-4cf6da616d3b"
      },
      "execution_count": null,
      "outputs": [
        {
          "execution_count": 123,
          "output_type": "execute_result",
          "data": {
            "text/plain": "                                           OriginalTweet Sentiment  \\\n12389  Okay, so I just checked the drug prices for #P...  Positive   \n1697   I work at a grocery store.\\r\\r\\nWe wont get an...  Positive   \n8730   ?Bitte anschauen! (1/2)\\r\\r\\n\\r\\r\\nEmotionaler...  Negative   \n14582  hiked prices in the face of the Covid-19 crise...  Negative   \n36305  Sterile disposable anti bacterial wet wipes an...  Negative   \n\n                                              text_clean  text_len  token_lens  \n12389  okay so i just checked the drug prices for pla...        35          77  \n1697   i work at a grocery store we wont get any toil...        37          77  \n8730   bitte anschauen 12 emotionaler aufruf von geha...        36          77  \n14582  hiked prices in the face of the covid19 crises...        47          77  \n36305  sterile disposable anti bacterial wet wipes an...        31          76  ",
            "text/html": "<div>\n<style scoped>\n    .dataframe tbody tr th:only-of-type {\n        vertical-align: middle;\n    }\n\n    .dataframe tbody tr th {\n        vertical-align: top;\n    }\n\n    .dataframe thead th {\n        text-align: right;\n    }\n</style>\n<table border=\"1\" class=\"dataframe\">\n  <thead>\n    <tr style=\"text-align: right;\">\n      <th></th>\n      <th>OriginalTweet</th>\n      <th>Sentiment</th>\n      <th>text_clean</th>\n      <th>text_len</th>\n      <th>token_lens</th>\n    </tr>\n  </thead>\n  <tbody>\n    <tr>\n      <th>12389</th>\n      <td>Okay, so I just checked the drug prices for #P...</td>\n      <td>Positive</td>\n      <td>okay so i just checked the drug prices for pla...</td>\n      <td>35</td>\n      <td>77</td>\n    </tr>\n    <tr>\n      <th>1697</th>\n      <td>I work at a grocery store.\\r\\r\\nWe wont get an...</td>\n      <td>Positive</td>\n      <td>i work at a grocery store we wont get any toil...</td>\n      <td>37</td>\n      <td>77</td>\n    </tr>\n    <tr>\n      <th>8730</th>\n      <td>?Bitte anschauen! (1/2)\\r\\r\\n\\r\\r\\nEmotionaler...</td>\n      <td>Negative</td>\n      <td>bitte anschauen 12 emotionaler aufruf von geha...</td>\n      <td>36</td>\n      <td>77</td>\n    </tr>\n    <tr>\n      <th>14582</th>\n      <td>hiked prices in the face of the Covid-19 crise...</td>\n      <td>Negative</td>\n      <td>hiked prices in the face of the covid19 crises...</td>\n      <td>47</td>\n      <td>77</td>\n    </tr>\n    <tr>\n      <th>36305</th>\n      <td>Sterile disposable anti bacterial wet wipes an...</td>\n      <td>Negative</td>\n      <td>sterile disposable anti bacterial wet wipes an...</td>\n      <td>31</td>\n      <td>76</td>\n    </tr>\n  </tbody>\n</table>\n</div>"
          },
          "metadata": {}
        }
      ]
    },
    {
      "cell_type": "markdown",
      "source": [
        "The dataset looks more clean now. We will shuffle it and reset the index."
      ],
      "metadata": {
        "id": "jk5EDnugL3vf"
      }
    },
    {
      "cell_type": "code",
      "source": [
        "df = df.sample(frac=1).reset_index(drop=True)"
      ],
      "metadata": {
        "execution": {
          "iopub.status.busy": "2021-12-22T21:16:45.981284Z",
          "iopub.execute_input": "2021-12-22T21:16:45.981550Z",
          "iopub.status.idle": "2021-12-22T21:16:45.995008Z",
          "shell.execute_reply.started": "2021-12-22T21:16:45.981515Z",
          "shell.execute_reply": "2021-12-22T21:16:45.994358Z"
        },
        "trusted": true,
        "id": "C2WS9AsFL3vf"
      },
      "execution_count": null,
      "outputs": []
    },
    {
      "cell_type": "markdown",
      "source": [
        "## Test data deeper cleaning"
      ],
      "metadata": {
        "id": "adYA2O7-L3vg"
      }
    },
    {
      "cell_type": "markdown",
      "source": [
        "We will perform the data cleaning based on the tokenized sentences on the test set."
      ],
      "metadata": {
        "id": "lMrVHoX-L3vg"
      }
    },
    {
      "cell_type": "code",
      "source": [
        "token_lens_test = []\n",
        "\n",
        "for txt in df_test['text_clean'].values:\n",
        "    tokens = tokenizer.encode(txt, max_length=512, truncation=True)\n",
        "    token_lens_test.append(len(tokens))\n",
        "    \n",
        "max_len=np.max(token_lens_test)"
      ],
      "metadata": {
        "execution": {
          "iopub.status.busy": "2021-12-22T21:16:45.996245Z",
          "iopub.execute_input": "2021-12-22T21:16:45.996503Z",
          "iopub.status.idle": "2021-12-22T21:16:46.749676Z",
          "shell.execute_reply.started": "2021-12-22T21:16:45.996467Z",
          "shell.execute_reply": "2021-12-22T21:16:46.748944Z"
        },
        "trusted": true,
        "id": "AB9QBdlrL3vg"
      },
      "execution_count": null,
      "outputs": []
    },
    {
      "cell_type": "code",
      "source": [
        "print(f\"MAX TOKENIZED SENTENCE LENGTH: {max_len}\")"
      ],
      "metadata": {
        "execution": {
          "iopub.status.busy": "2021-12-22T21:16:46.751070Z",
          "iopub.execute_input": "2021-12-22T21:16:46.751349Z",
          "iopub.status.idle": "2021-12-22T21:16:46.756497Z",
          "shell.execute_reply.started": "2021-12-22T21:16:46.751312Z",
          "shell.execute_reply": "2021-12-22T21:16:46.755793Z"
        },
        "trusted": true,
        "id": "UkeVLFEkL3vh",
        "outputId": "1e85a516-4a1f-4cd5-f27e-1a1f5ed49952"
      },
      "execution_count": null,
      "outputs": [
        {
          "name": "stdout",
          "text": "MAX TOKENIZED SENTENCE LENGTH: 96\n",
          "output_type": "stream"
        }
      ]
    },
    {
      "cell_type": "code",
      "source": [
        "token_lens_test = []\n",
        "\n",
        "for i,txt in enumerate(df_test['text_clean'].values):\n",
        "    tokens = tokenizer.encode(txt, max_length=512, truncation=True)\n",
        "    token_lens_test.append(len(tokens))\n",
        "    if len(tokens)>80:\n",
        "        print(f\"INDEX: {i}, TEXT: {txt}\")"
      ],
      "metadata": {
        "execution": {
          "iopub.status.busy": "2021-12-22T21:16:46.757831Z",
          "iopub.execute_input": "2021-12-22T21:16:46.758342Z",
          "iopub.status.idle": "2021-12-22T21:16:47.500654Z",
          "shell.execute_reply.started": "2021-12-22T21:16:46.758304Z",
          "shell.execute_reply": "2021-12-22T21:16:47.499983Z"
        },
        "trusted": true,
        "id": "F80InstVL3vh",
        "outputId": "123e4d0e-04e1-4dfe-a5bf-7174d5b7b28b"
      },
      "execution_count": null,
      "outputs": [
        {
          "name": "stdout",
          "text": "INDEX: 286, TEXT: so hard to decide as much as i want to hodl my 2 ccdcv4 token our place is declared to lock down due to covid19 i will use this to buy some food to stock txnid093bd1db0c0d3a62af15883138a5f57d4cef35ae14e31e602b74489dd2524c7f my b\nINDEX: 345, TEXT: informoval jsem zstupce vech obchodnch etzc o aktulnch opatench vldy etzce jsou zsobovny na 95 take nen dvod panikait zsoby potravin fakt nedojdou nen opravdu dvod dnes obsadit a vykoupit supermarkety\nINDEX: 2380, TEXT: ahora seguid llorando por el papel higinico que no he comprado porque an tengo seguid creando histeria y preocupacin poniendo fotos de gente en pnico y estanteras vacas que yo seguir yendo a comercios responsables de barrio donde nos cuidan hoy y siempre gracias\n",
          "output_type": "stream"
        }
      ]
    },
    {
      "cell_type": "code",
      "source": [
        "df_test['token_lens'] = token_lens_test"
      ],
      "metadata": {
        "execution": {
          "iopub.status.busy": "2021-12-22T21:16:47.501809Z",
          "iopub.execute_input": "2021-12-22T21:16:47.502050Z",
          "iopub.status.idle": "2021-12-22T21:16:47.508688Z",
          "shell.execute_reply.started": "2021-12-22T21:16:47.502016Z",
          "shell.execute_reply": "2021-12-22T21:16:47.507660Z"
        },
        "trusted": true,
        "id": "g4Na5iBCL3vh"
      },
      "execution_count": null,
      "outputs": []
    },
    {
      "cell_type": "code",
      "source": [
        "df_test = df_test.sort_values(by='token_lens', ascending=False)\n",
        "df_test.head(10) "
      ],
      "metadata": {
        "execution": {
          "iopub.status.busy": "2021-12-22T21:16:47.509929Z",
          "iopub.execute_input": "2021-12-22T21:16:47.510349Z",
          "iopub.status.idle": "2021-12-22T21:16:47.527481Z",
          "shell.execute_reply.started": "2021-12-22T21:16:47.510311Z",
          "shell.execute_reply": "2021-12-22T21:16:47.526777Z"
        },
        "trusted": true,
        "id": "XGYgADtLL3vi",
        "outputId": "ffa60691-4ff0-4645-f2a7-8cfa5338335f"
      },
      "execution_count": null,
      "outputs": [
        {
          "execution_count": 129,
          "output_type": "execute_result",
          "data": {
            "text/plain": "                                          OriginalTweet           Sentiment  \\\n286   @Rhett800cc So hard to decide??. As much as I ...            Negative   \n2383  Ahora seguid llorando por el papel higiénico (...            Negative   \n345   Informoval jsem zástupce vech obchodních ?et?...             Neutral   \n1485  DTF-Dont Touch Face\\r\\r\\nDWBH-Do Wash Both Ha...  Extremely Negative   \n1209  Im in the DC/Maryland/Virginia (DMV) area &am...            Positive   \n3505  Stop misusing ur privilege amp grow up Some1 c...            Positive   \n1789  For those that are cashlong, patient,calm&amp;...  Extremely Positive   \n855   Lidl is total chaos, queues as long as the ais...  Extremely Negative   \n2740  COVID-19: Your government will save ITSELF not...            Positive   \n2997  Stop #frenzybuying. You don't need most of wha...  Extremely Negative   \n\n                                             text_clean  text_len  token_lens  \n286   so hard to decide as much as i want to hodl my...        38          96  \n2383  ahora seguid llorando por el papel higinico qu...        44          94  \n345   informoval jsem zstupce vech obchodnch etzc o ...        31          86  \n1485  dtfdont touch face dwbhdo wash both hands gtfo...        42          77  \n1209  im in the dcmarylandvirginia dmv area amphave ...        45          74  \n3505  stop misusing ur privilege amp grow up some1 c...        57          73  \n1789  for those that are cashlong patientcalmamphave...        44          71  \n855   lidl is total chaos queues as long as the aisl...        62          70  \n2740  covid19 your government will save itself not y...        43          70  \n2997  stop frenzybuying you dont need most of what y...        38          70  ",
            "text/html": "<div>\n<style scoped>\n    .dataframe tbody tr th:only-of-type {\n        vertical-align: middle;\n    }\n\n    .dataframe tbody tr th {\n        vertical-align: top;\n    }\n\n    .dataframe thead th {\n        text-align: right;\n    }\n</style>\n<table border=\"1\" class=\"dataframe\">\n  <thead>\n    <tr style=\"text-align: right;\">\n      <th></th>\n      <th>OriginalTweet</th>\n      <th>Sentiment</th>\n      <th>text_clean</th>\n      <th>text_len</th>\n      <th>token_lens</th>\n    </tr>\n  </thead>\n  <tbody>\n    <tr>\n      <th>286</th>\n      <td>@Rhett800cc So hard to decide??. As much as I ...</td>\n      <td>Negative</td>\n      <td>so hard to decide as much as i want to hodl my...</td>\n      <td>38</td>\n      <td>96</td>\n    </tr>\n    <tr>\n      <th>2383</th>\n      <td>Ahora seguid llorando por el papel higiénico (...</td>\n      <td>Negative</td>\n      <td>ahora seguid llorando por el papel higinico qu...</td>\n      <td>44</td>\n      <td>94</td>\n    </tr>\n    <tr>\n      <th>345</th>\n      <td>Informoval jsem zástupce vech obchodních ?et?...</td>\n      <td>Neutral</td>\n      <td>informoval jsem zstupce vech obchodnch etzc o ...</td>\n      <td>31</td>\n      <td>86</td>\n    </tr>\n    <tr>\n      <th>1485</th>\n      <td>DTF-Dont Touch Face\\r\\r\\nDWBH-Do Wash Both Ha...</td>\n      <td>Extremely Negative</td>\n      <td>dtfdont touch face dwbhdo wash both hands gtfo...</td>\n      <td>42</td>\n      <td>77</td>\n    </tr>\n    <tr>\n      <th>1209</th>\n      <td>Im in the DC/Maryland/Virginia (DMV) area &amp;am...</td>\n      <td>Positive</td>\n      <td>im in the dcmarylandvirginia dmv area amphave ...</td>\n      <td>45</td>\n      <td>74</td>\n    </tr>\n    <tr>\n      <th>3505</th>\n      <td>Stop misusing ur privilege amp grow up Some1 c...</td>\n      <td>Positive</td>\n      <td>stop misusing ur privilege amp grow up some1 c...</td>\n      <td>57</td>\n      <td>73</td>\n    </tr>\n    <tr>\n      <th>1789</th>\n      <td>For those that are cashlong, patient,calm&amp;amp;...</td>\n      <td>Extremely Positive</td>\n      <td>for those that are cashlong patientcalmamphave...</td>\n      <td>44</td>\n      <td>71</td>\n    </tr>\n    <tr>\n      <th>855</th>\n      <td>Lidl is total chaos, queues as long as the ais...</td>\n      <td>Extremely Negative</td>\n      <td>lidl is total chaos queues as long as the aisl...</td>\n      <td>62</td>\n      <td>70</td>\n    </tr>\n    <tr>\n      <th>2740</th>\n      <td>COVID-19: Your government will save ITSELF not...</td>\n      <td>Positive</td>\n      <td>covid19 your government will save itself not y...</td>\n      <td>43</td>\n      <td>70</td>\n    </tr>\n    <tr>\n      <th>2997</th>\n      <td>Stop #frenzybuying. You don't need most of wha...</td>\n      <td>Extremely Negative</td>\n      <td>stop frenzybuying you dont need most of what y...</td>\n      <td>38</td>\n      <td>70</td>\n    </tr>\n  </tbody>\n</table>\n</div>"
          },
          "metadata": {}
        }
      ]
    },
    {
      "cell_type": "code",
      "source": [
        "df_test = df_test.iloc[5:]\n",
        "df_test.head(3)"
      ],
      "metadata": {
        "execution": {
          "iopub.status.busy": "2021-12-22T21:16:47.528747Z",
          "iopub.execute_input": "2021-12-22T21:16:47.529191Z",
          "iopub.status.idle": "2021-12-22T21:16:47.539778Z",
          "shell.execute_reply.started": "2021-12-22T21:16:47.529156Z",
          "shell.execute_reply": "2021-12-22T21:16:47.539121Z"
        },
        "trusted": true,
        "id": "VtOJjjUyL3vi",
        "outputId": "a04e6d67-6834-45dd-ae2f-74c0858abd7d"
      },
      "execution_count": null,
      "outputs": [
        {
          "execution_count": 130,
          "output_type": "execute_result",
          "data": {
            "text/plain": "                                          OriginalTweet           Sentiment  \\\n3505  Stop misusing ur privilege amp grow up Some1 c...            Positive   \n1789  For those that are cashlong, patient,calm&amp;...  Extremely Positive   \n855   Lidl is total chaos, queues as long as the ais...  Extremely Negative   \n\n                                             text_clean  text_len  token_lens  \n3505  stop misusing ur privilege amp grow up some1 c...        57          73  \n1789  for those that are cashlong patientcalmamphave...        44          71  \n855   lidl is total chaos queues as long as the aisl...        62          70  ",
            "text/html": "<div>\n<style scoped>\n    .dataframe tbody tr th:only-of-type {\n        vertical-align: middle;\n    }\n\n    .dataframe tbody tr th {\n        vertical-align: top;\n    }\n\n    .dataframe thead th {\n        text-align: right;\n    }\n</style>\n<table border=\"1\" class=\"dataframe\">\n  <thead>\n    <tr style=\"text-align: right;\">\n      <th></th>\n      <th>OriginalTweet</th>\n      <th>Sentiment</th>\n      <th>text_clean</th>\n      <th>text_len</th>\n      <th>token_lens</th>\n    </tr>\n  </thead>\n  <tbody>\n    <tr>\n      <th>3505</th>\n      <td>Stop misusing ur privilege amp grow up Some1 c...</td>\n      <td>Positive</td>\n      <td>stop misusing ur privilege amp grow up some1 c...</td>\n      <td>57</td>\n      <td>73</td>\n    </tr>\n    <tr>\n      <th>1789</th>\n      <td>For those that are cashlong, patient,calm&amp;amp;...</td>\n      <td>Extremely Positive</td>\n      <td>for those that are cashlong patientcalmamphave...</td>\n      <td>44</td>\n      <td>71</td>\n    </tr>\n    <tr>\n      <th>855</th>\n      <td>Lidl is total chaos, queues as long as the ais...</td>\n      <td>Extremely Negative</td>\n      <td>lidl is total chaos queues as long as the aisl...</td>\n      <td>62</td>\n      <td>70</td>\n    </tr>\n  </tbody>\n</table>\n</div>"
          },
          "metadata": {}
        }
      ]
    },
    {
      "cell_type": "code",
      "source": [
        "df_test = df_test.sample(frac=1).reset_index(drop=True)"
      ],
      "metadata": {
        "execution": {
          "iopub.status.busy": "2021-12-22T21:16:47.541138Z",
          "iopub.execute_input": "2021-12-22T21:16:47.541731Z",
          "iopub.status.idle": "2021-12-22T21:16:47.548553Z",
          "shell.execute_reply.started": "2021-12-22T21:16:47.541662Z",
          "shell.execute_reply": "2021-12-22T21:16:47.547872Z"
        },
        "trusted": true,
        "id": "i0U4NvgML3vi"
      },
      "execution_count": null,
      "outputs": []
    },
    {
      "cell_type": "markdown",
      "source": [
        "Now the data cleaning is completed. I will perform more data cleaning if I have new ideas !! :)"
      ],
      "metadata": {
        "id": "X8PF_h-aL3vi"
      }
    },
    {
      "cell_type": "markdown",
      "source": [
        "# Sentiment column analysis"
      ],
      "metadata": {
        "id": "H-fDRyG3L3vj"
      }
    },
    {
      "cell_type": "markdown",
      "source": [
        "Now we will look at the target column 'Sentiment'."
      ],
      "metadata": {
        "id": "kRVEaZsgL3vj"
      }
    },
    {
      "cell_type": "code",
      "source": [
        "df['Sentiment'].value_counts()"
      ],
      "metadata": {
        "execution": {
          "iopub.status.busy": "2021-12-22T21:16:47.549868Z",
          "iopub.execute_input": "2021-12-22T21:16:47.550374Z",
          "iopub.status.idle": "2021-12-22T21:16:47.564332Z",
          "shell.execute_reply.started": "2021-12-22T21:16:47.550336Z",
          "shell.execute_reply": "2021-12-22T21:16:47.563660Z"
        },
        "trusted": true,
        "id": "rzEov5C9L3vj",
        "outputId": "e4b02e97-5e8e-4211-bc54-023bbfccb76c"
      },
      "execution_count": null,
      "outputs": [
        {
          "execution_count": 132,
          "output_type": "execute_result",
          "data": {
            "text/plain": "Positive              11381\nNegative               9889\nNeutral                7560\nExtremely Positive     6618\nExtremely Negative     5475\nName: Sentiment, dtype: int64"
          },
          "metadata": {}
        }
      ]
    },
    {
      "cell_type": "markdown",
      "source": [
        "The first thing we can do is to encode the categories with numbers. We will also create just 3 possible emotions: Positive, Neutral and Negative."
      ],
      "metadata": {
        "execution": {
          "iopub.status.busy": "2021-12-05T11:35:57.747932Z",
          "iopub.execute_input": "2021-12-05T11:35:57.748569Z",
          "iopub.status.idle": "2021-12-05T11:35:57.753489Z",
          "shell.execute_reply.started": "2021-12-05T11:35:57.748528Z",
          "shell.execute_reply": "2021-12-05T11:35:57.752685Z"
        },
        "id": "SKApMVe0L3vj"
      }
    },
    {
      "cell_type": "code",
      "source": [
        "df['Sentiment'] = df['Sentiment'].map({'Extremely Negative':0,'Negative':0,'Neutral':1,'Positive':2,'Extremely Positive':2})"
      ],
      "metadata": {
        "execution": {
          "iopub.status.busy": "2021-12-22T21:16:47.565714Z",
          "iopub.execute_input": "2021-12-22T21:16:47.566009Z",
          "iopub.status.idle": "2021-12-22T21:16:47.580459Z",
          "shell.execute_reply.started": "2021-12-22T21:16:47.565975Z",
          "shell.execute_reply": "2021-12-22T21:16:47.579684Z"
        },
        "trusted": true,
        "id": "sH7-3oCvL3vj"
      },
      "execution_count": null,
      "outputs": []
    },
    {
      "cell_type": "code",
      "source": [
        "df_test['Sentiment'] = df_test['Sentiment'].map({'Extremely Negative':0,'Negative':0,'Neutral':1,'Positive':2,'Extremely Positive':2})"
      ],
      "metadata": {
        "execution": {
          "iopub.status.busy": "2021-12-22T21:16:47.581764Z",
          "iopub.execute_input": "2021-12-22T21:16:47.582551Z",
          "iopub.status.idle": "2021-12-22T21:16:47.589144Z",
          "shell.execute_reply.started": "2021-12-22T21:16:47.582474Z",
          "shell.execute_reply": "2021-12-22T21:16:47.588501Z"
        },
        "trusted": true,
        "id": "WSw0ipLpL3vk"
      },
      "execution_count": null,
      "outputs": []
    },
    {
      "cell_type": "code",
      "source": [
        "df['Sentiment'].value_counts()"
      ],
      "metadata": {
        "execution": {
          "iopub.status.busy": "2021-12-22T21:16:47.591248Z",
          "iopub.execute_input": "2021-12-22T21:16:47.592996Z",
          "iopub.status.idle": "2021-12-22T21:16:47.599802Z",
          "shell.execute_reply.started": "2021-12-22T21:16:47.592966Z",
          "shell.execute_reply": "2021-12-22T21:16:47.599160Z"
        },
        "trusted": true,
        "id": "QnpQ9QKHL3vk",
        "outputId": "18ab7cb0-19e9-48e6-c3d6-bbacfceb8449"
      },
      "execution_count": null,
      "outputs": [
        {
          "execution_count": 135,
          "output_type": "execute_result",
          "data": {
            "text/plain": "2    17999\n0    15364\n1     7560\nName: Sentiment, dtype: int64"
          },
          "metadata": {}
        }
      ]
    },
    {
      "cell_type": "markdown",
      "source": [
        "We note that the three classes are imbalanced. We will proceed with oversampling the train test, to remove bias towards the majority classes."
      ],
      "metadata": {
        "id": "QINHJoYDL3vk"
      }
    },
    {
      "cell_type": "markdown",
      "source": [
        "## Class Balancing by RandomOverSampler"
      ],
      "metadata": {
        "id": "l_3ftaARL3vk"
      }
    },
    {
      "cell_type": "code",
      "source": [
        "ros = RandomOverSampler()\n",
        "train_x, train_y = ros.fit_resample(np.array(df['text_clean']).reshape(-1, 1), np.array(df['Sentiment']).reshape(-1, 1));\n",
        "train_os = pd.DataFrame(list(zip([x[0] for x in train_x], train_y)), columns = ['text_clean', 'Sentiment']);"
      ],
      "metadata": {
        "execution": {
          "iopub.status.busy": "2021-12-22T21:16:47.601159Z",
          "iopub.execute_input": "2021-12-22T21:16:47.601752Z",
          "iopub.status.idle": "2021-12-22T21:16:47.697589Z",
          "shell.execute_reply.started": "2021-12-22T21:16:47.601678Z",
          "shell.execute_reply": "2021-12-22T21:16:47.696904Z"
        },
        "trusted": true,
        "id": "v6dn1j0FL3vk"
      },
      "execution_count": null,
      "outputs": []
    },
    {
      "cell_type": "code",
      "source": [
        "train_os['Sentiment'].value_counts()"
      ],
      "metadata": {
        "execution": {
          "iopub.status.busy": "2021-12-22T21:16:47.698691Z",
          "iopub.execute_input": "2021-12-22T21:16:47.698926Z",
          "iopub.status.idle": "2021-12-22T21:16:47.705998Z",
          "shell.execute_reply.started": "2021-12-22T21:16:47.698894Z",
          "shell.execute_reply": "2021-12-22T21:16:47.705270Z"
        },
        "trusted": true,
        "id": "weSIwrlkL3vl",
        "outputId": "ee0a4b20-5c09-43c8-e8bb-cf0eaac99aab"
      },
      "execution_count": null,
      "outputs": [
        {
          "execution_count": 137,
          "output_type": "execute_result",
          "data": {
            "text/plain": "1    17999\n2    17999\n0    17999\nName: Sentiment, dtype: int64"
          },
          "metadata": {}
        }
      ]
    },
    {
      "cell_type": "markdown",
      "source": [
        "## Train - Validation - Test split"
      ],
      "metadata": {
        "id": "7sIDxI6gL3vl"
      }
    },
    {
      "cell_type": "code",
      "source": [
        "X = train_os['text_clean'].values\n",
        "y = train_os['Sentiment'].values"
      ],
      "metadata": {
        "execution": {
          "iopub.status.busy": "2021-12-22T21:16:47.713125Z",
          "iopub.execute_input": "2021-12-22T21:16:47.713316Z",
          "iopub.status.idle": "2021-12-22T21:16:47.717547Z",
          "shell.execute_reply.started": "2021-12-22T21:16:47.713294Z",
          "shell.execute_reply": "2021-12-22T21:16:47.716647Z"
        },
        "trusted": true,
        "id": "2AybOT3JL3vl"
      },
      "execution_count": null,
      "outputs": []
    },
    {
      "cell_type": "markdown",
      "source": [
        "A validation set will be extracted from the training set to monitor the validation accuracy, and so prevent overfitting."
      ],
      "metadata": {
        "id": "yt-YRRZDL3vl"
      }
    },
    {
      "cell_type": "code",
      "source": [
        "X_train, X_valid, y_train, y_valid = train_test_split(X, y, test_size=0.1, stratify=y, random_state=seed)"
      ],
      "metadata": {
        "execution": {
          "iopub.status.busy": "2021-12-22T21:16:47.718981Z",
          "iopub.execute_input": "2021-12-22T21:16:47.719469Z",
          "iopub.status.idle": "2021-12-22T21:16:47.761536Z",
          "shell.execute_reply.started": "2021-12-22T21:16:47.719431Z",
          "shell.execute_reply": "2021-12-22T21:16:47.760925Z"
        },
        "trusted": true,
        "id": "4UzBbYNYL3vm"
      },
      "execution_count": null,
      "outputs": []
    },
    {
      "cell_type": "code",
      "source": [
        "X_test = df_test['text_clean'].values\n",
        "y_test = df_test['Sentiment'].values"
      ],
      "metadata": {
        "execution": {
          "iopub.status.busy": "2021-12-22T21:16:47.762757Z",
          "iopub.execute_input": "2021-12-22T21:16:47.763000Z",
          "iopub.status.idle": "2021-12-22T21:16:47.768878Z",
          "shell.execute_reply.started": "2021-12-22T21:16:47.762967Z",
          "shell.execute_reply": "2021-12-22T21:16:47.768120Z"
        },
        "trusted": true,
        "id": "xuYUGPWNL3vm"
      },
      "execution_count": null,
      "outputs": []
    },
    {
      "cell_type": "markdown",
      "source": [
        "## One hot encoding"
      ],
      "metadata": {
        "id": "4TxIWkWQL3vm"
      }
    },
    {
      "cell_type": "markdown",
      "source": [
        "After performing some tests, by using one hot encoding on the target variable we achieved higher accuracy. For this reason we will choose one hot enconding over label encoding. <br>\n",
        "EDIT: We will save a copy of the label encoded target columns since they could be useful for further analysis."
      ],
      "metadata": {
        "id": "hzd5T5LwL3vn"
      }
    },
    {
      "cell_type": "code",
      "source": [
        "y_train_le = y_train.copy()\n",
        "y_valid_le = y_valid.copy()\n",
        "y_test_le = y_test.copy()"
      ],
      "metadata": {
        "execution": {
          "iopub.status.busy": "2021-12-22T21:16:47.770333Z",
          "iopub.execute_input": "2021-12-22T21:16:47.770915Z",
          "iopub.status.idle": "2021-12-22T21:16:47.776791Z",
          "shell.execute_reply.started": "2021-12-22T21:16:47.770878Z",
          "shell.execute_reply": "2021-12-22T21:16:47.776179Z"
        },
        "trusted": true,
        "id": "3pDDnn96L3vn"
      },
      "execution_count": null,
      "outputs": []
    },
    {
      "cell_type": "code",
      "source": [
        "ohe = preprocessing.OneHotEncoder()\n",
        "y_train = ohe.fit_transform(np.array(y_train).reshape(-1, 1)).toarray()\n",
        "y_valid = ohe.fit_transform(np.array(y_valid).reshape(-1, 1)).toarray()\n",
        "y_test = ohe.fit_transform(np.array(y_test).reshape(-1, 1)).toarray()"
      ],
      "metadata": {
        "execution": {
          "iopub.status.busy": "2021-12-22T21:16:47.778211Z",
          "iopub.execute_input": "2021-12-22T21:16:47.778775Z",
          "iopub.status.idle": "2021-12-22T21:16:47.791468Z",
          "shell.execute_reply.started": "2021-12-22T21:16:47.778739Z",
          "shell.execute_reply": "2021-12-22T21:16:47.790847Z"
        },
        "trusted": true,
        "id": "xdkaGfMkL3vn"
      },
      "execution_count": null,
      "outputs": []
    },
    {
      "cell_type": "code",
      "source": [
        "print(f\"TRAINING DATA: {X_train.shape[0]}\\nVALIDATION DATA: {X_valid.shape[0]}\\nTESTING DATA: {X_test.shape[0]}\" )"
      ],
      "metadata": {
        "execution": {
          "iopub.status.busy": "2021-12-22T21:16:47.792606Z",
          "iopub.execute_input": "2021-12-22T21:16:47.792855Z",
          "iopub.status.idle": "2021-12-22T21:16:47.797366Z",
          "shell.execute_reply.started": "2021-12-22T21:16:47.792822Z",
          "shell.execute_reply": "2021-12-22T21:16:47.796422Z"
        },
        "trusted": true,
        "id": "1qKHGvntL3vo",
        "outputId": "45adb6f2-bffd-4e24-8f32-afbb39603476"
      },
      "execution_count": null,
      "outputs": [
        {
          "name": "stdout",
          "text": "TRAINING DATA: 48597\nVALIDATION DATA: 5400\nTESTING DATA: 3787\n",
          "output_type": "stream"
        }
      ]
    },
    {
      "cell_type": "markdown",
      "source": [
        "# Baseline model: Naive Bayes Classifier"
      ],
      "metadata": {
        "id": "HgfvjL3fL3vo"
      }
    },
    {
      "cell_type": "markdown",
      "source": [
        "Before implementing BERT, we will define a simple Naive Bayes baseline model to classify the tweets."
      ],
      "metadata": {
        "execution": {
          "iopub.status.busy": "2021-12-22T19:59:56.681677Z",
          "iopub.execute_input": "2021-12-22T19:59:56.682410Z",
          "iopub.status.idle": "2021-12-22T19:59:56.711837Z",
          "shell.execute_reply.started": "2021-12-22T19:59:56.682300Z",
          "shell.execute_reply": "2021-12-22T19:59:56.710680Z"
        },
        "id": "QBenm47oL3vo"
      }
    },
    {
      "cell_type": "markdown",
      "source": [
        "First we need to tokenize the tweets using CountVectorizer."
      ],
      "metadata": {
        "id": "QWB_BxdDL3vo"
      }
    },
    {
      "cell_type": "code",
      "source": [
        "clf = CountVectorizer()\n",
        "X_train_cv =  clf.fit_transform(X_train)\n",
        "X_test_cv = clf.transform(X_test)"
      ],
      "metadata": {
        "execution": {
          "iopub.status.busy": "2021-12-22T21:16:47.798820Z",
          "iopub.execute_input": "2021-12-22T21:16:47.799076Z",
          "iopub.status.idle": "2021-12-22T21:16:49.887448Z",
          "shell.execute_reply.started": "2021-12-22T21:16:47.799042Z",
          "shell.execute_reply": "2021-12-22T21:16:49.886665Z"
        },
        "trusted": true,
        "id": "OiDTtarBL3vp"
      },
      "execution_count": null,
      "outputs": []
    },
    {
      "cell_type": "markdown",
      "source": [
        "Then we create the TF-IDF (term-frequency times inverse document-frequency) versions of the tokenized tweets."
      ],
      "metadata": {
        "id": "ZWjNVgP0L3vp"
      }
    },
    {
      "cell_type": "code",
      "source": [
        "tf_transformer = TfidfTransformer(use_idf=True).fit(X_train_cv)\n",
        "X_train_tf = tf_transformer.transform(X_train_cv)\n",
        "X_test_tf = tf_transformer.transform(X_test_cv)"
      ],
      "metadata": {
        "execution": {
          "iopub.status.busy": "2021-12-22T21:16:49.888669Z",
          "iopub.execute_input": "2021-12-22T21:16:49.890719Z",
          "iopub.status.idle": "2021-12-22T21:16:49.984621Z",
          "shell.execute_reply.started": "2021-12-22T21:16:49.890677Z",
          "shell.execute_reply": "2021-12-22T21:16:49.983725Z"
        },
        "trusted": true,
        "id": "osrFhGdTL3vp"
      },
      "execution_count": null,
      "outputs": []
    },
    {
      "cell_type": "markdown",
      "source": [
        "Now we can define the Naive Bayes Classifier model"
      ],
      "metadata": {
        "id": "EKWt2MSOL3vp"
      }
    },
    {
      "cell_type": "code",
      "source": [
        "nb_clf = MultinomialNB()"
      ],
      "metadata": {
        "execution": {
          "iopub.status.busy": "2021-12-22T21:16:49.985855Z",
          "iopub.execute_input": "2021-12-22T21:16:49.986537Z",
          "iopub.status.idle": "2021-12-22T21:16:49.990851Z",
          "shell.execute_reply.started": "2021-12-22T21:16:49.986496Z",
          "shell.execute_reply": "2021-12-22T21:16:49.989982Z"
        },
        "trusted": true,
        "id": "mSdrJqUJL3vq"
      },
      "execution_count": null,
      "outputs": []
    },
    {
      "cell_type": "code",
      "source": [
        "nb_clf.fit(X_train_tf, y_train_le)"
      ],
      "metadata": {
        "execution": {
          "iopub.status.busy": "2021-12-22T21:16:49.992138Z",
          "iopub.execute_input": "2021-12-22T21:16:49.992559Z",
          "iopub.status.idle": "2021-12-22T21:16:50.023630Z",
          "shell.execute_reply.started": "2021-12-22T21:16:49.992487Z",
          "shell.execute_reply": "2021-12-22T21:16:50.022914Z"
        },
        "trusted": true,
        "id": "GRxA4HeVL3vq",
        "outputId": "408083a6-19c4-4c2c-a6c4-546cd4c38871"
      },
      "execution_count": null,
      "outputs": [
        {
          "execution_count": 147,
          "output_type": "execute_result",
          "data": {
            "text/plain": "MultinomialNB()"
          },
          "metadata": {}
        }
      ]
    },
    {
      "cell_type": "code",
      "source": [
        "nb_pred = nb_clf.predict(X_test_tf)"
      ],
      "metadata": {
        "execution": {
          "iopub.status.busy": "2021-12-22T21:16:50.025595Z",
          "iopub.execute_input": "2021-12-22T21:16:50.025800Z",
          "iopub.status.idle": "2021-12-22T21:16:50.033226Z",
          "shell.execute_reply.started": "2021-12-22T21:16:50.025776Z",
          "shell.execute_reply": "2021-12-22T21:16:50.032277Z"
        },
        "trusted": true,
        "id": "Lu0TgR9jL3vq"
      },
      "execution_count": null,
      "outputs": []
    },
    {
      "cell_type": "code",
      "source": [
        "print('\\tClassification Report for Naive Bayes:\\n\\n',classification_report(y_test_le,nb_pred, target_names=['Negative', 'Neutral', 'Positive']))"
      ],
      "metadata": {
        "_kg_hide-input": true,
        "execution": {
          "iopub.status.busy": "2021-12-22T21:16:50.034928Z",
          "iopub.execute_input": "2021-12-22T21:16:50.035198Z",
          "iopub.status.idle": "2021-12-22T21:16:50.051762Z",
          "shell.execute_reply.started": "2021-12-22T21:16:50.035146Z",
          "shell.execute_reply": "2021-12-22T21:16:50.051035Z"
        },
        "trusted": true,
        "id": "E9hF3Od9L3vq",
        "outputId": "0b1a4e62-3f50-421e-a1d9-c913651bfccb"
      },
      "execution_count": null,
      "outputs": [
        {
          "name": "stdout",
          "text": "\tClassification Report for Naive Bayes:\n\n               precision    recall  f1-score   support\n\n    Negative       0.70      0.78      0.74      1629\n     Neutral       0.60      0.47      0.53       614\n    Positive       0.73      0.72      0.73      1544\n\n    accuracy                           0.70      3787\n   macro avg       0.68      0.66      0.66      3787\nweighted avg       0.70      0.70      0.70      3787\n\n",
          "output_type": "stream"
        }
      ]
    },
    {
      "cell_type": "markdown",
      "source": [
        "**The algorithm performance is not so bad. <br> The F1 score is around 70% for the more populated classes (Negative and Positive emotions), and lower for the Neutral class (F1=0.53).<br>\n",
        "In particular, the overall accuracy is 70%.**"
      ],
      "metadata": {
        "id": "tlNP6xkaL3vq"
      }
    },
    {
      "cell_type": "markdown",
      "source": [
        "In the next section we will perform the sentiment analysis using BERT."
      ],
      "metadata": {
        "id": "O07ZrwMhL3vr"
      }
    },
    {
      "cell_type": "markdown",
      "source": [
        "# BERT Sentiment Analysis"
      ],
      "metadata": {
        "id": "SrnodfwSL3vr"
      }
    },
    {
      "cell_type": "markdown",
      "source": [
        "We already performed a basic analyis of the tokenized sentences, now we just need to define a custom tokenizer function and call the encode_plus method of the BERT tokenizer."
      ],
      "metadata": {
        "id": "0c8s0MSAL3vr"
      }
    },
    {
      "cell_type": "code",
      "source": [
        "MAX_LEN=128"
      ],
      "metadata": {
        "execution": {
          "iopub.status.busy": "2021-12-22T21:16:50.052791Z",
          "iopub.execute_input": "2021-12-22T21:16:50.053144Z",
          "iopub.status.idle": "2021-12-22T21:16:50.057001Z",
          "shell.execute_reply.started": "2021-12-22T21:16:50.053103Z",
          "shell.execute_reply": "2021-12-22T21:16:50.056176Z"
        },
        "trusted": true,
        "id": "FUcFwougL3vr"
      },
      "execution_count": null,
      "outputs": []
    },
    {
      "cell_type": "code",
      "source": [
        "def tokenize(data,max_len=MAX_LEN) :\n",
        "    input_ids = []\n",
        "    attention_masks = []\n",
        "    for i in range(len(data)):\n",
        "        encoded = tokenizer.encode_plus(\n",
        "            data[i],\n",
        "            add_special_tokens=True,\n",
        "            max_length=MAX_LEN,\n",
        "            padding='max_length',\n",
        "            return_attention_mask=True\n",
        "        )\n",
        "        input_ids.append(encoded['input_ids'])\n",
        "        attention_masks.append(encoded['attention_mask'])\n",
        "    return np.array(input_ids),np.array(attention_masks)"
      ],
      "metadata": {
        "execution": {
          "iopub.status.busy": "2021-12-22T21:16:50.058416Z",
          "iopub.execute_input": "2021-12-22T21:16:50.058828Z",
          "iopub.status.idle": "2021-12-22T21:16:50.066939Z",
          "shell.execute_reply.started": "2021-12-22T21:16:50.058790Z",
          "shell.execute_reply": "2021-12-22T21:16:50.065741Z"
        },
        "trusted": true,
        "id": "H3-S8h01L3vs"
      },
      "execution_count": null,
      "outputs": []
    },
    {
      "cell_type": "markdown",
      "source": [
        "Then, we apply the tokenizer function to the train, validation and test sets."
      ],
      "metadata": {
        "id": "9ql9sbQHL3vs"
      }
    },
    {
      "cell_type": "code",
      "source": [
        "train_input_ids, train_attention_masks = tokenize(X_train, MAX_LEN)\n",
        "val_input_ids, val_attention_masks = tokenize(X_valid, MAX_LEN)\n",
        "test_input_ids, test_attention_masks = tokenize(X_test, MAX_LEN)"
      ],
      "metadata": {
        "execution": {
          "iopub.status.busy": "2021-12-22T21:16:50.068345Z",
          "iopub.execute_input": "2021-12-22T21:16:50.068739Z",
          "iopub.status.idle": "2021-12-22T21:17:05.894027Z",
          "shell.execute_reply.started": "2021-12-22T21:16:50.068706Z",
          "shell.execute_reply": "2021-12-22T21:17:05.893270Z"
        },
        "trusted": true,
        "id": "625CAzybL3vs"
      },
      "execution_count": null,
      "outputs": []
    },
    {
      "cell_type": "markdown",
      "source": [
        "# BERT modeling"
      ],
      "metadata": {
        "id": "qJ8Q24AwL3vs"
      }
    },
    {
      "cell_type": "markdown",
      "source": [
        "Now we can import the BERT model from the pretrained library from Hugging face."
      ],
      "metadata": {
        "id": "gxwMUWOwL3vt"
      }
    },
    {
      "cell_type": "code",
      "source": [
        "bert_model = TFBertModel.from_pretrained('bert-base-uncased')"
      ],
      "metadata": {
        "_kg_hide-output": true,
        "execution": {
          "iopub.status.busy": "2021-12-22T21:17:05.895409Z",
          "iopub.execute_input": "2021-12-22T21:17:05.895650Z",
          "iopub.status.idle": "2021-12-22T21:17:08.742590Z",
          "shell.execute_reply.started": "2021-12-22T21:17:05.895617Z",
          "shell.execute_reply": "2021-12-22T21:17:08.741859Z"
        },
        "trusted": true,
        "id": "14Rai-l8L3vt",
        "outputId": "bd926a13-73ff-46fd-bfd7-ab5b92bc9598"
      },
      "execution_count": null,
      "outputs": [
        {
          "name": "stderr",
          "text": "Some layers from the model checkpoint at bert-base-uncased were not used when initializing TFBertModel: ['mlm___cls', 'nsp___cls']\n- This IS expected if you are initializing TFBertModel from the checkpoint of a model trained on another task or with another architecture (e.g. initializing a BertForSequenceClassification model from a BertForPreTraining model).\n- This IS NOT expected if you are initializing TFBertModel from the checkpoint of a model that you expect to be exactly identical (initializing a BertForSequenceClassification model from a BertForSequenceClassification model).\nAll the layers of TFBertModel were initialized from the model checkpoint at bert-base-uncased.\nIf your task is similar to the task the model of the checkpoint was trained on, you can already use TFBertModel for predictions without further training.\n",
          "output_type": "stream"
        }
      ]
    },
    {
      "cell_type": "markdown",
      "source": [
        "Then, we create a custom function to host the pre trained BERT model, and attach to it a 3 neurons output layer, necessary to perform the classification of the 3 different classes of the dataset (the 3 emotions)."
      ],
      "metadata": {
        "id": "jhLvNX9wL3vt"
      }
    },
    {
      "cell_type": "code",
      "source": [
        "def create_model(bert_model, max_len=MAX_LEN):\n",
        "    \n",
        "    ##params###\n",
        "    opt = tf.keras.optimizers.Adam(learning_rate=1e-5, decay=1e-7)\n",
        "    loss = tf.keras.losses.CategoricalCrossentropy()\n",
        "    accuracy = tf.keras.metrics.CategoricalAccuracy()\n",
        "\n",
        "\n",
        "    input_ids = tf.keras.Input(shape=(max_len,),dtype='int32')\n",
        "    \n",
        "    attention_masks = tf.keras.Input(shape=(max_len,),dtype='int32')\n",
        "    \n",
        "    embeddings = bert_model([input_ids,attention_masks])[1]\n",
        "    \n",
        "    output = tf.keras.layers.Dense(3, activation=\"softmax\")(embeddings)\n",
        "    \n",
        "    model = tf.keras.models.Model(inputs = [input_ids,attention_masks], outputs = output)\n",
        "    \n",
        "    model.compile(opt, loss=loss, metrics=accuracy)\n",
        "    \n",
        "    \n",
        "    return model"
      ],
      "metadata": {
        "execution": {
          "iopub.status.busy": "2021-12-22T21:17:08.744124Z",
          "iopub.execute_input": "2021-12-22T21:17:08.744637Z",
          "iopub.status.idle": "2021-12-22T21:17:08.752172Z",
          "shell.execute_reply.started": "2021-12-22T21:17:08.744596Z",
          "shell.execute_reply": "2021-12-22T21:17:08.751417Z"
        },
        "trusted": true,
        "id": "6_IxmRH1L3vt"
      },
      "execution_count": null,
      "outputs": []
    },
    {
      "cell_type": "code",
      "source": [
        "model = create_model(bert_model, MAX_LEN)\n",
        "model.summary()"
      ],
      "metadata": {
        "execution": {
          "iopub.status.busy": "2021-12-22T21:17:08.753301Z",
          "iopub.execute_input": "2021-12-22T21:17:08.753634Z",
          "iopub.status.idle": "2021-12-22T21:17:10.212279Z",
          "shell.execute_reply.started": "2021-12-22T21:17:08.753596Z",
          "shell.execute_reply": "2021-12-22T21:17:10.211498Z"
        },
        "trusted": true,
        "id": "TSH0I7slL3vu",
        "outputId": "fdaa31a6-d40d-4eca-e1b7-0a3b9784c8e9"
      },
      "execution_count": null,
      "outputs": [
        {
          "name": "stdout",
          "text": "Model: \"model_1\"\n__________________________________________________________________________________________________\nLayer (type)                    Output Shape         Param #     Connected to                     \n==================================================================================================\ninput_5 (InputLayer)            [(None, 128)]        0                                            \n__________________________________________________________________________________________________\ninput_6 (InputLayer)            [(None, 128)]        0                                            \n__________________________________________________________________________________________________\ntf_bert_model_1 (TFBertModel)   TFBaseModelOutputWit 109482240   input_5[0][0]                    \n                                                                 input_6[0][0]                    \n__________________________________________________________________________________________________\ndense_1 (Dense)                 (None, 3)            2307        tf_bert_model_1[0][1]            \n==================================================================================================\nTotal params: 109,484,547\nTrainable params: 109,484,547\nNon-trainable params: 0\n__________________________________________________________________________________________________\n",
          "output_type": "stream"
        }
      ]
    },
    {
      "cell_type": "markdown",
      "source": [
        "Finally we can start fine tuning the BERT transformer !"
      ],
      "metadata": {
        "id": "5wK4f3NHL3vv"
      }
    },
    {
      "cell_type": "code",
      "source": [
        "history_bert = model.fit([train_input_ids,train_attention_masks], y_train, validation_data=([val_input_ids,val_attention_masks], y_valid), epochs=4, batch_size=32)"
      ],
      "metadata": {
        "execution": {
          "iopub.status.busy": "2021-12-22T21:17:10.213370Z",
          "iopub.execute_input": "2021-12-22T21:17:10.213855Z",
          "iopub.status.idle": "2021-12-22T22:06:54.439353Z",
          "shell.execute_reply.started": "2021-12-22T21:17:10.213816Z",
          "shell.execute_reply": "2021-12-22T22:06:54.438631Z"
        },
        "trusted": true,
        "id": "Yq2aNlDvL3vv",
        "outputId": "34c80a53-f2bb-49f4-d64d-7e44d9cfa10f"
      },
      "execution_count": null,
      "outputs": [
        {
          "name": "stdout",
          "text": "Epoch 1/4\n1519/1519 [==============================] - 758s 490ms/step - loss: 0.5609 - categorical_accuracy: 0.7754 - val_loss: 0.3937 - val_categorical_accuracy: 0.8578\nEpoch 2/4\n1519/1519 [==============================] - 742s 489ms/step - loss: 0.2872 - categorical_accuracy: 0.8974 - val_loss: 0.2986 - val_categorical_accuracy: 0.8981\nEpoch 3/4\n1519/1519 [==============================] - 742s 488ms/step - loss: 0.1936 - categorical_accuracy: 0.9333 - val_loss: 0.2445 - val_categorical_accuracy: 0.9191\nEpoch 4/4\n1519/1519 [==============================] - 742s 488ms/step - loss: 0.1281 - categorical_accuracy: 0.9561 - val_loss: 0.2399 - val_categorical_accuracy: 0.9252\n",
          "output_type": "stream"
        }
      ]
    },
    {
      "cell_type": "markdown",
      "source": [
        "# BERT results"
      ],
      "metadata": {
        "id": "-QgvwVLNL3vv"
      }
    },
    {
      "cell_type": "code",
      "source": [
        "result_bert = model.predict([test_input_ids,test_attention_masks])"
      ],
      "metadata": {
        "execution": {
          "iopub.status.busy": "2021-12-22T22:06:54.441058Z",
          "iopub.execute_input": "2021-12-22T22:06:54.441322Z",
          "iopub.status.idle": "2021-12-22T22:07:16.077636Z",
          "shell.execute_reply.started": "2021-12-22T22:06:54.441287Z",
          "shell.execute_reply": "2021-12-22T22:07:16.076752Z"
        },
        "trusted": true,
        "id": "WEedCdu-L3vw"
      },
      "execution_count": null,
      "outputs": []
    },
    {
      "cell_type": "code",
      "source": [
        "y_pred_bert =  np.zeros_like(result_bert)\n",
        "y_pred_bert[np.arange(len(y_pred_bert)), result_bert.argmax(1)] = 1"
      ],
      "metadata": {
        "execution": {
          "iopub.status.busy": "2021-12-22T22:07:16.081165Z",
          "iopub.execute_input": "2021-12-22T22:07:16.081513Z",
          "iopub.status.idle": "2021-12-22T22:07:16.087746Z",
          "shell.execute_reply.started": "2021-12-22T22:07:16.081482Z",
          "shell.execute_reply": "2021-12-22T22:07:16.087002Z"
        },
        "trusted": true,
        "id": "Q_rtrlaGL3vw"
      },
      "execution_count": null,
      "outputs": []
    },
    {
      "cell_type": "code",
      "source": [
        "conf_matrix(y_test.argmax(1), y_pred_bert.argmax(1),'BERT Sentiment Analysis\\nConfusion Matrix')"
      ],
      "metadata": {
        "_kg_hide-input": true,
        "execution": {
          "iopub.status.busy": "2021-12-22T22:07:16.089167Z",
          "iopub.execute_input": "2021-12-22T22:07:16.089448Z",
          "iopub.status.idle": "2021-12-22T22:07:16.318816Z",
          "shell.execute_reply.started": "2021-12-22T22:07:16.089414Z",
          "shell.execute_reply": "2021-12-22T22:07:16.318033Z"
        },
        "trusted": true,
        "id": "g_fdJTOYL3vw",
        "outputId": "96b1aa18-f841-466a-e989-47e506ff29dd"
      },
      "execution_count": null,
      "outputs": [
        {
          "output_type": "display_data",
          "data": {
            "text/plain": "<Figure size 360x360 with 1 Axes>",
            "image/png": "[encoded data removed]"
          },
          "metadata": {}
        }
      ]
    },
    {
      "cell_type": "code",
      "source": [
        "print('\\tClassification Report for BERT:\\n\\n',classification_report(y_test,y_pred_bert, target_names=['Negative', 'Neutral', 'Positive']))"
      ],
      "metadata": {
        "_kg_hide-input": true,
        "execution": {
          "iopub.status.busy": "2021-12-22T22:07:16.319940Z",
          "iopub.execute_input": "2021-12-22T22:07:16.320692Z",
          "iopub.status.idle": "2021-12-22T22:07:16.345718Z",
          "shell.execute_reply.started": "2021-12-22T22:07:16.320653Z",
          "shell.execute_reply": "2021-12-22T22:07:16.345014Z"
        },
        "trusted": true,
        "id": "nxx53NSNL3vx",
        "outputId": "358d2ca3-4acd-4dfb-b164-c8e99c00ffe1"
      },
      "execution_count": null,
      "outputs": [
        {
          "name": "stdout",
          "text": "\tClassification Report for BERT:\n\n               precision    recall  f1-score   support\n\n    Negative       0.88      0.91      0.89      1629\n     Neutral       0.89      0.75      0.82       614\n    Positive       0.89      0.91      0.90      1544\n\n   micro avg       0.89      0.89      0.89      3787\n   macro avg       0.89      0.86      0.87      3787\nweighted avg       0.89      0.89      0.88      3787\n samples avg       0.89      0.89      0.89      3787\n\n",
          "output_type": "stream"
        }
      ]
    },
    {
      "cell_type": "markdown",
      "source": [
        "# RoBERTa Sentiment Analysis"
      ],
      "metadata": {
        "id": "e0C8ielqL3vx"
      }
    },
    {
      "cell_type": "markdown",
      "source": [
        "As seen for BERT, we first import the tokenizer used to train the original roberta transformer by Facebook."
      ],
      "metadata": {
        "id": "Q19jMUzXL3vy"
      }
    },
    {
      "cell_type": "code",
      "source": [
        "tokenizer_roberta = RobertaTokenizerFast.from_pretrained(\"roberta-base\")"
      ],
      "metadata": {
        "_kg_hide-output": true,
        "execution": {
          "iopub.status.busy": "2021-12-22T22:08:43.116218Z",
          "iopub.execute_input": "2021-12-22T22:08:43.116667Z",
          "iopub.status.idle": "2021-12-22T22:08:50.649025Z",
          "shell.execute_reply.started": "2021-12-22T22:08:43.116627Z",
          "shell.execute_reply": "2021-12-22T22:08:50.648287Z"
        },
        "trusted": true,
        "id": "MkzLitS_L3vy"
      },
      "execution_count": null,
      "outputs": []
    },
    {
      "cell_type": "markdown",
      "source": [
        "First, we check the length of the longest tokenized sentence by roberta tokenizer:"
      ],
      "metadata": {
        "id": "AqN5iaaBL3vy"
      }
    },
    {
      "cell_type": "code",
      "source": [
        "token_lens = []\n",
        "\n",
        "for txt in X_train:\n",
        "    tokens = tokenizer_roberta.encode(txt, max_length=512, truncation=True)\n",
        "    token_lens.append(len(tokens))\n",
        "max_length=np.max(token_lens)\n",
        "max_length"
      ],
      "metadata": {
        "execution": {
          "iopub.status.busy": "2021-12-22T22:08:50.651296Z",
          "iopub.execute_input": "2021-12-22T22:08:50.651554Z",
          "iopub.status.idle": "2021-12-22T22:09:00.109456Z",
          "shell.execute_reply.started": "2021-12-22T22:08:50.651524Z",
          "shell.execute_reply": "2021-12-22T22:09:00.108622Z"
        },
        "trusted": true,
        "id": "EhMef2BdL3vy",
        "outputId": "1152cdad-f83d-4b1d-ba27-0a6bf010f2a6"
      },
      "execution_count": null,
      "outputs": [
        {
          "execution_count": 162,
          "output_type": "execute_result",
          "data": {
            "text/plain": "89"
          },
          "metadata": {}
        }
      ]
    },
    {
      "cell_type": "code",
      "source": [
        "MAX_LEN=128"
      ],
      "metadata": {
        "execution": {
          "iopub.status.busy": "2021-12-22T22:09:00.110918Z",
          "iopub.execute_input": "2021-12-22T22:09:00.111182Z",
          "iopub.status.idle": "2021-12-22T22:09:00.115220Z",
          "shell.execute_reply.started": "2021-12-22T22:09:00.111146Z",
          "shell.execute_reply": "2021-12-22T22:09:00.114446Z"
        },
        "trusted": true,
        "id": "07SipFJJL3vz"
      },
      "execution_count": null,
      "outputs": []
    },
    {
      "cell_type": "markdown",
      "source": [
        "Then we can define the tokenization function"
      ],
      "metadata": {
        "id": "pQFkCFZgL3vz"
      }
    },
    {
      "cell_type": "code",
      "source": [
        "def tokenize_roberta(data,max_len=MAX_LEN) :\n",
        "    input_ids = []\n",
        "    attention_masks = []\n",
        "    for i in range(len(data)):\n",
        "        encoded = tokenizer_roberta.encode_plus(\n",
        "            data[i],\n",
        "            add_special_tokens=True,\n",
        "            max_length=max_len,\n",
        "            padding='max_length',\n",
        "            return_attention_mask=True\n",
        "        )\n",
        "        input_ids.append(encoded['input_ids'])\n",
        "        attention_masks.append(encoded['attention_mask'])\n",
        "    return np.array(input_ids),np.array(attention_masks)"
      ],
      "metadata": {
        "execution": {
          "iopub.status.busy": "2021-12-22T22:09:00.117509Z",
          "iopub.execute_input": "2021-12-22T22:09:00.117750Z",
          "iopub.status.idle": "2021-12-22T22:09:00.126043Z",
          "shell.execute_reply.started": "2021-12-22T22:09:00.117704Z",
          "shell.execute_reply": "2021-12-22T22:09:00.125367Z"
        },
        "trusted": true,
        "id": "gOWDCtpxL3vz"
      },
      "execution_count": null,
      "outputs": []
    },
    {
      "cell_type": "code",
      "source": [
        "train_input_ids, train_attention_masks = tokenize_roberta(X_train, MAX_LEN)\n",
        "val_input_ids, val_attention_masks = tokenize_roberta(X_valid, MAX_LEN)\n",
        "test_input_ids, test_attention_masks = tokenize_roberta(X_test, MAX_LEN)"
      ],
      "metadata": {
        "execution": {
          "iopub.status.busy": "2021-12-22T22:09:00.128420Z",
          "iopub.execute_input": "2021-12-22T22:09:00.128657Z",
          "iopub.status.idle": "2021-12-22T22:09:16.271659Z",
          "shell.execute_reply.started": "2021-12-22T22:09:00.128626Z",
          "shell.execute_reply": "2021-12-22T22:09:16.270814Z"
        },
        "trusted": true,
        "id": "BD8ypIHkL3v0"
      },
      "execution_count": null,
      "outputs": []
    },
    {
      "cell_type": "markdown",
      "source": [
        "# RoBERTa modeling"
      ],
      "metadata": {
        "id": "yMuQIjvXL3v0"
      }
    },
    {
      "cell_type": "code",
      "source": [
        "def create_model(bert_model, max_len=MAX_LEN):\n",
        "    \n",
        "    opt = tf.keras.optimizers.Adam(learning_rate=1e-5, decay=1e-7)\n",
        "    loss = tf.keras.losses.CategoricalCrossentropy()\n",
        "    accuracy = tf.keras.metrics.CategoricalAccuracy()\n",
        "\n",
        "    input_ids = tf.keras.Input(shape=(max_len,),dtype='int32')\n",
        "    attention_masks = tf.keras.Input(shape=(max_len,),dtype='int32')\n",
        "    output = bert_model([input_ids,attention_masks])\n",
        "    output = output[1]\n",
        "    output = tf.keras.layers.Dense(3, activation=tf.nn.softmax)(output)\n",
        "    model = tf.keras.models.Model(inputs = [input_ids,attention_masks],outputs = output)\n",
        "    model.compile(opt, loss=loss, metrics=accuracy)\n",
        "    return model"
      ],
      "metadata": {
        "execution": {
          "iopub.status.busy": "2021-12-22T22:09:16.275223Z",
          "iopub.execute_input": "2021-12-22T22:09:16.275460Z",
          "iopub.status.idle": "2021-12-22T22:09:16.282419Z",
          "shell.execute_reply.started": "2021-12-22T22:09:16.275433Z",
          "shell.execute_reply": "2021-12-22T22:09:16.281670Z"
        },
        "trusted": true,
        "id": "288NhXgML3v0"
      },
      "execution_count": null,
      "outputs": []
    },
    {
      "cell_type": "code",
      "source": [
        "roberta_model = TFRobertaModel.from_pretrained('roberta-base')"
      ],
      "metadata": {
        "_kg_hide-output": true,
        "execution": {
          "iopub.status.busy": "2021-12-22T22:09:16.283698Z",
          "iopub.execute_input": "2021-12-22T22:09:16.284104Z",
          "iopub.status.idle": "2021-12-22T22:09:19.200534Z",
          "shell.execute_reply.started": "2021-12-22T22:09:16.284069Z",
          "shell.execute_reply": "2021-12-22T22:09:19.198861Z"
        },
        "trusted": true,
        "id": "YLgBJGW9L3v1",
        "outputId": "546f3d75-406b-4f5c-a1de-ecb8400442ab"
      },
      "execution_count": null,
      "outputs": [
        {
          "name": "stderr",
          "text": "Some layers from the model checkpoint at roberta-base were not used when initializing TFRobertaModel: ['lm_head']\n- This IS expected if you are initializing TFRobertaModel from the checkpoint of a model trained on another task or with another architecture (e.g. initializing a BertForSequenceClassification model from a BertForPreTraining model).\n- This IS NOT expected if you are initializing TFRobertaModel from the checkpoint of a model that you expect to be exactly identical (initializing a BertForSequenceClassification model from a BertForSequenceClassification model).\nAll the layers of TFRobertaModel were initialized from the model checkpoint at roberta-base.\nIf your task is similar to the task the model of the checkpoint was trained on, you can already use TFRobertaModel for predictions without further training.\n",
          "output_type": "stream"
        }
      ]
    },
    {
      "cell_type": "code",
      "source": [
        "model = create_model(roberta_model, MAX_LEN)\n",
        "model.summary()"
      ],
      "metadata": {
        "execution": {
          "iopub.status.busy": "2021-12-22T22:09:19.203061Z",
          "iopub.execute_input": "2021-12-22T22:09:19.203495Z",
          "iopub.status.idle": "2021-12-22T22:09:21.496134Z",
          "shell.execute_reply.started": "2021-12-22T22:09:19.203453Z",
          "shell.execute_reply": "2021-12-22T22:09:21.495426Z"
        },
        "trusted": true,
        "id": "7z6A0O1RL3v1",
        "outputId": "ec2d3f95-6985-4145-be47-a57ba7bb0d99"
      },
      "execution_count": null,
      "outputs": [
        {
          "name": "stdout",
          "text": "Model: \"model_2\"\n__________________________________________________________________________________________________\nLayer (type)                    Output Shape         Param #     Connected to                     \n==================================================================================================\ninput_7 (InputLayer)            [(None, 128)]        0                                            \n__________________________________________________________________________________________________\ninput_8 (InputLayer)            [(None, 128)]        0                                            \n__________________________________________________________________________________________________\ntf_roberta_model_1 (TFRobertaMo TFBaseModelOutputWit 124645632   input_7[0][0]                    \n                                                                 input_8[0][0]                    \n__________________________________________________________________________________________________\ndense_2 (Dense)                 (None, 3)            2307        tf_roberta_model_1[0][1]         \n==================================================================================================\nTotal params: 124,647,939\nTrainable params: 124,647,939\nNon-trainable params: 0\n__________________________________________________________________________________________________\n",
          "output_type": "stream"
        }
      ]
    },
    {
      "cell_type": "code",
      "source": [
        "history_2 = model.fit([train_input_ids,train_attention_masks], y_train, validation_data=([val_input_ids,val_attention_masks], y_valid), epochs=4, batch_size=30)"
      ],
      "metadata": {
        "execution": {
          "iopub.status.busy": "2021-12-22T22:09:21.497524Z",
          "iopub.execute_input": "2021-12-22T22:09:21.497782Z",
          "iopub.status.idle": "2021-12-22T23:01:57.160710Z",
          "shell.execute_reply.started": "2021-12-22T22:09:21.497746Z",
          "shell.execute_reply": "2021-12-22T23:01:57.159908Z"
        },
        "trusted": true,
        "id": "OeTp7ADuL3v2",
        "outputId": "a61c4232-7fe4-41e8-8cf0-2533a4cd361d"
      },
      "execution_count": null,
      "outputs": [
        {
          "name": "stdout",
          "text": "Epoch 1/4\n1620/1620 [==============================] - 783s 475ms/step - loss: 0.5798 - categorical_accuracy: 0.7707 - val_loss: 0.4027 - val_categorical_accuracy: 0.8454\nEpoch 2/4\n1620/1620 [==============================] - 768s 474ms/step - loss: 0.3428 - categorical_accuracy: 0.8787 - val_loss: 0.3188 - val_categorical_accuracy: 0.8861\nEpoch 3/4\n1620/1620 [==============================] - 783s 484ms/step - loss: 0.2586 - categorical_accuracy: 0.9080 - val_loss: 0.2669 - val_categorical_accuracy: 0.9089\nEpoch 4/4\n1620/1620 [==============================] - 768s 474ms/step - loss: 0.1938 - categorical_accuracy: 0.9328 - val_loss: 0.2406 - val_categorical_accuracy: 0.9194\n",
          "output_type": "stream"
        }
      ]
    },
    {
      "cell_type": "markdown",
      "source": [
        "# RoBERTa results"
      ],
      "metadata": {
        "id": "gRwPgJ7-L3v2"
      }
    },
    {
      "cell_type": "code",
      "source": [
        "result_roberta = model.predict([test_input_ids,test_attention_masks])"
      ],
      "metadata": {
        "execution": {
          "iopub.status.busy": "2021-12-22T23:01:57.162528Z",
          "iopub.execute_input": "2021-12-22T23:01:57.162787Z",
          "iopub.status.idle": "2021-12-22T23:02:18.816734Z",
          "shell.execute_reply.started": "2021-12-22T23:01:57.162754Z",
          "shell.execute_reply": "2021-12-22T23:02:18.815967Z"
        },
        "trusted": true,
        "id": "jiX_eZZfL3v2"
      },
      "execution_count": null,
      "outputs": []
    },
    {
      "cell_type": "code",
      "source": [
        "y_pred_roberta =  np.zeros_like(result_roberta)\n",
        "y_pred_roberta[np.arange(len(y_pred_roberta)), result_roberta.argmax(1)] = 1"
      ],
      "metadata": {
        "execution": {
          "iopub.status.busy": "2021-12-22T23:02:18.818471Z",
          "iopub.execute_input": "2021-12-22T23:02:18.818725Z",
          "iopub.status.idle": "2021-12-22T23:02:18.824354Z",
          "shell.execute_reply.started": "2021-12-22T23:02:18.818691Z",
          "shell.execute_reply": "2021-12-22T23:02:18.823634Z"
        },
        "trusted": true,
        "id": "7W01dbqEL3v2"
      },
      "execution_count": null,
      "outputs": []
    },
    {
      "cell_type": "code",
      "source": [
        "conf_matrix(y_test.argmax(1),y_pred_roberta.argmax(1),'RoBERTa Sentiment Analysis\\nConfusion Matrix')"
      ],
      "metadata": {
        "_kg_hide-input": true,
        "execution": {
          "iopub.status.busy": "2021-12-22T23:02:18.826277Z",
          "iopub.execute_input": "2021-12-22T23:02:18.826841Z",
          "iopub.status.idle": "2021-12-22T23:02:19.069944Z",
          "shell.execute_reply.started": "2021-12-22T23:02:18.826804Z",
          "shell.execute_reply": "2021-12-22T23:02:19.069179Z"
        },
        "trusted": true,
        "id": "f1P81_giL3v2",
        "outputId": "7ffa4afd-6f17-4842-c79e-b81989b4b31e"
      },
      "execution_count": null,
      "outputs": [
        {
          "output_type": "display_data",
          "data": {
            "text/plain": "<Figure size 360x360 with 1 Axes>",
            "image/png": "[encoded data removed]"
          },
          "metadata": {}
        }
      ]
    },
    {
      "cell_type": "code",
      "source": [
        "print('\\tClassification Report for RoBERTa:\\n\\n',classification_report(y_test,y_pred_roberta, target_names=['Negative', 'Neutral', 'Positive']))"
      ],
      "metadata": {
        "_kg_hide-input": true,
        "execution": {
          "iopub.status.busy": "2021-12-22T23:02:19.071175Z",
          "iopub.execute_input": "2021-12-22T23:02:19.071621Z",
          "iopub.status.idle": "2021-12-22T23:02:19.095480Z",
          "shell.execute_reply.started": "2021-12-22T23:02:19.071583Z",
          "shell.execute_reply": "2021-12-22T23:02:19.094654Z"
        },
        "trusted": true,
        "id": "Ham3BZzWL3v3",
        "outputId": "f57ebdbb-41d0-48b1-eaf0-d366bbc6e558"
      },
      "execution_count": null,
      "outputs": [
        {
          "name": "stdout",
          "text": "\tClassification Report for RoBERTa:\n\n               precision    recall  f1-score   support\n\n    Negative       0.91      0.89      0.90      1629\n     Neutral       0.74      0.84      0.78       614\n    Positive       0.92      0.88      0.90      1544\n\n   micro avg       0.88      0.88      0.88      3787\n   macro avg       0.85      0.87      0.86      3787\nweighted avg       0.88      0.88      0.88      3787\n samples avg       0.88      0.88      0.88      3787\n\n",
          "output_type": "stream"
        }
      ]
    },
    {
      "cell_type": "markdown",
      "source": [
        "# Results Summary"
      ],
      "metadata": {
        "id": "3PUdz0MbL3v3"
      }
    },
    {
      "cell_type": "markdown",
      "source": [
        "## BERT Classification Report"
      ],
      "metadata": {
        "id": "frrFlbbzL3v4"
      }
    },
    {
      "cell_type": "code",
      "source": [
        "print('Classification Report for BERT:\\n',classification_report(y_test,y_pred_bert, target_names=['Negative', 'Neutral', 'Positive']))"
      ],
      "metadata": {
        "_kg_hide-input": true,
        "execution": {
          "iopub.status.busy": "2021-12-22T23:03:50.712012Z",
          "iopub.execute_input": "2021-12-22T23:03:50.712282Z",
          "iopub.status.idle": "2021-12-22T23:03:50.737960Z",
          "shell.execute_reply.started": "2021-12-22T23:03:50.712244Z",
          "shell.execute_reply": "2021-12-22T23:03:50.737074Z"
        },
        "trusted": true,
        "id": "_k6lJwy2L3v4",
        "outputId": "9fa11769-48eb-450a-9108-d678f0d9b981"
      },
      "execution_count": null,
      "outputs": [
        {
          "name": "stdout",
          "text": "Classification Report for BERT:\n               precision    recall  f1-score   support\n\n    Negative       0.88      0.91      0.89      1629\n     Neutral       0.89      0.75      0.82       614\n    Positive       0.89      0.91      0.90      1544\n\n   micro avg       0.89      0.89      0.89      3787\n   macro avg       0.89      0.86      0.87      3787\nweighted avg       0.89      0.89      0.88      3787\n samples avg       0.89      0.89      0.89      3787\n\n",
          "output_type": "stream"
        }
      ]
    },
    {
      "cell_type": "markdown",
      "source": [
        "## RoBERTa Classification Report"
      ],
      "metadata": {
        "id": "QKHWpLFOL3v5"
      }
    },
    {
      "cell_type": "code",
      "source": [
        "print('Classification Report for RoBERTa:\\n',classification_report(y_test,y_pred_roberta, target_names=['Negative', 'Neutral', 'Positive']))"
      ],
      "metadata": {
        "_kg_hide-input": true,
        "execution": {
          "iopub.status.busy": "2021-12-22T23:03:51.065166Z",
          "iopub.execute_input": "2021-12-22T23:03:51.065429Z",
          "iopub.status.idle": "2021-12-22T23:03:51.088265Z",
          "shell.execute_reply.started": "2021-12-22T23:03:51.065394Z",
          "shell.execute_reply": "2021-12-22T23:03:51.087556Z"
        },
        "trusted": true,
        "id": "O1nil70ZL3v5",
        "outputId": "7fc6c319-8b1c-48c3-ddab-4c1cd1c2aca3"
      },
      "execution_count": null,
      "outputs": [
        {
          "name": "stdout",
          "text": "Classification Report for RoBERTa:\n               precision    recall  f1-score   support\n\n    Negative       0.91      0.89      0.90      1629\n     Neutral       0.74      0.84      0.78       614\n    Positive       0.92      0.88      0.90      1544\n\n   micro avg       0.88      0.88      0.88      3787\n   macro avg       0.85      0.87      0.86      3787\nweighted avg       0.88      0.88      0.88      3787\n samples avg       0.88      0.88      0.88      3787\n\n",
          "output_type": "stream"
        }
      ]
    },
    {
      "cell_type": "markdown",
      "source": [
        "## Classification Matrix Comparison"
      ],
      "metadata": {
        "id": "Tv0o4FQvL3v5"
      }
    },
    {
      "cell_type": "code",
      "source": [
        "fig, ax = plt.subplots(1,2,figsize=(9,5.5))\n",
        "\n",
        "labels = ['Negative', 'Neutral', 'Positive']\n",
        "plt.suptitle('Sentiment Analysis Comparison\\n Confusion Matrix', fontsize=20)\n",
        "\n",
        "\n",
        "sns.heatmap(confusion_matrix(y_test.argmax(1),y_pred_bert.argmax(1)), annot=True, cmap=\"Blues\", fmt='g', cbar=False, ax=ax[0], annot_kws={\"size\":25})\n",
        "\n",
        "ax[0].set_title('BERT Classifier', fontsize=20)\n",
        "ax[0].set_yticklabels(labels, fontsize=17);\n",
        "ax[0].set_xticklabels(labels, fontsize=17);\n",
        "ax[0].set_ylabel('Test', fontsize=20)\n",
        "ax[0].set_xlabel('Predicted', fontsize=20)\n",
        "\n",
        "sns.heatmap(confusion_matrix(y_test.argmax(1),y_pred_roberta.argmax(1)), annot=True, cmap=\"Blues\", fmt='g', cbar=False, ax=ax[1], annot_kws={\"size\":25})\n",
        "ax[1].set_title('RoBERTa Classifier', fontsize=20)\n",
        "ax[1].set_yticklabels(labels, fontsize=17);\n",
        "ax[1].set_xticklabels(labels, fontsize=17);\n",
        "ax[1].set_ylabel('Test', fontsize=20)\n",
        "ax[1].set_xlabel('Predicted', fontsize=20)\n",
        "\n",
        "\n",
        "plt.show()"
      ],
      "metadata": {
        "_kg_hide-input": true,
        "execution": {
          "iopub.status.busy": "2021-12-22T23:03:51.670252Z",
          "iopub.execute_input": "2021-12-22T23:03:51.670767Z",
          "iopub.status.idle": "2021-12-22T23:03:52.085682Z",
          "shell.execute_reply.started": "2021-12-22T23:03:51.670727Z",
          "shell.execute_reply": "2021-12-22T23:03:52.084962Z"
        },
        "trusted": true,
        "id": "-Ch-uIzrL3v6",
        "outputId": "b079ba32-32e0-40f0-9ff5-6dcea29fa617"
      },
      "execution_count": null,
      "outputs": [
        {
          "output_type": "display_data",
          "data": {
            "text/plain": "<Figure size 648x396 with 2 Axes>",
            "image/png": "[encoded data removed]"
          },
          "metadata": {}
        }
      ]
    },
    {
      "cell_type": "markdown",
      "source": [
        "We can see that both the algorithms performed well on the classification task, with performance scores around 90%."
      ],
      "metadata": {
        "id": "bpAr0fxfL3v6"
      }
    },
    {
      "cell_type": "markdown",
      "source": [
        "**Thank you for reading my notebook!! Let me know if you have any question or if you want me to check out your works !! :)**"
      ],
      "metadata": {
        "id": "hmpim-KyL3v7"
      }
    }
  ]
}