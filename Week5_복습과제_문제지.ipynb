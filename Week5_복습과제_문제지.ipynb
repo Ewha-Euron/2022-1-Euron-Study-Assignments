{
  "cells": [
    {
      "cell_type": "markdown",
      "metadata": {
        "id": "7Rf4W2inTa3x"
      },
      "source": [
        "## (미니 배치) 확률적 경사 하강법"
      ]
    },
    {
      "cell_type": "code",
      "execution_count": 2,
      "metadata": {
        "id": "D0xJQLP_Ta35"
      },
      "outputs": [],
      "source": [
        "import numpy as np\n",
        "import matplotlib.pyplot as plt\n",
        "%matplotlib inline"
      ]
    },
    {
      "cell_type": "markdown",
      "metadata": {
        "id": "htkQbwqLTa3-"
      },
      "source": [
        "### 실제값을 Y=8X+2 시뮬레이션하는 데이터 값 생성\n",
        "* np.random.seed(0)\n",
        "* 0과 1사이의 600개의 랜덤 값을 지정한다.\n",
        "* X, y의 scatter plot으로 시각화 한다."
      ]
    },
    {
      "cell_type": "code",
      "execution_count": 3,
      "metadata": {
        "colab": {
          "base_uri": "https://localhost:8080/",
          "height": 286
        },
        "id": "NM9pxZTWTa4A",
        "outputId": "4b1ea8d0-9f6e-429b-dd15-8f327a42d653"
      },
      "outputs": [
        {
          "output_type": "execute_result",
          "data": {
            "text/plain": [
              "<matplotlib.collections.PathCollection at 0x7f2cfef72fd0>"
            ]
          },
          "metadata": {},
          "execution_count": 3
        },
        {
          "output_type": "display_data",
          "data": {
            "text/plain": [
              "<Figure size 432x288 with 1 Axes>"
            ],
            "image/png": "[encoded data removed]"
          },
          "metadata": {
            "needs_background": "light"
          }
        }
      ],
      "source": [
        "np.random.seed(0)\n",
        "X = 2 * np.random.rand(600,1)\n",
        "y = 2 +8 * X+ np.random.randn(600,1)\n",
        "\n",
        "plt.scatter(X, y)"
      ]
    },
    {
      "cell_type": "markdown",
      "metadata": {
        "id": "JCKRE9KMTa4A"
      },
      "source": [
        "### w0과 w1의 값을 최소화 할 수 있도록 업데이트 수행하는 함수 생성.\n",
        "* def get_weight_updates(w1, w0, X, y, learning_rate=0.01):"
      ]
    },
    {
      "cell_type": "code",
      "execution_count": 4,
      "metadata": {
        "id": "fhviEa7HTa4B"
      },
      "outputs": [],
      "source": [
        "def get_weight_updates(w1, w0, X, y, learning_rate=0.01):\n",
        "    N = len(y)\n",
        "    w1_update = np.zeros_like(w1)\n",
        "    w0_update = np.zeros_like(w0)\n",
        "    y_pred = np.dot(X, w1.T) + w0\n",
        "    diff = y-y_pred\n",
        "         \n",
        "    w0_factors = np.ones((N,1))\n",
        "\n",
        "    w1_update = -(2/N)*learning_rate*(np.dot(X.T, diff))\n",
        "    w0_update = -(2/N)*learning_rate*(np.dot(w0_factors.T, diff))    \n",
        "    \n",
        "    return w1_update, w0_update"
      ]
    },
    {
      "cell_type": "markdown",
      "metadata": {
        "id": "QUG9Pyy_Ta4B"
      },
      "source": [
        "### 반복적으로 경사 하강법을 이용하여 get_weigth_updates()를 호출하여 w1과 w0를 업데이트 하는 함수 생성"
      ]
    },
    {
      "cell_type": "code",
      "execution_count": 5,
      "metadata": {
        "id": "qZYy_weWTa4C"
      },
      "outputs": [],
      "source": [
        "def gradient_descent_steps(X, y, iters=10000):\n",
        "    w0 = np.zeros((1,1))\n",
        "    w1 = np.zeros((1,1))\n",
        "    \n",
        "    for ind in range(iters):\n",
        "        w1_update, w0_update = get_weight_updates(w1, w0, X, y, learning_rate=0.01)\n",
        "        w1 = w1 - w1_update\n",
        "        w0 = w0 - w0_update\n",
        "              \n",
        "    return w1, w0"
      ]
    },
    {
      "cell_type": "markdown",
      "metadata": {
        "id": "6vrgu9ijTa4D"
      },
      "source": [
        "### 예측 오차 비용을 계산을 수행하는 함수 생성 및 경사 하강법 수행"
      ]
    },
    {
      "cell_type": "code",
      "execution_count": 6,
      "metadata": {
        "colab": {
          "base_uri": "https://localhost:8080/"
        },
        "id": "aFbyongFTa4E",
        "outputId": "694a97ca-cd66-454d-fbe7-2e06bceba767"
      },
      "outputs": [
        {
          "output_type": "stream",
          "name": "stdout",
          "text": [
            "w1:7.758 w0:2.215\n",
            "Gradient Descent Total Cost:0.9765\n"
          ]
        }
      ],
      "source": [
        "def get_cost(y, y_pred):\n",
        "    N = len(y) \n",
        "    cost = np.sum(np.square(y - y_pred))/N\n",
        "    return cost\n",
        "\n",
        "w1, w0 = gradient_descent_steps(X, y, iters=1000)\n",
        "print(\"w1:{0:.3f} w0:{1:.3f}\".format(w1[0,0], w0[0,0]))\n",
        "y_pred = w1[0,0] * X + w0\n",
        "print('Gradient Descent Total Cost:{0:.4f}'.format(get_cost(y, y_pred)))"
      ]
    },
    {
      "cell_type": "markdown",
      "metadata": {
        "id": "qWvoYQ04Ta4F"
      },
      "source": [
        "### 미니 배치 확률적 경사 하강법을 이용한 최적 비용함수 도출\n",
        "* def stochastic_gradient_descent_steps(X, y, batch_size=10, iters=1000):\n",
        "    w0 = np.zeros((1,1))\n",
        "    w1 = np.zeros((1,1))\n",
        "    prev_cost = 100000\n",
        "    iter_index =0"
      ]
    },
    {
      "cell_type": "code",
      "execution_count": 7,
      "metadata": {
        "id": "brDjNUGITa4G"
      },
      "outputs": [],
      "source": [
        "def stochastic_gradient_descent_steps(X, y, batch_size=10, iters=1000):\n",
        "    w0 = np.zeros((1,1))\n",
        "    w1 = np.zeros((1,1))\n",
        "    prev_cost = 100000\n",
        "    iter_index =0\n",
        "    \n",
        "    for ind in range(iters):\n",
        "        np.random.seed(ind)\n",
        "        stochastic_random_index = np.random.permutation(X.shape[0])\n",
        "        sample_X = X[stochastic_random_index[0:batch_size]]\n",
        "        sample_y = y[stochastic_random_index[0:batch_size]]\n",
        "        w1_update, w0_update = get_weight_updates(w1, w0, sample_X, sample_y, learning_rate=0.01)\n",
        "        w1 = w1 - w1_update\n",
        "        w0 = w0 - w0_update\n",
        "    \n",
        "    return w1, w0"
      ]
    },
    {
      "cell_type": "code",
      "execution_count": 8,
      "metadata": {
        "colab": {
          "base_uri": "https://localhost:8080/"
        },
        "id": "HOtwhW3kTa4G",
        "outputId": "0aaea37b-284c-474f-918a-d8b63ca469cf"
      },
      "outputs": [
        {
          "output_type": "stream",
          "name": "stdout",
          "text": [
            "w1: 7.772 w0: 2.261\n",
            "Stochastic Gradient Descent Total Cost:0.9813\n"
          ]
        }
      ],
      "source": [
        "w1, w0 = stochastic_gradient_descent_steps(X, y, iters=1000)\n",
        "print(\"w1:\",round(w1[0,0],3),\"w0:\",round(w0[0,0],3))\n",
        "y_pred = w1[0,0] * X + w0\n",
        "print('Stochastic Gradient Descent Total Cost:{0:.4f}'.format(get_cost(y, y_pred)))"
      ]
    },
    {
      "cell_type": "markdown",
      "metadata": {
        "id": "w9VOr-xrTa4H"
      },
      "source": [
        "# 영화 관객수 예측 모델"
      ]
    },
    {
      "cell_type": "markdown",
      "metadata": {
        "id": "CPE2qsiKTa4I"
      },
      "source": [
        "movies_data.csv 파일이 존재합니다.\n",
        "\n",
        "영화에 관련된 여러가지 피처들을 통해 관객수를 예측해내는 것이 목표입니다.\n",
        "\n",
        "- title : 영화의 제목\n",
        "- distributor : 배급사\n",
        "- genre : 장르\n",
        "- release_time : 개봉일\n",
        "- time : 상영시간(분)\n",
        "- screening_rat : 상영등급\n",
        "- director : 감독이름\n",
        "- dir_prev_bfnum : 해당 감독이 이 영화를 만들기 전 제작에 참여한 영화에서의 평균 관객수(단 관객수가 알려지지 않은 영화 제외)\n",
        "- dir_prev_num : 해당 감독이 이 영화를 만들기 전 제작에 참여한 영화의 개수(단 관객수가 알려지지 않은 영화 제외)\n",
        "- num_staff : 스텝수\n",
        "- num_actor : 주연배우수\n",
        "- box_off_num : 관객수\n",
        "\n",
        "데이터셋 출처: https://dacon.io/competitions/open/235536/data\n",
        "\n",
        "(학습을 위해 원래 데이터셋에서 test.csv는 제외하고, train.csv 파일만을 고려하여 진행했습니다.)"
      ]
    },
    {
      "cell_type": "code",
      "execution_count": 3,
      "metadata": {
        "ExecuteTime": {
          "end_time": "2022-04-02T09:21:39.615965Z",
          "start_time": "2022-04-02T09:21:39.604994Z"
        },
        "id": "zfRzrvSATa4J"
      },
      "outputs": [],
      "source": [
        "#필요한 라이브러리 import\n",
        "import pandas as pd\n",
        "import numpy as np\n",
        "import seaborn as sns\n",
        "import matplotlib.pyplot as plt"
      ]
    },
    {
      "cell_type": "code",
      "execution_count": 25,
      "metadata": {
        "ExecuteTime": {
          "end_time": "2022-04-02T09:21:40.167802Z",
          "start_time": "2022-04-02T09:21:40.151844Z"
        },
        "id": "PoHgNDhWTa4K"
      },
      "outputs": [],
      "source": [
        "#데이터셋 불러오기\n",
        "movie = pd.read_csv('movies_data.csv')"
      ]
    },
    {
      "cell_type": "markdown",
      "metadata": {
        "id": "sN2ds_mbTa4K"
      },
      "source": [
        "## 데이터 전처리, EDA 및 시각화"
      ]
    },
    {
      "cell_type": "markdown",
      "metadata": {
        "id": "XeUdKz-vTa4L"
      },
      "source": [
        "### wine_data 데이터를 살펴보고, 분석에 쓸모 없을 것 같은 column을 삭제하시오.\n",
        "title, distributor, release_time, director 열 삭제"
      ]
    },
    {
      "cell_type": "code",
      "execution_count": 11,
      "metadata": {
        "ExecuteTime": {
          "end_time": "2022-04-02T09:21:42.415307Z",
          "start_time": "2022-04-02T09:21:42.388369Z"
        },
        "colab": {
          "base_uri": "https://localhost:8080/",
          "height": 337
        },
        "id": "bNMrZxyqTa4N",
        "outputId": "b39e945d-24d1-4a70-d757-6028af8cc7cd"
      },
      "outputs": [
        {
          "output_type": "execute_result",
          "data": {
            "text/plain": [
              "       title   distributor genre release_time  time screening_rat director  \\\n",
              "0     개들의 전쟁      롯데엔터테인먼트    액션   2012-11-22    96      청소년 관람불가      조병옥   \n",
              "1       내부자들        (주)쇼박스   느와르   2015-11-19   130      청소년 관람불가      우민호   \n",
              "2  은밀하게 위대하게        (주)쇼박스    액션   2013-06-05   123       15세 관람가      장철수   \n",
              "3   나는 공무원이다        (주)NEW   코미디   2012-07-12   101        전체 관람가      구자홍   \n",
              "4       불량남녀  쇼박스(주)미디어플렉스   코미디   2010-11-04   108       15세 관람가      신근호   \n",
              "\n",
              "   dir_prev_bfnum  dir_prev_num  num_staff  num_actor  box_off_num  \n",
              "0             NaN             0         91          2        23398  \n",
              "1      1161602.50             2        387          3      7072501  \n",
              "2       220775.25             4        343          4      6959083  \n",
              "3        23894.00             2         20          6       217866  \n",
              "4            1.00             1        251          2       483387  "
            ],
            "text/html": [
              "\n",
              "  <div id=\"df-335163c0-138a-462d-a91e-1157ae379df4\">\n",
              "    <div class=\"colab-df-container\">\n",
              "      <div>\n",
              "<style scoped>\n",
              "    .dataframe tbody tr th:only-of-type {\n",
              "        vertical-align: middle;\n",
              "    }\n",
              "\n",
              "    .dataframe tbody tr th {\n",
              "        vertical-align: top;\n",
              "    }\n",
              "\n",
              "    .dataframe thead th {\n",
              "        text-align: right;\n",
              "    }\n",
              "</style>\n",
              "<table border=\"1\" class=\"dataframe\">\n",
              "  <thead>\n",
              "    <tr style=\"text-align: right;\">\n",
              "      <th></th>\n",
              "      <th>title</th>\n",
              "      <th>distributor</th>\n",
              "      <th>genre</th>\n",
              "      <th>release_time</th>\n",
              "      <th>time</th>\n",
              "      <th>screening_rat</th>\n",
              "      <th>director</th>\n",
              "      <th>dir_prev_bfnum</th>\n",
              "      <th>dir_prev_num</th>\n",
              "      <th>num_staff</th>\n",
              "      <th>num_actor</th>\n",
              "      <th>box_off_num</th>\n",
              "    </tr>\n",
              "  </thead>\n",
              "  <tbody>\n",
              "    <tr>\n",
              "      <th>0</th>\n",
              "      <td>개들의 전쟁</td>\n",
              "      <td>롯데엔터테인먼트</td>\n",
              "      <td>액션</td>\n",
              "      <td>2012-11-22</td>\n",
              "      <td>96</td>\n",
              "      <td>청소년 관람불가</td>\n",
              "      <td>조병옥</td>\n",
              "      <td>NaN</td>\n",
              "      <td>0</td>\n",
              "      <td>91</td>\n",
              "      <td>2</td>\n",
              "      <td>23398</td>\n",
              "    </tr>\n",
              "    <tr>\n",
              "      <th>1</th>\n",
              "      <td>내부자들</td>\n",
              "      <td>(주)쇼박스</td>\n",
              "      <td>느와르</td>\n",
              "      <td>2015-11-19</td>\n",
              "      <td>130</td>\n",
              "      <td>청소년 관람불가</td>\n",
              "      <td>우민호</td>\n",
              "      <td>1161602.50</td>\n",
              "      <td>2</td>\n",
              "      <td>387</td>\n",
              "      <td>3</td>\n",
              "      <td>7072501</td>\n",
              "    </tr>\n",
              "    <tr>\n",
              "      <th>2</th>\n",
              "      <td>은밀하게 위대하게</td>\n",
              "      <td>(주)쇼박스</td>\n",
              "      <td>액션</td>\n",
              "      <td>2013-06-05</td>\n",
              "      <td>123</td>\n",
              "      <td>15세 관람가</td>\n",
              "      <td>장철수</td>\n",
              "      <td>220775.25</td>\n",
              "      <td>4</td>\n",
              "      <td>343</td>\n",
              "      <td>4</td>\n",
              "      <td>6959083</td>\n",
              "    </tr>\n",
              "    <tr>\n",
              "      <th>3</th>\n",
              "      <td>나는 공무원이다</td>\n",
              "      <td>(주)NEW</td>\n",
              "      <td>코미디</td>\n",
              "      <td>2012-07-12</td>\n",
              "      <td>101</td>\n",
              "      <td>전체 관람가</td>\n",
              "      <td>구자홍</td>\n",
              "      <td>23894.00</td>\n",
              "      <td>2</td>\n",
              "      <td>20</td>\n",
              "      <td>6</td>\n",
              "      <td>217866</td>\n",
              "    </tr>\n",
              "    <tr>\n",
              "      <th>4</th>\n",
              "      <td>불량남녀</td>\n",
              "      <td>쇼박스(주)미디어플렉스</td>\n",
              "      <td>코미디</td>\n",
              "      <td>2010-11-04</td>\n",
              "      <td>108</td>\n",
              "      <td>15세 관람가</td>\n",
              "      <td>신근호</td>\n",
              "      <td>1.00</td>\n",
              "      <td>1</td>\n",
              "      <td>251</td>\n",
              "      <td>2</td>\n",
              "      <td>483387</td>\n",
              "    </tr>\n",
              "  </tbody>\n",
              "</table>\n",
              "</div>\n",
              "      <button class=\"colab-df-convert\" onclick=\"convertToInteractive('df-335163c0-138a-462d-a91e-1157ae379df4')\"\n",
              "              title=\"Convert this dataframe to an interactive table.\"\n",
              "              style=\"display:none;\">\n",
              "        \n",
              "  <svg xmlns=\"http://www.w3.org/2000/svg\" height=\"24px\"viewBox=\"0 0 24 24\"\n",
              "       width=\"24px\">\n",
              "    <path d=\"M0 0h24v24H0V0z\" fill=\"none\"/>\n",
              "    <path d=\"M18.56 5.44l.94 2.06.94-2.06 2.06-.94-2.06-.94-.94-2.06-.94 2.06-2.06.94zm-11 1L8.5 8.5l.94-2.06 2.06-.94-2.06-.94L8.5 2.5l-.94 2.06-2.06.94zm10 10l.94 2.06.94-2.06 2.06-.94-2.06-.94-.94-2.06-.94 2.06-2.06.94z\"/><path d=\"M17.41 7.96l-1.37-1.37c-.4-.4-.92-.59-1.43-.59-.52 0-1.04.2-1.43.59L10.3 9.45l-7.72 7.72c-.78.78-.78 2.05 0 2.83L4 21.41c.39.39.9.59 1.41.59.51 0 1.02-.2 1.41-.59l7.78-7.78 2.81-2.81c.8-.78.8-2.07 0-2.86zM5.41 20L4 18.59l7.72-7.72 1.47 1.35L5.41 20z\"/>\n",
              "  </svg>\n",
              "      </button>\n",
              "      \n",
              "  <style>\n",
              "    .colab-df-container {\n",
              "      display:flex;\n",
              "      flex-wrap:wrap;\n",
              "      gap: 12px;\n",
              "    }\n",
              "\n",
              "    .colab-df-convert {\n",
              "      background-color: #E8F0FE;\n",
              "      border: none;\n",
              "      border-radius: 50%;\n",
              "      cursor: pointer;\n",
              "      display: none;\n",
              "      fill: #1967D2;\n",
              "      height: 32px;\n",
              "      padding: 0 0 0 0;\n",
              "      width: 32px;\n",
              "    }\n",
              "\n",
              "    .colab-df-convert:hover {\n",
              "      background-color: #E2EBFA;\n",
              "      box-shadow: 0px 1px 2px rgba(60, 64, 67, 0.3), 0px 1px 3px 1px rgba(60, 64, 67, 0.15);\n",
              "      fill: #174EA6;\n",
              "    }\n",
              "\n",
              "    [theme=dark] .colab-df-convert {\n",
              "      background-color: #3B4455;\n",
              "      fill: #D2E3FC;\n",
              "    }\n",
              "\n",
              "    [theme=dark] .colab-df-convert:hover {\n",
              "      background-color: #434B5C;\n",
              "      box-shadow: 0px 1px 3px 1px rgba(0, 0, 0, 0.15);\n",
              "      filter: drop-shadow(0px 1px 2px rgba(0, 0, 0, 0.3));\n",
              "      fill: #FFFFFF;\n",
              "    }\n",
              "  </style>\n",
              "\n",
              "      <script>\n",
              "        const buttonEl =\n",
              "          document.querySelector('#df-335163c0-138a-462d-a91e-1157ae379df4 button.colab-df-convert');\n",
              "        buttonEl.style.display =\n",
              "          google.colab.kernel.accessAllowed ? 'block' : 'none';\n",
              "\n",
              "        async function convertToInteractive(key) {\n",
              "          const element = document.querySelector('#df-335163c0-138a-462d-a91e-1157ae379df4');\n",
              "          const dataTable =\n",
              "            await google.colab.kernel.invokeFunction('convertToInteractive',\n",
              "                                                     [key], {});\n",
              "          if (!dataTable) return;\n",
              "\n",
              "          const docLinkHtml = 'Like what you see? Visit the ' +\n",
              "            '<a target=\"_blank\" href=https://colab.research.google.com/notebooks/data_table.ipynb>data table notebook</a>'\n",
              "            + ' to learn more about interactive tables.';\n",
              "          element.innerHTML = '';\n",
              "          dataTable['output_type'] = 'display_data';\n",
              "          await google.colab.output.renderOutput(dataTable, element);\n",
              "          const docLink = document.createElement('div');\n",
              "          docLink.innerHTML = docLinkHtml;\n",
              "          element.appendChild(docLink);\n",
              "        }\n",
              "      </script>\n",
              "    </div>\n",
              "  </div>\n",
              "  "
            ]
          },
          "metadata": {},
          "execution_count": 11
        }
      ],
      "source": [
        "movie.head()"
      ]
    },
    {
      "cell_type": "code",
      "execution_count": 26,
      "metadata": {
        "ExecuteTime": {
          "end_time": "2022-04-02T09:21:43.918851Z",
          "start_time": "2022-04-02T09:21:43.902894Z"
        },
        "id": "K5oVowBBTa4P"
      },
      "outputs": [],
      "source": [
        "movie.drop(['title','distributor','release_time','director'],axis=1,inplace=True)"
      ]
    },
    {
      "cell_type": "markdown",
      "metadata": {
        "id": "KsMMSYY6Ta4R"
      },
      "source": [
        "### movie 데이터에서 결측치가 있는지 확인하고, 그 결측치를 0으로 채우시오.\n",
        "dir_prev_bfnum의 변수 설명에서 관객수가 알려지지 않은 영화는 제외한다고 했으므로 단순하게 0으로 결측치 처리"
      ]
    },
    {
      "cell_type": "code",
      "execution_count": 15,
      "metadata": {
        "ExecuteTime": {
          "end_time": "2022-04-02T09:21:45.513368Z",
          "start_time": "2022-04-02T09:21:45.494418Z"
        },
        "colab": {
          "base_uri": "https://localhost:8080/"
        },
        "id": "i3eo909BTa4R",
        "outputId": "c876f637-6fea-4d3c-f954-d97a08c886da"
      },
      "outputs": [
        {
          "output_type": "stream",
          "name": "stdout",
          "text": [
            "<class 'pandas.core.frame.DataFrame'>\n",
            "RangeIndex: 600 entries, 0 to 599\n",
            "Data columns (total 8 columns):\n",
            " #   Column          Non-Null Count  Dtype  \n",
            "---  ------          --------------  -----  \n",
            " 0   genre           600 non-null    object \n",
            " 1   time            600 non-null    int64  \n",
            " 2   screening_rat   600 non-null    object \n",
            " 3   dir_prev_bfnum  270 non-null    float64\n",
            " 4   dir_prev_num    600 non-null    int64  \n",
            " 5   num_staff       600 non-null    int64  \n",
            " 6   num_actor       600 non-null    int64  \n",
            " 7   box_off_num     600 non-null    int64  \n",
            "dtypes: float64(1), int64(5), object(2)\n",
            "memory usage: 37.6+ KB\n"
          ]
        }
      ],
      "source": [
        "movie.info()"
      ]
    },
    {
      "cell_type": "code",
      "execution_count": 27,
      "metadata": {
        "ExecuteTime": {
          "end_time": "2022-04-02T09:21:46.529380Z",
          "start_time": "2022-04-02T09:21:46.510421Z"
        },
        "id": "yUCif39gTa4S"
      },
      "outputs": [],
      "source": [
        "movie['dir_prev_bfnum']=movie['dir_prev_bfnum'].fillna(0)"
      ]
    },
    {
      "cell_type": "code",
      "execution_count": 18,
      "metadata": {
        "ExecuteTime": {
          "end_time": "2022-04-02T09:21:46.883150Z",
          "start_time": "2022-04-02T09:21:46.874130Z"
        },
        "colab": {
          "base_uri": "https://localhost:8080/"
        },
        "id": "k5HfW9zvTa4S",
        "outputId": "0b604bbf-16b2-4583-ade8-37565eecceab"
      },
      "outputs": [
        {
          "output_type": "execute_result",
          "data": {
            "text/plain": [
              "genre             0\n",
              "time              0\n",
              "screening_rat     0\n",
              "dir_prev_bfnum    0\n",
              "dir_prev_num      0\n",
              "num_staff         0\n",
              "num_actor         0\n",
              "box_off_num       0\n",
              "dtype: int64"
            ]
          },
          "metadata": {},
          "execution_count": 18
        }
      ],
      "source": [
        "#결측치가 잘 채워졌는지 확인\n",
        "movie.isna().sum()"
      ]
    },
    {
      "cell_type": "markdown",
      "metadata": {
        "id": "GLqtwZRNTa4S"
      },
      "source": [
        "### 수치형 column들의 분포도를 히스토그램을 통해 시각적으로 살펴보고, 분포가 왜곡되어 있는 column이 있는지 판단하시오."
      ]
    },
    {
      "cell_type": "code",
      "execution_count": 22,
      "metadata": {
        "ExecuteTime": {
          "end_time": "2022-04-02T09:21:49.796164Z",
          "start_time": "2022-04-02T09:21:48.480313Z"
        },
        "colab": {
          "base_uri": "https://localhost:8080/",
          "height": 422
        },
        "id": "gBbgXYmtTa4S",
        "outputId": "b03db47b-49fd-4358-b679-b47c2e862e5e"
      },
      "outputs": [
        {
          "output_type": "execute_result",
          "data": {
            "text/plain": [
              "array([[<matplotlib.axes._subplots.AxesSubplot object at 0x7f2ce71a7090>,\n",
              "        <matplotlib.axes._subplots.AxesSubplot object at 0x7f2ce7132710>],\n",
              "       [<matplotlib.axes._subplots.AxesSubplot object at 0x7f2ce70efdd0>,\n",
              "        <matplotlib.axes._subplots.AxesSubplot object at 0x7f2ce70b4410>],\n",
              "       [<matplotlib.axes._subplots.AxesSubplot object at 0x7f2ce706ba10>,\n",
              "        <matplotlib.axes._subplots.AxesSubplot object at 0x7f2ce702e050>]],\n",
              "      dtype=object)"
            ]
          },
          "metadata": {},
          "execution_count": 22
        },
        {
          "output_type": "display_data",
          "data": {
            "text/plain": [
              "<Figure size 432x288 with 6 Axes>"
            ],
            "image/png": "[encoded data removed]"
          },
          "metadata": {
            "needs_background": "light"
          }
        }
      ],
      "source": [
        "movie.hist()"
      ]
    },
    {
      "cell_type": "markdown",
      "metadata": {
        "id": "S5eQT07oTa4T"
      },
      "source": [
        "### 위 문제에서 보았듯이, 타겟 변수인 box_off_num의 분포가 한 쪽으로 치우쳐져 있다. 타겟 변수에 대해 적절한 transformation을 적용하시오."
      ]
    },
    {
      "cell_type": "markdown",
      "metadata": {
        "id": "M-kwoTGFTa4T"
      },
      "source": [
        "-> box_off_num(타겟 변수), dir_prev_bfnum, num_actor, num_staff의 분포가 왜곡되어 보임 (후에 파이프라인에서 스케일링 작업 할 것)"
      ]
    },
    {
      "cell_type": "code",
      "execution_count": 28,
      "metadata": {
        "ExecuteTime": {
          "end_time": "2022-04-02T09:22:50.506469Z",
          "start_time": "2022-04-02T09:22:50.495499Z"
        },
        "id": "rXZwQGwdTa4T"
      },
      "outputs": [],
      "source": [
        "movie['box_off_num']=np.log1p(movie['box_off_num'])"
      ]
    },
    {
      "cell_type": "code",
      "execution_count": 29,
      "metadata": {
        "ExecuteTime": {
          "end_time": "2022-04-02T09:23:26.488966Z",
          "start_time": "2022-04-02T09:23:26.181746Z"
        },
        "colab": {
          "base_uri": "https://localhost:8080/",
          "height": 283
        },
        "id": "scmhU9urTa4U",
        "outputId": "0fe36848-eda3-45bc-af0b-c5567fecb2c6"
      },
      "outputs": [
        {
          "output_type": "execute_result",
          "data": {
            "text/plain": [
              "<matplotlib.axes._subplots.AxesSubplot at 0x7f2ce6bf1d90>"
            ]
          },
          "metadata": {},
          "execution_count": 29
        },
        {
          "output_type": "display_data",
          "data": {
            "text/plain": [
              "<Figure size 432x288 with 1 Axes>"
            ],
            "image/png": "[encoded data removed]"
          },
          "metadata": {
            "needs_background": "light"
          }
        }
      ],
      "source": [
        "#잘 transfromation 되었는지 확인\n",
        "movie['box_off_num'].hist()"
      ]
    },
    {
      "cell_type": "markdown",
      "metadata": {
        "id": "tniWKg40Ta4U"
      },
      "source": [
        "## Linear Regression OLS로 학습/예측/평가 수행\n",
        "* x_train, x_test, y_train, y_test = train_test_split(x, y, train_size=0.8, test_size=0.2)\n",
        "* mse, rmse, r2_score을 출력\n",
        "* 선형 회귀에 사용하는 설명 변수: ['time', 'dir_prev_bfnum', 'num_staff']"
      ]
    },
    {
      "cell_type": "code",
      "execution_count": 31,
      "metadata": {
        "colab": {
          "base_uri": "https://localhost:8080/"
        },
        "id": "r-qgOPHhTa4V",
        "outputId": "848a1be1-4da6-4a32-d052-3f075a8050b8"
      },
      "outputs": [
        {
          "output_type": "stream",
          "name": "stdout",
          "text": [
            "MSE : 4.823 , RMSE : 2.196\n",
            "Variance score : 0.568\n"
          ]
        }
      ],
      "source": [
        "from sklearn.model_selection import train_test_split\n",
        "from sklearn.linear_model import LinearRegression\n",
        "from sklearn.metrics import mean_squared_error , r2_score\n",
        "\n",
        "y = movie['box_off_num']\n",
        "x = movie[['time', 'dir_prev_bfnum', 'num_staff']]\n",
        "\n",
        "X_train , X_test , y_train , y_test = train_test_split(x , y ,test_size=0.2)\n",
        "\n",
        "# Linear Regression OLS로 학습/예측/평가 수행. \n",
        "lr = LinearRegression()\n",
        "lr.fit(X_train ,y_train )\n",
        "y_preds = lr.predict(X_test)\n",
        "mse = mean_squared_error(y_test, y_preds)\n",
        "rmse = np.sqrt(mse)\n",
        "\n",
        "print('MSE : {0:.3f} , RMSE : {1:.3F}'.format(mse , rmse))\n",
        "print('Variance score : {0:.3f}'.format(r2_score(y_test, y_preds)))"
      ]
    },
    {
      "cell_type": "markdown",
      "metadata": {
        "id": "GarD3i9CTa4V"
      },
      "source": [
        "### * 위에서 구한 모델의 절편과 회귀계수를 출력\n",
        "* 회귀 계수는 round 하지 않고 그대로 출력한다."
      ]
    },
    {
      "cell_type": "code",
      "execution_count": 35,
      "metadata": {
        "colab": {
          "base_uri": "https://localhost:8080/"
        },
        "id": "9UuarvW0Ta4V",
        "outputId": "956dabbd-2c98-4fad-fa9d-03543a81f02a"
      },
      "outputs": [
        {
          "output_type": "stream",
          "name": "stdout",
          "text": [
            "절편 값: 4.252014522922606\n",
            "회귀 계수값: [3.83351720e-02 2.05339561e-07 1.16570778e-02]\n"
          ]
        }
      ],
      "source": [
        "print('절편 값:',lr.intercept_)\n",
        "print('회귀 계수값:',lr.coef_)"
      ]
    },
    {
      "cell_type": "markdown",
      "metadata": {
        "id": "tJBD9jpqTa4V"
      },
      "source": [
        "### * cross_val_score( )로 5 Fold 셋으로 MSE 를 구한 뒤 이를 기반으로 다시  RMSE 구한다."
      ]
    },
    {
      "cell_type": "code",
      "execution_count": 38,
      "metadata": {
        "colab": {
          "base_uri": "https://localhost:8080/"
        },
        "id": "5I746GeMTa4W",
        "outputId": "eb3b496a-52f6-4c27-e3cb-aa36a58b2677"
      },
      "outputs": [
        {
          "output_type": "stream",
          "name": "stdout",
          "text": [
            " 5 folds 의 개별 Negative MSE scores:  [-4.12 -4.71 -4.66 -5.17 -4.58]\n",
            " 5 folds 의 개별 RMSE scores :  [2.03 2.17 2.16 2.27 2.14]\n",
            " 5 folds 의 평균 RMSE : 2.155 \n"
          ]
        }
      ],
      "source": [
        "from sklearn.model_selection import cross_val_score\n",
        "\n",
        "neg_mse_scores = cross_val_score(lr, x, y, scoring=\"neg_mean_squared_error\", cv = 5)\n",
        "rmse_scores  = np.sqrt(-1 * neg_mse_scores)\n",
        "avg_rmse = np.mean(rmse_scores)\n",
        "\n",
        "print(' 5 folds 의 개별 Negative MSE scores: ', np.round(neg_mse_scores, 2))\n",
        "print(' 5 folds 의 개별 RMSE scores : ', np.round(rmse_scores, 2))\n",
        "print(' 5 folds 의 평균 RMSE : {0:.3f} '.format(avg_rmse))\n"
      ]
    },
    {
      "cell_type": "markdown",
      "metadata": {
        "id": "1oCjjBY7Ta4W"
      },
      "source": [
        "### numerical과 categorical로 구분하여 저장한 후, 수치형 변수와 범주형 변수를 확인한다."
      ]
    },
    {
      "cell_type": "code",
      "execution_count": 84,
      "metadata": {
        "id": "zBx8y4HKTa4W"
      },
      "outputs": [],
      "source": [
        "movie = pd.read_csv('movies_data.csv')\n",
        "movie.drop(['title','distributor','release_time','director'],axis=1,inplace=True)\n",
        "categorical=movie[['genre','screening_rat']]\n",
        "numerical=movie[['time','dir_prev_bfnum','dir_prev_num','num_staff','num_actor','box_off_num']]\n",
        "movie['dir_prev_bfnum']=movie['dir_prev_bfnum'].fillna(0)\n",
        "movie['box_off_num']=np.log1p(movie['box_off_num'])"
      ]
    },
    {
      "cell_type": "markdown",
      "metadata": {
        "id": "uzF50Y7MTa4W"
      },
      "source": [
        "### 위에서 지정한 numerical 변수 간의 상관관계를 heatmap을 통해 표현한다."
      ]
    },
    {
      "cell_type": "code",
      "execution_count": 41,
      "metadata": {
        "colab": {
          "base_uri": "https://localhost:8080/",
          "height": 464
        },
        "id": "JaiHMM8uTa4X",
        "outputId": "0dedd153-fbc3-4889-eafc-11c6954077a2"
      },
      "outputs": [
        {
          "output_type": "execute_result",
          "data": {
            "text/plain": [
              "<matplotlib.axes._subplots.AxesSubplot at 0x7f7bb0f3a3d0>"
            ]
          },
          "metadata": {},
          "execution_count": 41
        },
        {
          "output_type": "display_data",
          "data": {
            "text/plain": [
              "<Figure size 432x432 with 2 Axes>"
            ],
            "image/png": "[encoded data removed]"
          },
          "metadata": {
            "needs_background": "light"
          }
        }
      ],
      "source": [
        "import seaborn as sns\n",
        "\n",
        "plt.figure(figsize=(6,6))\n",
        "sns.heatmap(numerical.corr(), annot=True)"
      ]
    },
    {
      "cell_type": "markdown",
      "metadata": {
        "id": "j6nr5EpXTa4X"
      },
      "source": [
        "### 데이터에서 피쳐값과 타겟값을 분리하여 각각 X_movie, y_movie으로 저장하시오. (target은 box_off_num)"
      ]
    },
    {
      "cell_type": "code",
      "execution_count": 85,
      "metadata": {
        "ExecuteTime": {
          "end_time": "2022-04-02T09:23:56.349831Z",
          "start_time": "2022-04-02T09:23:56.331879Z"
        },
        "id": "GL05Au5_Ta4X"
      },
      "outputs": [],
      "source": [
        "X_movie=movie.drop(['box_off_num'],axis=1,inplace=False)\n",
        "y_movie=movie['box_off_num']"
      ]
    },
    {
      "cell_type": "code",
      "execution_count": 86,
      "metadata": {
        "ExecuteTime": {
          "end_time": "2022-04-02T09:23:57.619030Z",
          "start_time": "2022-04-02T09:23:57.604071Z"
        },
        "colab": {
          "base_uri": "https://localhost:8080/",
          "height": 423
        },
        "id": "g7Qh7jhBTa4X",
        "outputId": "576b878b-2120-4c62-a82d-47dfadb7f312"
      },
      "outputs": [
        {
          "output_type": "execute_result",
          "data": {
            "text/plain": [
              "    genre  time screening_rat  dir_prev_bfnum  dir_prev_num  num_staff  \\\n",
              "0      액션    96      청소년 관람불가            0.00             0         91   \n",
              "1     느와르   130      청소년 관람불가      1161602.50             2        387   \n",
              "2      액션   123       15세 관람가       220775.25             4        343   \n",
              "3     코미디   101        전체 관람가        23894.00             2         20   \n",
              "4     코미디   108       15세 관람가            1.00             1        251   \n",
              "..    ...   ...           ...             ...           ...        ...   \n",
              "595   드라마   111      청소년 관람불가         3833.00             1        510   \n",
              "596   드라마   127       15세 관람가       496061.00             1        286   \n",
              "597    공포    99      청소년 관람불가            0.00             0        123   \n",
              "598   느와르   102       15세 관람가            0.00             0        431   \n",
              "599    액션   120       15세 관람가            0.00             0        363   \n",
              "\n",
              "     num_actor  \n",
              "0            2  \n",
              "1            3  \n",
              "2            4  \n",
              "3            6  \n",
              "4            2  \n",
              "..         ...  \n",
              "595          7  \n",
              "596          6  \n",
              "597          4  \n",
              "598          4  \n",
              "599          5  \n",
              "\n",
              "[600 rows x 7 columns]"
            ],
            "text/html": [
              "\n",
              "  <div id=\"df-07fe1e25-68cc-4c33-a3c1-7189c10f0335\">\n",
              "    <div class=\"colab-df-container\">\n",
              "      <div>\n",
              "<style scoped>\n",
              "    .dataframe tbody tr th:only-of-type {\n",
              "        vertical-align: middle;\n",
              "    }\n",
              "\n",
              "    .dataframe tbody tr th {\n",
              "        vertical-align: top;\n",
              "    }\n",
              "\n",
              "    .dataframe thead th {\n",
              "        text-align: right;\n",
              "    }\n",
              "</style>\n",
              "<table border=\"1\" class=\"dataframe\">\n",
              "  <thead>\n",
              "    <tr style=\"text-align: right;\">\n",
              "      <th></th>\n",
              "      <th>genre</th>\n",
              "      <th>time</th>\n",
              "      <th>screening_rat</th>\n",
              "      <th>dir_prev_bfnum</th>\n",
              "      <th>dir_prev_num</th>\n",
              "      <th>num_staff</th>\n",
              "      <th>num_actor</th>\n",
              "    </tr>\n",
              "  </thead>\n",
              "  <tbody>\n",
              "    <tr>\n",
              "      <th>0</th>\n",
              "      <td>액션</td>\n",
              "      <td>96</td>\n",
              "      <td>청소년 관람불가</td>\n",
              "      <td>0.00</td>\n",
              "      <td>0</td>\n",
              "      <td>91</td>\n",
              "      <td>2</td>\n",
              "    </tr>\n",
              "    <tr>\n",
              "      <th>1</th>\n",
              "      <td>느와르</td>\n",
              "      <td>130</td>\n",
              "      <td>청소년 관람불가</td>\n",
              "      <td>1161602.50</td>\n",
              "      <td>2</td>\n",
              "      <td>387</td>\n",
              "      <td>3</td>\n",
              "    </tr>\n",
              "    <tr>\n",
              "      <th>2</th>\n",
              "      <td>액션</td>\n",
              "      <td>123</td>\n",
              "      <td>15세 관람가</td>\n",
              "      <td>220775.25</td>\n",
              "      <td>4</td>\n",
              "      <td>343</td>\n",
              "      <td>4</td>\n",
              "    </tr>\n",
              "    <tr>\n",
              "      <th>3</th>\n",
              "      <td>코미디</td>\n",
              "      <td>101</td>\n",
              "      <td>전체 관람가</td>\n",
              "      <td>23894.00</td>\n",
              "      <td>2</td>\n",
              "      <td>20</td>\n",
              "      <td>6</td>\n",
              "    </tr>\n",
              "    <tr>\n",
              "      <th>4</th>\n",
              "      <td>코미디</td>\n",
              "      <td>108</td>\n",
              "      <td>15세 관람가</td>\n",
              "      <td>1.00</td>\n",
              "      <td>1</td>\n",
              "      <td>251</td>\n",
              "      <td>2</td>\n",
              "    </tr>\n",
              "    <tr>\n",
              "      <th>...</th>\n",
              "      <td>...</td>\n",
              "      <td>...</td>\n",
              "      <td>...</td>\n",
              "      <td>...</td>\n",
              "      <td>...</td>\n",
              "      <td>...</td>\n",
              "      <td>...</td>\n",
              "    </tr>\n",
              "    <tr>\n",
              "      <th>595</th>\n",
              "      <td>드라마</td>\n",
              "      <td>111</td>\n",
              "      <td>청소년 관람불가</td>\n",
              "      <td>3833.00</td>\n",
              "      <td>1</td>\n",
              "      <td>510</td>\n",
              "      <td>7</td>\n",
              "    </tr>\n",
              "    <tr>\n",
              "      <th>596</th>\n",
              "      <td>드라마</td>\n",
              "      <td>127</td>\n",
              "      <td>15세 관람가</td>\n",
              "      <td>496061.00</td>\n",
              "      <td>1</td>\n",
              "      <td>286</td>\n",
              "      <td>6</td>\n",
              "    </tr>\n",
              "    <tr>\n",
              "      <th>597</th>\n",
              "      <td>공포</td>\n",
              "      <td>99</td>\n",
              "      <td>청소년 관람불가</td>\n",
              "      <td>0.00</td>\n",
              "      <td>0</td>\n",
              "      <td>123</td>\n",
              "      <td>4</td>\n",
              "    </tr>\n",
              "    <tr>\n",
              "      <th>598</th>\n",
              "      <td>느와르</td>\n",
              "      <td>102</td>\n",
              "      <td>15세 관람가</td>\n",
              "      <td>0.00</td>\n",
              "      <td>0</td>\n",
              "      <td>431</td>\n",
              "      <td>4</td>\n",
              "    </tr>\n",
              "    <tr>\n",
              "      <th>599</th>\n",
              "      <td>액션</td>\n",
              "      <td>120</td>\n",
              "      <td>15세 관람가</td>\n",
              "      <td>0.00</td>\n",
              "      <td>0</td>\n",
              "      <td>363</td>\n",
              "      <td>5</td>\n",
              "    </tr>\n",
              "  </tbody>\n",
              "</table>\n",
              "<p>600 rows × 7 columns</p>\n",
              "</div>\n",
              "      <button class=\"colab-df-convert\" onclick=\"convertToInteractive('df-07fe1e25-68cc-4c33-a3c1-7189c10f0335')\"\n",
              "              title=\"Convert this dataframe to an interactive table.\"\n",
              "              style=\"display:none;\">\n",
              "        \n",
              "  <svg xmlns=\"http://www.w3.org/2000/svg\" height=\"24px\"viewBox=\"0 0 24 24\"\n",
              "       width=\"24px\">\n",
              "    <path d=\"M0 0h24v24H0V0z\" fill=\"none\"/>\n",
              "    <path d=\"M18.56 5.44l.94 2.06.94-2.06 2.06-.94-2.06-.94-.94-2.06-.94 2.06-2.06.94zm-11 1L8.5 8.5l.94-2.06 2.06-.94-2.06-.94L8.5 2.5l-.94 2.06-2.06.94zm10 10l.94 2.06.94-2.06 2.06-.94-2.06-.94-.94-2.06-.94 2.06-2.06.94z\"/><path d=\"M17.41 7.96l-1.37-1.37c-.4-.4-.92-.59-1.43-.59-.52 0-1.04.2-1.43.59L10.3 9.45l-7.72 7.72c-.78.78-.78 2.05 0 2.83L4 21.41c.39.39.9.59 1.41.59.51 0 1.02-.2 1.41-.59l7.78-7.78 2.81-2.81c.8-.78.8-2.07 0-2.86zM5.41 20L4 18.59l7.72-7.72 1.47 1.35L5.41 20z\"/>\n",
              "  </svg>\n",
              "      </button>\n",
              "      \n",
              "  <style>\n",
              "    .colab-df-container {\n",
              "      display:flex;\n",
              "      flex-wrap:wrap;\n",
              "      gap: 12px;\n",
              "    }\n",
              "\n",
              "    .colab-df-convert {\n",
              "      background-color: #E8F0FE;\n",
              "      border: none;\n",
              "      border-radius: 50%;\n",
              "      cursor: pointer;\n",
              "      display: none;\n",
              "      fill: #1967D2;\n",
              "      height: 32px;\n",
              "      padding: 0 0 0 0;\n",
              "      width: 32px;\n",
              "    }\n",
              "\n",
              "    .colab-df-convert:hover {\n",
              "      background-color: #E2EBFA;\n",
              "      box-shadow: 0px 1px 2px rgba(60, 64, 67, 0.3), 0px 1px 3px 1px rgba(60, 64, 67, 0.15);\n",
              "      fill: #174EA6;\n",
              "    }\n",
              "\n",
              "    [theme=dark] .colab-df-convert {\n",
              "      background-color: #3B4455;\n",
              "      fill: #D2E3FC;\n",
              "    }\n",
              "\n",
              "    [theme=dark] .colab-df-convert:hover {\n",
              "      background-color: #434B5C;\n",
              "      box-shadow: 0px 1px 3px 1px rgba(0, 0, 0, 0.15);\n",
              "      filter: drop-shadow(0px 1px 2px rgba(0, 0, 0, 0.3));\n",
              "      fill: #FFFFFF;\n",
              "    }\n",
              "  </style>\n",
              "\n",
              "      <script>\n",
              "        const buttonEl =\n",
              "          document.querySelector('#df-07fe1e25-68cc-4c33-a3c1-7189c10f0335 button.colab-df-convert');\n",
              "        buttonEl.style.display =\n",
              "          google.colab.kernel.accessAllowed ? 'block' : 'none';\n",
              "\n",
              "        async function convertToInteractive(key) {\n",
              "          const element = document.querySelector('#df-07fe1e25-68cc-4c33-a3c1-7189c10f0335');\n",
              "          const dataTable =\n",
              "            await google.colab.kernel.invokeFunction('convertToInteractive',\n",
              "                                                     [key], {});\n",
              "          if (!dataTable) return;\n",
              "\n",
              "          const docLinkHtml = 'Like what you see? Visit the ' +\n",
              "            '<a target=\"_blank\" href=https://colab.research.google.com/notebooks/data_table.ipynb>data table notebook</a>'\n",
              "            + ' to learn more about interactive tables.';\n",
              "          element.innerHTML = '';\n",
              "          dataTable['output_type'] = 'display_data';\n",
              "          await google.colab.output.renderOutput(dataTable, element);\n",
              "          const docLink = document.createElement('div');\n",
              "          docLink.innerHTML = docLinkHtml;\n",
              "          element.appendChild(docLink);\n",
              "        }\n",
              "      </script>\n",
              "    </div>\n",
              "  </div>\n",
              "  "
            ]
          },
          "metadata": {},
          "execution_count": 86
        }
      ],
      "source": [
        "#데이터 확인 (X_movie)\n",
        "X_movie"
      ]
    },
    {
      "cell_type": "code",
      "execution_count": 87,
      "metadata": {
        "ExecuteTime": {
          "end_time": "2022-04-02T09:23:58.160692Z",
          "start_time": "2022-04-02T09:23:58.149574Z"
        },
        "colab": {
          "base_uri": "https://localhost:8080/"
        },
        "id": "4xWmT-_9Ta4X",
        "outputId": "dd449a28-411a-4a00-9672-226c9a50035b"
      },
      "outputs": [
        {
          "output_type": "execute_result",
          "data": {
            "text/plain": [
              "0      10.060449\n",
              "1      15.771725\n",
              "2      15.755558\n",
              "3      12.291640\n",
              "4      13.088575\n",
              "         ...    \n",
              "595    14.204231\n",
              "596    14.355762\n",
              "597     7.814400\n",
              "598    14.600565\n",
              "599    15.784933\n",
              "Name: box_off_num, Length: 600, dtype: float64"
            ]
          },
          "metadata": {},
          "execution_count": 87
        }
      ],
      "source": [
        "#데이터 확인(y_movie)\n",
        "y_movie"
      ]
    },
    {
      "cell_type": "markdown",
      "metadata": {
        "id": "PFs20zU3Ta4Y"
      },
      "source": [
        "### 피쳐값 중 카테고리 변수가 2가지 있다. 2개의 카테고리 변수가 어떤 값을 갖고 있는지 파악하시오. 이에 대해 Encoding을 진행하고 각각 어떻게 Encoding 되었는지 설명하시오. (LabelEncoder 사용)\n",
        "ex) 드라마 4, 청불 3, ..."
      ]
    },
    {
      "cell_type": "code",
      "execution_count": 88,
      "metadata": {
        "ExecuteTime": {
          "end_time": "2022-04-02T09:24:04.237600Z",
          "start_time": "2022-04-02T09:24:04.222603Z"
        },
        "colab": {
          "base_uri": "https://localhost:8080/"
        },
        "id": "PFJZawCtTa4Y",
        "outputId": "1adcc81b-18cb-47f2-f63a-79839856a2f0"
      },
      "outputs": [
        {
          "output_type": "execute_result",
          "data": {
            "text/plain": [
              "청소년 관람불가    204\n",
              "15세 관람가     202\n",
              "12세 관람가     102\n",
              "전체 관람가       92\n",
              "Name: screening_rat, dtype: int64"
            ]
          },
          "metadata": {},
          "execution_count": 88
        }
      ],
      "source": [
        "from sklearn import preprocessing\n",
        "\n",
        "X_movie['genre'].value_counts()\n",
        "X_movie['screening_rat'].value_counts()"
      ]
    },
    {
      "cell_type": "code",
      "execution_count": 89,
      "metadata": {
        "ExecuteTime": {
          "end_time": "2022-04-02T09:24:04.846412Z",
          "start_time": "2022-04-02T09:24:04.832449Z"
        },
        "id": "B49LzJRSTa4Y"
      },
      "outputs": [],
      "source": [
        "#genre, screening_rat 피쳐에 대해 Encoding 진행\n",
        "from sklearn.preprocessing import LabelEncoder\n",
        "\n",
        "def encode_features(dataDF):\n",
        "    features=['genre','screening_rat']\n",
        "    for feature in features:\n",
        "        le=LabelEncoder()\n",
        "        le=le.fit(dataDF[feature])\n",
        "        dataDF[feature]=le.transform(dataDF[feature])\n",
        "    \n",
        "    return dataDF\n",
        "\n",
        "x_movie=encode_features(X_movie)\n"
      ]
    },
    {
      "cell_type": "code",
      "execution_count": 90,
      "metadata": {
        "ExecuteTime": {
          "end_time": "2022-04-02T09:24:05.670545Z",
          "start_time": "2022-04-02T09:24:05.651597Z"
        },
        "colab": {
          "base_uri": "https://localhost:8080/",
          "height": 206
        },
        "id": "32opasy8Ta4Z",
        "outputId": "8eb784a6-1d5d-42e9-ec4a-c0e5ad4e12b3"
      },
      "outputs": [
        {
          "output_type": "execute_result",
          "data": {
            "text/plain": [
              "   genre  time  screening_rat  dir_prev_bfnum  dir_prev_num  num_staff  \\\n",
              "0     10    96              3            0.00             0         91   \n",
              "1      2   130              3      1161602.50             2        387   \n",
              "2     10   123              1       220775.25             4        343   \n",
              "3     11   101              2        23894.00             2         20   \n",
              "4     11   108              1            1.00             1        251   \n",
              "\n",
              "   num_actor  \n",
              "0          2  \n",
              "1          3  \n",
              "2          4  \n",
              "3          6  \n",
              "4          2  "
            ],
            "text/html": [
              "\n",
              "  <div id=\"df-92d6f7d3-00b1-4514-b7ac-78044713bd34\">\n",
              "    <div class=\"colab-df-container\">\n",
              "      <div>\n",
              "<style scoped>\n",
              "    .dataframe tbody tr th:only-of-type {\n",
              "        vertical-align: middle;\n",
              "    }\n",
              "\n",
              "    .dataframe tbody tr th {\n",
              "        vertical-align: top;\n",
              "    }\n",
              "\n",
              "    .dataframe thead th {\n",
              "        text-align: right;\n",
              "    }\n",
              "</style>\n",
              "<table border=\"1\" class=\"dataframe\">\n",
              "  <thead>\n",
              "    <tr style=\"text-align: right;\">\n",
              "      <th></th>\n",
              "      <th>genre</th>\n",
              "      <th>time</th>\n",
              "      <th>screening_rat</th>\n",
              "      <th>dir_prev_bfnum</th>\n",
              "      <th>dir_prev_num</th>\n",
              "      <th>num_staff</th>\n",
              "      <th>num_actor</th>\n",
              "    </tr>\n",
              "  </thead>\n",
              "  <tbody>\n",
              "    <tr>\n",
              "      <th>0</th>\n",
              "      <td>10</td>\n",
              "      <td>96</td>\n",
              "      <td>3</td>\n",
              "      <td>0.00</td>\n",
              "      <td>0</td>\n",
              "      <td>91</td>\n",
              "      <td>2</td>\n",
              "    </tr>\n",
              "    <tr>\n",
              "      <th>1</th>\n",
              "      <td>2</td>\n",
              "      <td>130</td>\n",
              "      <td>3</td>\n",
              "      <td>1161602.50</td>\n",
              "      <td>2</td>\n",
              "      <td>387</td>\n",
              "      <td>3</td>\n",
              "    </tr>\n",
              "    <tr>\n",
              "      <th>2</th>\n",
              "      <td>10</td>\n",
              "      <td>123</td>\n",
              "      <td>1</td>\n",
              "      <td>220775.25</td>\n",
              "      <td>4</td>\n",
              "      <td>343</td>\n",
              "      <td>4</td>\n",
              "    </tr>\n",
              "    <tr>\n",
              "      <th>3</th>\n",
              "      <td>11</td>\n",
              "      <td>101</td>\n",
              "      <td>2</td>\n",
              "      <td>23894.00</td>\n",
              "      <td>2</td>\n",
              "      <td>20</td>\n",
              "      <td>6</td>\n",
              "    </tr>\n",
              "    <tr>\n",
              "      <th>4</th>\n",
              "      <td>11</td>\n",
              "      <td>108</td>\n",
              "      <td>1</td>\n",
              "      <td>1.00</td>\n",
              "      <td>1</td>\n",
              "      <td>251</td>\n",
              "      <td>2</td>\n",
              "    </tr>\n",
              "  </tbody>\n",
              "</table>\n",
              "</div>\n",
              "      <button class=\"colab-df-convert\" onclick=\"convertToInteractive('df-92d6f7d3-00b1-4514-b7ac-78044713bd34')\"\n",
              "              title=\"Convert this dataframe to an interactive table.\"\n",
              "              style=\"display:none;\">\n",
              "        \n",
              "  <svg xmlns=\"http://www.w3.org/2000/svg\" height=\"24px\"viewBox=\"0 0 24 24\"\n",
              "       width=\"24px\">\n",
              "    <path d=\"M0 0h24v24H0V0z\" fill=\"none\"/>\n",
              "    <path d=\"M18.56 5.44l.94 2.06.94-2.06 2.06-.94-2.06-.94-.94-2.06-.94 2.06-2.06.94zm-11 1L8.5 8.5l.94-2.06 2.06-.94-2.06-.94L8.5 2.5l-.94 2.06-2.06.94zm10 10l.94 2.06.94-2.06 2.06-.94-2.06-.94-.94-2.06-.94 2.06-2.06.94z\"/><path d=\"M17.41 7.96l-1.37-1.37c-.4-.4-.92-.59-1.43-.59-.52 0-1.04.2-1.43.59L10.3 9.45l-7.72 7.72c-.78.78-.78 2.05 0 2.83L4 21.41c.39.39.9.59 1.41.59.51 0 1.02-.2 1.41-.59l7.78-7.78 2.81-2.81c.8-.78.8-2.07 0-2.86zM5.41 20L4 18.59l7.72-7.72 1.47 1.35L5.41 20z\"/>\n",
              "  </svg>\n",
              "      </button>\n",
              "      \n",
              "  <style>\n",
              "    .colab-df-container {\n",
              "      display:flex;\n",
              "      flex-wrap:wrap;\n",
              "      gap: 12px;\n",
              "    }\n",
              "\n",
              "    .colab-df-convert {\n",
              "      background-color: #E8F0FE;\n",
              "      border: none;\n",
              "      border-radius: 50%;\n",
              "      cursor: pointer;\n",
              "      display: none;\n",
              "      fill: #1967D2;\n",
              "      height: 32px;\n",
              "      padding: 0 0 0 0;\n",
              "      width: 32px;\n",
              "    }\n",
              "\n",
              "    .colab-df-convert:hover {\n",
              "      background-color: #E2EBFA;\n",
              "      box-shadow: 0px 1px 2px rgba(60, 64, 67, 0.3), 0px 1px 3px 1px rgba(60, 64, 67, 0.15);\n",
              "      fill: #174EA6;\n",
              "    }\n",
              "\n",
              "    [theme=dark] .colab-df-convert {\n",
              "      background-color: #3B4455;\n",
              "      fill: #D2E3FC;\n",
              "    }\n",
              "\n",
              "    [theme=dark] .colab-df-convert:hover {\n",
              "      background-color: #434B5C;\n",
              "      box-shadow: 0px 1px 3px 1px rgba(0, 0, 0, 0.15);\n",
              "      filter: drop-shadow(0px 1px 2px rgba(0, 0, 0, 0.3));\n",
              "      fill: #FFFFFF;\n",
              "    }\n",
              "  </style>\n",
              "\n",
              "      <script>\n",
              "        const buttonEl =\n",
              "          document.querySelector('#df-92d6f7d3-00b1-4514-b7ac-78044713bd34 button.colab-df-convert');\n",
              "        buttonEl.style.display =\n",
              "          google.colab.kernel.accessAllowed ? 'block' : 'none';\n",
              "\n",
              "        async function convertToInteractive(key) {\n",
              "          const element = document.querySelector('#df-92d6f7d3-00b1-4514-b7ac-78044713bd34');\n",
              "          const dataTable =\n",
              "            await google.colab.kernel.invokeFunction('convertToInteractive',\n",
              "                                                     [key], {});\n",
              "          if (!dataTable) return;\n",
              "\n",
              "          const docLinkHtml = 'Like what you see? Visit the ' +\n",
              "            '<a target=\"_blank\" href=https://colab.research.google.com/notebooks/data_table.ipynb>data table notebook</a>'\n",
              "            + ' to learn more about interactive tables.';\n",
              "          element.innerHTML = '';\n",
              "          dataTable['output_type'] = 'display_data';\n",
              "          await google.colab.output.renderOutput(dataTable, element);\n",
              "          const docLink = document.createElement('div');\n",
              "          docLink.innerHTML = docLinkHtml;\n",
              "          element.appendChild(docLink);\n",
              "        }\n",
              "      </script>\n",
              "    </div>\n",
              "  </div>\n",
              "  "
            ]
          },
          "metadata": {},
          "execution_count": 90
        }
      ],
      "source": [
        "#Encoding이 잘 되었는지 확인\n",
        "X_movie.head()"
      ]
    },
    {
      "cell_type": "markdown",
      "metadata": {
        "id": "pgBdJ2djTa4Z"
      },
      "source": [
        "### train_test_split()을 이용해 train set와 test set를 분리하시오.\n",
        "- testset 의 size : 전체 데이터 셋의 20%\n",
        "- 각 set의 이름 : X_train, X_test, y_train, y_test\n",
        "- random_state = 123"
      ]
    },
    {
      "cell_type": "code",
      "execution_count": 91,
      "metadata": {
        "ExecuteTime": {
          "end_time": "2022-04-02T09:24:09.044031Z",
          "start_time": "2022-04-02T09:24:09.033061Z"
        },
        "id": "TV3Ksp0FTa4Z"
      },
      "outputs": [],
      "source": [
        "from sklearn.model_selection import train_test_split\n",
        "\n",
        "X_train , X_test , y_train , y_test = train_test_split(X_movie, y_movie ,test_size=0.2,random_state=123)"
      ]
    },
    {
      "cell_type": "code",
      "execution_count": 37,
      "metadata": {
        "ExecuteTime": {
          "end_time": "2022-04-02T09:24:09.706361Z",
          "start_time": "2022-04-02T09:24:09.701374Z"
        },
        "id": "Bw8m6R_2Ta4a"
      },
      "outputs": [],
      "source": [
        "#잘 분리되었는지 확인\n"
      ]
    },
    {
      "cell_type": "markdown",
      "metadata": {
        "id": "zynWPAR8Ta4a"
      },
      "source": [
        "## 선형 규제 모델 사용해보기"
      ]
    },
    {
      "cell_type": "markdown",
      "metadata": {
        "id": "iCfYbaF-Ta4a"
      },
      "source": [
        "### 릿지\n",
        "- 릿지 회귀를 적용하여 5개 폴드의 개별 RMSE와 평균 RMSE 점수를 구하시오. \n",
        "- random_state=123\n",
        "- 성능 지표는 RMSE로 판단\n",
        "- 폴드 개수는 5개, alpha=10"
      ]
    },
    {
      "cell_type": "code",
      "execution_count": 92,
      "metadata": {
        "colab": {
          "base_uri": "https://localhost:8080/"
        },
        "id": "NnBzdaVGTa4b",
        "outputId": "255ae600-a33a-4353-ba35-56b73e306be3"
      },
      "outputs": [
        {
          "output_type": "stream",
          "name": "stdout",
          "text": [
            " 5 folds 의 개별 Negative MSE scores:  [-4.496 -4.652 -4.298 -4.769 -4.386]\n",
            " 5 folds 의 개별 RMSE scores :  [2.12  2.157 2.073 2.184 2.094]\n",
            " 5 folds 의 평균 RMSE : 2.126 \n"
          ]
        }
      ],
      "source": [
        "from sklearn.linear_model import Ridge\n",
        "from sklearn.model_selection import cross_val_score\n",
        "\n",
        "ridge = Ridge(alpha = 10)\n",
        "neg_mse_scores = cross_val_score(ridge, X_movie, y_movie, scoring=\"neg_mean_squared_error\", cv = 5)\n",
        "rmse_scores  = np.sqrt(-1 * neg_mse_scores)\n",
        "avg_rmse = np.mean(rmse_scores)\n",
        "print(' 5 folds 의 개별 Negative MSE scores: ', np.round(neg_mse_scores, 3))\n",
        "print(' 5 folds 의 개별 RMSE scores : ', np.round(rmse_scores,3))\n",
        "print(' 5 folds 의 평균 RMSE : {0:.3f} '.format(avg_rmse))"
      ]
    },
    {
      "cell_type": "markdown",
      "metadata": {
        "id": "h4imD4W4Ta4b"
      },
      "source": [
        "- 알파 값을 변화시켜가며 릿지를 수행하시오.\n",
        "- alphas = [0 , 0.1 , 1 , 10 , 100]"
      ]
    },
    {
      "cell_type": "code",
      "execution_count": 93,
      "metadata": {
        "colab": {
          "base_uri": "https://localhost:8080/"
        },
        "id": "TQlBhfIDTa4b",
        "outputId": "965c3bc6-56d8-4d53-be67-ab2d0d6c6d29"
      },
      "outputs": [
        {
          "output_type": "stream",
          "name": "stdout",
          "text": [
            "alpha 0 일 때 5 folds 의 평균 RMSE : 2.126 \n",
            "alpha 0.1 일 때 5 folds 의 평균 RMSE : 2.126 \n",
            "alpha 1 일 때 5 folds 의 평균 RMSE : 2.126 \n",
            "alpha 10 일 때 5 folds 의 평균 RMSE : 2.126 \n",
            "alpha 100 일 때 5 folds 의 평균 RMSE : 2.124 \n"
          ]
        }
      ],
      "source": [
        "alphas = [0 , 0.1 , 1 , 10 , 100]\n",
        "\n",
        "for alpha in alphas :\n",
        "    ridge = Ridge(alpha = alpha)\n",
        "    \n",
        "    neg_mse_scores = cross_val_score(ridge, X_movie, y_movie, scoring=\"neg_mean_squared_error\", cv = 5)\n",
        "    avg_rmse = np.mean(np.sqrt(-1 * neg_mse_scores))\n",
        "    print('alpha {0} 일 때 5 folds 의 평균 RMSE : {1:.3f} '.format(alpha,avg_rmse))"
      ]
    },
    {
      "cell_type": "markdown",
      "metadata": {
        "id": "db9ydNDFTa4b"
      },
      "source": [
        "- 위의 알파 값에 따른 피처별 회귀계수를 시각화하시오."
      ]
    },
    {
      "cell_type": "code",
      "execution_count": 95,
      "metadata": {
        "colab": {
          "base_uri": "https://localhost:8080/",
          "height": 390
        },
        "id": "NtEphc0tTa4c",
        "outputId": "226a3ed6-2321-4265-a6a9-d576dd2bdd40"
      },
      "outputs": [
        {
          "output_type": "display_data",
          "data": {
            "text/plain": [
              "<Figure size 1296x432 with 5 Axes>"
            ],
            "image/png": "[encoded data removed]"
          },
          "metadata": {
            "needs_background": "light"
          }
        }
      ],
      "source": [
        "fig , axs = plt.subplots(figsize=(18,6) , nrows=1 , ncols=5)\n",
        "\n",
        "coeff_df = pd.DataFrame()\n",
        "\n",
        "for pos , alpha in enumerate(alphas) :\n",
        "    ridge = Ridge(alpha = alpha)\n",
        "    ridge.fit(X_movie , y_movie)  \n",
        "    coeff = pd.Series(data=ridge.coef_ , index=X_movie.columns )\n",
        "    colname='alpha:'+str(alpha)\n",
        "    coeff_df[colname] = coeff\n",
        "    coeff = coeff.sort_values(ascending=False)\n",
        "    axs[pos].set_title(colname)\n",
        "    axs[pos].set_xlim(-3,6)\n",
        "    sns.barplot(x=coeff.values , y=coeff.index, ax=axs[pos])\n",
        "\n",
        "plt.show()\n"
      ]
    },
    {
      "cell_type": "markdown",
      "metadata": {
        "id": "VrAYOpJuTa4c"
      },
      "source": [
        "- 알파 값에 따른 피처별 회귀 계수 값을 데이터프레임 형태로 나타내시오."
      ]
    },
    {
      "cell_type": "code",
      "execution_count": 96,
      "metadata": {
        "colab": {
          "base_uri": "https://localhost:8080/",
          "height": 268
        },
        "id": "Nm_g-aRdTa4c",
        "outputId": "c5297fae-bf8c-4496-be9c-21b05ac47544"
      },
      "outputs": [
        {
          "output_type": "execute_result",
          "data": {
            "text/plain": [
              "                     alpha:0     alpha:0.1       alpha:1      alpha:10  \\\n",
              "dir_prev_num    2.160634e-01  2.160306e-01  2.157357e-01  2.128311e-01   \n",
              "genre           4.951502e-02  4.951441e-02  4.950886e-02  4.945307e-02   \n",
              "num_actor       4.634393e-02  4.634272e-02  4.633189e-02  4.622398e-02   \n",
              "time            3.825985e-02  3.825998e-02  3.826112e-02  3.827236e-02   \n",
              "num_staff       1.120740e-02  1.120752e-02  1.120860e-02  1.121924e-02   \n",
              "dir_prev_bfnum -3.245587e-08 -3.244754e-08 -3.237272e-08 -3.163539e-08   \n",
              "screening_rat  -2.772074e-01 -2.771708e-01 -2.768418e-01 -2.735943e-01   \n",
              "\n",
              "                   alpha:100  \n",
              "dir_prev_num    1.875993e-01  \n",
              "genre           4.887130e-02  \n",
              "num_actor       4.518251e-02  \n",
              "time            3.836886e-02  \n",
              "num_staff       1.131268e-02  \n",
              "dir_prev_bfnum -2.520886e-08  \n",
              "screening_rat  -2.448568e-01  "
            ],
            "text/html": [
              "\n",
              "  <div id=\"df-7bc15d6f-7bb7-44a9-866a-8b7024c03259\">\n",
              "    <div class=\"colab-df-container\">\n",
              "      <div>\n",
              "<style scoped>\n",
              "    .dataframe tbody tr th:only-of-type {\n",
              "        vertical-align: middle;\n",
              "    }\n",
              "\n",
              "    .dataframe tbody tr th {\n",
              "        vertical-align: top;\n",
              "    }\n",
              "\n",
              "    .dataframe thead th {\n",
              "        text-align: right;\n",
              "    }\n",
              "</style>\n",
              "<table border=\"1\" class=\"dataframe\">\n",
              "  <thead>\n",
              "    <tr style=\"text-align: right;\">\n",
              "      <th></th>\n",
              "      <th>alpha:0</th>\n",
              "      <th>alpha:0.1</th>\n",
              "      <th>alpha:1</th>\n",
              "      <th>alpha:10</th>\n",
              "      <th>alpha:100</th>\n",
              "    </tr>\n",
              "  </thead>\n",
              "  <tbody>\n",
              "    <tr>\n",
              "      <th>dir_prev_num</th>\n",
              "      <td>2.160634e-01</td>\n",
              "      <td>2.160306e-01</td>\n",
              "      <td>2.157357e-01</td>\n",
              "      <td>2.128311e-01</td>\n",
              "      <td>1.875993e-01</td>\n",
              "    </tr>\n",
              "    <tr>\n",
              "      <th>genre</th>\n",
              "      <td>4.951502e-02</td>\n",
              "      <td>4.951441e-02</td>\n",
              "      <td>4.950886e-02</td>\n",
              "      <td>4.945307e-02</td>\n",
              "      <td>4.887130e-02</td>\n",
              "    </tr>\n",
              "    <tr>\n",
              "      <th>num_actor</th>\n",
              "      <td>4.634393e-02</td>\n",
              "      <td>4.634272e-02</td>\n",
              "      <td>4.633189e-02</td>\n",
              "      <td>4.622398e-02</td>\n",
              "      <td>4.518251e-02</td>\n",
              "    </tr>\n",
              "    <tr>\n",
              "      <th>time</th>\n",
              "      <td>3.825985e-02</td>\n",
              "      <td>3.825998e-02</td>\n",
              "      <td>3.826112e-02</td>\n",
              "      <td>3.827236e-02</td>\n",
              "      <td>3.836886e-02</td>\n",
              "    </tr>\n",
              "    <tr>\n",
              "      <th>num_staff</th>\n",
              "      <td>1.120740e-02</td>\n",
              "      <td>1.120752e-02</td>\n",
              "      <td>1.120860e-02</td>\n",
              "      <td>1.121924e-02</td>\n",
              "      <td>1.131268e-02</td>\n",
              "    </tr>\n",
              "    <tr>\n",
              "      <th>dir_prev_bfnum</th>\n",
              "      <td>-3.245587e-08</td>\n",
              "      <td>-3.244754e-08</td>\n",
              "      <td>-3.237272e-08</td>\n",
              "      <td>-3.163539e-08</td>\n",
              "      <td>-2.520886e-08</td>\n",
              "    </tr>\n",
              "    <tr>\n",
              "      <th>screening_rat</th>\n",
              "      <td>-2.772074e-01</td>\n",
              "      <td>-2.771708e-01</td>\n",
              "      <td>-2.768418e-01</td>\n",
              "      <td>-2.735943e-01</td>\n",
              "      <td>-2.448568e-01</td>\n",
              "    </tr>\n",
              "  </tbody>\n",
              "</table>\n",
              "</div>\n",
              "      <button class=\"colab-df-convert\" onclick=\"convertToInteractive('df-7bc15d6f-7bb7-44a9-866a-8b7024c03259')\"\n",
              "              title=\"Convert this dataframe to an interactive table.\"\n",
              "              style=\"display:none;\">\n",
              "        \n",
              "  <svg xmlns=\"http://www.w3.org/2000/svg\" height=\"24px\"viewBox=\"0 0 24 24\"\n",
              "       width=\"24px\">\n",
              "    <path d=\"M0 0h24v24H0V0z\" fill=\"none\"/>\n",
              "    <path d=\"M18.56 5.44l.94 2.06.94-2.06 2.06-.94-2.06-.94-.94-2.06-.94 2.06-2.06.94zm-11 1L8.5 8.5l.94-2.06 2.06-.94-2.06-.94L8.5 2.5l-.94 2.06-2.06.94zm10 10l.94 2.06.94-2.06 2.06-.94-2.06-.94-.94-2.06-.94 2.06-2.06.94z\"/><path d=\"M17.41 7.96l-1.37-1.37c-.4-.4-.92-.59-1.43-.59-.52 0-1.04.2-1.43.59L10.3 9.45l-7.72 7.72c-.78.78-.78 2.05 0 2.83L4 21.41c.39.39.9.59 1.41.59.51 0 1.02-.2 1.41-.59l7.78-7.78 2.81-2.81c.8-.78.8-2.07 0-2.86zM5.41 20L4 18.59l7.72-7.72 1.47 1.35L5.41 20z\"/>\n",
              "  </svg>\n",
              "      </button>\n",
              "      \n",
              "  <style>\n",
              "    .colab-df-container {\n",
              "      display:flex;\n",
              "      flex-wrap:wrap;\n",
              "      gap: 12px;\n",
              "    }\n",
              "\n",
              "    .colab-df-convert {\n",
              "      background-color: #E8F0FE;\n",
              "      border: none;\n",
              "      border-radius: 50%;\n",
              "      cursor: pointer;\n",
              "      display: none;\n",
              "      fill: #1967D2;\n",
              "      height: 32px;\n",
              "      padding: 0 0 0 0;\n",
              "      width: 32px;\n",
              "    }\n",
              "\n",
              "    .colab-df-convert:hover {\n",
              "      background-color: #E2EBFA;\n",
              "      box-shadow: 0px 1px 2px rgba(60, 64, 67, 0.3), 0px 1px 3px 1px rgba(60, 64, 67, 0.15);\n",
              "      fill: #174EA6;\n",
              "    }\n",
              "\n",
              "    [theme=dark] .colab-df-convert {\n",
              "      background-color: #3B4455;\n",
              "      fill: #D2E3FC;\n",
              "    }\n",
              "\n",
              "    [theme=dark] .colab-df-convert:hover {\n",
              "      background-color: #434B5C;\n",
              "      box-shadow: 0px 1px 3px 1px rgba(0, 0, 0, 0.15);\n",
              "      filter: drop-shadow(0px 1px 2px rgba(0, 0, 0, 0.3));\n",
              "      fill: #FFFFFF;\n",
              "    }\n",
              "  </style>\n",
              "\n",
              "      <script>\n",
              "        const buttonEl =\n",
              "          document.querySelector('#df-7bc15d6f-7bb7-44a9-866a-8b7024c03259 button.colab-df-convert');\n",
              "        buttonEl.style.display =\n",
              "          google.colab.kernel.accessAllowed ? 'block' : 'none';\n",
              "\n",
              "        async function convertToInteractive(key) {\n",
              "          const element = document.querySelector('#df-7bc15d6f-7bb7-44a9-866a-8b7024c03259');\n",
              "          const dataTable =\n",
              "            await google.colab.kernel.invokeFunction('convertToInteractive',\n",
              "                                                     [key], {});\n",
              "          if (!dataTable) return;\n",
              "\n",
              "          const docLinkHtml = 'Like what you see? Visit the ' +\n",
              "            '<a target=\"_blank\" href=https://colab.research.google.com/notebooks/data_table.ipynb>data table notebook</a>'\n",
              "            + ' to learn more about interactive tables.';\n",
              "          element.innerHTML = '';\n",
              "          dataTable['output_type'] = 'display_data';\n",
              "          await google.colab.output.renderOutput(dataTable, element);\n",
              "          const docLink = document.createElement('div');\n",
              "          docLink.innerHTML = docLinkHtml;\n",
              "          element.appendChild(docLink);\n",
              "        }\n",
              "      </script>\n",
              "    </div>\n",
              "  </div>\n",
              "  "
            ]
          },
          "metadata": {},
          "execution_count": 96
        }
      ],
      "source": [
        "ridge_alphas = [0 , 0.1 , 1 , 10 , 100]\n",
        "sort_column = 'alpha:'+str(ridge_alphas[0])\n",
        "coeff_df.sort_values(by=sort_column, ascending=False)"
      ]
    },
    {
      "cell_type": "markdown",
      "metadata": {
        "id": "JrUEbN5bTa4c"
      },
      "source": [
        "### 라쏘\n",
        "- get_linear_reg_eval 함수에 라쏘 회귀를 적용하여 5개 폴드의 평균 RMSE 점수를 구하시오. \n",
        "- random_state=123\n",
        "- 성능 지표는 RMSE로 판단\n",
        "- 폴드 개수는 5개, lasso_alphas = [ 0.07, 0.1, 0.5, 1, 3]"
      ]
    },
    {
      "cell_type": "code",
      "execution_count": 97,
      "metadata": {
        "id": "nB-CukA2Ta4d"
      },
      "outputs": [],
      "source": [
        "from sklearn.linear_model import Lasso, ElasticNet\n",
        "\n",
        "def get_linear_reg_eval(model_name, params=None, X_data_n=None, y_target_n=None, \n",
        "                        verbose=True, return_coeff=True):\n",
        "    coeff_df = pd.DataFrame()\n",
        "    if verbose : print('####### ', model_name , '#######')\n",
        "    for param in params:\n",
        "        if model_name =='Ridge': model = Ridge(alpha=param)\n",
        "        elif model_name =='Lasso': model = Lasso(alpha=param)\n",
        "        elif model_name =='ElasticNet': model = ElasticNet(alpha=param, l1_ratio=0.7)\n",
        "        neg_mse_scores = cross_val_score(model, X_data_n, \n",
        "                                             y_target_n, scoring=\"neg_mean_squared_error\", cv = 5)\n",
        "        avg_rmse = np.mean(np.sqrt(-1 * neg_mse_scores))\n",
        "        print('alpha {0}일 때 5 폴드 세트의 평균 RMSE: {1:.3f} '.format(param, avg_rmse))\n",
        "        \n",
        "        model.fit(X_data_n , y_target_n)\n",
        "        if return_coeff:\n",
        "            coeff = pd.Series(data=model.coef_ , index=X_data_n.columns )\n",
        "            colname='alpha:'+str(param)\n",
        "            coeff_df[colname] = coeff\n",
        "    \n",
        "    return coeff_df"
      ]
    },
    {
      "cell_type": "code",
      "execution_count": 98,
      "metadata": {
        "colab": {
          "base_uri": "https://localhost:8080/"
        },
        "id": "LmCbBFzGTa4d",
        "outputId": "507d3f6f-b8b1-4b71-9388-cb6551830964"
      },
      "outputs": [
        {
          "output_type": "stream",
          "name": "stdout",
          "text": [
            "#######  Lasso #######\n",
            "alpha 0.07일 때 5 폴드 세트의 평균 RMSE: 2.130 \n",
            "alpha 0.1일 때 5 폴드 세트의 평균 RMSE: 2.133 \n",
            "alpha 0.5일 때 5 폴드 세트의 평균 RMSE: 2.155 \n",
            "alpha 1일 때 5 폴드 세트의 평균 RMSE: 2.156 \n",
            "alpha 3일 때 5 폴드 세트의 평균 RMSE: 2.165 \n"
          ]
        }
      ],
      "source": [
        "lasso_alphas = [ 0.07, 0.1, 0.5, 1, 3]\n",
        "coeff_lasso_df =get_linear_reg_eval('Lasso', params=lasso_alphas, X_data_n=X_movie, y_target_n=y_movie)"
      ]
    },
    {
      "cell_type": "markdown",
      "metadata": {
        "id": "nQCa205CTa4d"
      },
      "source": [
        "- 위의 알파 값에 따른 피처별 회귀계수를 시각화하시오."
      ]
    },
    {
      "cell_type": "code",
      "execution_count": 100,
      "metadata": {
        "id": "fVrBZWHTTa4d"
      },
      "outputs": [],
      "source": [
        ""
      ]
    },
    {
      "cell_type": "markdown",
      "metadata": {
        "id": "Te71V5rfTa4d"
      },
      "source": [
        "- 알파 값에 따른 피처별 회귀 계수 값을 데이터프레임 형태로 나타내시오. "
      ]
    },
    {
      "cell_type": "code",
      "execution_count": 100,
      "metadata": {
        "colab": {
          "base_uri": "https://localhost:8080/",
          "height": 268
        },
        "id": "DyC8HummTa4d",
        "outputId": "dbcbfb4a-d091-4554-9816-7f9f7963499b"
      },
      "outputs": [
        {
          "output_type": "execute_result",
          "data": {
            "text/plain": [
              "                  alpha:0.07     alpha:0.1     alpha:0.5       alpha:1  \\\n",
              "dir_prev_num    1.509030e-01  1.229741e-01  0.000000e+00  0.000000e+00   \n",
              "genre           4.226141e-02  3.915271e-02  0.000000e+00  0.000000e+00   \n",
              "time            3.832280e-02  3.834957e-02  3.756934e-02  3.522953e-02   \n",
              "num_actor       3.540965e-02  3.072360e-02  0.000000e+00  0.000000e+00   \n",
              "num_staff       1.145277e-02  1.155794e-02  1.224377e-02  1.237803e-02   \n",
              "dir_prev_bfnum -1.489141e-08 -7.362938e-09  3.128091e-08  3.360602e-08   \n",
              "screening_rat  -2.235372e-01 -2.005355e-01 -0.000000e+00 -0.000000e+00   \n",
              "\n",
              "                     alpha:3  \n",
              "dir_prev_num    0.000000e+00  \n",
              "genre           0.000000e+00  \n",
              "time            2.587071e-02  \n",
              "num_actor       0.000000e+00  \n",
              "num_staff       1.291503e-02  \n",
              "dir_prev_bfnum  4.290977e-08  \n",
              "screening_rat  -0.000000e+00  "
            ],
            "text/html": [
              "\n",
              "  <div id=\"df-2ecb1f2c-faf9-4f8c-aead-fbe5a697f236\">\n",
              "    <div class=\"colab-df-container\">\n",
              "      <div>\n",
              "<style scoped>\n",
              "    .dataframe tbody tr th:only-of-type {\n",
              "        vertical-align: middle;\n",
              "    }\n",
              "\n",
              "    .dataframe tbody tr th {\n",
              "        vertical-align: top;\n",
              "    }\n",
              "\n",
              "    .dataframe thead th {\n",
              "        text-align: right;\n",
              "    }\n",
              "</style>\n",
              "<table border=\"1\" class=\"dataframe\">\n",
              "  <thead>\n",
              "    <tr style=\"text-align: right;\">\n",
              "      <th></th>\n",
              "      <th>alpha:0.07</th>\n",
              "      <th>alpha:0.1</th>\n",
              "      <th>alpha:0.5</th>\n",
              "      <th>alpha:1</th>\n",
              "      <th>alpha:3</th>\n",
              "    </tr>\n",
              "  </thead>\n",
              "  <tbody>\n",
              "    <tr>\n",
              "      <th>dir_prev_num</th>\n",
              "      <td>1.509030e-01</td>\n",
              "      <td>1.229741e-01</td>\n",
              "      <td>0.000000e+00</td>\n",
              "      <td>0.000000e+00</td>\n",
              "      <td>0.000000e+00</td>\n",
              "    </tr>\n",
              "    <tr>\n",
              "      <th>genre</th>\n",
              "      <td>4.226141e-02</td>\n",
              "      <td>3.915271e-02</td>\n",
              "      <td>0.000000e+00</td>\n",
              "      <td>0.000000e+00</td>\n",
              "      <td>0.000000e+00</td>\n",
              "    </tr>\n",
              "    <tr>\n",
              "      <th>time</th>\n",
              "      <td>3.832280e-02</td>\n",
              "      <td>3.834957e-02</td>\n",
              "      <td>3.756934e-02</td>\n",
              "      <td>3.522953e-02</td>\n",
              "      <td>2.587071e-02</td>\n",
              "    </tr>\n",
              "    <tr>\n",
              "      <th>num_actor</th>\n",
              "      <td>3.540965e-02</td>\n",
              "      <td>3.072360e-02</td>\n",
              "      <td>0.000000e+00</td>\n",
              "      <td>0.000000e+00</td>\n",
              "      <td>0.000000e+00</td>\n",
              "    </tr>\n",
              "    <tr>\n",
              "      <th>num_staff</th>\n",
              "      <td>1.145277e-02</td>\n",
              "      <td>1.155794e-02</td>\n",
              "      <td>1.224377e-02</td>\n",
              "      <td>1.237803e-02</td>\n",
              "      <td>1.291503e-02</td>\n",
              "    </tr>\n",
              "    <tr>\n",
              "      <th>dir_prev_bfnum</th>\n",
              "      <td>-1.489141e-08</td>\n",
              "      <td>-7.362938e-09</td>\n",
              "      <td>3.128091e-08</td>\n",
              "      <td>3.360602e-08</td>\n",
              "      <td>4.290977e-08</td>\n",
              "    </tr>\n",
              "    <tr>\n",
              "      <th>screening_rat</th>\n",
              "      <td>-2.235372e-01</td>\n",
              "      <td>-2.005355e-01</td>\n",
              "      <td>-0.000000e+00</td>\n",
              "      <td>-0.000000e+00</td>\n",
              "      <td>-0.000000e+00</td>\n",
              "    </tr>\n",
              "  </tbody>\n",
              "</table>\n",
              "</div>\n",
              "      <button class=\"colab-df-convert\" onclick=\"convertToInteractive('df-2ecb1f2c-faf9-4f8c-aead-fbe5a697f236')\"\n",
              "              title=\"Convert this dataframe to an interactive table.\"\n",
              "              style=\"display:none;\">\n",
              "        \n",
              "  <svg xmlns=\"http://www.w3.org/2000/svg\" height=\"24px\"viewBox=\"0 0 24 24\"\n",
              "       width=\"24px\">\n",
              "    <path d=\"M0 0h24v24H0V0z\" fill=\"none\"/>\n",
              "    <path d=\"M18.56 5.44l.94 2.06.94-2.06 2.06-.94-2.06-.94-.94-2.06-.94 2.06-2.06.94zm-11 1L8.5 8.5l.94-2.06 2.06-.94-2.06-.94L8.5 2.5l-.94 2.06-2.06.94zm10 10l.94 2.06.94-2.06 2.06-.94-2.06-.94-.94-2.06-.94 2.06-2.06.94z\"/><path d=\"M17.41 7.96l-1.37-1.37c-.4-.4-.92-.59-1.43-.59-.52 0-1.04.2-1.43.59L10.3 9.45l-7.72 7.72c-.78.78-.78 2.05 0 2.83L4 21.41c.39.39.9.59 1.41.59.51 0 1.02-.2 1.41-.59l7.78-7.78 2.81-2.81c.8-.78.8-2.07 0-2.86zM5.41 20L4 18.59l7.72-7.72 1.47 1.35L5.41 20z\"/>\n",
              "  </svg>\n",
              "      </button>\n",
              "      \n",
              "  <style>\n",
              "    .colab-df-container {\n",
              "      display:flex;\n",
              "      flex-wrap:wrap;\n",
              "      gap: 12px;\n",
              "    }\n",
              "\n",
              "    .colab-df-convert {\n",
              "      background-color: #E8F0FE;\n",
              "      border: none;\n",
              "      border-radius: 50%;\n",
              "      cursor: pointer;\n",
              "      display: none;\n",
              "      fill: #1967D2;\n",
              "      height: 32px;\n",
              "      padding: 0 0 0 0;\n",
              "      width: 32px;\n",
              "    }\n",
              "\n",
              "    .colab-df-convert:hover {\n",
              "      background-color: #E2EBFA;\n",
              "      box-shadow: 0px 1px 2px rgba(60, 64, 67, 0.3), 0px 1px 3px 1px rgba(60, 64, 67, 0.15);\n",
              "      fill: #174EA6;\n",
              "    }\n",
              "\n",
              "    [theme=dark] .colab-df-convert {\n",
              "      background-color: #3B4455;\n",
              "      fill: #D2E3FC;\n",
              "    }\n",
              "\n",
              "    [theme=dark] .colab-df-convert:hover {\n",
              "      background-color: #434B5C;\n",
              "      box-shadow: 0px 1px 3px 1px rgba(0, 0, 0, 0.15);\n",
              "      filter: drop-shadow(0px 1px 2px rgba(0, 0, 0, 0.3));\n",
              "      fill: #FFFFFF;\n",
              "    }\n",
              "  </style>\n",
              "\n",
              "      <script>\n",
              "        const buttonEl =\n",
              "          document.querySelector('#df-2ecb1f2c-faf9-4f8c-aead-fbe5a697f236 button.colab-df-convert');\n",
              "        buttonEl.style.display =\n",
              "          google.colab.kernel.accessAllowed ? 'block' : 'none';\n",
              "\n",
              "        async function convertToInteractive(key) {\n",
              "          const element = document.querySelector('#df-2ecb1f2c-faf9-4f8c-aead-fbe5a697f236');\n",
              "          const dataTable =\n",
              "            await google.colab.kernel.invokeFunction('convertToInteractive',\n",
              "                                                     [key], {});\n",
              "          if (!dataTable) return;\n",
              "\n",
              "          const docLinkHtml = 'Like what you see? Visit the ' +\n",
              "            '<a target=\"_blank\" href=https://colab.research.google.com/notebooks/data_table.ipynb>data table notebook</a>'\n",
              "            + ' to learn more about interactive tables.';\n",
              "          element.innerHTML = '';\n",
              "          dataTable['output_type'] = 'display_data';\n",
              "          await google.colab.output.renderOutput(dataTable, element);\n",
              "          const docLink = document.createElement('div');\n",
              "          docLink.innerHTML = docLinkHtml;\n",
              "          element.appendChild(docLink);\n",
              "        }\n",
              "      </script>\n",
              "    </div>\n",
              "  </div>\n",
              "  "
            ]
          },
          "metadata": {},
          "execution_count": 100
        }
      ],
      "source": [
        "sort_column = 'alpha:'+str(lasso_alphas[0])\n",
        "coeff_lasso_df.sort_values(by=sort_column, ascending=False)"
      ]
    },
    {
      "cell_type": "markdown",
      "metadata": {
        "id": "AOfA6_e6Ta4e"
      },
      "source": [
        "### 엘라스틱 넷\n",
        "- get_linear_reg_eval 함수에 엘라스틱 넷을 적용하여 5개 폴드의 평균 RMSE 점수를 구하시오. \n",
        "- random_state=123\n",
        "- 성능 지표는 RMSE로 판단\n",
        "- 폴드 개수는 5개, elastic_alphas = [ 0.07, 0.1, 0.5, 1, 3]"
      ]
    },
    {
      "cell_type": "code",
      "execution_count": 101,
      "metadata": {
        "colab": {
          "base_uri": "https://localhost:8080/"
        },
        "id": "naWIiITtTa4e",
        "outputId": "f279dcd5-da06-45bc-b9b0-e7463f452110"
      },
      "outputs": [
        {
          "output_type": "stream",
          "name": "stdout",
          "text": [
            "#######  ElasticNet #######\n",
            "alpha 0.07일 때 5 폴드 세트의 평균 RMSE: 2.128 \n",
            "alpha 0.1일 때 5 폴드 세트의 평균 RMSE: 2.130 \n",
            "alpha 0.5일 때 5 폴드 세트의 평균 RMSE: 2.154 \n",
            "alpha 1일 때 5 폴드 세트의 평균 RMSE: 2.155 \n",
            "alpha 3일 때 5 폴드 세트의 평균 RMSE: 2.160 \n"
          ]
        }
      ],
      "source": [
        "elastic_alphas = [ 0.07, 0.1, 0.5, 1, 3]\n",
        "coeff_elastic_df =get_linear_reg_eval('ElasticNet', params=elastic_alphas,\n",
        "                                      X_data_n=X_movie, y_target_n=y_movie)"
      ]
    },
    {
      "cell_type": "markdown",
      "metadata": {
        "id": "ZwAuhNExTa4e"
      },
      "source": [
        "- 알파 값에 따르 피처별 회귀 계수 값을 데이터프레임 형태로 나타내시오. "
      ]
    },
    {
      "cell_type": "code",
      "execution_count": 102,
      "metadata": {
        "colab": {
          "base_uri": "https://localhost:8080/",
          "height": 268
        },
        "id": "EiILfRYBTa4e",
        "outputId": "145797d8-4523-4e3a-c09f-0b8b02359716"
      },
      "outputs": [
        {
          "output_type": "execute_result",
          "data": {
            "text/plain": [
              "                  alpha:0.07     alpha:0.1     alpha:0.5       alpha:1  \\\n",
              "dir_prev_num    1.672710e-01  1.469289e-01  0.000000e+00  0.000000e+00   \n",
              "genre           4.436394e-02  4.215894e-02  1.198564e-02  0.000000e+00   \n",
              "num_actor       3.856986e-02  3.525728e-02  0.000000e+00  0.000000e+00   \n",
              "time            3.831609e-02  3.833792e-02  3.824603e-02  3.657964e-02   \n",
              "num_staff       1.139130e-02  1.146833e-02  1.218106e-02  1.230089e-02   \n",
              "dir_prev_bfnum -1.934772e-08 -1.387069e-08  2.911256e-08  3.224897e-08   \n",
              "screening_rat  -2.356984e-01 -2.183114e-01 -2.294758e-03 -0.000000e+00   \n",
              "\n",
              "                     alpha:3  \n",
              "dir_prev_num    0.000000e+00  \n",
              "genre           0.000000e+00  \n",
              "num_actor       0.000000e+00  \n",
              "time            2.995074e-02  \n",
              "num_staff       1.268163e-02  \n",
              "dir_prev_bfnum  3.881969e-08  \n",
              "screening_rat  -0.000000e+00  "
            ],
            "text/html": [
              "\n",
              "  <div id=\"df-145ccdd9-7be5-4aa2-b053-e8a9b36a8dd2\">\n",
              "    <div class=\"colab-df-container\">\n",
              "      <div>\n",
              "<style scoped>\n",
              "    .dataframe tbody tr th:only-of-type {\n",
              "        vertical-align: middle;\n",
              "    }\n",
              "\n",
              "    .dataframe tbody tr th {\n",
              "        vertical-align: top;\n",
              "    }\n",
              "\n",
              "    .dataframe thead th {\n",
              "        text-align: right;\n",
              "    }\n",
              "</style>\n",
              "<table border=\"1\" class=\"dataframe\">\n",
              "  <thead>\n",
              "    <tr style=\"text-align: right;\">\n",
              "      <th></th>\n",
              "      <th>alpha:0.07</th>\n",
              "      <th>alpha:0.1</th>\n",
              "      <th>alpha:0.5</th>\n",
              "      <th>alpha:1</th>\n",
              "      <th>alpha:3</th>\n",
              "    </tr>\n",
              "  </thead>\n",
              "  <tbody>\n",
              "    <tr>\n",
              "      <th>dir_prev_num</th>\n",
              "      <td>1.672710e-01</td>\n",
              "      <td>1.469289e-01</td>\n",
              "      <td>0.000000e+00</td>\n",
              "      <td>0.000000e+00</td>\n",
              "      <td>0.000000e+00</td>\n",
              "    </tr>\n",
              "    <tr>\n",
              "      <th>genre</th>\n",
              "      <td>4.436394e-02</td>\n",
              "      <td>4.215894e-02</td>\n",
              "      <td>1.198564e-02</td>\n",
              "      <td>0.000000e+00</td>\n",
              "      <td>0.000000e+00</td>\n",
              "    </tr>\n",
              "    <tr>\n",
              "      <th>num_actor</th>\n",
              "      <td>3.856986e-02</td>\n",
              "      <td>3.525728e-02</td>\n",
              "      <td>0.000000e+00</td>\n",
              "      <td>0.000000e+00</td>\n",
              "      <td>0.000000e+00</td>\n",
              "    </tr>\n",
              "    <tr>\n",
              "      <th>time</th>\n",
              "      <td>3.831609e-02</td>\n",
              "      <td>3.833792e-02</td>\n",
              "      <td>3.824603e-02</td>\n",
              "      <td>3.657964e-02</td>\n",
              "      <td>2.995074e-02</td>\n",
              "    </tr>\n",
              "    <tr>\n",
              "      <th>num_staff</th>\n",
              "      <td>1.139130e-02</td>\n",
              "      <td>1.146833e-02</td>\n",
              "      <td>1.218106e-02</td>\n",
              "      <td>1.230089e-02</td>\n",
              "      <td>1.268163e-02</td>\n",
              "    </tr>\n",
              "    <tr>\n",
              "      <th>dir_prev_bfnum</th>\n",
              "      <td>-1.934772e-08</td>\n",
              "      <td>-1.387069e-08</td>\n",
              "      <td>2.911256e-08</td>\n",
              "      <td>3.224897e-08</td>\n",
              "      <td>3.881969e-08</td>\n",
              "    </tr>\n",
              "    <tr>\n",
              "      <th>screening_rat</th>\n",
              "      <td>-2.356984e-01</td>\n",
              "      <td>-2.183114e-01</td>\n",
              "      <td>-2.294758e-03</td>\n",
              "      <td>-0.000000e+00</td>\n",
              "      <td>-0.000000e+00</td>\n",
              "    </tr>\n",
              "  </tbody>\n",
              "</table>\n",
              "</div>\n",
              "      <button class=\"colab-df-convert\" onclick=\"convertToInteractive('df-145ccdd9-7be5-4aa2-b053-e8a9b36a8dd2')\"\n",
              "              title=\"Convert this dataframe to an interactive table.\"\n",
              "              style=\"display:none;\">\n",
              "        \n",
              "  <svg xmlns=\"http://www.w3.org/2000/svg\" height=\"24px\"viewBox=\"0 0 24 24\"\n",
              "       width=\"24px\">\n",
              "    <path d=\"M0 0h24v24H0V0z\" fill=\"none\"/>\n",
              "    <path d=\"M18.56 5.44l.94 2.06.94-2.06 2.06-.94-2.06-.94-.94-2.06-.94 2.06-2.06.94zm-11 1L8.5 8.5l.94-2.06 2.06-.94-2.06-.94L8.5 2.5l-.94 2.06-2.06.94zm10 10l.94 2.06.94-2.06 2.06-.94-2.06-.94-.94-2.06-.94 2.06-2.06.94z\"/><path d=\"M17.41 7.96l-1.37-1.37c-.4-.4-.92-.59-1.43-.59-.52 0-1.04.2-1.43.59L10.3 9.45l-7.72 7.72c-.78.78-.78 2.05 0 2.83L4 21.41c.39.39.9.59 1.41.59.51 0 1.02-.2 1.41-.59l7.78-7.78 2.81-2.81c.8-.78.8-2.07 0-2.86zM5.41 20L4 18.59l7.72-7.72 1.47 1.35L5.41 20z\"/>\n",
              "  </svg>\n",
              "      </button>\n",
              "      \n",
              "  <style>\n",
              "    .colab-df-container {\n",
              "      display:flex;\n",
              "      flex-wrap:wrap;\n",
              "      gap: 12px;\n",
              "    }\n",
              "\n",
              "    .colab-df-convert {\n",
              "      background-color: #E8F0FE;\n",
              "      border: none;\n",
              "      border-radius: 50%;\n",
              "      cursor: pointer;\n",
              "      display: none;\n",
              "      fill: #1967D2;\n",
              "      height: 32px;\n",
              "      padding: 0 0 0 0;\n",
              "      width: 32px;\n",
              "    }\n",
              "\n",
              "    .colab-df-convert:hover {\n",
              "      background-color: #E2EBFA;\n",
              "      box-shadow: 0px 1px 2px rgba(60, 64, 67, 0.3), 0px 1px 3px 1px rgba(60, 64, 67, 0.15);\n",
              "      fill: #174EA6;\n",
              "    }\n",
              "\n",
              "    [theme=dark] .colab-df-convert {\n",
              "      background-color: #3B4455;\n",
              "      fill: #D2E3FC;\n",
              "    }\n",
              "\n",
              "    [theme=dark] .colab-df-convert:hover {\n",
              "      background-color: #434B5C;\n",
              "      box-shadow: 0px 1px 3px 1px rgba(0, 0, 0, 0.15);\n",
              "      filter: drop-shadow(0px 1px 2px rgba(0, 0, 0, 0.3));\n",
              "      fill: #FFFFFF;\n",
              "    }\n",
              "  </style>\n",
              "\n",
              "      <script>\n",
              "        const buttonEl =\n",
              "          document.querySelector('#df-145ccdd9-7be5-4aa2-b053-e8a9b36a8dd2 button.colab-df-convert');\n",
              "        buttonEl.style.display =\n",
              "          google.colab.kernel.accessAllowed ? 'block' : 'none';\n",
              "\n",
              "        async function convertToInteractive(key) {\n",
              "          const element = document.querySelector('#df-145ccdd9-7be5-4aa2-b053-e8a9b36a8dd2');\n",
              "          const dataTable =\n",
              "            await google.colab.kernel.invokeFunction('convertToInteractive',\n",
              "                                                     [key], {});\n",
              "          if (!dataTable) return;\n",
              "\n",
              "          const docLinkHtml = 'Like what you see? Visit the ' +\n",
              "            '<a target=\"_blank\" href=https://colab.research.google.com/notebooks/data_table.ipynb>data table notebook</a>'\n",
              "            + ' to learn more about interactive tables.';\n",
              "          element.innerHTML = '';\n",
              "          dataTable['output_type'] = 'display_data';\n",
              "          await google.colab.output.renderOutput(dataTable, element);\n",
              "          const docLink = document.createElement('div');\n",
              "          docLink.innerHTML = docLinkHtml;\n",
              "          element.appendChild(docLink);\n",
              "        }\n",
              "      </script>\n",
              "    </div>\n",
              "  </div>\n",
              "  "
            ]
          },
          "metadata": {},
          "execution_count": 102
        }
      ],
      "source": [
        "sort_column = 'alpha:'+str(elastic_alphas[0])\n",
        "coeff_elastic_df.sort_values(by=sort_column, ascending=False)"
      ]
    },
    {
      "cell_type": "markdown",
      "metadata": {
        "id": "9H04JhnRTa4e"
      },
      "source": [
        "## 회귀 트리와 스태킹 앙상블\n",
        "### 개별 회귀 트리 모델과 스태킹 회귀 모델의 성능을 비교하시오.\n",
        "- 개별 회귀 트리 모델: DecisionTreeRegressor(random_state=123)\n",
        "- 스태킹 앙상블에서의 base model : Ridge(alpha=8), Lasso(alpha=0.001), XGBRegressor(n_estimators=1000, learning_rate=0.05), LGBMRegressor(n_estimators=1000, learning_rate=0.05)\n",
        "- 스태킹 앙상블에서의 최종 메타 model : Ridge(alpha=0.1)\n",
        "- 성능 지표는 RMSE로 판단\n",
        "- 폴드 개수는 5개"
      ]
    },
    {
      "cell_type": "code",
      "execution_count": 103,
      "metadata": {
        "colab": {
          "base_uri": "https://localhost:8080/"
        },
        "id": "1g03GGRbTa4e",
        "outputId": "4ecffeb0-5d48-4a9d-c410-7876b8a3339a"
      },
      "outputs": [
        {
          "output_type": "stream",
          "name": "stdout",
          "text": [
            " 5 교차 검증의 개별 Negative MSE scores:  [-3.84 -3.83 -4.12 -3.76 -3.96]\n",
            " 5 교차 검증의 개별 RMSE scores :  [1.96 1.96 2.03 1.94 1.99]\n",
            " 5 교차 검증의 평균 RMSE : 1.975 \n"
          ]
        }
      ],
      "source": [
        "from sklearn.model_selection import cross_val_score\n",
        "from sklearn.ensemble import RandomForestRegressor\n",
        "import pandas as pd\n",
        "import numpy as np\n",
        "\n",
        "\n",
        "rf = RandomForestRegressor(random_state=123, n_estimators=1000)\n",
        "neg_mse_scores = cross_val_score(rf, X_movie, y_movie, scoring=\"neg_mean_squared_error\", cv = 5)\n",
        "rmse_scores  = np.sqrt(-1 * neg_mse_scores)\n",
        "avg_rmse = np.mean(rmse_scores)\n",
        "\n",
        "print(' 5 교차 검증의 개별 Negative MSE scores: ', np.round(neg_mse_scores, 2))\n",
        "print(' 5 교차 검증의 개별 RMSE scores : ', np.round(rmse_scores, 2))\n",
        "print(' 5 교차 검증의 평균 RMSE : {0:.3f} '.format(avg_rmse))\n",
        "\n",
        "\n"
      ]
    },
    {
      "cell_type": "code",
      "execution_count": 104,
      "metadata": {
        "id": "plBzYfLLTa4f"
      },
      "outputs": [],
      "source": [
        "def get_model_cv_prediction(model, X_data, y_target):\n",
        "    neg_mse_scores = cross_val_score(model, X_movie, y_movie, scoring=\"neg_mean_squared_error\", cv = 5)\n",
        "    rmse_scores  = np.sqrt(-1 * neg_mse_scores)\n",
        "    avg_rmse = np.mean(rmse_scores)\n",
        "    print('##### ',model.__class__.__name__ , ' #####')\n",
        "    print(' 5 교차 검증의 평균 RMSE : {0:.3f} '.format(avg_rmse))"
      ]
    },
    {
      "cell_type": "code",
      "execution_count": null,
      "metadata": {
        "id": "xvanEwTDTa4f"
      },
      "outputs": [],
      "source": [
        ""
      ]
    },
    {
      "cell_type": "code",
      "execution_count": null,
      "metadata": {
        "id": "5lvQ6visTa4f"
      },
      "outputs": [],
      "source": [
        ""
      ]
    },
    {
      "cell_type": "markdown",
      "metadata": {
        "id": "tgs-SJ1VTa4f"
      },
      "source": [
        "## 선형 회귀 모델과 파이프라인(Pipeline) 설계\n",
        "전처리 문제 3번에서 보았듯이, 특정 변수들의 분포도가 치우쳐져 있다. 이를 위해 전처리를 하고 GridSearchCV를 하기 위해선 Pipeline을 설계해야 한다."
      ]
    },
    {
      "cell_type": "markdown",
      "metadata": {
        "id": "esOHCrTFTa4f"
      },
      "source": [
        "### 피처 변수들에 대해 Standard scaling을 하는 전처리 단계와 ElasticNet 모델을 포함하는 Pipeline을 설계하시오.\n",
        "- ElasticNet 모델의 파라미터: alpha=0.1, l1_ratio=0.7"
      ]
    },
    {
      "cell_type": "code",
      "execution_count": null,
      "metadata": {
        "id": "h1qhnfRgTa4f"
      },
      "outputs": [],
      "source": [
        ""
      ]
    },
    {
      "cell_type": "markdown",
      "metadata": {
        "id": "9EwX8yYgTa4f"
      },
      "source": [
        "### 피처 변수들에 대해 Standard scaling을 하는 전처리 단계와 ElasticNet 모델을 포함하는 Pipeline을 설계하고, 테스트 세트에 대한 R2 score를 도출하시오.\n",
        "- ElasticNet 모델의 파라미터: alpha=0.1, l1_ratio=0.7, random_state=123"
      ]
    },
    {
      "cell_type": "code",
      "execution_count": null,
      "metadata": {
        "id": "VbXstxD4Ta4g"
      },
      "outputs": [],
      "source": [
        ""
      ]
    },
    {
      "cell_type": "code",
      "execution_count": null,
      "metadata": {
        "id": "4PvGVuVRTa4g"
      },
      "outputs": [],
      "source": [
        ""
      ]
    },
    {
      "cell_type": "markdown",
      "metadata": {
        "id": "RRgOAFzVTa4g"
      },
      "source": [
        "### 파이프라인은 전처리 단계와 함께 GridSearchCV를 할 때 유용하게 사용된다. 앞서 만든 pipe를 토대로 GridSearchCV를 수행하고, 최적의 하이퍼 파라미터와 RMSE를 도출하시오.\n",
        "- alpha : [0.1, 0.01, 0.05, 0.07]\n",
        "- l1_ratio : [0, 0.5, 0.7, 0.8, 1]\n",
        "- max_iter : [10,50,70,100,1000,2000]\n",
        "- cv = 5, n_jobs=-1"
      ]
    },
    {
      "cell_type": "code",
      "execution_count": null,
      "metadata": {
        "id": "N4LvgP2KTa4g"
      },
      "outputs": [],
      "source": [
        ""
      ]
    }
  ],
  "metadata": {
    "kernelspec": {
      "display_name": "Python 3 (ipykernel)",
      "language": "python",
      "name": "python3"
    },
    "language_info": {
      "codemirror_mode": {
        "name": "ipython",
        "version": 3
      },
      "file_extension": ".py",
      "mimetype": "text/x-python",
      "name": "python",
      "nbconvert_exporter": "python",
      "pygments_lexer": "ipython3",
      "version": "3.9.7"
    },
    "toc": {
      "base_numbering": 1,
      "nav_menu": {},
      "number_sections": true,
      "sideBar": true,
      "skip_h1_title": false,
      "title_cell": "Table of Contents",
      "title_sidebar": "Contents",
      "toc_cell": false,
      "toc_position": {},
      "toc_section_display": true,
      "toc_window_display": false
    },
    "varInspector": {
      "cols": {
        "lenName": 16,
        "lenType": 16,
        "lenVar": 40
      },
      "kernels_config": {
        "python": {
          "delete_cmd_postfix": "",
          "delete_cmd_prefix": "del ",
          "library": "var_list.py",
          "varRefreshCmd": "print(var_dic_list())"
        },
        "r": {
          "delete_cmd_postfix": ") ",
          "delete_cmd_prefix": "rm(",
          "library": "var_list.r",
          "varRefreshCmd": "cat(var_dic_list()) "
        }
      },
      "types_to_exclude": [
        "module",
        "function",
        "builtin_function_or_method",
        "instance",
        "_Feature"
      ],
      "window_display": false
    },
    "colab": {
      "name": "Week5_복습과제_문제지.ipynb",
      "provenance": [],
      "collapsed_sections": []
    }
  },
  "nbformat": 4,
  "nbformat_minor": 0
}