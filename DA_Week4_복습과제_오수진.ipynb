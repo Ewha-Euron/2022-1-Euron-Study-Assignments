{
  "cells": [
    {
      "cell_type": "markdown",
      "metadata": {
        "id": "9JDEQ7QLYqy9"
      },
      "source": [
        "# 와인 품질 분류"
      ]
    },
    {
      "cell_type": "markdown",
      "metadata": {
        "id": "N3fKt9upYqzA"
      },
      "source": [
        "wine_quality.csv 파일이 존재합니다.\n",
        "\n",
        "와인의 여러가지 화학 성분을 기반으로 와인의 품질을 분류해내는 것이 목표입니다.\n",
        "\n",
        "- index 구분자\n",
        "- quality 품질\n",
        "- fixed acidity 산도\n",
        "- volatile acidity 휘발성산\n",
        "- citric acid 시트르산\n",
        "- residual sugar 잔당 : 발효 후 와인 속에 남아있는 당분\n",
        "- chlorides 염화물\n",
        "- free sulfur dioxide 독립 이산화황\n",
        "- total sulfur dioxide 총 이산화황\n",
        "- density 밀도\n",
        "- pH 수소이온농도\n",
        "- sulphates 황산염\n",
        "- alcohol 도수\n",
        "- type 종류\n",
        "\n",
        "데이터셋 출처: https://dacon.io/competitions/open/235610/data\n",
        "\n",
        "(학습을 위해 원래 데이터셋에서 test.csv는 제외하고, train.csv 파일만을 고려하여 진행했습니다.)"
      ]
    },
    {
      "cell_type": "code",
      "execution_count": null,
      "metadata": {
        "id": "yrCccoJXOabZ"
      },
      "outputs": [],
      "source": [
        "#필요한 라이브러리 import\n",
        "import pandas as pd\n",
        "import numpy as np\n",
        "import seaborn as sns\n",
        "import matplotlib.pyplot as plt"
      ]
    },
    {
      "cell_type": "code",
      "execution_count": null,
      "metadata": {
        "colab": {
          "resources": {
            "http://localhost:8080/nbextensions/google.colab/files.js": {
              "data": "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",
              "ok": true,
              "headers": [
                [
                  "content-type",
                  "application/javascript"
                ]
              ],
              "status": 200,
              "status_text": ""
            }
          },
          "base_uri": "https://localhost:8080/",
          "height": 77
        },
        "id": "lmH2eYLuOaba",
        "outputId": "6c542556-8f46-4799-c8fa-eb2b17d0e37c"
      },
      "outputs": [
        {
          "output_type": "display_data",
          "data": {
            "text/plain": [
              "<IPython.core.display.HTML object>"
            ],
            "text/html": [
              "\n",
              "     <input type=\"file\" id=\"files-d9fe8d7d-9fa6-4966-a7f1-24424e096da0\" name=\"files[]\" multiple disabled\n",
              "        style=\"border:none\" />\n",
              "     <output id=\"result-d9fe8d7d-9fa6-4966-a7f1-24424e096da0\">\n",
              "      Upload widget is only available when the cell has been executed in the\n",
              "      current browser session. Please rerun this cell to enable.\n",
              "      </output>\n",
              "      <script src=\"/nbextensions/google.colab/files.js\"></script> "
            ]
          },
          "metadata": {}
        },
        {
          "output_type": "stream",
          "name": "stdout",
          "text": [
            "Saving wine_quality.csv to wine_quality (1).csv\n"
          ]
        }
      ],
      "source": [
        "#데이터셋 불러오기\n",
        "from google.colab import files\n",
        "uploaded = files.upload() "
      ]
    },
    {
      "cell_type": "code",
      "source": [
        "wine = pd.read_csv('wine_quality.csv')"
      ],
      "metadata": {
        "id": "nFBPrXfLOqTH"
      },
      "execution_count": null,
      "outputs": []
    },
    {
      "cell_type": "markdown",
      "metadata": {
        "id": "Ex_JS_GUYqzE"
      },
      "source": [
        "## 데이터 전처리, EDA 및 시각화"
      ]
    },
    {
      "cell_type": "markdown",
      "metadata": {
        "id": "DNtVEgliYqzE"
      },
      "source": [
        "### wine_data 데이터를 살펴보고, 쓸모 없는 column을 삭제하시오.(index column 삭제)"
      ]
    },
    {
      "cell_type": "code",
      "execution_count": null,
      "metadata": {
        "colab": {
          "base_uri": "https://localhost:8080/",
          "height": 305
        },
        "id": "HiYG3eoKOabb",
        "outputId": "708ea3cc-3700-4cf4-f642-7dd4ae34c540"
      },
      "outputs": [
        {
          "output_type": "execute_result",
          "data": {
            "text/plain": [
              "   index  quality  fixed acidity  volatile acidity  citric acid  \\\n",
              "0      0        5            5.6             0.695         0.06   \n",
              "1      1        5            8.8             0.610         0.14   \n",
              "2      2        5            7.9             0.210         0.39   \n",
              "3      3        6            7.0             0.210         0.31   \n",
              "4      4        6            7.8             0.400         0.26   \n",
              "\n",
              "   residual sugar  chlorides  free sulfur dioxide  total sulfur dioxide  \\\n",
              "0             6.8      0.042                  9.0                  84.0   \n",
              "1             2.4      0.067                 10.0                  42.0   \n",
              "2             2.0      0.057                 21.0                 138.0   \n",
              "3             6.0      0.046                 29.0                 108.0   \n",
              "4             9.5      0.059                 32.0                 178.0   \n",
              "\n",
              "   density    pH  sulphates  alcohol   type  \n",
              "0  0.99432  3.44       0.44     10.2  white  \n",
              "1  0.99690  3.19       0.59      9.5    red  \n",
              "2  0.99176  3.05       0.52     10.9  white  \n",
              "3  0.99390  3.26       0.50     10.8  white  \n",
              "4  0.99550  3.04       0.43     10.9  white  "
            ],
            "text/html": [
              "\n",
              "  <div id=\"df-d4a68027-6699-4c72-966f-5d9f57f0f702\">\n",
              "    <div class=\"colab-df-container\">\n",
              "      <div>\n",
              "<style scoped>\n",
              "    .dataframe tbody tr th:only-of-type {\n",
              "        vertical-align: middle;\n",
              "    }\n",
              "\n",
              "    .dataframe tbody tr th {\n",
              "        vertical-align: top;\n",
              "    }\n",
              "\n",
              "    .dataframe thead th {\n",
              "        text-align: right;\n",
              "    }\n",
              "</style>\n",
              "<table border=\"1\" class=\"dataframe\">\n",
              "  <thead>\n",
              "    <tr style=\"text-align: right;\">\n",
              "      <th></th>\n",
              "      <th>index</th>\n",
              "      <th>quality</th>\n",
              "      <th>fixed acidity</th>\n",
              "      <th>volatile acidity</th>\n",
              "      <th>citric acid</th>\n",
              "      <th>residual sugar</th>\n",
              "      <th>chlorides</th>\n",
              "      <th>free sulfur dioxide</th>\n",
              "      <th>total sulfur dioxide</th>\n",
              "      <th>density</th>\n",
              "      <th>pH</th>\n",
              "      <th>sulphates</th>\n",
              "      <th>alcohol</th>\n",
              "      <th>type</th>\n",
              "    </tr>\n",
              "  </thead>\n",
              "  <tbody>\n",
              "    <tr>\n",
              "      <th>0</th>\n",
              "      <td>0</td>\n",
              "      <td>5</td>\n",
              "      <td>5.6</td>\n",
              "      <td>0.695</td>\n",
              "      <td>0.06</td>\n",
              "      <td>6.8</td>\n",
              "      <td>0.042</td>\n",
              "      <td>9.0</td>\n",
              "      <td>84.0</td>\n",
              "      <td>0.99432</td>\n",
              "      <td>3.44</td>\n",
              "      <td>0.44</td>\n",
              "      <td>10.2</td>\n",
              "      <td>white</td>\n",
              "    </tr>\n",
              "    <tr>\n",
              "      <th>1</th>\n",
              "      <td>1</td>\n",
              "      <td>5</td>\n",
              "      <td>8.8</td>\n",
              "      <td>0.610</td>\n",
              "      <td>0.14</td>\n",
              "      <td>2.4</td>\n",
              "      <td>0.067</td>\n",
              "      <td>10.0</td>\n",
              "      <td>42.0</td>\n",
              "      <td>0.99690</td>\n",
              "      <td>3.19</td>\n",
              "      <td>0.59</td>\n",
              "      <td>9.5</td>\n",
              "      <td>red</td>\n",
              "    </tr>\n",
              "    <tr>\n",
              "      <th>2</th>\n",
              "      <td>2</td>\n",
              "      <td>5</td>\n",
              "      <td>7.9</td>\n",
              "      <td>0.210</td>\n",
              "      <td>0.39</td>\n",
              "      <td>2.0</td>\n",
              "      <td>0.057</td>\n",
              "      <td>21.0</td>\n",
              "      <td>138.0</td>\n",
              "      <td>0.99176</td>\n",
              "      <td>3.05</td>\n",
              "      <td>0.52</td>\n",
              "      <td>10.9</td>\n",
              "      <td>white</td>\n",
              "    </tr>\n",
              "    <tr>\n",
              "      <th>3</th>\n",
              "      <td>3</td>\n",
              "      <td>6</td>\n",
              "      <td>7.0</td>\n",
              "      <td>0.210</td>\n",
              "      <td>0.31</td>\n",
              "      <td>6.0</td>\n",
              "      <td>0.046</td>\n",
              "      <td>29.0</td>\n",
              "      <td>108.0</td>\n",
              "      <td>0.99390</td>\n",
              "      <td>3.26</td>\n",
              "      <td>0.50</td>\n",
              "      <td>10.8</td>\n",
              "      <td>white</td>\n",
              "    </tr>\n",
              "    <tr>\n",
              "      <th>4</th>\n",
              "      <td>4</td>\n",
              "      <td>6</td>\n",
              "      <td>7.8</td>\n",
              "      <td>0.400</td>\n",
              "      <td>0.26</td>\n",
              "      <td>9.5</td>\n",
              "      <td>0.059</td>\n",
              "      <td>32.0</td>\n",
              "      <td>178.0</td>\n",
              "      <td>0.99550</td>\n",
              "      <td>3.04</td>\n",
              "      <td>0.43</td>\n",
              "      <td>10.9</td>\n",
              "      <td>white</td>\n",
              "    </tr>\n",
              "  </tbody>\n",
              "</table>\n",
              "</div>\n",
              "      <button class=\"colab-df-convert\" onclick=\"convertToInteractive('df-d4a68027-6699-4c72-966f-5d9f57f0f702')\"\n",
              "              title=\"Convert this dataframe to an interactive table.\"\n",
              "              style=\"display:none;\">\n",
              "        \n",
              "  <svg xmlns=\"http://www.w3.org/2000/svg\" height=\"24px\"viewBox=\"0 0 24 24\"\n",
              "       width=\"24px\">\n",
              "    <path d=\"M0 0h24v24H0V0z\" fill=\"none\"/>\n",
              "    <path d=\"M18.56 5.44l.94 2.06.94-2.06 2.06-.94-2.06-.94-.94-2.06-.94 2.06-2.06.94zm-11 1L8.5 8.5l.94-2.06 2.06-.94-2.06-.94L8.5 2.5l-.94 2.06-2.06.94zm10 10l.94 2.06.94-2.06 2.06-.94-2.06-.94-.94-2.06-.94 2.06-2.06.94z\"/><path d=\"M17.41 7.96l-1.37-1.37c-.4-.4-.92-.59-1.43-.59-.52 0-1.04.2-1.43.59L10.3 9.45l-7.72 7.72c-.78.78-.78 2.05 0 2.83L4 21.41c.39.39.9.59 1.41.59.51 0 1.02-.2 1.41-.59l7.78-7.78 2.81-2.81c.8-.78.8-2.07 0-2.86zM5.41 20L4 18.59l7.72-7.72 1.47 1.35L5.41 20z\"/>\n",
              "  </svg>\n",
              "      </button>\n",
              "      \n",
              "  <style>\n",
              "    .colab-df-container {\n",
              "      display:flex;\n",
              "      flex-wrap:wrap;\n",
              "      gap: 12px;\n",
              "    }\n",
              "\n",
              "    .colab-df-convert {\n",
              "      background-color: #E8F0FE;\n",
              "      border: none;\n",
              "      border-radius: 50%;\n",
              "      cursor: pointer;\n",
              "      display: none;\n",
              "      fill: #1967D2;\n",
              "      height: 32px;\n",
              "      padding: 0 0 0 0;\n",
              "      width: 32px;\n",
              "    }\n",
              "\n",
              "    .colab-df-convert:hover {\n",
              "      background-color: #E2EBFA;\n",
              "      box-shadow: 0px 1px 2px rgba(60, 64, 67, 0.3), 0px 1px 3px 1px rgba(60, 64, 67, 0.15);\n",
              "      fill: #174EA6;\n",
              "    }\n",
              "\n",
              "    [theme=dark] .colab-df-convert {\n",
              "      background-color: #3B4455;\n",
              "      fill: #D2E3FC;\n",
              "    }\n",
              "\n",
              "    [theme=dark] .colab-df-convert:hover {\n",
              "      background-color: #434B5C;\n",
              "      box-shadow: 0px 1px 3px 1px rgba(0, 0, 0, 0.15);\n",
              "      filter: drop-shadow(0px 1px 2px rgba(0, 0, 0, 0.3));\n",
              "      fill: #FFFFFF;\n",
              "    }\n",
              "  </style>\n",
              "\n",
              "      <script>\n",
              "        const buttonEl =\n",
              "          document.querySelector('#df-d4a68027-6699-4c72-966f-5d9f57f0f702 button.colab-df-convert');\n",
              "        buttonEl.style.display =\n",
              "          google.colab.kernel.accessAllowed ? 'block' : 'none';\n",
              "\n",
              "        async function convertToInteractive(key) {\n",
              "          const element = document.querySelector('#df-d4a68027-6699-4c72-966f-5d9f57f0f702');\n",
              "          const dataTable =\n",
              "            await google.colab.kernel.invokeFunction('convertToInteractive',\n",
              "                                                     [key], {});\n",
              "          if (!dataTable) return;\n",
              "\n",
              "          const docLinkHtml = 'Like what you see? Visit the ' +\n",
              "            '<a target=\"_blank\" href=https://colab.research.google.com/notebooks/data_table.ipynb>data table notebook</a>'\n",
              "            + ' to learn more about interactive tables.';\n",
              "          element.innerHTML = '';\n",
              "          dataTable['output_type'] = 'display_data';\n",
              "          await google.colab.output.renderOutput(dataTable, element);\n",
              "          const docLink = document.createElement('div');\n",
              "          docLink.innerHTML = docLinkHtml;\n",
              "          element.appendChild(docLink);\n",
              "        }\n",
              "      </script>\n",
              "    </div>\n",
              "  </div>\n",
              "  "
            ]
          },
          "metadata": {},
          "execution_count": 70
        }
      ],
      "source": [
        "wine.head()"
      ]
    },
    {
      "cell_type": "code",
      "source": [
        "wine.drop('index', axis=1, inplace=True)\n",
        "wine.head()"
      ],
      "metadata": {
        "colab": {
          "base_uri": "https://localhost:8080/",
          "height": 305
        },
        "id": "DfKHWojpPDHf",
        "outputId": "0dd50433-28f2-4422-aedd-7119d3f069b3"
      },
      "execution_count": null,
      "outputs": [
        {
          "output_type": "execute_result",
          "data": {
            "text/plain": [
              "   quality  fixed acidity  volatile acidity  citric acid  residual sugar  \\\n",
              "0        5            5.6             0.695         0.06             6.8   \n",
              "1        5            8.8             0.610         0.14             2.4   \n",
              "2        5            7.9             0.210         0.39             2.0   \n",
              "3        6            7.0             0.210         0.31             6.0   \n",
              "4        6            7.8             0.400         0.26             9.5   \n",
              "\n",
              "   chlorides  free sulfur dioxide  total sulfur dioxide  density    pH  \\\n",
              "0      0.042                  9.0                  84.0  0.99432  3.44   \n",
              "1      0.067                 10.0                  42.0  0.99690  3.19   \n",
              "2      0.057                 21.0                 138.0  0.99176  3.05   \n",
              "3      0.046                 29.0                 108.0  0.99390  3.26   \n",
              "4      0.059                 32.0                 178.0  0.99550  3.04   \n",
              "\n",
              "   sulphates  alcohol   type  \n",
              "0       0.44     10.2  white  \n",
              "1       0.59      9.5    red  \n",
              "2       0.52     10.9  white  \n",
              "3       0.50     10.8  white  \n",
              "4       0.43     10.9  white  "
            ],
            "text/html": [
              "\n",
              "  <div id=\"df-4e76c553-2de4-4553-9c0c-f347d2f9e0d0\">\n",
              "    <div class=\"colab-df-container\">\n",
              "      <div>\n",
              "<style scoped>\n",
              "    .dataframe tbody tr th:only-of-type {\n",
              "        vertical-align: middle;\n",
              "    }\n",
              "\n",
              "    .dataframe tbody tr th {\n",
              "        vertical-align: top;\n",
              "    }\n",
              "\n",
              "    .dataframe thead th {\n",
              "        text-align: right;\n",
              "    }\n",
              "</style>\n",
              "<table border=\"1\" class=\"dataframe\">\n",
              "  <thead>\n",
              "    <tr style=\"text-align: right;\">\n",
              "      <th></th>\n",
              "      <th>quality</th>\n",
              "      <th>fixed acidity</th>\n",
              "      <th>volatile acidity</th>\n",
              "      <th>citric acid</th>\n",
              "      <th>residual sugar</th>\n",
              "      <th>chlorides</th>\n",
              "      <th>free sulfur dioxide</th>\n",
              "      <th>total sulfur dioxide</th>\n",
              "      <th>density</th>\n",
              "      <th>pH</th>\n",
              "      <th>sulphates</th>\n",
              "      <th>alcohol</th>\n",
              "      <th>type</th>\n",
              "    </tr>\n",
              "  </thead>\n",
              "  <tbody>\n",
              "    <tr>\n",
              "      <th>0</th>\n",
              "      <td>5</td>\n",
              "      <td>5.6</td>\n",
              "      <td>0.695</td>\n",
              "      <td>0.06</td>\n",
              "      <td>6.8</td>\n",
              "      <td>0.042</td>\n",
              "      <td>9.0</td>\n",
              "      <td>84.0</td>\n",
              "      <td>0.99432</td>\n",
              "      <td>3.44</td>\n",
              "      <td>0.44</td>\n",
              "      <td>10.2</td>\n",
              "      <td>white</td>\n",
              "    </tr>\n",
              "    <tr>\n",
              "      <th>1</th>\n",
              "      <td>5</td>\n",
              "      <td>8.8</td>\n",
              "      <td>0.610</td>\n",
              "      <td>0.14</td>\n",
              "      <td>2.4</td>\n",
              "      <td>0.067</td>\n",
              "      <td>10.0</td>\n",
              "      <td>42.0</td>\n",
              "      <td>0.99690</td>\n",
              "      <td>3.19</td>\n",
              "      <td>0.59</td>\n",
              "      <td>9.5</td>\n",
              "      <td>red</td>\n",
              "    </tr>\n",
              "    <tr>\n",
              "      <th>2</th>\n",
              "      <td>5</td>\n",
              "      <td>7.9</td>\n",
              "      <td>0.210</td>\n",
              "      <td>0.39</td>\n",
              "      <td>2.0</td>\n",
              "      <td>0.057</td>\n",
              "      <td>21.0</td>\n",
              "      <td>138.0</td>\n",
              "      <td>0.99176</td>\n",
              "      <td>3.05</td>\n",
              "      <td>0.52</td>\n",
              "      <td>10.9</td>\n",
              "      <td>white</td>\n",
              "    </tr>\n",
              "    <tr>\n",
              "      <th>3</th>\n",
              "      <td>6</td>\n",
              "      <td>7.0</td>\n",
              "      <td>0.210</td>\n",
              "      <td>0.31</td>\n",
              "      <td>6.0</td>\n",
              "      <td>0.046</td>\n",
              "      <td>29.0</td>\n",
              "      <td>108.0</td>\n",
              "      <td>0.99390</td>\n",
              "      <td>3.26</td>\n",
              "      <td>0.50</td>\n",
              "      <td>10.8</td>\n",
              "      <td>white</td>\n",
              "    </tr>\n",
              "    <tr>\n",
              "      <th>4</th>\n",
              "      <td>6</td>\n",
              "      <td>7.8</td>\n",
              "      <td>0.400</td>\n",
              "      <td>0.26</td>\n",
              "      <td>9.5</td>\n",
              "      <td>0.059</td>\n",
              "      <td>32.0</td>\n",
              "      <td>178.0</td>\n",
              "      <td>0.99550</td>\n",
              "      <td>3.04</td>\n",
              "      <td>0.43</td>\n",
              "      <td>10.9</td>\n",
              "      <td>white</td>\n",
              "    </tr>\n",
              "  </tbody>\n",
              "</table>\n",
              "</div>\n",
              "      <button class=\"colab-df-convert\" onclick=\"convertToInteractive('df-4e76c553-2de4-4553-9c0c-f347d2f9e0d0')\"\n",
              "              title=\"Convert this dataframe to an interactive table.\"\n",
              "              style=\"display:none;\">\n",
              "        \n",
              "  <svg xmlns=\"http://www.w3.org/2000/svg\" height=\"24px\"viewBox=\"0 0 24 24\"\n",
              "       width=\"24px\">\n",
              "    <path d=\"M0 0h24v24H0V0z\" fill=\"none\"/>\n",
              "    <path d=\"M18.56 5.44l.94 2.06.94-2.06 2.06-.94-2.06-.94-.94-2.06-.94 2.06-2.06.94zm-11 1L8.5 8.5l.94-2.06 2.06-.94-2.06-.94L8.5 2.5l-.94 2.06-2.06.94zm10 10l.94 2.06.94-2.06 2.06-.94-2.06-.94-.94-2.06-.94 2.06-2.06.94z\"/><path d=\"M17.41 7.96l-1.37-1.37c-.4-.4-.92-.59-1.43-.59-.52 0-1.04.2-1.43.59L10.3 9.45l-7.72 7.72c-.78.78-.78 2.05 0 2.83L4 21.41c.39.39.9.59 1.41.59.51 0 1.02-.2 1.41-.59l7.78-7.78 2.81-2.81c.8-.78.8-2.07 0-2.86zM5.41 20L4 18.59l7.72-7.72 1.47 1.35L5.41 20z\"/>\n",
              "  </svg>\n",
              "      </button>\n",
              "      \n",
              "  <style>\n",
              "    .colab-df-container {\n",
              "      display:flex;\n",
              "      flex-wrap:wrap;\n",
              "      gap: 12px;\n",
              "    }\n",
              "\n",
              "    .colab-df-convert {\n",
              "      background-color: #E8F0FE;\n",
              "      border: none;\n",
              "      border-radius: 50%;\n",
              "      cursor: pointer;\n",
              "      display: none;\n",
              "      fill: #1967D2;\n",
              "      height: 32px;\n",
              "      padding: 0 0 0 0;\n",
              "      width: 32px;\n",
              "    }\n",
              "\n",
              "    .colab-df-convert:hover {\n",
              "      background-color: #E2EBFA;\n",
              "      box-shadow: 0px 1px 2px rgba(60, 64, 67, 0.3), 0px 1px 3px 1px rgba(60, 64, 67, 0.15);\n",
              "      fill: #174EA6;\n",
              "    }\n",
              "\n",
              "    [theme=dark] .colab-df-convert {\n",
              "      background-color: #3B4455;\n",
              "      fill: #D2E3FC;\n",
              "    }\n",
              "\n",
              "    [theme=dark] .colab-df-convert:hover {\n",
              "      background-color: #434B5C;\n",
              "      box-shadow: 0px 1px 3px 1px rgba(0, 0, 0, 0.15);\n",
              "      filter: drop-shadow(0px 1px 2px rgba(0, 0, 0, 0.3));\n",
              "      fill: #FFFFFF;\n",
              "    }\n",
              "  </style>\n",
              "\n",
              "      <script>\n",
              "        const buttonEl =\n",
              "          document.querySelector('#df-4e76c553-2de4-4553-9c0c-f347d2f9e0d0 button.colab-df-convert');\n",
              "        buttonEl.style.display =\n",
              "          google.colab.kernel.accessAllowed ? 'block' : 'none';\n",
              "\n",
              "        async function convertToInteractive(key) {\n",
              "          const element = document.querySelector('#df-4e76c553-2de4-4553-9c0c-f347d2f9e0d0');\n",
              "          const dataTable =\n",
              "            await google.colab.kernel.invokeFunction('convertToInteractive',\n",
              "                                                     [key], {});\n",
              "          if (!dataTable) return;\n",
              "\n",
              "          const docLinkHtml = 'Like what you see? Visit the ' +\n",
              "            '<a target=\"_blank\" href=https://colab.research.google.com/notebooks/data_table.ipynb>data table notebook</a>'\n",
              "            + ' to learn more about interactive tables.';\n",
              "          element.innerHTML = '';\n",
              "          dataTable['output_type'] = 'display_data';\n",
              "          await google.colab.output.renderOutput(dataTable, element);\n",
              "          const docLink = document.createElement('div');\n",
              "          docLink.innerHTML = docLinkHtml;\n",
              "          element.appendChild(docLink);\n",
              "        }\n",
              "      </script>\n",
              "    </div>\n",
              "  </div>\n",
              "  "
            ]
          },
          "metadata": {},
          "execution_count": 71
        }
      ]
    },
    {
      "cell_type": "code",
      "execution_count": null,
      "metadata": {
        "colab": {
          "base_uri": "https://localhost:8080/"
        },
        "id": "KuSy5igkOabb",
        "outputId": "7ed62327-0268-43a8-c9d6-8ff42a1790b2"
      },
      "outputs": [
        {
          "output_type": "execute_result",
          "data": {
            "text/plain": [
              "Index(['quality', 'fixed acidity', 'volatile acidity', 'citric acid',\n",
              "       'residual sugar', 'chlorides', 'free sulfur dioxide',\n",
              "       'total sulfur dioxide', 'density', 'pH', 'sulphates', 'alcohol',\n",
              "       'type'],\n",
              "      dtype='object')"
            ]
          },
          "metadata": {},
          "execution_count": 72
        }
      ],
      "source": [
        "wine.columns # 결과 확인"
      ]
    },
    {
      "cell_type": "markdown",
      "metadata": {
        "id": "Le9024xjYqzH"
      },
      "source": [
        "### info()를 결측치가 있는지 확인하고, describe()를 통해 수치형 피쳐들의 scale을 살펴보고, 스케일링을 진행해야 하는지 살펴보시오. "
      ]
    },
    {
      "cell_type": "code",
      "execution_count": null,
      "metadata": {
        "colab": {
          "base_uri": "https://localhost:8080/"
        },
        "id": "U0Ks2M-XOabc",
        "outputId": "5581d0f2-69d5-4334-ab66-45c53104926b"
      },
      "outputs": [
        {
          "output_type": "stream",
          "name": "stdout",
          "text": [
            "<class 'pandas.core.frame.DataFrame'>\n",
            "RangeIndex: 5497 entries, 0 to 5496\n",
            "Data columns (total 13 columns):\n",
            " #   Column                Non-Null Count  Dtype  \n",
            "---  ------                --------------  -----  \n",
            " 0   quality               5497 non-null   int64  \n",
            " 1   fixed acidity         5497 non-null   float64\n",
            " 2   volatile acidity      5497 non-null   float64\n",
            " 3   citric acid           5497 non-null   float64\n",
            " 4   residual sugar        5497 non-null   float64\n",
            " 5   chlorides             5497 non-null   float64\n",
            " 6   free sulfur dioxide   5497 non-null   float64\n",
            " 7   total sulfur dioxide  5497 non-null   float64\n",
            " 8   density               5497 non-null   float64\n",
            " 9   pH                    5497 non-null   float64\n",
            " 10  sulphates             5497 non-null   float64\n",
            " 11  alcohol               5497 non-null   float64\n",
            " 12  type                  5497 non-null   object \n",
            "dtypes: float64(11), int64(1), object(1)\n",
            "memory usage: 558.4+ KB\n"
          ]
        }
      ],
      "source": [
        "wine.info()  "
      ]
    },
    {
      "cell_type": "markdown",
      "source": [
        "-> 결측치 있는 칼럼 없음. "
      ],
      "metadata": {
        "id": "mh-400UVQovT"
      }
    },
    {
      "cell_type": "code",
      "execution_count": null,
      "metadata": {
        "colab": {
          "base_uri": "https://localhost:8080/",
          "height": 399
        },
        "id": "xS4eTLYyOabc",
        "outputId": "12d1e6a7-d29b-44e0-b9f0-40ceed43fead"
      },
      "outputs": [
        {
          "output_type": "execute_result",
          "data": {
            "text/plain": [
              "           quality  fixed acidity  volatile acidity  citric acid  \\\n",
              "count  5497.000000    5497.000000       5497.000000  5497.000000   \n",
              "mean      5.818992       7.210115          0.338163     0.318543   \n",
              "std       0.870311       1.287579          0.163224     0.145104   \n",
              "min       3.000000       3.800000          0.080000     0.000000   \n",
              "25%       5.000000       6.400000          0.230000     0.250000   \n",
              "50%       6.000000       7.000000          0.290000     0.310000   \n",
              "75%       6.000000       7.700000          0.400000     0.390000   \n",
              "max       9.000000      15.900000          1.580000     1.660000   \n",
              "\n",
              "       residual sugar    chlorides  free sulfur dioxide  total sulfur dioxide  \\\n",
              "count     5497.000000  5497.000000          5497.000000           5497.000000   \n",
              "mean         5.438075     0.055808            30.417682            115.566491   \n",
              "std          4.756676     0.034653            17.673881             56.288223   \n",
              "min          0.600000     0.009000             1.000000              6.000000   \n",
              "25%          1.800000     0.038000            17.000000             78.000000   \n",
              "50%          3.000000     0.047000            29.000000            118.000000   \n",
              "75%          8.100000     0.064000            41.000000            155.000000   \n",
              "max         65.800000     0.610000           289.000000            440.000000   \n",
              "\n",
              "           density           pH    sulphates      alcohol  \n",
              "count  5497.000000  5497.000000  5497.000000  5497.000000  \n",
              "mean      0.994673     3.219502     0.530524    10.504918  \n",
              "std       0.003014     0.160713     0.149396     1.194524  \n",
              "min       0.987110     2.740000     0.220000     8.000000  \n",
              "25%       0.992300     3.110000     0.430000     9.500000  \n",
              "50%       0.994800     3.210000     0.510000    10.300000  \n",
              "75%       0.996930     3.320000     0.600000    11.300000  \n",
              "max       1.038980     4.010000     2.000000    14.900000  "
            ],
            "text/html": [
              "\n",
              "  <div id=\"df-62bb9b3b-5115-40c3-963b-3a87041ce913\">\n",
              "    <div class=\"colab-df-container\">\n",
              "      <div>\n",
              "<style scoped>\n",
              "    .dataframe tbody tr th:only-of-type {\n",
              "        vertical-align: middle;\n",
              "    }\n",
              "\n",
              "    .dataframe tbody tr th {\n",
              "        vertical-align: top;\n",
              "    }\n",
              "\n",
              "    .dataframe thead th {\n",
              "        text-align: right;\n",
              "    }\n",
              "</style>\n",
              "<table border=\"1\" class=\"dataframe\">\n",
              "  <thead>\n",
              "    <tr style=\"text-align: right;\">\n",
              "      <th></th>\n",
              "      <th>quality</th>\n",
              "      <th>fixed acidity</th>\n",
              "      <th>volatile acidity</th>\n",
              "      <th>citric acid</th>\n",
              "      <th>residual sugar</th>\n",
              "      <th>chlorides</th>\n",
              "      <th>free sulfur dioxide</th>\n",
              "      <th>total sulfur dioxide</th>\n",
              "      <th>density</th>\n",
              "      <th>pH</th>\n",
              "      <th>sulphates</th>\n",
              "      <th>alcohol</th>\n",
              "    </tr>\n",
              "  </thead>\n",
              "  <tbody>\n",
              "    <tr>\n",
              "      <th>count</th>\n",
              "      <td>5497.000000</td>\n",
              "      <td>5497.000000</td>\n",
              "      <td>5497.000000</td>\n",
              "      <td>5497.000000</td>\n",
              "      <td>5497.000000</td>\n",
              "      <td>5497.000000</td>\n",
              "      <td>5497.000000</td>\n",
              "      <td>5497.000000</td>\n",
              "      <td>5497.000000</td>\n",
              "      <td>5497.000000</td>\n",
              "      <td>5497.000000</td>\n",
              "      <td>5497.000000</td>\n",
              "    </tr>\n",
              "    <tr>\n",
              "      <th>mean</th>\n",
              "      <td>5.818992</td>\n",
              "      <td>7.210115</td>\n",
              "      <td>0.338163</td>\n",
              "      <td>0.318543</td>\n",
              "      <td>5.438075</td>\n",
              "      <td>0.055808</td>\n",
              "      <td>30.417682</td>\n",
              "      <td>115.566491</td>\n",
              "      <td>0.994673</td>\n",
              "      <td>3.219502</td>\n",
              "      <td>0.530524</td>\n",
              "      <td>10.504918</td>\n",
              "    </tr>\n",
              "    <tr>\n",
              "      <th>std</th>\n",
              "      <td>0.870311</td>\n",
              "      <td>1.287579</td>\n",
              "      <td>0.163224</td>\n",
              "      <td>0.145104</td>\n",
              "      <td>4.756676</td>\n",
              "      <td>0.034653</td>\n",
              "      <td>17.673881</td>\n",
              "      <td>56.288223</td>\n",
              "      <td>0.003014</td>\n",
              "      <td>0.160713</td>\n",
              "      <td>0.149396</td>\n",
              "      <td>1.194524</td>\n",
              "    </tr>\n",
              "    <tr>\n",
              "      <th>min</th>\n",
              "      <td>3.000000</td>\n",
              "      <td>3.800000</td>\n",
              "      <td>0.080000</td>\n",
              "      <td>0.000000</td>\n",
              "      <td>0.600000</td>\n",
              "      <td>0.009000</td>\n",
              "      <td>1.000000</td>\n",
              "      <td>6.000000</td>\n",
              "      <td>0.987110</td>\n",
              "      <td>2.740000</td>\n",
              "      <td>0.220000</td>\n",
              "      <td>8.000000</td>\n",
              "    </tr>\n",
              "    <tr>\n",
              "      <th>25%</th>\n",
              "      <td>5.000000</td>\n",
              "      <td>6.400000</td>\n",
              "      <td>0.230000</td>\n",
              "      <td>0.250000</td>\n",
              "      <td>1.800000</td>\n",
              "      <td>0.038000</td>\n",
              "      <td>17.000000</td>\n",
              "      <td>78.000000</td>\n",
              "      <td>0.992300</td>\n",
              "      <td>3.110000</td>\n",
              "      <td>0.430000</td>\n",
              "      <td>9.500000</td>\n",
              "    </tr>\n",
              "    <tr>\n",
              "      <th>50%</th>\n",
              "      <td>6.000000</td>\n",
              "      <td>7.000000</td>\n",
              "      <td>0.290000</td>\n",
              "      <td>0.310000</td>\n",
              "      <td>3.000000</td>\n",
              "      <td>0.047000</td>\n",
              "      <td>29.000000</td>\n",
              "      <td>118.000000</td>\n",
              "      <td>0.994800</td>\n",
              "      <td>3.210000</td>\n",
              "      <td>0.510000</td>\n",
              "      <td>10.300000</td>\n",
              "    </tr>\n",
              "    <tr>\n",
              "      <th>75%</th>\n",
              "      <td>6.000000</td>\n",
              "      <td>7.700000</td>\n",
              "      <td>0.400000</td>\n",
              "      <td>0.390000</td>\n",
              "      <td>8.100000</td>\n",
              "      <td>0.064000</td>\n",
              "      <td>41.000000</td>\n",
              "      <td>155.000000</td>\n",
              "      <td>0.996930</td>\n",
              "      <td>3.320000</td>\n",
              "      <td>0.600000</td>\n",
              "      <td>11.300000</td>\n",
              "    </tr>\n",
              "    <tr>\n",
              "      <th>max</th>\n",
              "      <td>9.000000</td>\n",
              "      <td>15.900000</td>\n",
              "      <td>1.580000</td>\n",
              "      <td>1.660000</td>\n",
              "      <td>65.800000</td>\n",
              "      <td>0.610000</td>\n",
              "      <td>289.000000</td>\n",
              "      <td>440.000000</td>\n",
              "      <td>1.038980</td>\n",
              "      <td>4.010000</td>\n",
              "      <td>2.000000</td>\n",
              "      <td>14.900000</td>\n",
              "    </tr>\n",
              "  </tbody>\n",
              "</table>\n",
              "</div>\n",
              "      <button class=\"colab-df-convert\" onclick=\"convertToInteractive('df-62bb9b3b-5115-40c3-963b-3a87041ce913')\"\n",
              "              title=\"Convert this dataframe to an interactive table.\"\n",
              "              style=\"display:none;\">\n",
              "        \n",
              "  <svg xmlns=\"http://www.w3.org/2000/svg\" height=\"24px\"viewBox=\"0 0 24 24\"\n",
              "       width=\"24px\">\n",
              "    <path d=\"M0 0h24v24H0V0z\" fill=\"none\"/>\n",
              "    <path d=\"M18.56 5.44l.94 2.06.94-2.06 2.06-.94-2.06-.94-.94-2.06-.94 2.06-2.06.94zm-11 1L8.5 8.5l.94-2.06 2.06-.94-2.06-.94L8.5 2.5l-.94 2.06-2.06.94zm10 10l.94 2.06.94-2.06 2.06-.94-2.06-.94-.94-2.06-.94 2.06-2.06.94z\"/><path d=\"M17.41 7.96l-1.37-1.37c-.4-.4-.92-.59-1.43-.59-.52 0-1.04.2-1.43.59L10.3 9.45l-7.72 7.72c-.78.78-.78 2.05 0 2.83L4 21.41c.39.39.9.59 1.41.59.51 0 1.02-.2 1.41-.59l7.78-7.78 2.81-2.81c.8-.78.8-2.07 0-2.86zM5.41 20L4 18.59l7.72-7.72 1.47 1.35L5.41 20z\"/>\n",
              "  </svg>\n",
              "      </button>\n",
              "      \n",
              "  <style>\n",
              "    .colab-df-container {\n",
              "      display:flex;\n",
              "      flex-wrap:wrap;\n",
              "      gap: 12px;\n",
              "    }\n",
              "\n",
              "    .colab-df-convert {\n",
              "      background-color: #E8F0FE;\n",
              "      border: none;\n",
              "      border-radius: 50%;\n",
              "      cursor: pointer;\n",
              "      display: none;\n",
              "      fill: #1967D2;\n",
              "      height: 32px;\n",
              "      padding: 0 0 0 0;\n",
              "      width: 32px;\n",
              "    }\n",
              "\n",
              "    .colab-df-convert:hover {\n",
              "      background-color: #E2EBFA;\n",
              "      box-shadow: 0px 1px 2px rgba(60, 64, 67, 0.3), 0px 1px 3px 1px rgba(60, 64, 67, 0.15);\n",
              "      fill: #174EA6;\n",
              "    }\n",
              "\n",
              "    [theme=dark] .colab-df-convert {\n",
              "      background-color: #3B4455;\n",
              "      fill: #D2E3FC;\n",
              "    }\n",
              "\n",
              "    [theme=dark] .colab-df-convert:hover {\n",
              "      background-color: #434B5C;\n",
              "      box-shadow: 0px 1px 3px 1px rgba(0, 0, 0, 0.15);\n",
              "      filter: drop-shadow(0px 1px 2px rgba(0, 0, 0, 0.3));\n",
              "      fill: #FFFFFF;\n",
              "    }\n",
              "  </style>\n",
              "\n",
              "      <script>\n",
              "        const buttonEl =\n",
              "          document.querySelector('#df-62bb9b3b-5115-40c3-963b-3a87041ce913 button.colab-df-convert');\n",
              "        buttonEl.style.display =\n",
              "          google.colab.kernel.accessAllowed ? 'block' : 'none';\n",
              "\n",
              "        async function convertToInteractive(key) {\n",
              "          const element = document.querySelector('#df-62bb9b3b-5115-40c3-963b-3a87041ce913');\n",
              "          const dataTable =\n",
              "            await google.colab.kernel.invokeFunction('convertToInteractive',\n",
              "                                                     [key], {});\n",
              "          if (!dataTable) return;\n",
              "\n",
              "          const docLinkHtml = 'Like what you see? Visit the ' +\n",
              "            '<a target=\"_blank\" href=https://colab.research.google.com/notebooks/data_table.ipynb>data table notebook</a>'\n",
              "            + ' to learn more about interactive tables.';\n",
              "          element.innerHTML = '';\n",
              "          dataTable['output_type'] = 'display_data';\n",
              "          await google.colab.output.renderOutput(dataTable, element);\n",
              "          const docLink = document.createElement('div');\n",
              "          docLink.innerHTML = docLinkHtml;\n",
              "          element.appendChild(docLink);\n",
              "        }\n",
              "      </script>\n",
              "    </div>\n",
              "  </div>\n",
              "  "
            ]
          },
          "metadata": {},
          "execution_count": 74
        }
      ],
      "source": [
        "wine.describe()"
      ]
    },
    {
      "cell_type": "markdown",
      "source": [
        "mean 값을 비교해보면 숫자가 소수점인 칼럼부터 100이 넘어가는 칼럼까지.. 다양해서 스케일링 진행해야 할 것 같음. "
      ],
      "metadata": {
        "id": "izJj7zlaRP08"
      }
    },
    {
      "cell_type": "markdown",
      "metadata": {
        "id": "6hY00gS0YqzJ"
      },
      "source": [
        "### wine_data에서 각 피쳐들 간의 상관관계를 나타내는 히트맵을 출력하시오."
      ]
    },
    {
      "cell_type": "code",
      "execution_count": null,
      "metadata": {
        "colab": {
          "base_uri": "https://localhost:8080/",
          "height": 589
        },
        "id": "REEVNSPaOabd",
        "outputId": "94821578-5106-4c51-b989-7131e3e9f8cc"
      },
      "outputs": [
        {
          "output_type": "execute_result",
          "data": {
            "text/plain": [
              "<matplotlib.axes._subplots.AxesSubplot at 0x7fde9b485d50>"
            ]
          },
          "metadata": {},
          "execution_count": 75
        },
        {
          "output_type": "display_data",
          "data": {
            "text/plain": [
              "<Figure size 720x576 with 2 Axes>"
            ],
            "image/png": "[encoded data removed]"
          },
          "metadata": {
            "needs_background": "light"
          }
        }
      ],
      "source": [
        "plt.figure(figsize=(10, 8))\n",
        "sns.heatmap(wine.corr(), annot = True)\n",
        "\n",
        "# 출처: https://hong-yp-ml-records.tistory.com/33 [HONG YP's Data Science BLOG]"
      ]
    },
    {
      "cell_type": "markdown",
      "metadata": {
        "id": "0sLcOUTHYqzK"
      },
      "source": [
        "### 데이터에서 피쳐값과 타겟값을 분리하여 각각 X_wine, y_wine으로 저장하시오. (target은 quality)"
      ]
    },
    {
      "cell_type": "code",
      "execution_count": null,
      "metadata": {
        "id": "MpC9nTXwOabd"
      },
      "outputs": [],
      "source": [
        "X_wine = wine.drop('quality', axis=1)\n",
        "y_wine = wine['quality']"
      ]
    },
    {
      "cell_type": "code",
      "execution_count": null,
      "metadata": {
        "colab": {
          "base_uri": "https://localhost:8080/",
          "height": 305
        },
        "id": "a8ITCH7qOabe",
        "outputId": "bc0bdc88-002b-4bd0-aa8b-3c358ac4ae3e"
      },
      "outputs": [
        {
          "output_type": "execute_result",
          "data": {
            "text/plain": [
              "   fixed acidity  volatile acidity  citric acid  residual sugar  chlorides  \\\n",
              "0            5.6             0.695         0.06             6.8      0.042   \n",
              "1            8.8             0.610         0.14             2.4      0.067   \n",
              "2            7.9             0.210         0.39             2.0      0.057   \n",
              "3            7.0             0.210         0.31             6.0      0.046   \n",
              "4            7.8             0.400         0.26             9.5      0.059   \n",
              "\n",
              "   free sulfur dioxide  total sulfur dioxide  density    pH  sulphates  \\\n",
              "0                  9.0                  84.0  0.99432  3.44       0.44   \n",
              "1                 10.0                  42.0  0.99690  3.19       0.59   \n",
              "2                 21.0                 138.0  0.99176  3.05       0.52   \n",
              "3                 29.0                 108.0  0.99390  3.26       0.50   \n",
              "4                 32.0                 178.0  0.99550  3.04       0.43   \n",
              "\n",
              "   alcohol   type  \n",
              "0     10.2  white  \n",
              "1      9.5    red  \n",
              "2     10.9  white  \n",
              "3     10.8  white  \n",
              "4     10.9  white  "
            ],
            "text/html": [
              "\n",
              "  <div id=\"df-c6b533cc-cf36-43b3-a6ae-d6b5399bb40b\">\n",
              "    <div class=\"colab-df-container\">\n",
              "      <div>\n",
              "<style scoped>\n",
              "    .dataframe tbody tr th:only-of-type {\n",
              "        vertical-align: middle;\n",
              "    }\n",
              "\n",
              "    .dataframe tbody tr th {\n",
              "        vertical-align: top;\n",
              "    }\n",
              "\n",
              "    .dataframe thead th {\n",
              "        text-align: right;\n",
              "    }\n",
              "</style>\n",
              "<table border=\"1\" class=\"dataframe\">\n",
              "  <thead>\n",
              "    <tr style=\"text-align: right;\">\n",
              "      <th></th>\n",
              "      <th>fixed acidity</th>\n",
              "      <th>volatile acidity</th>\n",
              "      <th>citric acid</th>\n",
              "      <th>residual sugar</th>\n",
              "      <th>chlorides</th>\n",
              "      <th>free sulfur dioxide</th>\n",
              "      <th>total sulfur dioxide</th>\n",
              "      <th>density</th>\n",
              "      <th>pH</th>\n",
              "      <th>sulphates</th>\n",
              "      <th>alcohol</th>\n",
              "      <th>type</th>\n",
              "    </tr>\n",
              "  </thead>\n",
              "  <tbody>\n",
              "    <tr>\n",
              "      <th>0</th>\n",
              "      <td>5.6</td>\n",
              "      <td>0.695</td>\n",
              "      <td>0.06</td>\n",
              "      <td>6.8</td>\n",
              "      <td>0.042</td>\n",
              "      <td>9.0</td>\n",
              "      <td>84.0</td>\n",
              "      <td>0.99432</td>\n",
              "      <td>3.44</td>\n",
              "      <td>0.44</td>\n",
              "      <td>10.2</td>\n",
              "      <td>white</td>\n",
              "    </tr>\n",
              "    <tr>\n",
              "      <th>1</th>\n",
              "      <td>8.8</td>\n",
              "      <td>0.610</td>\n",
              "      <td>0.14</td>\n",
              "      <td>2.4</td>\n",
              "      <td>0.067</td>\n",
              "      <td>10.0</td>\n",
              "      <td>42.0</td>\n",
              "      <td>0.99690</td>\n",
              "      <td>3.19</td>\n",
              "      <td>0.59</td>\n",
              "      <td>9.5</td>\n",
              "      <td>red</td>\n",
              "    </tr>\n",
              "    <tr>\n",
              "      <th>2</th>\n",
              "      <td>7.9</td>\n",
              "      <td>0.210</td>\n",
              "      <td>0.39</td>\n",
              "      <td>2.0</td>\n",
              "      <td>0.057</td>\n",
              "      <td>21.0</td>\n",
              "      <td>138.0</td>\n",
              "      <td>0.99176</td>\n",
              "      <td>3.05</td>\n",
              "      <td>0.52</td>\n",
              "      <td>10.9</td>\n",
              "      <td>white</td>\n",
              "    </tr>\n",
              "    <tr>\n",
              "      <th>3</th>\n",
              "      <td>7.0</td>\n",
              "      <td>0.210</td>\n",
              "      <td>0.31</td>\n",
              "      <td>6.0</td>\n",
              "      <td>0.046</td>\n",
              "      <td>29.0</td>\n",
              "      <td>108.0</td>\n",
              "      <td>0.99390</td>\n",
              "      <td>3.26</td>\n",
              "      <td>0.50</td>\n",
              "      <td>10.8</td>\n",
              "      <td>white</td>\n",
              "    </tr>\n",
              "    <tr>\n",
              "      <th>4</th>\n",
              "      <td>7.8</td>\n",
              "      <td>0.400</td>\n",
              "      <td>0.26</td>\n",
              "      <td>9.5</td>\n",
              "      <td>0.059</td>\n",
              "      <td>32.0</td>\n",
              "      <td>178.0</td>\n",
              "      <td>0.99550</td>\n",
              "      <td>3.04</td>\n",
              "      <td>0.43</td>\n",
              "      <td>10.9</td>\n",
              "      <td>white</td>\n",
              "    </tr>\n",
              "  </tbody>\n",
              "</table>\n",
              "</div>\n",
              "      <button class=\"colab-df-convert\" onclick=\"convertToInteractive('df-c6b533cc-cf36-43b3-a6ae-d6b5399bb40b')\"\n",
              "              title=\"Convert this dataframe to an interactive table.\"\n",
              "              style=\"display:none;\">\n",
              "        \n",
              "  <svg xmlns=\"http://www.w3.org/2000/svg\" height=\"24px\"viewBox=\"0 0 24 24\"\n",
              "       width=\"24px\">\n",
              "    <path d=\"M0 0h24v24H0V0z\" fill=\"none\"/>\n",
              "    <path d=\"M18.56 5.44l.94 2.06.94-2.06 2.06-.94-2.06-.94-.94-2.06-.94 2.06-2.06.94zm-11 1L8.5 8.5l.94-2.06 2.06-.94-2.06-.94L8.5 2.5l-.94 2.06-2.06.94zm10 10l.94 2.06.94-2.06 2.06-.94-2.06-.94-.94-2.06-.94 2.06-2.06.94z\"/><path d=\"M17.41 7.96l-1.37-1.37c-.4-.4-.92-.59-1.43-.59-.52 0-1.04.2-1.43.59L10.3 9.45l-7.72 7.72c-.78.78-.78 2.05 0 2.83L4 21.41c.39.39.9.59 1.41.59.51 0 1.02-.2 1.41-.59l7.78-7.78 2.81-2.81c.8-.78.8-2.07 0-2.86zM5.41 20L4 18.59l7.72-7.72 1.47 1.35L5.41 20z\"/>\n",
              "  </svg>\n",
              "      </button>\n",
              "      \n",
              "  <style>\n",
              "    .colab-df-container {\n",
              "      display:flex;\n",
              "      flex-wrap:wrap;\n",
              "      gap: 12px;\n",
              "    }\n",
              "\n",
              "    .colab-df-convert {\n",
              "      background-color: #E8F0FE;\n",
              "      border: none;\n",
              "      border-radius: 50%;\n",
              "      cursor: pointer;\n",
              "      display: none;\n",
              "      fill: #1967D2;\n",
              "      height: 32px;\n",
              "      padding: 0 0 0 0;\n",
              "      width: 32px;\n",
              "    }\n",
              "\n",
              "    .colab-df-convert:hover {\n",
              "      background-color: #E2EBFA;\n",
              "      box-shadow: 0px 1px 2px rgba(60, 64, 67, 0.3), 0px 1px 3px 1px rgba(60, 64, 67, 0.15);\n",
              "      fill: #174EA6;\n",
              "    }\n",
              "\n",
              "    [theme=dark] .colab-df-convert {\n",
              "      background-color: #3B4455;\n",
              "      fill: #D2E3FC;\n",
              "    }\n",
              "\n",
              "    [theme=dark] .colab-df-convert:hover {\n",
              "      background-color: #434B5C;\n",
              "      box-shadow: 0px 1px 3px 1px rgba(0, 0, 0, 0.15);\n",
              "      filter: drop-shadow(0px 1px 2px rgba(0, 0, 0, 0.3));\n",
              "      fill: #FFFFFF;\n",
              "    }\n",
              "  </style>\n",
              "\n",
              "      <script>\n",
              "        const buttonEl =\n",
              "          document.querySelector('#df-c6b533cc-cf36-43b3-a6ae-d6b5399bb40b button.colab-df-convert');\n",
              "        buttonEl.style.display =\n",
              "          google.colab.kernel.accessAllowed ? 'block' : 'none';\n",
              "\n",
              "        async function convertToInteractive(key) {\n",
              "          const element = document.querySelector('#df-c6b533cc-cf36-43b3-a6ae-d6b5399bb40b');\n",
              "          const dataTable =\n",
              "            await google.colab.kernel.invokeFunction('convertToInteractive',\n",
              "                                                     [key], {});\n",
              "          if (!dataTable) return;\n",
              "\n",
              "          const docLinkHtml = 'Like what you see? Visit the ' +\n",
              "            '<a target=\"_blank\" href=https://colab.research.google.com/notebooks/data_table.ipynb>data table notebook</a>'\n",
              "            + ' to learn more about interactive tables.';\n",
              "          element.innerHTML = '';\n",
              "          dataTable['output_type'] = 'display_data';\n",
              "          await google.colab.output.renderOutput(dataTable, element);\n",
              "          const docLink = document.createElement('div');\n",
              "          docLink.innerHTML = docLinkHtml;\n",
              "          element.appendChild(docLink);\n",
              "        }\n",
              "      </script>\n",
              "    </div>\n",
              "  </div>\n",
              "  "
            ]
          },
          "metadata": {},
          "execution_count": 77
        }
      ],
      "source": [
        "#데이터 확인\n",
        "X_wine.head()"
      ]
    },
    {
      "cell_type": "code",
      "execution_count": null,
      "metadata": {
        "colab": {
          "base_uri": "https://localhost:8080/"
        },
        "id": "drJTKUq7Oabe",
        "outputId": "3b2a4175-56a4-4f44-8a95-276cee76137e"
      },
      "outputs": [
        {
          "output_type": "execute_result",
          "data": {
            "text/plain": [
              "0    5\n",
              "1    5\n",
              "2    5\n",
              "3    6\n",
              "4    6\n",
              "Name: quality, dtype: int64"
            ]
          },
          "metadata": {},
          "execution_count": 78
        }
      ],
      "source": [
        "# 데이터 확인\n",
        "y_wine.head()"
      ]
    },
    {
      "cell_type": "markdown",
      "metadata": {
        "id": "exsdnKdxYqzL"
      },
      "source": [
        "### 피쳐값 중 카테고리 변수가 1가지 있다. 이에 대해 Encoding을 진행하시오."
      ]
    },
    {
      "cell_type": "code",
      "source": [
        "wine['type'].unique()"
      ],
      "metadata": {
        "colab": {
          "base_uri": "https://localhost:8080/"
        },
        "id": "Qo3Jx8_JUO9Y",
        "outputId": "61a28b95-d0d5-42d3-d791-fb7383d396d6"
      },
      "execution_count": null,
      "outputs": [
        {
          "output_type": "execute_result",
          "data": {
            "text/plain": [
              "array(['white', 'red'], dtype=object)"
            ]
          },
          "metadata": {},
          "execution_count": 79
        }
      ]
    },
    {
      "cell_type": "code",
      "execution_count": null,
      "metadata": {
        "id": "OwchBXmaOabe"
      },
      "outputs": [],
      "source": [
        "from sklearn.preprocessing import LabelEncoder \n",
        "\n",
        "le = LabelEncoder()\n",
        "X_wine['type']=le.fit_transform(X_wine['type'])"
      ]
    },
    {
      "cell_type": "code",
      "execution_count": null,
      "metadata": {
        "colab": {
          "base_uri": "https://localhost:8080/",
          "height": 305
        },
        "id": "uoYUeYLUOabe",
        "outputId": "e9c48479-617c-4336-f057-613fb5cd9b3e"
      },
      "outputs": [
        {
          "output_type": "execute_result",
          "data": {
            "text/plain": [
              "   fixed acidity  volatile acidity  citric acid  residual sugar  chlorides  \\\n",
              "0            5.6             0.695         0.06             6.8      0.042   \n",
              "1            8.8             0.610         0.14             2.4      0.067   \n",
              "2            7.9             0.210         0.39             2.0      0.057   \n",
              "3            7.0             0.210         0.31             6.0      0.046   \n",
              "4            7.8             0.400         0.26             9.5      0.059   \n",
              "\n",
              "   free sulfur dioxide  total sulfur dioxide  density    pH  sulphates  \\\n",
              "0                  9.0                  84.0  0.99432  3.44       0.44   \n",
              "1                 10.0                  42.0  0.99690  3.19       0.59   \n",
              "2                 21.0                 138.0  0.99176  3.05       0.52   \n",
              "3                 29.0                 108.0  0.99390  3.26       0.50   \n",
              "4                 32.0                 178.0  0.99550  3.04       0.43   \n",
              "\n",
              "   alcohol  type  \n",
              "0     10.2     1  \n",
              "1      9.5     0  \n",
              "2     10.9     1  \n",
              "3     10.8     1  \n",
              "4     10.9     1  "
            ],
            "text/html": [
              "\n",
              "  <div id=\"df-fcb3fd0e-fbae-4031-9d67-655169b0d2b2\">\n",
              "    <div class=\"colab-df-container\">\n",
              "      <div>\n",
              "<style scoped>\n",
              "    .dataframe tbody tr th:only-of-type {\n",
              "        vertical-align: middle;\n",
              "    }\n",
              "\n",
              "    .dataframe tbody tr th {\n",
              "        vertical-align: top;\n",
              "    }\n",
              "\n",
              "    .dataframe thead th {\n",
              "        text-align: right;\n",
              "    }\n",
              "</style>\n",
              "<table border=\"1\" class=\"dataframe\">\n",
              "  <thead>\n",
              "    <tr style=\"text-align: right;\">\n",
              "      <th></th>\n",
              "      <th>fixed acidity</th>\n",
              "      <th>volatile acidity</th>\n",
              "      <th>citric acid</th>\n",
              "      <th>residual sugar</th>\n",
              "      <th>chlorides</th>\n",
              "      <th>free sulfur dioxide</th>\n",
              "      <th>total sulfur dioxide</th>\n",
              "      <th>density</th>\n",
              "      <th>pH</th>\n",
              "      <th>sulphates</th>\n",
              "      <th>alcohol</th>\n",
              "      <th>type</th>\n",
              "    </tr>\n",
              "  </thead>\n",
              "  <tbody>\n",
              "    <tr>\n",
              "      <th>0</th>\n",
              "      <td>5.6</td>\n",
              "      <td>0.695</td>\n",
              "      <td>0.06</td>\n",
              "      <td>6.8</td>\n",
              "      <td>0.042</td>\n",
              "      <td>9.0</td>\n",
              "      <td>84.0</td>\n",
              "      <td>0.99432</td>\n",
              "      <td>3.44</td>\n",
              "      <td>0.44</td>\n",
              "      <td>10.2</td>\n",
              "      <td>1</td>\n",
              "    </tr>\n",
              "    <tr>\n",
              "      <th>1</th>\n",
              "      <td>8.8</td>\n",
              "      <td>0.610</td>\n",
              "      <td>0.14</td>\n",
              "      <td>2.4</td>\n",
              "      <td>0.067</td>\n",
              "      <td>10.0</td>\n",
              "      <td>42.0</td>\n",
              "      <td>0.99690</td>\n",
              "      <td>3.19</td>\n",
              "      <td>0.59</td>\n",
              "      <td>9.5</td>\n",
              "      <td>0</td>\n",
              "    </tr>\n",
              "    <tr>\n",
              "      <th>2</th>\n",
              "      <td>7.9</td>\n",
              "      <td>0.210</td>\n",
              "      <td>0.39</td>\n",
              "      <td>2.0</td>\n",
              "      <td>0.057</td>\n",
              "      <td>21.0</td>\n",
              "      <td>138.0</td>\n",
              "      <td>0.99176</td>\n",
              "      <td>3.05</td>\n",
              "      <td>0.52</td>\n",
              "      <td>10.9</td>\n",
              "      <td>1</td>\n",
              "    </tr>\n",
              "    <tr>\n",
              "      <th>3</th>\n",
              "      <td>7.0</td>\n",
              "      <td>0.210</td>\n",
              "      <td>0.31</td>\n",
              "      <td>6.0</td>\n",
              "      <td>0.046</td>\n",
              "      <td>29.0</td>\n",
              "      <td>108.0</td>\n",
              "      <td>0.99390</td>\n",
              "      <td>3.26</td>\n",
              "      <td>0.50</td>\n",
              "      <td>10.8</td>\n",
              "      <td>1</td>\n",
              "    </tr>\n",
              "    <tr>\n",
              "      <th>4</th>\n",
              "      <td>7.8</td>\n",
              "      <td>0.400</td>\n",
              "      <td>0.26</td>\n",
              "      <td>9.5</td>\n",
              "      <td>0.059</td>\n",
              "      <td>32.0</td>\n",
              "      <td>178.0</td>\n",
              "      <td>0.99550</td>\n",
              "      <td>3.04</td>\n",
              "      <td>0.43</td>\n",
              "      <td>10.9</td>\n",
              "      <td>1</td>\n",
              "    </tr>\n",
              "  </tbody>\n",
              "</table>\n",
              "</div>\n",
              "      <button class=\"colab-df-convert\" onclick=\"convertToInteractive('df-fcb3fd0e-fbae-4031-9d67-655169b0d2b2')\"\n",
              "              title=\"Convert this dataframe to an interactive table.\"\n",
              "              style=\"display:none;\">\n",
              "        \n",
              "  <svg xmlns=\"http://www.w3.org/2000/svg\" height=\"24px\"viewBox=\"0 0 24 24\"\n",
              "       width=\"24px\">\n",
              "    <path d=\"M0 0h24v24H0V0z\" fill=\"none\"/>\n",
              "    <path d=\"M18.56 5.44l.94 2.06.94-2.06 2.06-.94-2.06-.94-.94-2.06-.94 2.06-2.06.94zm-11 1L8.5 8.5l.94-2.06 2.06-.94-2.06-.94L8.5 2.5l-.94 2.06-2.06.94zm10 10l.94 2.06.94-2.06 2.06-.94-2.06-.94-.94-2.06-.94 2.06-2.06.94z\"/><path d=\"M17.41 7.96l-1.37-1.37c-.4-.4-.92-.59-1.43-.59-.52 0-1.04.2-1.43.59L10.3 9.45l-7.72 7.72c-.78.78-.78 2.05 0 2.83L4 21.41c.39.39.9.59 1.41.59.51 0 1.02-.2 1.41-.59l7.78-7.78 2.81-2.81c.8-.78.8-2.07 0-2.86zM5.41 20L4 18.59l7.72-7.72 1.47 1.35L5.41 20z\"/>\n",
              "  </svg>\n",
              "      </button>\n",
              "      \n",
              "  <style>\n",
              "    .colab-df-container {\n",
              "      display:flex;\n",
              "      flex-wrap:wrap;\n",
              "      gap: 12px;\n",
              "    }\n",
              "\n",
              "    .colab-df-convert {\n",
              "      background-color: #E8F0FE;\n",
              "      border: none;\n",
              "      border-radius: 50%;\n",
              "      cursor: pointer;\n",
              "      display: none;\n",
              "      fill: #1967D2;\n",
              "      height: 32px;\n",
              "      padding: 0 0 0 0;\n",
              "      width: 32px;\n",
              "    }\n",
              "\n",
              "    .colab-df-convert:hover {\n",
              "      background-color: #E2EBFA;\n",
              "      box-shadow: 0px 1px 2px rgba(60, 64, 67, 0.3), 0px 1px 3px 1px rgba(60, 64, 67, 0.15);\n",
              "      fill: #174EA6;\n",
              "    }\n",
              "\n",
              "    [theme=dark] .colab-df-convert {\n",
              "      background-color: #3B4455;\n",
              "      fill: #D2E3FC;\n",
              "    }\n",
              "\n",
              "    [theme=dark] .colab-df-convert:hover {\n",
              "      background-color: #434B5C;\n",
              "      box-shadow: 0px 1px 3px 1px rgba(0, 0, 0, 0.15);\n",
              "      filter: drop-shadow(0px 1px 2px rgba(0, 0, 0, 0.3));\n",
              "      fill: #FFFFFF;\n",
              "    }\n",
              "  </style>\n",
              "\n",
              "      <script>\n",
              "        const buttonEl =\n",
              "          document.querySelector('#df-fcb3fd0e-fbae-4031-9d67-655169b0d2b2 button.colab-df-convert');\n",
              "        buttonEl.style.display =\n",
              "          google.colab.kernel.accessAllowed ? 'block' : 'none';\n",
              "\n",
              "        async function convertToInteractive(key) {\n",
              "          const element = document.querySelector('#df-fcb3fd0e-fbae-4031-9d67-655169b0d2b2');\n",
              "          const dataTable =\n",
              "            await google.colab.kernel.invokeFunction('convertToInteractive',\n",
              "                                                     [key], {});\n",
              "          if (!dataTable) return;\n",
              "\n",
              "          const docLinkHtml = 'Like what you see? Visit the ' +\n",
              "            '<a target=\"_blank\" href=https://colab.research.google.com/notebooks/data_table.ipynb>data table notebook</a>'\n",
              "            + ' to learn more about interactive tables.';\n",
              "          element.innerHTML = '';\n",
              "          dataTable['output_type'] = 'display_data';\n",
              "          await google.colab.output.renderOutput(dataTable, element);\n",
              "          const docLink = document.createElement('div');\n",
              "          docLink.innerHTML = docLinkHtml;\n",
              "          element.appendChild(docLink);\n",
              "        }\n",
              "      </script>\n",
              "    </div>\n",
              "  </div>\n",
              "  "
            ]
          },
          "metadata": {},
          "execution_count": 81
        }
      ],
      "source": [
        "#Encoding이 잘 되었는지 확인\n",
        "X_wine.head()"
      ]
    },
    {
      "cell_type": "markdown",
      "metadata": {
        "id": "FG_5_eGJYqzM"
      },
      "source": [
        "### 피쳐값에 대해 MinMaxScaler()를 이용해 스케일링을 하시오.\n",
        "- 스케일링 된 피쳐값은 데이터프레임 형식으로 X_wine_scaled에 저장"
      ]
    },
    {
      "cell_type": "code",
      "execution_count": null,
      "metadata": {
        "id": "qvsMnFK6Oabf"
      },
      "outputs": [],
      "source": [
        "from sklearn.preprocessing import MinMaxScaler\n",
        "scaler = MinMaxScaler()\n",
        "scaler.fit(X_wine)\n",
        "X_wine_scaled = scaler.transform(X_wine)"
      ]
    },
    {
      "cell_type": "code",
      "execution_count": null,
      "metadata": {
        "colab": {
          "base_uri": "https://localhost:8080/"
        },
        "id": "OkQdEU1OOabf",
        "outputId": "a4e7870c-bdac-4da8-e07c-028576c5f084"
      },
      "outputs": [
        {
          "output_type": "execute_result",
          "data": {
            "text/plain": [
              "array([[0.14876033, 0.41      , 0.03614458, ..., 0.12359551, 0.31884058,\n",
              "        1.        ],\n",
              "       [0.41322314, 0.35333333, 0.08433735, ..., 0.20786517, 0.2173913 ,\n",
              "        0.        ],\n",
              "       [0.33884298, 0.08666667, 0.23493976, ..., 0.16853933, 0.42028986,\n",
              "        1.        ],\n",
              "       ...,\n",
              "       [0.33057851, 0.04666667, 0.20481928, ..., 0.28089888, 0.47826087,\n",
              "        1.        ],\n",
              "       [0.23140496, 0.22      , 0.18674699, ..., 0.10674157, 0.36231884,\n",
              "        1.        ],\n",
              "       [0.26446281, 0.18      , 0.10240964, ..., 0.07865169, 0.24637681,\n",
              "        1.        ]])"
            ]
          },
          "metadata": {},
          "execution_count": 83
        }
      ],
      "source": [
        "#Scaling 잘 되었는지 확인\n",
        "X_wine_scaled "
      ]
    },
    {
      "cell_type": "markdown",
      "metadata": {
        "id": "FKvIl1gbYqzN"
      },
      "source": [
        "### train_test_split()을 이용해 train set와 test set를 분리하시오.\n",
        "- testset 의 size : 전체 데이터 셋의 20%\n",
        "- 각 set의 이름 : X_train, X_test, y_train, y_test\n",
        "- random_state = 123"
      ]
    },
    {
      "cell_type": "code",
      "execution_count": null,
      "metadata": {
        "id": "XiZrS90dOabf"
      },
      "outputs": [],
      "source": [
        "from sklearn.model_selection import train_test_split\n",
        "X_train, X_test, y_train, y_test = train_test_split(X_wine, y_wine, test_size=0.2, random_state=123)"
      ]
    },
    {
      "cell_type": "code",
      "execution_count": null,
      "metadata": {
        "colab": {
          "base_uri": "https://localhost:8080/"
        },
        "id": "caOvhBJ-Oabf",
        "outputId": "a11cced2-6389-45a9-d212-2b921afef679"
      },
      "outputs": [
        {
          "output_type": "stream",
          "name": "stdout",
          "text": [
            "(4397, 12)\n",
            "(1100, 12)\n"
          ]
        }
      ],
      "source": [
        "#잘 분리되었는지 확인\n",
        "print(X_train.shape)\n",
        "print(X_test.shape)"
      ]
    },
    {
      "cell_type": "markdown",
      "metadata": {
        "id": "ZP9-jeVFiv01"
      },
      "source": [
        "### GradientBoostingClassifier을 사용해 train data를 fit 한 후, test data로 예측을 수행하고 정확도를 구하시오"
      ]
    },
    {
      "cell_type": "code",
      "execution_count": null,
      "metadata": {
        "colab": {
          "base_uri": "https://localhost:8080/"
        },
        "id": "JRcVwtdxOabg",
        "outputId": "0d9b2869-7759-4f1f-cc7a-79e822c3afb5"
      },
      "outputs": [
        {
          "output_type": "execute_result",
          "data": {
            "text/plain": [
              "0.5545454545454546"
            ]
          },
          "metadata": {},
          "execution_count": 86
        }
      ],
      "source": [
        "from sklearn.ensemble import GradientBoostingClassifier\n",
        "from sklearn.metrics import accuracy_score\n",
        "gb_clf = GradientBoostingClassifier()\n",
        "gb_clf.fit(X_train, y_train)\n",
        "pred = gb_clf.predict(X_test)\n",
        "\n",
        "accuracy_score(y_test, pred)"
      ]
    },
    {
      "cell_type": "markdown",
      "metadata": {
        "id": "ncw9i-QAq5CO"
      },
      "source": [
        "### GridSearchCV를 사용해 최적 하이퍼 파라미터 조합을 찾으시오\n",
        "params={\n",
        "    'learning_rate':[0.05,0.1],\n",
        "    'n_estimators':[100,500]\n",
        "}"
      ]
    },
    {
      "cell_type": "code",
      "execution_count": null,
      "metadata": {
        "id": "oe87kAzMOabg",
        "colab": {
          "base_uri": "https://localhost:8080/"
        },
        "outputId": "f7e47c79-b577-4e07-cb21-e78aa3c14af7"
      },
      "outputs": [
        {
          "output_type": "stream",
          "name": "stderr",
          "text": [
            "/usr/local/lib/python3.7/dist-packages/sklearn/model_selection/_split.py:680: UserWarning: The least populated class in y has only 4 members, which is less than n_splits=5.\n",
            "  UserWarning,\n"
          ]
        },
        {
          "output_type": "execute_result",
          "data": {
            "text/plain": [
              "GridSearchCV(estimator=GradientBoostingClassifier(),\n",
              "             param_grid={'learning_rate': [0.05, 0.1],\n",
              "                         'n_estimators': [100, 500]})"
            ]
          },
          "metadata": {},
          "execution_count": 87
        }
      ],
      "source": [
        "from sklearn.model_selection import GridSearchCV\n",
        "\n",
        "params={ 'learning_rate':[0.05,0.1], 'n_estimators':[100,500] }\n",
        "grid_search = GridSearchCV(gb_clf, param_grid = params) \n",
        "grid_search.fit(X_train, y_train)"
      ]
    },
    {
      "cell_type": "code",
      "execution_count": null,
      "metadata": {
        "id": "_cIT4EMPOabg",
        "colab": {
          "base_uri": "https://localhost:8080/"
        },
        "outputId": "42828a24-66d6-461a-b5ce-9f71865b0f0e"
      },
      "outputs": [
        {
          "output_type": "execute_result",
          "data": {
            "text/plain": [
              "{'learning_rate': 0.1, 'n_estimators': 500}"
            ]
          },
          "metadata": {},
          "execution_count": 88
        }
      ],
      "source": [
        "grid_search.best_params_"
      ]
    },
    {
      "cell_type": "markdown",
      "metadata": {
        "id": "Ikzbq-5vrTWb"
      },
      "source": [
        "최적으로 학습된 estimator로 예측을 수행하시오"
      ]
    },
    {
      "cell_type": "code",
      "source": [
        "gc_pred = grid_search.best_estimator_.predict(X_test)\n",
        "accuracy_score(y_test, gc_pred)"
      ],
      "metadata": {
        "colab": {
          "base_uri": "https://localhost:8080/"
        },
        "id": "uxxCOO_zlOfv",
        "outputId": "25317e8c-4812-48a0-c05d-fc3c331d943e"
      },
      "execution_count": null,
      "outputs": [
        {
          "output_type": "execute_result",
          "data": {
            "text/plain": [
              "0.600909090909091"
            ]
          },
          "metadata": {},
          "execution_count": 89
        }
      ]
    },
    {
      "cell_type": "markdown",
      "metadata": {
        "id": "Y3ODggY3WeRz"
      },
      "source": [
        "## XGBoost 및 LightGBM 실습"
      ]
    },
    {
      "cell_type": "markdown",
      "metadata": {
        "id": "sA2WcrL-WeRz"
      },
      "source": [
        "### 사이킷런 래퍼 클래스 XGBoost를 사용해 train 세트를 fit 한 후 test 세트로 예측의 정확도 및 F1 스코어를 출력하시오.\n",
        "- n_estimators=400\n",
        "- learning_rate = 0.1\n",
        "- max_depth = 3"
      ]
    },
    {
      "cell_type": "code",
      "source": [
        "from xgboost import XGBClassifier\n",
        "from sklearn.metrics import f1_score \n",
        "xgb = XGBClassifier(n_estimators=400, learning_rate = 0.1, max_depth = 3)\n",
        "xgb.fit(X_train, y_train)\n",
        "xgb_pred = xgb.predict(X_test)\n",
        "print(accuracy_score(y_test, xgb_pred))"
      ],
      "metadata": {
        "colab": {
          "base_uri": "https://localhost:8080/"
        },
        "id": "uJwBgKhJlr7F",
        "outputId": "13ed1494-f458-454c-b8a3-6e46a92696d0"
      },
      "execution_count": null,
      "outputs": [
        {
          "output_type": "stream",
          "name": "stdout",
          "text": [
            "0.5854545454545454\n"
          ]
        }
      ]
    },
    {
      "cell_type": "code",
      "source": [
        "print(f1_score(y_test, xgb_pred, average = 'micro'))"
      ],
      "metadata": {
        "colab": {
          "base_uri": "https://localhost:8080/"
        },
        "id": "JAHZNrjcnnu2",
        "outputId": "b160ebc0-ac35-4663-c1e4-2baa4a08ef12"
      },
      "execution_count": null,
      "outputs": [
        {
          "output_type": "stream",
          "name": "stdout",
          "text": [
            "0.5854545454545454\n"
          ]
        }
      ]
    },
    {
      "cell_type": "code",
      "execution_count": null,
      "metadata": {
        "id": "gSMiYy6LOabh"
      },
      "outputs": [],
      "source": [
        "#accuracy_score(), f1_score 임포트\n",
        "#f1_score는 기본적으로 이진분류에 사용되므로, 다중분류에서 사용하고 싶으면 average='무엇무엇' 설정해주면 됨\n",
        "#https://scikit-learn.org/stable/modules/generated/sklearn.metrics.f1_score.html 공식 문서 참고"
      ]
    },
    {
      "cell_type": "markdown",
      "metadata": {
        "id": "gQbU03QHWeR0"
      },
      "source": [
        "### 사이킷런 래퍼 클래스 LightGBM와 GridSearchCV를 사용해 최적의 하이퍼 파라미터 조합과 그 하이퍼 파라미터의 예측 정확도를 구하시오.\n",
        "- 'n_estimators' : [100,200,300,400,500]\n",
        "- 'learning_rate' : [0.01,0.05, 0.1, 0.15, 0.2]\n",
        "- 'max_depth' : [3,4,5,6,7]\n",
        "\n",
        "(제 컴퓨터에선 2분정도 걸려욤)"
      ]
    },
    {
      "cell_type": "code",
      "execution_count": null,
      "metadata": {
        "id": "R_f2bkYtOabh"
      },
      "outputs": [],
      "source": [
        "from lightgbm import LGBMClassifier\n",
        "lgbm = LGBMClassifier()\n",
        "lgbm.fit(X_train, y_train)\n",
        "lgbm_pred = lgbm.predict(X_test)"
      ]
    },
    {
      "cell_type": "code",
      "source": [
        "params_2={ 'n_estimators' : [100,200,300,400,500], 'learning_rate' : [0.01,0.05, 0.1, 0.15, 0.2], 'max_depth' : [3,4,5,6,7] }\n",
        "grid_search_2 = GridSearchCV(lgbm, param_grid = params_2) \n",
        "grid_search_2.fit(X_train, y_train)"
      ],
      "metadata": {
        "colab": {
          "base_uri": "https://localhost:8080/"
        },
        "id": "byosj4_vm4jw",
        "outputId": "dbf641a6-2747-4e9d-e3a5-3ed70da9fdcf"
      },
      "execution_count": null,
      "outputs": [
        {
          "output_type": "stream",
          "name": "stderr",
          "text": [
            "/usr/local/lib/python3.7/dist-packages/sklearn/model_selection/_split.py:680: UserWarning: The least populated class in y has only 4 members, which is less than n_splits=5.\n",
            "  UserWarning,\n"
          ]
        },
        {
          "output_type": "execute_result",
          "data": {
            "text/plain": [
              "GridSearchCV(estimator=LGBMClassifier(),\n",
              "             param_grid={'learning_rate': [0.01, 0.05, 0.1, 0.15, 0.2],\n",
              "                         'max_depth': [3, 4, 5, 6, 7],\n",
              "                         'n_estimators': [100, 200, 300, 400, 500]})"
            ]
          },
          "metadata": {},
          "execution_count": 93
        }
      ]
    },
    {
      "cell_type": "code",
      "source": [
        "grid_search.best_params_"
      ],
      "metadata": {
        "colab": {
          "base_uri": "https://localhost:8080/"
        },
        "id": "DDHSIWPWoI6U",
        "outputId": "94a04125-6b70-47ef-956a-b501464b2c54"
      },
      "execution_count": null,
      "outputs": [
        {
          "output_type": "execute_result",
          "data": {
            "text/plain": [
              "{'learning_rate': 0.1, 'n_estimators': 500}"
            ]
          },
          "metadata": {},
          "execution_count": 94
        }
      ]
    },
    {
      "cell_type": "code",
      "source": [
        "gc_pred_2 = grid_search.best_estimator_.predict(X_test)\n",
        "accuracy_score(y_test, gc_pred_2)"
      ],
      "metadata": {
        "colab": {
          "base_uri": "https://localhost:8080/"
        },
        "id": "6IGjtt3noLOR",
        "outputId": "f36f4b54-9bab-42e0-c217-fb73f2987774"
      },
      "execution_count": null,
      "outputs": [
        {
          "output_type": "execute_result",
          "data": {
            "text/plain": [
              "0.600909090909091"
            ]
          },
          "metadata": {},
          "execution_count": 95
        }
      ]
    },
    {
      "cell_type": "markdown",
      "metadata": {
        "id": "BT2PX4PfWeR1"
      },
      "source": [
        "### plot_importance()를 통해 피쳐 중요도를 시각화하고, 어떤 피쳐가 가장 중요한지 기술하시오."
      ]
    },
    {
      "cell_type": "code",
      "execution_count": null,
      "metadata": {
        "id": "QIShSKGCOabh",
        "colab": {
          "base_uri": "https://localhost:8080/",
          "height": 748
        },
        "outputId": "2ae0071a-0913-412a-9b4e-419f2857edba"
      },
      "outputs": [
        {
          "output_type": "execute_result",
          "data": {
            "text/plain": [
              "<matplotlib.axes._subplots.AxesSubplot at 0x7fde9b1eaf50>"
            ]
          },
          "metadata": {},
          "execution_count": 96
        },
        {
          "output_type": "display_data",
          "data": {
            "text/plain": [
              "<Figure size 720x864 with 1 Axes>"
            ],
            "image/png": "[encoded data removed]"
          },
          "metadata": {
            "needs_background": "light"
          }
        }
      ],
      "source": [
        "from lightgbm import plot_importance\n",
        "import matplotlib.pyplot as plt\n",
        "%matplotlib inline\n",
        "\n",
        "fig, ax = plt.subplots(figsize=(10, 12))\n",
        "plot_importance(lgbm, ax=ax)"
      ]
    },
    {
      "cell_type": "markdown",
      "source": [
        "chlorides"
      ],
      "metadata": {
        "id": "iCj-7ZAGs4Sc"
      }
    },
    {
      "cell_type": "markdown",
      "metadata": {
        "id": "CtJ8XEnaWj6f"
      },
      "source": [
        "## 스태킹 실습"
      ]
    },
    {
      "cell_type": "markdown",
      "metadata": {
        "id": "j9LpDNKwWj6f"
      },
      "source": [
        "### CV 세트 기반의 스태킹을 진행하려 한다. 개별 기반 모델들이 교차 검증을 통해 최종 메타 모델이 사용할 학습용, 테스트용 데이터를 생성하기 위한 함수를 작성하시오.\n",
        "```\n",
        "def get_stacking_base_datasets(model, X_train_n, y_train_n, X_test_n, n_folds ):\n",
        "    return train_fold_pred , test_pred_mean\n",
        "```"
      ]
    },
    {
      "cell_type": "code",
      "execution_count": null,
      "metadata": {
        "id": "sqQBH2MoOabi"
      },
      "outputs": [],
      "source": [
        "from sklearn.model_selection import KFold\n",
        "from sklearn.metrics import mean_absolute_error\n",
        "\n",
        "# 개별 기반 모델에서 최종 메타 모델이 사용할 학습 및 테스트용 데이터를 생성하기 위한 함수. \n",
        "def get_stacking_base_datasets(model, X_train_n, y_train_n, X_test_n, n_folds ):\n",
        "    # 지정된 n_folds값으로 KFold 생성.\n",
        "    kf = KFold(n_splits=n_folds, shuffle=True, random_state=0)\n",
        "    #추후에 메타 모델이 사용할 학습 데이터 반환을 위한 넘파이 배열 초기화 \n",
        "    train_fold_pred = np.zeros((X_train_n.shape[0] ,1 ))\n",
        "    test_pred = np.zeros((X_test_n.shape[0],n_folds))\n",
        "    print(model.__class__.__name__ , ' model 시작 ')\n",
        "    \n",
        "    for folder_counter , (train_index, valid_index) in enumerate(kf.split(X_train_n)):\n",
        "        #입력된 학습 데이터에서 기반 모델이 학습/예측할 폴드 데이터 셋 추출 \n",
        "        print('\\t 폴드 세트: ',folder_counter,' 시작 ')\n",
        "        X_tr = X_train_n.iloc[0] \n",
        "        y_tr = y_train_n.iloc[0] \n",
        "        X_te = X_train_n.iloc[0]  \n",
        "        \n",
        "        #폴드 세트 내부에서 다시 만들어진 학습 데이터로 기반 모델의 학습 수행.\n",
        "        model.fit(X_tr , y_tr)       \n",
        "        #폴드 세트 내부에서 다시 만들어진 검증 데이터로 기반 모델 예측 후 데이터 저장.\n",
        "        train_fold_pred[valid_index, :] = model.predict(X_te).reshape(-1,1)\n",
        "        #입력된 원본 테스트 데이터를 폴드 세트내 학습된 기반 모델에서 예측 후 데이터 저장. \n",
        "        test_pred[:, folder_counter] = model.predict(X_test_n)\n",
        "            \n",
        "    # 폴드 세트 내에서 원본 테스트 데이터를 예측한 데이터를 평균하여 테스트 데이터로 생성 \n",
        "    test_pred_mean = np.mean(test_pred, axis=1).reshape(-1,1)    \n",
        "    \n",
        "    #train_fold_pred는 최종 메타 모델이 사용하는 학습 데이터, test_pred_mean은 테스트 데이터\n",
        "    return train_fold_pred , test_pred_mean"
      ]
    },
    {
      "cell_type": "markdown",
      "metadata": {
        "id": "iqw-WOXKWj6g"
      },
      "source": [
        "### 스태킹에 사용될 머신러닝 알고리즘 클래스를 생성하시오.\n",
        "- 개별 모델: KNN(n_neighbors=4), 랜덤 포레스트(n_estimators=100, random_state=0), 결정 트리, 에이다부스트(n_estimators=100), LightGBM(n_estimators=400)\n",
        "- 최종 모델: 로지스틱 회귀(C=10)"
      ]
    },
    {
      "cell_type": "code",
      "source": [
        "from sklearn.neighbors import KNeighborsClassifier\n",
        "from sklearn.ensemble import RandomForestClassifier\n",
        "from sklearn.ensemble import AdaBoostClassifier\n",
        "from sklearn.tree import DecisionTreeClassifier\n",
        "from sklearn.linear_model import LogisticRegression\n",
        "\n",
        "knn  = KNeighborsClassifier(n_neighbors=4 )\n",
        "rf = RandomForestClassifier(n_estimators=100,random_state=0)\n",
        "dt = DecisionTreeClassifier()\n",
        "ada = AdaBoostClassifier(n_estimators=100)\n",
        "lgbmc = LGBMClassifier(n_estimators=400)\n",
        "\n",
        "lr_final = LogisticRegression(C=10)"
      ],
      "metadata": {
        "id": "w4XxGOvOpS5N"
      },
      "execution_count": null,
      "outputs": []
    },
    {
      "cell_type": "markdown",
      "metadata": {
        "id": "k59c10E5Wj6g"
      },
      "source": [
        "### 개별 모델별로 get_stacking_base_datasets 함수를 수행하여 최종 메타 모델이 사용할 학습용, 테스트용 데이터를 생성하시오.\n",
        "- 폴드 개수는 7개"
      ]
    },
    {
      "cell_type": "code",
      "execution_count": null,
      "metadata": {
        "id": "z4LTukKPOabi",
        "colab": {
          "base_uri": "https://localhost:8080/",
          "height": 547
        },
        "outputId": "95a5aeda-796c-4878-9a77-dd6101263f56"
      },
      "outputs": [
        {
          "output_type": "stream",
          "name": "stdout",
          "text": [
            "KNeighborsClassifier  model 시작 \n",
            "\t 폴드 세트:  0  시작 \n"
          ]
        },
        {
          "output_type": "error",
          "ename": "ValueError",
          "evalue": "ignored",
          "traceback": [
            "\u001b[0;31m---------------------------------------------------------------------------\u001b[0m",
            "\u001b[0;31mValueError\u001b[0m                                Traceback (most recent call last)",
            "\u001b[0;32m<ipython-input-120-44d2c644eee0>\u001b[0m in \u001b[0;36m<module>\u001b[0;34m()\u001b[0m\n\u001b[0;32m----> 1\u001b[0;31m \u001b[0mknn_train\u001b[0m\u001b[0;34m,\u001b[0m \u001b[0mknn_test\u001b[0m \u001b[0;34m=\u001b[0m \u001b[0mget_stacking_base_datasets\u001b[0m\u001b[0;34m(\u001b[0m\u001b[0mknn\u001b[0m\u001b[0;34m,\u001b[0m \u001b[0mX_train\u001b[0m\u001b[0;34m,\u001b[0m \u001b[0my_train\u001b[0m\u001b[0;34m,\u001b[0m \u001b[0mX_test\u001b[0m\u001b[0;34m,\u001b[0m \u001b[0;36m7\u001b[0m\u001b[0;34m)\u001b[0m\u001b[0;34m\u001b[0m\u001b[0;34m\u001b[0m\u001b[0m\n\u001b[0m\u001b[1;32m      2\u001b[0m \u001b[0mrf_train\u001b[0m\u001b[0;34m,\u001b[0m \u001b[0mrf_test\u001b[0m \u001b[0;34m=\u001b[0m \u001b[0mget_stacking_base_datasets\u001b[0m\u001b[0;34m(\u001b[0m\u001b[0mrf\u001b[0m\u001b[0;34m,\u001b[0m \u001b[0mX_train\u001b[0m\u001b[0;34m,\u001b[0m \u001b[0my_train\u001b[0m\u001b[0;34m,\u001b[0m \u001b[0mX_test\u001b[0m\u001b[0;34m,\u001b[0m \u001b[0;36m7\u001b[0m\u001b[0;34m)\u001b[0m\u001b[0;34m\u001b[0m\u001b[0;34m\u001b[0m\u001b[0m\n\u001b[1;32m      3\u001b[0m \u001b[0mdt_train\u001b[0m\u001b[0;34m,\u001b[0m \u001b[0mdt_test\u001b[0m \u001b[0;34m=\u001b[0m \u001b[0mget_stacking_base_datasets\u001b[0m\u001b[0;34m(\u001b[0m\u001b[0mdt\u001b[0m\u001b[0;34m,\u001b[0m \u001b[0mX_train\u001b[0m\u001b[0;34m,\u001b[0m \u001b[0my_train\u001b[0m\u001b[0;34m,\u001b[0m \u001b[0mX_test\u001b[0m\u001b[0;34m,\u001b[0m  \u001b[0;36m7\u001b[0m\u001b[0;34m)\u001b[0m\u001b[0;34m\u001b[0m\u001b[0;34m\u001b[0m\u001b[0m\n\u001b[1;32m      4\u001b[0m \u001b[0mada_train\u001b[0m\u001b[0;34m,\u001b[0m \u001b[0mada_test\u001b[0m \u001b[0;34m=\u001b[0m \u001b[0mget_stacking_base_datasets\u001b[0m\u001b[0;34m(\u001b[0m\u001b[0mada\u001b[0m\u001b[0;34m,\u001b[0m \u001b[0mX_train\u001b[0m\u001b[0;34m,\u001b[0m \u001b[0my_train\u001b[0m\u001b[0;34m,\u001b[0m \u001b[0mX_test\u001b[0m\u001b[0;34m,\u001b[0m \u001b[0;36m7\u001b[0m\u001b[0;34m)\u001b[0m\u001b[0;34m\u001b[0m\u001b[0;34m\u001b[0m\u001b[0m\n\u001b[1;32m      5\u001b[0m \u001b[0mlgbmc_train\u001b[0m\u001b[0;34m,\u001b[0m \u001b[0mlgbmc_test\u001b[0m \u001b[0;34m=\u001b[0m \u001b[0mget_stacking_base_datasets\u001b[0m\u001b[0;34m(\u001b[0m\u001b[0mlgbmc\u001b[0m\u001b[0;34m,\u001b[0m \u001b[0mX_train\u001b[0m\u001b[0;34m,\u001b[0m \u001b[0my_train\u001b[0m\u001b[0;34m,\u001b[0m \u001b[0mX_test\u001b[0m\u001b[0;34m,\u001b[0m \u001b[0;36m7\u001b[0m\u001b[0;34m)\u001b[0m\u001b[0;34m\u001b[0m\u001b[0;34m\u001b[0m\u001b[0m\n",
            "\u001b[0;32m<ipython-input-118-0125e2a633a3>\u001b[0m in \u001b[0;36mget_stacking_base_datasets\u001b[0;34m(model, X_train_n, y_train_n, X_test_n, n_folds)\u001b[0m\n\u001b[1;32m     19\u001b[0m \u001b[0;34m\u001b[0m\u001b[0m\n\u001b[1;32m     20\u001b[0m         \u001b[0;31m#폴드 세트 내부에서 다시 만들어진 학습 데이터로 기반 모델의 학습 수행.\u001b[0m\u001b[0;34m\u001b[0m\u001b[0;34m\u001b[0m\u001b[0;34m\u001b[0m\u001b[0m\n\u001b[0;32m---> 21\u001b[0;31m         \u001b[0mmodel\u001b[0m\u001b[0;34m.\u001b[0m\u001b[0mfit\u001b[0m\u001b[0;34m(\u001b[0m\u001b[0mX_tr\u001b[0m \u001b[0;34m,\u001b[0m \u001b[0my_tr\u001b[0m\u001b[0;34m)\u001b[0m\u001b[0;34m\u001b[0m\u001b[0;34m\u001b[0m\u001b[0m\n\u001b[0m\u001b[1;32m     22\u001b[0m         \u001b[0;31m#폴드 세트 내부에서 다시 만들어진 검증 데이터로 기반 모델 예측 후 데이터 저장.\u001b[0m\u001b[0;34m\u001b[0m\u001b[0;34m\u001b[0m\u001b[0;34m\u001b[0m\u001b[0m\n\u001b[1;32m     23\u001b[0m         \u001b[0mtrain_fold_pred\u001b[0m\u001b[0;34m[\u001b[0m\u001b[0mvalid_index\u001b[0m\u001b[0;34m,\u001b[0m \u001b[0;34m:\u001b[0m\u001b[0;34m]\u001b[0m \u001b[0;34m=\u001b[0m \u001b[0mmodel\u001b[0m\u001b[0;34m.\u001b[0m\u001b[0mpredict\u001b[0m\u001b[0;34m(\u001b[0m\u001b[0mX_te\u001b[0m\u001b[0;34m)\u001b[0m\u001b[0;34m.\u001b[0m\u001b[0mreshape\u001b[0m\u001b[0;34m(\u001b[0m\u001b[0;34m-\u001b[0m\u001b[0;36m1\u001b[0m\u001b[0;34m,\u001b[0m\u001b[0;36m1\u001b[0m\u001b[0;34m)\u001b[0m\u001b[0;34m\u001b[0m\u001b[0;34m\u001b[0m\u001b[0m\n",
            "\u001b[0;32m/usr/local/lib/python3.7/dist-packages/sklearn/neighbors/_classification.py\u001b[0m in \u001b[0;36mfit\u001b[0;34m(self, X, y)\u001b[0m\n\u001b[1;32m    196\u001b[0m         \u001b[0mself\u001b[0m\u001b[0;34m.\u001b[0m\u001b[0mweights\u001b[0m \u001b[0;34m=\u001b[0m \u001b[0m_check_weights\u001b[0m\u001b[0;34m(\u001b[0m\u001b[0mself\u001b[0m\u001b[0;34m.\u001b[0m\u001b[0mweights\u001b[0m\u001b[0;34m)\u001b[0m\u001b[0;34m\u001b[0m\u001b[0;34m\u001b[0m\u001b[0m\n\u001b[1;32m    197\u001b[0m \u001b[0;34m\u001b[0m\u001b[0m\n\u001b[0;32m--> 198\u001b[0;31m         \u001b[0;32mreturn\u001b[0m \u001b[0mself\u001b[0m\u001b[0;34m.\u001b[0m\u001b[0m_fit\u001b[0m\u001b[0;34m(\u001b[0m\u001b[0mX\u001b[0m\u001b[0;34m,\u001b[0m \u001b[0my\u001b[0m\u001b[0;34m)\u001b[0m\u001b[0;34m\u001b[0m\u001b[0;34m\u001b[0m\u001b[0m\n\u001b[0m\u001b[1;32m    199\u001b[0m \u001b[0;34m\u001b[0m\u001b[0m\n\u001b[1;32m    200\u001b[0m     \u001b[0;32mdef\u001b[0m \u001b[0mpredict\u001b[0m\u001b[0;34m(\u001b[0m\u001b[0mself\u001b[0m\u001b[0;34m,\u001b[0m \u001b[0mX\u001b[0m\u001b[0;34m)\u001b[0m\u001b[0;34m:\u001b[0m\u001b[0;34m\u001b[0m\u001b[0;34m\u001b[0m\u001b[0m\n",
            "\u001b[0;32m/usr/local/lib/python3.7/dist-packages/sklearn/neighbors/_base.py\u001b[0m in \u001b[0;36m_fit\u001b[0;34m(self, X, y)\u001b[0m\n\u001b[1;32m    398\u001b[0m         \u001b[0;32mif\u001b[0m \u001b[0mself\u001b[0m\u001b[0;34m.\u001b[0m\u001b[0m_get_tags\u001b[0m\u001b[0;34m(\u001b[0m\u001b[0;34m)\u001b[0m\u001b[0;34m[\u001b[0m\u001b[0;34m\"requires_y\"\u001b[0m\u001b[0;34m]\u001b[0m\u001b[0;34m:\u001b[0m\u001b[0;34m\u001b[0m\u001b[0;34m\u001b[0m\u001b[0m\n\u001b[1;32m    399\u001b[0m             \u001b[0;32mif\u001b[0m \u001b[0;32mnot\u001b[0m \u001b[0misinstance\u001b[0m\u001b[0;34m(\u001b[0m\u001b[0mX\u001b[0m\u001b[0;34m,\u001b[0m \u001b[0;34m(\u001b[0m\u001b[0mKDTree\u001b[0m\u001b[0;34m,\u001b[0m \u001b[0mBallTree\u001b[0m\u001b[0;34m,\u001b[0m \u001b[0mNeighborsBase\u001b[0m\u001b[0;34m)\u001b[0m\u001b[0;34m)\u001b[0m\u001b[0;34m:\u001b[0m\u001b[0;34m\u001b[0m\u001b[0;34m\u001b[0m\u001b[0m\n\u001b[0;32m--> 400\u001b[0;31m                 \u001b[0mX\u001b[0m\u001b[0;34m,\u001b[0m \u001b[0my\u001b[0m \u001b[0;34m=\u001b[0m \u001b[0mself\u001b[0m\u001b[0;34m.\u001b[0m\u001b[0m_validate_data\u001b[0m\u001b[0;34m(\u001b[0m\u001b[0mX\u001b[0m\u001b[0;34m,\u001b[0m \u001b[0my\u001b[0m\u001b[0;34m,\u001b[0m \u001b[0maccept_sparse\u001b[0m\u001b[0;34m=\u001b[0m\u001b[0;34m\"csr\"\u001b[0m\u001b[0;34m,\u001b[0m \u001b[0mmulti_output\u001b[0m\u001b[0;34m=\u001b[0m\u001b[0;32mTrue\u001b[0m\u001b[0;34m)\u001b[0m\u001b[0;34m\u001b[0m\u001b[0;34m\u001b[0m\u001b[0m\n\u001b[0m\u001b[1;32m    401\u001b[0m \u001b[0;34m\u001b[0m\u001b[0m\n\u001b[1;32m    402\u001b[0m             \u001b[0;32mif\u001b[0m \u001b[0mis_classifier\u001b[0m\u001b[0;34m(\u001b[0m\u001b[0mself\u001b[0m\u001b[0;34m)\u001b[0m\u001b[0;34m:\u001b[0m\u001b[0;34m\u001b[0m\u001b[0;34m\u001b[0m\u001b[0m\n",
            "\u001b[0;32m/usr/local/lib/python3.7/dist-packages/sklearn/base.py\u001b[0m in \u001b[0;36m_validate_data\u001b[0;34m(self, X, y, reset, validate_separately, **check_params)\u001b[0m\n\u001b[1;32m    579\u001b[0m                 \u001b[0my\u001b[0m \u001b[0;34m=\u001b[0m \u001b[0mcheck_array\u001b[0m\u001b[0;34m(\u001b[0m\u001b[0my\u001b[0m\u001b[0;34m,\u001b[0m \u001b[0;34m**\u001b[0m\u001b[0mcheck_y_params\u001b[0m\u001b[0;34m)\u001b[0m\u001b[0;34m\u001b[0m\u001b[0;34m\u001b[0m\u001b[0m\n\u001b[1;32m    580\u001b[0m             \u001b[0;32melse\u001b[0m\u001b[0;34m:\u001b[0m\u001b[0;34m\u001b[0m\u001b[0;34m\u001b[0m\u001b[0m\n\u001b[0;32m--> 581\u001b[0;31m                 \u001b[0mX\u001b[0m\u001b[0;34m,\u001b[0m \u001b[0my\u001b[0m \u001b[0;34m=\u001b[0m \u001b[0mcheck_X_y\u001b[0m\u001b[0;34m(\u001b[0m\u001b[0mX\u001b[0m\u001b[0;34m,\u001b[0m \u001b[0my\u001b[0m\u001b[0;34m,\u001b[0m \u001b[0;34m**\u001b[0m\u001b[0mcheck_params\u001b[0m\u001b[0;34m)\u001b[0m\u001b[0;34m\u001b[0m\u001b[0;34m\u001b[0m\u001b[0m\n\u001b[0m\u001b[1;32m    582\u001b[0m             \u001b[0mout\u001b[0m \u001b[0;34m=\u001b[0m \u001b[0mX\u001b[0m\u001b[0;34m,\u001b[0m \u001b[0my\u001b[0m\u001b[0;34m\u001b[0m\u001b[0;34m\u001b[0m\u001b[0m\n\u001b[1;32m    583\u001b[0m \u001b[0;34m\u001b[0m\u001b[0m\n",
            "\u001b[0;32m/usr/local/lib/python3.7/dist-packages/sklearn/utils/validation.py\u001b[0m in \u001b[0;36mcheck_X_y\u001b[0;34m(X, y, accept_sparse, accept_large_sparse, dtype, order, copy, force_all_finite, ensure_2d, allow_nd, multi_output, ensure_min_samples, ensure_min_features, y_numeric, estimator)\u001b[0m\n\u001b[1;32m    974\u001b[0m         \u001b[0mensure_min_samples\u001b[0m\u001b[0;34m=\u001b[0m\u001b[0mensure_min_samples\u001b[0m\u001b[0;34m,\u001b[0m\u001b[0;34m\u001b[0m\u001b[0;34m\u001b[0m\u001b[0m\n\u001b[1;32m    975\u001b[0m         \u001b[0mensure_min_features\u001b[0m\u001b[0;34m=\u001b[0m\u001b[0mensure_min_features\u001b[0m\u001b[0;34m,\u001b[0m\u001b[0;34m\u001b[0m\u001b[0;34m\u001b[0m\u001b[0m\n\u001b[0;32m--> 976\u001b[0;31m         \u001b[0mestimator\u001b[0m\u001b[0;34m=\u001b[0m\u001b[0mestimator\u001b[0m\u001b[0;34m,\u001b[0m\u001b[0;34m\u001b[0m\u001b[0;34m\u001b[0m\u001b[0m\n\u001b[0m\u001b[1;32m    977\u001b[0m     )\n\u001b[1;32m    978\u001b[0m \u001b[0;34m\u001b[0m\u001b[0m\n",
            "\u001b[0;32m/usr/local/lib/python3.7/dist-packages/sklearn/utils/validation.py\u001b[0m in \u001b[0;36mcheck_array\u001b[0;34m(array, accept_sparse, accept_large_sparse, dtype, order, copy, force_all_finite, ensure_2d, allow_nd, ensure_min_samples, ensure_min_features, estimator)\u001b[0m\n\u001b[1;32m    771\u001b[0m                     \u001b[0;34m\"Reshape your data either using array.reshape(-1, 1) if \"\u001b[0m\u001b[0;34m\u001b[0m\u001b[0;34m\u001b[0m\u001b[0m\n\u001b[1;32m    772\u001b[0m                     \u001b[0;34m\"your data has a single feature or array.reshape(1, -1) \"\u001b[0m\u001b[0;34m\u001b[0m\u001b[0;34m\u001b[0m\u001b[0m\n\u001b[0;32m--> 773\u001b[0;31m                     \u001b[0;34m\"if it contains a single sample.\"\u001b[0m\u001b[0;34m.\u001b[0m\u001b[0mformat\u001b[0m\u001b[0;34m(\u001b[0m\u001b[0marray\u001b[0m\u001b[0;34m)\u001b[0m\u001b[0;34m\u001b[0m\u001b[0;34m\u001b[0m\u001b[0m\n\u001b[0m\u001b[1;32m    774\u001b[0m                 )\n\u001b[1;32m    775\u001b[0m \u001b[0;34m\u001b[0m\u001b[0m\n",
            "\u001b[0;31mValueError\u001b[0m: Expected 2D array, got 1D array instead:\narray=[  9.2      0.755    0.18     2.2      0.148   10.     103.       0.9969\n   2.87     1.36    10.2      0.    ].\nReshape your data either using array.reshape(-1, 1) if your data has a single feature or array.reshape(1, -1) if it contains a single sample."
          ]
        }
      ],
      "source": [
        "knn_train, knn_test = get_stacking_base_datasets(knn, X_train, y_train, X_test, 7)\n",
        "rf_train, rf_test = get_stacking_base_datasets(rf, X_train, y_train, X_test, 7)\n",
        "dt_train, dt_test = get_stacking_base_datasets(dt, X_train, y_train, X_test,  7)    \n",
        "ada_train, ada_test = get_stacking_base_datasets(ada, X_train, y_train, X_test, 7)\n",
        "lgbmc_train, lgbmc_test = get_stacking_base_datasets(lgbmc, X_train, y_train, X_test, 7)"
      ]
    },
    {
      "cell_type": "markdown",
      "metadata": {
        "id": "mNhahQcCWj6h"
      },
      "source": [
        "### 생성된 학습용 데이터와 테스트용 데이터를 각각 합치시오.\n",
        "- 학습용 데이터는 Stack_final_X_train\n",
        "- 테스트용 데이터는 Stack_final_X_test"
      ]
    },
    {
      "cell_type": "code",
      "execution_count": null,
      "metadata": {
        "id": "gPDRbbWoOabi",
        "colab": {
          "base_uri": "https://localhost:8080/",
          "height": 174
        },
        "outputId": "ed49a9e4-2e92-4e04-e5f4-3d6062d5b6b2"
      },
      "outputs": [
        {
          "output_type": "error",
          "ename": "NameError",
          "evalue": "ignored",
          "traceback": [
            "\u001b[0;31m---------------------------------------------------------------------------\u001b[0m",
            "\u001b[0;31mNameError\u001b[0m                                 Traceback (most recent call last)",
            "\u001b[0;32m<ipython-input-100-7d939c06bf18>\u001b[0m in \u001b[0;36m<module>\u001b[0;34m()\u001b[0m\n\u001b[0;32m----> 1\u001b[0;31m \u001b[0mStack_final_X_test\u001b[0m \u001b[0;34m=\u001b[0m \u001b[0mnp\u001b[0m\u001b[0;34m.\u001b[0m\u001b[0mconcatenate\u001b[0m\u001b[0;34m(\u001b[0m\u001b[0;34m(\u001b[0m\u001b[0mknn_test\u001b[0m\u001b[0;34m,\u001b[0m \u001b[0mrf_test\u001b[0m\u001b[0;34m,\u001b[0m \u001b[0mdt_test\u001b[0m\u001b[0;34m,\u001b[0m \u001b[0mada_test\u001b[0m\u001b[0;34m,\u001b[0m \u001b[0mlgbm_clf_test\u001b[0m\u001b[0;34m)\u001b[0m\u001b[0;34m,\u001b[0m \u001b[0maxis\u001b[0m\u001b[0;34m=\u001b[0m\u001b[0;36m1\u001b[0m\u001b[0;34m)\u001b[0m\u001b[0;34m\u001b[0m\u001b[0;34m\u001b[0m\u001b[0m\n\u001b[0m",
            "\u001b[0;31mNameError\u001b[0m: name 'knn_test' is not defined"
          ]
        }
      ],
      "source": [
        "Stack_final_X_train = np.concatenate((knn_train, rf_train, dt_train, ada_train, lgbmc_train), axis=1)\n",
        "Stack_final_X_test = np.concatenate((knn_test, rf_test, dt_test, ada_test, lgbmc_test), axis=1)\n",
        "print('원본 학습 피처 데이터 Shape:',X_train.shape, '원본 테스트 피처 Shape:',X_test.shape)\n",
        "print('스태킹 학습 피처 데이터 Shape:', Stack_final_X_train.shape,\n",
        "      '스태킹 테스트 피처 데이터 Shape:',Stack_final_X_test.shape)"
      ]
    },
    {
      "cell_type": "markdown",
      "metadata": {
        "id": "PnPGTIxdWj6h"
      },
      "source": [
        "### 최종 메타 모델인 로지스틱 회귀를 사용하여 학습 및 예측을 진행하고 최종 메타 모델의 예측 정확도를 출력하시오."
      ]
    },
    {
      "cell_type": "code",
      "execution_count": null,
      "metadata": {
        "id": "0KsizDwkOabj"
      },
      "outputs": [],
      "source": [
        "lr_final.fit(Stack_final_X_train, y_train)\n",
        "stack_final = lr_final.predict(Stack_final_X_test)\n",
        "\n",
        "print('최종 메타 모델의 예측 정확도: {0:.4f}'.format(accuracy_score(y_test, stack_final)))"
      ]
    },
    {
      "cell_type": "markdown",
      "metadata": {
        "id": "SVA3yGXXnL-q"
      },
      "source": [
        "# 버섯 독성 여부 분류 - CatBoost 실습"
      ]
    },
    {
      "cell_type": "markdown",
      "metadata": {
        "id": "47mLiwS1nL-t"
      },
      "source": [
        "mushrooms.csv 파일을 사용합니다.\n",
        "\n",
        "독성 버섯인지 식용 가능한 버섯인지 분류해내는 것이 목표입니다.\n",
        "\n",
        "- cap-shape: bell=b,conical=c,convex=x,flat=f, knobbed=k,sunken=s\n",
        "- cap-surface: fibrous=f,grooves=g,scaly=y,smooth=s\n",
        "- cap-color: brown=n,buff=b,cinnamon=c,gray=g,green=r,pink=p,purple=u,red=e,white=w,yellow=y\n",
        "- bruises: bruises=t,no=f\n",
        "- odor: almond=a,anise=l,creosote=c,fishy=y,foul=f,musty=m,none=n,pungent=p,spicy=s\n",
        "- gill-attachment: attached=a,descending=d,free=f,notched=n\n",
        "- gill-spacing: close=c,crowded=w,distant=d\n",
        "- gill-size: broad=b,narrow=n\n",
        "- gill-color: black=k,brown=n,buff=b,chocolate=h,gray=g, green=r,orange=o,pink=p,purple=u,red=e,white=w,yellow=y\n",
        "- stalk-shape: enlarging=e,tapering=t\n",
        "- stalk-root: bulbous=b,club=c,cup=u,equal=e,rhizomorphs=z,rooted=r,missing=?\n",
        "- stalk-surface-above-ring: fibrous=f,scaly=y,silky=k,smooth=s\n",
        "- stalk-surface-below-ring: fibrous=f,scaly=y,silky=k,smooth=s\n",
        "- stalk-color-above-ring: brown=n,buff=b,cinnamon=c,gray=g,orange=o,pink=p,red=e,white=w,yellow=y\n",
        "- stalk-color-below-ring: brown=n,buff=b,cinnamon=c,gray=g,orange=o,pink=p,red=e,white=w,yellow=y\n",
        "- veil-type: partial=p,universal=u\n",
        "- veil-color: brown=n,orange=o,white=w,yellow=y\n",
        "- ring-number: none=n,one=o,two=t\n",
        "- ring-type: cobwebby=c,evanescent=e,flaring=f,large=l,none=n,pendant=p,sheathing=s,zone=z\n",
        "- spore-print-color: black=k,brown=n,buff=b,chocolate=h,green=r,orange=o,purple=u,white=w,yellow=y\n",
        "- population: abundant=a,clustered=c,numerous=n,scattered=s,several=v,solitary=y\n",
        "- habitat: grasses=g,leaves=l,meadows=m,paths=p,urban=u,waste=w,woods=d\n",
        "\n",
        "데이터셋 출처: https://www.kaggle.com/datasets/uciml/mushroom-classification"
      ]
    },
    {
      "cell_type": "code",
      "execution_count": null,
      "metadata": {
        "id": "Fa8Bx0kXOabj"
      },
      "outputs": [],
      "source": [
        "#필요한 라이브러리 import\n",
        "import pandas as pd\n",
        "import numpy as np"
      ]
    },
    {
      "cell_type": "code",
      "execution_count": null,
      "metadata": {
        "id": "B1GDZBEgOabj",
        "colab": {
          "resources": {
            "http://localhost:8080/nbextensions/google.colab/files.js": {
              "data": "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",
              "ok": true,
              "headers": [
                [
                  "content-type",
                  "application/javascript"
                ]
              ],
              "status": 200,
              "status_text": ""
            }
          },
          "base_uri": "https://localhost:8080/",
          "height": 77
        },
        "outputId": "90657db2-44df-42a1-af73-e61899efd56e"
      },
      "outputs": [
        {
          "output_type": "display_data",
          "data": {
            "text/plain": [
              "<IPython.core.display.HTML object>"
            ],
            "text/html": [
              "\n",
              "     <input type=\"file\" id=\"files-b4975d2f-516c-47ca-8c27-b8703a1c2faf\" name=\"files[]\" multiple disabled\n",
              "        style=\"border:none\" />\n",
              "     <output id=\"result-b4975d2f-516c-47ca-8c27-b8703a1c2faf\">\n",
              "      Upload widget is only available when the cell has been executed in the\n",
              "      current browser session. Please rerun this cell to enable.\n",
              "      </output>\n",
              "      <script src=\"/nbextensions/google.colab/files.js\"></script> "
            ]
          },
          "metadata": {}
        },
        {
          "output_type": "stream",
          "name": "stdout",
          "text": [
            "Saving mushrooms.csv to mushrooms.csv\n"
          ]
        }
      ],
      "source": [
        "#데이터셋 불러오기\n",
        "from google.colab import files\n",
        "uploaded = files.upload() "
      ]
    },
    {
      "cell_type": "code",
      "source": [
        "mush = pd.read_csv('mushrooms.csv')"
      ],
      "metadata": {
        "id": "WOPTqvxL4KVu"
      },
      "execution_count": null,
      "outputs": []
    },
    {
      "cell_type": "code",
      "source": [
        "mush.head()"
      ],
      "metadata": {
        "colab": {
          "base_uri": "https://localhost:8080/",
          "height": 352
        },
        "id": "UR7-cIG04gpm",
        "outputId": "1c459e02-970c-4267-ad15-d69abc155c56"
      },
      "execution_count": null,
      "outputs": [
        {
          "output_type": "execute_result",
          "data": {
            "text/plain": [
              "  class cap-shape cap-surface cap-color bruises odor gill-attachment  \\\n",
              "0     p         x           s         n       t    p               f   \n",
              "1     e         x           s         y       t    a               f   \n",
              "2     e         b           s         w       t    l               f   \n",
              "3     p         x           y         w       t    p               f   \n",
              "4     e         x           s         g       f    n               f   \n",
              "\n",
              "  gill-spacing gill-size gill-color  ... stalk-surface-below-ring  \\\n",
              "0            c         n          k  ...                        s   \n",
              "1            c         b          k  ...                        s   \n",
              "2            c         b          n  ...                        s   \n",
              "3            c         n          n  ...                        s   \n",
              "4            w         b          k  ...                        s   \n",
              "\n",
              "  stalk-color-above-ring stalk-color-below-ring veil-type veil-color  \\\n",
              "0                      w                      w         p          w   \n",
              "1                      w                      w         p          w   \n",
              "2                      w                      w         p          w   \n",
              "3                      w                      w         p          w   \n",
              "4                      w                      w         p          w   \n",
              "\n",
              "  ring-number ring-type spore-print-color population habitat  \n",
              "0           o         p                 k          s       u  \n",
              "1           o         p                 n          n       g  \n",
              "2           o         p                 n          n       m  \n",
              "3           o         p                 k          s       u  \n",
              "4           o         e                 n          a       g  \n",
              "\n",
              "[5 rows x 23 columns]"
            ],
            "text/html": [
              "\n",
              "  <div id=\"df-dbbe8ac3-a451-4e5a-9595-acdef60db14a\">\n",
              "    <div class=\"colab-df-container\">\n",
              "      <div>\n",
              "<style scoped>\n",
              "    .dataframe tbody tr th:only-of-type {\n",
              "        vertical-align: middle;\n",
              "    }\n",
              "\n",
              "    .dataframe tbody tr th {\n",
              "        vertical-align: top;\n",
              "    }\n",
              "\n",
              "    .dataframe thead th {\n",
              "        text-align: right;\n",
              "    }\n",
              "</style>\n",
              "<table border=\"1\" class=\"dataframe\">\n",
              "  <thead>\n",
              "    <tr style=\"text-align: right;\">\n",
              "      <th></th>\n",
              "      <th>class</th>\n",
              "      <th>cap-shape</th>\n",
              "      <th>cap-surface</th>\n",
              "      <th>cap-color</th>\n",
              "      <th>bruises</th>\n",
              "      <th>odor</th>\n",
              "      <th>gill-attachment</th>\n",
              "      <th>gill-spacing</th>\n",
              "      <th>gill-size</th>\n",
              "      <th>gill-color</th>\n",
              "      <th>...</th>\n",
              "      <th>stalk-surface-below-ring</th>\n",
              "      <th>stalk-color-above-ring</th>\n",
              "      <th>stalk-color-below-ring</th>\n",
              "      <th>veil-type</th>\n",
              "      <th>veil-color</th>\n",
              "      <th>ring-number</th>\n",
              "      <th>ring-type</th>\n",
              "      <th>spore-print-color</th>\n",
              "      <th>population</th>\n",
              "      <th>habitat</th>\n",
              "    </tr>\n",
              "  </thead>\n",
              "  <tbody>\n",
              "    <tr>\n",
              "      <th>0</th>\n",
              "      <td>p</td>\n",
              "      <td>x</td>\n",
              "      <td>s</td>\n",
              "      <td>n</td>\n",
              "      <td>t</td>\n",
              "      <td>p</td>\n",
              "      <td>f</td>\n",
              "      <td>c</td>\n",
              "      <td>n</td>\n",
              "      <td>k</td>\n",
              "      <td>...</td>\n",
              "      <td>s</td>\n",
              "      <td>w</td>\n",
              "      <td>w</td>\n",
              "      <td>p</td>\n",
              "      <td>w</td>\n",
              "      <td>o</td>\n",
              "      <td>p</td>\n",
              "      <td>k</td>\n",
              "      <td>s</td>\n",
              "      <td>u</td>\n",
              "    </tr>\n",
              "    <tr>\n",
              "      <th>1</th>\n",
              "      <td>e</td>\n",
              "      <td>x</td>\n",
              "      <td>s</td>\n",
              "      <td>y</td>\n",
              "      <td>t</td>\n",
              "      <td>a</td>\n",
              "      <td>f</td>\n",
              "      <td>c</td>\n",
              "      <td>b</td>\n",
              "      <td>k</td>\n",
              "      <td>...</td>\n",
              "      <td>s</td>\n",
              "      <td>w</td>\n",
              "      <td>w</td>\n",
              "      <td>p</td>\n",
              "      <td>w</td>\n",
              "      <td>o</td>\n",
              "      <td>p</td>\n",
              "      <td>n</td>\n",
              "      <td>n</td>\n",
              "      <td>g</td>\n",
              "    </tr>\n",
              "    <tr>\n",
              "      <th>2</th>\n",
              "      <td>e</td>\n",
              "      <td>b</td>\n",
              "      <td>s</td>\n",
              "      <td>w</td>\n",
              "      <td>t</td>\n",
              "      <td>l</td>\n",
              "      <td>f</td>\n",
              "      <td>c</td>\n",
              "      <td>b</td>\n",
              "      <td>n</td>\n",
              "      <td>...</td>\n",
              "      <td>s</td>\n",
              "      <td>w</td>\n",
              "      <td>w</td>\n",
              "      <td>p</td>\n",
              "      <td>w</td>\n",
              "      <td>o</td>\n",
              "      <td>p</td>\n",
              "      <td>n</td>\n",
              "      <td>n</td>\n",
              "      <td>m</td>\n",
              "    </tr>\n",
              "    <tr>\n",
              "      <th>3</th>\n",
              "      <td>p</td>\n",
              "      <td>x</td>\n",
              "      <td>y</td>\n",
              "      <td>w</td>\n",
              "      <td>t</td>\n",
              "      <td>p</td>\n",
              "      <td>f</td>\n",
              "      <td>c</td>\n",
              "      <td>n</td>\n",
              "      <td>n</td>\n",
              "      <td>...</td>\n",
              "      <td>s</td>\n",
              "      <td>w</td>\n",
              "      <td>w</td>\n",
              "      <td>p</td>\n",
              "      <td>w</td>\n",
              "      <td>o</td>\n",
              "      <td>p</td>\n",
              "      <td>k</td>\n",
              "      <td>s</td>\n",
              "      <td>u</td>\n",
              "    </tr>\n",
              "    <tr>\n",
              "      <th>4</th>\n",
              "      <td>e</td>\n",
              "      <td>x</td>\n",
              "      <td>s</td>\n",
              "      <td>g</td>\n",
              "      <td>f</td>\n",
              "      <td>n</td>\n",
              "      <td>f</td>\n",
              "      <td>w</td>\n",
              "      <td>b</td>\n",
              "      <td>k</td>\n",
              "      <td>...</td>\n",
              "      <td>s</td>\n",
              "      <td>w</td>\n",
              "      <td>w</td>\n",
              "      <td>p</td>\n",
              "      <td>w</td>\n",
              "      <td>o</td>\n",
              "      <td>e</td>\n",
              "      <td>n</td>\n",
              "      <td>a</td>\n",
              "      <td>g</td>\n",
              "    </tr>\n",
              "  </tbody>\n",
              "</table>\n",
              "<p>5 rows × 23 columns</p>\n",
              "</div>\n",
              "      <button class=\"colab-df-convert\" onclick=\"convertToInteractive('df-dbbe8ac3-a451-4e5a-9595-acdef60db14a')\"\n",
              "              title=\"Convert this dataframe to an interactive table.\"\n",
              "              style=\"display:none;\">\n",
              "        \n",
              "  <svg xmlns=\"http://www.w3.org/2000/svg\" height=\"24px\"viewBox=\"0 0 24 24\"\n",
              "       width=\"24px\">\n",
              "    <path d=\"M0 0h24v24H0V0z\" fill=\"none\"/>\n",
              "    <path d=\"M18.56 5.44l.94 2.06.94-2.06 2.06-.94-2.06-.94-.94-2.06-.94 2.06-2.06.94zm-11 1L8.5 8.5l.94-2.06 2.06-.94-2.06-.94L8.5 2.5l-.94 2.06-2.06.94zm10 10l.94 2.06.94-2.06 2.06-.94-2.06-.94-.94-2.06-.94 2.06-2.06.94z\"/><path d=\"M17.41 7.96l-1.37-1.37c-.4-.4-.92-.59-1.43-.59-.52 0-1.04.2-1.43.59L10.3 9.45l-7.72 7.72c-.78.78-.78 2.05 0 2.83L4 21.41c.39.39.9.59 1.41.59.51 0 1.02-.2 1.41-.59l7.78-7.78 2.81-2.81c.8-.78.8-2.07 0-2.86zM5.41 20L4 18.59l7.72-7.72 1.47 1.35L5.41 20z\"/>\n",
              "  </svg>\n",
              "      </button>\n",
              "      \n",
              "  <style>\n",
              "    .colab-df-container {\n",
              "      display:flex;\n",
              "      flex-wrap:wrap;\n",
              "      gap: 12px;\n",
              "    }\n",
              "\n",
              "    .colab-df-convert {\n",
              "      background-color: #E8F0FE;\n",
              "      border: none;\n",
              "      border-radius: 50%;\n",
              "      cursor: pointer;\n",
              "      display: none;\n",
              "      fill: #1967D2;\n",
              "      height: 32px;\n",
              "      padding: 0 0 0 0;\n",
              "      width: 32px;\n",
              "    }\n",
              "\n",
              "    .colab-df-convert:hover {\n",
              "      background-color: #E2EBFA;\n",
              "      box-shadow: 0px 1px 2px rgba(60, 64, 67, 0.3), 0px 1px 3px 1px rgba(60, 64, 67, 0.15);\n",
              "      fill: #174EA6;\n",
              "    }\n",
              "\n",
              "    [theme=dark] .colab-df-convert {\n",
              "      background-color: #3B4455;\n",
              "      fill: #D2E3FC;\n",
              "    }\n",
              "\n",
              "    [theme=dark] .colab-df-convert:hover {\n",
              "      background-color: #434B5C;\n",
              "      box-shadow: 0px 1px 3px 1px rgba(0, 0, 0, 0.15);\n",
              "      filter: drop-shadow(0px 1px 2px rgba(0, 0, 0, 0.3));\n",
              "      fill: #FFFFFF;\n",
              "    }\n",
              "  </style>\n",
              "\n",
              "      <script>\n",
              "        const buttonEl =\n",
              "          document.querySelector('#df-dbbe8ac3-a451-4e5a-9595-acdef60db14a button.colab-df-convert');\n",
              "        buttonEl.style.display =\n",
              "          google.colab.kernel.accessAllowed ? 'block' : 'none';\n",
              "\n",
              "        async function convertToInteractive(key) {\n",
              "          const element = document.querySelector('#df-dbbe8ac3-a451-4e5a-9595-acdef60db14a');\n",
              "          const dataTable =\n",
              "            await google.colab.kernel.invokeFunction('convertToInteractive',\n",
              "                                                     [key], {});\n",
              "          if (!dataTable) return;\n",
              "\n",
              "          const docLinkHtml = 'Like what you see? Visit the ' +\n",
              "            '<a target=\"_blank\" href=https://colab.research.google.com/notebooks/data_table.ipynb>data table notebook</a>'\n",
              "            + ' to learn more about interactive tables.';\n",
              "          element.innerHTML = '';\n",
              "          dataTable['output_type'] = 'display_data';\n",
              "          await google.colab.output.renderOutput(dataTable, element);\n",
              "          const docLink = document.createElement('div');\n",
              "          docLink.innerHTML = docLinkHtml;\n",
              "          element.appendChild(docLink);\n",
              "        }\n",
              "      </script>\n",
              "    </div>\n",
              "  </div>\n",
              "  "
            ]
          },
          "metadata": {},
          "execution_count": 44
        }
      ]
    },
    {
      "cell_type": "markdown",
      "metadata": {
        "id": "VopHpuxRnL-y"
      },
      "source": [
        "## 데이터 전처리"
      ]
    },
    {
      "cell_type": "markdown",
      "metadata": {
        "id": "GvbNYXIanL-y"
      },
      "source": [
        "### info()를 통해 결측치가 있는지 확인하시오."
      ]
    },
    {
      "cell_type": "code",
      "execution_count": null,
      "metadata": {
        "id": "63RvxU_LOabk",
        "colab": {
          "base_uri": "https://localhost:8080/"
        },
        "outputId": "7bedf534-c5dc-451a-c7a4-8352935a92ae"
      },
      "outputs": [
        {
          "output_type": "stream",
          "name": "stdout",
          "text": [
            "<class 'pandas.core.frame.DataFrame'>\n",
            "RangeIndex: 8124 entries, 0 to 8123\n",
            "Data columns (total 23 columns):\n",
            " #   Column                    Non-Null Count  Dtype \n",
            "---  ------                    --------------  ----- \n",
            " 0   class                     8124 non-null   object\n",
            " 1   cap-shape                 8124 non-null   object\n",
            " 2   cap-surface               8124 non-null   object\n",
            " 3   cap-color                 8124 non-null   object\n",
            " 4   bruises                   8124 non-null   object\n",
            " 5   odor                      8124 non-null   object\n",
            " 6   gill-attachment           8124 non-null   object\n",
            " 7   gill-spacing              8124 non-null   object\n",
            " 8   gill-size                 8124 non-null   object\n",
            " 9   gill-color                8124 non-null   object\n",
            " 10  stalk-shape               8124 non-null   object\n",
            " 11  stalk-root                8124 non-null   object\n",
            " 12  stalk-surface-above-ring  8124 non-null   object\n",
            " 13  stalk-surface-below-ring  8124 non-null   object\n",
            " 14  stalk-color-above-ring    8124 non-null   object\n",
            " 15  stalk-color-below-ring    8124 non-null   object\n",
            " 16  veil-type                 8124 non-null   object\n",
            " 17  veil-color                8124 non-null   object\n",
            " 18  ring-number               8124 non-null   object\n",
            " 19  ring-type                 8124 non-null   object\n",
            " 20  spore-print-color         8124 non-null   object\n",
            " 21  population                8124 non-null   object\n",
            " 22  habitat                   8124 non-null   object\n",
            "dtypes: object(23)\n",
            "memory usage: 1.4+ MB\n"
          ]
        }
      ],
      "source": [
        "mush.info()"
      ]
    },
    {
      "cell_type": "markdown",
      "metadata": {
        "id": "WGMicxOpnL-1"
      },
      "source": [
        "### 데이터에서 피쳐값과 타겟값을 분리하여 각각 X_mushroom, y_mushroom으로 저장하시오\n",
        "- target은 class"
      ]
    },
    {
      "cell_type": "code",
      "execution_count": null,
      "metadata": {
        "id": "ItNwpRYHOabk"
      },
      "outputs": [],
      "source": [
        "X_mush = mush.drop('class', axis=1)\n",
        "y_mush = mush['class']"
      ]
    },
    {
      "cell_type": "code",
      "execution_count": null,
      "metadata": {
        "id": "wmjDKgsdOabk",
        "colab": {
          "base_uri": "https://localhost:8080/",
          "height": 540
        },
        "outputId": "c2ce0f61-90ae-4bc8-d8af-b0eec6976d40"
      },
      "outputs": [
        {
          "output_type": "execute_result",
          "data": {
            "text/plain": [
              "     cap-shape cap-surface cap-color bruises odor gill-attachment  \\\n",
              "0            x           s         n       t    p               f   \n",
              "1            x           s         y       t    a               f   \n",
              "2            b           s         w       t    l               f   \n",
              "3            x           y         w       t    p               f   \n",
              "4            x           s         g       f    n               f   \n",
              "...        ...         ...       ...     ...  ...             ...   \n",
              "8119         k           s         n       f    n               a   \n",
              "8120         x           s         n       f    n               a   \n",
              "8121         f           s         n       f    n               a   \n",
              "8122         k           y         n       f    y               f   \n",
              "8123         x           s         n       f    n               a   \n",
              "\n",
              "     gill-spacing gill-size gill-color stalk-shape  ...  \\\n",
              "0               c         n          k           e  ...   \n",
              "1               c         b          k           e  ...   \n",
              "2               c         b          n           e  ...   \n",
              "3               c         n          n           e  ...   \n",
              "4               w         b          k           t  ...   \n",
              "...           ...       ...        ...         ...  ...   \n",
              "8119            c         b          y           e  ...   \n",
              "8120            c         b          y           e  ...   \n",
              "8121            c         b          n           e  ...   \n",
              "8122            c         n          b           t  ...   \n",
              "8123            c         b          y           e  ...   \n",
              "\n",
              "     stalk-surface-below-ring stalk-color-above-ring stalk-color-below-ring  \\\n",
              "0                           s                      w                      w   \n",
              "1                           s                      w                      w   \n",
              "2                           s                      w                      w   \n",
              "3                           s                      w                      w   \n",
              "4                           s                      w                      w   \n",
              "...                       ...                    ...                    ...   \n",
              "8119                        s                      o                      o   \n",
              "8120                        s                      o                      o   \n",
              "8121                        s                      o                      o   \n",
              "8122                        k                      w                      w   \n",
              "8123                        s                      o                      o   \n",
              "\n",
              "     veil-type veil-color ring-number ring-type spore-print-color population  \\\n",
              "0            p          w           o         p                 k          s   \n",
              "1            p          w           o         p                 n          n   \n",
              "2            p          w           o         p                 n          n   \n",
              "3            p          w           o         p                 k          s   \n",
              "4            p          w           o         e                 n          a   \n",
              "...        ...        ...         ...       ...               ...        ...   \n",
              "8119         p          o           o         p                 b          c   \n",
              "8120         p          n           o         p                 b          v   \n",
              "8121         p          o           o         p                 b          c   \n",
              "8122         p          w           o         e                 w          v   \n",
              "8123         p          o           o         p                 o          c   \n",
              "\n",
              "     habitat  \n",
              "0          u  \n",
              "1          g  \n",
              "2          m  \n",
              "3          u  \n",
              "4          g  \n",
              "...      ...  \n",
              "8119       l  \n",
              "8120       l  \n",
              "8121       l  \n",
              "8122       l  \n",
              "8123       l  \n",
              "\n",
              "[8124 rows x 22 columns]"
            ],
            "text/html": [
              "\n",
              "  <div id=\"df-4510a301-5d70-44d3-a2f0-703acdcbffe1\">\n",
              "    <div class=\"colab-df-container\">\n",
              "      <div>\n",
              "<style scoped>\n",
              "    .dataframe tbody tr th:only-of-type {\n",
              "        vertical-align: middle;\n",
              "    }\n",
              "\n",
              "    .dataframe tbody tr th {\n",
              "        vertical-align: top;\n",
              "    }\n",
              "\n",
              "    .dataframe thead th {\n",
              "        text-align: right;\n",
              "    }\n",
              "</style>\n",
              "<table border=\"1\" class=\"dataframe\">\n",
              "  <thead>\n",
              "    <tr style=\"text-align: right;\">\n",
              "      <th></th>\n",
              "      <th>cap-shape</th>\n",
              "      <th>cap-surface</th>\n",
              "      <th>cap-color</th>\n",
              "      <th>bruises</th>\n",
              "      <th>odor</th>\n",
              "      <th>gill-attachment</th>\n",
              "      <th>gill-spacing</th>\n",
              "      <th>gill-size</th>\n",
              "      <th>gill-color</th>\n",
              "      <th>stalk-shape</th>\n",
              "      <th>...</th>\n",
              "      <th>stalk-surface-below-ring</th>\n",
              "      <th>stalk-color-above-ring</th>\n",
              "      <th>stalk-color-below-ring</th>\n",
              "      <th>veil-type</th>\n",
              "      <th>veil-color</th>\n",
              "      <th>ring-number</th>\n",
              "      <th>ring-type</th>\n",
              "      <th>spore-print-color</th>\n",
              "      <th>population</th>\n",
              "      <th>habitat</th>\n",
              "    </tr>\n",
              "  </thead>\n",
              "  <tbody>\n",
              "    <tr>\n",
              "      <th>0</th>\n",
              "      <td>x</td>\n",
              "      <td>s</td>\n",
              "      <td>n</td>\n",
              "      <td>t</td>\n",
              "      <td>p</td>\n",
              "      <td>f</td>\n",
              "      <td>c</td>\n",
              "      <td>n</td>\n",
              "      <td>k</td>\n",
              "      <td>e</td>\n",
              "      <td>...</td>\n",
              "      <td>s</td>\n",
              "      <td>w</td>\n",
              "      <td>w</td>\n",
              "      <td>p</td>\n",
              "      <td>w</td>\n",
              "      <td>o</td>\n",
              "      <td>p</td>\n",
              "      <td>k</td>\n",
              "      <td>s</td>\n",
              "      <td>u</td>\n",
              "    </tr>\n",
              "    <tr>\n",
              "      <th>1</th>\n",
              "      <td>x</td>\n",
              "      <td>s</td>\n",
              "      <td>y</td>\n",
              "      <td>t</td>\n",
              "      <td>a</td>\n",
              "      <td>f</td>\n",
              "      <td>c</td>\n",
              "      <td>b</td>\n",
              "      <td>k</td>\n",
              "      <td>e</td>\n",
              "      <td>...</td>\n",
              "      <td>s</td>\n",
              "      <td>w</td>\n",
              "      <td>w</td>\n",
              "      <td>p</td>\n",
              "      <td>w</td>\n",
              "      <td>o</td>\n",
              "      <td>p</td>\n",
              "      <td>n</td>\n",
              "      <td>n</td>\n",
              "      <td>g</td>\n",
              "    </tr>\n",
              "    <tr>\n",
              "      <th>2</th>\n",
              "      <td>b</td>\n",
              "      <td>s</td>\n",
              "      <td>w</td>\n",
              "      <td>t</td>\n",
              "      <td>l</td>\n",
              "      <td>f</td>\n",
              "      <td>c</td>\n",
              "      <td>b</td>\n",
              "      <td>n</td>\n",
              "      <td>e</td>\n",
              "      <td>...</td>\n",
              "      <td>s</td>\n",
              "      <td>w</td>\n",
              "      <td>w</td>\n",
              "      <td>p</td>\n",
              "      <td>w</td>\n",
              "      <td>o</td>\n",
              "      <td>p</td>\n",
              "      <td>n</td>\n",
              "      <td>n</td>\n",
              "      <td>m</td>\n",
              "    </tr>\n",
              "    <tr>\n",
              "      <th>3</th>\n",
              "      <td>x</td>\n",
              "      <td>y</td>\n",
              "      <td>w</td>\n",
              "      <td>t</td>\n",
              "      <td>p</td>\n",
              "      <td>f</td>\n",
              "      <td>c</td>\n",
              "      <td>n</td>\n",
              "      <td>n</td>\n",
              "      <td>e</td>\n",
              "      <td>...</td>\n",
              "      <td>s</td>\n",
              "      <td>w</td>\n",
              "      <td>w</td>\n",
              "      <td>p</td>\n",
              "      <td>w</td>\n",
              "      <td>o</td>\n",
              "      <td>p</td>\n",
              "      <td>k</td>\n",
              "      <td>s</td>\n",
              "      <td>u</td>\n",
              "    </tr>\n",
              "    <tr>\n",
              "      <th>4</th>\n",
              "      <td>x</td>\n",
              "      <td>s</td>\n",
              "      <td>g</td>\n",
              "      <td>f</td>\n",
              "      <td>n</td>\n",
              "      <td>f</td>\n",
              "      <td>w</td>\n",
              "      <td>b</td>\n",
              "      <td>k</td>\n",
              "      <td>t</td>\n",
              "      <td>...</td>\n",
              "      <td>s</td>\n",
              "      <td>w</td>\n",
              "      <td>w</td>\n",
              "      <td>p</td>\n",
              "      <td>w</td>\n",
              "      <td>o</td>\n",
              "      <td>e</td>\n",
              "      <td>n</td>\n",
              "      <td>a</td>\n",
              "      <td>g</td>\n",
              "    </tr>\n",
              "    <tr>\n",
              "      <th>...</th>\n",
              "      <td>...</td>\n",
              "      <td>...</td>\n",
              "      <td>...</td>\n",
              "      <td>...</td>\n",
              "      <td>...</td>\n",
              "      <td>...</td>\n",
              "      <td>...</td>\n",
              "      <td>...</td>\n",
              "      <td>...</td>\n",
              "      <td>...</td>\n",
              "      <td>...</td>\n",
              "      <td>...</td>\n",
              "      <td>...</td>\n",
              "      <td>...</td>\n",
              "      <td>...</td>\n",
              "      <td>...</td>\n",
              "      <td>...</td>\n",
              "      <td>...</td>\n",
              "      <td>...</td>\n",
              "      <td>...</td>\n",
              "      <td>...</td>\n",
              "    </tr>\n",
              "    <tr>\n",
              "      <th>8119</th>\n",
              "      <td>k</td>\n",
              "      <td>s</td>\n",
              "      <td>n</td>\n",
              "      <td>f</td>\n",
              "      <td>n</td>\n",
              "      <td>a</td>\n",
              "      <td>c</td>\n",
              "      <td>b</td>\n",
              "      <td>y</td>\n",
              "      <td>e</td>\n",
              "      <td>...</td>\n",
              "      <td>s</td>\n",
              "      <td>o</td>\n",
              "      <td>o</td>\n",
              "      <td>p</td>\n",
              "      <td>o</td>\n",
              "      <td>o</td>\n",
              "      <td>p</td>\n",
              "      <td>b</td>\n",
              "      <td>c</td>\n",
              "      <td>l</td>\n",
              "    </tr>\n",
              "    <tr>\n",
              "      <th>8120</th>\n",
              "      <td>x</td>\n",
              "      <td>s</td>\n",
              "      <td>n</td>\n",
              "      <td>f</td>\n",
              "      <td>n</td>\n",
              "      <td>a</td>\n",
              "      <td>c</td>\n",
              "      <td>b</td>\n",
              "      <td>y</td>\n",
              "      <td>e</td>\n",
              "      <td>...</td>\n",
              "      <td>s</td>\n",
              "      <td>o</td>\n",
              "      <td>o</td>\n",
              "      <td>p</td>\n",
              "      <td>n</td>\n",
              "      <td>o</td>\n",
              "      <td>p</td>\n",
              "      <td>b</td>\n",
              "      <td>v</td>\n",
              "      <td>l</td>\n",
              "    </tr>\n",
              "    <tr>\n",
              "      <th>8121</th>\n",
              "      <td>f</td>\n",
              "      <td>s</td>\n",
              "      <td>n</td>\n",
              "      <td>f</td>\n",
              "      <td>n</td>\n",
              "      <td>a</td>\n",
              "      <td>c</td>\n",
              "      <td>b</td>\n",
              "      <td>n</td>\n",
              "      <td>e</td>\n",
              "      <td>...</td>\n",
              "      <td>s</td>\n",
              "      <td>o</td>\n",
              "      <td>o</td>\n",
              "      <td>p</td>\n",
              "      <td>o</td>\n",
              "      <td>o</td>\n",
              "      <td>p</td>\n",
              "      <td>b</td>\n",
              "      <td>c</td>\n",
              "      <td>l</td>\n",
              "    </tr>\n",
              "    <tr>\n",
              "      <th>8122</th>\n",
              "      <td>k</td>\n",
              "      <td>y</td>\n",
              "      <td>n</td>\n",
              "      <td>f</td>\n",
              "      <td>y</td>\n",
              "      <td>f</td>\n",
              "      <td>c</td>\n",
              "      <td>n</td>\n",
              "      <td>b</td>\n",
              "      <td>t</td>\n",
              "      <td>...</td>\n",
              "      <td>k</td>\n",
              "      <td>w</td>\n",
              "      <td>w</td>\n",
              "      <td>p</td>\n",
              "      <td>w</td>\n",
              "      <td>o</td>\n",
              "      <td>e</td>\n",
              "      <td>w</td>\n",
              "      <td>v</td>\n",
              "      <td>l</td>\n",
              "    </tr>\n",
              "    <tr>\n",
              "      <th>8123</th>\n",
              "      <td>x</td>\n",
              "      <td>s</td>\n",
              "      <td>n</td>\n",
              "      <td>f</td>\n",
              "      <td>n</td>\n",
              "      <td>a</td>\n",
              "      <td>c</td>\n",
              "      <td>b</td>\n",
              "      <td>y</td>\n",
              "      <td>e</td>\n",
              "      <td>...</td>\n",
              "      <td>s</td>\n",
              "      <td>o</td>\n",
              "      <td>o</td>\n",
              "      <td>p</td>\n",
              "      <td>o</td>\n",
              "      <td>o</td>\n",
              "      <td>p</td>\n",
              "      <td>o</td>\n",
              "      <td>c</td>\n",
              "      <td>l</td>\n",
              "    </tr>\n",
              "  </tbody>\n",
              "</table>\n",
              "<p>8124 rows × 22 columns</p>\n",
              "</div>\n",
              "      <button class=\"colab-df-convert\" onclick=\"convertToInteractive('df-4510a301-5d70-44d3-a2f0-703acdcbffe1')\"\n",
              "              title=\"Convert this dataframe to an interactive table.\"\n",
              "              style=\"display:none;\">\n",
              "        \n",
              "  <svg xmlns=\"http://www.w3.org/2000/svg\" height=\"24px\"viewBox=\"0 0 24 24\"\n",
              "       width=\"24px\">\n",
              "    <path d=\"M0 0h24v24H0V0z\" fill=\"none\"/>\n",
              "    <path d=\"M18.56 5.44l.94 2.06.94-2.06 2.06-.94-2.06-.94-.94-2.06-.94 2.06-2.06.94zm-11 1L8.5 8.5l.94-2.06 2.06-.94-2.06-.94L8.5 2.5l-.94 2.06-2.06.94zm10 10l.94 2.06.94-2.06 2.06-.94-2.06-.94-.94-2.06-.94 2.06-2.06.94z\"/><path d=\"M17.41 7.96l-1.37-1.37c-.4-.4-.92-.59-1.43-.59-.52 0-1.04.2-1.43.59L10.3 9.45l-7.72 7.72c-.78.78-.78 2.05 0 2.83L4 21.41c.39.39.9.59 1.41.59.51 0 1.02-.2 1.41-.59l7.78-7.78 2.81-2.81c.8-.78.8-2.07 0-2.86zM5.41 20L4 18.59l7.72-7.72 1.47 1.35L5.41 20z\"/>\n",
              "  </svg>\n",
              "      </button>\n",
              "      \n",
              "  <style>\n",
              "    .colab-df-container {\n",
              "      display:flex;\n",
              "      flex-wrap:wrap;\n",
              "      gap: 12px;\n",
              "    }\n",
              "\n",
              "    .colab-df-convert {\n",
              "      background-color: #E8F0FE;\n",
              "      border: none;\n",
              "      border-radius: 50%;\n",
              "      cursor: pointer;\n",
              "      display: none;\n",
              "      fill: #1967D2;\n",
              "      height: 32px;\n",
              "      padding: 0 0 0 0;\n",
              "      width: 32px;\n",
              "    }\n",
              "\n",
              "    .colab-df-convert:hover {\n",
              "      background-color: #E2EBFA;\n",
              "      box-shadow: 0px 1px 2px rgba(60, 64, 67, 0.3), 0px 1px 3px 1px rgba(60, 64, 67, 0.15);\n",
              "      fill: #174EA6;\n",
              "    }\n",
              "\n",
              "    [theme=dark] .colab-df-convert {\n",
              "      background-color: #3B4455;\n",
              "      fill: #D2E3FC;\n",
              "    }\n",
              "\n",
              "    [theme=dark] .colab-df-convert:hover {\n",
              "      background-color: #434B5C;\n",
              "      box-shadow: 0px 1px 3px 1px rgba(0, 0, 0, 0.15);\n",
              "      filter: drop-shadow(0px 1px 2px rgba(0, 0, 0, 0.3));\n",
              "      fill: #FFFFFF;\n",
              "    }\n",
              "  </style>\n",
              "\n",
              "      <script>\n",
              "        const buttonEl =\n",
              "          document.querySelector('#df-4510a301-5d70-44d3-a2f0-703acdcbffe1 button.colab-df-convert');\n",
              "        buttonEl.style.display =\n",
              "          google.colab.kernel.accessAllowed ? 'block' : 'none';\n",
              "\n",
              "        async function convertToInteractive(key) {\n",
              "          const element = document.querySelector('#df-4510a301-5d70-44d3-a2f0-703acdcbffe1');\n",
              "          const dataTable =\n",
              "            await google.colab.kernel.invokeFunction('convertToInteractive',\n",
              "                                                     [key], {});\n",
              "          if (!dataTable) return;\n",
              "\n",
              "          const docLinkHtml = 'Like what you see? Visit the ' +\n",
              "            '<a target=\"_blank\" href=https://colab.research.google.com/notebooks/data_table.ipynb>data table notebook</a>'\n",
              "            + ' to learn more about interactive tables.';\n",
              "          element.innerHTML = '';\n",
              "          dataTable['output_type'] = 'display_data';\n",
              "          await google.colab.output.renderOutput(dataTable, element);\n",
              "          const docLink = document.createElement('div');\n",
              "          docLink.innerHTML = docLinkHtml;\n",
              "          element.appendChild(docLink);\n",
              "        }\n",
              "      </script>\n",
              "    </div>\n",
              "  </div>\n",
              "  "
            ]
          },
          "metadata": {},
          "execution_count": 47
        }
      ],
      "source": [
        "#데이터 확인\n",
        "X_mush"
      ]
    },
    {
      "cell_type": "code",
      "execution_count": null,
      "metadata": {
        "id": "z0LmZe60Oabk",
        "colab": {
          "base_uri": "https://localhost:8080/"
        },
        "outputId": "40ffff74-a3c9-43dd-fa45-4c91dbfe0c12"
      },
      "outputs": [
        {
          "output_type": "execute_result",
          "data": {
            "text/plain": [
              "0       p\n",
              "1       e\n",
              "2       e\n",
              "3       p\n",
              "4       e\n",
              "       ..\n",
              "8119    e\n",
              "8120    e\n",
              "8121    e\n",
              "8122    p\n",
              "8123    e\n",
              "Name: class, Length: 8124, dtype: object"
            ]
          },
          "metadata": {},
          "execution_count": 48
        }
      ],
      "source": [
        "#데이터 확인\n",
        "y_mush"
      ]
    },
    {
      "cell_type": "markdown",
      "metadata": {
        "id": "Pvw9LEfEnL-3"
      },
      "source": [
        "### train_test_split()을 이용해 train set과 test set을 분리하시오."
      ]
    },
    {
      "cell_type": "code",
      "execution_count": null,
      "metadata": {
        "id": "_BMVL3aWOabk"
      },
      "outputs": [],
      "source": [
        "X_train, X_test, y_train, y_test = train_test_split(X_mush, y_mush, test_size=0.2, random_state=11)"
      ]
    },
    {
      "cell_type": "code",
      "execution_count": null,
      "metadata": {
        "id": "Q1DBMQQbOabk",
        "colab": {
          "base_uri": "https://localhost:8080/"
        },
        "outputId": "0bbf4553-e77b-42f4-e43a-fe6c1edc209b"
      },
      "outputs": [
        {
          "output_type": "stream",
          "name": "stdout",
          "text": [
            "(6499, 22)\n",
            "(1625, 22)\n"
          ]
        }
      ],
      "source": [
        "#잘 분리되었는지 확인\n",
        "print(X_train.shape)\n",
        "print(X_test.shape)"
      ]
    },
    {
      "cell_type": "markdown",
      "metadata": {
        "id": "4xUNumiSnL-4"
      },
      "source": [
        "### CatBoost를 진행할 수 있도록 범주형 변수를 처리하시오.\n",
        "- trainset은 train_pool에 저장\n",
        "- testset은 test_pool에 저장"
      ]
    },
    {
      "cell_type": "code",
      "source": [
        "!pip install catboost"
      ],
      "metadata": {
        "colab": {
          "base_uri": "https://localhost:8080/"
        },
        "id": "8pfW92ZF5pCq",
        "outputId": "22055596-d081-457f-afb0-b1dcd3710aac"
      },
      "execution_count": null,
      "outputs": [
        {
          "output_type": "stream",
          "name": "stdout",
          "text": [
            "Collecting catboost\n",
            "  Downloading catboost-1.0.4-cp37-none-manylinux1_x86_64.whl (76.1 MB)\n",
            "\u001b[K     |████████████████████████████████| 76.1 MB 54 kB/s \n",
            "\u001b[?25hRequirement already satisfied: six in /usr/local/lib/python3.7/dist-packages (from catboost) (1.15.0)\n",
            "Requirement already satisfied: plotly in /usr/local/lib/python3.7/dist-packages (from catboost) (5.5.0)\n",
            "Requirement already satisfied: numpy>=1.16.0 in /usr/local/lib/python3.7/dist-packages (from catboost) (1.21.5)\n",
            "Requirement already satisfied: scipy in /usr/local/lib/python3.7/dist-packages (from catboost) (1.4.1)\n",
            "Requirement already satisfied: graphviz in /usr/local/lib/python3.7/dist-packages (from catboost) (0.10.1)\n",
            "Requirement already satisfied: matplotlib in /usr/local/lib/python3.7/dist-packages (from catboost) (3.2.2)\n",
            "Requirement already satisfied: pandas>=0.24.0 in /usr/local/lib/python3.7/dist-packages (from catboost) (1.3.5)\n",
            "Requirement already satisfied: python-dateutil>=2.7.3 in /usr/local/lib/python3.7/dist-packages (from pandas>=0.24.0->catboost) (2.8.2)\n",
            "Requirement already satisfied: pytz>=2017.3 in /usr/local/lib/python3.7/dist-packages (from pandas>=0.24.0->catboost) (2018.9)\n",
            "Requirement already satisfied: cycler>=0.10 in /usr/local/lib/python3.7/dist-packages (from matplotlib->catboost) (0.11.0)\n",
            "Requirement already satisfied: kiwisolver>=1.0.1 in /usr/local/lib/python3.7/dist-packages (from matplotlib->catboost) (1.4.0)\n",
            "Requirement already satisfied: pyparsing!=2.0.4,!=2.1.2,!=2.1.6,>=2.0.1 in /usr/local/lib/python3.7/dist-packages (from matplotlib->catboost) (3.0.7)\n",
            "Requirement already satisfied: typing-extensions in /usr/local/lib/python3.7/dist-packages (from kiwisolver>=1.0.1->matplotlib->catboost) (3.10.0.2)\n",
            "Requirement already satisfied: tenacity>=6.2.0 in /usr/local/lib/python3.7/dist-packages (from plotly->catboost) (8.0.1)\n",
            "Installing collected packages: catboost\n",
            "Successfully installed catboost-1.0.4\n"
          ]
        }
      ]
    },
    {
      "cell_type": "code",
      "source": [
        "X_train.columns"
      ],
      "metadata": {
        "colab": {
          "base_uri": "https://localhost:8080/"
        },
        "id": "YASVJoy17z3W",
        "outputId": "14664fa0-d6ff-4dbe-ae4f-5513ed995d58"
      },
      "execution_count": null,
      "outputs": [
        {
          "output_type": "execute_result",
          "data": {
            "text/plain": [
              "Index(['cap-shape', 'cap-surface', 'cap-color', 'bruises', 'odor',\n",
              "       'gill-attachment', 'gill-spacing', 'gill-size', 'gill-color',\n",
              "       'stalk-shape', 'stalk-root', 'stalk-surface-above-ring',\n",
              "       'stalk-surface-below-ring', 'stalk-color-above-ring',\n",
              "       'stalk-color-below-ring', 'veil-type', 'veil-color', 'ring-number',\n",
              "       'ring-type', 'spore-print-color', 'population', 'habitat'],\n",
              "      dtype='object')"
            ]
          },
          "metadata": {},
          "execution_count": 56
        }
      ]
    },
    {
      "cell_type": "code",
      "source": [
        "cat_cols = ['cap-shape', 'cap-surface', 'cap-color', 'bruises', 'odor',\n",
        "       'gill-attachment', 'gill-spacing', 'gill-size', 'gill-color',\n",
        "       'stalk-shape', 'stalk-root', 'stalk-surface-above-ring',\n",
        "       'stalk-surface-below-ring', 'stalk-color-above-ring',\n",
        "       'stalk-color-below-ring', 'veil-type', 'veil-color', 'ring-number',\n",
        "       'ring-type', 'spore-print-color', 'population', 'habitat']"
      ],
      "metadata": {
        "id": "R-MqWDbB72_-"
      },
      "execution_count": null,
      "outputs": []
    },
    {
      "cell_type": "code",
      "execution_count": null,
      "metadata": {
        "id": "xsXrlqAWOabl"
      },
      "outputs": [],
      "source": [
        "from catboost import Pool\n",
        "train_pool = Pool(data=X_train, label=y_train, cat_features = cat_cols)\n",
        "test_pool = Pool(data=X_test, label=y_test, cat_features = cat_cols)"
      ]
    },
    {
      "cell_type": "markdown",
      "metadata": {
        "id": "uJ08pr0VnL-5"
      },
      "source": [
        "### CatBoost 모델을 기반으로 버섯에 대한 정보를 학습하고 버섯의 독성 여부를 예측하시오.\n",
        "- iteration=400, learning_rate=0.1, max_depth=3\n",
        "- catb_predes, catb_pred_proba"
      ]
    },
    {
      "cell_type": "code",
      "execution_count": null,
      "metadata": {
        "id": "vngvH6F5Oabl",
        "colab": {
          "base_uri": "https://localhost:8080/"
        },
        "outputId": "0b47dc10-6ff1-4e5e-c0f8-f68da933414b"
      },
      "outputs": [
        {
          "output_type": "stream",
          "name": "stderr",
          "text": [
            "Custom logger is already specified. Specify more than one logger at same time is not thread safe."
          ]
        },
        {
          "output_type": "stream",
          "name": "stdout",
          "text": [
            "0:\tlearn: 0.4792258\ttotal: 25ms\tremaining: 9.99s\n",
            "1:\tlearn: 0.3415412\ttotal: 37.1ms\tremaining: 7.38s\n",
            "2:\tlearn: 0.2367708\ttotal: 56.3ms\tremaining: 7.45s\n",
            "3:\tlearn: 0.1953651\ttotal: 83.9ms\tremaining: 8.31s\n",
            "4:\tlearn: 0.1518125\ttotal: 95.7ms\tremaining: 7.56s\n",
            "5:\tlearn: 0.1015841\ttotal: 108ms\tremaining: 7.11s\n",
            "6:\tlearn: 0.0688275\ttotal: 126ms\tremaining: 7.1s\n",
            "7:\tlearn: 0.0573920\ttotal: 166ms\tremaining: 8.13s\n",
            "8:\tlearn: 0.0443233\ttotal: 202ms\tremaining: 8.76s\n",
            "9:\tlearn: 0.0353315\ttotal: 221ms\tremaining: 8.62s\n",
            "10:\tlearn: 0.0286876\ttotal: 238ms\tremaining: 8.4s\n",
            "11:\tlearn: 0.0266447\ttotal: 260ms\tremaining: 8.4s\n",
            "12:\tlearn: 0.0250221\ttotal: 290ms\tremaining: 8.64s\n",
            "13:\tlearn: 0.0236112\ttotal: 315ms\tremaining: 8.68s\n",
            "14:\tlearn: 0.0228011\ttotal: 338ms\tremaining: 8.68s\n",
            "15:\tlearn: 0.0221520\ttotal: 369ms\tremaining: 8.85s\n",
            "16:\tlearn: 0.0206648\ttotal: 395ms\tremaining: 8.91s\n",
            "17:\tlearn: 0.0197814\ttotal: 427ms\tremaining: 9.05s\n",
            "18:\tlearn: 0.0181005\ttotal: 445ms\tremaining: 8.92s\n",
            "19:\tlearn: 0.0163015\ttotal: 459ms\tremaining: 8.72s\n",
            "20:\tlearn: 0.0154332\ttotal: 472ms\tremaining: 8.52s\n",
            "21:\tlearn: 0.0147506\ttotal: 491ms\tremaining: 8.43s\n",
            "22:\tlearn: 0.0139479\ttotal: 521ms\tremaining: 8.53s\n",
            "23:\tlearn: 0.0126659\ttotal: 552ms\tremaining: 8.64s\n",
            "24:\tlearn: 0.0125704\ttotal: 576ms\tremaining: 8.65s\n",
            "25:\tlearn: 0.0119606\ttotal: 593ms\tremaining: 8.52s\n",
            "26:\tlearn: 0.0114667\ttotal: 634ms\tremaining: 8.76s\n",
            "27:\tlearn: 0.0103855\ttotal: 663ms\tremaining: 8.8s\n",
            "28:\tlearn: 0.0100011\ttotal: 687ms\tremaining: 8.79s\n",
            "29:\tlearn: 0.0099298\ttotal: 707ms\tremaining: 8.72s\n",
            "30:\tlearn: 0.0091574\ttotal: 732ms\tremaining: 8.72s\n",
            "31:\tlearn: 0.0086882\ttotal: 756ms\tremaining: 8.69s\n",
            "32:\tlearn: 0.0086419\ttotal: 775ms\tremaining: 8.61s\n",
            "33:\tlearn: 0.0086073\ttotal: 788ms\tremaining: 8.48s\n",
            "34:\tlearn: 0.0081437\ttotal: 808ms\tremaining: 8.43s\n",
            "35:\tlearn: 0.0080884\ttotal: 836ms\tremaining: 8.45s\n",
            "36:\tlearn: 0.0080728\ttotal: 863ms\tremaining: 8.47s\n",
            "37:\tlearn: 0.0080462\ttotal: 884ms\tremaining: 8.42s\n",
            "38:\tlearn: 0.0075317\ttotal: 910ms\tremaining: 8.42s\n",
            "39:\tlearn: 0.0072396\ttotal: 922ms\tremaining: 8.3s\n",
            "40:\tlearn: 0.0071777\ttotal: 935ms\tremaining: 8.18s\n",
            "41:\tlearn: 0.0070424\ttotal: 951ms\tremaining: 8.11s\n",
            "42:\tlearn: 0.0067257\ttotal: 968ms\tremaining: 8.04s\n",
            "43:\tlearn: 0.0066852\ttotal: 987ms\tremaining: 7.99s\n",
            "44:\tlearn: 0.0066654\ttotal: 1.01s\tremaining: 7.95s\n",
            "45:\tlearn: 0.0064649\ttotal: 1.03s\tremaining: 7.91s\n",
            "46:\tlearn: 0.0061286\ttotal: 1.05s\tremaining: 7.86s\n",
            "47:\tlearn: 0.0060794\ttotal: 1.06s\tremaining: 7.8s\n",
            "48:\tlearn: 0.0060356\ttotal: 1.08s\tremaining: 7.72s\n",
            "49:\tlearn: 0.0060011\ttotal: 1.09s\tremaining: 7.66s\n",
            "50:\tlearn: 0.0059643\ttotal: 1.11s\tremaining: 7.62s\n",
            "51:\tlearn: 0.0059220\ttotal: 1.14s\tremaining: 7.65s\n",
            "52:\tlearn: 0.0056678\ttotal: 1.18s\tremaining: 7.7s\n",
            "53:\tlearn: 0.0056343\ttotal: 1.21s\tremaining: 7.74s\n",
            "54:\tlearn: 0.0056032\ttotal: 1.23s\tremaining: 7.68s\n",
            "55:\tlearn: 0.0055894\ttotal: 1.25s\tremaining: 7.71s\n",
            "56:\tlearn: 0.0055894\ttotal: 1.28s\tremaining: 7.7s\n",
            "57:\tlearn: 0.0055099\ttotal: 1.32s\tremaining: 7.76s\n",
            "58:\tlearn: 0.0053282\ttotal: 1.34s\tremaining: 7.74s\n",
            "59:\tlearn: 0.0051789\ttotal: 1.37s\tremaining: 7.77s\n",
            "60:\tlearn: 0.0051685\ttotal: 1.4s\tremaining: 7.81s\n",
            "61:\tlearn: 0.0051429\ttotal: 1.44s\tremaining: 7.84s\n",
            "62:\tlearn: 0.0051298\ttotal: 1.47s\tremaining: 7.85s\n",
            "63:\tlearn: 0.0051127\ttotal: 1.49s\tremaining: 7.8s\n",
            "64:\tlearn: 0.0051127\ttotal: 1.5s\tremaining: 7.74s\n",
            "65:\tlearn: 0.0051127\ttotal: 1.51s\tremaining: 7.65s\n",
            "66:\tlearn: 0.0049506\ttotal: 1.52s\tremaining: 7.58s\n",
            "67:\tlearn: 0.0049292\ttotal: 1.54s\tremaining: 7.51s\n",
            "68:\tlearn: 0.0049104\ttotal: 1.55s\tremaining: 7.43s\n",
            "69:\tlearn: 0.0048536\ttotal: 1.56s\tremaining: 7.36s\n",
            "70:\tlearn: 0.0048364\ttotal: 1.58s\tremaining: 7.31s\n",
            "71:\tlearn: 0.0048363\ttotal: 1.6s\tremaining: 7.28s\n",
            "72:\tlearn: 0.0048069\ttotal: 1.62s\tremaining: 7.25s\n",
            "73:\tlearn: 0.0048069\ttotal: 1.64s\tremaining: 7.23s\n",
            "74:\tlearn: 0.0047715\ttotal: 1.67s\tremaining: 7.22s\n",
            "75:\tlearn: 0.0044813\ttotal: 1.69s\tremaining: 7.21s\n",
            "76:\tlearn: 0.0044006\ttotal: 1.72s\tremaining: 7.21s\n",
            "77:\tlearn: 0.0043682\ttotal: 1.75s\tremaining: 7.23s\n",
            "78:\tlearn: 0.0043681\ttotal: 1.77s\tremaining: 7.2s\n",
            "79:\tlearn: 0.0043082\ttotal: 1.79s\tremaining: 7.17s\n",
            "80:\tlearn: 0.0042951\ttotal: 1.82s\tremaining: 7.19s\n",
            "81:\tlearn: 0.0042951\ttotal: 1.84s\tremaining: 7.13s\n",
            "82:\tlearn: 0.0041285\ttotal: 1.86s\tremaining: 7.11s\n",
            "83:\tlearn: 0.0041285\ttotal: 1.89s\tremaining: 7.1s\n",
            "84:\tlearn: 0.0040870\ttotal: 1.91s\tremaining: 7.07s\n",
            "85:\tlearn: 0.0040298\ttotal: 1.93s\tremaining: 7.06s\n",
            "86:\tlearn: 0.0039742\ttotal: 1.96s\tremaining: 7.04s\n",
            "87:\tlearn: 0.0039738\ttotal: 1.98s\tremaining: 7.01s\n",
            "88:\tlearn: 0.0039738\ttotal: 2s\tremaining: 6.98s\n",
            "89:\tlearn: 0.0039329\ttotal: 2.02s\tremaining: 6.95s\n",
            "90:\tlearn: 0.0039182\ttotal: 2.04s\tremaining: 6.93s\n",
            "91:\tlearn: 0.0039181\ttotal: 2.06s\tremaining: 6.89s\n",
            "92:\tlearn: 0.0038563\ttotal: 2.1s\tremaining: 6.92s\n",
            "93:\tlearn: 0.0038340\ttotal: 2.12s\tremaining: 6.92s\n",
            "94:\tlearn: 0.0038340\ttotal: 2.14s\tremaining: 6.88s\n",
            "95:\tlearn: 0.0038340\ttotal: 2.15s\tremaining: 6.82s\n",
            "96:\tlearn: 0.0038339\ttotal: 2.17s\tremaining: 6.79s\n",
            "97:\tlearn: 0.0038339\ttotal: 2.19s\tremaining: 6.74s\n",
            "98:\tlearn: 0.0038339\ttotal: 2.22s\tremaining: 6.75s\n",
            "99:\tlearn: 0.0038175\ttotal: 2.25s\tremaining: 6.74s\n",
            "100:\tlearn: 0.0037865\ttotal: 2.28s\tremaining: 6.75s\n",
            "101:\tlearn: 0.0037865\ttotal: 2.3s\tremaining: 6.72s\n",
            "102:\tlearn: 0.0037865\ttotal: 2.31s\tremaining: 6.67s\n",
            "103:\tlearn: 0.0037641\ttotal: 2.34s\tremaining: 6.67s\n",
            "104:\tlearn: 0.0037641\ttotal: 2.37s\tremaining: 6.66s\n",
            "105:\tlearn: 0.0037641\ttotal: 2.4s\tremaining: 6.66s\n",
            "106:\tlearn: 0.0037641\ttotal: 2.43s\tremaining: 6.65s\n",
            "107:\tlearn: 0.0037641\ttotal: 2.46s\tremaining: 6.64s\n",
            "108:\tlearn: 0.0037631\ttotal: 2.48s\tremaining: 6.62s\n",
            "109:\tlearn: 0.0037631\ttotal: 2.5s\tremaining: 6.59s\n",
            "110:\tlearn: 0.0037631\ttotal: 2.53s\tremaining: 6.59s\n",
            "111:\tlearn: 0.0037631\ttotal: 2.56s\tremaining: 6.58s\n",
            "112:\tlearn: 0.0036573\ttotal: 2.59s\tremaining: 6.58s\n",
            "113:\tlearn: 0.0036573\ttotal: 2.61s\tremaining: 6.55s\n",
            "114:\tlearn: 0.0036573\ttotal: 2.64s\tremaining: 6.53s\n",
            "115:\tlearn: 0.0036306\ttotal: 2.66s\tremaining: 6.51s\n",
            "116:\tlearn: 0.0035515\ttotal: 2.69s\tremaining: 6.5s\n",
            "117:\tlearn: 0.0035337\ttotal: 2.71s\tremaining: 6.48s\n",
            "118:\tlearn: 0.0035337\ttotal: 2.73s\tremaining: 6.45s\n",
            "119:\tlearn: 0.0035337\ttotal: 2.76s\tremaining: 6.44s\n",
            "120:\tlearn: 0.0035337\ttotal: 2.79s\tremaining: 6.43s\n",
            "121:\tlearn: 0.0035336\ttotal: 2.82s\tremaining: 6.43s\n",
            "122:\tlearn: 0.0035216\ttotal: 2.85s\tremaining: 6.42s\n",
            "123:\tlearn: 0.0035216\ttotal: 2.87s\tremaining: 6.39s\n",
            "124:\tlearn: 0.0035216\ttotal: 2.9s\tremaining: 6.37s\n",
            "125:\tlearn: 0.0035216\ttotal: 2.92s\tremaining: 6.35s\n",
            "126:\tlearn: 0.0035216\ttotal: 2.94s\tremaining: 6.32s\n",
            "127:\tlearn: 0.0035212\ttotal: 2.96s\tremaining: 6.3s\n",
            "128:\tlearn: 0.0035212\ttotal: 2.98s\tremaining: 6.27s\n",
            "129:\tlearn: 0.0035212\ttotal: 3.01s\tremaining: 6.25s\n",
            "130:\tlearn: 0.0034898\ttotal: 3.03s\tremaining: 6.22s\n",
            "131:\tlearn: 0.0034898\ttotal: 3.04s\tremaining: 6.18s\n",
            "132:\tlearn: 0.0034897\ttotal: 3.07s\tremaining: 6.16s\n",
            "133:\tlearn: 0.0034897\ttotal: 3.09s\tremaining: 6.13s\n",
            "134:\tlearn: 0.0034897\ttotal: 3.11s\tremaining: 6.11s\n",
            "135:\tlearn: 0.0034636\ttotal: 3.13s\tremaining: 6.07s\n",
            "136:\tlearn: 0.0034636\ttotal: 3.15s\tremaining: 6.04s\n",
            "137:\tlearn: 0.0034010\ttotal: 3.17s\tremaining: 6.03s\n",
            "138:\tlearn: 0.0034009\ttotal: 3.19s\tremaining: 5.99s\n",
            "139:\tlearn: 0.0034008\ttotal: 3.21s\tremaining: 5.96s\n",
            "140:\tlearn: 0.0034008\ttotal: 3.22s\tremaining: 5.92s\n",
            "141:\tlearn: 0.0034008\ttotal: 3.24s\tremaining: 5.89s\n",
            "142:\tlearn: 0.0033543\ttotal: 3.27s\tremaining: 5.89s\n",
            "143:\tlearn: 0.0033390\ttotal: 3.31s\tremaining: 5.88s\n",
            "144:\tlearn: 0.0033390\ttotal: 3.33s\tremaining: 5.86s\n",
            "145:\tlearn: 0.0033255\ttotal: 3.35s\tremaining: 5.83s\n",
            "146:\tlearn: 0.0033090\ttotal: 3.37s\tremaining: 5.8s\n",
            "147:\tlearn: 0.0032889\ttotal: 3.38s\tremaining: 5.76s\n",
            "148:\tlearn: 0.0032787\ttotal: 3.4s\tremaining: 5.72s\n",
            "149:\tlearn: 0.0032787\ttotal: 3.42s\tremaining: 5.7s\n",
            "150:\tlearn: 0.0032653\ttotal: 3.44s\tremaining: 5.68s\n",
            "151:\tlearn: 0.0032653\ttotal: 3.46s\tremaining: 5.65s\n",
            "152:\tlearn: 0.0032653\ttotal: 3.48s\tremaining: 5.62s\n",
            "153:\tlearn: 0.0032652\ttotal: 3.5s\tremaining: 5.59s\n",
            "154:\tlearn: 0.0032545\ttotal: 3.51s\tremaining: 5.55s\n",
            "155:\tlearn: 0.0032545\ttotal: 3.52s\tremaining: 5.51s\n",
            "156:\tlearn: 0.0032178\ttotal: 3.54s\tremaining: 5.47s\n",
            "157:\tlearn: 0.0032027\ttotal: 3.55s\tremaining: 5.44s\n",
            "158:\tlearn: 0.0031945\ttotal: 3.58s\tremaining: 5.42s\n",
            "159:\tlearn: 0.0031275\ttotal: 3.6s\tremaining: 5.4s\n",
            "160:\tlearn: 0.0031018\ttotal: 3.63s\tremaining: 5.39s\n",
            "161:\tlearn: 0.0031017\ttotal: 3.65s\tremaining: 5.36s\n",
            "162:\tlearn: 0.0030710\ttotal: 3.67s\tremaining: 5.34s\n",
            "163:\tlearn: 0.0030710\ttotal: 3.69s\tremaining: 5.31s\n",
            "164:\tlearn: 0.0030709\ttotal: 3.71s\tremaining: 5.28s\n",
            "165:\tlearn: 0.0030709\ttotal: 3.73s\tremaining: 5.25s\n",
            "166:\tlearn: 0.0030709\ttotal: 3.75s\tremaining: 5.23s\n",
            "167:\tlearn: 0.0030709\ttotal: 3.77s\tremaining: 5.21s\n",
            "168:\tlearn: 0.0029982\ttotal: 3.8s\tremaining: 5.19s\n",
            "169:\tlearn: 0.0029982\ttotal: 3.81s\tremaining: 5.16s\n",
            "170:\tlearn: 0.0029638\ttotal: 3.84s\tremaining: 5.14s\n",
            "171:\tlearn: 0.0029584\ttotal: 3.87s\tremaining: 5.12s\n",
            "172:\tlearn: 0.0029584\ttotal: 3.89s\tremaining: 5.1s\n",
            "173:\tlearn: 0.0029041\ttotal: 3.91s\tremaining: 5.08s\n",
            "174:\tlearn: 0.0029041\ttotal: 3.93s\tremaining: 5.05s\n",
            "175:\tlearn: 0.0029041\ttotal: 3.95s\tremaining: 5.03s\n",
            "176:\tlearn: 0.0028799\ttotal: 3.97s\tremaining: 5s\n",
            "177:\tlearn: 0.0028765\ttotal: 3.98s\tremaining: 4.96s\n",
            "178:\tlearn: 0.0028765\ttotal: 3.99s\tremaining: 4.93s\n",
            "179:\tlearn: 0.0028238\ttotal: 4.01s\tremaining: 4.9s\n",
            "180:\tlearn: 0.0028238\ttotal: 4.03s\tremaining: 4.87s\n",
            "181:\tlearn: 0.0028236\ttotal: 4.05s\tremaining: 4.86s\n",
            "182:\tlearn: 0.0028235\ttotal: 4.08s\tremaining: 4.84s\n",
            "183:\tlearn: 0.0028235\ttotal: 4.1s\tremaining: 4.81s\n",
            "184:\tlearn: 0.0028235\ttotal: 4.12s\tremaining: 4.79s\n",
            "185:\tlearn: 0.0028055\ttotal: 4.14s\tremaining: 4.77s\n",
            "186:\tlearn: 0.0028054\ttotal: 4.17s\tremaining: 4.75s\n",
            "187:\tlearn: 0.0028054\ttotal: 4.2s\tremaining: 4.74s\n",
            "188:\tlearn: 0.0028054\ttotal: 4.22s\tremaining: 4.71s\n",
            "189:\tlearn: 0.0028054\ttotal: 4.24s\tremaining: 4.69s\n",
            "190:\tlearn: 0.0028054\ttotal: 4.26s\tremaining: 4.66s\n",
            "191:\tlearn: 0.0028054\ttotal: 4.27s\tremaining: 4.63s\n",
            "192:\tlearn: 0.0028054\ttotal: 4.28s\tremaining: 4.59s\n",
            "193:\tlearn: 0.0028054\ttotal: 4.29s\tremaining: 4.55s\n",
            "194:\tlearn: 0.0028054\ttotal: 4.31s\tremaining: 4.53s\n",
            "195:\tlearn: 0.0028054\ttotal: 4.32s\tremaining: 4.5s\n",
            "196:\tlearn: 0.0028054\ttotal: 4.34s\tremaining: 4.47s\n",
            "197:\tlearn: 0.0028053\ttotal: 4.36s\tremaining: 4.45s\n",
            "198:\tlearn: 0.0028053\ttotal: 4.39s\tremaining: 4.43s\n",
            "199:\tlearn: 0.0028053\ttotal: 4.41s\tremaining: 4.41s\n",
            "200:\tlearn: 0.0028053\ttotal: 4.43s\tremaining: 4.38s\n",
            "201:\tlearn: 0.0028053\ttotal: 4.45s\tremaining: 4.36s\n",
            "202:\tlearn: 0.0028052\ttotal: 4.47s\tremaining: 4.34s\n",
            "203:\tlearn: 0.0028051\ttotal: 4.5s\tremaining: 4.32s\n",
            "204:\tlearn: 0.0028051\ttotal: 4.52s\tremaining: 4.3s\n",
            "205:\tlearn: 0.0028050\ttotal: 4.54s\tremaining: 4.28s\n",
            "206:\tlearn: 0.0028050\ttotal: 4.56s\tremaining: 4.25s\n",
            "207:\tlearn: 0.0028049\ttotal: 4.58s\tremaining: 4.22s\n",
            "208:\tlearn: 0.0028049\ttotal: 4.59s\tremaining: 4.2s\n",
            "209:\tlearn: 0.0028049\ttotal: 4.6s\tremaining: 4.16s\n",
            "210:\tlearn: 0.0028048\ttotal: 4.61s\tremaining: 4.13s\n",
            "211:\tlearn: 0.0028048\ttotal: 4.62s\tremaining: 4.09s\n",
            "212:\tlearn: 0.0028047\ttotal: 4.64s\tremaining: 4.07s\n",
            "213:\tlearn: 0.0028047\ttotal: 4.65s\tremaining: 4.04s\n",
            "214:\tlearn: 0.0028047\ttotal: 4.67s\tremaining: 4.02s\n",
            "215:\tlearn: 0.0027893\ttotal: 4.68s\tremaining: 3.99s\n",
            "216:\tlearn: 0.0027467\ttotal: 4.71s\tremaining: 3.97s\n",
            "217:\tlearn: 0.0027410\ttotal: 4.73s\tremaining: 3.95s\n",
            "218:\tlearn: 0.0027410\ttotal: 4.75s\tremaining: 3.93s\n",
            "219:\tlearn: 0.0027410\ttotal: 4.77s\tremaining: 3.9s\n",
            "220:\tlearn: 0.0027410\ttotal: 4.79s\tremaining: 3.88s\n",
            "221:\tlearn: 0.0027144\ttotal: 4.81s\tremaining: 3.86s\n",
            "222:\tlearn: 0.0027105\ttotal: 4.83s\tremaining: 3.83s\n",
            "223:\tlearn: 0.0027105\ttotal: 4.84s\tremaining: 3.8s\n",
            "224:\tlearn: 0.0027105\ttotal: 4.86s\tremaining: 3.78s\n",
            "225:\tlearn: 0.0026682\ttotal: 4.89s\tremaining: 3.76s\n",
            "226:\tlearn: 0.0026682\ttotal: 4.92s\tremaining: 3.75s\n",
            "227:\tlearn: 0.0026482\ttotal: 4.96s\tremaining: 3.74s\n",
            "228:\tlearn: 0.0026482\ttotal: 4.98s\tremaining: 3.72s\n",
            "229:\tlearn: 0.0026481\ttotal: 5.03s\tremaining: 3.72s\n",
            "230:\tlearn: 0.0025896\ttotal: 5.07s\tremaining: 3.71s\n",
            "231:\tlearn: 0.0025896\ttotal: 5.12s\tremaining: 3.7s\n",
            "232:\tlearn: 0.0025896\ttotal: 5.16s\tremaining: 3.7s\n",
            "233:\tlearn: 0.0025896\ttotal: 5.19s\tremaining: 3.68s\n",
            "234:\tlearn: 0.0025895\ttotal: 5.22s\tremaining: 3.66s\n",
            "235:\tlearn: 0.0025895\ttotal: 5.25s\tremaining: 3.65s\n",
            "236:\tlearn: 0.0025894\ttotal: 5.28s\tremaining: 3.63s\n",
            "237:\tlearn: 0.0025894\ttotal: 5.29s\tremaining: 3.6s\n",
            "238:\tlearn: 0.0025894\ttotal: 5.33s\tremaining: 3.59s\n",
            "239:\tlearn: 0.0025894\ttotal: 5.34s\tremaining: 3.56s\n",
            "240:\tlearn: 0.0025894\ttotal: 5.38s\tremaining: 3.55s\n",
            "241:\tlearn: 0.0025894\ttotal: 5.4s\tremaining: 3.53s\n",
            "242:\tlearn: 0.0025682\ttotal: 5.44s\tremaining: 3.52s\n",
            "243:\tlearn: 0.0025682\ttotal: 5.49s\tremaining: 3.51s\n",
            "244:\tlearn: 0.0025330\ttotal: 5.5s\tremaining: 3.48s\n",
            "245:\tlearn: 0.0025330\ttotal: 5.54s\tremaining: 3.46s\n",
            "246:\tlearn: 0.0025330\ttotal: 5.57s\tremaining: 3.45s\n",
            "247:\tlearn: 0.0025330\ttotal: 5.6s\tremaining: 3.43s\n",
            "248:\tlearn: 0.0025330\ttotal: 5.63s\tremaining: 3.41s\n",
            "249:\tlearn: 0.0025330\ttotal: 5.64s\tremaining: 3.39s\n",
            "250:\tlearn: 0.0025330\ttotal: 5.65s\tremaining: 3.36s\n",
            "251:\tlearn: 0.0025330\ttotal: 5.69s\tremaining: 3.34s\n",
            "252:\tlearn: 0.0025329\ttotal: 5.71s\tremaining: 3.32s\n",
            "253:\tlearn: 0.0025329\ttotal: 5.73s\tremaining: 3.29s\n",
            "254:\tlearn: 0.0025329\ttotal: 5.76s\tremaining: 3.27s\n",
            "255:\tlearn: 0.0025329\ttotal: 5.79s\tremaining: 3.25s\n",
            "256:\tlearn: 0.0025329\ttotal: 5.8s\tremaining: 3.23s\n",
            "257:\tlearn: 0.0025329\ttotal: 5.82s\tremaining: 3.2s\n",
            "258:\tlearn: 0.0025329\ttotal: 5.83s\tremaining: 3.18s\n",
            "259:\tlearn: 0.0025329\ttotal: 5.84s\tremaining: 3.15s\n",
            "260:\tlearn: 0.0025189\ttotal: 5.85s\tremaining: 3.12s\n",
            "261:\tlearn: 0.0025145\ttotal: 5.86s\tremaining: 3.09s\n",
            "262:\tlearn: 0.0025144\ttotal: 5.87s\tremaining: 3.06s\n",
            "263:\tlearn: 0.0025144\ttotal: 5.88s\tremaining: 3.03s\n",
            "264:\tlearn: 0.0025023\ttotal: 5.89s\tremaining: 3s\n",
            "265:\tlearn: 0.0025023\ttotal: 5.9s\tremaining: 2.97s\n",
            "266:\tlearn: 0.0025023\ttotal: 5.91s\tremaining: 2.94s\n",
            "267:\tlearn: 0.0025023\ttotal: 5.92s\tremaining: 2.91s\n",
            "268:\tlearn: 0.0025023\ttotal: 5.93s\tremaining: 2.89s\n",
            "269:\tlearn: 0.0024918\ttotal: 5.94s\tremaining: 2.86s\n",
            "270:\tlearn: 0.0024918\ttotal: 5.95s\tremaining: 2.83s\n",
            "271:\tlearn: 0.0024772\ttotal: 5.95s\tremaining: 2.8s\n",
            "272:\tlearn: 0.0024772\ttotal: 5.96s\tremaining: 2.77s\n",
            "273:\tlearn: 0.0024772\ttotal: 5.97s\tremaining: 2.75s\n",
            "274:\tlearn: 0.0024772\ttotal: 5.98s\tremaining: 2.72s\n",
            "275:\tlearn: 0.0024772\ttotal: 5.99s\tremaining: 2.69s\n",
            "276:\tlearn: 0.0024678\ttotal: 6s\tremaining: 2.66s\n",
            "277:\tlearn: 0.0024541\ttotal: 6.01s\tremaining: 2.64s\n",
            "278:\tlearn: 0.0024541\ttotal: 6.01s\tremaining: 2.61s\n",
            "279:\tlearn: 0.0024458\ttotal: 6.03s\tremaining: 2.58s\n",
            "280:\tlearn: 0.0024458\ttotal: 6.04s\tremaining: 2.56s\n",
            "281:\tlearn: 0.0024458\ttotal: 6.04s\tremaining: 2.53s\n",
            "282:\tlearn: 0.0024458\ttotal: 6.05s\tremaining: 2.5s\n",
            "283:\tlearn: 0.0024458\ttotal: 6.06s\tremaining: 2.48s\n",
            "284:\tlearn: 0.0024458\ttotal: 6.07s\tremaining: 2.45s\n",
            "285:\tlearn: 0.0024457\ttotal: 6.07s\tremaining: 2.42s\n",
            "286:\tlearn: 0.0024457\ttotal: 6.08s\tremaining: 2.39s\n",
            "287:\tlearn: 0.0024457\ttotal: 6.09s\tremaining: 2.37s\n",
            "288:\tlearn: 0.0024457\ttotal: 6.1s\tremaining: 2.34s\n",
            "289:\tlearn: 0.0024457\ttotal: 6.11s\tremaining: 2.32s\n",
            "290:\tlearn: 0.0024457\ttotal: 6.12s\tremaining: 2.29s\n",
            "291:\tlearn: 0.0024457\ttotal: 6.12s\tremaining: 2.27s\n",
            "292:\tlearn: 0.0024457\ttotal: 6.13s\tremaining: 2.24s\n",
            "293:\tlearn: 0.0024457\ttotal: 6.14s\tremaining: 2.21s\n",
            "294:\tlearn: 0.0024457\ttotal: 6.15s\tremaining: 2.19s\n",
            "295:\tlearn: 0.0024457\ttotal: 6.15s\tremaining: 2.16s\n",
            "296:\tlearn: 0.0024457\ttotal: 6.16s\tremaining: 2.14s\n",
            "297:\tlearn: 0.0024457\ttotal: 6.17s\tremaining: 2.11s\n",
            "298:\tlearn: 0.0024456\ttotal: 6.18s\tremaining: 2.09s\n",
            "299:\tlearn: 0.0024456\ttotal: 6.19s\tremaining: 2.06s\n",
            "300:\tlearn: 0.0024456\ttotal: 6.2s\tremaining: 2.04s\n",
            "301:\tlearn: 0.0024456\ttotal: 6.21s\tremaining: 2.01s\n",
            "302:\tlearn: 0.0024456\ttotal: 6.22s\tremaining: 1.99s\n",
            "303:\tlearn: 0.0024456\ttotal: 6.22s\tremaining: 1.97s\n",
            "304:\tlearn: 0.0024456\ttotal: 6.23s\tremaining: 1.94s\n",
            "305:\tlearn: 0.0024456\ttotal: 6.24s\tremaining: 1.92s\n",
            "306:\tlearn: 0.0024456\ttotal: 6.24s\tremaining: 1.89s\n",
            "307:\tlearn: 0.0024456\ttotal: 6.25s\tremaining: 1.87s\n",
            "308:\tlearn: 0.0024384\ttotal: 6.26s\tremaining: 1.84s\n",
            "309:\tlearn: 0.0024383\ttotal: 6.27s\tremaining: 1.82s\n",
            "310:\tlearn: 0.0024383\ttotal: 6.28s\tremaining: 1.8s\n",
            "311:\tlearn: 0.0024383\ttotal: 6.29s\tremaining: 1.77s\n",
            "312:\tlearn: 0.0024045\ttotal: 6.3s\tremaining: 1.75s\n",
            "313:\tlearn: 0.0024045\ttotal: 6.32s\tremaining: 1.73s\n",
            "314:\tlearn: 0.0024045\ttotal: 6.33s\tremaining: 1.71s\n",
            "315:\tlearn: 0.0024045\ttotal: 6.34s\tremaining: 1.69s\n",
            "316:\tlearn: 0.0024045\ttotal: 6.35s\tremaining: 1.66s\n",
            "317:\tlearn: 0.0024045\ttotal: 6.36s\tremaining: 1.64s\n",
            "318:\tlearn: 0.0024045\ttotal: 6.36s\tremaining: 1.62s\n",
            "319:\tlearn: 0.0024044\ttotal: 6.37s\tremaining: 1.59s\n",
            "320:\tlearn: 0.0024044\ttotal: 6.38s\tremaining: 1.57s\n",
            "321:\tlearn: 0.0024044\ttotal: 6.39s\tremaining: 1.55s\n",
            "322:\tlearn: 0.0024044\ttotal: 6.39s\tremaining: 1.52s\n",
            "323:\tlearn: 0.0024044\ttotal: 6.4s\tremaining: 1.5s\n",
            "324:\tlearn: 0.0024044\ttotal: 6.41s\tremaining: 1.48s\n",
            "325:\tlearn: 0.0024044\ttotal: 6.42s\tremaining: 1.46s\n",
            "326:\tlearn: 0.0024044\ttotal: 6.43s\tremaining: 1.43s\n",
            "327:\tlearn: 0.0024044\ttotal: 6.43s\tremaining: 1.41s\n",
            "328:\tlearn: 0.0024044\ttotal: 6.44s\tremaining: 1.39s\n",
            "329:\tlearn: 0.0024044\ttotal: 6.45s\tremaining: 1.37s\n",
            "330:\tlearn: 0.0024044\ttotal: 6.46s\tremaining: 1.35s\n",
            "331:\tlearn: 0.0024044\ttotal: 6.46s\tremaining: 1.32s\n",
            "332:\tlearn: 0.0024044\ttotal: 6.47s\tremaining: 1.3s\n",
            "333:\tlearn: 0.0024043\ttotal: 6.48s\tremaining: 1.28s\n",
            "334:\tlearn: 0.0024043\ttotal: 6.49s\tremaining: 1.26s\n",
            "335:\tlearn: 0.0024043\ttotal: 6.5s\tremaining: 1.24s\n",
            "336:\tlearn: 0.0024043\ttotal: 6.51s\tremaining: 1.22s\n",
            "337:\tlearn: 0.0024043\ttotal: 6.53s\tremaining: 1.2s\n",
            "338:\tlearn: 0.0024043\ttotal: 6.54s\tremaining: 1.18s\n",
            "339:\tlearn: 0.0024043\ttotal: 6.55s\tremaining: 1.16s\n",
            "340:\tlearn: 0.0024043\ttotal: 6.56s\tremaining: 1.14s\n",
            "341:\tlearn: 0.0024043\ttotal: 6.57s\tremaining: 1.11s\n",
            "342:\tlearn: 0.0024043\ttotal: 6.58s\tremaining: 1.09s\n",
            "343:\tlearn: 0.0024043\ttotal: 6.58s\tremaining: 1.07s\n",
            "344:\tlearn: 0.0023888\ttotal: 6.59s\tremaining: 1.05s\n",
            "345:\tlearn: 0.0023888\ttotal: 6.6s\tremaining: 1.03s\n",
            "346:\tlearn: 0.0023888\ttotal: 6.61s\tremaining: 1.01s\n",
            "347:\tlearn: 0.0023888\ttotal: 6.62s\tremaining: 989ms\n",
            "348:\tlearn: 0.0023888\ttotal: 6.62s\tremaining: 968ms\n",
            "349:\tlearn: 0.0023888\ttotal: 6.63s\tremaining: 948ms\n",
            "350:\tlearn: 0.0023888\ttotal: 6.64s\tremaining: 927ms\n",
            "351:\tlearn: 0.0023888\ttotal: 6.65s\tremaining: 907ms\n",
            "352:\tlearn: 0.0023887\ttotal: 6.66s\tremaining: 886ms\n",
            "353:\tlearn: 0.0023887\ttotal: 6.66s\tremaining: 866ms\n",
            "354:\tlearn: 0.0023887\ttotal: 6.67s\tremaining: 846ms\n",
            "355:\tlearn: 0.0023887\ttotal: 6.68s\tremaining: 825ms\n",
            "356:\tlearn: 0.0023887\ttotal: 6.69s\tremaining: 805ms\n",
            "357:\tlearn: 0.0023887\ttotal: 6.69s\tremaining: 785ms\n",
            "358:\tlearn: 0.0023887\ttotal: 6.71s\tremaining: 766ms\n",
            "359:\tlearn: 0.0023887\ttotal: 6.71s\tremaining: 746ms\n",
            "360:\tlearn: 0.0023887\ttotal: 6.72s\tremaining: 726ms\n",
            "361:\tlearn: 0.0023887\ttotal: 6.73s\tremaining: 706ms\n",
            "362:\tlearn: 0.0023887\ttotal: 6.74s\tremaining: 687ms\n",
            "363:\tlearn: 0.0023887\ttotal: 6.74s\tremaining: 667ms\n",
            "364:\tlearn: 0.0023887\ttotal: 6.75s\tremaining: 647ms\n",
            "365:\tlearn: 0.0023887\ttotal: 6.76s\tremaining: 628ms\n",
            "366:\tlearn: 0.0023887\ttotal: 6.77s\tremaining: 609ms\n",
            "367:\tlearn: 0.0023887\ttotal: 6.78s\tremaining: 589ms\n",
            "368:\tlearn: 0.0023887\ttotal: 6.78s\tremaining: 570ms\n",
            "369:\tlearn: 0.0023887\ttotal: 6.79s\tremaining: 551ms\n",
            "370:\tlearn: 0.0023887\ttotal: 6.8s\tremaining: 531ms\n",
            "371:\tlearn: 0.0023887\ttotal: 6.81s\tremaining: 512ms\n",
            "372:\tlearn: 0.0023887\ttotal: 6.81s\tremaining: 493ms\n",
            "373:\tlearn: 0.0023887\ttotal: 6.82s\tremaining: 474ms\n",
            "374:\tlearn: 0.0023825\ttotal: 6.83s\tremaining: 455ms\n",
            "375:\tlearn: 0.0023825\ttotal: 6.84s\tremaining: 436ms\n",
            "376:\tlearn: 0.0023825\ttotal: 6.84s\tremaining: 418ms\n",
            "377:\tlearn: 0.0023825\ttotal: 6.85s\tremaining: 399ms\n",
            "378:\tlearn: 0.0023442\ttotal: 6.86s\tremaining: 380ms\n",
            "379:\tlearn: 0.0023442\ttotal: 6.87s\tremaining: 362ms\n",
            "380:\tlearn: 0.0023441\ttotal: 6.88s\tremaining: 343ms\n",
            "381:\tlearn: 0.0023441\ttotal: 6.89s\tremaining: 325ms\n",
            "382:\tlearn: 0.0023441\ttotal: 6.9s\tremaining: 306ms\n",
            "383:\tlearn: 0.0023441\ttotal: 6.91s\tremaining: 288ms\n",
            "384:\tlearn: 0.0023441\ttotal: 6.92s\tremaining: 270ms\n",
            "385:\tlearn: 0.0023441\ttotal: 6.93s\tremaining: 251ms\n",
            "386:\tlearn: 0.0023441\ttotal: 6.93s\tremaining: 233ms\n",
            "387:\tlearn: 0.0023441\ttotal: 6.94s\tremaining: 215ms\n",
            "388:\tlearn: 0.0023441\ttotal: 6.95s\tremaining: 197ms\n",
            "389:\tlearn: 0.0023441\ttotal: 6.96s\tremaining: 178ms\n",
            "390:\tlearn: 0.0023440\ttotal: 6.97s\tremaining: 160ms\n",
            "391:\tlearn: 0.0023440\ttotal: 6.97s\tremaining: 142ms\n",
            "392:\tlearn: 0.0023440\ttotal: 6.98s\tremaining: 124ms\n",
            "393:\tlearn: 0.0023440\ttotal: 6.99s\tremaining: 106ms\n",
            "394:\tlearn: 0.0023440\ttotal: 7s\tremaining: 88.6ms\n",
            "395:\tlearn: 0.0023440\ttotal: 7s\tremaining: 70.8ms\n",
            "396:\tlearn: 0.0023440\ttotal: 7.01s\tremaining: 53ms\n",
            "397:\tlearn: 0.0023440\ttotal: 7.02s\tremaining: 35.3ms\n",
            "398:\tlearn: 0.0023440\ttotal: 7.03s\tremaining: 17.6ms\n",
            "399:\tlearn: 0.0023440\ttotal: 7.04s\tremaining: 0us\n"
          ]
        }
      ],
      "source": [
        "from catboost import CatBoostClassifier\n",
        "\n",
        "catb = CatBoostClassifier(iterations=400, learning_rate=0.1, max_depth=3)\n",
        "catb.fit(train_pool)\n",
        "catb_preds = catb.predict(test_pool)\n",
        "catb_pred_proba = catb.predict_proba(test_pool)[:,1]"
      ]
    },
    {
      "cell_type": "markdown",
      "metadata": {
        "id": "JOj-GyVVnL-6"
      },
      "source": [
        "### 예측 성능을 평가하시오."
      ]
    },
    {
      "cell_type": "code",
      "execution_count": null,
      "metadata": {
        "id": "RXvdvaOYOabl",
        "colab": {
          "base_uri": "https://localhost:8080/"
        },
        "outputId": "8f58c510-918c-425b-b32d-49c7c1ee9a47"
      },
      "outputs": [
        {
          "output_type": "execute_result",
          "data": {
            "text/plain": [
              "0.9987692307692307"
            ]
          },
          "metadata": {},
          "execution_count": 62
        }
      ],
      "source": [
        "accuracy_score(y_test, catb_preds)"
      ]
    },
    {
      "cell_type": "code",
      "source": [
        ""
      ],
      "metadata": {
        "id": "anVX6_rA8hST"
      },
      "execution_count": null,
      "outputs": []
    }
  ],
  "metadata": {
    "colab": {
      "collapsed_sections": [],
      "name": "DA_Week4_복습과제_오수진.ipynb",
      "provenance": []
    },
    "kernelspec": {
      "display_name": "Python 3",
      "language": "python",
      "name": "python3"
    },
    "language_info": {
      "codemirror_mode": {
        "name": "ipython",
        "version": 3
      },
      "file_extension": ".py",
      "mimetype": "text/x-python",
      "name": "python",
      "nbconvert_exporter": "python",
      "pygments_lexer": "ipython3",
      "version": "3.8.3"
    },
    "toc": {
      "base_numbering": 1,
      "nav_menu": {},
      "number_sections": true,
      "sideBar": true,
      "skip_h1_title": false,
      "title_cell": "Table of Contents",
      "title_sidebar": "Contents",
      "toc_cell": false,
      "toc_position": {},
      "toc_section_display": true,
      "toc_window_display": false
    },
    "varInspector": {
      "cols": {
        "lenName": 16,
        "lenType": 16,
        "lenVar": 40
      },
      "kernels_config": {
        "python": {
          "delete_cmd_postfix": "",
          "delete_cmd_prefix": "del ",
          "library": "var_list.py",
          "varRefreshCmd": "print(var_dic_list())"
        },
        "r": {
          "delete_cmd_postfix": ") ",
          "delete_cmd_prefix": "rm(",
          "library": "var_list.r",
          "varRefreshCmd": "cat(var_dic_list()) "
        }
      },
      "types_to_exclude": [
        "module",
        "function",
        "builtin_function_or_method",
        "instance",
        "_Feature"
      ],
      "window_display": false
    }
  },
  "nbformat": 4,
  "nbformat_minor": 0
}