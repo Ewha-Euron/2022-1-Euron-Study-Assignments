{
  "metadata": {
    "kernelspec": {
      "language": "python",
      "display_name": "Python 3",
      "name": "python3"
    },
    "language_info": {
      "name": "python",
      "version": "3.7.12",
      "mimetype": "text/x-python",
      "codemirror_mode": {
        "name": "ipython",
        "version": 3
      },
      "pygments_lexer": "ipython3",
      "nbconvert_exporter": "python",
      "file_extension": ".py"
    },
    "colab": {
      "name": "covid-19-tweets-analysis.ipynb",
      "provenance": []
    },
    "accelerator": "GPU"
  },
  "nbformat_minor": 0,
  "nbformat": 4,
  "cells": [
    {
      "cell_type": "code",
      "source": [
        "from google.colab import drive\n",
        "drive.mount('/content/drive')"
      ],
      "metadata": {
        "colab": {
          "base_uri": "https://localhost:8080/"
        },
        "id": "rLcPfzsCigVP",
        "outputId": "2b63004f-e067-49f9-a2a3-8779a71edce9"
      },
      "execution_count": 3,
      "outputs": [
        {
          "output_type": "stream",
          "name": "stdout",
          "text": [
            "Drive already mounted at /content/drive; to attempt to forcibly remount, call drive.mount(\"/content/drive\", force_remount=True).\n"
          ]
        }
      ]
    },
    {
      "cell_type": "markdown",
      "source": [
        "### Loading Necessary libraries"
      ],
      "metadata": {
        "id": "Cm3z7Rf6iAfJ"
      }
    },
    {
      "cell_type": "code",
      "source": [
        "import nltk\n",
        "from nltk.corpus import stopwords # 불용어(의미 없는 단어 토큰 제거. ex, 조사, 접미사)\n",
        "from nltk.stem.porter import PorterStemmer #어간(stem)추출: 단어를 원형으로 표기 (knowing -> know)\n",
        "from wordcloud import WordCloud, STOPWORDS \n",
        "from nltk.stem import WordNetLemmatizer #접사(affix)추출: 단어에 추가적인 의미를 주는 부분 (likes -> like)\n",
        "from nltk.tokenize import word_tokenize, sent_tokenize # 말뭉치(corpus)를 토큰으로 나누는 것 (단어 토큰화, 문장 토큰화)\n",
        "from bs4 import BeautifulSoup\n",
        "import re, string, unicodedata\n",
        "from keras.preprocessing import text, sequence\n",
        "from sklearn.metrics import classification_report, confusion_matrix, accuracy_score\n",
        "from sklearn.model_selection import train_test_split\n",
        "from string import punctuation # , !, ?, . 와 같은 구두점 제거\n",
        "import keras\n",
        "from keras.models import Sequential\n",
        "import tensorflow as tf\n",
        "\n",
        "import matplotlib.pyplot as plt\n",
        "import seaborn as sns\n",
        "\n",
        "from tensorflow.keras.preprocessing.text import Tokenizer\n",
        "from tensorflow.keras.preprocessing.sequence import pad_sequences\n",
        "\n",
        "import tensorflow as tf\n",
        "import numpy as np # linear algebra\n",
        "import pandas as pd"
      ],
      "metadata": {
        "execution": {
          "iopub.status.busy": "2022-05-05T09:04:50.124440Z",
          "iopub.execute_input": "2022-05-05T09:04:50.124742Z",
          "iopub.status.idle": "2022-05-05T09:04:51.376963Z",
          "shell.execute_reply.started": "2022-05-05T09:04:50.124714Z",
          "shell.execute_reply": "2022-05-05T09:04:51.376233Z"
        },
        "trusted": true,
        "id": "UzOMx4ZmiAfK"
      },
      "execution_count": 4,
      "outputs": []
    },
    {
      "cell_type": "markdown",
      "source": [
        "### Reading the dataset"
      ],
      "metadata": {
        "id": "WIfPipG4iAfL"
      }
    },
    {
      "cell_type": "code",
      "source": [
        "train_data = pd.read_csv('/content/drive/MyDrive/Colab Notebooks/Euron/Covid-NLP/Corona_NLP_train.csv', encoding='latin_1')\n",
        "test_data = pd.read_csv(\"/content/drive/MyDrive/Colab Notebooks/Euron/Covid-NLP/Corona_NLP_test.csv\",encoding='latin_1')"
      ],
      "metadata": {
        "execution": {
          "iopub.status.busy": "2022-05-05T09:04:51.378731Z",
          "iopub.execute_input": "2022-05-05T09:04:51.379010Z",
          "iopub.status.idle": "2022-05-05T09:04:51.641159Z",
          "shell.execute_reply.started": "2022-05-05T09:04:51.378975Z",
          "shell.execute_reply": "2022-05-05T09:04:51.640422Z"
        },
        "trusted": true,
        "id": "hiYvutaQiAfL"
      },
      "execution_count": 5,
      "outputs": []
    },
    {
      "cell_type": "code",
      "source": [
        "train_data.head()"
      ],
      "metadata": {
        "execution": {
          "iopub.status.busy": "2022-05-05T09:04:51.642584Z",
          "iopub.execute_input": "2022-05-05T09:04:51.642828Z",
          "iopub.status.idle": "2022-05-05T09:04:51.663358Z",
          "shell.execute_reply.started": "2022-05-05T09:04:51.642795Z",
          "shell.execute_reply": "2022-05-05T09:04:51.662748Z"
        },
        "trusted": true,
        "colab": {
          "base_uri": "https://localhost:8080/",
          "height": 371
        },
        "id": "DPfiG0tqiAfL",
        "outputId": "e10f6a55-2579-4b0e-c832-69d9d666eb99"
      },
      "execution_count": 6,
      "outputs": [
        {
          "output_type": "execute_result",
          "data": {
            "text/plain": [
              "   UserName  ScreenName   Location     TweetAt  \\\n",
              "0      3799       48751     London  16-03-2020   \n",
              "1      3800       48752         UK  16-03-2020   \n",
              "2      3801       48753  Vagabonds  16-03-2020   \n",
              "3      3802       48754        NaN  16-03-2020   \n",
              "4      3803       48755        NaN  16-03-2020   \n",
              "\n",
              "                                       OriginalTweet           Sentiment  \n",
              "0  @MeNyrbie @Phil_Gahan @Chrisitv https://t.co/i...             Neutral  \n",
              "1  advice Talk to your neighbours family to excha...            Positive  \n",
              "2  Coronavirus Australia: Woolworths to give elde...            Positive  \n",
              "3  My food stock is not the only one which is emp...            Positive  \n",
              "4  Me, ready to go at supermarket during the #COV...  Extremely Negative  "
            ],
            "text/html": [
              "\n",
              "  <div id=\"df-0c21d0c5-a70f-4475-8e18-57a4bad1523d\">\n",
              "    <div class=\"colab-df-container\">\n",
              "      <div>\n",
              "<style scoped>\n",
              "    .dataframe tbody tr th:only-of-type {\n",
              "        vertical-align: middle;\n",
              "    }\n",
              "\n",
              "    .dataframe tbody tr th {\n",
              "        vertical-align: top;\n",
              "    }\n",
              "\n",
              "    .dataframe thead th {\n",
              "        text-align: right;\n",
              "    }\n",
              "</style>\n",
              "<table border=\"1\" class=\"dataframe\">\n",
              "  <thead>\n",
              "    <tr style=\"text-align: right;\">\n",
              "      <th></th>\n",
              "      <th>UserName</th>\n",
              "      <th>ScreenName</th>\n",
              "      <th>Location</th>\n",
              "      <th>TweetAt</th>\n",
              "      <th>OriginalTweet</th>\n",
              "      <th>Sentiment</th>\n",
              "    </tr>\n",
              "  </thead>\n",
              "  <tbody>\n",
              "    <tr>\n",
              "      <th>0</th>\n",
              "      <td>3799</td>\n",
              "      <td>48751</td>\n",
              "      <td>London</td>\n",
              "      <td>16-03-2020</td>\n",
              "      <td>@MeNyrbie @Phil_Gahan @Chrisitv https://t.co/i...</td>\n",
              "      <td>Neutral</td>\n",
              "    </tr>\n",
              "    <tr>\n",
              "      <th>1</th>\n",
              "      <td>3800</td>\n",
              "      <td>48752</td>\n",
              "      <td>UK</td>\n",
              "      <td>16-03-2020</td>\n",
              "      <td>advice Talk to your neighbours family to excha...</td>\n",
              "      <td>Positive</td>\n",
              "    </tr>\n",
              "    <tr>\n",
              "      <th>2</th>\n",
              "      <td>3801</td>\n",
              "      <td>48753</td>\n",
              "      <td>Vagabonds</td>\n",
              "      <td>16-03-2020</td>\n",
              "      <td>Coronavirus Australia: Woolworths to give elde...</td>\n",
              "      <td>Positive</td>\n",
              "    </tr>\n",
              "    <tr>\n",
              "      <th>3</th>\n",
              "      <td>3802</td>\n",
              "      <td>48754</td>\n",
              "      <td>NaN</td>\n",
              "      <td>16-03-2020</td>\n",
              "      <td>My food stock is not the only one which is emp...</td>\n",
              "      <td>Positive</td>\n",
              "    </tr>\n",
              "    <tr>\n",
              "      <th>4</th>\n",
              "      <td>3803</td>\n",
              "      <td>48755</td>\n",
              "      <td>NaN</td>\n",
              "      <td>16-03-2020</td>\n",
              "      <td>Me, ready to go at supermarket during the #COV...</td>\n",
              "      <td>Extremely Negative</td>\n",
              "    </tr>\n",
              "  </tbody>\n",
              "</table>\n",
              "</div>\n",
              "      <button class=\"colab-df-convert\" onclick=\"convertToInteractive('df-0c21d0c5-a70f-4475-8e18-57a4bad1523d')\"\n",
              "              title=\"Convert this dataframe to an interactive table.\"\n",
              "              style=\"display:none;\">\n",
              "        \n",
              "  <svg xmlns=\"http://www.w3.org/2000/svg\" height=\"24px\"viewBox=\"0 0 24 24\"\n",
              "       width=\"24px\">\n",
              "    <path d=\"M0 0h24v24H0V0z\" fill=\"none\"/>\n",
              "    <path d=\"M18.56 5.44l.94 2.06.94-2.06 2.06-.94-2.06-.94-.94-2.06-.94 2.06-2.06.94zm-11 1L8.5 8.5l.94-2.06 2.06-.94-2.06-.94L8.5 2.5l-.94 2.06-2.06.94zm10 10l.94 2.06.94-2.06 2.06-.94-2.06-.94-.94-2.06-.94 2.06-2.06.94z\"/><path d=\"M17.41 7.96l-1.37-1.37c-.4-.4-.92-.59-1.43-.59-.52 0-1.04.2-1.43.59L10.3 9.45l-7.72 7.72c-.78.78-.78 2.05 0 2.83L4 21.41c.39.39.9.59 1.41.59.51 0 1.02-.2 1.41-.59l7.78-7.78 2.81-2.81c.8-.78.8-2.07 0-2.86zM5.41 20L4 18.59l7.72-7.72 1.47 1.35L5.41 20z\"/>\n",
              "  </svg>\n",
              "      </button>\n",
              "      \n",
              "  <style>\n",
              "    .colab-df-container {\n",
              "      display:flex;\n",
              "      flex-wrap:wrap;\n",
              "      gap: 12px;\n",
              "    }\n",
              "\n",
              "    .colab-df-convert {\n",
              "      background-color: #E8F0FE;\n",
              "      border: none;\n",
              "      border-radius: 50%;\n",
              "      cursor: pointer;\n",
              "      display: none;\n",
              "      fill: #1967D2;\n",
              "      height: 32px;\n",
              "      padding: 0 0 0 0;\n",
              "      width: 32px;\n",
              "    }\n",
              "\n",
              "    .colab-df-convert:hover {\n",
              "      background-color: #E2EBFA;\n",
              "      box-shadow: 0px 1px 2px rgba(60, 64, 67, 0.3), 0px 1px 3px 1px rgba(60, 64, 67, 0.15);\n",
              "      fill: #174EA6;\n",
              "    }\n",
              "\n",
              "    [theme=dark] .colab-df-convert {\n",
              "      background-color: #3B4455;\n",
              "      fill: #D2E3FC;\n",
              "    }\n",
              "\n",
              "    [theme=dark] .colab-df-convert:hover {\n",
              "      background-color: #434B5C;\n",
              "      box-shadow: 0px 1px 3px 1px rgba(0, 0, 0, 0.15);\n",
              "      filter: drop-shadow(0px 1px 2px rgba(0, 0, 0, 0.3));\n",
              "      fill: #FFFFFF;\n",
              "    }\n",
              "  </style>\n",
              "\n",
              "      <script>\n",
              "        const buttonEl =\n",
              "          document.querySelector('#df-0c21d0c5-a70f-4475-8e18-57a4bad1523d button.colab-df-convert');\n",
              "        buttonEl.style.display =\n",
              "          google.colab.kernel.accessAllowed ? 'block' : 'none';\n",
              "\n",
              "        async function convertToInteractive(key) {\n",
              "          const element = document.querySelector('#df-0c21d0c5-a70f-4475-8e18-57a4bad1523d');\n",
              "          const dataTable =\n",
              "            await google.colab.kernel.invokeFunction('convertToInteractive',\n",
              "                                                     [key], {});\n",
              "          if (!dataTable) return;\n",
              "\n",
              "          const docLinkHtml = 'Like what you see? Visit the ' +\n",
              "            '<a target=\"_blank\" href=https://colab.research.google.com/notebooks/data_table.ipynb>data table notebook</a>'\n",
              "            + ' to learn more about interactive tables.';\n",
              "          element.innerHTML = '';\n",
              "          dataTable['output_type'] = 'display_data';\n",
              "          await google.colab.output.renderOutput(dataTable, element);\n",
              "          const docLink = document.createElement('div');\n",
              "          docLink.innerHTML = docLinkHtml;\n",
              "          element.appendChild(docLink);\n",
              "        }\n",
              "      </script>\n",
              "    </div>\n",
              "  </div>\n",
              "  "
            ]
          },
          "metadata": {},
          "execution_count": 6
        }
      ]
    },
    {
      "cell_type": "code",
      "source": [
        "test_data.head()"
      ],
      "metadata": {
        "execution": {
          "iopub.status.busy": "2022-05-05T09:04:51.666378Z",
          "iopub.execute_input": "2022-05-05T09:04:51.666573Z",
          "iopub.status.idle": "2022-05-05T09:04:51.677566Z",
          "shell.execute_reply.started": "2022-05-05T09:04:51.666549Z",
          "shell.execute_reply": "2022-05-05T09:04:51.676923Z"
        },
        "trusted": true,
        "colab": {
          "base_uri": "https://localhost:8080/",
          "height": 424
        },
        "id": "noH6tp6KiAfM",
        "outputId": "63cb1576-cbbd-4727-cc23-a579c8b046ce"
      },
      "execution_count": 7,
      "outputs": [
        {
          "output_type": "execute_result",
          "data": {
            "text/plain": [
              "   UserName  ScreenName             Location     TweetAt  \\\n",
              "0         1       44953                  NYC  02-03-2020   \n",
              "1         2       44954          Seattle, WA  02-03-2020   \n",
              "2         3       44955                  NaN  02-03-2020   \n",
              "3         4       44956          Chicagoland  02-03-2020   \n",
              "4         5       44957  Melbourne, Victoria  03-03-2020   \n",
              "\n",
              "                                       OriginalTweet           Sentiment  \n",
              "0  TRENDING: New Yorkers encounter empty supermar...  Extremely Negative  \n",
              "1  When I couldn't find hand sanitizer at Fred Me...            Positive  \n",
              "2  Find out how you can protect yourself and love...  Extremely Positive  \n",
              "3  #Panic buying hits #NewYork City as anxious sh...            Negative  \n",
              "4  #toiletpaper #dunnypaper #coronavirus #coronav...             Neutral  "
            ],
            "text/html": [
              "\n",
              "  <div id=\"df-e72e5afa-977c-4091-8716-142736fc9dc7\">\n",
              "    <div class=\"colab-df-container\">\n",
              "      <div>\n",
              "<style scoped>\n",
              "    .dataframe tbody tr th:only-of-type {\n",
              "        vertical-align: middle;\n",
              "    }\n",
              "\n",
              "    .dataframe tbody tr th {\n",
              "        vertical-align: top;\n",
              "    }\n",
              "\n",
              "    .dataframe thead th {\n",
              "        text-align: right;\n",
              "    }\n",
              "</style>\n",
              "<table border=\"1\" class=\"dataframe\">\n",
              "  <thead>\n",
              "    <tr style=\"text-align: right;\">\n",
              "      <th></th>\n",
              "      <th>UserName</th>\n",
              "      <th>ScreenName</th>\n",
              "      <th>Location</th>\n",
              "      <th>TweetAt</th>\n",
              "      <th>OriginalTweet</th>\n",
              "      <th>Sentiment</th>\n",
              "    </tr>\n",
              "  </thead>\n",
              "  <tbody>\n",
              "    <tr>\n",
              "      <th>0</th>\n",
              "      <td>1</td>\n",
              "      <td>44953</td>\n",
              "      <td>NYC</td>\n",
              "      <td>02-03-2020</td>\n",
              "      <td>TRENDING: New Yorkers encounter empty supermar...</td>\n",
              "      <td>Extremely Negative</td>\n",
              "    </tr>\n",
              "    <tr>\n",
              "      <th>1</th>\n",
              "      <td>2</td>\n",
              "      <td>44954</td>\n",
              "      <td>Seattle, WA</td>\n",
              "      <td>02-03-2020</td>\n",
              "      <td>When I couldn't find hand sanitizer at Fred Me...</td>\n",
              "      <td>Positive</td>\n",
              "    </tr>\n",
              "    <tr>\n",
              "      <th>2</th>\n",
              "      <td>3</td>\n",
              "      <td>44955</td>\n",
              "      <td>NaN</td>\n",
              "      <td>02-03-2020</td>\n",
              "      <td>Find out how you can protect yourself and love...</td>\n",
              "      <td>Extremely Positive</td>\n",
              "    </tr>\n",
              "    <tr>\n",
              "      <th>3</th>\n",
              "      <td>4</td>\n",
              "      <td>44956</td>\n",
              "      <td>Chicagoland</td>\n",
              "      <td>02-03-2020</td>\n",
              "      <td>#Panic buying hits #NewYork City as anxious sh...</td>\n",
              "      <td>Negative</td>\n",
              "    </tr>\n",
              "    <tr>\n",
              "      <th>4</th>\n",
              "      <td>5</td>\n",
              "      <td>44957</td>\n",
              "      <td>Melbourne, Victoria</td>\n",
              "      <td>03-03-2020</td>\n",
              "      <td>#toiletpaper #dunnypaper #coronavirus #coronav...</td>\n",
              "      <td>Neutral</td>\n",
              "    </tr>\n",
              "  </tbody>\n",
              "</table>\n",
              "</div>\n",
              "      <button class=\"colab-df-convert\" onclick=\"convertToInteractive('df-e72e5afa-977c-4091-8716-142736fc9dc7')\"\n",
              "              title=\"Convert this dataframe to an interactive table.\"\n",
              "              style=\"display:none;\">\n",
              "        \n",
              "  <svg xmlns=\"http://www.w3.org/2000/svg\" height=\"24px\"viewBox=\"0 0 24 24\"\n",
              "       width=\"24px\">\n",
              "    <path d=\"M0 0h24v24H0V0z\" fill=\"none\"/>\n",
              "    <path d=\"M18.56 5.44l.94 2.06.94-2.06 2.06-.94-2.06-.94-.94-2.06-.94 2.06-2.06.94zm-11 1L8.5 8.5l.94-2.06 2.06-.94-2.06-.94L8.5 2.5l-.94 2.06-2.06.94zm10 10l.94 2.06.94-2.06 2.06-.94-2.06-.94-.94-2.06-.94 2.06-2.06.94z\"/><path d=\"M17.41 7.96l-1.37-1.37c-.4-.4-.92-.59-1.43-.59-.52 0-1.04.2-1.43.59L10.3 9.45l-7.72 7.72c-.78.78-.78 2.05 0 2.83L4 21.41c.39.39.9.59 1.41.59.51 0 1.02-.2 1.41-.59l7.78-7.78 2.81-2.81c.8-.78.8-2.07 0-2.86zM5.41 20L4 18.59l7.72-7.72 1.47 1.35L5.41 20z\"/>\n",
              "  </svg>\n",
              "      </button>\n",
              "      \n",
              "  <style>\n",
              "    .colab-df-container {\n",
              "      display:flex;\n",
              "      flex-wrap:wrap;\n",
              "      gap: 12px;\n",
              "    }\n",
              "\n",
              "    .colab-df-convert {\n",
              "      background-color: #E8F0FE;\n",
              "      border: none;\n",
              "      border-radius: 50%;\n",
              "      cursor: pointer;\n",
              "      display: none;\n",
              "      fill: #1967D2;\n",
              "      height: 32px;\n",
              "      padding: 0 0 0 0;\n",
              "      width: 32px;\n",
              "    }\n",
              "\n",
              "    .colab-df-convert:hover {\n",
              "      background-color: #E2EBFA;\n",
              "      box-shadow: 0px 1px 2px rgba(60, 64, 67, 0.3), 0px 1px 3px 1px rgba(60, 64, 67, 0.15);\n",
              "      fill: #174EA6;\n",
              "    }\n",
              "\n",
              "    [theme=dark] .colab-df-convert {\n",
              "      background-color: #3B4455;\n",
              "      fill: #D2E3FC;\n",
              "    }\n",
              "\n",
              "    [theme=dark] .colab-df-convert:hover {\n",
              "      background-color: #434B5C;\n",
              "      box-shadow: 0px 1px 3px 1px rgba(0, 0, 0, 0.15);\n",
              "      filter: drop-shadow(0px 1px 2px rgba(0, 0, 0, 0.3));\n",
              "      fill: #FFFFFF;\n",
              "    }\n",
              "  </style>\n",
              "\n",
              "      <script>\n",
              "        const buttonEl =\n",
              "          document.querySelector('#df-e72e5afa-977c-4091-8716-142736fc9dc7 button.colab-df-convert');\n",
              "        buttonEl.style.display =\n",
              "          google.colab.kernel.accessAllowed ? 'block' : 'none';\n",
              "\n",
              "        async function convertToInteractive(key) {\n",
              "          const element = document.querySelector('#df-e72e5afa-977c-4091-8716-142736fc9dc7');\n",
              "          const dataTable =\n",
              "            await google.colab.kernel.invokeFunction('convertToInteractive',\n",
              "                                                     [key], {});\n",
              "          if (!dataTable) return;\n",
              "\n",
              "          const docLinkHtml = 'Like what you see? Visit the ' +\n",
              "            '<a target=\"_blank\" href=https://colab.research.google.com/notebooks/data_table.ipynb>data table notebook</a>'\n",
              "            + ' to learn more about interactive tables.';\n",
              "          element.innerHTML = '';\n",
              "          dataTable['output_type'] = 'display_data';\n",
              "          await google.colab.output.renderOutput(dataTable, element);\n",
              "          const docLink = document.createElement('div');\n",
              "          docLink.innerHTML = docLinkHtml;\n",
              "          element.appendChild(docLink);\n",
              "        }\n",
              "      </script>\n",
              "    </div>\n",
              "  </div>\n",
              "  "
            ]
          },
          "metadata": {},
          "execution_count": 7
        }
      ]
    },
    {
      "cell_type": "markdown",
      "source": [
        "### Check for any null values"
      ],
      "metadata": {
        "id": "Ohcjb0XaiAfM"
      }
    },
    {
      "cell_type": "code",
      "source": [
        "# check for null value in train_data\n",
        "sns.heatmap(train_data.isnull())"
      ],
      "metadata": {
        "execution": {
          "iopub.status.busy": "2022-05-05T09:04:51.678878Z",
          "iopub.execute_input": "2022-05-05T09:04:51.679130Z",
          "iopub.status.idle": "2022-05-05T09:04:52.328130Z",
          "shell.execute_reply.started": "2022-05-05T09:04:51.679095Z",
          "shell.execute_reply": "2022-05-05T09:04:52.327420Z"
        },
        "trusted": true,
        "colab": {
          "base_uri": "https://localhost:8080/",
          "height": 346
        },
        "id": "yCU9tf5wiAfM",
        "outputId": "47841ae5-b7f4-4015-ad97-4708927efe41"
      },
      "execution_count": 8,
      "outputs": [
        {
          "output_type": "execute_result",
          "data": {
            "text/plain": [
              "<matplotlib.axes._subplots.AxesSubplot at 0x7fc48132bed0>"
            ]
          },
          "metadata": {},
          "execution_count": 8
        },
        {
          "output_type": "display_data",
          "data": {
            "text/plain": [
              "<Figure size 432x288 with 2 Axes>"
            ],
            "image/png": "[encoded data removed]"
          },
          "metadata": {
            "needs_background": "light"
          }
        }
      ]
    },
    {
      "cell_type": "code",
      "source": [
        "# check for null value in test_data\n",
        "sns.heatmap(test_data.isnull())"
      ],
      "metadata": {
        "execution": {
          "iopub.status.busy": "2022-05-05T09:04:52.329489Z",
          "iopub.execute_input": "2022-05-05T09:04:52.329942Z",
          "iopub.status.idle": "2022-05-05T09:04:52.681592Z",
          "shell.execute_reply.started": "2022-05-05T09:04:52.329904Z",
          "shell.execute_reply": "2022-05-05T09:04:52.680908Z"
        },
        "trusted": true,
        "colab": {
          "base_uri": "https://localhost:8080/",
          "height": 346
        },
        "id": "xtkO9rnPiAfM",
        "outputId": "ce87c305-d696-485e-f2d4-69023c4c457b"
      },
      "execution_count": 9,
      "outputs": [
        {
          "output_type": "execute_result",
          "data": {
            "text/plain": [
              "<matplotlib.axes._subplots.AxesSubplot at 0x7fc4824e8310>"
            ]
          },
          "metadata": {},
          "execution_count": 9
        },
        {
          "output_type": "display_data",
          "data": {
            "text/plain": [
              "<Figure size 432x288 with 2 Axes>"
            ],
            "image/png": "[encoded data removed]"
          },
          "metadata": {
            "needs_background": "light"
          }
        }
      ]
    },
    {
      "cell_type": "markdown",
      "source": [
        "### drop duplicate and 'NA' values"
      ],
      "metadata": {
        "id": "lg90IMN_iAfN"
      }
    },
    {
      "cell_type": "code",
      "source": [
        "train_data.drop_duplicates(inplace = True)\n",
        "test_data.drop_duplicates(inplace = True)"
      ],
      "metadata": {
        "execution": {
          "iopub.status.busy": "2022-05-05T09:04:52.682978Z",
          "iopub.execute_input": "2022-05-05T09:04:52.683232Z",
          "iopub.status.idle": "2022-05-05T09:04:52.745569Z",
          "shell.execute_reply.started": "2022-05-05T09:04:52.683198Z",
          "shell.execute_reply": "2022-05-05T09:04:52.744905Z"
        },
        "trusted": true,
        "id": "bhQyw4rLiAfN"
      },
      "execution_count": 10,
      "outputs": []
    },
    {
      "cell_type": "code",
      "source": [
        "train_data.dropna(inplace = True)\n",
        "test_data.dropna(inplace = True)"
      ],
      "metadata": {
        "execution": {
          "iopub.status.busy": "2022-05-05T09:04:52.746669Z",
          "iopub.execute_input": "2022-05-05T09:04:52.746939Z",
          "iopub.status.idle": "2022-05-05T09:04:52.774287Z",
          "shell.execute_reply.started": "2022-05-05T09:04:52.746904Z",
          "shell.execute_reply": "2022-05-05T09:04:52.773650Z"
        },
        "trusted": true,
        "id": "u6afnOQZiAfN"
      },
      "execution_count": 11,
      "outputs": []
    },
    {
      "cell_type": "markdown",
      "source": [
        "### Making checkpoint"
      ],
      "metadata": {
        "id": "XKtlf3v2iAfN"
      }
    },
    {
      "cell_type": "code",
      "source": [
        "train_df = train_data.copy()\n",
        "test_df = test_data.copy()"
      ],
      "metadata": {
        "execution": {
          "iopub.status.busy": "2022-05-05T09:04:52.775475Z",
          "iopub.execute_input": "2022-05-05T09:04:52.776271Z",
          "iopub.status.idle": "2022-05-05T09:04:52.780950Z",
          "shell.execute_reply.started": "2022-05-05T09:04:52.776235Z",
          "shell.execute_reply": "2022-05-05T09:04:52.780261Z"
        },
        "trusted": true,
        "id": "1_ICnNMtiAfN"
      },
      "execution_count": 12,
      "outputs": []
    },
    {
      "cell_type": "code",
      "source": [
        "train_df.head()"
      ],
      "metadata": {
        "execution": {
          "iopub.status.busy": "2022-05-05T09:04:52.784454Z",
          "iopub.execute_input": "2022-05-05T09:04:52.784670Z",
          "iopub.status.idle": "2022-05-05T09:04:52.957582Z",
          "shell.execute_reply.started": "2022-05-05T09:04:52.784648Z",
          "shell.execute_reply": "2022-05-05T09:04:52.956723Z"
        },
        "trusted": true,
        "colab": {
          "base_uri": "https://localhost:8080/",
          "height": 496
        },
        "id": "VBmsBScXiAfN",
        "outputId": "b2a0de79-6e3f-4284-8498-2a599cbac2fc"
      },
      "execution_count": 13,
      "outputs": [
        {
          "output_type": "execute_result",
          "data": {
            "text/plain": [
              "   UserName  ScreenName                   Location     TweetAt  \\\n",
              "0      3799       48751                     London  16-03-2020   \n",
              "1      3800       48752                         UK  16-03-2020   \n",
              "2      3801       48753                  Vagabonds  16-03-2020   \n",
              "5      3804       48756  ÃT: 36.319708,-82.363649  16-03-2020   \n",
              "6      3805       48757       35.926541,-78.753267  16-03-2020   \n",
              "\n",
              "                                       OriginalTweet Sentiment  \n",
              "0  @MeNyrbie @Phil_Gahan @Chrisitv https://t.co/i...   Neutral  \n",
              "1  advice Talk to your neighbours family to excha...  Positive  \n",
              "2  Coronavirus Australia: Woolworths to give elde...  Positive  \n",
              "5  As news of the regionÂs first confirmed COVID...  Positive  \n",
              "6  Cashier at grocery store was sharing his insig...  Positive  "
            ],
            "text/html": [
              "\n",
              "  <div id=\"df-b643ba03-61f3-40bb-90eb-6da2afdf72a2\">\n",
              "    <div class=\"colab-df-container\">\n",
              "      <div>\n",
              "<style scoped>\n",
              "    .dataframe tbody tr th:only-of-type {\n",
              "        vertical-align: middle;\n",
              "    }\n",
              "\n",
              "    .dataframe tbody tr th {\n",
              "        vertical-align: top;\n",
              "    }\n",
              "\n",
              "    .dataframe thead th {\n",
              "        text-align: right;\n",
              "    }\n",
              "</style>\n",
              "<table border=\"1\" class=\"dataframe\">\n",
              "  <thead>\n",
              "    <tr style=\"text-align: right;\">\n",
              "      <th></th>\n",
              "      <th>UserName</th>\n",
              "      <th>ScreenName</th>\n",
              "      <th>Location</th>\n",
              "      <th>TweetAt</th>\n",
              "      <th>OriginalTweet</th>\n",
              "      <th>Sentiment</th>\n",
              "    </tr>\n",
              "  </thead>\n",
              "  <tbody>\n",
              "    <tr>\n",
              "      <th>0</th>\n",
              "      <td>3799</td>\n",
              "      <td>48751</td>\n",
              "      <td>London</td>\n",
              "      <td>16-03-2020</td>\n",
              "      <td>@MeNyrbie @Phil_Gahan @Chrisitv https://t.co/i...</td>\n",
              "      <td>Neutral</td>\n",
              "    </tr>\n",
              "    <tr>\n",
              "      <th>1</th>\n",
              "      <td>3800</td>\n",
              "      <td>48752</td>\n",
              "      <td>UK</td>\n",
              "      <td>16-03-2020</td>\n",
              "      <td>advice Talk to your neighbours family to excha...</td>\n",
              "      <td>Positive</td>\n",
              "    </tr>\n",
              "    <tr>\n",
              "      <th>2</th>\n",
              "      <td>3801</td>\n",
              "      <td>48753</td>\n",
              "      <td>Vagabonds</td>\n",
              "      <td>16-03-2020</td>\n",
              "      <td>Coronavirus Australia: Woolworths to give elde...</td>\n",
              "      <td>Positive</td>\n",
              "    </tr>\n",
              "    <tr>\n",
              "      <th>5</th>\n",
              "      <td>3804</td>\n",
              "      <td>48756</td>\n",
              "      <td>ÃT: 36.319708,-82.363649</td>\n",
              "      <td>16-03-2020</td>\n",
              "      <td>As news of the regionÂs first confirmed COVID...</td>\n",
              "      <td>Positive</td>\n",
              "    </tr>\n",
              "    <tr>\n",
              "      <th>6</th>\n",
              "      <td>3805</td>\n",
              "      <td>48757</td>\n",
              "      <td>35.926541,-78.753267</td>\n",
              "      <td>16-03-2020</td>\n",
              "      <td>Cashier at grocery store was sharing his insig...</td>\n",
              "      <td>Positive</td>\n",
              "    </tr>\n",
              "  </tbody>\n",
              "</table>\n",
              "</div>\n",
              "      <button class=\"colab-df-convert\" onclick=\"convertToInteractive('df-b643ba03-61f3-40bb-90eb-6da2afdf72a2')\"\n",
              "              title=\"Convert this dataframe to an interactive table.\"\n",
              "              style=\"display:none;\">\n",
              "        \n",
              "  <svg xmlns=\"http://www.w3.org/2000/svg\" height=\"24px\"viewBox=\"0 0 24 24\"\n",
              "       width=\"24px\">\n",
              "    <path d=\"M0 0h24v24H0V0z\" fill=\"none\"/>\n",
              "    <path d=\"M18.56 5.44l.94 2.06.94-2.06 2.06-.94-2.06-.94-.94-2.06-.94 2.06-2.06.94zm-11 1L8.5 8.5l.94-2.06 2.06-.94-2.06-.94L8.5 2.5l-.94 2.06-2.06.94zm10 10l.94 2.06.94-2.06 2.06-.94-2.06-.94-.94-2.06-.94 2.06-2.06.94z\"/><path d=\"M17.41 7.96l-1.37-1.37c-.4-.4-.92-.59-1.43-.59-.52 0-1.04.2-1.43.59L10.3 9.45l-7.72 7.72c-.78.78-.78 2.05 0 2.83L4 21.41c.39.39.9.59 1.41.59.51 0 1.02-.2 1.41-.59l7.78-7.78 2.81-2.81c.8-.78.8-2.07 0-2.86zM5.41 20L4 18.59l7.72-7.72 1.47 1.35L5.41 20z\"/>\n",
              "  </svg>\n",
              "      </button>\n",
              "      \n",
              "  <style>\n",
              "    .colab-df-container {\n",
              "      display:flex;\n",
              "      flex-wrap:wrap;\n",
              "      gap: 12px;\n",
              "    }\n",
              "\n",
              "    .colab-df-convert {\n",
              "      background-color: #E8F0FE;\n",
              "      border: none;\n",
              "      border-radius: 50%;\n",
              "      cursor: pointer;\n",
              "      display: none;\n",
              "      fill: #1967D2;\n",
              "      height: 32px;\n",
              "      padding: 0 0 0 0;\n",
              "      width: 32px;\n",
              "    }\n",
              "\n",
              "    .colab-df-convert:hover {\n",
              "      background-color: #E2EBFA;\n",
              "      box-shadow: 0px 1px 2px rgba(60, 64, 67, 0.3), 0px 1px 3px 1px rgba(60, 64, 67, 0.15);\n",
              "      fill: #174EA6;\n",
              "    }\n",
              "\n",
              "    [theme=dark] .colab-df-convert {\n",
              "      background-color: #3B4455;\n",
              "      fill: #D2E3FC;\n",
              "    }\n",
              "\n",
              "    [theme=dark] .colab-df-convert:hover {\n",
              "      background-color: #434B5C;\n",
              "      box-shadow: 0px 1px 3px 1px rgba(0, 0, 0, 0.15);\n",
              "      filter: drop-shadow(0px 1px 2px rgba(0, 0, 0, 0.3));\n",
              "      fill: #FFFFFF;\n",
              "    }\n",
              "  </style>\n",
              "\n",
              "      <script>\n",
              "        const buttonEl =\n",
              "          document.querySelector('#df-b643ba03-61f3-40bb-90eb-6da2afdf72a2 button.colab-df-convert');\n",
              "        buttonEl.style.display =\n",
              "          google.colab.kernel.accessAllowed ? 'block' : 'none';\n",
              "\n",
              "        async function convertToInteractive(key) {\n",
              "          const element = document.querySelector('#df-b643ba03-61f3-40bb-90eb-6da2afdf72a2');\n",
              "          const dataTable =\n",
              "            await google.colab.kernel.invokeFunction('convertToInteractive',\n",
              "                                                     [key], {});\n",
              "          if (!dataTable) return;\n",
              "\n",
              "          const docLinkHtml = 'Like what you see? Visit the ' +\n",
              "            '<a target=\"_blank\" href=https://colab.research.google.com/notebooks/data_table.ipynb>data table notebook</a>'\n",
              "            + ' to learn more about interactive tables.';\n",
              "          element.innerHTML = '';\n",
              "          dataTable['output_type'] = 'display_data';\n",
              "          await google.colab.output.renderOutput(dataTable, element);\n",
              "          const docLink = document.createElement('div');\n",
              "          docLink.innerHTML = docLinkHtml;\n",
              "          element.appendChild(docLink);\n",
              "        }\n",
              "      </script>\n",
              "    </div>\n",
              "  </div>\n",
              "  "
            ]
          },
          "metadata": {},
          "execution_count": 13
        }
      ]
    },
    {
      "cell_type": "markdown",
      "source": [
        "### Check if any null value exists"
      ],
      "metadata": {
        "id": "RgSXBD9ZiAfO"
      }
    },
    {
      "cell_type": "code",
      "source": [
        "print(train_df.isnull().sum())\n",
        "print('*'*50)\n",
        "print(test_df.isnull().sum())"
      ],
      "metadata": {
        "execution": {
          "iopub.status.busy": "2022-05-05T09:04:52.959019Z",
          "iopub.execute_input": "2022-05-05T09:04:52.959457Z",
          "iopub.status.idle": "2022-05-05T09:04:52.983892Z",
          "shell.execute_reply.started": "2022-05-05T09:04:52.959418Z",
          "shell.execute_reply": "2022-05-05T09:04:52.983107Z"
        },
        "trusted": true,
        "colab": {
          "base_uri": "https://localhost:8080/"
        },
        "id": "ys1oyxbdiAfO",
        "outputId": "49492d92-0aaa-41fd-d643-5bcb081aca69"
      },
      "execution_count": 14,
      "outputs": [
        {
          "output_type": "stream",
          "name": "stdout",
          "text": [
            "UserName         0\n",
            "ScreenName       0\n",
            "Location         0\n",
            "TweetAt          0\n",
            "OriginalTweet    0\n",
            "Sentiment        0\n",
            "dtype: int64\n",
            "**************************************************\n",
            "UserName         0\n",
            "ScreenName       0\n",
            "Location         0\n",
            "TweetAt          0\n",
            "OriginalTweet    0\n",
            "Sentiment        0\n",
            "dtype: int64\n"
          ]
        }
      ]
    },
    {
      "cell_type": "code",
      "source": [
        "train_data.columns"
      ],
      "metadata": {
        "execution": {
          "iopub.status.busy": "2022-05-05T09:04:52.985136Z",
          "iopub.execute_input": "2022-05-05T09:04:52.985443Z",
          "iopub.status.idle": "2022-05-05T09:04:52.991074Z",
          "shell.execute_reply.started": "2022-05-05T09:04:52.985406Z",
          "shell.execute_reply": "2022-05-05T09:04:52.990284Z"
        },
        "trusted": true,
        "colab": {
          "base_uri": "https://localhost:8080/"
        },
        "id": "Jpj8B6BciAfO",
        "outputId": "767ef21a-ec91-43e0-9f12-9e08331fc1e0"
      },
      "execution_count": 15,
      "outputs": [
        {
          "output_type": "execute_result",
          "data": {
            "text/plain": [
              "Index(['UserName', 'ScreenName', 'Location', 'TweetAt', 'OriginalTweet',\n",
              "       'Sentiment'],\n",
              "      dtype='object')"
            ]
          },
          "metadata": {},
          "execution_count": 15
        }
      ]
    },
    {
      "cell_type": "markdown",
      "source": [
        "### performin small EDA"
      ],
      "metadata": {
        "id": "dSdD0Sy0iAfO"
      }
    },
    {
      "cell_type": "code",
      "source": [
        "sns.set_style('whitegrid')\n",
        "sns.set(rc={'figure.figsize':(11,4)})"
      ],
      "metadata": {
        "execution": {
          "iopub.status.busy": "2022-05-05T09:04:52.992453Z",
          "iopub.execute_input": "2022-05-05T09:04:52.992717Z",
          "iopub.status.idle": "2022-05-05T09:04:53.000280Z",
          "shell.execute_reply.started": "2022-05-05T09:04:52.992662Z",
          "shell.execute_reply": "2022-05-05T09:04:52.999302Z"
        },
        "trusted": true,
        "id": "X7Knh32iiAfP"
      },
      "execution_count": 16,
      "outputs": []
    },
    {
      "cell_type": "code",
      "source": [
        "sns.countplot(train_df['Sentiment'])"
      ],
      "metadata": {
        "execution": {
          "iopub.status.busy": "2022-05-05T09:04:53.001784Z",
          "iopub.execute_input": "2022-05-05T09:04:53.002068Z",
          "iopub.status.idle": "2022-05-05T09:04:53.239955Z",
          "shell.execute_reply.started": "2022-05-05T09:04:53.002033Z",
          "shell.execute_reply": "2022-05-05T09:04:53.239307Z"
        },
        "trusted": true,
        "colab": {
          "base_uri": "https://localhost:8080/",
          "height": 338
        },
        "id": "aGjiu3N-iAfP",
        "outputId": "08fe2c95-23a6-474f-946c-cc362399b558"
      },
      "execution_count": 17,
      "outputs": [
        {
          "output_type": "stream",
          "name": "stderr",
          "text": [
            "/usr/local/lib/python3.7/dist-packages/seaborn/_decorators.py:43: FutureWarning: Pass the following variable as a keyword arg: x. From version 0.12, the only valid positional argument will be `data`, and passing other arguments without an explicit keyword will result in an error or misinterpretation.\n",
            "  FutureWarning\n"
          ]
        },
        {
          "output_type": "execute_result",
          "data": {
            "text/plain": [
              "<matplotlib.axes._subplots.AxesSubplot at 0x7fc4812e0510>"
            ]
          },
          "metadata": {},
          "execution_count": 17
        },
        {
          "output_type": "display_data",
          "data": {
            "text/plain": [
              "<Figure size 792x288 with 1 Axes>"
            ],
            "image/png": "[encoded data removed]"
          },
          "metadata": {}
        }
      ]
    },
    {
      "cell_type": "code",
      "source": [
        "train_df.shape, test_df.shape"
      ],
      "metadata": {
        "execution": {
          "iopub.status.busy": "2022-05-05T09:04:53.241855Z",
          "iopub.execute_input": "2022-05-05T09:04:53.242254Z",
          "iopub.status.idle": "2022-05-05T09:04:53.248722Z",
          "shell.execute_reply.started": "2022-05-05T09:04:53.242219Z",
          "shell.execute_reply": "2022-05-05T09:04:53.247131Z"
        },
        "trusted": true,
        "colab": {
          "base_uri": "https://localhost:8080/"
        },
        "id": "fz7FR6uYiAfP",
        "outputId": "ef05de40-0371-475b-bcfd-ffb86894921d"
      },
      "execution_count": 18,
      "outputs": [
        {
          "output_type": "execute_result",
          "data": {
            "text/plain": [
              "((32567, 6), (2964, 6))"
            ]
          },
          "metadata": {},
          "execution_count": 18
        }
      ]
    },
    {
      "cell_type": "markdown",
      "source": [
        "**5개의 감정을 3개의 감정으로 축소**\n",
        "\n",
        "(강한 긍정 -> 긍정, 강한 부정 -> 부정, 중립)"
      ],
      "metadata": {
        "id": "4iUn4S4GiAfP"
      }
    },
    {
      "cell_type": "code",
      "source": [
        "def change_sen(sentiment):\n",
        "    if sentiment == 'Extremely Positive':\n",
        "        return 'positive'\n",
        "    elif sentiment == 'Extremely Negative':\n",
        "        return 'negative'\n",
        "    elif sentiment == 'Positive':\n",
        "        return 'positive'\n",
        "    elif sentiment == 'Negative':\n",
        "        return 'negative'\n",
        "    else:\n",
        "        return 'netural'"
      ],
      "metadata": {
        "execution": {
          "iopub.status.busy": "2022-05-05T09:04:53.249734Z",
          "iopub.execute_input": "2022-05-05T09:04:53.249928Z",
          "iopub.status.idle": "2022-05-05T09:04:53.258404Z",
          "shell.execute_reply.started": "2022-05-05T09:04:53.249903Z",
          "shell.execute_reply": "2022-05-05T09:04:53.257753Z"
        },
        "trusted": true,
        "id": "PZdahS-iiAfQ"
      },
      "execution_count": 19,
      "outputs": []
    },
    {
      "cell_type": "markdown",
      "source": [
        "Applying the change_sen function/method"
      ],
      "metadata": {
        "id": "pilhvxNriAfQ"
      }
    },
    {
      "cell_type": "code",
      "source": [
        "train_df['Sentiment'] = train_df['Sentiment'].apply(lambda x: change_sen(x))\n",
        "test_df['Sentiment'] = test_df['Sentiment'].apply(lambda x: change_sen(x))"
      ],
      "metadata": {
        "execution": {
          "iopub.status.busy": "2022-05-05T09:04:53.259671Z",
          "iopub.execute_input": "2022-05-05T09:04:53.260160Z",
          "iopub.status.idle": "2022-05-05T09:04:53.281023Z",
          "shell.execute_reply.started": "2022-05-05T09:04:53.260126Z",
          "shell.execute_reply": "2022-05-05T09:04:53.280369Z"
        },
        "trusted": true,
        "id": "u5B54kVEiAfQ"
      },
      "execution_count": 20,
      "outputs": []
    },
    {
      "cell_type": "code",
      "source": [
        "sns.countplot(train_df['Sentiment'])"
      ],
      "metadata": {
        "execution": {
          "iopub.status.busy": "2022-05-05T09:04:53.282317Z",
          "iopub.execute_input": "2022-05-05T09:04:53.283411Z",
          "iopub.status.idle": "2022-05-05T09:04:53.501299Z",
          "shell.execute_reply.started": "2022-05-05T09:04:53.283356Z",
          "shell.execute_reply": "2022-05-05T09:04:53.500665Z"
        },
        "trusted": true,
        "colab": {
          "base_uri": "https://localhost:8080/",
          "height": 335
        },
        "id": "vMkqN_zNiAfQ",
        "outputId": "f314235d-0afc-4a91-e885-0b7605f85e4e"
      },
      "execution_count": 21,
      "outputs": [
        {
          "output_type": "stream",
          "name": "stderr",
          "text": [
            "/usr/local/lib/python3.7/dist-packages/seaborn/_decorators.py:43: FutureWarning: Pass the following variable as a keyword arg: x. From version 0.12, the only valid positional argument will be `data`, and passing other arguments without an explicit keyword will result in an error or misinterpretation.\n",
            "  FutureWarning\n"
          ]
        },
        {
          "output_type": "execute_result",
          "data": {
            "text/plain": [
              "<matplotlib.axes._subplots.AxesSubplot at 0x7fc47e490050>"
            ]
          },
          "metadata": {},
          "execution_count": 21
        },
        {
          "output_type": "display_data",
          "data": {
            "text/plain": [
              "<Figure size 792x288 with 1 Axes>"
            ],
            "image/png": "[encoded data removed]"
          },
          "metadata": {}
        }
      ]
    },
    {
      "cell_type": "code",
      "source": [
        "sns.countplot(test_df['Sentiment'])"
      ],
      "metadata": {
        "execution": {
          "iopub.status.busy": "2022-05-05T09:04:53.502320Z",
          "iopub.execute_input": "2022-05-05T09:04:53.502561Z",
          "iopub.status.idle": "2022-05-05T09:04:53.686624Z",
          "shell.execute_reply.started": "2022-05-05T09:04:53.502514Z",
          "shell.execute_reply": "2022-05-05T09:04:53.686001Z"
        },
        "trusted": true,
        "colab": {
          "base_uri": "https://localhost:8080/",
          "height": 338
        },
        "id": "T9GGbKXTiAfQ",
        "outputId": "82ce037e-4103-4118-b9e5-3cbd9127d9e2"
      },
      "execution_count": 22,
      "outputs": [
        {
          "output_type": "stream",
          "name": "stderr",
          "text": [
            "/usr/local/lib/python3.7/dist-packages/seaborn/_decorators.py:43: FutureWarning: Pass the following variable as a keyword arg: x. From version 0.12, the only valid positional argument will be `data`, and passing other arguments without an explicit keyword will result in an error or misinterpretation.\n",
            "  FutureWarning\n"
          ]
        },
        {
          "output_type": "execute_result",
          "data": {
            "text/plain": [
              "<matplotlib.axes._subplots.AxesSubplot at 0x7fc47e1952d0>"
            ]
          },
          "metadata": {},
          "execution_count": 22
        },
        {
          "output_type": "display_data",
          "data": {
            "text/plain": [
              "<Figure size 792x288 with 1 Axes>"
            ],
            "image/png": "[encoded data removed]"
          },
          "metadata": {}
        }
      ]
    },
    {
      "cell_type": "markdown",
      "source": [
        "Nowo time for Data Clearning and processing"
      ],
      "metadata": {
        "id": "mfJQhkRHiAfR"
      }
    },
    {
      "cell_type": "code",
      "source": [
        " nltk.download('stopwords')"
      ],
      "metadata": {
        "colab": {
          "base_uri": "https://localhost:8080/"
        },
        "id": "BimywQtHjYwY",
        "outputId": "29d3aa67-64ff-48d3-d5d3-e02a38efb50c"
      },
      "execution_count": 23,
      "outputs": [
        {
          "output_type": "stream",
          "name": "stdout",
          "text": [
            "[nltk_data] Downloading package stopwords to /root/nltk_data...\n",
            "[nltk_data]   Unzipping corpora/stopwords.zip.\n"
          ]
        },
        {
          "output_type": "execute_result",
          "data": {
            "text/plain": [
              "True"
            ]
          },
          "metadata": {},
          "execution_count": 23
        }
      ]
    },
    {
      "cell_type": "code",
      "source": [
        "# load stop words\n",
        "stop_word = stopwords.words(\"english\")"
      ],
      "metadata": {
        "execution": {
          "iopub.status.busy": "2022-05-05T09:04:53.687846Z",
          "iopub.execute_input": "2022-05-05T09:04:53.688087Z",
          "iopub.status.idle": "2022-05-05T09:04:53.695853Z",
          "shell.execute_reply.started": "2022-05-05T09:04:53.688055Z",
          "shell.execute_reply": "2022-05-05T09:04:53.695112Z"
        },
        "trusted": true,
        "id": "YK3aUgywiAfR"
      },
      "execution_count": 24,
      "outputs": []
    },
    {
      "cell_type": "code",
      "source": [
        "# 정규 표현식\n",
        "# re.sub('찾을 패턴', '찾은 패턴을 변경할 내용', '원본')\n",
        "\n",
        "def clean(text):\n",
        "    # remove urls\n",
        "    text = re.sub(r'http\\S+', \" \", text)\n",
        "    \n",
        "    # remove mentions\n",
        "    text = re.sub(r'@\\w+', ' ', text)\n",
        "    \n",
        "    # remove hastags\n",
        "    text = re.sub(r'#\\w+', ' ', text)\n",
        "    \n",
        "    # remove digits\n",
        "    text = re.sub(r'\\d+', ' ', text)\n",
        "    \n",
        "    # remove html tags\n",
        "    text = re.sub('r<.*?>', ' ', text)\n",
        "    \n",
        "    # remove stop words\n",
        "    text = text.split()\n",
        "    text = \" \".join([word for word in text if not word in stop_word])\n",
        "    \n",
        "    return text"
      ],
      "metadata": {
        "execution": {
          "iopub.status.busy": "2022-05-05T09:04:53.697083Z",
          "iopub.execute_input": "2022-05-05T09:04:53.697391Z",
          "iopub.status.idle": "2022-05-05T09:04:53.705452Z",
          "shell.execute_reply.started": "2022-05-05T09:04:53.697356Z",
          "shell.execute_reply": "2022-05-05T09:04:53.704730Z"
        },
        "trusted": true,
        "id": "bTXZ_z7oiAfR"
      },
      "execution_count": 25,
      "outputs": []
    },
    {
      "cell_type": "code",
      "source": [
        "train_df['OriginalTweet'] = train_df['OriginalTweet'].apply(lambda x: clean(x))\n",
        "test_df['OriginalTweet'] = test_df['OriginalTweet'].apply(lambda x: clean(x))"
      ],
      "metadata": {
        "execution": {
          "iopub.status.busy": "2022-05-05T09:04:53.706487Z",
          "iopub.execute_input": "2022-05-05T09:04:53.706672Z",
          "iopub.status.idle": "2022-05-05T09:04:55.781062Z",
          "shell.execute_reply.started": "2022-05-05T09:04:53.706651Z",
          "shell.execute_reply": "2022-05-05T09:04:55.780303Z"
        },
        "trusted": true,
        "id": "L6XBvDepiAfR"
      },
      "execution_count": 26,
      "outputs": []
    },
    {
      "cell_type": "code",
      "source": [
        "train_df.head()"
      ],
      "metadata": {
        "execution": {
          "iopub.status.busy": "2022-05-05T09:04:55.782453Z",
          "iopub.execute_input": "2022-05-05T09:04:55.782697Z",
          "iopub.status.idle": "2022-05-05T09:04:55.793431Z",
          "shell.execute_reply.started": "2022-05-05T09:04:55.782663Z",
          "shell.execute_reply": "2022-05-05T09:04:55.792699Z"
        },
        "trusted": true,
        "colab": {
          "base_uri": "https://localhost:8080/",
          "height": 478
        },
        "id": "9L8QNUwUiAfR",
        "outputId": "53abbe07-d22c-48c1-95e7-0e517394181f"
      },
      "execution_count": 27,
      "outputs": [
        {
          "output_type": "execute_result",
          "data": {
            "text/plain": [
              "   UserName  ScreenName                   Location     TweetAt  \\\n",
              "0      3799       48751                     London  16-03-2020   \n",
              "1      3800       48752                         UK  16-03-2020   \n",
              "2      3801       48753                  Vagabonds  16-03-2020   \n",
              "5      3804       48756  ÃT: 36.319708,-82.363649  16-03-2020   \n",
              "6      3805       48757       35.926541,-78.753267  16-03-2020   \n",
              "\n",
              "                                       OriginalTweet Sentiment  \n",
              "0                                                      netural  \n",
              "1  advice Talk neighbours family exchange phone n...  positive  \n",
              "2  Coronavirus Australia: Woolworths give elderly...  positive  \n",
              "5  As news regionÂs first confirmed COVID- case ...  positive  \n",
              "6  Cashier grocery store sharing insights To prov...  positive  "
            ],
            "text/html": [
              "\n",
              "  <div id=\"df-0a0d4b42-e2ba-424a-8e1e-74a0f9d0f311\">\n",
              "    <div class=\"colab-df-container\">\n",
              "      <div>\n",
              "<style scoped>\n",
              "    .dataframe tbody tr th:only-of-type {\n",
              "        vertical-align: middle;\n",
              "    }\n",
              "\n",
              "    .dataframe tbody tr th {\n",
              "        vertical-align: top;\n",
              "    }\n",
              "\n",
              "    .dataframe thead th {\n",
              "        text-align: right;\n",
              "    }\n",
              "</style>\n",
              "<table border=\"1\" class=\"dataframe\">\n",
              "  <thead>\n",
              "    <tr style=\"text-align: right;\">\n",
              "      <th></th>\n",
              "      <th>UserName</th>\n",
              "      <th>ScreenName</th>\n",
              "      <th>Location</th>\n",
              "      <th>TweetAt</th>\n",
              "      <th>OriginalTweet</th>\n",
              "      <th>Sentiment</th>\n",
              "    </tr>\n",
              "  </thead>\n",
              "  <tbody>\n",
              "    <tr>\n",
              "      <th>0</th>\n",
              "      <td>3799</td>\n",
              "      <td>48751</td>\n",
              "      <td>London</td>\n",
              "      <td>16-03-2020</td>\n",
              "      <td></td>\n",
              "      <td>netural</td>\n",
              "    </tr>\n",
              "    <tr>\n",
              "      <th>1</th>\n",
              "      <td>3800</td>\n",
              "      <td>48752</td>\n",
              "      <td>UK</td>\n",
              "      <td>16-03-2020</td>\n",
              "      <td>advice Talk neighbours family exchange phone n...</td>\n",
              "      <td>positive</td>\n",
              "    </tr>\n",
              "    <tr>\n",
              "      <th>2</th>\n",
              "      <td>3801</td>\n",
              "      <td>48753</td>\n",
              "      <td>Vagabonds</td>\n",
              "      <td>16-03-2020</td>\n",
              "      <td>Coronavirus Australia: Woolworths give elderly...</td>\n",
              "      <td>positive</td>\n",
              "    </tr>\n",
              "    <tr>\n",
              "      <th>5</th>\n",
              "      <td>3804</td>\n",
              "      <td>48756</td>\n",
              "      <td>ÃT: 36.319708,-82.363649</td>\n",
              "      <td>16-03-2020</td>\n",
              "      <td>As news regionÂs first confirmed COVID- case ...</td>\n",
              "      <td>positive</td>\n",
              "    </tr>\n",
              "    <tr>\n",
              "      <th>6</th>\n",
              "      <td>3805</td>\n",
              "      <td>48757</td>\n",
              "      <td>35.926541,-78.753267</td>\n",
              "      <td>16-03-2020</td>\n",
              "      <td>Cashier grocery store sharing insights To prov...</td>\n",
              "      <td>positive</td>\n",
              "    </tr>\n",
              "  </tbody>\n",
              "</table>\n",
              "</div>\n",
              "      <button class=\"colab-df-convert\" onclick=\"convertToInteractive('df-0a0d4b42-e2ba-424a-8e1e-74a0f9d0f311')\"\n",
              "              title=\"Convert this dataframe to an interactive table.\"\n",
              "              style=\"display:none;\">\n",
              "        \n",
              "  <svg xmlns=\"http://www.w3.org/2000/svg\" height=\"24px\"viewBox=\"0 0 24 24\"\n",
              "       width=\"24px\">\n",
              "    <path d=\"M0 0h24v24H0V0z\" fill=\"none\"/>\n",
              "    <path d=\"M18.56 5.44l.94 2.06.94-2.06 2.06-.94-2.06-.94-.94-2.06-.94 2.06-2.06.94zm-11 1L8.5 8.5l.94-2.06 2.06-.94-2.06-.94L8.5 2.5l-.94 2.06-2.06.94zm10 10l.94 2.06.94-2.06 2.06-.94-2.06-.94-.94-2.06-.94 2.06-2.06.94z\"/><path d=\"M17.41 7.96l-1.37-1.37c-.4-.4-.92-.59-1.43-.59-.52 0-1.04.2-1.43.59L10.3 9.45l-7.72 7.72c-.78.78-.78 2.05 0 2.83L4 21.41c.39.39.9.59 1.41.59.51 0 1.02-.2 1.41-.59l7.78-7.78 2.81-2.81c.8-.78.8-2.07 0-2.86zM5.41 20L4 18.59l7.72-7.72 1.47 1.35L5.41 20z\"/>\n",
              "  </svg>\n",
              "      </button>\n",
              "      \n",
              "  <style>\n",
              "    .colab-df-container {\n",
              "      display:flex;\n",
              "      flex-wrap:wrap;\n",
              "      gap: 12px;\n",
              "    }\n",
              "\n",
              "    .colab-df-convert {\n",
              "      background-color: #E8F0FE;\n",
              "      border: none;\n",
              "      border-radius: 50%;\n",
              "      cursor: pointer;\n",
              "      display: none;\n",
              "      fill: #1967D2;\n",
              "      height: 32px;\n",
              "      padding: 0 0 0 0;\n",
              "      width: 32px;\n",
              "    }\n",
              "\n",
              "    .colab-df-convert:hover {\n",
              "      background-color: #E2EBFA;\n",
              "      box-shadow: 0px 1px 2px rgba(60, 64, 67, 0.3), 0px 1px 3px 1px rgba(60, 64, 67, 0.15);\n",
              "      fill: #174EA6;\n",
              "    }\n",
              "\n",
              "    [theme=dark] .colab-df-convert {\n",
              "      background-color: #3B4455;\n",
              "      fill: #D2E3FC;\n",
              "    }\n",
              "\n",
              "    [theme=dark] .colab-df-convert:hover {\n",
              "      background-color: #434B5C;\n",
              "      box-shadow: 0px 1px 3px 1px rgba(0, 0, 0, 0.15);\n",
              "      filter: drop-shadow(0px 1px 2px rgba(0, 0, 0, 0.3));\n",
              "      fill: #FFFFFF;\n",
              "    }\n",
              "  </style>\n",
              "\n",
              "      <script>\n",
              "        const buttonEl =\n",
              "          document.querySelector('#df-0a0d4b42-e2ba-424a-8e1e-74a0f9d0f311 button.colab-df-convert');\n",
              "        buttonEl.style.display =\n",
              "          google.colab.kernel.accessAllowed ? 'block' : 'none';\n",
              "\n",
              "        async function convertToInteractive(key) {\n",
              "          const element = document.querySelector('#df-0a0d4b42-e2ba-424a-8e1e-74a0f9d0f311');\n",
              "          const dataTable =\n",
              "            await google.colab.kernel.invokeFunction('convertToInteractive',\n",
              "                                                     [key], {});\n",
              "          if (!dataTable) return;\n",
              "\n",
              "          const docLinkHtml = 'Like what you see? Visit the ' +\n",
              "            '<a target=\"_blank\" href=https://colab.research.google.com/notebooks/data_table.ipynb>data table notebook</a>'\n",
              "            + ' to learn more about interactive tables.';\n",
              "          element.innerHTML = '';\n",
              "          dataTable['output_type'] = 'display_data';\n",
              "          await google.colab.output.renderOutput(dataTable, element);\n",
              "          const docLink = document.createElement('div');\n",
              "          docLink.innerHTML = docLinkHtml;\n",
              "          element.appendChild(docLink);\n",
              "        }\n",
              "      </script>\n",
              "    </div>\n",
              "  </div>\n",
              "  "
            ]
          },
          "metadata": {},
          "execution_count": 27
        }
      ]
    },
    {
      "cell_type": "markdown",
      "source": [
        "Original Tweet, Sentiment 만 필요함!"
      ],
      "metadata": {
        "id": "CY3ZPd8TiAfR"
      }
    },
    {
      "cell_type": "code",
      "source": [
        "df_train = train_df.iloc[:, 4:]\n",
        "df_test = test_df.iloc[:, 4:]"
      ],
      "metadata": {
        "execution": {
          "iopub.status.busy": "2022-05-05T09:04:55.794823Z",
          "iopub.execute_input": "2022-05-05T09:04:55.795302Z",
          "iopub.status.idle": "2022-05-05T09:04:55.803220Z",
          "shell.execute_reply.started": "2022-05-05T09:04:55.795264Z",
          "shell.execute_reply": "2022-05-05T09:04:55.802481Z"
        },
        "trusted": true,
        "id": "8KrwiRaHiAfS"
      },
      "execution_count": 28,
      "outputs": []
    },
    {
      "cell_type": "code",
      "source": [
        "df_train.head()"
      ],
      "metadata": {
        "execution": {
          "iopub.status.busy": "2022-05-05T09:04:55.804950Z",
          "iopub.execute_input": "2022-05-05T09:04:55.805154Z",
          "iopub.status.idle": "2022-05-05T09:04:55.816364Z",
          "shell.execute_reply.started": "2022-05-05T09:04:55.805131Z",
          "shell.execute_reply": "2022-05-05T09:04:55.815713Z"
        },
        "trusted": true,
        "colab": {
          "base_uri": "https://localhost:8080/",
          "height": 206
        },
        "id": "4mtUCR0eiAfS",
        "outputId": "0f656964-f39e-4509-dc89-f335dbaefc5b"
      },
      "execution_count": 29,
      "outputs": [
        {
          "output_type": "execute_result",
          "data": {
            "text/plain": [
              "                                       OriginalTweet Sentiment\n",
              "0                                                      netural\n",
              "1  advice Talk neighbours family exchange phone n...  positive\n",
              "2  Coronavirus Australia: Woolworths give elderly...  positive\n",
              "5  As news regionÂs first confirmed COVID- case ...  positive\n",
              "6  Cashier grocery store sharing insights To prov...  positive"
            ],
            "text/html": [
              "\n",
              "  <div id=\"df-63c65369-e779-46ae-8a7d-79f81d3aa002\">\n",
              "    <div class=\"colab-df-container\">\n",
              "      <div>\n",
              "<style scoped>\n",
              "    .dataframe tbody tr th:only-of-type {\n",
              "        vertical-align: middle;\n",
              "    }\n",
              "\n",
              "    .dataframe tbody tr th {\n",
              "        vertical-align: top;\n",
              "    }\n",
              "\n",
              "    .dataframe thead th {\n",
              "        text-align: right;\n",
              "    }\n",
              "</style>\n",
              "<table border=\"1\" class=\"dataframe\">\n",
              "  <thead>\n",
              "    <tr style=\"text-align: right;\">\n",
              "      <th></th>\n",
              "      <th>OriginalTweet</th>\n",
              "      <th>Sentiment</th>\n",
              "    </tr>\n",
              "  </thead>\n",
              "  <tbody>\n",
              "    <tr>\n",
              "      <th>0</th>\n",
              "      <td></td>\n",
              "      <td>netural</td>\n",
              "    </tr>\n",
              "    <tr>\n",
              "      <th>1</th>\n",
              "      <td>advice Talk neighbours family exchange phone n...</td>\n",
              "      <td>positive</td>\n",
              "    </tr>\n",
              "    <tr>\n",
              "      <th>2</th>\n",
              "      <td>Coronavirus Australia: Woolworths give elderly...</td>\n",
              "      <td>positive</td>\n",
              "    </tr>\n",
              "    <tr>\n",
              "      <th>5</th>\n",
              "      <td>As news regionÂs first confirmed COVID- case ...</td>\n",
              "      <td>positive</td>\n",
              "    </tr>\n",
              "    <tr>\n",
              "      <th>6</th>\n",
              "      <td>Cashier grocery store sharing insights To prov...</td>\n",
              "      <td>positive</td>\n",
              "    </tr>\n",
              "  </tbody>\n",
              "</table>\n",
              "</div>\n",
              "      <button class=\"colab-df-convert\" onclick=\"convertToInteractive('df-63c65369-e779-46ae-8a7d-79f81d3aa002')\"\n",
              "              title=\"Convert this dataframe to an interactive table.\"\n",
              "              style=\"display:none;\">\n",
              "        \n",
              "  <svg xmlns=\"http://www.w3.org/2000/svg\" height=\"24px\"viewBox=\"0 0 24 24\"\n",
              "       width=\"24px\">\n",
              "    <path d=\"M0 0h24v24H0V0z\" fill=\"none\"/>\n",
              "    <path d=\"M18.56 5.44l.94 2.06.94-2.06 2.06-.94-2.06-.94-.94-2.06-.94 2.06-2.06.94zm-11 1L8.5 8.5l.94-2.06 2.06-.94-2.06-.94L8.5 2.5l-.94 2.06-2.06.94zm10 10l.94 2.06.94-2.06 2.06-.94-2.06-.94-.94-2.06-.94 2.06-2.06.94z\"/><path d=\"M17.41 7.96l-1.37-1.37c-.4-.4-.92-.59-1.43-.59-.52 0-1.04.2-1.43.59L10.3 9.45l-7.72 7.72c-.78.78-.78 2.05 0 2.83L4 21.41c.39.39.9.59 1.41.59.51 0 1.02-.2 1.41-.59l7.78-7.78 2.81-2.81c.8-.78.8-2.07 0-2.86zM5.41 20L4 18.59l7.72-7.72 1.47 1.35L5.41 20z\"/>\n",
              "  </svg>\n",
              "      </button>\n",
              "      \n",
              "  <style>\n",
              "    .colab-df-container {\n",
              "      display:flex;\n",
              "      flex-wrap:wrap;\n",
              "      gap: 12px;\n",
              "    }\n",
              "\n",
              "    .colab-df-convert {\n",
              "      background-color: #E8F0FE;\n",
              "      border: none;\n",
              "      border-radius: 50%;\n",
              "      cursor: pointer;\n",
              "      display: none;\n",
              "      fill: #1967D2;\n",
              "      height: 32px;\n",
              "      padding: 0 0 0 0;\n",
              "      width: 32px;\n",
              "    }\n",
              "\n",
              "    .colab-df-convert:hover {\n",
              "      background-color: #E2EBFA;\n",
              "      box-shadow: 0px 1px 2px rgba(60, 64, 67, 0.3), 0px 1px 3px 1px rgba(60, 64, 67, 0.15);\n",
              "      fill: #174EA6;\n",
              "    }\n",
              "\n",
              "    [theme=dark] .colab-df-convert {\n",
              "      background-color: #3B4455;\n",
              "      fill: #D2E3FC;\n",
              "    }\n",
              "\n",
              "    [theme=dark] .colab-df-convert:hover {\n",
              "      background-color: #434B5C;\n",
              "      box-shadow: 0px 1px 3px 1px rgba(0, 0, 0, 0.15);\n",
              "      filter: drop-shadow(0px 1px 2px rgba(0, 0, 0, 0.3));\n",
              "      fill: #FFFFFF;\n",
              "    }\n",
              "  </style>\n",
              "\n",
              "      <script>\n",
              "        const buttonEl =\n",
              "          document.querySelector('#df-63c65369-e779-46ae-8a7d-79f81d3aa002 button.colab-df-convert');\n",
              "        buttonEl.style.display =\n",
              "          google.colab.kernel.accessAllowed ? 'block' : 'none';\n",
              "\n",
              "        async function convertToInteractive(key) {\n",
              "          const element = document.querySelector('#df-63c65369-e779-46ae-8a7d-79f81d3aa002');\n",
              "          const dataTable =\n",
              "            await google.colab.kernel.invokeFunction('convertToInteractive',\n",
              "                                                     [key], {});\n",
              "          if (!dataTable) return;\n",
              "\n",
              "          const docLinkHtml = 'Like what you see? Visit the ' +\n",
              "            '<a target=\"_blank\" href=https://colab.research.google.com/notebooks/data_table.ipynb>data table notebook</a>'\n",
              "            + ' to learn more about interactive tables.';\n",
              "          element.innerHTML = '';\n",
              "          dataTable['output_type'] = 'display_data';\n",
              "          await google.colab.output.renderOutput(dataTable, element);\n",
              "          const docLink = document.createElement('div');\n",
              "          docLink.innerHTML = docLinkHtml;\n",
              "          element.appendChild(docLink);\n",
              "        }\n",
              "      </script>\n",
              "    </div>\n",
              "  </div>\n",
              "  "
            ]
          },
          "metadata": {},
          "execution_count": 29
        }
      ]
    },
    {
      "cell_type": "markdown",
      "source": [
        "now mapping the sentiment\n",
        "* 0: Netural\n",
        "* 1: Positive\n",
        "* 2: Negative"
      ],
      "metadata": {
        "id": "djTnAjBwiAfS"
      }
    },
    {
      "cell_type": "code",
      "source": [
        "l = {\"netural\":0, \"positive\":1, \"negative\":2}"
      ],
      "metadata": {
        "execution": {
          "iopub.status.busy": "2022-05-05T09:04:55.818671Z",
          "iopub.execute_input": "2022-05-05T09:04:55.818958Z",
          "iopub.status.idle": "2022-05-05T09:04:55.823590Z",
          "shell.execute_reply.started": "2022-05-05T09:04:55.818923Z",
          "shell.execute_reply": "2022-05-05T09:04:55.822851Z"
        },
        "trusted": true,
        "id": "bT7Lu4jQiAfS"
      },
      "execution_count": 30,
      "outputs": []
    },
    {
      "cell_type": "code",
      "source": [
        "# 오 dictionary로 map은 첨 해보는 듯..??\n",
        "df_train['Sentiment'] = df_train[\"Sentiment\"].map(l)\n",
        "df_test['Sentiment'] = df_test['Sentiment'].map(l)"
      ],
      "metadata": {
        "execution": {
          "iopub.status.busy": "2022-05-05T09:04:55.824745Z",
          "iopub.execute_input": "2022-05-05T09:04:55.825080Z",
          "iopub.status.idle": "2022-05-05T09:04:55.837462Z",
          "shell.execute_reply.started": "2022-05-05T09:04:55.825046Z",
          "shell.execute_reply": "2022-05-05T09:04:55.836659Z"
        },
        "trusted": true,
        "id": "v41w1g1ZiAfS"
      },
      "execution_count": 31,
      "outputs": []
    },
    {
      "cell_type": "code",
      "source": [
        "df_train.head()"
      ],
      "metadata": {
        "execution": {
          "iopub.status.busy": "2022-05-05T09:04:55.842087Z",
          "iopub.execute_input": "2022-05-05T09:04:55.842967Z",
          "iopub.status.idle": "2022-05-05T09:04:55.852362Z",
          "shell.execute_reply.started": "2022-05-05T09:04:55.842921Z",
          "shell.execute_reply": "2022-05-05T09:04:55.851564Z"
        },
        "trusted": true,
        "colab": {
          "base_uri": "https://localhost:8080/",
          "height": 206
        },
        "id": "vTIxukN3iAfS",
        "outputId": "256a87af-d91b-4760-d801-a969c9f97c48"
      },
      "execution_count": 32,
      "outputs": [
        {
          "output_type": "execute_result",
          "data": {
            "text/plain": [
              "                                       OriginalTweet  Sentiment\n",
              "0                                                             0\n",
              "1  advice Talk neighbours family exchange phone n...          1\n",
              "2  Coronavirus Australia: Woolworths give elderly...          1\n",
              "5  As news regionÂs first confirmed COVID- case ...          1\n",
              "6  Cashier grocery store sharing insights To prov...          1"
            ],
            "text/html": [
              "\n",
              "  <div id=\"df-1457536b-ba73-4078-8421-2acba044cacd\">\n",
              "    <div class=\"colab-df-container\">\n",
              "      <div>\n",
              "<style scoped>\n",
              "    .dataframe tbody tr th:only-of-type {\n",
              "        vertical-align: middle;\n",
              "    }\n",
              "\n",
              "    .dataframe tbody tr th {\n",
              "        vertical-align: top;\n",
              "    }\n",
              "\n",
              "    .dataframe thead th {\n",
              "        text-align: right;\n",
              "    }\n",
              "</style>\n",
              "<table border=\"1\" class=\"dataframe\">\n",
              "  <thead>\n",
              "    <tr style=\"text-align: right;\">\n",
              "      <th></th>\n",
              "      <th>OriginalTweet</th>\n",
              "      <th>Sentiment</th>\n",
              "    </tr>\n",
              "  </thead>\n",
              "  <tbody>\n",
              "    <tr>\n",
              "      <th>0</th>\n",
              "      <td></td>\n",
              "      <td>0</td>\n",
              "    </tr>\n",
              "    <tr>\n",
              "      <th>1</th>\n",
              "      <td>advice Talk neighbours family exchange phone n...</td>\n",
              "      <td>1</td>\n",
              "    </tr>\n",
              "    <tr>\n",
              "      <th>2</th>\n",
              "      <td>Coronavirus Australia: Woolworths give elderly...</td>\n",
              "      <td>1</td>\n",
              "    </tr>\n",
              "    <tr>\n",
              "      <th>5</th>\n",
              "      <td>As news regionÂs first confirmed COVID- case ...</td>\n",
              "      <td>1</td>\n",
              "    </tr>\n",
              "    <tr>\n",
              "      <th>6</th>\n",
              "      <td>Cashier grocery store sharing insights To prov...</td>\n",
              "      <td>1</td>\n",
              "    </tr>\n",
              "  </tbody>\n",
              "</table>\n",
              "</div>\n",
              "      <button class=\"colab-df-convert\" onclick=\"convertToInteractive('df-1457536b-ba73-4078-8421-2acba044cacd')\"\n",
              "              title=\"Convert this dataframe to an interactive table.\"\n",
              "              style=\"display:none;\">\n",
              "        \n",
              "  <svg xmlns=\"http://www.w3.org/2000/svg\" height=\"24px\"viewBox=\"0 0 24 24\"\n",
              "       width=\"24px\">\n",
              "    <path d=\"M0 0h24v24H0V0z\" fill=\"none\"/>\n",
              "    <path d=\"M18.56 5.44l.94 2.06.94-2.06 2.06-.94-2.06-.94-.94-2.06-.94 2.06-2.06.94zm-11 1L8.5 8.5l.94-2.06 2.06-.94-2.06-.94L8.5 2.5l-.94 2.06-2.06.94zm10 10l.94 2.06.94-2.06 2.06-.94-2.06-.94-.94-2.06-.94 2.06-2.06.94z\"/><path d=\"M17.41 7.96l-1.37-1.37c-.4-.4-.92-.59-1.43-.59-.52 0-1.04.2-1.43.59L10.3 9.45l-7.72 7.72c-.78.78-.78 2.05 0 2.83L4 21.41c.39.39.9.59 1.41.59.51 0 1.02-.2 1.41-.59l7.78-7.78 2.81-2.81c.8-.78.8-2.07 0-2.86zM5.41 20L4 18.59l7.72-7.72 1.47 1.35L5.41 20z\"/>\n",
              "  </svg>\n",
              "      </button>\n",
              "      \n",
              "  <style>\n",
              "    .colab-df-container {\n",
              "      display:flex;\n",
              "      flex-wrap:wrap;\n",
              "      gap: 12px;\n",
              "    }\n",
              "\n",
              "    .colab-df-convert {\n",
              "      background-color: #E8F0FE;\n",
              "      border: none;\n",
              "      border-radius: 50%;\n",
              "      cursor: pointer;\n",
              "      display: none;\n",
              "      fill: #1967D2;\n",
              "      height: 32px;\n",
              "      padding: 0 0 0 0;\n",
              "      width: 32px;\n",
              "    }\n",
              "\n",
              "    .colab-df-convert:hover {\n",
              "      background-color: #E2EBFA;\n",
              "      box-shadow: 0px 1px 2px rgba(60, 64, 67, 0.3), 0px 1px 3px 1px rgba(60, 64, 67, 0.15);\n",
              "      fill: #174EA6;\n",
              "    }\n",
              "\n",
              "    [theme=dark] .colab-df-convert {\n",
              "      background-color: #3B4455;\n",
              "      fill: #D2E3FC;\n",
              "    }\n",
              "\n",
              "    [theme=dark] .colab-df-convert:hover {\n",
              "      background-color: #434B5C;\n",
              "      box-shadow: 0px 1px 3px 1px rgba(0, 0, 0, 0.15);\n",
              "      filter: drop-shadow(0px 1px 2px rgba(0, 0, 0, 0.3));\n",
              "      fill: #FFFFFF;\n",
              "    }\n",
              "  </style>\n",
              "\n",
              "      <script>\n",
              "        const buttonEl =\n",
              "          document.querySelector('#df-1457536b-ba73-4078-8421-2acba044cacd button.colab-df-convert');\n",
              "        buttonEl.style.display =\n",
              "          google.colab.kernel.accessAllowed ? 'block' : 'none';\n",
              "\n",
              "        async function convertToInteractive(key) {\n",
              "          const element = document.querySelector('#df-1457536b-ba73-4078-8421-2acba044cacd');\n",
              "          const dataTable =\n",
              "            await google.colab.kernel.invokeFunction('convertToInteractive',\n",
              "                                                     [key], {});\n",
              "          if (!dataTable) return;\n",
              "\n",
              "          const docLinkHtml = 'Like what you see? Visit the ' +\n",
              "            '<a target=\"_blank\" href=https://colab.research.google.com/notebooks/data_table.ipynb>data table notebook</a>'\n",
              "            + ' to learn more about interactive tables.';\n",
              "          element.innerHTML = '';\n",
              "          dataTable['output_type'] = 'display_data';\n",
              "          await google.colab.output.renderOutput(dataTable, element);\n",
              "          const docLink = document.createElement('div');\n",
              "          docLink.innerHTML = docLinkHtml;\n",
              "          element.appendChild(docLink);\n",
              "        }\n",
              "      </script>\n",
              "    </div>\n",
              "  </div>\n",
              "  "
            ]
          },
          "metadata": {},
          "execution_count": 32
        }
      ]
    },
    {
      "cell_type": "code",
      "source": [
        "x_train = df_train['OriginalTweet'].copy()\n",
        "x_test = df_test['OriginalTweet'].copy()\n",
        "\n",
        "y_train = df_train['Sentiment'].copy()\n",
        "y_test = df_test['Sentiment'].copy()"
      ],
      "metadata": {
        "execution": {
          "iopub.status.busy": "2022-05-05T09:04:55.853534Z",
          "iopub.execute_input": "2022-05-05T09:04:55.854035Z",
          "iopub.status.idle": "2022-05-05T09:04:55.859516Z",
          "shell.execute_reply.started": "2022-05-05T09:04:55.854000Z",
          "shell.execute_reply": "2022-05-05T09:04:55.858817Z"
        },
        "trusted": true,
        "id": "HN60SBDuiAfT"
      },
      "execution_count": 33,
      "outputs": []
    },
    {
      "cell_type": "code",
      "source": [
        "x_train.shape, y_train.shape, x_test.shape, y_test.shape"
      ],
      "metadata": {
        "execution": {
          "iopub.status.busy": "2022-05-05T09:04:55.861574Z",
          "iopub.execute_input": "2022-05-05T09:04:55.862023Z",
          "iopub.status.idle": "2022-05-05T09:04:55.869831Z",
          "shell.execute_reply.started": "2022-05-05T09:04:55.861977Z",
          "shell.execute_reply": "2022-05-05T09:04:55.869126Z"
        },
        "trusted": true,
        "colab": {
          "base_uri": "https://localhost:8080/"
        },
        "id": "t75-5BjwiAfT",
        "outputId": "a175f7cb-2f72-4d32-be7d-00f8bf0bd150"
      },
      "execution_count": 34,
      "outputs": [
        {
          "output_type": "execute_result",
          "data": {
            "text/plain": [
              "((32567,), (32567,), (2964,), (2964,))"
            ]
          },
          "metadata": {},
          "execution_count": 34
        }
      ]
    },
    {
      "cell_type": "markdown",
      "source": [
        "Maximum length of sequence"
      ],
      "metadata": {
        "id": "mGXqD98GiAfT"
      }
    },
    {
      "cell_type": "code",
      "source": [
        "max_len = np.max(x_train.apply(lambda x: len(x)))\n",
        "max_len"
      ],
      "metadata": {
        "execution": {
          "iopub.status.busy": "2022-05-05T09:04:55.871253Z",
          "iopub.execute_input": "2022-05-05T09:04:55.871910Z",
          "iopub.status.idle": "2022-05-05T09:04:55.897523Z",
          "shell.execute_reply.started": "2022-05-05T09:04:55.871760Z",
          "shell.execute_reply": "2022-05-05T09:04:55.896848Z"
        },
        "trusted": true,
        "colab": {
          "base_uri": "https://localhost:8080/"
        },
        "id": "_IDM-8cviAfT",
        "outputId": "01b9dfb2-51a9-45a9-a3f2-a3c47e16cca9"
      },
      "execution_count": 35,
      "outputs": [
        {
          "output_type": "execute_result",
          "data": {
            "text/plain": [
              "286"
            ]
          },
          "metadata": {},
          "execution_count": 35
        }
      ]
    },
    {
      "cell_type": "markdown",
      "source": [
        "Tokenizer initialization"
      ],
      "metadata": {
        "id": "ejVjwDwniAfT"
      }
    },
    {
      "cell_type": "code",
      "source": [
        "tokenizer = Tokenizer()"
      ],
      "metadata": {
        "execution": {
          "iopub.status.busy": "2022-05-05T09:04:55.898689Z",
          "iopub.execute_input": "2022-05-05T09:04:55.899118Z",
          "iopub.status.idle": "2022-05-05T09:04:55.902370Z",
          "shell.execute_reply.started": "2022-05-05T09:04:55.899085Z",
          "shell.execute_reply": "2022-05-05T09:04:55.901720Z"
        },
        "trusted": true,
        "id": "lOVPRhgLiAfT"
      },
      "execution_count": 36,
      "outputs": []
    },
    {
      "cell_type": "code",
      "source": [
        "# key value로 이루어진 딕셔너리 생성\n",
        "tokenizer.fit_on_texts(x_train)\n",
        "vocab_length = len(tokenizer.word_index) + 1\n",
        "\n",
        "# text 문장을 숫자로 이루어진 리스트로 만들기\n",
        "x_train = tokenizer.texts_to_sequences(x_train)\n",
        "x_test = tokenizer.texts_to_sequences(x_test)\n",
        "\n",
        "# 리스트의 길이 통일 시키기\n",
        "# padding = 'post'는 뒤쪽으로 0이 추가되어 각 시퀀스를 패딩한다.\n",
        "x_train = pad_sequences(x_train, maxlen = max_len, padding = \"post\")\n",
        "x_test = pad_sequences(x_test, maxlen = max_len, padding = \"post\")"
      ],
      "metadata": {
        "execution": {
          "iopub.status.busy": "2022-05-05T09:04:55.903835Z",
          "iopub.execute_input": "2022-05-05T09:04:55.904300Z",
          "iopub.status.idle": "2022-05-05T09:04:57.696775Z",
          "shell.execute_reply.started": "2022-05-05T09:04:55.904263Z",
          "shell.execute_reply": "2022-05-05T09:04:57.696018Z"
        },
        "trusted": true,
        "id": "BtirosXriAfT"
      },
      "execution_count": 37,
      "outputs": []
    },
    {
      "cell_type": "code",
      "source": [
        "print(\"Vocab length:\", vocab_length)\n",
        "print(\"Max sequence length\", max_len)"
      ],
      "metadata": {
        "execution": {
          "iopub.status.busy": "2022-05-05T09:04:57.698849Z",
          "iopub.execute_input": "2022-05-05T09:04:57.699366Z",
          "iopub.status.idle": "2022-05-05T09:04:57.705603Z",
          "shell.execute_reply.started": "2022-05-05T09:04:57.699327Z",
          "shell.execute_reply": "2022-05-05T09:04:57.704921Z"
        },
        "trusted": true,
        "colab": {
          "base_uri": "https://localhost:8080/"
        },
        "id": "pgTBm-vxiAfT",
        "outputId": "07f0ede4-11a2-4cc4-8af1-1aaf18858eec"
      },
      "execution_count": 38,
      "outputs": [
        {
          "output_type": "stream",
          "name": "stdout",
          "text": [
            "Vocab length: 31759\n",
            "Max sequence length 286\n"
          ]
        }
      ]
    },
    {
      "cell_type": "code",
      "source": [
        "# 임베딩: 언어를 컴퓨터가 알아들을 수 있게 수치화(벡터화)하는 것\n",
        "# 단어나 문장을 벡터 공간에 끼워넣는다는 의미.\n",
        "\n",
        "embedding_dim = 16"
      ],
      "metadata": {
        "execution": {
          "iopub.status.busy": "2022-05-05T09:04:57.706698Z",
          "iopub.execute_input": "2022-05-05T09:04:57.707190Z",
          "iopub.status.idle": "2022-05-05T09:04:57.713495Z",
          "shell.execute_reply.started": "2022-05-05T09:04:57.707153Z",
          "shell.execute_reply": "2022-05-05T09:04:57.712892Z"
        },
        "trusted": true,
        "id": "p3i9Ckx-iAfT"
      },
      "execution_count": 39,
      "outputs": []
    },
    {
      "cell_type": "markdown",
      "source": [
        "### Model Creation"
      ],
      "metadata": {
        "id": "dc6Cz-HMiAfU"
      }
    },
    {
      "cell_type": "code",
      "source": [
        "model = tf.keras.Sequential([\n",
        "    tf.keras.layers.Embedding(vocab_length, embedding_dim, input_length=max_len),\n",
        "    tf.keras.layers.Bidirectional(tf.keras.layers.GRU(256, return_sequences = True)), # 양방향\n",
        "    tf.keras.layers.GlobalAveragePooling1D(),\n",
        "    tf.keras.layers.Dense(64, activation = \"relu\"),\n",
        "    tf.keras.layers.Dropout(0.4),\n",
        "    tf.keras.layers.Dense(3, activation = \"softmax\")\n",
        "])\n",
        "\n",
        "model.compile(loss = \"categorical_crossentropy\", optimizer = \"adam\", metrics = ['accuracy'])"
      ],
      "metadata": {
        "execution": {
          "iopub.status.busy": "2022-05-05T09:04:57.714625Z",
          "iopub.execute_input": "2022-05-05T09:04:57.714897Z",
          "iopub.status.idle": "2022-05-05T09:05:00.272988Z",
          "shell.execute_reply.started": "2022-05-05T09:04:57.714843Z",
          "shell.execute_reply": "2022-05-05T09:05:00.272179Z"
        },
        "trusted": true,
        "id": "ERP-mGuiiAfU"
      },
      "execution_count": 40,
      "outputs": []
    },
    {
      "cell_type": "code",
      "source": [
        "print(model.summary())"
      ],
      "metadata": {
        "execution": {
          "iopub.status.busy": "2022-05-05T09:05:00.274252Z",
          "iopub.execute_input": "2022-05-05T09:05:00.274490Z",
          "iopub.status.idle": "2022-05-05T09:05:00.285766Z",
          "shell.execute_reply.started": "2022-05-05T09:05:00.274457Z",
          "shell.execute_reply": "2022-05-05T09:05:00.284521Z"
        },
        "trusted": true,
        "colab": {
          "base_uri": "https://localhost:8080/"
        },
        "id": "E3fM3feAiAfU",
        "outputId": "59d780eb-ade5-4996-b2d1-892da6a91cb7"
      },
      "execution_count": 41,
      "outputs": [
        {
          "output_type": "stream",
          "name": "stdout",
          "text": [
            "Model: \"sequential\"\n",
            "_________________________________________________________________\n",
            " Layer (type)                Output Shape              Param #   \n",
            "=================================================================\n",
            " embedding (Embedding)       (None, 286, 16)           508144    \n",
            "                                                                 \n",
            " bidirectional (Bidirectiona  (None, 286, 512)         420864    \n",
            " l)                                                              \n",
            "                                                                 \n",
            " global_average_pooling1d (G  (None, 512)              0         \n",
            " lobalAveragePooling1D)                                          \n",
            "                                                                 \n",
            " dense (Dense)               (None, 64)                32832     \n",
            "                                                                 \n",
            " dropout (Dropout)           (None, 64)                0         \n",
            "                                                                 \n",
            " dense_1 (Dense)             (None, 3)                 195       \n",
            "                                                                 \n",
            "=================================================================\n",
            "Total params: 962,035\n",
            "Trainable params: 962,035\n",
            "Non-trainable params: 0\n",
            "_________________________________________________________________\n",
            "None\n"
          ]
        }
      ]
    },
    {
      "cell_type": "code",
      "source": [
        "tf.keras.utils.plot_model(model)"
      ],
      "metadata": {
        "execution": {
          "iopub.status.busy": "2022-05-05T09:05:00.287224Z",
          "iopub.execute_input": "2022-05-05T09:05:00.287478Z",
          "iopub.status.idle": "2022-05-05T09:05:01.004606Z",
          "shell.execute_reply.started": "2022-05-05T09:05:00.287441Z",
          "shell.execute_reply": "2022-05-05T09:05:01.003806Z"
        },
        "trusted": true,
        "colab": {
          "base_uri": "https://localhost:8080/",
          "height": 661
        },
        "id": "xBP5iJECiAfU",
        "outputId": "fe3f0c5f-a958-40ab-d612-193ae1a12fe8"
      },
      "execution_count": 42,
      "outputs": [
        {
          "output_type": "execute_result",
          "data": {
            "text/plain": [
              "<IPython.core.display.Image object>"
            ],
            "image/png": "[encoded data removed]"
          },
          "metadata": {},
          "execution_count": 42
        }
      ]
    },
    {
      "cell_type": "code",
      "source": [
        "x_train.shape, x_test.shape, y_train.shape, y_test.shape"
      ],
      "metadata": {
        "execution": {
          "iopub.status.busy": "2022-05-05T09:05:01.006249Z",
          "iopub.execute_input": "2022-05-05T09:05:01.007145Z",
          "iopub.status.idle": "2022-05-05T09:05:01.014145Z",
          "shell.execute_reply.started": "2022-05-05T09:05:01.007104Z",
          "shell.execute_reply": "2022-05-05T09:05:01.013370Z"
        },
        "trusted": true,
        "colab": {
          "base_uri": "https://localhost:8080/"
        },
        "id": "w3pNQhDwiAfU",
        "outputId": "3dfb081a-f907-48e4-bf9a-4743296608e5"
      },
      "execution_count": 43,
      "outputs": [
        {
          "output_type": "execute_result",
          "data": {
            "text/plain": [
              "((32567, 286), (2964, 286), (32567,), (2964,))"
            ]
          },
          "metadata": {},
          "execution_count": 43
        }
      ]
    },
    {
      "cell_type": "code",
      "source": [
        "from tensorflow.keras.utils import to_categorical\n",
        "\n",
        "y_train = to_categorical(y_train, 3)\n",
        "y_test = to_categorical(y_test, 3)"
      ],
      "metadata": {
        "execution": {
          "iopub.status.busy": "2022-05-05T09:05:01.015349Z",
          "iopub.execute_input": "2022-05-05T09:05:01.015732Z",
          "iopub.status.idle": "2022-05-05T09:05:01.024968Z",
          "shell.execute_reply.started": "2022-05-05T09:05:01.015691Z",
          "shell.execute_reply": "2022-05-05T09:05:01.024204Z"
        },
        "trusted": true,
        "id": "Z3Kg08B2iAfU"
      },
      "execution_count": 44,
      "outputs": []
    },
    {
      "cell_type": "markdown",
      "source": [
        "### Model training\n"
      ],
      "metadata": {
        "id": "Bs3aDjwriAfU"
      }
    },
    {
      "cell_type": "code",
      "source": [
        "num_epochs = 10\n",
        "history = model.fit(x_train, y_train, epochs = num_epochs, validation_data=(x_test, y_test))"
      ],
      "metadata": {
        "execution": {
          "iopub.status.busy": "2022-05-05T09:05:01.026565Z",
          "iopub.execute_input": "2022-05-05T09:05:01.027254Z",
          "iopub.status.idle": "2022-05-05T09:11:25.576434Z",
          "shell.execute_reply.started": "2022-05-05T09:05:01.027217Z",
          "shell.execute_reply": "2022-05-05T09:11:25.575670Z"
        },
        "trusted": true,
        "colab": {
          "base_uri": "https://localhost:8080/"
        },
        "id": "oE28ec7ZiAfV",
        "outputId": "eb496a2f-587a-4632-cf70-5435aa46bfc9"
      },
      "execution_count": 45,
      "outputs": [
        {
          "output_type": "stream",
          "name": "stdout",
          "text": [
            "Epoch 1/10\n",
            "1018/1018 [==============================] - 145s 134ms/step - loss: 0.9875 - accuracy: 0.5014 - val_loss: 0.8069 - val_accuracy: 0.6559\n",
            "Epoch 2/10\n",
            "1018/1018 [==============================] - 134s 132ms/step - loss: 0.7701 - accuracy: 0.6703 - val_loss: 0.6634 - val_accuracy: 0.7419\n",
            "Epoch 3/10\n",
            "1018/1018 [==============================] - 133s 131ms/step - loss: 0.6063 - accuracy: 0.7869 - val_loss: 0.5323 - val_accuracy: 0.7999\n",
            "Epoch 4/10\n",
            "1018/1018 [==============================] - 133s 130ms/step - loss: 0.4610 - accuracy: 0.8388 - val_loss: 0.4660 - val_accuracy: 0.8323\n",
            "Epoch 5/10\n",
            "1018/1018 [==============================] - 133s 130ms/step - loss: 0.3778 - accuracy: 0.8697 - val_loss: 0.4970 - val_accuracy: 0.8337\n",
            "Epoch 6/10\n",
            "1018/1018 [==============================] - 132s 130ms/step - loss: 0.3240 - accuracy: 0.8868 - val_loss: 0.5077 - val_accuracy: 0.8411\n",
            "Epoch 7/10\n",
            "1018/1018 [==============================] - 133s 130ms/step - loss: 0.2818 - accuracy: 0.8988 - val_loss: 0.5440 - val_accuracy: 0.8313\n",
            "Epoch 8/10\n",
            "1018/1018 [==============================] - 132s 130ms/step - loss: 0.2498 - accuracy: 0.9074 - val_loss: 0.6096 - val_accuracy: 0.8377\n",
            "Epoch 9/10\n",
            "1018/1018 [==============================] - 133s 130ms/step - loss: 0.2385 - accuracy: 0.9102 - val_loss: 0.6626 - val_accuracy: 0.8320\n",
            "Epoch 10/10\n",
            "1018/1018 [==============================] - 132s 130ms/step - loss: 0.2177 - accuracy: 0.9157 - val_loss: 0.7167 - val_accuracy: 0.8138\n"
          ]
        }
      ]
    },
    {
      "cell_type": "code",
      "source": [
        "acc = history.history['accuracy']\n",
        "val_acc = history.history['val_accuracy']\n",
        "\n",
        "loss = history.history['loss']\n",
        "val_loss = history.history['val_loss']"
      ],
      "metadata": {
        "execution": {
          "iopub.status.busy": "2022-05-05T09:11:25.578262Z",
          "iopub.execute_input": "2022-05-05T09:11:25.578602Z",
          "iopub.status.idle": "2022-05-05T09:11:25.583075Z",
          "shell.execute_reply.started": "2022-05-05T09:11:25.578567Z",
          "shell.execute_reply": "2022-05-05T09:11:25.582389Z"
        },
        "trusted": true,
        "id": "ZNw4ubtYiAfV"
      },
      "execution_count": 46,
      "outputs": []
    },
    {
      "cell_type": "markdown",
      "source": [
        "### Model Accuracy and loss"
      ],
      "metadata": {
        "id": "HbFcOrYOiAfV"
      }
    },
    {
      "cell_type": "code",
      "source": [
        "print(f\"Accuracy on training data is:- {acc[-1]*100} %\")\n",
        "print(f\"Loss {loss[-1]*100}\")\n",
        "\n",
        "print(f\"Accuracy on validation data is:- {val_acc[-1]*100} %\")\n",
        "print(f\"Loss {val_loss[-1]*100}\")"
      ],
      "metadata": {
        "execution": {
          "iopub.status.busy": "2022-05-05T09:11:25.584375Z",
          "iopub.execute_input": "2022-05-05T09:11:25.585090Z",
          "iopub.status.idle": "2022-05-05T09:11:25.595680Z",
          "shell.execute_reply.started": "2022-05-05T09:11:25.585050Z",
          "shell.execute_reply": "2022-05-05T09:11:25.594752Z"
        },
        "trusted": true,
        "colab": {
          "base_uri": "https://localhost:8080/"
        },
        "id": "yOV4OozOiAfV",
        "outputId": "70461085-f4c6-4ab2-ee8e-ee77f50a6f27"
      },
      "execution_count": 47,
      "outputs": [
        {
          "output_type": "stream",
          "name": "stdout",
          "text": [
            "Accuracy on training data is:- 91.5681540966034 %\n",
            "Loss 21.77179902791977\n",
            "Accuracy on validation data is:- 81.37651681900024 %\n",
            "Loss 71.67332172393799\n"
          ]
        }
      ]
    },
    {
      "cell_type": "markdown",
      "source": [
        "### Ploting"
      ],
      "metadata": {
        "id": "xzKZY1EbiAfV"
      }
    },
    {
      "cell_type": "code",
      "source": [
        "epochs = range(len(acc))\n",
        "\n",
        "plt.plot(epochs, acc, 'b', label = 'training acc')\n",
        "plt.plot(epochs, val_acc, 'r', label = 'validation acc')\n",
        "plt.legend()\n",
        "plt.show()\n",
        "\n",
        "plt.plot(epochs, loss, 'b', label=\"training loss\")\n",
        "plt.plot(epochs, val_loss, 'r', label=\"validation loss\")\n",
        "plt.legend()\n",
        "plt.show()"
      ],
      "metadata": {
        "execution": {
          "iopub.status.busy": "2022-05-05T09:11:25.597259Z",
          "iopub.execute_input": "2022-05-05T09:11:25.597521Z",
          "iopub.status.idle": "2022-05-05T09:11:26.013348Z",
          "shell.execute_reply.started": "2022-05-05T09:11:25.597485Z",
          "shell.execute_reply": "2022-05-05T09:11:26.012692Z"
        },
        "trusted": true,
        "colab": {
          "base_uri": "https://localhost:8080/",
          "height": 499
        },
        "id": "eKrFgsX2iAfV",
        "outputId": "6a6c4e45-a327-4c0b-84a7-f65c62c58311"
      },
      "execution_count": 48,
      "outputs": [
        {
          "output_type": "display_data",
          "data": {
            "text/plain": [
              "<Figure size 792x288 with 1 Axes>"
            ],
            "image/png": "[encoded data removed]"
          },
          "metadata": {}
        },
        {
          "output_type": "display_data",
          "data": {
            "text/plain": [
              "<Figure size 792x288 with 1 Axes>"
            ],
            "image/png": "[encoded data removed]"
          },
          "metadata": {}
        }
      ]
    },
    {
      "cell_type": "code",
      "source": [
        "pred = model.predict(x_test)\n",
        "pred_classes = np.argmax(pred, axis=1)"
      ],
      "metadata": {
        "execution": {
          "iopub.status.busy": "2022-05-05T09:16:46.254906Z",
          "iopub.execute_input": "2022-05-05T09:16:46.255402Z",
          "iopub.status.idle": "2022-05-05T09:16:47.557633Z",
          "shell.execute_reply.started": "2022-05-05T09:16:46.255366Z",
          "shell.execute_reply": "2022-05-05T09:16:47.556911Z"
        },
        "trusted": true,
        "id": "rshThaqxiAfV"
      },
      "execution_count": 49,
      "outputs": []
    },
    {
      "cell_type": "markdown",
      "source": [
        "### Confusion Matrix"
      ],
      "metadata": {
        "id": "VDIrjPSViAfV"
      }
    },
    {
      "cell_type": "code",
      "source": [
        "cm = confusion_matrix(np.argmax(y_test,1),pred_classes)\n",
        "cm"
      ],
      "metadata": {
        "execution": {
          "iopub.status.busy": "2022-05-05T09:16:54.011505Z",
          "iopub.execute_input": "2022-05-05T09:16:54.011755Z",
          "iopub.status.idle": "2022-05-05T09:16:54.019435Z",
          "shell.execute_reply.started": "2022-05-05T09:16:54.011728Z",
          "shell.execute_reply": "2022-05-05T09:16:54.018769Z"
        },
        "trusted": true,
        "colab": {
          "base_uri": "https://localhost:8080/"
        },
        "id": "b9VlpH59iAfV",
        "outputId": "599b4b94-5cbe-4100-a49e-c49356fc6593"
      },
      "execution_count": 50,
      "outputs": [
        {
          "output_type": "execute_result",
          "data": {
            "text/plain": [
              "array([[ 401,   49,   47],\n",
              "       [  89, 1004,  114],\n",
              "       [ 107,  146, 1007]])"
            ]
          },
          "metadata": {},
          "execution_count": 50
        }
      ]
    },
    {
      "cell_type": "code",
      "source": [
        "sns.heatmap(cm, annot= True)"
      ],
      "metadata": {
        "execution": {
          "iopub.status.busy": "2022-05-05T09:16:57.169242Z",
          "iopub.execute_input": "2022-05-05T09:16:57.169693Z",
          "iopub.status.idle": "2022-05-05T09:16:57.410307Z",
          "shell.execute_reply.started": "2022-05-05T09:16:57.169655Z",
          "shell.execute_reply": "2022-05-05T09:16:57.409579Z"
        },
        "trusted": true,
        "colab": {
          "base_uri": "https://localhost:8080/",
          "height": 288
        },
        "id": "zzLSIT3kiAfW",
        "outputId": "f3b4d7b5-52e0-4f91-e639-e5b10f640477"
      },
      "execution_count": 51,
      "outputs": [
        {
          "output_type": "execute_result",
          "data": {
            "text/plain": [
              "<matplotlib.axes._subplots.AxesSubplot at 0x7fc47d1e0ed0>"
            ]
          },
          "metadata": {},
          "execution_count": 51
        },
        {
          "output_type": "display_data",
          "data": {
            "text/plain": [
              "<Figure size 792x288 with 2 Axes>"
            ],
            "image/png": "[encoded data removed]"
          },
          "metadata": {}
        }
      ]
    },
    {
      "cell_type": "markdown",
      "source": [
        "### Classification Report"
      ],
      "metadata": {
        "id": "_heqD2zfiAfW"
      }
    },
    {
      "cell_type": "code",
      "source": [
        "print(classification_report(np.argmax(y_test,1), pred_classes))"
      ],
      "metadata": {
        "execution": {
          "iopub.status.busy": "2022-05-05T09:17:00.415481Z",
          "iopub.execute_input": "2022-05-05T09:17:00.415973Z",
          "iopub.status.idle": "2022-05-05T09:17:00.431241Z",
          "shell.execute_reply.started": "2022-05-05T09:17:00.415935Z",
          "shell.execute_reply": "2022-05-05T09:17:00.430311Z"
        },
        "trusted": true,
        "colab": {
          "base_uri": "https://localhost:8080/"
        },
        "id": "6piZlpUUiAfW",
        "outputId": "736e8f7e-3d0b-4b94-bdd6-02e2ce8c6846"
      },
      "execution_count": 52,
      "outputs": [
        {
          "output_type": "stream",
          "name": "stdout",
          "text": [
            "              precision    recall  f1-score   support\n",
            "\n",
            "           0       0.67      0.81      0.73       497\n",
            "           1       0.84      0.83      0.83      1207\n",
            "           2       0.86      0.80      0.83      1260\n",
            "\n",
            "    accuracy                           0.81      2964\n",
            "   macro avg       0.79      0.81      0.80      2964\n",
            "weighted avg       0.82      0.81      0.82      2964\n",
            "\n"
          ]
        }
      ]
    }
  ]
}