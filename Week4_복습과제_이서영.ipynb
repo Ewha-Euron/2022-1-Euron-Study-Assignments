{
 "cells": [
  {
   "cell_type": "markdown",
   "metadata": {
    "id": "9JDEQ7QLYqy9"
   },
   "source": [
    "# 와인 품질 분류"
   ]
  },
  {
   "cell_type": "markdown",
   "metadata": {
    "id": "N3fKt9upYqzA"
   },
   "source": [
    "wine_quality.csv 파일이 존재합니다.\n",
    "\n",
    "와인의 여러가지 화학 성분을 기반으로 와인의 품질을 분류해내는 것이 목표입니다.\n",
    "\n",
    "- index 구분자\n",
    "- quality 품질\n",
    "- fixed acidity 산도\n",
    "- volatile acidity 휘발성산\n",
    "- citric acid 시트르산\n",
    "- residual sugar 잔당 : 발효 후 와인 속에 남아있는 당분\n",
    "- chlorides 염화물\n",
    "- free sulfur dioxide 독립 이산화황\n",
    "- total sulfur dioxide 총 이산화황\n",
    "- density 밀도\n",
    "- pH 수소이온농도\n",
    "- sulphates 황산염\n",
    "- alcohol 도수\n",
    "- type 종류\n",
    "\n",
    "데이터셋 출처: https://dacon.io/competitions/open/235610/data\n",
    "\n",
    "(학습을 위해 원래 데이터셋에서 test.csv는 제외하고, train.csv 파일만을 고려하여 진행했습니다.)"
   ]
  },
  {
   "cell_type": "code",
   "execution_count": 1,
   "metadata": {},
   "outputs": [],
   "source": [
    "#필요한 라이브러리 import\n",
    "import pandas as pd\n",
    "import numpy as np\n",
    "import seaborn as sns\n",
    "import matplotlib.pyplot as plt\n",
    "from IPython.core.interactiveshell import InteractiveShell\n",
    "InteractiveShell.ast_node_interactivity = \"all\""
   ]
  },
  {
   "cell_type": "code",
   "execution_count": 84,
   "metadata": {},
   "outputs": [],
   "source": [
    "#데이터셋 불러오기\n",
    "wine_data=pd.read_csv(\"wine_quality.csv\")"
   ]
  },
  {
   "cell_type": "markdown",
   "metadata": {
    "id": "Ex_JS_GUYqzE"
   },
   "source": [
    "## 데이터 전처리, EDA 및 시각화"
   ]
  },
  {
   "cell_type": "markdown",
   "metadata": {
    "id": "DNtVEgliYqzE"
   },
   "source": [
    "### wine_data 데이터를 살펴보고, 쓸모 없는 column을 삭제하시오.(index column 삭제)"
   ]
  },
  {
   "cell_type": "code",
   "execution_count": 85,
   "metadata": {},
   "outputs": [
    {
     "data": {
      "text/html": [
       "<div>\n",
       "<style scoped>\n",
       "    .dataframe tbody tr th:only-of-type {\n",
       "        vertical-align: middle;\n",
       "    }\n",
       "\n",
       "    .dataframe tbody tr th {\n",
       "        vertical-align: top;\n",
       "    }\n",
       "\n",
       "    .dataframe thead th {\n",
       "        text-align: right;\n",
       "    }\n",
       "</style>\n",
       "<table border=\"1\" class=\"dataframe\">\n",
       "  <thead>\n",
       "    <tr style=\"text-align: right;\">\n",
       "      <th></th>\n",
       "      <th>index</th>\n",
       "      <th>quality</th>\n",
       "      <th>fixed acidity</th>\n",
       "      <th>volatile acidity</th>\n",
       "      <th>citric acid</th>\n",
       "      <th>residual sugar</th>\n",
       "      <th>chlorides</th>\n",
       "      <th>free sulfur dioxide</th>\n",
       "      <th>total sulfur dioxide</th>\n",
       "      <th>density</th>\n",
       "      <th>pH</th>\n",
       "      <th>sulphates</th>\n",
       "      <th>alcohol</th>\n",
       "      <th>type</th>\n",
       "    </tr>\n",
       "  </thead>\n",
       "  <tbody>\n",
       "    <tr>\n",
       "      <th>0</th>\n",
       "      <td>0</td>\n",
       "      <td>5</td>\n",
       "      <td>5.6</td>\n",
       "      <td>0.695</td>\n",
       "      <td>0.06</td>\n",
       "      <td>6.8</td>\n",
       "      <td>0.042</td>\n",
       "      <td>9.0</td>\n",
       "      <td>84.0</td>\n",
       "      <td>0.99432</td>\n",
       "      <td>3.44</td>\n",
       "      <td>0.44</td>\n",
       "      <td>10.2</td>\n",
       "      <td>white</td>\n",
       "    </tr>\n",
       "    <tr>\n",
       "      <th>1</th>\n",
       "      <td>1</td>\n",
       "      <td>5</td>\n",
       "      <td>8.8</td>\n",
       "      <td>0.610</td>\n",
       "      <td>0.14</td>\n",
       "      <td>2.4</td>\n",
       "      <td>0.067</td>\n",
       "      <td>10.0</td>\n",
       "      <td>42.0</td>\n",
       "      <td>0.99690</td>\n",
       "      <td>3.19</td>\n",
       "      <td>0.59</td>\n",
       "      <td>9.5</td>\n",
       "      <td>red</td>\n",
       "    </tr>\n",
       "    <tr>\n",
       "      <th>2</th>\n",
       "      <td>2</td>\n",
       "      <td>5</td>\n",
       "      <td>7.9</td>\n",
       "      <td>0.210</td>\n",
       "      <td>0.39</td>\n",
       "      <td>2.0</td>\n",
       "      <td>0.057</td>\n",
       "      <td>21.0</td>\n",
       "      <td>138.0</td>\n",
       "      <td>0.99176</td>\n",
       "      <td>3.05</td>\n",
       "      <td>0.52</td>\n",
       "      <td>10.9</td>\n",
       "      <td>white</td>\n",
       "    </tr>\n",
       "  </tbody>\n",
       "</table>\n",
       "</div>"
      ],
      "text/plain": [
       "   index  quality  fixed acidity  volatile acidity  citric acid  \\\n",
       "0      0        5            5.6             0.695         0.06   \n",
       "1      1        5            8.8             0.610         0.14   \n",
       "2      2        5            7.9             0.210         0.39   \n",
       "\n",
       "   residual sugar  chlorides  free sulfur dioxide  total sulfur dioxide  \\\n",
       "0             6.8      0.042                  9.0                  84.0   \n",
       "1             2.4      0.067                 10.0                  42.0   \n",
       "2             2.0      0.057                 21.0                 138.0   \n",
       "\n",
       "   density    pH  sulphates  alcohol   type  \n",
       "0  0.99432  3.44       0.44     10.2  white  \n",
       "1  0.99690  3.19       0.59      9.5    red  \n",
       "2  0.99176  3.05       0.52     10.9  white  "
      ]
     },
     "execution_count": 85,
     "metadata": {},
     "output_type": "execute_result"
    },
    {
     "data": {
      "text/html": [
       "<div>\n",
       "<style scoped>\n",
       "    .dataframe tbody tr th:only-of-type {\n",
       "        vertical-align: middle;\n",
       "    }\n",
       "\n",
       "    .dataframe tbody tr th {\n",
       "        vertical-align: top;\n",
       "    }\n",
       "\n",
       "    .dataframe thead th {\n",
       "        text-align: right;\n",
       "    }\n",
       "</style>\n",
       "<table border=\"1\" class=\"dataframe\">\n",
       "  <thead>\n",
       "    <tr style=\"text-align: right;\">\n",
       "      <th></th>\n",
       "      <th>quality</th>\n",
       "      <th>fixed acidity</th>\n",
       "      <th>volatile acidity</th>\n",
       "      <th>citric acid</th>\n",
       "      <th>residual sugar</th>\n",
       "      <th>chlorides</th>\n",
       "      <th>free sulfur dioxide</th>\n",
       "      <th>total sulfur dioxide</th>\n",
       "      <th>density</th>\n",
       "      <th>pH</th>\n",
       "      <th>sulphates</th>\n",
       "      <th>alcohol</th>\n",
       "      <th>type</th>\n",
       "    </tr>\n",
       "  </thead>\n",
       "  <tbody>\n",
       "    <tr>\n",
       "      <th>0</th>\n",
       "      <td>5</td>\n",
       "      <td>5.6</td>\n",
       "      <td>0.695</td>\n",
       "      <td>0.06</td>\n",
       "      <td>6.8</td>\n",
       "      <td>0.042</td>\n",
       "      <td>9.0</td>\n",
       "      <td>84.0</td>\n",
       "      <td>0.99432</td>\n",
       "      <td>3.44</td>\n",
       "      <td>0.44</td>\n",
       "      <td>10.2</td>\n",
       "      <td>white</td>\n",
       "    </tr>\n",
       "    <tr>\n",
       "      <th>1</th>\n",
       "      <td>5</td>\n",
       "      <td>8.8</td>\n",
       "      <td>0.610</td>\n",
       "      <td>0.14</td>\n",
       "      <td>2.4</td>\n",
       "      <td>0.067</td>\n",
       "      <td>10.0</td>\n",
       "      <td>42.0</td>\n",
       "      <td>0.99690</td>\n",
       "      <td>3.19</td>\n",
       "      <td>0.59</td>\n",
       "      <td>9.5</td>\n",
       "      <td>red</td>\n",
       "    </tr>\n",
       "    <tr>\n",
       "      <th>2</th>\n",
       "      <td>5</td>\n",
       "      <td>7.9</td>\n",
       "      <td>0.210</td>\n",
       "      <td>0.39</td>\n",
       "      <td>2.0</td>\n",
       "      <td>0.057</td>\n",
       "      <td>21.0</td>\n",
       "      <td>138.0</td>\n",
       "      <td>0.99176</td>\n",
       "      <td>3.05</td>\n",
       "      <td>0.52</td>\n",
       "      <td>10.9</td>\n",
       "      <td>white</td>\n",
       "    </tr>\n",
       "  </tbody>\n",
       "</table>\n",
       "</div>"
      ],
      "text/plain": [
       "   quality  fixed acidity  volatile acidity  citric acid  residual sugar  \\\n",
       "0        5            5.6             0.695         0.06             6.8   \n",
       "1        5            8.8             0.610         0.14             2.4   \n",
       "2        5            7.9             0.210         0.39             2.0   \n",
       "\n",
       "   chlorides  free sulfur dioxide  total sulfur dioxide  density    pH  \\\n",
       "0      0.042                  9.0                  84.0  0.99432  3.44   \n",
       "1      0.067                 10.0                  42.0  0.99690  3.19   \n",
       "2      0.057                 21.0                 138.0  0.99176  3.05   \n",
       "\n",
       "   sulphates  alcohol   type  \n",
       "0       0.44     10.2  white  \n",
       "1       0.59      9.5    red  \n",
       "2       0.52     10.9  white  "
      ]
     },
     "execution_count": 85,
     "metadata": {},
     "output_type": "execute_result"
    }
   ],
   "source": [
    "wine_data.head(3)\n",
    "wine_data.drop(['index'],axis=\"columns\", inplace=True)\n",
    "wine_data.head(3)"
   ]
  },
  {
   "cell_type": "code",
   "execution_count": 86,
   "metadata": {},
   "outputs": [
    {
     "data": {
      "text/plain": [
       "Index(['quality', 'fixed acidity', 'volatile acidity', 'citric acid',\n",
       "       'residual sugar', 'chlorides', 'free sulfur dioxide',\n",
       "       'total sulfur dioxide', 'density', 'pH', 'sulphates', 'alcohol',\n",
       "       'type'],\n",
       "      dtype='object')"
      ]
     },
     "execution_count": 86,
     "metadata": {},
     "output_type": "execute_result"
    }
   ],
   "source": [
    "#wine_data.columns 결과 확인\n",
    "wine_data.columns"
   ]
  },
  {
   "cell_type": "markdown",
   "metadata": {
    "id": "Le9024xjYqzH"
   },
   "source": [
    "### info()를 결측치가 있는지 확인하고, describe()를 통해 수치형 피쳐들의 scale을 살펴보고, 스케일링을 진행해야 하는지 살펴보시오. "
   ]
  },
  {
   "cell_type": "code",
   "execution_count": 87,
   "metadata": {},
   "outputs": [
    {
     "name": "stdout",
     "output_type": "stream",
     "text": [
      "<class 'pandas.core.frame.DataFrame'>\n",
      "RangeIndex: 5497 entries, 0 to 5496\n",
      "Data columns (total 13 columns):\n",
      " #   Column                Non-Null Count  Dtype  \n",
      "---  ------                --------------  -----  \n",
      " 0   quality               5497 non-null   int64  \n",
      " 1   fixed acidity         5497 non-null   float64\n",
      " 2   volatile acidity      5497 non-null   float64\n",
      " 3   citric acid           5497 non-null   float64\n",
      " 4   residual sugar        5497 non-null   float64\n",
      " 5   chlorides             5497 non-null   float64\n",
      " 6   free sulfur dioxide   5497 non-null   float64\n",
      " 7   total sulfur dioxide  5497 non-null   float64\n",
      " 8   density               5497 non-null   float64\n",
      " 9   pH                    5497 non-null   float64\n",
      " 10  sulphates             5497 non-null   float64\n",
      " 11  alcohol               5497 non-null   float64\n",
      " 12  type                  5497 non-null   object \n",
      "dtypes: float64(11), int64(1), object(1)\n",
      "memory usage: 558.4+ KB\n"
     ]
    }
   ],
   "source": [
    "wine_data.info()"
   ]
  },
  {
   "cell_type": "code",
   "execution_count": 88,
   "metadata": {},
   "outputs": [
    {
     "data": {
      "text/html": [
       "<div>\n",
       "<style scoped>\n",
       "    .dataframe tbody tr th:only-of-type {\n",
       "        vertical-align: middle;\n",
       "    }\n",
       "\n",
       "    .dataframe tbody tr th {\n",
       "        vertical-align: top;\n",
       "    }\n",
       "\n",
       "    .dataframe thead th {\n",
       "        text-align: right;\n",
       "    }\n",
       "</style>\n",
       "<table border=\"1\" class=\"dataframe\">\n",
       "  <thead>\n",
       "    <tr style=\"text-align: right;\">\n",
       "      <th></th>\n",
       "      <th>quality</th>\n",
       "      <th>fixed acidity</th>\n",
       "      <th>volatile acidity</th>\n",
       "      <th>citric acid</th>\n",
       "      <th>residual sugar</th>\n",
       "      <th>chlorides</th>\n",
       "      <th>free sulfur dioxide</th>\n",
       "      <th>total sulfur dioxide</th>\n",
       "      <th>density</th>\n",
       "      <th>pH</th>\n",
       "      <th>sulphates</th>\n",
       "      <th>alcohol</th>\n",
       "    </tr>\n",
       "  </thead>\n",
       "  <tbody>\n",
       "    <tr>\n",
       "      <th>count</th>\n",
       "      <td>5497.000000</td>\n",
       "      <td>5497.000000</td>\n",
       "      <td>5497.000000</td>\n",
       "      <td>5497.000000</td>\n",
       "      <td>5497.000000</td>\n",
       "      <td>5497.000000</td>\n",
       "      <td>5497.000000</td>\n",
       "      <td>5497.000000</td>\n",
       "      <td>5497.000000</td>\n",
       "      <td>5497.000000</td>\n",
       "      <td>5497.000000</td>\n",
       "      <td>5497.000000</td>\n",
       "    </tr>\n",
       "    <tr>\n",
       "      <th>mean</th>\n",
       "      <td>5.818992</td>\n",
       "      <td>7.210115</td>\n",
       "      <td>0.338163</td>\n",
       "      <td>0.318543</td>\n",
       "      <td>5.438075</td>\n",
       "      <td>0.055808</td>\n",
       "      <td>30.417682</td>\n",
       "      <td>115.566491</td>\n",
       "      <td>0.994673</td>\n",
       "      <td>3.219502</td>\n",
       "      <td>0.530524</td>\n",
       "      <td>10.504918</td>\n",
       "    </tr>\n",
       "    <tr>\n",
       "      <th>std</th>\n",
       "      <td>0.870311</td>\n",
       "      <td>1.287579</td>\n",
       "      <td>0.163224</td>\n",
       "      <td>0.145104</td>\n",
       "      <td>4.756676</td>\n",
       "      <td>0.034653</td>\n",
       "      <td>17.673881</td>\n",
       "      <td>56.288223</td>\n",
       "      <td>0.003014</td>\n",
       "      <td>0.160713</td>\n",
       "      <td>0.149396</td>\n",
       "      <td>1.194524</td>\n",
       "    </tr>\n",
       "    <tr>\n",
       "      <th>min</th>\n",
       "      <td>3.000000</td>\n",
       "      <td>3.800000</td>\n",
       "      <td>0.080000</td>\n",
       "      <td>0.000000</td>\n",
       "      <td>0.600000</td>\n",
       "      <td>0.009000</td>\n",
       "      <td>1.000000</td>\n",
       "      <td>6.000000</td>\n",
       "      <td>0.987110</td>\n",
       "      <td>2.740000</td>\n",
       "      <td>0.220000</td>\n",
       "      <td>8.000000</td>\n",
       "    </tr>\n",
       "    <tr>\n",
       "      <th>25%</th>\n",
       "      <td>5.000000</td>\n",
       "      <td>6.400000</td>\n",
       "      <td>0.230000</td>\n",
       "      <td>0.250000</td>\n",
       "      <td>1.800000</td>\n",
       "      <td>0.038000</td>\n",
       "      <td>17.000000</td>\n",
       "      <td>78.000000</td>\n",
       "      <td>0.992300</td>\n",
       "      <td>3.110000</td>\n",
       "      <td>0.430000</td>\n",
       "      <td>9.500000</td>\n",
       "    </tr>\n",
       "    <tr>\n",
       "      <th>50%</th>\n",
       "      <td>6.000000</td>\n",
       "      <td>7.000000</td>\n",
       "      <td>0.290000</td>\n",
       "      <td>0.310000</td>\n",
       "      <td>3.000000</td>\n",
       "      <td>0.047000</td>\n",
       "      <td>29.000000</td>\n",
       "      <td>118.000000</td>\n",
       "      <td>0.994800</td>\n",
       "      <td>3.210000</td>\n",
       "      <td>0.510000</td>\n",
       "      <td>10.300000</td>\n",
       "    </tr>\n",
       "    <tr>\n",
       "      <th>75%</th>\n",
       "      <td>6.000000</td>\n",
       "      <td>7.700000</td>\n",
       "      <td>0.400000</td>\n",
       "      <td>0.390000</td>\n",
       "      <td>8.100000</td>\n",
       "      <td>0.064000</td>\n",
       "      <td>41.000000</td>\n",
       "      <td>155.000000</td>\n",
       "      <td>0.996930</td>\n",
       "      <td>3.320000</td>\n",
       "      <td>0.600000</td>\n",
       "      <td>11.300000</td>\n",
       "    </tr>\n",
       "    <tr>\n",
       "      <th>max</th>\n",
       "      <td>9.000000</td>\n",
       "      <td>15.900000</td>\n",
       "      <td>1.580000</td>\n",
       "      <td>1.660000</td>\n",
       "      <td>65.800000</td>\n",
       "      <td>0.610000</td>\n",
       "      <td>289.000000</td>\n",
       "      <td>440.000000</td>\n",
       "      <td>1.038980</td>\n",
       "      <td>4.010000</td>\n",
       "      <td>2.000000</td>\n",
       "      <td>14.900000</td>\n",
       "    </tr>\n",
       "  </tbody>\n",
       "</table>\n",
       "</div>"
      ],
      "text/plain": [
       "           quality  fixed acidity  volatile acidity  citric acid  \\\n",
       "count  5497.000000    5497.000000       5497.000000  5497.000000   \n",
       "mean      5.818992       7.210115          0.338163     0.318543   \n",
       "std       0.870311       1.287579          0.163224     0.145104   \n",
       "min       3.000000       3.800000          0.080000     0.000000   \n",
       "25%       5.000000       6.400000          0.230000     0.250000   \n",
       "50%       6.000000       7.000000          0.290000     0.310000   \n",
       "75%       6.000000       7.700000          0.400000     0.390000   \n",
       "max       9.000000      15.900000          1.580000     1.660000   \n",
       "\n",
       "       residual sugar    chlorides  free sulfur dioxide  total sulfur dioxide  \\\n",
       "count     5497.000000  5497.000000          5497.000000           5497.000000   \n",
       "mean         5.438075     0.055808            30.417682            115.566491   \n",
       "std          4.756676     0.034653            17.673881             56.288223   \n",
       "min          0.600000     0.009000             1.000000              6.000000   \n",
       "25%          1.800000     0.038000            17.000000             78.000000   \n",
       "50%          3.000000     0.047000            29.000000            118.000000   \n",
       "75%          8.100000     0.064000            41.000000            155.000000   \n",
       "max         65.800000     0.610000           289.000000            440.000000   \n",
       "\n",
       "           density           pH    sulphates      alcohol  \n",
       "count  5497.000000  5497.000000  5497.000000  5497.000000  \n",
       "mean      0.994673     3.219502     0.530524    10.504918  \n",
       "std       0.003014     0.160713     0.149396     1.194524  \n",
       "min       0.987110     2.740000     0.220000     8.000000  \n",
       "25%       0.992300     3.110000     0.430000     9.500000  \n",
       "50%       0.994800     3.210000     0.510000    10.300000  \n",
       "75%       0.996930     3.320000     0.600000    11.300000  \n",
       "max       1.038980     4.010000     2.000000    14.900000  "
      ]
     },
     "execution_count": 88,
     "metadata": {},
     "output_type": "execute_result"
    }
   ],
   "source": [
    "wine_data.describe()"
   ]
  },
  {
   "cell_type": "markdown",
   "metadata": {},
   "source": [
    "표준편차가 큰 free sulfur dioxide,total sulfur dioxide 변수 스케일링 필요할 듯"
   ]
  },
  {
   "cell_type": "markdown",
   "metadata": {
    "id": "6hY00gS0YqzJ"
   },
   "source": [
    "### wine_data에서 각 피쳐들 간의 상관관계를 나타내는 히트맵을 출력하시오."
   ]
  },
  {
   "cell_type": "code",
   "execution_count": 89,
   "metadata": {},
   "outputs": [
    {
     "data": {
      "text/plain": [
       "<AxesSubplot:>"
      ]
     },
     "execution_count": 89,
     "metadata": {},
     "output_type": "execute_result"
    },
    {
     "data": {
      "image/png": "[encoded data removed]",
      "text/plain": [
       "<Figure size 432x288 with 2 Axes>"
      ]
     },
     "metadata": {
      "needs_background": "light"
     },
     "output_type": "display_data"
    }
   ],
   "source": [
    "sns.heatmap(wine_data.corr())"
   ]
  },
  {
   "cell_type": "markdown",
   "metadata": {
    "id": "0sLcOUTHYqzK"
   },
   "source": [
    "### 데이터에서 피쳐값과 타겟값을 분리하여 각각 X_wine, y_wine으로 저장하시오. (target은 quality)"
   ]
  },
  {
   "cell_type": "code",
   "execution_count": 90,
   "metadata": {},
   "outputs": [
    {
     "data": {
      "text/html": [
       "<div>\n",
       "<style scoped>\n",
       "    .dataframe tbody tr th:only-of-type {\n",
       "        vertical-align: middle;\n",
       "    }\n",
       "\n",
       "    .dataframe tbody tr th {\n",
       "        vertical-align: top;\n",
       "    }\n",
       "\n",
       "    .dataframe thead th {\n",
       "        text-align: right;\n",
       "    }\n",
       "</style>\n",
       "<table border=\"1\" class=\"dataframe\">\n",
       "  <thead>\n",
       "    <tr style=\"text-align: right;\">\n",
       "      <th></th>\n",
       "      <th>fixed acidity</th>\n",
       "      <th>volatile acidity</th>\n",
       "      <th>citric acid</th>\n",
       "      <th>residual sugar</th>\n",
       "      <th>chlorides</th>\n",
       "      <th>free sulfur dioxide</th>\n",
       "      <th>total sulfur dioxide</th>\n",
       "      <th>density</th>\n",
       "      <th>pH</th>\n",
       "      <th>sulphates</th>\n",
       "      <th>alcohol</th>\n",
       "      <th>type</th>\n",
       "    </tr>\n",
       "  </thead>\n",
       "  <tbody>\n",
       "    <tr>\n",
       "      <th>0</th>\n",
       "      <td>5.6</td>\n",
       "      <td>0.695</td>\n",
       "      <td>0.06</td>\n",
       "      <td>6.8</td>\n",
       "      <td>0.042</td>\n",
       "      <td>9.0</td>\n",
       "      <td>84.0</td>\n",
       "      <td>0.99432</td>\n",
       "      <td>3.44</td>\n",
       "      <td>0.44</td>\n",
       "      <td>10.2</td>\n",
       "      <td>white</td>\n",
       "    </tr>\n",
       "    <tr>\n",
       "      <th>1</th>\n",
       "      <td>8.8</td>\n",
       "      <td>0.610</td>\n",
       "      <td>0.14</td>\n",
       "      <td>2.4</td>\n",
       "      <td>0.067</td>\n",
       "      <td>10.0</td>\n",
       "      <td>42.0</td>\n",
       "      <td>0.99690</td>\n",
       "      <td>3.19</td>\n",
       "      <td>0.59</td>\n",
       "      <td>9.5</td>\n",
       "      <td>red</td>\n",
       "    </tr>\n",
       "    <tr>\n",
       "      <th>2</th>\n",
       "      <td>7.9</td>\n",
       "      <td>0.210</td>\n",
       "      <td>0.39</td>\n",
       "      <td>2.0</td>\n",
       "      <td>0.057</td>\n",
       "      <td>21.0</td>\n",
       "      <td>138.0</td>\n",
       "      <td>0.99176</td>\n",
       "      <td>3.05</td>\n",
       "      <td>0.52</td>\n",
       "      <td>10.9</td>\n",
       "      <td>white</td>\n",
       "    </tr>\n",
       "    <tr>\n",
       "      <th>3</th>\n",
       "      <td>7.0</td>\n",
       "      <td>0.210</td>\n",
       "      <td>0.31</td>\n",
       "      <td>6.0</td>\n",
       "      <td>0.046</td>\n",
       "      <td>29.0</td>\n",
       "      <td>108.0</td>\n",
       "      <td>0.99390</td>\n",
       "      <td>3.26</td>\n",
       "      <td>0.50</td>\n",
       "      <td>10.8</td>\n",
       "      <td>white</td>\n",
       "    </tr>\n",
       "    <tr>\n",
       "      <th>4</th>\n",
       "      <td>7.8</td>\n",
       "      <td>0.400</td>\n",
       "      <td>0.26</td>\n",
       "      <td>9.5</td>\n",
       "      <td>0.059</td>\n",
       "      <td>32.0</td>\n",
       "      <td>178.0</td>\n",
       "      <td>0.99550</td>\n",
       "      <td>3.04</td>\n",
       "      <td>0.43</td>\n",
       "      <td>10.9</td>\n",
       "      <td>white</td>\n",
       "    </tr>\n",
       "    <tr>\n",
       "      <th>...</th>\n",
       "      <td>...</td>\n",
       "      <td>...</td>\n",
       "      <td>...</td>\n",
       "      <td>...</td>\n",
       "      <td>...</td>\n",
       "      <td>...</td>\n",
       "      <td>...</td>\n",
       "      <td>...</td>\n",
       "      <td>...</td>\n",
       "      <td>...</td>\n",
       "      <td>...</td>\n",
       "      <td>...</td>\n",
       "    </tr>\n",
       "    <tr>\n",
       "      <th>5492</th>\n",
       "      <td>7.7</td>\n",
       "      <td>0.150</td>\n",
       "      <td>0.29</td>\n",
       "      <td>1.3</td>\n",
       "      <td>0.029</td>\n",
       "      <td>10.0</td>\n",
       "      <td>64.0</td>\n",
       "      <td>0.99320</td>\n",
       "      <td>3.35</td>\n",
       "      <td>0.39</td>\n",
       "      <td>10.1</td>\n",
       "      <td>white</td>\n",
       "    </tr>\n",
       "    <tr>\n",
       "      <th>5493</th>\n",
       "      <td>6.3</td>\n",
       "      <td>0.180</td>\n",
       "      <td>0.36</td>\n",
       "      <td>1.2</td>\n",
       "      <td>0.034</td>\n",
       "      <td>26.0</td>\n",
       "      <td>111.0</td>\n",
       "      <td>0.99074</td>\n",
       "      <td>3.16</td>\n",
       "      <td>0.51</td>\n",
       "      <td>11.0</td>\n",
       "      <td>white</td>\n",
       "    </tr>\n",
       "    <tr>\n",
       "      <th>5494</th>\n",
       "      <td>7.8</td>\n",
       "      <td>0.150</td>\n",
       "      <td>0.34</td>\n",
       "      <td>1.1</td>\n",
       "      <td>0.035</td>\n",
       "      <td>31.0</td>\n",
       "      <td>93.0</td>\n",
       "      <td>0.99096</td>\n",
       "      <td>3.07</td>\n",
       "      <td>0.72</td>\n",
       "      <td>11.3</td>\n",
       "      <td>white</td>\n",
       "    </tr>\n",
       "    <tr>\n",
       "      <th>5495</th>\n",
       "      <td>6.6</td>\n",
       "      <td>0.410</td>\n",
       "      <td>0.31</td>\n",
       "      <td>1.6</td>\n",
       "      <td>0.042</td>\n",
       "      <td>18.0</td>\n",
       "      <td>101.0</td>\n",
       "      <td>0.99195</td>\n",
       "      <td>3.13</td>\n",
       "      <td>0.41</td>\n",
       "      <td>10.5</td>\n",
       "      <td>white</td>\n",
       "    </tr>\n",
       "    <tr>\n",
       "      <th>5496</th>\n",
       "      <td>7.0</td>\n",
       "      <td>0.350</td>\n",
       "      <td>0.17</td>\n",
       "      <td>1.1</td>\n",
       "      <td>0.049</td>\n",
       "      <td>7.0</td>\n",
       "      <td>119.0</td>\n",
       "      <td>0.99297</td>\n",
       "      <td>3.13</td>\n",
       "      <td>0.36</td>\n",
       "      <td>9.7</td>\n",
       "      <td>white</td>\n",
       "    </tr>\n",
       "  </tbody>\n",
       "</table>\n",
       "<p>5497 rows × 12 columns</p>\n",
       "</div>"
      ],
      "text/plain": [
       "      fixed acidity  volatile acidity  citric acid  residual sugar  chlorides  \\\n",
       "0               5.6             0.695         0.06             6.8      0.042   \n",
       "1               8.8             0.610         0.14             2.4      0.067   \n",
       "2               7.9             0.210         0.39             2.0      0.057   \n",
       "3               7.0             0.210         0.31             6.0      0.046   \n",
       "4               7.8             0.400         0.26             9.5      0.059   \n",
       "...             ...               ...          ...             ...        ...   \n",
       "5492            7.7             0.150         0.29             1.3      0.029   \n",
       "5493            6.3             0.180         0.36             1.2      0.034   \n",
       "5494            7.8             0.150         0.34             1.1      0.035   \n",
       "5495            6.6             0.410         0.31             1.6      0.042   \n",
       "5496            7.0             0.350         0.17             1.1      0.049   \n",
       "\n",
       "      free sulfur dioxide  total sulfur dioxide  density    pH  sulphates  \\\n",
       "0                     9.0                  84.0  0.99432  3.44       0.44   \n",
       "1                    10.0                  42.0  0.99690  3.19       0.59   \n",
       "2                    21.0                 138.0  0.99176  3.05       0.52   \n",
       "3                    29.0                 108.0  0.99390  3.26       0.50   \n",
       "4                    32.0                 178.0  0.99550  3.04       0.43   \n",
       "...                   ...                   ...      ...   ...        ...   \n",
       "5492                 10.0                  64.0  0.99320  3.35       0.39   \n",
       "5493                 26.0                 111.0  0.99074  3.16       0.51   \n",
       "5494                 31.0                  93.0  0.99096  3.07       0.72   \n",
       "5495                 18.0                 101.0  0.99195  3.13       0.41   \n",
       "5496                  7.0                 119.0  0.99297  3.13       0.36   \n",
       "\n",
       "      alcohol   type  \n",
       "0        10.2  white  \n",
       "1         9.5    red  \n",
       "2        10.9  white  \n",
       "3        10.8  white  \n",
       "4        10.9  white  \n",
       "...       ...    ...  \n",
       "5492     10.1  white  \n",
       "5493     11.0  white  \n",
       "5494     11.3  white  \n",
       "5495     10.5  white  \n",
       "5496      9.7  white  \n",
       "\n",
       "[5497 rows x 12 columns]"
      ]
     },
     "execution_count": 90,
     "metadata": {},
     "output_type": "execute_result"
    }
   ],
   "source": [
    "#데이터 확인(X_wine)\n",
    "X_wine=wine_data.drop('quality', axis=1)\n",
    "X_wine"
   ]
  },
  {
   "cell_type": "code",
   "execution_count": 91,
   "metadata": {},
   "outputs": [
    {
     "data": {
      "text/plain": [
       "0       5\n",
       "1       5\n",
       "2       5\n",
       "3       6\n",
       "4       6\n",
       "       ..\n",
       "5492    5\n",
       "5493    6\n",
       "5494    7\n",
       "5495    5\n",
       "5496    6\n",
       "Name: quality, Length: 5497, dtype: int64"
      ]
     },
     "execution_count": 91,
     "metadata": {},
     "output_type": "execute_result"
    }
   ],
   "source": [
    "#데이터 확인(y_wine)\n",
    "y_wine=wine_data.quality\n",
    "y_wine"
   ]
  },
  {
   "cell_type": "markdown",
   "metadata": {
    "id": "exsdnKdxYqzL"
   },
   "source": [
    "### 피쳐값 중 카테고리 변수가 1가지 있다. 이에 대해 Encoding을 진행하시오."
   ]
  },
  {
   "cell_type": "code",
   "execution_count": 92,
   "metadata": {},
   "outputs": [
    {
     "data": {
      "text/plain": [
       "array(['white', 'red'], dtype=object)"
      ]
     },
     "execution_count": 92,
     "metadata": {},
     "output_type": "execute_result"
    }
   ],
   "source": [
    "X_wine.type.unique()"
   ]
  },
  {
   "cell_type": "code",
   "execution_count": 93,
   "metadata": {},
   "outputs": [],
   "source": [
    "from sklearn.preprocessing import LabelEncoder\n",
    "label = LabelEncoder()\n",
    "X_wine['type'] = label.fit_transform(X_wine['type'])"
   ]
  },
  {
   "cell_type": "code",
   "execution_count": 94,
   "metadata": {},
   "outputs": [
    {
     "data": {
      "text/plain": [
       "array([1, 0])"
      ]
     },
     "execution_count": 94,
     "metadata": {},
     "output_type": "execute_result"
    }
   ],
   "source": [
    "#Encoding이 잘 되었는지 확인\n",
    "X_wine['type'].unique()"
   ]
  },
  {
   "cell_type": "markdown",
   "metadata": {
    "id": "FG_5_eGJYqzM"
   },
   "source": [
    "### 피쳐값에 대해 MinMaxScaler()를 이용해 스케일링을 하시오.\n",
    "- 스케일링 된 피쳐값은 데이터프레임 형식으로 X_wine_scaled에 저장"
   ]
  },
  {
   "cell_type": "code",
   "execution_count": 95,
   "metadata": {},
   "outputs": [],
   "source": [
    "from sklearn.preprocessing import MinMaxScaler\n",
    "scaler=MinMaxScaler()\n",
    "#scaler.fit_transform(X_wine)\n",
    "X_wine_scaled=pd.DataFrame(data=scaler.fit_transform(X_wine), columns=X_wine.columns)"
   ]
  },
  {
   "cell_type": "code",
   "execution_count": 96,
   "metadata": {},
   "outputs": [
    {
     "data": {
      "text/html": [
       "<div>\n",
       "<style scoped>\n",
       "    .dataframe tbody tr th:only-of-type {\n",
       "        vertical-align: middle;\n",
       "    }\n",
       "\n",
       "    .dataframe tbody tr th {\n",
       "        vertical-align: top;\n",
       "    }\n",
       "\n",
       "    .dataframe thead th {\n",
       "        text-align: right;\n",
       "    }\n",
       "</style>\n",
       "<table border=\"1\" class=\"dataframe\">\n",
       "  <thead>\n",
       "    <tr style=\"text-align: right;\">\n",
       "      <th></th>\n",
       "      <th>fixed acidity</th>\n",
       "      <th>volatile acidity</th>\n",
       "      <th>citric acid</th>\n",
       "      <th>residual sugar</th>\n",
       "      <th>chlorides</th>\n",
       "      <th>free sulfur dioxide</th>\n",
       "      <th>total sulfur dioxide</th>\n",
       "      <th>density</th>\n",
       "      <th>pH</th>\n",
       "      <th>sulphates</th>\n",
       "      <th>alcohol</th>\n",
       "      <th>type</th>\n",
       "    </tr>\n",
       "  </thead>\n",
       "  <tbody>\n",
       "    <tr>\n",
       "      <th>0</th>\n",
       "      <td>0.148760</td>\n",
       "      <td>0.410000</td>\n",
       "      <td>0.036145</td>\n",
       "      <td>0.095092</td>\n",
       "      <td>0.054908</td>\n",
       "      <td>0.027778</td>\n",
       "      <td>0.179724</td>\n",
       "      <td>0.139001</td>\n",
       "      <td>0.551181</td>\n",
       "      <td>0.123596</td>\n",
       "      <td>0.318841</td>\n",
       "      <td>1.0</td>\n",
       "    </tr>\n",
       "    <tr>\n",
       "      <th>1</th>\n",
       "      <td>0.413223</td>\n",
       "      <td>0.353333</td>\n",
       "      <td>0.084337</td>\n",
       "      <td>0.027607</td>\n",
       "      <td>0.096506</td>\n",
       "      <td>0.031250</td>\n",
       "      <td>0.082949</td>\n",
       "      <td>0.188741</td>\n",
       "      <td>0.354331</td>\n",
       "      <td>0.207865</td>\n",
       "      <td>0.217391</td>\n",
       "      <td>0.0</td>\n",
       "    </tr>\n",
       "    <tr>\n",
       "      <th>2</th>\n",
       "      <td>0.338843</td>\n",
       "      <td>0.086667</td>\n",
       "      <td>0.234940</td>\n",
       "      <td>0.021472</td>\n",
       "      <td>0.079867</td>\n",
       "      <td>0.069444</td>\n",
       "      <td>0.304147</td>\n",
       "      <td>0.089647</td>\n",
       "      <td>0.244094</td>\n",
       "      <td>0.168539</td>\n",
       "      <td>0.420290</td>\n",
       "      <td>1.0</td>\n",
       "    </tr>\n",
       "    <tr>\n",
       "      <th>3</th>\n",
       "      <td>0.264463</td>\n",
       "      <td>0.086667</td>\n",
       "      <td>0.186747</td>\n",
       "      <td>0.082822</td>\n",
       "      <td>0.061564</td>\n",
       "      <td>0.097222</td>\n",
       "      <td>0.235023</td>\n",
       "      <td>0.130904</td>\n",
       "      <td>0.409449</td>\n",
       "      <td>0.157303</td>\n",
       "      <td>0.405797</td>\n",
       "      <td>1.0</td>\n",
       "    </tr>\n",
       "    <tr>\n",
       "      <th>4</th>\n",
       "      <td>0.330579</td>\n",
       "      <td>0.213333</td>\n",
       "      <td>0.156627</td>\n",
       "      <td>0.136503</td>\n",
       "      <td>0.083195</td>\n",
       "      <td>0.107639</td>\n",
       "      <td>0.396313</td>\n",
       "      <td>0.161751</td>\n",
       "      <td>0.236220</td>\n",
       "      <td>0.117978</td>\n",
       "      <td>0.420290</td>\n",
       "      <td>1.0</td>\n",
       "    </tr>\n",
       "    <tr>\n",
       "      <th>...</th>\n",
       "      <td>...</td>\n",
       "      <td>...</td>\n",
       "      <td>...</td>\n",
       "      <td>...</td>\n",
       "      <td>...</td>\n",
       "      <td>...</td>\n",
       "      <td>...</td>\n",
       "      <td>...</td>\n",
       "      <td>...</td>\n",
       "      <td>...</td>\n",
       "      <td>...</td>\n",
       "      <td>...</td>\n",
       "    </tr>\n",
       "    <tr>\n",
       "      <th>5492</th>\n",
       "      <td>0.322314</td>\n",
       "      <td>0.046667</td>\n",
       "      <td>0.174699</td>\n",
       "      <td>0.010736</td>\n",
       "      <td>0.033278</td>\n",
       "      <td>0.031250</td>\n",
       "      <td>0.133641</td>\n",
       "      <td>0.117409</td>\n",
       "      <td>0.480315</td>\n",
       "      <td>0.095506</td>\n",
       "      <td>0.304348</td>\n",
       "      <td>1.0</td>\n",
       "    </tr>\n",
       "    <tr>\n",
       "      <th>5493</th>\n",
       "      <td>0.206612</td>\n",
       "      <td>0.066667</td>\n",
       "      <td>0.216867</td>\n",
       "      <td>0.009202</td>\n",
       "      <td>0.041597</td>\n",
       "      <td>0.086806</td>\n",
       "      <td>0.241935</td>\n",
       "      <td>0.069983</td>\n",
       "      <td>0.330709</td>\n",
       "      <td>0.162921</td>\n",
       "      <td>0.434783</td>\n",
       "      <td>1.0</td>\n",
       "    </tr>\n",
       "    <tr>\n",
       "      <th>5494</th>\n",
       "      <td>0.330579</td>\n",
       "      <td>0.046667</td>\n",
       "      <td>0.204819</td>\n",
       "      <td>0.007669</td>\n",
       "      <td>0.043261</td>\n",
       "      <td>0.104167</td>\n",
       "      <td>0.200461</td>\n",
       "      <td>0.074224</td>\n",
       "      <td>0.259843</td>\n",
       "      <td>0.280899</td>\n",
       "      <td>0.478261</td>\n",
       "      <td>1.0</td>\n",
       "    </tr>\n",
       "    <tr>\n",
       "      <th>5495</th>\n",
       "      <td>0.231405</td>\n",
       "      <td>0.220000</td>\n",
       "      <td>0.186747</td>\n",
       "      <td>0.015337</td>\n",
       "      <td>0.054908</td>\n",
       "      <td>0.059028</td>\n",
       "      <td>0.218894</td>\n",
       "      <td>0.093310</td>\n",
       "      <td>0.307087</td>\n",
       "      <td>0.106742</td>\n",
       "      <td>0.362319</td>\n",
       "      <td>1.0</td>\n",
       "    </tr>\n",
       "    <tr>\n",
       "      <th>5496</th>\n",
       "      <td>0.264463</td>\n",
       "      <td>0.180000</td>\n",
       "      <td>0.102410</td>\n",
       "      <td>0.007669</td>\n",
       "      <td>0.066556</td>\n",
       "      <td>0.020833</td>\n",
       "      <td>0.260369</td>\n",
       "      <td>0.112975</td>\n",
       "      <td>0.307087</td>\n",
       "      <td>0.078652</td>\n",
       "      <td>0.246377</td>\n",
       "      <td>1.0</td>\n",
       "    </tr>\n",
       "  </tbody>\n",
       "</table>\n",
       "<p>5497 rows × 12 columns</p>\n",
       "</div>"
      ],
      "text/plain": [
       "      fixed acidity  volatile acidity  citric acid  residual sugar  chlorides  \\\n",
       "0          0.148760          0.410000     0.036145        0.095092   0.054908   \n",
       "1          0.413223          0.353333     0.084337        0.027607   0.096506   \n",
       "2          0.338843          0.086667     0.234940        0.021472   0.079867   \n",
       "3          0.264463          0.086667     0.186747        0.082822   0.061564   \n",
       "4          0.330579          0.213333     0.156627        0.136503   0.083195   \n",
       "...             ...               ...          ...             ...        ...   \n",
       "5492       0.322314          0.046667     0.174699        0.010736   0.033278   \n",
       "5493       0.206612          0.066667     0.216867        0.009202   0.041597   \n",
       "5494       0.330579          0.046667     0.204819        0.007669   0.043261   \n",
       "5495       0.231405          0.220000     0.186747        0.015337   0.054908   \n",
       "5496       0.264463          0.180000     0.102410        0.007669   0.066556   \n",
       "\n",
       "      free sulfur dioxide  total sulfur dioxide   density        pH  \\\n",
       "0                0.027778              0.179724  0.139001  0.551181   \n",
       "1                0.031250              0.082949  0.188741  0.354331   \n",
       "2                0.069444              0.304147  0.089647  0.244094   \n",
       "3                0.097222              0.235023  0.130904  0.409449   \n",
       "4                0.107639              0.396313  0.161751  0.236220   \n",
       "...                   ...                   ...       ...       ...   \n",
       "5492             0.031250              0.133641  0.117409  0.480315   \n",
       "5493             0.086806              0.241935  0.069983  0.330709   \n",
       "5494             0.104167              0.200461  0.074224  0.259843   \n",
       "5495             0.059028              0.218894  0.093310  0.307087   \n",
       "5496             0.020833              0.260369  0.112975  0.307087   \n",
       "\n",
       "      sulphates   alcohol  type  \n",
       "0      0.123596  0.318841   1.0  \n",
       "1      0.207865  0.217391   0.0  \n",
       "2      0.168539  0.420290   1.0  \n",
       "3      0.157303  0.405797   1.0  \n",
       "4      0.117978  0.420290   1.0  \n",
       "...         ...       ...   ...  \n",
       "5492   0.095506  0.304348   1.0  \n",
       "5493   0.162921  0.434783   1.0  \n",
       "5494   0.280899  0.478261   1.0  \n",
       "5495   0.106742  0.362319   1.0  \n",
       "5496   0.078652  0.246377   1.0  \n",
       "\n",
       "[5497 rows x 12 columns]"
      ]
     },
     "execution_count": 96,
     "metadata": {},
     "output_type": "execute_result"
    }
   ],
   "source": [
    "#Scaling 잘 되었는지 확인\n",
    "X_wine_scaled"
   ]
  },
  {
   "cell_type": "markdown",
   "metadata": {
    "id": "FKvIl1gbYqzN"
   },
   "source": [
    "### train_test_split()을 이용해 train set와 test set를 분리하시오.\n",
    "- testset 의 size : 전체 데이터 셋의 20%\n",
    "- 각 set의 이름 : X_train, X_test, y_train, y_test\n",
    "- random_state = 123"
   ]
  },
  {
   "cell_type": "code",
   "execution_count": 97,
   "metadata": {},
   "outputs": [],
   "source": [
    "from sklearn.model_selection import train_test_split\n",
    "X_train, X_test, y_train, y_test=train_test_split(X_wine_scaled,y_wine, test_size=0.2, random_state=123)"
   ]
  },
  {
   "cell_type": "code",
   "execution_count": 98,
   "metadata": {},
   "outputs": [
    {
     "data": {
      "text/plain": [
       "(4397, 12)"
      ]
     },
     "execution_count": 98,
     "metadata": {},
     "output_type": "execute_result"
    },
    {
     "data": {
      "text/plain": [
       "(1100, 12)"
      ]
     },
     "execution_count": 98,
     "metadata": {},
     "output_type": "execute_result"
    },
    {
     "data": {
      "text/plain": [
       "(4397,)"
      ]
     },
     "execution_count": 98,
     "metadata": {},
     "output_type": "execute_result"
    },
    {
     "data": {
      "text/plain": [
       "(1100,)"
      ]
     },
     "execution_count": 98,
     "metadata": {},
     "output_type": "execute_result"
    }
   ],
   "source": [
    "#잘 분리되었는지 확인\n",
    "X_train.shape\n",
    "X_test.shape\n",
    "y_train.shape\n",
    "y_test.shape"
   ]
  },
  {
   "cell_type": "markdown",
   "metadata": {
    "id": "ZP9-jeVFiv01"
   },
   "source": [
    "### GradientBoostingClassifier을 사용해 train data를 fit 한 후, test data로 예측을 수행하고 정확도를 구하시오"
   ]
  },
  {
   "cell_type": "code",
   "execution_count": 17,
   "metadata": {},
   "outputs": [
    {
     "data": {
      "text/plain": [
       "GradientBoostingClassifier()"
      ]
     },
     "execution_count": 17,
     "metadata": {},
     "output_type": "execute_result"
    },
    {
     "name": "stdout",
     "output_type": "stream",
     "text": [
      "GBM 정확도: 0.5427\n",
      "GBM 수행 시간: 4.7 초 \n"
     ]
    }
   ],
   "source": [
    "from sklearn.ensemble import GradientBoostingClassifier\n",
    "from sklearn.metrics import accuracy_score\n",
    "import time\n",
    "import warnings\n",
    "warnings.filterwarnings('ignore')\n",
    "\n",
    "# GBM 수행 시간 측정을 위함. 시작 시간 설정.\n",
    "start_time = time.time()\n",
    "\n",
    "gb_clf = GradientBoostingClassifier()\n",
    "gb_clf.fit(X_train , y_train)\n",
    "gb_pred = gb_clf.predict(X_test)\n",
    "gb_accuracy = accuracy_score(y_test, gb_pred)\n",
    "\n",
    "print('GBM 정확도: {0:.4f}'.format(gb_accuracy))\n",
    "print(\"GBM 수행 시간: {0:.1f} 초 \".format(time.time() - start_time))"
   ]
  },
  {
   "cell_type": "markdown",
   "metadata": {
    "id": "ncw9i-QAq5CO"
   },
   "source": [
    "### GridSearchCV를 사용해 최적 하이퍼 파라미터 조합을 찾으시오\n",
    "params={\n",
    "    'learning_rate':[0.05,0.1],\n",
    "    'n_estimators':[100,500]\n",
    "}"
   ]
  },
  {
   "cell_type": "code",
   "execution_count": 18,
   "metadata": {},
   "outputs": [
    {
     "name": "stdout",
     "output_type": "stream",
     "text": [
      "Fitting 2 folds for each of 4 candidates, totalling 8 fits\n"
     ]
    },
    {
     "data": {
      "text/plain": [
       "GridSearchCV(cv=2, estimator=GradientBoostingClassifier(),\n",
       "             param_grid={'learning_rate': [0.05, 0.1],\n",
       "                         'n_estimators': [100, 500]},\n",
       "             verbose=1)"
      ]
     },
     "execution_count": 18,
     "metadata": {},
     "output_type": "execute_result"
    },
    {
     "name": "stdout",
     "output_type": "stream",
     "text": [
      "최적 하이퍼 파라미터:\n",
      " {'learning_rate': 0.1, 'n_estimators': 500}\n",
      "최고 예측 정확도: 0.5818\n"
     ]
    }
   ],
   "source": [
    "from sklearn.model_selection import GridSearchCV\n",
    "params={ 'learning_rate':[0.05,0.1], 'n_estimators':[100,500] }\n",
    "\n",
    "grid_cv = GridSearchCV(gb_clf , param_grid=params , cv=2 ,verbose=1)\n",
    "grid_cv.fit(X_train , y_train)\n",
    "print('최적 하이퍼 파라미터:\\n', grid_cv.best_params_)\n",
    "print('최고 예측 정확도: {0:.4f}'.format(grid_cv.best_score_))"
   ]
  },
  {
   "cell_type": "markdown",
   "metadata": {
    "id": "Ikzbq-5vrTWb"
   },
   "source": [
    "최적으로 학습된 estimator로 예측을 수행하시오"
   ]
  },
  {
   "cell_type": "code",
   "execution_count": 19,
   "metadata": {},
   "outputs": [
    {
     "name": "stdout",
     "output_type": "stream",
     "text": [
      "GBM 정확도: 0.6182\n"
     ]
    }
   ],
   "source": [
    "gb_pred = grid_cv.best_estimator_.predict(X_test)\n",
    "gb_accuracy = accuracy_score(y_test, gb_pred)\n",
    "print('GBM 정확도: {0:.4f}'.format(gb_accuracy))"
   ]
  },
  {
   "cell_type": "markdown",
   "metadata": {
    "id": "Y3ODggY3WeRz"
   },
   "source": [
    "## XGBoost 및 LightGBM 실습"
   ]
  },
  {
   "cell_type": "markdown",
   "metadata": {
    "id": "sA2WcrL-WeRz"
   },
   "source": [
    "### 사이킷런 래퍼 클래스 XGBoost를 사용해 train 세트를 fit 한 후 test 세트로 예측의 정확도 및 F1 스코어를 출력하시오.\n",
    "- n_estimators=400\n",
    "- learning_rate = 0.1\n",
    "- max_depth = 3"
   ]
  },
  {
   "cell_type": "code",
   "execution_count": 21,
   "metadata": {},
   "outputs": [],
   "source": [
    "#accuracy_score(), f1_score 임포트\n",
    "#f1_score는 기본적으로 이진분류에 사용되므로, 다중분류에서 사용하고 싶으면 average='무엇무엇' 설정해주면 됨\n",
    "#https://scikit-learn.org/stable/modules/generated/sklearn.metrics.f1_score.html 공식 문서 참고\n",
    "from xgboost import XGBClassifier\n",
    "from sklearn.metrics import confusion_matrix, accuracy_score\n",
    "from sklearn.metrics import precision_score, recall_score\n",
    "from sklearn.metrics import f1_score, roc_auc_score\n",
    "\n",
    "def get_clf_eval(y_test, pred=None, pred_proba=None):\n",
    "    accuracy = accuracy_score(y_test , pred)\n",
    "    f1 = f1_score(y_test,pred,average='micro')\n",
    "    print('정확도:',accuracy,'F1:',f1)"
   ]
  },
  {
   "cell_type": "code",
   "execution_count": 26,
   "metadata": {},
   "outputs": [
    {
     "data": {
      "text/plain": [
       "XGBClassifier(base_score=0.5, booster='gbtree', colsample_bylevel=1,\n",
       "              colsample_bynode=1, colsample_bytree=1, eval_metric='mlogloss',\n",
       "              gamma=0, gpu_id=-1, importance_type='gain',\n",
       "              interaction_constraints='', learning_rate=0.1, max_delta_step=0,\n",
       "              max_depth=3, min_child_weight=1, missing=nan,\n",
       "              monotone_constraints='()', n_estimators=400, n_jobs=8,\n",
       "              num_parallel_tree=1, objective='multi:softprob', random_state=0,\n",
       "              reg_alpha=0, reg_lambda=1, scale_pos_weight=None, subsample=1,\n",
       "              tree_method='exact', validate_parameters=1, verbosity=None)"
      ]
     },
     "execution_count": 26,
     "metadata": {},
     "output_type": "execute_result"
    },
    {
     "name": "stdout",
     "output_type": "stream",
     "text": [
      "정확도: 0.5854545454545454 F1: 0.5854545454545454\n"
     ]
    }
   ],
   "source": [
    "xgb_wrapper = XGBClassifier(n_estimators=400, learning_rate=0.1, max_depth=3,eval_metric='mlogloss')\n",
    "xgb_wrapper.fit(X_train, y_train)\n",
    "\n",
    "w_preds = xgb_wrapper.predict(X_test)\n",
    "w_pred_proba = xgb_wrapper.predict_proba(X_test)[:, 1]\n",
    "get_clf_eval(y_test , w_preds, w_pred_proba)"
   ]
  },
  {
   "cell_type": "code",
   "execution_count": null,
   "metadata": {},
   "outputs": [],
   "source": []
  },
  {
   "cell_type": "markdown",
   "metadata": {
    "id": "gQbU03QHWeR0"
   },
   "source": [
    "### 사이킷런 래퍼 클래스 LightGBM와 GridSearchCV를 사용해 최적의 하이퍼 파라미터 조합과 그 하이퍼 파라미터의 예측 정확도를 구하시오.\n",
    "- 'n_estimators' : [100,200,300,400,500]\n",
    "- 'learning_rate' : [0.01,0.05, 0.1, 0.15, 0.2]\n",
    "- 'max_depth' : [3,4,5,6,7]\n",
    "\n",
    "(제 컴퓨터에선 2분정도 걸려욤)"
   ]
  },
  {
   "cell_type": "code",
   "execution_count": 27,
   "metadata": {},
   "outputs": [
    {
     "name": "stdout",
     "output_type": "stream",
     "text": [
      "Fitting 2 folds for each of 125 candidates, totalling 250 fits\n"
     ]
    },
    {
     "data": {
      "text/plain": [
       "GridSearchCV(cv=2, estimator=LGBMClassifier(),\n",
       "             param_grid={'learning_rate': [0.01, 0.05, 0.1, 0.15, 0.2],\n",
       "                         'max_depth': [3, 4, 5, 6, 7],\n",
       "                         'n_estimators': [100, 200, 300, 400, 500]},\n",
       "             verbose=1)"
      ]
     },
     "execution_count": 27,
     "metadata": {},
     "output_type": "execute_result"
    },
    {
     "name": "stdout",
     "output_type": "stream",
     "text": [
      "최적 하이퍼 파라미터:\n",
      " {'learning_rate': 0.15, 'max_depth': 6, 'n_estimators': 100}\n",
      "최고 예측 정확도: 0.6018\n"
     ]
    }
   ],
   "source": [
    "from lightgbm import LGBMClassifier\n",
    "from sklearn.model_selection import GridSearchCV\n",
    "\n",
    "params={'max_depth' : [3,4,5,6,7],'learning_rate' : [0.01,0.05, 0.1, 0.15, 0.2],'n_estimators' : [100,200,300,400,500] }\n",
    "\n",
    "lgbm_clf = LGBMClassifier()\n",
    "grid_cv = GridSearchCV(lgbm_clf , param_grid=params , cv=2 ,verbose=1)\n",
    "grid_cv.fit(X_train , y_train)\n",
    "print('최적 하이퍼 파라미터:\\n', grid_cv.best_params_)\n",
    "print('최고 예측 정확도: {0:.4f}'.format(grid_cv.best_score_))"
   ]
  },
  {
   "cell_type": "markdown",
   "metadata": {
    "id": "BT2PX4PfWeR1"
   },
   "source": [
    "### plot_importance()를 통해 피쳐 중요도를 시각화하고, 어떤 피쳐가 가장 중요한지 기술하시오."
   ]
  },
  {
   "cell_type": "code",
   "execution_count": 29,
   "metadata": {},
   "outputs": [
    {
     "data": {
      "text/plain": [
       "<AxesSubplot:title={'center':'Feature importance'}, xlabel='F score', ylabel='Features'>"
      ]
     },
     "execution_count": 29,
     "metadata": {},
     "output_type": "execute_result"
    },
    {
     "data": {
      "image/png": "[encoded data removed]",
      "text/plain": [
       "<Figure size 720x864 with 1 Axes>"
      ]
     },
     "metadata": {
      "needs_background": "light"
     },
     "output_type": "display_data"
    }
   ],
   "source": [
    "from xgboost import plot_importance\n",
    "import matplotlib.pyplot as plt\n",
    "%matplotlib inline\n",
    "\n",
    "fig, ax = plt.subplots(figsize=(10, 12))\n",
    "plot_importance(xgb_wrapper, ax=ax)"
   ]
  },
  {
   "cell_type": "markdown",
   "metadata": {
    "id": "CtJ8XEnaWj6f"
   },
   "source": [
    "## 스태킹 실습"
   ]
  },
  {
   "cell_type": "markdown",
   "metadata": {
    "id": "j9LpDNKwWj6f"
   },
   "source": [
    "### CV 세트 기반의 스태킹을 진행하려 한다. 개별 기반 모델들이 교차 검증을 통해 최종 메타 모델이 사용할 학습용, 테스트용 데이터를 생성하기 위한 함수를 작성하시오.\n",
    "```\n",
    "def get_stacking_base_datasets(model, X_train_n, y_train_n, X_test_n, n_folds ):\n",
    "    return train_fold_pred , test_pred_mean\n",
    "```"
   ]
  },
  {
   "cell_type": "code",
   "execution_count": 118,
   "metadata": {},
   "outputs": [],
   "source": [
    "from sklearn.model_selection import KFold\n",
    "from sklearn.metrics import mean_absolute_error\n",
    "import warnings\n",
    "warnings.filterwarnings(action='ignore')\n",
    "\n",
    "# 개별 기반 모델에서 최종 메타 모델이 사용할 학습 및 테스트용 데이터를 생성하기 위한 함수. \n",
    "def get_stacking_base_datasets(model, X_train_n, y_train_n, X_test_n, n_folds ):\n",
    "    # 지정된 n_folds값으로 KFold 생성.\n",
    "    kf = KFold(n_splits=n_folds, shuffle=True,random_state=0)\n",
    "    \n",
    "    #추후에 메타 모델이 사용할 학습 데이터 반환을 위한 넘파이 배열 초기화 \n",
    "    train_fold_pred = np.zeros((X_train_n.shape[0] ,1 ))\n",
    "    test_pred = np.zeros((X_test_n.shape[0],n_folds))\n",
    "    print(model.__class__.__name__ , ' model 시작 ')\n",
    "    \n",
    "    for folder_counter , (train_index, valid_index) in enumerate(kf.split(X_train_n)):\n",
    "        #입력된 학습 데이터에서 기반 모델이 학습/예측할 폴드 데이터 셋 추출 \n",
    "        print('\\t 폴드 세트: ',folder_counter,' 시작 ')\n",
    "        X_tr = X_train_n.iloc[train_index]\n",
    "        y_tr = y_train_n.iloc[train_index]\n",
    "        X_te = X_train_n.iloc[train_index]\n",
    "\n",
    "        #폴드 세트 내부에서 다시 만들어진 학습 데이터로 기반 모델의 학습 수행.\n",
    "        model.fit(X_tr , y_tr)\n",
    "        \n",
    "        #폴드 세트 내부에서 다시 만들어진 검증 데이터로 기반 모델 예측 후 데이터 저장.\n",
    "        train_fold_pred[valid_index, :] = model.predict(X_te).reshape(-1,1)\n",
    "        \n",
    "        #입력된 원본 테스트 데이터를 폴드 세트내 학습된 기반 모델에서 예측 후 데이터 저장. \n",
    "        test_pred[:, folder_counter] = model.predict(X_test_n)\n",
    "            \n",
    "    # 폴드 세트 내에서 원본 테스트 데이터를 예측한 데이터를 평균하여 테스트 데이터로 생성 \n",
    "    test_pred_mean = np.mean(test_pred, axis=1).reshape(-1,1)    \n",
    "    \n",
    "    #train_fold_pred는 최종 메타 모델이 사용하는 학습 데이터, test_pred_mean은 테스트 데이터\n",
    "    return train_fold_pred , test_pred_mean"
   ]
  },
  {
   "cell_type": "markdown",
   "metadata": {
    "id": "iqw-WOXKWj6g"
   },
   "source": [
    "### 스태킹에 사용될 머신러닝 알고리즘 클래스를 생성하시오.\n",
    "- 개별 모델: KNN(n_neighbors=4), 랜덤 포레스트(n_estimators=100, random_state=0), 결정 트리, 에이다부스트(n_estimators=100), LightGBM(n_estimators=400)\n",
    "- 최종 모델: 로지스틱 회귀(C=10)"
   ]
  },
  {
   "cell_type": "code",
   "execution_count": 119,
   "metadata": {},
   "outputs": [],
   "source": [
    "from sklearn.neighbors import KNeighborsClassifier\n",
    "from sklearn.ensemble import RandomForestClassifier\n",
    "from sklearn.tree import DecisionTreeClassifier\n",
    "from sklearn.ensemble import AdaBoostClassifier\n",
    "from lightgbm import LGBMClassifier\n",
    "from sklearn.linear_model import LogisticRegression\n",
    "\n",
    "# 개별 ML 모델을 위한 Classifier 생성.\n",
    "knn_clf  = KNeighborsClassifier(n_neighbors=4)\n",
    "rf_clf = RandomForestClassifier(n_estimators=100, random_state=0)\n",
    "dt_clf = DecisionTreeClassifier()\n",
    "ada_clf = AdaBoostClassifier(n_estimators=100)\n",
    "lgbm_clf= LGBMClassifier(n_estimators=400)\n",
    "\n",
    "# 최종 Stacking 모델을 위한 Classifier생성. \n",
    "lr_final = LogisticRegression(C=10)"
   ]
  },
  {
   "cell_type": "markdown",
   "metadata": {
    "id": "k59c10E5Wj6g"
   },
   "source": [
    "### 개별 모델별로 get_stacking_base_datasets 함수를 수행하여 최종 메타 모델이 사용할 학습용, 테스트용 데이터를 생성하시오.\n",
    "- 폴드 개수는 7개"
   ]
  },
  {
   "cell_type": "code",
   "execution_count": 120,
   "metadata": {},
   "outputs": [
    {
     "name": "stdout",
     "output_type": "stream",
     "text": [
      "KNeighborsClassifier  model 시작 \n",
      "\t 폴드 세트:  0  시작 \n"
     ]
    },
    {
     "ename": "ValueError",
     "evalue": "shape mismatch: value array of shape (3768,1) could not be broadcast to indexing result of shape (629,1)",
     "output_type": "error",
     "traceback": [
      "\u001b[1;31m---------------------------------------------------------------------------\u001b[0m",
      "\u001b[1;31mValueError\u001b[0m                                Traceback (most recent call last)",
      "\u001b[1;32m<ipython-input-120-69ff3165ea9d>\u001b[0m in \u001b[0;36m<module>\u001b[1;34m\u001b[0m\n\u001b[1;32m----> 1\u001b[1;33m \u001b[0mknn_train\u001b[0m\u001b[1;33m,\u001b[0m \u001b[0mknn_test\u001b[0m \u001b[1;33m=\u001b[0m \u001b[0mget_stacking_base_datasets\u001b[0m\u001b[1;33m(\u001b[0m\u001b[0mknn_clf\u001b[0m\u001b[1;33m,\u001b[0m \u001b[0mX_train\u001b[0m\u001b[1;33m,\u001b[0m \u001b[0my_train\u001b[0m\u001b[1;33m,\u001b[0m \u001b[0mX_test\u001b[0m\u001b[1;33m,\u001b[0m \u001b[1;36m7\u001b[0m\u001b[1;33m)\u001b[0m\u001b[1;33m\u001b[0m\u001b[1;33m\u001b[0m\u001b[0m\n\u001b[0m\u001b[0;32m      2\u001b[0m \u001b[0mrf_train\u001b[0m\u001b[1;33m,\u001b[0m \u001b[0mrf_test\u001b[0m \u001b[1;33m=\u001b[0m \u001b[0mget_stacking_base_datasets\u001b[0m\u001b[1;33m(\u001b[0m\u001b[0mrf_clf\u001b[0m\u001b[1;33m,\u001b[0m \u001b[0mX_train\u001b[0m\u001b[1;33m,\u001b[0m \u001b[0my_train\u001b[0m\u001b[1;33m,\u001b[0m \u001b[0mX_test\u001b[0m\u001b[1;33m,\u001b[0m \u001b[1;36m7\u001b[0m\u001b[1;33m)\u001b[0m\u001b[1;33m\u001b[0m\u001b[1;33m\u001b[0m\u001b[0m\n\u001b[0;32m      3\u001b[0m \u001b[0mdt_train\u001b[0m\u001b[1;33m,\u001b[0m \u001b[0mdt_test\u001b[0m \u001b[1;33m=\u001b[0m \u001b[0mget_stacking_base_datasets\u001b[0m\u001b[1;33m(\u001b[0m\u001b[0mdt_clf\u001b[0m\u001b[1;33m,\u001b[0m \u001b[0mX_train\u001b[0m\u001b[1;33m,\u001b[0m \u001b[0my_train\u001b[0m\u001b[1;33m,\u001b[0m \u001b[0mX_test\u001b[0m\u001b[1;33m,\u001b[0m  \u001b[1;36m7\u001b[0m\u001b[1;33m)\u001b[0m\u001b[1;33m\u001b[0m\u001b[1;33m\u001b[0m\u001b[0m\n\u001b[0;32m      4\u001b[0m \u001b[0mada_train\u001b[0m\u001b[1;33m,\u001b[0m \u001b[0mada_test\u001b[0m \u001b[1;33m=\u001b[0m \u001b[0mget_stacking_base_datasets\u001b[0m\u001b[1;33m(\u001b[0m\u001b[0mada_clf\u001b[0m\u001b[1;33m,\u001b[0m \u001b[0mX_train\u001b[0m\u001b[1;33m,\u001b[0m \u001b[0my_train\u001b[0m\u001b[1;33m,\u001b[0m \u001b[0mX_test\u001b[0m\u001b[1;33m,\u001b[0m \u001b[1;36m7\u001b[0m\u001b[1;33m)\u001b[0m\u001b[1;33m\u001b[0m\u001b[1;33m\u001b[0m\u001b[0m\n\u001b[0;32m      5\u001b[0m \u001b[0mlgbm_train\u001b[0m\u001b[1;33m,\u001b[0m \u001b[0mlgbm_test\u001b[0m \u001b[1;33m=\u001b[0m \u001b[0mget_stacking_base_datasets\u001b[0m\u001b[1;33m(\u001b[0m\u001b[0mlgbm_clf\u001b[0m\u001b[1;33m,\u001b[0m \u001b[0mX_train\u001b[0m\u001b[1;33m,\u001b[0m \u001b[0my_train\u001b[0m\u001b[1;33m,\u001b[0m \u001b[0mX_test\u001b[0m\u001b[1;33m,\u001b[0m \u001b[1;36m7\u001b[0m\u001b[1;33m)\u001b[0m\u001b[1;33m\u001b[0m\u001b[1;33m\u001b[0m\u001b[0m\n",
      "\u001b[1;32m<ipython-input-118-1bfdc368408d>\u001b[0m in \u001b[0;36mget_stacking_base_datasets\u001b[1;34m(model, X_train_n, y_train_n, X_test_n, n_folds)\u001b[0m\n\u001b[0;32m     25\u001b[0m \u001b[1;33m\u001b[0m\u001b[0m\n\u001b[0;32m     26\u001b[0m         \u001b[1;31m#폴드 세트 내부에서 다시 만들어진 검증 데이터로 기반 모델 예측 후 데이터 저장.\u001b[0m\u001b[1;33m\u001b[0m\u001b[1;33m\u001b[0m\u001b[1;33m\u001b[0m\u001b[0m\n\u001b[1;32m---> 27\u001b[1;33m         \u001b[0mtrain_fold_pred\u001b[0m\u001b[1;33m[\u001b[0m\u001b[0mvalid_index\u001b[0m\u001b[1;33m,\u001b[0m \u001b[1;33m:\u001b[0m\u001b[1;33m]\u001b[0m \u001b[1;33m=\u001b[0m \u001b[0mmodel\u001b[0m\u001b[1;33m.\u001b[0m\u001b[0mpredict\u001b[0m\u001b[1;33m(\u001b[0m\u001b[0mX_te\u001b[0m\u001b[1;33m)\u001b[0m\u001b[1;33m.\u001b[0m\u001b[0mreshape\u001b[0m\u001b[1;33m(\u001b[0m\u001b[1;33m-\u001b[0m\u001b[1;36m1\u001b[0m\u001b[1;33m,\u001b[0m\u001b[1;36m1\u001b[0m\u001b[1;33m)\u001b[0m\u001b[1;33m\u001b[0m\u001b[1;33m\u001b[0m\u001b[0m\n\u001b[0m\u001b[0;32m     28\u001b[0m \u001b[1;33m\u001b[0m\u001b[0m\n\u001b[0;32m     29\u001b[0m         \u001b[1;31m#입력된 원본 테스트 데이터를 폴드 세트내 학습된 기반 모델에서 예측 후 데이터 저장.\u001b[0m\u001b[1;33m\u001b[0m\u001b[1;33m\u001b[0m\u001b[1;33m\u001b[0m\u001b[0m\n",
      "\u001b[1;31mValueError\u001b[0m: shape mismatch: value array of shape (3768,1) could not be broadcast to indexing result of shape (629,1)"
     ]
    }
   ],
   "source": [
    "knn_train, knn_test = get_stacking_base_datasets(knn_clf, X_train, y_train, X_test, 7)\n",
    "rf_train, rf_test = get_stacking_base_datasets(rf_clf, X_train, y_train, X_test, 7)\n",
    "dt_train, dt_test = get_stacking_base_datasets(dt_clf, X_train, y_train, X_test,  7)    \n",
    "ada_train, ada_test = get_stacking_base_datasets(ada_clf, X_train, y_train, X_test, 7)\n",
    "lgbm_train, lgbm_test = get_stacking_base_datasets(lgbm_clf, X_train, y_train, X_test, 7)"
   ]
  },
  {
   "cell_type": "code",
   "execution_count": null,
   "metadata": {},
   "outputs": [],
   "source": []
  },
  {
   "cell_type": "markdown",
   "metadata": {
    "id": "mNhahQcCWj6h"
   },
   "source": [
    "### 생성된 학습용 데이터와 테스트용 데이터를 각각 합치시오.\n",
    "- 학습용 데이터는 Stack_final_X_train\n",
    "- 테스트용 데이터는 Stack_final_X_test"
   ]
  },
  {
   "cell_type": "code",
   "execution_count": 117,
   "metadata": {},
   "outputs": [
    {
     "ename": "SyntaxError",
     "evalue": "invalid syntax (<ipython-input-117-b78c650db9fa>, line 2)",
     "output_type": "error",
     "traceback": [
      "\u001b[1;36m  File \u001b[1;32m\"<ipython-input-117-b78c650db9fa>\"\u001b[1;36m, line \u001b[1;32m2\u001b[0m\n\u001b[1;33m    Stack_final_X_test = np.concatenate((knn_test, rf_test, dt_test, ada_test,lgbm_train, axis=1)\u001b[0m\n\u001b[1;37m                                                                                              ^\u001b[0m\n\u001b[1;31mSyntaxError\u001b[0m\u001b[1;31m:\u001b[0m invalid syntax\n"
     ]
    }
   ],
   "source": [
    "Stack_final_X_train = np.concatenate((knn_train, rf_train, dt_train, ada_train,lgbm_train), axis=1)\n",
    "Stack_final_X_test = np.concatenate((knn_test, rf_test, dt_test, ada_test,lgbm_train, axis=1)\n",
    "print('원본 학습 피처 데이터 Shape:',X_train.shape, '원본 테스트 피처 Shape:',X_test.shape)\n",
    "print('스태킹 학습 피처 데이터 Shape:', Stack_final_X_train.shape,\n",
    "      '스태킹 테스트 피처 데이터 Shape:',Stack_final_X_test.shape)"
   ]
  },
  {
   "cell_type": "markdown",
   "metadata": {
    "id": "PnPGTIxdWj6h"
   },
   "source": [
    "### 최종 메타 모델인 로지스틱 회귀를 사용하여 학습 및 예측을 진행하고 최종 메타 모델의 예측 정확도를 출력하시오."
   ]
  },
  {
   "cell_type": "code",
   "execution_count": null,
   "metadata": {},
   "outputs": [],
   "source": [
    "lr_final.fit(Stack_final_X_train, y_train)\n",
    "stack_final = lr_final.predict(Stack_final_X_test)\n",
    "print('최종 메타 모델의 예측 정확도: {0:.4f}'.format(accuracy_score(y_test, stack_final)))"
   ]
  },
  {
   "cell_type": "markdown",
   "metadata": {
    "id": "SVA3yGXXnL-q"
   },
   "source": [
    "# 버섯 독성 여부 분류 - CatBoost 실습"
   ]
  },
  {
   "cell_type": "markdown",
   "metadata": {
    "id": "47mLiwS1nL-t"
   },
   "source": [
    "mushrooms.csv 파일을 사용합니다.\n",
    "\n",
    "독성 버섯인지 식용 가능한 버섯인지 분류해내는 것이 목표입니다.\n",
    "\n",
    "- cap-shape: bell=b,conical=c,convex=x,flat=f, knobbed=k,sunken=s\n",
    "- cap-surface: fibrous=f,grooves=g,scaly=y,smooth=s\n",
    "- cap-color: brown=n,buff=b,cinnamon=c,gray=g,green=r,pink=p,purple=u,red=e,white=w,yellow=y\n",
    "- bruises: bruises=t,no=f\n",
    "- odor: almond=a,anise=l,creosote=c,fishy=y,foul=f,musty=m,none=n,pungent=p,spicy=s\n",
    "- gill-attachment: attached=a,descending=d,free=f,notched=n\n",
    "- gill-spacing: close=c,crowded=w,distant=d\n",
    "- gill-size: broad=b,narrow=n\n",
    "- gill-color: black=k,brown=n,buff=b,chocolate=h,gray=g, green=r,orange=o,pink=p,purple=u,red=e,white=w,yellow=y\n",
    "- stalk-shape: enlarging=e,tapering=t\n",
    "- stalk-root: bulbous=b,club=c,cup=u,equal=e,rhizomorphs=z,rooted=r,missing=?\n",
    "- stalk-surface-above-ring: fibrous=f,scaly=y,silky=k,smooth=s\n",
    "- stalk-surface-below-ring: fibrous=f,scaly=y,silky=k,smooth=s\n",
    "- stalk-color-above-ring: brown=n,buff=b,cinnamon=c,gray=g,orange=o,pink=p,red=e,white=w,yellow=y\n",
    "- stalk-color-below-ring: brown=n,buff=b,cinnamon=c,gray=g,orange=o,pink=p,red=e,white=w,yellow=y\n",
    "- veil-type: partial=p,universal=u\n",
    "- veil-color: brown=n,orange=o,white=w,yellow=y\n",
    "- ring-number: none=n,one=o,two=t\n",
    "- ring-type: cobwebby=c,evanescent=e,flaring=f,large=l,none=n,pendant=p,sheathing=s,zone=z\n",
    "- spore-print-color: black=k,brown=n,buff=b,chocolate=h,green=r,orange=o,purple=u,white=w,yellow=y\n",
    "- population: abundant=a,clustered=c,numerous=n,scattered=s,several=v,solitary=y\n",
    "- habitat: grasses=g,leaves=l,meadows=m,paths=p,urban=u,waste=w,woods=d\n",
    "\n",
    "데이터셋 출처: https://www.kaggle.com/datasets/uciml/mushroom-classification"
   ]
  },
  {
   "cell_type": "code",
   "execution_count": 48,
   "metadata": {},
   "outputs": [
    {
     "name": "stdout",
     "output_type": "stream",
     "text": [
      "Collecting catboost\n",
      "  Downloading catboost-1.0.4-cp38-none-win_amd64.whl (73.5 MB)\n",
      "Requirement already satisfied: scipy in c:\\users\\seoyounglee\\anaconda3\\lib\\site-packages (from catboost) (1.5.2)\n",
      "Requirement already satisfied: graphviz in c:\\users\\seoyounglee\\anaconda3\\lib\\site-packages (from catboost) (0.17)\n",
      "Requirement already satisfied: numpy>=1.16.0 in c:\\users\\seoyounglee\\anaconda3\\lib\\site-packages (from catboost) (1.19.2)\n",
      "Collecting plotly\n",
      "  Downloading plotly-5.6.0-py2.py3-none-any.whl (27.7 MB)\n",
      "Requirement already satisfied: matplotlib in c:\\users\\seoyounglee\\anaconda3\\lib\\site-packages (from catboost) (3.3.2)\n",
      "Requirement already satisfied: six in c:\\users\\seoyounglee\\anaconda3\\lib\\site-packages (from catboost) (1.15.0)\n",
      "Requirement already satisfied: pandas>=0.24.0 in c:\\users\\seoyounglee\\anaconda3\\lib\\site-packages (from catboost) (1.1.3)\n",
      "Collecting tenacity>=6.2.0\n",
      "  Downloading tenacity-8.0.1-py3-none-any.whl (24 kB)\n",
      "Requirement already satisfied: pyparsing!=2.0.4,!=2.1.2,!=2.1.6,>=2.0.3 in c:\\users\\seoyounglee\\anaconda3\\lib\\site-packages (from matplotlib->catboost) (2.4.7)\n",
      "Requirement already satisfied: python-dateutil>=2.1 in c:\\users\\seoyounglee\\anaconda3\\lib\\site-packages (from matplotlib->catboost) (2.8.1)\n",
      "Requirement already satisfied: kiwisolver>=1.0.1 in c:\\users\\seoyounglee\\anaconda3\\lib\\site-packages (from matplotlib->catboost) (1.3.0)\n",
      "Requirement already satisfied: cycler>=0.10 in c:\\users\\seoyounglee\\anaconda3\\lib\\site-packages (from matplotlib->catboost) (0.10.0)\n",
      "Requirement already satisfied: pillow>=6.2.0 in c:\\users\\seoyounglee\\anaconda3\\lib\\site-packages (from matplotlib->catboost) (8.0.1)\n",
      "Requirement already satisfied: certifi>=2020.06.20 in c:\\users\\seoyounglee\\anaconda3\\lib\\site-packages (from matplotlib->catboost) (2020.6.20)\n",
      "Requirement already satisfied: pytz>=2017.2 in c:\\users\\seoyounglee\\anaconda3\\lib\\site-packages (from pandas>=0.24.0->catboost) (2020.1)\n",
      "Installing collected packages: tenacity, plotly, catboost\n",
      "Successfully installed catboost-1.0.4 plotly-5.6.0 tenacity-8.0.1\n"
     ]
    }
   ],
   "source": [
    "#필요한 라이브러리 import\n",
    "import pandas as pd\n",
    "import numpy as np"
   ]
  },
  {
   "cell_type": "code",
   "execution_count": 57,
   "metadata": {},
   "outputs": [
    {
     "data": {
      "text/html": [
       "<div>\n",
       "<style scoped>\n",
       "    .dataframe tbody tr th:only-of-type {\n",
       "        vertical-align: middle;\n",
       "    }\n",
       "\n",
       "    .dataframe tbody tr th {\n",
       "        vertical-align: top;\n",
       "    }\n",
       "\n",
       "    .dataframe thead th {\n",
       "        text-align: right;\n",
       "    }\n",
       "</style>\n",
       "<table border=\"1\" class=\"dataframe\">\n",
       "  <thead>\n",
       "    <tr style=\"text-align: right;\">\n",
       "      <th></th>\n",
       "      <th>class</th>\n",
       "      <th>cap-shape</th>\n",
       "      <th>cap-surface</th>\n",
       "      <th>cap-color</th>\n",
       "      <th>bruises</th>\n",
       "      <th>odor</th>\n",
       "      <th>gill-attachment</th>\n",
       "      <th>gill-spacing</th>\n",
       "      <th>gill-size</th>\n",
       "      <th>gill-color</th>\n",
       "      <th>...</th>\n",
       "      <th>stalk-surface-below-ring</th>\n",
       "      <th>stalk-color-above-ring</th>\n",
       "      <th>stalk-color-below-ring</th>\n",
       "      <th>veil-type</th>\n",
       "      <th>veil-color</th>\n",
       "      <th>ring-number</th>\n",
       "      <th>ring-type</th>\n",
       "      <th>spore-print-color</th>\n",
       "      <th>population</th>\n",
       "      <th>habitat</th>\n",
       "    </tr>\n",
       "  </thead>\n",
       "  <tbody>\n",
       "    <tr>\n",
       "      <th>0</th>\n",
       "      <td>p</td>\n",
       "      <td>x</td>\n",
       "      <td>s</td>\n",
       "      <td>n</td>\n",
       "      <td>t</td>\n",
       "      <td>p</td>\n",
       "      <td>f</td>\n",
       "      <td>c</td>\n",
       "      <td>n</td>\n",
       "      <td>k</td>\n",
       "      <td>...</td>\n",
       "      <td>s</td>\n",
       "      <td>w</td>\n",
       "      <td>w</td>\n",
       "      <td>p</td>\n",
       "      <td>w</td>\n",
       "      <td>o</td>\n",
       "      <td>p</td>\n",
       "      <td>k</td>\n",
       "      <td>s</td>\n",
       "      <td>u</td>\n",
       "    </tr>\n",
       "    <tr>\n",
       "      <th>1</th>\n",
       "      <td>e</td>\n",
       "      <td>x</td>\n",
       "      <td>s</td>\n",
       "      <td>y</td>\n",
       "      <td>t</td>\n",
       "      <td>a</td>\n",
       "      <td>f</td>\n",
       "      <td>c</td>\n",
       "      <td>b</td>\n",
       "      <td>k</td>\n",
       "      <td>...</td>\n",
       "      <td>s</td>\n",
       "      <td>w</td>\n",
       "      <td>w</td>\n",
       "      <td>p</td>\n",
       "      <td>w</td>\n",
       "      <td>o</td>\n",
       "      <td>p</td>\n",
       "      <td>n</td>\n",
       "      <td>n</td>\n",
       "      <td>g</td>\n",
       "    </tr>\n",
       "    <tr>\n",
       "      <th>2</th>\n",
       "      <td>e</td>\n",
       "      <td>b</td>\n",
       "      <td>s</td>\n",
       "      <td>w</td>\n",
       "      <td>t</td>\n",
       "      <td>l</td>\n",
       "      <td>f</td>\n",
       "      <td>c</td>\n",
       "      <td>b</td>\n",
       "      <td>n</td>\n",
       "      <td>...</td>\n",
       "      <td>s</td>\n",
       "      <td>w</td>\n",
       "      <td>w</td>\n",
       "      <td>p</td>\n",
       "      <td>w</td>\n",
       "      <td>o</td>\n",
       "      <td>p</td>\n",
       "      <td>n</td>\n",
       "      <td>n</td>\n",
       "      <td>m</td>\n",
       "    </tr>\n",
       "    <tr>\n",
       "      <th>3</th>\n",
       "      <td>p</td>\n",
       "      <td>x</td>\n",
       "      <td>y</td>\n",
       "      <td>w</td>\n",
       "      <td>t</td>\n",
       "      <td>p</td>\n",
       "      <td>f</td>\n",
       "      <td>c</td>\n",
       "      <td>n</td>\n",
       "      <td>n</td>\n",
       "      <td>...</td>\n",
       "      <td>s</td>\n",
       "      <td>w</td>\n",
       "      <td>w</td>\n",
       "      <td>p</td>\n",
       "      <td>w</td>\n",
       "      <td>o</td>\n",
       "      <td>p</td>\n",
       "      <td>k</td>\n",
       "      <td>s</td>\n",
       "      <td>u</td>\n",
       "    </tr>\n",
       "    <tr>\n",
       "      <th>4</th>\n",
       "      <td>e</td>\n",
       "      <td>x</td>\n",
       "      <td>s</td>\n",
       "      <td>g</td>\n",
       "      <td>f</td>\n",
       "      <td>n</td>\n",
       "      <td>f</td>\n",
       "      <td>w</td>\n",
       "      <td>b</td>\n",
       "      <td>k</td>\n",
       "      <td>...</td>\n",
       "      <td>s</td>\n",
       "      <td>w</td>\n",
       "      <td>w</td>\n",
       "      <td>p</td>\n",
       "      <td>w</td>\n",
       "      <td>o</td>\n",
       "      <td>e</td>\n",
       "      <td>n</td>\n",
       "      <td>a</td>\n",
       "      <td>g</td>\n",
       "    </tr>\n",
       "  </tbody>\n",
       "</table>\n",
       "<p>5 rows × 23 columns</p>\n",
       "</div>"
      ],
      "text/plain": [
       "  class cap-shape cap-surface cap-color bruises odor gill-attachment  \\\n",
       "0     p         x           s         n       t    p               f   \n",
       "1     e         x           s         y       t    a               f   \n",
       "2     e         b           s         w       t    l               f   \n",
       "3     p         x           y         w       t    p               f   \n",
       "4     e         x           s         g       f    n               f   \n",
       "\n",
       "  gill-spacing gill-size gill-color  ... stalk-surface-below-ring  \\\n",
       "0            c         n          k  ...                        s   \n",
       "1            c         b          k  ...                        s   \n",
       "2            c         b          n  ...                        s   \n",
       "3            c         n          n  ...                        s   \n",
       "4            w         b          k  ...                        s   \n",
       "\n",
       "  stalk-color-above-ring stalk-color-below-ring veil-type veil-color  \\\n",
       "0                      w                      w         p          w   \n",
       "1                      w                      w         p          w   \n",
       "2                      w                      w         p          w   \n",
       "3                      w                      w         p          w   \n",
       "4                      w                      w         p          w   \n",
       "\n",
       "  ring-number ring-type spore-print-color population habitat  \n",
       "0           o         p                 k          s       u  \n",
       "1           o         p                 n          n       g  \n",
       "2           o         p                 n          n       m  \n",
       "3           o         p                 k          s       u  \n",
       "4           o         e                 n          a       g  \n",
       "\n",
       "[5 rows x 23 columns]"
      ]
     },
     "execution_count": 57,
     "metadata": {},
     "output_type": "execute_result"
    }
   ],
   "source": [
    "#데이터셋 불러오기\n",
    "mush=pd.read_csv(\"mushrooms.csv\")\n",
    "mush.head()"
   ]
  },
  {
   "cell_type": "markdown",
   "metadata": {
    "id": "VopHpuxRnL-y"
   },
   "source": [
    "## 데이터 전처리"
   ]
  },
  {
   "cell_type": "markdown",
   "metadata": {
    "id": "GvbNYXIanL-y"
   },
   "source": [
    "### info()를 통해 결측치가 있는지 확인하시오."
   ]
  },
  {
   "cell_type": "code",
   "execution_count": 23,
   "metadata": {},
   "outputs": [
    {
     "name": "stdout",
     "output_type": "stream",
     "text": [
      "<class 'pandas.core.frame.DataFrame'>\n",
      "RangeIndex: 8124 entries, 0 to 8123\n",
      "Data columns (total 23 columns):\n",
      " #   Column                    Non-Null Count  Dtype \n",
      "---  ------                    --------------  ----- \n",
      " 0   class                     8124 non-null   object\n",
      " 1   cap-shape                 8124 non-null   object\n",
      " 2   cap-surface               8124 non-null   object\n",
      " 3   cap-color                 8124 non-null   object\n",
      " 4   bruises                   8124 non-null   object\n",
      " 5   odor                      8124 non-null   object\n",
      " 6   gill-attachment           8124 non-null   object\n",
      " 7   gill-spacing              8124 non-null   object\n",
      " 8   gill-size                 8124 non-null   object\n",
      " 9   gill-color                8124 non-null   object\n",
      " 10  stalk-shape               8124 non-null   object\n",
      " 11  stalk-root                8124 non-null   object\n",
      " 12  stalk-surface-above-ring  8124 non-null   object\n",
      " 13  stalk-surface-below-ring  8124 non-null   object\n",
      " 14  stalk-color-above-ring    8124 non-null   object\n",
      " 15  stalk-color-below-ring    8124 non-null   object\n",
      " 16  veil-type                 8124 non-null   object\n",
      " 17  veil-color                8124 non-null   object\n",
      " 18  ring-number               8124 non-null   object\n",
      " 19  ring-type                 8124 non-null   object\n",
      " 20  spore-print-color         8124 non-null   object\n",
      " 21  population                8124 non-null   object\n",
      " 22  habitat                   8124 non-null   object\n",
      "dtypes: object(23)\n",
      "memory usage: 1.4+ MB\n"
     ]
    }
   ],
   "source": [
    "mush.info()"
   ]
  },
  {
   "cell_type": "code",
   "execution_count": null,
   "metadata": {},
   "outputs": [],
   "source": []
  },
  {
   "cell_type": "markdown",
   "metadata": {
    "id": "WGMicxOpnL-1"
   },
   "source": [
    "### 데이터에서 피쳐값과 타겟값을 분리하여 각각 X_mushroom, y_mushroom으로 저장하시오\n",
    "- target은 class"
   ]
  },
  {
   "cell_type": "code",
   "execution_count": 58,
   "metadata": {},
   "outputs": [],
   "source": [
    "X_mushroom=mush.drop('class', axis=1)\n",
    "y_mushroom=mush['class']"
   ]
  },
  {
   "cell_type": "code",
   "execution_count": 59,
   "metadata": {},
   "outputs": [
    {
     "data": {
      "text/html": [
       "<div>\n",
       "<style scoped>\n",
       "    .dataframe tbody tr th:only-of-type {\n",
       "        vertical-align: middle;\n",
       "    }\n",
       "\n",
       "    .dataframe tbody tr th {\n",
       "        vertical-align: top;\n",
       "    }\n",
       "\n",
       "    .dataframe thead th {\n",
       "        text-align: right;\n",
       "    }\n",
       "</style>\n",
       "<table border=\"1\" class=\"dataframe\">\n",
       "  <thead>\n",
       "    <tr style=\"text-align: right;\">\n",
       "      <th></th>\n",
       "      <th>cap-shape</th>\n",
       "      <th>cap-surface</th>\n",
       "      <th>cap-color</th>\n",
       "      <th>bruises</th>\n",
       "      <th>odor</th>\n",
       "      <th>gill-attachment</th>\n",
       "      <th>gill-spacing</th>\n",
       "      <th>gill-size</th>\n",
       "      <th>gill-color</th>\n",
       "      <th>stalk-shape</th>\n",
       "      <th>...</th>\n",
       "      <th>stalk-surface-below-ring</th>\n",
       "      <th>stalk-color-above-ring</th>\n",
       "      <th>stalk-color-below-ring</th>\n",
       "      <th>veil-type</th>\n",
       "      <th>veil-color</th>\n",
       "      <th>ring-number</th>\n",
       "      <th>ring-type</th>\n",
       "      <th>spore-print-color</th>\n",
       "      <th>population</th>\n",
       "      <th>habitat</th>\n",
       "    </tr>\n",
       "  </thead>\n",
       "  <tbody>\n",
       "    <tr>\n",
       "      <th>0</th>\n",
       "      <td>x</td>\n",
       "      <td>s</td>\n",
       "      <td>n</td>\n",
       "      <td>t</td>\n",
       "      <td>p</td>\n",
       "      <td>f</td>\n",
       "      <td>c</td>\n",
       "      <td>n</td>\n",
       "      <td>k</td>\n",
       "      <td>e</td>\n",
       "      <td>...</td>\n",
       "      <td>s</td>\n",
       "      <td>w</td>\n",
       "      <td>w</td>\n",
       "      <td>p</td>\n",
       "      <td>w</td>\n",
       "      <td>o</td>\n",
       "      <td>p</td>\n",
       "      <td>k</td>\n",
       "      <td>s</td>\n",
       "      <td>u</td>\n",
       "    </tr>\n",
       "    <tr>\n",
       "      <th>1</th>\n",
       "      <td>x</td>\n",
       "      <td>s</td>\n",
       "      <td>y</td>\n",
       "      <td>t</td>\n",
       "      <td>a</td>\n",
       "      <td>f</td>\n",
       "      <td>c</td>\n",
       "      <td>b</td>\n",
       "      <td>k</td>\n",
       "      <td>e</td>\n",
       "      <td>...</td>\n",
       "      <td>s</td>\n",
       "      <td>w</td>\n",
       "      <td>w</td>\n",
       "      <td>p</td>\n",
       "      <td>w</td>\n",
       "      <td>o</td>\n",
       "      <td>p</td>\n",
       "      <td>n</td>\n",
       "      <td>n</td>\n",
       "      <td>g</td>\n",
       "    </tr>\n",
       "    <tr>\n",
       "      <th>2</th>\n",
       "      <td>b</td>\n",
       "      <td>s</td>\n",
       "      <td>w</td>\n",
       "      <td>t</td>\n",
       "      <td>l</td>\n",
       "      <td>f</td>\n",
       "      <td>c</td>\n",
       "      <td>b</td>\n",
       "      <td>n</td>\n",
       "      <td>e</td>\n",
       "      <td>...</td>\n",
       "      <td>s</td>\n",
       "      <td>w</td>\n",
       "      <td>w</td>\n",
       "      <td>p</td>\n",
       "      <td>w</td>\n",
       "      <td>o</td>\n",
       "      <td>p</td>\n",
       "      <td>n</td>\n",
       "      <td>n</td>\n",
       "      <td>m</td>\n",
       "    </tr>\n",
       "    <tr>\n",
       "      <th>3</th>\n",
       "      <td>x</td>\n",
       "      <td>y</td>\n",
       "      <td>w</td>\n",
       "      <td>t</td>\n",
       "      <td>p</td>\n",
       "      <td>f</td>\n",
       "      <td>c</td>\n",
       "      <td>n</td>\n",
       "      <td>n</td>\n",
       "      <td>e</td>\n",
       "      <td>...</td>\n",
       "      <td>s</td>\n",
       "      <td>w</td>\n",
       "      <td>w</td>\n",
       "      <td>p</td>\n",
       "      <td>w</td>\n",
       "      <td>o</td>\n",
       "      <td>p</td>\n",
       "      <td>k</td>\n",
       "      <td>s</td>\n",
       "      <td>u</td>\n",
       "    </tr>\n",
       "    <tr>\n",
       "      <th>4</th>\n",
       "      <td>x</td>\n",
       "      <td>s</td>\n",
       "      <td>g</td>\n",
       "      <td>f</td>\n",
       "      <td>n</td>\n",
       "      <td>f</td>\n",
       "      <td>w</td>\n",
       "      <td>b</td>\n",
       "      <td>k</td>\n",
       "      <td>t</td>\n",
       "      <td>...</td>\n",
       "      <td>s</td>\n",
       "      <td>w</td>\n",
       "      <td>w</td>\n",
       "      <td>p</td>\n",
       "      <td>w</td>\n",
       "      <td>o</td>\n",
       "      <td>e</td>\n",
       "      <td>n</td>\n",
       "      <td>a</td>\n",
       "      <td>g</td>\n",
       "    </tr>\n",
       "    <tr>\n",
       "      <th>...</th>\n",
       "      <td>...</td>\n",
       "      <td>...</td>\n",
       "      <td>...</td>\n",
       "      <td>...</td>\n",
       "      <td>...</td>\n",
       "      <td>...</td>\n",
       "      <td>...</td>\n",
       "      <td>...</td>\n",
       "      <td>...</td>\n",
       "      <td>...</td>\n",
       "      <td>...</td>\n",
       "      <td>...</td>\n",
       "      <td>...</td>\n",
       "      <td>...</td>\n",
       "      <td>...</td>\n",
       "      <td>...</td>\n",
       "      <td>...</td>\n",
       "      <td>...</td>\n",
       "      <td>...</td>\n",
       "      <td>...</td>\n",
       "      <td>...</td>\n",
       "    </tr>\n",
       "    <tr>\n",
       "      <th>8119</th>\n",
       "      <td>k</td>\n",
       "      <td>s</td>\n",
       "      <td>n</td>\n",
       "      <td>f</td>\n",
       "      <td>n</td>\n",
       "      <td>a</td>\n",
       "      <td>c</td>\n",
       "      <td>b</td>\n",
       "      <td>y</td>\n",
       "      <td>e</td>\n",
       "      <td>...</td>\n",
       "      <td>s</td>\n",
       "      <td>o</td>\n",
       "      <td>o</td>\n",
       "      <td>p</td>\n",
       "      <td>o</td>\n",
       "      <td>o</td>\n",
       "      <td>p</td>\n",
       "      <td>b</td>\n",
       "      <td>c</td>\n",
       "      <td>l</td>\n",
       "    </tr>\n",
       "    <tr>\n",
       "      <th>8120</th>\n",
       "      <td>x</td>\n",
       "      <td>s</td>\n",
       "      <td>n</td>\n",
       "      <td>f</td>\n",
       "      <td>n</td>\n",
       "      <td>a</td>\n",
       "      <td>c</td>\n",
       "      <td>b</td>\n",
       "      <td>y</td>\n",
       "      <td>e</td>\n",
       "      <td>...</td>\n",
       "      <td>s</td>\n",
       "      <td>o</td>\n",
       "      <td>o</td>\n",
       "      <td>p</td>\n",
       "      <td>n</td>\n",
       "      <td>o</td>\n",
       "      <td>p</td>\n",
       "      <td>b</td>\n",
       "      <td>v</td>\n",
       "      <td>l</td>\n",
       "    </tr>\n",
       "    <tr>\n",
       "      <th>8121</th>\n",
       "      <td>f</td>\n",
       "      <td>s</td>\n",
       "      <td>n</td>\n",
       "      <td>f</td>\n",
       "      <td>n</td>\n",
       "      <td>a</td>\n",
       "      <td>c</td>\n",
       "      <td>b</td>\n",
       "      <td>n</td>\n",
       "      <td>e</td>\n",
       "      <td>...</td>\n",
       "      <td>s</td>\n",
       "      <td>o</td>\n",
       "      <td>o</td>\n",
       "      <td>p</td>\n",
       "      <td>o</td>\n",
       "      <td>o</td>\n",
       "      <td>p</td>\n",
       "      <td>b</td>\n",
       "      <td>c</td>\n",
       "      <td>l</td>\n",
       "    </tr>\n",
       "    <tr>\n",
       "      <th>8122</th>\n",
       "      <td>k</td>\n",
       "      <td>y</td>\n",
       "      <td>n</td>\n",
       "      <td>f</td>\n",
       "      <td>y</td>\n",
       "      <td>f</td>\n",
       "      <td>c</td>\n",
       "      <td>n</td>\n",
       "      <td>b</td>\n",
       "      <td>t</td>\n",
       "      <td>...</td>\n",
       "      <td>k</td>\n",
       "      <td>w</td>\n",
       "      <td>w</td>\n",
       "      <td>p</td>\n",
       "      <td>w</td>\n",
       "      <td>o</td>\n",
       "      <td>e</td>\n",
       "      <td>w</td>\n",
       "      <td>v</td>\n",
       "      <td>l</td>\n",
       "    </tr>\n",
       "    <tr>\n",
       "      <th>8123</th>\n",
       "      <td>x</td>\n",
       "      <td>s</td>\n",
       "      <td>n</td>\n",
       "      <td>f</td>\n",
       "      <td>n</td>\n",
       "      <td>a</td>\n",
       "      <td>c</td>\n",
       "      <td>b</td>\n",
       "      <td>y</td>\n",
       "      <td>e</td>\n",
       "      <td>...</td>\n",
       "      <td>s</td>\n",
       "      <td>o</td>\n",
       "      <td>o</td>\n",
       "      <td>p</td>\n",
       "      <td>o</td>\n",
       "      <td>o</td>\n",
       "      <td>p</td>\n",
       "      <td>o</td>\n",
       "      <td>c</td>\n",
       "      <td>l</td>\n",
       "    </tr>\n",
       "  </tbody>\n",
       "</table>\n",
       "<p>8124 rows × 22 columns</p>\n",
       "</div>"
      ],
      "text/plain": [
       "     cap-shape cap-surface cap-color bruises odor gill-attachment  \\\n",
       "0            x           s         n       t    p               f   \n",
       "1            x           s         y       t    a               f   \n",
       "2            b           s         w       t    l               f   \n",
       "3            x           y         w       t    p               f   \n",
       "4            x           s         g       f    n               f   \n",
       "...        ...         ...       ...     ...  ...             ...   \n",
       "8119         k           s         n       f    n               a   \n",
       "8120         x           s         n       f    n               a   \n",
       "8121         f           s         n       f    n               a   \n",
       "8122         k           y         n       f    y               f   \n",
       "8123         x           s         n       f    n               a   \n",
       "\n",
       "     gill-spacing gill-size gill-color stalk-shape  ...  \\\n",
       "0               c         n          k           e  ...   \n",
       "1               c         b          k           e  ...   \n",
       "2               c         b          n           e  ...   \n",
       "3               c         n          n           e  ...   \n",
       "4               w         b          k           t  ...   \n",
       "...           ...       ...        ...         ...  ...   \n",
       "8119            c         b          y           e  ...   \n",
       "8120            c         b          y           e  ...   \n",
       "8121            c         b          n           e  ...   \n",
       "8122            c         n          b           t  ...   \n",
       "8123            c         b          y           e  ...   \n",
       "\n",
       "     stalk-surface-below-ring stalk-color-above-ring stalk-color-below-ring  \\\n",
       "0                           s                      w                      w   \n",
       "1                           s                      w                      w   \n",
       "2                           s                      w                      w   \n",
       "3                           s                      w                      w   \n",
       "4                           s                      w                      w   \n",
       "...                       ...                    ...                    ...   \n",
       "8119                        s                      o                      o   \n",
       "8120                        s                      o                      o   \n",
       "8121                        s                      o                      o   \n",
       "8122                        k                      w                      w   \n",
       "8123                        s                      o                      o   \n",
       "\n",
       "     veil-type veil-color ring-number ring-type spore-print-color population  \\\n",
       "0            p          w           o         p                 k          s   \n",
       "1            p          w           o         p                 n          n   \n",
       "2            p          w           o         p                 n          n   \n",
       "3            p          w           o         p                 k          s   \n",
       "4            p          w           o         e                 n          a   \n",
       "...        ...        ...         ...       ...               ...        ...   \n",
       "8119         p          o           o         p                 b          c   \n",
       "8120         p          n           o         p                 b          v   \n",
       "8121         p          o           o         p                 b          c   \n",
       "8122         p          w           o         e                 w          v   \n",
       "8123         p          o           o         p                 o          c   \n",
       "\n",
       "     habitat  \n",
       "0          u  \n",
       "1          g  \n",
       "2          m  \n",
       "3          u  \n",
       "4          g  \n",
       "...      ...  \n",
       "8119       l  \n",
       "8120       l  \n",
       "8121       l  \n",
       "8122       l  \n",
       "8123       l  \n",
       "\n",
       "[8124 rows x 22 columns]"
      ]
     },
     "execution_count": 59,
     "metadata": {},
     "output_type": "execute_result"
    },
    {
     "data": {
      "text/plain": [
       "Index(['cap-shape', 'cap-surface', 'cap-color', 'bruises', 'odor',\n",
       "       'gill-attachment', 'gill-spacing', 'gill-size', 'gill-color',\n",
       "       'stalk-shape', 'stalk-root', 'stalk-surface-above-ring',\n",
       "       'stalk-surface-below-ring', 'stalk-color-above-ring',\n",
       "       'stalk-color-below-ring', 'veil-type', 'veil-color', 'ring-number',\n",
       "       'ring-type', 'spore-print-color', 'population', 'habitat'],\n",
       "      dtype='object')"
      ]
     },
     "execution_count": 59,
     "metadata": {},
     "output_type": "execute_result"
    }
   ],
   "source": [
    "#데이터 확인(X_mushroom)\n",
    "X_mushroom\n",
    "X_mushroom.columns"
   ]
  },
  {
   "cell_type": "code",
   "execution_count": 26,
   "metadata": {},
   "outputs": [
    {
     "data": {
      "text/plain": [
       "0       p\n",
       "1       e\n",
       "2       e\n",
       "3       p\n",
       "4       e\n",
       "       ..\n",
       "8119    e\n",
       "8120    e\n",
       "8121    e\n",
       "8122    p\n",
       "8123    e\n",
       "Name: class, Length: 8124, dtype: object"
      ]
     },
     "execution_count": 26,
     "metadata": {},
     "output_type": "execute_result"
    }
   ],
   "source": [
    "#데이터 확인(y_mushroom)\n",
    "y_mushroom"
   ]
  },
  {
   "cell_type": "markdown",
   "metadata": {
    "id": "Pvw9LEfEnL-3"
   },
   "source": [
    "### train_test_split()을 이용해 train set과 test set을 분리하시오."
   ]
  },
  {
   "cell_type": "code",
   "execution_count": 60,
   "metadata": {},
   "outputs": [],
   "source": [
    "from sklearn.model_selection import train_test_split\n",
    "X_train, X_test, y_train, y_test=train_test_split(X_mushroom,y_mushroom, test_size=0.2, random_state=123)"
   ]
  },
  {
   "cell_type": "code",
   "execution_count": 62,
   "metadata": {},
   "outputs": [
    {
     "data": {
      "text/plain": [
       "(6499, 22)"
      ]
     },
     "execution_count": 62,
     "metadata": {},
     "output_type": "execute_result"
    },
    {
     "data": {
      "text/plain": [
       "(1625, 22)"
      ]
     },
     "execution_count": 62,
     "metadata": {},
     "output_type": "execute_result"
    },
    {
     "data": {
      "text/plain": [
       "(6499,)"
      ]
     },
     "execution_count": 62,
     "metadata": {},
     "output_type": "execute_result"
    },
    {
     "data": {
      "text/plain": [
       "(1625,)"
      ]
     },
     "execution_count": 62,
     "metadata": {},
     "output_type": "execute_result"
    }
   ],
   "source": [
    "#잘 분리되었는지 확인\n",
    "X_train.shape\n",
    "X_test.shape\n",
    "y_train.shape\n",
    "y_test.shape"
   ]
  },
  {
   "cell_type": "markdown",
   "metadata": {
    "id": "4xUNumiSnL-4"
   },
   "source": [
    "### CatBoost를 진행할 수 있도록 범주형 변수를 처리하시오.\n",
    "- trainset은 train_pool에 저장\n",
    "- testset은 test_pool에 저장"
   ]
  },
  {
   "cell_type": "code",
   "execution_count": 63,
   "metadata": {},
   "outputs": [],
   "source": [
    "from catboost import Pool\n",
    "\n",
    "train_pool=Pool(data=X_train, label=y_train, cat_features=['cap-shape', 'cap-surface', 'cap-color', 'bruises', 'odor',\n",
    "       'gill-attachment', 'gill-spacing', 'gill-size', 'gill-color',\n",
    "       'stalk-shape', 'stalk-root', 'stalk-surface-above-ring',\n",
    "       'stalk-surface-below-ring', 'stalk-color-above-ring',\n",
    "       'stalk-color-below-ring', 'veil-type', 'veil-color', 'ring-number',\n",
    "       'ring-type', 'spore-print-color', 'population', 'habitat'])\n",
    "\n",
    "test_pool=Pool(data=X_test, label=y_test, cat_features=['cap-shape', 'cap-surface', 'cap-color', 'bruises', 'odor',\n",
    "       'gill-attachment', 'gill-spacing', 'gill-size', 'gill-color',\n",
    "       'stalk-shape', 'stalk-root', 'stalk-surface-above-ring',\n",
    "       'stalk-surface-below-ring', 'stalk-color-above-ring',\n",
    "       'stalk-color-below-ring', 'veil-type', 'veil-color', 'ring-number',\n",
    "       'ring-type', 'spore-print-color', 'population', 'habitat'])"
   ]
  },
  {
   "cell_type": "markdown",
   "metadata": {
    "id": "uJ08pr0VnL-5"
   },
   "source": [
    "### CatBoost 모델을 기반으로 버섯에 대한 정보를 학습하고 버섯의 독성 여부를 예측하시오.\n",
    "- iteration=400, learning_rate=0.1, max_depth=3\n",
    "- catb_predes, catb_pred_proba"
   ]
  },
  {
   "cell_type": "code",
   "execution_count": 74,
   "metadata": {},
   "outputs": [
    {
     "name": "stdout",
     "output_type": "stream",
     "text": [
      "0:\tlearn: 0.4779436\ttotal: 9.03ms\tremaining: 3.6s\n",
      "1:\tlearn: 0.3395324\ttotal: 20.9ms\tremaining: 4.15s\n",
      "2:\tlearn: 0.2347481\ttotal: 33.3ms\tremaining: 4.4s\n",
      "3:\tlearn: 0.1785895\ttotal: 45.2ms\tremaining: 4.47s\n",
      "4:\tlearn: 0.1317549\ttotal: 57ms\tremaining: 4.5s\n",
      "5:\tlearn: 0.0871102\ttotal: 70.1ms\tremaining: 4.6s\n",
      "6:\tlearn: 0.0678277\ttotal: 82.1ms\tremaining: 4.61s\n",
      "7:\tlearn: 0.0552047\ttotal: 93.7ms\tremaining: 4.59s\n",
      "8:\tlearn: 0.0458919\ttotal: 106ms\tremaining: 4.62s\n",
      "9:\tlearn: 0.0391817\ttotal: 117ms\tremaining: 4.57s\n",
      "10:\tlearn: 0.0357411\ttotal: 127ms\tremaining: 4.49s\n",
      "11:\tlearn: 0.0310481\ttotal: 138ms\tremaining: 4.45s\n",
      "12:\tlearn: 0.0272550\ttotal: 165ms\tremaining: 4.91s\n",
      "13:\tlearn: 0.0245675\ttotal: 183ms\tremaining: 5.05s\n",
      "14:\tlearn: 0.0220894\ttotal: 199ms\tremaining: 5.11s\n",
      "15:\tlearn: 0.0204985\ttotal: 210ms\tremaining: 5.05s\n",
      "16:\tlearn: 0.0190451\ttotal: 230ms\tremaining: 5.18s\n",
      "17:\tlearn: 0.0177786\ttotal: 240ms\tremaining: 5.1s\n",
      "18:\tlearn: 0.0164332\ttotal: 252ms\tremaining: 5.05s\n",
      "19:\tlearn: 0.0155367\ttotal: 264ms\tremaining: 5.01s\n",
      "20:\tlearn: 0.0152527\ttotal: 277ms\tremaining: 5s\n",
      "21:\tlearn: 0.0149587\ttotal: 290ms\tremaining: 4.97s\n",
      "22:\tlearn: 0.0146520\ttotal: 304ms\tremaining: 4.98s\n",
      "23:\tlearn: 0.0134291\ttotal: 317ms\tremaining: 4.97s\n",
      "24:\tlearn: 0.0123765\ttotal: 331ms\tremaining: 4.96s\n",
      "25:\tlearn: 0.0122626\ttotal: 342ms\tremaining: 4.92s\n",
      "26:\tlearn: 0.0111123\ttotal: 353ms\tremaining: 4.88s\n",
      "27:\tlearn: 0.0107787\ttotal: 364ms\tremaining: 4.84s\n",
      "28:\tlearn: 0.0102028\ttotal: 398ms\tremaining: 5.09s\n",
      "29:\tlearn: 0.0101046\ttotal: 437ms\tremaining: 5.38s\n",
      "30:\tlearn: 0.0100675\ttotal: 453ms\tremaining: 5.39s\n",
      "31:\tlearn: 0.0095279\ttotal: 467ms\tremaining: 5.37s\n",
      "32:\tlearn: 0.0095063\ttotal: 479ms\tremaining: 5.32s\n",
      "33:\tlearn: 0.0094621\ttotal: 516ms\tremaining: 5.55s\n",
      "34:\tlearn: 0.0094191\ttotal: 552ms\tremaining: 5.76s\n",
      "35:\tlearn: 0.0093727\ttotal: 578ms\tremaining: 5.85s\n",
      "36:\tlearn: 0.0093120\ttotal: 605ms\tremaining: 5.93s\n",
      "37:\tlearn: 0.0087305\ttotal: 627ms\tremaining: 5.97s\n",
      "38:\tlearn: 0.0087305\ttotal: 641ms\tremaining: 5.93s\n",
      "39:\tlearn: 0.0086593\ttotal: 657ms\tremaining: 5.91s\n",
      "40:\tlearn: 0.0086164\ttotal: 669ms\tremaining: 5.86s\n",
      "41:\tlearn: 0.0085912\ttotal: 681ms\tremaining: 5.8s\n",
      "42:\tlearn: 0.0085501\ttotal: 692ms\tremaining: 5.74s\n",
      "43:\tlearn: 0.0083047\ttotal: 704ms\tremaining: 5.69s\n",
      "44:\tlearn: 0.0082673\ttotal: 714ms\tremaining: 5.63s\n",
      "45:\tlearn: 0.0082054\ttotal: 749ms\tremaining: 5.76s\n",
      "46:\tlearn: 0.0080143\ttotal: 792ms\tremaining: 5.95s\n",
      "47:\tlearn: 0.0074235\ttotal: 808ms\tremaining: 5.93s\n",
      "48:\tlearn: 0.0072545\ttotal: 821ms\tremaining: 5.88s\n",
      "49:\tlearn: 0.0072351\ttotal: 833ms\tremaining: 5.83s\n",
      "50:\tlearn: 0.0072350\ttotal: 843ms\tremaining: 5.77s\n",
      "51:\tlearn: 0.0070016\ttotal: 855ms\tremaining: 5.72s\n",
      "52:\tlearn: 0.0069860\ttotal: 867ms\tremaining: 5.68s\n",
      "53:\tlearn: 0.0069158\ttotal: 902ms\tremaining: 5.78s\n",
      "54:\tlearn: 0.0069157\ttotal: 939ms\tremaining: 5.89s\n",
      "55:\tlearn: 0.0069157\ttotal: 959ms\tremaining: 5.89s\n",
      "56:\tlearn: 0.0068973\ttotal: 974ms\tremaining: 5.86s\n",
      "57:\tlearn: 0.0068973\ttotal: 988ms\tremaining: 5.83s\n",
      "58:\tlearn: 0.0068973\ttotal: 1s\tremaining: 5.79s\n",
      "59:\tlearn: 0.0067647\ttotal: 1.01s\tremaining: 5.75s\n",
      "60:\tlearn: 0.0065739\ttotal: 1.03s\tremaining: 5.71s\n",
      "61:\tlearn: 0.0065739\ttotal: 1.04s\tremaining: 5.67s\n",
      "62:\tlearn: 0.0065696\ttotal: 1.05s\tremaining: 5.62s\n",
      "63:\tlearn: 0.0065696\ttotal: 1.06s\tremaining: 5.57s\n",
      "64:\tlearn: 0.0064650\ttotal: 1.07s\tremaining: 5.52s\n",
      "65:\tlearn: 0.0063848\ttotal: 1.08s\tremaining: 5.48s\n",
      "66:\tlearn: 0.0060166\ttotal: 1.09s\tremaining: 5.44s\n",
      "67:\tlearn: 0.0059462\ttotal: 1.1s\tremaining: 5.4s\n",
      "68:\tlearn: 0.0054640\ttotal: 1.12s\tremaining: 5.38s\n",
      "69:\tlearn: 0.0054292\ttotal: 1.13s\tremaining: 5.33s\n",
      "70:\tlearn: 0.0054132\ttotal: 1.14s\tremaining: 5.29s\n",
      "71:\tlearn: 0.0053868\ttotal: 1.15s\tremaining: 5.26s\n",
      "72:\tlearn: 0.0053588\ttotal: 1.17s\tremaining: 5.22s\n",
      "73:\tlearn: 0.0051683\ttotal: 1.18s\tremaining: 5.19s\n",
      "74:\tlearn: 0.0048576\ttotal: 1.19s\tremaining: 5.17s\n",
      "75:\tlearn: 0.0048575\ttotal: 1.21s\tremaining: 5.14s\n",
      "76:\tlearn: 0.0047466\ttotal: 1.22s\tremaining: 5.11s\n",
      "77:\tlearn: 0.0046572\ttotal: 1.23s\tremaining: 5.08s\n",
      "78:\tlearn: 0.0046572\ttotal: 1.24s\tremaining: 5.04s\n",
      "79:\tlearn: 0.0045350\ttotal: 1.25s\tremaining: 5.01s\n",
      "80:\tlearn: 0.0043571\ttotal: 1.26s\tremaining: 4.97s\n",
      "81:\tlearn: 0.0043571\ttotal: 1.27s\tremaining: 4.94s\n",
      "82:\tlearn: 0.0043516\ttotal: 1.28s\tremaining: 4.91s\n",
      "83:\tlearn: 0.0043516\ttotal: 1.29s\tremaining: 4.87s\n",
      "84:\tlearn: 0.0041990\ttotal: 1.31s\tremaining: 4.84s\n",
      "85:\tlearn: 0.0040980\ttotal: 1.32s\tremaining: 4.82s\n",
      "86:\tlearn: 0.0040668\ttotal: 1.33s\tremaining: 4.79s\n",
      "87:\tlearn: 0.0040482\ttotal: 1.34s\tremaining: 4.76s\n",
      "88:\tlearn: 0.0040061\ttotal: 1.36s\tremaining: 4.76s\n",
      "89:\tlearn: 0.0038147\ttotal: 1.38s\tremaining: 4.75s\n",
      "90:\tlearn: 0.0037472\ttotal: 1.39s\tremaining: 4.73s\n",
      "91:\tlearn: 0.0037472\ttotal: 1.4s\tremaining: 4.7s\n",
      "92:\tlearn: 0.0037396\ttotal: 1.42s\tremaining: 4.67s\n",
      "93:\tlearn: 0.0037277\ttotal: 1.43s\tremaining: 4.64s\n",
      "94:\tlearn: 0.0037054\ttotal: 1.44s\tremaining: 4.62s\n",
      "95:\tlearn: 0.0037054\ttotal: 1.45s\tremaining: 4.58s\n",
      "96:\tlearn: 0.0037054\ttotal: 1.46s\tremaining: 4.55s\n",
      "97:\tlearn: 0.0034844\ttotal: 1.47s\tremaining: 4.53s\n",
      "98:\tlearn: 0.0034476\ttotal: 1.48s\tremaining: 4.5s\n",
      "99:\tlearn: 0.0034361\ttotal: 1.49s\tremaining: 4.47s\n",
      "100:\tlearn: 0.0034360\ttotal: 1.5s\tremaining: 4.44s\n",
      "101:\tlearn: 0.0034360\ttotal: 1.51s\tremaining: 4.41s\n",
      "102:\tlearn: 0.0034133\ttotal: 1.52s\tremaining: 4.38s\n",
      "103:\tlearn: 0.0033540\ttotal: 1.53s\tremaining: 4.36s\n",
      "104:\tlearn: 0.0033540\ttotal: 1.54s\tremaining: 4.33s\n",
      "105:\tlearn: 0.0033519\ttotal: 1.55s\tremaining: 4.31s\n",
      "106:\tlearn: 0.0033029\ttotal: 1.56s\tremaining: 4.29s\n",
      "107:\tlearn: 0.0032909\ttotal: 1.58s\tremaining: 4.26s\n",
      "108:\tlearn: 0.0032555\ttotal: 1.59s\tremaining: 4.24s\n",
      "109:\tlearn: 0.0032155\ttotal: 1.6s\tremaining: 4.21s\n",
      "110:\tlearn: 0.0032061\ttotal: 1.61s\tremaining: 4.18s\n",
      "111:\tlearn: 0.0032061\ttotal: 1.62s\tremaining: 4.17s\n",
      "112:\tlearn: 0.0032061\ttotal: 1.63s\tremaining: 4.14s\n",
      "113:\tlearn: 0.0032061\ttotal: 1.64s\tremaining: 4.12s\n",
      "114:\tlearn: 0.0031816\ttotal: 1.65s\tremaining: 4.09s\n",
      "115:\tlearn: 0.0031732\ttotal: 1.66s\tremaining: 4.07s\n",
      "116:\tlearn: 0.0031657\ttotal: 1.67s\tremaining: 4.05s\n",
      "117:\tlearn: 0.0031657\ttotal: 1.68s\tremaining: 4.02s\n",
      "118:\tlearn: 0.0031264\ttotal: 1.7s\tremaining: 4.01s\n",
      "119:\tlearn: 0.0031264\ttotal: 1.71s\tremaining: 3.98s\n",
      "120:\tlearn: 0.0031200\ttotal: 1.72s\tremaining: 3.96s\n",
      "121:\tlearn: 0.0031200\ttotal: 1.73s\tremaining: 3.95s\n",
      "122:\tlearn: 0.0031200\ttotal: 1.75s\tremaining: 3.93s\n",
      "123:\tlearn: 0.0030951\ttotal: 1.76s\tremaining: 3.91s\n",
      "124:\tlearn: 0.0030873\ttotal: 1.77s\tremaining: 3.9s\n",
      "125:\tlearn: 0.0030873\ttotal: 1.78s\tremaining: 3.88s\n",
      "126:\tlearn: 0.0030872\ttotal: 1.79s\tremaining: 3.86s\n",
      "127:\tlearn: 0.0030820\ttotal: 1.8s\tremaining: 3.84s\n",
      "128:\tlearn: 0.0030820\ttotal: 1.82s\tremaining: 3.82s\n",
      "129:\tlearn: 0.0030819\ttotal: 1.83s\tremaining: 3.79s\n",
      "130:\tlearn: 0.0030771\ttotal: 1.84s\tremaining: 3.78s\n",
      "131:\tlearn: 0.0030771\ttotal: 1.85s\tremaining: 3.76s\n",
      "132:\tlearn: 0.0030461\ttotal: 1.86s\tremaining: 3.74s\n",
      "133:\tlearn: 0.0030461\ttotal: 1.87s\tremaining: 3.72s\n",
      "134:\tlearn: 0.0030419\ttotal: 1.9s\tremaining: 3.73s\n",
      "135:\tlearn: 0.0030381\ttotal: 1.91s\tremaining: 3.71s\n",
      "136:\tlearn: 0.0030381\ttotal: 1.92s\tremaining: 3.69s\n",
      "137:\tlearn: 0.0029566\ttotal: 1.95s\tremaining: 3.7s\n",
      "138:\tlearn: 0.0029566\ttotal: 1.98s\tremaining: 3.71s\n",
      "139:\tlearn: 0.0029566\ttotal: 1.99s\tremaining: 3.69s\n",
      "140:\tlearn: 0.0029566\ttotal: 2s\tremaining: 3.68s\n",
      "141:\tlearn: 0.0029319\ttotal: 2.01s\tremaining: 3.66s\n",
      "142:\tlearn: 0.0029285\ttotal: 2.02s\tremaining: 3.64s\n",
      "143:\tlearn: 0.0029285\ttotal: 2.03s\tremaining: 3.61s\n",
      "144:\tlearn: 0.0029254\ttotal: 2.06s\tremaining: 3.63s\n",
      "145:\tlearn: 0.0029187\ttotal: 2.1s\tremaining: 3.66s\n",
      "146:\tlearn: 0.0029162\ttotal: 2.12s\tremaining: 3.65s\n",
      "147:\tlearn: 0.0029148\ttotal: 2.13s\tremaining: 3.63s\n",
      "148:\tlearn: 0.0029125\ttotal: 2.15s\tremaining: 3.61s\n",
      "149:\tlearn: 0.0029125\ttotal: 2.15s\tremaining: 3.59s\n",
      "150:\tlearn: 0.0029125\ttotal: 2.16s\tremaining: 3.57s\n",
      "151:\tlearn: 0.0029124\ttotal: 2.17s\tremaining: 3.55s\n",
      "152:\tlearn: 0.0029124\ttotal: 2.18s\tremaining: 3.52s\n",
      "153:\tlearn: 0.0029124\ttotal: 2.19s\tremaining: 3.5s\n",
      "154:\tlearn: 0.0029124\ttotal: 2.21s\tremaining: 3.49s\n",
      "155:\tlearn: 0.0029066\ttotal: 2.22s\tremaining: 3.47s\n",
      "156:\tlearn: 0.0029066\ttotal: 2.23s\tremaining: 3.45s\n",
      "157:\tlearn: 0.0029066\ttotal: 2.24s\tremaining: 3.43s\n",
      "158:\tlearn: 0.0029066\ttotal: 2.27s\tremaining: 3.44s\n",
      "159:\tlearn: 0.0029046\ttotal: 2.31s\tremaining: 3.46s\n",
      "160:\tlearn: 0.0029026\ttotal: 2.33s\tremaining: 3.45s\n",
      "161:\tlearn: 0.0029020\ttotal: 2.34s\tremaining: 3.44s\n",
      "162:\tlearn: 0.0029020\ttotal: 2.35s\tremaining: 3.42s\n",
      "163:\tlearn: 0.0029001\ttotal: 2.36s\tremaining: 3.4s\n",
      "164:\tlearn: 0.0025501\ttotal: 2.38s\tremaining: 3.38s\n",
      "165:\tlearn: 0.0025501\ttotal: 2.39s\tremaining: 3.36s\n",
      "166:\tlearn: 0.0025501\ttotal: 2.4s\tremaining: 3.35s\n",
      "167:\tlearn: 0.0025501\ttotal: 2.41s\tremaining: 3.33s\n",
      "168:\tlearn: 0.0025501\ttotal: 2.42s\tremaining: 3.31s\n",
      "169:\tlearn: 0.0025501\ttotal: 2.44s\tremaining: 3.3s\n",
      "170:\tlearn: 0.0025501\ttotal: 2.45s\tremaining: 3.28s\n",
      "171:\tlearn: 0.0025501\ttotal: 2.46s\tremaining: 3.26s\n",
      "172:\tlearn: 0.0025501\ttotal: 2.47s\tremaining: 3.24s\n",
      "173:\tlearn: 0.0025501\ttotal: 2.48s\tremaining: 3.22s\n",
      "174:\tlearn: 0.0025501\ttotal: 2.49s\tremaining: 3.2s\n",
      "175:\tlearn: 0.0025501\ttotal: 2.5s\tremaining: 3.18s\n",
      "176:\tlearn: 0.0025501\ttotal: 2.51s\tremaining: 3.16s\n"
     ]
    },
    {
     "name": "stdout",
     "output_type": "stream",
     "text": [
      "177:\tlearn: 0.0025501\ttotal: 2.52s\tremaining: 3.14s\n",
      "178:\tlearn: 0.0025501\ttotal: 2.54s\tremaining: 3.14s\n",
      "179:\tlearn: 0.0025500\ttotal: 2.58s\tremaining: 3.15s\n",
      "180:\tlearn: 0.0025500\ttotal: 2.6s\tremaining: 3.15s\n",
      "181:\tlearn: 0.0024939\ttotal: 2.63s\tremaining: 3.15s\n",
      "182:\tlearn: 0.0024939\ttotal: 2.64s\tremaining: 3.13s\n",
      "183:\tlearn: 0.0024939\ttotal: 2.65s\tremaining: 3.11s\n",
      "184:\tlearn: 0.0024939\ttotal: 2.66s\tremaining: 3.09s\n",
      "185:\tlearn: 0.0024939\ttotal: 2.67s\tremaining: 3.07s\n",
      "186:\tlearn: 0.0024939\ttotal: 2.68s\tremaining: 3.05s\n",
      "187:\tlearn: 0.0024938\ttotal: 2.69s\tremaining: 3.03s\n",
      "188:\tlearn: 0.0024938\ttotal: 2.7s\tremaining: 3.01s\n",
      "189:\tlearn: 0.0024938\ttotal: 2.71s\tremaining: 3s\n",
      "190:\tlearn: 0.0024938\ttotal: 2.74s\tremaining: 3s\n",
      "191:\tlearn: 0.0024938\ttotal: 2.77s\tremaining: 3s\n",
      "192:\tlearn: 0.0024938\ttotal: 2.78s\tremaining: 2.98s\n",
      "193:\tlearn: 0.0024938\ttotal: 2.79s\tremaining: 2.97s\n",
      "194:\tlearn: 0.0024938\ttotal: 2.81s\tremaining: 2.95s\n",
      "195:\tlearn: 0.0024938\ttotal: 2.81s\tremaining: 2.93s\n",
      "196:\tlearn: 0.0024938\ttotal: 2.83s\tremaining: 2.91s\n",
      "197:\tlearn: 0.0024938\ttotal: 2.83s\tremaining: 2.89s\n",
      "198:\tlearn: 0.0024938\ttotal: 2.84s\tremaining: 2.87s\n",
      "199:\tlearn: 0.0024938\ttotal: 2.85s\tremaining: 2.85s\n",
      "200:\tlearn: 0.0024938\ttotal: 2.86s\tremaining: 2.84s\n",
      "201:\tlearn: 0.0024938\ttotal: 2.87s\tremaining: 2.82s\n",
      "202:\tlearn: 0.0024938\ttotal: 2.89s\tremaining: 2.8s\n",
      "203:\tlearn: 0.0024938\ttotal: 2.9s\tremaining: 2.78s\n",
      "204:\tlearn: 0.0024938\ttotal: 2.91s\tremaining: 2.76s\n",
      "205:\tlearn: 0.0024938\ttotal: 2.94s\tremaining: 2.77s\n",
      "206:\tlearn: 0.0024938\ttotal: 2.95s\tremaining: 2.75s\n",
      "207:\tlearn: 0.0024938\ttotal: 2.96s\tremaining: 2.73s\n",
      "208:\tlearn: 0.0024938\ttotal: 2.97s\tremaining: 2.71s\n",
      "209:\tlearn: 0.0024938\ttotal: 2.98s\tremaining: 2.7s\n",
      "210:\tlearn: 0.0024938\ttotal: 2.99s\tremaining: 2.68s\n",
      "211:\tlearn: 0.0024938\ttotal: 3s\tremaining: 2.66s\n",
      "212:\tlearn: 0.0024938\ttotal: 3.01s\tremaining: 2.64s\n",
      "213:\tlearn: 0.0024938\ttotal: 3.04s\tremaining: 2.64s\n",
      "214:\tlearn: 0.0024938\ttotal: 3.05s\tremaining: 2.62s\n",
      "215:\tlearn: 0.0024938\ttotal: 3.06s\tremaining: 2.6s\n",
      "216:\tlearn: 0.0024937\ttotal: 3.07s\tremaining: 2.59s\n",
      "217:\tlearn: 0.0024937\ttotal: 3.09s\tremaining: 2.58s\n",
      "218:\tlearn: 0.0024937\ttotal: 3.1s\tremaining: 2.56s\n",
      "219:\tlearn: 0.0024937\ttotal: 3.11s\tremaining: 2.55s\n",
      "220:\tlearn: 0.0024937\ttotal: 3.12s\tremaining: 2.53s\n",
      "221:\tlearn: 0.0024937\ttotal: 3.13s\tremaining: 2.51s\n",
      "222:\tlearn: 0.0024937\ttotal: 3.14s\tremaining: 2.5s\n",
      "223:\tlearn: 0.0024937\ttotal: 3.16s\tremaining: 2.48s\n",
      "224:\tlearn: 0.0024937\ttotal: 3.18s\tremaining: 2.47s\n",
      "225:\tlearn: 0.0024937\ttotal: 3.19s\tremaining: 2.46s\n",
      "226:\tlearn: 0.0024937\ttotal: 3.21s\tremaining: 2.44s\n",
      "227:\tlearn: 0.0024937\ttotal: 3.22s\tremaining: 2.43s\n",
      "228:\tlearn: 0.0024937\ttotal: 3.23s\tremaining: 2.41s\n",
      "229:\tlearn: 0.0024937\ttotal: 3.24s\tremaining: 2.4s\n",
      "230:\tlearn: 0.0024937\ttotal: 3.27s\tremaining: 2.39s\n",
      "231:\tlearn: 0.0024936\ttotal: 3.27s\tremaining: 2.37s\n",
      "232:\tlearn: 0.0024936\ttotal: 3.29s\tremaining: 2.35s\n",
      "233:\tlearn: 0.0024936\ttotal: 3.32s\tremaining: 2.35s\n",
      "234:\tlearn: 0.0024936\ttotal: 3.35s\tremaining: 2.35s\n",
      "235:\tlearn: 0.0024936\ttotal: 3.36s\tremaining: 2.34s\n",
      "236:\tlearn: 0.0024936\ttotal: 3.37s\tremaining: 2.32s\n",
      "237:\tlearn: 0.0024936\ttotal: 3.38s\tremaining: 2.3s\n",
      "238:\tlearn: 0.0024936\ttotal: 3.4s\tremaining: 2.29s\n",
      "239:\tlearn: 0.0024936\ttotal: 3.42s\tremaining: 2.28s\n",
      "240:\tlearn: 0.0024936\ttotal: 3.43s\tremaining: 2.26s\n",
      "241:\tlearn: 0.0024936\ttotal: 3.44s\tremaining: 2.25s\n",
      "242:\tlearn: 0.0024936\ttotal: 3.45s\tremaining: 2.23s\n",
      "243:\tlearn: 0.0024935\ttotal: 3.46s\tremaining: 2.21s\n",
      "244:\tlearn: 0.0024935\ttotal: 3.47s\tremaining: 2.2s\n",
      "245:\tlearn: 0.0024935\ttotal: 3.5s\tremaining: 2.19s\n",
      "246:\tlearn: 0.0024935\ttotal: 3.51s\tremaining: 2.17s\n",
      "247:\tlearn: 0.0024935\ttotal: 3.52s\tremaining: 2.16s\n",
      "248:\tlearn: 0.0024935\ttotal: 3.53s\tremaining: 2.14s\n",
      "249:\tlearn: 0.0024935\ttotal: 3.54s\tremaining: 2.13s\n",
      "250:\tlearn: 0.0024935\ttotal: 3.55s\tremaining: 2.11s\n",
      "251:\tlearn: 0.0024935\ttotal: 3.56s\tremaining: 2.09s\n",
      "252:\tlearn: 0.0024935\ttotal: 3.57s\tremaining: 2.08s\n",
      "253:\tlearn: 0.0024934\ttotal: 3.59s\tremaining: 2.06s\n",
      "254:\tlearn: 0.0024934\ttotal: 3.6s\tremaining: 2.04s\n",
      "255:\tlearn: 0.0024934\ttotal: 3.61s\tremaining: 2.03s\n",
      "256:\tlearn: 0.0024934\ttotal: 3.62s\tremaining: 2.01s\n",
      "257:\tlearn: 0.0024934\ttotal: 3.63s\tremaining: 2s\n",
      "258:\tlearn: 0.0024934\ttotal: 3.64s\tremaining: 1.98s\n",
      "259:\tlearn: 0.0024934\ttotal: 3.65s\tremaining: 1.96s\n",
      "260:\tlearn: 0.0024934\ttotal: 3.66s\tremaining: 1.95s\n",
      "261:\tlearn: 0.0024934\ttotal: 3.67s\tremaining: 1.93s\n",
      "262:\tlearn: 0.0024934\ttotal: 3.68s\tremaining: 1.92s\n",
      "263:\tlearn: 0.0024934\ttotal: 3.69s\tremaining: 1.9s\n",
      "264:\tlearn: 0.0024934\ttotal: 3.7s\tremaining: 1.88s\n",
      "265:\tlearn: 0.0024934\ttotal: 3.71s\tremaining: 1.87s\n",
      "266:\tlearn: 0.0024934\ttotal: 3.71s\tremaining: 1.85s\n",
      "267:\tlearn: 0.0024934\ttotal: 3.72s\tremaining: 1.83s\n",
      "268:\tlearn: 0.0024934\ttotal: 3.73s\tremaining: 1.82s\n",
      "269:\tlearn: 0.0024934\ttotal: 3.74s\tremaining: 1.8s\n",
      "270:\tlearn: 0.0024934\ttotal: 3.77s\tremaining: 1.79s\n",
      "271:\tlearn: 0.0024934\ttotal: 3.79s\tremaining: 1.78s\n",
      "272:\tlearn: 0.0024934\ttotal: 3.8s\tremaining: 1.77s\n",
      "273:\tlearn: 0.0024934\ttotal: 3.81s\tremaining: 1.75s\n",
      "274:\tlearn: 0.0024934\ttotal: 3.82s\tremaining: 1.74s\n",
      "275:\tlearn: 0.0024934\ttotal: 3.85s\tremaining: 1.73s\n",
      "276:\tlearn: 0.0024933\ttotal: 3.87s\tremaining: 1.72s\n",
      "277:\tlearn: 0.0024933\ttotal: 3.88s\tremaining: 1.7s\n",
      "278:\tlearn: 0.0024933\ttotal: 3.9s\tremaining: 1.69s\n",
      "279:\tlearn: 0.0024933\ttotal: 3.91s\tremaining: 1.67s\n",
      "280:\tlearn: 0.0024933\ttotal: 3.93s\tremaining: 1.67s\n",
      "281:\tlearn: 0.0024933\ttotal: 3.97s\tremaining: 1.66s\n",
      "282:\tlearn: 0.0024933\ttotal: 4.01s\tremaining: 1.66s\n",
      "283:\tlearn: 0.0024933\ttotal: 4.03s\tremaining: 1.65s\n",
      "284:\tlearn: 0.0024933\ttotal: 4.05s\tremaining: 1.64s\n",
      "285:\tlearn: 0.0024933\ttotal: 4.07s\tremaining: 1.62s\n",
      "286:\tlearn: 0.0024933\ttotal: 4.09s\tremaining: 1.61s\n",
      "287:\tlearn: 0.0024933\ttotal: 4.1s\tremaining: 1.6s\n",
      "288:\tlearn: 0.0024933\ttotal: 4.12s\tremaining: 1.58s\n",
      "289:\tlearn: 0.0024933\ttotal: 4.12s\tremaining: 1.56s\n",
      "290:\tlearn: 0.0024933\ttotal: 4.13s\tremaining: 1.55s\n",
      "291:\tlearn: 0.0024933\ttotal: 4.15s\tremaining: 1.53s\n",
      "292:\tlearn: 0.0024932\ttotal: 4.16s\tremaining: 1.52s\n",
      "293:\tlearn: 0.0024613\ttotal: 4.17s\tremaining: 1.5s\n",
      "294:\tlearn: 0.0024613\ttotal: 4.18s\tremaining: 1.49s\n",
      "295:\tlearn: 0.0024613\ttotal: 4.19s\tremaining: 1.47s\n",
      "296:\tlearn: 0.0024613\ttotal: 4.2s\tremaining: 1.46s\n",
      "297:\tlearn: 0.0024613\ttotal: 4.21s\tremaining: 1.44s\n",
      "298:\tlearn: 0.0024613\ttotal: 4.23s\tremaining: 1.43s\n",
      "299:\tlearn: 0.0024613\ttotal: 4.24s\tremaining: 1.41s\n",
      "300:\tlearn: 0.0024613\ttotal: 4.25s\tremaining: 1.4s\n",
      "301:\tlearn: 0.0024613\ttotal: 4.26s\tremaining: 1.38s\n",
      "302:\tlearn: 0.0024613\ttotal: 4.27s\tremaining: 1.37s\n",
      "303:\tlearn: 0.0024613\ttotal: 4.29s\tremaining: 1.35s\n",
      "304:\tlearn: 0.0024612\ttotal: 4.29s\tremaining: 1.34s\n",
      "305:\tlearn: 0.0024612\ttotal: 4.3s\tremaining: 1.32s\n",
      "306:\tlearn: 0.0024612\ttotal: 4.33s\tremaining: 1.31s\n",
      "307:\tlearn: 0.0024612\ttotal: 4.36s\tremaining: 1.3s\n",
      "308:\tlearn: 0.0024612\ttotal: 4.38s\tremaining: 1.29s\n",
      "309:\tlearn: 0.0024175\ttotal: 4.4s\tremaining: 1.28s\n",
      "310:\tlearn: 0.0024175\ttotal: 4.42s\tremaining: 1.26s\n",
      "311:\tlearn: 0.0024175\ttotal: 4.43s\tremaining: 1.25s\n",
      "312:\tlearn: 0.0024175\ttotal: 4.44s\tremaining: 1.23s\n",
      "313:\tlearn: 0.0024175\ttotal: 4.45s\tremaining: 1.22s\n",
      "314:\tlearn: 0.0024175\ttotal: 4.46s\tremaining: 1.2s\n",
      "315:\tlearn: 0.0024175\ttotal: 4.47s\tremaining: 1.19s\n",
      "316:\tlearn: 0.0024175\ttotal: 4.48s\tremaining: 1.17s\n",
      "317:\tlearn: 0.0024175\ttotal: 4.49s\tremaining: 1.16s\n",
      "318:\tlearn: 0.0024175\ttotal: 4.5s\tremaining: 1.14s\n",
      "319:\tlearn: 0.0024175\ttotal: 4.51s\tremaining: 1.13s\n",
      "320:\tlearn: 0.0024175\ttotal: 4.53s\tremaining: 1.11s\n",
      "321:\tlearn: 0.0024174\ttotal: 4.54s\tremaining: 1.1s\n",
      "322:\tlearn: 0.0024174\ttotal: 4.54s\tremaining: 1.08s\n",
      "323:\tlearn: 0.0024174\ttotal: 4.56s\tremaining: 1.07s\n",
      "324:\tlearn: 0.0024174\ttotal: 4.57s\tremaining: 1.05s\n",
      "325:\tlearn: 0.0024174\ttotal: 4.58s\tremaining: 1.04s\n",
      "326:\tlearn: 0.0024174\ttotal: 4.59s\tremaining: 1.02s\n",
      "327:\tlearn: 0.0023844\ttotal: 4.61s\tremaining: 1.01s\n",
      "328:\tlearn: 0.0023844\ttotal: 4.62s\tremaining: 997ms\n",
      "329:\tlearn: 0.0022427\ttotal: 4.63s\tremaining: 983ms\n",
      "330:\tlearn: 0.0022427\ttotal: 4.66s\tremaining: 972ms\n",
      "331:\tlearn: 0.0022426\ttotal: 4.7s\tremaining: 962ms\n",
      "332:\tlearn: 0.0022426\ttotal: 4.71s\tremaining: 949ms\n",
      "333:\tlearn: 0.0022426\ttotal: 4.73s\tremaining: 935ms\n",
      "334:\tlearn: 0.0022426\ttotal: 4.76s\tremaining: 923ms\n",
      "335:\tlearn: 0.0022426\ttotal: 4.79s\tremaining: 912ms\n",
      "336:\tlearn: 0.0022426\ttotal: 4.81s\tremaining: 899ms\n"
     ]
    },
    {
     "name": "stdout",
     "output_type": "stream",
     "text": [
      "337:\tlearn: 0.0022426\ttotal: 4.82s\tremaining: 884ms\n",
      "338:\tlearn: 0.0022070\ttotal: 4.84s\tremaining: 870ms\n",
      "339:\tlearn: 0.0022070\ttotal: 4.85s\tremaining: 856ms\n",
      "340:\tlearn: 0.0022070\ttotal: 4.86s\tremaining: 841ms\n",
      "341:\tlearn: 0.0022070\ttotal: 4.89s\tremaining: 829ms\n",
      "342:\tlearn: 0.0022060\ttotal: 4.92s\tremaining: 818ms\n",
      "343:\tlearn: 0.0022059\ttotal: 4.95s\tremaining: 807ms\n",
      "344:\tlearn: 0.0022059\ttotal: 4.97s\tremaining: 792ms\n",
      "345:\tlearn: 0.0022042\ttotal: 4.98s\tremaining: 778ms\n",
      "346:\tlearn: 0.0022042\ttotal: 5s\tremaining: 763ms\n",
      "347:\tlearn: 0.0022042\ttotal: 5.01s\tremaining: 748ms\n",
      "348:\tlearn: 0.0022026\ttotal: 5.02s\tremaining: 733ms\n",
      "349:\tlearn: 0.0022026\ttotal: 5.04s\tremaining: 720ms\n",
      "350:\tlearn: 0.0021569\ttotal: 5.05s\tremaining: 706ms\n",
      "351:\tlearn: 0.0021569\ttotal: 5.06s\tremaining: 691ms\n",
      "352:\tlearn: 0.0021569\ttotal: 5.09s\tremaining: 678ms\n",
      "353:\tlearn: 0.0021555\ttotal: 5.12s\tremaining: 666ms\n",
      "354:\tlearn: 0.0021071\ttotal: 5.14s\tremaining: 652ms\n",
      "355:\tlearn: 0.0021071\ttotal: 5.15s\tremaining: 637ms\n",
      "356:\tlearn: 0.0020691\ttotal: 5.16s\tremaining: 622ms\n",
      "357:\tlearn: 0.0020691\ttotal: 5.17s\tremaining: 607ms\n",
      "358:\tlearn: 0.0020691\ttotal: 5.2s\tremaining: 594ms\n",
      "359:\tlearn: 0.0020391\ttotal: 5.23s\tremaining: 581ms\n",
      "360:\tlearn: 0.0020391\ttotal: 5.27s\tremaining: 570ms\n",
      "361:\tlearn: 0.0020350\ttotal: 5.29s\tremaining: 555ms\n",
      "362:\tlearn: 0.0020314\ttotal: 5.31s\tremaining: 542ms\n",
      "363:\tlearn: 0.0020276\ttotal: 5.34s\tremaining: 528ms\n",
      "364:\tlearn: 0.0020276\ttotal: 5.35s\tremaining: 513ms\n",
      "365:\tlearn: 0.0020242\ttotal: 5.37s\tremaining: 498ms\n",
      "366:\tlearn: 0.0020214\ttotal: 5.38s\tremaining: 483ms\n",
      "367:\tlearn: 0.0019889\ttotal: 5.39s\tremaining: 468ms\n",
      "368:\tlearn: 0.0019889\ttotal: 5.4s\tremaining: 453ms\n",
      "369:\tlearn: 0.0019889\ttotal: 5.42s\tremaining: 439ms\n",
      "370:\tlearn: 0.0019889\ttotal: 5.43s\tremaining: 424ms\n",
      "371:\tlearn: 0.0019889\ttotal: 5.46s\tremaining: 411ms\n",
      "372:\tlearn: 0.0019888\ttotal: 5.46s\tremaining: 396ms\n",
      "373:\tlearn: 0.0019856\ttotal: 5.48s\tremaining: 381ms\n",
      "374:\tlearn: 0.0019856\ttotal: 5.49s\tremaining: 366ms\n",
      "375:\tlearn: 0.0019831\ttotal: 5.5s\tremaining: 351ms\n",
      "376:\tlearn: 0.0019831\ttotal: 5.53s\tremaining: 337ms\n",
      "377:\tlearn: 0.0019808\ttotal: 5.55s\tremaining: 323ms\n",
      "378:\tlearn: 0.0019787\ttotal: 5.56s\tremaining: 308ms\n",
      "379:\tlearn: 0.0019763\ttotal: 5.58s\tremaining: 293ms\n",
      "380:\tlearn: 0.0019633\ttotal: 5.59s\tremaining: 279ms\n",
      "381:\tlearn: 0.0019616\ttotal: 5.6s\tremaining: 264ms\n",
      "382:\tlearn: 0.0019595\ttotal: 5.61s\tremaining: 249ms\n",
      "383:\tlearn: 0.0019090\ttotal: 5.63s\tremaining: 235ms\n",
      "384:\tlearn: 0.0018993\ttotal: 5.65s\tremaining: 220ms\n",
      "385:\tlearn: 0.0018041\ttotal: 5.66s\tremaining: 205ms\n",
      "386:\tlearn: 0.0018041\ttotal: 5.67s\tremaining: 191ms\n",
      "387:\tlearn: 0.0018041\ttotal: 5.71s\tremaining: 177ms\n",
      "388:\tlearn: 0.0018030\ttotal: 5.74s\tremaining: 162ms\n",
      "389:\tlearn: 0.0018022\ttotal: 5.76s\tremaining: 148ms\n",
      "390:\tlearn: 0.0017302\ttotal: 5.77s\tremaining: 133ms\n",
      "391:\tlearn: 0.0017290\ttotal: 5.78s\tremaining: 118ms\n",
      "392:\tlearn: 0.0017290\ttotal: 5.79s\tremaining: 103ms\n",
      "393:\tlearn: 0.0017290\ttotal: 5.8s\tremaining: 88.3ms\n",
      "394:\tlearn: 0.0017290\ttotal: 5.81s\tremaining: 73.5ms\n",
      "395:\tlearn: 0.0017289\ttotal: 5.82s\tremaining: 58.8ms\n",
      "396:\tlearn: 0.0017289\ttotal: 5.83s\tremaining: 44.1ms\n",
      "397:\tlearn: 0.0016732\ttotal: 5.84s\tremaining: 29.4ms\n",
      "398:\tlearn: 0.0016732\ttotal: 5.85s\tremaining: 14.7ms\n",
      "399:\tlearn: 0.0016281\ttotal: 5.86s\tremaining: 0us\n"
     ]
    },
    {
     "data": {
      "text/plain": [
       "<catboost.core.CatBoostClassifier at 0x1f9663fe730>"
      ]
     },
     "execution_count": 74,
     "metadata": {},
     "output_type": "execute_result"
    }
   ],
   "source": [
    "from catboost import CatBoostClassifier\n",
    "\n",
    "cat=CatBoostClassifier( learning_rate=0.1, max_depth=3,iterations=400)\n",
    "cat.fit(train_pool)\n",
    "catb_predes=cat.predict(test_pool)\n",
    "catb_pred_proba=cat.predict_proba(test_pool)[:,1]"
   ]
  },
  {
   "cell_type": "markdown",
   "metadata": {
    "id": "JOj-GyVVnL-6"
   },
   "source": [
    "### 예측 성능을 평가하시오."
   ]
  },
  {
   "cell_type": "code",
   "execution_count": 83,
   "metadata": {},
   "outputs": [
    {
     "name": "stdout",
     "output_type": "stream",
     "text": [
      "정확도: 1.0 F1: 1.0\n"
     ]
    }
   ],
   "source": [
    "get_clf_eval(y_test,catb_predes,catb_pred_proba)"
   ]
  },
  {
   "cell_type": "code",
   "execution_count": null,
   "metadata": {},
   "outputs": [],
   "source": []
  }
 ],
 "metadata": {
  "colab": {
   "collapsed_sections": [],
   "name": "week4_복습과제_최종.ipynb",
   "provenance": []
  },
  "kernelspec": {
   "display_name": "Python 3",
   "language": "python",
   "name": "python3"
  },
  "language_info": {
   "codemirror_mode": {
    "name": "ipython",
    "version": 3
   },
   "file_extension": ".py",
   "mimetype": "text/x-python",
   "name": "python",
   "nbconvert_exporter": "python",
   "pygments_lexer": "ipython3",
   "version": "3.8.5"
  },
  "toc": {
   "base_numbering": 1,
   "nav_menu": {},
   "number_sections": true,
   "sideBar": true,
   "skip_h1_title": false,
   "title_cell": "Table of Contents",
   "title_sidebar": "Contents",
   "toc_cell": false,
   "toc_position": {},
   "toc_section_display": true,
   "toc_window_display": false
  },
  "varInspector": {
   "cols": {
    "lenName": 16,
    "lenType": 16,
    "lenVar": 40
   },
   "kernels_config": {
    "python": {
     "delete_cmd_postfix": "",
     "delete_cmd_prefix": "del ",
     "library": "var_list.py",
     "varRefreshCmd": "print(var_dic_list())"
    },
    "r": {
     "delete_cmd_postfix": ") ",
     "delete_cmd_prefix": "rm(",
     "library": "var_list.r",
     "varRefreshCmd": "cat(var_dic_list()) "
    }
   },
   "types_to_exclude": [
    "module",
    "function",
    "builtin_function_or_method",
    "instance",
    "_Feature"
   ],
   "window_display": false
  }
 },
 "nbformat": 4,
 "nbformat_minor": 1
}
