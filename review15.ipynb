{
 "cells": [
  {
   "cell_type": "markdown",
   "id": "d6937468",
   "metadata": {},
   "source": [
    "###  위험도"
   ]
  },
  {
   "cell_type": "code",
   "execution_count": 21,
   "id": "d4171678",
   "metadata": {},
   "outputs": [],
   "source": [
    "import pandas as pd\n",
    "import numpy as np\n",
    "import os \n",
    "import pandas as pds\n",
    "from dask import dataframe\n",
    "import re\n",
    "import numpy as np\n",
    "import seaborn as sbn\n",
    "from matplotlib import pyplot as plt\n",
    "from sklearn.feature_extraction.text import CountVectorizer\n",
    "from nltk.corpus import wordnet"
   ]
  },
  {
   "cell_type": "code",
   "execution_count": 22,
   "id": "619914cf",
   "metadata": {},
   "outputs": [],
   "source": [
    "train = pd.read_csv(\"train2.csv\")\n",
    "test= pd.read_csv(\"test2.csv\")"
   ]
  },
  {
   "cell_type": "code",
   "execution_count": 23,
   "id": "905f499b",
   "metadata": {},
   "outputs": [
    {
     "data": {
      "text/plain": [
       "1418916"
      ]
     },
     "execution_count": 23,
     "metadata": {},
     "output_type": "execute_result"
    }
   ],
   "source": [
    "len(test)"
   ]
  },
  {
   "cell_type": "code",
   "execution_count": 24,
   "id": "b3db7992",
   "metadata": {},
   "outputs": [],
   "source": [
    "#eda"
   ]
  },
  {
   "cell_type": "code",
   "execution_count": 25,
   "id": "3874db82",
   "metadata": {},
   "outputs": [],
   "source": [
    "lit = 'abcdefghijklmnopqrstuvwxyzABCDEFGHIJKLMNOPQRSTUVWXYZ'\n",
    "def mask(tt):\n",
    "    tt=tt.apply(lambda x: re.sub(r'(\\\\n)',' ',x))\n",
    "    tt=tt.apply(lambda x: re.sub(r'[^a-zA-Zㄱ-ㅣ가-힣0-9:=\\s\\(\\)./,\\<\\>]+',' ',x))\n",
    "    #tt=tt.apply(lambda x: re.sub(r' ?(?P<note>[:=\\(\\)./,\\<\\>]) ?', ' \\g<note> ', x))\n",
    "    tt=tt.apply(lambda x: re.sub(r'[0-9]+',' ',x))\n",
    "    tt=tt.apply(lambda x: re.sub(r\"':/()\",' ',x))\n",
    "    tt=tt.apply(lambda x: re.sub(r':',' ',x))\n",
    "    tt=tt.apply(lambda x: re.sub(r',',' ',x))\n",
    "    # = tt.apply(lambda x: re.sub(r'(',' ',x))\n",
    "    #t = tt.apply(lambda x: re.sub(r')',' ',x))\n",
    "    tt=tt.apply(lambda x: re.sub(r'[-=+,#/\\?:^$.@*\\\"※~&%ㆍ!』\\\\‘|\\(\\)\\[\\]\\<\\>`\\'…》]',' ',x))\n",
    "    for st in lit:\n",
    "        st = \" \"+st + \" \"\n",
    "        tt=tt.apply(lambda x: re.sub(st,' ',x))\n",
    "    tt=tt.apply(lambda x: re.sub(r'\\s+',' ',x))\n",
    "    \n",
    "    return tt"
   ]
  },
  {
   "cell_type": "code",
   "execution_count": 26,
   "id": "8acc9521",
   "metadata": {},
   "outputs": [],
   "source": [
    "train['pre_log'] = mask(train.full_log)\n",
    "test['pre_log'] = mask(test.full_log)"
   ]
  },
  {
   "cell_type": "code",
   "execution_count": 27,
   "id": "8237038f",
   "metadata": {},
   "outputs": [],
   "source": [
    "#포함되어 있는 단어 모음 생성\n",
    "def count_word(data):\n",
    "    tem = list(data['pre_log'].str.split(\" \"))\n",
    "    all_word = []\n",
    "    for word in tem:\n",
    "        all_word.extend(word)\n",
    "    words = pd.Series(all_word)\n",
    "    return words.value_counts()"
   ]
  },
  {
   "cell_type": "code",
   "execution_count": 28,
   "id": "48870865",
   "metadata": {},
   "outputs": [],
   "source": [
    "train_count = count_word(train)\n",
    "test_count = count_word(test)"
   ]
  },
  {
   "cell_type": "code",
   "execution_count": 29,
   "id": "6ed5120b",
   "metadata": {},
   "outputs": [],
   "source": [
    "train_words = list(set(train_count.index))\n",
    "test_words = list(set(test_count.index))"
   ]
  },
  {
   "cell_type": "code",
   "execution_count": 30,
   "id": "c3eab3b0",
   "metadata": {},
   "outputs": [],
   "source": [
    "#영어 단어 + 3글자 이상인 경우만 True\n",
    "from nltk.corpus import words\n",
    "def check_words(word_list: list):\n",
    "    re = [False] * len(word_list)\n",
    "    for i,word in enumerate(word_list):\n",
    "        if len(word) < 3:\n",
    "            continue\n",
    "        word = word.lower()\n",
    "        if word in words.words():\n",
    "            re[i] = True\n",
    "    return re\n",
    "\n",
    "word_list = ['Promiscuous', 'ab', 'nihongo', 'abstract', 'pedo','gid']"
   ]
  },
  {
   "cell_type": "code",
   "execution_count": 31,
   "id": "21b34020",
   "metadata": {},
   "outputs": [
    {
     "data": {
      "text/plain": [
       "[True, False, False, True, False, True]"
      ]
     },
     "execution_count": 31,
     "metadata": {},
     "output_type": "execute_result"
    }
   ],
   "source": [
    "#check_words는 단어인지를 확인해주고 결과를 t/f로 반환\n",
    "check_words(word_list)"
   ]
  },
  {
   "cell_type": "code",
   "execution_count": 32,
   "id": "65685081",
   "metadata": {},
   "outputs": [],
   "source": [
    "train_tf = check_words(train_words)\n",
    "test_tf = check_words(test_words)"
   ]
  },
  {
   "cell_type": "code",
   "execution_count": 33,
   "id": "48d96cd5",
   "metadata": {},
   "outputs": [],
   "source": [
    "#단어인지 확인해주는 딕셔너리 만들어주기 (train_isword,test_isword)\n",
    "train_isword = dict()\n",
    "test_isword = dict()\n",
    "\n",
    "total_words = list(train_words)\n",
    "test_words = list(test_words)\n",
    "\n",
    "for i in range(len(train_words)):\n",
    "    train_isword[train_words[i].lower()] = train_tf[i]\n",
    "    \n",
    "for i in range(len(test_words)):\n",
    "    test_isword[test_words[i].lower()] = test_tf[i]"
   ]
  },
  {
   "cell_type": "code",
   "execution_count": 34,
   "id": "542bca3b",
   "metadata": {},
   "outputs": [],
   "source": [
    "#train,test 적용"
   ]
  },
  {
   "cell_type": "code",
   "execution_count": 35,
   "id": "0a390be2",
   "metadata": {},
   "outputs": [],
   "source": [
    "import copy\n",
    "\n",
    "def checking_train(data):\n",
    "    re = [False] * len(data)\n",
    "    for i,word in enumerate(data):\n",
    "        if train_isword[word]:\n",
    "            re[i] = True\n",
    "    return re\n",
    "\n",
    "\n",
    "def checking_test(data):\n",
    "    re = [False] * len(data)\n",
    "    for i,word in enumerate(data):\n",
    "        if test_isword[word]:\n",
    "            re[i] = True\n",
    "    return re\n",
    "\n",
    "\n",
    "\n",
    "def cutt_train(data):\n",
    "    data = data.lower()\n",
    "    splited = data.split(\" \")\n",
    "    check = checking_train(splited)\n",
    "    c = np.array(splited)\n",
    "    real_words = list(c[check])    \n",
    "    tem = \" \".join(real_words)\n",
    "    #tem = tem.lower() \n",
    "    return tem\n",
    "\n",
    "def cutt_test(data):\n",
    "    data = data.lower()\n",
    "    splited = data.split(\" \")\n",
    "    check = checking_test(splited)\n",
    "    c = np.array(splited)\n",
    "    real_words = list(c[check])  \n",
    "    tem = \" \".join(real_words)\n",
    "    #tem = tem.lower()\n",
    "    return tem"
   ]
  },
  {
   "cell_type": "code",
   "execution_count": 36,
   "id": "01f458db",
   "metadata": {},
   "outputs": [],
   "source": [
    "train['cut'] = train['pre_log'].map(cutt_train)\n",
    "test['cut'] = test['pre_log'].map(cutt_test)"
   ]
  },
  {
   "cell_type": "code",
   "execution_count": 37,
   "id": "00f3c349",
   "metadata": {},
   "outputs": [],
   "source": [
    "del train['full_log']\n",
    "del test['full_log']\n",
    "\n",
    "del train['pre_log']\n",
    "del test['pre_log']"
   ]
  },
  {
   "cell_type": "code",
   "execution_count": 38,
   "id": "ce491794",
   "metadata": {},
   "outputs": [
    {
     "data": {
      "text/plain": [
       "6544"
      ]
     },
     "execution_count": 38,
     "metadata": {},
     "output_type": "execute_result"
    }
   ],
   "source": [
    "train_bag = train['cut'].unique()\n",
    "len(train_bag)"
   ]
  },
  {
   "cell_type": "code",
   "execution_count": 39,
   "id": "bfbac212",
   "metadata": {},
   "outputs": [
    {
     "name": "stderr",
     "output_type": "stream",
     "text": [
      "100%|██████████████████████████████████████████████████████████████████████| 1418916/1418916 [10:21<00:00, 2283.38it/s]\n"
     ]
    }
   ],
   "source": [
    "#inornot을 통해서 train안에 같은 문장이 있으면 0 없으면 1\n",
    "from tqdm import tqdm\n",
    "inornot = np.zeros(len(test))\n",
    "for i in tqdm(range(len(test))):\n",
    "    tem = test.iloc[i]['cut']\n",
    "    if tem not in train_bag:\n",
    "        inornot[i] = 1"
   ]
  },
  {
   "cell_type": "code",
   "execution_count": 40,
   "id": "2b309b4c",
   "metadata": {},
   "outputs": [],
   "source": [
    "#모델"
   ]
  },
  {
   "cell_type": "code",
   "execution_count": 41,
   "id": "baf0bf36",
   "metadata": {},
   "outputs": [
    {
     "data": {
      "text/html": [
       "<div>\n",
       "<style scoped>\n",
       "    .dataframe tbody tr th:only-of-type {\n",
       "        vertical-align: middle;\n",
       "    }\n",
       "\n",
       "    .dataframe tbody tr th {\n",
       "        vertical-align: top;\n",
       "    }\n",
       "\n",
       "    .dataframe thead th {\n",
       "        text-align: right;\n",
       "    }\n",
       "</style>\n",
       "<table border=\"1\" class=\"dataframe\">\n",
       "  <thead>\n",
       "    <tr style=\"text-align: right;\">\n",
       "      <th></th>\n",
       "      <th>id</th>\n",
       "      <th>level</th>\n",
       "      <th>cut</th>\n",
       "    </tr>\n",
       "  </thead>\n",
       "  <tbody>\n",
       "    <tr>\n",
       "      <th>0</th>\n",
       "      <td>0</td>\n",
       "      <td>0</td>\n",
       "      <td>type error warning collection level error erro...</td>\n",
       "    </tr>\n",
       "    <tr>\n",
       "      <th>1</th>\n",
       "      <td>1</td>\n",
       "      <td>0</td>\n",
       "      <td>action with response code type unavailable exc...</td>\n",
       "    </tr>\n",
       "    <tr>\n",
       "      <th>2</th>\n",
       "      <td>2</td>\n",
       "      <td>0</td>\n",
       "      <td>type error warning collection level error erro...</td>\n",
       "    </tr>\n",
       "    <tr>\n",
       "      <th>3</th>\n",
       "      <td>3</td>\n",
       "      <td>0</td>\n",
       "      <td>type error warning collection level error erro...</td>\n",
       "    </tr>\n",
       "    <tr>\n",
       "      <th>4</th>\n",
       "      <td>4</td>\n",
       "      <td>1</td>\n",
       "      <td>type audit arch success yes exit gid suid none...</td>\n",
       "    </tr>\n",
       "    <tr>\n",
       "      <th>5</th>\n",
       "      <td>5</td>\n",
       "      <td>1</td>\n",
       "      <td>type audit arch success yes exit gid suid none...</td>\n",
       "    </tr>\n",
       "    <tr>\n",
       "      <th>6</th>\n",
       "      <td>6</td>\n",
       "      <td>0</td>\n",
       "      <td>type error warning collection level error erro...</td>\n",
       "    </tr>\n",
       "    <tr>\n",
       "      <th>7</th>\n",
       "      <td>7</td>\n",
       "      <td>0</td>\n",
       "      <td>warn resurrect connection dead instance but go...</td>\n",
       "    </tr>\n",
       "    <tr>\n",
       "      <th>8</th>\n",
       "      <td>8</td>\n",
       "      <td>0</td>\n",
       "      <td>type error warning collection level error erro...</td>\n",
       "    </tr>\n",
       "    <tr>\n",
       "      <th>9</th>\n",
       "      <td>9</td>\n",
       "      <td>0</td>\n",
       "      <td>type log warning message error living share no...</td>\n",
       "    </tr>\n",
       "    <tr>\n",
       "      <th>10</th>\n",
       "      <td>10</td>\n",
       "      <td>1</td>\n",
       "      <td>type audit arch success yes exit gid suid none...</td>\n",
       "    </tr>\n",
       "    <tr>\n",
       "      <th>11</th>\n",
       "      <td>11</td>\n",
       "      <td>0</td>\n",
       "      <td>type error warning collection level error erro...</td>\n",
       "    </tr>\n",
       "    <tr>\n",
       "      <th>12</th>\n",
       "      <td>12</td>\n",
       "      <td>0</td>\n",
       "      <td>warn resurrect connection dead instance but go...</td>\n",
       "    </tr>\n",
       "    <tr>\n",
       "      <th>13</th>\n",
       "      <td>13</td>\n",
       "      <td>0</td>\n",
       "      <td>type error warning collection level error erro...</td>\n",
       "    </tr>\n",
       "    <tr>\n",
       "      <th>14</th>\n",
       "      <td>14</td>\n",
       "      <td>0</td>\n",
       "      <td>rufus error</td>\n",
       "    </tr>\n",
       "    <tr>\n",
       "      <th>15</th>\n",
       "      <td>15</td>\n",
       "      <td>1</td>\n",
       "      <td>type audit arch success yes exit gid suid none...</td>\n",
       "    </tr>\n",
       "    <tr>\n",
       "      <th>16</th>\n",
       "      <td>16</td>\n",
       "      <td>0</td>\n",
       "      <td>start unable open file file read time</td>\n",
       "    </tr>\n",
       "    <tr>\n",
       "      <th>17</th>\n",
       "      <td>17</td>\n",
       "      <td>0</td>\n",
       "      <td>type error warning collection level error erro...</td>\n",
       "    </tr>\n",
       "    <tr>\n",
       "      <th>18</th>\n",
       "      <td>18</td>\n",
       "      <td>0</td>\n",
       "      <td>type error warning collection level error erro...</td>\n",
       "    </tr>\n",
       "    <tr>\n",
       "      <th>19</th>\n",
       "      <td>19</td>\n",
       "      <td>0</td>\n",
       "      <td>type error warning collection level error erro...</td>\n",
       "    </tr>\n",
       "  </tbody>\n",
       "</table>\n",
       "</div>"
      ],
      "text/plain": [
       "    id  level                                                cut\n",
       "0    0      0  type error warning collection level error erro...\n",
       "1    1      0  action with response code type unavailable exc...\n",
       "2    2      0  type error warning collection level error erro...\n",
       "3    3      0  type error warning collection level error erro...\n",
       "4    4      1  type audit arch success yes exit gid suid none...\n",
       "5    5      1  type audit arch success yes exit gid suid none...\n",
       "6    6      0  type error warning collection level error erro...\n",
       "7    7      0  warn resurrect connection dead instance but go...\n",
       "8    8      0  type error warning collection level error erro...\n",
       "9    9      0  type log warning message error living share no...\n",
       "10  10      1  type audit arch success yes exit gid suid none...\n",
       "11  11      0  type error warning collection level error erro...\n",
       "12  12      0  warn resurrect connection dead instance but go...\n",
       "13  13      0  type error warning collection level error erro...\n",
       "14  14      0                                        rufus error\n",
       "15  15      1  type audit arch success yes exit gid suid none...\n",
       "16  16      0              start unable open file file read time\n",
       "17  17      0  type error warning collection level error erro...\n",
       "18  18      0  type error warning collection level error erro...\n",
       "19  19      0  type error warning collection level error erro..."
      ]
     },
     "execution_count": 41,
     "metadata": {},
     "output_type": "execute_result"
    }
   ],
   "source": [
    "train.head(20)"
   ]
  },
  {
   "cell_type": "code",
   "execution_count": 42,
   "id": "22ef6d27",
   "metadata": {},
   "outputs": [
    {
     "data": {
      "text/html": [
       "<div>\n",
       "<style scoped>\n",
       "    .dataframe tbody tr th:only-of-type {\n",
       "        vertical-align: middle;\n",
       "    }\n",
       "\n",
       "    .dataframe tbody tr th {\n",
       "        vertical-align: top;\n",
       "    }\n",
       "\n",
       "    .dataframe thead th {\n",
       "        text-align: right;\n",
       "    }\n",
       "</style>\n",
       "<table border=\"1\" class=\"dataframe\">\n",
       "  <thead>\n",
       "    <tr style=\"text-align: right;\">\n",
       "      <th></th>\n",
       "      <th>id</th>\n",
       "      <th>level</th>\n",
       "      <th>cut</th>\n",
       "    </tr>\n",
       "  </thead>\n",
       "  <tbody>\n",
       "    <tr>\n",
       "      <th>0</th>\n",
       "      <td>0</td>\n",
       "      <td>0</td>\n",
       "      <td>type error warning collection level error erro...</td>\n",
       "    </tr>\n",
       "    <tr>\n",
       "      <th>1</th>\n",
       "      <td>1</td>\n",
       "      <td>0</td>\n",
       "      <td>action with response code type unavailable exc...</td>\n",
       "    </tr>\n",
       "    <tr>\n",
       "      <th>2</th>\n",
       "      <td>2</td>\n",
       "      <td>0</td>\n",
       "      <td>type error warning collection level error erro...</td>\n",
       "    </tr>\n",
       "    <tr>\n",
       "      <th>3</th>\n",
       "      <td>3</td>\n",
       "      <td>0</td>\n",
       "      <td>type error warning collection level error erro...</td>\n",
       "    </tr>\n",
       "    <tr>\n",
       "      <th>4</th>\n",
       "      <td>4</td>\n",
       "      <td>1</td>\n",
       "      <td>type audit arch success yes exit gid suid none...</td>\n",
       "    </tr>\n",
       "    <tr>\n",
       "      <th>...</th>\n",
       "      <td>...</td>\n",
       "      <td>...</td>\n",
       "      <td>...</td>\n",
       "    </tr>\n",
       "    <tr>\n",
       "      <th>472967</th>\n",
       "      <td>472967</td>\n",
       "      <td>0</td>\n",
       "      <td>error</td>\n",
       "    </tr>\n",
       "    <tr>\n",
       "      <th>472968</th>\n",
       "      <td>472968</td>\n",
       "      <td>1</td>\n",
       "      <td>type audit arch success yes exit gid suid none...</td>\n",
       "    </tr>\n",
       "    <tr>\n",
       "      <th>472969</th>\n",
       "      <td>472969</td>\n",
       "      <td>0</td>\n",
       "      <td>type log error task manager message poll for w...</td>\n",
       "    </tr>\n",
       "    <tr>\n",
       "      <th>472970</th>\n",
       "      <td>472970</td>\n",
       "      <td>0</td>\n",
       "      <td>type error warning collection level error erro...</td>\n",
       "    </tr>\n",
       "    <tr>\n",
       "      <th>472971</th>\n",
       "      <td>472971</td>\n",
       "      <td>0</td>\n",
       "      <td>type error warning collection level error erro...</td>\n",
       "    </tr>\n",
       "  </tbody>\n",
       "</table>\n",
       "<p>472972 rows × 3 columns</p>\n",
       "</div>"
      ],
      "text/plain": [
       "            id  level                                                cut\n",
       "0            0      0  type error warning collection level error erro...\n",
       "1            1      0  action with response code type unavailable exc...\n",
       "2            2      0  type error warning collection level error erro...\n",
       "3            3      0  type error warning collection level error erro...\n",
       "4            4      1  type audit arch success yes exit gid suid none...\n",
       "...        ...    ...                                                ...\n",
       "472967  472967      0                                              error\n",
       "472968  472968      1  type audit arch success yes exit gid suid none...\n",
       "472969  472969      0  type log error task manager message poll for w...\n",
       "472970  472970      0  type error warning collection level error erro...\n",
       "472971  472971      0  type error warning collection level error erro...\n",
       "\n",
       "[472972 rows x 3 columns]"
      ]
     },
     "execution_count": 42,
     "metadata": {},
     "output_type": "execute_result"
    }
   ],
   "source": [
    "from sklearn.feature_extraction.text import CountVectorizer\n",
    "from sklearn.feature_extraction.text import TfidfVectorizer\n",
    "from sklearn.ensemble import RandomForestClassifier\n",
    "\n",
    "#남은 단어가 없는 경우에는 'missing' 으로 대체해주었습니다.\n",
    "train['cut'] = train['cut'].replace('','missing',regex=True)\n",
    "test['cut'] = test['cut'].replace('','missing',regex=True)\n",
    "\n",
    "\n",
    "\n",
    "train = train.fillna(\"missing\")\n",
    "test = test.fillna(\"missing\")\n",
    "\n",
    "train"
   ]
  },
  {
   "cell_type": "code",
   "execution_count": 43,
   "id": "592b48bf",
   "metadata": {},
   "outputs": [],
   "source": [
    "train_text=list(train['cut'])\n",
    "train_level=np.array(train['level'])\n",
    "\n",
    "test_text=list(test['cut'])"
   ]
  },
  {
   "cell_type": "code",
   "execution_count": 44,
   "id": "c8a9794b",
   "metadata": {},
   "outputs": [],
   "source": [
    "vectorizer=CountVectorizer(analyzer=\"word\", max_features=20000)\n",
    "train_features=vectorizer.fit_transform(train_text)\n",
    "test_features=vectorizer.transform(test_text)"
   ]
  },
  {
   "cell_type": "code",
   "execution_count": 45,
   "id": "8aef5e9b",
   "metadata": {},
   "outputs": [
    {
     "data": {
      "text/plain": [
       "RandomForestClassifier(random_state=1)"
      ]
     },
     "execution_count": 45,
     "metadata": {},
     "output_type": "execute_result"
    }
   ],
   "source": [
    "forest=RandomForestClassifier(n_estimators=100,random_state = 1 )\n",
    "forest.fit(train_features,train_level)"
   ]
  },
  {
   "cell_type": "code",
   "execution_count": 46,
   "id": "2de44dec",
   "metadata": {},
   "outputs": [],
   "source": [
    "results=forest.predict(test_features)\n",
    "results_proba=forest.predict_proba(test_features)"
   ]
  },
  {
   "cell_type": "code",
   "execution_count": 47,
   "id": "bb029f4b",
   "metadata": {},
   "outputs": [],
   "source": [
    "#Validation을 통한 threshold 조절\n",
    "results[np.where((np.max(results_proba, axis=1)<0.5) & (results == 0))[0]]=7\n",
    "results[np.where((np.max(results_proba, axis=1)<0.5) & (results == 1))[0]]=7\n",
    "results[np.where((np.max(results_proba, axis=1)<0.58) & (results == 2))[0]]=7\n",
    "results[np.where((np.max(results_proba, axis=1)<0.95) & (results == 3))[0]]=7\n",
    "results[np.where((np.max(results_proba, axis=1)<0.58) & (results == 4))[0]]=7\n",
    "results[np.where((np.max(results_proba, axis=1)<0.58) & (results == 5))[0]]=7\n",
    "results[np.where((np.max(results_proba, axis=1)<0.58) & (results == 6))[0]]=7\n"
   ]
  },
  {
   "cell_type": "code",
   "execution_count": 48,
   "id": "43150276",
   "metadata": {},
   "outputs": [],
   "source": [
    "#Validation을 통한 threshold 조절\n",
    "results[np.where((np.max(results_proba, axis=1)<0.94001) & (np.max(results_proba, axis=1) > 0.93999) & (results == 1))[0]]=7 \n",
    "results[np.where((np.max(results_proba, axis=1)<0.611657) & (np.max(results_proba, axis=1) > 0.6116568) & (results == 0))[0]]=7\n",
    "results[np.where((np.max(results_proba, axis=1)<0.571657) & (np.max(results_proba, axis=1) > 0.5716568) & (results == 0))[0]]=7\n",
    "results[np.where((np.max(results_proba, axis=1)<0.68001) & (np.max(results_proba, axis=1) > 0.67999) & (results == 5))[0]]=7 "
   ]
  },
  {
   "cell_type": "code",
   "execution_count": 49,
   "id": "2bd4b4a2",
   "metadata": {},
   "outputs": [],
   "source": [
    "#결과저장"
   ]
  },
  {
   "cell_type": "code",
   "execution_count": 56,
   "id": "f29e27cf",
   "metadata": {},
   "outputs": [
    {
     "data": {
      "text/plain": [
       "0    1002369\n",
       "1     396443\n",
       "3      12813\n",
       "5       6418\n",
       "7        780\n",
       "2         34\n",
       "4         34\n",
       "6         25\n",
       "Name: level, dtype: int64"
      ]
     },
     "execution_count": 56,
     "metadata": {},
     "output_type": "execute_result"
    }
   ],
   "source": [
    "submission=pd.read_csv('sample_submission2.csv')\n",
    "submission['level']=results\n",
    "submission['level'].value_counts()"
   ]
  },
  {
   "cell_type": "code",
   "execution_count": 57,
   "id": "32d61c3d",
   "metadata": {},
   "outputs": [],
   "source": [
    "submission.to_csv(\"tem_answer.csv\",index = False)"
   ]
  },
  {
   "cell_type": "code",
   "execution_count": 58,
   "id": "991a540e",
   "metadata": {},
   "outputs": [],
   "source": [
    "#추가작업"
   ]
  },
  {
   "cell_type": "code",
   "execution_count": 59,
   "id": "cca254d5",
   "metadata": {},
   "outputs": [],
   "source": [
    "submission['inornot'] = pd.Series(inornot)"
   ]
  },
  {
   "cell_type": "code",
   "execution_count": 60,
   "id": "80e59fa2",
   "metadata": {},
   "outputs": [],
   "source": [
    "cal = submission[(submission['level']==7) & (submission['inornot'] == 0)].index\n",
    "not7_id = list(test.iloc[cal]['id'])\n",
    "pd.Series(not7_id).to_csv(\"not7_id.csv\",index= False)"
   ]
  },
  {
   "cell_type": "code",
   "execution_count": 64,
   "id": "cdc0ef19",
   "metadata": {},
   "outputs": [],
   "source": [
    "train=pd.read_csv('train2.csv')\n",
    "test=pd.read_csv('test2.csv')\n"
   ]
  },
  {
   "cell_type": "code",
   "execution_count": 65,
   "id": "bc9127b4",
   "metadata": {},
   "outputs": [
    {
     "name": "stderr",
     "output_type": "stream",
     "text": [
      "<ipython-input-65-2f9bd1abbc44>:1: FutureWarning: The default value of regex will change from True to False in a future version.\n",
      "  train['full_log']=train['full_log'].str.replace(r'[0-9]', '<num>')\n",
      "<ipython-input-65-2f9bd1abbc44>:2: FutureWarning: The default value of regex will change from True to False in a future version.\n",
      "  test['full_log']=test['full_log'].str.replace(r'[0-9]', '<num>')\n"
     ]
    }
   ],
   "source": [
    "train['full_log']=train['full_log'].str.replace(r'[0-9]', '<num>')\n",
    "test['full_log']=test['full_log'].str.replace(r'[0-9]', '<num>')"
   ]
  },
  {
   "cell_type": "code",
   "execution_count": 66,
   "id": "f32c774d",
   "metadata": {},
   "outputs": [],
   "source": [
    "train = train.fillna(\"missing\")\n",
    "test = test.fillna(\"missing\")"
   ]
  },
  {
   "cell_type": "code",
   "execution_count": 67,
   "id": "43814ee5",
   "metadata": {},
   "outputs": [],
   "source": [
    "train_text=list(train['full_log'])\n",
    "train_level=np.array(train['level'])\n",
    "\n",
    "test_text=list(test['full_log'])\n",
    "#ids=list(test['id'])"
   ]
  },
  {
   "cell_type": "code",
   "execution_count": 68,
   "id": "e185d97b",
   "metadata": {},
   "outputs": [],
   "source": [
    "vectorizer=TfidfVectorizer(analyzer=\"word\", max_features=20000)\n",
    "train_features=vectorizer.fit_transform(train_text)\n",
    "test_features=vectorizer.transform(test_text)"
   ]
  },
  {
   "cell_type": "code",
   "execution_count": 69,
   "id": "8e109eb7",
   "metadata": {},
   "outputs": [
    {
     "data": {
      "text/plain": [
       "RandomForestClassifier(random_state=1)"
      ]
     },
     "execution_count": 69,
     "metadata": {},
     "output_type": "execute_result"
    }
   ],
   "source": [
    "forest=RandomForestClassifier(n_estimators=100,random_state = 1 )\n",
    "forest.fit(train_features,train_level)"
   ]
  },
  {
   "cell_type": "code",
   "execution_count": 70,
   "id": "610637de",
   "metadata": {},
   "outputs": [],
   "source": [
    "results=forest.predict(test_features)\n",
    "results_proba=forest.predict_proba(test_features)"
   ]
  },
  {
   "cell_type": "code",
   "execution_count": 72,
   "id": "48298a7c",
   "metadata": {},
   "outputs": [
    {
     "data": {
      "text/plain": [
       "0    1002770\n",
       "1     396532\n",
       "3      12997\n",
       "5       6524\n",
       "2         34\n",
       "4         34\n",
       "6         25\n",
       "Name: level, dtype: int64"
      ]
     },
     "execution_count": 72,
     "metadata": {},
     "output_type": "execute_result"
    }
   ],
   "source": [
    "submission=pd.read_csv('sample_submission2.csv')\n",
    "submission['level']=results\n",
    "submission['level'].value_counts()"
   ]
  },
  {
   "cell_type": "code",
   "execution_count": 73,
   "id": "00d8e7cb",
   "metadata": {},
   "outputs": [],
   "source": [
    "not7_id = pd.read_csv('not7_id.csv')\n",
    "not7_id = list(not7_id['0'])"
   ]
  },
  {
   "cell_type": "code",
   "execution_count": 74,
   "id": "6c3d61fb",
   "metadata": {},
   "outputs": [
    {
     "name": "stdout",
     "output_type": "stream",
     "text": [
      "780\n",
      "581\n"
     ]
    },
    {
     "data": {
      "text/plain": [
       "0    1002512\n",
       "1     396348\n",
       "3      12915\n",
       "5       6467\n",
       "7        581\n",
       "2         34\n",
       "4         34\n",
       "6         25\n",
       "Name: level, dtype: int64"
      ]
     },
     "execution_count": 74,
     "metadata": {},
     "output_type": "execute_result"
    }
   ],
   "source": [
    "#위에서 잡은 7 합치기 & train에 있는 경우는 사용하지 않기\n",
    "only = pd.read_csv(\"tem_answer.csv\")\n",
    "le7 = list(only[only['level']==7]['id'])\n",
    "le7_update = list((set(le7))-set(not7_id))\n",
    "print(len(le7))\n",
    "print(len(le7_update))\n",
    "idx = submission[submission['id'].isin(le7_update)].index\n",
    "submission.iloc[idx] = 7\n",
    "submission['level'].value_counts()"
   ]
  },
  {
   "cell_type": "code",
   "execution_count": 75,
   "id": "e5ad4c7e",
   "metadata": {},
   "outputs": [
    {
     "data": {
      "text/plain": [
       "0    30752\n",
       "1    12200\n",
       "3      394\n",
       "5      209\n",
       "7       17\n",
       "2        2\n",
       "4        1\n",
       "6        1\n",
       "Name: level, dtype: int64"
      ]
     },
     "execution_count": 75,
     "metadata": {},
     "output_type": "execute_result"
    }
   ],
   "source": [
    "who = submission.level\n",
    "submission=pd.read_csv('sample_submission.csv')\n",
    "submission['level'] = who\n",
    "submission['level'].value_counts()\n"
   ]
  },
  {
   "cell_type": "markdown",
   "id": "98958b27",
   "metadata": {},
   "source": [
    "submission.to_csv(\"581_final_answer.csv\",index = False)"
   ]
  },
  {
   "cell_type": "code",
   "execution_count": null,
   "id": "93147c32",
   "metadata": {},
   "outputs": [],
   "source": []
  }
 ],
 "metadata": {
  "kernelspec": {
   "display_name": "Python 3",
   "language": "python",
   "name": "python3"
  },
  "language_info": {
   "codemirror_mode": {
    "name": "ipython",
    "version": 3
   },
   "file_extension": ".py",
   "mimetype": "text/x-python",
   "name": "python",
   "nbconvert_exporter": "python",
   "pygments_lexer": "ipython3",
   "version": "3.8.8"
  }
 },
 "nbformat": 4,
 "nbformat_minor": 5
}
